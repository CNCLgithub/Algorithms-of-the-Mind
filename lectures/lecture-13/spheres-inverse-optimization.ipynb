{
 "cells": [
  {
   "cell_type": "markdown",
   "id": "617e2da8-0eaa-44a5-abd8-5ea13b0c302b",
   "metadata": {},
   "source": [
    "# Inverse graphics via optimization with differentiable graphics\n",
    "\n",
    "We will start with installing the neccesary packages: mitsuba for differentiable rendering and numpy for numerical processing. \n",
    "\n",
    "We will install `mitsuba` and `numpy` using `Conda.jl`. The following snippet will create a local environment that will allow you to install things on the Apptainer container (and on your own computer). "
   ]
  },
  {
   "cell_type": "code",
   "execution_count": 2,
   "id": "96ab6073-9af4-472b-be29-f30bf3434e41",
   "metadata": {},
   "outputs": [
    {
     "name": "stderr",
     "output_type": "stream",
     "text": [
      "\u001b[32m\u001b[1m  Activating\u001b[22m\u001b[39m project at `~/Algorithms-of-the-Mind/lectures/lecture-13/psyc261`\n",
      "\u001b[32m\u001b[1m   Resolving\u001b[22m\u001b[39m package versions...\n",
      "\u001b[32m\u001b[1m  No Changes\u001b[22m\u001b[39m to `~/Algorithms-of-the-Mind/lectures/lecture-13/psyc261/Project.toml`\n",
      "\u001b[32m\u001b[1m  No Changes\u001b[22m\u001b[39m to `~/Algorithms-of-the-Mind/lectures/lecture-13/psyc261/Manifest.toml`\n",
      "\u001b[36m\u001b[1m[ \u001b[22m\u001b[39m\u001b[36m\u001b[1mInfo: \u001b[22m\u001b[39mRunning `conda install -y numpy` in root environment\n"
     ]
    },
    {
     "name": "stdout",
     "output_type": "stream",
     "text": [
      "Channels:\n",
      " - conda-forge\n",
      "Platform: linux-64\n",
      "Collecting package metadata (repodata.json): ...working... done\n",
      "Solving environment: ...working... done\n",
      "\n",
      "# All requested packages already installed.\n",
      "\n"
     ]
    },
    {
     "name": "stderr",
     "output_type": "stream",
     "text": [
      "\n",
      "\n",
      "==> WARNING: A newer version of conda exists. <==\n",
      "    current version: 25.7.0\n",
      "    latest version: 25.9.0\n",
      "\n",
      "Please update conda by running\n",
      "\n",
      "    $ conda update -n base -c conda-forge conda\n",
      "\n",
      "\n"
     ]
    }
   ],
   "source": [
    "using Pkg\n",
    "Pkg.activate(\"psyc261\")\n",
    "Pkg.add(\"Conda\")\n",
    "using Conda\n",
    "Conda.add(\"numpy\")"
   ]
  },
  {
   "cell_type": "code",
   "execution_count": 3,
   "id": "5c3b25c7-c5c9-43b7-8c52-0651bb963714",
   "metadata": {},
   "outputs": [
    {
     "name": "stdout",
     "output_type": "stream",
     "text": [
      "Defaulting to user installation because normal site-packages is not writeable\n",
      "Requirement already satisfied: mitsuba in /home/psyc2610_iy42/.local/lib/python3.11/site-packages (3.7.1)\n",
      "Requirement already satisfied: drjit==1.2.0 in /home/psyc2610_iy42/.local/lib/python3.11/site-packages (from mitsuba) (1.2.0)\n"
     ]
    },
    {
     "data": {
      "text/plain": [
       "Process(`\u001b[4mpip\u001b[24m \u001b[4minstall\u001b[24m \u001b[4mmitsuba\u001b[24m`, ProcessExited(0))"
      ]
     },
     "execution_count": 3,
     "metadata": {},
     "output_type": "execute_result"
    }
   ],
   "source": [
    "# need this for installing mitsuba...\n",
    "\n",
    "run(`conda config --set pip_interop_enabled true`)\n",
    "run(`pip install mitsuba`)"
   ]
  },
  {
   "cell_type": "code",
   "execution_count": 4,
   "id": "554301fc-9839-450c-8f64-1b9724e65881",
   "metadata": {},
   "outputs": [
    {
     "name": "stderr",
     "output_type": "stream",
     "text": [
      "\u001b[32m\u001b[1m   Resolving\u001b[22m\u001b[39m package versions...\n",
      "\u001b[32m\u001b[1m  No Changes\u001b[22m\u001b[39m to `~/Algorithms-of-the-Mind/lectures/lecture-13/psyc261/Project.toml`\n",
      "\u001b[32m\u001b[1m  No Changes\u001b[22m\u001b[39m to `~/Algorithms-of-the-Mind/lectures/lecture-13/psyc261/Manifest.toml`\n"
     ]
    }
   ],
   "source": [
    "Pkg.add([\"Distributions\", \"ProgressMeter\", \"Gen\", \"Plots\", \"Parameters\", \"PyCall\"])"
   ]
  },
  {
   "cell_type": "code",
   "execution_count": 5,
   "id": "60d76e3d-993b-42e8-baa3-2567f78889a2",
   "metadata": {
    "scrolled": true
   },
   "outputs": [],
   "source": [
    "using Pkg\n",
    "using Distributions\n",
    "using ProgressMeter\n",
    "using Gen, Plots\n",
    "using Parameters\n",
    "using PyCall\n",
    "np = pyimport(\"numpy\")\n",
    ";"
   ]
  },
  {
   "cell_type": "markdown",
   "id": "24118f41-6ef3-49f6-9a55-b09f096524e0",
   "metadata": {},
   "source": [
    "# Part 0: The task\n",
    "\n",
    "The task in this lab is to an optimization routine for inverse graphics via a differentiable generative process."
   ]
  },
  {
   "cell_type": "markdown",
   "id": "19ea281e-790c-4204-8386-a4780f76e566",
   "metadata": {},
   "source": [
    "# Part 1: Compute graphics & `mitsuba`\n",
    "## Mini introduction to computer graphics\n",
    "\n",
    "Computer graphics are concerned with algorithmically tractable methods for representing 3D scenes (static or dynamic) and syntesizing realistic (or non-realistic) imagery based off of these scenes. Rendering is the process of synthesizing an image from a 3D (or a 2D) scene via a computer program. We will refer to such computer programs as *rendering engines*.\n",
    "\n",
    "<img src=\"./images/render.png\" alt=\"\" width=\"400\"/>\n",
    "\n",
    "In a rendering engine, a 3D scene is defined by 4 basic ingredients:\n",
    "\n",
    "1. Objects (e.g., 3D shapes and surfaces)\n",
    "2. Optical material properties (how the surface of an object is supposed to reflect light; e.g., glass-like, diffuse, opaque, transparent, shiny, etc.)\n",
    "3. Lights\n",
    "4. Sensors or camera\n",
    "\n",
    "This course is obviously not about developing rendering engines -- [see the relevant courses](https://courses.yale.edu/?keyword=computer%20graphics) offered by the Department of Computer Science and numerous resources online. Instead, we will use existing rendering engines, embedding them within probabilistic models.\n",
    "\n",
    "To create a 3D scene and generate an image, you need to provide the rendering engine (`mitsuba` in our case) with each of the four ingredients described earlier (objects, optical material properties, lights, and sensors/cameras).\n",
    "\n",
    "## Mini introduction to Mitsuba3\n",
    "\n",
    "The field of computer graphics has developed many algorithms for realistic image synthesis. At the highest level, rendering engines can be categorized into:\n",
    "1. real-time renderers (rasterization renderers, etc.), or\n",
    "2. physically-based renderers (ray-traced renderers, etc.).\n",
    "\n",
    "`mitsuba` is a **physically-based renderer**. This means that it sends \"rays\" from the camera out into the scene and tracks where and how they intersect light sources. These rays are then integrated to figure out what color to paint on each pixel in an image. (Here's an informative [tutorial on ray tracing](https://youtu.be/gsZiJeaMO48). _This is not relevant material for PSYC 261._)\n",
    "\n",
    "<img src=\"./images/raytracing.png\" alt=\"\" width=\"400\"/>\n",
    "\n",
    "Like other rendering engines, we need to input a scene to `mitsuba` (lights, optical materials, objects, sensory). This can be done using XML or a Python dictionary. We provide examples of both below. \n",
    "\n",
    "In this course, we chose to work with mitsuba3 because it is open source software, and has some exciting attributes (many of which we will not get into in this lab), notably, differentiable rendering capabilities. Additionally, in ongoing research in Ilker's lab, `mitsuba` has proven to be dependable for its numerical stability and customizability for probabilistic inference. \n",
    "\n",
    "Please see the [tutorials](https://www.youtube.com/watch?v=9Ja9buZx0Cs&list=PLI9y-85z_Po6da-pyTNGTns2n4fhpbLe5) and [documentation](https://mitsuba.readthedocs.io/en/stable/) on Mitsuba3's [official website](https://www.mitsuba-renderer.org/) for more. \n",
    "\n",
    "**Notice that `mitsuba` is a Python package**; to use it we rely on the `PyCall` package of Julia, which provides a native interface to python code. You can familiarize yourself with PyCall [here](https://github.com/JuliaPy/PyCall.jl#usage)."
   ]
  },
  {
   "cell_type": "markdown",
   "id": "3892fca1-5563-488d-a192-a1aae333d59f",
   "metadata": {},
   "source": [
    "# Part 2: Using `mitsuba`\n",
    "\n",
    "## Getting started with `mitsuba`\n",
    "\n",
    "In this tutorial, we will learn about how to load a scene and render it. Mitsuba3 gives a lot of fun flexibility, especially in terms of rendering. \n",
    "\n",
    "Before we start, let's execute our very first command with mitsuba3."
   ]
  },
  {
   "cell_type": "code",
   "execution_count": 6,
   "id": "07d15c1c-f4c3-405f-9d57-e11f8be50056",
   "metadata": {},
   "outputs": [],
   "source": [
    "# import mitsuba and drjit (mitsuba's differentiation engine) using pycall\n",
    "dr = pyimport(\"drjit\")\n",
    "mi = pyimport(\"mitsuba\")\n",
    "\n",
    "# different rendering modes of mitsuba \n",
    "mi.variants()\n",
    "# we set llvm_ad_rgb which enables autodiff (ad)\n",
    "mi.set_variant(\"llvm_ad_rgb\")"
   ]
  },
  {
   "cell_type": "markdown",
   "id": "00a5ba72-7c31-40b4-92f8-56da50c8f481",
   "metadata": {},
   "source": [
    "Now the output of this function `mi.variants()` tells us that mitsuba3 can render a scene in 4 different modes. We will be using `llvm_ad_rgb` to access to gradients of rendering. "
   ]
  },
  {
   "cell_type": "markdown",
   "id": "b54ade4d-f615-4fd4-9dae-382e80e6d8b9",
   "metadata": {},
   "source": [
    "### Loading and rendering a scene (objects, lights, materials, sensors) in `mitsuba`\n",
    "\n",
    "Then, we will load a scene with two spheres in a room with differently colored walls. We will then render it.\n",
    "\n",
    "The scene description will be loaded from an xml file. Run this code and review its output to appreciate how it defines each of the four kinds of elements we are talking about: shapes, lights, optical materials (jargon name: BSDFs), and sensors.\n",
    "\n",
    "`OBJMesh` are the walls, `Sphere` is a shape; things like `SmoothDiffuse` are optical material properties; `emitter`s are lights; and `PerspectiveCamera` is the sensor. Notice how each entry has certain properties: For example an object needs to define where it is in the world (`to_world`) and its optical material property.\n",
    "\n",
    "You can also review the xml file itself, `cbox-generic.xml`, to further appreciate what goes into a scene."
   ]
  },
  {
   "cell_type": "code",
   "execution_count": 7,
   "id": "d4ebac51-6a81-42ad-9e3f-7445a3c07008",
   "metadata": {
    "scrolled": true
   },
   "outputs": [
    {
     "data": {
      "text/plain": [
       "PyObject Scene[\n",
       "  children = [\n",
       "    PRBIntegrator[max_depth = 6, rr_depth = 5],\n",
       "    PerspectiveCamera[\n",
       "      x_fov = [39.3077],\n",
       "      near_clip = 0.001,\n",
       "      far_clip = 100,\n",
       "      film = HDRFilm[\n",
       "        size = [64, 64],\n",
       "        crop_size = [64, 64],\n",
       "        crop_offset = [0, 0],\n",
       "        sample_border = 0,\n",
       "        compensate = 0,\n",
       "        filter = TentFilter[radius=1.000000],\n",
       "        file_format = OpenEXR,\n",
       "        pixel_format = rgb,\n",
       "        component_format = float32,\n",
       "      ],\n",
       "      sampler = IndependentSampler[\n",
       "        base_seed = 0\n",
       "        sample_count = 16\n",
       "        samples_per_wavefront = 1\n",
       "        wavefront_size = 0\n",
       "      ],\n",
       "      resolution = [64, 64],\n",
       "      shutter_open = 0,\n",
       "      shutter_open_time = 0,\n",
       "      to_world = [[-1, 0, 0, 0],\n",
       "                  [0, 1, 0, 0],\n",
       "                  [0, 0, -1, 4],\n",
       "                  [0, 0, 0, 1]]\n",
       "    ],\n",
       "    SmoothDiffuse[\n",
       "      reflectance = SRGBReflectanceSpectrum[\n",
       "        value = [[0.85, 0.85, 0.85]]\n",
       "      ]\n",
       "    ],\n",
       "    SmoothDiffuse[\n",
       "      reflectance = SRGBReflectanceSpectrum[\n",
       "        value = [[0.885809, 0.698859, 0.666422]]\n",
       "      ]\n",
       "    ],\n",
       "    SmoothDiffuse[\n",
       "      reflectance = SRGBReflectanceSpectrum[\n",
       "        value = [[0.105421, 0.37798, 0.076425]]\n",
       "      ]\n",
       "    ],\n",
       "    SmoothDiffuse[\n",
       "      reflectance = SRGBReflectanceSpectrum[\n",
       "        value = [[0.570068, 0.0430135, 0.0443706]]\n",
       "      ]\n",
       "    ],\n",
       "    TwoSided[\n",
       "      brdf[0] = SmoothDiffuse[\n",
       "        reflectance = SRGBReflectanceSpectrum[\n",
       "          value = [[0.725, 0.71, 0.68]]\n",
       "        ]\n",
       "      ],\n",
       "      brdf[1] = SmoothDiffuse[\n",
       "        reflectance = SRGBReflectanceSpectrum[\n",
       "          value = [[0.725, 0.71, 0.68]]\n",
       "        ]\n",
       "      ]\n",
       "    ],\n",
       "    TwoSided[\n",
       "      brdf[0] = SmoothDiffuse[\n",
       "        reflectance = SRGBReflectanceSpectrum[\n",
       "          value = [[0.725, 0.71, 0.68]]\n",
       "        ]\n",
       "      ],\n",
       "      brdf[1] = SmoothDiffuse[\n",
       "        reflectance = SRGBReflectanceSpectrum[\n",
       "          value = [[0.725, 0.71, 0.68]]\n",
       "        ]\n",
       "      ]\n",
       "    ],\n",
       "    Sphere[\n",
       "      to_world = [[0.5, 0, 0, -0.3],\n",
       "                  [0, 0.5, 0, -0.5],\n",
       "                  [0, 0, 0.5, 0.2],\n",
       "                  [0, 0, 0, 1]],\n",
       "      center = [-0.3, -0.5, 0.2],\n",
       "      radius = 0.5,\n",
       "      surface_area = [3.14159],\n",
       "      bsdf = TwoSided[\n",
       "        brdf[0] = SmoothDiffuse[\n",
       "          reflectance = SRGBReflectanceSpectrum[\n",
       "            value = [[0.725, 0.71, 0.68]]\n",
       "          ]\n",
       "        ],\n",
       "        brdf[1] = SmoothDiffuse[\n",
       "          reflectance = SRGBReflectanceSpectrum[\n",
       "            value = [[0.725, 0.71, 0.68]]\n",
       "          ]\n",
       "        ]\n",
       "      ]\n",
       "    ],\n",
       "    Sphere[\n",
       "      to_world = [[0.5, 0, 0, 0.5],\n",
       "                  [0, 0.5, 0, -0.75],\n",
       "                  [0, 0, 0.5, -0.2],\n",
       "                  [0, 0, 0, 1]],\n",
       "      center = [0.5, -0.75, -0.2],\n",
       "      radius = 0.5,\n",
       "      surface_area = [3.14159],\n",
       "      bsdf = TwoSided[\n",
       "        brdf[0] = SmoothDiffuse[\n",
       "          reflectance = SRGBReflectanceSpectrum[\n",
       "            value = [[0.725, 0.71, 0.68]]\n",
       "          ]\n",
       "        ],\n",
       "        brdf[1] = SmoothDiffuse[\n",
       "          reflectance = SRGBReflectanceSpectrum[\n",
       "            value = [[0.725, 0.71, 0.68]]\n",
       "          ]\n",
       "        ]\n",
       "      ]\n",
       "    ],\n",
       "    OBJMesh[\n",
       "      name = \"cbox_greenwall.obj\",\n",
       "      bbox = BoundingBox3f[\n",
       "        min = [-1, -1, -1],\n",
       "        max = [-1, 1, 1]\n",
       "      ],\n",
       "      vertex_count = 4,\n",
       "      vertices = [96 B of vertex data],\n",
       "      face_count = 2,\n",
       "      faces = [24 B of face data],\n",
       "      face_normals = 0\n",
       "    ],\n",
       "    Mesh[\n",
       "      name = \"cbox_floor.obj + cbox_ceiling.obj + cbox_back.obj\",\n",
       "      bbox = BoundingBox3f[\n",
       "        min = [-1, -1, -1],\n",
       "        max = [1, 1, 1]\n",
       "      ],\n",
       "      vertex_count = 12,\n",
       "      vertices = [288 B of vertex data],\n",
       "      face_count = 6,\n",
       "      faces = [72 B of face data],\n",
       "      face_normals = 0\n",
       "    ],\n",
       "    OBJMesh[\n",
       "      name = \"cbox_redwall.obj\",\n",
       "      bbox = BoundingBox3f[\n",
       "        min = [1, -1, -1],\n",
       "        max = [1, 1, 1]\n",
       "      ],\n",
       "      vertex_count = 4,\n",
       "      vertices = [96 B of vertex data],\n",
       "      face_count = 2,\n",
       "      faces = [24 B of face data],\n",
       "      face_normals = 0\n",
       "    ],\n",
       "    OBJMesh[\n",
       "      name = \"cbox_luminaire.obj\",\n",
       "      bbox = BoundingBox3f[\n",
       "        min = [-0.25, 0.99, -0.25],\n",
       "        max = [0.25, 0.99, 0.25]\n",
       "      ],\n",
       "      vertex_count = 4,\n",
       "      vertices = [96 B of vertex data],\n",
       "      face_count = 2,\n",
       "      faces = [24 B of face data],\n",
       "      surface_area = [0.25],\n",
       "      face_normals = 0\n",
       "    ]\n",
       "  ]\n",
       "]"
      ]
     },
     "execution_count": 7,
     "metadata": {},
     "output_type": "execute_result"
    }
   ],
   "source": [
    "scene = @pycall mi.load_file(\"./cbox_generic.xml\", res=64, integrator=\"prb\")::PyObject"
   ]
  },
  {
   "cell_type": "markdown",
   "id": "ffbd0a3b-e8aa-48a5-b4d7-1d67f68c0194",
   "metadata": {},
   "source": [
    "Below, we have four helper functions, implemented as Python code, to manipulate some aspects of a mitsuba data structure, called `params`. This data structure is dictionary-like, but PyCall's translator does not handle it well, so we'll keep the manipulation of `params` within Python. \n",
    "\n",
    "The function `update_scene` updates something in the scene (e.g., where an object is, or how big it is, etc.). This is done first updating the scene `params` and then calling `params.update()` to propagate those changes back into the scene itself.\n",
    "\n",
    "The function `update_scene_opt` updates the `params` and the scene based on the parameters that are being optimized. These parameters are stored in another dictionary called `opt`.\n",
    "\n",
    "The function `opt_clip` simply clips the values of the parameters in the `opt` to their allowed ranges.\n",
    "\n",
    "And finally the function `add_to_opt` adds a new parameter to the set of parameters to be optimized."
   ]
  },
  {
   "cell_type": "code",
   "execution_count": 8,
   "id": "e5d303e8-65b9-4d88-b568-333456c1c774",
   "metadata": {},
   "outputs": [],
   "source": [
    "py\"\"\"\n",
    "import mitsuba as mi\n",
    "import drjit as dr\n",
    "\n",
    "def update_scene(scene, key, val):\n",
    "    params = mi.traverse(scene)\n",
    "    params[key] = val\n",
    "    params.update()\n",
    "\n",
    "def update_scene_opt(params, key, opt, key2):\n",
    "    params[key] = mi.Transform4f().translate(mi.Vector3f(0.5, -0.75, -0.2)).scale(mi.Vector3f([opt[key2], opt[key2], opt[key2]]))\n",
    "    params.update()\n",
    "\n",
    "def opt_clip(opt, key):\n",
    "    opt[key] = dr.clip(opt[key], 0.01, 1.0)\n",
    "\n",
    "\n",
    "def add_to_opt(opt, val, key):\n",
    "    opt[key] = val\n",
    "\n",
    "\"\"\""
   ]
  },
  {
   "cell_type": "markdown",
   "id": "f37acfca-e26d-4139-b85e-bf8bd7d8cbc3",
   "metadata": {},
   "source": [
    "Recall that we mentioned `mitsuba` is a physically-based renderer that estimates the color of each pixel using ray tracing. Ray-tracing is a computationally costly operation and `mitsuba` allows you to make a tradeoff that suits your goals. \n",
    "\n",
    "The parameter `spp`, which stands for samples per pixel and is input to the `mi.render` function below, is essentially the number of rays cast to compute the color per pixel. The choice of spp reflects a tradeoff: The greater the `spp`, the higher the quality and realism of our render is, with the expense of higher computational cost. You can reduce `spp` to obtain lower quality renders, which is often acceptable, especially for characterizing an approximate process of rendering that may be implemented in the mind and brain. (Regardless, this will be handy when we are doing probabilistic inference later on.) "
   ]
  },
  {
   "cell_type": "code",
   "execution_count": 9,
   "id": "48486f93-c71e-49d0-9df5-d17d08d07efd",
   "metadata": {},
   "outputs": [
    {
     "data": {
      "text/html": [
       "<img src=\"data:image/jpeg;base64, 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\">"
      ],
      "text/plain": [
       "PyObject Bitmap[\n",
       "  pixel_format = rgb,\n",
       "  component_format = float32,\n",
       "  size = [64, 64],\n",
       "  srgb_gamma = 1,\n",
       "  struct = Struct<12>[\n",
       "    float32 R; // @0, gamma, premultiplied alpha\n",
       "    float32 G; // @4, gamma, premultiplied alpha\n",
       "    float32 B; // @8, gamma, premultiplied alpha\n",
       "  ],\n",
       "  data = [ 48 KiB of image data ]\n",
       "]"
      ]
     },
     "execution_count": 9,
     "metadata": {},
     "output_type": "execute_result"
    }
   ],
   "source": [
    "# set spp to 12 -- play with different values\n",
    "spp = 128\n",
    "\n",
    "# render the scene\n",
    "image_ref = @pycall mi.render(scene, spp=spp)::PyObject\n",
    "# get the bitmap, which Jupyter notebook displays inline!\n",
    "bitmap_ref = @pycall mi.Bitmap(image_ref).convert(srgb_gamma=true)::PyObject"
   ]
  },
  {
   "cell_type": "markdown",
   "id": "94fc0eb3-d5a6-4acd-b9d0-54e60cc7131f",
   "metadata": {},
   "source": [
    "Wow! How cool is that?! You just rendered a nice scene with umm spheres in it. Yay for you! "
   ]
  },
  {
   "cell_type": "markdown",
   "id": "a7999828-d966-42d9-bc2e-a14099f33cd2",
   "metadata": {},
   "source": [
    "### Transformations of scene elements using `mitsuba`\n",
    "\n",
    "Now a critical component of computer graphics is to manipulate the scene -- including adding, deleting, changing, moving (translating) and scaling the things in a scene. Here we will learn how we can translate and scale one of the cuboids in the scene. \n",
    "\n",
    "We will transform the sphere on the right -- `right-object` -- using by updating the scene parameters stored in `params`. (Notice that this is less painful than the lab 5 approach.)"
   ]
  },
  {
   "cell_type": "code",
   "execution_count": 10,
   "id": "81563dd2-7ca1-4c6d-bc89-a12a1084e78f",
   "metadata": {},
   "outputs": [],
   "source": [
    "key = \"right-object.to_world\"\n",
    "# create a new transformation\n",
    "translation = [0.5, -0.75, 0.7]\n",
    "scale = 0.1 \n",
    "transform = mi.Transform4f.translate(translation).scale(scale)\n",
    "py\"update_scene\"(scene, key, transform)"
   ]
  },
  {
   "cell_type": "markdown",
   "id": "5428afd4-5eca-45de-a1c4-a8a57a626bdd",
   "metadata": {},
   "source": [
    "We kept its original translation \n",
    "\n",
    "Translation: `[0.5, -0.75, -0.2]`\n",
    "\n",
    "but changed its scale from .5 to .1."
   ]
  },
  {
   "cell_type": "markdown",
   "id": "68b3e13a-ec1c-46f8-94ed-98cff80ee0c1",
   "metadata": {},
   "source": [
    "Now let's reload this updated dictionary into our scene and render it."
   ]
  },
  {
   "cell_type": "code",
   "execution_count": 11,
   "id": "810826f7-188e-4dcb-8cbf-2f2f296d2f44",
   "metadata": {
    "scrolled": true
   },
   "outputs": [
    {
     "data": {
      "text/html": [
       "<img src=\"data:image/jpeg;base64, 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\">"
      ],
      "text/plain": [
       "PyObject Bitmap[\n",
       "  pixel_format = rgb,\n",
       "  component_format = uint8,\n",
       "  size = [64, 64],\n",
       "  srgb_gamma = 1,\n",
       "  struct = Struct<3>[\n",
       "    uint8 R; // @0, normalized, gamma, premultiplied alpha\n",
       "    uint8 G; // @1, normalized, gamma, premultiplied alpha\n",
       "    uint8 B; // @2, normalized, gamma, premultiplied alpha\n",
       "  ],\n",
       "  data = [ 12 KiB of image data ]\n",
       "]"
      ]
     },
     "execution_count": 11,
     "metadata": {},
     "output_type": "execute_result"
    }
   ],
   "source": [
    "image = @pycall mi.render(scene, spp=spp)::PyObject\n",
    "# get the bitmap, which Jupyter notebook displays inline!\n",
    "bitmap = @pycall mi.util.convert_to_bitmap(image)::PyObject"
   ]
  },
  {
   "cell_type": "markdown",
   "id": "e3854443-b948-4814-96b1-d9b588436052",
   "metadata": {},
   "source": [
    "Notice how the right object became smaller than it was before and came closer to the sensor."
   ]
  },
  {
   "cell_type": "markdown",
   "id": "d6ef6624-39d2-44f5-bf07-bf75ca67643b",
   "metadata": {},
   "source": [
    "Okay now let's do some *inverse* graphics."
   ]
  },
  {
   "cell_type": "markdown",
   "id": "170af268-4b85-4ead-9578-f91355704c2e",
   "metadata": {},
   "source": [
    "# Part 3: Inverse graphics & modeling\n",
    "\n",
    "## Inverse graphics"
   ]
  },
  {
   "cell_type": "markdown",
   "id": "1396d743-b53c-435f-826b-7b7f66fb5222",
   "metadata": {},
   "source": [
    "We start by writing a Julia struct to hold the state of the scene -- including the scene and the `spp`."
   ]
  },
  {
   "cell_type": "code",
   "execution_count": 12,
   "id": "25fb0aa4-2416-4461-8e62-5c3ebe92a3cd",
   "metadata": {},
   "outputs": [],
   "source": [
    "# the with_kw macro comes from the Parameters package \n",
    "# and is a handy macro for having default values to certain entries in a Julia struct.\n",
    "@with_kw struct ModelParams\n",
    "    scene = @pycall mi.load_file(\"./cbox_generic.xml\", res=64, integrator=\"prb\")::PyObject\n",
    "    spp::Int32 = 16\n",
    "end;"
   ]
  },
  {
   "cell_type": "markdown",
   "id": "54a549fa-082b-4bf8-ac90-ce7a8a22a385",
   "metadata": {},
   "source": [
    "We will also define a helper function for rendering a bitmap image (that can be visualized within jupyter notebooks)"
   ]
  },
  {
   "cell_type": "code",
   "execution_count": 13,
   "id": "3e9ecf4e-40b8-4280-a9e0-fc0878aaf3a5",
   "metadata": {},
   "outputs": [],
   "source": [
    "function render_bitmap(modelparams)\n",
    "    image = @pycall mi.render(modelparams.scene, spp=modelparams.spp)::PyObject\n",
    "    bitmap = @pycall mi.util.convert_to_bitmap(image)::PyObject\n",
    "    return bitmap\n",
    "end\n",
    ";"
   ]
  },
  {
   "cell_type": "markdown",
   "id": "d072ba00-8d7b-43a0-9819-0918855d3fc1",
   "metadata": {},
   "source": [
    "### Optimization routine\n",
    "\n",
    "The following code implements an optimization routine for the scale of the right object, by defining a latent variable `s` and optimizing it in the loop.\n",
    "\n",
    "The call `dr.backward(loss)` evaluates and backpropagates all the relevant gradients we discussed, \n",
    "\n",
    "- the gradient of the likelihood wrt the synthesized image\n",
    "- the gradient of the synthesized image wrt latents\n",
    "\n",
    "Thus, we have a gradient descent routine for optimizing the latent scale parameter of the right object. \n",
    "\n",
    "Notice that we're optimizing under a rougher, noisier spp parameter of 16. Try making it 128 and notice how much it slows down."
   ]
  },
  {
   "cell_type": "code",
   "execution_count": 14,
   "id": "190bf575-35e8-410c-ae47-18380f57dab6",
   "metadata": {},
   "outputs": [
    {
     "name": "stderr",
     "output_type": "stream",
     "text": [
      "\u001b[32mProgress: 100%|█████████████████████████████████████████| Time: 0:00:21\u001b[39m\n"
     ]
    }
   ],
   "source": [
    "modelparams = ModelParams()\n",
    "params = mi.traverse(modelparams.scene)\n",
    "key = \"right-object.to_world\"\n",
    "\n",
    "opt = mi.ad.Adam(lr=0.01)\n",
    "#t = mi.Vector3f(0, 0, 0)\n",
    "#py\"add_to_opt\"(opt, t, \"translation\")\n",
    "s = mi.Float64(.3)\n",
    "\n",
    "py\"add_to_opt\"(opt, s, \"scale\")\n",
    "py\"update_scene_opt\"(params, key, opt, \"scale\")\n",
    "\n",
    "K = 100\n",
    "    \n",
    "scores = Vector{Float64}(undef, K)\n",
    "@showprogress for i in 1:K\n",
    "\n",
    "    image = mi.render(modelparams.scene, params, spp=16)\n",
    "\n",
    "    loss = dr.mean(dr.square(image - image_ref))\n",
    "    \n",
    "    dr.backward(loss)\n",
    "\n",
    "    opt.step() \n",
    "    py\"opt_clip\"(opt, \"scale\")\n",
    "    \n",
    "    py\"update_scene_opt\"(params, key, opt, \"scale\")\n",
    "    \n",
    "    scores[i] = convert(Float64, dr.slice(loss).item())\n",
    "end;\n"
   ]
  },
  {
   "cell_type": "markdown",
   "id": "072a472f-94dd-4567-a47f-04d123fe55ad",
   "metadata": {},
   "source": [
    "Now, how do I know if my optimization routine worked? \n",
    "\n",
    "Let's first visualize to see if our scores improved over iterations (x-axis: iterations; y-axis: loss)."
   ]
  },
  {
   "cell_type": "code",
   "execution_count": 15,
   "id": "8b5dd7af-0575-49c9-92a7-d8f28281890f",
   "metadata": {
    "scrolled": true
   },
   "outputs": [
    {
     "data": {
      "image/png": "[encoded data removed]",
      "image/svg+xml": [
       "<?xml version=\"1.0\" encoding=\"utf-8\"?>\n",
       "<svg xmlns=\"http://www.w3.org/2000/svg\" xmlns:xlink=\"http://www.w3.org/1999/xlink\" width=\"1000\" height=\"200\" viewBox=\"0 0 4000 800\">\n",
       "<defs>\n",
       "  <clipPath id=\"clip360\">\n",
       "    <rect x=\"0\" y=\"0\" width=\"4000\" height=\"800\"/>\n",
       "  </clipPath>\n",
       "</defs>\n",
       "<path clip-path=\"url(#clip360)\" d=\"M0 800 L4000 800 L4000 0 L0 0  Z\" fill=\"#ffffff\" fill-rule=\"evenodd\" fill-opacity=\"1\"/>\n",
       "<defs>\n",
       "  <clipPath id=\"clip361\">\n",
       "    <rect x=\"800\" y=\"0\" width=\"2801\" height=\"800\"/>\n",
       "  </clipPath>\n",
       "</defs>\n",
       "<path clip-path=\"url(#clip360)\" d=\"M292.76 718.64 L3952.76 718.64 L3952.76 47.2441 L292.76 47.2441  Z\" fill=\"#ffffff\" fill-rule=\"evenodd\" fill-opacity=\"1\"/>\n",
       "<defs>\n",
       "  <clipPath id=\"clip362\">\n",
       "    <rect x=\"292\" y=\"47\" width=\"3661\" height=\"672\"/>\n",
       "  </clipPath>\n",
       "</defs>\n",
       "<polyline clip-path=\"url(#clip362)\" style=\"stroke:#000000; stroke-linecap:round; stroke-linejoin:round; stroke-width:2; stroke-opacity:0.1; fill:none\" points=\"361.467,718.64 361.467,47.2441 \"/>\n",
       "<polyline clip-path=\"url(#clip362)\" style=\"stroke:#000000; stroke-linecap:round; stroke-linejoin:round; stroke-width:2; stroke-opacity:0.1; fill:none\" points=\"1233.39,718.64 1233.39,47.2441 \"/>\n",
       "<polyline clip-path=\"url(#clip362)\" style=\"stroke:#000000; stroke-linecap:round; stroke-linejoin:round; stroke-width:2; stroke-opacity:0.1; fill:none\" points=\"2105.32,718.64 2105.32,47.2441 \"/>\n",
       "<polyline clip-path=\"url(#clip362)\" style=\"stroke:#000000; stroke-linecap:round; stroke-linejoin:round; stroke-width:2; stroke-opacity:0.1; fill:none\" points=\"2977.25,718.64 2977.25,47.2441 \"/>\n",
       "<polyline clip-path=\"url(#clip362)\" style=\"stroke:#000000; stroke-linecap:round; stroke-linejoin:round; stroke-width:2; stroke-opacity:0.1; fill:none\" points=\"3849.17,718.64 3849.17,47.2441 \"/>\n",
       "<polyline clip-path=\"url(#clip360)\" style=\"stroke:#000000; stroke-linecap:round; stroke-linejoin:round; stroke-width:4; stroke-opacity:1; fill:none\" points=\"292.76,718.64 3952.76,718.64 \"/>\n",
       "<polyline clip-path=\"url(#clip360)\" style=\"stroke:#000000; stroke-linecap:round; stroke-linejoin:round; stroke-width:4; stroke-opacity:1; fill:none\" points=\"361.467,718.64 361.467,699.742 \"/>\n",
       "<polyline clip-path=\"url(#clip360)\" style=\"stroke:#000000; stroke-linecap:round; stroke-linejoin:round; stroke-width:4; stroke-opacity:1; fill:none\" points=\"1233.39,718.64 1233.39,699.742 \"/>\n",
       "<polyline clip-path=\"url(#clip360)\" style=\"stroke:#000000; stroke-linecap:round; stroke-linejoin:round; stroke-width:4; stroke-opacity:1; fill:none\" points=\"2105.32,718.64 2105.32,699.742 \"/>\n",
       "<polyline clip-path=\"url(#clip360)\" style=\"stroke:#000000; stroke-linecap:round; stroke-linejoin:round; stroke-width:4; stroke-opacity:1; fill:none\" points=\"2977.25,718.64 2977.25,699.742 \"/>\n",
       "<polyline clip-path=\"url(#clip360)\" style=\"stroke:#000000; stroke-linecap:round; stroke-linejoin:round; stroke-width:4; stroke-opacity:1; fill:none\" points=\"3849.17,718.64 3849.17,699.742 \"/>\n",
       "<path clip-path=\"url(#clip360)\" d=\"M361.467 762.359 Q357.856 762.359 356.028 765.923 Q354.222 769.465 354.222 776.595 Q354.222 783.701 356.028 787.266 Q357.856 790.807 361.467 790.807 Q365.102 790.807 366.907 787.266 Q368.736 783.701 368.736 776.595 Q368.736 769.465 366.907 765.923 Q365.102 762.359 361.467 762.359 M361.467 758.655 Q367.278 758.655 370.333 763.261 Q373.412 767.845 373.412 776.595 Q373.412 785.321 370.333 789.928 Q367.278 794.511 361.467 794.511 Q355.657 794.511 352.579 789.928 Q349.523 785.321 349.523 776.595 Q349.523 767.845 352.579 763.261 Q355.657 758.655 361.467 758.655 Z\" fill=\"#000000\" fill-rule=\"nonzero\" fill-opacity=\"1\" /><path clip-path=\"url(#clip360)\" d=\"M1212.66 789.905 L1228.98 789.905 L1228.98 793.84 L1207.04 793.84 L1207.04 789.905 Q1209.7 787.15 1214.28 782.52 Q1218.89 777.868 1220.07 776.525 Q1222.32 774.002 1223.2 772.266 Q1224.1 770.507 1224.1 768.817 Q1224.1 766.062 1222.15 764.326 Q1220.23 762.59 1217.13 762.59 Q1214.93 762.59 1212.48 763.354 Q1210.05 764.118 1207.27 765.669 L1207.27 760.947 Q1210.09 759.812 1212.55 759.234 Q1215 758.655 1217.04 758.655 Q1222.41 758.655 1225.6 761.34 Q1228.8 764.025 1228.8 768.516 Q1228.8 770.646 1227.99 772.567 Q1227.2 774.465 1225.09 777.058 Q1224.52 777.729 1221.41 780.946 Q1218.31 784.141 1212.66 789.905 Z\" fill=\"#000000\" fill-rule=\"nonzero\" fill-opacity=\"1\" /><path clip-path=\"url(#clip360)\" d=\"M1238.84 759.28 L1257.2 759.28 L1257.2 763.215 L1243.13 763.215 L1243.13 771.687 Q1244.15 771.34 1245.16 771.178 Q1246.18 770.993 1247.2 770.993 Q1252.99 770.993 1256.37 774.164 Q1259.75 777.335 1259.75 782.752 Q1259.75 788.331 1256.28 791.432 Q1252.8 794.511 1246.48 794.511 Q1244.31 794.511 1242.04 794.141 Q1239.79 793.77 1237.39 793.03 L1237.39 788.331 Q1239.47 789.465 1241.69 790.02 Q1243.91 790.576 1246.39 790.576 Q1250.4 790.576 1252.73 788.47 Q1255.07 786.363 1255.07 782.752 Q1255.07 779.141 1252.73 777.034 Q1250.4 774.928 1246.39 774.928 Q1244.52 774.928 1242.64 775.345 Q1240.79 775.761 1238.84 776.641 L1238.84 759.28 Z\" fill=\"#000000\" fill-rule=\"nonzero\" fill-opacity=\"1\" /><path clip-path=\"url(#clip360)\" d=\"M2080.02 759.28 L2098.37 759.28 L2098.37 763.215 L2084.3 763.215 L2084.3 771.687 Q2085.32 771.34 2086.34 771.178 Q2087.36 770.993 2088.37 770.993 Q2094.16 770.993 2097.54 774.164 Q2100.92 777.335 2100.92 782.752 Q2100.92 788.331 2097.45 791.432 Q2093.98 794.511 2087.66 794.511 Q2085.48 794.511 2083.21 794.141 Q2080.97 793.77 2078.56 793.03 L2078.56 788.331 Q2080.64 789.465 2082.87 790.02 Q2085.09 790.576 2087.56 790.576 Q2091.57 790.576 2093.91 788.47 Q2096.25 786.363 2096.25 782.752 Q2096.25 779.141 2093.91 777.034 Q2091.57 774.928 2087.56 774.928 Q2085.69 774.928 2083.81 775.345 Q2081.96 775.761 2080.02 776.641 L2080.02 759.28 Z\" fill=\"#000000\" fill-rule=\"nonzero\" fill-opacity=\"1\" /><path clip-path=\"url(#clip360)\" d=\"M2120.13 762.359 Q2116.52 762.359 2114.69 765.923 Q2112.89 769.465 2112.89 776.595 Q2112.89 783.701 2114.69 787.266 Q2116.52 790.807 2120.13 790.807 Q2123.77 790.807 2125.57 787.266 Q2127.4 783.701 2127.4 776.595 Q2127.4 769.465 2125.57 765.923 Q2123.77 762.359 2120.13 762.359 M2120.13 758.655 Q2125.94 758.655 2129 763.261 Q2132.08 767.845 2132.08 776.595 Q2132.08 785.321 2129 789.928 Q2125.94 794.511 2120.13 794.511 Q2114.32 794.511 2111.25 789.928 Q2108.19 785.321 2108.19 776.595 Q2108.19 767.845 2111.25 763.261 Q2114.32 758.655 2120.13 758.655 Z\" fill=\"#000000\" fill-rule=\"nonzero\" fill-opacity=\"1\" /><path clip-path=\"url(#clip360)\" d=\"M2951.1 759.28 L2973.32 759.28 L2973.32 761.271 L2960.78 793.84 L2955.89 793.84 L2967.7 763.215 L2951.1 763.215 L2951.1 759.28 Z\" fill=\"#000000\" fill-rule=\"nonzero\" fill-opacity=\"1\" /><path clip-path=\"url(#clip360)\" d=\"M2982.49 759.28 L3000.84 759.28 L3000.84 763.215 L2986.77 763.215 L2986.77 771.687 Q2987.79 771.34 2988.81 771.178 Q2989.83 770.993 2990.84 770.993 Q2996.63 770.993 3000.01 774.164 Q3003.39 777.335 3003.39 782.752 Q3003.39 788.331 2999.92 791.432 Q2996.45 794.511 2990.13 794.511 Q2987.95 794.511 2985.68 794.141 Q2983.44 793.77 2981.03 793.03 L2981.03 788.331 Q2983.11 789.465 2985.34 790.02 Q2987.56 790.576 2990.03 790.576 Q2994.04 790.576 2996.38 788.47 Q2998.71 786.363 2998.71 782.752 Q2998.71 779.141 2996.38 777.034 Q2994.04 774.928 2990.03 774.928 Q2988.16 774.928 2986.28 775.345 Q2984.43 775.761 2982.49 776.641 L2982.49 759.28 Z\" fill=\"#000000\" fill-rule=\"nonzero\" fill-opacity=\"1\" /><path clip-path=\"url(#clip360)\" d=\"M3808.78 789.905 L3816.42 789.905 L3816.42 763.539 L3808.11 765.206 L3808.11 760.947 L3816.37 759.28 L3821.05 759.28 L3821.05 789.905 L3828.69 789.905 L3828.69 793.84 L3808.78 793.84 L3808.78 789.905 Z\" fill=\"#000000\" fill-rule=\"nonzero\" fill-opacity=\"1\" /><path clip-path=\"url(#clip360)\" d=\"M3848.13 762.359 Q3844.52 762.359 3842.69 765.923 Q3840.88 769.465 3840.88 776.595 Q3840.88 783.701 3842.69 787.266 Q3844.52 790.807 3848.13 790.807 Q3851.76 790.807 3853.57 787.266 Q3855.4 783.701 3855.4 776.595 Q3855.4 769.465 3853.57 765.923 Q3851.76 762.359 3848.13 762.359 M3848.13 758.655 Q3853.94 758.655 3857 763.261 Q3860.07 767.845 3860.07 776.595 Q3860.07 785.321 3857 789.928 Q3853.94 794.511 3848.13 794.511 Q3842.32 794.511 3839.24 789.928 Q3836.19 785.321 3836.19 776.595 Q3836.19 767.845 3839.24 763.261 Q3842.32 758.655 3848.13 758.655 Z\" fill=\"#000000\" fill-rule=\"nonzero\" fill-opacity=\"1\" /><path clip-path=\"url(#clip360)\" d=\"M3878.29 762.359 Q3874.68 762.359 3872.85 765.923 Q3871.05 769.465 3871.05 776.595 Q3871.05 783.701 3872.85 787.266 Q3874.68 790.807 3878.29 790.807 Q3881.93 790.807 3883.73 787.266 Q3885.56 783.701 3885.56 776.595 Q3885.56 769.465 3883.73 765.923 Q3881.93 762.359 3878.29 762.359 M3878.29 758.655 Q3884.1 758.655 3887.16 763.261 Q3890.24 767.845 3890.24 776.595 Q3890.24 785.321 3887.16 789.928 Q3884.1 794.511 3878.29 794.511 Q3872.48 794.511 3869.4 789.928 Q3866.35 785.321 3866.35 776.595 Q3866.35 767.845 3869.4 763.261 Q3872.48 758.655 3878.29 758.655 Z\" fill=\"#000000\" fill-rule=\"nonzero\" fill-opacity=\"1\" /><polyline clip-path=\"url(#clip362)\" style=\"stroke:#000000; stroke-linecap:round; stroke-linejoin:round; stroke-width:2; stroke-opacity:0.1; fill:none\" points=\"292.76,684.051 3952.76,684.051 \"/>\n",
       "<polyline clip-path=\"url(#clip362)\" style=\"stroke:#000000; stroke-linecap:round; stroke-linejoin:round; stroke-width:2; stroke-opacity:0.1; fill:none\" points=\"292.76,525.366 3952.76,525.366 \"/>\n",
       "<polyline clip-path=\"url(#clip362)\" style=\"stroke:#000000; stroke-linecap:round; stroke-linejoin:round; stroke-width:2; stroke-opacity:0.1; fill:none\" points=\"292.76,366.681 3952.76,366.681 \"/>\n",
       "<polyline clip-path=\"url(#clip362)\" style=\"stroke:#000000; stroke-linecap:round; stroke-linejoin:round; stroke-width:2; stroke-opacity:0.1; fill:none\" points=\"292.76,207.996 3952.76,207.996 \"/>\n",
       "<polyline clip-path=\"url(#clip362)\" style=\"stroke:#000000; stroke-linecap:round; stroke-linejoin:round; stroke-width:2; stroke-opacity:0.1; fill:none\" points=\"292.76,49.3114 3952.76,49.3114 \"/>\n",
       "<polyline clip-path=\"url(#clip360)\" style=\"stroke:#000000; stroke-linecap:round; stroke-linejoin:round; stroke-width:4; stroke-opacity:1; fill:none\" points=\"292.76,718.64 292.76,47.2441 \"/>\n",
       "<polyline clip-path=\"url(#clip360)\" style=\"stroke:#000000; stroke-linecap:round; stroke-linejoin:round; stroke-width:4; stroke-opacity:1; fill:none\" points=\"292.76,684.051 311.657,684.051 \"/>\n",
       "<polyline clip-path=\"url(#clip360)\" style=\"stroke:#000000; stroke-linecap:round; stroke-linejoin:round; stroke-width:4; stroke-opacity:1; fill:none\" points=\"292.76,525.366 311.657,525.366 \"/>\n",
       "<polyline clip-path=\"url(#clip360)\" style=\"stroke:#000000; stroke-linecap:round; stroke-linejoin:round; stroke-width:4; stroke-opacity:1; fill:none\" points=\"292.76,366.681 311.657,366.681 \"/>\n",
       "<polyline clip-path=\"url(#clip360)\" style=\"stroke:#000000; stroke-linecap:round; stroke-linejoin:round; stroke-width:4; stroke-opacity:1; fill:none\" points=\"292.76,207.996 311.657,207.996 \"/>\n",
       "<polyline clip-path=\"url(#clip360)\" style=\"stroke:#000000; stroke-linecap:round; stroke-linejoin:round; stroke-width:4; stroke-opacity:1; fill:none\" points=\"292.76,49.3114 311.657,49.3114 \"/>\n",
       "<path clip-path=\"url(#clip360)\" d=\"M54.9365 669.85 Q51.3254 669.85 49.4967 673.415 Q47.6912 676.956 47.6912 684.086 Q47.6912 691.192 49.4967 694.757 Q51.3254 698.299 54.9365 698.299 Q58.5707 698.299 60.3763 694.757 Q62.205 691.192 62.205 684.086 Q62.205 676.956 60.3763 673.415 Q58.5707 669.85 54.9365 669.85 M54.9365 666.146 Q60.7467 666.146 63.8022 670.753 Q66.8809 675.336 66.8809 684.086 Q66.8809 692.813 63.8022 697.419 Q60.7467 702.002 54.9365 702.002 Q49.1264 702.002 46.0477 697.419 Q42.9921 692.813 42.9921 684.086 Q42.9921 675.336 46.0477 670.753 Q49.1264 666.146 54.9365 666.146 Z\" fill=\"#000000\" fill-rule=\"nonzero\" fill-opacity=\"1\" /><path clip-path=\"url(#clip360)\" d=\"M75.0984 695.451 L79.9827 695.451 L79.9827 701.331 L75.0984 701.331 L75.0984 695.451 Z\" fill=\"#000000\" fill-rule=\"nonzero\" fill-opacity=\"1\" /><path clip-path=\"url(#clip360)\" d=\"M100.168 669.85 Q96.5567 669.85 94.728 673.415 Q92.9224 676.956 92.9224 684.086 Q92.9224 691.192 94.728 694.757 Q96.5567 698.299 100.168 698.299 Q103.802 698.299 105.608 694.757 Q107.436 691.192 107.436 684.086 Q107.436 676.956 105.608 673.415 Q103.802 669.85 100.168 669.85 M100.168 666.146 Q105.978 666.146 109.033 670.753 Q112.112 675.336 112.112 684.086 Q112.112 692.813 109.033 697.419 Q105.978 702.002 100.168 702.002 Q94.3576 702.002 91.2789 697.419 Q88.2234 692.813 88.2234 684.086 Q88.2234 675.336 91.2789 670.753 Q94.3576 666.146 100.168 666.146 Z\" fill=\"#000000\" fill-rule=\"nonzero\" fill-opacity=\"1\" /><path clip-path=\"url(#clip360)\" d=\"M130.33 669.85 Q126.719 669.85 124.89 673.415 Q123.084 676.956 123.084 684.086 Q123.084 691.192 124.89 694.757 Q126.719 698.299 130.33 698.299 Q133.964 698.299 135.769 694.757 Q137.598 691.192 137.598 684.086 Q137.598 676.956 135.769 673.415 Q133.964 669.85 130.33 669.85 M130.33 666.146 Q136.14 666.146 139.195 670.753 Q142.274 675.336 142.274 684.086 Q142.274 692.813 139.195 697.419 Q136.14 702.002 130.33 702.002 Q124.519 702.002 121.441 697.419 Q118.385 692.813 118.385 684.086 Q118.385 675.336 121.441 670.753 Q124.519 666.146 130.33 666.146 Z\" fill=\"#000000\" fill-rule=\"nonzero\" fill-opacity=\"1\" /><path clip-path=\"url(#clip360)\" d=\"M161.07 682.188 Q157.922 682.188 156.07 684.34 Q154.242 686.493 154.242 690.243 Q154.242 693.97 156.07 696.146 Q157.922 698.299 161.07 698.299 Q164.218 698.299 166.047 696.146 Q167.899 693.97 167.899 690.243 Q167.899 686.493 166.047 684.34 Q164.218 682.188 161.07 682.188 M170.353 667.535 L170.353 671.794 Q168.593 670.961 166.788 670.521 Q165.005 670.081 163.246 670.081 Q158.617 670.081 156.163 673.206 Q153.732 676.331 153.385 682.651 Q154.751 680.637 156.811 679.572 Q158.871 678.484 161.348 678.484 Q166.556 678.484 169.566 681.655 Q172.598 684.803 172.598 690.243 Q172.598 695.567 169.45 698.785 Q166.302 702.002 161.07 702.002 Q155.075 702.002 151.904 697.419 Q148.732 692.813 148.732 684.086 Q148.732 675.891 152.621 671.03 Q156.51 666.146 163.061 666.146 Q164.82 666.146 166.603 666.493 Q168.408 666.841 170.353 667.535 Z\" fill=\"#000000\" fill-rule=\"nonzero\" fill-opacity=\"1\" /><path clip-path=\"url(#clip360)\" d=\"M190.653 669.85 Q187.042 669.85 185.214 673.415 Q183.408 676.956 183.408 684.086 Q183.408 691.192 185.214 694.757 Q187.042 698.299 190.653 698.299 Q194.288 698.299 196.093 694.757 Q197.922 691.192 197.922 684.086 Q197.922 676.956 196.093 673.415 Q194.288 669.85 190.653 669.85 M190.653 666.146 Q196.464 666.146 199.519 670.753 Q202.598 675.336 202.598 684.086 Q202.598 692.813 199.519 697.419 Q196.464 702.002 190.653 702.002 Q184.843 702.002 181.765 697.419 Q178.709 692.813 178.709 684.086 Q178.709 675.336 181.765 670.753 Q184.843 666.146 190.653 666.146 Z\" fill=\"#000000\" fill-rule=\"nonzero\" fill-opacity=\"1\" /><path clip-path=\"url(#clip360)\" d=\"M220.815 669.85 Q217.204 669.85 215.375 673.415 Q213.57 676.956 213.57 684.086 Q213.57 691.192 215.375 694.757 Q217.204 698.299 220.815 698.299 Q224.449 698.299 226.255 694.757 Q228.084 691.192 228.084 684.086 Q228.084 676.956 226.255 673.415 Q224.449 669.85 220.815 669.85 M220.815 666.146 Q226.625 666.146 229.681 670.753 Q232.76 675.336 232.76 684.086 Q232.76 692.813 229.681 697.419 Q226.625 702.002 220.815 702.002 Q215.005 702.002 211.926 697.419 Q208.871 692.813 208.871 684.086 Q208.871 675.336 211.926 670.753 Q215.005 666.146 220.815 666.146 Z\" fill=\"#000000\" fill-rule=\"nonzero\" fill-opacity=\"1\" /><path clip-path=\"url(#clip360)\" d=\"M55.9319 511.165 Q52.3208 511.165 50.4921 514.73 Q48.6865 518.271 48.6865 525.401 Q48.6865 532.507 50.4921 536.072 Q52.3208 539.614 55.9319 539.614 Q59.5661 539.614 61.3717 536.072 Q63.2004 532.507 63.2004 525.401 Q63.2004 518.271 61.3717 514.73 Q59.5661 511.165 55.9319 511.165 M55.9319 507.461 Q61.742 507.461 64.7976 512.068 Q67.8763 516.651 67.8763 525.401 Q67.8763 534.128 64.7976 538.734 Q61.742 543.317 55.9319 543.317 Q50.1217 543.317 47.043 538.734 Q43.9875 534.128 43.9875 525.401 Q43.9875 516.651 47.043 512.068 Q50.1217 507.461 55.9319 507.461 Z\" fill=\"#000000\" fill-rule=\"nonzero\" fill-opacity=\"1\" /><path clip-path=\"url(#clip360)\" d=\"M76.0938 536.767 L80.978 536.767 L80.978 542.646 L76.0938 542.646 L76.0938 536.767 Z\" fill=\"#000000\" fill-rule=\"nonzero\" fill-opacity=\"1\" /><path clip-path=\"url(#clip360)\" d=\"M101.163 511.165 Q97.552 511.165 95.7233 514.73 Q93.9178 518.271 93.9178 525.401 Q93.9178 532.507 95.7233 536.072 Q97.552 539.614 101.163 539.614 Q104.797 539.614 106.603 536.072 Q108.432 532.507 108.432 525.401 Q108.432 518.271 106.603 514.73 Q104.797 511.165 101.163 511.165 M101.163 507.461 Q106.973 507.461 110.029 512.068 Q113.107 516.651 113.107 525.401 Q113.107 534.128 110.029 538.734 Q106.973 543.317 101.163 543.317 Q95.353 543.317 92.2743 538.734 Q89.2187 534.128 89.2187 525.401 Q89.2187 516.651 92.2743 512.068 Q95.353 507.461 101.163 507.461 Z\" fill=\"#000000\" fill-rule=\"nonzero\" fill-opacity=\"1\" /><path clip-path=\"url(#clip360)\" d=\"M131.325 511.165 Q127.714 511.165 125.885 514.73 Q124.08 518.271 124.08 525.401 Q124.08 532.507 125.885 536.072 Q127.714 539.614 131.325 539.614 Q134.959 539.614 136.765 536.072 Q138.593 532.507 138.593 525.401 Q138.593 518.271 136.765 514.73 Q134.959 511.165 131.325 511.165 M131.325 507.461 Q137.135 507.461 140.191 512.068 Q143.269 516.651 143.269 525.401 Q143.269 534.128 140.191 538.734 Q137.135 543.317 131.325 543.317 Q125.515 543.317 122.436 538.734 Q119.381 534.128 119.381 525.401 Q119.381 516.651 122.436 512.068 Q125.515 507.461 131.325 507.461 Z\" fill=\"#000000\" fill-rule=\"nonzero\" fill-opacity=\"1\" /><path clip-path=\"url(#clip360)\" d=\"M162.066 523.503 Q158.917 523.503 157.066 525.655 Q155.237 527.808 155.237 531.558 Q155.237 535.285 157.066 537.461 Q158.917 539.614 162.066 539.614 Q165.214 539.614 167.042 537.461 Q168.894 535.285 168.894 531.558 Q168.894 527.808 167.042 525.655 Q165.214 523.503 162.066 523.503 M171.348 508.85 L171.348 513.109 Q169.589 512.276 167.783 511.836 Q166.001 511.396 164.241 511.396 Q159.612 511.396 157.158 514.521 Q154.728 517.646 154.38 523.966 Q155.746 521.952 157.806 520.887 Q159.866 519.799 162.343 519.799 Q167.552 519.799 170.561 522.97 Q173.593 526.118 173.593 531.558 Q173.593 536.882 170.445 540.1 Q167.297 543.317 162.066 543.317 Q156.07 543.317 152.899 538.734 Q149.728 534.128 149.728 525.401 Q149.728 517.206 153.617 512.345 Q157.505 507.461 164.056 507.461 Q165.816 507.461 167.598 507.808 Q169.403 508.156 171.348 508.85 Z\" fill=\"#000000\" fill-rule=\"nonzero\" fill-opacity=\"1\" /><path clip-path=\"url(#clip360)\" d=\"M185.677 538.711 L201.996 538.711 L201.996 542.646 L180.052 542.646 L180.052 538.711 Q182.714 535.956 187.297 531.327 Q191.903 526.674 193.084 525.331 Q195.329 522.808 196.209 521.072 Q197.112 519.313 197.112 517.623 Q197.112 514.869 195.167 513.132 Q193.246 511.396 190.144 511.396 Q187.945 511.396 185.491 512.16 Q183.061 512.924 180.283 514.475 L180.283 509.753 Q183.107 508.619 185.561 508.04 Q188.014 507.461 190.052 507.461 Q195.422 507.461 198.616 510.146 Q201.811 512.831 201.811 517.322 Q201.811 519.452 201.001 521.373 Q200.214 523.271 198.107 525.864 Q197.528 526.535 194.426 529.753 Q191.325 532.947 185.677 538.711 Z\" fill=\"#000000\" fill-rule=\"nonzero\" fill-opacity=\"1\" /><path clip-path=\"url(#clip360)\" d=\"M211.857 508.086 L230.213 508.086 L230.213 512.021 L216.139 512.021 L216.139 520.493 Q217.158 520.146 218.176 519.984 Q219.195 519.799 220.213 519.799 Q226 519.799 229.38 522.97 Q232.76 526.142 232.76 531.558 Q232.76 537.137 229.287 540.239 Q225.815 543.317 219.496 543.317 Q217.32 543.317 215.051 542.947 Q212.806 542.577 210.399 541.836 L210.399 537.137 Q212.482 538.271 214.704 538.827 Q216.926 539.382 219.403 539.382 Q223.408 539.382 225.746 537.276 Q228.084 535.169 228.084 531.558 Q228.084 527.947 225.746 525.841 Q223.408 523.734 219.403 523.734 Q217.528 523.734 215.653 524.151 Q213.801 524.568 211.857 525.447 L211.857 508.086 Z\" fill=\"#000000\" fill-rule=\"nonzero\" fill-opacity=\"1\" /><path clip-path=\"url(#clip360)\" d=\"M54.9365 352.48 Q51.3254 352.48 49.4967 356.045 Q47.6912 359.586 47.6912 366.716 Q47.6912 373.822 49.4967 377.387 Q51.3254 380.929 54.9365 380.929 Q58.5707 380.929 60.3763 377.387 Q62.205 373.822 62.205 366.716 Q62.205 359.586 60.3763 356.045 Q58.5707 352.48 54.9365 352.48 M54.9365 348.776 Q60.7467 348.776 63.8022 353.383 Q66.8809 357.966 66.8809 366.716 Q66.8809 375.443 63.8022 380.049 Q60.7467 384.633 54.9365 384.633 Q49.1264 384.633 46.0477 380.049 Q42.9921 375.443 42.9921 366.716 Q42.9921 357.966 46.0477 353.383 Q49.1264 348.776 54.9365 348.776 Z\" fill=\"#000000\" fill-rule=\"nonzero\" fill-opacity=\"1\" /><path clip-path=\"url(#clip360)\" d=\"M75.0984 378.082 L79.9827 378.082 L79.9827 383.961 L75.0984 383.961 L75.0984 378.082 Z\" fill=\"#000000\" fill-rule=\"nonzero\" fill-opacity=\"1\" /><path clip-path=\"url(#clip360)\" d=\"M100.168 352.48 Q96.5567 352.48 94.728 356.045 Q92.9224 359.586 92.9224 366.716 Q92.9224 373.822 94.728 377.387 Q96.5567 380.929 100.168 380.929 Q103.802 380.929 105.608 377.387 Q107.436 373.822 107.436 366.716 Q107.436 359.586 105.608 356.045 Q103.802 352.48 100.168 352.48 M100.168 348.776 Q105.978 348.776 109.033 353.383 Q112.112 357.966 112.112 366.716 Q112.112 375.443 109.033 380.049 Q105.978 384.633 100.168 384.633 Q94.3576 384.633 91.2789 380.049 Q88.2234 375.443 88.2234 366.716 Q88.2234 357.966 91.2789 353.383 Q94.3576 348.776 100.168 348.776 Z\" fill=\"#000000\" fill-rule=\"nonzero\" fill-opacity=\"1\" /><path clip-path=\"url(#clip360)\" d=\"M130.33 352.48 Q126.719 352.48 124.89 356.045 Q123.084 359.586 123.084 366.716 Q123.084 373.822 124.89 377.387 Q126.719 380.929 130.33 380.929 Q133.964 380.929 135.769 377.387 Q137.598 373.822 137.598 366.716 Q137.598 359.586 135.769 356.045 Q133.964 352.48 130.33 352.48 M130.33 348.776 Q136.14 348.776 139.195 353.383 Q142.274 357.966 142.274 366.716 Q142.274 375.443 139.195 380.049 Q136.14 384.633 130.33 384.633 Q124.519 384.633 121.441 380.049 Q118.385 375.443 118.385 366.716 Q118.385 357.966 121.441 353.383 Q124.519 348.776 130.33 348.776 Z\" fill=\"#000000\" fill-rule=\"nonzero\" fill-opacity=\"1\" /><path clip-path=\"url(#clip360)\" d=\"M161.07 364.818 Q157.922 364.818 156.07 366.971 Q154.242 369.123 154.242 372.873 Q154.242 376.6 156.07 378.776 Q157.922 380.929 161.07 380.929 Q164.218 380.929 166.047 378.776 Q167.899 376.6 167.899 372.873 Q167.899 369.123 166.047 366.971 Q164.218 364.818 161.07 364.818 M170.353 350.165 L170.353 354.424 Q168.593 353.591 166.788 353.151 Q165.005 352.711 163.246 352.711 Q158.617 352.711 156.163 355.836 Q153.732 358.961 153.385 365.281 Q154.751 363.267 156.811 362.202 Q158.871 361.114 161.348 361.114 Q166.556 361.114 169.566 364.285 Q172.598 367.434 172.598 372.873 Q172.598 378.197 169.45 381.415 Q166.302 384.633 161.07 384.633 Q155.075 384.633 151.904 380.049 Q148.732 375.443 148.732 366.716 Q148.732 358.522 152.621 353.66 Q156.51 348.776 163.061 348.776 Q164.82 348.776 166.603 349.123 Q168.408 349.471 170.353 350.165 Z\" fill=\"#000000\" fill-rule=\"nonzero\" fill-opacity=\"1\" /><path clip-path=\"url(#clip360)\" d=\"M180.7 349.401 L199.056 349.401 L199.056 353.336 L184.982 353.336 L184.982 361.809 Q186.001 361.461 187.019 361.299 Q188.038 361.114 189.056 361.114 Q194.843 361.114 198.223 364.285 Q201.602 367.457 201.602 372.873 Q201.602 378.452 198.13 381.554 Q194.658 384.633 188.339 384.633 Q186.163 384.633 183.894 384.262 Q181.649 383.892 179.241 383.151 L179.241 378.452 Q181.325 379.586 183.547 380.142 Q185.769 380.697 188.246 380.697 Q192.251 380.697 194.589 378.591 Q196.926 376.484 196.926 372.873 Q196.926 369.262 194.589 367.156 Q192.251 365.049 188.246 365.049 Q186.371 365.049 184.496 365.466 Q182.644 365.883 180.7 366.762 L180.7 349.401 Z\" fill=\"#000000\" fill-rule=\"nonzero\" fill-opacity=\"1\" /><path clip-path=\"url(#clip360)\" d=\"M220.815 352.48 Q217.204 352.48 215.375 356.045 Q213.57 359.586 213.57 366.716 Q213.57 373.822 215.375 377.387 Q217.204 380.929 220.815 380.929 Q224.449 380.929 226.255 377.387 Q228.084 373.822 228.084 366.716 Q228.084 359.586 226.255 356.045 Q224.449 352.48 220.815 352.48 M220.815 348.776 Q226.625 348.776 229.681 353.383 Q232.76 357.966 232.76 366.716 Q232.76 375.443 229.681 380.049 Q226.625 384.633 220.815 384.633 Q215.005 384.633 211.926 380.049 Q208.871 375.443 208.871 366.716 Q208.871 357.966 211.926 353.383 Q215.005 348.776 220.815 348.776 Z\" fill=\"#000000\" fill-rule=\"nonzero\" fill-opacity=\"1\" /><path clip-path=\"url(#clip360)\" d=\"M55.9319 193.795 Q52.3208 193.795 50.4921 197.36 Q48.6865 200.901 48.6865 208.031 Q48.6865 215.137 50.4921 218.702 Q52.3208 222.244 55.9319 222.244 Q59.5661 222.244 61.3717 218.702 Q63.2004 215.137 63.2004 208.031 Q63.2004 200.901 61.3717 197.36 Q59.5661 193.795 55.9319 193.795 M55.9319 190.091 Q61.742 190.091 64.7976 194.698 Q67.8763 199.281 67.8763 208.031 Q67.8763 216.758 64.7976 221.364 Q61.742 225.948 55.9319 225.948 Q50.1217 225.948 47.043 221.364 Q43.9875 216.758 43.9875 208.031 Q43.9875 199.281 47.043 194.698 Q50.1217 190.091 55.9319 190.091 Z\" fill=\"#000000\" fill-rule=\"nonzero\" fill-opacity=\"1\" /><path clip-path=\"url(#clip360)\" d=\"M76.0938 219.397 L80.978 219.397 L80.978 225.276 L76.0938 225.276 L76.0938 219.397 Z\" fill=\"#000000\" fill-rule=\"nonzero\" fill-opacity=\"1\" /><path clip-path=\"url(#clip360)\" d=\"M101.163 193.795 Q97.552 193.795 95.7233 197.36 Q93.9178 200.901 93.9178 208.031 Q93.9178 215.137 95.7233 218.702 Q97.552 222.244 101.163 222.244 Q104.797 222.244 106.603 218.702 Q108.432 215.137 108.432 208.031 Q108.432 200.901 106.603 197.36 Q104.797 193.795 101.163 193.795 M101.163 190.091 Q106.973 190.091 110.029 194.698 Q113.107 199.281 113.107 208.031 Q113.107 216.758 110.029 221.364 Q106.973 225.948 101.163 225.948 Q95.353 225.948 92.2743 221.364 Q89.2187 216.758 89.2187 208.031 Q89.2187 199.281 92.2743 194.698 Q95.353 190.091 101.163 190.091 Z\" fill=\"#000000\" fill-rule=\"nonzero\" fill-opacity=\"1\" /><path clip-path=\"url(#clip360)\" d=\"M131.325 193.795 Q127.714 193.795 125.885 197.36 Q124.08 200.901 124.08 208.031 Q124.08 215.137 125.885 218.702 Q127.714 222.244 131.325 222.244 Q134.959 222.244 136.765 218.702 Q138.593 215.137 138.593 208.031 Q138.593 200.901 136.765 197.36 Q134.959 193.795 131.325 193.795 M131.325 190.091 Q137.135 190.091 140.191 194.698 Q143.269 199.281 143.269 208.031 Q143.269 216.758 140.191 221.364 Q137.135 225.948 131.325 225.948 Q125.515 225.948 122.436 221.364 Q119.381 216.758 119.381 208.031 Q119.381 199.281 122.436 194.698 Q125.515 190.091 131.325 190.091 Z\" fill=\"#000000\" fill-rule=\"nonzero\" fill-opacity=\"1\" /><path clip-path=\"url(#clip360)\" d=\"M162.066 206.133 Q158.917 206.133 157.066 208.286 Q155.237 210.438 155.237 214.188 Q155.237 217.915 157.066 220.091 Q158.917 222.244 162.066 222.244 Q165.214 222.244 167.042 220.091 Q168.894 217.915 168.894 214.188 Q168.894 210.438 167.042 208.286 Q165.214 206.133 162.066 206.133 M171.348 191.48 L171.348 195.739 Q169.589 194.906 167.783 194.466 Q166.001 194.026 164.241 194.026 Q159.612 194.026 157.158 197.151 Q154.728 200.276 154.38 206.596 Q155.746 204.582 157.806 203.517 Q159.866 202.429 162.343 202.429 Q167.552 202.429 170.561 205.6 Q173.593 208.749 173.593 214.188 Q173.593 219.512 170.445 222.73 Q167.297 225.948 162.066 225.948 Q156.07 225.948 152.899 221.364 Q149.728 216.758 149.728 208.031 Q149.728 199.837 153.617 194.976 Q157.505 190.091 164.056 190.091 Q165.816 190.091 167.598 190.439 Q169.403 190.786 171.348 191.48 Z\" fill=\"#000000\" fill-rule=\"nonzero\" fill-opacity=\"1\" /><path clip-path=\"url(#clip360)\" d=\"M180.468 190.716 L202.69 190.716 L202.69 192.707 L190.144 225.276 L185.26 225.276 L197.065 194.651 L180.468 194.651 L180.468 190.716 Z\" fill=\"#000000\" fill-rule=\"nonzero\" fill-opacity=\"1\" /><path clip-path=\"url(#clip360)\" d=\"M211.857 190.716 L230.213 190.716 L230.213 194.651 L216.139 194.651 L216.139 203.124 Q217.158 202.776 218.176 202.614 Q219.195 202.429 220.213 202.429 Q226 202.429 229.38 205.6 Q232.76 208.772 232.76 214.188 Q232.76 219.767 229.287 222.869 Q225.815 225.948 219.496 225.948 Q217.32 225.948 215.051 225.577 Q212.806 225.207 210.399 224.466 L210.399 219.767 Q212.482 220.901 214.704 221.457 Q216.926 222.012 219.403 222.012 Q223.408 222.012 225.746 219.906 Q228.084 217.8 228.084 214.188 Q228.084 210.577 225.746 208.471 Q223.408 206.364 219.403 206.364 Q217.528 206.364 215.653 206.781 Q213.801 207.198 211.857 208.077 L211.857 190.716 Z\" fill=\"#000000\" fill-rule=\"nonzero\" fill-opacity=\"1\" /><path clip-path=\"url(#clip360)\" d=\"M54.9365 35.1101 Q51.3254 35.1101 49.4967 38.6749 Q47.6912 42.2165 47.6912 49.3461 Q47.6912 56.4526 49.4967 60.0174 Q51.3254 63.559 54.9365 63.559 Q58.5707 63.559 60.3763 60.0174 Q62.205 56.4526 62.205 49.3461 Q62.205 42.2165 60.3763 38.6749 Q58.5707 35.1101 54.9365 35.1101 M54.9365 31.4064 Q60.7467 31.4064 63.8022 36.0129 Q66.8809 40.5962 66.8809 49.3461 Q66.8809 58.0729 63.8022 62.6794 Q60.7467 67.2627 54.9365 67.2627 Q49.1264 67.2627 46.0477 62.6794 Q42.9921 58.0729 42.9921 49.3461 Q42.9921 40.5962 46.0477 36.0129 Q49.1264 31.4064 54.9365 31.4064 Z\" fill=\"#000000\" fill-rule=\"nonzero\" fill-opacity=\"1\" /><path clip-path=\"url(#clip360)\" d=\"M75.0984 60.7118 L79.9827 60.7118 L79.9827 66.5914 L75.0984 66.5914 L75.0984 60.7118 Z\" fill=\"#000000\" fill-rule=\"nonzero\" fill-opacity=\"1\" /><path clip-path=\"url(#clip360)\" d=\"M100.168 35.1101 Q96.5567 35.1101 94.728 38.6749 Q92.9224 42.2165 92.9224 49.3461 Q92.9224 56.4526 94.728 60.0174 Q96.5567 63.559 100.168 63.559 Q103.802 63.559 105.608 60.0174 Q107.436 56.4526 107.436 49.3461 Q107.436 42.2165 105.608 38.6749 Q103.802 35.1101 100.168 35.1101 M100.168 31.4064 Q105.978 31.4064 109.033 36.0129 Q112.112 40.5962 112.112 49.3461 Q112.112 58.0729 109.033 62.6794 Q105.978 67.2627 100.168 67.2627 Q94.3576 67.2627 91.2789 62.6794 Q88.2234 58.0729 88.2234 49.3461 Q88.2234 40.5962 91.2789 36.0129 Q94.3576 31.4064 100.168 31.4064 Z\" fill=\"#000000\" fill-rule=\"nonzero\" fill-opacity=\"1\" /><path clip-path=\"url(#clip360)\" d=\"M130.33 35.1101 Q126.719 35.1101 124.89 38.6749 Q123.084 42.2165 123.084 49.3461 Q123.084 56.4526 124.89 60.0174 Q126.719 63.559 130.33 63.559 Q133.964 63.559 135.769 60.0174 Q137.598 56.4526 137.598 49.3461 Q137.598 42.2165 135.769 38.6749 Q133.964 35.1101 130.33 35.1101 M130.33 31.4064 Q136.14 31.4064 139.195 36.0129 Q142.274 40.5962 142.274 49.3461 Q142.274 58.0729 139.195 62.6794 Q136.14 67.2627 130.33 67.2627 Q124.519 67.2627 121.441 62.6794 Q118.385 58.0729 118.385 49.3461 Q118.385 40.5962 121.441 36.0129 Q124.519 31.4064 130.33 31.4064 Z\" fill=\"#000000\" fill-rule=\"nonzero\" fill-opacity=\"1\" /><path clip-path=\"url(#clip360)\" d=\"M149.311 32.0314 L171.533 32.0314 L171.533 34.0221 L158.987 66.5914 L154.103 66.5914 L165.908 35.9666 L149.311 35.9666 L149.311 32.0314 Z\" fill=\"#000000\" fill-rule=\"nonzero\" fill-opacity=\"1\" /><path clip-path=\"url(#clip360)\" d=\"M190.653 35.1101 Q187.042 35.1101 185.214 38.6749 Q183.408 42.2165 183.408 49.3461 Q183.408 56.4526 185.214 60.0174 Q187.042 63.559 190.653 63.559 Q194.288 63.559 196.093 60.0174 Q197.922 56.4526 197.922 49.3461 Q197.922 42.2165 196.093 38.6749 Q194.288 35.1101 190.653 35.1101 M190.653 31.4064 Q196.464 31.4064 199.519 36.0129 Q202.598 40.5962 202.598 49.3461 Q202.598 58.0729 199.519 62.6794 Q196.464 67.2627 190.653 67.2627 Q184.843 67.2627 181.765 62.6794 Q178.709 58.0729 178.709 49.3461 Q178.709 40.5962 181.765 36.0129 Q184.843 31.4064 190.653 31.4064 Z\" fill=\"#000000\" fill-rule=\"nonzero\" fill-opacity=\"1\" /><path clip-path=\"url(#clip360)\" d=\"M220.815 35.1101 Q217.204 35.1101 215.375 38.6749 Q213.57 42.2165 213.57 49.3461 Q213.57 56.4526 215.375 60.0174 Q217.204 63.559 220.815 63.559 Q224.449 63.559 226.255 60.0174 Q228.084 56.4526 228.084 49.3461 Q228.084 42.2165 226.255 38.6749 Q224.449 35.1101 220.815 35.1101 M220.815 31.4064 Q226.625 31.4064 229.681 36.0129 Q232.76 40.5962 232.76 49.3461 Q232.76 58.0729 229.681 62.6794 Q226.625 67.2627 220.815 67.2627 Q215.005 67.2627 211.926 62.6794 Q208.871 58.0729 208.871 49.3461 Q208.871 40.5962 211.926 36.0129 Q215.005 31.4064 220.815 31.4064 Z\" fill=\"#000000\" fill-rule=\"nonzero\" fill-opacity=\"1\" /><polyline clip-path=\"url(#clip362)\" style=\"stroke:#009af9; stroke-linecap:round; stroke-linejoin:round; stroke-width:4; stroke-opacity:1; fill:none\" points=\"396.344,66.2459 431.221,115.367 466.099,158.855 500.976,198.648 535.853,230.552 570.73,273.202 605.607,312.021 640.484,363.434 675.361,392.758 710.238,430.554 745.115,463.467 779.992,491.722 814.869,523.36 849.746,551.601 884.623,576.28 919.5,601.374 954.377,628.054 989.254,647.689 1024.13,669.901 1059.01,688.375 1093.89,692.655 1128.76,699.638 1163.64,698.682 1198.52,697.458 1233.39,694.212 1268.27,689.219 1303.15,682.154 1338.02,673.302 1372.9,668.682 1407.78,663.022 1442.66,657.189 1477.53,655.176 1512.41,654.349 1547.29,654.366 1582.16,657.447 1617.04,663.269 1651.92,668.048 1686.79,671.358 1721.67,675.045 1756.55,679.676 1791.43,685.279 1826.3,687.613 1861.18,688.862 1896.06,688.681 1930.93,688.713 1965.81,688.778 2000.69,689.45 2035.57,691.11 2070.44,693.104 2105.32,693.875 2140.2,694.785 2175.07,695.619 2209.95,695.751 2244.83,696.783 2279.7,697.465 2314.58,698.623 2349.46,698.55 2384.34,699.131 2419.21,698.383 2454.09,697.339 2488.97,697.858 2523.84,698.394 2558.72,697.587 2593.6,697.238 2628.47,698.519 2663.35,699.158 2698.23,698.593 2733.11,698.256 2767.98,697.445 2802.86,697.785 2837.74,696.711 2872.61,696.507 2907.49,696.304 2942.37,695.704 2977.25,695.643 3012.12,695.56 3047,695.619 3081.88,695.614 3116.75,695.659 3151.63,695.681 3186.51,695.747 3221.38,695.666 3256.26,695.755 3291.14,695.614 3326.02,695.711 3360.89,695.742 3395.77,695.466 3430.65,695.116 3465.52,695.052 3500.4,694.798 3535.28,695.418 3570.15,695.686 3605.03,695.713 3639.91,695.634 3674.79,695.664 3709.66,696.06 3744.54,696.556 3779.42,696.279 3814.29,697.454 3849.17,697.506 \"/>\n",
       "<path clip-path=\"url(#clip360)\" d=\"M3412.33 173.304 L3830.76 173.304 L3830.76 69.624 L3412.33 69.624  Z\" fill=\"#ffffff\" fill-rule=\"evenodd\" fill-opacity=\"1\"/>\n",
       "<polyline clip-path=\"url(#clip360)\" style=\"stroke:#000000; stroke-linecap:round; stroke-linejoin:round; stroke-width:4; stroke-opacity:1; fill:none\" points=\"3412.33,173.304 3830.76,173.304 3830.76,69.624 3412.33,69.624 3412.33,173.304 \"/>\n",
       "<polyline clip-path=\"url(#clip360)\" style=\"stroke:#009af9; stroke-linecap:round; stroke-linejoin:round; stroke-width:4; stroke-opacity:1; fill:none\" points=\"3452.99,121.464 3696.99,121.464 \"/>\n",
       "<path clip-path=\"url(#clip360)\" d=\"M3751.5 141.151 Q3749.7 145.781 3747.98 147.193 Q3746.27 148.605 3743.4 148.605 L3740 148.605 L3740 145.04 L3742.5 145.04 Q3744.26 145.04 3745.23 144.207 Q3746.2 143.374 3747.38 140.272 L3748.15 138.327 L3737.66 112.818 L3742.17 112.818 L3750.27 133.096 L3758.38 112.818 L3762.89 112.818 L3751.5 141.151 Z\" fill=\"#000000\" fill-rule=\"nonzero\" fill-opacity=\"1\" /><path clip-path=\"url(#clip360)\" d=\"M3770.18 134.809 L3777.82 134.809 L3777.82 108.443 L3769.51 110.11 L3769.51 105.851 L3777.77 104.184 L3782.45 104.184 L3782.45 134.809 L3790.09 134.809 L3790.09 138.744 L3770.18 138.744 L3770.18 134.809 Z\" fill=\"#000000\" fill-rule=\"nonzero\" fill-opacity=\"1\" /></svg>\n"
      ],
      "text/html": [
       "<?xml version=\"1.0\" encoding=\"utf-8\"?>\n",
       "<svg xmlns=\"http://www.w3.org/2000/svg\" xmlns:xlink=\"http://www.w3.org/1999/xlink\" width=\"1000\" height=\"200\" viewBox=\"0 0 4000 800\">\n",
       "<defs>\n",
       "  <clipPath id=\"clip410\">\n",
       "    <rect x=\"0\" y=\"0\" width=\"4000\" height=\"800\"/>\n",
       "  </clipPath>\n",
       "</defs>\n",
       "<path clip-path=\"url(#clip410)\" d=\"M0 800 L4000 800 L4000 0 L0 0  Z\" fill=\"#ffffff\" fill-rule=\"evenodd\" fill-opacity=\"1\"/>\n",
       "<defs>\n",
       "  <clipPath id=\"clip411\">\n",
       "    <rect x=\"800\" y=\"0\" width=\"2801\" height=\"800\"/>\n",
       "  </clipPath>\n",
       "</defs>\n",
       "<path clip-path=\"url(#clip410)\" d=\"M292.76 718.64 L3952.76 718.64 L3952.76 47.2441 L292.76 47.2441  Z\" fill=\"#ffffff\" fill-rule=\"evenodd\" fill-opacity=\"1\"/>\n",
       "<defs>\n",
       "  <clipPath id=\"clip412\">\n",
       "    <rect x=\"292\" y=\"47\" width=\"3661\" height=\"672\"/>\n",
       "  </clipPath>\n",
       "</defs>\n",
       "<polyline clip-path=\"url(#clip412)\" style=\"stroke:#000000; stroke-linecap:round; stroke-linejoin:round; stroke-width:2; stroke-opacity:0.1; fill:none\" points=\"361.467,718.64 361.467,47.2441 \"/>\n",
       "<polyline clip-path=\"url(#clip412)\" style=\"stroke:#000000; stroke-linecap:round; stroke-linejoin:round; stroke-width:2; stroke-opacity:0.1; fill:none\" points=\"1233.39,718.64 1233.39,47.2441 \"/>\n",
       "<polyline clip-path=\"url(#clip412)\" style=\"stroke:#000000; stroke-linecap:round; stroke-linejoin:round; stroke-width:2; stroke-opacity:0.1; fill:none\" points=\"2105.32,718.64 2105.32,47.2441 \"/>\n",
       "<polyline clip-path=\"url(#clip412)\" style=\"stroke:#000000; stroke-linecap:round; stroke-linejoin:round; stroke-width:2; stroke-opacity:0.1; fill:none\" points=\"2977.25,718.64 2977.25,47.2441 \"/>\n",
       "<polyline clip-path=\"url(#clip412)\" style=\"stroke:#000000; stroke-linecap:round; stroke-linejoin:round; stroke-width:2; stroke-opacity:0.1; fill:none\" points=\"3849.17,718.64 3849.17,47.2441 \"/>\n",
       "<polyline clip-path=\"url(#clip410)\" style=\"stroke:#000000; stroke-linecap:round; stroke-linejoin:round; stroke-width:4; stroke-opacity:1; fill:none\" points=\"292.76,718.64 3952.76,718.64 \"/>\n",
       "<polyline clip-path=\"url(#clip410)\" style=\"stroke:#000000; stroke-linecap:round; stroke-linejoin:round; stroke-width:4; stroke-opacity:1; fill:none\" points=\"361.467,718.64 361.467,699.742 \"/>\n",
       "<polyline clip-path=\"url(#clip410)\" style=\"stroke:#000000; stroke-linecap:round; stroke-linejoin:round; stroke-width:4; stroke-opacity:1; fill:none\" points=\"1233.39,718.64 1233.39,699.742 \"/>\n",
       "<polyline clip-path=\"url(#clip410)\" style=\"stroke:#000000; stroke-linecap:round; stroke-linejoin:round; stroke-width:4; stroke-opacity:1; fill:none\" points=\"2105.32,718.64 2105.32,699.742 \"/>\n",
       "<polyline clip-path=\"url(#clip410)\" style=\"stroke:#000000; stroke-linecap:round; stroke-linejoin:round; stroke-width:4; stroke-opacity:1; fill:none\" points=\"2977.25,718.64 2977.25,699.742 \"/>\n",
       "<polyline clip-path=\"url(#clip410)\" style=\"stroke:#000000; stroke-linecap:round; stroke-linejoin:round; stroke-width:4; stroke-opacity:1; fill:none\" points=\"3849.17,718.64 3849.17,699.742 \"/>\n",
       "<path clip-path=\"url(#clip410)\" d=\"M361.467 762.359 Q357.856 762.359 356.028 765.923 Q354.222 769.465 354.222 776.595 Q354.222 783.701 356.028 787.266 Q357.856 790.807 361.467 790.807 Q365.102 790.807 366.907 787.266 Q368.736 783.701 368.736 776.595 Q368.736 769.465 366.907 765.923 Q365.102 762.359 361.467 762.359 M361.467 758.655 Q367.278 758.655 370.333 763.261 Q373.412 767.845 373.412 776.595 Q373.412 785.321 370.333 789.928 Q367.278 794.511 361.467 794.511 Q355.657 794.511 352.579 789.928 Q349.523 785.321 349.523 776.595 Q349.523 767.845 352.579 763.261 Q355.657 758.655 361.467 758.655 Z\" fill=\"#000000\" fill-rule=\"nonzero\" fill-opacity=\"1\" /><path clip-path=\"url(#clip410)\" d=\"M1212.66 789.905 L1228.98 789.905 L1228.98 793.84 L1207.04 793.84 L1207.04 789.905 Q1209.7 787.15 1214.28 782.52 Q1218.89 777.868 1220.07 776.525 Q1222.32 774.002 1223.2 772.266 Q1224.1 770.507 1224.1 768.817 Q1224.1 766.062 1222.15 764.326 Q1220.23 762.59 1217.13 762.59 Q1214.93 762.59 1212.48 763.354 Q1210.05 764.118 1207.27 765.669 L1207.27 760.947 Q1210.09 759.812 1212.55 759.234 Q1215 758.655 1217.04 758.655 Q1222.41 758.655 1225.6 761.34 Q1228.8 764.025 1228.8 768.516 Q1228.8 770.646 1227.99 772.567 Q1227.2 774.465 1225.09 777.058 Q1224.52 777.729 1221.41 780.946 Q1218.31 784.141 1212.66 789.905 Z\" fill=\"#000000\" fill-rule=\"nonzero\" fill-opacity=\"1\" /><path clip-path=\"url(#clip410)\" d=\"M1238.84 759.28 L1257.2 759.28 L1257.2 763.215 L1243.13 763.215 L1243.13 771.687 Q1244.15 771.34 1245.16 771.178 Q1246.18 770.993 1247.2 770.993 Q1252.99 770.993 1256.37 774.164 Q1259.75 777.335 1259.75 782.752 Q1259.75 788.331 1256.28 791.432 Q1252.8 794.511 1246.48 794.511 Q1244.31 794.511 1242.04 794.141 Q1239.79 793.77 1237.39 793.03 L1237.39 788.331 Q1239.47 789.465 1241.69 790.02 Q1243.91 790.576 1246.39 790.576 Q1250.4 790.576 1252.73 788.47 Q1255.07 786.363 1255.07 782.752 Q1255.07 779.141 1252.73 777.034 Q1250.4 774.928 1246.39 774.928 Q1244.52 774.928 1242.64 775.345 Q1240.79 775.761 1238.84 776.641 L1238.84 759.28 Z\" fill=\"#000000\" fill-rule=\"nonzero\" fill-opacity=\"1\" /><path clip-path=\"url(#clip410)\" d=\"M2080.02 759.28 L2098.37 759.28 L2098.37 763.215 L2084.3 763.215 L2084.3 771.687 Q2085.32 771.34 2086.34 771.178 Q2087.36 770.993 2088.37 770.993 Q2094.16 770.993 2097.54 774.164 Q2100.92 777.335 2100.92 782.752 Q2100.92 788.331 2097.45 791.432 Q2093.98 794.511 2087.66 794.511 Q2085.48 794.511 2083.21 794.141 Q2080.97 793.77 2078.56 793.03 L2078.56 788.331 Q2080.64 789.465 2082.87 790.02 Q2085.09 790.576 2087.56 790.576 Q2091.57 790.576 2093.91 788.47 Q2096.25 786.363 2096.25 782.752 Q2096.25 779.141 2093.91 777.034 Q2091.57 774.928 2087.56 774.928 Q2085.69 774.928 2083.81 775.345 Q2081.96 775.761 2080.02 776.641 L2080.02 759.28 Z\" fill=\"#000000\" fill-rule=\"nonzero\" fill-opacity=\"1\" /><path clip-path=\"url(#clip410)\" d=\"M2120.13 762.359 Q2116.52 762.359 2114.69 765.923 Q2112.89 769.465 2112.89 776.595 Q2112.89 783.701 2114.69 787.266 Q2116.52 790.807 2120.13 790.807 Q2123.77 790.807 2125.57 787.266 Q2127.4 783.701 2127.4 776.595 Q2127.4 769.465 2125.57 765.923 Q2123.77 762.359 2120.13 762.359 M2120.13 758.655 Q2125.94 758.655 2129 763.261 Q2132.08 767.845 2132.08 776.595 Q2132.08 785.321 2129 789.928 Q2125.94 794.511 2120.13 794.511 Q2114.32 794.511 2111.25 789.928 Q2108.19 785.321 2108.19 776.595 Q2108.19 767.845 2111.25 763.261 Q2114.32 758.655 2120.13 758.655 Z\" fill=\"#000000\" fill-rule=\"nonzero\" fill-opacity=\"1\" /><path clip-path=\"url(#clip410)\" d=\"M2951.1 759.28 L2973.32 759.28 L2973.32 761.271 L2960.78 793.84 L2955.89 793.84 L2967.7 763.215 L2951.1 763.215 L2951.1 759.28 Z\" fill=\"#000000\" fill-rule=\"nonzero\" fill-opacity=\"1\" /><path clip-path=\"url(#clip410)\" d=\"M2982.49 759.28 L3000.84 759.28 L3000.84 763.215 L2986.77 763.215 L2986.77 771.687 Q2987.79 771.34 2988.81 771.178 Q2989.83 770.993 2990.84 770.993 Q2996.63 770.993 3000.01 774.164 Q3003.39 777.335 3003.39 782.752 Q3003.39 788.331 2999.92 791.432 Q2996.45 794.511 2990.13 794.511 Q2987.95 794.511 2985.68 794.141 Q2983.44 793.77 2981.03 793.03 L2981.03 788.331 Q2983.11 789.465 2985.34 790.02 Q2987.56 790.576 2990.03 790.576 Q2994.04 790.576 2996.38 788.47 Q2998.71 786.363 2998.71 782.752 Q2998.71 779.141 2996.38 777.034 Q2994.04 774.928 2990.03 774.928 Q2988.16 774.928 2986.28 775.345 Q2984.43 775.761 2982.49 776.641 L2982.49 759.28 Z\" fill=\"#000000\" fill-rule=\"nonzero\" fill-opacity=\"1\" /><path clip-path=\"url(#clip410)\" d=\"M3808.78 789.905 L3816.42 789.905 L3816.42 763.539 L3808.11 765.206 L3808.11 760.947 L3816.37 759.28 L3821.05 759.28 L3821.05 789.905 L3828.69 789.905 L3828.69 793.84 L3808.78 793.84 L3808.78 789.905 Z\" fill=\"#000000\" fill-rule=\"nonzero\" fill-opacity=\"1\" /><path clip-path=\"url(#clip410)\" d=\"M3848.13 762.359 Q3844.52 762.359 3842.69 765.923 Q3840.88 769.465 3840.88 776.595 Q3840.88 783.701 3842.69 787.266 Q3844.52 790.807 3848.13 790.807 Q3851.76 790.807 3853.57 787.266 Q3855.4 783.701 3855.4 776.595 Q3855.4 769.465 3853.57 765.923 Q3851.76 762.359 3848.13 762.359 M3848.13 758.655 Q3853.94 758.655 3857 763.261 Q3860.07 767.845 3860.07 776.595 Q3860.07 785.321 3857 789.928 Q3853.94 794.511 3848.13 794.511 Q3842.32 794.511 3839.24 789.928 Q3836.19 785.321 3836.19 776.595 Q3836.19 767.845 3839.24 763.261 Q3842.32 758.655 3848.13 758.655 Z\" fill=\"#000000\" fill-rule=\"nonzero\" fill-opacity=\"1\" /><path clip-path=\"url(#clip410)\" d=\"M3878.29 762.359 Q3874.68 762.359 3872.85 765.923 Q3871.05 769.465 3871.05 776.595 Q3871.05 783.701 3872.85 787.266 Q3874.68 790.807 3878.29 790.807 Q3881.93 790.807 3883.73 787.266 Q3885.56 783.701 3885.56 776.595 Q3885.56 769.465 3883.73 765.923 Q3881.93 762.359 3878.29 762.359 M3878.29 758.655 Q3884.1 758.655 3887.16 763.261 Q3890.24 767.845 3890.24 776.595 Q3890.24 785.321 3887.16 789.928 Q3884.1 794.511 3878.29 794.511 Q3872.48 794.511 3869.4 789.928 Q3866.35 785.321 3866.35 776.595 Q3866.35 767.845 3869.4 763.261 Q3872.48 758.655 3878.29 758.655 Z\" fill=\"#000000\" fill-rule=\"nonzero\" fill-opacity=\"1\" /><polyline clip-path=\"url(#clip412)\" style=\"stroke:#000000; stroke-linecap:round; stroke-linejoin:round; stroke-width:2; stroke-opacity:0.1; fill:none\" points=\"292.76,684.051 3952.76,684.051 \"/>\n",
       "<polyline clip-path=\"url(#clip412)\" style=\"stroke:#000000; stroke-linecap:round; stroke-linejoin:round; stroke-width:2; stroke-opacity:0.1; fill:none\" points=\"292.76,525.366 3952.76,525.366 \"/>\n",
       "<polyline clip-path=\"url(#clip412)\" style=\"stroke:#000000; stroke-linecap:round; stroke-linejoin:round; stroke-width:2; stroke-opacity:0.1; fill:none\" points=\"292.76,366.681 3952.76,366.681 \"/>\n",
       "<polyline clip-path=\"url(#clip412)\" style=\"stroke:#000000; stroke-linecap:round; stroke-linejoin:round; stroke-width:2; stroke-opacity:0.1; fill:none\" points=\"292.76,207.996 3952.76,207.996 \"/>\n",
       "<polyline clip-path=\"url(#clip412)\" style=\"stroke:#000000; stroke-linecap:round; stroke-linejoin:round; stroke-width:2; stroke-opacity:0.1; fill:none\" points=\"292.76,49.3114 3952.76,49.3114 \"/>\n",
       "<polyline clip-path=\"url(#clip410)\" style=\"stroke:#000000; stroke-linecap:round; stroke-linejoin:round; stroke-width:4; stroke-opacity:1; fill:none\" points=\"292.76,718.64 292.76,47.2441 \"/>\n",
       "<polyline clip-path=\"url(#clip410)\" style=\"stroke:#000000; stroke-linecap:round; stroke-linejoin:round; stroke-width:4; stroke-opacity:1; fill:none\" points=\"292.76,684.051 311.657,684.051 \"/>\n",
       "<polyline clip-path=\"url(#clip410)\" style=\"stroke:#000000; stroke-linecap:round; stroke-linejoin:round; stroke-width:4; stroke-opacity:1; fill:none\" points=\"292.76,525.366 311.657,525.366 \"/>\n",
       "<polyline clip-path=\"url(#clip410)\" style=\"stroke:#000000; stroke-linecap:round; stroke-linejoin:round; stroke-width:4; stroke-opacity:1; fill:none\" points=\"292.76,366.681 311.657,366.681 \"/>\n",
       "<polyline clip-path=\"url(#clip410)\" style=\"stroke:#000000; stroke-linecap:round; stroke-linejoin:round; stroke-width:4; stroke-opacity:1; fill:none\" points=\"292.76,207.996 311.657,207.996 \"/>\n",
       "<polyline clip-path=\"url(#clip410)\" style=\"stroke:#000000; stroke-linecap:round; stroke-linejoin:round; stroke-width:4; stroke-opacity:1; fill:none\" points=\"292.76,49.3114 311.657,49.3114 \"/>\n",
       "<path clip-path=\"url(#clip410)\" d=\"M54.9365 669.85 Q51.3254 669.85 49.4967 673.415 Q47.6912 676.956 47.6912 684.086 Q47.6912 691.192 49.4967 694.757 Q51.3254 698.299 54.9365 698.299 Q58.5707 698.299 60.3763 694.757 Q62.205 691.192 62.205 684.086 Q62.205 676.956 60.3763 673.415 Q58.5707 669.85 54.9365 669.85 M54.9365 666.146 Q60.7467 666.146 63.8022 670.753 Q66.8809 675.336 66.8809 684.086 Q66.8809 692.813 63.8022 697.419 Q60.7467 702.002 54.9365 702.002 Q49.1264 702.002 46.0477 697.419 Q42.9921 692.813 42.9921 684.086 Q42.9921 675.336 46.0477 670.753 Q49.1264 666.146 54.9365 666.146 Z\" fill=\"#000000\" fill-rule=\"nonzero\" fill-opacity=\"1\" /><path clip-path=\"url(#clip410)\" d=\"M75.0984 695.451 L79.9827 695.451 L79.9827 701.331 L75.0984 701.331 L75.0984 695.451 Z\" fill=\"#000000\" fill-rule=\"nonzero\" fill-opacity=\"1\" /><path clip-path=\"url(#clip410)\" d=\"M100.168 669.85 Q96.5567 669.85 94.728 673.415 Q92.9224 676.956 92.9224 684.086 Q92.9224 691.192 94.728 694.757 Q96.5567 698.299 100.168 698.299 Q103.802 698.299 105.608 694.757 Q107.436 691.192 107.436 684.086 Q107.436 676.956 105.608 673.415 Q103.802 669.85 100.168 669.85 M100.168 666.146 Q105.978 666.146 109.033 670.753 Q112.112 675.336 112.112 684.086 Q112.112 692.813 109.033 697.419 Q105.978 702.002 100.168 702.002 Q94.3576 702.002 91.2789 697.419 Q88.2234 692.813 88.2234 684.086 Q88.2234 675.336 91.2789 670.753 Q94.3576 666.146 100.168 666.146 Z\" fill=\"#000000\" fill-rule=\"nonzero\" fill-opacity=\"1\" /><path clip-path=\"url(#clip410)\" d=\"M130.33 669.85 Q126.719 669.85 124.89 673.415 Q123.084 676.956 123.084 684.086 Q123.084 691.192 124.89 694.757 Q126.719 698.299 130.33 698.299 Q133.964 698.299 135.769 694.757 Q137.598 691.192 137.598 684.086 Q137.598 676.956 135.769 673.415 Q133.964 669.85 130.33 669.85 M130.33 666.146 Q136.14 666.146 139.195 670.753 Q142.274 675.336 142.274 684.086 Q142.274 692.813 139.195 697.419 Q136.14 702.002 130.33 702.002 Q124.519 702.002 121.441 697.419 Q118.385 692.813 118.385 684.086 Q118.385 675.336 121.441 670.753 Q124.519 666.146 130.33 666.146 Z\" fill=\"#000000\" fill-rule=\"nonzero\" fill-opacity=\"1\" /><path clip-path=\"url(#clip410)\" d=\"M161.07 682.188 Q157.922 682.188 156.07 684.34 Q154.242 686.493 154.242 690.243 Q154.242 693.97 156.07 696.146 Q157.922 698.299 161.07 698.299 Q164.218 698.299 166.047 696.146 Q167.899 693.97 167.899 690.243 Q167.899 686.493 166.047 684.34 Q164.218 682.188 161.07 682.188 M170.353 667.535 L170.353 671.794 Q168.593 670.961 166.788 670.521 Q165.005 670.081 163.246 670.081 Q158.617 670.081 156.163 673.206 Q153.732 676.331 153.385 682.651 Q154.751 680.637 156.811 679.572 Q158.871 678.484 161.348 678.484 Q166.556 678.484 169.566 681.655 Q172.598 684.803 172.598 690.243 Q172.598 695.567 169.45 698.785 Q166.302 702.002 161.07 702.002 Q155.075 702.002 151.904 697.419 Q148.732 692.813 148.732 684.086 Q148.732 675.891 152.621 671.03 Q156.51 666.146 163.061 666.146 Q164.82 666.146 166.603 666.493 Q168.408 666.841 170.353 667.535 Z\" fill=\"#000000\" fill-rule=\"nonzero\" fill-opacity=\"1\" /><path clip-path=\"url(#clip410)\" d=\"M190.653 669.85 Q187.042 669.85 185.214 673.415 Q183.408 676.956 183.408 684.086 Q183.408 691.192 185.214 694.757 Q187.042 698.299 190.653 698.299 Q194.288 698.299 196.093 694.757 Q197.922 691.192 197.922 684.086 Q197.922 676.956 196.093 673.415 Q194.288 669.85 190.653 669.85 M190.653 666.146 Q196.464 666.146 199.519 670.753 Q202.598 675.336 202.598 684.086 Q202.598 692.813 199.519 697.419 Q196.464 702.002 190.653 702.002 Q184.843 702.002 181.765 697.419 Q178.709 692.813 178.709 684.086 Q178.709 675.336 181.765 670.753 Q184.843 666.146 190.653 666.146 Z\" fill=\"#000000\" fill-rule=\"nonzero\" fill-opacity=\"1\" /><path clip-path=\"url(#clip410)\" d=\"M220.815 669.85 Q217.204 669.85 215.375 673.415 Q213.57 676.956 213.57 684.086 Q213.57 691.192 215.375 694.757 Q217.204 698.299 220.815 698.299 Q224.449 698.299 226.255 694.757 Q228.084 691.192 228.084 684.086 Q228.084 676.956 226.255 673.415 Q224.449 669.85 220.815 669.85 M220.815 666.146 Q226.625 666.146 229.681 670.753 Q232.76 675.336 232.76 684.086 Q232.76 692.813 229.681 697.419 Q226.625 702.002 220.815 702.002 Q215.005 702.002 211.926 697.419 Q208.871 692.813 208.871 684.086 Q208.871 675.336 211.926 670.753 Q215.005 666.146 220.815 666.146 Z\" fill=\"#000000\" fill-rule=\"nonzero\" fill-opacity=\"1\" /><path clip-path=\"url(#clip410)\" d=\"M55.9319 511.165 Q52.3208 511.165 50.4921 514.73 Q48.6865 518.271 48.6865 525.401 Q48.6865 532.507 50.4921 536.072 Q52.3208 539.614 55.9319 539.614 Q59.5661 539.614 61.3717 536.072 Q63.2004 532.507 63.2004 525.401 Q63.2004 518.271 61.3717 514.73 Q59.5661 511.165 55.9319 511.165 M55.9319 507.461 Q61.742 507.461 64.7976 512.068 Q67.8763 516.651 67.8763 525.401 Q67.8763 534.128 64.7976 538.734 Q61.742 543.317 55.9319 543.317 Q50.1217 543.317 47.043 538.734 Q43.9875 534.128 43.9875 525.401 Q43.9875 516.651 47.043 512.068 Q50.1217 507.461 55.9319 507.461 Z\" fill=\"#000000\" fill-rule=\"nonzero\" fill-opacity=\"1\" /><path clip-path=\"url(#clip410)\" d=\"M76.0938 536.767 L80.978 536.767 L80.978 542.646 L76.0938 542.646 L76.0938 536.767 Z\" fill=\"#000000\" fill-rule=\"nonzero\" fill-opacity=\"1\" /><path clip-path=\"url(#clip410)\" d=\"M101.163 511.165 Q97.552 511.165 95.7233 514.73 Q93.9178 518.271 93.9178 525.401 Q93.9178 532.507 95.7233 536.072 Q97.552 539.614 101.163 539.614 Q104.797 539.614 106.603 536.072 Q108.432 532.507 108.432 525.401 Q108.432 518.271 106.603 514.73 Q104.797 511.165 101.163 511.165 M101.163 507.461 Q106.973 507.461 110.029 512.068 Q113.107 516.651 113.107 525.401 Q113.107 534.128 110.029 538.734 Q106.973 543.317 101.163 543.317 Q95.353 543.317 92.2743 538.734 Q89.2187 534.128 89.2187 525.401 Q89.2187 516.651 92.2743 512.068 Q95.353 507.461 101.163 507.461 Z\" fill=\"#000000\" fill-rule=\"nonzero\" fill-opacity=\"1\" /><path clip-path=\"url(#clip410)\" d=\"M131.325 511.165 Q127.714 511.165 125.885 514.73 Q124.08 518.271 124.08 525.401 Q124.08 532.507 125.885 536.072 Q127.714 539.614 131.325 539.614 Q134.959 539.614 136.765 536.072 Q138.593 532.507 138.593 525.401 Q138.593 518.271 136.765 514.73 Q134.959 511.165 131.325 511.165 M131.325 507.461 Q137.135 507.461 140.191 512.068 Q143.269 516.651 143.269 525.401 Q143.269 534.128 140.191 538.734 Q137.135 543.317 131.325 543.317 Q125.515 543.317 122.436 538.734 Q119.381 534.128 119.381 525.401 Q119.381 516.651 122.436 512.068 Q125.515 507.461 131.325 507.461 Z\" fill=\"#000000\" fill-rule=\"nonzero\" fill-opacity=\"1\" /><path clip-path=\"url(#clip410)\" d=\"M162.066 523.503 Q158.917 523.503 157.066 525.655 Q155.237 527.808 155.237 531.558 Q155.237 535.285 157.066 537.461 Q158.917 539.614 162.066 539.614 Q165.214 539.614 167.042 537.461 Q168.894 535.285 168.894 531.558 Q168.894 527.808 167.042 525.655 Q165.214 523.503 162.066 523.503 M171.348 508.85 L171.348 513.109 Q169.589 512.276 167.783 511.836 Q166.001 511.396 164.241 511.396 Q159.612 511.396 157.158 514.521 Q154.728 517.646 154.38 523.966 Q155.746 521.952 157.806 520.887 Q159.866 519.799 162.343 519.799 Q167.552 519.799 170.561 522.97 Q173.593 526.118 173.593 531.558 Q173.593 536.882 170.445 540.1 Q167.297 543.317 162.066 543.317 Q156.07 543.317 152.899 538.734 Q149.728 534.128 149.728 525.401 Q149.728 517.206 153.617 512.345 Q157.505 507.461 164.056 507.461 Q165.816 507.461 167.598 507.808 Q169.403 508.156 171.348 508.85 Z\" fill=\"#000000\" fill-rule=\"nonzero\" fill-opacity=\"1\" /><path clip-path=\"url(#clip410)\" d=\"M185.677 538.711 L201.996 538.711 L201.996 542.646 L180.052 542.646 L180.052 538.711 Q182.714 535.956 187.297 531.327 Q191.903 526.674 193.084 525.331 Q195.329 522.808 196.209 521.072 Q197.112 519.313 197.112 517.623 Q197.112 514.869 195.167 513.132 Q193.246 511.396 190.144 511.396 Q187.945 511.396 185.491 512.16 Q183.061 512.924 180.283 514.475 L180.283 509.753 Q183.107 508.619 185.561 508.04 Q188.014 507.461 190.052 507.461 Q195.422 507.461 198.616 510.146 Q201.811 512.831 201.811 517.322 Q201.811 519.452 201.001 521.373 Q200.214 523.271 198.107 525.864 Q197.528 526.535 194.426 529.753 Q191.325 532.947 185.677 538.711 Z\" fill=\"#000000\" fill-rule=\"nonzero\" fill-opacity=\"1\" /><path clip-path=\"url(#clip410)\" d=\"M211.857 508.086 L230.213 508.086 L230.213 512.021 L216.139 512.021 L216.139 520.493 Q217.158 520.146 218.176 519.984 Q219.195 519.799 220.213 519.799 Q226 519.799 229.38 522.97 Q232.76 526.142 232.76 531.558 Q232.76 537.137 229.287 540.239 Q225.815 543.317 219.496 543.317 Q217.32 543.317 215.051 542.947 Q212.806 542.577 210.399 541.836 L210.399 537.137 Q212.482 538.271 214.704 538.827 Q216.926 539.382 219.403 539.382 Q223.408 539.382 225.746 537.276 Q228.084 535.169 228.084 531.558 Q228.084 527.947 225.746 525.841 Q223.408 523.734 219.403 523.734 Q217.528 523.734 215.653 524.151 Q213.801 524.568 211.857 525.447 L211.857 508.086 Z\" fill=\"#000000\" fill-rule=\"nonzero\" fill-opacity=\"1\" /><path clip-path=\"url(#clip410)\" d=\"M54.9365 352.48 Q51.3254 352.48 49.4967 356.045 Q47.6912 359.586 47.6912 366.716 Q47.6912 373.822 49.4967 377.387 Q51.3254 380.929 54.9365 380.929 Q58.5707 380.929 60.3763 377.387 Q62.205 373.822 62.205 366.716 Q62.205 359.586 60.3763 356.045 Q58.5707 352.48 54.9365 352.48 M54.9365 348.776 Q60.7467 348.776 63.8022 353.383 Q66.8809 357.966 66.8809 366.716 Q66.8809 375.443 63.8022 380.049 Q60.7467 384.633 54.9365 384.633 Q49.1264 384.633 46.0477 380.049 Q42.9921 375.443 42.9921 366.716 Q42.9921 357.966 46.0477 353.383 Q49.1264 348.776 54.9365 348.776 Z\" fill=\"#000000\" fill-rule=\"nonzero\" fill-opacity=\"1\" /><path clip-path=\"url(#clip410)\" d=\"M75.0984 378.082 L79.9827 378.082 L79.9827 383.961 L75.0984 383.961 L75.0984 378.082 Z\" fill=\"#000000\" fill-rule=\"nonzero\" fill-opacity=\"1\" /><path clip-path=\"url(#clip410)\" d=\"M100.168 352.48 Q96.5567 352.48 94.728 356.045 Q92.9224 359.586 92.9224 366.716 Q92.9224 373.822 94.728 377.387 Q96.5567 380.929 100.168 380.929 Q103.802 380.929 105.608 377.387 Q107.436 373.822 107.436 366.716 Q107.436 359.586 105.608 356.045 Q103.802 352.48 100.168 352.48 M100.168 348.776 Q105.978 348.776 109.033 353.383 Q112.112 357.966 112.112 366.716 Q112.112 375.443 109.033 380.049 Q105.978 384.633 100.168 384.633 Q94.3576 384.633 91.2789 380.049 Q88.2234 375.443 88.2234 366.716 Q88.2234 357.966 91.2789 353.383 Q94.3576 348.776 100.168 348.776 Z\" fill=\"#000000\" fill-rule=\"nonzero\" fill-opacity=\"1\" /><path clip-path=\"url(#clip410)\" d=\"M130.33 352.48 Q126.719 352.48 124.89 356.045 Q123.084 359.586 123.084 366.716 Q123.084 373.822 124.89 377.387 Q126.719 380.929 130.33 380.929 Q133.964 380.929 135.769 377.387 Q137.598 373.822 137.598 366.716 Q137.598 359.586 135.769 356.045 Q133.964 352.48 130.33 352.48 M130.33 348.776 Q136.14 348.776 139.195 353.383 Q142.274 357.966 142.274 366.716 Q142.274 375.443 139.195 380.049 Q136.14 384.633 130.33 384.633 Q124.519 384.633 121.441 380.049 Q118.385 375.443 118.385 366.716 Q118.385 357.966 121.441 353.383 Q124.519 348.776 130.33 348.776 Z\" fill=\"#000000\" fill-rule=\"nonzero\" fill-opacity=\"1\" /><path clip-path=\"url(#clip410)\" d=\"M161.07 364.818 Q157.922 364.818 156.07 366.971 Q154.242 369.123 154.242 372.873 Q154.242 376.6 156.07 378.776 Q157.922 380.929 161.07 380.929 Q164.218 380.929 166.047 378.776 Q167.899 376.6 167.899 372.873 Q167.899 369.123 166.047 366.971 Q164.218 364.818 161.07 364.818 M170.353 350.165 L170.353 354.424 Q168.593 353.591 166.788 353.151 Q165.005 352.711 163.246 352.711 Q158.617 352.711 156.163 355.836 Q153.732 358.961 153.385 365.281 Q154.751 363.267 156.811 362.202 Q158.871 361.114 161.348 361.114 Q166.556 361.114 169.566 364.285 Q172.598 367.434 172.598 372.873 Q172.598 378.197 169.45 381.415 Q166.302 384.633 161.07 384.633 Q155.075 384.633 151.904 380.049 Q148.732 375.443 148.732 366.716 Q148.732 358.522 152.621 353.66 Q156.51 348.776 163.061 348.776 Q164.82 348.776 166.603 349.123 Q168.408 349.471 170.353 350.165 Z\" fill=\"#000000\" fill-rule=\"nonzero\" fill-opacity=\"1\" /><path clip-path=\"url(#clip410)\" d=\"M180.7 349.401 L199.056 349.401 L199.056 353.336 L184.982 353.336 L184.982 361.809 Q186.001 361.461 187.019 361.299 Q188.038 361.114 189.056 361.114 Q194.843 361.114 198.223 364.285 Q201.602 367.457 201.602 372.873 Q201.602 378.452 198.13 381.554 Q194.658 384.633 188.339 384.633 Q186.163 384.633 183.894 384.262 Q181.649 383.892 179.241 383.151 L179.241 378.452 Q181.325 379.586 183.547 380.142 Q185.769 380.697 188.246 380.697 Q192.251 380.697 194.589 378.591 Q196.926 376.484 196.926 372.873 Q196.926 369.262 194.589 367.156 Q192.251 365.049 188.246 365.049 Q186.371 365.049 184.496 365.466 Q182.644 365.883 180.7 366.762 L180.7 349.401 Z\" fill=\"#000000\" fill-rule=\"nonzero\" fill-opacity=\"1\" /><path clip-path=\"url(#clip410)\" d=\"M220.815 352.48 Q217.204 352.48 215.375 356.045 Q213.57 359.586 213.57 366.716 Q213.57 373.822 215.375 377.387 Q217.204 380.929 220.815 380.929 Q224.449 380.929 226.255 377.387 Q228.084 373.822 228.084 366.716 Q228.084 359.586 226.255 356.045 Q224.449 352.48 220.815 352.48 M220.815 348.776 Q226.625 348.776 229.681 353.383 Q232.76 357.966 232.76 366.716 Q232.76 375.443 229.681 380.049 Q226.625 384.633 220.815 384.633 Q215.005 384.633 211.926 380.049 Q208.871 375.443 208.871 366.716 Q208.871 357.966 211.926 353.383 Q215.005 348.776 220.815 348.776 Z\" fill=\"#000000\" fill-rule=\"nonzero\" fill-opacity=\"1\" /><path clip-path=\"url(#clip410)\" d=\"M55.9319 193.795 Q52.3208 193.795 50.4921 197.36 Q48.6865 200.901 48.6865 208.031 Q48.6865 215.137 50.4921 218.702 Q52.3208 222.244 55.9319 222.244 Q59.5661 222.244 61.3717 218.702 Q63.2004 215.137 63.2004 208.031 Q63.2004 200.901 61.3717 197.36 Q59.5661 193.795 55.9319 193.795 M55.9319 190.091 Q61.742 190.091 64.7976 194.698 Q67.8763 199.281 67.8763 208.031 Q67.8763 216.758 64.7976 221.364 Q61.742 225.948 55.9319 225.948 Q50.1217 225.948 47.043 221.364 Q43.9875 216.758 43.9875 208.031 Q43.9875 199.281 47.043 194.698 Q50.1217 190.091 55.9319 190.091 Z\" fill=\"#000000\" fill-rule=\"nonzero\" fill-opacity=\"1\" /><path clip-path=\"url(#clip410)\" d=\"M76.0938 219.397 L80.978 219.397 L80.978 225.276 L76.0938 225.276 L76.0938 219.397 Z\" fill=\"#000000\" fill-rule=\"nonzero\" fill-opacity=\"1\" /><path clip-path=\"url(#clip410)\" d=\"M101.163 193.795 Q97.552 193.795 95.7233 197.36 Q93.9178 200.901 93.9178 208.031 Q93.9178 215.137 95.7233 218.702 Q97.552 222.244 101.163 222.244 Q104.797 222.244 106.603 218.702 Q108.432 215.137 108.432 208.031 Q108.432 200.901 106.603 197.36 Q104.797 193.795 101.163 193.795 M101.163 190.091 Q106.973 190.091 110.029 194.698 Q113.107 199.281 113.107 208.031 Q113.107 216.758 110.029 221.364 Q106.973 225.948 101.163 225.948 Q95.353 225.948 92.2743 221.364 Q89.2187 216.758 89.2187 208.031 Q89.2187 199.281 92.2743 194.698 Q95.353 190.091 101.163 190.091 Z\" fill=\"#000000\" fill-rule=\"nonzero\" fill-opacity=\"1\" /><path clip-path=\"url(#clip410)\" d=\"M131.325 193.795 Q127.714 193.795 125.885 197.36 Q124.08 200.901 124.08 208.031 Q124.08 215.137 125.885 218.702 Q127.714 222.244 131.325 222.244 Q134.959 222.244 136.765 218.702 Q138.593 215.137 138.593 208.031 Q138.593 200.901 136.765 197.36 Q134.959 193.795 131.325 193.795 M131.325 190.091 Q137.135 190.091 140.191 194.698 Q143.269 199.281 143.269 208.031 Q143.269 216.758 140.191 221.364 Q137.135 225.948 131.325 225.948 Q125.515 225.948 122.436 221.364 Q119.381 216.758 119.381 208.031 Q119.381 199.281 122.436 194.698 Q125.515 190.091 131.325 190.091 Z\" fill=\"#000000\" fill-rule=\"nonzero\" fill-opacity=\"1\" /><path clip-path=\"url(#clip410)\" d=\"M162.066 206.133 Q158.917 206.133 157.066 208.286 Q155.237 210.438 155.237 214.188 Q155.237 217.915 157.066 220.091 Q158.917 222.244 162.066 222.244 Q165.214 222.244 167.042 220.091 Q168.894 217.915 168.894 214.188 Q168.894 210.438 167.042 208.286 Q165.214 206.133 162.066 206.133 M171.348 191.48 L171.348 195.739 Q169.589 194.906 167.783 194.466 Q166.001 194.026 164.241 194.026 Q159.612 194.026 157.158 197.151 Q154.728 200.276 154.38 206.596 Q155.746 204.582 157.806 203.517 Q159.866 202.429 162.343 202.429 Q167.552 202.429 170.561 205.6 Q173.593 208.749 173.593 214.188 Q173.593 219.512 170.445 222.73 Q167.297 225.948 162.066 225.948 Q156.07 225.948 152.899 221.364 Q149.728 216.758 149.728 208.031 Q149.728 199.837 153.617 194.976 Q157.505 190.091 164.056 190.091 Q165.816 190.091 167.598 190.439 Q169.403 190.786 171.348 191.48 Z\" fill=\"#000000\" fill-rule=\"nonzero\" fill-opacity=\"1\" /><path clip-path=\"url(#clip410)\" d=\"M180.468 190.716 L202.69 190.716 L202.69 192.707 L190.144 225.276 L185.26 225.276 L197.065 194.651 L180.468 194.651 L180.468 190.716 Z\" fill=\"#000000\" fill-rule=\"nonzero\" fill-opacity=\"1\" /><path clip-path=\"url(#clip410)\" d=\"M211.857 190.716 L230.213 190.716 L230.213 194.651 L216.139 194.651 L216.139 203.124 Q217.158 202.776 218.176 202.614 Q219.195 202.429 220.213 202.429 Q226 202.429 229.38 205.6 Q232.76 208.772 232.76 214.188 Q232.76 219.767 229.287 222.869 Q225.815 225.948 219.496 225.948 Q217.32 225.948 215.051 225.577 Q212.806 225.207 210.399 224.466 L210.399 219.767 Q212.482 220.901 214.704 221.457 Q216.926 222.012 219.403 222.012 Q223.408 222.012 225.746 219.906 Q228.084 217.8 228.084 214.188 Q228.084 210.577 225.746 208.471 Q223.408 206.364 219.403 206.364 Q217.528 206.364 215.653 206.781 Q213.801 207.198 211.857 208.077 L211.857 190.716 Z\" fill=\"#000000\" fill-rule=\"nonzero\" fill-opacity=\"1\" /><path clip-path=\"url(#clip410)\" d=\"M54.9365 35.1101 Q51.3254 35.1101 49.4967 38.6749 Q47.6912 42.2165 47.6912 49.3461 Q47.6912 56.4526 49.4967 60.0174 Q51.3254 63.559 54.9365 63.559 Q58.5707 63.559 60.3763 60.0174 Q62.205 56.4526 62.205 49.3461 Q62.205 42.2165 60.3763 38.6749 Q58.5707 35.1101 54.9365 35.1101 M54.9365 31.4064 Q60.7467 31.4064 63.8022 36.0129 Q66.8809 40.5962 66.8809 49.3461 Q66.8809 58.0729 63.8022 62.6794 Q60.7467 67.2627 54.9365 67.2627 Q49.1264 67.2627 46.0477 62.6794 Q42.9921 58.0729 42.9921 49.3461 Q42.9921 40.5962 46.0477 36.0129 Q49.1264 31.4064 54.9365 31.4064 Z\" fill=\"#000000\" fill-rule=\"nonzero\" fill-opacity=\"1\" /><path clip-path=\"url(#clip410)\" d=\"M75.0984 60.7118 L79.9827 60.7118 L79.9827 66.5914 L75.0984 66.5914 L75.0984 60.7118 Z\" fill=\"#000000\" fill-rule=\"nonzero\" fill-opacity=\"1\" /><path clip-path=\"url(#clip410)\" d=\"M100.168 35.1101 Q96.5567 35.1101 94.728 38.6749 Q92.9224 42.2165 92.9224 49.3461 Q92.9224 56.4526 94.728 60.0174 Q96.5567 63.559 100.168 63.559 Q103.802 63.559 105.608 60.0174 Q107.436 56.4526 107.436 49.3461 Q107.436 42.2165 105.608 38.6749 Q103.802 35.1101 100.168 35.1101 M100.168 31.4064 Q105.978 31.4064 109.033 36.0129 Q112.112 40.5962 112.112 49.3461 Q112.112 58.0729 109.033 62.6794 Q105.978 67.2627 100.168 67.2627 Q94.3576 67.2627 91.2789 62.6794 Q88.2234 58.0729 88.2234 49.3461 Q88.2234 40.5962 91.2789 36.0129 Q94.3576 31.4064 100.168 31.4064 Z\" fill=\"#000000\" fill-rule=\"nonzero\" fill-opacity=\"1\" /><path clip-path=\"url(#clip410)\" d=\"M130.33 35.1101 Q126.719 35.1101 124.89 38.6749 Q123.084 42.2165 123.084 49.3461 Q123.084 56.4526 124.89 60.0174 Q126.719 63.559 130.33 63.559 Q133.964 63.559 135.769 60.0174 Q137.598 56.4526 137.598 49.3461 Q137.598 42.2165 135.769 38.6749 Q133.964 35.1101 130.33 35.1101 M130.33 31.4064 Q136.14 31.4064 139.195 36.0129 Q142.274 40.5962 142.274 49.3461 Q142.274 58.0729 139.195 62.6794 Q136.14 67.2627 130.33 67.2627 Q124.519 67.2627 121.441 62.6794 Q118.385 58.0729 118.385 49.3461 Q118.385 40.5962 121.441 36.0129 Q124.519 31.4064 130.33 31.4064 Z\" fill=\"#000000\" fill-rule=\"nonzero\" fill-opacity=\"1\" /><path clip-path=\"url(#clip410)\" d=\"M149.311 32.0314 L171.533 32.0314 L171.533 34.0221 L158.987 66.5914 L154.103 66.5914 L165.908 35.9666 L149.311 35.9666 L149.311 32.0314 Z\" fill=\"#000000\" fill-rule=\"nonzero\" fill-opacity=\"1\" /><path clip-path=\"url(#clip410)\" d=\"M190.653 35.1101 Q187.042 35.1101 185.214 38.6749 Q183.408 42.2165 183.408 49.3461 Q183.408 56.4526 185.214 60.0174 Q187.042 63.559 190.653 63.559 Q194.288 63.559 196.093 60.0174 Q197.922 56.4526 197.922 49.3461 Q197.922 42.2165 196.093 38.6749 Q194.288 35.1101 190.653 35.1101 M190.653 31.4064 Q196.464 31.4064 199.519 36.0129 Q202.598 40.5962 202.598 49.3461 Q202.598 58.0729 199.519 62.6794 Q196.464 67.2627 190.653 67.2627 Q184.843 67.2627 181.765 62.6794 Q178.709 58.0729 178.709 49.3461 Q178.709 40.5962 181.765 36.0129 Q184.843 31.4064 190.653 31.4064 Z\" fill=\"#000000\" fill-rule=\"nonzero\" fill-opacity=\"1\" /><path clip-path=\"url(#clip410)\" d=\"M220.815 35.1101 Q217.204 35.1101 215.375 38.6749 Q213.57 42.2165 213.57 49.3461 Q213.57 56.4526 215.375 60.0174 Q217.204 63.559 220.815 63.559 Q224.449 63.559 226.255 60.0174 Q228.084 56.4526 228.084 49.3461 Q228.084 42.2165 226.255 38.6749 Q224.449 35.1101 220.815 35.1101 M220.815 31.4064 Q226.625 31.4064 229.681 36.0129 Q232.76 40.5962 232.76 49.3461 Q232.76 58.0729 229.681 62.6794 Q226.625 67.2627 220.815 67.2627 Q215.005 67.2627 211.926 62.6794 Q208.871 58.0729 208.871 49.3461 Q208.871 40.5962 211.926 36.0129 Q215.005 31.4064 220.815 31.4064 Z\" fill=\"#000000\" fill-rule=\"nonzero\" fill-opacity=\"1\" /><polyline clip-path=\"url(#clip412)\" style=\"stroke:#009af9; stroke-linecap:round; stroke-linejoin:round; stroke-width:4; stroke-opacity:1; fill:none\" points=\"396.344,66.2459 431.221,115.367 466.099,158.855 500.976,198.648 535.853,230.552 570.73,273.202 605.607,312.021 640.484,363.434 675.361,392.758 710.238,430.554 745.115,463.467 779.992,491.722 814.869,523.36 849.746,551.601 884.623,576.28 919.5,601.374 954.377,628.054 989.254,647.689 1024.13,669.901 1059.01,688.375 1093.89,692.655 1128.76,699.638 1163.64,698.682 1198.52,697.458 1233.39,694.212 1268.27,689.219 1303.15,682.154 1338.02,673.302 1372.9,668.682 1407.78,663.022 1442.66,657.189 1477.53,655.176 1512.41,654.349 1547.29,654.366 1582.16,657.447 1617.04,663.269 1651.92,668.048 1686.79,671.358 1721.67,675.045 1756.55,679.676 1791.43,685.279 1826.3,687.613 1861.18,688.862 1896.06,688.681 1930.93,688.713 1965.81,688.778 2000.69,689.45 2035.57,691.11 2070.44,693.104 2105.32,693.875 2140.2,694.785 2175.07,695.619 2209.95,695.751 2244.83,696.783 2279.7,697.465 2314.58,698.623 2349.46,698.55 2384.34,699.131 2419.21,698.383 2454.09,697.339 2488.97,697.858 2523.84,698.394 2558.72,697.587 2593.6,697.238 2628.47,698.519 2663.35,699.158 2698.23,698.593 2733.11,698.256 2767.98,697.445 2802.86,697.785 2837.74,696.711 2872.61,696.507 2907.49,696.304 2942.37,695.704 2977.25,695.643 3012.12,695.56 3047,695.619 3081.88,695.614 3116.75,695.659 3151.63,695.681 3186.51,695.747 3221.38,695.666 3256.26,695.755 3291.14,695.614 3326.02,695.711 3360.89,695.742 3395.77,695.466 3430.65,695.116 3465.52,695.052 3500.4,694.798 3535.28,695.418 3570.15,695.686 3605.03,695.713 3639.91,695.634 3674.79,695.664 3709.66,696.06 3744.54,696.556 3779.42,696.279 3814.29,697.454 3849.17,697.506 \"/>\n",
       "<path clip-path=\"url(#clip410)\" d=\"M3412.33 173.304 L3830.76 173.304 L3830.76 69.624 L3412.33 69.624  Z\" fill=\"#ffffff\" fill-rule=\"evenodd\" fill-opacity=\"1\"/>\n",
       "<polyline clip-path=\"url(#clip410)\" style=\"stroke:#000000; stroke-linecap:round; stroke-linejoin:round; stroke-width:4; stroke-opacity:1; fill:none\" points=\"3412.33,173.304 3830.76,173.304 3830.76,69.624 3412.33,69.624 3412.33,173.304 \"/>\n",
       "<polyline clip-path=\"url(#clip410)\" style=\"stroke:#009af9; stroke-linecap:round; stroke-linejoin:round; stroke-width:4; stroke-opacity:1; fill:none\" points=\"3452.99,121.464 3696.99,121.464 \"/>\n",
       "<path clip-path=\"url(#clip410)\" d=\"M3751.5 141.151 Q3749.7 145.781 3747.98 147.193 Q3746.27 148.605 3743.4 148.605 L3740 148.605 L3740 145.04 L3742.5 145.04 Q3744.26 145.04 3745.23 144.207 Q3746.2 143.374 3747.38 140.272 L3748.15 138.327 L3737.66 112.818 L3742.17 112.818 L3750.27 133.096 L3758.38 112.818 L3762.89 112.818 L3751.5 141.151 Z\" fill=\"#000000\" fill-rule=\"nonzero\" fill-opacity=\"1\" /><path clip-path=\"url(#clip410)\" d=\"M3770.18 134.809 L3777.82 134.809 L3777.82 108.443 L3769.51 110.11 L3769.51 105.851 L3777.77 104.184 L3782.45 104.184 L3782.45 134.809 L3790.09 134.809 L3790.09 138.744 L3770.18 138.744 L3770.18 134.809 Z\" fill=\"#000000\" fill-rule=\"nonzero\" fill-opacity=\"1\" /></svg>\n"
      ]
     },
     "execution_count": 15,
     "metadata": {},
     "output_type": "execute_result"
    }
   ],
   "source": [
    "plot(scores, size = (1000, 200))"
   ]
  },
  {
   "cell_type": "markdown",
   "id": "d3c73f49-4b99-41a3-a1fc-bb1c7a9a704a",
   "metadata": {},
   "source": [
    "Alright this should look good. Try to reason about how often proposals are accepted by the step-wise changes in the loglikelihood scores over iterations.\n",
    "\n",
    "Now let's find out what our inferred scene looks like at the end of the procedure:"
   ]
  },
  {
   "cell_type": "code",
   "execution_count": 16,
   "id": "41f4ebc9-24f1-4377-beac-2e94513833c6",
   "metadata": {},
   "outputs": [
    {
     "data": {
      "text/html": [
       "<img src=\"data:image/jpeg;base64, /9j/4AAQSkZJRgABAQAAAQABAAD/2wBDAAEBAQEBAQEBAQEBAQEBAQEBAQEBAQEBAQEBAQEBAQEBAQEBAQICAQECAQEBAgICAgICAgICAQICAgICAgICAgL/2wBDAQEBAQEBAQEBAQECAQEBAgICAgICAgICAgICAgICAgICAgICAgICAgICAgICAgICAgICAgICAgICAgICAgICAgL/wAARCABAAEADASIAAhEBAxEB/8QAHwAAAQUBAQEBAQEAAAAAAAAAAAECAwQFBgcICQoL/8QAtRAAAgEDAwIEAwUFBAQAAAF9AQIDAAQRBRIhMUEGE1FhByJxFDKBkaEII0KxwRVS0fAkM2JyggkKFhcYGRolJicoKSo0NTY3ODk6Q0RFRkdISUpTVFVWV1hZWmNkZWZnaGlqc3R1dnd4eXqDhIWGh4iJipKTlJWWl5iZmqKjpKWmp6ipqrKztLW2t7i5usLDxMXGx8jJytLT1NXW19jZ2uHi4+Tl5ufo6erx8vP09fb3+Pn6/8QAHwEAAwEBAQEBAQEBAQAAAAAAAAECAwQFBgcICQoL/8QAtREAAgECBAQDBAcFBAQAAQJ3AAECAxEEBSExBhJBUQdhcRMiMoEIFEKRobHBCSMzUvAVYnLRChYkNOEl8RcYGRomJygpKjU2Nzg5OkNERUZHSElKU1RVVldYWVpjZGVmZ2hpanN0dXZ3eHl6goOEhYaHiImKkpOUlZaXmJmaoqOkpaanqKmqsrO0tba3uLm6wsPExcbHyMnK0tPU1dbX2Nna4uPk5ebn6Onq8vP09fb3+Pn6/9oADAMBAAIRAxEAPwD+NP4B/DjwJ4q8O6UPFfhKPU7rVtSFtZ6qL+8sY0MuqGweO/uFl2W+1GiETCOSMNMjyqcEH7W0/wDYx+FdzcjTU+H9zLI89xPBcnWtR+zrYWcMReS5v5dVSOWUi01B5BGxAB2xRvK0ca8T+yn4atdb+E3hNWkd3mk1aJNiqm2RtTuRIgcMS0g8tAMgfe+UqwIP2HpGrJ4Bex8O61p0+pNqdy0VtqkxvLp4dOZLhptLkthlbVPLkuFWaJVY/apPMlJ8oD+e884pzGOeZlgsNjq1GpSr1oxgqtRJqM2lyrmSXKlslZ7Hr8L59llfMVk+Z4al7ZycKNRwTcn7yVN+4/ebacZNO9uW6dm/HYf2HvhIsfnHwTp+qwWAsreGM6l4stbvVLi609mtXFvZ3kMj2rSC8cTuN0ohty0A3OD1ug/8E4vCHi3TLPV9N+FGvwR3JgOmvpmn+M9etrqFHtn1CeG0RIpNTt47hvs8jeZKYnSWJDvDkfbOneIPCWq2Glz6VFqMlg7Wj3E0+mane3tvJexsunxzNbxSKyQ+YI41DgILEyklgkcf9A37Gn/Bci7/AGXv2c/hl+z/AKn+y7rvxBX4aab4j0m38YW3xL1Hw8L+zl8S6/r+m6TaeFpfhfqk2nWmnabqdrpsKtfznyNIjkYxbxCvHluf4/FYmdPMuIsRlFGMZNVGq1a8k0uR06c42cryfNra3LbVM/Xq2TUKFKM8vyHD5piJSSlS5qNNWau5c1SLuoSUYJJpyb5tdeb+Q3VP+CdXgrTtJ03U9T+FWu2FjqlhbeINH1F18daPBf6NbajF/aDI+sIY5baW2eBFmM7rEdQtkZ1kuY2bgb39in4aWIvdTXwC9vbnUGR4dVvtXitbHSJoXnQ2DT66q3d3D58qSyyP5J/s/bHL5xCp/Zh+1x/wXe8W/tF/s5fFf4JeG/2a/EHwav8A4i6Ppnhm58d2/wAVrzxPf6XoV1rmlTeMNLl8Pj4QWHm2uqeG4dT0iWRryALba9LcRuzxiOv57Na8X6PY+GbG11rSbu7vLrSGudQQ6aYrmFIvPWG3v7aHSZGZnYXjeY7bZftBLoHSPe8x4gzHDYpUcs4gxGb4aaV6lq1FqTcnKMYVKkm0koPnurttJJb/AFfDvDmX47C1K+ccOYbJ61Gd4wTo1lKEYq9SUo03GK5pNNXvZc0o9T8yV/ZA+F+j3Fk03hazlXTbm6jhXUNSvbpNWSWNbiO+vy/kI+mqy4j4kOxvL3CVgtfHPx28AfCXw1oV/deA9NWS6+w6abu9km1Mppt9Jc6a0tppokuEivJUX7XDLP5Hkyxhpo1SRsRfqR8SvG7eJbpvCPhiCK2it7bTU1fV4rXUIL2Z4YNOvIRB57eY1y7xBpJVZ1VZlMSxSBjXwF+0Todjp3gjX1RBZtEtt9ntyGZHjF9H5caBCMFNzgFtwAUnJ3Zr0+H+IMyrZtgKOKx1eU6tWmpQdSTTi5xVpLmejve1rLW+mi+5zjwoyynwTnXEiy3DUcLRwWJqYb91CDnKNCrJVVLkWkd6acueVou7SXN9K/sSx+Z8KfBrS3KHbNqGyL5HkjEWuai4LFox8nEQCKSzbsAscgfoRc+FINd8X+DbfMU6lppJX24WQfYbqeGKc3Q2qxOFCjBYrwQ3Nfnt+xVfCH4XeEHRnjKJfxyKqmQHGrXqGbAiPRTHkEAA4b5jgn9PvBF0J/G/g6Ngoy9zhpWjgkaWLSLzed7S7ECgBgWUkAgg5O6vzLiudWnxnjqkPdtisR261J/153v0P898pu+N8nUl7ssdTTvro6qT0X9bH158N/hXoPkWlnJp8dsGSKB7i1jUC/ViXjCrl2kBYuuFI8sxBiUOFH2f4X+CnhsR2ObC4gVkeSO0juIYlFwykuzzRKqqnmbTjDSgxbyxZty+W+Cvs81xaxwQwwS20xkRPN8xlkthHFdIoEyxmOSFThANjqq7GDsGf6o0rVW08RSPHcF1hSRI5vMtZI1ezlNrcRgwqwg3TPGpJdS4QgNvBr5/H4rESlaM2m79e/8AX6Lof3FktGjGL5qaThyq67ad/PRXV77vc8s1r4L6MlsXGmW1hEDNdyRTQaeQ0sNqjRB5mlBncxlypkRyhnPAk27vjX4pfCXw/a2mpyHTrM3GoLE8q2ywGSWGMyPLLuSEBi5TDkIxXdHjI3k/o/qev2s0EVskcLwzQgRw28scbzyvc28u0zpMN0jZjQlRuH2cBu6j498bajDHJctEtvcRzT3SurSpP5ShpGWIRzSNI2x5ARAE2t5TA5Lk0YCviVUu5PS2l3rr1fqvw3PsYKna6tFK6TstrpqySSbtpbVX3Vmrfin448M2Vh8QvFa7HEUItII1KRRMqw6VYISViTguRxncylR8gyQfz1/atigPw88TSII2eF7FPLwMxpNqdqqHIGCyhHPbJYkKBjH6WfGWFdM+KHi+O3kj2GXTXikCrEBu0mzY7Y5hGcEsM8EZHTaBX5r/ALVswPw88UCVyJs6eRGwBILX9uPNJWU4YrIUOcjPHdc/c8KTnPiXLpuTkniKFt/549PzZ/RvHVPD0/AqvThSVJrI67baWrlgqklZ36P4U01ZK19Wuj/ZGv3g+F3hNGCpt/tLy0RCo3f2pelDKWfBd8h+MZGRtJ3Z/Q/QvHukeFtb0fxVrl0IdM06K6lkkQP9o3tbzLFGjjBzLdSW8ajGN0ucDjH5d/swai1r8M/DYbLo5v1eTMpECR6xeqAWyMMNi4xkASYzxge+/F7U5bjwOJ7OVcrJCZW8uaWJYp0lC/ckLSRiWaM4wSwOF3PwdeI8v+scW4mL91VcZVV+mtSV/T5+p/itTqVsLxFRxdCKlWwtdVIJptc0ajlG/dX367H6T+C/+CmmheDZkOk3ml6ROzKW84Ttf3BaUoS1yyhZplQxSExssTLINpK5I+zvBf8AwVL0fxhHb2PiXU9K1qyu0gtLYahHaTRq6xo8g06+kneaAILgKXjkUMWOI1blf45PFepeIrWeSGCWWaW9aCBYBPKojspipdXBlj+yzn+z4MRbkXzIRg4AVt3wXYeLDqemPpep3L6TAstjcWN1PLKLS5uJGtL6eytrh4lt5DPCCseWP2eJZJJZI4HB+zqcB5NWwftakYwk02no27Lvum3pFvR2eux++8NcSZpiK1P21aUJxlFNty6tO976LdyjFXWjStov7o/AOpL8eZ7uT4c241fTrBkk1SYTWlnaaRD+8kSG7vpZo1hY29qwjU7WkVmJRD5jVyfxU+E/jjw7Y6sRe+GtS8pHljg0zU1NzB8298vPawhwVRAzbmYeXlSvQfiP+wV+034l+Dlz40s9T13Ft4t8PabH5ZaRYre80S6+0Rxg3ilkdbPVZVEaSSiQ3DDKqqlfof4gftmX+o3d8jar5U+5hLPfSvAssDlSwvB9qEkcU24IRkNtbauVPH5zW4XxlDHVqdCSeEp2cG022ut/R3Wi2tvc/bKHEdbDYjD4ZKNeo1TU2tL+0jdK7aScb66K717I+SvjXqZt/ib4wjuf3Fy72aPEwdwohs7SKQyRgHMgdZBuOSwTvnFfnd+0xeQv8OvEqSOGkkjsPIm8923ousWIEQij4ViVbIcceVjIxg/SPxd+McPi7xZY6jcyWxnu5ks2mimxPISBdWtvcpJGhd1ScqCmfv8A3V3bm+S/2h5Wm+Huvs0ahHe0ZWAZA+7UbOTcybsHDngAcFQTnofpuHcvnhc+yp1YuPPXpNPvapFafdruf0dxRxBDM/BvNKNNJVcDk+Io1YPVxlHCVFeVtFzK0ouyavZbO/MfCnxBLonwe0eSBQbnbqIt0L/IZjrU6xOxH8eNgCgggHqG6/oT8KYvhLq3w6ms/jFrmtLqevaddQ6Npfh14XvLGUi4X+1rySZFjjuIpmR4oDtRUhZZhj5R8HfAXxD8DIfhlpNr8RPiTpmg61ANZsrfRZNP1e4ew+0T3EiardtZ2LJPMySokUZPljPmSHeqOmrqXiv4SzSwWsPxl0CaFW1CP+0TY+I0vWnTT7mOGV2k0nbHZSNNMsm1kaQsq/OQsh+ozjJMRjMwx0lhK9OaxVWpGpClUbtzy5XGXI0110b3vqj/ADJyjI6VGus0xdGhiqtWcnSpVatNQim7KdWKmpbNuKa93Sck2lFcZ4z8G2GiTx6fqz2N1Yz3175Go6fdWttaarEYpC81wLi6IQwwRTwsqsZI/tpDF8fPseBLrR5IrIajeaXf2/hvS7M2FqLmLT476eK2Esl3AZIWD3ERuZg0hMbI8l5GDLuSUYVy/wAGrx7i6vfil4XvreVIoLfT7238VXAt7q4gimhuJLcaGi3dvC0Xku0kihd7HYSQB1/hHT/2Yp7vydV+OGgaQtvfMqfYvB/iS3huBi5glkS7vdHVBbCDy3j3KhJdRG0csYr3IrFRwvs6mFxUpLVuNCpZPZ2XK2m1o7aa3T0PusioYOhObq4nC4PVKMfaxnfltyvmUopq654t2lb3XZ6no48SwzeKrsJfpZaNBGI/7Ru9P1WODU0JS2m1S3ks2QBTbvJHBJG88bLbDO8wuqetyx+DSzPeeJI208JPf281re3EF7AoeI4W11N5neKKS6jSa2ZFMgSPen7zy69o+FHx3/YC+E1xY61Y/FddW1YaZBppu77QvFclxBItnGrW/wBnj0toksR5ZJcxBWYiMbR+6r6fuv8AgoF+xHJHJj4g+FbiMeZAwn8G6h507wNFceYyNorEru4Q7tjMmUdjuFfM4qtmicYYfIMZOEVbm9lUjdrS9nSevW+2trWSPvsNPJlXlXqZ/hpyUk7upST76Wq6JaJLVWjfdtL8dPi1qKa94q8I6Z8O9Fu9SjsbuDWNQudLhF5E0QlFjHN5MMSLPM4YSGO3Dud7MFUlmXh/jp/yT3WEkz5qmzZo3Ta0bC8hBLFiVEgDFTgBjx6rX7Nwft7/ALGdpcXEml+OvDunymOVJGi8NanbRSJDK5txGYNJUM21d23cV+YlAXZVP5i/tsfFH9mj4j+HNa1/4ReMdMfxJqs1m2p+G4tJ1K1hvma5ikn1DT3k01Etrwlg06v5Ycq0gYOHVtsrhmdfNMljUyLEYSlhKsL1J06jvzVFNubcEopd1outj7yHGOQ0OFOMsqr53QrTzbBVlh0qtOVpxwtSmqSSldup7vK5L4ly6rlt/9k=\">"
      ],
      "text/plain": [
       "PyObject Bitmap[\n",
       "  pixel_format = rgb,\n",
       "  component_format = uint8,\n",
       "  size = [64, 64],\n",
       "  srgb_gamma = 1,\n",
       "  struct = Struct<3>[\n",
       "    uint8 R; // @0, normalized, gamma, premultiplied alpha\n",
       "    uint8 G; // @1, normalized, gamma, premultiplied alpha\n",
       "    uint8 B; // @2, normalized, gamma, premultiplied alpha\n",
       "  ],\n",
       "  data = [ 12 KiB of image data ]\n",
       "]"
      ]
     },
     "execution_count": 16,
     "metadata": {},
     "output_type": "execute_result"
    }
   ],
   "source": [
    "render_bitmap(modelparams)"
   ]
  },
  {
   "cell_type": "markdown",
   "id": "4bbc95b7-04e8-4faf-b8c7-51083c7b72b9",
   "metadata": {},
   "source": [
    "Compare the image that your model synthesized to what the observation was like from above. Did the inference procedure work reasonably well? Try changing the number of iterations. "
   ]
  },
  {
   "cell_type": "markdown",
   "id": "25975733-b6cd-4f3f-913c-fe59721c4ea6",
   "metadata": {},
   "source": [
    "## Taking stock:\n",
    "\n",
    "Notice what we have accomplished: The result of the optimization procedure is not just a reconstructed image -- rather, it is a causal explanation that goes far beyond what was in the image: a 3D scene that we can re-light, re-pose, and manipulate. The result of inference"
   ]
  },
  {
   "cell_type": "code",
   "execution_count": null,
   "id": "012e6b40-b05f-4565-ae1c-3528b2f82e8d",
   "metadata": {},
   "outputs": [],
   "source": []
  }
 ],
 "metadata": {
  "kernelspec": {
   "display_name": "Algorithms of the Mind (Julia) 1.9.2",
   "language": "julia",
   "name": "atom-jl-1.9"
  },
  "language_info": {
   "file_extension": ".jl",
   "mimetype": "application/julia",
   "name": "julia",
   "version": "1.9.2"
  },
  "widgets": {
   "application/vnd.jupyter.widget-state+json": {
    "state": {},
    "version_major": 2,
    "version_minor": 0
   }
  }
 },
 "nbformat": 4,
 "nbformat_minor": 5
}
