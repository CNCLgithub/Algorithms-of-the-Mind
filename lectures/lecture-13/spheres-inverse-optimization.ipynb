{
 "cells": [
  {
   "cell_type": "markdown",
   "id": "617e2da8-0eaa-44a5-abd8-5ea13b0c302b",
   "metadata": {},
   "source": [
    "# Inverse graphics via optimization with differentiable graphics\n",
    "\n",
    "We will start with installing the neccesary packages: mitsuba for differentiable rendering and numpy for numerical processing. \n",
    "\n",
    "We will install `mitsuba` and `numpy` using `Conda.jl`. The following snippet will create a local environment that will allow you to install things on the Apptainer container (and on your own computer). "
   ]
  },
  {
   "cell_type": "code",
   "execution_count": 2,
   "id": "96ab6073-9af4-472b-be29-f30bf3434e41",
   "metadata": {},
   "outputs": [
    {
     "name": "stderr",
     "output_type": "stream",
     "text": [
      "\u001b[32m\u001b[1m  Activating\u001b[22m\u001b[39m project at `~/Algorithms-of-the-Mind/lectures/lecture-13/psyc261`\n",
      "\u001b[32m\u001b[1m   Resolving\u001b[22m\u001b[39m package versions...\n",
      "\u001b[32m\u001b[1m  No Changes\u001b[22m\u001b[39m to `~/Algorithms-of-the-Mind/lectures/lecture-13/psyc261/Project.toml`\n",
      "\u001b[32m\u001b[1m  No Changes\u001b[22m\u001b[39m to `~/Algorithms-of-the-Mind/lectures/lecture-13/psyc261/Manifest.toml`\n",
      "\u001b[36m\u001b[1m[ \u001b[22m\u001b[39m\u001b[36m\u001b[1mInfo: \u001b[22m\u001b[39mRunning `conda install -y numpy` in root environment\n"
     ]
    },
    {
     "name": "stdout",
     "output_type": "stream",
     "text": [
      "Channels:\n",
      " - conda-forge\n",
      "Platform: linux-64\n",
      "Collecting package metadata (repodata.json): ...working... done\n",
      "Solving environment: ...working... done\n",
      "\n",
      "# All requested packages already installed.\n",
      "\n"
     ]
    },
    {
     "name": "stderr",
     "output_type": "stream",
     "text": [
      "\n",
      "\n",
      "==> WARNING: A newer version of conda exists. <==\n",
      "    current version: 25.7.0\n",
      "    latest version: 25.9.0\n",
      "\n",
      "Please update conda by running\n",
      "\n",
      "    $ conda update -n base -c conda-forge conda\n",
      "\n",
      "\n"
     ]
    }
   ],
   "source": [
    "using Pkg\n",
    "Pkg.activate(\"psyc261\")\n",
    "Pkg.add(\"Conda\")\n",
    "using Conda\n",
    "Conda.add(\"numpy\")"
   ]
  },
  {
   "cell_type": "code",
   "execution_count": 3,
   "id": "5c3b25c7-c5c9-43b7-8c52-0651bb963714",
   "metadata": {},
   "outputs": [
    {
     "name": "stdout",
     "output_type": "stream",
     "text": [
      "Defaulting to user installation because normal site-packages is not writeable\n",
      "Requirement already satisfied: mitsuba in /home/psyc2610_iy42/.local/lib/python3.11/site-packages (3.7.1)\n",
      "Requirement already satisfied: drjit==1.2.0 in /home/psyc2610_iy42/.local/lib/python3.11/site-packages (from mitsuba) (1.2.0)\n"
     ]
    },
    {
     "data": {
      "text/plain": [
       "Process(`\u001b[4mpip\u001b[24m \u001b[4minstall\u001b[24m \u001b[4mmitsuba\u001b[24m`, ProcessExited(0))"
      ]
     },
     "execution_count": 3,
     "metadata": {},
     "output_type": "execute_result"
    }
   ],
   "source": [
    "# need this for installing mitsuba...\n",
    "\n",
    "run(`conda config --set pip_interop_enabled true`)\n",
    "run(`pip install mitsuba`)"
   ]
  },
  {
   "cell_type": "code",
   "execution_count": 4,
   "id": "554301fc-9839-450c-8f64-1b9724e65881",
   "metadata": {},
   "outputs": [
    {
     "name": "stderr",
     "output_type": "stream",
     "text": [
      "\u001b[32m\u001b[1m   Resolving\u001b[22m\u001b[39m package versions...\n",
      "\u001b[32m\u001b[1m  No Changes\u001b[22m\u001b[39m to `~/Algorithms-of-the-Mind/lectures/lecture-13/psyc261/Project.toml`\n",
      "\u001b[32m\u001b[1m  No Changes\u001b[22m\u001b[39m to `~/Algorithms-of-the-Mind/lectures/lecture-13/psyc261/Manifest.toml`\n"
     ]
    }
   ],
   "source": [
    "Pkg.add([\"Distributions\", \"ProgressMeter\", \"Gen\", \"Plots\", \"Parameters\", \"PyCall\"])"
   ]
  },
  {
   "cell_type": "code",
   "execution_count": 5,
   "id": "60d76e3d-993b-42e8-baa3-2567f78889a2",
   "metadata": {
    "scrolled": true
   },
   "outputs": [],
   "source": [
    "using Pkg\n",
    "using Distributions\n",
    "using ProgressMeter\n",
    "using Gen, Plots\n",
    "using Parameters\n",
    "using PyCall\n",
    "np = pyimport(\"numpy\")\n",
    ";"
   ]
  },
  {
   "cell_type": "markdown",
   "id": "24118f41-6ef3-49f6-9a55-b09f096524e0",
   "metadata": {},
   "source": [
    "# Part 0: The task\n",
    "\n",
    "The task in this lab is to an optimization routine for inverse graphics via a differentiable generative process."
   ]
  },
  {
   "cell_type": "markdown",
   "id": "19ea281e-790c-4204-8386-a4780f76e566",
   "metadata": {},
   "source": [
    "# Part 1: Compute graphics & `mitsuba`\n",
    "## Mini introduction to computer graphics\n",
    "\n",
    "Computer graphics are concerned with algorithmically tractable methods for representing 3D scenes (static or dynamic) and syntesizing realistic (or non-realistic) imagery based off of these scenes. Rendering is the process of synthesizing an image from a 3D (or a 2D) scene via a computer program. We will refer to such computer programs as *rendering engines*.\n",
    "\n",
    "<img src=\"./images/render.png\" alt=\"\" width=\"400\"/>\n",
    "\n",
    "In a rendering engine, a 3D scene is defined by 4 basic ingredients:\n",
    "\n",
    "1. Objects (e.g., 3D shapes and surfaces)\n",
    "2. Optical material properties (how the surface of an object is supposed to reflect light; e.g., glass-like, diffuse, opaque, transparent, shiny, etc.)\n",
    "3. Lights\n",
    "4. Sensors or camera\n",
    "\n",
    "This course is obviously not about developing rendering engines -- [see the relevant courses](https://courses.yale.edu/?keyword=computer%20graphics) offered by the Department of Computer Science and numerous resources online. Instead, we will use existing rendering engines, embedding them within probabilistic models.\n",
    "\n",
    "To create a 3D scene and generate an image, you need to provide the rendering engine (`mitsuba` in our case) with each of the four ingredients described earlier (objects, optical material properties, lights, and sensors/cameras).\n",
    "\n",
    "## Mini introduction to Mitsuba3\n",
    "\n",
    "The field of computer graphics has developed many algorithms for realistic image synthesis. At the highest level, rendering engines can be categorized into:\n",
    "1. real-time renderers (rasterization renderers, etc.), or\n",
    "2. physically-based renderers (ray-traced renderers, etc.).\n",
    "\n",
    "`mitsuba` is a **physically-based renderer**. This means that it sends \"rays\" from the camera out into the scene and tracks where and how they intersect light sources. These rays are then integrated to figure out what color to paint on each pixel in an image. (Here's an informative [tutorial on ray tracing](https://youtu.be/gsZiJeaMO48). _This is not relevant material for PSYC 261._)\n",
    "\n",
    "<img src=\"./images/raytracing.png\" alt=\"\" width=\"400\"/>\n",
    "\n",
    "Like other rendering engines, we need to input a scene to `mitsuba` (lights, optical materials, objects, sensory). This can be done using XML or a Python dictionary. We provide examples of both below. \n",
    "\n",
    "In this course, we chose to work with mitsuba3 because it is open source software, and has some exciting attributes (many of which we will not get into in this lab), notably, differentiable rendering capabilities. Additionally, in ongoing research in Ilker's lab, `mitsuba` has proven to be dependable for its numerical stability and customizability for probabilistic inference. \n",
    "\n",
    "Please see the [tutorials](https://www.youtube.com/watch?v=9Ja9buZx0Cs&list=PLI9y-85z_Po6da-pyTNGTns2n4fhpbLe5) and [documentation](https://mitsuba.readthedocs.io/en/stable/) on Mitsuba3's [official website](https://www.mitsuba-renderer.org/) for more. \n",
    "\n",
    "**Notice that `mitsuba` is a Python package**; to use it we rely on the `PyCall` package of Julia, which provides a native interface to python code. You can familiarize yourself with PyCall [here](https://github.com/JuliaPy/PyCall.jl#usage)."
   ]
  },
  {
   "cell_type": "markdown",
   "id": "3892fca1-5563-488d-a192-a1aae333d59f",
   "metadata": {},
   "source": [
    "# Part 2: Using `mitsuba`\n",
    "\n",
    "## Getting started with `mitsuba`\n",
    "\n",
    "In this tutorial, we will learn about how to load a scene and render it. Mitsuba3 gives a lot of fun flexibility, especially in terms of rendering. \n",
    "\n",
    "Before we start, let's execute our very first command with mitsuba3."
   ]
  },
  {
   "cell_type": "code",
   "execution_count": 6,
   "id": "07d15c1c-f4c3-405f-9d57-e11f8be50056",
   "metadata": {},
   "outputs": [],
   "source": [
    "# import mitsuba and drjit (mitsuba's differentiation engine) using pycall\n",
    "dr = pyimport(\"drjit\")\n",
    "mi = pyimport(\"mitsuba\")\n",
    "\n",
    "# different rendering modes of mitsuba \n",
    "mi.variants()\n",
    "# we set llvm_ad_rgb which enables autodiff (ad)\n",
    "mi.set_variant(\"llvm_ad_rgb\")"
   ]
  },
  {
   "cell_type": "markdown",
   "id": "00a5ba72-7c31-40b4-92f8-56da50c8f481",
   "metadata": {},
   "source": [
    "Now the output of this function `mi.variants()` tells us that mitsuba3 can render a scene in 4 different modes. We will be using `llvm_ad_rgb` to access to gradients of rendering. "
   ]
  },
  {
   "cell_type": "markdown",
   "id": "b54ade4d-f615-4fd4-9dae-382e80e6d8b9",
   "metadata": {},
   "source": [
    "### Loading and rendering a scene (objects, lights, materials, sensors) in `mitsuba`\n",
    "\n",
    "Then, we will load a scene with two spheres in a room with differently colored walls. We will then render it.\n",
    "\n",
    "The scene description will be loaded from an xml file. Run this code and review its output to appreciate how it defines each of the four kinds of elements we are talking about: shapes, lights, optical materials (jargon name: BSDFs), and sensors.\n",
    "\n",
    "`OBJMesh` are the walls, `Sphere` is a shape; things like `SmoothDiffuse` are optical material properties; `emitter`s are lights; and `PerspectiveCamera` is the sensor. Notice how each entry has certain properties: For example an object needs to define where it is in the world (`to_world`) and its optical material property.\n",
    "\n",
    "You can also review the xml file itself, `cbox-generic.xml`, to further appreciate what goes into a scene."
   ]
  },
  {
   "cell_type": "code",
   "execution_count": 7,
   "id": "d4ebac51-6a81-42ad-9e3f-7445a3c07008",
   "metadata": {
    "scrolled": true
   },
   "outputs": [
    {
     "data": {
      "text/plain": [
       "PyObject Scene[\n",
       "  children = [\n",
       "    PRBIntegrator[max_depth = 6, rr_depth = 5],\n",
       "    PerspectiveCamera[\n",
       "      x_fov = [39.3077],\n",
       "      near_clip = 0.001,\n",
       "      far_clip = 100,\n",
       "      film = HDRFilm[\n",
       "        size = [64, 64],\n",
       "        crop_size = [64, 64],\n",
       "        crop_offset = [0, 0],\n",
       "        sample_border = 0,\n",
       "        compensate = 0,\n",
       "        filter = TentFilter[radius=1.000000],\n",
       "        file_format = OpenEXR,\n",
       "        pixel_format = rgb,\n",
       "        component_format = float32,\n",
       "      ],\n",
       "      sampler = IndependentSampler[\n",
       "        base_seed = 0\n",
       "        sample_count = 16\n",
       "        samples_per_wavefront = 1\n",
       "        wavefront_size = 0\n",
       "      ],\n",
       "      resolution = [64, 64],\n",
       "      shutter_open = 0,\n",
       "      shutter_open_time = 0,\n",
       "      to_world = [[-1, 0, 0, 0],\n",
       "                  [0, 1, 0, 0],\n",
       "                  [0, 0, -1, 4],\n",
       "                  [0, 0, 0, 1]]\n",
       "    ],\n",
       "    SmoothDiffuse[\n",
       "      reflectance = SRGBReflectanceSpectrum[\n",
       "        value = [[0.85, 0.85, 0.85]]\n",
       "      ]\n",
       "    ],\n",
       "    SmoothDiffuse[\n",
       "      reflectance = SRGBReflectanceSpectrum[\n",
       "        value = [[0.885809, 0.698859, 0.666422]]\n",
       "      ]\n",
       "    ],\n",
       "    SmoothDiffuse[\n",
       "      reflectance = SRGBReflectanceSpectrum[\n",
       "        value = [[0.105421, 0.37798, 0.076425]]\n",
       "      ]\n",
       "    ],\n",
       "    SmoothDiffuse[\n",
       "      reflectance = SRGBReflectanceSpectrum[\n",
       "        value = [[0.570068, 0.0430135, 0.0443706]]\n",
       "      ]\n",
       "    ],\n",
       "    TwoSided[\n",
       "      brdf[0] = SmoothDiffuse[\n",
       "        reflectance = SRGBReflectanceSpectrum[\n",
       "          value = [[0.725, 0.71, 0.68]]\n",
       "        ]\n",
       "      ],\n",
       "      brdf[1] = SmoothDiffuse[\n",
       "        reflectance = SRGBReflectanceSpectrum[\n",
       "          value = [[0.725, 0.71, 0.68]]\n",
       "        ]\n",
       "      ]\n",
       "    ],\n",
       "    TwoSided[\n",
       "      brdf[0] = SmoothDiffuse[\n",
       "        reflectance = SRGBReflectanceSpectrum[\n",
       "          value = [[0.725, 0.71, 0.68]]\n",
       "        ]\n",
       "      ],\n",
       "      brdf[1] = SmoothDiffuse[\n",
       "        reflectance = SRGBReflectanceSpectrum[\n",
       "          value = [[0.725, 0.71, 0.68]]\n",
       "        ]\n",
       "      ]\n",
       "    ],\n",
       "    Sphere[\n",
       "      to_world = [[0.5, 0, 0, -0.3],\n",
       "                  [0, 0.5, 0, -0.5],\n",
       "                  [0, 0, 0.5, 0.2],\n",
       "                  [0, 0, 0, 1]],\n",
       "      center = [-0.3, -0.5, 0.2],\n",
       "      radius = 0.5,\n",
       "      surface_area = [3.14159],\n",
       "      bsdf = TwoSided[\n",
       "        brdf[0] = SmoothDiffuse[\n",
       "          reflectance = SRGBReflectanceSpectrum[\n",
       "            value = [[0.725, 0.71, 0.68]]\n",
       "          ]\n",
       "        ],\n",
       "        brdf[1] = SmoothDiffuse[\n",
       "          reflectance = SRGBReflectanceSpectrum[\n",
       "            value = [[0.725, 0.71, 0.68]]\n",
       "          ]\n",
       "        ]\n",
       "      ]\n",
       "    ],\n",
       "    Sphere[\n",
       "      to_world = [[0.5, 0, 0, 0.5],\n",
       "                  [0, 0.5, 0, -0.75],\n",
       "                  [0, 0, 0.5, -0.2],\n",
       "                  [0, 0, 0, 1]],\n",
       "      center = [0.5, -0.75, -0.2],\n",
       "      radius = 0.5,\n",
       "      surface_area = [3.14159],\n",
       "      bsdf = TwoSided[\n",
       "        brdf[0] = SmoothDiffuse[\n",
       "          reflectance = SRGBReflectanceSpectrum[\n",
       "            value = [[0.725, 0.71, 0.68]]\n",
       "          ]\n",
       "        ],\n",
       "        brdf[1] = SmoothDiffuse[\n",
       "          reflectance = SRGBReflectanceSpectrum[\n",
       "            value = [[0.725, 0.71, 0.68]]\n",
       "          ]\n",
       "        ]\n",
       "      ]\n",
       "    ],\n",
       "    OBJMesh[\n",
       "      name = \"cbox_greenwall.obj\",\n",
       "      bbox = BoundingBox3f[\n",
       "        min = [-1, -1, -1],\n",
       "        max = [-1, 1, 1]\n",
       "      ],\n",
       "      vertex_count = 4,\n",
       "      vertices = [96 B of vertex data],\n",
       "      face_count = 2,\n",
       "      faces = [24 B of face data],\n",
       "      face_normals = 0\n",
       "    ],\n",
       "    Mesh[\n",
       "      name = \"cbox_floor.obj + cbox_ceiling.obj + cbox_back.obj\",\n",
       "      bbox = BoundingBox3f[\n",
       "        min = [-1, -1, -1],\n",
       "        max = [1, 1, 1]\n",
       "      ],\n",
       "      vertex_count = 12,\n",
       "      vertices = [288 B of vertex data],\n",
       "      face_count = 6,\n",
       "      faces = [72 B of face data],\n",
       "      face_normals = 0\n",
       "    ],\n",
       "    OBJMesh[\n",
       "      name = \"cbox_redwall.obj\",\n",
       "      bbox = BoundingBox3f[\n",
       "        min = [1, -1, -1],\n",
       "        max = [1, 1, 1]\n",
       "      ],\n",
       "      vertex_count = 4,\n",
       "      vertices = [96 B of vertex data],\n",
       "      face_count = 2,\n",
       "      faces = [24 B of face data],\n",
       "      face_normals = 0\n",
       "    ],\n",
       "    OBJMesh[\n",
       "      name = \"cbox_luminaire.obj\",\n",
       "      bbox = BoundingBox3f[\n",
       "        min = [-0.25, 0.99, -0.25],\n",
       "        max = [0.25, 0.99, 0.25]\n",
       "      ],\n",
       "      vertex_count = 4,\n",
       "      vertices = [96 B of vertex data],\n",
       "      face_count = 2,\n",
       "      faces = [24 B of face data],\n",
       "      surface_area = [0.25],\n",
       "      face_normals = 0\n",
       "    ]\n",
       "  ]\n",
       "]"
      ]
     },
     "execution_count": 7,
     "metadata": {},
     "output_type": "execute_result"
    }
   ],
   "source": [
    "scene = @pycall mi.load_file(\"./cbox_generic.xml\", res=64, integrator=\"prb\")::PyObject"
   ]
  },
  {
   "cell_type": "markdown",
   "id": "ffbd0a3b-e8aa-48a5-b4d7-1d67f68c0194",
   "metadata": {},
   "source": [
    "Below, we have four helper functions, implemented as Python code, to manipulate some aspects of a mitsuba data structure, called `params`. This data structure is dictionary-like, but PyCall's translator does not handle it well, so we'll keep the manipulation of `params` within Python. \n",
    "\n",
    "The function `update_scene` updates something in the scene (e.g., where an object is, or how big it is, etc.). This is done first updating the scene `params` and then calling `params.update()` to propagate those changes back into the scene itself.\n",
    "\n",
    "The function `update_scene_opt` updates the `params` and the scene based on the parameters that are being optimized. These parameters are stored in another dictionary called `opt`.\n",
    "\n",
    "The function `opt_clip` simply clips the values of the parameters in the `opt` to their allowed ranges.\n",
    "\n",
    "And finally the function `add_to_opt` adds a new parameter to the set of parameters to be optimized."
   ]
  },
  {
   "cell_type": "code",
   "execution_count": 8,
   "id": "e5d303e8-65b9-4d88-b568-333456c1c774",
   "metadata": {},
   "outputs": [],
   "source": [
    "py\"\"\"\n",
    "import mitsuba as mi\n",
    "import drjit as dr\n",
    "\n",
    "def update_scene(scene, key, val):\n",
    "    params = mi.traverse(scene)\n",
    "    params[key] = val\n",
    "    params.update()\n",
    "\n",
    "def update_scene_opt(params, key, opt, key2):\n",
    "    params[key] = mi.Transform4f().translate(mi.Vector3f(0.5, -0.75, -0.2)).scale(mi.Vector3f([opt[key2], opt[key2], opt[key2]]))\n",
    "    params.update()\n",
    "\n",
    "def opt_clip(opt, key):\n",
    "    opt[key] = dr.clip(opt[key], 0.01, 1.0)\n",
    "\n",
    "\n",
    "def add_to_opt(opt, val, key):\n",
    "    opt[key] = val\n",
    "\n",
    "\"\"\""
   ]
  },
  {
   "cell_type": "markdown",
   "id": "f37acfca-e26d-4139-b85e-bf8bd7d8cbc3",
   "metadata": {},
   "source": [
    "Recall that we mentioned `mitsuba` is a physically-based renderer that estimates the color of each pixel using ray tracing. Ray-tracing is a computationally costly operation and `mitsuba` allows you to make a tradeoff that suits your goals. \n",
    "\n",
    "The parameter `spp`, which stands for samples per pixel and is input to the `mi.render` function below, is essentially the number of rays cast to compute the color per pixel. The choice of spp reflects a tradeoff: The greater the `spp`, the higher the quality and realism of our render is, with the expense of higher computational cost. You can reduce `spp` to obtain lower quality renders, which is often acceptable, especially for characterizing an approximate process of rendering that may be implemented in the mind and brain. (Regardless, this will be handy when we are doing probabilistic inference later on.) "
   ]
  },
  {
   "cell_type": "code",
   "execution_count": 9,
   "id": "48486f93-c71e-49d0-9df5-d17d08d07efd",
   "metadata": {},
   "outputs": [
    {
     "data": {
      "text/html": [
       "<img src=\"data:image/jpeg;base64, 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\">"
      ],
      "text/plain": [
       "PyObject Bitmap[\n",
       "  pixel_format = rgb,\n",
       "  component_format = float32,\n",
       "  size = [64, 64],\n",
       "  srgb_gamma = 1,\n",
       "  struct = Struct<12>[\n",
       "    float32 R; // @0, gamma, premultiplied alpha\n",
       "    float32 G; // @4, gamma, premultiplied alpha\n",
       "    float32 B; // @8, gamma, premultiplied alpha\n",
       "  ],\n",
       "  data = [ 48 KiB of image data ]\n",
       "]"
      ]
     },
     "execution_count": 9,
     "metadata": {},
     "output_type": "execute_result"
    }
   ],
   "source": [
    "# set spp to 12 -- play with different values\n",
    "spp = 128\n",
    "\n",
    "# render the scene\n",
    "image_ref = @pycall mi.render(scene, spp=spp)::PyObject\n",
    "# get the bitmap, which Jupyter notebook displays inline!\n",
    "bitmap_ref = @pycall mi.Bitmap(image_ref).convert(srgb_gamma=true)::PyObject"
   ]
  },
  {
   "cell_type": "markdown",
   "id": "94fc0eb3-d5a6-4acd-b9d0-54e60cc7131f",
   "metadata": {},
   "source": [
    "Wow! How cool is that?! You just rendered a nice scene with umm spheres in it. Yay for you! "
   ]
  },
  {
   "cell_type": "markdown",
   "id": "a7999828-d966-42d9-bc2e-a14099f33cd2",
   "metadata": {},
   "source": [
    "### Transformations of scene elements using `mitsuba`\n",
    "\n",
    "Now a critical component of computer graphics is to manipulate the scene -- including adding, deleting, changing, moving (translating) and scaling the things in a scene. Here we will learn how we can translate and scale one of the cuboids in the scene. \n",
    "\n",
    "We will transform the sphere on the right -- `right-object` -- using by updating the scene parameters stored in `params`. (Notice that this is less painful than the lab 5 approach.)"
   ]
  },
  {
   "cell_type": "code",
   "execution_count": 10,
   "id": "81563dd2-7ca1-4c6d-bc89-a12a1084e78f",
   "metadata": {},
   "outputs": [],
   "source": [
    "key = \"right-object.to_world\"\n",
    "# create a new transformation\n",
    "translation = [0.5, -0.75, 0.7]\n",
    "scale = 0.1 \n",
    "transform = mi.Transform4f.translate(translation).scale(scale)\n",
    "py\"update_scene\"(scene, key, transform)"
   ]
  },
  {
   "cell_type": "markdown",
   "id": "5428afd4-5eca-45de-a1c4-a8a57a626bdd",
   "metadata": {},
   "source": [
    "We kept its original translation \n",
    "\n",
    "Translation: `[0.5, -0.75, -0.2]`\n",
    "\n",
    "but changed its scale from .5 to .1."
   ]
  },
  {
   "cell_type": "markdown",
   "id": "68b3e13a-ec1c-46f8-94ed-98cff80ee0c1",
   "metadata": {},
   "source": [
    "Now let's reload this updated dictionary into our scene and render it."
   ]
  },
  {
   "cell_type": "code",
   "execution_count": 11,
   "id": "810826f7-188e-4dcb-8cbf-2f2f296d2f44",
   "metadata": {
    "scrolled": true
   },
   "outputs": [
    {
     "data": {
      "text/html": [
       "<img src=\"data:image/jpeg;base64, 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\">"
      ],
      "text/plain": [
       "PyObject Bitmap[\n",
       "  pixel_format = rgb,\n",
       "  component_format = uint8,\n",
       "  size = [64, 64],\n",
       "  srgb_gamma = 1,\n",
       "  struct = Struct<3>[\n",
       "    uint8 R; // @0, normalized, gamma, premultiplied alpha\n",
       "    uint8 G; // @1, normalized, gamma, premultiplied alpha\n",
       "    uint8 B; // @2, normalized, gamma, premultiplied alpha\n",
       "  ],\n",
       "  data = [ 12 KiB of image data ]\n",
       "]"
      ]
     },
     "execution_count": 11,
     "metadata": {},
     "output_type": "execute_result"
    }
   ],
   "source": [
    "image = @pycall mi.render(scene, spp=spp)::PyObject\n",
    "# get the bitmap, which Jupyter notebook displays inline!\n",
    "bitmap = @pycall mi.util.convert_to_bitmap(image)::PyObject"
   ]
  },
  {
   "cell_type": "markdown",
   "id": "e3854443-b948-4814-96b1-d9b588436052",
   "metadata": {},
   "source": [
    "Notice how the right object became smaller than it was before and came closer to the sensor."
   ]
  },
  {
   "cell_type": "markdown",
   "id": "d6ef6624-39d2-44f5-bf07-bf75ca67643b",
   "metadata": {},
   "source": [
    "Okay now let's do some *inverse* graphics."
   ]
  },
  {
   "cell_type": "markdown",
   "id": "170af268-4b85-4ead-9578-f91355704c2e",
   "metadata": {},
   "source": [
    "# Part 3: Inverse graphics & modeling\n",
    "\n",
    "## Inverse graphics"
   ]
  },
  {
   "cell_type": "markdown",
   "id": "1396d743-b53c-435f-826b-7b7f66fb5222",
   "metadata": {},
   "source": [
    "We start by writing a Julia struct to hold the state of the scene -- including the scene and the `spp`."
   ]
  },
  {
   "cell_type": "code",
   "execution_count": 12,
   "id": "25fb0aa4-2416-4461-8e62-5c3ebe92a3cd",
   "metadata": {},
   "outputs": [],
   "source": [
    "# the with_kw macro comes from the Parameters package \n",
    "# and is a handy macro for having default values to certain entries in a Julia struct.\n",
    "@with_kw struct ModelParams\n",
    "    scene = @pycall mi.load_file(\"./cbox_generic.xml\", res=64, integrator=\"prb\")::PyObject\n",
    "    spp::Int32 = 16\n",
    "end;"
   ]
  },
  {
   "cell_type": "markdown",
   "id": "54a549fa-082b-4bf8-ac90-ce7a8a22a385",
   "metadata": {},
   "source": [
    "We will also define a helper function for rendering a bitmap image (that can be visualized within jupyter notebooks)"
   ]
  },
  {
   "cell_type": "code",
   "execution_count": 13,
   "id": "3e9ecf4e-40b8-4280-a9e0-fc0878aaf3a5",
   "metadata": {},
   "outputs": [],
   "source": [
    "function render_bitmap(modelparams)\n",
    "    image = @pycall mi.render(modelparams.scene, spp=modelparams.spp)::PyObject\n",
    "    bitmap = @pycall mi.util.convert_to_bitmap(image)::PyObject\n",
    "    return bitmap\n",
    "end\n",
    ";"
   ]
  },
  {
   "cell_type": "markdown",
   "id": "d072ba00-8d7b-43a0-9819-0918855d3fc1",
   "metadata": {},
   "source": [
    "### Optimization routine\n",
    "\n",
    "The following code implements an optimization routine for the scale of the right object, by defining a latent variable `s` and optimizing it in the loop.\n",
    "\n",
    "The call `dr.backward(loss)` evaluates and backpropagates all the relevant gradients we discussed, \n",
    "\n",
    "- the gradient of the likelihood wrt the synthesized image\n",
    "- the gradient of the synthesized image wrt latents\n",
    "\n",
    "Thus, we have a gradient descent routine for optimizing the latent scale parameter of the right object. \n",
    "\n",
    "Notice that we're optimizing under a rougher, noisier spp"
   ]
  },
  {
   "cell_type": "code",
   "execution_count": 14,
   "id": "190bf575-35e8-410c-ae47-18380f57dab6",
   "metadata": {},
   "outputs": [
    {
     "name": "stderr",
     "output_type": "stream",
     "text": [
      "\u001b[32mProgress: 100%|█████████████████████████████████████████| Time: 0:00:21\u001b[39m\n"
     ]
    }
   ],
   "source": [
    "modelparams = ModelParams()\n",
    "params = mi.traverse(modelparams.scene)\n",
    "key = \"right-object.to_world\"\n",
    "\n",
    "opt = mi.ad.Adam(lr=0.01)\n",
    "#t = mi.Vector3f(0, 0, 0)\n",
    "#py\"add_to_opt\"(opt, t, \"translation\")\n",
    "s = mi.Float64(.3)\n",
    "\n",
    "py\"add_to_opt\"(opt, s, \"scale\")\n",
    "py\"update_scene_opt\"(params, key, opt, \"scale\")\n",
    "\n",
    "K = 100\n",
    "    \n",
    "scores = Vector{Float64}(undef, K)\n",
    "@showprogress for i in 1:K\n",
    "\n",
    "    image = mi.render(modelparams.scene, params, spp=16)\n",
    "\n",
    "    loss = dr.mean(dr.square(image - image_ref))\n",
    "    \n",
    "    dr.backward(loss)\n",
    "\n",
    "    opt.step() \n",
    "    py\"opt_clip\"(opt, \"scale\")\n",
    "    \n",
    "    py\"update_scene_opt\"(params, key, opt, \"scale\")\n",
    "    \n",
    "    scores[i] = convert(Float64, dr.slice(loss).item())\n",
    "end;\n"
   ]
  },
  {
   "cell_type": "markdown",
   "id": "072a472f-94dd-4567-a47f-04d123fe55ad",
   "metadata": {},
   "source": [
    "Now, how do I know if my inference procedure worked? \n",
    "\n",
    "Let's first visualize to see if our log likelihood scores improved over iterations (x-axis: iterations; y-axis: log scores)."
   ]
  },
  {
   "cell_type": "code",
   "execution_count": 24,
   "id": "8b5dd7af-0575-49c9-92a7-d8f28281890f",
   "metadata": {
    "scrolled": true
   },
   "outputs": [
    {
     "data": {
      "image/png": "[encoded data removed]",
      "image/svg+xml": [
       "<?xml version=\"1.0\" encoding=\"utf-8\"?>\n",
       "<svg xmlns=\"http://www.w3.org/2000/svg\" xmlns:xlink=\"http://www.w3.org/1999/xlink\" width=\"1000\" height=\"200\" viewBox=\"0 0 4000 800\">\n",
       "<defs>\n",
       "  <clipPath id=\"clip230\">\n",
       "    <rect x=\"0\" y=\"0\" width=\"4000\" height=\"800\"/>\n",
       "  </clipPath>\n",
       "</defs>\n",
       "<path clip-path=\"url(#clip230)\" d=\"M0 800 L4000 800 L4000 0 L0 0  Z\" fill=\"#ffffff\" fill-rule=\"evenodd\" fill-opacity=\"1\"/>\n",
       "<defs>\n",
       "  <clipPath id=\"clip231\">\n",
       "    <rect x=\"800\" y=\"0\" width=\"2801\" height=\"800\"/>\n",
       "  </clipPath>\n",
       "</defs>\n",
       "<path clip-path=\"url(#clip230)\" d=\"M232.922 718.64 L3952.76 718.64 L3952.76 47.2441 L232.922 47.2441  Z\" fill=\"#ffffff\" fill-rule=\"evenodd\" fill-opacity=\"1\"/>\n",
       "<defs>\n",
       "  <clipPath id=\"clip232\">\n",
       "    <rect x=\"232\" y=\"47\" width=\"3721\" height=\"672\"/>\n",
       "  </clipPath>\n",
       "</defs>\n",
       "<polyline clip-path=\"url(#clip232)\" style=\"stroke:#000000; stroke-linecap:round; stroke-linejoin:round; stroke-width:2; stroke-opacity:0.1; fill:none\" points=\"266.582,718.64 266.582,47.2441 \"/>\n",
       "<polyline clip-path=\"url(#clip232)\" style=\"stroke:#000000; stroke-linecap:round; stroke-linejoin:round; stroke-width:2; stroke-opacity:0.1; fill:none\" points=\"982.761,718.64 982.761,47.2441 \"/>\n",
       "<polyline clip-path=\"url(#clip232)\" style=\"stroke:#000000; stroke-linecap:round; stroke-linejoin:round; stroke-width:2; stroke-opacity:0.1; fill:none\" points=\"1698.94,718.64 1698.94,47.2441 \"/>\n",
       "<polyline clip-path=\"url(#clip232)\" style=\"stroke:#000000; stroke-linecap:round; stroke-linejoin:round; stroke-width:2; stroke-opacity:0.1; fill:none\" points=\"2415.12,718.64 2415.12,47.2441 \"/>\n",
       "<polyline clip-path=\"url(#clip232)\" style=\"stroke:#000000; stroke-linecap:round; stroke-linejoin:round; stroke-width:2; stroke-opacity:0.1; fill:none\" points=\"3131.3,718.64 3131.3,47.2441 \"/>\n",
       "<polyline clip-path=\"url(#clip232)\" style=\"stroke:#000000; stroke-linecap:round; stroke-linejoin:round; stroke-width:2; stroke-opacity:0.1; fill:none\" points=\"3847.48,718.64 3847.48,47.2441 \"/>\n",
       "<polyline clip-path=\"url(#clip230)\" style=\"stroke:#000000; stroke-linecap:round; stroke-linejoin:round; stroke-width:4; stroke-opacity:1; fill:none\" points=\"232.922,718.64 3952.76,718.64 \"/>\n",
       "<polyline clip-path=\"url(#clip230)\" style=\"stroke:#000000; stroke-linecap:round; stroke-linejoin:round; stroke-width:4; stroke-opacity:1; fill:none\" points=\"266.582,718.64 266.582,699.742 \"/>\n",
       "<polyline clip-path=\"url(#clip230)\" style=\"stroke:#000000; stroke-linecap:round; stroke-linejoin:round; stroke-width:4; stroke-opacity:1; fill:none\" points=\"982.761,718.64 982.761,699.742 \"/>\n",
       "<polyline clip-path=\"url(#clip230)\" style=\"stroke:#000000; stroke-linecap:round; stroke-linejoin:round; stroke-width:4; stroke-opacity:1; fill:none\" points=\"1698.94,718.64 1698.94,699.742 \"/>\n",
       "<polyline clip-path=\"url(#clip230)\" style=\"stroke:#000000; stroke-linecap:round; stroke-linejoin:round; stroke-width:4; stroke-opacity:1; fill:none\" points=\"2415.12,718.64 2415.12,699.742 \"/>\n",
       "<polyline clip-path=\"url(#clip230)\" style=\"stroke:#000000; stroke-linecap:round; stroke-linejoin:round; stroke-width:4; stroke-opacity:1; fill:none\" points=\"3131.3,718.64 3131.3,699.742 \"/>\n",
       "<polyline clip-path=\"url(#clip230)\" style=\"stroke:#000000; stroke-linecap:round; stroke-linejoin:round; stroke-width:4; stroke-opacity:1; fill:none\" points=\"3847.48,718.64 3847.48,699.742 \"/>\n",
       "<path clip-path=\"url(#clip230)\" d=\"M266.582 762.359 Q262.971 762.359 261.143 765.923 Q259.337 769.465 259.337 776.595 Q259.337 783.701 261.143 787.266 Q262.971 790.807 266.582 790.807 Q270.217 790.807 272.022 787.266 Q273.851 783.701 273.851 776.595 Q273.851 769.465 272.022 765.923 Q270.217 762.359 266.582 762.359 M266.582 758.655 Q272.393 758.655 275.448 763.261 Q278.527 767.845 278.527 776.595 Q278.527 785.321 275.448 789.928 Q272.393 794.511 266.582 794.511 Q260.772 794.511 257.694 789.928 Q254.638 785.321 254.638 776.595 Q254.638 767.845 257.694 763.261 Q260.772 758.655 266.582 758.655 Z\" fill=\"#000000\" fill-rule=\"nonzero\" fill-opacity=\"1\" /><path clip-path=\"url(#clip230)\" d=\"M957.449 789.905 L965.088 789.905 L965.088 763.539 L956.778 765.206 L956.778 760.947 L965.042 759.28 L969.718 759.28 L969.718 789.905 L977.356 789.905 L977.356 793.84 L957.449 793.84 L957.449 789.905 Z\" fill=\"#000000\" fill-rule=\"nonzero\" fill-opacity=\"1\" /><path clip-path=\"url(#clip230)\" d=\"M996.801 762.359 Q993.19 762.359 991.361 765.923 Q989.555 769.465 989.555 776.595 Q989.555 783.701 991.361 787.266 Q993.19 790.807 996.801 790.807 Q1000.43 790.807 1002.24 787.266 Q1004.07 783.701 1004.07 776.595 Q1004.07 769.465 1002.24 765.923 Q1000.43 762.359 996.801 762.359 M996.801 758.655 Q1002.61 758.655 1005.67 763.261 Q1008.75 767.845 1008.75 776.595 Q1008.75 785.321 1005.67 789.928 Q1002.61 794.511 996.801 794.511 Q990.991 794.511 987.912 789.928 Q984.856 785.321 984.856 776.595 Q984.856 767.845 987.912 763.261 Q990.991 758.655 996.801 758.655 Z\" fill=\"#000000\" fill-rule=\"nonzero\" fill-opacity=\"1\" /><path clip-path=\"url(#clip230)\" d=\"M1677.71 789.905 L1694.03 789.905 L1694.03 793.84 L1672.09 793.84 L1672.09 789.905 Q1674.75 787.15 1679.33 782.52 Q1683.94 777.868 1685.12 776.525 Q1687.37 774.002 1688.25 772.266 Q1689.15 770.507 1689.15 768.817 Q1689.15 766.062 1687.2 764.326 Q1685.28 762.59 1682.18 762.59 Q1679.98 762.59 1677.53 763.354 Q1675.1 764.118 1672.32 765.669 L1672.32 760.947 Q1675.14 759.812 1677.6 759.234 Q1680.05 758.655 1682.09 758.655 Q1687.46 758.655 1690.65 761.34 Q1693.85 764.025 1693.85 768.516 Q1693.85 770.646 1693.04 772.567 Q1692.25 774.465 1690.14 777.058 Q1689.57 777.729 1686.46 780.946 Q1683.36 784.141 1677.71 789.905 Z\" fill=\"#000000\" fill-rule=\"nonzero\" fill-opacity=\"1\" /><path clip-path=\"url(#clip230)\" d=\"M1713.85 762.359 Q1710.24 762.359 1708.41 765.923 Q1706.6 769.465 1706.6 776.595 Q1706.6 783.701 1708.41 787.266 Q1710.24 790.807 1713.85 790.807 Q1717.48 790.807 1719.29 787.266 Q1721.12 783.701 1721.12 776.595 Q1721.12 769.465 1719.29 765.923 Q1717.48 762.359 1713.85 762.359 M1713.85 758.655 Q1719.66 758.655 1722.71 763.261 Q1725.79 767.845 1725.79 776.595 Q1725.79 785.321 1722.71 789.928 Q1719.66 794.511 1713.85 794.511 Q1708.04 794.511 1704.96 789.928 Q1701.9 785.321 1701.9 776.595 Q1701.9 767.845 1704.96 763.261 Q1708.04 758.655 1713.85 758.655 Z\" fill=\"#000000\" fill-rule=\"nonzero\" fill-opacity=\"1\" /><path clip-path=\"url(#clip230)\" d=\"M2403.96 775.206 Q2407.32 775.923 2409.19 778.192 Q2411.09 780.46 2411.09 783.794 Q2411.09 788.909 2407.57 791.71 Q2404.05 794.511 2397.57 794.511 Q2395.4 794.511 2393.08 794.071 Q2390.79 793.655 2388.34 792.798 L2388.34 788.284 Q2390.28 789.419 2392.6 789.997 Q2394.91 790.576 2397.43 790.576 Q2401.83 790.576 2404.12 788.84 Q2406.44 787.104 2406.44 783.794 Q2406.44 780.738 2404.29 779.025 Q2402.16 777.289 2398.34 777.289 L2394.31 777.289 L2394.31 773.446 L2398.52 773.446 Q2401.97 773.446 2403.8 772.081 Q2405.63 770.692 2405.63 768.099 Q2405.63 765.437 2403.73 764.025 Q2401.86 762.59 2398.34 762.59 Q2396.42 762.59 2394.22 763.007 Q2392.02 763.423 2389.38 764.303 L2389.38 760.136 Q2392.04 759.396 2394.36 759.025 Q2396.69 758.655 2398.75 758.655 Q2404.08 758.655 2407.18 761.085 Q2410.28 763.493 2410.28 767.613 Q2410.28 770.484 2408.64 772.474 Q2406.99 774.442 2403.96 775.206 Z\" fill=\"#000000\" fill-rule=\"nonzero\" fill-opacity=\"1\" /><path clip-path=\"url(#clip230)\" d=\"M2429.96 762.359 Q2426.35 762.359 2424.52 765.923 Q2422.71 769.465 2422.71 776.595 Q2422.71 783.701 2424.52 787.266 Q2426.35 790.807 2429.96 790.807 Q2433.59 790.807 2435.4 787.266 Q2437.23 783.701 2437.23 776.595 Q2437.23 769.465 2435.4 765.923 Q2433.59 762.359 2429.96 762.359 M2429.96 758.655 Q2435.77 758.655 2438.82 763.261 Q2441.9 767.845 2441.9 776.595 Q2441.9 785.321 2438.82 789.928 Q2435.77 794.511 2429.96 794.511 Q2424.15 794.511 2421.07 789.928 Q2418.01 785.321 2418.01 776.595 Q2418.01 767.845 2421.07 763.261 Q2424.15 758.655 2429.96 758.655 Z\" fill=\"#000000\" fill-rule=\"nonzero\" fill-opacity=\"1\" /><path clip-path=\"url(#clip230)\" d=\"M3119.47 763.354 L3107.66 781.803 L3119.47 781.803 L3119.47 763.354 M3118.24 759.28 L3124.12 759.28 L3124.12 781.803 L3129.05 781.803 L3129.05 785.692 L3124.12 785.692 L3124.12 793.84 L3119.47 793.84 L3119.47 785.692 L3103.87 785.692 L3103.87 781.178 L3118.24 759.28 Z\" fill=\"#000000\" fill-rule=\"nonzero\" fill-opacity=\"1\" /><path clip-path=\"url(#clip230)\" d=\"M3146.78 762.359 Q3143.17 762.359 3141.34 765.923 Q3139.54 769.465 3139.54 776.595 Q3139.54 783.701 3141.34 787.266 Q3143.17 790.807 3146.78 790.807 Q3150.42 790.807 3152.22 787.266 Q3154.05 783.701 3154.05 776.595 Q3154.05 769.465 3152.22 765.923 Q3150.42 762.359 3146.78 762.359 M3146.78 758.655 Q3152.59 758.655 3155.65 763.261 Q3158.73 767.845 3158.73 776.595 Q3158.73 785.321 3155.65 789.928 Q3152.59 794.511 3146.78 794.511 Q3140.97 794.511 3137.9 789.928 Q3134.84 785.321 3134.84 776.595 Q3134.84 767.845 3137.9 763.261 Q3140.97 758.655 3146.78 758.655 Z\" fill=\"#000000\" fill-rule=\"nonzero\" fill-opacity=\"1\" /><path clip-path=\"url(#clip230)\" d=\"M3822.18 759.28 L3840.53 759.28 L3840.53 763.215 L3826.46 763.215 L3826.46 771.687 Q3827.48 771.34 3828.5 771.178 Q3829.51 770.993 3830.53 770.993 Q3836.32 770.993 3839.7 774.164 Q3843.08 777.335 3843.08 782.752 Q3843.08 788.331 3839.61 791.432 Q3836.14 794.511 3829.82 794.511 Q3827.64 794.511 3825.37 794.141 Q3823.13 793.77 3820.72 793.03 L3820.72 788.331 Q3822.8 789.465 3825.02 790.02 Q3827.25 790.576 3829.72 790.576 Q3833.73 790.576 3836.07 788.47 Q3838.4 786.363 3838.4 782.752 Q3838.4 779.141 3836.07 777.034 Q3833.73 774.928 3829.72 774.928 Q3827.85 774.928 3825.97 775.345 Q3824.12 775.761 3822.18 776.641 L3822.18 759.28 Z\" fill=\"#000000\" fill-rule=\"nonzero\" fill-opacity=\"1\" /><path clip-path=\"url(#clip230)\" d=\"M3862.29 762.359 Q3858.68 762.359 3856.85 765.923 Q3855.05 769.465 3855.05 776.595 Q3855.05 783.701 3856.85 787.266 Q3858.68 790.807 3862.29 790.807 Q3865.93 790.807 3867.73 787.266 Q3869.56 783.701 3869.56 776.595 Q3869.56 769.465 3867.73 765.923 Q3865.93 762.359 3862.29 762.359 M3862.29 758.655 Q3868.1 758.655 3871.16 763.261 Q3874.24 767.845 3874.24 776.595 Q3874.24 785.321 3871.16 789.928 Q3868.1 794.511 3862.29 794.511 Q3856.48 794.511 3853.4 789.928 Q3850.35 785.321 3850.35 776.595 Q3850.35 767.845 3853.4 763.261 Q3856.48 758.655 3862.29 758.655 Z\" fill=\"#000000\" fill-rule=\"nonzero\" fill-opacity=\"1\" /><polyline clip-path=\"url(#clip232)\" style=\"stroke:#000000; stroke-linecap:round; stroke-linejoin:round; stroke-width:2; stroke-opacity:0.1; fill:none\" points=\"232.922,705.28 3952.76,705.28 \"/>\n",
       "<polyline clip-path=\"url(#clip232)\" style=\"stroke:#000000; stroke-linecap:round; stroke-linejoin:round; stroke-width:2; stroke-opacity:0.1; fill:none\" points=\"232.922,596.641 3952.76,596.641 \"/>\n",
       "<polyline clip-path=\"url(#clip232)\" style=\"stroke:#000000; stroke-linecap:round; stroke-linejoin:round; stroke-width:2; stroke-opacity:0.1; fill:none\" points=\"232.922,488.001 3952.76,488.001 \"/>\n",
       "<polyline clip-path=\"url(#clip232)\" style=\"stroke:#000000; stroke-linecap:round; stroke-linejoin:round; stroke-width:2; stroke-opacity:0.1; fill:none\" points=\"232.922,379.362 3952.76,379.362 \"/>\n",
       "<polyline clip-path=\"url(#clip232)\" style=\"stroke:#000000; stroke-linecap:round; stroke-linejoin:round; stroke-width:2; stroke-opacity:0.1; fill:none\" points=\"232.922,270.723 3952.76,270.723 \"/>\n",
       "<polyline clip-path=\"url(#clip232)\" style=\"stroke:#000000; stroke-linecap:round; stroke-linejoin:round; stroke-width:2; stroke-opacity:0.1; fill:none\" points=\"232.922,162.083 3952.76,162.083 \"/>\n",
       "<polyline clip-path=\"url(#clip232)\" style=\"stroke:#000000; stroke-linecap:round; stroke-linejoin:round; stroke-width:2; stroke-opacity:0.1; fill:none\" points=\"232.922,53.4441 3952.76,53.4441 \"/>\n",
       "<polyline clip-path=\"url(#clip230)\" style=\"stroke:#000000; stroke-linecap:round; stroke-linejoin:round; stroke-width:4; stroke-opacity:1; fill:none\" points=\"232.922,718.64 232.922,47.2441 \"/>\n",
       "<polyline clip-path=\"url(#clip230)\" style=\"stroke:#000000; stroke-linecap:round; stroke-linejoin:round; stroke-width:4; stroke-opacity:1; fill:none\" points=\"232.922,705.28 251.82,705.28 \"/>\n",
       "<polyline clip-path=\"url(#clip230)\" style=\"stroke:#000000; stroke-linecap:round; stroke-linejoin:round; stroke-width:4; stroke-opacity:1; fill:none\" points=\"232.922,596.641 251.82,596.641 \"/>\n",
       "<polyline clip-path=\"url(#clip230)\" style=\"stroke:#000000; stroke-linecap:round; stroke-linejoin:round; stroke-width:4; stroke-opacity:1; fill:none\" points=\"232.922,488.001 251.82,488.001 \"/>\n",
       "<polyline clip-path=\"url(#clip230)\" style=\"stroke:#000000; stroke-linecap:round; stroke-linejoin:round; stroke-width:4; stroke-opacity:1; fill:none\" points=\"232.922,379.362 251.82,379.362 \"/>\n",
       "<polyline clip-path=\"url(#clip230)\" style=\"stroke:#000000; stroke-linecap:round; stroke-linejoin:round; stroke-width:4; stroke-opacity:1; fill:none\" points=\"232.922,270.723 251.82,270.723 \"/>\n",
       "<polyline clip-path=\"url(#clip230)\" style=\"stroke:#000000; stroke-linecap:round; stroke-linejoin:round; stroke-width:4; stroke-opacity:1; fill:none\" points=\"232.922,162.083 251.82,162.083 \"/>\n",
       "<polyline clip-path=\"url(#clip230)\" style=\"stroke:#000000; stroke-linecap:round; stroke-linejoin:round; stroke-width:4; stroke-opacity:1; fill:none\" points=\"232.922,53.4441 251.82,53.4441 \"/>\n",
       "<path clip-path=\"url(#clip230)\" d=\"M54.9365 691.079 Q51.3254 691.079 49.4967 694.643 Q47.6912 698.185 47.6912 705.315 Q47.6912 712.421 49.4967 715.986 Q51.3254 719.527 54.9365 719.527 Q58.5707 719.527 60.3763 715.986 Q62.205 712.421 62.205 705.315 Q62.205 698.185 60.3763 694.643 Q58.5707 691.079 54.9365 691.079 M54.9365 687.375 Q60.7467 687.375 63.8022 691.981 Q66.8809 696.565 66.8809 705.315 Q66.8809 714.041 63.8022 718.648 Q60.7467 723.231 54.9365 723.231 Q49.1264 723.231 46.0477 718.648 Q42.9921 714.041 42.9921 705.315 Q42.9921 696.565 46.0477 691.981 Q49.1264 687.375 54.9365 687.375 Z\" fill=\"#000000\" fill-rule=\"nonzero\" fill-opacity=\"1\" /><path clip-path=\"url(#clip230)\" d=\"M75.0984 716.68 L79.9827 716.68 L79.9827 722.56 L75.0984 722.56 L75.0984 716.68 Z\" fill=\"#000000\" fill-rule=\"nonzero\" fill-opacity=\"1\" /><path clip-path=\"url(#clip230)\" d=\"M100.168 691.079 Q96.5567 691.079 94.728 694.643 Q92.9224 698.185 92.9224 705.315 Q92.9224 712.421 94.728 715.986 Q96.5567 719.527 100.168 719.527 Q103.802 719.527 105.608 715.986 Q107.436 712.421 107.436 705.315 Q107.436 698.185 105.608 694.643 Q103.802 691.079 100.168 691.079 M100.168 687.375 Q105.978 687.375 109.033 691.981 Q112.112 696.565 112.112 705.315 Q112.112 714.041 109.033 718.648 Q105.978 723.231 100.168 723.231 Q94.3576 723.231 91.2789 718.648 Q88.2234 714.041 88.2234 705.315 Q88.2234 696.565 91.2789 691.981 Q94.3576 687.375 100.168 687.375 Z\" fill=\"#000000\" fill-rule=\"nonzero\" fill-opacity=\"1\" /><path clip-path=\"url(#clip230)\" d=\"M121.14 718.625 L128.779 718.625 L128.779 692.259 L120.469 693.926 L120.469 689.667 L128.732 688 L133.408 688 L133.408 718.625 L141.047 718.625 L141.047 722.56 L121.14 722.56 L121.14 718.625 Z\" fill=\"#000000\" fill-rule=\"nonzero\" fill-opacity=\"1\" /><path clip-path=\"url(#clip230)\" d=\"M163.339 692.074 L151.533 710.523 L163.339 710.523 L163.339 692.074 M162.112 688 L167.991 688 L167.991 710.523 L172.922 710.523 L172.922 714.412 L167.991 714.412 L167.991 722.56 L163.339 722.56 L163.339 714.412 L147.737 714.412 L147.737 709.898 L162.112 688 Z\" fill=\"#000000\" fill-rule=\"nonzero\" fill-opacity=\"1\" /><path clip-path=\"url(#clip230)\" d=\"M56.418 582.439 Q52.8069 582.439 50.9782 586.004 Q49.1726 589.546 49.1726 596.675 Q49.1726 603.782 50.9782 607.347 Q52.8069 610.888 56.418 610.888 Q60.0522 610.888 61.8578 607.347 Q63.6865 603.782 63.6865 596.675 Q63.6865 589.546 61.8578 586.004 Q60.0522 582.439 56.418 582.439 M56.418 578.736 Q62.2281 578.736 65.2837 583.342 Q68.3624 587.925 68.3624 596.675 Q68.3624 605.402 65.2837 610.009 Q62.2281 614.592 56.418 614.592 Q50.6078 614.592 47.5291 610.009 Q44.4736 605.402 44.4736 596.675 Q44.4736 587.925 47.5291 583.342 Q50.6078 578.736 56.418 578.736 Z\" fill=\"#000000\" fill-rule=\"nonzero\" fill-opacity=\"1\" /><path clip-path=\"url(#clip230)\" d=\"M76.5799 608.041 L81.4641 608.041 L81.4641 613.921 L76.5799 613.921 L76.5799 608.041 Z\" fill=\"#000000\" fill-rule=\"nonzero\" fill-opacity=\"1\" /><path clip-path=\"url(#clip230)\" d=\"M101.649 582.439 Q98.0381 582.439 96.2094 586.004 Q94.4039 589.546 94.4039 596.675 Q94.4039 603.782 96.2094 607.347 Q98.0381 610.888 101.649 610.888 Q105.283 610.888 107.089 607.347 Q108.918 603.782 108.918 596.675 Q108.918 589.546 107.089 586.004 Q105.283 582.439 101.649 582.439 M101.649 578.736 Q107.459 578.736 110.515 583.342 Q113.594 587.925 113.594 596.675 Q113.594 605.402 110.515 610.009 Q107.459 614.592 101.649 614.592 Q95.8391 614.592 92.7604 610.009 Q89.7048 605.402 89.7048 596.675 Q89.7048 587.925 92.7604 583.342 Q95.8391 578.736 101.649 578.736 Z\" fill=\"#000000\" fill-rule=\"nonzero\" fill-opacity=\"1\" /><path clip-path=\"url(#clip230)\" d=\"M122.621 609.985 L130.26 609.985 L130.26 583.62 L121.95 585.286 L121.95 581.027 L130.214 579.361 L134.89 579.361 L134.89 609.985 L142.529 609.985 L142.529 613.921 L122.621 613.921 L122.621 609.985 Z\" fill=\"#000000\" fill-rule=\"nonzero\" fill-opacity=\"1\" /><path clip-path=\"url(#clip230)\" d=\"M152.019 579.361 L170.376 579.361 L170.376 583.296 L156.302 583.296 L156.302 591.768 Q157.32 591.421 158.339 591.259 Q159.357 591.073 160.376 591.073 Q166.163 591.073 169.542 594.245 Q172.922 597.416 172.922 602.833 Q172.922 608.411 169.45 611.513 Q165.978 614.592 159.658 614.592 Q157.482 614.592 155.214 614.221 Q152.968 613.851 150.561 613.11 L150.561 608.411 Q152.644 609.546 154.867 610.101 Q157.089 610.657 159.566 610.657 Q163.57 610.657 165.908 608.55 Q168.246 606.444 168.246 602.833 Q168.246 599.222 165.908 597.115 Q163.57 595.009 159.566 595.009 Q157.691 595.009 155.816 595.425 Q153.964 595.842 152.019 596.722 L152.019 579.361 Z\" fill=\"#000000\" fill-rule=\"nonzero\" fill-opacity=\"1\" /><path clip-path=\"url(#clip230)\" d=\"M55.2606 473.8 Q51.6495 473.8 49.8208 477.365 Q48.0152 480.906 48.0152 488.036 Q48.0152 495.142 49.8208 498.707 Q51.6495 502.249 55.2606 502.249 Q58.8948 502.249 60.7004 498.707 Q62.5291 495.142 62.5291 488.036 Q62.5291 480.906 60.7004 477.365 Q58.8948 473.8 55.2606 473.8 M55.2606 470.096 Q61.0707 470.096 64.1263 474.703 Q67.205 479.286 67.205 488.036 Q67.205 496.763 64.1263 501.369 Q61.0707 505.953 55.2606 505.953 Q49.4504 505.953 46.3717 501.369 Q43.3162 496.763 43.3162 488.036 Q43.3162 479.286 46.3717 474.703 Q49.4504 470.096 55.2606 470.096 Z\" fill=\"#000000\" fill-rule=\"nonzero\" fill-opacity=\"1\" /><path clip-path=\"url(#clip230)\" d=\"M75.4225 499.402 L80.3067 499.402 L80.3067 505.281 L75.4225 505.281 L75.4225 499.402 Z\" fill=\"#000000\" fill-rule=\"nonzero\" fill-opacity=\"1\" /><path clip-path=\"url(#clip230)\" d=\"M100.492 473.8 Q96.8807 473.8 95.052 477.365 Q93.2465 480.906 93.2465 488.036 Q93.2465 495.142 95.052 498.707 Q96.8807 502.249 100.492 502.249 Q104.126 502.249 105.932 498.707 Q107.76 495.142 107.76 488.036 Q107.76 480.906 105.932 477.365 Q104.126 473.8 100.492 473.8 M100.492 470.096 Q106.302 470.096 109.358 474.703 Q112.436 479.286 112.436 488.036 Q112.436 496.763 109.358 501.369 Q106.302 505.953 100.492 505.953 Q94.6817 505.953 91.603 501.369 Q88.5474 496.763 88.5474 488.036 Q88.5474 479.286 91.603 474.703 Q94.6817 470.096 100.492 470.096 Z\" fill=\"#000000\" fill-rule=\"nonzero\" fill-opacity=\"1\" /><path clip-path=\"url(#clip230)\" d=\"M121.464 501.346 L129.103 501.346 L129.103 474.981 L120.793 476.647 L120.793 472.388 L129.056 470.721 L133.732 470.721 L133.732 501.346 L141.371 501.346 L141.371 505.281 L121.464 505.281 L121.464 501.346 Z\" fill=\"#000000\" fill-rule=\"nonzero\" fill-opacity=\"1\" /><path clip-path=\"url(#clip230)\" d=\"M161.394 486.138 Q158.246 486.138 156.394 488.291 Q154.566 490.443 154.566 494.193 Q154.566 497.92 156.394 500.096 Q158.246 502.249 161.394 502.249 Q164.542 502.249 166.371 500.096 Q168.223 497.92 168.223 494.193 Q168.223 490.443 166.371 488.291 Q164.542 486.138 161.394 486.138 M170.677 471.485 L170.677 475.744 Q168.917 474.911 167.112 474.471 Q165.329 474.031 163.57 474.031 Q158.941 474.031 156.487 477.156 Q154.056 480.281 153.709 486.601 Q155.075 484.587 157.135 483.522 Q159.195 482.434 161.672 482.434 Q166.88 482.434 169.89 485.605 Q172.922 488.754 172.922 494.193 Q172.922 499.517 169.774 502.735 Q166.626 505.953 161.394 505.953 Q155.399 505.953 152.228 501.369 Q149.056 496.763 149.056 488.036 Q149.056 479.842 152.945 474.981 Q156.834 470.096 163.385 470.096 Q165.144 470.096 166.927 470.444 Q168.732 470.791 170.677 471.485 Z\" fill=\"#000000\" fill-rule=\"nonzero\" fill-opacity=\"1\" /><path clip-path=\"url(#clip230)\" d=\"M56.3254 365.161 Q52.7143 365.161 50.8856 368.725 Q49.0801 372.267 49.0801 379.397 Q49.0801 386.503 50.8856 390.068 Q52.7143 393.61 56.3254 393.61 Q59.9596 393.61 61.7652 390.068 Q63.5939 386.503 63.5939 379.397 Q63.5939 372.267 61.7652 368.725 Q59.9596 365.161 56.3254 365.161 M56.3254 361.457 Q62.1355 361.457 65.1911 366.063 Q68.2698 370.647 68.2698 379.397 Q68.2698 388.124 65.1911 392.73 Q62.1355 397.313 56.3254 397.313 Q50.5152 397.313 47.4365 392.73 Q44.381 388.124 44.381 379.397 Q44.381 370.647 47.4365 366.063 Q50.5152 361.457 56.3254 361.457 Z\" fill=\"#000000\" fill-rule=\"nonzero\" fill-opacity=\"1\" /><path clip-path=\"url(#clip230)\" d=\"M76.4873 390.762 L81.3715 390.762 L81.3715 396.642 L76.4873 396.642 L76.4873 390.762 Z\" fill=\"#000000\" fill-rule=\"nonzero\" fill-opacity=\"1\" /><path clip-path=\"url(#clip230)\" d=\"M101.557 365.161 Q97.9455 365.161 96.1168 368.725 Q94.3113 372.267 94.3113 379.397 Q94.3113 386.503 96.1168 390.068 Q97.9455 393.61 101.557 393.61 Q105.191 393.61 106.996 390.068 Q108.825 386.503 108.825 379.397 Q108.825 372.267 106.996 368.725 Q105.191 365.161 101.557 365.161 M101.557 361.457 Q107.367 361.457 110.422 366.063 Q113.501 370.647 113.501 379.397 Q113.501 388.124 110.422 392.73 Q107.367 397.313 101.557 397.313 Q95.7465 397.313 92.6678 392.73 Q89.6122 388.124 89.6122 379.397 Q89.6122 370.647 92.6678 366.063 Q95.7465 361.457 101.557 361.457 Z\" fill=\"#000000\" fill-rule=\"nonzero\" fill-opacity=\"1\" /><path clip-path=\"url(#clip230)\" d=\"M122.529 392.707 L130.168 392.707 L130.168 366.341 L121.857 368.008 L121.857 363.749 L130.121 362.082 L134.797 362.082 L134.797 392.707 L142.436 392.707 L142.436 396.642 L122.529 396.642 L122.529 392.707 Z\" fill=\"#000000\" fill-rule=\"nonzero\" fill-opacity=\"1\" /><path clip-path=\"url(#clip230)\" d=\"M150.7 362.082 L172.922 362.082 L172.922 364.073 L160.376 396.642 L155.492 396.642 L167.297 366.017 L150.7 366.017 L150.7 362.082 Z\" fill=\"#000000\" fill-rule=\"nonzero\" fill-opacity=\"1\" /><path clip-path=\"url(#clip230)\" d=\"M55.5152 256.521 Q51.9041 256.521 50.0754 260.086 Q48.2699 263.628 48.2699 270.757 Q48.2699 277.864 50.0754 281.429 Q51.9041 284.97 55.5152 284.97 Q59.1494 284.97 60.955 281.429 Q62.7837 277.864 62.7837 270.757 Q62.7837 263.628 60.955 260.086 Q59.1494 256.521 55.5152 256.521 M55.5152 252.818 Q61.3254 252.818 64.3809 257.424 Q67.4596 262.007 67.4596 270.757 Q67.4596 279.484 64.3809 284.091 Q61.3254 288.674 55.5152 288.674 Q49.7051 288.674 46.6264 284.091 Q43.5708 279.484 43.5708 270.757 Q43.5708 262.007 46.6264 257.424 Q49.7051 252.818 55.5152 252.818 Z\" fill=\"#000000\" fill-rule=\"nonzero\" fill-opacity=\"1\" /><path clip-path=\"url(#clip230)\" d=\"M75.6771 282.123 L80.5614 282.123 L80.5614 288.003 L75.6771 288.003 L75.6771 282.123 Z\" fill=\"#000000\" fill-rule=\"nonzero\" fill-opacity=\"1\" /><path clip-path=\"url(#clip230)\" d=\"M100.746 256.521 Q97.1354 256.521 95.3067 260.086 Q93.5011 263.628 93.5011 270.757 Q93.5011 277.864 95.3067 281.429 Q97.1354 284.97 100.746 284.97 Q104.381 284.97 106.186 281.429 Q108.015 277.864 108.015 270.757 Q108.015 263.628 106.186 260.086 Q104.381 256.521 100.746 256.521 M100.746 252.818 Q106.557 252.818 109.612 257.424 Q112.691 262.007 112.691 270.757 Q112.691 279.484 109.612 284.091 Q106.557 288.674 100.746 288.674 Q94.9363 288.674 91.8576 284.091 Q88.8021 279.484 88.8021 270.757 Q88.8021 262.007 91.8576 257.424 Q94.9363 252.818 100.746 252.818 Z\" fill=\"#000000\" fill-rule=\"nonzero\" fill-opacity=\"1\" /><path clip-path=\"url(#clip230)\" d=\"M121.719 284.068 L129.357 284.068 L129.357 257.702 L121.047 259.369 L121.047 255.109 L129.311 253.443 L133.987 253.443 L133.987 284.068 L141.626 284.068 L141.626 288.003 L121.719 288.003 L121.719 284.068 Z\" fill=\"#000000\" fill-rule=\"nonzero\" fill-opacity=\"1\" /><path clip-path=\"url(#clip230)\" d=\"M161.07 271.591 Q157.737 271.591 155.816 273.373 Q153.917 275.156 153.917 278.281 Q153.917 281.406 155.816 283.188 Q157.737 284.97 161.07 284.97 Q164.404 284.97 166.325 283.188 Q168.246 281.382 168.246 278.281 Q168.246 275.156 166.325 273.373 Q164.427 271.591 161.07 271.591 M156.394 269.6 Q153.385 268.859 151.695 266.799 Q150.029 264.739 150.029 261.776 Q150.029 257.633 152.968 255.225 Q155.931 252.818 161.07 252.818 Q166.232 252.818 169.172 255.225 Q172.112 257.633 172.112 261.776 Q172.112 264.739 170.422 266.799 Q168.755 268.859 165.769 269.6 Q169.149 270.387 171.024 272.679 Q172.922 274.97 172.922 278.281 Q172.922 283.304 169.843 285.989 Q166.788 288.674 161.07 288.674 Q155.353 288.674 152.274 285.989 Q149.218 283.304 149.218 278.281 Q149.218 274.97 151.117 272.679 Q153.015 270.387 156.394 269.6 M154.681 262.216 Q154.681 264.901 156.348 266.406 Q158.038 267.91 161.07 267.91 Q164.079 267.91 165.769 266.406 Q167.482 264.901 167.482 262.216 Q167.482 259.531 165.769 258.026 Q164.079 256.521 161.07 256.521 Q158.038 256.521 156.348 258.026 Q154.681 259.531 154.681 262.216 Z\" fill=\"#000000\" fill-rule=\"nonzero\" fill-opacity=\"1\" /><path clip-path=\"url(#clip230)\" d=\"M55.6078 147.882 Q51.9967 147.882 50.168 151.447 Q48.3625 154.989 48.3625 162.118 Q48.3625 169.225 50.168 172.789 Q51.9967 176.331 55.6078 176.331 Q59.242 176.331 61.0476 172.789 Q62.8763 169.225 62.8763 162.118 Q62.8763 154.989 61.0476 151.447 Q59.242 147.882 55.6078 147.882 M55.6078 144.178 Q61.418 144.178 64.4735 148.785 Q67.5522 153.368 67.5522 162.118 Q67.5522 170.845 64.4735 175.451 Q61.418 180.035 55.6078 180.035 Q49.7976 180.035 46.719 175.451 Q43.6634 170.845 43.6634 162.118 Q43.6634 153.368 46.719 148.785 Q49.7976 144.178 55.6078 144.178 Z\" fill=\"#000000\" fill-rule=\"nonzero\" fill-opacity=\"1\" /><path clip-path=\"url(#clip230)\" d=\"M75.7697 173.484 L80.654 173.484 L80.654 179.363 L75.7697 179.363 L75.7697 173.484 Z\" fill=\"#000000\" fill-rule=\"nonzero\" fill-opacity=\"1\" /><path clip-path=\"url(#clip230)\" d=\"M100.839 147.882 Q97.2279 147.882 95.3993 151.447 Q93.5937 154.989 93.5937 162.118 Q93.5937 169.225 95.3993 172.789 Q97.2279 176.331 100.839 176.331 Q104.473 176.331 106.279 172.789 Q108.108 169.225 108.108 162.118 Q108.108 154.989 106.279 151.447 Q104.473 147.882 100.839 147.882 M100.839 144.178 Q106.649 144.178 109.705 148.785 Q112.783 153.368 112.783 162.118 Q112.783 170.845 109.705 175.451 Q106.649 180.035 100.839 180.035 Q95.0289 180.035 91.9502 175.451 Q88.8947 170.845 88.8947 162.118 Q88.8947 153.368 91.9502 148.785 Q95.0289 144.178 100.839 144.178 Z\" fill=\"#000000\" fill-rule=\"nonzero\" fill-opacity=\"1\" /><path clip-path=\"url(#clip230)\" d=\"M121.811 175.428 L129.45 175.428 L129.45 149.063 L121.14 150.729 L121.14 146.47 L129.404 144.803 L134.08 144.803 L134.08 175.428 L141.718 175.428 L141.718 179.363 L121.811 179.363 L121.811 175.428 Z\" fill=\"#000000\" fill-rule=\"nonzero\" fill-opacity=\"1\" /><path clip-path=\"url(#clip230)\" d=\"M151.302 178.646 L151.302 174.387 Q153.061 175.22 154.867 175.66 Q156.672 176.1 158.408 176.1 Q163.038 176.1 165.468 172.998 Q167.922 169.873 168.269 163.53 Q166.927 165.521 164.866 166.586 Q162.806 167.651 160.306 167.651 Q155.121 167.651 152.089 164.526 Q149.08 161.377 149.08 155.938 Q149.08 150.614 152.228 147.396 Q155.376 144.178 160.607 144.178 Q166.603 144.178 169.751 148.785 Q172.922 153.368 172.922 162.118 Q172.922 170.289 169.033 175.174 Q165.167 180.035 158.617 180.035 Q156.857 180.035 155.052 179.687 Q153.246 179.34 151.302 178.646 M160.607 163.993 Q163.755 163.993 165.584 161.84 Q167.436 159.688 167.436 155.938 Q167.436 152.211 165.584 150.058 Q163.755 147.882 160.607 147.882 Q157.459 147.882 155.607 150.058 Q153.779 152.211 153.779 155.938 Q153.779 159.688 155.607 161.84 Q157.459 163.993 160.607 163.993 Z\" fill=\"#000000\" fill-rule=\"nonzero\" fill-opacity=\"1\" /><path clip-path=\"url(#clip230)\" d=\"M55.4226 39.2428 Q51.8115 39.2428 49.9828 42.8076 Q48.1773 46.3493 48.1773 53.4789 Q48.1773 60.5853 49.9828 64.1501 Q51.8115 67.6917 55.4226 67.6917 Q59.0569 67.6917 60.8624 64.1501 Q62.6911 60.5853 62.6911 53.4789 Q62.6911 46.3493 60.8624 42.8076 Q59.0569 39.2428 55.4226 39.2428 M55.4226 35.5391 Q61.2328 35.5391 64.2883 40.1456 Q67.367 44.7289 67.367 53.4789 Q67.367 62.2057 64.2883 66.8121 Q61.2328 71.3954 55.4226 71.3954 Q49.6125 71.3954 46.5338 66.8121 Q43.4782 62.2057 43.4782 53.4789 Q43.4782 44.7289 46.5338 40.1456 Q49.6125 35.5391 55.4226 35.5391 Z\" fill=\"#000000\" fill-rule=\"nonzero\" fill-opacity=\"1\" /><path clip-path=\"url(#clip230)\" d=\"M75.5845 64.8445 L80.4688 64.8445 L80.4688 70.7241 L75.5845 70.7241 L75.5845 64.8445 Z\" fill=\"#000000\" fill-rule=\"nonzero\" fill-opacity=\"1\" /><path clip-path=\"url(#clip230)\" d=\"M100.654 39.2428 Q97.0428 39.2428 95.2141 42.8076 Q93.4085 46.3493 93.4085 53.4789 Q93.4085 60.5853 95.2141 64.1501 Q97.0428 67.6917 100.654 67.6917 Q104.288 67.6917 106.094 64.1501 Q107.922 60.5853 107.922 53.4789 Q107.922 46.3493 106.094 42.8076 Q104.288 39.2428 100.654 39.2428 M100.654 35.5391 Q106.464 35.5391 109.52 40.1456 Q112.598 44.7289 112.598 53.4789 Q112.598 62.2057 109.52 66.8121 Q106.464 71.3954 100.654 71.3954 Q94.8437 71.3954 91.765 66.8121 Q88.7095 62.2057 88.7095 53.4789 Q88.7095 44.7289 91.765 40.1456 Q94.8437 35.5391 100.654 35.5391 Z\" fill=\"#000000\" fill-rule=\"nonzero\" fill-opacity=\"1\" /><path clip-path=\"url(#clip230)\" d=\"M124.844 66.789 L141.163 66.789 L141.163 70.7241 L119.219 70.7241 L119.219 66.789 Q121.881 64.0344 126.464 59.4048 Q131.07 54.752 132.251 53.4094 Q134.496 50.8863 135.376 49.1502 Q136.279 47.3909 136.279 45.7011 Q136.279 42.9465 134.334 41.2104 Q132.413 39.4743 129.311 39.4743 Q127.112 39.4743 124.658 40.2382 Q122.228 41.0021 119.45 42.553 L119.45 37.8308 Q122.274 36.6965 124.728 36.1178 Q127.181 35.5391 129.219 35.5391 Q134.589 35.5391 137.783 38.2243 Q140.978 40.9095 140.978 45.4002 Q140.978 47.5298 140.168 49.4511 Q139.38 51.3492 137.274 53.9418 Q136.695 54.6131 133.593 57.8307 Q130.492 61.0251 124.844 66.789 Z\" fill=\"#000000\" fill-rule=\"nonzero\" fill-opacity=\"1\" /><path clip-path=\"url(#clip230)\" d=\"M160.978 39.2428 Q157.367 39.2428 155.538 42.8076 Q153.732 46.3493 153.732 53.4789 Q153.732 60.5853 155.538 64.1501 Q157.367 67.6917 160.978 67.6917 Q164.612 67.6917 166.417 64.1501 Q168.246 60.5853 168.246 53.4789 Q168.246 46.3493 166.417 42.8076 Q164.612 39.2428 160.978 39.2428 M160.978 35.5391 Q166.788 35.5391 169.843 40.1456 Q172.922 44.7289 172.922 53.4789 Q172.922 62.2057 169.843 66.8121 Q166.788 71.3954 160.978 71.3954 Q155.167 71.3954 152.089 66.8121 Q149.033 62.2057 149.033 53.4789 Q149.033 44.7289 152.089 40.1456 Q155.167 35.5391 160.978 35.5391 Z\" fill=\"#000000\" fill-rule=\"nonzero\" fill-opacity=\"1\" /><polyline clip-path=\"url(#clip232)\" style=\"stroke:#009af9; stroke-linecap:round; stroke-linejoin:round; stroke-width:4; stroke-opacity:1; fill:none\" points=\"338.2,66.2459 409.818,81.4281 481.436,99.986 553.054,116.769 624.672,131.009 696.29,142.413 767.908,157.037 839.526,171.499 911.144,183.247 982.761,196.496 1054.38,217.135 1126,234.13 1197.62,250.436 1269.23,269.775 1340.85,290.525 1412.47,306.001 1484.09,320.125 1555.7,337.446 1627.32,356.729 1698.94,376.491 1770.56,395.268 1842.18,415.604 1913.79,436.358 1985.41,456.81 2057.03,474.852 2128.65,490.892 2200.27,506.086 2271.88,527.747 2343.5,544.42 2415.12,563.433 2486.74,583.072 2558.36,601.761 2629.97,615.031 2701.59,635.489 2773.21,651.241 2844.83,666.689 2916.44,677.426 2988.06,687.458 3059.68,697.728 3131.3,699.638 3202.92,692.716 3274.53,687.564 3346.15,681.617 3417.77,675.889 3489.39,670.067 3561.01,664.1 3632.62,661.024 3704.24,658.635 3775.86,656.847 3847.48,654.111 \"/>\n",
       "<path clip-path=\"url(#clip230)\" d=\"M3404.35 173.304 L3828.76 173.304 L3828.76 69.624 L3404.35 69.624  Z\" fill=\"#ffffff\" fill-rule=\"evenodd\" fill-opacity=\"1\"/>\n",
       "<polyline clip-path=\"url(#clip230)\" style=\"stroke:#000000; stroke-linecap:round; stroke-linejoin:round; stroke-width:4; stroke-opacity:1; fill:none\" points=\"3404.35,173.304 3828.76,173.304 3828.76,69.624 3404.35,69.624 3404.35,173.304 \"/>\n",
       "<polyline clip-path=\"url(#clip230)\" style=\"stroke:#009af9; stroke-linecap:round; stroke-linejoin:round; stroke-width:4; stroke-opacity:1; fill:none\" points=\"3445.68,121.464 3693.67,121.464 \"/>\n",
       "<path clip-path=\"url(#clip230)\" d=\"M3748.84 141.151 Q3747.04 145.781 3745.32 147.193 Q3743.61 148.605 3740.74 148.605 L3737.34 148.605 L3737.34 145.04 L3739.84 145.04 Q3741.6 145.04 3742.57 144.207 Q3743.54 143.374 3744.72 140.272 L3745.49 138.327 L3735 112.818 L3739.51 112.818 L3747.62 133.096 L3755.72 112.818 L3760.23 112.818 L3748.84 141.151 Z\" fill=\"#000000\" fill-rule=\"nonzero\" fill-opacity=\"1\" /><path clip-path=\"url(#clip230)\" d=\"M3767.52 134.809 L3775.16 134.809 L3775.16 108.443 L3766.85 110.11 L3766.85 105.851 L3775.12 104.184 L3779.79 104.184 L3779.79 134.809 L3787.43 134.809 L3787.43 138.744 L3767.52 138.744 L3767.52 134.809 Z\" fill=\"#000000\" fill-rule=\"nonzero\" fill-opacity=\"1\" /></svg>\n"
      ],
      "text/html": [
       "<?xml version=\"1.0\" encoding=\"utf-8\"?>\n",
       "<svg xmlns=\"http://www.w3.org/2000/svg\" xmlns:xlink=\"http://www.w3.org/1999/xlink\" width=\"1000\" height=\"200\" viewBox=\"0 0 4000 800\">\n",
       "<defs>\n",
       "  <clipPath id=\"clip280\">\n",
       "    <rect x=\"0\" y=\"0\" width=\"4000\" height=\"800\"/>\n",
       "  </clipPath>\n",
       "</defs>\n",
       "<path clip-path=\"url(#clip280)\" d=\"M0 800 L4000 800 L4000 0 L0 0  Z\" fill=\"#ffffff\" fill-rule=\"evenodd\" fill-opacity=\"1\"/>\n",
       "<defs>\n",
       "  <clipPath id=\"clip281\">\n",
       "    <rect x=\"800\" y=\"0\" width=\"2801\" height=\"800\"/>\n",
       "  </clipPath>\n",
       "</defs>\n",
       "<path clip-path=\"url(#clip280)\" d=\"M232.922 718.64 L3952.76 718.64 L3952.76 47.2441 L232.922 47.2441  Z\" fill=\"#ffffff\" fill-rule=\"evenodd\" fill-opacity=\"1\"/>\n",
       "<defs>\n",
       "  <clipPath id=\"clip282\">\n",
       "    <rect x=\"232\" y=\"47\" width=\"3721\" height=\"672\"/>\n",
       "  </clipPath>\n",
       "</defs>\n",
       "<polyline clip-path=\"url(#clip282)\" style=\"stroke:#000000; stroke-linecap:round; stroke-linejoin:round; stroke-width:2; stroke-opacity:0.1; fill:none\" points=\"266.582,718.64 266.582,47.2441 \"/>\n",
       "<polyline clip-path=\"url(#clip282)\" style=\"stroke:#000000; stroke-linecap:round; stroke-linejoin:round; stroke-width:2; stroke-opacity:0.1; fill:none\" points=\"982.761,718.64 982.761,47.2441 \"/>\n",
       "<polyline clip-path=\"url(#clip282)\" style=\"stroke:#000000; stroke-linecap:round; stroke-linejoin:round; stroke-width:2; stroke-opacity:0.1; fill:none\" points=\"1698.94,718.64 1698.94,47.2441 \"/>\n",
       "<polyline clip-path=\"url(#clip282)\" style=\"stroke:#000000; stroke-linecap:round; stroke-linejoin:round; stroke-width:2; stroke-opacity:0.1; fill:none\" points=\"2415.12,718.64 2415.12,47.2441 \"/>\n",
       "<polyline clip-path=\"url(#clip282)\" style=\"stroke:#000000; stroke-linecap:round; stroke-linejoin:round; stroke-width:2; stroke-opacity:0.1; fill:none\" points=\"3131.3,718.64 3131.3,47.2441 \"/>\n",
       "<polyline clip-path=\"url(#clip282)\" style=\"stroke:#000000; stroke-linecap:round; stroke-linejoin:round; stroke-width:2; stroke-opacity:0.1; fill:none\" points=\"3847.48,718.64 3847.48,47.2441 \"/>\n",
       "<polyline clip-path=\"url(#clip280)\" style=\"stroke:#000000; stroke-linecap:round; stroke-linejoin:round; stroke-width:4; stroke-opacity:1; fill:none\" points=\"232.922,718.64 3952.76,718.64 \"/>\n",
       "<polyline clip-path=\"url(#clip280)\" style=\"stroke:#000000; stroke-linecap:round; stroke-linejoin:round; stroke-width:4; stroke-opacity:1; fill:none\" points=\"266.582,718.64 266.582,699.742 \"/>\n",
       "<polyline clip-path=\"url(#clip280)\" style=\"stroke:#000000; stroke-linecap:round; stroke-linejoin:round; stroke-width:4; stroke-opacity:1; fill:none\" points=\"982.761,718.64 982.761,699.742 \"/>\n",
       "<polyline clip-path=\"url(#clip280)\" style=\"stroke:#000000; stroke-linecap:round; stroke-linejoin:round; stroke-width:4; stroke-opacity:1; fill:none\" points=\"1698.94,718.64 1698.94,699.742 \"/>\n",
       "<polyline clip-path=\"url(#clip280)\" style=\"stroke:#000000; stroke-linecap:round; stroke-linejoin:round; stroke-width:4; stroke-opacity:1; fill:none\" points=\"2415.12,718.64 2415.12,699.742 \"/>\n",
       "<polyline clip-path=\"url(#clip280)\" style=\"stroke:#000000; stroke-linecap:round; stroke-linejoin:round; stroke-width:4; stroke-opacity:1; fill:none\" points=\"3131.3,718.64 3131.3,699.742 \"/>\n",
       "<polyline clip-path=\"url(#clip280)\" style=\"stroke:#000000; stroke-linecap:round; stroke-linejoin:round; stroke-width:4; stroke-opacity:1; fill:none\" points=\"3847.48,718.64 3847.48,699.742 \"/>\n",
       "<path clip-path=\"url(#clip280)\" d=\"M266.582 762.359 Q262.971 762.359 261.143 765.923 Q259.337 769.465 259.337 776.595 Q259.337 783.701 261.143 787.266 Q262.971 790.807 266.582 790.807 Q270.217 790.807 272.022 787.266 Q273.851 783.701 273.851 776.595 Q273.851 769.465 272.022 765.923 Q270.217 762.359 266.582 762.359 M266.582 758.655 Q272.393 758.655 275.448 763.261 Q278.527 767.845 278.527 776.595 Q278.527 785.321 275.448 789.928 Q272.393 794.511 266.582 794.511 Q260.772 794.511 257.694 789.928 Q254.638 785.321 254.638 776.595 Q254.638 767.845 257.694 763.261 Q260.772 758.655 266.582 758.655 Z\" fill=\"#000000\" fill-rule=\"nonzero\" fill-opacity=\"1\" /><path clip-path=\"url(#clip280)\" d=\"M957.449 789.905 L965.088 789.905 L965.088 763.539 L956.778 765.206 L956.778 760.947 L965.042 759.28 L969.718 759.28 L969.718 789.905 L977.356 789.905 L977.356 793.84 L957.449 793.84 L957.449 789.905 Z\" fill=\"#000000\" fill-rule=\"nonzero\" fill-opacity=\"1\" /><path clip-path=\"url(#clip280)\" d=\"M996.801 762.359 Q993.19 762.359 991.361 765.923 Q989.555 769.465 989.555 776.595 Q989.555 783.701 991.361 787.266 Q993.19 790.807 996.801 790.807 Q1000.43 790.807 1002.24 787.266 Q1004.07 783.701 1004.07 776.595 Q1004.07 769.465 1002.24 765.923 Q1000.43 762.359 996.801 762.359 M996.801 758.655 Q1002.61 758.655 1005.67 763.261 Q1008.75 767.845 1008.75 776.595 Q1008.75 785.321 1005.67 789.928 Q1002.61 794.511 996.801 794.511 Q990.991 794.511 987.912 789.928 Q984.856 785.321 984.856 776.595 Q984.856 767.845 987.912 763.261 Q990.991 758.655 996.801 758.655 Z\" fill=\"#000000\" fill-rule=\"nonzero\" fill-opacity=\"1\" /><path clip-path=\"url(#clip280)\" d=\"M1677.71 789.905 L1694.03 789.905 L1694.03 793.84 L1672.09 793.84 L1672.09 789.905 Q1674.75 787.15 1679.33 782.52 Q1683.94 777.868 1685.12 776.525 Q1687.37 774.002 1688.25 772.266 Q1689.15 770.507 1689.15 768.817 Q1689.15 766.062 1687.2 764.326 Q1685.28 762.59 1682.18 762.59 Q1679.98 762.59 1677.53 763.354 Q1675.1 764.118 1672.32 765.669 L1672.32 760.947 Q1675.14 759.812 1677.6 759.234 Q1680.05 758.655 1682.09 758.655 Q1687.46 758.655 1690.65 761.34 Q1693.85 764.025 1693.85 768.516 Q1693.85 770.646 1693.04 772.567 Q1692.25 774.465 1690.14 777.058 Q1689.57 777.729 1686.46 780.946 Q1683.36 784.141 1677.71 789.905 Z\" fill=\"#000000\" fill-rule=\"nonzero\" fill-opacity=\"1\" /><path clip-path=\"url(#clip280)\" d=\"M1713.85 762.359 Q1710.24 762.359 1708.41 765.923 Q1706.6 769.465 1706.6 776.595 Q1706.6 783.701 1708.41 787.266 Q1710.24 790.807 1713.85 790.807 Q1717.48 790.807 1719.29 787.266 Q1721.12 783.701 1721.12 776.595 Q1721.12 769.465 1719.29 765.923 Q1717.48 762.359 1713.85 762.359 M1713.85 758.655 Q1719.66 758.655 1722.71 763.261 Q1725.79 767.845 1725.79 776.595 Q1725.79 785.321 1722.71 789.928 Q1719.66 794.511 1713.85 794.511 Q1708.04 794.511 1704.96 789.928 Q1701.9 785.321 1701.9 776.595 Q1701.9 767.845 1704.96 763.261 Q1708.04 758.655 1713.85 758.655 Z\" fill=\"#000000\" fill-rule=\"nonzero\" fill-opacity=\"1\" /><path clip-path=\"url(#clip280)\" d=\"M2403.96 775.206 Q2407.32 775.923 2409.19 778.192 Q2411.09 780.46 2411.09 783.794 Q2411.09 788.909 2407.57 791.71 Q2404.05 794.511 2397.57 794.511 Q2395.4 794.511 2393.08 794.071 Q2390.79 793.655 2388.34 792.798 L2388.34 788.284 Q2390.28 789.419 2392.6 789.997 Q2394.91 790.576 2397.43 790.576 Q2401.83 790.576 2404.12 788.84 Q2406.44 787.104 2406.44 783.794 Q2406.44 780.738 2404.29 779.025 Q2402.16 777.289 2398.34 777.289 L2394.31 777.289 L2394.31 773.446 L2398.52 773.446 Q2401.97 773.446 2403.8 772.081 Q2405.63 770.692 2405.63 768.099 Q2405.63 765.437 2403.73 764.025 Q2401.86 762.59 2398.34 762.59 Q2396.42 762.59 2394.22 763.007 Q2392.02 763.423 2389.38 764.303 L2389.38 760.136 Q2392.04 759.396 2394.36 759.025 Q2396.69 758.655 2398.75 758.655 Q2404.08 758.655 2407.18 761.085 Q2410.28 763.493 2410.28 767.613 Q2410.28 770.484 2408.64 772.474 Q2406.99 774.442 2403.96 775.206 Z\" fill=\"#000000\" fill-rule=\"nonzero\" fill-opacity=\"1\" /><path clip-path=\"url(#clip280)\" d=\"M2429.96 762.359 Q2426.35 762.359 2424.52 765.923 Q2422.71 769.465 2422.71 776.595 Q2422.71 783.701 2424.52 787.266 Q2426.35 790.807 2429.96 790.807 Q2433.59 790.807 2435.4 787.266 Q2437.23 783.701 2437.23 776.595 Q2437.23 769.465 2435.4 765.923 Q2433.59 762.359 2429.96 762.359 M2429.96 758.655 Q2435.77 758.655 2438.82 763.261 Q2441.9 767.845 2441.9 776.595 Q2441.9 785.321 2438.82 789.928 Q2435.77 794.511 2429.96 794.511 Q2424.15 794.511 2421.07 789.928 Q2418.01 785.321 2418.01 776.595 Q2418.01 767.845 2421.07 763.261 Q2424.15 758.655 2429.96 758.655 Z\" fill=\"#000000\" fill-rule=\"nonzero\" fill-opacity=\"1\" /><path clip-path=\"url(#clip280)\" d=\"M3119.47 763.354 L3107.66 781.803 L3119.47 781.803 L3119.47 763.354 M3118.24 759.28 L3124.12 759.28 L3124.12 781.803 L3129.05 781.803 L3129.05 785.692 L3124.12 785.692 L3124.12 793.84 L3119.47 793.84 L3119.47 785.692 L3103.87 785.692 L3103.87 781.178 L3118.24 759.28 Z\" fill=\"#000000\" fill-rule=\"nonzero\" fill-opacity=\"1\" /><path clip-path=\"url(#clip280)\" d=\"M3146.78 762.359 Q3143.17 762.359 3141.34 765.923 Q3139.54 769.465 3139.54 776.595 Q3139.54 783.701 3141.34 787.266 Q3143.17 790.807 3146.78 790.807 Q3150.42 790.807 3152.22 787.266 Q3154.05 783.701 3154.05 776.595 Q3154.05 769.465 3152.22 765.923 Q3150.42 762.359 3146.78 762.359 M3146.78 758.655 Q3152.59 758.655 3155.65 763.261 Q3158.73 767.845 3158.73 776.595 Q3158.73 785.321 3155.65 789.928 Q3152.59 794.511 3146.78 794.511 Q3140.97 794.511 3137.9 789.928 Q3134.84 785.321 3134.84 776.595 Q3134.84 767.845 3137.9 763.261 Q3140.97 758.655 3146.78 758.655 Z\" fill=\"#000000\" fill-rule=\"nonzero\" fill-opacity=\"1\" /><path clip-path=\"url(#clip280)\" d=\"M3822.18 759.28 L3840.53 759.28 L3840.53 763.215 L3826.46 763.215 L3826.46 771.687 Q3827.48 771.34 3828.5 771.178 Q3829.51 770.993 3830.53 770.993 Q3836.32 770.993 3839.7 774.164 Q3843.08 777.335 3843.08 782.752 Q3843.08 788.331 3839.61 791.432 Q3836.14 794.511 3829.82 794.511 Q3827.64 794.511 3825.37 794.141 Q3823.13 793.77 3820.72 793.03 L3820.72 788.331 Q3822.8 789.465 3825.02 790.02 Q3827.25 790.576 3829.72 790.576 Q3833.73 790.576 3836.07 788.47 Q3838.4 786.363 3838.4 782.752 Q3838.4 779.141 3836.07 777.034 Q3833.73 774.928 3829.72 774.928 Q3827.85 774.928 3825.97 775.345 Q3824.12 775.761 3822.18 776.641 L3822.18 759.28 Z\" fill=\"#000000\" fill-rule=\"nonzero\" fill-opacity=\"1\" /><path clip-path=\"url(#clip280)\" d=\"M3862.29 762.359 Q3858.68 762.359 3856.85 765.923 Q3855.05 769.465 3855.05 776.595 Q3855.05 783.701 3856.85 787.266 Q3858.68 790.807 3862.29 790.807 Q3865.93 790.807 3867.73 787.266 Q3869.56 783.701 3869.56 776.595 Q3869.56 769.465 3867.73 765.923 Q3865.93 762.359 3862.29 762.359 M3862.29 758.655 Q3868.1 758.655 3871.16 763.261 Q3874.24 767.845 3874.24 776.595 Q3874.24 785.321 3871.16 789.928 Q3868.1 794.511 3862.29 794.511 Q3856.48 794.511 3853.4 789.928 Q3850.35 785.321 3850.35 776.595 Q3850.35 767.845 3853.4 763.261 Q3856.48 758.655 3862.29 758.655 Z\" fill=\"#000000\" fill-rule=\"nonzero\" fill-opacity=\"1\" /><polyline clip-path=\"url(#clip282)\" style=\"stroke:#000000; stroke-linecap:round; stroke-linejoin:round; stroke-width:2; stroke-opacity:0.1; fill:none\" points=\"232.922,705.28 3952.76,705.28 \"/>\n",
       "<polyline clip-path=\"url(#clip282)\" style=\"stroke:#000000; stroke-linecap:round; stroke-linejoin:round; stroke-width:2; stroke-opacity:0.1; fill:none\" points=\"232.922,596.641 3952.76,596.641 \"/>\n",
       "<polyline clip-path=\"url(#clip282)\" style=\"stroke:#000000; stroke-linecap:round; stroke-linejoin:round; stroke-width:2; stroke-opacity:0.1; fill:none\" points=\"232.922,488.001 3952.76,488.001 \"/>\n",
       "<polyline clip-path=\"url(#clip282)\" style=\"stroke:#000000; stroke-linecap:round; stroke-linejoin:round; stroke-width:2; stroke-opacity:0.1; fill:none\" points=\"232.922,379.362 3952.76,379.362 \"/>\n",
       "<polyline clip-path=\"url(#clip282)\" style=\"stroke:#000000; stroke-linecap:round; stroke-linejoin:round; stroke-width:2; stroke-opacity:0.1; fill:none\" points=\"232.922,270.723 3952.76,270.723 \"/>\n",
       "<polyline clip-path=\"url(#clip282)\" style=\"stroke:#000000; stroke-linecap:round; stroke-linejoin:round; stroke-width:2; stroke-opacity:0.1; fill:none\" points=\"232.922,162.083 3952.76,162.083 \"/>\n",
       "<polyline clip-path=\"url(#clip282)\" style=\"stroke:#000000; stroke-linecap:round; stroke-linejoin:round; stroke-width:2; stroke-opacity:0.1; fill:none\" points=\"232.922,53.4441 3952.76,53.4441 \"/>\n",
       "<polyline clip-path=\"url(#clip280)\" style=\"stroke:#000000; stroke-linecap:round; stroke-linejoin:round; stroke-width:4; stroke-opacity:1; fill:none\" points=\"232.922,718.64 232.922,47.2441 \"/>\n",
       "<polyline clip-path=\"url(#clip280)\" style=\"stroke:#000000; stroke-linecap:round; stroke-linejoin:round; stroke-width:4; stroke-opacity:1; fill:none\" points=\"232.922,705.28 251.82,705.28 \"/>\n",
       "<polyline clip-path=\"url(#clip280)\" style=\"stroke:#000000; stroke-linecap:round; stroke-linejoin:round; stroke-width:4; stroke-opacity:1; fill:none\" points=\"232.922,596.641 251.82,596.641 \"/>\n",
       "<polyline clip-path=\"url(#clip280)\" style=\"stroke:#000000; stroke-linecap:round; stroke-linejoin:round; stroke-width:4; stroke-opacity:1; fill:none\" points=\"232.922,488.001 251.82,488.001 \"/>\n",
       "<polyline clip-path=\"url(#clip280)\" style=\"stroke:#000000; stroke-linecap:round; stroke-linejoin:round; stroke-width:4; stroke-opacity:1; fill:none\" points=\"232.922,379.362 251.82,379.362 \"/>\n",
       "<polyline clip-path=\"url(#clip280)\" style=\"stroke:#000000; stroke-linecap:round; stroke-linejoin:round; stroke-width:4; stroke-opacity:1; fill:none\" points=\"232.922,270.723 251.82,270.723 \"/>\n",
       "<polyline clip-path=\"url(#clip280)\" style=\"stroke:#000000; stroke-linecap:round; stroke-linejoin:round; stroke-width:4; stroke-opacity:1; fill:none\" points=\"232.922,162.083 251.82,162.083 \"/>\n",
       "<polyline clip-path=\"url(#clip280)\" style=\"stroke:#000000; stroke-linecap:round; stroke-linejoin:round; stroke-width:4; stroke-opacity:1; fill:none\" points=\"232.922,53.4441 251.82,53.4441 \"/>\n",
       "<path clip-path=\"url(#clip280)\" d=\"M54.9365 691.079 Q51.3254 691.079 49.4967 694.643 Q47.6912 698.185 47.6912 705.315 Q47.6912 712.421 49.4967 715.986 Q51.3254 719.527 54.9365 719.527 Q58.5707 719.527 60.3763 715.986 Q62.205 712.421 62.205 705.315 Q62.205 698.185 60.3763 694.643 Q58.5707 691.079 54.9365 691.079 M54.9365 687.375 Q60.7467 687.375 63.8022 691.981 Q66.8809 696.565 66.8809 705.315 Q66.8809 714.041 63.8022 718.648 Q60.7467 723.231 54.9365 723.231 Q49.1264 723.231 46.0477 718.648 Q42.9921 714.041 42.9921 705.315 Q42.9921 696.565 46.0477 691.981 Q49.1264 687.375 54.9365 687.375 Z\" fill=\"#000000\" fill-rule=\"nonzero\" fill-opacity=\"1\" /><path clip-path=\"url(#clip280)\" d=\"M75.0984 716.68 L79.9827 716.68 L79.9827 722.56 L75.0984 722.56 L75.0984 716.68 Z\" fill=\"#000000\" fill-rule=\"nonzero\" fill-opacity=\"1\" /><path clip-path=\"url(#clip280)\" d=\"M100.168 691.079 Q96.5567 691.079 94.728 694.643 Q92.9224 698.185 92.9224 705.315 Q92.9224 712.421 94.728 715.986 Q96.5567 719.527 100.168 719.527 Q103.802 719.527 105.608 715.986 Q107.436 712.421 107.436 705.315 Q107.436 698.185 105.608 694.643 Q103.802 691.079 100.168 691.079 M100.168 687.375 Q105.978 687.375 109.033 691.981 Q112.112 696.565 112.112 705.315 Q112.112 714.041 109.033 718.648 Q105.978 723.231 100.168 723.231 Q94.3576 723.231 91.2789 718.648 Q88.2234 714.041 88.2234 705.315 Q88.2234 696.565 91.2789 691.981 Q94.3576 687.375 100.168 687.375 Z\" fill=\"#000000\" fill-rule=\"nonzero\" fill-opacity=\"1\" /><path clip-path=\"url(#clip280)\" d=\"M121.14 718.625 L128.779 718.625 L128.779 692.259 L120.469 693.926 L120.469 689.667 L128.732 688 L133.408 688 L133.408 718.625 L141.047 718.625 L141.047 722.56 L121.14 722.56 L121.14 718.625 Z\" fill=\"#000000\" fill-rule=\"nonzero\" fill-opacity=\"1\" /><path clip-path=\"url(#clip280)\" d=\"M163.339 692.074 L151.533 710.523 L163.339 710.523 L163.339 692.074 M162.112 688 L167.991 688 L167.991 710.523 L172.922 710.523 L172.922 714.412 L167.991 714.412 L167.991 722.56 L163.339 722.56 L163.339 714.412 L147.737 714.412 L147.737 709.898 L162.112 688 Z\" fill=\"#000000\" fill-rule=\"nonzero\" fill-opacity=\"1\" /><path clip-path=\"url(#clip280)\" d=\"M56.418 582.439 Q52.8069 582.439 50.9782 586.004 Q49.1726 589.546 49.1726 596.675 Q49.1726 603.782 50.9782 607.347 Q52.8069 610.888 56.418 610.888 Q60.0522 610.888 61.8578 607.347 Q63.6865 603.782 63.6865 596.675 Q63.6865 589.546 61.8578 586.004 Q60.0522 582.439 56.418 582.439 M56.418 578.736 Q62.2281 578.736 65.2837 583.342 Q68.3624 587.925 68.3624 596.675 Q68.3624 605.402 65.2837 610.009 Q62.2281 614.592 56.418 614.592 Q50.6078 614.592 47.5291 610.009 Q44.4736 605.402 44.4736 596.675 Q44.4736 587.925 47.5291 583.342 Q50.6078 578.736 56.418 578.736 Z\" fill=\"#000000\" fill-rule=\"nonzero\" fill-opacity=\"1\" /><path clip-path=\"url(#clip280)\" d=\"M76.5799 608.041 L81.4641 608.041 L81.4641 613.921 L76.5799 613.921 L76.5799 608.041 Z\" fill=\"#000000\" fill-rule=\"nonzero\" fill-opacity=\"1\" /><path clip-path=\"url(#clip280)\" d=\"M101.649 582.439 Q98.0381 582.439 96.2094 586.004 Q94.4039 589.546 94.4039 596.675 Q94.4039 603.782 96.2094 607.347 Q98.0381 610.888 101.649 610.888 Q105.283 610.888 107.089 607.347 Q108.918 603.782 108.918 596.675 Q108.918 589.546 107.089 586.004 Q105.283 582.439 101.649 582.439 M101.649 578.736 Q107.459 578.736 110.515 583.342 Q113.594 587.925 113.594 596.675 Q113.594 605.402 110.515 610.009 Q107.459 614.592 101.649 614.592 Q95.8391 614.592 92.7604 610.009 Q89.7048 605.402 89.7048 596.675 Q89.7048 587.925 92.7604 583.342 Q95.8391 578.736 101.649 578.736 Z\" fill=\"#000000\" fill-rule=\"nonzero\" fill-opacity=\"1\" /><path clip-path=\"url(#clip280)\" d=\"M122.621 609.985 L130.26 609.985 L130.26 583.62 L121.95 585.286 L121.95 581.027 L130.214 579.361 L134.89 579.361 L134.89 609.985 L142.529 609.985 L142.529 613.921 L122.621 613.921 L122.621 609.985 Z\" fill=\"#000000\" fill-rule=\"nonzero\" fill-opacity=\"1\" /><path clip-path=\"url(#clip280)\" d=\"M152.019 579.361 L170.376 579.361 L170.376 583.296 L156.302 583.296 L156.302 591.768 Q157.32 591.421 158.339 591.259 Q159.357 591.073 160.376 591.073 Q166.163 591.073 169.542 594.245 Q172.922 597.416 172.922 602.833 Q172.922 608.411 169.45 611.513 Q165.978 614.592 159.658 614.592 Q157.482 614.592 155.214 614.221 Q152.968 613.851 150.561 613.11 L150.561 608.411 Q152.644 609.546 154.867 610.101 Q157.089 610.657 159.566 610.657 Q163.57 610.657 165.908 608.55 Q168.246 606.444 168.246 602.833 Q168.246 599.222 165.908 597.115 Q163.57 595.009 159.566 595.009 Q157.691 595.009 155.816 595.425 Q153.964 595.842 152.019 596.722 L152.019 579.361 Z\" fill=\"#000000\" fill-rule=\"nonzero\" fill-opacity=\"1\" /><path clip-path=\"url(#clip280)\" d=\"M55.2606 473.8 Q51.6495 473.8 49.8208 477.365 Q48.0152 480.906 48.0152 488.036 Q48.0152 495.142 49.8208 498.707 Q51.6495 502.249 55.2606 502.249 Q58.8948 502.249 60.7004 498.707 Q62.5291 495.142 62.5291 488.036 Q62.5291 480.906 60.7004 477.365 Q58.8948 473.8 55.2606 473.8 M55.2606 470.096 Q61.0707 470.096 64.1263 474.703 Q67.205 479.286 67.205 488.036 Q67.205 496.763 64.1263 501.369 Q61.0707 505.953 55.2606 505.953 Q49.4504 505.953 46.3717 501.369 Q43.3162 496.763 43.3162 488.036 Q43.3162 479.286 46.3717 474.703 Q49.4504 470.096 55.2606 470.096 Z\" fill=\"#000000\" fill-rule=\"nonzero\" fill-opacity=\"1\" /><path clip-path=\"url(#clip280)\" d=\"M75.4225 499.402 L80.3067 499.402 L80.3067 505.281 L75.4225 505.281 L75.4225 499.402 Z\" fill=\"#000000\" fill-rule=\"nonzero\" fill-opacity=\"1\" /><path clip-path=\"url(#clip280)\" d=\"M100.492 473.8 Q96.8807 473.8 95.052 477.365 Q93.2465 480.906 93.2465 488.036 Q93.2465 495.142 95.052 498.707 Q96.8807 502.249 100.492 502.249 Q104.126 502.249 105.932 498.707 Q107.76 495.142 107.76 488.036 Q107.76 480.906 105.932 477.365 Q104.126 473.8 100.492 473.8 M100.492 470.096 Q106.302 470.096 109.358 474.703 Q112.436 479.286 112.436 488.036 Q112.436 496.763 109.358 501.369 Q106.302 505.953 100.492 505.953 Q94.6817 505.953 91.603 501.369 Q88.5474 496.763 88.5474 488.036 Q88.5474 479.286 91.603 474.703 Q94.6817 470.096 100.492 470.096 Z\" fill=\"#000000\" fill-rule=\"nonzero\" fill-opacity=\"1\" /><path clip-path=\"url(#clip280)\" d=\"M121.464 501.346 L129.103 501.346 L129.103 474.981 L120.793 476.647 L120.793 472.388 L129.056 470.721 L133.732 470.721 L133.732 501.346 L141.371 501.346 L141.371 505.281 L121.464 505.281 L121.464 501.346 Z\" fill=\"#000000\" fill-rule=\"nonzero\" fill-opacity=\"1\" /><path clip-path=\"url(#clip280)\" d=\"M161.394 486.138 Q158.246 486.138 156.394 488.291 Q154.566 490.443 154.566 494.193 Q154.566 497.92 156.394 500.096 Q158.246 502.249 161.394 502.249 Q164.542 502.249 166.371 500.096 Q168.223 497.92 168.223 494.193 Q168.223 490.443 166.371 488.291 Q164.542 486.138 161.394 486.138 M170.677 471.485 L170.677 475.744 Q168.917 474.911 167.112 474.471 Q165.329 474.031 163.57 474.031 Q158.941 474.031 156.487 477.156 Q154.056 480.281 153.709 486.601 Q155.075 484.587 157.135 483.522 Q159.195 482.434 161.672 482.434 Q166.88 482.434 169.89 485.605 Q172.922 488.754 172.922 494.193 Q172.922 499.517 169.774 502.735 Q166.626 505.953 161.394 505.953 Q155.399 505.953 152.228 501.369 Q149.056 496.763 149.056 488.036 Q149.056 479.842 152.945 474.981 Q156.834 470.096 163.385 470.096 Q165.144 470.096 166.927 470.444 Q168.732 470.791 170.677 471.485 Z\" fill=\"#000000\" fill-rule=\"nonzero\" fill-opacity=\"1\" /><path clip-path=\"url(#clip280)\" d=\"M56.3254 365.161 Q52.7143 365.161 50.8856 368.725 Q49.0801 372.267 49.0801 379.397 Q49.0801 386.503 50.8856 390.068 Q52.7143 393.61 56.3254 393.61 Q59.9596 393.61 61.7652 390.068 Q63.5939 386.503 63.5939 379.397 Q63.5939 372.267 61.7652 368.725 Q59.9596 365.161 56.3254 365.161 M56.3254 361.457 Q62.1355 361.457 65.1911 366.063 Q68.2698 370.647 68.2698 379.397 Q68.2698 388.124 65.1911 392.73 Q62.1355 397.313 56.3254 397.313 Q50.5152 397.313 47.4365 392.73 Q44.381 388.124 44.381 379.397 Q44.381 370.647 47.4365 366.063 Q50.5152 361.457 56.3254 361.457 Z\" fill=\"#000000\" fill-rule=\"nonzero\" fill-opacity=\"1\" /><path clip-path=\"url(#clip280)\" d=\"M76.4873 390.762 L81.3715 390.762 L81.3715 396.642 L76.4873 396.642 L76.4873 390.762 Z\" fill=\"#000000\" fill-rule=\"nonzero\" fill-opacity=\"1\" /><path clip-path=\"url(#clip280)\" d=\"M101.557 365.161 Q97.9455 365.161 96.1168 368.725 Q94.3113 372.267 94.3113 379.397 Q94.3113 386.503 96.1168 390.068 Q97.9455 393.61 101.557 393.61 Q105.191 393.61 106.996 390.068 Q108.825 386.503 108.825 379.397 Q108.825 372.267 106.996 368.725 Q105.191 365.161 101.557 365.161 M101.557 361.457 Q107.367 361.457 110.422 366.063 Q113.501 370.647 113.501 379.397 Q113.501 388.124 110.422 392.73 Q107.367 397.313 101.557 397.313 Q95.7465 397.313 92.6678 392.73 Q89.6122 388.124 89.6122 379.397 Q89.6122 370.647 92.6678 366.063 Q95.7465 361.457 101.557 361.457 Z\" fill=\"#000000\" fill-rule=\"nonzero\" fill-opacity=\"1\" /><path clip-path=\"url(#clip280)\" d=\"M122.529 392.707 L130.168 392.707 L130.168 366.341 L121.857 368.008 L121.857 363.749 L130.121 362.082 L134.797 362.082 L134.797 392.707 L142.436 392.707 L142.436 396.642 L122.529 396.642 L122.529 392.707 Z\" fill=\"#000000\" fill-rule=\"nonzero\" fill-opacity=\"1\" /><path clip-path=\"url(#clip280)\" d=\"M150.7 362.082 L172.922 362.082 L172.922 364.073 L160.376 396.642 L155.492 396.642 L167.297 366.017 L150.7 366.017 L150.7 362.082 Z\" fill=\"#000000\" fill-rule=\"nonzero\" fill-opacity=\"1\" /><path clip-path=\"url(#clip280)\" d=\"M55.5152 256.521 Q51.9041 256.521 50.0754 260.086 Q48.2699 263.628 48.2699 270.757 Q48.2699 277.864 50.0754 281.429 Q51.9041 284.97 55.5152 284.97 Q59.1494 284.97 60.955 281.429 Q62.7837 277.864 62.7837 270.757 Q62.7837 263.628 60.955 260.086 Q59.1494 256.521 55.5152 256.521 M55.5152 252.818 Q61.3254 252.818 64.3809 257.424 Q67.4596 262.007 67.4596 270.757 Q67.4596 279.484 64.3809 284.091 Q61.3254 288.674 55.5152 288.674 Q49.7051 288.674 46.6264 284.091 Q43.5708 279.484 43.5708 270.757 Q43.5708 262.007 46.6264 257.424 Q49.7051 252.818 55.5152 252.818 Z\" fill=\"#000000\" fill-rule=\"nonzero\" fill-opacity=\"1\" /><path clip-path=\"url(#clip280)\" d=\"M75.6771 282.123 L80.5614 282.123 L80.5614 288.003 L75.6771 288.003 L75.6771 282.123 Z\" fill=\"#000000\" fill-rule=\"nonzero\" fill-opacity=\"1\" /><path clip-path=\"url(#clip280)\" d=\"M100.746 256.521 Q97.1354 256.521 95.3067 260.086 Q93.5011 263.628 93.5011 270.757 Q93.5011 277.864 95.3067 281.429 Q97.1354 284.97 100.746 284.97 Q104.381 284.97 106.186 281.429 Q108.015 277.864 108.015 270.757 Q108.015 263.628 106.186 260.086 Q104.381 256.521 100.746 256.521 M100.746 252.818 Q106.557 252.818 109.612 257.424 Q112.691 262.007 112.691 270.757 Q112.691 279.484 109.612 284.091 Q106.557 288.674 100.746 288.674 Q94.9363 288.674 91.8576 284.091 Q88.8021 279.484 88.8021 270.757 Q88.8021 262.007 91.8576 257.424 Q94.9363 252.818 100.746 252.818 Z\" fill=\"#000000\" fill-rule=\"nonzero\" fill-opacity=\"1\" /><path clip-path=\"url(#clip280)\" d=\"M121.719 284.068 L129.357 284.068 L129.357 257.702 L121.047 259.369 L121.047 255.109 L129.311 253.443 L133.987 253.443 L133.987 284.068 L141.626 284.068 L141.626 288.003 L121.719 288.003 L121.719 284.068 Z\" fill=\"#000000\" fill-rule=\"nonzero\" fill-opacity=\"1\" /><path clip-path=\"url(#clip280)\" d=\"M161.07 271.591 Q157.737 271.591 155.816 273.373 Q153.917 275.156 153.917 278.281 Q153.917 281.406 155.816 283.188 Q157.737 284.97 161.07 284.97 Q164.404 284.97 166.325 283.188 Q168.246 281.382 168.246 278.281 Q168.246 275.156 166.325 273.373 Q164.427 271.591 161.07 271.591 M156.394 269.6 Q153.385 268.859 151.695 266.799 Q150.029 264.739 150.029 261.776 Q150.029 257.633 152.968 255.225 Q155.931 252.818 161.07 252.818 Q166.232 252.818 169.172 255.225 Q172.112 257.633 172.112 261.776 Q172.112 264.739 170.422 266.799 Q168.755 268.859 165.769 269.6 Q169.149 270.387 171.024 272.679 Q172.922 274.97 172.922 278.281 Q172.922 283.304 169.843 285.989 Q166.788 288.674 161.07 288.674 Q155.353 288.674 152.274 285.989 Q149.218 283.304 149.218 278.281 Q149.218 274.97 151.117 272.679 Q153.015 270.387 156.394 269.6 M154.681 262.216 Q154.681 264.901 156.348 266.406 Q158.038 267.91 161.07 267.91 Q164.079 267.91 165.769 266.406 Q167.482 264.901 167.482 262.216 Q167.482 259.531 165.769 258.026 Q164.079 256.521 161.07 256.521 Q158.038 256.521 156.348 258.026 Q154.681 259.531 154.681 262.216 Z\" fill=\"#000000\" fill-rule=\"nonzero\" fill-opacity=\"1\" /><path clip-path=\"url(#clip280)\" d=\"M55.6078 147.882 Q51.9967 147.882 50.168 151.447 Q48.3625 154.989 48.3625 162.118 Q48.3625 169.225 50.168 172.789 Q51.9967 176.331 55.6078 176.331 Q59.242 176.331 61.0476 172.789 Q62.8763 169.225 62.8763 162.118 Q62.8763 154.989 61.0476 151.447 Q59.242 147.882 55.6078 147.882 M55.6078 144.178 Q61.418 144.178 64.4735 148.785 Q67.5522 153.368 67.5522 162.118 Q67.5522 170.845 64.4735 175.451 Q61.418 180.035 55.6078 180.035 Q49.7976 180.035 46.719 175.451 Q43.6634 170.845 43.6634 162.118 Q43.6634 153.368 46.719 148.785 Q49.7976 144.178 55.6078 144.178 Z\" fill=\"#000000\" fill-rule=\"nonzero\" fill-opacity=\"1\" /><path clip-path=\"url(#clip280)\" d=\"M75.7697 173.484 L80.654 173.484 L80.654 179.363 L75.7697 179.363 L75.7697 173.484 Z\" fill=\"#000000\" fill-rule=\"nonzero\" fill-opacity=\"1\" /><path clip-path=\"url(#clip280)\" d=\"M100.839 147.882 Q97.2279 147.882 95.3993 151.447 Q93.5937 154.989 93.5937 162.118 Q93.5937 169.225 95.3993 172.789 Q97.2279 176.331 100.839 176.331 Q104.473 176.331 106.279 172.789 Q108.108 169.225 108.108 162.118 Q108.108 154.989 106.279 151.447 Q104.473 147.882 100.839 147.882 M100.839 144.178 Q106.649 144.178 109.705 148.785 Q112.783 153.368 112.783 162.118 Q112.783 170.845 109.705 175.451 Q106.649 180.035 100.839 180.035 Q95.0289 180.035 91.9502 175.451 Q88.8947 170.845 88.8947 162.118 Q88.8947 153.368 91.9502 148.785 Q95.0289 144.178 100.839 144.178 Z\" fill=\"#000000\" fill-rule=\"nonzero\" fill-opacity=\"1\" /><path clip-path=\"url(#clip280)\" d=\"M121.811 175.428 L129.45 175.428 L129.45 149.063 L121.14 150.729 L121.14 146.47 L129.404 144.803 L134.08 144.803 L134.08 175.428 L141.718 175.428 L141.718 179.363 L121.811 179.363 L121.811 175.428 Z\" fill=\"#000000\" fill-rule=\"nonzero\" fill-opacity=\"1\" /><path clip-path=\"url(#clip280)\" d=\"M151.302 178.646 L151.302 174.387 Q153.061 175.22 154.867 175.66 Q156.672 176.1 158.408 176.1 Q163.038 176.1 165.468 172.998 Q167.922 169.873 168.269 163.53 Q166.927 165.521 164.866 166.586 Q162.806 167.651 160.306 167.651 Q155.121 167.651 152.089 164.526 Q149.08 161.377 149.08 155.938 Q149.08 150.614 152.228 147.396 Q155.376 144.178 160.607 144.178 Q166.603 144.178 169.751 148.785 Q172.922 153.368 172.922 162.118 Q172.922 170.289 169.033 175.174 Q165.167 180.035 158.617 180.035 Q156.857 180.035 155.052 179.687 Q153.246 179.34 151.302 178.646 M160.607 163.993 Q163.755 163.993 165.584 161.84 Q167.436 159.688 167.436 155.938 Q167.436 152.211 165.584 150.058 Q163.755 147.882 160.607 147.882 Q157.459 147.882 155.607 150.058 Q153.779 152.211 153.779 155.938 Q153.779 159.688 155.607 161.84 Q157.459 163.993 160.607 163.993 Z\" fill=\"#000000\" fill-rule=\"nonzero\" fill-opacity=\"1\" /><path clip-path=\"url(#clip280)\" d=\"M55.4226 39.2428 Q51.8115 39.2428 49.9828 42.8076 Q48.1773 46.3493 48.1773 53.4789 Q48.1773 60.5853 49.9828 64.1501 Q51.8115 67.6917 55.4226 67.6917 Q59.0569 67.6917 60.8624 64.1501 Q62.6911 60.5853 62.6911 53.4789 Q62.6911 46.3493 60.8624 42.8076 Q59.0569 39.2428 55.4226 39.2428 M55.4226 35.5391 Q61.2328 35.5391 64.2883 40.1456 Q67.367 44.7289 67.367 53.4789 Q67.367 62.2057 64.2883 66.8121 Q61.2328 71.3954 55.4226 71.3954 Q49.6125 71.3954 46.5338 66.8121 Q43.4782 62.2057 43.4782 53.4789 Q43.4782 44.7289 46.5338 40.1456 Q49.6125 35.5391 55.4226 35.5391 Z\" fill=\"#000000\" fill-rule=\"nonzero\" fill-opacity=\"1\" /><path clip-path=\"url(#clip280)\" d=\"M75.5845 64.8445 L80.4688 64.8445 L80.4688 70.7241 L75.5845 70.7241 L75.5845 64.8445 Z\" fill=\"#000000\" fill-rule=\"nonzero\" fill-opacity=\"1\" /><path clip-path=\"url(#clip280)\" d=\"M100.654 39.2428 Q97.0428 39.2428 95.2141 42.8076 Q93.4085 46.3493 93.4085 53.4789 Q93.4085 60.5853 95.2141 64.1501 Q97.0428 67.6917 100.654 67.6917 Q104.288 67.6917 106.094 64.1501 Q107.922 60.5853 107.922 53.4789 Q107.922 46.3493 106.094 42.8076 Q104.288 39.2428 100.654 39.2428 M100.654 35.5391 Q106.464 35.5391 109.52 40.1456 Q112.598 44.7289 112.598 53.4789 Q112.598 62.2057 109.52 66.8121 Q106.464 71.3954 100.654 71.3954 Q94.8437 71.3954 91.765 66.8121 Q88.7095 62.2057 88.7095 53.4789 Q88.7095 44.7289 91.765 40.1456 Q94.8437 35.5391 100.654 35.5391 Z\" fill=\"#000000\" fill-rule=\"nonzero\" fill-opacity=\"1\" /><path clip-path=\"url(#clip280)\" d=\"M124.844 66.789 L141.163 66.789 L141.163 70.7241 L119.219 70.7241 L119.219 66.789 Q121.881 64.0344 126.464 59.4048 Q131.07 54.752 132.251 53.4094 Q134.496 50.8863 135.376 49.1502 Q136.279 47.3909 136.279 45.7011 Q136.279 42.9465 134.334 41.2104 Q132.413 39.4743 129.311 39.4743 Q127.112 39.4743 124.658 40.2382 Q122.228 41.0021 119.45 42.553 L119.45 37.8308 Q122.274 36.6965 124.728 36.1178 Q127.181 35.5391 129.219 35.5391 Q134.589 35.5391 137.783 38.2243 Q140.978 40.9095 140.978 45.4002 Q140.978 47.5298 140.168 49.4511 Q139.38 51.3492 137.274 53.9418 Q136.695 54.6131 133.593 57.8307 Q130.492 61.0251 124.844 66.789 Z\" fill=\"#000000\" fill-rule=\"nonzero\" fill-opacity=\"1\" /><path clip-path=\"url(#clip280)\" d=\"M160.978 39.2428 Q157.367 39.2428 155.538 42.8076 Q153.732 46.3493 153.732 53.4789 Q153.732 60.5853 155.538 64.1501 Q157.367 67.6917 160.978 67.6917 Q164.612 67.6917 166.417 64.1501 Q168.246 60.5853 168.246 53.4789 Q168.246 46.3493 166.417 42.8076 Q164.612 39.2428 160.978 39.2428 M160.978 35.5391 Q166.788 35.5391 169.843 40.1456 Q172.922 44.7289 172.922 53.4789 Q172.922 62.2057 169.843 66.8121 Q166.788 71.3954 160.978 71.3954 Q155.167 71.3954 152.089 66.8121 Q149.033 62.2057 149.033 53.4789 Q149.033 44.7289 152.089 40.1456 Q155.167 35.5391 160.978 35.5391 Z\" fill=\"#000000\" fill-rule=\"nonzero\" fill-opacity=\"1\" /><polyline clip-path=\"url(#clip282)\" style=\"stroke:#009af9; stroke-linecap:round; stroke-linejoin:round; stroke-width:4; stroke-opacity:1; fill:none\" points=\"338.2,66.2459 409.818,81.4281 481.436,99.986 553.054,116.769 624.672,131.009 696.29,142.413 767.908,157.037 839.526,171.499 911.144,183.247 982.761,196.496 1054.38,217.135 1126,234.13 1197.62,250.436 1269.23,269.775 1340.85,290.525 1412.47,306.001 1484.09,320.125 1555.7,337.446 1627.32,356.729 1698.94,376.491 1770.56,395.268 1842.18,415.604 1913.79,436.358 1985.41,456.81 2057.03,474.852 2128.65,490.892 2200.27,506.086 2271.88,527.747 2343.5,544.42 2415.12,563.433 2486.74,583.072 2558.36,601.761 2629.97,615.031 2701.59,635.489 2773.21,651.241 2844.83,666.689 2916.44,677.426 2988.06,687.458 3059.68,697.728 3131.3,699.638 3202.92,692.716 3274.53,687.564 3346.15,681.617 3417.77,675.889 3489.39,670.067 3561.01,664.1 3632.62,661.024 3704.24,658.635 3775.86,656.847 3847.48,654.111 \"/>\n",
       "<path clip-path=\"url(#clip280)\" d=\"M3404.35 173.304 L3828.76 173.304 L3828.76 69.624 L3404.35 69.624  Z\" fill=\"#ffffff\" fill-rule=\"evenodd\" fill-opacity=\"1\"/>\n",
       "<polyline clip-path=\"url(#clip280)\" style=\"stroke:#000000; stroke-linecap:round; stroke-linejoin:round; stroke-width:4; stroke-opacity:1; fill:none\" points=\"3404.35,173.304 3828.76,173.304 3828.76,69.624 3404.35,69.624 3404.35,173.304 \"/>\n",
       "<polyline clip-path=\"url(#clip280)\" style=\"stroke:#009af9; stroke-linecap:round; stroke-linejoin:round; stroke-width:4; stroke-opacity:1; fill:none\" points=\"3445.68,121.464 3693.67,121.464 \"/>\n",
       "<path clip-path=\"url(#clip280)\" d=\"M3748.84 141.151 Q3747.04 145.781 3745.32 147.193 Q3743.61 148.605 3740.74 148.605 L3737.34 148.605 L3737.34 145.04 L3739.84 145.04 Q3741.6 145.04 3742.57 144.207 Q3743.54 143.374 3744.72 140.272 L3745.49 138.327 L3735 112.818 L3739.51 112.818 L3747.62 133.096 L3755.72 112.818 L3760.23 112.818 L3748.84 141.151 Z\" fill=\"#000000\" fill-rule=\"nonzero\" fill-opacity=\"1\" /><path clip-path=\"url(#clip280)\" d=\"M3767.52 134.809 L3775.16 134.809 L3775.16 108.443 L3766.85 110.11 L3766.85 105.851 L3775.12 104.184 L3779.79 104.184 L3779.79 134.809 L3787.43 134.809 L3787.43 138.744 L3767.52 138.744 L3767.52 134.809 Z\" fill=\"#000000\" fill-rule=\"nonzero\" fill-opacity=\"1\" /></svg>\n"
      ]
     },
     "execution_count": 24,
     "metadata": {},
     "output_type": "execute_result"
    }
   ],
   "source": [
    "plot(scores, size = (1000, 200))"
   ]
  },
  {
   "cell_type": "markdown",
   "id": "d3c73f49-4b99-41a3-a1fc-bb1c7a9a704a",
   "metadata": {},
   "source": [
    "Alright this should look good. Try to reason about how often proposals are accepted by the step-wise changes in the loglikelihood scores over iterations.\n",
    "\n",
    "Now let's find out what our inferred scene looks like at the end of the procedure:"
   ]
  },
  {
   "cell_type": "code",
   "execution_count": 25,
   "id": "41f4ebc9-24f1-4377-beac-2e94513833c6",
   "metadata": {},
   "outputs": [
    {
     "data": {
      "text/html": [
       "<img src=\"data:image/jpeg;base64, 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\">"
      ],
      "text/plain": [
       "PyObject Bitmap[\n",
       "  pixel_format = rgb,\n",
       "  component_format = uint8,\n",
       "  size = [64, 64],\n",
       "  srgb_gamma = 1,\n",
       "  struct = Struct<3>[\n",
       "    uint8 R; // @0, normalized, gamma, premultiplied alpha\n",
       "    uint8 G; // @1, normalized, gamma, premultiplied alpha\n",
       "    uint8 B; // @2, normalized, gamma, premultiplied alpha\n",
       "  ],\n",
       "  data = [ 12 KiB of image data ]\n",
       "]"
      ]
     },
     "execution_count": 25,
     "metadata": {},
     "output_type": "execute_result"
    }
   ],
   "source": [
    "render_bitmap(modelparams)"
   ]
  },
  {
   "cell_type": "markdown",
   "id": "4bbc95b7-04e8-4faf-b8c7-51083c7b72b9",
   "metadata": {},
   "source": [
    "Compare the image that your model synthesized to what the observation was like from above. Did the inference procedure work reasonably well? Try changing the number of iterations. "
   ]
  },
  {
   "cell_type": "markdown",
   "id": "25975733-b6cd-4f3f-913c-fe59721c4ea6",
   "metadata": {},
   "source": [
    "## Taking stock:\n",
    "\n",
    "Notice what we have accomplished: The result of the inference procedure is not just a reconstructed image -- rather, it is a causal explanation that goes far beyond what was in the image: a 3D scene that we can re-light, re-pose, and manipulate. The result of inference"
   ]
  }
 ],
 "metadata": {
  "kernelspec": {
   "display_name": "Algorithms of the Mind (Julia) 1.9.2",
   "language": "julia",
   "name": "atom-jl-1.9"
  },
  "language_info": {
   "file_extension": ".jl",
   "mimetype": "application/julia",
   "name": "julia",
   "version": "1.9.2"
  },
  "widgets": {
   "application/vnd.jupyter.widget-state+json": {
    "state": {},
    "version_major": 2,
    "version_minor": 0
   }
  }
 },
 "nbformat": 4,
 "nbformat_minor": 5
}
