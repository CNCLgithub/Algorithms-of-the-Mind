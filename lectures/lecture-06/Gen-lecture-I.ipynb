{
 "cells": [
  {
   "cell_type": "markdown",
   "id": "75d2d009-e9e8-42f3-a4b2-7a395dec158c",
   "metadata": {},
   "source": [
    "# Code associated with lecture 6"
   ]
  },
  {
   "cell_type": "code",
   "execution_count": 1,
   "id": "64f012a8-7786-4144-aa51-5e6b31905000",
   "metadata": {},
   "outputs": [],
   "source": [
    "using Gen\n",
    "using Plots"
   ]
  },
  {
   "cell_type": "code",
   "execution_count": 2,
   "id": "d2eb1957-563f-4dc7-aedc-6a4a47329c59",
   "metadata": {},
   "outputs": [
    {
     "data": {
      "text/plain": [
       "DynamicDSLFunction{Any}(Dict{Symbol, Any}(), Dict{Symbol, Any}(), Type[], false, Union{Nothing, Some{Any}}[], var\"##unknown_urn#292\", Bool[], false)"
      ]
     },
     "execution_count": 2,
     "metadata": {},
     "output_type": "execute_result"
    }
   ],
   "source": [
    "# Generative model of an urn with unknown ratio of red and blue marbles\n",
    "# Using the @trace notation\n",
    "@gen function unknown_urn()\n",
    "    # p(θ) ̃Uniform(0,1)  [prior distribution]\n",
    "    theta = @trace(uniform(0, 1), :theta)\n",
    "    for i=1:10\n",
    "        # p(y=1|θ) ~ Bernoulli(θ) [likelihood function]\n",
    "        y = @trace(bernoulli(theta), :data => i => :y)\n",
    "    end\n",
    "end"
   ]
  },
  {
   "cell_type": "code",
   "execution_count": 3,
   "id": "647fd0fe-eba4-478b-b891-eb6311523291",
   "metadata": {},
   "outputs": [
    {
     "data": {
      "text/plain": [
       "DynamicDSLFunction{Any}(Dict{Symbol, Any}(), Dict{Symbol, Any}(), Type[], false, Union{Nothing, Some{Any}}[], var\"##unknown_urn#293\", Bool[], false)"
      ]
     },
     "execution_count": 3,
     "metadata": {},
     "output_type": "execute_result"
    }
   ],
   "source": [
    "# same as above, but using the ~ notation\n",
    "@gen function unknown_urn()\n",
    "    # p(θ) ̃Uniform(0,1)  [prior distribution]\n",
    "    theta ~ uniform(0, 1)\n",
    "    for i=1:10\n",
    "        # p(y=1|θ) ~ Bernoulli(θ) [likelihood function]\n",
    "        {:data => i => :y} ~ bernoulli(theta)\n",
    "    end\n",
    "end"
   ]
  },
  {
   "cell_type": "code",
   "execution_count": 4,
   "id": "c22cf0eb-45a8-445a-aa1a-90b6e1a82f7b",
   "metadata": {
    "scrolled": true
   },
   "outputs": [
    {
     "data": {
      "text/plain": [
       "│\n",
       "├── :theta : 0.6299190921567404\n",
       "│\n",
       "└── :data\n",
       "    │\n",
       "    ├── 5\n",
       "    │   │\n",
       "    │   └── :y : true\n",
       "    │\n",
       "    ├── 4\n",
       "    │   │\n",
       "    │   └── :y : false\n",
       "    │\n",
       "    ├── 6\n",
       "    │   │\n",
       "    │   └── :y : true\n",
       "    │\n",
       "    ├── 7\n",
       "    │   │\n",
       "    │   └── :y : true\n",
       "    │\n",
       "    ├── 2\n",
       "    │   │\n",
       "    │   └── :y : true\n",
       "    │\n",
       "    ├── 10\n",
       "    │   │\n",
       "    │   └── :y : true\n",
       "    │\n",
       "    ├── 9\n",
       "    │   │\n",
       "    │   └── :y : true\n",
       "    │\n",
       "    ├── 8\n",
       "    │   │\n",
       "    │   └── :y : false\n",
       "    │\n",
       "    ├── 3\n",
       "    │   │\n",
       "    │   └── :y : true\n",
       "    │\n",
       "    └── 1\n",
       "        │\n",
       "        └── :y : true\n"
      ]
     },
     "execution_count": 4,
     "metadata": {},
     "output_type": "execute_result"
    }
   ],
   "source": [
    "# simulate the generative function to draw a sample\n",
    "trace = simulate(unknown_urn, ())\n",
    "# look into the random choices (i.e., a sample from the generative model)\n",
    "Gen.get_choices(trace)"
   ]
  },
  {
   "cell_type": "code",
   "execution_count": 1,
   "id": "6205b139-2f5f-4c8e-aad2-b90be8038578",
   "metadata": {
    "scrolled": true
   },
   "outputs": [
    {
     "ename": "LoadError",
     "evalue": "UndefVarError: `Gen` not defined",
     "output_type": "error",
     "traceback": [
      "UndefVarError: `Gen` not defined",
      "",
      "Stacktrace:",
      " [1] make_constraints(ys::Vector{Bool})",
      "   @ Main ./In[1]:4",
      " [2] top-level scope",
      "   @ In[1]:19"
     ]
    }
   ],
   "source": [
    "# helper function to create a choicemap with the observed data xs\n",
    "function make_constraints(ys::Vector{Bool})\n",
    "    # choicemap to encode observations\n",
    "    constraints = Gen.choicemap()\n",
    "    # fill in the choicemap with the observed draws\n",
    "    for i=1:length(ys)\n",
    "        constraints[:data => i => :y] = ys[i]\n",
    "    end\n",
    "    # return the observations\n",
    "    constraints\n",
    "end\n",
    "\n",
    "# **** Start reading this codeblock from here: ****\n",
    "# we will store observations in a Boolean array\n",
    "draws = Bool[]\n",
    "# true=red marble; false=blue marble\n",
    "# typically data is something we read from file, but in this case we will hand-code it\n",
    "draws = [true, true,true, true, true, true, false, true, false, true]\n",
    "observations = make_constraints(draws)"
   ]
  },
  {
   "cell_type": "code",
   "execution_count": null,
   "id": "d8a79ddc-d794-4b36-a835-5e8d29331e82",
   "metadata": {},
   "outputs": [],
   "source": []
  },
  {
   "cell_type": "code",
   "execution_count": 6,
   "id": "0609fc89-92db-4e02-b05a-e7c0daf8d6ae",
   "metadata": {
    "scrolled": true
   },
   "outputs": [],
   "source": [
    "# the posterior p(θ|observations)\n",
    "# using \"importance resampling\" from Gen's library of inference methods\n",
    "# we run this algorithm 100 times and record the output\n",
    "traces = [first(Gen.importance_resampling(unknown_urn, (), observations, 1000)) for i in 1:100]\n",
    "\n",
    "# collect the inferred θs across these 100 chains and plot\n",
    "thetas = Float64[]\n",
    "thetas = [t[:theta] for t in traces]\n",
    "p = histogram(thetas, label=\"\\theta\")\n",
    "savefig(p, \"urn-posterior.svg\")"
   ]
  },
  {
   "cell_type": "code",
   "execution_count": 7,
   "id": "ec986267-1b08-4ed6-95c5-6cc14f3933d6",
   "metadata": {},
   "outputs": [
    {
     "data": {
      "text/plain": [
       "DynamicDSLFunction{Any}(Dict{Symbol, Any}(), Dict{Symbol, Any}(), Type[], false, Union{Nothing, Some{Any}}[], var\"##unknown_urn_single#295\", Bool[], false)"
      ]
     },
     "execution_count": 7,
     "metadata": {},
     "output_type": "execute_result"
    }
   ],
   "source": [
    "@gen function unknown_urn_single()\n",
    "    # p(θ) ̃Uniform(0,1)  [prior distribution]\n",
    "    theta ~ uniform(0, 1)\n",
    "    # p(y=1|θ) ~ Bernoulli(θ) \n",
    "    y ~ bernoulli(theta)\n",
    "end"
   ]
  },
  {
   "cell_type": "code",
   "execution_count": 8,
   "id": "516bb3c5-9c09-42c1-a523-a5f47ead25ea",
   "metadata": {},
   "outputs": [
    {
     "data": {
      "text/plain": [
       "│\n",
       "├── :y : true\n",
       "│\n",
       "└── :theta : 0.8015938986727597\n"
      ]
     },
     "execution_count": 8,
     "metadata": {},
     "output_type": "execute_result"
    }
   ],
   "source": [
    "# draw a sample from the generative model\n",
    "# notice the args x=() because our generative model\n",
    "# unknown_urn_single() has no arguments\n",
    "trace = Gen.simulate(unknown_urn_single, ())\n",
    "# peek inside the trace\n",
    "Gen.get_choices(trace)"
   ]
  },
  {
   "cell_type": "code",
   "execution_count": 9,
   "id": "b343b509-20ed-452f-8250-f4bb84e59dd1",
   "metadata": {},
   "outputs": [],
   "source": [
    "traces = [simulate(unknown_urn_single, ()) for _ in 1:1000]\n",
    "thetas = [traces[i][:theta] for i in 1:1000]\n",
    "ys = [traces[i][:y] for i in 1:1000]\n",
    "p = histogram(thetas, label=\"θ\")\n",
    "p1 = scatter(ys, thetas, label=:none)\n",
    "savefig(p1, \"single-urn.svg\")"
   ]
  },
  {
   "cell_type": "code",
   "execution_count": 10,
   "id": "a0535203-d8fb-4c69-b9a9-30085bc5520e",
   "metadata": {},
   "outputs": [
    {
     "data": {
      "text/plain": [
       "│\n",
       "└── :z : true\n"
      ]
     },
     "execution_count": 10,
     "metadata": {},
     "output_type": "execute_result"
    }
   ],
   "source": [
    "@gen function foo(a, b=0)\n",
    "    z ~ bernoulli(0.5)\n",
    "    if z\n",
    "        return a + b + 1\n",
    "    else\n",
    "        return a + b\n",
    "    end\n",
    "end\n",
    "# draw a sample from the generative model\n",
    "trace = Gen.simulate(foo, (3, 5))\n",
    "# get the random choice made\n",
    "choices = Gen.get_choices(trace)"
   ]
  },
  {
   "cell_type": "code",
   "execution_count": 11,
   "id": "1db015b7-c513-45b8-92e2-df4453bfb2da",
   "metadata": {},
   "outputs": [
    {
     "data": {
      "text/plain": [
       "9"
      ]
     },
     "execution_count": 11,
     "metadata": {},
     "output_type": "execute_result"
    }
   ],
   "source": [
    "# get the return value of the function foo\n",
    "return_value = Gen.get_retval(trace)"
   ]
  },
  {
   "cell_type": "code",
   "execution_count": 12,
   "id": "a578414e-34b4-4766-955a-99a76ef1dccf",
   "metadata": {},
   "outputs": [
    {
     "data": {
      "text/plain": [
       "(Gen.DynamicDSLTrace{DynamicDSLFunction{Any}}(DynamicDSLFunction{Any}(Dict{Symbol, Any}(), Dict{Symbol, Any}(), Type[], false, Union{Nothing, Some{Any}}[], var\"##unknown_urn_single#295\", Bool[], false), Trie{Any, Gen.ChoiceOrCallRecord}(Dict{Any, Gen.ChoiceOrCallRecord}(:y => Gen.ChoiceOrCallRecord{Bool}(true, -3.6998986620853485, NaN, true), :theta => Gen.ChoiceOrCallRecord{Float64}(0.024726032027906575, -0.0, NaN, true)), Dict{Any, Trie{Any, Gen.ChoiceOrCallRecord}}()), false, -3.6998986620853485, 0.0, (), true), -3.6998986620853485)"
      ]
     },
     "execution_count": 12,
     "metadata": {},
     "output_type": "execute_result"
    }
   ],
   "source": [
    "# draw a trace and return its log score where y=true\n",
    "(trace, weight) = Gen.generate(unknown_urn_single, (), choicemap((:y, true)))"
   ]
  },
  {
   "cell_type": "markdown",
   "id": "e2adf8fd-3e78-4168-9655-9dfc380208f9",
   "metadata": {},
   "source": [
    "## Illustrating Gen.update"
   ]
  },
  {
   "cell_type": "code",
   "execution_count": 14,
   "id": "47962360-612c-443b-bd43-844997f396cb",
   "metadata": {},
   "outputs": [
    {
     "data": {
      "text/plain": [
       "DynamicDSLFunction{Any}(Dict{Symbol, Any}(), Dict{Symbol, Any}(), Type[], false, Union{Nothing, Some{Any}}[], var\"##bar#300\", Bool[], false)"
      ]
     },
     "execution_count": 14,
     "metadata": {},
     "output_type": "execute_result"
    }
   ],
   "source": [
    "@gen function bar()\n",
    "    a ~ bernoulli(0.3)\n",
    "    b ~ bernoulli(0.4)\n",
    "    if b\n",
    "        c ~ bernoulli(0.6)\n",
    "        val = c && a\n",
    "    else\n",
    "        d ~ bernoulli(0.1)\n",
    "        val = d && a\n",
    "    end\n",
    "    e ~ bernoulli(0.7)\n",
    "    val = e && val\n",
    "    return val\n",
    "end"
   ]
  },
  {
   "cell_type": "code",
   "execution_count": 15,
   "id": "85ed03b6-ac69-4b4b-a7c2-ac1f1a00bf8e",
   "metadata": {},
   "outputs": [
    {
     "data": {
      "text/plain": [
       "│\n",
       "├── :a : true\n",
       "│\n",
       "├── :b : true\n",
       "│\n",
       "├── :e : false\n",
       "│\n",
       "└── :c : true\n"
      ]
     },
     "execution_count": 15,
     "metadata": {},
     "output_type": "execute_result"
    }
   ],
   "source": [
    "trace = Gen.simulate(bar, ())\n",
    "Gen.get_choices(trace)"
   ]
  },
  {
   "cell_type": "code",
   "execution_count": 16,
   "id": "68217af7-5787-4af0-80f3-ea8153d79872",
   "metadata": {},
   "outputs": [
    {
     "data": {
      "text/plain": [
       "(Gen.DynamicDSLTrace{DynamicDSLFunction{Any}}(DynamicDSLFunction{Any}(Dict{Symbol, Any}(), Dict{Symbol, Any}(), Type[], false, Union{Nothing, Some{Any}}[], var\"##bar#300\", Bool[], false), Trie{Any, Gen.ChoiceOrCallRecord}(Dict{Any, Gen.ChoiceOrCallRecord}(:a => Gen.ChoiceOrCallRecord{Bool}(true, -1.2039728043259361, NaN, true), :b => Gen.ChoiceOrCallRecord{Bool}(false, -0.5108256237659907, NaN, true), :d => Gen.ChoiceOrCallRecord{Bool}(true, -2.3025850929940455, NaN, true), :e => Gen.ChoiceOrCallRecord{Bool}(false, -1.203972804325936, NaN, true)), Dict{Any, Trie{Any, Gen.ChoiceOrCallRecord}}()), false, -5.221356325411908, 0.0, (), false), -1.3862943611198906, UnknownChange(), DynamicChoiceMap(Dict{Any, Any}(:b => true, :c => true), Dict{Any, Any}()))"
      ]
     },
     "execution_count": 16,
     "metadata": {},
     "output_type": "execute_result"
    }
   ],
   "source": [
    "# encode the new trace u as a choicemap\n",
    "constraints = choicemap((:b, false), (:d, true))\n",
    "# make the update\n",
    "(new_trace, w, _, discard) = update(trace, (), (), constraints)"
   ]
  },
  {
   "cell_type": "code",
   "execution_count": 17,
   "id": "280d6d92-6dc6-471b-8041-8a69cb3cd6e9",
   "metadata": {},
   "outputs": [
    {
     "data": {
      "text/plain": [
       "│\n",
       "├── :a : true\n",
       "│\n",
       "├── :b : false\n",
       "│\n",
       "├── :d : true\n",
       "│\n",
       "└── :e : false\n"
      ]
     },
     "execution_count": 17,
     "metadata": {},
     "output_type": "execute_result"
    }
   ],
   "source": [
    "# peek inside the adjusted trace\n",
    "Gen.get_choices(new_trace)"
   ]
  },
  {
   "cell_type": "code",
   "execution_count": 156,
   "id": "d2d51b58-6802-49b0-a27a-367e7ff87159",
   "metadata": {},
   "outputs": [
    {
     "data": {
      "text/plain": [
       "│\n",
       "├── :b : false\n",
       "│\n",
       "└── :d : true\n"
      ]
     },
     "execution_count": 156,
     "metadata": {},
     "output_type": "execute_result"
    }
   ],
   "source": [
    "# choices not used from the original trace t\n",
    "discard"
   ]
  },
  {
   "cell_type": "code",
   "execution_count": 18,
   "id": "db16411b-24ff-41bc-b1ee-766347e9fea6",
   "metadata": {},
   "outputs": [
    {
     "data": {
      "text/plain": [
       "-1.3862943611198906"
      ]
     },
     "execution_count": 18,
     "metadata": {},
     "output_type": "execute_result"
    }
   ],
   "source": [
    "# log score of the adjusted trace\n",
    "w"
   ]
  },
  {
   "cell_type": "code",
   "execution_count": 19,
   "id": "f041e28d-3edd-4403-880a-f222b057b874",
   "metadata": {},
   "outputs": [
    {
     "data": {
      "text/plain": [
       "(Gen.DynamicDSLTrace{DynamicDSLFunction{Any}}(DynamicDSLFunction{Any}(Dict{Symbol, Any}(), Dict{Symbol, Any}(), Type[], false, Union{Nothing, Some{Any}}[], var\"##bar#300\", Bool[], false), Trie{Any, Gen.ChoiceOrCallRecord}(Dict{Any, Gen.ChoiceOrCallRecord}(:a => Gen.ChoiceOrCallRecord{Bool}(false, -0.35667494393873245, NaN, true), :b => Gen.ChoiceOrCallRecord{Bool}(false, -0.5108256237659907, NaN, true), :d => Gen.ChoiceOrCallRecord{Bool}(false, -0.10536051565782628, NaN, true), :e => Gen.ChoiceOrCallRecord{Bool}(false, -1.203972804325936, NaN, true)), Dict{Any, Trie{Any, Gen.ChoiceOrCallRecord}}()), false, -2.1768338876884856, 0.0, (), false), 0.0, UnknownChange())"
      ]
     },
     "execution_count": 19,
     "metadata": {},
     "output_type": "execute_result"
    }
   ],
   "source": [
    "# regenarate the random choices associated with the addresses a and b\n",
    "(new_trace, w, _) = Gen.regenerate(trace, (), (), select(:a, :b))"
   ]
  },
  {
   "cell_type": "code",
   "execution_count": 20,
   "id": "62c42a6c-f433-4842-8e59-b9865ac19f55",
   "metadata": {},
   "outputs": [
    {
     "data": {
      "text/plain": [
       "│\n",
       "├── :a : false\n",
       "│\n",
       "├── :b : false\n",
       "│\n",
       "├── :d : false\n",
       "│\n",
       "└── :e : false\n"
      ]
     },
     "execution_count": 20,
     "metadata": {},
     "output_type": "execute_result"
    }
   ],
   "source": [
    "get_choices(new_trace)"
   ]
  },
  {
   "cell_type": "code",
   "execution_count": 21,
   "id": "415127b4-4ce8-4c4e-9ba0-c6bfa05d548f",
   "metadata": {},
   "outputs": [
    {
     "data": {
      "text/plain": [
       "0.0"
      ]
     },
     "execution_count": 21,
     "metadata": {},
     "output_type": "execute_result"
    }
   ],
   "source": [
    "# weight\n",
    "w"
   ]
  },
  {
   "cell_type": "markdown",
   "id": "67ee0ba7-eaf5-4066-ad26-6992d3bfa7c5",
   "metadata": {},
   "source": [
    "## Static annotation"
   ]
  },
  {
   "cell_type": "code",
   "execution_count": 169,
   "id": "32db7267-b3d7-4480-9801-c4596fbde4da",
   "metadata": {},
   "outputs": [
    {
     "data": {
      "text/plain": [
       "│\n",
       "├── :branch : true\n",
       "│\n",
       "└── :z : 2.6382706573019994\n"
      ]
     },
     "execution_count": 169,
     "metadata": {},
     "output_type": "execute_result"
    }
   ],
   "source": [
    "@gen function foo_dynamic(x::Float64)\n",
    "    # draw the mean of a normal dist. w/ a coin flip\n",
    "    if @trace(bernoulli(0.5), :branch)\n",
    "        mu = x\n",
    "    else\n",
    "        mu = 1/x\n",
    "    end\n",
    "    # draw the normal distribution\n",
    "    z = @trace(normal(mu, 1), :z)\n",
    "end\n",
    "trace = Gen.simulate(foo_dynamic, (3.0,))\n",
    "get_choices(trace)"
   ]
  },
  {
   "cell_type": "code",
   "execution_count": 22,
   "id": "88c63b5b-45e9-4761-ae32-4f8f11fe3f09",
   "metadata": {},
   "outputs": [
    {
     "data": {
      "text/plain": [
       "│\n",
       "├── :branch : true\n",
       "│\n",
       "└── :z : 4.067046879558006\n"
      ]
     },
     "execution_count": 22,
     "metadata": {},
     "output_type": "execute_result"
    }
   ],
   "source": [
    "@gen (static) function foo_static(x::Float64)\n",
    "    # in static annotation, you can use the \"? :\" branching\n",
    "    # but it can't be a top-level expression \n",
    "    # e.g., it can be on the right-hand side\n",
    "    mu = @trace(bernoulli(0.5), :branch) ? (x) : (1/x)\n",
    "    # draw the normal distribution\n",
    "    @trace(normal(x, 1), :z)\n",
    "end\n",
    "@load_generated_functions\n",
    "trace = Gen.simulate(foo_static, (3.0,))\n",
    "get_choices(trace)"
   ]
  },
  {
   "cell_type": "markdown",
   "id": "c1d48a65-8cf7-4b9e-abc9-077f1f30be12",
   "metadata": {},
   "source": [
    "## Combinator example using Map"
   ]
  },
  {
   "cell_type": "code",
   "execution_count": 25,
   "id": "95087fff-e61e-475c-b814-1b6be0fdb8e9",
   "metadata": {},
   "outputs": [
    {
     "data": {
      "text/plain": [
       "DynamicDSLFunction{Any}(Dict{Symbol, Any}(), Dict{Symbol, Any}(), Type[], false, Union{Nothing, Some{Any}}[], var\"##unknown_urn#327\", Bool[], false)"
      ]
     },
     "execution_count": 25,
     "metadata": {},
     "output_type": "execute_result"
    }
   ],
   "source": [
    "@gen function unknown_urn()\n",
    "    # p(θ) ̃Uniform(0,1)  [prior distribution]\n",
    "    theta ~ uniform(0, 1)\n",
    "    for i=1:100\n",
    "        # p(y=1|θ) ~ Bernoulli(θ) [likelihood function]\n",
    "        {:data => i => :y} ~ bernoulli(theta)\n",
    "    end\n",
    "end"
   ]
  },
  {
   "cell_type": "code",
   "execution_count": 26,
   "id": "afd18077-2674-4ad3-b82e-bfd75d10a612",
   "metadata": {},
   "outputs": [
    {
     "data": {
      "text/plain": [
       "var\"##StaticGenFunction_unknown_urn_static#353\"(Dict{Symbol, Any}(), Dict{Symbol, Any}())"
      ]
     },
     "execution_count": 26,
     "metadata": {},
     "output_type": "execute_result"
    }
   ],
   "source": [
    "# kernel generative function G_k\n",
    "@gen (static) function observe_flip(theta::Float64)\n",
    "    # p(y|θ) ~ Bernoulli(θ) [likelihood function]\n",
    "    y ~ bernoulli(theta)\n",
    "    return y\n",
    "end\n",
    "\n",
    "@gen (static) function unknown_urn_static(k::Int64)\n",
    "    # prior over coin weight p(θ)\n",
    "    theta ~ uniform(0,1)\n",
    "    # called k times\n",
    "    data ~ Gen.Map(observe_flip)(fill(theta, k))\n",
    "end"
   ]
  },
  {
   "cell_type": "code",
   "execution_count": 27,
   "id": "d003ef2d-d285-4b66-95a3-9c828c8dd4b6",
   "metadata": {},
   "outputs": [
    {
     "data": {
      "text/plain": [
       "│\n",
       "├── :theta : 0.917214885808224\n",
       "│\n",
       "└── :data\n",
       "    │\n",
       "    ├── 1\n",
       "    │   │\n",
       "    │   └── :y : false\n",
       "    │\n",
       "    ├── 2\n",
       "    │   │\n",
       "    │   └── :y : true\n",
       "    │\n",
       "    └── 3\n",
       "        │\n",
       "        └── :y : true\n"
      ]
     },
     "execution_count": 27,
     "metadata": {},
     "output_type": "execute_result"
    }
   ],
   "source": [
    "# need this to load the static functions\n",
    "@load_generated_functions\n",
    "\n",
    "# get a draw and peek inside\n",
    "(trace, _) = generate(unknown_urn_static, (3,))\n",
    "get_choices(trace)"
   ]
  },
  {
   "cell_type": "code",
   "execution_count": 28,
   "id": "08da1aa0-a3cd-464e-ac85-dbbe6195830b",
   "metadata": {},
   "outputs": [
    {
     "data": {
      "text/plain": [
       "DynamicDSLFunction{Any}(Dict{Symbol, Any}(), Dict{Symbol, Any}(), Type[Float64, Float64], false, Union{Nothing, Some{Any}}[nothing, nothing], var\"##foo#365\", Bool[0, 0], false)"
      ]
     },
     "execution_count": 28,
     "metadata": {},
     "output_type": "execute_result"
    }
   ],
   "source": [
    "# this is our kernel G_k\n",
    "@gen function foo(x1::Float64, x2::Float64)\n",
    "    # draw a normal based on the arguments \n",
    "    y = @trace(normal(x1 + x2, 1.0), :z)\n",
    "    # and return it\n",
    "    return y\n",
    "end"
   ]
  },
  {
   "cell_type": "code",
   "execution_count": 29,
   "id": "b53ac7c0-6542-4081-a167-c2020880a6f2",
   "metadata": {},
   "outputs": [
    {
     "data": {
      "text/plain": [
       "Map{Any, Gen.DynamicDSLTrace}(DynamicDSLFunction{Any}(Dict{Symbol, Any}(), Dict{Symbol, Any}(), Type[Float64, Float64], false, Union{Nothing, Some{Any}}[nothing, nothing], var\"##foo#365\", Bool[0, 0], false))"
      ]
     },
     "execution_count": 29,
     "metadata": {},
     "output_type": "execute_result"
    }
   ],
   "source": [
    "bar = Map(foo)"
   ]
  },
  {
   "cell_type": "code",
   "execution_count": 30,
   "id": "e61320ad-8229-4ad4-b264-b76564c764e7",
   "metadata": {},
   "outputs": [
    {
     "data": {
      "text/plain": [
       "│\n",
       "├── 1\n",
       "│   │\n",
       "│   └── :z : 0.23628144708105397\n",
       "│\n",
       "└── 2\n",
       "    │\n",
       "    └── :z : 1.9173202290293534\n"
      ]
     },
     "execution_count": 30,
     "metadata": {},
     "output_type": "execute_result"
    }
   ],
   "source": [
    "(trace, _) = generate(bar, ([0.0, 0.5], [0.5, 1.0]))\n",
    "get_choices(trace)"
   ]
  },
  {
   "cell_type": "code",
   "execution_count": 34,
   "id": "9bfa09e4-26cf-4f6a-a23d-58c4eb66abf0",
   "metadata": {},
   "outputs": [],
   "source": [
    "# using \"importance resampling\" from Gen's library of inference methods\n",
    "traces = [first(Gen.importance_resampling(unknown_urn, (), observations, 1000)) for i in 1:10]\n",
    "# collect the inferred θs across these 100 chains and plot\n",
    "thetas = Float64[]\n",
    "thetas = [t[:theta] for t in traces]\n",
    "p2 = histogram(thetas, label=\"\\theta\")\n",
    "savefig(p2, \"urn-posterior-static.svg\")"
   ]
  },
  {
   "cell_type": "code",
   "execution_count": null,
   "id": "d0420503-708f-40d8-84b1-c2177d53a793",
   "metadata": {},
   "outputs": [],
   "source": []
  }
 ],
 "metadata": {
  "kernelspec": {
   "display_name": "Julia 1.9.3",
   "language": "julia",
   "name": "julia-1.9"
  },
  "language_info": {
   "file_extension": ".jl",
   "mimetype": "application/julia",
   "name": "julia",
   "version": "1.9.3"
  }
 },
 "nbformat": 4,
 "nbformat_minor": 5
}
