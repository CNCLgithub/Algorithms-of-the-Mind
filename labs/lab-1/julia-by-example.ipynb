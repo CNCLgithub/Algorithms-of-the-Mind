{
 "cells": [
  {
   "cell_type": "code",
   "execution_count": 1,
   "id": "528866eb-5bf0-4ccc-be63-351d8ddf0412",
   "metadata": {},
   "outputs": [],
   "source": [
    "using Gen"
   ]
  },
  {
   "cell_type": "code",
   "execution_count": 2,
   "id": "5eea9234-768b-4312-8701-e41da83e22e8",
   "metadata": {},
   "outputs": [
    {
     "name": "stdout",
     "output_type": "stream",
     "text": [
      "Hello World\n"
     ]
    }
   ],
   "source": [
    "println(\"Hello World\")"
   ]
  },
  {
   "cell_type": "code",
   "execution_count": 3,
   "id": "267cf274-9bac-4423-bb80-86c76a855a12",
   "metadata": {},
   "outputs": [],
   "source": [
    "using Pkg"
   ]
  },
  {
   "cell_type": "code",
   "execution_count": 4,
   "id": "16577bf8-9503-43e7-a55d-8ccf96d1c298",
   "metadata": {},
   "outputs": [
    {
     "data": {
      "text/plain": [
       "sphere_vol (generic function with 1 method)"
      ]
     },
     "execution_count": 4,
     "metadata": {},
     "output_type": "execute_result"
    }
   ],
   "source": [
    "# function to calculate the volume of a sphere\n",
    "function sphere_vol(r)\n",
    "    return 4/3*pi*r^3\n",
    "end"
   ]
  },
  {
   "cell_type": "code",
   "execution_count": 5,
   "id": "3963d932-a670-4f90-966b-53b2c0a9bc46",
   "metadata": {},
   "outputs": [
    {
     "data": {
      "text/plain": [
       "quadratic (generic function with 1 method)"
      ]
     },
     "execution_count": 5,
     "metadata": {},
     "output_type": "execute_result"
    }
   ],
   "source": [
    "quadratic(a, sqr_term, b) = (-b + sqr_term) / 2a"
   ]
  },
  {
   "cell_type": "code",
   "execution_count": 6,
   "id": "762be6a9-af0c-4ad3-9259-47800b6eccc3",
   "metadata": {},
   "outputs": [
    {
     "data": {
      "text/plain": [
       "quadratic2 (generic function with 1 method)"
      ]
     },
     "execution_count": 6,
     "metadata": {},
     "output_type": "execute_result"
    }
   ],
   "source": [
    "function quadratic2(a::Float64, b::Float64, c::Float64)\n",
    "    sqr_term = sqrt(b^2-4a*c)\n",
    "    r1 = quadratic(a, sqr_term, b)\n",
    "    r2 = quadratic(a, -sqr_term, b)\n",
    "    r1, r2\n",
    "end"
   ]
  },
  {
   "cell_type": "code",
   "execution_count": 7,
   "id": "44d3e0c6-5bc0-49a2-92af-25b8c5741e05",
   "metadata": {},
   "outputs": [
    {
     "data": {
      "text/plain": [
       "113.09733552923254"
      ]
     },
     "execution_count": 7,
     "metadata": {},
     "output_type": "execute_result"
    }
   ],
   "source": [
    "vol = sphere_vol(3)"
   ]
  },
  {
   "cell_type": "code",
   "execution_count": 8,
   "id": "13afe3f2-a21b-4e82-bd21-f017c3af24cd",
   "metadata": {},
   "outputs": [],
   "source": [
    "using Printf"
   ]
  },
  {
   "cell_type": "code",
   "execution_count": 9,
   "id": "35d5104c-3d88-4724-a5b9-3bd0ae56c997",
   "metadata": {},
   "outputs": [
    {
     "name": "stdout",
     "output_type": "stream",
     "text": [
      "volume = 113.097\n"
     ]
    }
   ],
   "source": [
    "@printf \"volume = %0.3f\\n\" vol"
   ]
  },
  {
   "cell_type": "code",
   "execution_count": 10,
   "id": "0811916c-5c05-406c-9512-e6e2ac827d76",
   "metadata": {},
   "outputs": [
    {
     "data": {
      "text/plain": [
       "(3.0, -2.0)"
      ]
     },
     "execution_count": 10,
     "metadata": {},
     "output_type": "execute_result"
    }
   ],
   "source": [
    "quad1, quad2 = quadratic2(2.0, -2.0, -12.0)"
   ]
  },
  {
   "cell_type": "code",
   "execution_count": 11,
   "id": "e93ac8a6-4af4-462e-bdd6-b1374e457507",
   "metadata": {},
   "outputs": [
    {
     "name": "stdout",
     "output_type": "stream",
     "text": [
      "result 1: 3.000000"
     ]
    }
   ],
   "source": [
    "@printf \"result 1: %f\" quad1"
   ]
  },
  {
   "cell_type": "code",
   "execution_count": 12,
   "id": "b321af9c-12f0-4771-9143-95220f5e56da",
   "metadata": {},
   "outputs": [
    {
     "name": "stdout",
     "output_type": "stream",
     "text": [
      "result 2: -2.0\n"
     ]
    }
   ],
   "source": [
    "println(\"result 2: \", quad2)"
   ]
  },
  {
   "cell_type": "code",
   "execution_count": 13,
   "id": "42f36970-6b79-414f-a1e3-1bba09defbaf",
   "metadata": {},
   "outputs": [
    {
     "data": {
      "text/plain": [
       "\"The quick brown fox jumps over the lazy dog α, β, γ\""
      ]
     },
     "execution_count": 13,
     "metadata": {},
     "output_type": "execute_result"
    }
   ],
   "source": [
    "s1 = \"The quick brown fox jumps over the lazy dog α, β, γ\""
   ]
  },
  {
   "cell_type": "code",
   "execution_count": 14,
   "id": "49e476bd-da71-4941-aa59-f080850cac8a",
   "metadata": {},
   "outputs": [
    {
     "name": "stdout",
     "output_type": "stream",
     "text": [
      "The quick brown fox jumps over the lazy dog α, β, γ\n"
     ]
    }
   ],
   "source": [
    "println(s1)"
   ]
  },
  {
   "cell_type": "code",
   "execution_count": 15,
   "id": "ca9f5c04-52a4-4e93-885e-91db5557b4ad",
   "metadata": {},
   "outputs": [
    {
     "data": {
      "text/plain": [
       "'a': ASCII/Unicode U+0061 (category Ll: Letter, lowercase)"
      ]
     },
     "execution_count": 15,
     "metadata": {},
     "output_type": "execute_result"
    }
   ],
   "source": [
    "c1 = 'a'"
   ]
  },
  {
   "cell_type": "code",
   "execution_count": 16,
   "id": "a1d67391-9b61-4037-920b-4e43b1481464",
   "metadata": {},
   "outputs": [
    {
     "name": "stdout",
     "output_type": "stream",
     "text": [
      "a\n"
     ]
    }
   ],
   "source": [
    "println(c1)"
   ]
  },
  {
   "cell_type": "code",
   "execution_count": 17,
   "id": "2011d69a-c95a-4c6e-949a-0f975a86bfea",
   "metadata": {},
   "outputs": [
    {
     "name": "stdout",
     "output_type": "stream",
     "text": [
      "a ascii value = 97\n"
     ]
    }
   ],
   "source": [
    "# the ascii value of a character\n",
    "println(c1, \" ascii value = \", Int(c1))"
   ]
  },
  {
   "cell_type": "code",
   "execution_count": 18,
   "id": "10243b02-823f-4912-930c-b4d042ab7267",
   "metadata": {},
   "outputs": [
    {
     "name": "stdout",
     "output_type": "stream",
     "text": [
      "Int('α') == 945\n"
     ]
    }
   ],
   "source": [
    "println(\"Int('α') == \", Int('α'))"
   ]
  },
  {
   "cell_type": "code",
   "execution_count": 19,
   "id": "20ba5ffb-9770-49a1-a7bc-a15a3aca9665",
   "metadata": {},
   "outputs": [
    {
     "name": "stdout",
     "output_type": "stream",
     "text": [
      "49\n"
     ]
    }
   ],
   "source": [
    "println(Int('1'))"
   ]
  },
  {
   "cell_type": "code",
   "execution_count": 20,
   "id": "e0d3f0ec-b885-4bbd-aa97-02be5c4edf34",
   "metadata": {},
   "outputs": [
    {
     "name": "stdout",
     "output_type": "stream",
     "text": [
      "THE QUICK BROWN FOX JUMPS OVER THE LAZY DOG Α, Β, Γ\n",
      "the quick brown fox jumps over the lazy dog α, β, γ\n"
     ]
    }
   ],
   "source": [
    "s1_caps = uppercase(s1)\n",
    "s1_lower = lowercase(s1)\n",
    "println(s1_caps, \"\\n\", s1_lower)"
   ]
  },
  {
   "cell_type": "code",
   "execution_count": 21,
   "id": "e8783271-3c89-4966-be70-e1d3805ccd87",
   "metadata": {},
   "outputs": [
    {
     "name": "stdout",
     "output_type": "stream",
     "text": [
      "'b'\n"
     ]
    }
   ],
   "source": [
    "show(s1[11]); println()"
   ]
  },
  {
   "cell_type": "code",
   "execution_count": 22,
   "id": "7e4e1eb6-787d-4168-a4c8-bd9198754334",
   "metadata": {},
   "outputs": [
    {
     "name": "stdout",
     "output_type": "stream",
     "text": [
      "\"The quick \"\n"
     ]
    }
   ],
   "source": [
    "show(s1[1:10]); println()"
   ]
  },
  {
   "cell_type": "code",
   "execution_count": 23,
   "id": "20a7feb7-a21d-41a4-b8b6-f3e0020de944",
   "metadata": {},
   "outputs": [
    {
     "name": "stdout",
     "output_type": "stream",
     "text": [
      "\"g α, β, γ\"\n"
     ]
    }
   ],
   "source": [
    "show(s1[end-10:end]); println()"
   ]
  },
  {
   "cell_type": "code",
   "execution_count": 24,
   "id": "1a81f6c3-44bc-49a3-8589-72e9247afca2",
   "metadata": {},
   "outputs": [
    {
     "name": "stdout",
     "output_type": "stream",
     "text": [
      "welcome to julia\n"
     ]
    }
   ],
   "source": [
    "a = \"welcome\"\n",
    "b = \"julia\"\n",
    "println(\"$a to $b\")"
   ]
  },
  {
   "cell_type": "code",
   "execution_count": 25,
   "id": "1184c912-56e9-40e3-bb28-52dd782f9c05",
   "metadata": {},
   "outputs": [
    {
     "name": "stdout",
     "output_type": "stream",
     "text": [
      "1 + 2 = 3\n"
     ]
    }
   ],
   "source": [
    "println(\"1 + 2 = $(1+2)\")"
   ]
  },
  {
   "cell_type": "code",
   "execution_count": 26,
   "id": "c1545244-c6c4-4286-96ce-d465dc4e1430",
   "metadata": {},
   "outputs": [
    {
     "name": "stdout",
     "output_type": "stream",
     "text": [
      "thisandthat\n"
     ]
    }
   ],
   "source": [
    "s2 = \"this\" * \"and\" * \"that\"\n",
    "println(s2)"
   ]
  },
  {
   "cell_type": "code",
   "execution_count": 27,
   "id": "5656e395-f2cf-4522-b414-a5bf8ba7108d",
   "metadata": {},
   "outputs": [
    {
     "data": {
      "text/plain": [
       "\"this and that\""
      ]
     },
     "execution_count": 27,
     "metadata": {},
     "output_type": "execute_result"
    }
   ],
   "source": [
    "s3 = string(\"this\", \" and\", \" that\")"
   ]
  },
  {
   "cell_type": "code",
   "execution_count": 28,
   "id": "0b30a45e-9156-43ce-9a80-b5f3badc1bec",
   "metadata": {},
   "outputs": [
    {
     "data": {
      "text/plain": [
       "2.718"
      ]
     },
     "execution_count": 28,
     "metadata": {},
     "output_type": "execute_result"
    }
   ],
   "source": [
    "e_str1 = \"2.718\"\n",
    "e = parse(Float64, e_str1)"
   ]
  },
  {
   "cell_type": "code",
   "execution_count": 29,
   "id": "ab959b41-fa8f-47bf-a691-ff41a290b030",
   "metadata": {},
   "outputs": [
    {
     "name": "stdout",
     "output_type": "stream",
     "text": [
      "13.59\n"
     ]
    }
   ],
   "source": [
    "println(5e)"
   ]
  },
  {
   "cell_type": "code",
   "execution_count": 30,
   "id": "b7262730-2ec7-4c4f-8425-e75c8faa02a8",
   "metadata": {},
   "outputs": [
    {
     "data": {
      "text/plain": [
       "15"
      ]
     },
     "execution_count": 30,
     "metadata": {},
     "output_type": "execute_result"
    }
   ],
   "source": [
    "num_15 = parse(Int, \"15\")"
   ]
  },
  {
   "cell_type": "code",
   "execution_count": 31,
   "id": "1175bb42-bb5c-451c-900f-92b3273f9bba",
   "metadata": {},
   "outputs": [
    {
     "name": "stdout",
     "output_type": "stream",
     "text": [
      "45\n"
     ]
    }
   ],
   "source": [
    "println(3num_15)"
   ]
  },
  {
   "cell_type": "code",
   "execution_count": 32,
   "id": "fee9277a-49a5-42dc-854b-77bdffd6902c",
   "metadata": {},
   "outputs": [
    {
     "name": "stdout",
     "output_type": "stream",
     "text": [
      "e = 2.72\n"
     ]
    }
   ],
   "source": [
    "@printf \"e = %0.2f\\n\" e"
   ]
  },
  {
   "cell_type": "code",
   "execution_count": 33,
   "id": "38d3192b-8e91-45fa-b6e0-40700b0b915a",
   "metadata": {},
   "outputs": [
    {
     "data": {
      "text/plain": [
       "\"2.718\""
      ]
     },
     "execution_count": 33,
     "metadata": {},
     "output_type": "execute_result"
    }
   ],
   "source": [
    "e_str2 = @sprintf(\"%0.3f\", e)"
   ]
  },
  {
   "cell_type": "code",
   "execution_count": 34,
   "id": "8b002322-32f9-4700-9522-86a020364877",
   "metadata": {},
   "outputs": [
    {
     "name": "stdout",
     "output_type": "stream",
     "text": [
      "e_str1 == e_str2: true\n"
     ]
    }
   ],
   "source": [
    "println(\"e_str1 == e_str2: $(e_str1 == e_str2)\")"
   ]
  },
  {
   "cell_type": "code",
   "execution_count": 35,
   "id": "d034cb92-eb40-48de-aa6b-0f370f3b9e74",
   "metadata": {},
   "outputs": [
    {
     "data": {
      "text/plain": [
       "π = 3.1415926535897..."
      ]
     },
     "execution_count": 35,
     "metadata": {},
     "output_type": "execute_result"
    }
   ],
   "source": [
    "pi"
   ]
  },
  {
   "cell_type": "code",
   "execution_count": 36,
   "id": "2a2e4762-d931-4ead-b228-5353d1bb5e3f",
   "metadata": {},
   "outputs": [
    {
     "data": {
      "text/plain": [
       "3.141592653589793"
      ]
     },
     "execution_count": 36,
     "metadata": {},
     "output_type": "execute_result"
    }
   ],
   "source": [
    "float(pi)"
   ]
  },
  {
   "cell_type": "code",
   "execution_count": 37,
   "id": "4a28d556-06a8-47ca-9b3f-225585c1caae",
   "metadata": {},
   "outputs": [
    {
     "data": {
      "text/plain": [
       "11"
      ]
     },
     "execution_count": 37,
     "metadata": {},
     "output_type": "execute_result"
    }
   ],
   "source": [
    "i = findfirst(isequal('b'), s1)"
   ]
  },
  {
   "cell_type": "code",
   "execution_count": 38,
   "id": "e2ad495f-99e0-48c6-af68-2770d004213e",
   "metadata": {},
   "outputs": [
    {
     "data": {
      "text/plain": [
       "11:15"
      ]
     },
     "execution_count": 38,
     "metadata": {},
     "output_type": "execute_result"
    }
   ],
   "source": [
    "r = findfirst(\"brown\", s1)"
   ]
  },
  {
   "cell_type": "code",
   "execution_count": 39,
   "id": "8a71e28d-a094-4b9b-8d2d-3074ac70520e",
   "metadata": {},
   "outputs": [
    {
     "data": {
      "text/plain": [
       "\"The quick red fox jumps over the lazy dog α, β, γ\""
      ]
     },
     "execution_count": 39,
     "metadata": {},
     "output_type": "execute_result"
    }
   ],
   "source": [
    "r = replace(s1, \"brown\" => \"red\")"
   ]
  },
  {
   "cell_type": "code",
   "execution_count": 40,
   "id": "cda6be8c-cfad-4448-b9d9-0bcfccc90b23",
   "metadata": {},
   "outputs": [
    {
     "data": {
      "text/plain": [
       "Base.RegexMatchIterator(r\"[\\w]{4,}\", \"The quick brown fox jumps over the lazy dog α, β, γ\", false)"
      ]
     },
     "execution_count": 40,
     "metadata": {},
     "output_type": "execute_result"
    }
   ],
   "source": [
    "r = eachmatch(r\"[\\w]{4,}\", s1)"
   ]
  },
  {
   "cell_type": "code",
   "execution_count": 41,
   "id": "ff87d584-f7e7-40a5-b2f6-09d37c6e2093",
   "metadata": {},
   "outputs": [
    {
     "name": "stdout",
     "output_type": "stream",
     "text": [
      "\"quick\" \"brown\" \"jumps\" \"over\" \"lazy\" "
     ]
    }
   ],
   "source": [
    "for i in r print(\"\\\"$(i.match)\\\" \") end"
   ]
  },
  {
   "cell_type": "code",
   "execution_count": 42,
   "id": "ae97809f-a216-4d16-942c-a0375e58fcf1",
   "metadata": {},
   "outputs": [
    {
     "data": {
      "text/plain": [
       "5-element Vector{SubString{String}}:\n",
       " \"quick\"\n",
       " \"brown\"\n",
       " \"jumps\"\n",
       " \"over\"\n",
       " \"lazy\""
      ]
     },
     "execution_count": 42,
     "metadata": {},
     "output_type": "execute_result"
    }
   ],
   "source": [
    "r = collect(m.match for m = eachmatch(r\"[\\w]{4,}\", s1))"
   ]
  },
  {
   "cell_type": "code",
   "execution_count": 43,
   "id": "ece3b3ed-589b-4ed0-9c85-9705e838022e",
   "metadata": {},
   "outputs": [
    {
     "data": {
      "text/plain": [
       "\"hellohellohello\""
      ]
     },
     "execution_count": 43,
     "metadata": {},
     "output_type": "execute_result"
    }
   ],
   "source": [
    "r = \"hello\"^3"
   ]
  },
  {
   "cell_type": "code",
   "execution_count": 44,
   "id": "65ae65f7-297a-4be9-9678-0ddbcaafd4b4",
   "metadata": {},
   "outputs": [
    {
     "data": {
      "text/plain": [
       "\"ello\""
      ]
     },
     "execution_count": 44,
     "metadata": {},
     "output_type": "execute_result"
    }
   ],
   "source": [
    "r = strip(\"hello \", ['h', ' '])"
   ]
  },
  {
   "cell_type": "code",
   "execution_count": 45,
   "id": "9e360c26-9bf3-4908-9c7f-a4ea44e9efbd",
   "metadata": {},
   "outputs": [
    {
     "data": {
      "text/plain": [
       "\"hellow, child, escape\""
      ]
     },
     "execution_count": 45,
     "metadata": {},
     "output_type": "execute_result"
    }
   ],
   "source": [
    "r = strip(\"hellow, child, escape\", ',')"
   ]
  },
  {
   "cell_type": "code",
   "execution_count": 46,
   "id": "f3ba8f99-504a-4121-812d-b35231352486",
   "metadata": {},
   "outputs": [
    {
     "data": {
      "text/plain": [
       "\"1 2 3 4 5 6 7 8 9 10\""
      ]
     },
     "execution_count": 46,
     "metadata": {},
     "output_type": "execute_result"
    }
   ],
   "source": [
    "r = join(collect(1:10), \" \")"
   ]
  },
  {
   "cell_type": "code",
   "execution_count": 47,
   "id": "6f7c5f43-9a14-4d33-9536-c2c37fdbb2ed",
   "metadata": {},
   "outputs": [
    {
     "data": {
      "text/plain": [
       "printsum (generic function with 1 method)"
      ]
     },
     "execution_count": 47,
     "metadata": {},
     "output_type": "execute_result"
    }
   ],
   "source": [
    "function printsum(a)\n",
    "    println(summary(a), \": \", repr(a))\n",
    "end"
   ]
  },
  {
   "cell_type": "code",
   "execution_count": 48,
   "id": "e97179e7-bbb6-4566-bb0a-c1d98ff4d4e5",
   "metadata": {},
   "outputs": [
    {
     "data": {
      "text/plain": [
       "3-element Vector{Int64}:\n",
       " 1\n",
       " 2\n",
       " 3"
      ]
     },
     "execution_count": 48,
     "metadata": {},
     "output_type": "execute_result"
    }
   ],
   "source": [
    "a1 = [1, 2, 3]"
   ]
  },
  {
   "cell_type": "code",
   "execution_count": 49,
   "id": "f5f8c3c5-72d5-4df6-99b8-b4b620325baf",
   "metadata": {},
   "outputs": [
    {
     "name": "stdout",
     "output_type": "stream",
     "text": [
      "3-element Vector{Int64}: [1, 2, 3]\n"
     ]
    }
   ],
   "source": [
    "printsum(a1)"
   ]
  },
  {
   "cell_type": "code",
   "execution_count": 50,
   "id": "3ae593db-3a25-4cb2-9533-b8c046df7fb3",
   "metadata": {},
   "outputs": [
    {
     "name": "stdout",
     "output_type": "stream",
     "text": [
      "0-element Vector{Any}: Any[]\n"
     ]
    }
   ],
   "source": [
    "a2 = []\n",
    "printsum(a2)"
   ]
  },
  {
   "cell_type": "code",
   "execution_count": 51,
   "id": "23252239-ff15-48fc-80b2-c48807cb9621",
   "metadata": {},
   "outputs": [
    {
     "name": "stdout",
     "output_type": "stream",
     "text": [
      "0-element Vector{Int64}: Int64[]\n"
     ]
    }
   ],
   "source": [
    "a3 = Int64[]\n",
    "printsum(a3)"
   ]
  },
  {
   "cell_type": "code",
   "execution_count": 52,
   "id": "6b184772-766c-45fe-b891-11001625ad75",
   "metadata": {},
   "outputs": [
    {
     "name": "stdout",
     "output_type": "stream",
     "text": [
      "20-element UnitRange{Int64}: 1:20\n"
     ]
    }
   ],
   "source": [
    "a4 = 1:20\n",
    "printsum(a4)"
   ]
  },
  {
   "cell_type": "code",
   "execution_count": 53,
   "id": "fae2b82c-e3c3-4486-9296-d091456c8bcf",
   "metadata": {},
   "outputs": [
    {
     "name": "stdout",
     "output_type": "stream",
     "text": [
      "20-element Vector{Int64}: [1, 2, 3, 4, 5, 6, 7, 8, 9, 10, 11, 12, 13, 14, 15, 16, 17, 18, 19, 20]\n"
     ]
    }
   ],
   "source": [
    "a4 = collect(1:20)\n",
    "printsum(a4)"
   ]
  },
  {
   "cell_type": "code",
   "execution_count": 54,
   "id": "7160b470-fc6c-43fe-a526-4e9509b3c578",
   "metadata": {},
   "outputs": [
    {
     "name": "stdout",
     "output_type": "stream",
     "text": [
      "10-element Vector{Int64}: [2, 4, 8, 16, 32, 64, 128, 256, 512, 1024]\n"
     ]
    }
   ],
   "source": [
    "a5 = [2^i for i = 1:10]\n",
    "printsum(a5)"
   ]
  },
  {
   "cell_type": "code",
   "execution_count": 55,
   "id": "b3df7597-e68c-4674-ad6e-79f6644e1273",
   "metadata": {},
   "outputs": [
    {
     "data": {
      "text/plain": [
       "Vector{Int64}[]"
      ]
     },
     "execution_count": 55,
     "metadata": {},
     "output_type": "execute_result"
    }
   ],
   "source": [
    "a6 = (Array{Int64, 1})[]"
   ]
  },
  {
   "cell_type": "code",
   "execution_count": 56,
   "id": "c8870304-8d83-4ecf-9997-5db4f313b393",
   "metadata": {},
   "outputs": [
    {
     "name": "stdout",
     "output_type": "stream",
     "text": [
      "0-element Vector{Vector{Int64}}: Vector{Int64}[]\n"
     ]
    }
   ],
   "source": [
    "printsum(a6)"
   ]
  },
  {
   "cell_type": "code",
   "execution_count": 57,
   "id": "b8d850c3-e0e5-4f60-8291-734af1a089a0",
   "metadata": {},
   "outputs": [
    {
     "data": {
      "text/plain": [
       "4-element Vector{Int64}:\n",
       " 1\n",
       " 2\n",
       " 3\n",
       " 4"
      ]
     },
     "execution_count": 57,
     "metadata": {},
     "output_type": "execute_result"
    }
   ],
   "source": [
    "push!(a1, 4)"
   ]
  },
  {
   "cell_type": "code",
   "execution_count": 58,
   "id": "3ab38c48-a55f-4ac6-a17a-38566a949312",
   "metadata": {},
   "outputs": [
    {
     "data": {
      "text/plain": [
       "1-element Vector{Int64}:\n",
       " 1"
      ]
     },
     "execution_count": 58,
     "metadata": {},
     "output_type": "execute_result"
    }
   ],
   "source": [
    "push!(a3, 1)"
   ]
  },
  {
   "cell_type": "code",
   "execution_count": 59,
   "id": "2ae7999e-e89c-4c98-94a0-8ccb480e09e6",
   "metadata": {},
   "outputs": [
    {
     "data": {
      "text/plain": [
       "1-element Vector{Vector{Int64}}:\n",
       " [1, 2, 3]"
      ]
     },
     "execution_count": 59,
     "metadata": {},
     "output_type": "execute_result"
    }
   ],
   "source": [
    "push!(a6, [1, 2, 3])"
   ]
  },
  {
   "cell_type": "code",
   "execution_count": 60,
   "id": "f9f25790-15fc-4b65-b310-4a8aa503697e",
   "metadata": {},
   "outputs": [
    {
     "data": {
      "text/plain": [
       "8-element Vector{Int64}:\n",
       " 1\n",
       " 2\n",
       " 3\n",
       " 4\n",
       " 1\n",
       " 2\n",
       " 3\n",
       " 4"
      ]
     },
     "execution_count": 60,
     "metadata": {},
     "output_type": "execute_result"
    }
   ],
   "source": [
    "a7 = repeat(a1, inner=[1], outer=[2])"
   ]
  },
  {
   "cell_type": "code",
   "execution_count": 61,
   "id": "cf3fbc59-8a96-4651-9a24-e8fb3c2520d1",
   "metadata": {},
   "outputs": [
    {
     "data": {
      "text/plain": [
       "12-element Vector{Int64}:\n",
       " 1\n",
       " 1\n",
       " 1\n",
       " 2\n",
       " 2\n",
       " 2\n",
       " 3\n",
       " 3\n",
       " 3\n",
       " 4\n",
       " 4\n",
       " 4"
      ]
     },
     "execution_count": 61,
     "metadata": {},
     "output_type": "execute_result"
    }
   ],
   "source": [
    "a7 = repeat(a1, inner=[3], outer=[1])"
   ]
  },
  {
   "cell_type": "code",
   "execution_count": 62,
   "id": "4404607f-bca7-4f8c-b8bd-982c13246470",
   "metadata": {},
   "outputs": [
    {
     "data": {
      "text/plain": [
       "8-element Vector{Int64}:\n",
       " 4\n",
       " 3\n",
       " 2\n",
       " 1\n",
       " 4\n",
       " 3\n",
       " 2\n",
       " 1"
      ]
     },
     "execution_count": 62,
     "metadata": {},
     "output_type": "execute_result"
    }
   ],
   "source": [
    "a8 = repeat(collect(4:-1:1), inner=[1], outer=[2])"
   ]
  },
  {
   "cell_type": "code",
   "execution_count": 63,
   "id": "493444c5-a149-4ed5-b840-aef9e5d0d22f",
   "metadata": {},
   "outputs": [
    {
     "data": {
      "text/plain": [
       "12×3 Matrix{Int64}:\n",
       " 1  1  1\n",
       " 2  1  1\n",
       " 1  2  1\n",
       " 2  2  2\n",
       " 1  3  2\n",
       " 2  3  2\n",
       " 1  1  3\n",
       " 2  1  3\n",
       " 1  2  3\n",
       " 2  2  4\n",
       " 1  3  4\n",
       " 2  3  4"
      ]
     },
     "execution_count": 63,
     "metadata": {},
     "output_type": "execute_result"
    }
   ],
   "source": [
    "m1 = hcat(repeat([1, 2], inner=[1], outer=[3*2]), \n",
    "            repeat([1, 2, 3], inner=[2], outer=[2]),\n",
    "            repeat([1, 2, 3, 4], inner=[3], outer=[1]))"
   ]
  },
  {
   "cell_type": "code",
   "execution_count": 64,
   "id": "fcee1677-866d-4d3c-8dc5-23919f600e12",
   "metadata": {},
   "outputs": [
    {
     "name": "stdout",
     "output_type": "stream",
     "text": [
      "12×3 Matrix{Int64}: [1 1 1; 2 1 1; 1 2 1; 2 2 2; 1 3 2; 2 3 2; 1 1 3; 2 1 3; 1 2 3; 2 2 4; 1 3 4; 2 3 4]\n"
     ]
    }
   ],
   "source": [
    "printsum(m1)"
   ]
  },
  {
   "cell_type": "code",
   "execution_count": 65,
   "id": "9036a86b-6a68-4b82-a18f-0a553c846dc8",
   "metadata": {},
   "outputs": [
    {
     "data": {
      "text/plain": [
       "12×6 Matrix{Int64}:\n",
       " 1  1  1  1  1  1\n",
       " 2  1  1  2  1  1\n",
       " 1  2  1  1  2  1\n",
       " 2  2  2  2  2  2\n",
       " 1  3  2  1  3  2\n",
       " 2  3  2  2  3  2\n",
       " 1  1  3  1  1  3\n",
       " 2  1  3  2  1  3\n",
       " 1  2  3  1  2  3\n",
       " 2  2  4  2  2  4\n",
       " 1  3  4  1  3  4\n",
       " 2  3  4  2  3  4"
      ]
     },
     "execution_count": 65,
     "metadata": {},
     "output_type": "execute_result"
    }
   ],
   "source": [
    "m2 = repeat(m1, 1, 2)"
   ]
  },
  {
   "cell_type": "code",
   "execution_count": 66,
   "id": "6968b9af-0e62-4370-b186-806e80f1bf6a",
   "metadata": {},
   "outputs": [
    {
     "name": "stdout",
     "output_type": "stream",
     "text": [
      "size: (12, 6)\n"
     ]
    }
   ],
   "source": [
    "println(\"size: \", size(m2))"
   ]
  },
  {
   "cell_type": "code",
   "execution_count": 67,
   "id": "c3579521-93dd-4974-910b-14fd5de2be26",
   "metadata": {},
   "outputs": [
    {
     "data": {
      "text/plain": [
       "24×3 Matrix{Int64}:\n",
       " 1  1  1\n",
       " 2  1  1\n",
       " 1  2  1\n",
       " 2  2  2\n",
       " 1  3  2\n",
       " 2  3  2\n",
       " 1  1  3\n",
       " 2  1  3\n",
       " 1  2  3\n",
       " 2  2  4\n",
       " 1  3  4\n",
       " 2  3  4\n",
       " 1  1  1\n",
       " 2  1  1\n",
       " 1  2  1\n",
       " 2  2  2\n",
       " 1  3  2\n",
       " 2  3  2\n",
       " 1  1  3\n",
       " 2  1  3\n",
       " 1  2  3\n",
       " 2  2  4\n",
       " 1  3  4\n",
       " 2  3  4"
      ]
     },
     "execution_count": 67,
     "metadata": {},
     "output_type": "execute_result"
    }
   ],
   "source": [
    "m3 = repeat(m1, 2, 1)"
   ]
  },
  {
   "cell_type": "code",
   "execution_count": 68,
   "id": "eecca5d4-855a-435c-b856-9d2a576bb648",
   "metadata": {},
   "outputs": [
    {
     "data": {
      "text/plain": [
       "2×3×2 Array{Int64, 3}:\n",
       "[:, :, 1] =\n",
       " 3  4  5\n",
       " 4  5  6\n",
       "\n",
       "[:, :, 2] =\n",
       " 4  5  6\n",
       " 5  6  7"
      ]
     },
     "execution_count": 68,
     "metadata": {},
     "output_type": "execute_result"
    }
   ],
   "source": [
    "m4 = [i+j+k for i=1:2, j=1:3, k=1:2]"
   ]
  },
  {
   "cell_type": "code",
   "execution_count": 69,
   "id": "066eeada-bcd1-42ec-88c1-a3eccdf91f30",
   "metadata": {},
   "outputs": [
    {
     "data": {
      "text/plain": [
       "2×3×2 Array{String, 3}:\n",
       "[:, :, 1] =\n",
       " \"Hi Im # 1\"  \"Hi Im # 3\"  \"Hi Im # 5\"\n",
       " \"Hi Im # 2\"  \"Hi Im # 4\"  \"Hi Im # 6\"\n",
       "\n",
       "[:, :, 2] =\n",
       " \"Hi Im # 7\"  \"Hi Im # 9\"   \"Hi Im # 11\"\n",
       " \"Hi Im # 8\"  \"Hi Im # 10\"  \"Hi Im # 12\""
      ]
     },
     "execution_count": 69,
     "metadata": {},
     "output_type": "execute_result"
    }
   ],
   "source": [
    "m5 = [\"Hi Im # $(i+2*(j-1 + 3*(k-1)))\" for i=1:2, j=1:3, k=1:2]"
   ]
  },
  {
   "cell_type": "code",
   "execution_count": 70,
   "id": "34f936dc-91a5-4f1e-961c-eedeafc69784",
   "metadata": {},
   "outputs": [
    {
     "data": {
      "text/plain": [
       "2×3×1 Array{Int64, 3}:\n",
       "[:, :, 1] =\n",
       " 7   9  11\n",
       " 9  11  13"
      ]
     },
     "execution_count": 70,
     "metadata": {},
     "output_type": "execute_result"
    }
   ],
   "source": [
    "sum(m4, dims=3)"
   ]
  },
  {
   "cell_type": "code",
   "execution_count": 71,
   "id": "06a43e67-ed93-4130-8358-10d3d7a14185",
   "metadata": {},
   "outputs": [
    {
     "data": {
      "text/plain": [
       "1×3×1 Array{Int64, 3}:\n",
       "[:, :, 1] =\n",
       " 16  20  24"
      ]
     },
     "execution_count": 71,
     "metadata": {},
     "output_type": "execute_result"
    }
   ],
   "source": [
    "sum(m4, dims=(1,3))"
   ]
  },
  {
   "cell_type": "code",
   "execution_count": 72,
   "id": "b2bb50fa-ecf1-4846-9c4d-187add5215e2",
   "metadata": {},
   "outputs": [
    {
     "data": {
      "text/plain": [
       "2×1×2 Array{Int64, 3}:\n",
       "[:, :, 1] =\n",
       " 5\n",
       " 6\n",
       "\n",
       "[:, :, 2] =\n",
       " 6\n",
       " 7"
      ]
     },
     "execution_count": 72,
     "metadata": {},
     "output_type": "execute_result"
    }
   ],
   "source": [
    "maximum(m4, dims=2)"
   ]
  },
  {
   "cell_type": "code",
   "execution_count": 77,
   "id": "8359ca2b-a160-4601-9ed9-062e1d5d72b5",
   "metadata": {},
   "outputs": [
    {
     "data": {
      "text/plain": [
       "([4 5 6; 6 6 7;;;], [CartesianIndex(1, 1, 1) CartesianIndex(1, 2, 2) CartesianIndex(1, 3, 1); CartesianIndex(2, 1, 1) CartesianIndex(2, 2, 2) CartesianIndex(2, 3, 2);;;])"
      ]
     },
     "execution_count": 77,
     "metadata": {},
     "output_type": "execute_result"
    }
   ],
   "source": [
    "findmax(m4, dims=3)"
   ]
  },
  {
   "cell_type": "code",
   "execution_count": 74,
   "id": "4cbf5e74-d5df-43c7-8438-78fe5551c38e",
   "metadata": {},
   "outputs": [
    {
     "data": {
      "text/plain": [
       "2×3 Matrix{Int64}:\n",
       " 4  3  6\n",
       " 6  2  1"
      ]
     },
     "execution_count": 74,
     "metadata": {},
     "output_type": "execute_result"
    }
   ],
   "source": [
    "m4[:,:,1] = rand(1:6,2,3)"
   ]
  },
  {
   "cell_type": "code",
   "execution_count": 76,
   "id": "ddcefb51-a257-40ff-9679-8c8bcf3f7903",
   "metadata": {},
   "outputs": [
    {
     "data": {
      "text/plain": [
       "(2, 3, 2)"
      ]
     },
     "execution_count": 76,
     "metadata": {},
     "output_type": "execute_result"
    }
   ],
   "source": [
    "size(m4)"
   ]
  },
  {
   "cell_type": "code",
   "execution_count": 78,
   "id": "28e5ea16-026d-45f2-a33d-c1b7a0ea4419",
   "metadata": {},
   "outputs": [
    {
     "data": {
      "text/plain": [
       "2×3×2 Array{Int64, 3}:\n",
       "[:, :, 1] =\n",
       " 7  6  9\n",
       " 9  5  4\n",
       "\n",
       "[:, :, 2] =\n",
       " 7  8   9\n",
       " 8  9  10"
      ]
     },
     "execution_count": 78,
     "metadata": {},
     "output_type": "execute_result"
    }
   ],
   "source": [
    "m4 .+ 3"
   ]
  },
  {
   "cell_type": "code",
   "execution_count": 79,
   "id": "0876e4af-c101-4df0-bda4-63a30ddbd863",
   "metadata": {},
   "outputs": [
    {
     "data": {
      "text/plain": [
       "2×3×2 Array{Int64, 3}:\n",
       "[:, :, 1] =\n",
       " 5  4  7\n",
       " 8  4  3\n",
       "\n",
       "[:, :, 2] =\n",
       " 5  6  7\n",
       " 7  8  9"
      ]
     },
     "execution_count": 79,
     "metadata": {},
     "output_type": "execute_result"
    }
   ],
   "source": [
    "m4 .+ [1,2]"
   ]
  },
  {
   "cell_type": "code",
   "execution_count": 80,
   "id": "75601482-b40b-4ce2-9d30-ee4c1969b72d",
   "metadata": {},
   "outputs": [
    {
     "data": {
      "text/plain": [
       "2×3×2 Array{Int64, 3}:\n",
       "[:, :, 1] =\n",
       " 4  3  6\n",
       " 6  2  1\n",
       "\n",
       "[:, :, 2] =\n",
       " 4  5  6\n",
       " 5  6  7"
      ]
     },
     "execution_count": 80,
     "metadata": {},
     "output_type": "execute_result"
    }
   ],
   "source": [
    "m4"
   ]
  },
  {
   "cell_type": "code",
   "execution_count": 81,
   "id": "30b08e28-d104-4b74-866b-b373e88883ab",
   "metadata": {},
   "outputs": [
    {
     "data": {
      "text/plain": [
       "2×3×2 Array{Int64, 3}:\n",
       "[:, :, 1] =\n",
       " 1  1  1\n",
       " 2  2  2\n",
       "\n",
       "[:, :, 2] =\n",
       " 1  1  1\n",
       " 2  2  2"
      ]
     },
     "execution_count": 81,
     "metadata": {},
     "output_type": "execute_result"
    }
   ],
   "source": [
    "(m4 .+ [1,2]) - m4"
   ]
  },
  {
   "cell_type": "code",
   "execution_count": 82,
   "id": "919d9cff-95ee-48f4-b007-a78d6ca2994e",
   "metadata": {},
   "outputs": [
    {
     "data": {
      "text/plain": [
       "(2, 3, 2)"
      ]
     },
     "execution_count": 82,
     "metadata": {},
     "output_type": "execute_result"
    }
   ],
   "source": [
    "size(m4)"
   ]
  },
  {
   "cell_type": "code",
   "execution_count": 84,
   "id": "bb8d77cb-2923-4d4a-9a93-d1a93cea9f4d",
   "metadata": {},
   "outputs": [
    {
     "data": {
      "text/plain": [
       "2×3 Matrix{Int64}:\n",
       " 6  3  2\n",
       " 2  5  5"
      ]
     },
     "execution_count": 84,
     "metadata": {},
     "output_type": "execute_result"
    }
   ],
   "source": [
    "rand(1:6, 2,3)"
   ]
  },
  {
   "cell_type": "code",
   "execution_count": 86,
   "id": "b9c7a846-5ec6-4087-a2a9-b4e11a3afef8",
   "metadata": {},
   "outputs": [
    {
     "name": "stdout",
     "output_type": "stream",
     "text": [
      "Dict{Int64, String} with 2 entries: Dict(2 => \"two\", 1 => \"one\")\n"
     ]
    }
   ],
   "source": [
    "a1 = Dict(1=>\"one\", 2=>\"two\")\n",
    "printsum(a1)"
   ]
  },
  {
   "cell_type": "code",
   "execution_count": 87,
   "id": "694dd4df-304e-49c0-a675-33d3ed055ec8",
   "metadata": {},
   "outputs": [
    {
     "name": "stdout",
     "output_type": "stream",
     "text": [
      "Dict{Int64, String} with 3 entries: Dict(2 => \"two\", 3 => \"three\", 1 => \"one\")\n"
     ]
    }
   ],
   "source": [
    "a1[3] = \"three\"\n",
    "printsum(a1)"
   ]
  },
  {
   "cell_type": "code",
   "execution_count": 88,
   "id": "d66f8992-37f8-473a-aff4-85dcebd32800",
   "metadata": {},
   "outputs": [
    {
     "data": {
      "text/plain": [
       "Dict{Int64, AbstractString}()"
      ]
     },
     "execution_count": 88,
     "metadata": {},
     "output_type": "execute_result"
    }
   ],
   "source": [
    "a2 = Dict{Int64, AbstractString}()"
   ]
  },
  {
   "cell_type": "code",
   "execution_count": 89,
   "id": "e0ad6d2c-825b-4158-84d1-b55686fff9d4",
   "metadata": {},
   "outputs": [
    {
     "name": "stdout",
     "output_type": "stream",
     "text": [
      "Dict{Int64, AbstractString} with 1 entry: Dict{Int64, AbstractString}(0 => \"zero\")\n"
     ]
    }
   ],
   "source": [
    "a2[0] = \"zero\"\n",
    "printsum(a2)"
   ]
  },
  {
   "cell_type": "code",
   "execution_count": 90,
   "id": "26771974-f3da-43b5-b34e-7b948dc09526",
   "metadata": {},
   "outputs": [
    {
     "data": {
      "text/plain": [
       "Dict{Int64, String} with 10 entries:\n",
       "  5  => \"5\"\n",
       "  4  => \"4\"\n",
       "  6  => \"6\"\n",
       "  7  => \"7\"\n",
       "  2  => \"2\"\n",
       "  10 => \"10\"\n",
       "  9  => \"9\"\n",
       "  8  => \"8\"\n",
       "  3  => \"3\"\n",
       "  1  => \"1\""
      ]
     },
     "execution_count": 90,
     "metadata": {},
     "output_type": "execute_result"
    }
   ],
   "source": [
    "a3 = Dict([i => @sprintf(\"%d\", i) for i=1:10])"
   ]
  },
  {
   "cell_type": "code",
   "execution_count": 91,
   "id": "d68e2f67-0061-471f-a92a-b8c1248d728e",
   "metadata": {},
   "outputs": [
    {
     "name": "stdout",
     "output_type": "stream",
     "text": [
      "Dict{Int64, String} with 10 entries: Dict(5 => \"5\", 4 => \"4\", 6 => \"6\", 7 => \"7\", 2 => \"2\", 10 => \"10\", 9 => \"9\", 8 => \"8\", 3 => \"3\", 1 => \"1\")\n"
     ]
    }
   ],
   "source": [
    "printsum(a3)"
   ]
  },
  {
   "cell_type": "code",
   "execution_count": 92,
   "id": "a4ec5bf8-bed0-4c80-8d71-f3d28d287d9f",
   "metadata": {},
   "outputs": [
    {
     "name": "stdout",
     "output_type": "stream",
     "text": [
      "true\n"
     ]
    }
   ],
   "source": [
    "println(haskey(a1, 1))"
   ]
  },
  {
   "cell_type": "code",
   "execution_count": 93,
   "id": "96d44fd9-8ee6-42cd-a8ae-ac22498602aa",
   "metadata": {},
   "outputs": [
    {
     "name": "stdout",
     "output_type": "stream",
     "text": [
      "true\n"
     ]
    }
   ],
   "source": [
    "println(1 in keys(a1))"
   ]
  },
  {
   "cell_type": "code",
   "execution_count": 94,
   "id": "b5ed3185-402f-42e2-84c2-a38ab6c2e426",
   "metadata": {},
   "outputs": [
    {
     "name": "stdout",
     "output_type": "stream",
     "text": [
      "3-element Vector{Int64}: [2, 3, 1]\n"
     ]
    }
   ],
   "source": [
    "printsum(collect(keys(a1)))"
   ]
  },
  {
   "cell_type": "code",
   "execution_count": 95,
   "id": "1a996caa-ea8c-4c02-965d-d3dfb6388964",
   "metadata": {},
   "outputs": [
    {
     "name": "stdout",
     "output_type": "stream",
     "text": [
      "3-element Vector{String}: [\"two\", \"three\", \"one\"]\n"
     ]
    }
   ],
   "source": [
    "printsum(collect(values(a1)))"
   ]
  },
  {
   "cell_type": "code",
   "execution_count": 96,
   "id": "0a81e116-e82c-4b7e-8202-224f9376dc70",
   "metadata": {},
   "outputs": [
    {
     "name": "stdout",
     "output_type": "stream",
     "text": [
      "2, 4, 6, 8, "
     ]
    }
   ],
   "source": [
    "a2 = collect(1:20)\n",
    "for i in a2\n",
    "    if i % 2 != 0\n",
    "        continue\n",
    "    end\n",
    "    print(i, \", \")\n",
    "    if i >= 8\n",
    "        break\n",
    "    end\n",
    "end"
   ]
  },
  {
   "cell_type": "code",
   "execution_count": 98,
   "id": "10a1e1a6-24b0-42aa-b641-28b760f8ab1f",
   "metadata": {},
   "outputs": [
    {
     "name": "stdout",
     "output_type": "stream",
     "text": [
      "20, 19, 18, 17, 16, 15, 14, 13, 12, 11, 10, 9, 8, 7, 6, 5, 4, 3, 2, 1, "
     ]
    }
   ],
   "source": [
    "while !isempty(a2)\n",
    "    print(pop!(a2), \", \")\n",
    "end"
   ]
  },
  {
   "cell_type": "code",
   "execution_count": 100,
   "id": "bd1f85d4-0e16-4a51-ad71-40505bcb0870",
   "metadata": {},
   "outputs": [
    {
     "name": "stdout",
     "output_type": "stream",
     "text": [
      "1: one, 2: two, 3: three, "
     ]
    }
   ],
   "source": [
    "d1 = Dict(1=>\"one\", 2=>\"two\", 3=>\"three\")\n",
    "for k in sort(collect(keys(d1)))\n",
    "    print(k, \": \", d1[k], \", \")\n",
    "end"
   ]
  },
  {
   "cell_type": "code",
   "execution_count": 101,
   "id": "b2fb8d28-361a-4ee1-8319-6b2553aa0aaf",
   "metadata": {},
   "outputs": [
    {
     "name": "stdout",
     "output_type": "stream",
     "text": [
      "1: one, 2: two, 3: three, "
     ]
    }
   ],
   "source": [
    "a3 = [\"one\", \"two\", \"three\"]\n",
    "for (i, v) in enumerate(a3)\n",
    "    print(i, \": \", v, \", \")\n",
    "end"
   ]
  },
  {
   "cell_type": "code",
   "execution_count": 102,
   "id": "21e64300-99bd-45bb-bfca-86be74974aae",
   "metadata": {},
   "outputs": [
    {
     "data": {
      "text/plain": [
       "4-element Vector{Int64}:\n",
       "  1\n",
       "  4\n",
       "  9\n",
       " 49"
      ]
     },
     "execution_count": 102,
     "metadata": {},
     "output_type": "execute_result"
    }
   ],
   "source": [
    "a4 = map((x) -> x^2, [1, 2, 3, 7])"
   ]
  },
  {
   "cell_type": "code",
   "execution_count": 103,
   "id": "6b9dd5ef-9466-48e6-bd42-075ed8b53f13",
   "metadata": {},
   "outputs": [
    {
     "name": "stdout",
     "output_type": "stream",
     "text": [
      "it's true\n"
     ]
    }
   ],
   "source": [
    "if true\n",
    "    println(\"it's true\")\n",
    "else\n",
    "    println(\"it's false\")\n",
    "end\n"
   ]
  },
  {
   "cell_type": "code",
   "execution_count": 104,
   "id": "d7c36728-1ba7-4bb1-b7de-0d9f829e5fbe",
   "metadata": {},
   "outputs": [
    {
     "data": {
      "text/plain": [
       "true"
      ]
     },
     "execution_count": 104,
     "metadata": {},
     "output_type": "execute_result"
    }
   ],
   "source": [
    "1 == 1."
   ]
  },
  {
   "cell_type": "code",
   "execution_count": 105,
   "id": "d7102d36-e16e-48d6-bf1c-3d7ae2ff67a2",
   "metadata": {},
   "outputs": [
    {
     "data": {
      "text/plain": [
       "false"
      ]
     },
     "execution_count": 105,
     "metadata": {},
     "output_type": "execute_result"
    }
   ],
   "source": [
    "1 > 2"
   ]
  },
  {
   "cell_type": "code",
   "execution_count": 106,
   "id": "ceea4e63-05fb-4355-9969-87197743ec6a",
   "metadata": {},
   "outputs": [
    {
     "data": {
      "text/plain": [
       "true"
      ]
     },
     "execution_count": 106,
     "metadata": {},
     "output_type": "execute_result"
    }
   ],
   "source": [
    "\"foo\" != \"bar\""
   ]
  },
  {
   "cell_type": "code",
   "execution_count": 107,
   "id": "f4a8084f-ac11-4654-91b2-93163325cd42",
   "metadata": {},
   "outputs": [
    {
     "data": {
      "text/plain": [
       "true"
      ]
     },
     "execution_count": 107,
     "metadata": {},
     "output_type": "execute_result"
    }
   ],
   "source": [
    "occursin(\"this\", \"this and that\")"
   ]
  },
  {
   "cell_type": "code",
   "execution_count": 108,
   "id": "6d9ad23e-ed6b-4e0c-9db8-f56a108f4ca6",
   "metadata": {},
   "outputs": [
    {
     "data": {
      "text/plain": [
       "checktype (generic function with 1 method)"
      ]
     },
     "execution_count": 108,
     "metadata": {},
     "output_type": "execute_result"
    }
   ],
   "source": [
    "function checktype(x)\n",
    "    if x isa Int\n",
    "        println(\"Look! An Int\")\n",
    "    elseif x isa AbstractFloat\n",
    "        println(\"Look! A Float!\")\n",
    "    elseif x isa Complex\n",
    "        println(\"Whoa, that's a complex!\")\n",
    "    else\n",
    "        println(\"I have no idea what that is\")\n",
    "    end\n",
    "end"
   ]
  },
  {
   "cell_type": "code",
   "execution_count": 109,
   "id": "2fd97866-99f9-47e6-9f91-999ae2b9fbce",
   "metadata": {},
   "outputs": [
    {
     "name": "stdout",
     "output_type": "stream",
     "text": [
      "Look! An Int\n"
     ]
    }
   ],
   "source": [
    "checktype(2)"
   ]
  },
  {
   "cell_type": "code",
   "execution_count": 110,
   "id": "70c0b3b6-c989-4c31-9827-553832d0951b",
   "metadata": {},
   "outputs": [
    {
     "name": "stdout",
     "output_type": "stream",
     "text": [
      "Look! A Float!\n"
     ]
    }
   ],
   "source": [
    "checktype(2.0)"
   ]
  },
  {
   "cell_type": "code",
   "execution_count": 111,
   "id": "0683775d-85ab-43c5-9ae7-6dbd11490d8a",
   "metadata": {},
   "outputs": [
    {
     "name": "stdout",
     "output_type": "stream",
     "text": [
      "Whoa, that's a complex!\n"
     ]
    }
   ],
   "source": [
    "checktype(sqrt(Complex(-2)))"
   ]
  },
  {
   "cell_type": "code",
   "execution_count": 112,
   "id": "da1e2dee-7ea8-459e-ab91-194f8a8d374c",
   "metadata": {},
   "outputs": [
    {
     "name": "stdout",
     "output_type": "stream",
     "text": [
      "I have no idea what that is\n"
     ]
    }
   ],
   "source": [
    "checktype(\"who am I?\")"
   ]
  },
  {
   "cell_type": "code",
   "execution_count": 113,
   "id": "ee9337aa-af75-4087-9e4a-9bbba5c7fef1",
   "metadata": {},
   "outputs": [
    {
     "name": "stdout",
     "output_type": "stream",
     "text": [
      "that's false\n"
     ]
    }
   ],
   "source": [
    "1 > 2 ? println(\"that's tru\") : println(\"that's false\")"
   ]
  },
  {
   "cell_type": "code",
   "execution_count": 114,
   "id": "ff533334-45fc-4518-b91d-c94f76fec9de",
   "metadata": {},
   "outputs": [
    {
     "data": {
      "text/plain": [
       "noisy_sqrt (generic function with 1 method)"
      ]
     },
     "execution_count": 114,
     "metadata": {},
     "output_type": "execute_result"
    }
   ],
   "source": [
    "noisy_sqrt(x) = x >= 0 ? sqrt(x) : \"That's negative\""
   ]
  },
  {
   "cell_type": "code",
   "execution_count": 115,
   "id": "b454795f-6f45-43a5-bb24-c984a67e9514",
   "metadata": {},
   "outputs": [
    {
     "data": {
      "text/plain": [
       "\"That's negative\""
      ]
     },
     "execution_count": 115,
     "metadata": {},
     "output_type": "execute_result"
    }
   ],
   "source": [
    "noisy_sqrt(-2)"
   ]
  },
  {
   "cell_type": "code",
   "execution_count": 116,
   "id": "6b615c2f-db4d-40c4-8fa1-9204c20a2db5",
   "metadata": {},
   "outputs": [
    {
     "data": {
      "text/plain": [
       "5.744562646538029"
      ]
     },
     "execution_count": 116,
     "metadata": {},
     "output_type": "execute_result"
    }
   ],
   "source": [
    "noisy_sqrt(33)"
   ]
  },
  {
   "cell_type": "code",
   "execution_count": 117,
   "id": "e659f814-8aa3-448b-bc09-73967e9b26c8",
   "metadata": {},
   "outputs": [
    {
     "data": {
      "text/plain": [
       "42"
      ]
     },
     "execution_count": 117,
     "metadata": {},
     "output_type": "execute_result"
    }
   ],
   "source": [
    "everything = 42"
   ]
  },
  {
   "cell_type": "code",
   "execution_count": 118,
   "id": "6b36c885-004e-413c-944b-703272702404",
   "metadata": {},
   "outputs": [
    {
     "name": "stdout",
     "output_type": "stream",
     "text": [
      "that's true\n"
     ]
    }
   ],
   "source": [
    "everything < 100 && println(\"that's true\")"
   ]
  },
  {
   "cell_type": "code",
   "execution_count": 119,
   "id": "626fe035-889f-43c0-b149-534c23c51734",
   "metadata": {},
   "outputs": [
    {
     "data": {
      "text/plain": [
       "false"
      ]
     },
     "execution_count": 119,
     "metadata": {},
     "output_type": "execute_result"
    }
   ],
   "source": [
    "everything == 100 && println(\"that's false\")"
   ]
  },
  {
   "cell_type": "code",
   "execution_count": 120,
   "id": "9004c7bf-22c7-43d2-b938-f23c14e71cef",
   "metadata": {},
   "outputs": [
    {
     "name": "stdout",
     "output_type": "stream",
     "text": [
      "eat them apples\n"
     ]
    }
   ],
   "source": [
    "everything > 0 && println(\"eat them apples\")"
   ]
  },
  {
   "cell_type": "code",
   "execution_count": 121,
   "id": "f0941d5e-a842-41bb-bb3e-4a300abf2851",
   "metadata": {},
   "outputs": [],
   "source": [
    "mutable struct Person\n",
    "    name::AbstractString\n",
    "    male::Bool\n",
    "    age::Float64\n",
    "    children::Int\n",
    "end"
   ]
  },
  {
   "cell_type": "code",
   "execution_count": 122,
   "id": "7240fa21-a0da-4d6f-9bfe-8aeb9d2dcf44",
   "metadata": {},
   "outputs": [
    {
     "data": {
      "text/plain": [
       "Person(\"Julia\", false, 4.0, 0)"
      ]
     },
     "execution_count": 122,
     "metadata": {},
     "output_type": "execute_result"
    }
   ],
   "source": [
    "p = Person(\"Julia\", false, 4, 0)"
   ]
  },
  {
   "cell_type": "code",
   "execution_count": 123,
   "id": "318e4d1b-a579-47b7-acc5-77b672ef6caa",
   "metadata": {},
   "outputs": [
    {
     "name": "stdout",
     "output_type": "stream",
     "text": [
      "Person: Person(\"Julia\", false, 4.0, 0)\n"
     ]
    }
   ],
   "source": [
    "printsum(p)"
   ]
  },
  {
   "cell_type": "code",
   "execution_count": 124,
   "id": "2b30db59-d8e3-411b-88ef-7548e8796e02",
   "metadata": {},
   "outputs": [
    {
     "data": {
      "text/plain": [
       "Person[]"
      ]
     },
     "execution_count": 124,
     "metadata": {},
     "output_type": "execute_result"
    }
   ],
   "source": [
    "people = Person[]"
   ]
  },
  {
   "cell_type": "code",
   "execution_count": 125,
   "id": "6db33868-9b65-46bc-af9a-e02b04d02744",
   "metadata": {},
   "outputs": [
    {
     "data": {
      "text/plain": [
       "1-element Vector{Person}:\n",
       " Person(\"Julia\", false, 4.0, 0)"
      ]
     },
     "execution_count": 125,
     "metadata": {},
     "output_type": "execute_result"
    }
   ],
   "source": [
    "push!(people, p)"
   ]
  },
  {
   "cell_type": "code",
   "execution_count": 126,
   "id": "b02d88d8-6488-4761-aaf9-423eca0010cd",
   "metadata": {},
   "outputs": [],
   "source": [
    "mutable struct Family\n",
    "    name::AbstractString\n",
    "    members::Array{AbstractString, 1}\n",
    "    extended::Bool\n",
    "    Family(name::AbstractString) = new(name, AbstractString[], false)\n",
    "    Family(name::AbstractString, members) = new(name, members, length(members) > 3)\n",
    "end\n",
    "    "
   ]
  },
  {
   "cell_type": "code",
   "execution_count": 127,
   "id": "8d83ef45-aba1-43e4-8cee-c3569dd498cb",
   "metadata": {},
   "outputs": [
    {
     "data": {
      "text/plain": [
       "Family(\"blogs\", AbstractString[], false)"
      ]
     },
     "execution_count": 127,
     "metadata": {},
     "output_type": "execute_result"
    }
   ],
   "source": [
    "fam1 = Family(\"blogs\")"
   ]
  },
  {
   "cell_type": "code",
   "execution_count": 128,
   "id": "291cea90-5d66-4141-8d15-f0d63338e40a",
   "metadata": {},
   "outputs": [
    {
     "data": {
      "text/plain": [
       "Family(\"jones\", AbstractString[\"jake\", \"hallen\", \"marvel\", \"cage\"], true)"
      ]
     },
     "execution_count": 128,
     "metadata": {},
     "output_type": "execute_result"
    }
   ],
   "source": [
    "fam2 = Family(\"jones\", [\"jake\", \"hallen\", \"marvel\", \"cage\"])"
   ]
  },
  {
   "cell_type": "code",
   "execution_count": 130,
   "id": "e0063592-b6e8-40fd-9bd3-2b848dca791f",
   "metadata": {},
   "outputs": [
    {
     "name": "stdout",
     "output_type": "stream",
     "text": [
      "this is a simple file containing\n",
      "text and numbers:\n",
      "43.3\n",
      "17\n"
     ]
    }
   ],
   "source": [
    "fname = \"simple.dat\"\n",
    "open(fname, \"r\") do f\n",
    "    for line in eachline(f)\n",
    "        println(line)\n",
    "    end\n",
    "end"
   ]
  },
  {
   "cell_type": "code",
   "execution_count": 131,
   "id": "86145a83-1607-42f8-b5b2-b0003894463b",
   "metadata": {},
   "outputs": [
    {
     "name": "stdout",
     "output_type": "stream",
     "text": [
      "[\"this is a simple file containing\", \"text and numbers:\", \"43.3\", \"17\"]\n"
     ]
    }
   ],
   "source": [
    "f = open(fname, \"r\")\n",
    "show(readlines(f)); println()\n",
    "close(f)"
   ]
  },
  {
   "cell_type": "code",
   "execution_count": 132,
   "id": "d80932c9-b9d0-4d2d-92a1-59368179fe36",
   "metadata": {},
   "outputs": [
    {
     "data": {
      "text/plain": [
       "\"this is a simple file containing\\ntext and numbers:\\n43.3\\n17\""
      ]
     },
     "execution_count": 132,
     "metadata": {},
     "output_type": "execute_result"
    }
   ],
   "source": [
    "f = open(fname, \"r\")\n",
    "fstring = read(f, String)"
   ]
  },
  {
   "cell_type": "code",
   "execution_count": 133,
   "id": "7e6f0f6c-a367-4162-9ecb-bfb9e0d5f6e3",
   "metadata": {},
   "outputs": [
    {
     "data": {
      "text/plain": [
       "\"58-codeunit String\""
      ]
     },
     "execution_count": 133,
     "metadata": {},
     "output_type": "execute_result"
    }
   ],
   "source": [
    "summary(fstring)"
   ]
  },
  {
   "cell_type": "code",
   "execution_count": 134,
   "id": "c1945c3a-baf1-4d01-af3e-66de924cf2f7",
   "metadata": {},
   "outputs": [],
   "source": [
    "close(f)"
   ]
  },
  {
   "cell_type": "code",
   "execution_count": 135,
   "id": "75528129-1004-4fc3-ac64-af3adfe91be2",
   "metadata": {},
   "outputs": [],
   "source": [
    "outfile = \"outfile.dat\"\n",
    "f = open(outfile, \"w\")\n",
    "println(f, \"some content\")\n",
    "print(f, \"some more content\")\n",
    "print(f, \" more content but on the same line\")\n",
    "close(f)"
   ]
  },
  {
   "cell_type": "code",
   "execution_count": 136,
   "id": "58d9b498-b170-4e4f-92ba-7981b5428a2d",
   "metadata": {},
   "outputs": [
    {
     "name": "stdout",
     "output_type": "stream",
     "text": [
      "[\"some content\", \"some more content more content but on the same line\"]"
     ]
    }
   ],
   "source": [
    "f = open(outfile, \"r\")\n",
    "show(readlines(f))"
   ]
  },
  {
   "cell_type": "code",
   "execution_count": 137,
   "id": "fc0c841a-3cfe-45d5-a97a-621aca4eb3de",
   "metadata": {},
   "outputs": [],
   "source": [
    "close(f)"
   ]
  },
  {
   "cell_type": "code",
   "execution_count": 138,
   "id": "34e9682c-321a-40bd-a543-6b3589a694a2",
   "metadata": {},
   "outputs": [
    {
     "data": {
      "text/plain": [
       "\"some content\\nsome more content more content but on the same line\""
      ]
     },
     "execution_count": 138,
     "metadata": {},
     "output_type": "execute_result"
    }
   ],
   "source": [
    "outfile_content = open(f->read(f, String), outfile, \"r\")"
   ]
  },
  {
   "cell_type": "code",
   "execution_count": 139,
   "id": "6106347f-8157-42aa-9d55-4b2a0b5c188c",
   "metadata": {},
   "outputs": [
    {
     "name": "stdout",
     "output_type": "stream",
     "text": [
      "\"some content\\nsome more content more content but on the same line\"\n"
     ]
    }
   ],
   "source": [
    "println(repr(outfile_content))"
   ]
  },
  {
   "cell_type": "code",
   "execution_count": 4,
   "id": "8f375cae-29c3-4e12-b97e-8a2bb3ffdb4a",
   "metadata": {},
   "outputs": [
    {
     "name": "stderr",
     "output_type": "stream",
     "text": [
      "\u001b[32m\u001b[1m  Activating\u001b[22m\u001b[39m new project at `/gpfs/milgram/pi/yildirim/ilker/julia_by_example`\n"
     ]
    }
   ],
   "source": [
    "# We create a new environment to store the newly added packages etc. in a local directory\n",
    "Pkg.activate(\"julia_by_example\")"
   ]
  },
  {
   "cell_type": "code",
   "execution_count": 43,
   "id": "8fdb0095-a215-4794-b843-d39e90d671d4",
   "metadata": {},
   "outputs": [
    {
     "name": "stderr",
     "output_type": "stream",
     "text": [
      "\u001b[32m\u001b[1m   Resolving\u001b[22m\u001b[39m package versions...\n",
      "\u001b[32m\u001b[1m  No Changes\u001b[22m\u001b[39m to `/gpfs/milgram/pi/yildirim/ilker/julia_by_example/Project.toml`\n",
      "\u001b[32m\u001b[1m  No Changes\u001b[22m\u001b[39m to `/gpfs/milgram/pi/yildirim/ilker/julia_by_example/Manifest.toml`\n"
     ]
    }
   ],
   "source": [
    "Pkg.add(\"Calculus\")"
   ]
  },
  {
   "cell_type": "code",
   "execution_count": 8,
   "id": "78d09615-a38d-425f-b17b-14ee64afe884",
   "metadata": {},
   "outputs": [],
   "source": [
    "using Calculus"
   ]
  },
  {
   "cell_type": "code",
   "execution_count": 10,
   "id": "f967ff94-6edb-4555-b738-c8c614ef7711",
   "metadata": {},
   "outputs": [
    {
     "data": {
      "text/plain": [
       "-0.8390715285595487"
      ]
     },
     "execution_count": 10,
     "metadata": {},
     "output_type": "execute_result"
    }
   ],
   "source": [
    "derivative(x -> sin(x), 10)"
   ]
  },
  {
   "cell_type": "code",
   "execution_count": 11,
   "id": "0abe53d4-5e67-4031-984d-7ea3b79174c6",
   "metadata": {
    "scrolled": true
   },
   "outputs": [
    {
     "name": "stderr",
     "output_type": "stream",
     "text": [
      "\u001b[32m\u001b[1m   Resolving\u001b[22m\u001b[39m package versions...\n",
      "\u001b[32m\u001b[1m   Installed\u001b[22m\u001b[39m Wayland_protocols_jll ──────── v1.25.0+0\n",
      "\u001b[32m\u001b[1m   Installed\u001b[22m\u001b[39m Xorg_xcb_util_renderutil_jll ─ v0.3.9+1\n",
      "\u001b[32m\u001b[1m   Installed\u001b[22m\u001b[39m JpegTurbo_jll ──────────────── v2.1.91+0\n",
      "\u001b[32m\u001b[1m   Installed\u001b[22m\u001b[39m x265_jll ───────────────────── v3.5.0+0\n",
      "\u001b[32m\u001b[1m   Installed\u001b[22m\u001b[39m FFMPEG ─────────────────────── v0.4.1\n",
      "\u001b[32m\u001b[1m   Installed\u001b[22m\u001b[39m Showoff ────────────────────── v1.0.3\n",
      "\u001b[32m\u001b[1m   Installed\u001b[22m\u001b[39m ColorTypes ─────────────────── v0.11.4\n",
      "\u001b[32m\u001b[1m   Installed\u001b[22m\u001b[39m libfdk_aac_jll ─────────────── v2.0.2+0\n",
      "\u001b[32m\u001b[1m   Installed\u001b[22m\u001b[39m Pixman_jll ─────────────────── v0.42.2+0\n",
      "\u001b[32m\u001b[1m   Installed\u001b[22m\u001b[39m libass_jll ─────────────────── v0.15.1+0\n",
      "\u001b[32m\u001b[1m   Installed\u001b[22m\u001b[39m XML2_jll ───────────────────── v2.10.3+0\n",
      "\u001b[32m\u001b[1m   Installed\u001b[22m\u001b[39m Plots ──────────────────────── v1.38.17\n",
      "\u001b[32m\u001b[1m   Installed\u001b[22m\u001b[39m Graphite2_jll ──────────────── v1.3.14+0\n",
      "\u001b[32m\u001b[1m   Installed\u001b[22m\u001b[39m Libmount_jll ───────────────── v2.35.0+0\n",
      "\u001b[32m\u001b[1m   Installed\u001b[22m\u001b[39m GR_jll ─────────────────────── v0.72.9+0\n",
      "\u001b[32m\u001b[1m   Installed\u001b[22m\u001b[39m Xorg_libXext_jll ───────────── v1.3.4+4\n",
      "\u001b[32m\u001b[1m   Installed\u001b[22m\u001b[39m Gettext_jll ────────────────── v0.21.0+0\n",
      "\u001b[32m\u001b[1m   Installed\u001b[22m\u001b[39m LERC_jll ───────────────────── v3.0.0+1\n",
      "\u001b[32m\u001b[1m   Installed\u001b[22m\u001b[39m Xorg_xtrans_jll ────────────── v1.5.0+0\n",
      "\u001b[32m\u001b[1m   Installed\u001b[22m\u001b[39m Wayland_jll ────────────────── v1.21.0+0\n",
      "\u001b[32m\u001b[1m   Installed\u001b[22m\u001b[39m Zstd_jll ───────────────────── v1.5.5+0\n",
      "\u001b[32m\u001b[1m   Installed\u001b[22m\u001b[39m TensorCore ─────────────────── v0.1.1\n",
      "\u001b[32m\u001b[1m   Installed\u001b[22m\u001b[39m Latexify ───────────────────── v0.16.1\n",
      "\u001b[32m\u001b[1m   Installed\u001b[22m\u001b[39m Expat_jll ──────────────────── v2.5.0+0\n",
      "\u001b[32m\u001b[1m   Installed\u001b[22m\u001b[39m OpenSSL_jll ────────────────── v1.1.21+0\n",
      "\u001b[32m\u001b[1m   Installed\u001b[22m\u001b[39m Opus_jll ───────────────────── v1.3.2+0\n",
      "\u001b[32m\u001b[1m   Installed\u001b[22m\u001b[39m FFMPEG_jll ─────────────────── v4.4.2+2\n",
      "\u001b[32m\u001b[1m   Installed\u001b[22m\u001b[39m Xorg_xcb_util_keysyms_jll ──── v0.4.0+1\n",
      "\u001b[32m\u001b[1m   Installed\u001b[22m\u001b[39m xkbcommon_jll ──────────────── v1.4.1+0\n",
      "\u001b[32m\u001b[1m   Installed\u001b[22m\u001b[39m Bzip2_jll ──────────────────── v1.0.8+0\n",
      "\u001b[32m\u001b[1m   Installed\u001b[22m\u001b[39m Xorg_xkbcomp_jll ───────────── v1.4.6+0\n",
      "\u001b[32m\u001b[1m   Installed\u001b[22m\u001b[39m Pipe ───────────────────────── v1.3.0\n",
      "\u001b[32m\u001b[1m   Installed\u001b[22m\u001b[39m XZ_jll ─────────────────────── v5.4.3+1\n",
      "\u001b[32m\u001b[1m   Installed\u001b[22m\u001b[39m Libgcrypt_jll ──────────────── v1.8.7+0\n",
      "\u001b[32m\u001b[1m   Installed\u001b[22m\u001b[39m HarfBuzz_jll ───────────────── v2.8.1+1\n",
      "\u001b[32m\u001b[1m   Installed\u001b[22m\u001b[39m Xorg_xkeyboard_config_jll ──── v2.39.0+0\n",
      "\u001b[32m\u001b[1m   Installed\u001b[22m\u001b[39m Unitful ────────────────────── v1.15.0\n",
      "\u001b[32m\u001b[1m   Installed\u001b[22m\u001b[39m Libtiff_jll ────────────────── v4.5.1+1\n",
      "\u001b[32m\u001b[1m   Installed\u001b[22m\u001b[39m PlotThemes ─────────────────── v3.1.0\n",
      "\u001b[32m\u001b[1m   Installed\u001b[22m\u001b[39m Xorg_libXrandr_jll ─────────── v1.5.2+4\n",
      "\u001b[32m\u001b[1m   Installed\u001b[22m\u001b[39m FixedPointNumbers ──────────── v0.8.4\n",
      "\u001b[32m\u001b[1m   Installed\u001b[22m\u001b[39m Measures ───────────────────── v0.3.2\n",
      "\u001b[32m\u001b[1m   Installed\u001b[22m\u001b[39m Contour ────────────────────── v0.6.2\n",
      "\u001b[32m\u001b[1m   Installed\u001b[22m\u001b[39m RecipesBase ────────────────── v1.3.4\n",
      "\u001b[32m\u001b[1m   Installed\u001b[22m\u001b[39m Xorg_libXfixes_jll ─────────── v5.0.3+4\n",
      "\u001b[32m\u001b[1m   Installed\u001b[22m\u001b[39m LAME_jll ───────────────────── v3.100.1+0\n",
      "\u001b[32m\u001b[1m   Installed\u001b[22m\u001b[39m Grisu ──────────────────────── v1.0.2\n",
      "\u001b[32m\u001b[1m   Installed\u001b[22m\u001b[39m Libiconv_jll ───────────────── v1.16.1+2\n",
      "\u001b[32m\u001b[1m   Installed\u001b[22m\u001b[39m Formatting ─────────────────── v0.4.2\n",
      "\u001b[32m\u001b[1m   Installed\u001b[22m\u001b[39m Xorg_xcb_util_wm_jll ───────── v0.4.1+1\n",
      "\u001b[32m\u001b[1m   Installed\u001b[22m\u001b[39m Qt6Base_jll ────────────────── v6.4.2+3\n",
      "\u001b[32m\u001b[1m   Installed\u001b[22m\u001b[39m Xorg_xcb_util_image_jll ────── v0.4.0+1\n",
      "\u001b[32m\u001b[1m   Installed\u001b[22m\u001b[39m LZO_jll ────────────────────── v2.10.1+0\n",
      "\u001b[32m\u001b[1m   Installed\u001b[22m\u001b[39m PlotUtils ──────────────────── v1.3.5\n",
      "\u001b[32m\u001b[1m   Installed\u001b[22m\u001b[39m ColorVectorSpace ───────────── v0.10.0\n",
      "\u001b[32m\u001b[1m   Installed\u001b[22m\u001b[39m Libffi_jll ─────────────────── v3.2.2+1\n",
      "\u001b[32m\u001b[1m   Installed\u001b[22m\u001b[39m RecipesPipeline ────────────── v0.6.12\n",
      "\u001b[32m\u001b[1m   Installed\u001b[22m\u001b[39m fzf_jll ────────────────────── v0.29.0+0\n",
      "\u001b[32m\u001b[1m   Installed\u001b[22m\u001b[39m LaTeXStrings ───────────────── v1.3.0\n",
      "\u001b[32m\u001b[1m   Installed\u001b[22m\u001b[39m Xorg_libXrender_jll ────────── v0.9.10+4\n",
      "\u001b[32m\u001b[1m   Installed\u001b[22m\u001b[39m Glib_jll ───────────────────── v2.74.0+2\n",
      "\u001b[32m\u001b[1m   Installed\u001b[22m\u001b[39m ColorSchemes ───────────────── v3.22.0\n",
      "\u001b[32m\u001b[1m   Installed\u001b[22m\u001b[39m libvorbis_jll ──────────────── v1.3.7+1\n",
      "\u001b[32m\u001b[1m   Installed\u001b[22m\u001b[39m FriBidi_jll ────────────────── v1.0.10+0\n",
      "\u001b[32m\u001b[1m   Installed\u001b[22m\u001b[39m Ogg_jll ────────────────────── v1.3.5+1\n",
      "\u001b[32m\u001b[1m   Installed\u001b[22m\u001b[39m Libglvnd_jll ───────────────── v1.6.0+0\n",
      "\u001b[32m\u001b[1m   Installed\u001b[22m\u001b[39m Xorg_libpthread_stubs_jll ──── v0.1.1+0\n",
      "\u001b[32m\u001b[1m   Installed\u001b[22m\u001b[39m DelimitedFiles ─────────────── v1.9.1\n",
      "\u001b[32m\u001b[1m   Installed\u001b[22m\u001b[39m Xorg_libXi_jll ─────────────── v1.7.10+4\n",
      "\u001b[32m\u001b[1m   Installed\u001b[22m\u001b[39m XSLT_jll ───────────────────── v1.1.34+0\n",
      "\u001b[32m\u001b[1m   Installed\u001b[22m\u001b[39m UnicodeFun ─────────────────── v0.4.1\n",
      "\u001b[32m\u001b[1m   Installed\u001b[22m\u001b[39m Cairo_jll ──────────────────── v1.16.1+1\n",
      "\u001b[32m\u001b[1m   Installed\u001b[22m\u001b[39m Xorg_xcb_util_jll ──────────── v0.4.0+1\n",
      "\u001b[32m\u001b[1m   Installed\u001b[22m\u001b[39m Fontconfig_jll ─────────────── v2.13.93+0\n",
      "\u001b[32m\u001b[1m   Installed\u001b[22m\u001b[39m GLFW_jll ───────────────────── v3.3.8+0\n",
      "\u001b[32m\u001b[1m   Installed\u001b[22m\u001b[39m Libgpg_error_jll ───────────── v1.42.0+0\n",
      "\u001b[32m\u001b[1m   Installed\u001b[22m\u001b[39m x264_jll ───────────────────── v2021.5.5+0\n",
      "\u001b[32m\u001b[1m   Installed\u001b[22m\u001b[39m Xorg_libxkbfile_jll ────────── v1.1.2+0\n",
      "\u001b[32m\u001b[1m   Installed\u001b[22m\u001b[39m Xorg_libXinerama_jll ───────── v1.1.4+4\n",
      "\u001b[32m\u001b[1m   Installed\u001b[22m\u001b[39m FreeType2_jll ──────────────── v2.13.1+0\n",
      "\u001b[32m\u001b[1m   Installed\u001b[22m\u001b[39m Xorg_libX11_jll ────────────── v1.8.6+0\n",
      "\u001b[32m\u001b[1m   Installed\u001b[22m\u001b[39m Colors ─────────────────────── v0.12.10\n",
      "\u001b[32m\u001b[1m   Installed\u001b[22m\u001b[39m Xorg_libXdmcp_jll ──────────── v1.1.4+0\n",
      "\u001b[32m\u001b[1m   Installed\u001b[22m\u001b[39m JLFzf ──────────────────────── v0.1.5\n",
      "\u001b[32m\u001b[1m   Installed\u001b[22m\u001b[39m Xorg_libXau_jll ────────────── v1.0.11+0\n",
      "\u001b[32m\u001b[1m   Installed\u001b[22m\u001b[39m Xorg_libXcursor_jll ────────── v1.2.0+4\n",
      "\u001b[32m\u001b[1m   Installed\u001b[22m\u001b[39m GR ─────────────────────────── v0.72.9\n",
      "\u001b[32m\u001b[1m   Installed\u001b[22m\u001b[39m Unzip ──────────────────────── v0.2.0\n",
      "\u001b[32m\u001b[1m   Installed\u001b[22m\u001b[39m UnitfulLatexify ────────────── v1.6.3\n",
      "\u001b[32m\u001b[1m   Installed\u001b[22m\u001b[39m Libuuid_jll ────────────────── v2.36.0+0\n",
      "\u001b[32m\u001b[1m   Installed\u001b[22m\u001b[39m Xorg_libxcb_jll ────────────── v1.15.0+0\n",
      "\u001b[32m\u001b[1m   Installed\u001b[22m\u001b[39m libpng_jll ─────────────────── v1.6.38+0\n",
      "\u001b[32m\u001b[1m   Installed\u001b[22m\u001b[39m libaom_jll ─────────────────── v3.4.0+0\n",
      "\u001b[32m\u001b[1m    Updating\u001b[22m\u001b[39m `/gpfs/milgram/pi/yildirim/ilker/julia_by_example/Project.toml`\n",
      "  \u001b[90m[91a5bcdd] \u001b[39m\u001b[92m+ Plots v1.38.17\u001b[39m\n",
      "\u001b[32m\u001b[1m    Updating\u001b[22m\u001b[39m `/gpfs/milgram/pi/yildirim/ilker/julia_by_example/Manifest.toml`\n",
      "  \u001b[90m[d1d4a3ce] \u001b[39m\u001b[92m+ BitFlags v0.1.7\u001b[39m\n",
      "  \u001b[90m[944b1d66] \u001b[39m\u001b[92m+ CodecZlib v0.7.2\u001b[39m\n",
      "  \u001b[90m[35d6a980] \u001b[39m\u001b[92m+ ColorSchemes v3.22.0\u001b[39m\n",
      "  \u001b[90m[3da002f7] \u001b[39m\u001b[92m+ ColorTypes v0.11.4\u001b[39m\n",
      "  \u001b[90m[c3611d14] \u001b[39m\u001b[92m+ ColorVectorSpace v0.10.0\u001b[39m\n",
      "  \u001b[90m[5ae59095] \u001b[39m\u001b[92m+ Colors v0.12.10\u001b[39m\n",
      "  \u001b[90m[34da2185] \u001b[39m\u001b[92m+ Compat v4.8.0\u001b[39m\n",
      "  \u001b[90m[f0e56b4a] \u001b[39m\u001b[92m+ ConcurrentUtilities v2.2.1\u001b[39m\n",
      "  \u001b[90m[d38c429a] \u001b[39m\u001b[92m+ Contour v0.6.2\u001b[39m\n",
      "  \u001b[90m[9a962f9c] \u001b[39m\u001b[92m+ DataAPI v1.15.0\u001b[39m\n",
      "  \u001b[90m[864edb3b] \u001b[39m\u001b[92m+ DataStructures v0.18.14\u001b[39m\n",
      "  \u001b[90m[8bb1440f] \u001b[39m\u001b[92m+ DelimitedFiles v1.9.1\u001b[39m\n",
      "  \u001b[90m[ffbed154] \u001b[39m\u001b[92m+ DocStringExtensions v0.9.3\u001b[39m\n",
      "  \u001b[90m[460bff9d] \u001b[39m\u001b[92m+ ExceptionUnwrapping v0.1.9\u001b[39m\n",
      "  \u001b[90m[c87230d0] \u001b[39m\u001b[92m+ FFMPEG v0.4.1\u001b[39m\n",
      "  \u001b[90m[53c48c17] \u001b[39m\u001b[92m+ FixedPointNumbers v0.8.4\u001b[39m\n",
      "  \u001b[90m[59287772] \u001b[39m\u001b[92m+ Formatting v0.4.2\u001b[39m\n",
      "  \u001b[90m[28b8d3ca] \u001b[39m\u001b[92m+ GR v0.72.9\u001b[39m\n",
      "  \u001b[90m[42e2da0e] \u001b[39m\u001b[92m+ Grisu v1.0.2\u001b[39m\n",
      "  \u001b[90m[cd3eb016] \u001b[39m\u001b[92m+ HTTP v1.9.14\u001b[39m\n",
      "  \u001b[90m[92d709cd] \u001b[39m\u001b[92m+ IrrationalConstants v0.2.2\u001b[39m\n",
      "  \u001b[90m[1019f520] \u001b[39m\u001b[92m+ JLFzf v0.1.5\u001b[39m\n",
      "  \u001b[90m[692b3bcd] \u001b[39m\u001b[92m+ JLLWrappers v1.4.1\u001b[39m\n",
      "  \u001b[90m[682c06a0] \u001b[39m\u001b[92m+ JSON v0.21.4\u001b[39m\n",
      "  \u001b[90m[b964fa9f] \u001b[39m\u001b[92m+ LaTeXStrings v1.3.0\u001b[39m\n",
      "  \u001b[90m[23fbe1c1] \u001b[39m\u001b[92m+ Latexify v0.16.1\u001b[39m\n",
      "  \u001b[90m[2ab3a3ac] \u001b[39m\u001b[92m+ LogExpFunctions v0.3.24\u001b[39m\n",
      "  \u001b[90m[e6f89c97] \u001b[39m\u001b[92m+ LoggingExtras v1.0.0\u001b[39m\n",
      "  \u001b[90m[1914dd2f] \u001b[39m\u001b[92m+ MacroTools v0.5.10\u001b[39m\n",
      "  \u001b[90m[739be429] \u001b[39m\u001b[92m+ MbedTLS v1.1.7\u001b[39m\n",
      "  \u001b[90m[442fdcdd] \u001b[39m\u001b[92m+ Measures v0.3.2\u001b[39m\n",
      "  \u001b[90m[e1d29d7a] \u001b[39m\u001b[92m+ Missings v1.1.0\u001b[39m\n",
      "  \u001b[90m[77ba4419] \u001b[39m\u001b[92m+ NaNMath v1.0.2\u001b[39m\n",
      "  \u001b[90m[4d8831e6] \u001b[39m\u001b[92m+ OpenSSL v1.4.1\u001b[39m\n",
      "  \u001b[90m[bac558e1] \u001b[39m\u001b[92m+ OrderedCollections v1.6.2\u001b[39m\n",
      "  \u001b[90m[69de0a69] \u001b[39m\u001b[92m+ Parsers v2.7.1\u001b[39m\n",
      "  \u001b[90m[b98c9c47] \u001b[39m\u001b[92m+ Pipe v1.3.0\u001b[39m\n",
      "  \u001b[90m[ccf2f8ad] \u001b[39m\u001b[92m+ PlotThemes v3.1.0\u001b[39m\n",
      "  \u001b[90m[995b91a9] \u001b[39m\u001b[92m+ PlotUtils v1.3.5\u001b[39m\n",
      "  \u001b[90m[91a5bcdd] \u001b[39m\u001b[92m+ Plots v1.38.17\u001b[39m\n",
      "  \u001b[90m[aea7be01] \u001b[39m\u001b[92m+ PrecompileTools v1.1.2\u001b[39m\n",
      "  \u001b[90m[21216c6a] \u001b[39m\u001b[92m+ Preferences v1.4.0\u001b[39m\n",
      "  \u001b[90m[3cdcf5f2] \u001b[39m\u001b[92m+ RecipesBase v1.3.4\u001b[39m\n",
      "  \u001b[90m[01d81517] \u001b[39m\u001b[92m+ RecipesPipeline v0.6.12\u001b[39m\n",
      "  \u001b[90m[189a3867] \u001b[39m\u001b[92m+ Reexport v1.2.2\u001b[39m\n",
      "  \u001b[90m[05181044] \u001b[39m\u001b[92m+ RelocatableFolders v1.0.0\u001b[39m\n",
      "  \u001b[90m[ae029012] \u001b[39m\u001b[92m+ Requires v1.3.0\u001b[39m\n",
      "  \u001b[90m[6c6a2e73] \u001b[39m\u001b[92m+ Scratch v1.2.0\u001b[39m\n",
      "  \u001b[90m[992d4aef] \u001b[39m\u001b[92m+ Showoff v1.0.3\u001b[39m\n",
      "  \u001b[90m[777ac1f9] \u001b[39m\u001b[92m+ SimpleBufferStream v1.1.0\u001b[39m\n",
      "  \u001b[90m[a2af1166] \u001b[39m\u001b[92m+ SortingAlgorithms v1.1.1\u001b[39m\n",
      "  \u001b[90m[82ae8749] \u001b[39m\u001b[92m+ StatsAPI v1.6.0\u001b[39m\n",
      "  \u001b[90m[2913bbd2] \u001b[39m\u001b[92m+ StatsBase v0.34.0\u001b[39m\n",
      "  \u001b[90m[62fd8b95] \u001b[39m\u001b[92m+ TensorCore v0.1.1\u001b[39m\n",
      "  \u001b[90m[3bb67fe8] \u001b[39m\u001b[92m+ TranscodingStreams v0.9.13\u001b[39m\n",
      "  \u001b[90m[5c2747f8] \u001b[39m\u001b[92m+ URIs v1.4.2\u001b[39m\n",
      "  \u001b[90m[1cfade01] \u001b[39m\u001b[92m+ UnicodeFun v0.4.1\u001b[39m\n",
      "  \u001b[90m[1986cc42] \u001b[39m\u001b[92m+ Unitful v1.15.0\u001b[39m\n",
      "  \u001b[90m[45397f5d] \u001b[39m\u001b[92m+ UnitfulLatexify v1.6.3\u001b[39m\n",
      "  \u001b[90m[41fe7b60] \u001b[39m\u001b[92m+ Unzip v0.2.0\u001b[39m\n",
      "  \u001b[90m[6e34b625] \u001b[39m\u001b[92m+ Bzip2_jll v1.0.8+0\u001b[39m\n",
      "  \u001b[90m[83423d85] \u001b[39m\u001b[92m+ Cairo_jll v1.16.1+1\u001b[39m\n",
      "  \u001b[90m[2e619515] \u001b[39m\u001b[92m+ Expat_jll v2.5.0+0\u001b[39m\n",
      "  \u001b[90m[b22a6f82] \u001b[39m\u001b[92m+ FFMPEG_jll v4.4.2+2\u001b[39m\n",
      "  \u001b[90m[a3f928ae] \u001b[39m\u001b[92m+ Fontconfig_jll v2.13.93+0\u001b[39m\n",
      "  \u001b[90m[d7e528f0] \u001b[39m\u001b[92m+ FreeType2_jll v2.13.1+0\u001b[39m\n",
      "  \u001b[90m[559328eb] \u001b[39m\u001b[92m+ FriBidi_jll v1.0.10+0\u001b[39m\n",
      "  \u001b[90m[0656b61e] \u001b[39m\u001b[92m+ GLFW_jll v3.3.8+0\u001b[39m\n",
      "  \u001b[90m[d2c73de3] \u001b[39m\u001b[92m+ GR_jll v0.72.9+0\u001b[39m\n",
      "  \u001b[90m[78b55507] \u001b[39m\u001b[92m+ Gettext_jll v0.21.0+0\u001b[39m\n",
      "  \u001b[90m[7746bdde] \u001b[39m\u001b[92m+ Glib_jll v2.74.0+2\u001b[39m\n",
      "  \u001b[90m[3b182d85] \u001b[39m\u001b[92m+ Graphite2_jll v1.3.14+0\u001b[39m\n",
      "  \u001b[90m[2e76f6c2] \u001b[39m\u001b[92m+ HarfBuzz_jll v2.8.1+1\u001b[39m\n",
      "  \u001b[90m[aacddb02] \u001b[39m\u001b[92m+ JpegTurbo_jll v2.1.91+0\u001b[39m\n",
      "  \u001b[90m[c1c5ebd0] \u001b[39m\u001b[92m+ LAME_jll v3.100.1+0\u001b[39m\n",
      "  \u001b[90m[88015f11] \u001b[39m\u001b[92m+ LERC_jll v3.0.0+1\u001b[39m\n",
      "  \u001b[90m[1d63c593] \u001b[39m\u001b[92m+ LLVMOpenMP_jll v15.0.4+0\u001b[39m\n",
      "  \u001b[90m[dd4b983a] \u001b[39m\u001b[92m+ LZO_jll v2.10.1+0\u001b[39m\n",
      "\u001b[33m⌅\u001b[39m \u001b[90m[e9f186c6] \u001b[39m\u001b[92m+ Libffi_jll v3.2.2+1\u001b[39m\n",
      "  \u001b[90m[d4300ac3] \u001b[39m\u001b[92m+ Libgcrypt_jll v1.8.7+0\u001b[39m\n",
      "  \u001b[90m[7e76a0d4] \u001b[39m\u001b[92m+ Libglvnd_jll v1.6.0+0\u001b[39m\n",
      "  \u001b[90m[7add5ba3] \u001b[39m\u001b[92m+ Libgpg_error_jll v1.42.0+0\u001b[39m\n",
      "  \u001b[90m[94ce4f54] \u001b[39m\u001b[92m+ Libiconv_jll v1.16.1+2\u001b[39m\n",
      "  \u001b[90m[4b2f31a3] \u001b[39m\u001b[92m+ Libmount_jll v2.35.0+0\u001b[39m\n",
      "  \u001b[90m[89763e89] \u001b[39m\u001b[92m+ Libtiff_jll v4.5.1+1\u001b[39m\n",
      "  \u001b[90m[38a345b3] \u001b[39m\u001b[92m+ Libuuid_jll v2.36.0+0\u001b[39m\n",
      "  \u001b[90m[e7412a2a] \u001b[39m\u001b[92m+ Ogg_jll v1.3.5+1\u001b[39m\n",
      "\u001b[33m⌅\u001b[39m \u001b[90m[458c3c95] \u001b[39m\u001b[92m+ OpenSSL_jll v1.1.21+0\u001b[39m\n",
      "  \u001b[90m[91d4177d] \u001b[39m\u001b[92m+ Opus_jll v1.3.2+0\u001b[39m\n",
      "  \u001b[90m[30392449] \u001b[39m\u001b[92m+ Pixman_jll v0.42.2+0\u001b[39m\n",
      "  \u001b[90m[c0090381] \u001b[39m\u001b[92m+ Qt6Base_jll v6.4.2+3\u001b[39m\n",
      "  \u001b[90m[a2964d1f] \u001b[39m\u001b[92m+ Wayland_jll v1.21.0+0\u001b[39m\n",
      "  \u001b[90m[2381bf8a] \u001b[39m\u001b[92m+ Wayland_protocols_jll v1.25.0+0\u001b[39m\n",
      "  \u001b[90m[02c8fc9c] \u001b[39m\u001b[92m+ XML2_jll v2.10.3+0\u001b[39m\n",
      "  \u001b[90m[aed1982a] \u001b[39m\u001b[92m+ XSLT_jll v1.1.34+0\u001b[39m\n",
      "  \u001b[90m[ffd25f8a] \u001b[39m\u001b[92m+ XZ_jll v5.4.3+1\u001b[39m\n",
      "  \u001b[90m[4f6342f7] \u001b[39m\u001b[92m+ Xorg_libX11_jll v1.8.6+0\u001b[39m\n",
      "  \u001b[90m[0c0b7dd1] \u001b[39m\u001b[92m+ Xorg_libXau_jll v1.0.11+0\u001b[39m\n",
      "  \u001b[90m[935fb764] \u001b[39m\u001b[92m+ Xorg_libXcursor_jll v1.2.0+4\u001b[39m\n",
      "  \u001b[90m[a3789734] \u001b[39m\u001b[92m+ Xorg_libXdmcp_jll v1.1.4+0\u001b[39m\n",
      "  \u001b[90m[1082639a] \u001b[39m\u001b[92m+ Xorg_libXext_jll v1.3.4+4\u001b[39m\n",
      "  \u001b[90m[d091e8ba] \u001b[39m\u001b[92m+ Xorg_libXfixes_jll v5.0.3+4\u001b[39m\n",
      "  \u001b[90m[a51aa0fd] \u001b[39m\u001b[92m+ Xorg_libXi_jll v1.7.10+4\u001b[39m\n",
      "  \u001b[90m[d1454406] \u001b[39m\u001b[92m+ Xorg_libXinerama_jll v1.1.4+4\u001b[39m\n",
      "  \u001b[90m[ec84b674] \u001b[39m\u001b[92m+ Xorg_libXrandr_jll v1.5.2+4\u001b[39m\n",
      "  \u001b[90m[ea2f1a96] \u001b[39m\u001b[92m+ Xorg_libXrender_jll v0.9.10+4\u001b[39m\n",
      "  \u001b[90m[14d82f49] \u001b[39m\u001b[92m+ Xorg_libpthread_stubs_jll v0.1.1+0\u001b[39m\n",
      "  \u001b[90m[c7cfdc94] \u001b[39m\u001b[92m+ Xorg_libxcb_jll v1.15.0+0\u001b[39m\n",
      "  \u001b[90m[cc61e674] \u001b[39m\u001b[92m+ Xorg_libxkbfile_jll v1.1.2+0\u001b[39m\n",
      "  \u001b[90m[12413925] \u001b[39m\u001b[92m+ Xorg_xcb_util_image_jll v0.4.0+1\u001b[39m\n",
      "  \u001b[90m[2def613f] \u001b[39m\u001b[92m+ Xorg_xcb_util_jll v0.4.0+1\u001b[39m\n",
      "  \u001b[90m[975044d2] \u001b[39m\u001b[92m+ Xorg_xcb_util_keysyms_jll v0.4.0+1\u001b[39m\n",
      "  \u001b[90m[0d47668e] \u001b[39m\u001b[92m+ Xorg_xcb_util_renderutil_jll v0.3.9+1\u001b[39m\n",
      "  \u001b[90m[c22f9ab0] \u001b[39m\u001b[92m+ Xorg_xcb_util_wm_jll v0.4.1+1\u001b[39m\n",
      "  \u001b[90m[35661453] \u001b[39m\u001b[92m+ Xorg_xkbcomp_jll v1.4.6+0\u001b[39m\n",
      "  \u001b[90m[33bec58e] \u001b[39m\u001b[92m+ Xorg_xkeyboard_config_jll v2.39.0+0\u001b[39m\n",
      "  \u001b[90m[c5fb5394] \u001b[39m\u001b[92m+ Xorg_xtrans_jll v1.5.0+0\u001b[39m\n",
      "  \u001b[90m[3161d3a3] \u001b[39m\u001b[92m+ Zstd_jll v1.5.5+0\u001b[39m\n",
      "\u001b[33m⌅\u001b[39m \u001b[90m[214eeab7] \u001b[39m\u001b[92m+ fzf_jll v0.29.0+0\u001b[39m\n",
      "  \u001b[90m[a4ae2306] \u001b[39m\u001b[92m+ libaom_jll v3.4.0+0\u001b[39m\n",
      "  \u001b[90m[0ac62f75] \u001b[39m\u001b[92m+ libass_jll v0.15.1+0\u001b[39m\n",
      "  \u001b[90m[f638f0a6] \u001b[39m\u001b[92m+ libfdk_aac_jll v2.0.2+0\u001b[39m\n",
      "  \u001b[90m[b53b4c65] \u001b[39m\u001b[92m+ libpng_jll v1.6.38+0\u001b[39m\n",
      "  \u001b[90m[f27f6e37] \u001b[39m\u001b[92m+ libvorbis_jll v1.3.7+1\u001b[39m\n",
      "  \u001b[90m[1270edf5] \u001b[39m\u001b[92m+ x264_jll v2021.5.5+0\u001b[39m\n",
      "  \u001b[90m[dfaa095f] \u001b[39m\u001b[92m+ x265_jll v3.5.0+0\u001b[39m\n",
      "  \u001b[90m[d8fb68d0] \u001b[39m\u001b[92m+ xkbcommon_jll v1.4.1+0\u001b[39m\n",
      "  \u001b[90m[0dad84c5] \u001b[39m\u001b[92m+ ArgTools v1.1.1\u001b[39m\n",
      "  \u001b[90m[2a0f44e3] \u001b[39m\u001b[92m+ Base64\u001b[39m\n",
      "  \u001b[90m[ade2ca70] \u001b[39m\u001b[92m+ Dates\u001b[39m\n",
      "  \u001b[90m[f43a241f] \u001b[39m\u001b[92m+ Downloads v1.6.0\u001b[39m\n",
      "  \u001b[90m[7b1f6079] \u001b[39m\u001b[92m+ FileWatching\u001b[39m\n",
      "  \u001b[90m[b77e0a4c] \u001b[39m\u001b[92m+ InteractiveUtils\u001b[39m\n",
      "  \u001b[90m[b27032c2] \u001b[39m\u001b[92m+ LibCURL v0.6.3\u001b[39m\n",
      "  \u001b[90m[76f85450] \u001b[39m\u001b[92m+ LibGit2\u001b[39m\n",
      "  \u001b[90m[56ddb016] \u001b[39m\u001b[92m+ Logging\u001b[39m\n",
      "  \u001b[90m[d6f4376e] \u001b[39m\u001b[92m+ Markdown\u001b[39m\n",
      "  \u001b[90m[a63ad114] \u001b[39m\u001b[92m+ Mmap\u001b[39m\n",
      "  \u001b[90m[ca575930] \u001b[39m\u001b[92m+ NetworkOptions v1.2.0\u001b[39m\n",
      "  \u001b[90m[44cfe95a] \u001b[39m\u001b[92m+ Pkg v1.9.2\u001b[39m\n",
      "  \u001b[90m[de0858da] \u001b[39m\u001b[92m+ Printf\u001b[39m\n",
      "  \u001b[90m[3fa0cd96] \u001b[39m\u001b[92m+ REPL\u001b[39m\n",
      "  \u001b[90m[9a3f8284] \u001b[39m\u001b[92m+ Random\u001b[39m\n",
      "  \u001b[90m[ea8e919c] \u001b[39m\u001b[92m+ SHA v0.7.0\u001b[39m\n",
      "  \u001b[90m[9e88b42a] \u001b[39m\u001b[92m+ Serialization\u001b[39m\n",
      "  \u001b[90m[6462fe0b] \u001b[39m\u001b[92m+ Sockets\u001b[39m\n",
      "  \u001b[90m[2f01184e] \u001b[39m\u001b[92m+ SparseArrays\u001b[39m\n",
      "  \u001b[90m[10745b16] \u001b[39m\u001b[92m+ Statistics v1.9.0\u001b[39m\n",
      "  \u001b[90m[fa267f1f] \u001b[39m\u001b[92m+ TOML v1.0.3\u001b[39m\n",
      "  \u001b[90m[a4e569a6] \u001b[39m\u001b[92m+ Tar v1.10.0\u001b[39m\n",
      "  \u001b[90m[8dfed614] \u001b[39m\u001b[92m+ Test\u001b[39m\n",
      "  \u001b[90m[cf7118a7] \u001b[39m\u001b[92m+ UUIDs\u001b[39m\n",
      "  \u001b[90m[4ec0a83e] \u001b[39m\u001b[92m+ Unicode\u001b[39m\n",
      "  \u001b[90m[deac9b47] \u001b[39m\u001b[92m+ LibCURL_jll v7.84.0+0\u001b[39m\n",
      "  \u001b[90m[29816b5a] \u001b[39m\u001b[92m+ LibSSH2_jll v1.10.2+0\u001b[39m\n",
      "  \u001b[90m[c8ffd9c3] \u001b[39m\u001b[92m+ MbedTLS_jll v2.28.2+0\u001b[39m\n",
      "  \u001b[90m[14a3606d] \u001b[39m\u001b[92m+ MozillaCACerts_jll v2022.10.11\u001b[39m\n",
      "  \u001b[90m[05823500] \u001b[39m\u001b[92m+ OpenLibm_jll v0.8.1+0\u001b[39m\n",
      "  \u001b[90m[efcefdf7] \u001b[39m\u001b[92m+ PCRE2_jll v10.42.0+0\u001b[39m\n",
      "  \u001b[90m[bea87d4a] \u001b[39m\u001b[92m+ SuiteSparse_jll v5.10.1+6\u001b[39m\n",
      "  \u001b[90m[83775a58] \u001b[39m\u001b[92m+ Zlib_jll v1.2.13+0\u001b[39m\n",
      "  \u001b[90m[8e850ede] \u001b[39m\u001b[92m+ nghttp2_jll v1.48.0+0\u001b[39m\n",
      "  \u001b[90m[3f19e933] \u001b[39m\u001b[92m+ p7zip_jll v17.4.0+0\u001b[39m\n",
      "\u001b[36m\u001b[1m        Info\u001b[22m\u001b[39m Packages marked with \u001b[33m⌅\u001b[39m have new versions available but compatibility constraints restrict them from upgrading. To see why use `status --outdated -m`\n",
      "\u001b[32m\u001b[1mPrecompiling\u001b[22m\u001b[39m project...\n",
      "\u001b[32m  ✓ \u001b[39m\u001b[90mTensorCore\u001b[39m\n",
      "\u001b[32m  ✓ \u001b[39m\u001b[90mLaTeXStrings\u001b[39m\n",
      "\u001b[32m  ✓ \u001b[39m\u001b[90mPipe\u001b[39m\n",
      "\u001b[32m  ✓ \u001b[39m\u001b[90mPCRE2_jll\u001b[39m\n",
      "\u001b[32m  ✓ \u001b[39m\u001b[90mContour\u001b[39m\n",
      "\u001b[32m  ✓ \u001b[39m\u001b[90mMeasures\u001b[39m\n",
      "\u001b[32m  ✓ \u001b[39m\u001b[90mDelimitedFiles\u001b[39m\n",
      "\u001b[32m  ✓ \u001b[39m\u001b[90mFormatting\u001b[39m\n",
      "\u001b[32m  ✓ \u001b[39m\u001b[90mGraphite2_jll\u001b[39m\n",
      "\u001b[32m  ✓ \u001b[39m\u001b[90mOpenSSL_jll\u001b[39m\n",
      "\u001b[32m  ✓ \u001b[39m\u001b[90mUnzip\u001b[39m\n",
      "\u001b[32m  ✓ \u001b[39m\u001b[90mGrisu\u001b[39m\n",
      "\u001b[32m  ✓ \u001b[39m\u001b[90mLibmount_jll\u001b[39m\n",
      "\u001b[32m  ✓ \u001b[39m\u001b[90mBzip2_jll\u001b[39m\n",
      "\u001b[32m  ✓ \u001b[39m\u001b[90mXorg_libXau_jll\u001b[39m\n",
      "\u001b[32m  ✓ \u001b[39m\u001b[90mlibpng_jll\u001b[39m\n",
      "\u001b[32m  ✓ \u001b[39m\u001b[90mlibfdk_aac_jll\u001b[39m\n",
      "\u001b[32m  ✓ \u001b[39m\u001b[90mLAME_jll\u001b[39m\n",
      "\u001b[32m  ✓ \u001b[39m\u001b[90mPixman_jll\u001b[39m\n",
      "\u001b[32m  ✓ \u001b[39m\u001b[90mfzf_jll\u001b[39m\n",
      "\u001b[32m  ✓ \u001b[39m\u001b[90mLERC_jll\u001b[39m\n",
      "\u001b[32m  ✓ \u001b[39m\u001b[90mJpegTurbo_jll\u001b[39m\n",
      "\u001b[32m  ✓ \u001b[39m\u001b[90mUnicodeFun\u001b[39m\n",
      "\u001b[32m  ✓ \u001b[39m\u001b[90mXZ_jll\u001b[39m\n",
      "\u001b[32m  ✓ \u001b[39m\u001b[90mOgg_jll\u001b[39m\n",
      "\u001b[32m  ✓ \u001b[39m\u001b[90mXorg_libXdmcp_jll\u001b[39m\n",
      "\u001b[32m  ✓ \u001b[39m\u001b[90mx265_jll\u001b[39m\n",
      "\u001b[32m  ✓ \u001b[39m\u001b[90mx264_jll\u001b[39m\n",
      "\u001b[32m  ✓ \u001b[39m\u001b[90mExpat_jll\u001b[39m\n",
      "\u001b[32m  ✓ \u001b[39m\u001b[90mlibaom_jll\u001b[39m\n",
      "\u001b[32m  ✓ \u001b[39m\u001b[90mZstd_jll\u001b[39m\n",
      "\u001b[32m  ✓ \u001b[39m\u001b[90mLZO_jll\u001b[39m\n",
      "\u001b[32m  ✓ \u001b[39m\u001b[90mOpus_jll\u001b[39m\n",
      "\u001b[32m  ✓ \u001b[39m\u001b[90mXorg_xtrans_jll\u001b[39m\n",
      "\u001b[32m  ✓ \u001b[39m\u001b[90mLibiconv_jll\u001b[39m\n",
      "\u001b[32m  ✓ \u001b[39m\u001b[90mWayland_protocols_jll\u001b[39m\n",
      "\u001b[32m  ✓ \u001b[39m\u001b[90mLibffi_jll\u001b[39m\n",
      "\u001b[32m  ✓ \u001b[39m\u001b[90mLibgpg_error_jll\u001b[39m\n",
      "\u001b[32m  ✓ \u001b[39m\u001b[90mRecipesBase\u001b[39m\n",
      "\u001b[32m  ✓ \u001b[39m\u001b[90mShowoff\u001b[39m\n",
      "\u001b[32m  ✓ \u001b[39m\u001b[90mXorg_libpthread_stubs_jll\u001b[39m\n",
      "\u001b[32m  ✓ \u001b[39m\u001b[90mFriBidi_jll\u001b[39m\n",
      "\u001b[32m  ✓ \u001b[39m\u001b[90mLibuuid_jll\u001b[39m\n",
      "\u001b[32m  ✓ \u001b[39m\u001b[90mJLFzf\u001b[39m\n",
      "\u001b[32m  ✓ \u001b[39m\u001b[90mXML2_jll\u001b[39m\n",
      "\u001b[32m  ✓ \u001b[39m\u001b[90mFreeType2_jll\u001b[39m\n",
      "\u001b[32m  ✓ \u001b[39m\u001b[90mlibvorbis_jll\u001b[39m\n",
      "\u001b[32m  ✓ \u001b[39m\u001b[90mLibtiff_jll\u001b[39m\n",
      "\u001b[32m  ✓ \u001b[39m\u001b[90mLibgcrypt_jll\u001b[39m\n",
      "\u001b[32m  ✓ \u001b[39m\u001b[90mWayland_jll\u001b[39m\n",
      "\u001b[32m  ✓ \u001b[39m\u001b[90mGettext_jll\u001b[39m\n",
      "\u001b[32m  ✓ \u001b[39m\u001b[90mFixedPointNumbers\u001b[39m\n",
      "\u001b[32m  ✓ \u001b[39m\u001b[90mXSLT_jll\u001b[39m\n",
      "\u001b[32m  ✓ \u001b[39m\u001b[90mFontconfig_jll\u001b[39m\n",
      "\u001b[32m  ✓ \u001b[39m\u001b[90mGlib_jll\u001b[39m\n",
      "\u001b[32m  ✓ \u001b[39m\u001b[90mLatexify\u001b[39m\n",
      "\u001b[32m  ✓ \u001b[39m\u001b[90mXorg_libxcb_jll\u001b[39m\n",
      "\u001b[32m  ✓ \u001b[39m\u001b[90mOpenSSL\u001b[39m\n",
      "\u001b[32m  ✓ \u001b[39m\u001b[90mXorg_xcb_util_jll\u001b[39m\n",
      "\u001b[32m  ✓ \u001b[39m\u001b[90mXorg_libX11_jll\u001b[39m\n",
      "\u001b[32m  ✓ \u001b[39m\u001b[90mXorg_xcb_util_renderutil_jll\u001b[39m\n",
      "\u001b[32m  ✓ \u001b[39m\u001b[90mXorg_xcb_util_wm_jll\u001b[39m\n",
      "\u001b[32m  ✓ \u001b[39m\u001b[90mXorg_xcb_util_image_jll\u001b[39m\n",
      "\u001b[32m  ✓ \u001b[39m\u001b[90mXorg_libXfixes_jll\u001b[39m\n",
      "\u001b[32m  ✓ \u001b[39m\u001b[90mXorg_xcb_util_keysyms_jll\u001b[39m\n",
      "\u001b[32m  ✓ \u001b[39m\u001b[90mXorg_libxkbfile_jll\u001b[39m\n",
      "\u001b[32m  ✓ \u001b[39m\u001b[90mXorg_libXrender_jll\u001b[39m\n",
      "\u001b[32m  ✓ \u001b[39m\u001b[90mXorg_libXext_jll\u001b[39m\n",
      "\u001b[32m  ✓ \u001b[39m\u001b[90mColorTypes\u001b[39m\n",
      "\u001b[32m  ✓ \u001b[39m\u001b[90mXorg_libXi_jll\u001b[39m\n",
      "\u001b[32m  ✓ \u001b[39m\u001b[90mXorg_libXrandr_jll\u001b[39m\n",
      "\u001b[32m  ✓ \u001b[39m\u001b[90mXorg_xkbcomp_jll\u001b[39m\n",
      "\u001b[32m  ✓ \u001b[39m\u001b[90mXorg_libXcursor_jll\u001b[39m\n",
      "\u001b[32m  ✓ \u001b[39m\u001b[90mXorg_libXinerama_jll\u001b[39m\n",
      "\u001b[32m  ✓ \u001b[39m\u001b[90mLibglvnd_jll\u001b[39m\n",
      "\u001b[32m  ✓ \u001b[39m\u001b[90mCairo_jll\u001b[39m\n",
      "\u001b[32m  ✓ \u001b[39m\u001b[90mXorg_xkeyboard_config_jll\u001b[39m\n",
      "\u001b[32m  ✓ \u001b[39m\u001b[90mGLFW_jll\u001b[39m\n",
      "\u001b[32m  ✓ \u001b[39m\u001b[90mHarfBuzz_jll\u001b[39m\n",
      "\u001b[32m  ✓ \u001b[39m\u001b[90mxkbcommon_jll\u001b[39m\n",
      "\u001b[32m  ✓ \u001b[39m\u001b[90mHTTP\u001b[39m\n",
      "\u001b[32m  ✓ \u001b[39m\u001b[90mlibass_jll\u001b[39m\n",
      "\u001b[32m  ✓ \u001b[39m\u001b[90mQt6Base_jll\u001b[39m\n",
      "\u001b[32m  ✓ \u001b[39m\u001b[90mColorVectorSpace\u001b[39m\n",
      "\u001b[32m  ✓ \u001b[39m\u001b[90mFFMPEG_jll\u001b[39m\n",
      "\u001b[32m  ✓ \u001b[39m\u001b[90mFFMPEG\u001b[39m\n",
      "\u001b[32m  ✓ \u001b[39m\u001b[90mGR_jll\u001b[39m\n",
      "\u001b[32m  ✓ \u001b[39m\u001b[90mColors\u001b[39m\n",
      "\u001b[32m  ✓ \u001b[39m\u001b[90mGR\u001b[39m\n",
      "\u001b[32m  ✓ \u001b[39m\u001b[90mColorSchemes\u001b[39m\n",
      "\u001b[32m  ✓ \u001b[39m\u001b[90mPlotUtils\u001b[39m\n",
      "\u001b[32m  ✓ \u001b[39m\u001b[90mPlotThemes\u001b[39m\n",
      "\u001b[32m  ✓ \u001b[39m\u001b[90mUnitful\u001b[39m\n",
      "\u001b[32m  ✓ \u001b[39m\u001b[90mRecipesPipeline\u001b[39m\n",
      "\u001b[32m  ✓ \u001b[39m\u001b[90mUnitfulLatexify\u001b[39m\n",
      "\u001b[32m  ✓ \u001b[39mPlots\n",
      "\u001b[32m  ✓ \u001b[39m\u001b[90mPlots → UnitfulExt\u001b[39m\n",
      "  97 dependencies successfully precompiled in 158 seconds. 41 already precompiled.\n"
     ]
    }
   ],
   "source": [
    "Pkg.add(\"Plots\")"
   ]
  },
  {
   "cell_type": "code",
   "execution_count": 12,
   "id": "8bd035f5-ab90-4828-8ba7-c3400e62b646",
   "metadata": {},
   "outputs": [
    {
     "name": "stderr",
     "output_type": "stream",
     "text": [
      "\u001b[32m\u001b[1m  No Changes\u001b[22m\u001b[39m to `/gpfs/milgram/pi/yildirim/ilker/julia_by_example/Project.toml`\n",
      "\u001b[32m\u001b[1m  No Changes\u001b[22m\u001b[39m to `/gpfs/milgram/pi/yildirim/ilker/julia_by_example/Manifest.toml`\n"
     ]
    }
   ],
   "source": [
    "Pkg.update()"
   ]
  },
  {
   "cell_type": "code",
   "execution_count": 13,
   "id": "a528e9c8-20e0-40a0-93f7-1aa6fc93ae18",
   "metadata": {},
   "outputs": [
    {
     "name": "stderr",
     "output_type": "stream",
     "text": [
      "\u001b[36m\u001b[1m[ \u001b[22m\u001b[39m\u001b[36m\u001b[1mInfo: \u001b[22m\u001b[39mPrecompiling IJuliaExt [2f4121a4-3b3a-5ce6-9c5e-1f2673ce168a]\n"
     ]
    }
   ],
   "source": [
    "using Plots"
   ]
  },
  {
   "cell_type": "code",
   "execution_count": 14,
   "id": "10f2f000-4dcc-4fdb-8dd4-338897b9aca2",
   "metadata": {},
   "outputs": [
    {
     "data": {
      "image/png": "[encoded data removed]",
      "image/svg+xml": [
       "<?xml version=\"1.0\" encoding=\"utf-8\"?>\n",
       "<svg xmlns=\"http://www.w3.org/2000/svg\" xmlns:xlink=\"http://www.w3.org/1999/xlink\" width=\"600\" height=\"400\" viewBox=\"0 0 2400 1600\">\n",
       "<defs>\n",
       "  <clipPath id=\"clip320\">\n",
       "    <rect x=\"0\" y=\"0\" width=\"2400\" height=\"1600\"/>\n",
       "  </clipPath>\n",
       "</defs>\n",
       "<path clip-path=\"url(#clip320)\" d=\"M0 1600 L2400 1600 L2400 0 L0 0  Z\" fill=\"#ffffff\" fill-rule=\"evenodd\" fill-opacity=\"1\"/>\n",
       "<defs>\n",
       "  <clipPath id=\"clip321\">\n",
       "    <rect x=\"480\" y=\"0\" width=\"1681\" height=\"1600\"/>\n",
       "  </clipPath>\n",
       "</defs>\n",
       "<path clip-path=\"url(#clip320)\" d=\"M193.936 1486.45 L2352.76 1486.45 L2352.76 47.2441 L193.936 47.2441  Z\" fill=\"#ffffff\" fill-rule=\"evenodd\" fill-opacity=\"1\"/>\n",
       "<defs>\n",
       "  <clipPath id=\"clip322\">\n",
       "    <rect x=\"193\" y=\"47\" width=\"2160\" height=\"1440\"/>\n",
       "  </clipPath>\n",
       "</defs>\n",
       "<polyline clip-path=\"url(#clip322)\" style=\"stroke:#000000; stroke-linecap:round; stroke-linejoin:round; stroke-width:2; stroke-opacity:0.1; fill:none\" points=\"250.953,1486.45 250.953,47.2441 \"/>\n",
       "<polyline clip-path=\"url(#clip322)\" style=\"stroke:#000000; stroke-linecap:round; stroke-linejoin:round; stroke-width:2; stroke-opacity:0.1; fill:none\" points=\"659.094,1486.45 659.094,47.2441 \"/>\n",
       "<polyline clip-path=\"url(#clip322)\" style=\"stroke:#000000; stroke-linecap:round; stroke-linejoin:round; stroke-width:2; stroke-opacity:0.1; fill:none\" points=\"1067.23,1486.45 1067.23,47.2441 \"/>\n",
       "<polyline clip-path=\"url(#clip322)\" style=\"stroke:#000000; stroke-linecap:round; stroke-linejoin:round; stroke-width:2; stroke-opacity:0.1; fill:none\" points=\"1475.38,1486.45 1475.38,47.2441 \"/>\n",
       "<polyline clip-path=\"url(#clip322)\" style=\"stroke:#000000; stroke-linecap:round; stroke-linejoin:round; stroke-width:2; stroke-opacity:0.1; fill:none\" points=\"1883.52,1486.45 1883.52,47.2441 \"/>\n",
       "<polyline clip-path=\"url(#clip322)\" style=\"stroke:#000000; stroke-linecap:round; stroke-linejoin:round; stroke-width:2; stroke-opacity:0.1; fill:none\" points=\"2291.66,1486.45 2291.66,47.2441 \"/>\n",
       "<polyline clip-path=\"url(#clip320)\" style=\"stroke:#000000; stroke-linecap:round; stroke-linejoin:round; stroke-width:4; stroke-opacity:1; fill:none\" points=\"193.936,1486.45 2352.76,1486.45 \"/>\n",
       "<polyline clip-path=\"url(#clip320)\" style=\"stroke:#000000; stroke-linecap:round; stroke-linejoin:round; stroke-width:4; stroke-opacity:1; fill:none\" points=\"250.953,1486.45 250.953,1467.55 \"/>\n",
       "<polyline clip-path=\"url(#clip320)\" style=\"stroke:#000000; stroke-linecap:round; stroke-linejoin:round; stroke-width:4; stroke-opacity:1; fill:none\" points=\"659.094,1486.45 659.094,1467.55 \"/>\n",
       "<polyline clip-path=\"url(#clip320)\" style=\"stroke:#000000; stroke-linecap:round; stroke-linejoin:round; stroke-width:4; stroke-opacity:1; fill:none\" points=\"1067.23,1486.45 1067.23,1467.55 \"/>\n",
       "<polyline clip-path=\"url(#clip320)\" style=\"stroke:#000000; stroke-linecap:round; stroke-linejoin:round; stroke-width:4; stroke-opacity:1; fill:none\" points=\"1475.38,1486.45 1475.38,1467.55 \"/>\n",
       "<polyline clip-path=\"url(#clip320)\" style=\"stroke:#000000; stroke-linecap:round; stroke-linejoin:round; stroke-width:4; stroke-opacity:1; fill:none\" points=\"1883.52,1486.45 1883.52,1467.55 \"/>\n",
       "<polyline clip-path=\"url(#clip320)\" style=\"stroke:#000000; stroke-linecap:round; stroke-linejoin:round; stroke-width:4; stroke-opacity:1; fill:none\" points=\"2291.66,1486.45 2291.66,1467.55 \"/>\n",
       "<path clip-path=\"url(#clip320)\" d=\"M250.953 1517.37 Q247.342 1517.37 245.513 1520.93 Q243.708 1524.47 243.708 1531.6 Q243.708 1538.71 245.513 1542.27 Q247.342 1545.82 250.953 1545.82 Q254.588 1545.82 256.393 1542.27 Q258.222 1538.71 258.222 1531.6 Q258.222 1524.47 256.393 1520.93 Q254.588 1517.37 250.953 1517.37 M250.953 1513.66 Q256.763 1513.66 259.819 1518.27 Q262.898 1522.85 262.898 1531.6 Q262.898 1540.33 259.819 1544.94 Q256.763 1549.52 250.953 1549.52 Q245.143 1549.52 242.064 1544.94 Q239.009 1540.33 239.009 1531.6 Q239.009 1522.85 242.064 1518.27 Q245.143 1513.66 250.953 1513.66 Z\" fill=\"#000000\" fill-rule=\"nonzero\" fill-opacity=\"1\" /><path clip-path=\"url(#clip320)\" d=\"M618.701 1544.91 L626.34 1544.91 L626.34 1518.55 L618.029 1520.21 L618.029 1515.95 L626.293 1514.29 L630.969 1514.29 L630.969 1544.91 L638.608 1544.91 L638.608 1548.85 L618.701 1548.85 L618.701 1544.91 Z\" fill=\"#000000\" fill-rule=\"nonzero\" fill-opacity=\"1\" /><path clip-path=\"url(#clip320)\" d=\"M658.052 1517.37 Q654.441 1517.37 652.613 1520.93 Q650.807 1524.47 650.807 1531.6 Q650.807 1538.71 652.613 1542.27 Q654.441 1545.82 658.052 1545.82 Q661.687 1545.82 663.492 1542.27 Q665.321 1538.71 665.321 1531.6 Q665.321 1524.47 663.492 1520.93 Q661.687 1517.37 658.052 1517.37 M658.052 1513.66 Q663.863 1513.66 666.918 1518.27 Q669.997 1522.85 669.997 1531.6 Q669.997 1540.33 666.918 1544.94 Q663.863 1549.52 658.052 1549.52 Q652.242 1549.52 649.164 1544.94 Q646.108 1540.33 646.108 1531.6 Q646.108 1522.85 649.164 1518.27 Q652.242 1513.66 658.052 1513.66 Z\" fill=\"#000000\" fill-rule=\"nonzero\" fill-opacity=\"1\" /><path clip-path=\"url(#clip320)\" d=\"M688.214 1517.37 Q684.603 1517.37 682.774 1520.93 Q680.969 1524.47 680.969 1531.6 Q680.969 1538.71 682.774 1542.27 Q684.603 1545.82 688.214 1545.82 Q691.849 1545.82 693.654 1542.27 Q695.483 1538.71 695.483 1531.6 Q695.483 1524.47 693.654 1520.93 Q691.849 1517.37 688.214 1517.37 M688.214 1513.66 Q694.024 1513.66 697.08 1518.27 Q700.159 1522.85 700.159 1531.6 Q700.159 1540.33 697.08 1544.94 Q694.024 1549.52 688.214 1549.52 Q682.404 1549.52 679.325 1544.94 Q676.27 1540.33 676.27 1531.6 Q676.27 1522.85 679.325 1518.27 Q682.404 1513.66 688.214 1513.66 Z\" fill=\"#000000\" fill-rule=\"nonzero\" fill-opacity=\"1\" /><path clip-path=\"url(#clip320)\" d=\"M1030.93 1544.91 L1047.25 1544.91 L1047.25 1548.85 L1025.3 1548.85 L1025.3 1544.91 Q1027.96 1542.16 1032.55 1537.53 Q1037.15 1532.88 1038.33 1531.53 Q1040.58 1529.01 1041.46 1527.27 Q1042.36 1525.51 1042.36 1523.82 Q1042.36 1521.07 1040.42 1519.33 Q1038.5 1517.6 1035.39 1517.6 Q1033.2 1517.6 1030.74 1518.36 Q1028.31 1519.13 1025.53 1520.68 L1025.53 1515.95 Q1028.36 1514.82 1030.81 1514.24 Q1033.27 1513.66 1035.3 1513.66 Q1040.67 1513.66 1043.87 1516.35 Q1047.06 1519.03 1047.06 1523.52 Q1047.06 1525.65 1046.25 1527.57 Q1045.46 1529.47 1043.36 1532.07 Q1042.78 1532.74 1039.68 1535.95 Q1036.58 1539.15 1030.93 1544.91 Z\" fill=\"#000000\" fill-rule=\"nonzero\" fill-opacity=\"1\" /><path clip-path=\"url(#clip320)\" d=\"M1067.06 1517.37 Q1063.45 1517.37 1061.62 1520.93 Q1059.82 1524.47 1059.82 1531.6 Q1059.82 1538.71 1061.62 1542.27 Q1063.45 1545.82 1067.06 1545.82 Q1070.7 1545.82 1072.5 1542.27 Q1074.33 1538.71 1074.33 1531.6 Q1074.33 1524.47 1072.5 1520.93 Q1070.7 1517.37 1067.06 1517.37 M1067.06 1513.66 Q1072.87 1513.66 1075.93 1518.27 Q1079.01 1522.85 1079.01 1531.6 Q1079.01 1540.33 1075.93 1544.94 Q1072.87 1549.52 1067.06 1549.52 Q1061.25 1549.52 1058.17 1544.94 Q1055.12 1540.33 1055.12 1531.6 Q1055.12 1522.85 1058.17 1518.27 Q1061.25 1513.66 1067.06 1513.66 Z\" fill=\"#000000\" fill-rule=\"nonzero\" fill-opacity=\"1\" /><path clip-path=\"url(#clip320)\" d=\"M1097.22 1517.37 Q1093.61 1517.37 1091.78 1520.93 Q1089.98 1524.47 1089.98 1531.6 Q1089.98 1538.71 1091.78 1542.27 Q1093.61 1545.82 1097.22 1545.82 Q1100.86 1545.82 1102.66 1542.27 Q1104.49 1538.71 1104.49 1531.6 Q1104.49 1524.47 1102.66 1520.93 Q1100.86 1517.37 1097.22 1517.37 M1097.22 1513.66 Q1103.03 1513.66 1106.09 1518.27 Q1109.17 1522.85 1109.17 1531.6 Q1109.17 1540.33 1106.09 1544.94 Q1103.03 1549.52 1097.22 1549.52 Q1091.41 1549.52 1088.33 1544.94 Q1085.28 1540.33 1085.28 1531.6 Q1085.28 1522.85 1088.33 1518.27 Q1091.41 1513.66 1097.22 1513.66 Z\" fill=\"#000000\" fill-rule=\"nonzero\" fill-opacity=\"1\" /><path clip-path=\"url(#clip320)\" d=\"M1449.14 1530.21 Q1452.49 1530.93 1454.37 1533.2 Q1456.27 1535.47 1456.27 1538.8 Q1456.27 1543.92 1452.75 1546.72 Q1449.23 1549.52 1442.75 1549.52 Q1440.57 1549.52 1438.26 1549.08 Q1435.97 1548.66 1433.51 1547.81 L1433.51 1543.29 Q1435.46 1544.43 1437.77 1545.01 Q1440.09 1545.58 1442.61 1545.58 Q1447.01 1545.58 1449.3 1543.85 Q1451.61 1542.11 1451.61 1538.8 Q1451.61 1535.75 1449.46 1534.03 Q1447.33 1532.3 1443.51 1532.3 L1439.48 1532.3 L1439.48 1528.45 L1443.7 1528.45 Q1447.15 1528.45 1448.98 1527.09 Q1450.8 1525.7 1450.8 1523.11 Q1450.8 1520.45 1448.91 1519.03 Q1447.03 1517.6 1443.51 1517.6 Q1441.59 1517.6 1439.39 1518.01 Q1437.19 1518.43 1434.55 1519.31 L1434.55 1515.14 Q1437.22 1514.4 1439.53 1514.03 Q1441.87 1513.66 1443.93 1513.66 Q1449.25 1513.66 1452.35 1516.09 Q1455.46 1518.5 1455.46 1522.62 Q1455.46 1525.49 1453.81 1527.48 Q1452.17 1529.45 1449.14 1530.21 Z\" fill=\"#000000\" fill-rule=\"nonzero\" fill-opacity=\"1\" /><path clip-path=\"url(#clip320)\" d=\"M1475.13 1517.37 Q1471.52 1517.37 1469.69 1520.93 Q1467.89 1524.47 1467.89 1531.6 Q1467.89 1538.71 1469.69 1542.27 Q1471.52 1545.82 1475.13 1545.82 Q1478.77 1545.82 1480.57 1542.27 Q1482.4 1538.71 1482.4 1531.6 Q1482.4 1524.47 1480.57 1520.93 Q1478.77 1517.37 1475.13 1517.37 M1475.13 1513.66 Q1480.94 1513.66 1484 1518.27 Q1487.08 1522.85 1487.08 1531.6 Q1487.08 1540.33 1484 1544.94 Q1480.94 1549.52 1475.13 1549.52 Q1469.32 1549.52 1466.24 1544.94 Q1463.19 1540.33 1463.19 1531.6 Q1463.19 1522.85 1466.24 1518.27 Q1469.32 1513.66 1475.13 1513.66 Z\" fill=\"#000000\" fill-rule=\"nonzero\" fill-opacity=\"1\" /><path clip-path=\"url(#clip320)\" d=\"M1505.29 1517.37 Q1501.68 1517.37 1499.85 1520.93 Q1498.05 1524.47 1498.05 1531.6 Q1498.05 1538.71 1499.85 1542.27 Q1501.68 1545.82 1505.29 1545.82 Q1508.93 1545.82 1510.73 1542.27 Q1512.56 1538.71 1512.56 1531.6 Q1512.56 1524.47 1510.73 1520.93 Q1508.93 1517.37 1505.29 1517.37 M1505.29 1513.66 Q1511.1 1513.66 1514.16 1518.27 Q1517.24 1522.85 1517.24 1531.6 Q1517.24 1540.33 1514.16 1544.94 Q1511.1 1549.52 1505.29 1549.52 Q1499.48 1549.52 1496.41 1544.94 Q1493.35 1540.33 1493.35 1531.6 Q1493.35 1522.85 1496.41 1518.27 Q1499.48 1513.66 1505.29 1513.66 Z\" fill=\"#000000\" fill-rule=\"nonzero\" fill-opacity=\"1\" /><path clip-path=\"url(#clip320)\" d=\"M1856.61 1518.36 L1844.8 1536.81 L1856.61 1536.81 L1856.61 1518.36 M1855.38 1514.29 L1861.26 1514.29 L1861.26 1536.81 L1866.19 1536.81 L1866.19 1540.7 L1861.26 1540.7 L1861.26 1548.85 L1856.61 1548.85 L1856.61 1540.7 L1841.01 1540.7 L1841.01 1536.19 L1855.38 1514.29 Z\" fill=\"#000000\" fill-rule=\"nonzero\" fill-opacity=\"1\" /><path clip-path=\"url(#clip320)\" d=\"M1883.92 1517.37 Q1880.31 1517.37 1878.48 1520.93 Q1876.68 1524.47 1876.68 1531.6 Q1876.68 1538.71 1878.48 1542.27 Q1880.31 1545.82 1883.92 1545.82 Q1887.56 1545.82 1889.36 1542.27 Q1891.19 1538.71 1891.19 1531.6 Q1891.19 1524.47 1889.36 1520.93 Q1887.56 1517.37 1883.92 1517.37 M1883.92 1513.66 Q1889.73 1513.66 1892.79 1518.27 Q1895.87 1522.85 1895.87 1531.6 Q1895.87 1540.33 1892.79 1544.94 Q1889.73 1549.52 1883.92 1549.52 Q1878.11 1549.52 1875.03 1544.94 Q1871.98 1540.33 1871.98 1531.6 Q1871.98 1522.85 1875.03 1518.27 Q1878.11 1513.66 1883.92 1513.66 Z\" fill=\"#000000\" fill-rule=\"nonzero\" fill-opacity=\"1\" /><path clip-path=\"url(#clip320)\" d=\"M1914.08 1517.37 Q1910.47 1517.37 1908.64 1520.93 Q1906.84 1524.47 1906.84 1531.6 Q1906.84 1538.71 1908.64 1542.27 Q1910.47 1545.82 1914.08 1545.82 Q1917.72 1545.82 1919.52 1542.27 Q1921.35 1538.71 1921.35 1531.6 Q1921.35 1524.47 1919.52 1520.93 Q1917.72 1517.37 1914.08 1517.37 M1914.08 1513.66 Q1919.89 1513.66 1922.95 1518.27 Q1926.03 1522.85 1926.03 1531.6 Q1926.03 1540.33 1922.95 1544.94 Q1919.89 1549.52 1914.08 1549.52 Q1908.27 1549.52 1905.19 1544.94 Q1902.14 1540.33 1902.14 1531.6 Q1902.14 1522.85 1905.19 1518.27 Q1908.27 1513.66 1914.08 1513.66 Z\" fill=\"#000000\" fill-rule=\"nonzero\" fill-opacity=\"1\" /><path clip-path=\"url(#clip320)\" d=\"M2251.28 1514.29 L2269.63 1514.29 L2269.63 1518.22 L2255.56 1518.22 L2255.56 1526.7 Q2256.58 1526.35 2257.59 1526.19 Q2258.61 1526 2259.63 1526 Q2265.42 1526 2268.8 1529.17 Q2272.18 1532.34 2272.18 1537.76 Q2272.18 1543.34 2268.71 1546.44 Q2265.23 1549.52 2258.91 1549.52 Q2256.74 1549.52 2254.47 1549.15 Q2252.22 1548.78 2249.82 1548.04 L2249.82 1543.34 Q2251.9 1544.47 2254.12 1545.03 Q2256.34 1545.58 2258.82 1545.58 Q2262.83 1545.58 2265.16 1543.48 Q2267.5 1541.37 2267.5 1537.76 Q2267.5 1534.15 2265.16 1532.04 Q2262.83 1529.94 2258.82 1529.94 Q2256.95 1529.94 2255.07 1530.35 Q2253.22 1530.77 2251.28 1531.65 L2251.28 1514.29 Z\" fill=\"#000000\" fill-rule=\"nonzero\" fill-opacity=\"1\" /><path clip-path=\"url(#clip320)\" d=\"M2291.39 1517.37 Q2287.78 1517.37 2285.95 1520.93 Q2284.15 1524.47 2284.15 1531.6 Q2284.15 1538.71 2285.95 1542.27 Q2287.78 1545.82 2291.39 1545.82 Q2295.03 1545.82 2296.83 1542.27 Q2298.66 1538.71 2298.66 1531.6 Q2298.66 1524.47 2296.83 1520.93 Q2295.03 1517.37 2291.39 1517.37 M2291.39 1513.66 Q2297.2 1513.66 2300.26 1518.27 Q2303.34 1522.85 2303.34 1531.6 Q2303.34 1540.33 2300.26 1544.94 Q2297.2 1549.52 2291.39 1549.52 Q2285.58 1549.52 2282.5 1544.94 Q2279.45 1540.33 2279.45 1531.6 Q2279.45 1522.85 2282.5 1518.27 Q2285.58 1513.66 2291.39 1513.66 Z\" fill=\"#000000\" fill-rule=\"nonzero\" fill-opacity=\"1\" /><path clip-path=\"url(#clip320)\" d=\"M2321.55 1517.37 Q2317.94 1517.37 2316.11 1520.93 Q2314.31 1524.47 2314.31 1531.6 Q2314.31 1538.71 2316.11 1542.27 Q2317.94 1545.82 2321.55 1545.82 Q2325.19 1545.82 2326.99 1542.27 Q2328.82 1538.71 2328.82 1531.6 Q2328.82 1524.47 2326.99 1520.93 Q2325.19 1517.37 2321.55 1517.37 M2321.55 1513.66 Q2327.36 1513.66 2330.42 1518.27 Q2333.5 1522.85 2333.5 1531.6 Q2333.5 1540.33 2330.42 1544.94 Q2327.36 1549.52 2321.55 1549.52 Q2315.74 1549.52 2312.66 1544.94 Q2309.61 1540.33 2309.61 1531.6 Q2309.61 1522.85 2312.66 1518.27 Q2315.74 1513.66 2321.55 1513.66 Z\" fill=\"#000000\" fill-rule=\"nonzero\" fill-opacity=\"1\" /><polyline clip-path=\"url(#clip322)\" style=\"stroke:#000000; stroke-linecap:round; stroke-linejoin:round; stroke-width:2; stroke-opacity:0.1; fill:none\" points=\"193.936,1325.49 2352.76,1325.49 \"/>\n",
       "<polyline clip-path=\"url(#clip322)\" style=\"stroke:#000000; stroke-linecap:round; stroke-linejoin:round; stroke-width:2; stroke-opacity:0.1; fill:none\" points=\"193.936,1057.54 2352.76,1057.54 \"/>\n",
       "<polyline clip-path=\"url(#clip322)\" style=\"stroke:#000000; stroke-linecap:round; stroke-linejoin:round; stroke-width:2; stroke-opacity:0.1; fill:none\" points=\"193.936,789.598 2352.76,789.598 \"/>\n",
       "<polyline clip-path=\"url(#clip322)\" style=\"stroke:#000000; stroke-linecap:round; stroke-linejoin:round; stroke-width:2; stroke-opacity:0.1; fill:none\" points=\"193.936,521.653 2352.76,521.653 \"/>\n",
       "<polyline clip-path=\"url(#clip322)\" style=\"stroke:#000000; stroke-linecap:round; stroke-linejoin:round; stroke-width:2; stroke-opacity:0.1; fill:none\" points=\"193.936,253.708 2352.76,253.708 \"/>\n",
       "<polyline clip-path=\"url(#clip320)\" style=\"stroke:#000000; stroke-linecap:round; stroke-linejoin:round; stroke-width:4; stroke-opacity:1; fill:none\" points=\"193.936,1486.45 193.936,47.2441 \"/>\n",
       "<polyline clip-path=\"url(#clip320)\" style=\"stroke:#000000; stroke-linecap:round; stroke-linejoin:round; stroke-width:4; stroke-opacity:1; fill:none\" points=\"193.936,1325.49 212.834,1325.49 \"/>\n",
       "<polyline clip-path=\"url(#clip320)\" style=\"stroke:#000000; stroke-linecap:round; stroke-linejoin:round; stroke-width:4; stroke-opacity:1; fill:none\" points=\"193.936,1057.54 212.834,1057.54 \"/>\n",
       "<polyline clip-path=\"url(#clip320)\" style=\"stroke:#000000; stroke-linecap:round; stroke-linejoin:round; stroke-width:4; stroke-opacity:1; fill:none\" points=\"193.936,789.598 212.834,789.598 \"/>\n",
       "<polyline clip-path=\"url(#clip320)\" style=\"stroke:#000000; stroke-linecap:round; stroke-linejoin:round; stroke-width:4; stroke-opacity:1; fill:none\" points=\"193.936,521.653 212.834,521.653 \"/>\n",
       "<polyline clip-path=\"url(#clip320)\" style=\"stroke:#000000; stroke-linecap:round; stroke-linejoin:round; stroke-width:4; stroke-opacity:1; fill:none\" points=\"193.936,253.708 212.834,253.708 \"/>\n",
       "<path clip-path=\"url(#clip320)\" d=\"M50.9921 1325.94 L80.6679 1325.94 L80.6679 1329.88 L50.9921 1329.88 L50.9921 1325.94 Z\" fill=\"#000000\" fill-rule=\"nonzero\" fill-opacity=\"1\" /><path clip-path=\"url(#clip320)\" d=\"M90.8067 1308.21 L109.163 1308.21 L109.163 1312.14 L95.0891 1312.14 L95.0891 1320.62 Q96.1076 1320.27 97.1261 1320.11 Q98.1447 1319.92 99.1632 1319.92 Q104.95 1319.92 108.33 1323.09 Q111.709 1326.26 111.709 1331.68 Q111.709 1337.26 108.237 1340.36 Q104.765 1343.44 98.4456 1343.44 Q96.2697 1343.44 94.0012 1343.07 Q91.7558 1342.7 89.3484 1341.96 L89.3484 1337.26 Q91.4317 1338.39 93.6539 1338.95 Q95.8761 1339.51 98.353 1339.51 Q102.358 1339.51 104.696 1337.4 Q107.033 1335.29 107.033 1331.68 Q107.033 1328.07 104.696 1325.96 Q102.358 1323.86 98.353 1323.86 Q96.478 1323.86 94.603 1324.27 Q92.7512 1324.69 90.8067 1325.57 L90.8067 1308.21 Z\" fill=\"#000000\" fill-rule=\"nonzero\" fill-opacity=\"1\" /><path clip-path=\"url(#clip320)\" d=\"M120.922 1336.89 L125.807 1336.89 L125.807 1342.77 L120.922 1342.77 L120.922 1336.89 Z\" fill=\"#000000\" fill-rule=\"nonzero\" fill-opacity=\"1\" /><path clip-path=\"url(#clip320)\" d=\"M145.992 1311.29 Q142.381 1311.29 140.552 1314.85 Q138.746 1318.39 138.746 1325.52 Q138.746 1332.63 140.552 1336.19 Q142.381 1339.74 145.992 1339.74 Q149.626 1339.74 151.431 1336.19 Q153.26 1332.63 153.26 1325.52 Q153.26 1318.39 151.431 1314.85 Q149.626 1311.29 145.992 1311.29 M145.992 1307.58 Q151.802 1307.58 154.857 1312.19 Q157.936 1316.77 157.936 1325.52 Q157.936 1334.25 154.857 1338.86 Q151.802 1343.44 145.992 1343.44 Q140.181 1343.44 137.103 1338.86 Q134.047 1334.25 134.047 1325.52 Q134.047 1316.77 137.103 1312.19 Q140.181 1307.58 145.992 1307.58 Z\" fill=\"#000000\" fill-rule=\"nonzero\" fill-opacity=\"1\" /><path clip-path=\"url(#clip320)\" d=\"M51.9875 1058 L81.6633 1058 L81.6633 1061.93 L51.9875 1061.93 L51.9875 1058 Z\" fill=\"#000000\" fill-rule=\"nonzero\" fill-opacity=\"1\" /><path clip-path=\"url(#clip320)\" d=\"M95.7836 1070.89 L112.103 1070.89 L112.103 1074.82 L90.1586 1074.82 L90.1586 1070.89 Q92.8206 1068.13 97.4039 1063.5 Q102.01 1058.85 103.191 1057.51 Q105.436 1054.99 106.316 1053.25 Q107.219 1051.49 107.219 1049.8 Q107.219 1047.05 105.274 1045.31 Q103.353 1043.57 100.251 1043.57 Q98.0521 1043.57 95.5984 1044.34 Q93.1678 1045.1 90.3901 1046.65 L90.3901 1041.93 Q93.2141 1040.8 95.6678 1040.22 Q98.1215 1039.64 100.159 1039.64 Q105.529 1039.64 108.723 1042.32 Q111.918 1045.01 111.918 1049.5 Q111.918 1051.63 111.108 1053.55 Q110.321 1055.45 108.214 1058.04 Q107.635 1058.71 104.534 1061.93 Q101.432 1065.12 95.7836 1070.89 Z\" fill=\"#000000\" fill-rule=\"nonzero\" fill-opacity=\"1\" /><path clip-path=\"url(#clip320)\" d=\"M121.918 1068.94 L126.802 1068.94 L126.802 1074.82 L121.918 1074.82 L121.918 1068.94 Z\" fill=\"#000000\" fill-rule=\"nonzero\" fill-opacity=\"1\" /><path clip-path=\"url(#clip320)\" d=\"M137.033 1040.26 L155.39 1040.26 L155.39 1044.2 L141.316 1044.2 L141.316 1052.67 Q142.334 1052.32 143.353 1052.16 Q144.371 1051.98 145.39 1051.98 Q151.177 1051.98 154.556 1055.15 Q157.936 1058.32 157.936 1063.74 Q157.936 1069.31 154.464 1072.42 Q150.992 1075.49 144.672 1075.49 Q142.496 1075.49 140.228 1075.12 Q137.982 1074.75 135.575 1074.01 L135.575 1069.31 Q137.658 1070.45 139.881 1071 Q142.103 1071.56 144.58 1071.56 Q148.584 1071.56 150.922 1069.45 Q153.26 1067.35 153.26 1063.74 Q153.26 1060.12 150.922 1058.02 Q148.584 1055.91 144.58 1055.91 Q142.705 1055.91 140.83 1056.33 Q138.978 1056.75 137.033 1057.62 L137.033 1040.26 Z\" fill=\"#000000\" fill-rule=\"nonzero\" fill-opacity=\"1\" /><path clip-path=\"url(#clip320)\" d=\"M100.76 775.397 Q97.1493 775.397 95.3206 778.962 Q93.515 782.503 93.515 789.633 Q93.515 796.74 95.3206 800.304 Q97.1493 803.846 100.76 803.846 Q104.395 803.846 106.2 800.304 Q108.029 796.74 108.029 789.633 Q108.029 782.503 106.2 778.962 Q104.395 775.397 100.76 775.397 M100.76 771.693 Q106.571 771.693 109.626 776.3 Q112.705 780.883 112.705 789.633 Q112.705 798.36 109.626 802.966 Q106.571 807.55 100.76 807.55 Q94.9502 807.55 91.8715 802.966 Q88.816 798.36 88.816 789.633 Q88.816 780.883 91.8715 776.3 Q94.9502 771.693 100.76 771.693 Z\" fill=\"#000000\" fill-rule=\"nonzero\" fill-opacity=\"1\" /><path clip-path=\"url(#clip320)\" d=\"M120.922 800.999 L125.807 800.999 L125.807 806.878 L120.922 806.878 L120.922 800.999 Z\" fill=\"#000000\" fill-rule=\"nonzero\" fill-opacity=\"1\" /><path clip-path=\"url(#clip320)\" d=\"M145.992 775.397 Q142.381 775.397 140.552 778.962 Q138.746 782.503 138.746 789.633 Q138.746 796.74 140.552 800.304 Q142.381 803.846 145.992 803.846 Q149.626 803.846 151.431 800.304 Q153.26 796.74 153.26 789.633 Q153.26 782.503 151.431 778.962 Q149.626 775.397 145.992 775.397 M145.992 771.693 Q151.802 771.693 154.857 776.3 Q157.936 780.883 157.936 789.633 Q157.936 798.36 154.857 802.966 Q151.802 807.55 145.992 807.55 Q140.181 807.55 137.103 802.966 Q134.047 798.36 134.047 789.633 Q134.047 780.883 137.103 776.3 Q140.181 771.693 145.992 771.693 Z\" fill=\"#000000\" fill-rule=\"nonzero\" fill-opacity=\"1\" /><path clip-path=\"url(#clip320)\" d=\"M95.7836 534.998 L112.103 534.998 L112.103 538.933 L90.1586 538.933 L90.1586 534.998 Q92.8206 532.243 97.4039 527.614 Q102.01 522.961 103.191 521.618 Q105.436 519.095 106.316 517.359 Q107.219 515.6 107.219 513.91 Q107.219 511.155 105.274 509.419 Q103.353 507.683 100.251 507.683 Q98.0521 507.683 95.5984 508.447 Q93.1678 509.211 90.3901 510.762 L90.3901 506.04 Q93.2141 504.905 95.6678 504.327 Q98.1215 503.748 100.159 503.748 Q105.529 503.748 108.723 506.433 Q111.918 509.118 111.918 513.609 Q111.918 515.739 111.108 517.66 Q110.321 519.558 108.214 522.151 Q107.635 522.822 104.534 526.04 Q101.432 529.234 95.7836 534.998 Z\" fill=\"#000000\" fill-rule=\"nonzero\" fill-opacity=\"1\" /><path clip-path=\"url(#clip320)\" d=\"M121.918 533.053 L126.802 533.053 L126.802 538.933 L121.918 538.933 L121.918 533.053 Z\" fill=\"#000000\" fill-rule=\"nonzero\" fill-opacity=\"1\" /><path clip-path=\"url(#clip320)\" d=\"M137.033 504.373 L155.39 504.373 L155.39 508.308 L141.316 508.308 L141.316 516.78 Q142.334 516.433 143.353 516.271 Q144.371 516.086 145.39 516.086 Q151.177 516.086 154.556 519.257 Q157.936 522.428 157.936 527.845 Q157.936 533.424 154.464 536.526 Q150.992 539.604 144.672 539.604 Q142.496 539.604 140.228 539.234 Q137.982 538.864 135.575 538.123 L135.575 533.424 Q137.658 534.558 139.881 535.114 Q142.103 535.669 144.58 535.669 Q148.584 535.669 150.922 533.563 Q153.26 531.456 153.26 527.845 Q153.26 524.234 150.922 522.128 Q148.584 520.021 144.58 520.021 Q142.705 520.021 140.83 520.438 Q138.978 520.854 137.033 521.734 L137.033 504.373 Z\" fill=\"#000000\" fill-rule=\"nonzero\" fill-opacity=\"1\" /><path clip-path=\"url(#clip320)\" d=\"M90.8067 236.428 L109.163 236.428 L109.163 240.363 L95.0891 240.363 L95.0891 248.835 Q96.1076 248.488 97.1261 248.326 Q98.1447 248.141 99.1632 248.141 Q104.95 248.141 108.33 251.312 Q111.709 254.483 111.709 259.9 Q111.709 265.479 108.237 268.58 Q104.765 271.659 98.4456 271.659 Q96.2697 271.659 94.0012 271.289 Q91.7558 270.918 89.3484 270.178 L89.3484 265.479 Q91.4317 266.613 93.6539 267.168 Q95.8761 267.724 98.353 267.724 Q102.358 267.724 104.696 265.617 Q107.033 263.511 107.033 259.9 Q107.033 256.289 104.696 254.182 Q102.358 252.076 98.353 252.076 Q96.478 252.076 94.603 252.492 Q92.7512 252.909 90.8067 253.789 L90.8067 236.428 Z\" fill=\"#000000\" fill-rule=\"nonzero\" fill-opacity=\"1\" /><path clip-path=\"url(#clip320)\" d=\"M120.922 265.108 L125.807 265.108 L125.807 270.988 L120.922 270.988 L120.922 265.108 Z\" fill=\"#000000\" fill-rule=\"nonzero\" fill-opacity=\"1\" /><path clip-path=\"url(#clip320)\" d=\"M145.992 239.506 Q142.381 239.506 140.552 243.071 Q138.746 246.613 138.746 253.742 Q138.746 260.849 140.552 264.414 Q142.381 267.955 145.992 267.955 Q149.626 267.955 151.431 264.414 Q153.26 260.849 153.26 253.742 Q153.26 246.613 151.431 243.071 Q149.626 239.506 145.992 239.506 M145.992 235.803 Q151.802 235.803 154.857 240.409 Q157.936 244.993 157.936 253.742 Q157.936 262.469 154.857 267.076 Q151.802 271.659 145.992 271.659 Q140.181 271.659 137.103 267.076 Q134.047 262.469 134.047 253.742 Q134.047 244.993 137.103 240.409 Q140.181 235.803 145.992 235.803 Z\" fill=\"#000000\" fill-rule=\"nonzero\" fill-opacity=\"1\" /><polyline clip-path=\"url(#clip322)\" style=\"stroke:#009af9; stroke-linecap:round; stroke-linejoin:round; stroke-width:4; stroke-opacity:1; fill:none\" points=\"255.035,838.337 259.116,813.328 263.197,760.884 267.279,761.229 271.36,779.237 275.442,743.784 279.523,773.374 283.605,804.523 287.686,801.95 291.767,795.611 295.849,847.175 299.93,891.645 304.012,862.405 308.093,852.487 312.174,810.869 316.256,789.639 320.337,753.879 324.419,706.812 328.5,702.33 332.581,670.371 336.663,637.381 340.744,648.837 344.826,611.427 348.907,652.166 352.988,598.578 357.07,635.091 361.151,610.38 365.233,622.228 369.314,630.03 373.396,583.914 377.477,582.105 381.558,548.892 385.64,547.169 389.721,539.787 393.803,493.859 397.884,478.842 401.965,491.775 406.047,452.087 410.128,458.953 414.21,435.186 418.291,415.112 422.372,402.439 426.454,428.499 430.535,470.811 434.617,454.719 438.698,447.319 442.779,490.311 446.861,451.587 450.942,426.795 455.024,410.539 459.105,368.576 463.186,325.795 467.268,344.021 471.349,348.699 475.431,304.237 479.512,285.825 483.594,256.809 487.675,287.12 491.756,255.119 495.838,299.278 499.919,316.341 504.001,361.435 508.082,377.538 512.163,360.71 516.245,407.517 520.326,416.232 524.408,435.938 528.489,464.728 532.57,430.184 536.652,389.816 540.733,361.733 544.815,350.012 548.896,339.655 552.977,343.626 557.059,337.414 561.14,294.916 565.222,272.958 569.303,270.506 573.384,261.927 577.466,239.377 581.547,292.906 585.629,296.589 589.71,314.926 593.792,277.013 597.873,320.516 601.954,302.804 606.036,332.746 610.117,305.193 614.199,288.165 618.28,337.638 622.361,286.37 626.443,299.43 630.524,302.916 634.606,344.977 638.687,382.236 642.768,380.592 646.85,328.486 650.931,328.546 655.013,328.94 659.094,304.439 663.175,309.52 667.257,295.445 671.338,337.234 675.42,287.382 679.501,315.196 683.583,362.012 687.664,366.746 691.745,338.875 695.827,349.558 699.908,358.046 703.99,324.228 708.071,359.265 712.152,399.331 716.234,417.648 720.315,419.708 724.397,443.416 728.478,435.519 732.559,406.985 736.641,373.602 740.722,324.713 744.804,357.432 748.885,337.832 752.966,306.667 757.048,352.197 761.129,343.465 765.211,339.813 769.292,378.613 773.373,407.503 777.455,377.975 781.536,388.246 785.618,429.846 789.699,473.572 793.781,476.404 797.862,477.568 801.943,500.736 806.025,533.068 810.106,564.578 814.188,615.488 818.269,604.99 822.35,630.13 826.432,652.812 830.513,701.997 834.595,743.982 838.676,694.142 842.757,698.103 846.839,676.558 850.92,635.233 855.002,668.463 859.083,672.588 863.164,676.081 867.246,664.624 871.327,668.667 875.409,720.398 879.49,700.862 883.571,718.012 887.653,704.927 891.734,752.883 895.816,714.629 899.897,736.273 903.979,719.899 908.06,669.125 912.141,630.72 916.223,676.284 920.304,642.613 924.386,672.565 928.467,677.911 932.548,681.203 936.63,689.069 940.711,647.329 944.793,686.996 948.874,700.581 952.955,691.317 957.037,673.249 961.118,715.155 965.2,678.948 969.281,687.523 973.362,643.139 977.444,622.73 981.525,626.573 985.607,580.746 989.688,628.139 993.77,598.824 997.851,576.224 1001.93,617.674 1006.01,587.896 1010.1,606.033 1014.18,576.633 1018.26,536.551 1022.34,566.547 1026.42,555.118 1030.5,536.096 1034.58,486.91 1038.66,498.807 1042.75,520.968 1046.83,509.279 1050.91,500.812 1054.99,492.465 1059.07,481.328 1063.15,512.51 1067.23,532.98 1071.32,557.405 1075.4,535.624 1079.48,568.147 1083.56,611.144 1087.64,614.08 1091.72,600.017 1095.8,636.391 1099.89,617.621 1103.97,567.557 1108.05,526.291 1112.13,579.077 1116.21,592.465 1120.29,616.991 1124.37,601.464 1128.46,602.59 1132.54,568.235 1136.62,553.884 1140.7,550.06 1144.78,567.538 1148.86,589.458 1152.94,642.363 1157.03,677.506 1161.11,672.063 1165.19,629.923 1169.27,615.362 1173.35,642.945 1177.43,657.127 1181.51,675.186 1185.6,703.008 1189.68,733.886 1193.76,722.762 1197.84,768.773 1201.92,730.954 1206,724.006 1210.08,775.092 1214.17,824.995 1218.25,878.24 1222.33,836.642 1226.41,806.443 1230.49,778.057 1234.57,750.81 1238.65,727.307 1242.74,699.655 1246.82,699.562 1250.9,702.363 1254.98,657.52 1259.06,706.159 1263.14,724.143 1267.22,763.011 1271.31,723.793 1275.39,693.084 1279.47,695.501 1283.55,696.323 1287.63,699.2 1291.71,736.685 1295.79,704.872 1299.88,664.14 1303.96,637.514 1308.04,642.96 1312.12,671.212 1316.2,682.434 1320.28,643.543 1324.36,627.539 1328.44,643.214 1332.53,612.649 1336.61,581.793 1340.69,564.676 1344.77,572.815 1348.85,542.398 1352.93,496.436 1357.01,525.755 1361.1,524.876 1365.18,490.258 1369.26,525.785 1373.34,500.861 1377.42,523.632 1381.5,528.09 1385.58,558.774 1389.67,579.166 1393.75,543.374 1397.83,550.247 1401.91,537.626 1405.99,574.502 1410.07,619.809 1414.15,597.959 1418.24,568.869 1422.32,580.653 1426.4,628.983 1430.48,656.312 1434.56,699.576 1438.64,697.938 1442.72,740.631 1446.81,737.002 1450.89,741.008 1454.97,755.91 1459.05,800.893 1463.13,827.917 1467.21,818.124 1471.29,835.952 1475.38,879.162 1479.46,832.865 1483.54,787.077 1487.62,830.639 1491.7,880.261 1495.78,840.449 1499.86,796.486 1503.95,752.555 1508.03,755.918 1512.11,741.856 1516.19,694.318 1520.27,671.48 1524.35,624.886 1528.43,579.05 1532.52,627.601 1536.6,678.404 1540.68,679.166 1544.76,718.636 1548.84,672.201 1552.92,651.725 1557,614.589 1561.09,587.665 1565.17,623.821 1569.25,612.512 1573.33,663.249 1577.41,709.426 1581.49,655.874 1585.57,623.402 1589.66,606.126 1593.74,584.711 1597.82,611.242 1601.9,620.115 1605.98,601.711 1610.06,591.96 1614.14,598.782 1618.22,639.106 1622.31,612.022 1626.39,570.091 1630.47,559.876 1634.55,606.909 1638.63,587.511 1642.71,639.607 1646.79,611.243 1650.88,633.156 1654.96,613.88 1659.04,570.477 1663.12,561.065 1667.2,612.467 1671.28,665.749 1675.36,640.428 1679.45,598.543 1683.53,608.729 1687.61,572.549 1691.69,623.467 1695.77,625.132 1699.85,587.167 1703.93,615.808 1708.02,594.95 1712.1,589.419 1716.18,583.938 1720.26,608.288 1724.34,556.498 1728.42,558.859 1732.5,553.47 1736.59,554.917 1740.67,545.866 1744.75,590.152 1748.83,581.122 1752.91,582.464 1756.99,627.201 1761.07,632.468 1765.16,663.604 1769.24,667.474 1773.32,680.186 1777.4,677.839 1781.48,693.72 1785.56,687.118 1789.64,723.114 1793.73,694.077 1797.81,651.141 1801.89,641.087 1805.97,609.748 1810.05,639.008 1814.13,670.401 1818.21,641.1 1822.3,689.669 1826.38,694.342 1830.46,693.554 1834.54,644.341 1838.62,591.688 1842.7,608.349 1846.78,589.497 1850.87,558.886 1854.95,519.686 1859.03,536.848 1863.11,540.917 1867.19,541.14 1871.27,580.617 1875.35,530.369 1879.44,581.762 1883.52,620.377 1887.6,568.976 1891.68,524.263 1895.76,525.105 1899.84,480.923 1903.92,457.327 1908,457.691 1912.09,450.999 1916.17,406.223 1920.25,455.409 1924.33,498.16 1928.41,476.602 1932.49,475.689 1936.57,488.001 1940.66,541.45 1944.74,546.577 1948.82,590.766 1952.9,559.795 1956.98,601.153 1961.06,577.367 1965.14,619.232 1969.23,664.089 1973.31,633.1 1977.39,657.97 1981.47,707.786 1985.55,696.589 1989.63,699.661 1993.71,681.392 1997.8,707.722 2001.88,714.756 2005.96,724.003 2010.04,702.032 2014.12,660.037 2018.2,661.99 2022.28,679.121 2026.37,728.975 2030.45,725.181 2034.53,736.747 2038.61,739.651 2042.69,763.878 2046.77,710.815 2050.85,690.465 2054.94,690.523 2059.02,703.165 2063.1,731.605 2067.18,713.555 2071.26,753.666 2075.34,780.571 2079.42,809.553 2083.51,802.001 2087.59,779.064 2091.67,771.742 2095.75,819.999 2099.83,769.096 2103.91,801.286 2107.99,812.721 2112.08,790.551 2116.16,821.952 2120.24,771.147 2124.32,806.784 2128.4,783.756 2132.48,746.548 2136.56,764.01 2140.65,761.95 2144.73,722.606 2148.81,694.157 2152.89,696.778 2156.97,658.682 2161.05,681.238 2165.13,651.701 2169.21,615.518 2173.3,582.817 2177.38,572.623 2181.46,621.988 2185.54,579.758 2189.62,610.925 2193.7,647.419 2197.78,621.612 2201.87,613.394 2205.95,665.697 2210.03,680.985 2214.11,726.131 2218.19,724.8 2222.27,690.138 2226.35,730.932 2230.44,725.884 2234.52,732.99 2238.6,774.242 2242.68,825.905 2246.76,815.8 2250.84,866.115 2254.92,865.579 2259.01,907.843 2263.09,913.974 2267.17,960.851 2271.25,985.297 2275.33,1006.61 2279.41,1000.71 2283.49,996.479 2287.58,979.212 2291.66,975.25 \"/>\n",
       "<polyline clip-path=\"url(#clip322)\" style=\"stroke:#e26f46; stroke-linecap:round; stroke-linejoin:round; stroke-width:4; stroke-opacity:1; fill:none\" points=\"255.035,806.636 259.116,803.396 263.197,771.271 267.279,762.887 271.36,811.016 275.442,782.761 279.523,788.25 283.605,774.16 287.686,749.269 291.767,707.082 295.849,715.672 299.93,679.585 304.012,674.262 308.093,635.319 312.174,672.579 316.256,711.321 320.337,715.589 324.419,717.609 328.5,707.059 332.581,666.088 336.663,661.627 340.744,637.147 344.826,622.548 348.907,664.681 352.988,622.376 357.07,630.084 361.151,656.093 365.233,695.754 369.314,676.464 373.396,685.003 377.477,707.68 381.558,681.007 385.64,696.045 389.721,734.394 393.803,699.981 397.884,681.922 401.965,720.743 406.047,690.43 410.128,654.703 414.21,628.415 418.291,581.767 422.372,559.825 426.454,606.633 430.535,645.165 434.617,601.265 438.698,560.238 442.779,540.127 446.861,537.305 450.942,516.591 455.024,471.432 459.105,469.781 463.186,458.849 467.268,501.539 471.349,515.328 475.431,528.967 479.512,581.466 483.594,623.829 487.675,579.693 491.756,599.335 495.838,573.26 499.919,579.953 504.001,541.119 508.082,573.188 512.163,567.345 516.245,531.336 520.326,502.757 524.408,474.34 528.489,482.062 532.57,525.612 536.652,476.158 540.733,491.745 544.815,447.996 548.896,401.95 552.977,395.925 557.059,362.338 561.14,333.487 565.222,326.294 569.303,281.031 573.384,246.024 577.466,220.839 581.547,211.893 585.629,187.952 589.71,139.595 593.792,119.686 597.873,122.75 601.954,87.9763 606.036,137.308 610.117,151.283 614.199,165.223 618.28,160.209 622.361,169.366 626.443,181.522 630.524,169.163 634.606,196.306 638.687,219.03 642.768,225.129 646.85,266.502 650.931,299.306 655.013,344.75 659.094,389.858 663.175,368.124 667.257,363.855 671.338,374.311 675.42,341.02 679.501,291.524 683.583,343.303 687.664,337.473 691.745,288.817 695.827,289.793 699.908,296.418 703.99,346.663 708.071,369.209 712.152,324.568 716.234,354.657 720.315,398.283 724.397,387.36 728.478,436.051 732.559,425.415 736.641,472.167 740.722,518.555 744.804,508.713 748.885,503.997 752.966,485.988 757.048,435.044 761.129,482.162 765.211,523.637 769.292,540.667 773.373,581.84 777.455,532.079 781.536,492.81 785.618,504.582 789.699,534.619 793.781,491.562 797.862,536.396 801.943,543.389 806.025,514.207 810.106,497.395 814.188,467.275 818.269,507.596 822.35,473.315 826.432,503.985 830.513,546.24 834.595,575.304 838.676,572.108 842.757,589.475 846.839,563.523 850.92,565.57 855.002,578.848 859.083,588.762 863.164,640.235 867.246,612.516 871.327,592.118 875.409,616.723 879.49,643.039 883.571,613.279 887.653,663.25 891.734,633.647 895.816,597.481 899.897,558.42 903.979,580.679 908.06,553.819 912.141,602.512 916.223,643.338 920.304,624.906 924.386,573.381 928.467,555.335 932.548,595.577 936.63,592.095 940.711,581.676 944.793,599.715 948.874,564.446 952.955,599.087 957.037,558.048 961.118,519.733 965.2,528.569 969.281,477.384 973.362,478.326 977.444,520.777 981.525,569.427 985.607,534.585 989.688,545.15 993.77,549.916 997.851,557.315 1001.93,562.738 1006.01,561.597 1010.1,613.246 1014.18,590.903 1018.26,631.838 1022.34,580.122 1026.42,601.048 1030.5,610.654 1034.58,630.397 1038.66,617.265 1042.75,597.919 1046.83,646.979 1050.91,645.913 1054.99,616.712 1059.07,589.377 1063.15,624.435 1067.23,666.865 1071.32,713.76 1075.4,662.829 1079.48,637.851 1083.56,665.266 1087.64,630.032 1091.72,629.484 1095.8,662.875 1099.89,624.784 1103.97,607.237 1108.05,652.048 1112.13,634.773 1116.21,602.449 1120.29,608.822 1124.37,662.133 1128.46,659.192 1132.54,615.048 1136.62,624.956 1140.7,646.736 1144.78,664.512 1148.86,641.245 1152.94,693.02 1157.03,692.547 1161.11,736.598 1165.19,736.595 1169.27,718.86 1173.35,751.664 1177.43,764.36 1181.51,769.742 1185.6,721.087 1189.68,671.126 1193.76,662.262 1197.84,640.303 1201.92,621.454 1206,644.962 1210.08,687.825 1214.17,694.368 1218.25,674.434 1222.33,680.768 1226.41,635.621 1230.49,681.91 1234.57,704.088 1238.65,697.306 1242.74,690.74 1246.82,716.634 1250.9,767.88 1254.98,714.827 1259.06,747.772 1263.14,738.612 1267.22,786.315 1271.31,747.768 1275.39,779.728 1279.47,767.389 1283.55,773.989 1287.63,808.756 1291.71,823.147 1295.79,799.487 1299.88,805.538 1303.96,765.393 1308.04,740.627 1312.12,747.109 1316.2,756.248 1320.28,736.116 1324.36,712.934 1328.44,718.581 1332.53,716.117 1336.61,745.192 1340.69,787.548 1344.77,824.75 1348.85,811.024 1352.93,807.973 1357.01,755.483 1361.1,794.093 1365.18,817.319 1369.26,864.851 1373.34,872.126 1377.42,833.963 1381.5,792.271 1385.58,790.184 1389.67,761.09 1393.75,733.087 1397.83,697.592 1401.91,744.972 1405.99,783.049 1410.07,730.701 1414.15,728.64 1418.24,720.288 1422.32,771.144 1426.4,821.454 1430.48,786.443 1434.56,757.763 1438.64,774.979 1442.72,815.596 1446.81,834 1450.89,797.856 1454.97,747.775 1459.05,737.032 1463.13,751.185 1467.21,709.786 1471.29,758.398 1475.38,798.935 1479.46,785.917 1483.54,766.476 1487.62,753.887 1491.7,781.485 1495.78,784.705 1499.86,733.121 1503.95,726.714 1508.03,754.13 1512.11,721.79 1516.19,765.376 1520.27,755.754 1524.35,752.601 1528.43,700.969 1532.52,740.254 1536.6,793.19 1540.68,810.941 1544.76,801.258 1548.84,797.226 1552.92,850.292 1557,832.355 1561.09,849.65 1565.17,896.826 1569.25,899.94 1573.33,851.347 1577.41,839.771 1581.49,788.065 1585.57,798.013 1589.66,775.259 1593.74,820.082 1597.82,834.267 1601.9,853.534 1605.98,844.283 1610.06,806.1 1614.14,856.631 1618.22,818.385 1622.31,824.824 1626.39,838.188 1630.47,874.917 1634.55,891.981 1638.63,927.488 1642.71,919.955 1646.79,967.472 1650.88,958.065 1654.96,974.578 1659.04,1024.64 1663.12,973.445 1667.2,969.732 1671.28,935.615 1675.36,935.14 1679.45,959.612 1683.53,971.971 1687.61,955.327 1691.69,974.896 1695.77,992.649 1699.85,1046.17 1703.93,1086.41 1708.02,1132.03 1712.1,1111.84 1716.18,1072.17 1720.26,1085.69 1724.34,1090.48 1728.42,1131.6 1732.5,1160.61 1736.59,1165.4 1740.67,1161.55 1744.75,1133.37 1748.83,1183.94 1752.91,1184.87 1756.99,1176.39 1761.07,1127.98 1765.16,1165.03 1769.24,1179.23 1773.32,1202.91 1777.4,1165.54 1781.48,1163.52 1785.56,1125.09 1789.64,1140.09 1793.73,1169.04 1797.81,1152.41 1801.89,1186.78 1805.97,1154.73 1810.05,1140.13 1814.13,1158.48 1818.21,1171.08 1822.3,1209.33 1826.38,1260.4 1830.46,1218.91 1834.54,1246.87 1838.62,1259.72 1842.7,1218.96 1846.78,1262.71 1850.87,1303.26 1854.95,1321.73 1859.03,1351.34 1863.11,1370.2 1867.19,1377.01 1871.27,1395.26 1875.35,1367 1879.44,1369.82 1883.52,1391.69 1887.6,1420.89 1891.68,1396.07 1895.76,1389.14 1899.84,1386.44 1903.92,1409.89 1908,1363.3 1912.09,1320.02 1916.17,1358.97 1920.25,1312.75 1924.33,1319.6 1928.41,1369.61 1932.49,1345.61 1936.57,1312.69 1940.66,1321.93 1944.74,1356.59 1948.82,1352.04 1952.9,1326.7 1956.98,1294.86 1961.06,1244.83 1965.14,1268.99 1969.23,1289.92 1973.31,1265.36 1977.39,1231.15 1981.47,1184.14 1985.55,1222.13 1989.63,1195.15 1993.71,1218.19 1997.8,1177.79 2001.88,1195.62 2005.96,1247.05 2010.04,1239.87 2014.12,1240.61 2018.2,1279.85 2022.28,1287.01 2026.37,1239.42 2030.45,1186.46 2034.53,1231.74 2038.61,1247.02 2042.69,1274.73 2046.77,1269.44 2050.85,1278.15 2054.94,1296.62 2059.02,1349.51 2063.1,1377.3 2067.18,1404.54 2071.26,1399.66 2075.34,1445.72 2079.42,1402.89 2083.51,1382.09 2087.59,1362.06 2091.67,1406.84 2095.75,1357.71 2099.83,1309.39 2103.91,1279.43 2107.99,1235.42 2112.08,1189.13 2116.16,1178.33 2120.24,1205.27 2124.32,1153.12 2128.4,1141.66 2132.48,1140.13 2136.56,1133.51 2140.65,1171.78 2144.73,1159.18 2148.81,1163.05 2152.89,1149.49 2156.97,1097.57 2161.05,1050.96 2165.13,1006.58 2169.21,1049.09 2173.3,1027.55 2177.38,1028.94 2181.46,997.149 2185.54,969.93 2189.62,980.584 2193.7,929.006 2197.78,906.096 2201.87,877.455 2205.95,893.694 2210.03,896.298 2214.11,857.964 2218.19,858.867 2222.27,890.108 2226.35,930.182 2230.44,972.381 2234.52,961.786 2238.6,917.487 2242.68,939.027 2246.76,913.286 2250.84,959.201 2254.92,912.743 2259.01,865.584 2263.09,886.161 2267.17,856.075 2271.25,815.403 2275.33,817.414 2279.41,766.861 2283.49,713.325 2287.58,700.786 2291.66,723.791 \"/>\n",
       "<path clip-path=\"url(#clip320)\" d=\"M265.897 1438.47 L534.209 1438.47 L534.209 1282.95 L265.897 1282.95  Z\" fill=\"#ffffff\" fill-rule=\"evenodd\" fill-opacity=\"1\"/>\n",
       "<polyline clip-path=\"url(#clip320)\" style=\"stroke:#000000; stroke-linecap:round; stroke-linejoin:round; stroke-width:4; stroke-opacity:1; fill:none\" points=\"265.897,1438.47 534.209,1438.47 534.209,1282.95 265.897,1282.95 265.897,1438.47 \"/>\n",
       "<polyline clip-path=\"url(#clip320)\" style=\"stroke:#009af9; stroke-linecap:round; stroke-linejoin:round; stroke-width:4; stroke-opacity:1; fill:none\" points=\"289.884,1334.79 433.805,1334.79 \"/>\n",
       "<path clip-path=\"url(#clip320)\" d=\"M471.634 1354.48 Q469.829 1359.11 468.116 1360.52 Q466.403 1361.94 463.532 1361.94 L460.13 1361.94 L460.13 1358.37 L462.63 1358.37 Q464.389 1358.37 465.361 1357.54 Q466.333 1356.7 467.514 1353.6 L468.278 1351.66 L457.792 1326.15 L462.306 1326.15 L470.407 1346.43 L478.509 1326.15 L483.023 1326.15 L471.634 1354.48 Z\" fill=\"#000000\" fill-rule=\"nonzero\" fill-opacity=\"1\" /><path clip-path=\"url(#clip320)\" d=\"M490.315 1348.14 L497.954 1348.14 L497.954 1321.77 L489.643 1323.44 L489.643 1319.18 L497.907 1317.51 L502.583 1317.51 L502.583 1348.14 L510.222 1348.14 L510.222 1352.07 L490.315 1352.07 L490.315 1348.14 Z\" fill=\"#000000\" fill-rule=\"nonzero\" fill-opacity=\"1\" /><polyline clip-path=\"url(#clip320)\" style=\"stroke:#e26f46; stroke-linecap:round; stroke-linejoin:round; stroke-width:4; stroke-opacity:1; fill:none\" points=\"289.884,1386.63 433.805,1386.63 \"/>\n",
       "<path clip-path=\"url(#clip320)\" d=\"M471.634 1406.32 Q469.829 1410.95 468.116 1412.36 Q466.403 1413.78 463.532 1413.78 L460.13 1413.78 L460.13 1410.21 L462.63 1410.21 Q464.389 1410.21 465.361 1409.38 Q466.333 1408.54 467.514 1405.44 L468.278 1403.5 L457.792 1377.99 L462.306 1377.99 L470.407 1398.27 L478.509 1377.99 L483.023 1377.99 L471.634 1406.32 Z\" fill=\"#000000\" fill-rule=\"nonzero\" fill-opacity=\"1\" /><path clip-path=\"url(#clip320)\" d=\"M493.532 1399.98 L509.852 1399.98 L509.852 1403.91 L487.907 1403.91 L487.907 1399.98 Q490.569 1397.22 495.153 1392.6 Q499.759 1387.94 500.94 1386.6 Q503.185 1384.08 504.065 1382.34 Q504.967 1380.58 504.967 1378.89 Q504.967 1376.14 503.023 1374.4 Q501.102 1372.66 498 1372.66 Q495.801 1372.66 493.347 1373.43 Q490.917 1374.19 488.139 1375.74 L488.139 1371.02 Q490.963 1369.89 493.417 1369.31 Q495.87 1368.73 497.907 1368.73 Q503.278 1368.73 506.472 1371.41 Q509.666 1374.1 509.666 1378.59 Q509.666 1380.72 508.856 1382.64 Q508.069 1384.54 505.963 1387.13 Q505.384 1387.8 502.282 1391.02 Q499.18 1394.22 493.532 1399.98 Z\" fill=\"#000000\" fill-rule=\"nonzero\" fill-opacity=\"1\" /></svg>\n"
      ],
      "text/html": [
       "<?xml version=\"1.0\" encoding=\"utf-8\"?>\n",
       "<svg xmlns=\"http://www.w3.org/2000/svg\" xmlns:xlink=\"http://www.w3.org/1999/xlink\" width=\"600\" height=\"400\" viewBox=\"0 0 2400 1600\">\n",
       "<defs>\n",
       "  <clipPath id=\"clip370\">\n",
       "    <rect x=\"0\" y=\"0\" width=\"2400\" height=\"1600\"/>\n",
       "  </clipPath>\n",
       "</defs>\n",
       "<path clip-path=\"url(#clip370)\" d=\"M0 1600 L2400 1600 L2400 0 L0 0  Z\" fill=\"#ffffff\" fill-rule=\"evenodd\" fill-opacity=\"1\"/>\n",
       "<defs>\n",
       "  <clipPath id=\"clip371\">\n",
       "    <rect x=\"480\" y=\"0\" width=\"1681\" height=\"1600\"/>\n",
       "  </clipPath>\n",
       "</defs>\n",
       "<path clip-path=\"url(#clip370)\" d=\"M193.936 1486.45 L2352.76 1486.45 L2352.76 47.2441 L193.936 47.2441  Z\" fill=\"#ffffff\" fill-rule=\"evenodd\" fill-opacity=\"1\"/>\n",
       "<defs>\n",
       "  <clipPath id=\"clip372\">\n",
       "    <rect x=\"193\" y=\"47\" width=\"2160\" height=\"1440\"/>\n",
       "  </clipPath>\n",
       "</defs>\n",
       "<polyline clip-path=\"url(#clip372)\" style=\"stroke:#000000; stroke-linecap:round; stroke-linejoin:round; stroke-width:2; stroke-opacity:0.1; fill:none\" points=\"250.953,1486.45 250.953,47.2441 \"/>\n",
       "<polyline clip-path=\"url(#clip372)\" style=\"stroke:#000000; stroke-linecap:round; stroke-linejoin:round; stroke-width:2; stroke-opacity:0.1; fill:none\" points=\"659.094,1486.45 659.094,47.2441 \"/>\n",
       "<polyline clip-path=\"url(#clip372)\" style=\"stroke:#000000; stroke-linecap:round; stroke-linejoin:round; stroke-width:2; stroke-opacity:0.1; fill:none\" points=\"1067.23,1486.45 1067.23,47.2441 \"/>\n",
       "<polyline clip-path=\"url(#clip372)\" style=\"stroke:#000000; stroke-linecap:round; stroke-linejoin:round; stroke-width:2; stroke-opacity:0.1; fill:none\" points=\"1475.38,1486.45 1475.38,47.2441 \"/>\n",
       "<polyline clip-path=\"url(#clip372)\" style=\"stroke:#000000; stroke-linecap:round; stroke-linejoin:round; stroke-width:2; stroke-opacity:0.1; fill:none\" points=\"1883.52,1486.45 1883.52,47.2441 \"/>\n",
       "<polyline clip-path=\"url(#clip372)\" style=\"stroke:#000000; stroke-linecap:round; stroke-linejoin:round; stroke-width:2; stroke-opacity:0.1; fill:none\" points=\"2291.66,1486.45 2291.66,47.2441 \"/>\n",
       "<polyline clip-path=\"url(#clip370)\" style=\"stroke:#000000; stroke-linecap:round; stroke-linejoin:round; stroke-width:4; stroke-opacity:1; fill:none\" points=\"193.936,1486.45 2352.76,1486.45 \"/>\n",
       "<polyline clip-path=\"url(#clip370)\" style=\"stroke:#000000; stroke-linecap:round; stroke-linejoin:round; stroke-width:4; stroke-opacity:1; fill:none\" points=\"250.953,1486.45 250.953,1467.55 \"/>\n",
       "<polyline clip-path=\"url(#clip370)\" style=\"stroke:#000000; stroke-linecap:round; stroke-linejoin:round; stroke-width:4; stroke-opacity:1; fill:none\" points=\"659.094,1486.45 659.094,1467.55 \"/>\n",
       "<polyline clip-path=\"url(#clip370)\" style=\"stroke:#000000; stroke-linecap:round; stroke-linejoin:round; stroke-width:4; stroke-opacity:1; fill:none\" points=\"1067.23,1486.45 1067.23,1467.55 \"/>\n",
       "<polyline clip-path=\"url(#clip370)\" style=\"stroke:#000000; stroke-linecap:round; stroke-linejoin:round; stroke-width:4; stroke-opacity:1; fill:none\" points=\"1475.38,1486.45 1475.38,1467.55 \"/>\n",
       "<polyline clip-path=\"url(#clip370)\" style=\"stroke:#000000; stroke-linecap:round; stroke-linejoin:round; stroke-width:4; stroke-opacity:1; fill:none\" points=\"1883.52,1486.45 1883.52,1467.55 \"/>\n",
       "<polyline clip-path=\"url(#clip370)\" style=\"stroke:#000000; stroke-linecap:round; stroke-linejoin:round; stroke-width:4; stroke-opacity:1; fill:none\" points=\"2291.66,1486.45 2291.66,1467.55 \"/>\n",
       "<path clip-path=\"url(#clip370)\" d=\"M250.953 1517.37 Q247.342 1517.37 245.513 1520.93 Q243.708 1524.47 243.708 1531.6 Q243.708 1538.71 245.513 1542.27 Q247.342 1545.82 250.953 1545.82 Q254.588 1545.82 256.393 1542.27 Q258.222 1538.71 258.222 1531.6 Q258.222 1524.47 256.393 1520.93 Q254.588 1517.37 250.953 1517.37 M250.953 1513.66 Q256.763 1513.66 259.819 1518.27 Q262.898 1522.85 262.898 1531.6 Q262.898 1540.33 259.819 1544.94 Q256.763 1549.52 250.953 1549.52 Q245.143 1549.52 242.064 1544.94 Q239.009 1540.33 239.009 1531.6 Q239.009 1522.85 242.064 1518.27 Q245.143 1513.66 250.953 1513.66 Z\" fill=\"#000000\" fill-rule=\"nonzero\" fill-opacity=\"1\" /><path clip-path=\"url(#clip370)\" d=\"M618.701 1544.91 L626.34 1544.91 L626.34 1518.55 L618.029 1520.21 L618.029 1515.95 L626.293 1514.29 L630.969 1514.29 L630.969 1544.91 L638.608 1544.91 L638.608 1548.85 L618.701 1548.85 L618.701 1544.91 Z\" fill=\"#000000\" fill-rule=\"nonzero\" fill-opacity=\"1\" /><path clip-path=\"url(#clip370)\" d=\"M658.052 1517.37 Q654.441 1517.37 652.613 1520.93 Q650.807 1524.47 650.807 1531.6 Q650.807 1538.71 652.613 1542.27 Q654.441 1545.82 658.052 1545.82 Q661.687 1545.82 663.492 1542.27 Q665.321 1538.71 665.321 1531.6 Q665.321 1524.47 663.492 1520.93 Q661.687 1517.37 658.052 1517.37 M658.052 1513.66 Q663.863 1513.66 666.918 1518.27 Q669.997 1522.85 669.997 1531.6 Q669.997 1540.33 666.918 1544.94 Q663.863 1549.52 658.052 1549.52 Q652.242 1549.52 649.164 1544.94 Q646.108 1540.33 646.108 1531.6 Q646.108 1522.85 649.164 1518.27 Q652.242 1513.66 658.052 1513.66 Z\" fill=\"#000000\" fill-rule=\"nonzero\" fill-opacity=\"1\" /><path clip-path=\"url(#clip370)\" d=\"M688.214 1517.37 Q684.603 1517.37 682.774 1520.93 Q680.969 1524.47 680.969 1531.6 Q680.969 1538.71 682.774 1542.27 Q684.603 1545.82 688.214 1545.82 Q691.849 1545.82 693.654 1542.27 Q695.483 1538.71 695.483 1531.6 Q695.483 1524.47 693.654 1520.93 Q691.849 1517.37 688.214 1517.37 M688.214 1513.66 Q694.024 1513.66 697.08 1518.27 Q700.159 1522.85 700.159 1531.6 Q700.159 1540.33 697.08 1544.94 Q694.024 1549.52 688.214 1549.52 Q682.404 1549.52 679.325 1544.94 Q676.27 1540.33 676.27 1531.6 Q676.27 1522.85 679.325 1518.27 Q682.404 1513.66 688.214 1513.66 Z\" fill=\"#000000\" fill-rule=\"nonzero\" fill-opacity=\"1\" /><path clip-path=\"url(#clip370)\" d=\"M1030.93 1544.91 L1047.25 1544.91 L1047.25 1548.85 L1025.3 1548.85 L1025.3 1544.91 Q1027.96 1542.16 1032.55 1537.53 Q1037.15 1532.88 1038.33 1531.53 Q1040.58 1529.01 1041.46 1527.27 Q1042.36 1525.51 1042.36 1523.82 Q1042.36 1521.07 1040.42 1519.33 Q1038.5 1517.6 1035.39 1517.6 Q1033.2 1517.6 1030.74 1518.36 Q1028.31 1519.13 1025.53 1520.68 L1025.53 1515.95 Q1028.36 1514.82 1030.81 1514.24 Q1033.27 1513.66 1035.3 1513.66 Q1040.67 1513.66 1043.87 1516.35 Q1047.06 1519.03 1047.06 1523.52 Q1047.06 1525.65 1046.25 1527.57 Q1045.46 1529.47 1043.36 1532.07 Q1042.78 1532.74 1039.68 1535.95 Q1036.58 1539.15 1030.93 1544.91 Z\" fill=\"#000000\" fill-rule=\"nonzero\" fill-opacity=\"1\" /><path clip-path=\"url(#clip370)\" d=\"M1067.06 1517.37 Q1063.45 1517.37 1061.62 1520.93 Q1059.82 1524.47 1059.82 1531.6 Q1059.82 1538.71 1061.62 1542.27 Q1063.45 1545.82 1067.06 1545.82 Q1070.7 1545.82 1072.5 1542.27 Q1074.33 1538.71 1074.33 1531.6 Q1074.33 1524.47 1072.5 1520.93 Q1070.7 1517.37 1067.06 1517.37 M1067.06 1513.66 Q1072.87 1513.66 1075.93 1518.27 Q1079.01 1522.85 1079.01 1531.6 Q1079.01 1540.33 1075.93 1544.94 Q1072.87 1549.52 1067.06 1549.52 Q1061.25 1549.52 1058.17 1544.94 Q1055.12 1540.33 1055.12 1531.6 Q1055.12 1522.85 1058.17 1518.27 Q1061.25 1513.66 1067.06 1513.66 Z\" fill=\"#000000\" fill-rule=\"nonzero\" fill-opacity=\"1\" /><path clip-path=\"url(#clip370)\" d=\"M1097.22 1517.37 Q1093.61 1517.37 1091.78 1520.93 Q1089.98 1524.47 1089.98 1531.6 Q1089.98 1538.71 1091.78 1542.27 Q1093.61 1545.82 1097.22 1545.82 Q1100.86 1545.82 1102.66 1542.27 Q1104.49 1538.71 1104.49 1531.6 Q1104.49 1524.47 1102.66 1520.93 Q1100.86 1517.37 1097.22 1517.37 M1097.22 1513.66 Q1103.03 1513.66 1106.09 1518.27 Q1109.17 1522.85 1109.17 1531.6 Q1109.17 1540.33 1106.09 1544.94 Q1103.03 1549.52 1097.22 1549.52 Q1091.41 1549.52 1088.33 1544.94 Q1085.28 1540.33 1085.28 1531.6 Q1085.28 1522.85 1088.33 1518.27 Q1091.41 1513.66 1097.22 1513.66 Z\" fill=\"#000000\" fill-rule=\"nonzero\" fill-opacity=\"1\" /><path clip-path=\"url(#clip370)\" d=\"M1449.14 1530.21 Q1452.49 1530.93 1454.37 1533.2 Q1456.27 1535.47 1456.27 1538.8 Q1456.27 1543.92 1452.75 1546.72 Q1449.23 1549.52 1442.75 1549.52 Q1440.57 1549.52 1438.26 1549.08 Q1435.97 1548.66 1433.51 1547.81 L1433.51 1543.29 Q1435.46 1544.43 1437.77 1545.01 Q1440.09 1545.58 1442.61 1545.58 Q1447.01 1545.58 1449.3 1543.85 Q1451.61 1542.11 1451.61 1538.8 Q1451.61 1535.75 1449.46 1534.03 Q1447.33 1532.3 1443.51 1532.3 L1439.48 1532.3 L1439.48 1528.45 L1443.7 1528.45 Q1447.15 1528.45 1448.98 1527.09 Q1450.8 1525.7 1450.8 1523.11 Q1450.8 1520.45 1448.91 1519.03 Q1447.03 1517.6 1443.51 1517.6 Q1441.59 1517.6 1439.39 1518.01 Q1437.19 1518.43 1434.55 1519.31 L1434.55 1515.14 Q1437.22 1514.4 1439.53 1514.03 Q1441.87 1513.66 1443.93 1513.66 Q1449.25 1513.66 1452.35 1516.09 Q1455.46 1518.5 1455.46 1522.62 Q1455.46 1525.49 1453.81 1527.48 Q1452.17 1529.45 1449.14 1530.21 Z\" fill=\"#000000\" fill-rule=\"nonzero\" fill-opacity=\"1\" /><path clip-path=\"url(#clip370)\" d=\"M1475.13 1517.37 Q1471.52 1517.37 1469.69 1520.93 Q1467.89 1524.47 1467.89 1531.6 Q1467.89 1538.71 1469.69 1542.27 Q1471.52 1545.82 1475.13 1545.82 Q1478.77 1545.82 1480.57 1542.27 Q1482.4 1538.71 1482.4 1531.6 Q1482.4 1524.47 1480.57 1520.93 Q1478.77 1517.37 1475.13 1517.37 M1475.13 1513.66 Q1480.94 1513.66 1484 1518.27 Q1487.08 1522.85 1487.08 1531.6 Q1487.08 1540.33 1484 1544.94 Q1480.94 1549.52 1475.13 1549.52 Q1469.32 1549.52 1466.24 1544.94 Q1463.19 1540.33 1463.19 1531.6 Q1463.19 1522.85 1466.24 1518.27 Q1469.32 1513.66 1475.13 1513.66 Z\" fill=\"#000000\" fill-rule=\"nonzero\" fill-opacity=\"1\" /><path clip-path=\"url(#clip370)\" d=\"M1505.29 1517.37 Q1501.68 1517.37 1499.85 1520.93 Q1498.05 1524.47 1498.05 1531.6 Q1498.05 1538.71 1499.85 1542.27 Q1501.68 1545.82 1505.29 1545.82 Q1508.93 1545.82 1510.73 1542.27 Q1512.56 1538.71 1512.56 1531.6 Q1512.56 1524.47 1510.73 1520.93 Q1508.93 1517.37 1505.29 1517.37 M1505.29 1513.66 Q1511.1 1513.66 1514.16 1518.27 Q1517.24 1522.85 1517.24 1531.6 Q1517.24 1540.33 1514.16 1544.94 Q1511.1 1549.52 1505.29 1549.52 Q1499.48 1549.52 1496.41 1544.94 Q1493.35 1540.33 1493.35 1531.6 Q1493.35 1522.85 1496.41 1518.27 Q1499.48 1513.66 1505.29 1513.66 Z\" fill=\"#000000\" fill-rule=\"nonzero\" fill-opacity=\"1\" /><path clip-path=\"url(#clip370)\" d=\"M1856.61 1518.36 L1844.8 1536.81 L1856.61 1536.81 L1856.61 1518.36 M1855.38 1514.29 L1861.26 1514.29 L1861.26 1536.81 L1866.19 1536.81 L1866.19 1540.7 L1861.26 1540.7 L1861.26 1548.85 L1856.61 1548.85 L1856.61 1540.7 L1841.01 1540.7 L1841.01 1536.19 L1855.38 1514.29 Z\" fill=\"#000000\" fill-rule=\"nonzero\" fill-opacity=\"1\" /><path clip-path=\"url(#clip370)\" d=\"M1883.92 1517.37 Q1880.31 1517.37 1878.48 1520.93 Q1876.68 1524.47 1876.68 1531.6 Q1876.68 1538.71 1878.48 1542.27 Q1880.31 1545.82 1883.92 1545.82 Q1887.56 1545.82 1889.36 1542.27 Q1891.19 1538.71 1891.19 1531.6 Q1891.19 1524.47 1889.36 1520.93 Q1887.56 1517.37 1883.92 1517.37 M1883.92 1513.66 Q1889.73 1513.66 1892.79 1518.27 Q1895.87 1522.85 1895.87 1531.6 Q1895.87 1540.33 1892.79 1544.94 Q1889.73 1549.52 1883.92 1549.52 Q1878.11 1549.52 1875.03 1544.94 Q1871.98 1540.33 1871.98 1531.6 Q1871.98 1522.85 1875.03 1518.27 Q1878.11 1513.66 1883.92 1513.66 Z\" fill=\"#000000\" fill-rule=\"nonzero\" fill-opacity=\"1\" /><path clip-path=\"url(#clip370)\" d=\"M1914.08 1517.37 Q1910.47 1517.37 1908.64 1520.93 Q1906.84 1524.47 1906.84 1531.6 Q1906.84 1538.71 1908.64 1542.27 Q1910.47 1545.82 1914.08 1545.82 Q1917.72 1545.82 1919.52 1542.27 Q1921.35 1538.71 1921.35 1531.6 Q1921.35 1524.47 1919.52 1520.93 Q1917.72 1517.37 1914.08 1517.37 M1914.08 1513.66 Q1919.89 1513.66 1922.95 1518.27 Q1926.03 1522.85 1926.03 1531.6 Q1926.03 1540.33 1922.95 1544.94 Q1919.89 1549.52 1914.08 1549.52 Q1908.27 1549.52 1905.19 1544.94 Q1902.14 1540.33 1902.14 1531.6 Q1902.14 1522.85 1905.19 1518.27 Q1908.27 1513.66 1914.08 1513.66 Z\" fill=\"#000000\" fill-rule=\"nonzero\" fill-opacity=\"1\" /><path clip-path=\"url(#clip370)\" d=\"M2251.28 1514.29 L2269.63 1514.29 L2269.63 1518.22 L2255.56 1518.22 L2255.56 1526.7 Q2256.58 1526.35 2257.59 1526.19 Q2258.61 1526 2259.63 1526 Q2265.42 1526 2268.8 1529.17 Q2272.18 1532.34 2272.18 1537.76 Q2272.18 1543.34 2268.71 1546.44 Q2265.23 1549.52 2258.91 1549.52 Q2256.74 1549.52 2254.47 1549.15 Q2252.22 1548.78 2249.82 1548.04 L2249.82 1543.34 Q2251.9 1544.47 2254.12 1545.03 Q2256.34 1545.58 2258.82 1545.58 Q2262.83 1545.58 2265.16 1543.48 Q2267.5 1541.37 2267.5 1537.76 Q2267.5 1534.15 2265.16 1532.04 Q2262.83 1529.94 2258.82 1529.94 Q2256.95 1529.94 2255.07 1530.35 Q2253.22 1530.77 2251.28 1531.65 L2251.28 1514.29 Z\" fill=\"#000000\" fill-rule=\"nonzero\" fill-opacity=\"1\" /><path clip-path=\"url(#clip370)\" d=\"M2291.39 1517.37 Q2287.78 1517.37 2285.95 1520.93 Q2284.15 1524.47 2284.15 1531.6 Q2284.15 1538.71 2285.95 1542.27 Q2287.78 1545.82 2291.39 1545.82 Q2295.03 1545.82 2296.83 1542.27 Q2298.66 1538.71 2298.66 1531.6 Q2298.66 1524.47 2296.83 1520.93 Q2295.03 1517.37 2291.39 1517.37 M2291.39 1513.66 Q2297.2 1513.66 2300.26 1518.27 Q2303.34 1522.85 2303.34 1531.6 Q2303.34 1540.33 2300.26 1544.94 Q2297.2 1549.52 2291.39 1549.52 Q2285.58 1549.52 2282.5 1544.94 Q2279.45 1540.33 2279.45 1531.6 Q2279.45 1522.85 2282.5 1518.27 Q2285.58 1513.66 2291.39 1513.66 Z\" fill=\"#000000\" fill-rule=\"nonzero\" fill-opacity=\"1\" /><path clip-path=\"url(#clip370)\" d=\"M2321.55 1517.37 Q2317.94 1517.37 2316.11 1520.93 Q2314.31 1524.47 2314.31 1531.6 Q2314.31 1538.71 2316.11 1542.27 Q2317.94 1545.82 2321.55 1545.82 Q2325.19 1545.82 2326.99 1542.27 Q2328.82 1538.71 2328.82 1531.6 Q2328.82 1524.47 2326.99 1520.93 Q2325.19 1517.37 2321.55 1517.37 M2321.55 1513.66 Q2327.36 1513.66 2330.42 1518.27 Q2333.5 1522.85 2333.5 1531.6 Q2333.5 1540.33 2330.42 1544.94 Q2327.36 1549.52 2321.55 1549.52 Q2315.74 1549.52 2312.66 1544.94 Q2309.61 1540.33 2309.61 1531.6 Q2309.61 1522.85 2312.66 1518.27 Q2315.74 1513.66 2321.55 1513.66 Z\" fill=\"#000000\" fill-rule=\"nonzero\" fill-opacity=\"1\" /><polyline clip-path=\"url(#clip372)\" style=\"stroke:#000000; stroke-linecap:round; stroke-linejoin:round; stroke-width:2; stroke-opacity:0.1; fill:none\" points=\"193.936,1325.49 2352.76,1325.49 \"/>\n",
       "<polyline clip-path=\"url(#clip372)\" style=\"stroke:#000000; stroke-linecap:round; stroke-linejoin:round; stroke-width:2; stroke-opacity:0.1; fill:none\" points=\"193.936,1057.54 2352.76,1057.54 \"/>\n",
       "<polyline clip-path=\"url(#clip372)\" style=\"stroke:#000000; stroke-linecap:round; stroke-linejoin:round; stroke-width:2; stroke-opacity:0.1; fill:none\" points=\"193.936,789.598 2352.76,789.598 \"/>\n",
       "<polyline clip-path=\"url(#clip372)\" style=\"stroke:#000000; stroke-linecap:round; stroke-linejoin:round; stroke-width:2; stroke-opacity:0.1; fill:none\" points=\"193.936,521.653 2352.76,521.653 \"/>\n",
       "<polyline clip-path=\"url(#clip372)\" style=\"stroke:#000000; stroke-linecap:round; stroke-linejoin:round; stroke-width:2; stroke-opacity:0.1; fill:none\" points=\"193.936,253.708 2352.76,253.708 \"/>\n",
       "<polyline clip-path=\"url(#clip370)\" style=\"stroke:#000000; stroke-linecap:round; stroke-linejoin:round; stroke-width:4; stroke-opacity:1; fill:none\" points=\"193.936,1486.45 193.936,47.2441 \"/>\n",
       "<polyline clip-path=\"url(#clip370)\" style=\"stroke:#000000; stroke-linecap:round; stroke-linejoin:round; stroke-width:4; stroke-opacity:1; fill:none\" points=\"193.936,1325.49 212.834,1325.49 \"/>\n",
       "<polyline clip-path=\"url(#clip370)\" style=\"stroke:#000000; stroke-linecap:round; stroke-linejoin:round; stroke-width:4; stroke-opacity:1; fill:none\" points=\"193.936,1057.54 212.834,1057.54 \"/>\n",
       "<polyline clip-path=\"url(#clip370)\" style=\"stroke:#000000; stroke-linecap:round; stroke-linejoin:round; stroke-width:4; stroke-opacity:1; fill:none\" points=\"193.936,789.598 212.834,789.598 \"/>\n",
       "<polyline clip-path=\"url(#clip370)\" style=\"stroke:#000000; stroke-linecap:round; stroke-linejoin:round; stroke-width:4; stroke-opacity:1; fill:none\" points=\"193.936,521.653 212.834,521.653 \"/>\n",
       "<polyline clip-path=\"url(#clip370)\" style=\"stroke:#000000; stroke-linecap:round; stroke-linejoin:round; stroke-width:4; stroke-opacity:1; fill:none\" points=\"193.936,253.708 212.834,253.708 \"/>\n",
       "<path clip-path=\"url(#clip370)\" d=\"M50.9921 1325.94 L80.6679 1325.94 L80.6679 1329.88 L50.9921 1329.88 L50.9921 1325.94 Z\" fill=\"#000000\" fill-rule=\"nonzero\" fill-opacity=\"1\" /><path clip-path=\"url(#clip370)\" d=\"M90.8067 1308.21 L109.163 1308.21 L109.163 1312.14 L95.0891 1312.14 L95.0891 1320.62 Q96.1076 1320.27 97.1261 1320.11 Q98.1447 1319.92 99.1632 1319.92 Q104.95 1319.92 108.33 1323.09 Q111.709 1326.26 111.709 1331.68 Q111.709 1337.26 108.237 1340.36 Q104.765 1343.44 98.4456 1343.44 Q96.2697 1343.44 94.0012 1343.07 Q91.7558 1342.7 89.3484 1341.96 L89.3484 1337.26 Q91.4317 1338.39 93.6539 1338.95 Q95.8761 1339.51 98.353 1339.51 Q102.358 1339.51 104.696 1337.4 Q107.033 1335.29 107.033 1331.68 Q107.033 1328.07 104.696 1325.96 Q102.358 1323.86 98.353 1323.86 Q96.478 1323.86 94.603 1324.27 Q92.7512 1324.69 90.8067 1325.57 L90.8067 1308.21 Z\" fill=\"#000000\" fill-rule=\"nonzero\" fill-opacity=\"1\" /><path clip-path=\"url(#clip370)\" d=\"M120.922 1336.89 L125.807 1336.89 L125.807 1342.77 L120.922 1342.77 L120.922 1336.89 Z\" fill=\"#000000\" fill-rule=\"nonzero\" fill-opacity=\"1\" /><path clip-path=\"url(#clip370)\" d=\"M145.992 1311.29 Q142.381 1311.29 140.552 1314.85 Q138.746 1318.39 138.746 1325.52 Q138.746 1332.63 140.552 1336.19 Q142.381 1339.74 145.992 1339.74 Q149.626 1339.74 151.431 1336.19 Q153.26 1332.63 153.26 1325.52 Q153.26 1318.39 151.431 1314.85 Q149.626 1311.29 145.992 1311.29 M145.992 1307.58 Q151.802 1307.58 154.857 1312.19 Q157.936 1316.77 157.936 1325.52 Q157.936 1334.25 154.857 1338.86 Q151.802 1343.44 145.992 1343.44 Q140.181 1343.44 137.103 1338.86 Q134.047 1334.25 134.047 1325.52 Q134.047 1316.77 137.103 1312.19 Q140.181 1307.58 145.992 1307.58 Z\" fill=\"#000000\" fill-rule=\"nonzero\" fill-opacity=\"1\" /><path clip-path=\"url(#clip370)\" d=\"M51.9875 1058 L81.6633 1058 L81.6633 1061.93 L51.9875 1061.93 L51.9875 1058 Z\" fill=\"#000000\" fill-rule=\"nonzero\" fill-opacity=\"1\" /><path clip-path=\"url(#clip370)\" d=\"M95.7836 1070.89 L112.103 1070.89 L112.103 1074.82 L90.1586 1074.82 L90.1586 1070.89 Q92.8206 1068.13 97.4039 1063.5 Q102.01 1058.85 103.191 1057.51 Q105.436 1054.99 106.316 1053.25 Q107.219 1051.49 107.219 1049.8 Q107.219 1047.05 105.274 1045.31 Q103.353 1043.57 100.251 1043.57 Q98.0521 1043.57 95.5984 1044.34 Q93.1678 1045.1 90.3901 1046.65 L90.3901 1041.93 Q93.2141 1040.8 95.6678 1040.22 Q98.1215 1039.64 100.159 1039.64 Q105.529 1039.64 108.723 1042.32 Q111.918 1045.01 111.918 1049.5 Q111.918 1051.63 111.108 1053.55 Q110.321 1055.45 108.214 1058.04 Q107.635 1058.71 104.534 1061.93 Q101.432 1065.12 95.7836 1070.89 Z\" fill=\"#000000\" fill-rule=\"nonzero\" fill-opacity=\"1\" /><path clip-path=\"url(#clip370)\" d=\"M121.918 1068.94 L126.802 1068.94 L126.802 1074.82 L121.918 1074.82 L121.918 1068.94 Z\" fill=\"#000000\" fill-rule=\"nonzero\" fill-opacity=\"1\" /><path clip-path=\"url(#clip370)\" d=\"M137.033 1040.26 L155.39 1040.26 L155.39 1044.2 L141.316 1044.2 L141.316 1052.67 Q142.334 1052.32 143.353 1052.16 Q144.371 1051.98 145.39 1051.98 Q151.177 1051.98 154.556 1055.15 Q157.936 1058.32 157.936 1063.74 Q157.936 1069.31 154.464 1072.42 Q150.992 1075.49 144.672 1075.49 Q142.496 1075.49 140.228 1075.12 Q137.982 1074.75 135.575 1074.01 L135.575 1069.31 Q137.658 1070.45 139.881 1071 Q142.103 1071.56 144.58 1071.56 Q148.584 1071.56 150.922 1069.45 Q153.26 1067.35 153.26 1063.74 Q153.26 1060.12 150.922 1058.02 Q148.584 1055.91 144.58 1055.91 Q142.705 1055.91 140.83 1056.33 Q138.978 1056.75 137.033 1057.62 L137.033 1040.26 Z\" fill=\"#000000\" fill-rule=\"nonzero\" fill-opacity=\"1\" /><path clip-path=\"url(#clip370)\" d=\"M100.76 775.397 Q97.1493 775.397 95.3206 778.962 Q93.515 782.503 93.515 789.633 Q93.515 796.74 95.3206 800.304 Q97.1493 803.846 100.76 803.846 Q104.395 803.846 106.2 800.304 Q108.029 796.74 108.029 789.633 Q108.029 782.503 106.2 778.962 Q104.395 775.397 100.76 775.397 M100.76 771.693 Q106.571 771.693 109.626 776.3 Q112.705 780.883 112.705 789.633 Q112.705 798.36 109.626 802.966 Q106.571 807.55 100.76 807.55 Q94.9502 807.55 91.8715 802.966 Q88.816 798.36 88.816 789.633 Q88.816 780.883 91.8715 776.3 Q94.9502 771.693 100.76 771.693 Z\" fill=\"#000000\" fill-rule=\"nonzero\" fill-opacity=\"1\" /><path clip-path=\"url(#clip370)\" d=\"M120.922 800.999 L125.807 800.999 L125.807 806.878 L120.922 806.878 L120.922 800.999 Z\" fill=\"#000000\" fill-rule=\"nonzero\" fill-opacity=\"1\" /><path clip-path=\"url(#clip370)\" d=\"M145.992 775.397 Q142.381 775.397 140.552 778.962 Q138.746 782.503 138.746 789.633 Q138.746 796.74 140.552 800.304 Q142.381 803.846 145.992 803.846 Q149.626 803.846 151.431 800.304 Q153.26 796.74 153.26 789.633 Q153.26 782.503 151.431 778.962 Q149.626 775.397 145.992 775.397 M145.992 771.693 Q151.802 771.693 154.857 776.3 Q157.936 780.883 157.936 789.633 Q157.936 798.36 154.857 802.966 Q151.802 807.55 145.992 807.55 Q140.181 807.55 137.103 802.966 Q134.047 798.36 134.047 789.633 Q134.047 780.883 137.103 776.3 Q140.181 771.693 145.992 771.693 Z\" fill=\"#000000\" fill-rule=\"nonzero\" fill-opacity=\"1\" /><path clip-path=\"url(#clip370)\" d=\"M95.7836 534.998 L112.103 534.998 L112.103 538.933 L90.1586 538.933 L90.1586 534.998 Q92.8206 532.243 97.4039 527.614 Q102.01 522.961 103.191 521.618 Q105.436 519.095 106.316 517.359 Q107.219 515.6 107.219 513.91 Q107.219 511.155 105.274 509.419 Q103.353 507.683 100.251 507.683 Q98.0521 507.683 95.5984 508.447 Q93.1678 509.211 90.3901 510.762 L90.3901 506.04 Q93.2141 504.905 95.6678 504.327 Q98.1215 503.748 100.159 503.748 Q105.529 503.748 108.723 506.433 Q111.918 509.118 111.918 513.609 Q111.918 515.739 111.108 517.66 Q110.321 519.558 108.214 522.151 Q107.635 522.822 104.534 526.04 Q101.432 529.234 95.7836 534.998 Z\" fill=\"#000000\" fill-rule=\"nonzero\" fill-opacity=\"1\" /><path clip-path=\"url(#clip370)\" d=\"M121.918 533.053 L126.802 533.053 L126.802 538.933 L121.918 538.933 L121.918 533.053 Z\" fill=\"#000000\" fill-rule=\"nonzero\" fill-opacity=\"1\" /><path clip-path=\"url(#clip370)\" d=\"M137.033 504.373 L155.39 504.373 L155.39 508.308 L141.316 508.308 L141.316 516.78 Q142.334 516.433 143.353 516.271 Q144.371 516.086 145.39 516.086 Q151.177 516.086 154.556 519.257 Q157.936 522.428 157.936 527.845 Q157.936 533.424 154.464 536.526 Q150.992 539.604 144.672 539.604 Q142.496 539.604 140.228 539.234 Q137.982 538.864 135.575 538.123 L135.575 533.424 Q137.658 534.558 139.881 535.114 Q142.103 535.669 144.58 535.669 Q148.584 535.669 150.922 533.563 Q153.26 531.456 153.26 527.845 Q153.26 524.234 150.922 522.128 Q148.584 520.021 144.58 520.021 Q142.705 520.021 140.83 520.438 Q138.978 520.854 137.033 521.734 L137.033 504.373 Z\" fill=\"#000000\" fill-rule=\"nonzero\" fill-opacity=\"1\" /><path clip-path=\"url(#clip370)\" d=\"M90.8067 236.428 L109.163 236.428 L109.163 240.363 L95.0891 240.363 L95.0891 248.835 Q96.1076 248.488 97.1261 248.326 Q98.1447 248.141 99.1632 248.141 Q104.95 248.141 108.33 251.312 Q111.709 254.483 111.709 259.9 Q111.709 265.479 108.237 268.58 Q104.765 271.659 98.4456 271.659 Q96.2697 271.659 94.0012 271.289 Q91.7558 270.918 89.3484 270.178 L89.3484 265.479 Q91.4317 266.613 93.6539 267.168 Q95.8761 267.724 98.353 267.724 Q102.358 267.724 104.696 265.617 Q107.033 263.511 107.033 259.9 Q107.033 256.289 104.696 254.182 Q102.358 252.076 98.353 252.076 Q96.478 252.076 94.603 252.492 Q92.7512 252.909 90.8067 253.789 L90.8067 236.428 Z\" fill=\"#000000\" fill-rule=\"nonzero\" fill-opacity=\"1\" /><path clip-path=\"url(#clip370)\" d=\"M120.922 265.108 L125.807 265.108 L125.807 270.988 L120.922 270.988 L120.922 265.108 Z\" fill=\"#000000\" fill-rule=\"nonzero\" fill-opacity=\"1\" /><path clip-path=\"url(#clip370)\" d=\"M145.992 239.506 Q142.381 239.506 140.552 243.071 Q138.746 246.613 138.746 253.742 Q138.746 260.849 140.552 264.414 Q142.381 267.955 145.992 267.955 Q149.626 267.955 151.431 264.414 Q153.26 260.849 153.26 253.742 Q153.26 246.613 151.431 243.071 Q149.626 239.506 145.992 239.506 M145.992 235.803 Q151.802 235.803 154.857 240.409 Q157.936 244.993 157.936 253.742 Q157.936 262.469 154.857 267.076 Q151.802 271.659 145.992 271.659 Q140.181 271.659 137.103 267.076 Q134.047 262.469 134.047 253.742 Q134.047 244.993 137.103 240.409 Q140.181 235.803 145.992 235.803 Z\" fill=\"#000000\" fill-rule=\"nonzero\" fill-opacity=\"1\" /><polyline clip-path=\"url(#clip372)\" style=\"stroke:#009af9; stroke-linecap:round; stroke-linejoin:round; stroke-width:4; stroke-opacity:1; fill:none\" points=\"255.035,838.337 259.116,813.328 263.197,760.884 267.279,761.229 271.36,779.237 275.442,743.784 279.523,773.374 283.605,804.523 287.686,801.95 291.767,795.611 295.849,847.175 299.93,891.645 304.012,862.405 308.093,852.487 312.174,810.869 316.256,789.639 320.337,753.879 324.419,706.812 328.5,702.33 332.581,670.371 336.663,637.381 340.744,648.837 344.826,611.427 348.907,652.166 352.988,598.578 357.07,635.091 361.151,610.38 365.233,622.228 369.314,630.03 373.396,583.914 377.477,582.105 381.558,548.892 385.64,547.169 389.721,539.787 393.803,493.859 397.884,478.842 401.965,491.775 406.047,452.087 410.128,458.953 414.21,435.186 418.291,415.112 422.372,402.439 426.454,428.499 430.535,470.811 434.617,454.719 438.698,447.319 442.779,490.311 446.861,451.587 450.942,426.795 455.024,410.539 459.105,368.576 463.186,325.795 467.268,344.021 471.349,348.699 475.431,304.237 479.512,285.825 483.594,256.809 487.675,287.12 491.756,255.119 495.838,299.278 499.919,316.341 504.001,361.435 508.082,377.538 512.163,360.71 516.245,407.517 520.326,416.232 524.408,435.938 528.489,464.728 532.57,430.184 536.652,389.816 540.733,361.733 544.815,350.012 548.896,339.655 552.977,343.626 557.059,337.414 561.14,294.916 565.222,272.958 569.303,270.506 573.384,261.927 577.466,239.377 581.547,292.906 585.629,296.589 589.71,314.926 593.792,277.013 597.873,320.516 601.954,302.804 606.036,332.746 610.117,305.193 614.199,288.165 618.28,337.638 622.361,286.37 626.443,299.43 630.524,302.916 634.606,344.977 638.687,382.236 642.768,380.592 646.85,328.486 650.931,328.546 655.013,328.94 659.094,304.439 663.175,309.52 667.257,295.445 671.338,337.234 675.42,287.382 679.501,315.196 683.583,362.012 687.664,366.746 691.745,338.875 695.827,349.558 699.908,358.046 703.99,324.228 708.071,359.265 712.152,399.331 716.234,417.648 720.315,419.708 724.397,443.416 728.478,435.519 732.559,406.985 736.641,373.602 740.722,324.713 744.804,357.432 748.885,337.832 752.966,306.667 757.048,352.197 761.129,343.465 765.211,339.813 769.292,378.613 773.373,407.503 777.455,377.975 781.536,388.246 785.618,429.846 789.699,473.572 793.781,476.404 797.862,477.568 801.943,500.736 806.025,533.068 810.106,564.578 814.188,615.488 818.269,604.99 822.35,630.13 826.432,652.812 830.513,701.997 834.595,743.982 838.676,694.142 842.757,698.103 846.839,676.558 850.92,635.233 855.002,668.463 859.083,672.588 863.164,676.081 867.246,664.624 871.327,668.667 875.409,720.398 879.49,700.862 883.571,718.012 887.653,704.927 891.734,752.883 895.816,714.629 899.897,736.273 903.979,719.899 908.06,669.125 912.141,630.72 916.223,676.284 920.304,642.613 924.386,672.565 928.467,677.911 932.548,681.203 936.63,689.069 940.711,647.329 944.793,686.996 948.874,700.581 952.955,691.317 957.037,673.249 961.118,715.155 965.2,678.948 969.281,687.523 973.362,643.139 977.444,622.73 981.525,626.573 985.607,580.746 989.688,628.139 993.77,598.824 997.851,576.224 1001.93,617.674 1006.01,587.896 1010.1,606.033 1014.18,576.633 1018.26,536.551 1022.34,566.547 1026.42,555.118 1030.5,536.096 1034.58,486.91 1038.66,498.807 1042.75,520.968 1046.83,509.279 1050.91,500.812 1054.99,492.465 1059.07,481.328 1063.15,512.51 1067.23,532.98 1071.32,557.405 1075.4,535.624 1079.48,568.147 1083.56,611.144 1087.64,614.08 1091.72,600.017 1095.8,636.391 1099.89,617.621 1103.97,567.557 1108.05,526.291 1112.13,579.077 1116.21,592.465 1120.29,616.991 1124.37,601.464 1128.46,602.59 1132.54,568.235 1136.62,553.884 1140.7,550.06 1144.78,567.538 1148.86,589.458 1152.94,642.363 1157.03,677.506 1161.11,672.063 1165.19,629.923 1169.27,615.362 1173.35,642.945 1177.43,657.127 1181.51,675.186 1185.6,703.008 1189.68,733.886 1193.76,722.762 1197.84,768.773 1201.92,730.954 1206,724.006 1210.08,775.092 1214.17,824.995 1218.25,878.24 1222.33,836.642 1226.41,806.443 1230.49,778.057 1234.57,750.81 1238.65,727.307 1242.74,699.655 1246.82,699.562 1250.9,702.363 1254.98,657.52 1259.06,706.159 1263.14,724.143 1267.22,763.011 1271.31,723.793 1275.39,693.084 1279.47,695.501 1283.55,696.323 1287.63,699.2 1291.71,736.685 1295.79,704.872 1299.88,664.14 1303.96,637.514 1308.04,642.96 1312.12,671.212 1316.2,682.434 1320.28,643.543 1324.36,627.539 1328.44,643.214 1332.53,612.649 1336.61,581.793 1340.69,564.676 1344.77,572.815 1348.85,542.398 1352.93,496.436 1357.01,525.755 1361.1,524.876 1365.18,490.258 1369.26,525.785 1373.34,500.861 1377.42,523.632 1381.5,528.09 1385.58,558.774 1389.67,579.166 1393.75,543.374 1397.83,550.247 1401.91,537.626 1405.99,574.502 1410.07,619.809 1414.15,597.959 1418.24,568.869 1422.32,580.653 1426.4,628.983 1430.48,656.312 1434.56,699.576 1438.64,697.938 1442.72,740.631 1446.81,737.002 1450.89,741.008 1454.97,755.91 1459.05,800.893 1463.13,827.917 1467.21,818.124 1471.29,835.952 1475.38,879.162 1479.46,832.865 1483.54,787.077 1487.62,830.639 1491.7,880.261 1495.78,840.449 1499.86,796.486 1503.95,752.555 1508.03,755.918 1512.11,741.856 1516.19,694.318 1520.27,671.48 1524.35,624.886 1528.43,579.05 1532.52,627.601 1536.6,678.404 1540.68,679.166 1544.76,718.636 1548.84,672.201 1552.92,651.725 1557,614.589 1561.09,587.665 1565.17,623.821 1569.25,612.512 1573.33,663.249 1577.41,709.426 1581.49,655.874 1585.57,623.402 1589.66,606.126 1593.74,584.711 1597.82,611.242 1601.9,620.115 1605.98,601.711 1610.06,591.96 1614.14,598.782 1618.22,639.106 1622.31,612.022 1626.39,570.091 1630.47,559.876 1634.55,606.909 1638.63,587.511 1642.71,639.607 1646.79,611.243 1650.88,633.156 1654.96,613.88 1659.04,570.477 1663.12,561.065 1667.2,612.467 1671.28,665.749 1675.36,640.428 1679.45,598.543 1683.53,608.729 1687.61,572.549 1691.69,623.467 1695.77,625.132 1699.85,587.167 1703.93,615.808 1708.02,594.95 1712.1,589.419 1716.18,583.938 1720.26,608.288 1724.34,556.498 1728.42,558.859 1732.5,553.47 1736.59,554.917 1740.67,545.866 1744.75,590.152 1748.83,581.122 1752.91,582.464 1756.99,627.201 1761.07,632.468 1765.16,663.604 1769.24,667.474 1773.32,680.186 1777.4,677.839 1781.48,693.72 1785.56,687.118 1789.64,723.114 1793.73,694.077 1797.81,651.141 1801.89,641.087 1805.97,609.748 1810.05,639.008 1814.13,670.401 1818.21,641.1 1822.3,689.669 1826.38,694.342 1830.46,693.554 1834.54,644.341 1838.62,591.688 1842.7,608.349 1846.78,589.497 1850.87,558.886 1854.95,519.686 1859.03,536.848 1863.11,540.917 1867.19,541.14 1871.27,580.617 1875.35,530.369 1879.44,581.762 1883.52,620.377 1887.6,568.976 1891.68,524.263 1895.76,525.105 1899.84,480.923 1903.92,457.327 1908,457.691 1912.09,450.999 1916.17,406.223 1920.25,455.409 1924.33,498.16 1928.41,476.602 1932.49,475.689 1936.57,488.001 1940.66,541.45 1944.74,546.577 1948.82,590.766 1952.9,559.795 1956.98,601.153 1961.06,577.367 1965.14,619.232 1969.23,664.089 1973.31,633.1 1977.39,657.97 1981.47,707.786 1985.55,696.589 1989.63,699.661 1993.71,681.392 1997.8,707.722 2001.88,714.756 2005.96,724.003 2010.04,702.032 2014.12,660.037 2018.2,661.99 2022.28,679.121 2026.37,728.975 2030.45,725.181 2034.53,736.747 2038.61,739.651 2042.69,763.878 2046.77,710.815 2050.85,690.465 2054.94,690.523 2059.02,703.165 2063.1,731.605 2067.18,713.555 2071.26,753.666 2075.34,780.571 2079.42,809.553 2083.51,802.001 2087.59,779.064 2091.67,771.742 2095.75,819.999 2099.83,769.096 2103.91,801.286 2107.99,812.721 2112.08,790.551 2116.16,821.952 2120.24,771.147 2124.32,806.784 2128.4,783.756 2132.48,746.548 2136.56,764.01 2140.65,761.95 2144.73,722.606 2148.81,694.157 2152.89,696.778 2156.97,658.682 2161.05,681.238 2165.13,651.701 2169.21,615.518 2173.3,582.817 2177.38,572.623 2181.46,621.988 2185.54,579.758 2189.62,610.925 2193.7,647.419 2197.78,621.612 2201.87,613.394 2205.95,665.697 2210.03,680.985 2214.11,726.131 2218.19,724.8 2222.27,690.138 2226.35,730.932 2230.44,725.884 2234.52,732.99 2238.6,774.242 2242.68,825.905 2246.76,815.8 2250.84,866.115 2254.92,865.579 2259.01,907.843 2263.09,913.974 2267.17,960.851 2271.25,985.297 2275.33,1006.61 2279.41,1000.71 2283.49,996.479 2287.58,979.212 2291.66,975.25 \"/>\n",
       "<polyline clip-path=\"url(#clip372)\" style=\"stroke:#e26f46; stroke-linecap:round; stroke-linejoin:round; stroke-width:4; stroke-opacity:1; fill:none\" points=\"255.035,806.636 259.116,803.396 263.197,771.271 267.279,762.887 271.36,811.016 275.442,782.761 279.523,788.25 283.605,774.16 287.686,749.269 291.767,707.082 295.849,715.672 299.93,679.585 304.012,674.262 308.093,635.319 312.174,672.579 316.256,711.321 320.337,715.589 324.419,717.609 328.5,707.059 332.581,666.088 336.663,661.627 340.744,637.147 344.826,622.548 348.907,664.681 352.988,622.376 357.07,630.084 361.151,656.093 365.233,695.754 369.314,676.464 373.396,685.003 377.477,707.68 381.558,681.007 385.64,696.045 389.721,734.394 393.803,699.981 397.884,681.922 401.965,720.743 406.047,690.43 410.128,654.703 414.21,628.415 418.291,581.767 422.372,559.825 426.454,606.633 430.535,645.165 434.617,601.265 438.698,560.238 442.779,540.127 446.861,537.305 450.942,516.591 455.024,471.432 459.105,469.781 463.186,458.849 467.268,501.539 471.349,515.328 475.431,528.967 479.512,581.466 483.594,623.829 487.675,579.693 491.756,599.335 495.838,573.26 499.919,579.953 504.001,541.119 508.082,573.188 512.163,567.345 516.245,531.336 520.326,502.757 524.408,474.34 528.489,482.062 532.57,525.612 536.652,476.158 540.733,491.745 544.815,447.996 548.896,401.95 552.977,395.925 557.059,362.338 561.14,333.487 565.222,326.294 569.303,281.031 573.384,246.024 577.466,220.839 581.547,211.893 585.629,187.952 589.71,139.595 593.792,119.686 597.873,122.75 601.954,87.9763 606.036,137.308 610.117,151.283 614.199,165.223 618.28,160.209 622.361,169.366 626.443,181.522 630.524,169.163 634.606,196.306 638.687,219.03 642.768,225.129 646.85,266.502 650.931,299.306 655.013,344.75 659.094,389.858 663.175,368.124 667.257,363.855 671.338,374.311 675.42,341.02 679.501,291.524 683.583,343.303 687.664,337.473 691.745,288.817 695.827,289.793 699.908,296.418 703.99,346.663 708.071,369.209 712.152,324.568 716.234,354.657 720.315,398.283 724.397,387.36 728.478,436.051 732.559,425.415 736.641,472.167 740.722,518.555 744.804,508.713 748.885,503.997 752.966,485.988 757.048,435.044 761.129,482.162 765.211,523.637 769.292,540.667 773.373,581.84 777.455,532.079 781.536,492.81 785.618,504.582 789.699,534.619 793.781,491.562 797.862,536.396 801.943,543.389 806.025,514.207 810.106,497.395 814.188,467.275 818.269,507.596 822.35,473.315 826.432,503.985 830.513,546.24 834.595,575.304 838.676,572.108 842.757,589.475 846.839,563.523 850.92,565.57 855.002,578.848 859.083,588.762 863.164,640.235 867.246,612.516 871.327,592.118 875.409,616.723 879.49,643.039 883.571,613.279 887.653,663.25 891.734,633.647 895.816,597.481 899.897,558.42 903.979,580.679 908.06,553.819 912.141,602.512 916.223,643.338 920.304,624.906 924.386,573.381 928.467,555.335 932.548,595.577 936.63,592.095 940.711,581.676 944.793,599.715 948.874,564.446 952.955,599.087 957.037,558.048 961.118,519.733 965.2,528.569 969.281,477.384 973.362,478.326 977.444,520.777 981.525,569.427 985.607,534.585 989.688,545.15 993.77,549.916 997.851,557.315 1001.93,562.738 1006.01,561.597 1010.1,613.246 1014.18,590.903 1018.26,631.838 1022.34,580.122 1026.42,601.048 1030.5,610.654 1034.58,630.397 1038.66,617.265 1042.75,597.919 1046.83,646.979 1050.91,645.913 1054.99,616.712 1059.07,589.377 1063.15,624.435 1067.23,666.865 1071.32,713.76 1075.4,662.829 1079.48,637.851 1083.56,665.266 1087.64,630.032 1091.72,629.484 1095.8,662.875 1099.89,624.784 1103.97,607.237 1108.05,652.048 1112.13,634.773 1116.21,602.449 1120.29,608.822 1124.37,662.133 1128.46,659.192 1132.54,615.048 1136.62,624.956 1140.7,646.736 1144.78,664.512 1148.86,641.245 1152.94,693.02 1157.03,692.547 1161.11,736.598 1165.19,736.595 1169.27,718.86 1173.35,751.664 1177.43,764.36 1181.51,769.742 1185.6,721.087 1189.68,671.126 1193.76,662.262 1197.84,640.303 1201.92,621.454 1206,644.962 1210.08,687.825 1214.17,694.368 1218.25,674.434 1222.33,680.768 1226.41,635.621 1230.49,681.91 1234.57,704.088 1238.65,697.306 1242.74,690.74 1246.82,716.634 1250.9,767.88 1254.98,714.827 1259.06,747.772 1263.14,738.612 1267.22,786.315 1271.31,747.768 1275.39,779.728 1279.47,767.389 1283.55,773.989 1287.63,808.756 1291.71,823.147 1295.79,799.487 1299.88,805.538 1303.96,765.393 1308.04,740.627 1312.12,747.109 1316.2,756.248 1320.28,736.116 1324.36,712.934 1328.44,718.581 1332.53,716.117 1336.61,745.192 1340.69,787.548 1344.77,824.75 1348.85,811.024 1352.93,807.973 1357.01,755.483 1361.1,794.093 1365.18,817.319 1369.26,864.851 1373.34,872.126 1377.42,833.963 1381.5,792.271 1385.58,790.184 1389.67,761.09 1393.75,733.087 1397.83,697.592 1401.91,744.972 1405.99,783.049 1410.07,730.701 1414.15,728.64 1418.24,720.288 1422.32,771.144 1426.4,821.454 1430.48,786.443 1434.56,757.763 1438.64,774.979 1442.72,815.596 1446.81,834 1450.89,797.856 1454.97,747.775 1459.05,737.032 1463.13,751.185 1467.21,709.786 1471.29,758.398 1475.38,798.935 1479.46,785.917 1483.54,766.476 1487.62,753.887 1491.7,781.485 1495.78,784.705 1499.86,733.121 1503.95,726.714 1508.03,754.13 1512.11,721.79 1516.19,765.376 1520.27,755.754 1524.35,752.601 1528.43,700.969 1532.52,740.254 1536.6,793.19 1540.68,810.941 1544.76,801.258 1548.84,797.226 1552.92,850.292 1557,832.355 1561.09,849.65 1565.17,896.826 1569.25,899.94 1573.33,851.347 1577.41,839.771 1581.49,788.065 1585.57,798.013 1589.66,775.259 1593.74,820.082 1597.82,834.267 1601.9,853.534 1605.98,844.283 1610.06,806.1 1614.14,856.631 1618.22,818.385 1622.31,824.824 1626.39,838.188 1630.47,874.917 1634.55,891.981 1638.63,927.488 1642.71,919.955 1646.79,967.472 1650.88,958.065 1654.96,974.578 1659.04,1024.64 1663.12,973.445 1667.2,969.732 1671.28,935.615 1675.36,935.14 1679.45,959.612 1683.53,971.971 1687.61,955.327 1691.69,974.896 1695.77,992.649 1699.85,1046.17 1703.93,1086.41 1708.02,1132.03 1712.1,1111.84 1716.18,1072.17 1720.26,1085.69 1724.34,1090.48 1728.42,1131.6 1732.5,1160.61 1736.59,1165.4 1740.67,1161.55 1744.75,1133.37 1748.83,1183.94 1752.91,1184.87 1756.99,1176.39 1761.07,1127.98 1765.16,1165.03 1769.24,1179.23 1773.32,1202.91 1777.4,1165.54 1781.48,1163.52 1785.56,1125.09 1789.64,1140.09 1793.73,1169.04 1797.81,1152.41 1801.89,1186.78 1805.97,1154.73 1810.05,1140.13 1814.13,1158.48 1818.21,1171.08 1822.3,1209.33 1826.38,1260.4 1830.46,1218.91 1834.54,1246.87 1838.62,1259.72 1842.7,1218.96 1846.78,1262.71 1850.87,1303.26 1854.95,1321.73 1859.03,1351.34 1863.11,1370.2 1867.19,1377.01 1871.27,1395.26 1875.35,1367 1879.44,1369.82 1883.52,1391.69 1887.6,1420.89 1891.68,1396.07 1895.76,1389.14 1899.84,1386.44 1903.92,1409.89 1908,1363.3 1912.09,1320.02 1916.17,1358.97 1920.25,1312.75 1924.33,1319.6 1928.41,1369.61 1932.49,1345.61 1936.57,1312.69 1940.66,1321.93 1944.74,1356.59 1948.82,1352.04 1952.9,1326.7 1956.98,1294.86 1961.06,1244.83 1965.14,1268.99 1969.23,1289.92 1973.31,1265.36 1977.39,1231.15 1981.47,1184.14 1985.55,1222.13 1989.63,1195.15 1993.71,1218.19 1997.8,1177.79 2001.88,1195.62 2005.96,1247.05 2010.04,1239.87 2014.12,1240.61 2018.2,1279.85 2022.28,1287.01 2026.37,1239.42 2030.45,1186.46 2034.53,1231.74 2038.61,1247.02 2042.69,1274.73 2046.77,1269.44 2050.85,1278.15 2054.94,1296.62 2059.02,1349.51 2063.1,1377.3 2067.18,1404.54 2071.26,1399.66 2075.34,1445.72 2079.42,1402.89 2083.51,1382.09 2087.59,1362.06 2091.67,1406.84 2095.75,1357.71 2099.83,1309.39 2103.91,1279.43 2107.99,1235.42 2112.08,1189.13 2116.16,1178.33 2120.24,1205.27 2124.32,1153.12 2128.4,1141.66 2132.48,1140.13 2136.56,1133.51 2140.65,1171.78 2144.73,1159.18 2148.81,1163.05 2152.89,1149.49 2156.97,1097.57 2161.05,1050.96 2165.13,1006.58 2169.21,1049.09 2173.3,1027.55 2177.38,1028.94 2181.46,997.149 2185.54,969.93 2189.62,980.584 2193.7,929.006 2197.78,906.096 2201.87,877.455 2205.95,893.694 2210.03,896.298 2214.11,857.964 2218.19,858.867 2222.27,890.108 2226.35,930.182 2230.44,972.381 2234.52,961.786 2238.6,917.487 2242.68,939.027 2246.76,913.286 2250.84,959.201 2254.92,912.743 2259.01,865.584 2263.09,886.161 2267.17,856.075 2271.25,815.403 2275.33,817.414 2279.41,766.861 2283.49,713.325 2287.58,700.786 2291.66,723.791 \"/>\n",
       "<path clip-path=\"url(#clip370)\" d=\"M265.897 1438.47 L534.209 1438.47 L534.209 1282.95 L265.897 1282.95  Z\" fill=\"#ffffff\" fill-rule=\"evenodd\" fill-opacity=\"1\"/>\n",
       "<polyline clip-path=\"url(#clip370)\" style=\"stroke:#000000; stroke-linecap:round; stroke-linejoin:round; stroke-width:4; stroke-opacity:1; fill:none\" points=\"265.897,1438.47 534.209,1438.47 534.209,1282.95 265.897,1282.95 265.897,1438.47 \"/>\n",
       "<polyline clip-path=\"url(#clip370)\" style=\"stroke:#009af9; stroke-linecap:round; stroke-linejoin:round; stroke-width:4; stroke-opacity:1; fill:none\" points=\"289.884,1334.79 433.805,1334.79 \"/>\n",
       "<path clip-path=\"url(#clip370)\" d=\"M471.634 1354.48 Q469.829 1359.11 468.116 1360.52 Q466.403 1361.94 463.532 1361.94 L460.13 1361.94 L460.13 1358.37 L462.63 1358.37 Q464.389 1358.37 465.361 1357.54 Q466.333 1356.7 467.514 1353.6 L468.278 1351.66 L457.792 1326.15 L462.306 1326.15 L470.407 1346.43 L478.509 1326.15 L483.023 1326.15 L471.634 1354.48 Z\" fill=\"#000000\" fill-rule=\"nonzero\" fill-opacity=\"1\" /><path clip-path=\"url(#clip370)\" d=\"M490.315 1348.14 L497.954 1348.14 L497.954 1321.77 L489.643 1323.44 L489.643 1319.18 L497.907 1317.51 L502.583 1317.51 L502.583 1348.14 L510.222 1348.14 L510.222 1352.07 L490.315 1352.07 L490.315 1348.14 Z\" fill=\"#000000\" fill-rule=\"nonzero\" fill-opacity=\"1\" /><polyline clip-path=\"url(#clip370)\" style=\"stroke:#e26f46; stroke-linecap:round; stroke-linejoin:round; stroke-width:4; stroke-opacity:1; fill:none\" points=\"289.884,1386.63 433.805,1386.63 \"/>\n",
       "<path clip-path=\"url(#clip370)\" d=\"M471.634 1406.32 Q469.829 1410.95 468.116 1412.36 Q466.403 1413.78 463.532 1413.78 L460.13 1413.78 L460.13 1410.21 L462.63 1410.21 Q464.389 1410.21 465.361 1409.38 Q466.333 1408.54 467.514 1405.44 L468.278 1403.5 L457.792 1377.99 L462.306 1377.99 L470.407 1398.27 L478.509 1377.99 L483.023 1377.99 L471.634 1406.32 Z\" fill=\"#000000\" fill-rule=\"nonzero\" fill-opacity=\"1\" /><path clip-path=\"url(#clip370)\" d=\"M493.532 1399.98 L509.852 1399.98 L509.852 1403.91 L487.907 1403.91 L487.907 1399.98 Q490.569 1397.22 495.153 1392.6 Q499.759 1387.94 500.94 1386.6 Q503.185 1384.08 504.065 1382.34 Q504.967 1380.58 504.967 1378.89 Q504.967 1376.14 503.023 1374.4 Q501.102 1372.66 498 1372.66 Q495.801 1372.66 493.347 1373.43 Q490.917 1374.19 488.139 1375.74 L488.139 1371.02 Q490.963 1369.89 493.417 1369.31 Q495.87 1368.73 497.907 1368.73 Q503.278 1368.73 506.472 1371.41 Q509.666 1374.1 509.666 1378.59 Q509.666 1380.72 508.856 1382.64 Q508.069 1384.54 505.963 1387.13 Q505.384 1387.8 502.282 1391.02 Q499.18 1394.22 493.532 1399.98 Z\" fill=\"#000000\" fill-rule=\"nonzero\" fill-opacity=\"1\" /></svg>\n"
      ]
     },
     "execution_count": 14,
     "metadata": {},
     "output_type": "execute_result"
    }
   ],
   "source": [
    "plot([cumsum(rand(500) .- .5), cumsum(rand(500) .- .5)])"
   ]
  },
  {
   "cell_type": "code",
   "execution_count": 15,
   "id": "8d598b3f-e4fb-495b-8782-be80a0d64847",
   "metadata": {},
   "outputs": [
    {
     "data": {
      "text/plain": [
       "\"/gpfs/milgram/pi/yildirim/ilker/plot.svg\""
      ]
     },
     "execution_count": 15,
     "metadata": {},
     "output_type": "execute_result"
    }
   ],
   "source": [
    "savefig(\"plot.svg\")"
   ]
  },
  {
   "cell_type": "code",
   "execution_count": 16,
   "id": "de42ac7c-69e1-49bc-a408-3fad2585e3cb",
   "metadata": {},
   "outputs": [
    {
     "name": "stderr",
     "output_type": "stream",
     "text": [
      "\u001b[32m\u001b[1m   Resolving\u001b[22m\u001b[39m package versions...\n",
      "\u001b[32m\u001b[1m   Installed\u001b[22m\u001b[39m InvertedIndices ──── v1.3.0\n",
      "\u001b[32m\u001b[1m   Installed\u001b[22m\u001b[39m SentinelArrays ───── v1.4.0\n",
      "\u001b[32m\u001b[1m   Installed\u001b[22m\u001b[39m Crayons ──────────── v4.1.1\n",
      "\u001b[32m\u001b[1m   Installed\u001b[22m\u001b[39m InlineStrings ────── v1.4.0\n",
      "\u001b[32m\u001b[1m   Installed\u001b[22m\u001b[39m PooledArrays ─────── v1.4.2\n",
      "\u001b[32m\u001b[1m   Installed\u001b[22m\u001b[39m StringManipulation ─ v0.3.0\n",
      "\u001b[32m\u001b[1m   Installed\u001b[22m\u001b[39m DataFrames ───────── v1.6.1\n",
      "\u001b[32m\u001b[1m   Installed\u001b[22m\u001b[39m PrettyTables ─────── v2.2.7\n",
      "\u001b[32m\u001b[1m    Updating\u001b[22m\u001b[39m `/gpfs/milgram/pi/yildirim/ilker/julia_by_example/Project.toml`\n",
      "  \u001b[90m[a93c6f00] \u001b[39m\u001b[92m+ DataFrames v1.6.1\u001b[39m\n",
      "\u001b[32m\u001b[1m    Updating\u001b[22m\u001b[39m `/gpfs/milgram/pi/yildirim/ilker/julia_by_example/Manifest.toml`\n",
      "  \u001b[90m[a8cc5b0e] \u001b[39m\u001b[92m+ Crayons v4.1.1\u001b[39m\n",
      "  \u001b[90m[a93c6f00] \u001b[39m\u001b[92m+ DataFrames v1.6.1\u001b[39m\n",
      "  \u001b[90m[e2d170a0] \u001b[39m\u001b[92m+ DataValueInterfaces v1.0.0\u001b[39m\n",
      "  \u001b[90m[842dd82b] \u001b[39m\u001b[92m+ InlineStrings v1.4.0\u001b[39m\n",
      "  \u001b[90m[41ab1584] \u001b[39m\u001b[92m+ InvertedIndices v1.3.0\u001b[39m\n",
      "  \u001b[90m[82899510] \u001b[39m\u001b[92m+ IteratorInterfaceExtensions v1.0.0\u001b[39m\n",
      "  \u001b[90m[2dfb63ee] \u001b[39m\u001b[92m+ PooledArrays v1.4.2\u001b[39m\n",
      "  \u001b[90m[08abe8d2] \u001b[39m\u001b[92m+ PrettyTables v2.2.7\u001b[39m\n",
      "  \u001b[90m[91c51154] \u001b[39m\u001b[92m+ SentinelArrays v1.4.0\u001b[39m\n",
      "  \u001b[90m[892a3eda] \u001b[39m\u001b[92m+ StringManipulation v0.3.0\u001b[39m\n",
      "  \u001b[90m[3783bdb8] \u001b[39m\u001b[92m+ TableTraits v1.0.1\u001b[39m\n",
      "  \u001b[90m[bd369af6] \u001b[39m\u001b[92m+ Tables v1.10.1\u001b[39m\n",
      "  \u001b[90m[9fa8497b] \u001b[39m\u001b[92m+ Future\u001b[39m\n",
      "\u001b[32m\u001b[1mPrecompiling\u001b[22m\u001b[39m project...\n",
      "\u001b[32m  ✓ \u001b[39m\u001b[90mInvertedIndices\u001b[39m\n",
      "\u001b[32m  ✓ \u001b[39m\u001b[90mPooledArrays\u001b[39m\n",
      "\u001b[32m  ✓ \u001b[39m\u001b[90mInlineStrings\u001b[39m\n",
      "\u001b[32m  ✓ \u001b[39m\u001b[90mCrayons\u001b[39m\n",
      "\u001b[32m  ✓ \u001b[39m\u001b[90mSentinelArrays\u001b[39m\n",
      "\u001b[32m  ✓ \u001b[39m\u001b[90mStringManipulation\u001b[39m\n",
      "\u001b[32m  ✓ \u001b[39m\u001b[90mPrettyTables\u001b[39m\n",
      "\u001b[32m  ✓ \u001b[39mDataFrames\n",
      "\u001b[32m  ✓ \u001b[39m\u001b[90mLatexify → DataFramesExt\u001b[39m\n",
      "\u001b[33m  ✓ \u001b[39mPlots\n",
      "\u001b[32m  ✓ \u001b[39m\u001b[90mPlots → UnitfulExt\u001b[39m\n",
      "  11 dependencies successfully precompiled in 186 seconds. 140 already precompiled.\n",
      "  \u001b[33m1\u001b[39m dependency precompiled but a different version is currently loaded. Restart julia to access the new version\n"
     ]
    }
   ],
   "source": [
    "Pkg.add(\"DataFrames\")"
   ]
  },
  {
   "cell_type": "code",
   "execution_count": 17,
   "id": "61a78b55-b9d3-4f2b-97cf-8d4bbc9f4c1e",
   "metadata": {},
   "outputs": [],
   "source": [
    "using DataFrames"
   ]
  },
  {
   "cell_type": "code",
   "execution_count": 18,
   "id": "7ee80cc8-d99d-4f49-b76d-08737a4d9b74",
   "metadata": {},
   "outputs": [
    {
     "data": {
      "text/html": [
       "<div><div style = \"float: left;\"><span>2×3 DataFrame</span></div><div style = \"clear: both;\"></div></div><div class = \"data-frame\" style = \"overflow-x: scroll;\"><table class = \"data-frame\" style = \"margin-bottom: 6px;\"><thead><tr class = \"header\"><th class = \"rowNumber\" style = \"font-weight: bold; text-align: right;\">Row</th><th style = \"text-align: left;\">A</th><th style = \"text-align: left;\">B</th><th style = \"text-align: left;\">C</th></tr><tr class = \"subheader headerLastRow\"><th class = \"rowNumber\" style = \"font-weight: bold; text-align: right;\"></th><th title = \"Int64\" style = \"text-align: left;\">Int64</th><th title = \"Float64\" style = \"text-align: left;\">Float64</th><th title = \"String\" style = \"text-align: left;\">String</th></tr></thead><tbody><tr><td class = \"rowNumber\" style = \"font-weight: bold; text-align: right;\">1</td><td style = \"text-align: right;\">1</td><td style = \"text-align: right;\">2.71828</td><td style = \"text-align: left;\">xx</td></tr><tr><td class = \"rowNumber\" style = \"font-weight: bold; text-align: right;\">2</td><td style = \"text-align: right;\">2</td><td style = \"text-align: right;\">3.14159</td><td style = \"text-align: left;\">xy</td></tr></tbody></table></div>"
      ],
      "text/latex": [
       "\\begin{tabular}{r|ccc}\n",
       "\t& A & B & C\\\\\n",
       "\t\\hline\n",
       "\t& Int64 & Float64 & String\\\\\n",
       "\t\\hline\n",
       "\t1 & 1 & 2.71828 & xx \\\\\n",
       "\t2 & 2 & 3.14159 & xy \\\\\n",
       "\\end{tabular}\n"
      ],
      "text/plain": [
       "\u001b[1m2×3 DataFrame\u001b[0m\n",
       "\u001b[1m Row \u001b[0m│\u001b[1m A     \u001b[0m\u001b[1m B       \u001b[0m\u001b[1m C      \u001b[0m\n",
       "     │\u001b[90m Int64 \u001b[0m\u001b[90m Float64 \u001b[0m\u001b[90m String \u001b[0m\n",
       "─────┼────────────────────────\n",
       "   1 │     1  2.71828  xx\n",
       "   2 │     2  3.14159  xy"
      ]
     },
     "execution_count": 18,
     "metadata": {},
     "output_type": "execute_result"
    }
   ],
   "source": [
    "df = DataFrame(A = [1, 2], B = [ℯ, π], C = [\"xx\", \"xy\"])"
   ]
  },
  {
   "cell_type": "code",
   "execution_count": 19,
   "id": "a7ab01f2-0e0a-4aa1-8e24-4b0f4600e610",
   "metadata": {},
   "outputs": [
    {
     "name": "stdout",
     "output_type": "stream",
     "text": [
      "\u001b[1m2×3 DataFrame\u001b[0m\n",
      "\u001b[1m Row \u001b[0m│\u001b[1m A     \u001b[0m\u001b[1m B       \u001b[0m\u001b[1m C      \u001b[0m\n",
      "     │\u001b[90m Int64 \u001b[0m\u001b[90m Float64 \u001b[0m\u001b[90m String \u001b[0m\n",
      "─────┼────────────────────────\n",
      "   1 │     1  2.71828  xx\n",
      "   2 │     2  3.14159  xy"
     ]
    }
   ],
   "source": [
    "show(df)"
   ]
  },
  {
   "cell_type": "code",
   "execution_count": 21,
   "id": "11539242-0b32-42d5-a344-74e8ee5b85fa",
   "metadata": {},
   "outputs": [
    {
     "data": {
      "text/plain": [
       "2-element Vector{Float64}:\n",
       " 2.718281828459045\n",
       " 3.141592653589793"
      ]
     },
     "execution_count": 21,
     "metadata": {},
     "output_type": "execute_result"
    }
   ],
   "source": [
    "df[!, :B]"
   ]
  },
  {
   "cell_type": "code",
   "execution_count": 22,
   "id": "7d072baa-36df-4d61-9f2f-f27405d2207c",
   "metadata": {},
   "outputs": [
    {
     "data": {
      "text/html": [
       "<div><div style = \"float: left;\"><span>DataFrameRow (3 columns)</span></div><div style = \"clear: both;\"></div></div><div class = \"data-frame\" style = \"overflow-x: scroll;\"><table class = \"data-frame\" style = \"margin-bottom: 6px;\"><thead><tr class = \"header\"><th class = \"rowLabel\" style = \"font-weight: bold; text-align: right;\">Row</th><th style = \"text-align: left;\">A</th><th style = \"text-align: left;\">B</th><th style = \"text-align: left;\">C</th></tr><tr class = \"subheader headerLastRow\"><th class = \"rowLabel\" style = \"font-weight: bold; text-align: right;\"></th><th title = \"Int64\" style = \"text-align: left;\">Int64</th><th title = \"Float64\" style = \"text-align: left;\">Float64</th><th title = \"String\" style = \"text-align: left;\">String</th></tr></thead><tbody><tr><td class = \"rowLabel\" style = \"font-weight: bold; text-align: right;\">1</td><td style = \"text-align: right;\">1</td><td style = \"text-align: right;\">2.71828</td><td style = \"text-align: left;\">xx</td></tr></tbody></table></div>"
      ],
      "text/latex": [
       "\\begin{tabular}{r|ccc}\n",
       "\t& A & B & C\\\\\n",
       "\t\\hline\n",
       "\t& Int64 & Float64 & String\\\\\n",
       "\t\\hline\n",
       "\t1 & 1 & 2.71828 & xx \\\\\n",
       "\\end{tabular}\n"
      ],
      "text/plain": [
       "\u001b[1mDataFrameRow\u001b[0m\n",
       "\u001b[1m Row \u001b[0m│\u001b[1m A     \u001b[0m\u001b[1m B       \u001b[0m\u001b[1m C      \u001b[0m\n",
       "     │\u001b[90m Int64 \u001b[0m\u001b[90m Float64 \u001b[0m\u001b[90m String \u001b[0m\n",
       "─────┼────────────────────────\n",
       "   1 │     1  2.71828  xx"
      ]
     },
     "execution_count": 22,
     "metadata": {},
     "output_type": "execute_result"
    }
   ],
   "source": [
    "df[1, :]"
   ]
  },
  {
   "cell_type": "code",
   "execution_count": 23,
   "id": "52748402-6e32-4273-8b2d-19fe4651037d",
   "metadata": {},
   "outputs": [
    {
     "data": {
      "text/html": [
       "<div><div style = \"float: left;\"><span>DataFrameRow (2 columns)</span></div><div style = \"clear: both;\"></div></div><div class = \"data-frame\" style = \"overflow-x: scroll;\"><table class = \"data-frame\" style = \"margin-bottom: 6px;\"><thead><tr class = \"header\"><th class = \"rowLabel\" style = \"font-weight: bold; text-align: right;\">Row</th><th style = \"text-align: left;\">A</th><th style = \"text-align: left;\">B</th></tr><tr class = \"subheader headerLastRow\"><th class = \"rowLabel\" style = \"font-weight: bold; text-align: right;\"></th><th title = \"Int64\" style = \"text-align: left;\">Int64</th><th title = \"Float64\" style = \"text-align: left;\">Float64</th></tr></thead><tbody><tr><td class = \"rowLabel\" style = \"font-weight: bold; text-align: right;\">1</td><td style = \"text-align: right;\">1</td><td style = \"text-align: right;\">2.71828</td></tr></tbody></table></div>"
      ],
      "text/latex": [
       "\\begin{tabular}{r|cc}\n",
       "\t& A & B\\\\\n",
       "\t\\hline\n",
       "\t& Int64 & Float64\\\\\n",
       "\t\\hline\n",
       "\t1 & 1 & 2.71828 \\\\\n",
       "\\end{tabular}\n"
      ],
      "text/plain": [
       "\u001b[1mDataFrameRow\u001b[0m\n",
       "\u001b[1m Row \u001b[0m│\u001b[1m A     \u001b[0m\u001b[1m B       \u001b[0m\n",
       "     │\u001b[90m Int64 \u001b[0m\u001b[90m Float64 \u001b[0m\n",
       "─────┼────────────────\n",
       "   1 │     1  2.71828"
      ]
     },
     "execution_count": 23,
     "metadata": {},
     "output_type": "execute_result"
    }
   ],
   "source": [
    "df[1, 1:2]"
   ]
  },
  {
   "cell_type": "code",
   "execution_count": 24,
   "id": "39f0f4b6-f4c2-42d8-bd5d-bc67cf7763d3",
   "metadata": {},
   "outputs": [
    {
     "name": "stderr",
     "output_type": "stream",
     "text": [
      "\u001b[32m\u001b[1m   Resolving\u001b[22m\u001b[39m package versions...\n",
      "\u001b[32m\u001b[1m   Installed\u001b[22m\u001b[39m WorkerUtilities ─ v1.6.1\n",
      "\u001b[32m\u001b[1m   Installed\u001b[22m\u001b[39m WeakRefStrings ── v1.4.2\n",
      "\u001b[32m\u001b[1m   Installed\u001b[22m\u001b[39m FilePathsBase ─── v0.9.20\n",
      "\u001b[32m\u001b[1m   Installed\u001b[22m\u001b[39m CSV ───────────── v0.10.11\n",
      "\u001b[32m\u001b[1m    Updating\u001b[22m\u001b[39m `/gpfs/milgram/pi/yildirim/ilker/julia_by_example/Project.toml`\n",
      "  \u001b[90m[336ed68f] \u001b[39m\u001b[92m+ CSV v0.10.11\u001b[39m\n",
      "\u001b[32m\u001b[1m    Updating\u001b[22m\u001b[39m `/gpfs/milgram/pi/yildirim/ilker/julia_by_example/Manifest.toml`\n",
      "  \u001b[90m[336ed68f] \u001b[39m\u001b[92m+ CSV v0.10.11\u001b[39m\n",
      "  \u001b[90m[48062228] \u001b[39m\u001b[92m+ FilePathsBase v0.9.20\u001b[39m\n",
      "  \u001b[90m[ea10d353] \u001b[39m\u001b[92m+ WeakRefStrings v1.4.2\u001b[39m\n",
      "  \u001b[90m[76eceee3] \u001b[39m\u001b[92m+ WorkerUtilities v1.6.1\u001b[39m\n",
      "\u001b[32m\u001b[1mPrecompiling\u001b[22m\u001b[39m project...\n",
      "\u001b[32m  ✓ \u001b[39m\u001b[90mWorkerUtilities\u001b[39m\n",
      "\u001b[32m  ✓ \u001b[39m\u001b[90mWeakRefStrings\u001b[39m\n",
      "\u001b[32m  ✓ \u001b[39m\u001b[90mFilePathsBase\u001b[39m\n",
      "\u001b[32m  ✓ \u001b[39mCSV\n",
      "  4 dependencies successfully precompiled in 25 seconds. 151 already precompiled.\n"
     ]
    }
   ],
   "source": [
    "Pkg.add(\"CSV\")"
   ]
  },
  {
   "cell_type": "code",
   "execution_count": 28,
   "id": "0f0ba27d-c49d-4663-b240-0017bccfa3e4",
   "metadata": {},
   "outputs": [],
   "source": [
    "using CSV"
   ]
  },
  {
   "cell_type": "code",
   "execution_count": 33,
   "id": "b959229b-c730-40f5-ab5d-8282b61b298d",
   "metadata": {},
   "outputs": [
    {
     "data": {
      "text/html": [
       "<div><div style = \"float: left;\"><span>150×5 DataFrame</span></div><div style = \"float: right;\"><span style = \"font-style: italic;\">125 rows omitted</span></div><div style = \"clear: both;\"></div></div><div class = \"data-frame\" style = \"overflow-x: scroll;\"><table class = \"data-frame\" style = \"margin-bottom: 6px;\"><thead><tr class = \"header\"><th class = \"rowNumber\" style = \"font-weight: bold; text-align: right;\">Row</th><th style = \"text-align: left;\">SepalLength</th><th style = \"text-align: left;\">SepalWidth</th><th style = \"text-align: left;\">PetalLength</th><th style = \"text-align: left;\">PetalWidth</th><th style = \"text-align: left;\">Species</th></tr><tr class = \"subheader headerLastRow\"><th class = \"rowNumber\" style = \"font-weight: bold; text-align: right;\"></th><th title = \"Float64\" style = \"text-align: left;\">Float64</th><th title = \"Float64\" style = \"text-align: left;\">Float64</th><th title = \"Float64\" style = \"text-align: left;\">Float64</th><th title = \"Float64\" style = \"text-align: left;\">Float64</th><th title = \"String15\" style = \"text-align: left;\">String15</th></tr></thead><tbody><tr><td class = \"rowNumber\" style = \"font-weight: bold; text-align: right;\">1</td><td style = \"text-align: right;\">5.1</td><td style = \"text-align: right;\">3.5</td><td style = \"text-align: right;\">1.4</td><td style = \"text-align: right;\">0.2</td><td style = \"text-align: left;\">setosa</td></tr><tr><td class = \"rowNumber\" style = \"font-weight: bold; text-align: right;\">2</td><td style = \"text-align: right;\">4.9</td><td style = \"text-align: right;\">3.0</td><td style = \"text-align: right;\">1.4</td><td style = \"text-align: right;\">0.2</td><td style = \"text-align: left;\">setosa</td></tr><tr><td class = \"rowNumber\" style = \"font-weight: bold; text-align: right;\">3</td><td style = \"text-align: right;\">4.7</td><td style = \"text-align: right;\">3.2</td><td style = \"text-align: right;\">1.3</td><td style = \"text-align: right;\">0.2</td><td style = \"text-align: left;\">setosa</td></tr><tr><td class = \"rowNumber\" style = \"font-weight: bold; text-align: right;\">4</td><td style = \"text-align: right;\">4.6</td><td style = \"text-align: right;\">3.1</td><td style = \"text-align: right;\">1.5</td><td style = \"text-align: right;\">0.2</td><td style = \"text-align: left;\">setosa</td></tr><tr><td class = \"rowNumber\" style = \"font-weight: bold; text-align: right;\">5</td><td style = \"text-align: right;\">5.0</td><td style = \"text-align: right;\">3.6</td><td style = \"text-align: right;\">1.4</td><td style = \"text-align: right;\">0.2</td><td style = \"text-align: left;\">setosa</td></tr><tr><td class = \"rowNumber\" style = \"font-weight: bold; text-align: right;\">6</td><td style = \"text-align: right;\">5.4</td><td style = \"text-align: right;\">3.9</td><td style = \"text-align: right;\">1.7</td><td style = \"text-align: right;\">0.4</td><td style = \"text-align: left;\">setosa</td></tr><tr><td class = \"rowNumber\" style = \"font-weight: bold; text-align: right;\">7</td><td style = \"text-align: right;\">4.6</td><td style = \"text-align: right;\">3.4</td><td style = \"text-align: right;\">1.4</td><td style = \"text-align: right;\">0.3</td><td style = \"text-align: left;\">setosa</td></tr><tr><td class = \"rowNumber\" style = \"font-weight: bold; text-align: right;\">8</td><td style = \"text-align: right;\">5.0</td><td style = \"text-align: right;\">3.4</td><td style = \"text-align: right;\">1.5</td><td style = \"text-align: right;\">0.2</td><td style = \"text-align: left;\">setosa</td></tr><tr><td class = \"rowNumber\" style = \"font-weight: bold; text-align: right;\">9</td><td style = \"text-align: right;\">4.4</td><td style = \"text-align: right;\">2.9</td><td style = \"text-align: right;\">1.4</td><td style = \"text-align: right;\">0.2</td><td style = \"text-align: left;\">setosa</td></tr><tr><td class = \"rowNumber\" style = \"font-weight: bold; text-align: right;\">10</td><td style = \"text-align: right;\">4.9</td><td style = \"text-align: right;\">3.1</td><td style = \"text-align: right;\">1.5</td><td style = \"text-align: right;\">0.1</td><td style = \"text-align: left;\">setosa</td></tr><tr><td class = \"rowNumber\" style = \"font-weight: bold; text-align: right;\">11</td><td style = \"text-align: right;\">5.4</td><td style = \"text-align: right;\">3.7</td><td style = \"text-align: right;\">1.5</td><td style = \"text-align: right;\">0.2</td><td style = \"text-align: left;\">setosa</td></tr><tr><td class = \"rowNumber\" style = \"font-weight: bold; text-align: right;\">12</td><td style = \"text-align: right;\">4.8</td><td style = \"text-align: right;\">3.4</td><td style = \"text-align: right;\">1.6</td><td style = \"text-align: right;\">0.2</td><td style = \"text-align: left;\">setosa</td></tr><tr><td class = \"rowNumber\" style = \"font-weight: bold; text-align: right;\">13</td><td style = \"text-align: right;\">4.8</td><td style = \"text-align: right;\">3.0</td><td style = \"text-align: right;\">1.4</td><td style = \"text-align: right;\">0.1</td><td style = \"text-align: left;\">setosa</td></tr><tr><td style = \"text-align: right;\">&vellip;</td><td style = \"text-align: right;\">&vellip;</td><td style = \"text-align: right;\">&vellip;</td><td style = \"text-align: right;\">&vellip;</td><td style = \"text-align: right;\">&vellip;</td><td style = \"text-align: right;\">&vellip;</td></tr><tr><td class = \"rowNumber\" style = \"font-weight: bold; text-align: right;\">139</td><td style = \"text-align: right;\">6.0</td><td style = \"text-align: right;\">3.0</td><td style = \"text-align: right;\">4.8</td><td style = \"text-align: right;\">1.8</td><td style = \"text-align: left;\">virginica</td></tr><tr><td class = \"rowNumber\" style = \"font-weight: bold; text-align: right;\">140</td><td style = \"text-align: right;\">6.9</td><td style = \"text-align: right;\">3.1</td><td style = \"text-align: right;\">5.4</td><td style = \"text-align: right;\">2.1</td><td style = \"text-align: left;\">virginica</td></tr><tr><td class = \"rowNumber\" style = \"font-weight: bold; text-align: right;\">141</td><td style = \"text-align: right;\">6.7</td><td style = \"text-align: right;\">3.1</td><td style = \"text-align: right;\">5.6</td><td style = \"text-align: right;\">2.4</td><td style = \"text-align: left;\">virginica</td></tr><tr><td class = \"rowNumber\" style = \"font-weight: bold; text-align: right;\">142</td><td style = \"text-align: right;\">6.9</td><td style = \"text-align: right;\">3.1</td><td style = \"text-align: right;\">5.1</td><td style = \"text-align: right;\">2.3</td><td style = \"text-align: left;\">virginica</td></tr><tr><td class = \"rowNumber\" style = \"font-weight: bold; text-align: right;\">143</td><td style = \"text-align: right;\">5.8</td><td style = \"text-align: right;\">2.7</td><td style = \"text-align: right;\">5.1</td><td style = \"text-align: right;\">1.9</td><td style = \"text-align: left;\">virginica</td></tr><tr><td class = \"rowNumber\" style = \"font-weight: bold; text-align: right;\">144</td><td style = \"text-align: right;\">6.8</td><td style = \"text-align: right;\">3.2</td><td style = \"text-align: right;\">5.9</td><td style = \"text-align: right;\">2.3</td><td style = \"text-align: left;\">virginica</td></tr><tr><td class = \"rowNumber\" style = \"font-weight: bold; text-align: right;\">145</td><td style = \"text-align: right;\">6.7</td><td style = \"text-align: right;\">3.3</td><td style = \"text-align: right;\">5.7</td><td style = \"text-align: right;\">2.5</td><td style = \"text-align: left;\">virginica</td></tr><tr><td class = \"rowNumber\" style = \"font-weight: bold; text-align: right;\">146</td><td style = \"text-align: right;\">6.7</td><td style = \"text-align: right;\">3.0</td><td style = \"text-align: right;\">5.2</td><td style = \"text-align: right;\">2.3</td><td style = \"text-align: left;\">virginica</td></tr><tr><td class = \"rowNumber\" style = \"font-weight: bold; text-align: right;\">147</td><td style = \"text-align: right;\">6.3</td><td style = \"text-align: right;\">2.5</td><td style = \"text-align: right;\">5.0</td><td style = \"text-align: right;\">1.9</td><td style = \"text-align: left;\">virginica</td></tr><tr><td class = \"rowNumber\" style = \"font-weight: bold; text-align: right;\">148</td><td style = \"text-align: right;\">6.5</td><td style = \"text-align: right;\">3.0</td><td style = \"text-align: right;\">5.2</td><td style = \"text-align: right;\">2.0</td><td style = \"text-align: left;\">virginica</td></tr><tr><td class = \"rowNumber\" style = \"font-weight: bold; text-align: right;\">149</td><td style = \"text-align: right;\">6.2</td><td style = \"text-align: right;\">3.4</td><td style = \"text-align: right;\">5.4</td><td style = \"text-align: right;\">2.3</td><td style = \"text-align: left;\">virginica</td></tr><tr><td class = \"rowNumber\" style = \"font-weight: bold; text-align: right;\">150</td><td style = \"text-align: right;\">5.9</td><td style = \"text-align: right;\">3.0</td><td style = \"text-align: right;\">5.1</td><td style = \"text-align: right;\">1.8</td><td style = \"text-align: left;\">virginica</td></tr></tbody></table></div>"
      ],
      "text/latex": [
       "\\begin{tabular}{r|ccccc}\n",
       "\t& SepalLength & SepalWidth & PetalLength & PetalWidth & Species\\\\\n",
       "\t\\hline\n",
       "\t& Float64 & Float64 & Float64 & Float64 & String15\\\\\n",
       "\t\\hline\n",
       "\t1 & 5.1 & 3.5 & 1.4 & 0.2 & setosa \\\\\n",
       "\t2 & 4.9 & 3.0 & 1.4 & 0.2 & setosa \\\\\n",
       "\t3 & 4.7 & 3.2 & 1.3 & 0.2 & setosa \\\\\n",
       "\t4 & 4.6 & 3.1 & 1.5 & 0.2 & setosa \\\\\n",
       "\t5 & 5.0 & 3.6 & 1.4 & 0.2 & setosa \\\\\n",
       "\t6 & 5.4 & 3.9 & 1.7 & 0.4 & setosa \\\\\n",
       "\t7 & 4.6 & 3.4 & 1.4 & 0.3 & setosa \\\\\n",
       "\t8 & 5.0 & 3.4 & 1.5 & 0.2 & setosa \\\\\n",
       "\t9 & 4.4 & 2.9 & 1.4 & 0.2 & setosa \\\\\n",
       "\t10 & 4.9 & 3.1 & 1.5 & 0.1 & setosa \\\\\n",
       "\t11 & 5.4 & 3.7 & 1.5 & 0.2 & setosa \\\\\n",
       "\t12 & 4.8 & 3.4 & 1.6 & 0.2 & setosa \\\\\n",
       "\t13 & 4.8 & 3.0 & 1.4 & 0.1 & setosa \\\\\n",
       "\t14 & 4.3 & 3.0 & 1.1 & 0.1 & setosa \\\\\n",
       "\t15 & 5.8 & 4.0 & 1.2 & 0.2 & setosa \\\\\n",
       "\t16 & 5.7 & 4.4 & 1.5 & 0.4 & setosa \\\\\n",
       "\t17 & 5.4 & 3.9 & 1.3 & 0.4 & setosa \\\\\n",
       "\t18 & 5.1 & 3.5 & 1.4 & 0.3 & setosa \\\\\n",
       "\t19 & 5.7 & 3.8 & 1.7 & 0.3 & setosa \\\\\n",
       "\t20 & 5.1 & 3.8 & 1.5 & 0.3 & setosa \\\\\n",
       "\t21 & 5.4 & 3.4 & 1.7 & 0.2 & setosa \\\\\n",
       "\t22 & 5.1 & 3.7 & 1.5 & 0.4 & setosa \\\\\n",
       "\t23 & 4.6 & 3.6 & 1.0 & 0.2 & setosa \\\\\n",
       "\t24 & 5.1 & 3.3 & 1.7 & 0.5 & setosa \\\\\n",
       "\t25 & 4.8 & 3.4 & 1.9 & 0.2 & setosa \\\\\n",
       "\t26 & 5.0 & 3.0 & 1.6 & 0.2 & setosa \\\\\n",
       "\t27 & 5.0 & 3.4 & 1.6 & 0.4 & setosa \\\\\n",
       "\t28 & 5.2 & 3.5 & 1.5 & 0.2 & setosa \\\\\n",
       "\t29 & 5.2 & 3.4 & 1.4 & 0.2 & setosa \\\\\n",
       "\t30 & 4.7 & 3.2 & 1.6 & 0.2 & setosa \\\\\n",
       "\t$\\dots$ & $\\dots$ & $\\dots$ & $\\dots$ & $\\dots$ & $\\dots$ \\\\\n",
       "\\end{tabular}\n"
      ],
      "text/plain": [
       "\u001b[1m150×5 DataFrame\u001b[0m\n",
       "\u001b[1m Row \u001b[0m│\u001b[1m SepalLength \u001b[0m\u001b[1m SepalWidth \u001b[0m\u001b[1m PetalLength \u001b[0m\u001b[1m PetalWidth \u001b[0m\u001b[1m Species   \u001b[0m\n",
       "     │\u001b[90m Float64     \u001b[0m\u001b[90m Float64    \u001b[0m\u001b[90m Float64     \u001b[0m\u001b[90m Float64    \u001b[0m\u001b[90m String15  \u001b[0m\n",
       "─────┼─────────────────────────────────────────────────────────────\n",
       "   1 │         5.1         3.5          1.4         0.2  setosa\n",
       "   2 │         4.9         3.0          1.4         0.2  setosa\n",
       "   3 │         4.7         3.2          1.3         0.2  setosa\n",
       "   4 │         4.6         3.1          1.5         0.2  setosa\n",
       "   5 │         5.0         3.6          1.4         0.2  setosa\n",
       "   6 │         5.4         3.9          1.7         0.4  setosa\n",
       "   7 │         4.6         3.4          1.4         0.3  setosa\n",
       "   8 │         5.0         3.4          1.5         0.2  setosa\n",
       "   9 │         4.4         2.9          1.4         0.2  setosa\n",
       "  10 │         4.9         3.1          1.5         0.1  setosa\n",
       "  11 │         5.4         3.7          1.5         0.2  setosa\n",
       "  ⋮  │      ⋮           ⋮            ⋮           ⋮           ⋮\n",
       " 141 │         6.7         3.1          5.6         2.4  virginica\n",
       " 142 │         6.9         3.1          5.1         2.3  virginica\n",
       " 143 │         5.8         2.7          5.1         1.9  virginica\n",
       " 144 │         6.8         3.2          5.9         2.3  virginica\n",
       " 145 │         6.7         3.3          5.7         2.5  virginica\n",
       " 146 │         6.7         3.0          5.2         2.3  virginica\n",
       " 147 │         6.3         2.5          5.0         1.9  virginica\n",
       " 148 │         6.5         3.0          5.2         2.0  virginica\n",
       " 149 │         6.2         3.4          5.4         2.3  virginica\n",
       " 150 │         5.9         3.0          5.1         1.8  virginica\n",
       "\u001b[36m                                                   129 rows omitted\u001b[0m"
      ]
     },
     "execution_count": 33,
     "metadata": {},
     "output_type": "execute_result"
    }
   ],
   "source": [
    "iris = CSV.read(\"iris.csv\", DataFrame)"
   ]
  },
  {
   "cell_type": "code",
   "execution_count": 34,
   "id": "035391fb-79ea-4412-86e1-0fabd5deee39",
   "metadata": {},
   "outputs": [
    {
     "name": "stderr",
     "output_type": "stream",
     "text": [
      "\u001b[32m\u001b[1m   Resolving\u001b[22m\u001b[39m package versions...\n",
      "\u001b[32m\u001b[1m   Installed\u001b[22m\u001b[39m ExprTools ───────── v0.1.10\n",
      "\u001b[32m\u001b[1m   Installed\u001b[22m\u001b[39m Mocking ─────────── v0.7.7\n",
      "\u001b[32m\u001b[1m   Installed\u001b[22m\u001b[39m RData ───────────── v1.0.0\n",
      "\u001b[32m\u001b[1m   Installed\u001b[22m\u001b[39m CategoricalArrays ─ v0.10.8\n",
      "\u001b[32m\u001b[1m   Installed\u001b[22m\u001b[39m FileIO ──────────── v1.16.1\n",
      "\u001b[32m\u001b[1m   Installed\u001b[22m\u001b[39m TimeZones ───────── v1.11.0\n",
      "\u001b[32m\u001b[1m    Updating\u001b[22m\u001b[39m `/gpfs/milgram/pi/yildirim/ilker/julia_by_example/Project.toml`\n",
      "  \u001b[90m[df47a6cb] \u001b[39m\u001b[92m+ RData v1.0.0\u001b[39m\n",
      "\u001b[32m\u001b[1m    Updating\u001b[22m\u001b[39m `/gpfs/milgram/pi/yildirim/ilker/julia_by_example/Manifest.toml`\n",
      "  \u001b[90m[324d7699] \u001b[39m\u001b[92m+ CategoricalArrays v0.10.8\u001b[39m\n",
      "  \u001b[90m[e2ba6199] \u001b[39m\u001b[92m+ ExprTools v0.1.10\u001b[39m\n",
      "  \u001b[90m[5789e2e9] \u001b[39m\u001b[92m+ FileIO v1.16.1\u001b[39m\n",
      "  \u001b[90m[78c3b35d] \u001b[39m\u001b[92m+ Mocking v0.7.7\u001b[39m\n",
      "  \u001b[90m[df47a6cb] \u001b[39m\u001b[92m+ RData v1.0.0\u001b[39m\n",
      "  \u001b[90m[f269a46b] \u001b[39m\u001b[92m+ TimeZones v1.11.0\u001b[39m\n",
      "  \u001b[90m[4af54fe1] \u001b[39m\u001b[92m+ LazyArtifacts\u001b[39m\n",
      "\u001b[32m\u001b[1m    Building\u001b[22m\u001b[39m TimeZones → `./julia/scratchspaces/44cfe95a-1eb2-52ea-b672-e2afdf69b78f/5b347464bdac31eccfdbe1504d9484c31645cafc/build.log`\n",
      "\u001b[32m\u001b[1mPrecompiling\u001b[22m\u001b[39m project...\n",
      "\u001b[32m  ✓ \u001b[39m\u001b[90mExprTools\u001b[39m\n",
      "\u001b[32m  ✓ \u001b[39m\u001b[90mMocking\u001b[39m\n",
      "\u001b[32m  ✓ \u001b[39m\u001b[90mCategoricalArrays\u001b[39m\n",
      "\u001b[32m  ✓ \u001b[39m\u001b[90mCategoricalArrays → CategoricalArraysSentinelArraysExt\u001b[39m\n",
      "\u001b[32m  ✓ \u001b[39m\u001b[90mCategoricalArrays → CategoricalArraysJSONExt\u001b[39m\n",
      "\u001b[32m  ✓ \u001b[39m\u001b[90mCategoricalArrays → CategoricalArraysRecipesBaseExt\u001b[39m\n",
      "\u001b[32m  ✓ \u001b[39m\u001b[90mFileIO\u001b[39m\n",
      "\u001b[32m  ✓ \u001b[39m\u001b[90mTimeZones\u001b[39m\n",
      "\u001b[32m  ✓ \u001b[39m\u001b[90mPlots → FileIOExt\u001b[39m\n",
      "\u001b[32m  ✓ \u001b[39mRData\n",
      "  10 dependencies successfully precompiled in 12 seconds. 155 already precompiled.\n"
     ]
    }
   ],
   "source": [
    "Pkg.add(\"RData\")"
   ]
  },
  {
   "cell_type": "code",
   "execution_count": 35,
   "id": "041a6768-34e8-4b4e-8c14-2bbf655a9dee",
   "metadata": {},
   "outputs": [
    {
     "data": {
      "text/plain": [
       "5-element Vector{String}:\n",
       " \"SepalLength\"\n",
       " \"SepalWidth\"\n",
       " \"PetalLength\"\n",
       " \"PetalWidth\"\n",
       " \"Species\""
      ]
     },
     "execution_count": 35,
     "metadata": {},
     "output_type": "execute_result"
    }
   ],
   "source": [
    "names(iris)"
   ]
  },
  {
   "cell_type": "code",
   "execution_count": 38,
   "id": "76d2e22c-9696-4014-9b21-fee830ceacdd",
   "metadata": {},
   "outputs": [
    {
     "data": {
      "text/plain": [
       "150-element PooledArrays.PooledVector{String15, UInt32, Vector{UInt32}}:\n",
       " \"setosa\"\n",
       " \"setosa\"\n",
       " \"setosa\"\n",
       " \"setosa\"\n",
       " \"setosa\"\n",
       " \"setosa\"\n",
       " \"setosa\"\n",
       " \"setosa\"\n",
       " \"setosa\"\n",
       " \"setosa\"\n",
       " \"setosa\"\n",
       " \"setosa\"\n",
       " \"setosa\"\n",
       " ⋮\n",
       " \"virginica\"\n",
       " \"virginica\"\n",
       " \"virginica\"\n",
       " \"virginica\"\n",
       " \"virginica\"\n",
       " \"virginica\"\n",
       " \"virginica\"\n",
       " \"virginica\"\n",
       " \"virginica\"\n",
       " \"virginica\"\n",
       " \"virginica\"\n",
       " \"virginica\""
      ]
     },
     "execution_count": 38,
     "metadata": {},
     "output_type": "execute_result"
    }
   ],
   "source": [
    "iris[!, :Species]"
   ]
  },
  {
   "cell_type": "code",
   "execution_count": 40,
   "id": "ea9c0afa-a1ff-42c2-9fad-8b11ec7c81f5",
   "metadata": {},
   "outputs": [
    {
     "data": {
      "text/html": [
       "<div><div style = \"float: left;\"><span>50×5 DataFrame</span></div><div style = \"float: right;\"><span style = \"font-style: italic;\">25 rows omitted</span></div><div style = \"clear: both;\"></div></div><div class = \"data-frame\" style = \"overflow-x: scroll;\"><table class = \"data-frame\" style = \"margin-bottom: 6px;\"><thead><tr class = \"header\"><th class = \"rowNumber\" style = \"font-weight: bold; text-align: right;\">Row</th><th style = \"text-align: left;\">SepalLength</th><th style = \"text-align: left;\">SepalWidth</th><th style = \"text-align: left;\">PetalLength</th><th style = \"text-align: left;\">PetalWidth</th><th style = \"text-align: left;\">Species</th></tr><tr class = \"subheader headerLastRow\"><th class = \"rowNumber\" style = \"font-weight: bold; text-align: right;\"></th><th title = \"Float64\" style = \"text-align: left;\">Float64</th><th title = \"Float64\" style = \"text-align: left;\">Float64</th><th title = \"Float64\" style = \"text-align: left;\">Float64</th><th title = \"Float64\" style = \"text-align: left;\">Float64</th><th title = \"String15\" style = \"text-align: left;\">String15</th></tr></thead><tbody><tr><td class = \"rowNumber\" style = \"font-weight: bold; text-align: right;\">1</td><td style = \"text-align: right;\">5.1</td><td style = \"text-align: right;\">3.5</td><td style = \"text-align: right;\">1.4</td><td style = \"text-align: right;\">0.2</td><td style = \"text-align: left;\">setosa</td></tr><tr><td class = \"rowNumber\" style = \"font-weight: bold; text-align: right;\">2</td><td style = \"text-align: right;\">4.9</td><td style = \"text-align: right;\">3.0</td><td style = \"text-align: right;\">1.4</td><td style = \"text-align: right;\">0.2</td><td style = \"text-align: left;\">setosa</td></tr><tr><td class = \"rowNumber\" style = \"font-weight: bold; text-align: right;\">3</td><td style = \"text-align: right;\">4.7</td><td style = \"text-align: right;\">3.2</td><td style = \"text-align: right;\">1.3</td><td style = \"text-align: right;\">0.2</td><td style = \"text-align: left;\">setosa</td></tr><tr><td class = \"rowNumber\" style = \"font-weight: bold; text-align: right;\">4</td><td style = \"text-align: right;\">4.6</td><td style = \"text-align: right;\">3.1</td><td style = \"text-align: right;\">1.5</td><td style = \"text-align: right;\">0.2</td><td style = \"text-align: left;\">setosa</td></tr><tr><td class = \"rowNumber\" style = \"font-weight: bold; text-align: right;\">5</td><td style = \"text-align: right;\">5.0</td><td style = \"text-align: right;\">3.6</td><td style = \"text-align: right;\">1.4</td><td style = \"text-align: right;\">0.2</td><td style = \"text-align: left;\">setosa</td></tr><tr><td class = \"rowNumber\" style = \"font-weight: bold; text-align: right;\">6</td><td style = \"text-align: right;\">5.4</td><td style = \"text-align: right;\">3.9</td><td style = \"text-align: right;\">1.7</td><td style = \"text-align: right;\">0.4</td><td style = \"text-align: left;\">setosa</td></tr><tr><td class = \"rowNumber\" style = \"font-weight: bold; text-align: right;\">7</td><td style = \"text-align: right;\">4.6</td><td style = \"text-align: right;\">3.4</td><td style = \"text-align: right;\">1.4</td><td style = \"text-align: right;\">0.3</td><td style = \"text-align: left;\">setosa</td></tr><tr><td class = \"rowNumber\" style = \"font-weight: bold; text-align: right;\">8</td><td style = \"text-align: right;\">5.0</td><td style = \"text-align: right;\">3.4</td><td style = \"text-align: right;\">1.5</td><td style = \"text-align: right;\">0.2</td><td style = \"text-align: left;\">setosa</td></tr><tr><td class = \"rowNumber\" style = \"font-weight: bold; text-align: right;\">9</td><td style = \"text-align: right;\">4.4</td><td style = \"text-align: right;\">2.9</td><td style = \"text-align: right;\">1.4</td><td style = \"text-align: right;\">0.2</td><td style = \"text-align: left;\">setosa</td></tr><tr><td class = \"rowNumber\" style = \"font-weight: bold; text-align: right;\">10</td><td style = \"text-align: right;\">4.9</td><td style = \"text-align: right;\">3.1</td><td style = \"text-align: right;\">1.5</td><td style = \"text-align: right;\">0.1</td><td style = \"text-align: left;\">setosa</td></tr><tr><td class = \"rowNumber\" style = \"font-weight: bold; text-align: right;\">11</td><td style = \"text-align: right;\">5.4</td><td style = \"text-align: right;\">3.7</td><td style = \"text-align: right;\">1.5</td><td style = \"text-align: right;\">0.2</td><td style = \"text-align: left;\">setosa</td></tr><tr><td class = \"rowNumber\" style = \"font-weight: bold; text-align: right;\">12</td><td style = \"text-align: right;\">4.8</td><td style = \"text-align: right;\">3.4</td><td style = \"text-align: right;\">1.6</td><td style = \"text-align: right;\">0.2</td><td style = \"text-align: left;\">setosa</td></tr><tr><td class = \"rowNumber\" style = \"font-weight: bold; text-align: right;\">13</td><td style = \"text-align: right;\">4.8</td><td style = \"text-align: right;\">3.0</td><td style = \"text-align: right;\">1.4</td><td style = \"text-align: right;\">0.1</td><td style = \"text-align: left;\">setosa</td></tr><tr><td style = \"text-align: right;\">&vellip;</td><td style = \"text-align: right;\">&vellip;</td><td style = \"text-align: right;\">&vellip;</td><td style = \"text-align: right;\">&vellip;</td><td style = \"text-align: right;\">&vellip;</td><td style = \"text-align: right;\">&vellip;</td></tr><tr><td class = \"rowNumber\" style = \"font-weight: bold; text-align: right;\">39</td><td style = \"text-align: right;\">4.4</td><td style = \"text-align: right;\">3.0</td><td style = \"text-align: right;\">1.3</td><td style = \"text-align: right;\">0.2</td><td style = \"text-align: left;\">setosa</td></tr><tr><td class = \"rowNumber\" style = \"font-weight: bold; text-align: right;\">40</td><td style = \"text-align: right;\">5.1</td><td style = \"text-align: right;\">3.4</td><td style = \"text-align: right;\">1.5</td><td style = \"text-align: right;\">0.2</td><td style = \"text-align: left;\">setosa</td></tr><tr><td class = \"rowNumber\" style = \"font-weight: bold; text-align: right;\">41</td><td style = \"text-align: right;\">5.0</td><td style = \"text-align: right;\">3.5</td><td style = \"text-align: right;\">1.3</td><td style = \"text-align: right;\">0.3</td><td style = \"text-align: left;\">setosa</td></tr><tr><td class = \"rowNumber\" style = \"font-weight: bold; text-align: right;\">42</td><td style = \"text-align: right;\">4.5</td><td style = \"text-align: right;\">2.3</td><td style = \"text-align: right;\">1.3</td><td style = \"text-align: right;\">0.3</td><td style = \"text-align: left;\">setosa</td></tr><tr><td class = \"rowNumber\" style = \"font-weight: bold; text-align: right;\">43</td><td style = \"text-align: right;\">4.4</td><td style = \"text-align: right;\">3.2</td><td style = \"text-align: right;\">1.3</td><td style = \"text-align: right;\">0.2</td><td style = \"text-align: left;\">setosa</td></tr><tr><td class = \"rowNumber\" style = \"font-weight: bold; text-align: right;\">44</td><td style = \"text-align: right;\">5.0</td><td style = \"text-align: right;\">3.5</td><td style = \"text-align: right;\">1.6</td><td style = \"text-align: right;\">0.6</td><td style = \"text-align: left;\">setosa</td></tr><tr><td class = \"rowNumber\" style = \"font-weight: bold; text-align: right;\">45</td><td style = \"text-align: right;\">5.1</td><td style = \"text-align: right;\">3.8</td><td style = \"text-align: right;\">1.9</td><td style = \"text-align: right;\">0.4</td><td style = \"text-align: left;\">setosa</td></tr><tr><td class = \"rowNumber\" style = \"font-weight: bold; text-align: right;\">46</td><td style = \"text-align: right;\">4.8</td><td style = \"text-align: right;\">3.0</td><td style = \"text-align: right;\">1.4</td><td style = \"text-align: right;\">0.3</td><td style = \"text-align: left;\">setosa</td></tr><tr><td class = \"rowNumber\" style = \"font-weight: bold; text-align: right;\">47</td><td style = \"text-align: right;\">5.1</td><td style = \"text-align: right;\">3.8</td><td style = \"text-align: right;\">1.6</td><td style = \"text-align: right;\">0.2</td><td style = \"text-align: left;\">setosa</td></tr><tr><td class = \"rowNumber\" style = \"font-weight: bold; text-align: right;\">48</td><td style = \"text-align: right;\">4.6</td><td style = \"text-align: right;\">3.2</td><td style = \"text-align: right;\">1.4</td><td style = \"text-align: right;\">0.2</td><td style = \"text-align: left;\">setosa</td></tr><tr><td class = \"rowNumber\" style = \"font-weight: bold; text-align: right;\">49</td><td style = \"text-align: right;\">5.3</td><td style = \"text-align: right;\">3.7</td><td style = \"text-align: right;\">1.5</td><td style = \"text-align: right;\">0.2</td><td style = \"text-align: left;\">setosa</td></tr><tr><td class = \"rowNumber\" style = \"font-weight: bold; text-align: right;\">50</td><td style = \"text-align: right;\">5.0</td><td style = \"text-align: right;\">3.3</td><td style = \"text-align: right;\">1.4</td><td style = \"text-align: right;\">0.2</td><td style = \"text-align: left;\">setosa</td></tr></tbody></table></div>"
      ],
      "text/latex": [
       "\\begin{tabular}{r|ccccc}\n",
       "\t& SepalLength & SepalWidth & PetalLength & PetalWidth & Species\\\\\n",
       "\t\\hline\n",
       "\t& Float64 & Float64 & Float64 & Float64 & String15\\\\\n",
       "\t\\hline\n",
       "\t1 & 5.1 & 3.5 & 1.4 & 0.2 & setosa \\\\\n",
       "\t2 & 4.9 & 3.0 & 1.4 & 0.2 & setosa \\\\\n",
       "\t3 & 4.7 & 3.2 & 1.3 & 0.2 & setosa \\\\\n",
       "\t4 & 4.6 & 3.1 & 1.5 & 0.2 & setosa \\\\\n",
       "\t5 & 5.0 & 3.6 & 1.4 & 0.2 & setosa \\\\\n",
       "\t6 & 5.4 & 3.9 & 1.7 & 0.4 & setosa \\\\\n",
       "\t7 & 4.6 & 3.4 & 1.4 & 0.3 & setosa \\\\\n",
       "\t8 & 5.0 & 3.4 & 1.5 & 0.2 & setosa \\\\\n",
       "\t9 & 4.4 & 2.9 & 1.4 & 0.2 & setosa \\\\\n",
       "\t10 & 4.9 & 3.1 & 1.5 & 0.1 & setosa \\\\\n",
       "\t11 & 5.4 & 3.7 & 1.5 & 0.2 & setosa \\\\\n",
       "\t12 & 4.8 & 3.4 & 1.6 & 0.2 & setosa \\\\\n",
       "\t13 & 4.8 & 3.0 & 1.4 & 0.1 & setosa \\\\\n",
       "\t14 & 4.3 & 3.0 & 1.1 & 0.1 & setosa \\\\\n",
       "\t15 & 5.8 & 4.0 & 1.2 & 0.2 & setosa \\\\\n",
       "\t16 & 5.7 & 4.4 & 1.5 & 0.4 & setosa \\\\\n",
       "\t17 & 5.4 & 3.9 & 1.3 & 0.4 & setosa \\\\\n",
       "\t18 & 5.1 & 3.5 & 1.4 & 0.3 & setosa \\\\\n",
       "\t19 & 5.7 & 3.8 & 1.7 & 0.3 & setosa \\\\\n",
       "\t20 & 5.1 & 3.8 & 1.5 & 0.3 & setosa \\\\\n",
       "\t21 & 5.4 & 3.4 & 1.7 & 0.2 & setosa \\\\\n",
       "\t22 & 5.1 & 3.7 & 1.5 & 0.4 & setosa \\\\\n",
       "\t23 & 4.6 & 3.6 & 1.0 & 0.2 & setosa \\\\\n",
       "\t24 & 5.1 & 3.3 & 1.7 & 0.5 & setosa \\\\\n",
       "\t25 & 4.8 & 3.4 & 1.9 & 0.2 & setosa \\\\\n",
       "\t26 & 5.0 & 3.0 & 1.6 & 0.2 & setosa \\\\\n",
       "\t27 & 5.0 & 3.4 & 1.6 & 0.4 & setosa \\\\\n",
       "\t28 & 5.2 & 3.5 & 1.5 & 0.2 & setosa \\\\\n",
       "\t29 & 5.2 & 3.4 & 1.4 & 0.2 & setosa \\\\\n",
       "\t30 & 4.7 & 3.2 & 1.6 & 0.2 & setosa \\\\\n",
       "\t$\\dots$ & $\\dots$ & $\\dots$ & $\\dots$ & $\\dots$ & $\\dots$ \\\\\n",
       "\\end{tabular}\n"
      ],
      "text/plain": [
       "\u001b[1m50×5 DataFrame\u001b[0m\n",
       "\u001b[1m Row \u001b[0m│\u001b[1m SepalLength \u001b[0m\u001b[1m SepalWidth \u001b[0m\u001b[1m PetalLength \u001b[0m\u001b[1m PetalWidth \u001b[0m\u001b[1m Species  \u001b[0m\n",
       "     │\u001b[90m Float64     \u001b[0m\u001b[90m Float64    \u001b[0m\u001b[90m Float64     \u001b[0m\u001b[90m Float64    \u001b[0m\u001b[90m String15 \u001b[0m\n",
       "─────┼────────────────────────────────────────────────────────────\n",
       "   1 │         5.1         3.5          1.4         0.2  setosa\n",
       "   2 │         4.9         3.0          1.4         0.2  setosa\n",
       "   3 │         4.7         3.2          1.3         0.2  setosa\n",
       "   4 │         4.6         3.1          1.5         0.2  setosa\n",
       "   5 │         5.0         3.6          1.4         0.2  setosa\n",
       "   6 │         5.4         3.9          1.7         0.4  setosa\n",
       "   7 │         4.6         3.4          1.4         0.3  setosa\n",
       "   8 │         5.0         3.4          1.5         0.2  setosa\n",
       "   9 │         4.4         2.9          1.4         0.2  setosa\n",
       "  10 │         4.9         3.1          1.5         0.1  setosa\n",
       "  11 │         5.4         3.7          1.5         0.2  setosa\n",
       "  ⋮  │      ⋮           ⋮            ⋮           ⋮          ⋮\n",
       "  41 │         5.0         3.5          1.3         0.3  setosa\n",
       "  42 │         4.5         2.3          1.3         0.3  setosa\n",
       "  43 │         4.4         3.2          1.3         0.2  setosa\n",
       "  44 │         5.0         3.5          1.6         0.6  setosa\n",
       "  45 │         5.1         3.8          1.9         0.4  setosa\n",
       "  46 │         4.8         3.0          1.4         0.3  setosa\n",
       "  47 │         5.1         3.8          1.6         0.2  setosa\n",
       "  48 │         4.6         3.2          1.4         0.2  setosa\n",
       "  49 │         5.3         3.7          1.5         0.2  setosa\n",
       "  50 │         5.0         3.3          1.4         0.2  setosa\n",
       "\u001b[36m                                                   29 rows omitted\u001b[0m"
      ]
     },
     "execution_count": 40,
     "metadata": {},
     "output_type": "execute_result"
    }
   ],
   "source": [
    "iris[iris[!, :Species] .== \"setosa\", :]"
   ]
  }
 ],
 "metadata": {
  "kernelspec": {
   "display_name": "Julia 1.9.2",
   "language": "julia",
   "name": "julia-1.9"
  },
  "language_info": {
   "file_extension": ".jl",
   "mimetype": "application/julia",
   "name": "julia",
   "version": "1.9.2"
  }
 },
 "nbformat": 4,
 "nbformat_minor": 5
}
