{
 "cells": [
  {
   "cell_type": "markdown",
   "id": "617e2da8-0eaa-44a5-abd8-5ea13b0c302b",
   "metadata": {},
   "source": [
    "# Inverse graphics using graphics-based generative models and MCMC\n",
    "\n",
    "## A sidenote on the installation of the necessary pacakges for this lab:\n",
    "Don't run this code (I'm not even sure if you can; there may be permission issues), \n",
    "but we are including it to show how we installed mitsuba3 in our environment\n",
    "which is by using a Conda. If you want, you can follow a similar recipe to install \n",
    "it on your local.\n",
    "\n",
    "```julia\n",
    "using Pkg\n",
    "Pkg.activate(\"myenv\")\n",
    "Pkg.add(\"Conda\")\n",
    "using Conda\n",
    "Conda.pip(\"install\", \"mitsuba\")\n",
    "\n",
    "```"
   ]
  },
  {
   "cell_type": "code",
   "execution_count": 1,
   "id": "60d76e3d-993b-42e8-baa3-2567f78889a2",
   "metadata": {
    "scrolled": true
   },
   "outputs": [
    {
     "name": "stderr",
     "output_type": "stream",
     "text": [
      "\u001b[32m\u001b[1m  Activating\u001b[22m\u001b[39m project at `~/Algorithms-of-the-Mind/labs/lab-05/myenv`\n"
     ]
    },
    {
     "data": {
      "text/plain": [
       "PyObject <module 'numpy' from '/opt/julia/conda/3/x86_64/lib/python3.10/site-packages/numpy/__init__.py'>"
      ]
     },
     "execution_count": 1,
     "metadata": {},
     "output_type": "execute_result"
    }
   ],
   "source": [
    "using Pkg\n",
    "Pkg.activate(\"myenv\")\n",
    "using Distributions\n",
    "using ProgressMeter\n",
    "using Gen, Plots\n",
    "using Parameters\n",
    "using PyCall\n",
    "numpy = pyimport(\"numpy\")"
   ]
  },
  {
   "cell_type": "markdown",
   "id": "19ea281e-790c-4204-8386-a4780f76e566",
   "metadata": {},
   "source": [
    "## Part 1\n",
    "## Mini introduction to computer graphics\n",
    "\n",
    "Computer graphics are concerned with algorithmically tractable methods for representing 3D scenes (static or dynamic) and syntesizing realistic (or non-realistic) imagery based off of these scenes. Rendering is the process of synthesizing an image from a 3D (or a 2D) scene via a computer program. We will refer to such computer programs as *rendering engines*.\n",
    "\n",
    "<img src=\"./images/render.png\" alt=\"\" width=\"400\"/>\n",
    "\n",
    "In a rendering engine, a 3D scene is defined by 4 basic ingredients:\n",
    "\n",
    "* Objects (e.g., 3D shapes and surfaces)\n",
    "* Optical material properties (how the surface of an object is supposed to reflect light; e.g., glass-like, diffuse, opaque, transparent, shiny, etc.)\n",
    "* Lights\n",
    "* Sensors or camera\n",
    "\n",
    "This course is obviously not about developing rendering engines -- see the relevant courses offered by the Department of Computer Science and numerous resources online. Instead, we will program existing rendering engines, embedding them within probabilistic models.\n",
    "\n",
    "To program a rendering engine to create a 3D scene and project it to an image, all you need to do is to provide a description of these four elements.\n",
    "\n",
    "## Mini introduction to Mitsuba3\n",
    "\n",
    "The field of computer graphics developed many algorithms for realistic image synthesis. At the highest level, rendering engines can be categorized into two: rasterization- vs. physically-based rendering. \n",
    "\n",
    "Mitsuba3 is a physically-based graphics renderer. This means that it sends \"rays\" from the camera out into the scene and tracks where and how they intersect light sources. These rays are then integrated to figure out what color to paint on each pixel in an image. \n",
    "\n",
    "<img src=\"./images/raytracing.png\" alt=\"\" width=\"400\"/>\n",
    "\n",
    "Like other rendering engines, we need to input to mitsuba3 a scene (lights, optical materials, objects, sensory). This can be done using an XML file or a python dictionary. We provide examples of both below. \n",
    "\n",
    "In this course, we chose to work with mitsuba3 because it is open source software, and has some exciting attributes (many of which we will not get into in this lab), including differentiable rendering capabilities. In addition, in ongoing research in Ilker's lab, mitsuba3 proved dependable for its numerical stability and customizability for probabilistic inference. \n",
    "\n",
    "Please see the [tutorials](https://www.youtube.com/watch?v=9Ja9buZx0Cs&list=PLI9y-85z_Po6da-pyTNGTns2n4fhpbLe5) and [documentation](https://mitsuba.readthedocs.io/en/stable/) on Mitsuba3's [official website](https://www.mitsuba-renderer.org/) for more. \n",
    "\n",
    "Notice that mitsuba3 is a python package; to use it we rely on the `PyCall` package of Julia, which provides a native interface to python code. You can familiarize yourself with PyCall [here](https://github.com/JuliaPy/PyCall.jl#usage)."
   ]
  },
  {
   "cell_type": "markdown",
   "id": "3892fca1-5563-488d-a192-a1aae333d59f",
   "metadata": {},
   "source": [
    "## Part 2\n",
    "\n",
    "## Getting started with mitsuba3 \n",
    "\n",
    "In this tutorial, we will learn about how to load a scene and render it. Mitsuba3 gives a lot of fun flexibility, especially in terms of rendering. \n",
    "\n",
    "Before we start, let's execute our very first command with mitsuba3."
   ]
  },
  {
   "cell_type": "code",
   "execution_count": 2,
   "id": "07d15c1c-f4c3-405f-9d57-e11f8be50056",
   "metadata": {},
   "outputs": [
    {
     "data": {
      "text/plain": [
       "4-element Vector{String}:\n",
       " \"scalar_rgb\"\n",
       " \"scalar_spectral\"\n",
       " \"cuda_ad_rgb\"\n",
       " \"llvm_ad_rgb\""
      ]
     },
     "execution_count": 2,
     "metadata": {},
     "output_type": "execute_result"
    }
   ],
   "source": [
    "# import mitsuba using pycall\n",
    "mi = pyimport(\"mitsuba\")\n",
    "\n",
    "# different rendering modes of mitsuba \n",
    "# for our purposes, we wish to highlight the differentiable vs. scalar modes\n",
    "mi.variants()"
   ]
  },
  {
   "cell_type": "markdown",
   "id": "00a5ba72-7c31-40b4-92f8-56da50c8f481",
   "metadata": {},
   "source": [
    "Now the output of this function `mi.variants()` tells us that mitsuba3 can render a scene in 4 different modes. We will be using the `scalar_rgb` mode in this lab, which will render a standard RGB image.\n",
    "\n",
    "However, we note that mitsuba3 is a differentiable renderer, and this functionality can only be utilized in the `cuda_ad_rgb` and `llbm_ad_rgb` modes, which we do not explore in this lab. See mitsuba3 documentation and tutorials for this advanced topic."
   ]
  },
  {
   "cell_type": "markdown",
   "id": "b54ade4d-f615-4fd4-9dae-382e80e6d8b9",
   "metadata": {},
   "source": [
    "### Loading and rendering a scene (objects, lights, materials, sensors) in mitsuba3\n",
    "\n",
    "Here we will first set our mode of rendering to be `scalar_rgb`.\n",
    "\n",
    "Then, we will load a scene with with two cuboids in a room with differently colored walls. We will then render it.\n",
    "\n",
    "The scene description will be loaded from a python dictionary based on an example from the mitsuba3 gallery. Run this code and review its output to appreciate how it defines each of the four kinds of elements we are talking about: shapes, lights, optical materials (jargon name: BSDFs), and sensors.\n",
    "\n",
    "`OBJMesh` are the walls, `Sphere` is a shape; things like `SmoothDiffuse` are optical material properties; `emitter`s are lights; and `PerspectiveCamera` is the sensor. Notice how each entry has certain properties: For example an object needs to define where it is in the world (`to_world`) and its optical material property.\n",
    "\n",
    "You can also review `cbox-generic.xml` under this folder to again appreciate what goes into a scene."
   ]
  },
  {
   "cell_type": "code",
   "execution_count": 3,
   "id": "d4ebac51-6a81-42ad-9e3f-7445a3c07008",
   "metadata": {
    "scrolled": true
   },
   "outputs": [
    {
     "data": {
      "text/plain": [
       "PyObject Scene[\n",
       "  children = [\n",
       "    OBJMesh[\n",
       "      name = \"cbox_back.obj\",\n",
       "      bbox = BoundingBox3f[\n",
       "        min = [-1, -1, -1],\n",
       "        max = [1, 1, -1]\n",
       "      ],\n",
       "      vertex_count = 4,\n",
       "      vertices = [96 B of vertex data],\n",
       "      face_count = 2,\n",
       "      faces = [24 B of face data],\n",
       "      face_normals = 0\n",
       "    ],\n",
       "    OBJMesh[\n",
       "      name = \"cbox_ceiling.obj\",\n",
       "      bbox = BoundingBox3f[\n",
       "        min = [-1, 1, -1],\n",
       "        max = [1, 1, 1]\n",
       "      ],\n",
       "      vertex_count = 4,\n",
       "      vertices = [96 B of vertex data],\n",
       "      face_count = 2,\n",
       "      faces = [24 B of face data],\n",
       "      face_normals = 0\n",
       "    ],\n",
       "    TwoSided[\n",
       "      brdf[0] = SmoothDiffuse[\n",
       "        reflectance = SRGBReflectanceSpectrum[\n",
       "          value = [0.725, 0.71, 0.68]\n",
       "        ]\n",
       "      ],\n",
       "      brdf[1] = SmoothDiffuse[\n",
       "        reflectance = SRGBReflectanceSpectrum[\n",
       "          value = [0.725, 0.71, 0.68]\n",
       "        ]\n",
       "      ]\n",
       "    ],\n",
       "    OBJMesh[\n",
       "      name = \"cbox_floor.obj\",\n",
       "      bbox = BoundingBox3f[\n",
       "        min = [-1, -1, -1],\n",
       "        max = [1, -1, 1]\n",
       "      ],\n",
       "      vertex_count = 4,\n",
       "      vertices = [96 B of vertex data],\n",
       "      face_count = 2,\n",
       "      faces = [24 B of face data],\n",
       "      face_normals = 0\n",
       "    ],\n",
       "    SmoothDiffuse[\n",
       "      reflectance = SRGBReflectanceSpectrum[\n",
       "        value = [0.85, 0.85, 0.85]\n",
       "      ]\n",
       "    ],\n",
       "    SmoothDiffuse[\n",
       "      reflectance = SRGBReflectanceSpectrum[\n",
       "        value = [0.105421, 0.37798, 0.076425]\n",
       "      ]\n",
       "    ],\n",
       "    OBJMesh[\n",
       "      name = \"cbox_greenwall.obj\",\n",
       "      bbox = BoundingBox3f[\n",
       "        min = [-1, -1, -1],\n",
       "        max = [-1, 1, 1]\n",
       "      ],\n",
       "      vertex_count = 4,\n",
       "      vertices = [96 B of vertex data],\n",
       "      face_count = 2,\n",
       "      faces = [24 B of face data],\n",
       "      face_normals = 0\n",
       "    ],\n",
       "    PathIntegrator[\n",
       "      max_depth = 6,\n",
       "      rr_depth = 5\n",
       "    ],\n",
       "    Sphere[\n",
       "      to_world = [[0.5, 0, 0, -0.3],\n",
       "                  [0, 0.5, 0, -0.5],\n",
       "                  [0, 0, 0.5, 0.2],\n",
       "                  [0, 0, 0, 1]],\n",
       "      center = [-0.3, -0.5, 0.2],\n",
       "      radius = 0.5,\n",
       "      surface_area = 3.14159,\n",
       "      bsdf = TwoSided[\n",
       "        brdf[0] = SmoothDiffuse[\n",
       "          reflectance = SRGBReflectanceSpectrum[\n",
       "            value = [0.725, 0.71, 0.68]\n",
       "          ]\n",
       "        ],\n",
       "        brdf[1] = SmoothDiffuse[\n",
       "          reflectance = SRGBReflectanceSpectrum[\n",
       "            value = [0.725, 0.71, 0.68]\n",
       "          ]\n",
       "        ]\n",
       "      ]\n",
       "    ],\n",
       "    Rectangle[\n",
       "      to_world = [[0.23, 0, 0, 0],\n",
       "                  [0, -8.30516e-09, -0.19, 0.99],\n",
       "                  [0, 0.19, -8.30516e-09, 0.01],\n",
       "                  [0, 0, 0, 1]],\n",
       "      frame = Frame[\n",
       "        s = [0.46, 0, 0],\n",
       "        t = [0, -1.66103e-08, 0.38],\n",
       "        n = [0, -1, -4.37114e-08]\n",
       "      ],\n",
       "      surface_area = 0.1748,\n",
       "      bsdf = SmoothDiffuse[\n",
       "        reflectance = SRGBReflectanceSpectrum[\n",
       "          value = [0.885809, 0.698859, 0.666422]\n",
       "        ]\n",
       "      ],\n",
       "      emitter = AreaLight[\n",
       "        radiance = SRGBReflectanceSpectrum[\n",
       "          value = [18.387, 13.9873, 6.75357]\n",
       "        ],\n",
       "        surface_area = 0.1748,\n",
       "        <no medium attached!>\n",
       "      ]\n",
       "    ],\n",
       "    SmoothDiffuse[\n",
       "      reflectance = SRGBReflectanceSpectrum[\n",
       "        value = [0.570068, 0.0430135, 0.0443706]\n",
       "      ]\n",
       "    ],\n",
       "    OBJMesh[\n",
       "      name = \"cbox_redwall.obj\",\n",
       "      bbox = BoundingBox3f[\n",
       "        min = [1, -1, -1],\n",
       "        max = [1, 1, 1]\n",
       "      ],\n",
       "      vertex_count = 4,\n",
       "      vertices = [96 B of vertex data],\n",
       "      face_count = 2,\n",
       "      faces = [24 B of face data],\n",
       "      face_normals = 0\n",
       "    ],\n",
       "    Sphere[\n",
       "      to_world = [[0.5, 0, 0, 0.5],\n",
       "                  [0, 0.5, 0, -0.75],\n",
       "                  [0, 0, 0.5, -0.2],\n",
       "                  [0, 0, 0, 1]],\n",
       "      center = [0.5, -0.75, -0.2],\n",
       "      radius = 0.5,\n",
       "      surface_area = 3.14159,\n",
       "      bsdf = TwoSided[\n",
       "        brdf[0] = SmoothDiffuse[\n",
       "          reflectance = SRGBReflectanceSpectrum[\n",
       "            value = [0.725, 0.71, 0.68]\n",
       "          ]\n",
       "        ],\n",
       "        brdf[1] = SmoothDiffuse[\n",
       "          reflectance = SRGBReflectanceSpectrum[\n",
       "            value = [0.725, 0.71, 0.68]\n",
       "          ]\n",
       "        ]\n",
       "      ]\n",
       "    ],\n",
       "    PerspectiveCamera[\n",
       "      x_fov = 39.3077,\n",
       "      near_clip = 0.001,\n",
       "      far_clip = 100,\n",
       "      film = HDRFilm[\n",
       "        size = [64, 64],\n",
       "        crop_size = [64, 64],\n",
       "        crop_offset = [0, 0],\n",
       "        sample_border = 0,\n",
       "        compensate = 0,\n",
       "        filter = TentFilter[radius=1.000000],\n",
       "        file_format = OpenEXR,\n",
       "        pixel_format = rgb,\n",
       "        component_format = float32,\n",
       "      ],\n",
       "      sampler = IndependentSampler[\n",
       "        base_seed = 0\n",
       "        sample_count = 16\n",
       "        samples_per_wavefront = 1\n",
       "        wavefront_size = 0\n",
       "      ],\n",
       "      resolution = [64, 64],\n",
       "      shutter_open = 0,\n",
       "      shutter_open_time = 0,\n",
       "      to_world = [[-1, 0, 0, 0],\n",
       "                  [0, 1, 0, 0],\n",
       "                  [0, 0, -1, 4],\n",
       "                  [0, 0, 0, 1]]\n",
       "    ],\n",
       "    SmoothDiffuse[\n",
       "      reflectance = SRGBReflectanceSpectrum[\n",
       "        value = [0.885809, 0.698859, 0.666422]\n",
       "      ]\n",
       "    ]\n",
       "  ]\n",
       "]"
      ]
     },
     "execution_count": 3,
     "metadata": {},
     "output_type": "execute_result"
    }
   ],
   "source": [
    "mi.set_variant(\"scalar_rgb\")\n",
    "\n",
    "@pyinclude(\"./cbox-generic.py\")\n",
    "\n",
    "scene_d = py\"initialize_scene()\"o::PyObject\n",
    "\n",
    "# load the scene using the load_dict function\n",
    "scene::PyObject = @pycall mi.load_dict(scene_d)::PyObject"
   ]
  },
  {
   "cell_type": "markdown",
   "id": "d04485b4-6d51-4caa-ab3b-98fa84729498",
   "metadata": {},
   "source": [
    "Remember that we mentioned mitsuba3 is a physically-based renderer that estimates the color of each pixel using ray tracing. Ray-tracing is a computationally costly operation and mitsuba3 allows you to make a tradeoff that suits your goals. \n",
    "\n",
    "The parameter `spp`, which stands for samples per pixel and is input to the `mi.render` function below, is essentially the number of rays cast to compute the color per pixel. The choice of spp reflects a tradeoff: The greater the spp, the higher the quality and realism of our render is, at the expense of computational cost. You can reduce spp to obtain lower quality renders, which is often acceptable, especially for characterizing an approximate process of rendering that may be implemented in the mind and brain. (Regardless, this will be handy when we are doing probabilistic inference later on.) "
   ]
  },
  {
   "cell_type": "code",
   "execution_count": 4,
   "id": "48486f93-c71e-49d0-9df5-d17d08d07efd",
   "metadata": {},
   "outputs": [
    {
     "data": {
      "text/html": [
       "<img src=\"data:image/png;base64, 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\"width=\"250vm\" />"
      ],
      "text/plain": [
       "PyObject Bitmap[\n",
       "  pixel_format = rgb,\n",
       "  component_format = float32,\n",
       "  size = [64, 64],\n",
       "  srgb_gamma = 1,\n",
       "  struct = Struct<12>[\n",
       "    float32 R; // @0, gamma, premultiplied alpha\n",
       "    float32 G; // @4, gamma, premultiplied alpha\n",
       "    float32 B; // @8, gamma, premultiplied alpha\n",
       "  ],\n",
       "  data = [ 48 KiB of image data ]\n",
       "]"
      ]
     },
     "execution_count": 4,
     "metadata": {},
     "output_type": "execute_result"
    }
   ],
   "source": [
    "# set spp to 12 -- play with different values\n",
    "spp::Int32 = 128\n",
    "\n",
    "# render the scene\n",
    "image = @pycall mi.render(scene, spp=spp)::PyObject\n",
    "# get the bitmap, which Jupyter notebook displays inline!\n",
    "bitmap = @pycall mi.Bitmap(image).convert(srgb_gamma=true)::PyObject"
   ]
  },
  {
   "cell_type": "markdown",
   "id": "94fc0eb3-d5a6-4acd-b9d0-54e60cc7131f",
   "metadata": {},
   "source": [
    "Wow! How cool is that?! You just rendered a nice scene with umm spheres in it. Yay for you! "
   ]
  },
  {
   "cell_type": "markdown",
   "id": "a7999828-d966-42d9-bc2e-a14099f33cd2",
   "metadata": {},
   "source": [
    "### Transformations of scene elements using mitsuba3\n",
    "\n",
    "Now a critical component of computer graphics is to manipulate the scene -- including adding, deleting, changing, moving (translating) and scaling the things in a scene. Here we will learn how we can translate and scale one of the cuboids in the scene. \n",
    "\n",
    "There are multiple ways in which one can transform the scene elements. See this mitsuba3 [tutorial](https://mitsuba.readthedocs.io/en/stable/src/rendering/editing_a_scene.html) for an approach we will not use in this lab.\n",
    "\n",
    "The approach we will take is to update the dictionary that contains the scene configuration -- `scene_d` using mitsuba3's [transformation library](https://mitsuba.readthedocs.io/en/stable/src/how_to_guides/transformation_toolbox.html#Transform). \n",
    "\n",
    "We will transform the sphere on the right -- `right-object`. \n",
    "\n",
    "Let's first see the entry for `right-object` in `scene_d` dictionary."
   ]
  },
  {
   "cell_type": "code",
   "execution_count": 5,
   "id": "81563dd2-7ca1-4c6d-bc89-a12a1084e78f",
   "metadata": {},
   "outputs": [
    {
     "name": "stdout",
     "output_type": "stream",
     "text": [
      "Dict{Any, Any}(\"to_world\" => PyObject [[0.5, 0, 0, 0.5],\n",
      " [0, 0.5, 0, -0.75],\n",
      " [0, 0, 0.5, -0.2],\n",
      " [0, 0, 0, 1]], \"rightobject-bsdf\" => Dict{Any, Any}(\"id\" => \"color-sphere\", \"type\" => \"ref\"), \"type\" => \"sphere\")\n"
     ]
    }
   ],
   "source": [
    "println(get(scene_d, \"right-object\", true))"
   ]
  },
  {
   "cell_type": "markdown",
   "id": "5428afd4-5eca-45de-a1c4-a8a57a626bdd",
   "metadata": {},
   "source": [
    "The PyObject which is a 4x4 quantity is a combined transformation consisting of the size of the object and where it is. \n",
    "\n",
    "Scale: `[[0.5, 0, 0], [0, 0.5, 0], [0.0, 0, 0.5]]`\n",
    "\n",
    "Translation: `[0.5, -0.75, -0.2]`\n",
    "\n",
    "Let's assign a new size and modify the z-coordinate of its location."
   ]
  },
  {
   "cell_type": "code",
   "execution_count": 6,
   "id": "3c805a57-4dfe-42eb-8563-2d45968c2a2b",
   "metadata": {},
   "outputs": [
    {
     "data": {
      "text/plain": [
       "PyObject {'to_world': [[0.25, 0, 0, 0.5],\n",
       " [0, 0.25, 0, -0.75],\n",
       " [0, 0, 0.25, 0.7],\n",
       " [0, 0, 0, 1]], 'rightobject-bsdf': {'id': 'color-sphere', 'type': 'ref'}, 'type': 'sphere'}"
      ]
     },
     "execution_count": 6,
     "metadata": {},
     "output_type": "execute_result"
    }
   ],
   "source": [
    "object = \"right-object\"\n",
    "# create a new transformation\n",
    "translation = [0.5, -0.75, 0.7]\n",
    "scale = 0.25 # we will make it a cube\n",
    "\n",
    "# now create the transformation using mi's transformation toolbox\n",
    "t = @pycall mi.Transform4f.translate(translation).scale(scale)::PyObject\n",
    "lb = PyObject(get(scene_d, object))\n",
    "set!(lb, \"to_world\", t)\n",
    "set!(scene_d, object, lb)"
   ]
  },
  {
   "cell_type": "markdown",
   "id": "68b3e13a-ec1c-46f8-94ed-98cff80ee0c1",
   "metadata": {},
   "source": [
    "Now let's reload this updated dictionary into our scene and render it."
   ]
  },
  {
   "cell_type": "code",
   "execution_count": 7,
   "id": "810826f7-188e-4dcb-8cbf-2f2f296d2f44",
   "metadata": {},
   "outputs": [
    {
     "data": {
      "text/html": [
       "<img src=\"data:image/png;base64, iVBORw0KGgoAAAANSUhEUgAAAEAAAABAEAIAAAB1mzrKAAAABGdBTUEAALGPC/xhBQAAAAFzUkdCAzfHTVMAAAAgY0hSTQAAeiYAAICEAAD6AAAAgOgAAHUwAADqYAAAOpgAABdwnLpRPAAAACR0RVh0Z2VuZXJhdGVkX2J5ACJNaXRzdWJhIHZlcnNpb24gMy40LjAi+xe2MAAAIABJREFUeF7sulWQ1cnSPboyq3577+6mgcZdBwYGGdwH18G9cR1gcBgY3N1tcIeBwQZ3d2m0cXe3hqZ1719V3odz5jvfuRE34kb8H+7LzZd6rVirVq7MFQX8//X/adG/z3woC6+H1RkcUU1pBM1Uz6kmZiAWp3AzkNluksLyAhMQ6huv/uBsgZ3WJ82cjKoHpeOVFInOiKE4qmPibYQUpZUSjus0ihtRpUC0aWyr6S+cjfy6i9pF2d0tpqFsRVfZi9F6GxfDF/eT/Rl9JAPFItoUMJ2ksspBIQhX6fCAGrgF0VTyUAn5hiz0u0zGE37MO2mT3qrjaEgghYmWg5LGrJGS5ONJaM35VE4u42a2k+1nxMgkqqkaSxmZoOqpCpRoessW7JIx2IVz2CwHcM712YJSyHFVF+orwyQHpnJaOox8xif18Zxz0wLkla1yBhvsKekivWUtnqKISsZDUNt9a87jB5UHz1GIZvNGrJVKqEa1KC31RwE2nAEL3U6uVyZhJ91CFSmPYsgXuz7QUZpJEzTHXv1vAs6SRuYMkSl6eY6FHQ/u77vhS+877nRDKHXCNrew2WHr2G9yV37T+SW5TFMjnT/0BT2Ih/I22xkrhd0fTT5bQl1VDVR2WiappZpnu6eqXh9gt6f5Ts5aLQ+d1zSQZ/IH9Z6N6WG95qZEyGlUMO2Mz+zRhbiZGke9JQ4rpCflwT4nwIM5S6AeUtqm3MnWpWq6j+1o87pH5BVSBG8IqentG+geWGWU05O64ffAcVveRvszYjWi5aGtgRDnuWRFSbQ3802oPux5pdPIPGpKWf0Rbka3p+rH97g8l7VrZBcN5fz8uzksd6UriXSR3RhNkdSMd9u9skzS4ZaMDMyzs2w+3yvnnJMQ+GSf2DcUgbsweimIPtuy2Cm/eDbqZDrO3SMzYf29A7ndFomDE54l1paG9JmWfCsel9Zf6h5/zB8/PgEC7P23Aji1moQ6qWakqaxapxrnXebZnRJB7UJiya8MpUI3pJfFdp8MQl2niKeRPuKs5Jt0Xg6YCfLKvSRp3Gwqkcuxq+rLElUkMFsaW5/TTXXlJzoVF+GDNk7GSjv6k25gL6dWuzktT5IV9Ixc+lkCZrHLEsYeHsDL8FlG43jgcuBwINLposarLvKLxEhOdVJfVzWwyLLNqZ9QDv470MUWkBm0kDNRXr2amlCI6U8JyIonpoyFDJVeMlA6B8JtP7vG9DPbFDsN9Fl9jPZSR0oklxL9yQJF3EYhA7znPGuNwUtkZK8slzoJL8xes4/XyBMs0/fVaXpr97gX7EUcV6IiqQsGY5LJYF7Yb/qM94bTyr87MDewBVsRTEOc96oq1whMDQx0ya1iZtmW/oqJWwP07ey31Qn14i58GZWQ+n5Lf1b7JG4EhuLKvxUgu7EUfjeYW2LJl0LUKTBIjYhPiH+bsnzojZDFiV/cxy7kCXrJ1GSF9QFPajlFU2kU1VOpkTm4m0rvfJITZr09n9jQP9Nd6HujN6vRKsSpzR+lt01iq6lvGEJwV5ksdoHSsh4T5R39LfGekc5pHeZU1Rtx3D1mwkxqGoj51Ja/V8mdI8wqI03gI+KjyxIXSGHeqVfej04sj5Zf4eVo6SuPdGNurobqFRxDtxKeuPfdYoEm5m8sp+t0g0J9HYJfeF+bbImPAjX1DeegHqQycDLKRK/Qi057O6q5agcnqPp0hm6ZevZTYrPAUzeJp5hmvYWO2bw2pZNVFdLDA1tln+uVHCBpQcPho4/2SaCEmWdTUXH6bPO54SYoqJf3rccbuOXf734yY20Nu8E9bubY4/JroLjda89/3Z1wTc+QQmggk/EeQf9++v+2gim4gqRaObXovEzgYsj4aQ1NS9z15Xv/nYTRqjll4/TOFlWKpyZ+dAu5KzkbXOzTq/gY9ZXSeI4ONotuyKf1777rup13fshMz+VAZaljG/jq+Gp40zs5PIX1efXIGc+9nWHOb6q9N6murIoGFiODvPJ1cProJWGhwcOC1wYv80Q5ab0p1TzVJGgBx6nUziCl1U6dzrNQx2An4lBLDtM2xHt+0itU/kCUueOGB6YFLrtt6YZ7w0YlaacHOxdCCnqaOl3UYNpPb4LfBNXzrAgu5yRT5d2DboTJwUdUFP3h+eQ5rvZRGspOV20bJKCm01v7OIOzi1dRJdWFX3NZeSJ75YuXnL91EecPOkxJ1AjMQR3vLm9pXckb6USoJr4dnlT6rQn2rwoM1vU4LV1zjjrZNSW2ibmbkDkQ/jFrTAbnhrzEQa5Ii/ETvUKSf9z33wqgCboC6vIzJw9lZR9ngY9WSQ1UiHomHxLKOdlkBH3w9KR4/QGtVTHu7h+Fnjat7xG/Vk+chp7kipHBdkJuTz09wpM24ZExZoHTVd9SpZ2XvIjaSBYhqNB430Dva9sQq3CaV0lqPPV+R58og9Nfr+ZTthNyyxJupYKopHOU/PqYyovCUlg9V7NUjsBqM8P8TQ/kDvZ7jqhw9khmKYsdvEHV5THqExQqS3Xzl3zVYbSDTkhKLk6FAtfcYaalp4pOVEUxxx1mKzu3dTsO4vT8ka46ByU1lKeHs1MNkxxyzZ53ZvAsfQoDcQtiy2GanNfRnIoUvkl3VPSvR0oZor7TC3VJqSEvJDNcVERL56PnmXPQf5Yj+G//w8BUVyecid2csAopomLjO6oSdrpUQ37+kz66A+1F6SARmIQL/6UAFLKL8Apl0RFF1FG9mHvzC+9XLkvNvSvp1ucA/5Fwwv8UMfaySSft5T3v4ba0hvbxXipr+iFKTtpKlEZa2Am2me0d/Jsnn74XfNH3vVPUWejcUoeTFg+64LU6hf6gRlM1dZXeO0c8o9U2LcrhwzjJt6mZ551TSWVyUquS/Dioc1An54fAPQyX3qoth1BqdYR60bDgmkEPvPFyFBnRRvmddWqXty7H8wHnN6rKE5wbXI762BJyW5o4bVEYD0Mqev5wLJdVf3EzGskZqLV3rlqr7np/51Y0g59QLdql/ZyEY5Icdn5yjnrfeb44+XQQ5+GX3o9cWK30Pqe8HKGr8gnu7VTTv+kp6pCnmqrlvOPXXNtXQS9XZXSAk1ByZxj3pD/jM307kJAJw9+1/lbGqS235ZAzifNTiEpP82knCtIoKi3fIRTq30//X4cKdyZiTJrR2as4/YK7hTpOWpkp92UAGqM2jBS2DSSEnrpzcCD1cpUmyEkbnWR+kh38u6pFL516ziZdRS2Qn+Rv9ViN4tvmmuSTD56rKkFVQDfZg0HqEYPb2/ruUfuGilEk7gZyuV3NcGeM7qbz6DGekzoDLbORUsg/NLDH3Ald6C3qSTrv4u5sF+oBQPBo/B9U7yJVnTyR8ti6uMZf1EAeKJ/tfHsrsDsxfSCZOsNxXM2uwCiJoZXmmq1MbewymaWWcnvea47wGPohMMn90ZzxTeKUaih14Uc0yZ/Wn93dRgc4I7WOexTYb67Fx0a/jusR1/Pt2a/PdX25hSm2PHbiMiogLzLLCXRHgZh35qkdc6lUfAXTMXowcmLLPyZcTH5GNPfnbjRLcsOVJ7xBf6BEyk+KxtFL1McXO0MnysVP10yXhKpO44Q/dd40D4JLBT00U8wLk9y8wjScDDng+Uvl4A12DuWzifah3W5z4o0dwYNkn9OPVqGRXHTy6a/qlX7jrFRuoJNpZ+dIczfMbaFTeNc6oaqJaWOruBOMa24C/6fQ/6vUj3YWVtNKlYVDuZzuyb+7IwMeme8Yz2nHxSvkkP08UX6VC9yTCtNJSi0fqDfiUFcCMknN4pTeQShNyVDfDpMNnBrdcA6X+EeKTPzDvyZQ7NuAqAWx4bLiY+WYG0m30xXaKdW5IMUbV1pL78QLskJyiQhwX4Pe0WJ1HxmR7l93+6cFpacopKEjnI4m0zLcRjI6QfWoBw/Wa2mweufxcHN93Luaz6rvgx+qrx+nomhcxs8d4hrGv3RzB66ZaUEv9G5dN9DOjTReXo018OvhqplK5jTg57oG3aEkMktl0FPUb/xezVXFsFYuoAHvQyqaTJc5mM87uziXWuJd7nmv6/NZfkXzAeDGmP8HVP9f16NNepxnqD5gs0uChNrZ7ljzhrtKqOz31vIW1MN0eo7kzr5LvE4N1MO4CX8zC+kwnpjU9pItxMrMsTf5JDWn65IWa0Xsc7tPmpiWpoL9JfrrlzpxKZHn88vYmUH76R499UzivjTNM49XkOPdyh+pmspL+ekOvaGhaGrPynf4222L83j7r9v9Y8JTaSuCUZWeoAgm8n0OhsO7qBsf0g95FvWlpBirQp1GfJJq8AnsMZZ/t3Xe1onvEXsksDs+r+wLWuc8dZKbrahh0+mq6kc6pnMglF5xDe5OU6k8vuKhxGA79qGi5JQ2qoc6yZv0TbVYHuq8UpVOcgtz0jqqJ9piGR6rWfx6dKqOJXu07TGgizRIyddVda7lW+0NOOlCMiXxBdWIHvKlQExV+oUycKXQHGGtQu8BYdFJVsc3eNrr7cnoMd9yx3VbXG7+vK0F+Xt8ope+aLWHm9jaiIUyU8xzM9AmMUWkHvqYH2xL97nUlqJy00bZJk4p/acuZ36z2exRFeZU0IcDmdxge9/cMOlknZtZMts8cT2je8aX1Pc/14+dFlKKO/JA7kU7aAv60lw47mqJlGlIS29JnJ1IxFt+apfjqf88xyIBPyIYzn8TEMbjUZE36vKUnPrxFSzm6eo+7WCl0lJp2qd+pWW8mg9SEN/iTpSL6tILGm47cVnU/RwUY+JqyNYvXe3iNLuCpgZHBO7r5PgBKXV/ui65lFeSe+5wuDrraalDeJ9/rnvP7e97oi86n6StXES0+co98AybcE1eUSu7XtbhDldF69iYqELRGScfGt9rZSm3g7STffooNaEDKEbj6IkEIx+KSFq7RnoEpVaR6qSUNR/sKzNWLskZnMYB9JZWcl+C1DV1gztQOvmqzvN6O9hep1/1Fi4nfWQKjnJBlUJ9Na40slv80dIfZ3BWXsghs97MtemwyM1t+iJOOkpk4ARKyKFvq788i02PFx+KR18IuURBlNRbWB3jJLol/USzdRcKo1VxV21RmyuQXS5JduclL0NrfoTNCOVuZpjk098jPTLg0v8iAI4UxwPVlp/STs1OPT7D7/VFPqD2qW3UjbrwKvqsftFZuSdVUTNwht/zApXfOEiN43acL0L8H0bHVIh/xEPjNCVPPd7z3LsEGbzTMJlvS3L+aFfzrxIWf9NtFHBMettZDtmZ7jMp7mRRXpUFXlSAa2/QfKrF1aQj/mDwLZoQu8/dkhjk66unO4n2Q6CDaeEO4Yw83ea1t01KVVst4t4ohJY4kDDW7/jnimuTSEpZJX+hlT6jl6uD7l03YPLaX2iyzSsppD1uyUIpL/XtJYmQK3aZKSKDnO66HHf030rc7j6U49QCTRO6Bt6a206MOxv54jIHFif+JFcpBknjM3+tE/dBfnmbJHpDcB+6TAhKcBrx985Qvsmd9V7eQ61lnhyBnwvRDlqlauE5curZCMNj9wQipZmso+xIyespF1LikuB/piBdxlcTFzMuz1MvaJqvechgHalne7vyKnVC3+Fp/FFpSqlre1/xTNpCs2gCv2IfTXeDEh65b93l/n62QUKx6ML+5tItZrGtlFlxndC4pMoX750QuCbfbHVZbm/I5aQ5gmN9XhNJ2WWHuWEWmNu8DBeplaxGATQKyqZvale1VN3UQlpHb1HTpDV3zDoORhbKjYd4ha7yHMepBcH0sBWpsT5Il5279Ib/4qW2HVgeUnaKMu/dAm4SRNmJsluaqnqcw6ktu/HU3WBm2rU8napQrUBSU9tGyBv5SdZLFnPdhthIe9meNEOkAA7A4Wa0Fw2MFidQ1lY2uxOrm5b2tIp5U+arJzS7iZXY4Jo6Xl1OssnppZrraJrHA/QmeolzgWUSizyxG20HY2xv+wIlE/Nbsg0Tn0tzoag+gTQm/9lusZsDF6KqSyLG/zMFzUQWgLfo7lSOOvMU2gcfUqEYBfEospxPr6dJarq6yrX4EsdSHB7wMfypL/g8OjNawnHXqwGeMDUYa73v+Z03VF/2ku7q3NPd6BvGynJPHTWDi+lueroq681Cf/OewHCT2g7So/g57VbVnME6RF2hmbQw6C/vYWeu3WW/yARaYm/aZ85mPVFPsLcBRHAOfEUJipHFiNKtVTveHzjnTjcXuBz1QVf/KpNZJqic9BM9xg4bLmclEQUlkp9RJK3xLwrsc8dxOzNGkviC6AKGupvMBavFNcFS0z/AfrLBtN2Us1spBaWkA6ZN4rTAHRVkDf9MSWzpwG5bmipRO095lYyeBl1U63hxcC4VqlrjA86hFf1B/eDa5HaX3PdmpM/cJ34DdbelMZwuoDY7UhJv9TV6SzWok0SjPwDvfzzgLq1GCr6LIshAG6kjFvBvqif5+bSKpYBiHeAFtIx/oreqoLOILqAMhVBVbMAR+xtd4mbkV1Odb5yPhnmbyC09iUeqxzrWt9A5r1/SZ4zXMzCeK/N+fY3+cHqoa2qoJ1Ra0EVVg700wftSf9EHVEedqAbTMGqKsc48fV594WrSAqFoqRZyBeQ1U+Ql/8X3aTUe0mXq6ixEb1ywdezPcgWv6QheuAttVQngoa0srSQM2VFMHbd3JZ5OUl+kTHzkBps9dqCpZBtyXvjxzjjuSNvHPz6Q3L2u39tCUli62D32tR1hatl1Kg1H8ATaZOPlCYVxX8oh/fkAZ3TqST9pHtRHreOU6jINpBwqDfloNw3FLVyVFvyd3WxXITu+Wg/K0wz/YrlFPSicHmEvnlEAFaQXpYPCbPlfJvyAW1NRPKLDeIV0tAD3pIDUxSlsxyS8oqxUB0PpBmVHdrLqIL2T6RKNXbSKMlNe3uHs4rGKnSYchNaB3+1aDzlrdX31Wk9UYZ6VqpPq5JAqyS9kCCWjwt4Mqj7vUMGqr5qmflP7abZ3pOrvVMExPJHTTnM1iB2VXb1WGu9QGwecMXyTV6m73Iv3yjtMwkX9XHXmragn0yU9XSGXvpoESS0v0EW2SEGcsBckzqy2baSCpLXvJVI6yc9y2FNY8ssw+9wdZhf5U/vru++dSTpeGuj2jlcXl1y2sZ3vnnBP2qbuGLe4yW1f2mG2A6a4sSYFXQ1cUxW4FM+hcSGNcJ9SYBxdoHA9lQZSHDfkvPRNQqWzDKFN8id1tzcxU3KjDspRcTqGfJjNR9EXtTkPaiEBU3EaTzH7f5mwhNgEuYx61JC6keWvJPSUatJJ+oVeYYIsl5dYJF0wFpdRFLlQlfeqIDouxSUbgvQb5xqXs4U9TzmfnAgcpimcRZdQx/UilV5Zdc1R2q/WqHzcVXlxkXJ7ljtf1S3t6Kt8WU9S+VQS9Y6qcRe9jRZzDieNLs4rVWV9VU1SO8jL/akHvKivSvAA2obRNIOmO5e5EV+jlWiBBEmLqVJNhthc8k3yYyRyUAu6SM/c6u4w81JKmsEywp9gEkwvHLCZpZ37Wrq5UzwZvHudHhSFW7LU08VG2qE2q7vNXvIX4c+msSrICZQ/sMt/162HMP0EwXRen1KtbT91gdPpKDtUkqpatITe4BxeIkGNxEz0sylQhhpROEJktppM7WiIexa1pTKPRjz14maUSf6UiaiDk3QNfoQBOIH/SSQ2OK/QM+m7NCmdDs55zxcVqe/qrDSHt6vd9F4Fe1bwJa09jdRFHeUw35ce8hwpaD7KYYH8JBvQzCYE3sss9buN5h/Tv/cUSvo5eJYDPVI30lf4R+etDuZBnqnqV/XK+V43VB1VRr1SRXvm6wu6l3qgh3NGzz6nsE7n83jXO9e5Chfn7N5ofVz18V31BJwmeri+oI87S52ATqF/dh6om45PFVPp9QnntqrmHNLJ9UMeSduphPNIk+6mAjSCCqlbfIk+0jEVzxmdz3SQztBlWoMiziut9R6VjJ5SkO0hDprY0ZIOe/VxdUB99YxTd7mpTMM8XFQRRJRW3phQO57WR6+NexT0p/VJqLcj1+Nzzn1OTzuVhydQuJ2OO3gX8ElmCbFL8RK+gCNv5LGsxioZ6BYQkRKJl+xLiX+ax//efIxfhy848k8cPVLuIkCj8YG82IEg+KQ4bUd2tKKFNI7ewGCA7LJjZY7UknDcoob8mNLzSn2c+6Cm1MY7PqiyUy7uzZVpIY2gdcijk/N3XEsGUiq6j8dUiu75EPS7x68Oa606OXfVKrWPcquHvN0J8XTXD1UZ1Zjroi+VpS+ecs4hHaMWOaN1GfVMefi9fqVH8DRPB2eBOurZq5eqOs4+54L+S/dU3ZTPua7HqKyeYr4snuq8hJPTeKetc0Jvdr53muhUvrdOG53d89nTSffxLvfsdW57UqtL3IS+4yp82jNQnVDWO8FJpw7qh5yGQL15AZ1xwtV6tVgV0H+rPJ4cDtR69Zam0Q/oh96owZsoLU7xOkpG17kbHaMFeIh3CKgm9JCmquN0AFM5ETmQBx3wBgkcimZUjydjE7XGI3xD4r+Q/yeKuEMF4cM8lMB3mEYRKIl+6EJlUYj2oB6VJ6YB3EpVp6dSB7thaQnXp8nILFWxVS1X6agAFeHd2C4hFC47SNQn+oFI+9nx9XHy6Le+rp7xzm6epgryFc9k55k+o4upEmqnXq4iuIL6Sp94qyevk0W39v7hWDXRu8YJ13ec/uoRX/HW8vZ1GrPhBnyCs3Akb1LE4fyNz/FyOqoL6pxqtFNeV+BKnpJqPu/VK9U1NZSnciz9rlrqptzdk1IXU8cZXI06qk86g3rEn3g8DfRMceZrclhP5ZPOF37Oj3AE6dBX7kgF3OM2aj2zp5ETqS5pqEyqA1eTMfJVaxLaq3PRXdrCT6gzatNo5IegIJ7jli5CX7GSaqMAUiI5WqKk9SIlPmE9qiPEzSyPpAnXQCmk/Rfw/yxik2gjfYd7KIzKSC5BeEHvuS1GUXsaglTSG7+ghlSWOchCU+gUwjEJubED8zBV3qI7GaxAOqmFB3yTjlF+9Za/p7TIoKrRUmxVTK+c8vqlekgDZSt6oBofRk/OoFJSJk8Q5+NH+jW34b/UQ77FkbIez6i5mSknpbwzWX+vmqEMmiBEFeR0NEevVIf5M+fELeREXWSjIXISI/CUlmE0daHvaDoe6z/VZGx2N9MSREk5KS0JVBZZ7STTn1PxWlVTPtlsMk7lVJPx0bQz6202ukMt7Ds6wNfwWE3huU40L6I+Ji4wwbYyt+Qw/UJnKZgC+hfuwU8pGj/Y0RSKOVgin5GTstp6eI1JHI4WaJVYTF7JT5JHFuElnlBhlKZmGIcsUhOEQ1SZeqI2OqA84v9LAVSTHiM9gQ2dplnUjUZIUrmFv+1OG43WmCvLZLJUkVryq2yRT9iMPZJeVvNE/pveUyzVQnuEUTw15QIcTg+dKvqN7qIH8s9qrB7JHTgI59BKzql9vILn69FUkC9SPjpEt31lnYm6s+egTq4y8zZeRVM5KX+hEp6jWlQaHUbtKRtNp1+pKI/i77k3nkgDjEd/KkpjUJ/eo5iqySWoD+dkUDi3prSYKyfFkcLqEY2jtxyCNyhgUyIC8yUFPaJRqh9XohFUi5NQZT2NQzjSeatycU1PehXKKfULPVuNwWNqQE/Yq8bQOmog2aSfyqhW0XZdjyZhML2nDpQHNzEKpVVSdEENro6sqIc49EJNLoYSVF+WIQEP+RCqowg/oWHUmFsgHepRAXRCJXmA24j5LwIkvR0kJyRMrskaDIQXySHSGeeQFPNxX0bJN9yjTjSK+qOYJJO5uCs/47EMkT3YgTFgeDmVGoYveEt76Zi9I8ekOcXQUMrhhKovfJ7vc3p+wn+p+hyP0uolZdHL1TVuhpnciE7hGJ2l4zSN6qKJesqJ1BJnqAFtt58xR+bxeG5C6agW3qEYnePdZNU0XkB/03zJijlSBgVx3z2HfmgmLp7DyGusxEvZSamoo70jX7GAQigPtXWu67Pqo6SlXTSc9tJumoiDdIq6UwTloDu8RYdwZyeDTquy6pRclO84wZyJj/BLTsHTKQtloFwcw8l4FN3FXIzHUADpcQ7Jkcbmk+4YIQUxFotoLXIjFFdwCuftU5mMtVIM0XhotuIMTuA4XiFE2uAl4v67BW2gF1SAVtIo3MUh3JMILAejAW3GTmSWAUiJE/ChCTQ+oy0y02NORlOlqP1FCuACklE2KSFXcIWm8XM6r9qr/vw3+/kjitEEyk1r1Qy1nlNLGoTJSr6JYtxPlthXWGOK2NwSaw9TjH3hm8UX1HF1hHNya/6VHxMx8Jn62jgZK/3RnjbjFlLQPnS0U2QD3sgJLJH3nBHTqRWTPSon3cJ2qTRGPpxHUxokw2QTL0d+lENPykMPbSN7xD5kPyojo3pCLQFagSFYgGmcjjq4O92nUk1+MGKncxEqQnPsj1SDLspbeoLfUAN7sNEw1qCq+wRdMRZhqIOc5jjOylx+hC7UHV6Uhs8+wD5ZYyviAipRYfoJ8yip/IC06Il9iHdu8jn66rzHSBQD0O0/JlxYqslN+Vk+YKzdJy5WylkpKEuwAj58oO8pPSrblzaZlMFFvAPbETZOStj0dreksCPtGEmLtJiD2zQVJ1FH9aV9dN0J6CKquJkhaSQLcsKDz7ydLlJtGkN90ZHy8HyclhdIjjgQDUWwKYz+8tW+kylSyk41+W1GO1ieSZDsQWVcVIX4OFWha6LQ2GbHIImSqziKC3aFzS9i79rPslD+klsCOSjdsMqG2X0yn/6iOdRJMpKlfnYZeqAMveHjHGo32hpy2IgtJRuoDRZgC17gA65TKgqiSfIArWSBGSTN7E1nAdXHrzqKStEVdVl+ljw6Blsx2U5BLK6jPqLxGuPoV+SQJ1iK66iEbAiRxUiBEDNK5mIp3uEdvmA1kuCtFJXcGGzWYDPu/VcLQhnyIZ10lPq4IpnRAllxR6pgty0jaaQ+JiMPMssYJSodAAAgAElEQVQsiZGp4trKKCFb7CvJjiMIRTz6Yo1cwxocQ5TdgKTy3tSTE7JCPtnV8oIa4wfqZcvbwxhkKtoBUp+WYBbSIh/WUhe6Rt3RnepTUvrEx/kZ1UMDdMVDW8j0s3/aybaHFDNZ7URLtps9Ja5NY4/Jd2hiYyWKcmIlNbfv7Sbbgt7TCjD7+Ri59JUeYiYuUxEMNgfsVDmMK7JJstuUMkHqUnaMlYfqMLfmjWqy6kDrzG3bUmIwCF3kDA7zFSyiFyhEBVWIqson1UDORJaz0XjKbfNJPfxOzSgIPrUaCsmoAe4jyl6WWKnvzhQtpexnjMIS2Sp9ZQ11RUpks5UkpwzAfEQjBq3xGal5DfIgzb+A//cixi2cNhgRtj/dN09x55Ent2qijqr1NIUWqb4ElKFHdIFrcyJNpJdqBoWT5tv0AWOQgCjJZi7JTulolks8frDnkDl9F8+RpOV1HbVY9cYkSYrHnrT6F9UPh2gnSlAC3aN9+gF/40/UD41oFR7iNBqpGPpCjzkXVabhOEI16TKlpn30C/6UjyiuntBL3sY5yJChizSfFiOLjBNCFgqiO6amZJWWXBeVkBQ/Sza0kuS2EwbSIFqHSTaXCbGQIOkqDWxPM8l67DcbawuBMRsRZoIpLZP4CZpC7B+msqzEO/whv0oOU9YWpSTyE267AwPl3WNmzgfztaoq6N60UXo/HyWXRqE5XbdZ4WIH/AhHe/8IYXQ1GQVSEu0wFWVdI00llbklqXEy7olJazc+jfZHmBNx0XiKff8zBfEEyot0EozVctSGSUP5XT5jOcbIYLRHW4FMo+tUEV2wGuVw37YyVh6gnm0k3ZBUGuEhGsr3+EvF4xzVsOH4gCMmI+JkDw3gvFTGjJYwW0d1xns6QR/QEz3lvq1uB9ozMtC+wRlJjsOBV2as1e53VksliqAqaGW/lz/sKUmAX7IF7pgGRpk9JtgMCXQOLHDz22L2g5Q0tUwhW1wq2A9yz3/VXWS06W5X28hAuC1sNvpj3ZamttyXYKllD5pk9oMcRXWa4TaWaAmV5vaUfKBt0kC2uzVcY9IiLzXGbTsfDVEA+6kIPbbPiGi4EP2IepSNKtAuNwyFpb5/oFyUdO5xOS/ZpLVMxC4MwTHc4Lp4ijjaiZV4buZKIXQwjtTBGAnDRXzFDSi8oW/ICN+/kP8nC7pk1slpfKLWWIS8UlrGyE8yW6LFLxmkgZST9nTNrrS9JQuxmSmWw/kxrbFtJFw6ylS7RmpJbcyTpSiDrFjEz9GQIuSyeS1n7W/UUx6YxvKd3JJrXIh2iQd5cNwoO0MGqZ/VAZpnO9nHNpKfoQzHSiJnlgh/Cfek2ah/VD51kkbhM7TpIXGygWbTdKyQDFJSjprB8kG28jgaiZEyzZZHA6ko0fLJPW/XSGZOi7EYGUhl70pGO4dGIYupZ6fLG2HJZfNQY9TAJ3RHAg65P1uvfY5V+ISTktz8au8js00rG+1Nm0Neo6Bhe4stxlCsLSaROM/L5RB2A2iIr7a0LMU+LKe+0sFUlWDJi+Z4Lg9kBhIwUlphkxynQ7QM3WmnDIPgAoKQNlAT6/EQvf4XAbiJEvDaVjaL9LLhsh8L+bJtiosoLCtRW2ANRksFyYOc8lFeyhK5JtEogHdyCr0RT4UwmIZyDpptN9pb0hsZ0FvyUlWsw2XctJ9lIdfkqwixhUwnW1tF6BQqtfzJm2gxXtBZ5KeMNJInOAFPhJPO2e8boeerc1hOYbwKD+i2+9zdYqbJczPU5vOPl2Y2J/9Gu1BcTeC8PM//yERLZmc81aHBWCe1pbR0Nu9tY3cor8dBek0b0dL92bS11j6VnLJDStpUVtsI65XxmGkzSjQi4eIzTqALmsgKbEVX9Ec73MIFlMFFZKXeOE7RdBB+KUvdsUjKYRlOIa1swwu8p1d4bgtLedlD57EXL3ELb8FmkJSX7qaPPEYre1oKyRR5g3kobB/JTMxlQXIEA4j6jwmXo/uUnh5QCupBx2k6ctJ96oFuEkAwFkk+rJKTktr+Ie1wVTpht+y2taQuNacFKCqPbGc0sMVNankqC+QQ0thxtrkU0AE8pZ9oH3Whu8gga9AOA20e2e1GmL72ka+CL71nS0i5sOZJE1OOz/Ag1czU2zKnSHs5zZuMF9M+T7cw2+AMDTJ0zZ4yw7sMzbOVTz89VVh6f6r7IYkh3wXVozFIRpXtXjPUpqY2iJGegeZmpulg/pAIeW9/ozPIZzOZ9dLJDrNhdiQ/QWoQp8SPuGTjzD6ZihaWZG3grTFmjtHYLj3sKfFKfkmHEESZV5LBbqFCkl82IxzXUdSUtI9kGnuoLSqpKFqNYeiOUCSYQ1JAGspKjMYyU1wao5e5Kq2xEA+xA3dQFyGIo8coS+UwFTnkqwiyw09JkOr/9jdUYqwr5+wmm0Uqyh+2A5rb5raViJQXJUvlmnxBN/tA2koFSScbJFzuynDUspNMTykjBeSTbLHdzGAJwU56iOxyG1mx330o0+0t5JDr8sBkEb90lqyOUXk9k5I+DvmKCSGNgjK4VfgNT44enuAP3PgYFL0sbt+H36IQW+1DzOed37Z+6h99Ni5JwpxARzvDczNJ6qC41Kcyh6Upnupuhtqplnob+wKe1naAe992sDPsB2krFcxRK24Lk9JOoXu4iTCJtUUl2gxyy5rxtrOZZS8jWp7KD24vG2l72l8kHtVlmPXKCVlLffFVekuQ9KBlshoXJTU6YYdVeINlZggCeOEWsE3klFvDXpacbl/5KJlREyuxE3elNfbb8fKDjKQKiMAVWi838JjKQSMJzUQmZJTasgb3lKUH6Ca/Q/4J4/49BanynhDMSnYvzVsnm7qpL9MQfsbjaAuTukGnZT0dRhSF0ma0o3OkaTNtoGjUwgqE0C94IAXxWCaatnYo5TTZ6VCaAk7W0Nfegiqtqouu+I2OSxudQf0cmKxa6NRxkYFLplZC0kTlHvn2KrZrQkxcz7g7/ivxN+PX+WMSxF85UDR+Ytz3iRXiUsRl919NiEvY678c9zI+PnFRfKnEN4H5PEGd5XS+8KC8vts20f4h/ewf/naBxfarNfJO9UMZ+kVSyQp7WaojAsdkhVlsxwc6SyEpIGdtGqkiOyUSzSXKrpS/uA3eoSZlgyDY5rffywIUwnJMN+ltI7vB/G1e2umBb4FM7orAqw8SfUL/7KY2XiyjRmhBP6AxRFIgE8q7V6SmVA3UxwgcsnGSE8/d9FJHNvpPSlmx5ga2IzLhtCkq954P8h83Kn4OnuPQPx6wEdsgZoM7SyLksNRHTjtWFDbTNRspf/J6fkXF8YNswRw7w56RusgggzCJohApPWizbMIMTKTC1FS3p9Gcnb5HSlmPOFmIjN+um/LuxDjX/cG9LdtiNib08lRXqXR+9YaK0xlsw3o64exWHlXeGcSteIteoy6oAzqrilTpdTZ1lL9zxuvL/EKPUMPVWN92nVTl9O71Vnd6BaXzGP2HN8bbzNOTMweamNLu2bh18bPxQSpIe5PWpLctA8ftQetyEIAUmCRPJJutKvPFb5S9YVurUlQZsfZ3mUY/2bYmq03J10AobZvTEexTJ7gEFxHH+G0X+oDq2Knm2ydSSkahHCKsV0KxTIogRBpzVtpCg6k1yqA8jspKbHanikd2iQ+38ZyHohTScRRCkRM36Qckyhnkx61/Af8PASVxhJIhnt7AlSqyHS3xFjmRgKXYjOfSXNbJX3awTYmSPE7+ooF4gcL4Ez9RDnTFO+kid3FMHORGBmEpIxWkHRZ8DEuYmFDry7lA00AmKW8LY4VsMQfR2xnEtdVsdZ8e81H2UiP+mz5hH4U5B9Rxrul8UZnVUeeWilCgCCpDr3QK1YYTnCXORr3V21JDRXsHqYs8zlPWaaaSB/Xw3fS8c3aonPxO/0LZOV/iVPdd4BqCpIIslxz2gcyz72knltJJ+YBedMMOlCI8iyw9lnO2kpyW17a5rSk3bB9bXSKltFR2B0gu+WIrubltvFS0LeSJ7SG5ZJ5JLnvlibMEjG88Ew2Q0oRjIDabGjJFlskQNMYUaYyPcoZnYDlIfsQgjHQ34k8cMoJ0KC0VZCNyYT76Iey/CWiOGRKgCbYJuiClxMkCmWwXSSuT032DGfoeb6RcMliSYKbtZldKfZrFIfDYiraTTOYFOEQZ0V6uymqZhjCpFNcicDsw83nw157fLvkLB3LY7XaLu0P20ic5R308oXxbb5CLMgt91WhKwt34b4qickHBXuOposfxV+qsK9ALNYvqcnuaoq5wOC8N7u8Z4GTU4Xoiz/L4dF91x3NPZ1eRIUe85523nmROD706SV7njsrM5FY0iXLRFpVNLLyVKtJH2wTt5bpMk2GBSQI5gB2YJutlqHSSM9LIHLb3ME4KyVTT1S6QPqaEvWqrIaldL8kwHKmxlzvYdDJIfqMb1MsdJ4vwVVnclXO4i500R8KpJiahjZzBE3tBNuOpaYShCJMrsgiH1F1URbPEV9JTmqi3NBypuSQy4SSA1//ZA8LkMx7iEmVDLQxFAqWX3BIll9AW6amWPWunSWv+hfOikJyVJahnntsT2MDdEY5d+IByctB+ssVlR+JRs8K8fPD3N9/H8C8l458lrkdjfxnpIhdNOFKp6fiFR8oz04s28VK5yFOcMeqK8lOY3MOV6O54zaN9s7xDnd26uurF19RlWsJdfDuc77Q3bj1fpJVOnEqtKvk+eZroTE4+nahyJO7zhOi2wcd9gz1jA6WdB2pokm+eArqur7QuRXPlsi0kY9y/bGu7ierJcqSgqVQQd3DE3EFBeofb5HF/R1XEyidpggCKSg35AEdqob49Igelot1po21Z+6tslYw2C/LjuftUIuU76keDaBI/w01E2XipK0ukrCTBNUzGFKmNFPIUlXgyTcZ6m8fWlKKUiENYjqbIieJ2Ej4jAan+twJSIxLxdpqUQA+bXjbIYhWB7ykUlaSF7LKPbGG8wnDbC2Vph6mP5ORyXRCX5P3kl3GSCdMxV5rgfmIvd4U7Pe5RwuuEYYFxia3MfTvTPws5KMRmRCp3pfvKdrCjAqfRjPuY7+ikfJRvuO9UwWUerXLQzyo0eKMnh+5AHfhnDlG/yjlMCh7qzezZ7uzUn1VuXZOvUzPfHE9At9eV9Tb1MDGHJ6CN/7KvmWdk/ClPnI5zO/peeJqlUsm2BVegw/gNIh0lAyIoqyyTZW5l81I8WGNPijLZzFJzys63dySCdmAn9lELqokDWC0RuEILKA9qmTy2u81mP5vtsgon7GJ7XT5hhyTYNRJJFVUoF0Z6uizF8DaQDDXQFSfkDp7KJkTIBTNVjslbE4uLWCrdkBepRCMV/BSJUAQDePifLCiv2oK6oWlTndf91H49gefSbV5OB+gsJaerVIja0GcM5I10gz5TObpFE2geraS1GItZlF4+IYs0sD3lx0At/zg7LfFmXCfT1Yo7TPLIfhuMgL9XQn7zWyC9+0x68im5jO/tHhslkQn1Egq4Tf1b3Wf2pDvD38r0TFwQ/y7QI3FsYEegV8Bxv5jn/tL+4YHJ/qOJQYFviU6goVslsYw/lbsY2s1hBkiUvSld3Ur+3m4x2eEuMicD/QPrzZPgKE8F/dVhXYm3qUgcoxumit0ls+1Eu9I2xgnJi1S2lK0sdyieomi9XJRMMlEumSjZT/1wGYV5POWnXLYNLM1y27sLzDO32Oc/Y5Ko5u4yk1utpi/oTVUg+NF2kv04B2AOLtv2mIPb8h5lUcB8wRm8NtWkPm65E6Q2IhKv2JRy6sUt/xdTMO4MbmL3PwpoSN8hE4bgIFLQfcoNv71nnktBKsJp0AffyRy8Q09bD0HygBshzD4zJ7GbStE13ERtzKQ2MkfSwB94lfijOSPJ7GIstEXcnVLbXePPLR9wk3rAR+PlJMolrPYPsodNLreIhKKRqSlDpKgtKEVkIjWgcbHVAjGSJOkiJOOgQMHEeLPDLcTZaQT/rr6obRThqacGR1+wcfjbfvXec7oE/vYvCfwVKOON8vTXPbEWZ3iz/6qbMfZakh2+GO827wL9xuSRi/ZX08DukS02yD1tS3FfXkZwzqkgumocM1CWm77yN7rQr9SEbtrBBjZDYL/ZZgbIFNtKkqASrUEoruA+/jLHpC6Om9o4I0vVQZzAOS6PKbRYzst22WMT5KmUsiGSB+GyXMYj1L5ADRznX3Ef4fgo1bEAJbEINf8F/D8fs9rREiSTPLIJv5ox5rkUpmPqBr20RWxTDKB6XAVJOJm0xVURWw0/0k/0Qf7AB1pG26SmTJE20ljyS3Z/qcBFu8JfLeCarraNm1XiXWXWyAO7UcpLBH5BPtQTD13GRit2L25IWvkVB+QA1cApuHaA1MMmboqi/tN+rzT3xFMLcgJdsVqSJ9TSVyUnSkp5tKOfkVvyBo7bk/aYt4SZbvu5hQJL3Ni4P2Oj40+ZbjqbbhhXPfaX+O0pNyRrEJSS8uAuntuA7SMjuQ/1pJc4hQtyVvqhDGdRlcmHjPaEjMUbk0fu2avyRLpKPc5II+mjPAMkDS2yvVETndEbWbkODCpycWjKb+tKASSaZsgsrSgacXhIa6ktdTWvpKI9YdPBj4p8E6lRJvADmmCOuYhQ2YRdCMaDfyH/z7+gn3QkaieZk2KTPsAXdSjfpBEUSWdlOEpiAq7iBR5QRjqPmmhLx5GEcvI1uoM/UYYmU2fUxTPpZhKkUfzr2NauYxPdmXLNRLoH0Zi+mEOU1Dazf8lPbu/AULmHbrIcRh01Q1HW2cfBvIBPoTEGOq0kF32WpPYRPuKqakl1PZOc9ryBf0J9eDmHrKPy5qEEIxOt5RK8zfnIaTiVr6hnjWZvkO97pzdntCtFdCquRIVCdgat8ZQPbRKaELRSC7dSQ9039qKcpslII79JdmkozW1fm0oizG8mn/0ZicgmoRJrm8gbJJEP8lrCJUjC8V4SkV48bh/TLDHV+4Nfz3BKN5vdJgbFsUoyIxrVaShF0EFbQ3phtbyFR5bKZHzFd2Y8dqK/6SErcNu/REiGJ76VXZLwokMgYGPil+Mbjv7TgipKZ/ixGo1xFyOwHp9kHqbKS4pHbtqKn2QxomS2VfgdBZlRUrLaaFkpf6IWtiGGr2OzvW7voBEPsivRWZqYdtKbHmMLDvEc3osS7gmzFYmUR+6gmcTKZaTyXNOr+BZ229d4HV8ysar95s5FEmTwrOVS9E3P5nHUxCS1uzAiuI9qplZKOhkH6znt3FandGl9SpXSlb2NnQZ01FNNs+mJo1CeZfqQGsFznKT6gMyRUiggDySDXDZ73WLmRwyQc7JJmuIpLvBDGkgH3YLmVzMN72UhashWs93mw1HUxxLZZg9LE0kq6eRIIKP7l4kJnHdf2S3ua/nR7lInqQyKc2bUQBw/wDTUl0ryXOrQzziFRHNGaqI6VcYfWCKtpZp0FYvZ0hAPkBRH8BVpEWZKyXG8BpD5P2FcFdqM5LyZi2MtKuCFvJEMchUTJEIuorfEy1MZgEzUBgG72h6V1NJQLmERHogr+8UvGnvxGr/D/F/tfGdXlmfT9cxxnOVqFFFE7CIaFHs09q5RiS2WWNAYe481Ro0liom9xBbsMdHYC6JiJ9gLiopdjAUVAQVpVznP8zjm/XA/rvXev+D58sxP2Hvtmdkzs4aCqB7UgVsQhV8zlS7DAXoM08DgDSgCGuNUCgIfP4q78ZCcC5kwTSy0WlEnxaEOYae1x1o0a6ruVZGvQ4JCnK214Bb7g2YpJTCVCWUtQ67ziXwE78CqY2eRKQ/Ist6y5nLrPKVSe+jAuuuZ6kdqLf+i3mpr/Uf1BevDcthMmsS+xZGM8BUeZPXoG8iki1AJZsMu5mDXcJseovbDgwGm02BHAye6qssEx0Vdlw/UZOUQ5LByWBd2oT++gJWwHJfBLFpLJ2gfnIddNA0Wwx6wQQGkiEBqAcPkW1hEMdZrKgmNaSftgsdsIIRBCL2jfXABd9M0eAzfw3so+q8aAG5YA340SibBIJooj8FzLIlNwEmvZGv6EWqgCyfI4qKafAXDIQTSuIYdWIS8BDOxAlsPq8EP86EAqrMRbAECTqZN0EDsoCToTBtlezoIC9gxeKvEsSbsb7O7ZdJF87z5g2zCAmgE/KB8ww5hSemSHWAeBUIOPVdO8yEYRI3xX7pLFUjDVdiRz8dh1gbaKofgPKrIXipv4Am85xuoLE3CHjgTrgmQA+Qipb7eRo11tLDnaGNYFhyFf8UaekwxbBWmw0FZHzbSGLFcvaVmyp42pq/zXBPlZX8ZIZ/K6eKBKcRpqyKEYUXsz7fwU1SfV+DtmcZyrasYhvPBElcpDDrwIJgFWbAW64JGd2gkbKK+oNMS9hAagp94BO9AgdkwiQ6ZbSmenHIMpNNeK452Q2X4GnKg73+A/6SAgfQaXshtshl1AqSNoNM4eExZtALuQSo9oV40y/T3TZe/iHhzpXRZi61O1BYcsJPuEdAM6opunAKV8RnegEs4hQ5BY4yQ6VCRrYBzmCJui2lwSG6ARwRKb0iBOc6/9Wm8sa2Tupbl2c/wz1iKOgMs+EPugCmUQddwA+zXA7XpyjNlMWM4i79hsdhP89c+KE6MwRy8of2uTONfsGwllV9RmbZYWaxb+n51p35Gn6CMtvXVvWqy1ZSqUbjSnvtYrkyAKvCvL1x7ppQr/FZZwMNzr3pU3+8fShY0dKvvDuR8LOz87ruckIJWma9yvyhcmtE3p0/BoYxS+T7P9Kw6vh5WO1+i46StCn0OpeEzWQCxtFyapFBn6AuF4MMV8DlUwWuQDU6sQufpPv0J1+C+3E0tYB4bDMUgiH2Do6EF7AN/cPy3AsZDJiDMon7wWK6GEXQYV4gX2Bsb8E1wUv5gGnRfPBJbZXfaw8KgGouDb1Aoj1gu7wPx/BQ0xqoYBQPU2vYwZhlti3rKZRjNh0F785GZR4+1lbwCa2pcsFLkGfkF3IOhcjFNJs22XunFr36MLZxo/muboLhZkj6K7cVGahi7xYazMtAWe4tsXApztNVKKWUA78hOsa7sKzQgng1XlnFNL9BmKePUQTyYgVJEIdTU32Y/pb1UbvKmuJSfgxiIoROyLd0w9smutDY3nl7JiIJWhROKsj2pxkJroPnGXGBpRhejtBVvJZl3xRJZ3Gxv7TTmmGFin5xlnReZSrSsIE84B7NTrH1IK/UPXt3xymKCyXLggGw+Hd7CfSoNH+G8mEAD4G9ZFs5CNHwJNaA0xMEAKIl5ILApVIWJpLOF4ALtvwlIhTDgkIzHoDmG0jg4SQ8xnHbCdDkaxlvxlr9sQ72s0bIvKRgAKp/OyuMxak+Z7BXsg0BcTj2oAix0dlNTtZ76Jr2y2jCrhDe3KJTVAA/oIlnm02vYSCUhETvBKZhrMsuf1oqtWNxqan9mS2Uz+SJ6iMNhFHSE9tgPn8BWWUKGSqYs4cm8l/KWN2ZD2DmMwfn6ea0Gf6T9xueyNL6K7WH1sSlUgr+1r9QoZUMg+SXYF3LBXrI8GgUu6ICDIQOOf1xivhFLs955IowF7q+9t4wZ7t+9j4w9pjSviAjDYZBZ01fH18QqJ/PNBEsVkdYBucLc5rnnm4rRooH8yRYnnsl+kmMPnBd2F7/FINwANuDWcAyiMewsDIEIAigJL+gRPICngpEDpoloOkv3rRxqDSAekZNqUAowiIMd/x8BFE7r4RkNl8NoCPWh+jAcGlEWbKZEuEhfyd1WGM0TH4z9NIE141dgurxp3aZD0rR6yyQawovjFNs2Xlm9H1lQPL/UDf1lcVN9nJiYevfZncJi3sW+Aj4HB+MTrikHqRSUFf/AdtmRZYOuOuAWOKA/rsQQ3o9OIbFr2AS6CcP6kaKUlVob7mY18ABsUNZyG5vL+7Mo/EPOkMk0Wv4MmVABs6ArIJ2RJ6h5SUexQa7RpboFXw1Io0FUC/LZLnyFsZ67xjnri/f+Hy4WNHnfPC/LPcqd4uthrHOf98w0yno7+zabNndlzx5foq+M96ExSjlmnaUJVn9feRFM2eKCrKo0hrrQV9ZmdzH1Q21ei4lS4+1n1FeORtgCET/SPdBoN3yEP8Qc2kUd8Swcg6esAvSE8kpnXINR5kB6RaWN3+gubDAT4G8o898K+Ic4ZMlToif0IQfF0zLYSWtwGbUUfaiBdJof5DxrhtldcnSZ5yBLy9Grsz7yD/ka+ukGu6ImR04IKBfaquwy18OAH9hJtoqlNyqqYpa/fUl9uPP5N95dYq/pT81lOI0VZcUqmsAT4BlUoTS2H+dQOfmIJlqzqDFW1ksp+9hK1o4rrKbiUHbwDUoLTMVobQvLxm40hK3B48oKZuAf6ucYhJXU4rAI+pf6pniSX/dwKl8tOFtdorbnbaGA5sIMiIJCDPTGi8uycdb+j7GFj7L/zD1RmFGY5FF9t4u6eKXRwVPWE2MGeDb7KotJdEnEUjeqJkfSEFt3GATEcygQHuJl/AanGB/gG/iYkyafS5s3Uv9OfmcfwcfzjpQNCeQhL/0F95UnUAAJvu7yKDnpCXkoRnxLe8hN8+EBRPEo2AnNeXcI+3Sc+8kJZzCAOliH9YOyOBHr4UDykpfuiaZmlMy1eppAvWmaqAf5MAfnQqGY4Tspd+o37XHK+ch1ATmh40rVc4b4e2Uc7IWj8p1YLBND+gRmum6Wjy0+NGDyg9uvM7Jni3MQSS0xlq/Gr5UF7FscTcvkTkhSW8N1OMvSNYs34eWhFnsAa6gX2FWiwdTNd9ssYS0omo5pGG4rqXLeGaqzZUoIP83WYGjg766TtkMRoRVKlaxoq6w3VLtjJnyPO1gCToKfxXxiMIO2wK+w3+fv+dW3ylfBM9c3qTC/KN0z1lxpnROXrQPWclmC2lMZ2gT1IQukUGQ7mOONgEJwKJuhBpSh1/A3TeXJdAKu2sprN9l6q0tgmms99DS6mBfpF+9V8zvKvs0AAA01SURBVIJsBAvgMjSiOZCI1+EW1JQv4QM8oBbwFIh2UGdKgB1QEn7HbsDA+x/kP+2ER1MZyJKKtMNkegqr6JJsKBvAOOmWHaGBHGWFUiDdFVNosuwhsmkwB3EUQ0ufUYr8k2CNdxRdfn0ws9WHmS+K3pzIGvCi9OuqmbVetH93KMuw39ZTcE+5b0sIV0Wboj3jZ/A8Wwx2Kxar0nhaAl3puPBSEzhCo+R76mm5pCmq4npIpYtsCS7Cf9UcfoUNoWKkyhT1Eq/GPuPPZSl5WV8shoorgSOVq6x3njtncUFK9rwPofl57oWeDsY077/GZ5aXUuVvdFw5CrVhv3aCdcAjZrp1XdylDNmTgqyqxiTay/PoDH4JM+gxhMu11IiGsA4gQBddYBt8MObDn3AfR4KAUFmHWkMS34mLcXOJQ5Wo1E/FMiLtFdayw/Z9moOtgfoQLjfBDkrAROwK1eAGzIR/eEmoCZGsP7TG6hQM7eC4/BZeQv5/kP80iljFg6GrIymQ83j2kNfBO1gK0sEnEs3TsoHRzTNVanTUKkOttev8EtsYWs8e7dTUs7I4lPnwU8HMokcF6907PWXya3vDPHpu9aI/PcKbJj5YFc2a4oCsCsWxEE6pc1gRLnWv8T6z8mUl0YSSjeZmS0qFA3QO6lOcnEirRKIcQcNYLOxATdamiXSBPYYoSlKH0m9wXH3H5mN44BRlGX9YbLRjut5Vvja3WbXyEvO/cG/5uPTjz4XTvVOKInyvrCnyuYwERsmwDcPxV+z2/t/8SZ4Z+cL70ddRP6S0VxJwO/wJsawnawYZvjrmYhkql8uRWF30pLLQkAXABXjNd0MLKKYe4rfR6figtMQ9riz/KbaFkXr41lBPcEKJPQFhlGdbrdp96sfZ7iVypamK2XCd1kFz6YEcqGx+R90hxQyCY7TO814iDXzdz6pC+02Ak/DsEwF78R7UdAYGDeE1sQP3x33kkgMowjxpbJWvzT2+YnKOOp5W46Kgdvo6rbvjOK+gzjQz5AhxVuRTIZW2zssKNNT8Qu6Sda0t4qI8lp9rRBuZBcJT36iYt9ldzrfVdJkj5UXekg3EXDFLRFOy543YLL+GYHmLOvBFsAXPyRj5ApJpuBUjm4gvfVOFB+tIJ520R2AtPGCPgZn4mi+RRfIXChaPJZnvzdHyrrxPGg32RfuemK88R7zlDMVdvfCN5x3lYjr8wOeyi2ytvApnoUNO88KnnseyK0TDGO/X1nyx3WxpFso8TIRzEARXyR+Oah4ejbVFIypG/dgdtIDZ0jAcK9nH8pHsStjYCq+Dj1euXTa6xJcKY4FsmLLP0du2n1bbK2nkO5B3umi8KGWGi+fiOuwFMG/SbrghL0M1aOdbJEMpOKOXVZ8OGymwHx59ImAm94cvHcMDTb5RWaMexsZyrlxBPUw/71DpR0PNYGoZXEUvpg31i7eV0JOloFU0z3dVbBVphkvmyVhfLxFvbi7abry0DngThU88NU6ZQcLmm2s1kbV8m81gWeTzmmdkS08TQ5V3JZNPIdTYbCXTffrDN5b6yfPCDafNf6w99Ia4uE/h8p00qY3+M9+Bl+0RPBoXgQcqwk12WaaQD1LZIPaE1uBDWGGOsm6IquSi5nAdqkNpGEtxcir8pvppd9QPepReVp3mV9sZad+NK9h2rJSfU9Tb9734ypoly7MmrC7WhcmwA+ZBjNhHo5WnfAp24mkwD4fCKDpCF1gVaIrjS70rNsA29Ysy1bF802IH/V44jsFerISPCGEGtOWHbCO1cxSvfat8562ab7gLMcy6IddaN2gOfWe2oXbw1IihitDz3S2rgazjvQGr4OanLqgJzgAXqAigQxKdoJ3YizbDjzwLuuIRu01JVAIhAfuxzWaU7Cmu0BQKIUMugL7QzHomZlFfjyYPW0g7oBO42WIScBwkOmG7cdDYJIO8bvMfymbzqTUMggQIhgH8MvsLb7la6C52QLmk1oU1opp4Q7MwSjgxkj3EjtBWC+fEVvFGMBva0B7sjJNoEfsNH1ut4Wuo6Yv0WaZX+YvaKyP1dD6WXVHmYSf6npVjD9gYxy1nZdtA7rY10xy+d7gQfwu8rRdT46u0LnMuONDdzHfDzPCM9N02fOpcZTBzyeVWhvjJUPnn2Nf820yXq22B+CN0g07KUrbGb7P2lNs+j4lYWK5O8ZsBy52xtEbOpDRRFnbTfDpBXWEsi+Gbmen6ENKqWGurN92g/flxDz9PXw2R4op8hEuhGij8Co6FigSQ/KkL+rQRe6oMhOFOCqzDr2F/VgpV1l+uYpsDprKf9cYBmrZAr6ZswUzoLm9TsEwTDSGZciADq8IRaxGh7EkCHlA4vMIsYPwrGYJ/ym1yAqxTXsE5mKkt5ycwREmC0ziER2ABFCkpEA2v9Wf8DyynHcIt+FJ+hbdgpWOh0o5Vcv2sluQB2jz2GQSyMZiENtyEu/CKupEPxiQ8iimsv2yOaVCMx/DumKLmalxprkTbV+i3/O4GrfebHLCuWKKrvW2U44F+VNuvb9NS4DLzwx4fXYW73Xu9se4UX8/CRu4s3/3cgUXrPXZ3XeN3qy1LpCTqT/Ws4XKNUg0ycan/r0oYRocOc2xWr7kmqCc4z6uYH+6u7GntTTOaegN9tcyGOAJ3oRPyYAZ8B+VxIJ7RGjv66uNpgO2mNt/XNP8rt2r+YGqiQsEkMYgavnkmUumikQhH4dknI7YdUsCA7RgCX9jm8b5KUummjuSAcFshZijpxnFfrhngizDjTctTwphv3IFk8peXaCoco7KsjUyTqxw/Ygg3xHL4Fo55n1Nx8Qp/sqbSIFucUgunmIFWAQ1T1mjXWQavB6fgJ+Ol+T1FqtPlOopTstAfUxVdCcBSegM4xapof0E3vCXHyZK0meozP4zVK6k/8RFQVn2pzFevqIXKa/sN1aEs8kt2/W1fanPaxmgOvwfOJ/YjzsqOGF23ndCi1JLKNGUmeymXMsKauX+59/omPEp6OTZzZmaD92/zsvPJU983pyjEPdzs6k32VRRdjDArjibgalmPHuvpbAcAXwFB+NF8ZR4WYe/S34XkHkQXjsYa+jA1gUfLf6EEFPkdCIhzrQj4NWiLX43AyoE/OtfYXmrz1Mn25cGtA8YGLsfbOMxY9rBL+nn1r6JGvpLabkiDagAwCk59SkEPqRRkOuop3dWJYe0CepdICW6n/+YMNSNFPVFLFNir2vLMLCtSfDQumLWt390Rvl2++lZ3s0i8kPO0LXK4W/d2Nt47VboFXvs0dScvbtVmt6g894dwOKiGKedlGzaeL2TD6LDZRx7iWcp0cjhe8MPKr9YJ1oqFaunyJR3XrvKpfKtWGnqggybzNzzZ6XVssW1SUtQuSi1tK/fn8f69XR1sr7Ui7Z5axRZjm6UmaX58Kr/Ng/lAvotP5XmsDC1gzeAfcRt2YjeoK7OphHhDsyhe97d11HeIWlgJO7gvmB6xjvrLtdTQ9oR3RqcSi9PARop5iH5RTkAzqOmt4WsjuuR4LIvmGOt8OWKk2kzpwubYympxfIyoQgtprm+MkW2ZeUMLlri7FGxz3wwc69800HDedzZyLLBVVSsGLHYOdh6pOKfkhLyLT+PeZonynlRrxX9Os/4nBSmXeB6mVgsuvSv4VoknzheuvrK13AEv6ZkEsvEC/ohnsVz2CxvOi+NSNkW/o3ymDFbrqbFqV15N6aR2d3TSzmtR7CZvqZTzu6NttCU6Bzh32XfY79lq2fyUCupLNd9RRR9mG+ioZT+u13U+tzvtb53L7Gn2XL8C12hnll85h7C/dX7jinScs2mOSfYHzs9crew9Ama4rtlbO+/bybZdK7R/p/XQdL2x6ofH2VwWJ/rIEbSU6lAV2Ob1t45aq7yNzIbWOF+RUVP08XYwh1sZxjzzoPWn0dVcK2YqJ5T+/KTaQ32pHKRXdBu+9EwwGhnNWJzsJatr3+HXGGKvw66x89ZZYnSSV+JVUJNd4RjUEX6YDi9gECTAUG9fs4kcZ7S03knuXm+WFD+ZbeVyWUze4x1ZFG1XuvI5li67ydm+XNFTZIonSjNextMVG+GS5+U+zC9sYuyDx5DwP/+CMAqS4Kugja4cNV/Zy3X2AoezQqyOXSmKGooztIHaIeJsHEn5dIsS0YFpWEdMFYfkFjmT6sI56Al/wTa5l8rQFOolm1NjLUUpzx6Is1RAbcQ9eZSqUUUaiwzDoAU9oVakU0U7Kh95a9kK0sEORyAeGjONX8cBoonYRUlggAfytZFqPR4LBdAPBiqjuT/OkpNgHmo4H2vCAfFIDJXtlQyWz07SMZhOHagdSFBhH30JZ9hurILxwiPGyPbKCEXyLLkSpsAkY5wRadW15ss78nRhA/dha5scKlWqhb/DRNhv5dJ8SIEmWBFesvbQCxrzpvACNKwPfuCjt0BgozNwGoCOUw7ovDMUgVBH8gQMVQu4iWPU0dqXPJ/dZh60WevkdXqldGPPMMKaK3ZTZHajogBTgZZwFTLg/+J/N/4f+YjVXNKXoBEAAAAASUVORK5CYII=\"width=\"250vm\" />"
      ],
      "text/plain": [
       "PyObject Bitmap[\n",
       "  pixel_format = rgb,\n",
       "  component_format = float32,\n",
       "  size = [64, 64],\n",
       "  srgb_gamma = 1,\n",
       "  struct = Struct<12>[\n",
       "    float32 R; // @0, gamma, premultiplied alpha\n",
       "    float32 G; // @4, gamma, premultiplied alpha\n",
       "    float32 B; // @8, gamma, premultiplied alpha\n",
       "  ],\n",
       "  data = [ 48 KiB of image data ]\n",
       "]"
      ]
     },
     "execution_count": 7,
     "metadata": {},
     "output_type": "execute_result"
    }
   ],
   "source": [
    "# load the scene using the load_dict function\n",
    "scene::PyObject = @pycall mi.load_dict(scene_d)::PyObject\n",
    "image = @pycall mi.render(scene, spp=spp)::PyObject\n",
    "# get the bitmap, which Jupyter notebook displays inline!\n",
    "bitmap = @pycall mi.Bitmap(image).convert(srgb_gamma=true)::PyObject"
   ]
  },
  {
   "cell_type": "markdown",
   "id": "e3854443-b948-4814-96b1-d9b588436052",
   "metadata": {},
   "source": [
    "Notice how the right object became smaller than it was before and came closer to the sensor."
   ]
  },
  {
   "cell_type": "code",
   "execution_count": 9,
   "id": "e5a694cf-ad55-4ffe-9597-a6ef89675700",
   "metadata": {},
   "outputs": [
    {
     "data": {
      "text/plain": [
       "1"
      ]
     },
     "execution_count": 9,
     "metadata": {},
     "output_type": "execute_result"
    }
   ],
   "source": [
    "scene = 1"
   ]
  },
  {
   "cell_type": "markdown",
   "id": "d6ef6624-39d2-44f5-bf07-bf75ca67643b",
   "metadata": {},
   "source": [
    "Okay now let's do some *inverse* graphics."
   ]
  },
  {
   "cell_type": "markdown",
   "id": "170af268-4b85-4ead-9578-f91355704c2e",
   "metadata": {},
   "source": [
    "## Part 3\n",
    "\n",
    "## Inverse graphics"
   ]
  },
  {
   "cell_type": "markdown",
   "id": "1396d743-b53c-435f-826b-7b7f66fb5222",
   "metadata": {},
   "source": [
    "We start by writing a Julia struct to hold the state of the scene -- including the path, the mitsuba3 scene, and the spp. "
   ]
  },
  {
   "cell_type": "code",
   "execution_count": 10,
   "id": "25fb0aa4-2416-4461-8e62-5c3ebe92a3cd",
   "metadata": {},
   "outputs": [
    {
     "data": {
      "text/plain": [
       "ModelParams"
      ]
     },
     "execution_count": 10,
     "metadata": {},
     "output_type": "execute_result"
    }
   ],
   "source": [
    "# the with_kw macro comes from the Parameters package \n",
    "# and is a handy macro for having default values to certain entries in a Julia struct.\n",
    "@with_kw struct ModelParams\n",
    "    scene_d::PyDict\n",
    "    scene::PyObject = @pycall mi.load_dict(scene_d)::PyObject\n",
    "    spp::Int32 = 16\n",
    "end"
   ]
  },
  {
   "cell_type": "markdown",
   "id": "ea24647d-ea7e-421a-8b49-34446c5d923f",
   "metadata": {},
   "source": [
    "As further setup, let's also include the python file (included in this folder) that contains the scene configuration we will work with."
   ]
  },
  {
   "cell_type": "code",
   "execution_count": 11,
   "id": "da03861f-aadb-43f7-bc60-3bee8ef9567b",
   "metadata": {},
   "outputs": [],
   "source": [
    "mi = pyimport(\"mitsuba\")\n",
    "mi.set_variant(\"scalar_rgb\")\n",
    "@pyinclude(\"./cbox-generic.py\")"
   ]
  },
  {
   "cell_type": "markdown",
   "id": "54a549fa-082b-4bf8-ac90-ce7a8a22a385",
   "metadata": {},
   "source": [
    "We will also define helper functions for \n",
    "\n",
    "* transformations (moving and scaling objects)\n",
    "* rendering"
   ]
  },
  {
   "cell_type": "code",
   "execution_count": 12,
   "id": "3e9ecf4e-40b8-4280-a9e0-fc0878aaf3a5",
   "metadata": {},
   "outputs": [
    {
     "data": {
      "text/plain": [
       "mitsuba_render_bitmap (generic function with 1 method)"
      ]
     },
     "execution_count": 12,
     "metadata": {},
     "output_type": "execute_result"
    }
   ],
   "source": [
    "function mitsuba_transform(scene_d, object, scale, translation)\n",
    "    t = @pycall mi.Transform4f.translate(translation).scale(scale)::PyObject\n",
    "    lb = PyObject(get(scene_d, object))\n",
    "    set!(lb, \"to_world\", t)\n",
    "    set!(scene_d, object, lb)\n",
    "    return scene_d\n",
    "end\n",
    "\n",
    "function mitsuba_render(modelparams)\n",
    "    image = @pycall mi.render(modelparams.scene, spp=modelparams.spp)::PyObject\n",
    "    bitmap = @pycall mi.Bitmap(image).convert(srgb_gamma=true)::PyObject\n",
    "    mu = @pycall numpy.array(bitmap)::Array{Float32, 3}\n",
    "    mu[:, :, 1]\n",
    "end\n",
    "\n",
    "function mitsuba_render_bitmap(modelparams)\n",
    "    image = @pycall mi.render(modelparams.scene, spp=modelparams.spp)::PyObject\n",
    "    bitmap = @pycall mi.Bitmap(image).convert(srgb_gamma=true)::PyObject\n",
    "end"
   ]
  },
  {
   "cell_type": "markdown",
   "id": "d072ba00-8d7b-43a0-9819-0918855d3fc1",
   "metadata": {},
   "source": [
    "### Generative model\n",
    "\n",
    "Now we will proceed with writing our generative model. \n",
    "\n",
    "The generative model will define a distribution over *images* parametrized by a scene configuration, a renderer, and the size of the objects in it. \n",
    "\n",
    "To keep things pedagogically tractable, the generative model will make a few assumptions. The generative model will assume that there are two objects in the scene -- two spheres (otherwise, the scene configuration will be the same room as above) --, the knowledge of where these spheres are, and the knowledge of the viewpoint (where the sensor is). Notice that you can relax each of these assumptions with appropriate prior distributions! (One of these relaxations will be an exercise.)\n",
    "\n",
    "The generative model will define priors over the sizes of the spheres. \n",
    "\n",
    "And the generative model will define a gaussian likelihood function (a la Erdogan & Jacobs, 2017) over images. \n",
    "\n",
    "The generative model will use a much cheaper rendering protocol by setting `spp=16` (instead of 128, which is what we will use to render the observation). This will mimick the default scenario where the internal representation can get by with much coarser processes than reality."
   ]
  },
  {
   "cell_type": "code",
   "execution_count": 13,
   "id": "91dc271c-c7cd-4fbc-b528-52beb4a5f5f8",
   "metadata": {},
   "outputs": [
    {
     "data": {
      "text/plain": [
       "DynamicDSLFunction{Any}(Dict{Symbol, Any}(), Dict{Symbol, Any}(), Type[], false, Union{Nothing, Some{Any}}[], var\"##room#292\", Bool[], false)"
      ]
     },
     "execution_count": 13,
     "metadata": {},
     "output_type": "execute_result"
    }
   ],
   "source": [
    "@gen function room()\n",
    "\n",
    "    # load the scene configuration, including a room with colored walls, two spheres, lights, materials, and a sensor\n",
    "    scene_d = py\"initialize_scene()\"o::PyObject\n",
    "    \n",
    "    # prior over the scale of the left sphere\n",
    "    s_left ~ uniform(0.1, 1.0)\n",
    "    # we assume we know a priori where this sphere will appear in the scene\n",
    "    t_left = [-0.3, -0.5, 0.2]\n",
    "    # transform the object in the scene according to this scale and translation parameters\n",
    "    scene_d = mitsuba_transform(scene_d, \"left-object\", s_left, t_left)\n",
    "    \n",
    "    # prior over the scale of the right sphere\n",
    "    s_right ~ uniform(0.1, 1.0)\n",
    "    # we assume we know a priori where this sphere will appear in the scene\n",
    "    t_right = [0.5, -0.75, -0.2] \n",
    "    # transform the object in the scene according to this scale and translation parameters\n",
    "    scene_d = mitsuba_transform(scene_d, \"right-object\", s_right, t_right)\n",
    "\n",
    "    # load the resulting scene into our struct\n",
    "    # Notice that we are using a much cheaper spp for inference\n",
    "    modelparams = ModelParams(scene_d=scene_d, spp=16)\n",
    "\n",
    "    # render into an array\n",
    "    mu = mitsuba_render(modelparams)\n",
    "\n",
    "    # define the likelihood as a gaussian with diagonal covariance\n",
    "    pred ~ broadcasted_normal(mu, 1.0)\n",
    "\n",
    "end"
   ]
  },
  {
   "cell_type": "markdown",
   "id": "baebaec1-8ddf-480f-af95-2d45a1e11362",
   "metadata": {},
   "source": [
    "We define a helper function `view_image` to render and visualize scenes using mitsuba3"
   ]
  },
  {
   "cell_type": "code",
   "execution_count": 14,
   "id": "9a5edcba-2b4d-4955-8332-48dfc1b25c9e",
   "metadata": {},
   "outputs": [
    {
     "data": {
      "text/plain": [
       "view_image (generic function with 1 method)"
      ]
     },
     "execution_count": 14,
     "metadata": {},
     "output_type": "execute_result"
    }
   ],
   "source": [
    "function view_image(t)\n",
    "    scene_d = py\"initialize_scene()\"o::PyObject\n",
    "    t_left = [-0.3, -0.5, 0.2]\n",
    "    mitsuba_transform(scene_d, \"left-object\", t[:s_left], t_left)\n",
    "    \n",
    "    t_right = [0.5, -0.75, -0.2] \n",
    "    mitsuba_transform(scene_d, \"right-object\", t[:s_right], t_right)\n",
    "    #scene = mi.load_dict(scene_d)\n",
    "    scene_to_render = ModelParams(scene_d=scene_d)\n",
    "    bitmap = mitsuba_render_bitmap(scene_to_render)\n",
    "end"
   ]
  },
  {
   "cell_type": "markdown",
   "id": "dbc5cf49-d89c-438d-8695-192cee8195f1",
   "metadata": {},
   "source": [
    "Now we are ready to draw a sample from this generative model and visualize"
   ]
  },
  {
   "cell_type": "code",
   "execution_count": 15,
   "id": "7fe20834-7aee-40a8-bb01-9f03164cce56",
   "metadata": {
    "scrolled": true
   },
   "outputs": [
    {
     "data": {
      "text/plain": [
       "│\n",
       "├── :s_left : 0.6785536465946741\n",
       "│\n",
       "├── :pred : [-1.31907289571017 0.7791934920025652 -1.061643265868601 1.058523452840781 -0.5594256540088378 0.14022692902695683 -0.8298824485302423 -1.276798867200272 1.3467618029171244 1.247593772073236 0.0803963781396032 0.1658703622597976 -1.1444984950949841 0.9240093490081582 -1.209093716643557 0.5509492510466822 -1.5703687239441293 2.0001298761520614 0.4872618013415548 1.1426034446929143 0.9889647775835302 0.27713236992398627 0.38400513954472865 0.5588864583958014 0.03320615587089222 -0.7058722586182554 0.033031858717232215 -1.1756591730099835 0.21181388218441816 -1.1591689377440546 -0.2431931179669883 0.5264853518483845 -1.583306922824027 -0.45206796694936746 -0.3968806121810132 0.49525904436868995 -2.795490979944993 -2.19207492721117 0.8407205091108418 0.675040386697261 -1.3648682775376693 0.7937017257135985 0.36840035341928984 -0.6458243915944005 0.8238215850370464 0.07000275558047572 0.20916595346109057 -1.0557487952197815 -0.012206789621032364 0.5371369215157182 2.1819517074595285 -1.1248548889409324 -0.26487578022757674 0.018528954606991922 -0.04078717389411043 -0.15344631182957497 1.8032080025488324 -0.05916181772380122 -1.7851737900727607 -1.086577382791557 0.408399048899408 -0.6131268953632069 -1.1040265697473333 0.6860822006876045; 0.07615160376253886 -0.9962648843437406 -0.11752456317949095 -0.7696500390580596 -0.6737574688412195 -0.2515171349932276 1.3908737025230484 0.3089553926791907 -2.199556753927967 0.4104267253318366 0.3504431642387467 0.18899170164331033 -0.0008668277257800061 -0.22082385895076903 0.6610567615822396 -0.04044982366448249 1.0421651270250367 0.24014389535330688 -0.8552724882652785 0.6874114156923347 -0.2746785110287473 -0.6201041517851805 -0.15232831603335129 -0.36980954612888156 0.6753844429659788 1.7216927104576365 1.9275819204709763 0.8812557359864288 -0.3207901293631995 0.2657804404236275 -0.13791832026160983 1.3553483909752384 -0.22979942808070875 0.7608630529181462 0.9976756714091934 1.0469839289421121 -0.015540837843271912 -0.7880310660087851 -0.2969629629382579 2.1873959000309235 1.599543027013403 -0.4207408347674573 0.6945337379257419 -0.08251510095097542 2.0627534613023517 -0.46927600566282457 -1.3021828610129316 0.19005626612315304 1.2660673153712403 -0.07089703030337711 -2.018244721725511 -0.7828311435838649 -3.041500941934548 0.9755347169525389 -0.54814567011915 0.7458263434862988 1.190841719675199 1.0334603536518046 -0.904288014386067 -0.445607953864333 -0.11697252250505968 -0.40809274445432164 -0.6138911175308555 1.7357448499342796; -0.48789484197941685 -0.09790194022490577 1.6286990713832517 0.7073548212413991 0.5245951600985594 0.33668101221589736 0.13644742806920293 0.1682621492737028 1.2475311896085388 -1.1228843808872173 -0.006495756126300517 -0.4538347047403015 0.10702629520793594 1.2740136777184417 1.6659275836933651 -2.6598696022347452 -0.6134040843526009 1.3800487956006258 0.7987866506506835 0.660416991722103 0.48045752491347576 1.2617348656545613 -0.7501031872753952 2.4550528992253344 0.6170073961687756 -0.4910005631807097 0.8416088071502921 -0.09017847563262299 0.20683688276993567 -1.8157419119022986 2.4419947374519095 1.7096141078545493 0.006712038523922104 0.5343248500162716 1.7350131223901548 1.7481865480802092 -0.04124488760016293 -0.31734186233548656 -0.12617214397604143 -0.06165157672139604 1.6521377776014399 2.0401524917441742 1.107947418425776 0.7376665217460381 0.728908943856604 1.0138530535418333 -0.533806113317814 0.9861574077710341 0.2770897372463626 0.031884818394553205 -1.0303282264639018 -0.5093312776656866 1.149575179185527 1.6608038100801445 -0.2673398882773961 -0.045760395801316855 1.028834326883748 2.5522003387596044 0.37967718340543993 0.9336716819847863 -0.6123074231333108 -2.269199186556722 0.4880653795319483 0.6487196891724235; 0.83141816805271 0.12264600796944686 1.3186158536231525 -1.1002013817317033 0.8466962986377103 0.7028589404791349 0.42756983290022677 0.6807954634014892 -1.277409543419503 -0.4665616218080878 1.0506605998651164 1.5399605925325803 2.087400005069695 0.39217768558218324 -0.23510415705524262 -0.07474856543347025 1.6486119158614183 1.5652294060227865 1.3860894451776695 0.4724537963626639 0.3927522319007279 -1.435865201499155 0.6827867613253324 0.5709179960384225 -0.20940597900129165 -0.5760665622672542 0.5522812089871565 -0.6877085563076097 -0.19675394629867865 -0.1209086919904816 0.9986213177801501 -0.2521443558413574 -0.9203234482701166 0.23347086448151286 1.9135453820694384 0.19641079770636222 0.7151334469305477 0.6397971942703504 0.5189823432949504 -0.06325390195695757 -0.24703265550623543 0.2961012458633298 2.197067099199761 -1.1334852105361524 0.710947707719175 -0.095614772623896 0.3058768628195024 2.588157562747819 0.8779415201609005 0.15785150419277733 -0.614872300543622 -0.916173798383279 0.2356460765663226 -0.19757964188684396 2.085530102594573 0.5857968028557852 0.3174901230508583 0.2927744903470747 0.6043615846634436 1.4978963144636108 -0.22182370947670205 0.5480571891081666 -1.3597397732008663 1.2229713407146117; 1.3631945058134995 0.7070196041841172 0.01064242127913853 0.5264304297934458 -2.1087952776178227 1.355892439933703 0.2391835885198372 -1.2702908114891023 -0.8389815718058748 0.9230266670473419 1.1202616638476575 3.0697669510881007 0.19966460744027995 -0.04756168771107505 -0.6546564566073058 0.9567697508049616 0.8972579561271846 0.9976045650197313 0.6206737714301906 0.9749350627772829 1.089340984232476 1.4069223510243591 -0.5517801280246397 1.5297106768271616 -0.19559005842850508 0.924131445693837 -0.9017012977523355 1.3358527892643335 0.5826063684762148 1.0178841008087813 1.0050595343923918 -1.9327477086042477 0.19536344776650116 0.2713404566417559 1.3568894715324682 -0.6103936694033965 -1.4145284796461606 0.9185130566436024 -1.010416670035683 -1.0907399087987606 0.5977806377128886 0.6347573080597979 -0.211471566556244 -0.11865663279765215 1.0426137451961255 2.15450135083563 -1.0961701216160626 -0.6675799966999361 0.1482110580440897 -0.18418683309405454 -1.964082916071058 1.2495673939290315 0.13858337151152478 0.1458656905679434 0.5430246351633975 0.4814314361143759 0.5218047572145419 0.2170347372625981 -0.05905737566543179 0.3197601371813449 0.9228699230558963 -0.09953025849225061 -1.1143628508370884 1.6421904525545268; 1.0059459293306743 0.14561834296118592 -0.17689370747915006 -0.47046767370054343 -0.45253514629544567 0.0343339879502485 0.6848629004086604 -0.19979687409607494 0.36258266366488484 0.8994086001024687 0.8904273888009905 0.48675336113352097 1.3439547472166185 -0.12125514796854625 0.10152733143268267 -2.0247132718531904 -1.0945801102433415 -0.8658171896279048 1.2088134458306137 0.03581604397761795 0.06704312347498398 1.7424999204251077 1.146860747004829 -0.04929990149181618 0.8371909784757073 0.5677086310637448 2.206629082418697 -0.014050769395947071 1.2217233943397363 -1.4250318805157276 -0.7758061827053855 0.6062087650064039 0.4706402849403224 1.219504752857579 -0.6911845037275786 -1.7657849578055562 2.2402386295777315 1.4156177131227397 0.4191339140463219 0.31158523319160414 0.09716749642313927 -0.417124813723169 1.357664590630272 -0.5116380377536861 0.2613994085044341 0.676872193437267 1.245412661178436 0.24089267517988747 0.9703157087696899 0.1932002174248573 0.5023891094760846 1.0315160129721008 2.2333561503644255 0.4256647371924077 0.8635382935949021 0.5752538628186044 0.33155595972852214 1.3337563686586877 0.4456510545600033 -1.2273400742265794 -0.4828001873494815 -0.17036789975919886 -0.48151691038334454 0.3448240827205123; -0.9457126356073013 0.514026542152904 1.7821217512117569 -0.6750808802708522 -0.36541880084475076 -1.8597000632729184 1.71219961694891 -0.5770488679661402 -0.6520139186332085 -0.3356934202237213 0.6496320929547599 0.26782481226828514 0.5941755237318656 2.077595762939584 0.3700199887461454 -0.7180851468689324 2.539126515041835 1.6418311437880955 1.1494875976280947 0.38745449943254506 -0.5096693472666258 0.5016783388447514 0.9456832682218336 0.2631924170278731 -1.1035882175542602 -1.3524862153487427 -0.48257467443844704 0.4219183898460811 -0.24686617723159932 3.2529684780538415 0.45787483774391136 -0.7679705991432546 0.7229587192088092 1.2415349176156152 0.6453280026343136 -1.2207934167061927 0.13028567919929945 1.3175518496574352 0.1599614585485275 0.6329509461742341 -1.0408074983365136 -0.10901971415927991 0.10319725086490028 0.8541360477292252 2.2119863862694222 0.08814352549647086 1.2022426446439483 0.866702154372927 -0.46605666908312404 0.20317010559232784 1.2045098128518452 0.0732806318065542 -1.242069427641183 -0.015161506773061384 -0.05680028186024183 -0.549026342094146 -0.6738205798715595 0.675119245268291 -0.04449582296883914 1.1499162395260023 2.3545640559922387 0.5155689641717662 -0.1422688776918363 0.046094293548359845; -0.9721370147921768 1.2344428548191195 -0.024800763397529513 0.01994646864984681 -1.4713512750891673 0.13135119516826152 2.4676216023370294 0.11732692865729781 -0.5602453074735364 -0.15484909912118894 -0.14834616132294054 1.0766089007346804 -0.38135398177529145 -0.22135508245640545 0.5678743761359959 0.14914087987511593 0.7193407056063514 0.3354130904949856 0.4426782717996937 -0.2883961428895142 0.11902297860966898 1.8902244000764765 0.42514347182624873 0.3627100872154369 -0.7165696335352476 0.7419257361581056 0.3865857364994327 0.8440811056536123 0.37340271280971793 -0.6358146266759475 -0.7997786382929866 -0.4948911034400777 1.9935380529742273 -1.8082615214637459 1.0162863071547283 -0.3380701531922271 0.29871324049132886 -1.0723676440361352 -1.8638337560403504 -0.8387417890432465 1.8105237686223037 0.3941719379010743 0.9472163510746228 -0.5644814430585499 0.080505322330226 0.2368100386570508 -0.4122257315972101 0.9364770370778698 0.5303227242350759 -0.3964102003612221 1.396083214660306 0.24751203996730883 1.4210149955704 -0.10334442121143061 -1.0154192739207821 1.3637623267514125 1.799549715523226 -0.365516758762353 -0.11754608962820418 0.22316403411819874 -0.22526512639184582 0.9678139084340898 0.7429639600151169 1.2668992449313934; -1.6855595855346819 -2.4869667827870066 -0.40163857062598163 -0.043036155666242165 3.842693284397006 -0.05222838879047648 0.7963957109897049 1.0627902217416274 1.1934773927357318 1.0199845758475576 -0.896361136083526 0.12244205389264004 -0.760467168981146 1.4681646549126315 0.17983064783427094 2.8792221711063686 1.5980940292181522 0.1659468968665399 0.49800097360172796 -0.4409182307099816 0.7405733579399651 0.8242669675409224 0.2613895480976991 1.5040958890705243 0.7911498962080759 -0.15891072902402203 0.7544323308452311 4.392793323924702 2.7481845813398103 1.645716596678147 0.9092964968007091 3.728818526586691 1.5223140635851042 1.621786720599063 2.283724609790764 3.412132697265022 1.7864577518478395 1.2416423463778963 0.4287254174978912 0.5350950562155714 0.028271042575664707 0.7396019841477852 0.8176578992336814 1.2793869290189261 -0.20780330306191552 1.3769400901757058 -0.3412294068294731 -0.025743886399796856 1.8239900686874557 2.619109140138575 1.7699883041047357 0.7983040840581832 -0.6462059623063476 -0.0334977757778302 2.9410732785788216 0.2771727569577564 -0.4587479877626869 -0.6734855887559485 1.6211380235204738 -1.2191680924183848 -0.4070093019507396 0.7786360343209158 -1.0832156313419532 -0.3851881358913982; -0.7039455615736733 -2.009348643448551 0.6399287375346226 0.0783956596649028 1.440677565351822 1.2610720337354657 0.8105902021832934 0.4521626361958651 0.667192161769113 0.9661200680175239 1.3718489878740252 0.621463248097063 0.35766055120919504 -0.5165227724113944 0.05830743778673403 1.5301742844436776 0.7017984309130274 -1.0021630505070642 1.0594957476906794 0.3930063931358946 -0.91415195149902 -1.0292808079851539 -0.7647710342258724 0.3946395172269246 -0.000960328760685969 -0.24211055446719076 1.3615580196654986 2.4120330880117384 3.7884325969753645 3.8135121607176137 1.8461417294216096 4.881638416989631 4.6517909133825786 2.711628077068219 2.246209238834922 1.2973469915279114 3.5780730076462803 2.898997117250838 0.6435539164259276 -2.857336783857577 0.7322644380652965 1.9919519462168536 0.38460528307153014 -0.0555820865462332 0.33147832733738614 2.458724777904024 0.2455483410061165 -0.8337928215722623 1.9228661490315415 0.1739003702355626 1.1660898321778488 1.1277602612347652 -0.9945363834364074 -0.8103075411511937 0.8537365513165649 0.6911614630427045 0.19790808053032038 0.8076275556371794 1.4445817032967412 -0.9840588158297647 1.6035524513105646 -0.5759963541019654 0.9370054346898307 1.3500855953259758; 0.5779743626548794 0.4576352790627553 1.68371688706295 -0.9073484911195513 -1.0342349584614556 -0.39901772480723097 1.1972065236133056 0.4564963958962165 1.6183606869203155 -1.81266703104887 0.6314663704230015 1.3072580531446096 0.47795750123738723 2.7169102693526366 -1.359166219163339 2.4232505519885668 0.04360208652852887 -0.5218923421806982 -0.06506378521595557 2.326658334365315 0.42307804770225915 -0.09770223870449535 -0.012326054784832285 1.0858652234318356 0.7773274242432623 -1.5936705041084065 1.2338082005535387 1.4133569526206038 3.2805574069065306 1.9862606123389024 3.5062973534219464 4.623439984124398 1.241585232411761 4.621673863648241 1.9494469879964158 1.7681211640807308 2.589344742936547 1.604404107273186 0.29696565270644804 -1.5192012964286867 1.2305332476694704 -0.1566557982093798 -0.09183838631112662 0.928467644631374 -1.2790201325881188 1.1262994876299306 0.26013907369615114 -0.19496796454906395 1.3019022608154516 1.5010874375450403 0.8548117129574427 -2.2312722953328277 -0.03973113277596052 -0.641337262080927 1.7758695602575887 0.6724435321907445 0.5606631205830901 -0.66863546789305 1.7086146625914544 1.723526622813608 1.0919220205894016 2.0717623874546582 -0.17575666371284482 1.0039372707070657; -0.3413315036285271 -0.1197455254809924 0.12850707638191775 0.7520705579303234 0.21367822607094056 0.7867336657866241 -0.6585447154015555 1.6424153648051298 -0.9597866860703241 -0.6085857883801999 0.9351226257474986 1.0295419071916188 0.15011412322933793 0.06145105140795959 -0.0021127925168032413 0.4374906895549691 2.4974691352295753 1.2044842756269953 1.2074560610068703 0.1826690737899147 -0.7132662586363092 0.3636549841249107 0.8743330903186606 -0.19491943226741792 0.1597687724406568 -0.8761558767715831 -0.8038838575634255 0.837997776984615 1.741595672441253 1.1685710608559052 0.8527978673347569 1.0945736124244894 0.7324708625461819 1.447223286922532 -0.058399823792249395 1.7828695723230576 0.80021332334528 1.162760267803458 2.0163271428585627 -0.026745639202250926 -0.3614956767104551 2.2158294845657833 0.93976009841438 0.3993043853917648 0.697127597717401 0.250654018457783 -0.27619926593007893 -0.667554501078127 -0.06598463424337941 -0.6108260670331627 -0.03057958699247687 -0.8372960874595328 2.0227836804800496 -2.369343753425284 -1.0433351452837663 0.6408820460420595 -1.089874093169901 2.449946803114037 -0.003030807034630545 0.9213416346682484 -0.11526588413815586 0.9700382572863943 -0.6908049004317217 -0.7421264882110444; 0.4608771071253198 0.8913666596196104 0.20702804171986436 0.2641003295736885 -1.4984845616628997 0.14926525695270731 -0.5088731721128817 -0.7641179851350156 0.24987566615156767 0.6936938193756861 -1.2087091155297676 1.6853954101706599 -0.04264472427898708 1.204319822923888 -0.055830444952931824 0.4434944634979504 0.0978521828121941 -0.5300393941704964 -0.9292520711894487 1.7124512578917308 0.7540432218589603 -0.5203520662138174 1.293167478327589 1.3821720788088987 1.089427523651151 0.5943476413564062 -1.2626466758059722 1.5225943868397813 0.738673816465022 1.5900087297417989 -2.2908005940043012 1.1390221019771711 0.520504051924742 -0.30850158452439913 0.536564157476058 0.013715431005566603 1.2304888221825743 1.1524938820547426 1.1935814447028303 -0.320350928355963 -0.2572403758507915 0.7910000811537109 0.7328392934970966 -0.8261387073871185 1.5284056821145202 1.6654159511215485 0.23863319801533217 0.7498573098366637 0.17725735200523507 -0.42373261759301106 -1.4166229012105205 1.3285910391746771 0.44774512640595204 1.1074438705952163 -1.6098524067228612 0.5078745051135742 -0.5675775753738177 0.2608048934103683 -1.0071553052765776 -0.16656554113359778 -0.0618956156936209 1.0300072403052658 0.3422708665163312 -1.6718387660234963; -0.18146609320924004 -1.7704433929887347 0.7262920709068257 -1.4783676835633677 0.5862131450653602 0.14414854073658345 1.0054741225732644 0.7666966381813256 -0.17542305125276886 -0.7510702071143526 -0.1131001061651905 -1.0709431395272386 1.106012698535308 0.42167685066633087 -0.4262309746684203 0.2722156271419271 2.8834137945649028 -1.4947124464969535 2.2336401719154164 0.18390241202893798 0.43252334893338534 1.3521127531870256 0.769799057708484 0.14236043169093665 0.09624557994646443 -1.9555326790120908 -0.6873188725558348 1.0210675594851306 0.6919111565437082 1.4623061499415293 0.9253733822646042 -1.9406918537556712 1.720828588646373 -0.16538184389487687 0.7243753103661228 1.7423507659564956 1.313260601132843 -1.2002681771474364 0.37562304515753137 -0.4334285650179376 0.4276168885123486 0.3692367064610298 -1.4475897432581328 2.013159949881668 0.41286328308933884 1.0845981727524632 1.3223957405210602 2.22695954950236 0.2905997164789253 -0.40676659014931005 -0.18778071750197012 -0.3487980312397134 0.6631740351202647 1.3503403717567086 0.7388502774928901 -1.0107623334804516 0.35722153273764845 1.6670711768656916 1.950818098620729 0.9772388750177428 0.4168020140424686 0.8600431874085908 0.5366935639025381 1.4360075861821466; 0.2946301875914347 -1.1189950852559831 1.1064879475091924 -1.4992494996812837 0.5752693901792623 -0.025362288085413937 -0.02331121065976699 0.1657449604422287 0.0771197859927317 -1.567284836643528 0.7651036855148281 -0.1368900821348319 0.19758636881094865 -1.2886018786813134 1.552004545681799 0.4812605505762725 -0.5028859112138271 0.534942246992747 1.5810281899108196 0.991870555900515 -0.39178856223086633 -1.272697840517698 0.5165665709855347 1.3672255143751735 1.4164511095249575 -1.466193355882334 -1.4484488930838935 0.46074152771920496 -0.1977147029789349 -0.7481151780825044 -0.481005003978236 0.39253053784435843 -0.005013578330161805 1.054772649578206 1.2942511443812654 0.9692855939701939 -0.3102212639146671 0.38028521407522575 -0.05644907581662567 -1.6554118411753995 0.7339861388264464 -1.6156881179416946 -0.9919536125661974 0.360921856661763 -0.5343613044816664 0.9433897712370383 0.47913366527247775 -1.33978294580214 -0.359295653953815 0.5684731453433947 -0.7268526061483924 1.2696722071924236 0.1355660147677531 1.0291209917258413 0.3742663069978902 -0.984280817737617 1.0067476229145484 -0.4713631811671194 0.532558225239251 0.6504315245787071 1.1070049904709316 0.054131196123841985 0.01358261111586484 -0.4854727137411721; 0.17925996998379087 0.5207304779971551 1.4768276842319537 1.301365916743578 1.1183929139728332 0.027113604271829156 -0.15661082484125216 0.14899812537536422 -0.008715864815495467 1.658068352074931 1.9982339916817415 -0.9666464110503827 1.1859559192911384 0.5161992464155372 -0.07126962917601676 -0.41574504064398454 1.079075624681003 0.00228154375869577 1.0928666574745054 -0.2232219383115951 0.4944193952753986 0.4042912017297464 0.024175443563804577 -2.0189708694048694 -0.1825742027537789 0.09951072574449066 -0.5595367617872744 -0.2561198940597038 1.614163789234356 1.5093849641316095 1.756924713008505 0.96349528210866 0.9075732761260593 0.3506245603252195 0.44983216435337664 -0.22515634518212158 -0.0990430741220022 1.8694226072061293 0.7883681427156723 -0.4090604996751417 -0.0792502204124107 1.7892821869733622 -0.0014797384966533933 1.2892819082166809 1.0278649214104993 -0.33275672874218765 1.2802564365608653 0.3539355478920072 0.8753982896577586 1.5077058752562627 0.6108469030462851 -1.8766797981609833 -0.20038566963888105 -0.6616399179246097 -0.141227001539443 0.8794418757360966 -0.1820924419935923 0.3958337908173924 -0.20311853849853156 -2.03736313230793 2.06265724626362 -1.789317150764958 -1.6070101433160993 0.3002131037672344; -1.833188546183901 0.05875813095806655 1.3072897891206943 0.5857394559169702 -0.9326235231573166 -1.276886348629593 -0.17313798341663655 -0.39986221449639914 -0.1367110179291003 0.8036609300221593 -0.756578053712267 2.0827389336013256 0.35820416576698155 0.9399439533167558 0.021764138583742654 -0.4102615574885945 0.037351033304293624 0.9050588418176302 0.74892771559667 1.1034023395266295 1.7239456900030392 0.8263213394313893 2.143374691364659 0.07637924842111327 -0.059044731330441524 2.034832691475282 1.2947602964387235 1.3748362266654164 -0.30765501663167827 0.15672607529114935 -0.22114659426961591 1.3737857126589106 0.7783864184391964 1.5805262965290925 1.1791010692699304 -0.6827296084274632 -0.133359493734442 0.5476965922348433 1.8669399960941984 0.3281135545230562 0.6997429828204494 -0.06789994800534516 0.9238842750600215 -0.19982305018181845 1.229776275904534 1.8118572735850014 1.118905667058208 0.28529646106536843 0.8542485573751557 -0.6573439337664027 1.6542827123936685 1.1620068896942388 -0.6477930375975272 1.5206169467712058 2.707853919026987 0.16697507609950646 2.230416446505769 1.0593818778623993 -0.9317821044969563 0.5844729115550794 0.9168674931765233 0.9803442158209432 0.003688332741666439 -0.6128390020786455; 1.6498054096684656 0.05487729245723185 0.041455109903292306 0.1336280484455353 0.8281807216190967 -0.4210536787358411 -1.0847971445675815 0.7850167131097885 0.38612846436392767 0.13657732005934747 -0.8701630121321144 0.3348895894355467 0.9113816189311427 1.1965592864797943 0.5592911652703343 -0.9667112507522473 1.8084885082599147 0.8681235399001308 0.28161075469900565 -0.223243081062652 0.009679708761168748 1.2009483947408413 0.5888096786161381 1.1248998183426848 0.0008562178781736929 2.330511833541857 1.6904284719852347 2.609179188195055 0.3073861153144011 0.9809937795746178 0.9381141823706426 0.2686945536561731 -0.20661310831976187 2.4643821551006684 0.7331112614684644 2.3848527287664565 -0.8205815762964981 1.366589841050347 0.6705193629200134 0.5937091597195676 -0.11776112820455908 1.684072818272754 -0.6073308751695172 -0.0991224820406379 2.093225311463084 1.6395335937915345 0.8276911809243213 -0.27814547987385074 0.9587494665536209 0.08752688816050125 0.9377110242856757 0.350029764266993 -0.5884634998154235 0.3589727045171211 0.7276457138239187 -0.1540157839986821 -0.037284508376329795 -0.019690690214043793 1.583727613618586 -0.10479285946726569 1.1701563180621783 1.6921016981336148 -0.2686860932538211 -0.7234122529099871; 0.6263035309118252 -1.559742865904322 1.080175604437914 -0.8309906906631603 -1.2043687052574794 0.4306321359881262 1.0490848245769548 -0.7827646672167752 0.25473173162807733 0.9611627558470937 0.34055109448110565 1.858860382209753 0.04434882110893343 -1.2321136671279949 1.069126408378609 1.7142778181723903 -0.3180575615119301 2.790845180106722 0.800554830036303 0.0316569724176764 1.2955308172451263 1.2698031260477687 0.9477981105195404 0.631040661216179 -1.150868130815251 -2.0326576649711345 -0.477854722258755 1.4117134345609013 0.6231570635330786 0.43523225627032724 0.6675337027784619 1.4278885503433498 -0.4315793281523954 1.128955328921922 2.1077881771563725 1.2270915761788392 0.4863002400135959 -0.9500337741466773 0.6958834029997896 0.30748142013075924 0.19746472481919258 1.2516322410641112 0.7537957480138685 0.5366252872397755 1.3768978991462562 0.44124110097723923 1.581104859088445 1.6525043857729305 1.101063557126257 1.1003884356858769 -0.25065894488869767 0.5115525295988218 1.1186073971296233 2.420262910544029 -0.01682266493282003 -1.2463683779722556 0.3274399384735615 0.11719822636075478 2.1909862799143927 -1.0236608771508668 -0.3044618416106437 -0.982686750923979 1.7406941017939968 -1.6264191905054988; -0.8117650930467284 0.828456669356749 -1.446630717671264 -0.2062635606297627 1.0570469594198786 -0.5607669173608902 0.28198924145579285 -0.6794280658488387 0.15210876183584243 0.1444985748626753 -0.4415106757360533 0.60250343390628 -0.5010553604505897 1.1525400196349327 0.3857015333725364 2.9572971103764463 0.8691421731255238 -2.073468420768169 -0.2208241726774095 0.9801705083794625 -1.451300599919164 1.6174288437360296 0.3539358733384923 0.14699672647214485 0.7564807187678498 0.0415672086030906 0.3841606311386785 -0.2156268531430675 -1.115633385935825 2.527966815418882 -1.5364260998447077 0.6290736545476907 1.3166499503650737 1.6543797201370198 0.02941624384928354 1.3091799453592836 -0.5209836645747334 -0.33063685884172767 -0.35434431522204446 0.6736313541215526 -0.11127869294259862 1.4384368587706862 -0.11702742924179743 0.04220417227727358 -0.192132618543423 1.6609113143647098 1.4500145735116834 -0.6895688863337253 -0.2945112995554685 0.7769072574652903 -0.34159274391419825 1.4844437439195122 0.27403264358140206 0.5924795121610751 1.1251519157618148 -1.1530325540511142 -0.5672475274947877 -0.7103915372916012 -0.22953460698716766 -1.3027037358691722 0.631143381780414 0.48002798643918093 0.9742664477351531 0.7570644507577564; 1.8093287727748815 -0.9220553001023738 -0.6356004019752812 1.3820070631562311 -2.56656960517683 0.10058650341648782 -0.30890675347930696 0.0267482999985153 -0.26600907237537896 0.2638459113192963 1.0016104985019687 -0.24662630787778334 1.2364430311086418 0.6322326895906653 -0.326081908242167 0.7812804521451046 -0.797434544424555 0.9694768740258607 1.0324876084441084 0.09885202936516646 -1.610963194214778 0.5065055430033866 -0.6992874875609436 0.944755925984524 -0.6128538795402783 2.7671085520304373 -0.6020258649686803 0.14351612350330822 0.16583671888124774 0.016319768742060425 -0.22519699558343842 1.5547129462013625 0.9459936974936349 -0.3395570189112682 2.0072520230223905 -0.7292814564806989 1.6798172162623748 0.2911600804567324 0.7971524075018593 0.5665254821446521 0.3096920345635712 -0.8059929754230573 2.1032018886518173 -0.6814797764439919 1.2925430898476329 0.8202744614898854 2.3533084912529754 0.32025257716757116 0.47897517449829335 1.0006398119958964 -0.7638315258780217 0.47601036571067035 0.48859652379417245 0.8510003224144342 2.101619917105015 2.8877024673926934 -0.4606970871776812 -1.1847631450041847 1.3488047230141373 -1.0395227592506173 -0.682911417937818 -0.2147740857581546 -0.365147362613666 -0.9507731971166133; 0.593449736938347 -1.4639631112879847 0.4894415612329641 -0.06465737362740173 -1.057612702111008 0.7765631512574174 0.9620384063026806 -1.1040129871704343 0.6192082235191053 0.6984322859269342 1.7940439958252847 -0.43550938883645374 -0.9054775279424971 1.4642581451451877 0.18131639390972962 -0.44792562539981207 -0.07459648638147287 1.6607217712681126 -0.18960061580517185 2.26529056943551 0.29052015781014495 0.9770246938487438 0.08206651746072696 2.777565766724179 0.9490692690087212 0.2550847057646037 2.38744083756515 2.6490117771035995 3.164124026957358 1.0697809881973268 1.7128333381552001 1.4453294037825968 0.5122699639463564 0.1155444390351631 2.5739331516341313 0.45602647921665873 2.2026465526388392 1.3165038648959888 1.5804453123368833 -0.20822052896441434 1.2375093022739843 0.8040432091168765 -0.20315052118580612 1.9957555244261356 -1.0185078069463993 0.7640415104897973 1.765283436377804 0.6001349139170193 0.40141588033389897 0.819718141879499 -0.6716641320137917 1.2601499317382452 0.052729731264819835 0.2913567179906817 0.2727941336463183 -1.086637584292545 1.3560606251027982 1.0276021811806602 0.26437087482872274 0.4911026931630652 0.6783259441273621 2.2033686665218744 -0.34580588659148215 -0.2987344004878911; -1.1941896330776391 -0.18564484757691851 -1.3445980582045753 -2.323863881092362 0.2163026722286362 0.2574381777843224 -1.3511566346328923 1.352148991263346 0.15355299021735136 0.9587743503461744 0.37676252244589303 0.395574411446436 0.27295296388553714 -0.7226208178677662 0.2109294761535232 -0.49818600677317426 -0.3003070274226609 1.0710660050674805 -0.10127074767289368 2.3982397296856353 1.2730173230054787 1.2096298239952228 -1.4524898440666845 1.2150346648633537 -0.18135881869253334 0.17542589540234055 0.5859194563301081 -0.7283390460630108 2.041870237254879 1.2027114532213288 2.141231784736093 1.2429833082272101 -0.5330676302793096 0.9221047171684515 1.3761100288355599 -0.9566775732987152 0.33564906138406714 0.18831345522935394 0.2118897820084361 -0.8896262968642605 1.6722050124212178 -1.6072174437690099 0.2946057959110192 -1.100501690466619 0.19370771800237968 0.932080410187424 1.1135223006832602 1.512822776297799 1.1846829423453982 1.9596220938685305 -0.5983338796134547 0.8799596064561174 0.9362286775846366 0.1449096608599491 0.24280941783936755 1.739309804594 1.0412669934473633 0.667373644611857 -0.9711631378720684 -0.3826986659623022 1.8171618277821975 0.11404527176896523 -2.372049941579911 0.6605515347242568; -0.07167172253667266 0.7907299261552739 -1.2469935243729031 -1.4392660354215967 1.508468612047988 -0.4747288561727505 -0.5573961512163822 0.032045991804895174 0.1560001287137166 1.104005189424342 0.7198897052428045 1.343658789714457 -0.6733416874404644 1.1525050470735745 1.7045455419027424 -0.9511646646155796 0.7790254196938726 -0.23021169073825032 -0.0870680595529848 -0.6992546333523095 0.16626955874438226 -0.5717682206579828 0.5359910560493442 -0.3056771136273143 0.21255836193346572 1.9444549186105233 1.647649787346399 -0.28710706550156906 -1.0601030433389904 -0.27504536452875916 -0.4627689772651764 -1.6344058745163985 0.6635948077241101 0.029971106404033443 1.417124632333905 -0.5962697162019102 0.1227333247617638 2.079552420451729 0.1734175420188837 -0.6873643385936681 1.5907514194010977 2.231454587684911 -1.1399611215714904 0.9143857956469943 0.9293809395238566 0.931014245750269 -0.4042394255884375 1.5498195745805026 0.9513887069621472 0.9622925698773495 1.0721556035235102 0.6848032065579155 1.2964155797899024 1.2967325203787476 -0.30873745097349037 0.5032533374678463 -1.182572166352079 0.5619225561735862 0.9614353985061701 0.2606552294763825 2.058144967974167 0.2834756165400193 2.0174909682837283 -0.6180952065786617; 2.609515555918787 -0.7608941271363527 -0.010329297106345059 0.8731070189514428 -1.6058627312071898 0.7875646742213941 0.7196834514178336 1.823423738310018 0.9712180871171294 -0.1398212627557261 -0.7154057216494266 -0.7918160393765514 0.8561890513108438 0.8778768498961279 -1.8104970219064724 1.1578194352554751 -0.11110845384113477 -1.6479939252192923 -1.8885806050545222 0.17423322382880174 -0.2618232815515208 -0.21656789449525826 0.8956069872336259 0.6590811749558709 1.1259391894788817 0.49342728200420005 0.5190875380854698 0.3005506874025516 1.8063656958349734 0.48884468787513224 0.7631227608461469 2.355307987180106 0.15777274134125374 -0.851037019976435 2.8346459267134714 0.18159531001814067 -0.254989331451569 -0.1718187535963005 2.3303904605017185 0.6601975189184905 1.9964350043150147 1.3786190655693547 0.695344218757523 0.9305683458825342 0.5063520335679754 -0.48186153888069594 -0.09921863207450743 -0.2747522956946641 -1.3938852164718996 1.4624313483517586 -0.3727377694803258 0.6411258879350387 1.3628005191710395 0.3503382157001291 1.8075977344482101 -1.472498078107408 0.30335672501218447 0.32832139645594216 0.7520811631840026 -1.9920868084731134 0.3666701862147246 0.5303442468541144 0.3685894287134078 -0.4146539996372107; -1.5342812866902233 0.24941613469015056 0.5132659067971437 1.1107248209790739 -0.6552816661374882 1.2906481121093791 -0.02089211741195346 0.344436678308491 2.34021902612845 0.6855059515241584 -0.7693732752799118 -1.4018189407208623 0.5784349614368816 -0.6087269939686244 -0.5252661353652647 1.6771874914480311 1.0001610230002242 0.16882665503789257 1.48843601848498 1.432575404802908 1.7075362122816913 1.401781429953417 -0.5513564027328601 -0.09024180721283659 0.20587548006336936 1.8178827703436327 2.1104753856420357 -0.3028559171890326 1.5330082522268609 0.7788700007619995 0.9948033308550225 -0.754610242498406 0.3367188283211198 0.9819877535284247 0.63523284167634 -0.02795048155351476 0.5514783170544019 1.1352631152254078 0.8116893859779253 3.1906131963169377 1.1566132399232527 1.110747146078713 1.5277814285926932 -1.2753127104584436 0.2800520035665305 3.520255690809169 1.0202509499821242 0.7775620249781329 1.8382582060502988 0.707882803256822 0.23301517048475634 0.19008368438527684 2.2639957179350514 0.5277452185737299 2.316459666158776 0.9705130959409469 -0.2964469413025679 -0.3829914280294352 0.48036461714692846 2.2086402109579693 -0.6969543278382684 -0.6185657532771605 1.2206827624654588 0.30824082369630157; -0.7291838883434156 0.7920251520459942 1.1273583295745553 0.536564450180607 -1.7761233637563274 -0.5464494669411545 0.17721131128869083 -0.2241612445863458 -0.17890624149954543 0.14232951635119917 -0.05825615593664696 0.4103347869513744 0.21195955440943437 -1.3266364544091638 1.6325293288987441 -1.0185325694080531 -0.9430393076810786 0.5979829384932163 -1.2940890201118935 2.9331884226966105 0.2785002660421617 -0.3894265516706088 -0.6745122751864419 0.7572217369111215 -0.523357500242825 0.219235722778147 1.1997894639243811 0.1442013192329039 0.9675998008123737 0.5052845034466388 -1.249726467551001 1.93101122233778 0.9671356846886345 -0.03216726206911069 2.0206491488699667 0.06619833783975548 1.4627691275068393 0.47290898522187275 1.932734048636842 1.5460754396579979 2.7631700013818805 1.5877617708196186 -0.3058586564008704 0.6240911404066196 2.07971491664392 0.441904805334646 0.22970769761137522 -0.4763680318703525 -0.22191222804683297 -0.03905291700355029 0.8391459575797873 0.8620242588347142 0.6226046325499874 0.2644794726572327 0.41815658516720416 -0.17633617634419085 -2.3016933524990173 0.6400720810144976 -0.13846937943396953 0.5419352847139473 1.3143295565384454 -0.017532862610753097 -0.598076759190214 0.5159730494821183; 0.3574387735431823 -0.5090331979191797 -0.013210246691871236 1.4567810914386574 0.42601732560223327 0.1635561872159433 0.59517613032266 0.9435720020962926 -0.2960675015380977 0.9722203656722316 -0.3672002906230746 -0.23706512964886212 -0.4083340049445847 0.3263502003804811 0.0425936584094988 -1.027044772963721 -0.19390743906537167 -2.2580510166793943 0.4504687107940156 1.6177614253912185 0.5881269065187618 -0.40566077340200835 -0.3538594906710055 1.1629380768850814 1.2520047852386935 1.3733602143459764 0.17464846161508674 -0.38197666686487675 0.15525752041089935 0.06711808906962247 2.457825043047606 -1.0953886773326904 1.018634479247318 1.158276904234774 0.7642452463185466 0.6590770677705766 1.1884302949322476 0.9129536869705649 2.79796142409098 0.5174797813730254 1.7076336167310318 -0.1564293213755601 0.01160035170302598 0.21544331329076916 -0.2286034708393031 -0.3495345334736304 0.9090903090022153 1.1512609000474763 1.1004648765460496 0.8939594622322578 0.8451821973225964 1.8989027161199505 1.3252730785195235 3.283637038942087 2.445892055899265 -0.21276845024850843 0.5129770503813875 1.8897105790250575 -0.8941945388128596 -0.9299575064794445 -0.004698172409238255 2.652828235994338 -1.5765616271631853 -1.3830015406852663; 0.1254009422938944 -0.10645208488636572 1.2061239996479267 -0.49260504130700966 0.6335951881515913 -0.41965341703001946 -0.6442475448002147 -0.36841934645713115 1.1171987549361788 -0.39380135997285304 1.0247380885234796 2.3456374392554324 -1.6209771166587839 0.9470052124559308 0.4073777179396918 -0.3046289166527886 0.3846556905772849 2.193925594531682 0.00730041012734628 -1.4080699769158052 1.7351803308462983 -0.13062828191691023 0.37002001016463903 1.3813826017372919 0.8784025317336285 2.894722260785528 0.5757428114116105 1.6652366521294604 2.0672815173158403 1.5150634812886676 1.8968065911395728 2.121065606043725 0.2921029877109762 2.138344203215339 0.45638017741934156 0.4040711898850091 1.2320198196908114 -0.8040757143285082 2.4909948306468426 -0.11849990908303532 0.4008411601897595 0.7936975996307799 1.1873489784434326 2.737603531053653 -0.2976473007907938 -0.04571136902362605 1.1645861777996314 -0.31112603263176775 0.08741513521729144 0.20275402723864872 -0.4489847673908395 0.9829030051526326 0.11334938671527495 -0.7124349618576122 1.8804694895197132 -0.9771388009232671 0.6735905228597002 0.6330839106075614 1.9433059538868676 2.6333244192010805 1.2315799684715039 0.053719600575476256 -0.29816020108689767 -1.1108440689040233; 0.3679977812818756 0.3088434310666105 -0.9799442043594815 0.29487288223663743 1.642836263044568 -0.3785814001267428 0.5938792373020676 1.3382046695147276 -0.21678305577147133 -0.4663814987645928 0.33467386501543694 -0.7318790856758767 1.7515517302193027 1.9176639028608493 1.1362834283315957 1.4551666473353193 1.6915105421086103 0.6341657474943544 -0.10548416904590308 1.4393884765564897 0.9735544867566774 1.8543876849782635 0.010124926169399528 1.128220754915783 -0.7812945008658148 0.1279689595792089 -0.07089839364473027 -1.00824902104029 -0.7965716815489412 0.22748228011553673 0.06828878821189088 0.9145894930311222 1.3784223690366568 0.8425340148826895 0.5215949997434103 -0.27219257181493606 2.0988647896334935 0.729759470781221 0.15112559435460438 1.3368583139468542 -0.14161999479066312 1.5613877315267426 1.7394585362950985 1.748918400805731 1.6428223832313016 -0.03239637021659858 2.0939897102654035 0.13064097123271756 -0.6973365297031846 0.38232256519501123 0.6477902622020926 0.8084918514161661 -0.1589015135623434 -0.6575029119803588 -1.5973865929846696 0.5660096388793588 1.3571755105822247 -0.9353933448976173 -0.09497770704051955 -0.30977612095831275 0.5469203638805376 0.8342521626374275 -0.052016683725543994 -1.1839383939243149; 0.47639756345943934 -0.7861165059556248 1.715779688144469 0.636436110124583 0.8319551904780659 -0.17659368334516262 0.15157169216994829 -1.0056146182676817 0.7519353639549601 0.25084921318068326 1.4709168998713447 -2.0695262967463743 1.1462050822833623 2.0872889716680527 0.3247662911937036 0.38145818106423535 -0.8291793226552964 1.6339617540303213 -0.9037568798037405 0.36983625469809706 1.906076489085063 -0.05631667837138832 1.7155162017051768 -0.0931064777347127 0.4402441242775389 1.7258446452414329 2.2850664303263386 1.0717734892122448 -0.8696933203239583 -0.47457923434644855 0.7987544899241772 0.3194044803257828 -0.46738767299848827 0.44302007416326344 0.9091382222436584 0.13031646842499223 1.4768371197970658 1.2555071766772197 0.8344118646488966 0.8353484260247829 1.3860400438604925 1.1545234715782633 1.2421770991909986 1.2217746834011123 1.5175399225097266 0.4765982154077446 0.4039252418348083 1.8800218220684974 0.5133202607973286 0.27719468281650733 -0.14674613158703975 -1.113200528498302 -0.7665193516612048 -0.7220768818046968 0.3007568622771913 -0.4465840884788821 -0.19162282023039257 0.2700166042397345 2.4622567443268224 -0.1471825685435607 -0.5182250391206591 2.096814094940435 1.9574681051773926 1.0964155192008278; -2.032173570081256 1.0191260810753429 2.0902803102937577 -0.42051145479913543 -0.5671044877647158 -2.4126213716282288 -0.2664809419821991 1.8475799083688298 1.1094326378711177 -0.19314787505135128 0.5052904679059281 0.9800146365669282 0.7285771912692681 -0.9206122819508509 0.9917017206727128 -0.224988565905487 0.5093386683831969 0.1713778752447113 0.8529810169917404 0.7612264657606544 0.8603601694799057 1.8841365116665738 1.0977817165110397 0.024220516915791024 -1.1264187065057216 2.387067015847001 -1.0055597096194262 0.050452977124699094 0.9686909316483421 0.3918892566215 0.5846112661645173 0.023602902325371877 -0.15688584948047313 -0.6150146970084169 0.5685881375807356 1.5259952559496535 0.9478751696939914 2.723597059743949 1.376535642803269 1.0220228995125797 0.4407504901149941 0.5111328714216568 0.9641195739086043 1.7227275681398264 1.289174468957186 0.39636576717046945 0.784117921276415 1.0981909495237663 0.20875836323253844 0.8506986744883258 -0.2763328321609331 -0.5628983572844548 0.920422546081682 0.42395473181970245 -0.8232776807158928 0.6472367933116889 0.017402187984315365 -1.6775588647160737 0.16677196280229267 0.0564959260604152 0.3159973584685579 2.536183815172535 -0.5885922868360096 1.275333927740334; 1.1578324580446215 1.341056985266385 -1.2602716793014488 -0.3038876420115289 -1.7913656052596079 0.7507865497185624 0.0334068460080601 -0.24372247799959745 0.5835399588871812 -0.4203410210951741 0.7803667954698628 0.5067746214035066 0.2568998843392224 -1.5866397118179485 0.7212098426191529 -0.057039707077606416 1.319881067867338 0.7648877225568864 0.3112687916006279 0.7177707045107539 -1.7079418484364979 1.3373043875282904 -0.5841346981523637 2.1931919668405353 0.5709895023535514 2.143254506700564 -0.8267511871700934 0.8651979447714873 0.061766883374085535 -0.1356241499460833 0.5587013764077671 1.5124200039599656 1.4248602231558312 0.588733696944449 1.3225929260654903 1.1162154304694685 1.100029268880223 0.3254545378259567 -0.036592495427251515 1.8755951276577758 1.1084895130020154 0.3550324835703436 2.978558068681776 0.5396157126238885 1.1845512025098588 1.058802322869009 2.238575941372684 2.033962949837596 0.13745231959243165 0.9409519557493621 -0.5321026668369235 2.0732609378715128 -1.1128680433728344 0.4424373356910396 -1.5857796240160758 -1.0091177899098214 1.8401073820961227 2.654594709759061 -0.27926594539943717 0.5907432250972242 -0.02566898162335407 1.1547359732500566 -0.6185564164965794 0.8133107572858249; 0.2505129040450635 0.3671136553509522 -0.49795929687720386 -0.17983518525477937 -0.3452649096534903 1.5360165304887072 -0.17790614508816371 0.7576061309495616 0.8384117645808055 -0.5277695588154676 -0.7874215001403373 1.1902251026174713 -0.1019207731620983 1.0606812680171789 1.6496310350481063 2.4065093575104437 -1.8236759270123075 -1.056896554088151 0.13611178819047978 1.4950764444896434 1.9385171256210227 0.9220380612184372 0.3876031904682138 0.4401436030215795 -1.9195372498824765 -0.6937693637396631 1.6132175597180354 -0.19286559543901138 0.05179183985700336 -0.24941308879575996 1.9051351341771778 0.262258646676073 1.7710508565233414 0.46437957837850347 0.30215399375316654 2.251006272782481 0.5804010674651023 0.5476962617107068 0.7293098777633373 1.7308784318476418 1.956697172941665 -1.592313169928726 2.116519016644136 0.07430231994005398 -0.38396721207524354 1.7838185050958322 1.411690286260655 -0.1774673175568794 0.9961726307877683 0.8871859403690425 -0.5635803194811768 -0.9975775857842912 -0.2032535657497111 1.406213812070904 1.6017046561883304 -1.3398710628447643 0.2567205501066935 -0.8431176220403334 0.8601861449840433 1.6873274022060296 0.5798974748206185 1.3012912437026873 1.029276074737496 -0.3429542699659982; 0.31820708963717226 -1.4507278217893416 2.0188027269097413 -0.6812012657381328 -1.5543401355916344 0.7868350718837716 0.8159151124961838 0.24609308352313292 -0.907582277947794 0.2081038548763381 -1.0390554540889592 0.8414508882930135 -0.06376925913457379 0.923578724943856 0.7636946761856056 1.5034400575114024 1.825141404852854 1.3345980028254891 0.5773298627762407 -1.527394230307003 0.7564429874823402 1.4048188936281818 1.107768476509619 1.2101757919525054 0.7989543778493168 0.010791566379498824 -0.9207271518527136 0.6762286406683651 0.5906322346251824 0.9374128248206962 -0.6208720038553488 -1.3496316877089047 1.2486883619933682 0.45045713808070964 -0.17814922946759848 1.471709469291247 1.2102329740485787 -2.0035169401418194 0.0533773446461574 0.3138961006820334 1.5462193131763067 -0.3201439544141913 0.5511822126008015 1.862482755310011 -0.19766837209488375 0.5862458881556105 1.0799590625561697 1.440633755385531 -1.3882069534843655 2.6932673237293825 1.0155987160960338 -0.4903548285813051 1.4362913220328504 -0.4013011820244695 1.0037511143455857 -0.26118762995996003 0.9128403838377875 1.2366999227485955 0.34257326774874175 0.7504709152069968 -1.3626399225960188 -0.8105475695978437 -1.842076044857125 -0.8945585630626004; 0.2823208213535096 0.4679348391015201 -0.8691296173093305 0.42334838666480934 -0.3690602737976273 -1.499422110057105 1.8170414355334137 -0.38121971212745354 0.02841842371562292 -0.06536190048271262 0.8190610442160813 1.1855824733715998 0.9751383611638568 -0.8366568189085293 0.6214589949790318 0.6702274315708059 0.17939866086569822 0.2344321618608215 1.5086147275552464 0.53662712241208 0.895212100143335 -1.1278102836845214 1.5624233151985722 0.7908914818745886 0.026349878044362007 -0.005270647769093001 -0.38756456981460274 0.754659197243582 -0.10778429481955093 0.2951159760455334 1.5355378557789674 1.063688859377543 1.6174709824975197 0.969968329870652 -0.05691342999791016 0.865913055836659 1.2411416692766712 0.5826508550217546 1.6027404836616266 -0.09760633167209976 -0.06431927796149717 1.2835574796005114 -2.7985221426095963 0.9156225083214129 0.022338771622932296 -1.8132502884171657 1.1198490691433416 -1.481094697375637 0.19650205022198886 -0.18898307431877148 1.0847503808736794 0.37894083643277016 0.8646451838535067 1.3825411476942018 -1.1810492291509962 0.5050931503960987 0.8785655922388406 2.028591199892747 0.39453240666149764 -0.12377441291760949 0.40346223221863037 0.3807840534797856 2.055952398829895 0.13510804558347864; 0.9266310317086067 -1.5413581699504495 -1.037778825012756 0.159659500632672 0.620385616155563 -0.45247260484873353 2.0102768013302708 0.40673103485312917 -0.902970796201467 1.010403899228684 -1.6386841424289458 0.4440230339740321 -0.7334820658440525 -0.31709843591268094 -1.1813497292468973 0.8952328807236696 -0.2902434309362926 2.3437200217715968 0.8324858419473338 -1.1400026695170227 -0.33678987503185337 -0.7564576497729146 2.105375890981279 0.5122399802532758 0.6014134095782943 -0.9071570836355352 0.010609881644700558 0.5119919405522115 1.089309495352866 0.12659260551352192 -0.8484802893038572 0.5850213027715643 1.768287848788722 0.3194004665182158 0.5410553943833107 0.6515025579933487 1.1563754226813963 -0.6211703023684598 1.0956422646487782 0.31710862679397095 0.09877243451591189 -0.08138832182978739 -0.569419489634883 1.9765765366818462 1.276332559461426 -0.5606164201822281 1.6231300549294574 1.357690808510725 3.0092857794670453 2.515894585286939 -0.3130496948028785 0.4913276126707668 0.1579514355411392 0.8926628892505012 -0.3698372692602986 2.2586992325790876 0.36844405512014455 0.35597366572501793 -0.821069281132212 0.04098004853720766 1.8169861159746965 0.2382733325185909 0.2215977204929768 -1.8969776236595637; 2.921599964621524 -0.7106203211854363 -2.5060654206492674 -0.8024746255423588 -0.29457594309164714 -0.036612710298107476 0.9343250617657165 1.2540860479036344 0.31450643120945465 -0.12108064733625673 1.053720289632819 -0.18812089437720364 0.6504348981646191 -1.2285222339926536 -0.3701908834534491 1.2350533057860429 -2.105541468539448 0.9137412055088001 -0.7626716064302528 0.4344647403051532 0.673804595759869 0.3500551376723311 1.3645946986316209 -0.485557779208703 0.5194173060787923 0.5463102178207588 -0.43880825650813604 -0.21591730139097454 -0.6035881401937601 2.727672989769318 -0.19825877205463582 1.622819471760809 2.057385719238443 -0.6956653464019783 -0.06717424991849685 -0.8257088849213974 0.5486291062066097 -1.1244472898783437 0.6485703275545205 0.5217987027689903 0.5668027253647367 0.29380953760838646 2.00269796713918 -1.4336490352023648 1.1245733618377507 0.6201394808927125 0.16520632094093948 -0.46040792700798394 -0.33257466051131523 2.7651961782247074 -0.8449881877485261 3.044069494542123 1.1523658323729324 1.0125009303418884 -0.5404049978044212 1.8177050922171742 0.5887741906575272 0.6792596898180645 1.1183690902405599 -0.09550622178853779 -0.47954848967421737 0.1940661470333994 0.6132030204351205 0.8796783043198594; 0.16120696261965656 1.0564289367023432 1.1352712528409385 1.6160940334564056 0.5314152557178327 1.1108460344400202 0.30722490407907227 1.194021514915796 0.46706378088967876 -0.34256824976496014 -0.8398437461123207 0.6793257499008055 -0.14064761890162622 -0.22607873142978674 0.427362813151076 -0.9744189476980647 3.2501667038318627 -0.431877190565534 -0.8438547704511359 1.0193750578314906 -0.7630161263206403 0.8378031574936449 -0.8307506840507226 -0.22486522020488386 -0.5104182655868275 1.050657202252052 0.6679861841474051 0.7875013181722219 -1.8951135013580078 -1.2762541693177634 -0.6993254465980724 -0.7468766591536634 0.1377235512126693 -0.04439485004251048 0.65480182557782 -0.09320138006834977 1.5447538366857243 1.7000006727327661 0.0021048080870360586 1.0960880399046449 0.8211689316275015 0.3947198980643154 -0.5682926363002745 0.27372788819078986 0.2244079276521181 0.6804061423182164 -0.5333442457295141 -0.3313425779391428 1.4838840149851986 0.05470202982363043 -0.8003203607792135 1.0454996672971688 -0.37451075431750047 1.3740609715187024 -0.23839616596411128 1.0800631285922973 1.3436107225737959 -0.9161719643870054 -0.3234889261072803 1.0362294861584163 1.927102739523258 -0.01089925286703275 0.28660064860689133 -0.23839003064713155; -0.21503951635567403 1.747562291305998 -0.4754385463842855 2.3464328841118944 0.20251570697591473 1.7458613358408572 0.46135585904060444 -0.9878596524641914 0.45901719338133956 -0.5339028807197735 1.2340510488997878 0.6295963159464271 -0.11197093875072348 0.32379303715091157 -0.15993079045160913 -0.40509826422903433 0.4774529646468953 0.8565625676671323 0.1496964917545891 -1.6130728648570232 -2.3978208944651738 -0.15146628577732368 0.05230056738782475 -1.037902073201422 -0.41763540657919657 -0.03954613279427989 -0.001119385331286707 1.7002581721146968 1.2055517521501713 1.0829538078500707 -0.8258137217486146 -0.6335238944631109 1.0549150395801679 -0.5540311621333811 1.4446710245948235 2.0738544782095603 -0.07907862716859443 0.8730543758314777 -0.8682543983906947 -0.3246720562661418 -0.7759357813116079 -0.7080193125927395 0.5028886071107802 2.4195661960781485 -0.040336459282328596 -0.24610776678553237 -1.7045583478341342 1.1801543630820057 0.656136973449752 1.457707888307325 0.2177954091262386 -0.2853185267890873 1.442391405828956 -0.43005649796853385 -0.5544845640303449 -0.7907933221903074 1.2665478834135557 -0.26157846536658036 2.2463658336072676 0.7788071942438193 0.2540198301814539 2.457370340651537 1.9088550083048554 2.027857249416257; -0.8258484821001101 -0.5941356682135546 -0.045887337369144576 0.10575490686847314 1.43604514046962 -1.253351710256269 -0.8809557863641083 -0.32939105540499136 -0.5037474776484685 -1.0100810230464219 -1.4755337001748627 -0.8852664767800158 0.6925753562078427 0.3618450773353723 -0.3881350129727463 0.8362499052292722 0.1063180902899232 0.32846826227541354 0.8653285030105115 0.013729678923476173 0.47835515927965255 -2.5316148997588686 -0.4876369530205925 0.7501325045253797 -0.6701937324774134 0.9910339437738824 1.2865658453167286 1.432180887409408 0.7314671763725443 0.5128897684748753 0.4995478531601128 -1.2738438517524582 -0.5425325482228645 1.10878286461545 0.922227362875513 0.46228142560478075 -1.6651084706380541 1.3285827392715108 0.4924984690903767 -1.026205793870089 1.91336233078393 -1.425062985816617 1.5374867228478366 0.5748101096423763 -1.3306483010293686 0.0828756535974186 0.6474460383657814 0.07903276548627905 1.8123273252686916 0.1259483317124438 1.2017106202908603 -0.6242886932139283 0.4386225561735114 1.9008253478155264 -0.2874307413987883 0.7072188036961614 -0.9623037646788355 -1.1658406536461137 -1.8452675472576692 -0.7076135507352646 0.3021763970389404 -1.00121716593395 -0.8507675813555172 1.1685941657477044; -0.292007156951084 -0.20894563105602923 0.14169074892598632 -0.5258207417493028 -0.040259822965585945 -0.35021550086248837 1.4870459588133642 0.6516594045567946 -0.33126127332290667 -1.9582039528402753 -0.668341423556513 -0.4014154680294858 -0.05105043167840853 -0.0482057411736847 0.7629697737217617 -0.23510775924067617 -0.18229810123945464 0.15777804335534695 -0.2893060336289436 1.6169193252873928 0.3990206908781077 0.5470224681612579 -0.3730521198828119 1.2670965272747992 0.6319238357302771 0.15531444459808227 -0.5000303632797147 -0.40809876282790614 0.7149026615857956 -0.5517467428012901 1.1223757827847072 0.5268526887818148 -0.2335297187081955 1.303087229722582 0.018129668177754632 -1.0351737592881693 0.38353276226604194 -0.0444023554706694 0.272698110883169 1.402700004433881 -1.0549238442081468 -1.4892447230196368 1.1899280358035738 -1.2864327487193021 -0.015509067304144974 -0.44141133142512334 -0.7842417751456349 -1.8534090947148552 1.054598113352601 1.5325848892922098 0.9832951372285508 0.7371919430598296 -0.898924569499838 0.9844424362313289 -0.33881676237267233 -0.8367561158852614 -0.3777380319967536 2.4258206351211093 -0.7172351985090435 0.47201738120429226 1.831068887570497 -0.3518609266958628 0.4359075629637829 0.6731498420204391; 0.0463577892794411 1.4502097358212536 1.7027835251630272 -1.1925990698342093 0.06930579141050014 -0.9483921037027747 0.3668769252619975 -0.044424110174098544 -0.6931277326433676 -0.29284639985095495 0.0660658680748259 2.0923795139331562 0.7234086833778502 -0.8538464457792347 -1.8109422159337059 0.353987520492585 -0.7656299074691667 -0.5844569778512311 1.0007412616404348 -0.507768633247839 -0.5016913610099667 0.34393065260885275 -0.6972819700191466 0.3750193174909393 1.538496491217256 -1.2314059577050136 0.57035048024626 1.592711612537879 1.9967004301651707 1.3695158699786372 -0.3646001433912724 0.09890283500574164 1.2718853910477226 -1.2618501156052009 -1.1374311002563298 0.8677398230007757 0.6260651305827913 1.2913839295229887 0.5074746400070757 -2.1059372449642266 1.0589184571892716 0.6999287161987084 1.6226270380332175 -0.4043637969971512 1.329418937436351 0.5257506748369054 0.3792365944099382 1.1555157580867856 0.8894162398059915 0.9320903077206035 -0.6892775766605934 -1.1034032543540977 -0.5153004585169532 0.670653208223546 -0.11304025703375448 0.9207086256950693 1.3281470269239166 0.1714239379345045 1.380424403035198 0.9335480684891372 -1.2479436889209286 -0.2142626875598932 -0.9391144323986695 1.391920886213493; 0.8296851164288538 -1.2636170641463804 0.15614585672308606 -0.4931407751790322 0.2723538404536059 0.3909489686230188 -1.3350348104600016 0.0716599245685518 1.6070594226013937 0.21934197531593078 0.6370501336219911 0.12539565410380882 0.8349870264993069 -0.9250570321034363 -0.33951436693711656 -0.1772557340456087 0.08403554309206043 1.3955787455714403 -0.27372027239760327 -0.06583148585567213 -0.6634884950979157 -0.621645082034298 0.8947499998769254 -0.3617838139980292 -0.6487055531489752 1.8606857968762858 -0.6912936218019149 -0.9058283488475296 -2.354801771815919 -2.1929138792145153 1.2503384872196792 -0.9673539646113245 0.07868414693855247 -0.7385128087467137 0.6491157660908576 1.71358247384781 0.28456103152980555 2.0921599581148076 0.9110609845932065 -1.9178510858387154 -0.6731843471227295 -0.7891912539993612 -0.05061066216533147 2.3416603346715124 -0.730323098488863 -0.14839472823917382 -0.21338851626830962 -0.09584461070538142 -0.38057462124336017 -0.07292317388933642 -0.549809162097965 0.5420649776220963 -2.009165698124993 0.5829750693994717 0.8519618694625382 -0.3414810799728394 -0.8457729544865105 0.24712925678096911 2.734998477074961 0.4731017956369724 1.5675972740204107 1.5663773607870497 -1.0639153929262641 -0.7450086168457175; -0.3613116589429355 -0.8932246547772064 1.2493677056881858 -0.8002168874245207 1.0184052400388763 0.7089286677502505 -1.091768307549223 0.7926290192269847 -0.006993286223889526 -0.4567019643345931 -0.7151811779574415 -0.12926474112380779 0.2128699129406069 1.0960008128937087 -0.5800147047098436 0.23537448250830384 -0.19164524404717634 0.43497522414772133 0.5846029849703074 1.1663957746107094 -0.9248543307892816 -0.7548391885883605 0.10622333611547276 0.5438018499309847 -0.18746618184595004 -0.06267031078929958 -0.6757277951390659 -0.8478758679921562 -0.7428343377228168 -0.7021710349347551 -0.5397452282006252 0.2503310688471285 -0.5065823793478996 -1.681664415553648 0.2273678329812793 0.1791087713605034 1.291561156758906 0.9529928740846896 0.9782223960991455 -1.2674179422101328 1.3823868860382291 1.1590846137032373 -0.96909537475516 -0.15404769160778492 0.32893623646242975 0.3296764317897485 -0.14098625632224843 1.710386329007141 -2.3080183926863937 0.00111307159644905 -1.4893901552007736 0.8643775143659559 1.9862302512740895 1.391678564807177 0.4567565856133566 0.6302157228799677 1.1997552889580436 -1.8938331290171844 0.3525204393366963 0.7883831722984859 1.5510615812750175 0.12349645266256676 2.07853539289892 -1.8624412405548672; 0.6499027908158282 -0.1904756821387234 -0.18684408787325624 -0.58808762768471 -0.5590353707065847 -1.7529460745132652 -0.7472654242299678 0.3380992493061237 0.26395766188235875 -1.9470989019697145 0.5255846886578313 2.007799172495446 2.2789615920517177 -0.21452961805401075 1.5717193189907723 0.82761016085879 1.829638155213985 0.15544003321711253 1.144348797995311 -0.11417400839794817 -2.4926862818351636 -2.134330855327423 -1.4235035603475055 1.3926296698099971 -1.7302070484021104 -0.5963397027934785 0.1843495501673137 0.8643550275614905 0.5444471001812942 -1.1354625839757895 -1.3102038392033883 -0.03079369444168495 -0.4597441696054875 -0.8675741918656416 -0.9266733201670477 -0.46912111000258594 0.21806491113797005 -0.03995679638668584 0.5137505468757646 1.539893090805245 -1.9818812739184244 1.393521413047144 -0.5771347396688397 -0.2974995632076103 -0.45688581444387577 0.39958472547395046 0.5576432477398787 0.30527682193743694 0.4231018909891089 -1.1487934519194323 0.13507258780179265 -0.17828857510928708 2.3370134832877762 1.2658618122425136 0.9688733026986168 -0.5806727100611242 -1.3862063087007468 -0.0620939330065039 0.014784370890271903 2.12336870672788 -1.2964531147765543 -1.8822048228418211 -0.6013830120447018 -0.8191979585078554; -4.269246146769103 -0.04234645865493353 -1.2875630546355032 1.1721376725422008 1.6375140820169418 -1.5915359523435515 -0.5348478416825861 -0.17694631840496566 -1.9712999714920851 0.13780948545172056 0.43966562051390323 -1.01306167694342 1.0103966612123698 0.21653303314567257 1.5466341231472456 0.18542599056327874 -0.5899871967202116 0.03511311587262903 -1.4334959292475222 1.5549317264564033 -0.17103957028012526 1.4242551837323176 -0.3991644384381187 -1.4690330380645371 -1.2271941952298069 0.8355069225253169 -0.9108740997285026 0.6180310358510935 -1.031013961755015 1.4725178396035212 0.06234148422715083 0.1591178191980324 -1.0409125592815474 -1.4218815479430646 0.35987289089887853 -2.143780423972734 0.3959706085438823 0.7138709175525736 -0.45487486726430937 -0.2282133559259345 1.4361833318825603 0.22625296546123935 0.16407562858208083 -1.0792765056374465 0.3755934987301995 0.872673853322351 -0.6209057596259625 0.3705192518854863 -0.8186970858535086 -0.009607950013069647 0.7185369289478168 -0.028562293254906973 0.8155900536267005 1.04603968021739 -0.010632580154247062 0.880773924378426 1.3062486454139501 0.3178844960444186 -0.9533226602466669 -0.4816503017078191 0.2734122794097155 1.9942728053083498 -0.858370389596747 -2.1433431983518823; 0.43914260121492876 0.6650577400405526 -1.029752493898083 1.4010309430081826 -1.171119293873122 0.7443532626631439 -1.4172178018713102 -0.22944594083021064 1.2636343659097886 -1.592392362784425 -2.1314602774223927 1.3581048612603268 -1.2723960131341334 -1.8472436807890282 -0.5861176167998142 -0.6289380338427956 0.08046578173337252 0.7700670964995808 -1.2153826671339338 0.7622588661474796 0.5756841978873345 0.8483901362251405 0.5676314244507906 2.312638918743142 -0.09081341243375142 1.5270571314854264 -2.09473724523541 -0.23350914698945235 -0.882351753960217 -0.18460978781758455 -0.32907712723249516 -2.465859602133112 1.3180428952087633 -0.5985455957320188 -0.16980616098184753 0.09369434880007296 -0.03329659835331564 0.40128517629088406 3.525478627343215 -0.127856709052562 -0.581526697415367 -0.01005731194572565 -0.16222187426421059 -0.00037363571501754234 -1.2387449664785488 0.03557448229089934 -0.8167146472592323 1.0679598757523499 -0.7951201486524636 -0.7289784556031045 -1.0361378809217208 -0.00865447960704463 -0.7900519841412591 0.19730312469243244 0.3812536750736836 1.7087317219811133 -0.5133359956400588 1.204119999791586 -0.33216109119979176 -0.6371344389410216 0.08037480049413567 1.4070307494413166 -1.0131630034374495 0.7349576854944376; 0.07438216123840373 -0.7681948172402775 0.23807959581944735 -0.7399605813465571 -1.3773563088658678 -0.8615091072387656 0.7155505566218878 -0.1586090716645689 -0.8302251448877552 0.981684793322694 -0.9177057162091367 1.1764581979807003 0.04659620864282044 0.22468306448002076 1.5689494774577388 0.41603486236402915 0.22150392231707794 0.20297634611397153 0.5398244660300384 0.5430430219624856 0.3295359728894445 -0.33119975885416564 -0.5189223356377651 -1.5523351881992398 -1.2783733294845376 1.110426783078008 -0.4537375238607348 1.9975444522221268 1.1971395542277863 -0.8634733619902148 -0.8661600060603694 0.9062103691272635 -1.4253102296722706 0.4700230879059763 -1.6577057402037605 -0.6353937017903545 -0.2648446404841691 -0.6276019081091617 -0.784879928898991 -0.03984363015458903 0.7981817834232303 0.606621489436596 -0.19903329481241372 0.11665290735997053 -0.28818739203893545 1.2923593916658311 -0.3825384181628438 0.26827742345488376 -0.6114183019519492 -0.49144319248003565 0.8756636793333763 -1.5796798932520792 1.3363660358094536 1.5531582291501251 1.5487789351206245 -0.4428086554424012 0.40194341451680826 -1.3822933655768066 0.5553703757860806 -0.47883531148603575 -0.7322020723234639 2.39377141494556 1.1439823334740604 -1.2801295553218461; 1.6803438009380385 1.1580598698064715 0.6382383654581095 -0.21603294949355822 1.5668298073389064 -0.06380112401844217 -0.13247896112172663 0.026414460995120664 -0.390475406371458 -0.4007113097714375 1.154687498739868 -1.6391744486847437 1.4221657524851672 0.9210997019813139 -1.0756375190694567 0.4543714966533048 -0.03948784966353896 0.5436733530117352 -1.245082686108273 0.5035149270441595 0.3750089582005024 -0.3973621499634076 1.0485072470783774 -0.8984813406545255 0.908324368978085 1.3001092293892391 0.5296300583218767 -0.7417527751065346 -1.4483574138547621 -1.1750844650282777 0.3144924246877474 1.0749793004089683 0.43416835938543585 -0.3988912407444043 -1.1916225004451377 -1.129258807200645 -0.34725155425752063 0.5588582187613019 -0.021483735900148432 0.5168002282983595 -0.437730772438515 0.6636207638572786 -0.7546811586134446 -0.9856020306370823 -1.0927549116403386 0.6544511759634333 0.014280244520453206 0.6764141610480069 0.17065835228552134 0.510868947028263 -0.2600934146486251 1.2343929117037025 -1.0016033224655203 -0.5873565825297298 1.2187793910750928 -0.4142348535321623 0.5027776818084104 2.2404822063520817 0.14512274470254433 0.03281058021694627 0.8125356356671667 -1.0523154313813845 -0.4567024477670094 -0.3558450399780969; -0.2147648312048881 0.6341112198215789 -1.7149893140383305 -0.3930143618791149 1.438208793391688 -0.3806529515744692 -0.06786176923083023 0.3544814573817076 0.8440925850143941 0.6565184706157595 1.9027326913685076 -1.3673983128177 1.2038344919531496 0.7673582421027617 0.5410042226156839 -0.06629936617026091 -0.004658236240274009 -1.2008966767080693 -0.36101811119711014 -0.6621043160168902 1.3330972190731363 -1.6251224304412295 -2.1972004078272764 -0.011663271303367716 1.5704405262599583 -1.6704391874307183 -0.7835989276621375 0.2729698836671143 0.4859175952593932 -0.671526959775871 0.6122814522405122 1.5554809250672805 0.3024130762132864 0.11606670085224476 -1.022845232913839 0.8996921913015834 0.2727847103666259 1.5622923646130378 0.5599460572975758 1.283098578406249 -0.18036148568909868 -2.290793067003951 0.601082928337525 -0.042588075869272046 0.28946815285412647 0.5982549524495353 -0.2618964459936152 0.6139964538219849 0.6180677810695085 -0.5732007130016288 0.09193669817189341 -0.17283306321559205 -0.6753063445801181 -0.5722477651269762 -0.6585520546802679 0.35298500370649655 -0.5414575977136177 2.734009117205746 0.9561768862006597 -0.02337520749589772 0.2636008852349705 0.538879587608222 0.6070376007901036 -0.4726929643841585; -1.2772883870711385 0.3756464065473319 1.0578229777921744 -0.4809552671387911 0.608668175591379 2.3198950030168253 -1.5942886713599793 -0.2089147305935597 0.512331687334214 0.28216561153282443 0.036722515946480655 -0.22503606417110789 -1.2596040199704772 -0.6144194742739608 1.6235943095492302 -0.8889807792395877 -0.41706596983318894 -0.41154499461404837 -2.6978959596808534 -0.20643604533042317 -1.2230306867438376 -0.5356359265683445 -0.5335095149244677 0.7130449805961117 -0.424877540419498 0.11340570488533017 -2.099968041037405 -0.145346896119619 -1.1681570967228085 0.6285374116371945 0.18752849434197377 0.5295957437907757 0.22640495807172062 0.4387177327287184 -0.49849553366809274 -0.9216219662795768 0.5510144766801617 -0.07732680568002014 1.8000650695712443 1.2239836024810429 -0.5457600867578728 2.8203217638265983 0.3497122704019232 -0.501240134708525 0.1548922784185563 -1.2379331710150459 0.4636429658819087 -0.6453966019820095 -0.49251027759741683 0.8144731002911464 -0.7212073812172275 0.24452240897999053 0.2725517591735853 -0.10682704404112903 0.3325086354336412 -0.895088470744209 -0.9366670771720578 1.0073107160692318 -0.9256969740892373 -0.9968382377808118 0.7259502466645136 0.46793398925374696 0.6644399882135031 1.3155008122607044; -0.458656820826231 0.6846711549244862 0.2516574004515444 -0.8843234377162067 0.5991191996231972 -0.27529155004960326 -0.17995131573260736 1.3971530624636603 -0.04712444920625739 1.3247484588869856 -0.5061506084869624 -0.30948066249872125 1.9821429644953004 -1.117730071482308 -0.05940143074318335 -1.15982677579713 0.9758975888724966 1.2368854655347374 0.1515880158270697 -0.9529109245284517 -0.6426567110878292 -1.2432593503061715 0.022848497988727175 -1.7252675966269067 0.8262722660637158 0.301235823470903 0.07954841487152153 -0.015616765739808497 -0.25420085616050847 0.6183654016537545 -0.6298390622961321 -0.9078478447296736 0.9257714874017343 -0.6725453714370694 -0.2482233996833983 -0.7388556993322611 0.6118390663403581 -1.0525823086026476 0.8779701179590296 -1.0146741389468001 1.4301905058201032 -1.292962685971061 0.8707994670672073 -0.4270504318901064 0.536145608054345 -0.26555214846498976 1.70525989949329 -0.6357296765112224 0.6277552131858994 -0.1025847061452616 -1.1307036835846358 -1.1527755094563161 0.7129318643385196 -0.3049348360398869 -1.1258717420888218 0.554761338241962 1.2500600292131925 0.1616307297352478 -0.3700116498726866 0.3490183387674294 0.8702531663961388 0.8470023261377964 -0.5562656425907822 0.6012068873429106; -0.00712798994651551 -0.3010646439846565 0.2048663131718599 -1.861166225105218 -0.4496418174582648 1.0813841549598375 -1.9770585892308432 -1.968656660583779 0.22385905980583604 0.5823817037239966 1.5123954374842912 -2.508476472571299 -1.3911809976328608 -0.3963699985296627 0.5842523685279866 -1.277870031198593 0.14956561666888918 -0.023203073781057786 0.1031312162818311 0.3375472444795097 0.7958241762431747 -1.1982238431740102 1.6980757937539601 -1.4674673187469702 1.2382800305629553 -1.2150923330657193 -0.27215298869130145 -1.3988051411432791 1.8975563620762976 -0.9131066219117033 -0.7678779330889407 -0.01784831343430837 0.34505332366484487 1.0767554671920716 0.7480016039813376 0.29792278047158965 0.1861500497263817 -0.022512141252492485 -1.7713227941036653 1.4140824759482367 -1.0393695209235587 -1.2385834268292177 0.9655579475237204 2.554254742115964 -0.21985046167584676 0.40336434288545997 -0.10867745236727117 -0.39633697743876295 0.09499393426502632 -0.5525335935064692 -0.5378853429621794 0.11362715430923659 1.1132303891482822 0.5985413516261644 0.7983593018063379 1.755832145722911 1.9225480065365463 0.037184827020251734 -2.0776855152581657 1.0283431191868009 2.240819557325973 0.816208935886779 0.48118383358337674 0.18274388730830554; -0.29704497749397063 0.5995461532839221 0.13845928917593567 0.19666706932189196 -2.1106240784845323 0.3308388582991988 0.43264593362500736 -0.4696562146561012 0.3402786191114026 -0.13311139771324845 -0.8704691743424158 0.5859245214485136 -0.02093149821913956 1.391540657840964 -0.6991923240857004 -0.19520645990129962 -0.23983362248294698 -0.25881591931134745 0.4917690042762277 0.19521541077061327 -0.9824913423707328 0.5131980487461084 -2.487255388691519 0.5030550617395949 -1.2073278836393373 -1.461429631329323 0.854792081676931 -0.6417067610412658 0.12964470315323723 -1.1314582663004196 1.4019971061717964 -0.5173197482561811 -0.33353953708166 -0.46645214706437055 -0.5765985595291956 0.722970572129186 -0.1616481978543333 -1.1498754595407479 -0.5101666373633745 -1.259656038290614 -0.024876574946077062 -1.2760056137833213 1.0784547820281465 0.20627908146436588 -0.2691596636534513 -2.0772880868237547 -0.22616416606626455 0.1405658775994555 -0.5457548785149873 -0.41360925255135095 -1.1911775636281745 1.0477223978066839 -1.6971455746005037 -0.18260090113243505 1.0002164554908393 -0.6304320905822042 0.03170663521086886 -0.1062320692708088 -0.753116964320993 -0.38535883298102613 1.5772123025908968 2.5694597438753464 1.450050873280495 -0.3317958260035296; -0.155887454221778 0.9286564723727688 -1.558865189267999 -0.3878952809619909 0.7905577384344485 -0.43253833059235414 0.46192399166899495 1.0592359177551054 0.2616220515236088 0.0592071570374776 -0.035705703311196046 1.2165531808630785 -1.383926047417919 0.09054526151856086 0.10619741294529793 -1.2595803034084154 -2.5154431182427195 0.7260862219638049 0.24813765592947257 -0.024609409336588582 0.8960551491797722 0.9639518824059713 1.3001500954985596 -0.43164068433278463 -0.940407589961165 -0.08303935604588095 -0.46208613811473387 -1.9744332017356776 -0.27767353357712615 1.1101590981121547 1.0777540091705853 -1.710701400903166 -2.8650248468394564 -0.47962654994617115 -1.6837066517503285 0.07491349568533023 -0.010595955523117331 0.805895078601256 -0.6279790691660453 1.4306353875232214 0.5445798056505182 -0.25632098843181944 1.192279891415539 -0.22516240420910422 1.0314035642334607 1.1353026803805355 0.5642974574022097 0.5472175688340286 -1.3069942276872 0.2126674944408823 0.8200538626561746 -0.32189280390269864 0.1446909317978105 1.3672417008053181 0.1739382755726024 1.2659721531744963 0.6737741179009115 1.0691616935461732 0.3962439805424793 0.19976121823666879 -0.4165950898800257 -0.6838203443961057 -0.3092161369463895 -1.2018271872914483; 1.4187353556434306 0.08314913335524851 -0.21923216081857588 1.5373132075828722 0.27675620311948546 0.07314796592823605 -0.49439959558159763 0.12243399123281262 0.8957267453488839 -1.5698224854636698 -1.310365353055339 1.8590323576177175 -0.6399559577220333 0.35491424357181234 -1.0237850754944744 -0.07231691046483577 -0.15965896429559184 0.8508040624676362 -0.2500070253390024 0.15202959840509475 -0.2440531200167188 -1.1357584532638956 0.526439805322742 0.9446310567929995 -1.2307236482807062 0.44521714888681363 0.8698257338858054 0.8976364024426173 0.8899822890309247 1.9718425496488283 0.34906729954136695 0.2034657393613768 0.47367176659000704 0.2100484805048625 -0.5812284623610213 -0.7348147267031067 -0.38277524163177046 0.11039689657947198 -0.07514398962966207 2.575538315281183 -1.1780899999529124 -0.288993448812081 0.8760714031950239 -0.08181765259912602 -0.06799332660996371 -0.5937257358685726 0.02202859772048346 -1.1682532673420467 1.9652051499919267 0.8068917528948938 2.3522582344959146 0.6347543473657536 -0.4662760885010998 1.847940932475501 1.4916756594703058 -0.7097847780863458 0.27856181370958816 -0.2101928507168602 1.3358492576709668 -0.5593688576609595 1.3570674200498332 0.4204702200418222 -0.04827533205547477 -1.0008754096339827; -0.08308180821536738 -0.6376145374906389 -1.0332431090746634 0.40168280043376114 0.6720965047678508 -0.5492048631299506 1.1604289904321612 0.19390129147626273 2.251800570585817 -0.3645678223843844 -0.8089784055705701 -0.8214232138169835 -0.5646789498334982 -0.4274249279594979 1.2384545596406193 0.19571135156397007 -1.1586144801446885 0.7950698016218984 1.300357870959114 -0.24936416952108242 -1.8603240206471245 -0.03707306723015457 -0.17250530977627737 -1.048596627384738 -0.35818119034324253 -0.13408783663791135 0.7288007607723828 0.28512055712646434 0.38793472927521594 0.45708452868924276 0.3194193002281015 0.2208236217617332 -0.3475227221087015 -0.13726496126327373 0.3258394507830204 -2.277624291300734 0.521452458231934 -1.1788107520517903 1.6073858670356849 -0.94507037730302 -0.5888550495227932 0.7985311594223282 -1.0047978332813243 -0.5303526109419415 -1.8232973036333706 0.30769216637673835 1.9714107213160104 -0.23771864171948665 0.6873216789611829 -0.46628336523712755 2.141350105465559 0.8580495024400361 -0.5905904365466333 2.4142433781952333 -1.413340879055717 0.30850833562943886 0.232715872023366 -0.04859856719763221 -0.8573286548430046 1.0488212015124725 0.11029522593360486 1.6850755291428323 -0.25947763859225287 -2.1653913616696077; -0.5668726730634477 -0.4361561197318655 0.9855720013749161 0.17760040504986002 2.193941660104475 -0.9767555321491042 -0.8215321501840614 -0.05216149232175006 0.9171446751641572 -0.5171797146407177 -0.5316130259778307 -1.6346286867488529 -1.0212626819187374 -0.7506063528102905 0.3220727980033269 0.36364911131804656 0.13103782303410372 -0.4362645510612691 0.8781454709180656 -1.4726315115743165 -0.49050818913163724 -1.9683646032328301 0.9221276263709641 1.0978040665435784 -0.1791503144633188 -0.9991455959477527 -0.24841951453731692 0.33949387686614163 -0.27924373898893623 0.3830992659011321 2.28730155695346 0.585413422347748 1.1197183066981045 -1.6252450044280584 2.190761716437183 0.46556040670908344 -0.4060532772241728 2.694682401513371 -0.34707929193009845 0.9440074584275153 0.024445771609114944 0.4726686737337838 0.6657768557188649 -1.1761254586638552 -0.9394549620279911 0.3513127597556583 2.0780686047354617 1.6435713036837984 0.12604420556480467 -1.6233121886784854 -1.2108604265635574 -0.8396622234603832 0.934083451828556 0.7343823164724769 -0.29880304966556065 -0.698939782077853 0.9004222955956113 0.5200029319079151 -0.38626099247216245 -0.20170013503899137 1.3888838945574902 0.3561777027125941 -0.36009609107763885 -2.7899018215421574; -1.1196192449377338 -0.8072306659829628 0.36292664575019046 0.7068221043506204 -0.7104082523099903 0.3015811756890717 -1.7684525066260866 -1.1635234823247238 -0.5423873910322831 0.4844789099108684 -1.6703532337849025 -0.3510270824229405 -1.6830267443361697 -0.7744582720458386 -0.9863804835155765 1.7350757683423688 0.34573377948130396 -0.09828320391474943 -1.4590728785363545 0.5473154808413219 -0.4337659021235899 0.29102864873763623 -0.505466483218765 1.2262458232641955 -0.39903585311473116 1.1085012625033361 -0.02788604454944732 -1.1002294629859126 -1.076536079292913 -1.9604332865917906 1.616638265151655 1.1054480916006977 -0.984827465106104 1.7468879112385889 -0.060544021206855536 -0.6592538218102961 -1.7796865803535464 -0.1684362594601377 -1.5513695804912762 0.47091743875503406 -0.038248441588771415 0.3370477930579776 0.27312831635762014 0.7447262971917892 -0.426291906702816 1.2093537699866652 1.197821113281813 -0.39455140282061363 -0.1261484653333944 -0.5309488656554383 -0.9748023102486059 0.7478475431914609 -0.0012405889090778277 1.2089842176962424 1.4513044311460361 1.055352118452054 0.43371306017897404 -0.7138957506485547 3.4500727044930413 0.5455682807175376 2.259882890676745 2.058754950160923 -0.7782800827162765 -0.70091688389475; 0.6346427984626987 1.7748849572318663 0.380913624915569 1.8721769445442675 -0.003154363547155201 -0.4199168571815629 -1.022602171272877 1.3693094772390169 -1.9126605580461746 1.0727444867522387 -0.8002904434959397 -2.6777184168446686 0.6951578089779643 -0.23351181219535205 -0.03708315818261308 0.9843857597985302 0.27108183759710136 -0.4881852563050735 0.4839848601901342 0.16673793126419376 0.806141925496617 0.583182139032128 0.5758432606774827 0.7536155101667618 0.7165945865657626 1.0743025420904742 1.381527680841157 1.2979616404308825 1.0491936646563909 -0.12999227372007421 0.13049984758598815 0.7627986000962187 -0.4505138034758214 -0.1969014123114522 -1.523932521010502 0.016071878935232015 0.35825694622455423 -1.3679294887021258 0.5431165847798356 -1.1214972771507383 0.17270076669063542 -0.520093696003037 -1.2842438628253947 0.16177498940215876 -0.057466095140421836 -0.08691563247423706 -0.5234981366362826 -0.25351689107411113 0.7806989437419641 -0.8285695883830027 0.7303614447919025 -0.6524830318371105 0.483865464333434 -0.80174909801523 -0.3618551049505846 0.39042188250049426 1.3301994908850197 0.26809673978080995 -0.7752034853407674 1.685836360151392 -0.41660145315457686 -0.8330692590516771 -0.1285256684504048 -1.6142087419652043; 0.850136988105384 -0.7171000033800656 0.4116070958514383 -0.8428411216736523 0.9529059015938374 0.023146162795847677 0.578214239778641 -0.23541988885647636 -0.932509520000119 0.08500146824378439 -0.5416868052049019 -0.9441593702451899 0.37784255663766814 1.1739628215966524 -1.028996647532143 2.642015575160654 0.1251088634128732 -0.38268393634726955 0.3316682108220287 -1.6817326247442683 0.5932842477890858 -0.7080829054654723 -0.23592159956963527 -0.18163888084686894 -0.3240920331156339 0.6739758880327268 1.1253438561282585 -0.3183647962522915 0.2422111068860859 0.2680535823718797 0.6898100681371707 -0.21133966568263457 -1.579972634393443 2.1990375131688253 -1.0039757207576605 -0.172118180862763 0.5502819311568474 1.871741015799363 -0.7064998669849472 -1.0475852088984967 -0.21575232374809894 0.1348690722981297 1.3669824086571496 0.41507857670221837 1.1333406478714367 1.665459647922461 0.8696961702958638 0.7089790900661178 -0.0457602990890304 2.6749631265274263 1.1468110650251055 0.48162886439910657 -0.36333906826681983 1.0979062494024494 1.197166693139752 -0.16333619926333032 1.4907602238401796 -0.7623621632005282 -0.8704889920738998 0.6559105023967428 0.7794566337814315 -1.271631768211142 -0.31569400354605087 0.7353341505590023; -0.6686602350433543 -0.41501207811445845 1.5232778218351708 -0.7825510305089636 -0.46142263218441304 -0.5115354616661485 0.8616659620780711 1.1161856338210223 0.07396793218084712 1.2778179198528432 0.4467023060189801 1.0294803493040678 1.182889719539687 -0.11635038174004592 -0.6928654869910813 -0.061173340611885764 0.5063424281120245 -1.4138607453458 -1.3062740094808796 1.197724926694855 0.8226529351731066 1.0729300068089822 -0.22678617348603491 -1.5757067219907361 -0.4394882185624579 0.32620289054716556 -0.3282182759789972 -1.1373238334567184 -0.8835155165257876 -0.7645287121177 1.8918261894418773 0.09575792508505288 2.329274446960589 0.31140995705766933 -1.1517438482078617 -0.11472025871691462 0.5570402836915895 0.8966592630783463 0.23221035123253314 1.366545973283302 1.5906222438358282 1.616147154544397 0.49336879281009605 -1.226515812183582 -0.4579640611853487 1.294611162586049 0.2729983176335764 0.43987564448461486 -1.9072467200090228 0.7442357687573924 -0.3975225619052204 0.7112948991345293 0.9988505227175573 0.7858522804892526 0.6197531082920236 0.6518780041577886 -0.32352864166347167 1.1162539339069344 -1.6517050365963408 0.9729444290745435 0.27564879598988967 0.27133796666970844 0.3988279745502141 1.8582095924898; 1.080631648173256 0.5440459024792755 2.0577175597791957 -0.7317406043851534 1.398262436206197 -0.41191320164414436 0.43564977001497635 -0.14562150486145473 -1.1131219411273112 -1.8762072247372994 0.1600482551222197 -0.14609089185784774 -1.4009004433730867 -1.2531366500752228 -0.40932278408349787 -2.3801275802574513 1.345513362558841 -0.3109058626417863 1.204954528982242 -2.1710470907509776 2.246893106858416 -0.8374002641589342 0.10115902957390367 -1.5894371461254146 0.8207981164537875 0.8627347236316454 -0.46314760919040576 -0.0205485996780947 0.6218846521192194 -1.6356479155547787 1.5538938090124883 -0.09481736816025294 1.5854195474665727 0.2554671848946996 0.2669074274181076 0.04202221161746875 0.38746753399029016 -0.6679894753142376 -0.9816080674799375 -1.0893548938595878 -0.6394552096754526 -0.6915086907381063 0.10388021630325073 0.550936719238544 1.385161806139575 -0.9349065309775911 1.3072355212502222 0.797804849602414 -1.0583394478114905 1.9185465362748533 -0.17979940603711245 -0.2765420639584719 -0.45833024074202144 0.9873220160151882 1.3136975051330486 0.9415779510270343 -0.6827860922474686 -1.052299736928636 -1.6601416147399102 0.5188967124976734 -0.41764867147064405 0.46874402863827247 0.4566410186647063 0.9440943930378535]\n",
       "│\n",
       "└── :s_right : 0.8963700167841104\n"
      ]
     },
     "execution_count": 15,
     "metadata": {},
     "output_type": "execute_result"
    }
   ],
   "source": [
    "# draw a random sample from the generative model\n",
    "trace = Gen.simulate(room, ())\n",
    "get_choices(trace)"
   ]
  },
  {
   "cell_type": "code",
   "execution_count": 16,
   "id": "32cc7e2a-4479-4bf3-b0c9-5959c2ec177b",
   "metadata": {
    "scrolled": true
   },
   "outputs": [
    {
     "data": {
      "text/html": [
       "<img src=\"data:image/png;base64, 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\"width=\"250vm\" />"
      ],
      "text/plain": [
       "PyObject Bitmap[\n",
       "  pixel_format = rgb,\n",
       "  component_format = float32,\n",
       "  size = [64, 64],\n",
       "  srgb_gamma = 1,\n",
       "  struct = Struct<12>[\n",
       "    float32 R; // @0, gamma, premultiplied alpha\n",
       "    float32 G; // @4, gamma, premultiplied alpha\n",
       "    float32 B; // @8, gamma, premultiplied alpha\n",
       "  ],\n",
       "  data = [ 48 KiB of image data ]\n",
       "]"
      ]
     },
     "execution_count": 16,
     "metadata": {},
     "output_type": "execute_result"
    }
   ],
   "source": [
    "view_image(trace)"
   ]
  },
  {
   "cell_type": "markdown",
   "id": "8adfef7b-2982-4e50-83f4-c681eff4ead3",
   "metadata": {
    "scrolled": true
   },
   "source": [
    "Now let's load a scene from mitsuba3's gallery and render it as our observed image"
   ]
  },
  {
   "cell_type": "code",
   "execution_count": 18,
   "id": "4dd06704-baa0-421b-b2cc-437f7b47c90d",
   "metadata": {
    "scrolled": true
   },
   "outputs": [
    {
     "data": {
      "text/plain": [
       "1"
      ]
     },
     "execution_count": 18,
     "metadata": {},
     "output_type": "execute_result"
    }
   ],
   "source": [
    "# load the scene from an xml file (instead of a dict)\n",
    "obs_scene_config = mi.load_file(\"./scenes/cbox.xml\")\n",
    "obs_scene = ModelParams(scene_d = PyDict(), scene = obs_scene_config, spp=128)\n",
    "obs_bitmap = mitsuba_render_bitmap(obs_scene)\n",
    "obs_image = Gen.choicemap()\n",
    "p = @pycall numpy.array(obs_bitmap)::Array{Float64, 3}\n",
    "obs_image[:pred] = p[:, :, 1]\n",
    "# to view the image on your notebook\n",
    "obs_bitmap\n",
    "obs_scene = 1"
   ]
  },
  {
   "cell_type": "markdown",
   "id": "d2db4031-faaf-469b-aec1-ddea201c26d6",
   "metadata": {},
   "source": [
    "### Inference: Random walk MH\n",
    "\n",
    "We will implement a simple random walk MH procedure. In particular, we will make (truncated) gaussian proposals over the sizes of each of the two spheres in the scene. Otherwise, this is super off-the-shelf MCMC code in Gen."
   ]
  },
  {
   "cell_type": "code",
   "execution_count": 19,
   "id": "ba42d20e-bf8a-4b64-bc36-83ccab4b2b7f",
   "metadata": {},
   "outputs": [],
   "source": [
    "# include the truncated norm distribution\n",
    "include(\"truncatednorm.jl\")"
   ]
  },
  {
   "cell_type": "markdown",
   "id": "ad1b09bd-cc3a-4dde-b6f3-a837f69052f4",
   "metadata": {},
   "source": [
    "Define proposals for perturbing the two latent variables in the generative model"
   ]
  },
  {
   "cell_type": "code",
   "execution_count": 20,
   "id": "fb2a7b17-021e-474c-945c-aa0fbe5e2260",
   "metadata": {},
   "outputs": [
    {
     "data": {
      "text/plain": [
       "DynamicDSLFunction{Any}(Dict{Symbol, Any}(), Dict{Symbol, Any}(), Type[Any], false, Union{Nothing, Some{Any}}[nothing], var\"##scale_proposal#293\", Bool[0], false)"
      ]
     },
     "execution_count": 20,
     "metadata": {},
     "output_type": "execute_result"
    }
   ],
   "source": [
    "# proposal distribution for the scale variables\n",
    "@gen function scale_proposal(current_trace)\n",
    "    # trunc_norm(mean, std, lower_bound, upper_bound)\n",
    "    # why do we need a truncated norm, instead of a regular normal distribution?\n",
    "    s_left ~ trunc_norm(current_trace[:s_left], 0.15, 0.1, 1.)\n",
    "    s_right ~ trunc_norm(current_trace[:s_right], 0.15, 0.1, 1.)\n",
    "end"
   ]
  },
  {
   "cell_type": "markdown",
   "id": "4671dc4e-6e8a-4002-8375-d84b9627bf55",
   "metadata": {},
   "source": [
    "The inference procedure couldn't really get any simpler: Make MH moves on the two latents and that's all."
   ]
  },
  {
   "cell_type": "code",
   "execution_count": 21,
   "id": "34941dfb-6d2d-4cc7-8ddd-e6837267d154",
   "metadata": {},
   "outputs": [
    {
     "data": {
      "text/plain": [
       "random_walk_mh (generic function with 1 method)"
      ]
     },
     "execution_count": 21,
     "metadata": {},
     "output_type": "execute_result"
    }
   ],
   "source": [
    "function random_walk_mh(tr)\n",
    "    # make a random-walk update on scale variables\n",
    "    (tr, accepted) = mh(tr, scale_proposal, ())\n",
    "\n",
    "    # return the updated trace\n",
    "    tr\n",
    "end"
   ]
  },
  {
   "cell_type": "markdown",
   "id": "0fb1d0f1-7010-44e3-ba53-d9cf175d5980",
   "metadata": {},
   "source": [
    "Now call this inference procedure in an iterative loop -- notice that we are going for a rather small number of iterations -- `K=50` -- let's see if this works!"
   ]
  },
  {
   "cell_type": "code",
   "execution_count": 22,
   "id": "b1baabcd-5cf2-49d4-adfa-8f2a3ff757cf",
   "metadata": {
    "scrolled": true
   },
   "outputs": [
    {
     "data": {
      "text/plain": [
       "do_inference (generic function with 1 method)"
      ]
     },
     "execution_count": 22,
     "metadata": {},
     "output_type": "execute_result"
    }
   ],
   "source": [
    "function do_inference()\n",
    "    K = 50\n",
    "    t, = generate(room, (), obs_image)\n",
    "    scores = Vector{Float64}(undef, K)\n",
    "    @showprogress for i in 1:K\n",
    "        t = random_walk_mh(t)\n",
    "        scores[i] = get_score(t)\n",
    "    end;\n",
    "    return scores, t\n",
    "end"
   ]
  },
  {
   "cell_type": "code",
   "execution_count": 23,
   "id": "9bd3b4fd-7cb8-4b93-b51d-5a110c380be1",
   "metadata": {
    "scrolled": true
   },
   "outputs": [
    {
     "name": "stderr",
     "output_type": "stream",
     "text": [
      "\u001b[32mProgress: 100%|█████████████████████████████████████████| Time: 0:00:15\u001b[39m\n"
     ]
    },
    {
     "data": {
      "text/plain": [
       "([-3878.8286532467223, -3843.6719673406856, -3824.884939756912, -3816.343622123084, -3816.343622123084, -3816.343622123084, -3816.343622123084, -3816.343622123084, -3810.5340436570928, -3809.349076223732  …  -3787.2440070251414, -3787.2440070251414, -3787.2440070251414, -3787.2440070251414, -3787.2440070251414, -3787.2440070251414, -3787.2440070251414, -3787.2440070251414, -3787.2440070251414, -3787.2440070251414], Gen.DynamicDSLTrace{DynamicDSLFunction{Any}}(DynamicDSLFunction{Any}(Dict{Symbol, Any}(), Dict{Symbol, Any}(), Type[], false, Union{Nothing, Some{Any}}[], var\"##room#292\", Bool[], false), Trie{Any, Gen.ChoiceOrCallRecord}(Dict{Any, Gen.ChoiceOrCallRecord}(:s_left => Gen.ChoiceOrCallRecord{Float64}(0.5037726787654069, 0.10536051565782628, NaN, true), :pred => Gen.ChoiceOrCallRecord{Matrix{Float64}}([0.0 0.0 … 0.0 0.0; 0.0 0.000747780897654593 … 0.005403640680015087 0.0; … ; 0.0 0.005634177941828966 … 0.005745545029640198 0.0; 0.0 0.0 … 0.0 0.0], -3787.454728056457, NaN, true), :s_right => Gen.ChoiceOrCallRecord{Float64}(0.1368725767989576, 0.10536051565782628, NaN, true)), Dict{Any, Trie{Any, Gen.ChoiceOrCallRecord}}()), false, -3787.2440070251414, 0.0, (), [0.0 0.0 … 0.0 0.0; 0.0 0.000747780897654593 … 0.005403640680015087 0.0; … ; 0.0 0.005634177941828966 … 0.005745545029640198 0.0; 0.0 0.0 … 0.0 0.0]))"
      ]
     },
     "execution_count": 23,
     "metadata": {},
     "output_type": "execute_result"
    }
   ],
   "source": [
    "# call the inference procedure\n",
    "(scores, t) = do_inference()"
   ]
  },
  {
   "cell_type": "markdown",
   "id": "072a472f-94dd-4567-a47f-04d123fe55ad",
   "metadata": {},
   "source": [
    "Now, how do I know if my inference procedure worked? \n",
    "\n",
    "Let's first visualize to see if our log likelihood scores improved over iterations (x-axis: iterations; y-axis: log scores)."
   ]
  },
  {
   "cell_type": "code",
   "execution_count": null,
   "id": "8b5dd7af-0575-49c9-92a7-d8f28281890f",
   "metadata": {
    "scrolled": true
   },
   "outputs": [],
   "source": [
    "plot(scores, size = (1000, 1000))"
   ]
  },
  {
   "cell_type": "markdown",
   "id": "d3c73f49-4b99-41a3-a1fc-bb1c7a9a704a",
   "metadata": {},
   "source": [
    "Alright this should look good. Try to reason about how often proposals are accepted by the step-wise changes in the loglikelihood scores over iterations.\n",
    "\n",
    "Now let's find out what our inferred scene looks like at the end of the procedure:"
   ]
  },
  {
   "cell_type": "code",
   "execution_count": null,
   "id": "41f4ebc9-24f1-4377-beac-2e94513833c6",
   "metadata": {},
   "outputs": [],
   "source": [
    "view_image(t)"
   ]
  },
  {
   "cell_type": "markdown",
   "id": "4bbc95b7-04e8-4faf-b8c7-51083c7b72b9",
   "metadata": {},
   "source": [
    "Compare the image that your model synthesized to what the observation was like from above. Did the inference procedure work reasonably well? Try changing the number of iterations. "
   ]
  },
  {
   "cell_type": "markdown",
   "id": "9f5f7d84-11d7-4d18-8008-ba6559fa2941",
   "metadata": {},
   "source": [
    "## Exercise\n",
    "\n",
    "Now edit your generative model to also infer the position of the spheres. To keep things as simple as possible, only infer the middle component (y-coordinate: away from or toward the camera) while assuming the x- and z-coordinates."
   ]
  },
  {
   "cell_type": "code",
   "execution_count": null,
   "id": "03f51ff8-b4f3-4aea-921d-1dcce6e9cd88",
   "metadata": {},
   "outputs": [],
   "source": []
  }
 ],
 "metadata": {
  "kernelspec": {
   "display_name": "Julia 1.9.3",
   "language": "julia",
   "name": "julia-1.9"
  },
  "language_info": {
   "file_extension": ".jl",
   "mimetype": "application/julia",
   "name": "julia",
   "version": "1.9.3"
  }
 },
 "nbformat": 4,
 "nbformat_minor": 5
}
