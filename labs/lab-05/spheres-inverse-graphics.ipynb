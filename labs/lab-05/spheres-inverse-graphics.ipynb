{
 "cells": [
  {
   "cell_type": "markdown",
   "id": "617e2da8-0eaa-44a5-abd8-5ea13b0c302b",
   "metadata": {},
   "source": [
    "# Inverse graphics using graphics-based generative models and MCMC\n",
    "\n",
    "We will start with installing the neccesary packages: mitsuba for differentiable rendering and numpy for numerical processing. \n",
    "\n",
    "We will install `mitsuba` and `numpy` using `Conda.jl`. The following snippet will create a local environment that will allow you to install things on the Apptainer container (and on your own computer). "
   ]
  },
  {
   "cell_type": "code",
   "execution_count": 1,
   "id": "96ab6073-9af4-472b-be29-f30bf3434e41",
   "metadata": {},
   "outputs": [
    {
     "name": "stderr",
     "output_type": "stream",
     "text": [
      "\u001b[32m\u001b[1m  Activating\u001b[22m\u001b[39m project at `~/Algorithms-of-the-Mind/labs/lab-05/psyc261`\n",
      "\u001b[32m\u001b[1m   Resolving\u001b[22m\u001b[39m package versions...\n",
      "\u001b[32m\u001b[1m  No Changes\u001b[22m\u001b[39m to `~/Algorithms-of-the-Mind/labs/lab-05/psyc261/Project.toml`\n",
      "\u001b[32m\u001b[1m  No Changes\u001b[22m\u001b[39m to `~/Algorithms-of-the-Mind/labs/lab-05/psyc261/Manifest.toml`\n",
      "\u001b[36m\u001b[1m[ \u001b[22m\u001b[39m\u001b[36m\u001b[1mInfo: \u001b[22m\u001b[39mRunning `conda install -y numpy` in root environment\n"
     ]
    },
    {
     "name": "stdout",
     "output_type": "stream",
     "text": [
      "Channels:\n",
      " - conda-forge\n",
      "Platform: linux-64\n",
      "Collecting package metadata (repodata.json): ...working... done\n",
      "Solving environment: ...working... done\n",
      "\n",
      "# All requested packages already installed.\n",
      "\n"
     ]
    }
   ],
   "source": [
    "using Pkg\n",
    "Pkg.activate(\"psyc261\")\n",
    "Pkg.add(\"Conda\")\n",
    "using Conda\n",
    "Conda.add(\"numpy\")"
   ]
  },
  {
   "cell_type": "code",
   "execution_count": 2,
   "id": "5c3b25c7-c5c9-43b7-8c52-0651bb963714",
   "metadata": {},
   "outputs": [
    {
     "name": "stdout",
     "output_type": "stream",
     "text": [
      "Defaulting to user installation because normal site-packages is not writeable\n",
      "Requirement already satisfied: mitsuba in /home/psyc2610_iy42/.local/lib/python3.11/site-packages (3.7.1)\n",
      "Requirement already satisfied: drjit==1.2.0 in /home/psyc2610_iy42/.local/lib/python3.11/site-packages (from mitsuba) (1.2.0)\n"
     ]
    },
    {
     "data": {
      "text/plain": [
       "Process(`\u001b[4mpip\u001b[24m \u001b[4minstall\u001b[24m \u001b[4mmitsuba\u001b[24m`, ProcessExited(0))"
      ]
     },
     "execution_count": 2,
     "metadata": {},
     "output_type": "execute_result"
    }
   ],
   "source": [
    "# need this for installing mitsuba...\n",
    "\n",
    "run(`conda config --set pip_interop_enabled true`)\n",
    "run(`pip install mitsuba`)"
   ]
  },
  {
   "cell_type": "code",
   "execution_count": 3,
   "id": "554301fc-9839-450c-8f64-1b9724e65881",
   "metadata": {},
   "outputs": [
    {
     "name": "stderr",
     "output_type": "stream",
     "text": [
      "\u001b[32m\u001b[1m   Resolving\u001b[22m\u001b[39m package versions...\n",
      "\u001b[32m\u001b[1m  No Changes\u001b[22m\u001b[39m to `~/Algorithms-of-the-Mind/labs/lab-05/psyc261/Project.toml`\n",
      "\u001b[32m\u001b[1m  No Changes\u001b[22m\u001b[39m to `~/Algorithms-of-the-Mind/labs/lab-05/psyc261/Manifest.toml`\n"
     ]
    }
   ],
   "source": [
    "Pkg.add([\"Distributions\", \"ProgressMeter\", \"Gen\", \"Plots\", \"Parameters\", \"PyCall\"])"
   ]
  },
  {
   "cell_type": "code",
   "execution_count": 4,
   "id": "60d76e3d-993b-42e8-baa3-2567f78889a2",
   "metadata": {
    "scrolled": true
   },
   "outputs": [],
   "source": [
    "using Pkg\n",
    "using Distributions\n",
    "using ProgressMeter\n",
    "using Gen, Plots\n",
    "using Parameters\n",
    "using PyCall\n",
    "np = pyimport(\"numpy\")\n",
    ";"
   ]
  },
  {
   "cell_type": "markdown",
   "id": "24118f41-6ef3-49f6-9a55-b09f096524e0",
   "metadata": {},
   "source": [
    "# Part 0: The task\n",
    "\n",
    "The task in this lab is to build a probabilistic inverse graphics model: The model will go from a 2D image to a 3D scene inference (aka single-image 3D reconstruction). We will do so by inverting a graphics-based generative model of images.  "
   ]
  },
  {
   "cell_type": "markdown",
   "id": "19ea281e-790c-4204-8386-a4780f76e566",
   "metadata": {},
   "source": [
    "# Part 1: Compute graphics & `mitsuba`\n",
    "## Mini introduction to computer graphics\n",
    "\n",
    "Computer graphics are concerned with algorithmically tractable methods for representing 3D scenes (static or dynamic) and syntesizing realistic (or non-realistic) imagery based off of these scenes. Rendering is the process of synthesizing an image from a 3D (or a 2D) scene via a computer program. We will refer to such computer programs as *rendering engines*.\n",
    "\n",
    "<img src=\"./images/render.png\" alt=\"\" width=\"400\"/>\n",
    "\n",
    "In a rendering engine, a 3D scene is defined by 4 basic ingredients:\n",
    "\n",
    "1. Objects (e.g., 3D shapes and surfaces)\n",
    "2. Optical material properties (how the surface of an object is supposed to reflect light; e.g., glass-like, diffuse, opaque, transparent, shiny, etc.)\n",
    "3. Lights\n",
    "4. Sensors or camera\n",
    "\n",
    "This course is obviously not about developing rendering engines -- [see the relevant courses](https://courses.yale.edu/?keyword=computer%20graphics) offered by the Department of Computer Science and numerous resources online. Instead, we will use existing rendering engines, embedding them within probabilistic models.\n",
    "\n",
    "To create a 3D scene and generate an image, you need to provide the rendering engine (`mitsuba` in our case) with each of the four ingredients described earlier (objects, optical material properties, lights, and sensors/cameras).\n",
    "\n",
    "## Mini introduction to Mitsuba3\n",
    "\n",
    "The field of computer graphics has developed many algorithms for realistic image synthesis. At the highest level, rendering engines can be categorized into:\n",
    "1. real-time renderers (rasterization renderers, etc.), or\n",
    "2. physically-based renderers (ray-traced renderers, etc.).\n",
    "\n",
    "`mitsuba` is a **physically-based renderer**. This means that it sends \"rays\" from the camera out into the scene and tracks where and how they intersect light sources. These rays are then integrated to figure out what color to paint on each pixel in an image. (Here's an informative [tutorial on ray tracing](https://youtu.be/gsZiJeaMO48). _This is not relevant material for PSYC 261._)\n",
    "\n",
    "<img src=\"./images/raytracing.png\" alt=\"\" width=\"400\"/>\n",
    "\n",
    "Like other rendering engines, we need to input a scene to `mitsuba` (lights, optical materials, objects, sensory). This can be done using XML or a Python dictionary. We provide examples of both below. \n",
    "\n",
    "In this course, we chose to work with mitsuba3 because it is open source software, and has some exciting attributes (many of which we will not get into in this lab), notably, differentiable rendering capabilities. Additionally, in ongoing research in Ilker's lab, `mitsuba` has proven to be dependable for its numerical stability and customizability for probabilistic inference. \n",
    "\n",
    "Please see the [tutorials](https://www.youtube.com/watch?v=9Ja9buZx0Cs&list=PLI9y-85z_Po6da-pyTNGTns2n4fhpbLe5) and [documentation](https://mitsuba.readthedocs.io/en/stable/) on Mitsuba3's [official website](https://www.mitsuba-renderer.org/) for more. \n",
    "\n",
    "**Notice that `mitsuba` is a Python package**; to use it we rely on the `PyCall` package of Julia, which provides a native interface to python code. You can familiarize yourself with PyCall [here](https://github.com/JuliaPy/PyCall.jl#usage)."
   ]
  },
  {
   "cell_type": "markdown",
   "id": "3892fca1-5563-488d-a192-a1aae333d59f",
   "metadata": {},
   "source": [
    "# Part 2: Using `mitsuba`\n",
    "\n",
    "## Getting started with `mitsuba`\n",
    "\n",
    "In this tutorial, we will learn about how to load a scene and render it. Mitsuba3 gives a lot of fun flexibility, especially in terms of rendering. \n",
    "\n",
    "Before we start, let's execute our very first command with mitsuba3."
   ]
  },
  {
   "cell_type": "code",
   "execution_count": 5,
   "id": "07d15c1c-f4c3-405f-9d57-e11f8be50056",
   "metadata": {},
   "outputs": [
    {
     "name": "stderr",
     "output_type": "stream",
     "text": [
      "jitc_llvm_init(): LLVM API initialization failed ..\n"
     ]
    },
    {
     "data": {
      "text/plain": [
       "13-element Vector{String}:\n",
       " \"scalar_rgb\"\n",
       " \"scalar_spectral\"\n",
       " \"scalar_spectral_polarized\"\n",
       " \"llvm_ad_rgb\"\n",
       " \"llvm_ad_mono\"\n",
       " \"llvm_ad_mono_polarized\"\n",
       " \"llvm_ad_spectral\"\n",
       " \"llvm_ad_spectral_polarized\"\n",
       " \"cuda_ad_rgb\"\n",
       " \"cuda_ad_mono\"\n",
       " \"cuda_ad_mono_polarized\"\n",
       " \"cuda_ad_spectral\"\n",
       " \"cuda_ad_spectral_polarized\""
      ]
     },
     "execution_count": 5,
     "metadata": {},
     "output_type": "execute_result"
    }
   ],
   "source": [
    "# import mitsuba using pycall\n",
    "mi = pyimport(\"mitsuba\")\n",
    "\n",
    "# different rendering modes of mitsuba \n",
    "# for our purposes, we wish to highlight the differentiable vs. scalar modes\n",
    "mi.variants()"
   ]
  },
  {
   "cell_type": "markdown",
   "id": "00a5ba72-7c31-40b4-92f8-56da50c8f481",
   "metadata": {},
   "source": [
    "Now the output of this function `mi.variants()` tells us that mitsuba3 can render a scene in 4 different modes. We will be using the `scalar_rgb` mode in this lab, which will render a standard RGB image.\n",
    "\n",
    "To use `mitsuba`'s differentiable rendering functionality, we would need to be either `cuda_ad_rgb` or `llbm_ad_rgb` modes. This will not be explored in lab. Check the `mitsuba` documentation and tutorials for this advanced topic."
   ]
  },
  {
   "cell_type": "markdown",
   "id": "b54ade4d-f615-4fd4-9dae-382e80e6d8b9",
   "metadata": {},
   "source": [
    "### Loading and rendering a scene (objects, lights, materials, sensors) in `mitsuba`\n",
    "\n",
    "Here we will first set our mode of rendering to be `scalar_rgb`.\n",
    "\n",
    "Then, we will load a scene with with two cuboids in a room with differently colored walls. We will then render it.\n",
    "\n",
    "The scene description will be loaded from a python dictionary based on an example from the mitsuba3 gallery. Run this code and review its output to appreciate how it defines each of the four kinds of elements we are talking about: shapes, lights, optical materials (jargon name: BSDFs), and sensors.\n",
    "\n",
    "`OBJMesh` are the walls, `Sphere` is a shape; things like `SmoothDiffuse` are optical material properties; `emitter`s are lights; and `PerspectiveCamera` is the sensor. Notice how each entry has certain properties: For example an object needs to define where it is in the world (`to_world`) and its optical material property.\n",
    "\n",
    "You can also review `cbox-generic.xml` under this folder to again appreciate what goes into a scene."
   ]
  },
  {
   "cell_type": "code",
   "execution_count": 6,
   "id": "d4ebac51-6a81-42ad-9e3f-7445a3c07008",
   "metadata": {
    "scrolled": true
   },
   "outputs": [
    {
     "data": {
      "text/plain": [
       "PyObject Scene[\n",
       "  children = [\n",
       "    PathIntegrator[\n",
       "      max_depth = 6,\n",
       "      rr_depth = 5\n",
       "    ],\n",
       "    PerspectiveCamera[\n",
       "      x_fov = 39.3077,\n",
       "      near_clip = 0.001,\n",
       "      far_clip = 100,\n",
       "      film = HDRFilm[\n",
       "        size = [64, 64],\n",
       "        crop_size = [64, 64],\n",
       "        crop_offset = [0, 0],\n",
       "        sample_border = 0,\n",
       "        compensate = 0,\n",
       "        filter = TentFilter[radius=1.000000],\n",
       "        file_format = OpenEXR,\n",
       "        pixel_format = rgb,\n",
       "        component_format = float32,\n",
       "      ],\n",
       "      sampler = IndependentSampler[\n",
       "        base_seed = 0\n",
       "        sample_count = 16\n",
       "        samples_per_wavefront = 1\n",
       "        wavefront_size = 0\n",
       "      ],\n",
       "      resolution = [64, 64],\n",
       "      shutter_open = 0,\n",
       "      shutter_open_time = 0,\n",
       "      to_world = [[-1, 0, 0, 0],\n",
       "                  [0, 1, 0, 0],\n",
       "                  [0, 0, -1, 4],\n",
       "                  [0, 0, 0, 1]]\n",
       "    ],\n",
       "    SmoothDiffuse[\n",
       "      reflectance = SRGBReflectanceSpectrum[\n",
       "        value = [0.85, 0.85, 0.85]\n",
       "      ]\n",
       "    ],\n",
       "    TwoSided[\n",
       "      brdf[0] = SmoothDiffuse[\n",
       "        reflectance = SRGBReflectanceSpectrum[\n",
       "          value = [0.725, 0.71, 0.68]\n",
       "        ]\n",
       "      ],\n",
       "      brdf[1] = SmoothDiffuse[\n",
       "        reflectance = SRGBReflectanceSpectrum[\n",
       "          value = [0.725, 0.71, 0.68]\n",
       "        ]\n",
       "      ]\n",
       "    ],\n",
       "    SmoothDiffuse[\n",
       "      reflectance = SRGBReflectanceSpectrum[\n",
       "        value = [0.885809, 0.698859, 0.666422]\n",
       "      ]\n",
       "    ],\n",
       "    SmoothDiffuse[\n",
       "      reflectance = SRGBReflectanceSpectrum[\n",
       "        value = [0.105421, 0.37798, 0.076425]\n",
       "      ]\n",
       "    ],\n",
       "    SmoothDiffuse[\n",
       "      reflectance = SRGBReflectanceSpectrum[\n",
       "        value = [0.570068, 0.0430135, 0.0443706]\n",
       "      ]\n",
       "    ],\n",
       "    Sphere[\n",
       "      to_world = [[0.5, 0, 0, -0.3],\n",
       "                  [0, 0.5, 0, -0.5],\n",
       "                  [0, 0, 0.5, 0.2],\n",
       "                  [0, 0, 0, 1]],\n",
       "      center = [-0.3, -0.5, 0.2],\n",
       "      radius = 0.5,\n",
       "      surface_area = 3.14159,\n",
       "      bsdf = TwoSided[\n",
       "        brdf[0] = SmoothDiffuse[\n",
       "          reflectance = SRGBReflectanceSpectrum[\n",
       "            value = [0.725, 0.71, 0.68]\n",
       "          ]\n",
       "        ],\n",
       "        brdf[1] = SmoothDiffuse[\n",
       "          reflectance = SRGBReflectanceSpectrum[\n",
       "            value = [0.725, 0.71, 0.68]\n",
       "          ]\n",
       "        ]\n",
       "      ]\n",
       "    ],\n",
       "    Sphere[\n",
       "      to_world = [[0.5, 0, 0, 0.5],\n",
       "                  [0, 0.5, 0, -0.75],\n",
       "                  [0, 0, 0.5, -0.2],\n",
       "                  [0, 0, 0, 1]],\n",
       "      center = [0.5, -0.75, -0.2],\n",
       "      radius = 0.5,\n",
       "      surface_area = 3.14159,\n",
       "      bsdf = TwoSided[\n",
       "        brdf[0] = SmoothDiffuse[\n",
       "          reflectance = SRGBReflectanceSpectrum[\n",
       "            value = [0.725, 0.71, 0.68]\n",
       "          ]\n",
       "        ],\n",
       "        brdf[1] = SmoothDiffuse[\n",
       "          reflectance = SRGBReflectanceSpectrum[\n",
       "            value = [0.725, 0.71, 0.68]\n",
       "          ]\n",
       "        ]\n",
       "      ]\n",
       "    ],\n",
       "    OBJMesh[\n",
       "      name = \"cbox_greenwall.obj\",\n",
       "      bbox = BoundingBox3f[\n",
       "        min = [-1, -1, -1],\n",
       "        max = [-1, 1, 1]\n",
       "      ],\n",
       "      vertex_count = 4,\n",
       "      vertices = [96 B of vertex data],\n",
       "      face_count = 2,\n",
       "      faces = [24 B of face data],\n",
       "      face_normals = 0\n",
       "    ],\n",
       "    Mesh[\n",
       "      name = \"cbox_floor.obj + cbox_ceiling.obj + cbox_back.obj\",\n",
       "      bbox = BoundingBox3f[\n",
       "        min = [-1, -1, -1],\n",
       "        max = [1, 1, 1]\n",
       "      ],\n",
       "      vertex_count = 12,\n",
       "      vertices = [288 B of vertex data],\n",
       "      face_count = 6,\n",
       "      faces = [72 B of face data],\n",
       "      face_normals = 0\n",
       "    ],\n",
       "    OBJMesh[\n",
       "      name = \"cbox_redwall.obj\",\n",
       "      bbox = BoundingBox3f[\n",
       "        min = [1, -1, -1],\n",
       "        max = [1, 1, 1]\n",
       "      ],\n",
       "      vertex_count = 4,\n",
       "      vertices = [96 B of vertex data],\n",
       "      face_count = 2,\n",
       "      faces = [24 B of face data],\n",
       "      face_normals = 0\n",
       "    ],\n",
       "    Rectangle[\n",
       "      to_world = [[0.23, 0, 0, 0],\n",
       "                  [0, -8.30516e-09, -0.19, 0.99],\n",
       "                  [0, 0.19, -8.30516e-09, 0.01],\n",
       "                  [0, 0, 0, 1]],\n",
       "      frame = Frame[\n",
       "        s = [0.46, 0, 0],\n",
       "        t = [0, -1.66103e-08, 0.38],\n",
       "        n = [0, -1, -4.37114e-08]\n",
       "      ],\n",
       "      surface_area = 0.1748,\n",
       "      bsdf = SmoothDiffuse[\n",
       "        reflectance = SRGBReflectanceSpectrum[\n",
       "          value = [0.885809, 0.698859, 0.666422]\n",
       "        ]\n",
       "      ],\n",
       "      emitter = AreaLight[\n",
       "        radiance = SRGBReflectanceSpectrum[\n",
       "          value = [18.387, 13.9873, 6.75357]\n",
       "        ],\n",
       "        surface_area = 0.1748,\n",
       "        <no medium attached!>\n",
       "      ]\n",
       "    ]\n",
       "  ]\n",
       "]"
      ]
     },
     "execution_count": 6,
     "metadata": {},
     "output_type": "execute_result"
    }
   ],
   "source": [
    "mi.set_variant(\"scalar_rgb\")\n",
    "\n",
    "@pyinclude(\"./cbox-generic.py\")\n",
    "\n",
    "scene_d = py\"initialize_scene()\"o::PyObject\n",
    "\n",
    "# load the scene using the load_dict function\n",
    "scene::PyObject = @pycall mi.load_dict(scene_d)::PyObject"
   ]
  },
  {
   "cell_type": "markdown",
   "id": "d04485b4-6d51-4caa-ab3b-98fa84729498",
   "metadata": {},
   "source": [
    "Recall that we mentioned `mitsuba` is a physically-based renderer that estimates the color of each pixel using ray tracing. Ray-tracing is a computationally costly operation and `mitsuba` allows you to make a tradeoff that suits your goals. \n",
    "\n",
    "The parameter `spp`, which stands for samples per pixel and is input to the `mi.render` function below, is essentially the number of rays cast to compute the color per pixel. The choice of spp reflects a tradeoff: The greater the `spp`, the higher the quality and realism of our render is, with the expense of higher computational cost. You can reduce `spp` to obtain lower quality renders, which is often acceptable, especially for characterizing an approximate process of rendering that may be implemented in the mind and brain. (Regardless, this will be handy when we are doing probabilistic inference later on.) "
   ]
  },
  {
   "cell_type": "code",
   "execution_count": 7,
   "id": "48486f93-c71e-49d0-9df5-d17d08d07efd",
   "metadata": {},
   "outputs": [
    {
     "data": {
      "text/html": [
       "<img src=\"data:image/jpeg;base64, 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\">"
      ],
      "text/plain": [
       "PyObject Bitmap[\n",
       "  pixel_format = rgb,\n",
       "  component_format = float32,\n",
       "  size = [64, 64],\n",
       "  srgb_gamma = 1,\n",
       "  struct = Struct<12>[\n",
       "    float32 R; // @0, gamma, premultiplied alpha\n",
       "    float32 G; // @4, gamma, premultiplied alpha\n",
       "    float32 B; // @8, gamma, premultiplied alpha\n",
       "  ],\n",
       "  data = [ 48 KiB of image data ]\n",
       "]"
      ]
     },
     "execution_count": 7,
     "metadata": {},
     "output_type": "execute_result"
    }
   ],
   "source": [
    "# set spp to 12 -- play with different values\n",
    "spp = 128\n",
    "\n",
    "# render the scene\n",
    "image = @pycall mi.render(scene, spp=spp)::PyObject\n",
    "# get the bitmap, which Jupyter notebook displays inline!\n",
    "bitmap = @pycall mi.Bitmap(image).convert(srgb_gamma=true)::PyObject"
   ]
  },
  {
   "cell_type": "markdown",
   "id": "94fc0eb3-d5a6-4acd-b9d0-54e60cc7131f",
   "metadata": {},
   "source": [
    "Wow! How cool is that?! You just rendered a nice scene with umm spheres in it. Yay for you! "
   ]
  },
  {
   "cell_type": "markdown",
   "id": "a7999828-d966-42d9-bc2e-a14099f33cd2",
   "metadata": {},
   "source": [
    "### Transformations of scene elements using `mitsuba`\n",
    "\n",
    "Now a critical component of computer graphics is to manipulate the scene -- including adding, deleting, changing, moving (translating) and scaling the things in a scene. Here we will learn how we can translate and scale one of the cuboids in the scene. \n",
    "\n",
    "There are multiple ways in which one can transform the scene elements. See this mitsuba3 [tutorial](https://mitsuba.readthedocs.io/en/stable/src/rendering/editing_a_scene.html) for an approach we will not use in this lab.\n",
    "\n",
    "The approach we will take is to update the dictionary that contains the scene configuration -- `scene_d` using mitsuba3's [transformation library](https://mitsuba.readthedocs.io/en/stable/src/how_to_guides/transformation_toolbox.html#Transform). \n",
    "\n",
    "We will transform the sphere on the right -- `right-object`. \n",
    "\n",
    "Let's first see the entry for `right-object` in `scene_d` dictionary."
   ]
  },
  {
   "cell_type": "code",
   "execution_count": 8,
   "id": "81563dd2-7ca1-4c6d-bc89-a12a1084e78f",
   "metadata": {},
   "outputs": [
    {
     "name": "stdout",
     "output_type": "stream",
     "text": [
      "Dict{Any, Any}(\"to_world\" => PyObject Transform[\n",
      "  matrix=[[0.5, 0, 0, 0.5],\n",
      "          [0, 0.5, 0, -0.75],\n",
      "          [0, 0, 0.5, -0.2],\n",
      "          [0, 0, 0, 1]],\n",
      "  inverse_transpose=[[2, 0, 0, 0],\n",
      "                     [0, 2, 0, 0],\n",
      "                     [0, 0, 2, 0],\n",
      "                     [-1, 1.5, 0.4, 1]]\n",
      "], \"rightobject-bsdf\" => Dict{Any, Any}(\"id\" => \"color-sphere\", \"type\" => \"ref\"), \"type\" => \"sphere\")\n"
     ]
    }
   ],
   "source": [
    "println(get(scene_d, \"right-object\", true))"
   ]
  },
  {
   "cell_type": "markdown",
   "id": "5428afd4-5eca-45de-a1c4-a8a57a626bdd",
   "metadata": {},
   "source": [
    "The PyObject which is a 4x4 quantity is a combined transformation consisting of the size of the object and where it is. \n",
    "\n",
    "Scale: `[[0.5, 0, 0], [0, 0.5, 0], [0.0, 0, 0.5]]`\n",
    "\n",
    "Translation: `[0.5, -0.75, -0.2]`\n",
    "\n",
    "Let's assign a new size and modify the z-coordinate of its location."
   ]
  },
  {
   "cell_type": "code",
   "execution_count": 9,
   "id": "3c805a57-4dfe-42eb-8563-2d45968c2a2b",
   "metadata": {},
   "outputs": [
    {
     "data": {
      "text/plain": [
       "PyObject {'to_world': Transform[\n",
       "  matrix=[[0.25, 0, 0, 0.5],\n",
       "          [0, 0.25, 0, -0.75],\n",
       "          [0, 0, 0.25, 0.7],\n",
       "          [0, 0, 0, 1]],\n",
       "  inverse_transpose=[[4, 0, 0, 0],\n",
       "                     [0, 4, 0, 0],\n",
       "                     [0, 0, 4, 0],\n",
       "                     [-2, 3, -2.8, 1]]\n",
       "], 'rightobject-bsdf': {'id': 'color-sphere', 'type': 'ref'}, 'type': 'sphere'}"
      ]
     },
     "execution_count": 9,
     "metadata": {},
     "output_type": "execute_result"
    }
   ],
   "source": [
    "object = \"right-object\"\n",
    "# create a new transformation\n",
    "translation = [0.5, -0.75, 0.7]\n",
    "scale = 0.25 # we will make it a cube\n",
    "\n",
    "# now create the transformation using mi's transformation toolbox\n",
    "tranformation = @pycall mi.Transform4f.translate(translation).scale(scale)::PyObject\n",
    "object_dict = PyObject(get(scene_d, object))\n",
    "set!(object_dict, \"to_world\", tranformation)\n",
    "set!(scene_d, object, object_dict)"
   ]
  },
  {
   "cell_type": "markdown",
   "id": "68b3e13a-ec1c-46f8-94ed-98cff80ee0c1",
   "metadata": {},
   "source": [
    "Now let's reload this updated dictionary into our scene and render it."
   ]
  },
  {
   "cell_type": "code",
   "execution_count": 10,
   "id": "810826f7-188e-4dcb-8cbf-2f2f296d2f44",
   "metadata": {},
   "outputs": [
    {
     "data": {
      "text/html": [
       "<img src=\"data:image/jpeg;base64, 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\">"
      ],
      "text/plain": [
       "PyObject Bitmap[\n",
       "  pixel_format = rgb,\n",
       "  component_format = float32,\n",
       "  size = [64, 64],\n",
       "  srgb_gamma = 1,\n",
       "  struct = Struct<12>[\n",
       "    float32 R; // @0, gamma, premultiplied alpha\n",
       "    float32 G; // @4, gamma, premultiplied alpha\n",
       "    float32 B; // @8, gamma, premultiplied alpha\n",
       "  ],\n",
       "  data = [ 48 KiB of image data ]\n",
       "]"
      ]
     },
     "execution_count": 10,
     "metadata": {},
     "output_type": "execute_result"
    }
   ],
   "source": [
    "# load the scene using the load_dict function\n",
    "scene = @pycall mi.load_dict(scene_d)::PyObject\n",
    "image = @pycall mi.render(scene, spp=spp)::PyObject\n",
    "# get the bitmap, which Jupyter notebook displays inline!\n",
    "bitmap = @pycall mi.Bitmap(image).convert(srgb_gamma=true)::PyObject"
   ]
  },
  {
   "cell_type": "markdown",
   "id": "e3854443-b948-4814-96b1-d9b588436052",
   "metadata": {},
   "source": [
    "Notice how the right object became smaller than it was before and came closer to the sensor."
   ]
  },
  {
   "cell_type": "markdown",
   "id": "d6ef6624-39d2-44f5-bf07-bf75ca67643b",
   "metadata": {},
   "source": [
    "Okay now let's do some *inverse* graphics."
   ]
  },
  {
   "cell_type": "markdown",
   "id": "170af268-4b85-4ead-9578-f91355704c2e",
   "metadata": {},
   "source": [
    "# Part 3: Inverse graphics & modeling\n",
    "\n",
    "## Inverse graphics"
   ]
  },
  {
   "cell_type": "markdown",
   "id": "1396d743-b53c-435f-826b-7b7f66fb5222",
   "metadata": {},
   "source": [
    "We start by writing a Julia struct to hold the state of the scene -- including the scene parameters (`scene_d`), the `mitsuba` scene (`scene`), and the `spp`."
   ]
  },
  {
   "cell_type": "code",
   "execution_count": 12,
   "id": "25fb0aa4-2416-4461-8e62-5c3ebe92a3cd",
   "metadata": {},
   "outputs": [],
   "source": [
    "# the with_kw macro comes from the Parameters package \n",
    "# and is a handy macro for having default values to certain entries in a Julia struct.\n",
    "@with_kw struct ModelParams\n",
    "    scene_d::PyDict\n",
    "    scene::PyObject = @pycall mi.load_dict(scene_d)::PyObject\n",
    "    spp::Int32 = 16\n",
    "end;"
   ]
  },
  {
   "cell_type": "markdown",
   "id": "ea24647d-ea7e-421a-8b49-34446c5d923f",
   "metadata": {},
   "source": [
    "As further setup, let's also include the python file (included in this folder) that contains the scene configuration we will work with."
   ]
  },
  {
   "cell_type": "code",
   "execution_count": 13,
   "id": "da03861f-aadb-43f7-bc60-3bee8ef9567b",
   "metadata": {},
   "outputs": [],
   "source": [
    "mi = pyimport(\"mitsuba\")\n",
    "mi.set_variant(\"scalar_rgb\")\n",
    "@pyinclude(\"./cbox-generic.py\")"
   ]
  },
  {
   "cell_type": "markdown",
   "id": "54a549fa-082b-4bf8-ac90-ce7a8a22a385",
   "metadata": {},
   "source": [
    "We will also define helper functions for \n",
    "\n",
    "* transformations (moving and scaling objects)\n",
    "* rendering"
   ]
  },
  {
   "cell_type": "code",
   "execution_count": 14,
   "id": "3e9ecf4e-40b8-4280-a9e0-fc0878aaf3a5",
   "metadata": {},
   "outputs": [],
   "source": [
    "function transform!(scene_d, object, scale, translation)\n",
    "    transformation = @pycall mi.Transform4f.translate(translation).scale(scale)::PyObject\n",
    "    object_dict = PyObject(get(scene_d, object))\n",
    "    set!(object_dict, \"to_world\", transformation)\n",
    "    set!(scene_d, object, object_dict)\n",
    "    return scene_d\n",
    "end\n",
    "\n",
    "function render_bitmap(modelparams)\n",
    "    image = @pycall mi.render(modelparams.scene, spp=modelparams.spp)::PyObject\n",
    "    bitmap = @pycall mi.Bitmap(image).convert(srgb_gamma=true)::PyObject\n",
    "    return bitmap\n",
    "end\n",
    "\n",
    "function render(modelparams)\n",
    "    bitmap = render_bitmap(modelparams)\n",
    "    mu = @pycall np.array(bitmap)::Array{Float32, 3}\n",
    "    return mu[:, :, 1]\n",
    "end\n",
    ";"
   ]
  },
  {
   "cell_type": "markdown",
   "id": "d072ba00-8d7b-43a0-9819-0918855d3fc1",
   "metadata": {},
   "source": [
    "### Generative model\n",
    "\n",
    "Now we will proceed with writing our generative model. \n",
    "\n",
    "The generative model will define a distribution over *images* parametrized by a scene configuration, a renderer, and the size of the objects in it. \n",
    "\n",
    "To keep things pedagogically tractable, the generative model will make a few assumptions. The generative model will assume that there are two objects in the scene -- two spheres (otherwise, the scene configuration will be the same room as above) --, the knowledge of where these spheres are, and the knowledge of the viewpoint (where the sensor is). Notice that you can relax each of these assumptions with appropriate prior distributions! \n",
    "\n",
    "The generative model will define priors over the sizes of the spheres. \n",
    "\n",
    "And the generative model will define a gaussian likelihood function (a la Erdogan & Jacobs, 2017) over images. \n",
    "\n",
    "The generative model will use a much cheaper rendering protocol by setting `spp=16` (instead of 128, which is what we will use to render the observation). This will mimick the default scenario where the internal representation can get by with much coarser processes than reality."
   ]
  },
  {
   "cell_type": "code",
   "execution_count": 15,
   "id": "91dc271c-c7cd-4fbc-b528-52beb4a5f5f8",
   "metadata": {},
   "outputs": [],
   "source": [
    "@gen function room()\n",
    "\n",
    "    # load the scene configuration, including a room with colored walls, two spheres, lights, materials, and a sensor\n",
    "    scene_d = py\"initialize_scene()\"o::PyObject\n",
    "    \n",
    "    # prior over the scale of the left sphere\n",
    "    s_left ~ uniform(0.1, 1.0)\n",
    "    # we assume we know a priori where this sphere will appear in the scene\n",
    "    t_left = [-0.3, -0.5, 0.2]\n",
    "    # transform the object in the scene according to this scale and translation parameters\n",
    "    transform!(scene_d, \"left-object\", s_left, t_left)\n",
    "    \n",
    "    # prior over the scale of the right sphere\n",
    "    s_right ~ uniform(0.1, 1.0)\n",
    "    # we assume we know a priori where this sphere will appear in the scene\n",
    "    t_right = [0.5, -0.75, -0.2] \n",
    "    # transform the object in the scene according to this scale and translation parameters\n",
    "    transform!(scene_d, \"right-object\", s_right, t_right)\n",
    "\n",
    "    # load the resulting scene into our struct\n",
    "    # Notice that we are using a much cheaper spp for inference\n",
    "    modelparams = ModelParams(scene_d=scene_d, spp=16)\n",
    "\n",
    "    # render into an array\n",
    "    mu = render(modelparams)\n",
    "\n",
    "    # define the likelihood as a gaussian with diagonal covariance\n",
    "    pred ~ broadcasted_normal(mu, 1.0)\n",
    "\n",
    "end\n",
    ";"
   ]
  },
  {
   "cell_type": "markdown",
   "id": "baebaec1-8ddf-480f-af95-2d45a1e11362",
   "metadata": {},
   "source": [
    "We define a helper function `view_image` to render and visualize scenes using mitsuba3"
   ]
  },
  {
   "cell_type": "code",
   "execution_count": 16,
   "id": "9a5edcba-2b4d-4955-8332-48dfc1b25c9e",
   "metadata": {},
   "outputs": [],
   "source": [
    "function view_image(t)\n",
    "    scene_d = py\"initialize_scene()\"o::PyObject\n",
    "    t_left = [-0.3, -0.5, 0.2]\n",
    "    transform!(scene_d, \"left-object\", t[:s_left], t_left)\n",
    "    \n",
    "    t_right = [0.5, -0.75, -0.2] \n",
    "    transform!(scene_d, \"right-object\", t[:s_right], t_right)\n",
    "    #scene = mi.load_dict(scene_d)\n",
    "    scene_to_render = ModelParams(scene_d=scene_d)\n",
    "    bitmap = render_bitmap(scene_to_render)\n",
    "end\n",
    ";"
   ]
  },
  {
   "cell_type": "markdown",
   "id": "dbc5cf49-d89c-438d-8695-192cee8195f1",
   "metadata": {},
   "source": [
    "Now we are ready to draw a sample from this generative model and visualize"
   ]
  },
  {
   "cell_type": "code",
   "execution_count": 17,
   "id": "7fe20834-7aee-40a8-bb01-9f03164cce56",
   "metadata": {
    "scrolled": true
   },
   "outputs": [
    {
     "data": {
      "text/plain": [
       "│\n",
       "├── :s_left : 0.7542767716434563\n",
       "│\n",
       "├── :pred : [-2.1553266596534404 -1.83479145035778 0.688116616659554 0.7421495441579494 0.6931003419068369 1.656698207320305 0.5417122563984208 0.3957267080142449 0.15756393324773185 -1.029438124801282 1.1257140050882455 -0.9923585694745404 0.15513427049331027 0.9479445138060679 1.2971765896188021 -0.3818772070942334 0.37254325289349094 -0.7886699485956539 -0.09171453506198089 1.0978373863435982 0.9943063989676997 -1.0874736779221215 -0.8405868346252781 0.688448760825774 0.10490924515995526 -1.0505636373851517 -0.1411691785270469 -2.1016516471520954 1.9708352734489905 1.2749572267472502 1.791392889051466 0.5955950440123703 0.7199133294626441 0.7082304157336075 0.42838889589150875 0.11751966625738461 -0.6892097826291411 0.5226413742616192 1.2747812855456633 1.0716408184144872 1.1625928753803727 0.8316271506039096 0.8360807443935442 -0.5818121012318286 0.0832520314078882 -1.4320214710887333 1.4000039979210697 -0.6238972080265559 1.1137630379066055 0.06094619541118796 0.2038675631742807 -0.42023110140941927 1.7117694949030093 1.5444994861162895 -0.1231452690960542 2.3813541803248897 0.8260165526157901 0.650778280454051 0.8479781675592114 -1.7701428914779043 0.11002139106403423 -0.8514106047504177 0.6984744516946628 -0.02530199538257205; -0.7885374650795305 -0.38582803323178005 1.0664031954992446 -1.0225428905146468 -0.8458338572495012 -0.15214443556462232 -0.5631280638525121 -0.05176491597327522 0.6242402265248381 0.7157340303688308 0.023733143383814034 -0.3533644997180055 -1.0708100002426124 -1.564980795457184 1.7389187052302355 0.0357837254394185 -1.113700476778081 -0.4275404078617764 -0.9334924558640161 0.5980142269995101 -0.6597226407576354 0.7655197802716769 -1.9864954875827174 0.3235851529591175 0.296321428521085 -0.6410975556945163 1.2233061044772557 -0.9883529863560603 1.2095755787532314 0.3170150590889411 -0.9272586500936455 0.22532599919174562 -0.8179783240069612 0.9515758914156578 -0.021653359225211444 -0.5386055693509026 0.49239556266230466 0.8236863151426921 0.6531147426002695 -0.8543463659164628 0.12805305649788565 0.7603964594234975 -0.4774573515575037 -0.6393424231112478 0.7542314381222581 2.0994928307943654 -1.1370694603582527 1.6916249876108933 -1.2505042479022734 -0.4360702952638334 -0.48455354890095237 0.5639533291131735 -1.076277590058499 -0.6616819597669659 0.8330397734434751 0.6936710093644852 0.014604083641440113 -0.38207490003418626 0.0891494613992901 0.5418817230668918 0.7594315713475801 -0.28862411281279404 -0.4749373307750731 0.312621610204991; 0.3171704247704066 0.4914971378106981 0.37612747321774237 1.2782112062748225 0.12398948806134336 0.6591469233627829 -0.19274047735565597 0.45695864919124984 0.5519851507281122 -0.9884705050062772 -0.2839610217838361 0.8695934110180821 0.3685658638262298 2.042891352882925 -0.47635936298515635 0.6469070315270052 -0.04096792774480995 -1.3281266590973126 -1.373700132932693 -0.13493620594390732 -1.3327545043658424 1.629952819702332 1.3874464378587374 -1.4043628213780466 -1.1883633937553861 0.3693556454964556 1.9634221823769962 1.0754275369850537 -0.8266293278643164 1.9906249322709095 0.8461960234542819 -1.1669625486579136 1.7940964032730111 1.4122223312387492 -1.0010525289318821 -0.5927363833892466 -1.517087659520334 1.5477225912514485 0.39128302071618754 1.3592838283459618 0.4716715999440483 -0.36148456281089014 1.4838535216587199 0.32753266414529175 -0.31918191358936965 0.9518282869234589 0.291252321613897 -1.3651209919454996 1.100588175182803 0.9377380787378654 -0.3729421715401213 1.1097171454322807 -1.451323635813155 0.5383967433685235 1.0128996540947048 -1.4416147078992536 1.3946914546869584 0.9835383106525468 0.35991785644080704 -0.6113547538495822 -0.06172546796387468 -1.21848137133818 -0.240549851372445 0.9634903351170775; 0.39925044137313465 2.0146796048167026 1.798517310896232 -0.7296518940597316 -0.991819043811055 2.3490730374458737 0.8279070771356284 -1.005720002438282 -0.12663430863494962 1.320824102300248 0.6747636154915164 -0.7318174460064272 1.083663285341835 2.9396296108261577 1.9792818457505998 0.6593601705220176 -0.8970801330240565 1.6232227337665917 0.5475045101003969 1.229117555204041 0.2278401905328192 0.6202284663089579 2.1366965631506716 0.5571561896328173 1.341790443478539 0.9871070971960964 3.0357259021096996 -1.6448012865953179 1.059064459830645 1.3745202035991853 1.5908243662419155 -0.6985629779161773 1.8253478417325868 0.022459135745171444 -0.1851199848527295 0.14570336157382907 0.2625893247754887 1.3988283363246612 0.22079417050246516 0.045434160807171775 0.8621377799870023 0.3952926086150841 0.615266876261226 -0.44921735322581335 0.2605111980230652 1.079038979864279 -0.4152822928968326 1.6619828449836518 -0.4473123358891775 1.0762946798186166 -1.0502081240208139 -0.45754280321311946 0.05331330320181138 0.706491403530854 -0.8046774878080574 -0.2078523013351773 -0.896745224001789 -2.4234245272442982 0.2713878981236651 0.9971817370306246 0.043780812809695174 -0.19031168610954824 1.2848370974388668 -0.7865358861921328; 0.4118225358116765 -0.34907121261675356 0.12232871467181819 1.112339207876783 1.2617928751679732 1.4530248020784258 -1.904867376055051 0.35410097846762045 0.7792992578401169 -0.5275864676109051 1.4739554356206443 1.7245729024849117 0.3247804034133851 -0.08208793495336586 2.2647831063965245 0.6181149289913584 -1.1159585618676782 0.2463939103329425 0.3823195270346474 -0.0695969947444296 0.5623345572040903 -0.16782238464420207 0.23371029350518815 1.3299478836140888 0.6916848153905412 0.6200491548486154 0.4764932316961032 -1.9838595053850794 -0.6533064917063097 2.8361163618327283 0.7330958069637601 0.979068682984629 0.08141255522196406 1.2527283422731783 2.2076691805292077 0.8381744978540753 0.2732691744610703 0.27015233941416317 0.8921722872448514 1.1256865686242052 -0.6071287886423106 0.31235079063554655 0.12607772676585366 -0.10416084971599571 0.947058057679614 0.096480957666711 2.61080338778944 1.7951546031642993 0.6197983994527883 -1.1463239012490154 0.3296304172544317 -1.5564018445960042 -0.6132933640637445 1.0010487456195045 0.6882309614561222 -0.9389559137191525 -0.4169403381659228 0.5690602039259681 1.5828066584148435 -0.3264400367362753 -1.3713046971198797 0.03511386106864198 -1.3057939437597408 -0.27007066805494256; -1.0449862014893363 0.5299440487040947 0.8468494777623421 -1.3683379613331514 0.2276901589773262 1.4073772418867714 0.9150983446189953 0.45873526176221235 -0.401689985871027 -0.2132451611235489 0.9505683750582082 0.5151638481030381 -0.6073610966396308 2.4692673397906506 1.0845570725864189 0.13220788280442558 0.7049380677111232 1.1368642359786985 -0.7363557910610097 1.4526800013664798 0.7997595952143489 -0.31802906480507187 -0.3360765306887904 1.6357102456750314 -1.1745767098979327 1.2415623885304363 -0.9467941202522621 0.1136982040646835 0.5194368776439515 0.33680709355008026 0.8658635441655997 0.30340060796981183 0.778442406606673 1.293868382176556 1.5491472943928872 1.1824135988890894 -0.6581650877160612 0.3027978456946416 0.7455801587894382 0.8963316302263277 0.3836899408824088 0.6464377322881917 0.07938330749933631 -0.7103050890366001 0.02758447013493992 0.012741745669009152 -0.4502170113778927 0.71822892419017 0.2018335430352667 1.2652622687838861 1.2278574698060671 0.09378782716633502 -0.8757385910788045 1.4700922707007438 0.3813664760954778 -1.1306235397601123 0.17692292732621917 1.2444570092674283 1.6091733603946792 0.2598931573011882 -0.15606657825396342 1.4501913285430452 0.5970857796071425 -0.44351543945852806; 0.5763500515197403 -0.44126444756124267 -0.5280573801170775 3.0049507705278216 0.23097273069719715 -1.0385650740599632 0.784012132925195 0.6834907601109645 0.22594894981910993 -0.9888127425248863 1.2317115321297036 1.9380564148058212 0.41774684995599526 -0.09193859828828133 0.7546282826530015 -0.41055162211122853 1.7432297753685018 -0.8124592963765667 -0.46151759595904074 -0.3127648675309729 -0.3705001056637731 2.12964194385166 2.163218622096407 -0.5153293587654123 -0.08644926069654679 1.457789172081139 0.326692345377508 2.3038961610931805 0.4129198522638853 -0.6978784433912462 1.0788274322206384 -0.40591061984518406 0.07680602723833713 1.3793785004346746 -0.1421833915263745 0.11800673165546433 2.4950047279326832 -0.07390439735667798 0.6612884750982697 0.7639810115550404 0.1862557347263863 1.3574055378624497 0.12033209809409462 1.0849613879149318 0.16596537904949837 0.16730008468742744 -0.4835291222052188 0.7871491741662353 -0.49109619224376555 1.0197920951635249 -0.7074531179007502 1.6140627946344623 0.6421974390680478 0.6257650381675517 1.669065508350657 -0.008675708357971601 0.23753480594657828 0.6758934236967812 -0.6347927897216675 -0.5870042432709215 1.678549086910221 0.6601412803054694 2.119416699949851 -0.40033971809854; -0.09518307209084181 0.3996709541516497 -1.840532563823791 1.6492519915198012 0.7765811668637156 0.04819656135403759 1.2019573099613008 -0.5413791489736393 -1.559603449500061 0.6495495077716849 -0.09732515273588965 1.0592920842872156 1.8732094163353556 -1.236201374524894 -0.2984179650393184 0.2993143483713753 0.3295194221515187 3.0687530708286275 0.9170508237373289 -0.6264037783820382 -0.108525629825169 -0.18009631992318353 1.2368097985395723 0.1785515540530433 0.049159341742996465 1.3445606044274827 1.0672765088705378 -0.02588464971771942 0.9427864739320311 -0.5859589351377346 0.36014017216013994 1.2808900172891198 -0.1245919448735805 0.689212954365697 1.7359942646689093 0.7168866113899661 0.26291324580002773 0.5487199515571621 -0.5360656678849719 -0.1748196561044636 1.6444315483897098 -0.42397329922135807 0.6740396532803282 0.784107120407874 1.8480024261906947 1.2189575628725948 1.1448665572808947 -0.5006206148028225 -0.1886522254319032 -0.6818820505845185 0.13210689572199558 -1.330466923530359 0.5534932392824529 1.3772513335467065 -0.41339230306583774 0.35092010784365724 1.7341273850466556 0.660365024944567 0.3122865112660432 1.1989301812770772 -0.3743024735327293 -1.1310795973625083 -0.3898979312057365 0.8347413998954055; 0.1747664583223952 0.6070415802339807 -0.719366664899783 1.6199869383265206 -0.7431334497844853 0.04578658976815103 -0.9873363032520444 0.4184666592827328 -0.054165514046232766 0.9660392456972647 0.6435868144791372 0.7177294561497831 0.6252616058188507 1.02434214889937 -1.4645376935631025 1.0273179440239786 0.38688071812287983 0.16527265692496518 1.2394303630604224 -0.8978597431254218 1.2164516897788291 1.339427222077317 -1.1712791869826806 1.626994559858473 -1.3121060761240624 -1.1391850617307324 1.522431931162125 3.854433305606428 2.0135296936498928 1.8691369098772421 5.0710345624713185 1.8468094312888097 2.829989420764665 1.5651538828929905 2.835747009688446 3.685867899340976 2.064892577821237 -0.5903524725891862 -0.37288895632542385 -1.0842547976754198 -0.05364204544126283 1.1708000372919383 0.09891649810559605 0.8710924398424398 0.8632515913030268 1.1011955611136826 0.22323060370073955 0.9703584310688879 -1.7345454097119957 -0.2697865290811793 -0.2090012000957927 -0.12031446066871188 2.2237650967901414 1.26707646513991 -0.995165384865385 -0.9517376695257214 0.4927358776391465 0.37513805310641973 -0.09688094064615177 1.2819902473621219 -1.5629193813635134 -0.41905657337171576 0.5012158966886033 0.9526769456418968; -0.4458461039458028 -0.02783605810925119 -0.14587868562870449 0.8019975372989807 1.4392057627117765 0.1925000443691984 1.075550989791616 0.7316203056833219 0.9909464595527723 0.7386034573684117 0.09495527266455478 0.5628303834431966 -0.10965891842845671 0.9923451445831704 1.4015267730487835 0.374979519820509 0.5308097671710198 1.1571977948879337 -1.0607304962288153 -0.10247554989794372 -0.5208750801583928 0.025181897085706118 1.783561024204945 1.8887090562794113 -0.17963876915895982 1.9578999624424684 2.3955341333643685 1.6620682324969502 3.919806481430503 3.03864231106854 0.9991105764286616 2.8606378352910977 2.1146966036633947 4.299560824264681 2.12884044993433 4.770601767032613 3.541391038463248 3.1774845436581947 3.4291194477803204 0.11215076787434225 1.2771954417435416 0.9199648835228653 0.7999760509578486 1.760425420934609 0.8865855632938747 1.6125682056774722 -0.05994144309111149 1.7177304284524437 0.09674432355514079 0.6168249125633415 1.6565838217296838 -0.7936937945624545 1.9606712756420748 -0.42279151864238296 1.618477544350303 -1.0763948549194586 1.1638374658945119 -0.08642779114671056 -1.812662420998013 -0.40460920868547434 0.6726371814035492 -0.9312219720596191 2.3104971501848817 -1.1984437249984672; -0.3539653187243974 0.5644932491156234 0.028862630374198534 0.1017337628080436 1.4485855385800723 -0.1417337335886678 0.8916215800007846 -0.27444732137135586 0.4701499400457007 0.5111422661061931 0.31193591596794923 -1.1084392286981428 -0.43705000430189633 1.2664785924412385 1.1357067853054137 -0.9915214384674615 -1.1135155108442467 0.9449908374831133 0.5784226939137855 -0.7595471231168334 0.13425944702269488 0.9086025771681996 0.21265401917452176 1.0177296745856925 0.46140034651389117 -1.3187894924905215 0.8352643778993257 2.1439555403646677 2.6703755646450658 3.4688716567440583 4.704944452116821 2.958873211019187 3.0666805062308753 4.708012730553872 2.7723931851246935 2.8736984447962817 4.314415621469666 2.508790248191179 1.4339135928883304 1.119899240721612 0.08590097082061465 2.0204112955088758 2.1689691199189616 -0.10192081766851979 -0.09815343230768414 -0.1605402279609719 0.33665846691012546 1.7994176772267247 0.7902351438710737 1.0634734085327342 1.6403806267664018 1.0041239458177782 -1.2378972098278618 0.22291975107355919 1.4302199272817329 -1.1244091439849555 1.7320285086951603 2.7686245917852523 0.3086873300641854 0.9423556572700139 0.5001822245671275 -0.7008376900071539 -0.7624840815383779 0.3290983673029836; -0.14752541743155034 1.2302016957108108 -0.04842858611434875 1.0939657672900358 1.704206418728769 -1.4998668437069218 1.024610151230113 0.23457951022005147 -0.055001803389122805 0.5362620385096168 1.2627193409401367 -1.5409887828258033 1.092689257019773 1.4822000374598707 -0.7831351822284434 -1.1367134739083666 0.34741784146681837 0.7280315174325285 0.5146486952705399 2.4132252322428975 1.9516765984810769 0.28518444362703055 -0.6880184594029464 2.097653231348297 -1.0828738399477307 -0.3795245992402203 1.006175494173224 2.029345462043914 1.2712060687187363 -0.6236039908492992 0.7025257609164643 3.0563513870184567 0.6774953553900575 2.5806680003661393 0.46586324888222524 0.3935369183050994 0.4388121967263297 0.2556285973747984 1.456776678834197 2.738730601215874 0.5990049542262618 -2.6669685388820388 1.569740245860012 0.1491611300512669 1.0459897136389475 -0.8380163326156889 -1.122864017394509 0.3775040576341048 -2.5287320500820907 0.6016660313280984 -1.1440656081562561 0.7342070052796137 0.26378994802934186 0.33937789778882915 0.10074302517208006 0.42012811751911844 -1.3545690893146873 -0.79539843120797 0.20111051229680674 -0.15987115151391695 -0.14804557868210622 1.6127711729777794 1.4483305903553088 1.339422469570005; -1.8626403266444558 1.4185077836638906 -0.5768867292130332 0.667008139095672 0.8198217204363429 0.582228318642379 2.119628772711332 -1.8361164861860342 0.76772193352127 1.4853005556038272 -0.3160570426094297 1.7681393485477674 0.7325707875361138 -3.125797891944441 0.5388165769424975 -0.7724259573437013 -0.6620007836699662 0.414384115035103 1.3581855456506706 1.0182968295249961 1.3200764614817921 1.5909693654562678 -0.7322228734370737 0.5224132642576071 2.9475821933789215 0.7433677596325403 1.063119624280697 2.4038012375003337 1.0325886664994366 0.48301491684019865 -0.3293186887058678 1.134386319505811 -0.012790389110311606 0.34759979395087043 -1.0721712947311024 1.3418124361486878 0.1639074775456335 -0.3135937620200745 1.5243703998968676 0.6600473491103448 2.113606309052833 0.6306425284823681 2.03461450865432 0.2402769969419621 0.5932613312082806 0.1619215123379814 0.5649906513433091 -0.555319282427722 -2.0327743560857194 0.7628264540144709 -0.9789337271760115 0.36173676587321124 1.18106061963063 1.206524913329181 0.31538609117360794 -1.26681090101271 0.6915656116985718 1.5809629003413852 1.4479455293475405 1.218677333308841 -0.7122970936281623 -1.475850832960672 0.20220592413695987 0.8940792615069746; -0.5405918685682721 0.4717378455296976 -2.0637428034530414 1.750553487541835 2.9540956846080557 -0.7066326864377401 -0.6493455408535997 -1.4852809345187195 -0.41890645389133685 -0.10020620840569316 -0.10780901565381873 -0.08941809677414031 0.452473275729027 0.1736919684429036 -0.48445600247614573 0.406693696415114 -0.5003073560437418 1.4531703471862814 0.22888443930420863 1.2806739063577286 0.6951296062270864 0.26083665248822235 1.5414650205790963 0.712108171926849 1.9860361414657974 1.992766826187139 0.16930983781578735 1.5792118752203896 1.536337195271787 0.4938489713965884 2.0641403773905296 0.27760140470556816 2.6181945483927564 -0.6416198686248982 2.0907242056917745 2.185135525459225 -0.7042662912955191 0.47283608937931976 -0.29884242057455324 1.0107868078515143 2.5794711160361716 -1.1662294873903312 -1.8417341528230935 0.0734447870493235 0.5643281541232689 1.9733189407092058 0.9990366826237427 -0.6278723535200597 -0.1417876502607131 -0.6326399121360222 -1.4577017063247124 0.2294309331763747 1.3682790694373237 -0.6764594442588436 1.1895683231265524 0.08808424467002124 0.6318843909399723 0.3766020963342154 1.3316220825510103 1.367707560195678 0.01938505211250724 -0.5062611158278277 -1.4483130561983664 -1.640973791811526; -0.8350992465138387 -1.0024267197375698 -0.42241567190639406 -0.8736995805416867 2.6783750095814343 -0.39431922832932953 -0.7688041854339407 -0.8618197987442495 -1.0772699950446236 0.6762521668531238 1.069329106985312 0.30487708240980366 -0.4102652966643212 0.33501121452217275 -1.6689664808668079 1.3812940111456107 -0.7778519453188542 -0.8867181258025958 -0.6234873631786335 0.5552025969538406 0.4726642659881164 -0.03876217011154204 -0.14469937205357242 -0.18515503478012496 3.041380664333933 1.0800668931384696 1.8857052209679337 -1.0161768485269191 0.815505895384008 0.3751579322664962 1.4350094781070601 -0.907241103152199 0.9486350913361006 -1.2433414764949047 0.45449963908549346 0.26721231419192265 0.891216088563114 0.24470715335513724 -0.3199787528248037 0.729773955020563 0.05006226835847799 0.5280480733371812 0.5625027784799743 0.5886632471053007 -0.790515133244885 -0.6453954461807381 0.04279947997410849 -0.7644308593605607 -0.3441206758942479 1.1935761146404453 1.0964395110811145 -1.1888166293690432 -0.5684265000190836 1.7121297806439701 0.47275896107618093 0.15305197456563358 0.07083808545795678 1.8590934026977874 1.7456433500450372 -0.09643163082987849 1.79879243082033 1.0305065347927251 1.3243139583589418 -1.713974049020192; 0.36797964205241585 1.1710195841308828 -3.199287100811619 1.4077873836848058 -0.9187522493877034 1.5498152268552519 1.4215940038339208 -1.4492405463049507 0.8319829984399079 0.7474453782161815 -0.3174169709910689 0.42905795262739677 0.29284042515324443 -1.0588637690356861 0.9777385813389609 0.3316728459795341 -1.4877581232214652 2.327418986317401 -1.9784188620996246 1.0323221710193549 1.0755246809221655 0.43069725678860954 -0.0341950611546486 1.2422990088732675 -0.6697435065370609 1.4508565214045068 0.2692101790778566 -0.03263961753714628 -0.2588779028013791 1.1677316794715833 0.6486654461065227 -0.3344896855674693 -0.2013544158329974 0.7912135625193593 1.081993969560094 -1.1670959426334222 -0.24896372640983666 1.1347194208485782 0.5809740610656237 -0.52373785871332 0.4385589390822927 -0.9936990372365004 -0.40818107418588045 -1.7869799895779077 0.6803948663946586 1.4978934152674965 2.1911078014325143 0.8967435506718623 0.6092700717908051 0.2776092533963369 0.10230044390930432 1.66764101655209 0.06213556622240718 0.5771269961279727 -1.3955191148177972 0.352571298560786 0.3270677157832208 -0.7375969506507023 -0.8538731131591755 -0.13906912645995018 -0.5918118904830876 0.36980969038769357 -1.094657544343913 0.20983196511463775; -0.31300843255602256 1.9667389830404807 1.0600058658260645 0.7213904365303552 1.3050092706907146 1.5605924194179117 -0.14534720249012784 -0.26892519505748913 -0.3105058896793915 1.0602799071589313 -1.5441554545203344 0.45407662838447505 -1.3227855634222045 -0.11004608958479117 0.40467668339098073 0.35148951397035355 -2.1956069166529737 1.4546948484936228 0.41419201553068563 1.0961706786592593 0.1840139624477936 -0.12612505562530252 -0.006280175661638243 0.5712140458003054 0.29957179923846444 1.731084358091223 -0.07567410780551198 1.064958649112596 0.44448570042988145 0.9988915084346058 0.7024686456065959 -0.797465786203716 1.065205745930879 0.39649408707117817 0.49603184276308765 1.7136054293122172 1.1451133923056096 -0.2023078393000396 0.7933643420558741 -0.20924690658645195 0.25402913634566665 0.33564178829826025 1.7376792637383203 1.5480675619516433 1.8006565391652902 1.1896551287698915 2.708092556848932 -0.11231296570819116 0.7871240967091552 -0.11802044863378669 -0.2218890281172864 1.2043580246503631 0.5438305654649984 1.926633635065028 -1.8679641116626073 1.0405296961008634 0.13618384036837844 0.9728980541580534 1.656370717371586 -0.2678918221040897 -0.5060931710811516 0.9320006253950698 -1.6543397552591068 -0.19948285501445256; -0.2227953260815637 -0.827579213560984 -0.43266698919277424 0.5913628466159577 1.3594152330827691 -0.1775663249577089 0.7569967260659749 1.8512529667719784 0.9627478951711853 1.193116975097221 0.6672619880322757 0.7933080177600391 1.0337907358694172 -0.7460430256111912 -0.014732389959793146 1.6871920149280122 -0.8892366407665253 -0.3561562266873737 -0.47445531590213375 0.28306710755990216 0.65870193816706 -1.1600740533658631 2.072413346781512 0.13978674064242652 -0.09675439484466775 1.2856961514949763 1.2487653962990164 -1.1505016985433147 -0.6119289849485667 2.258010154525983 2.1163869643153035 -0.7726160261796067 -1.8563007500071507 -1.0495674907314312 0.72947314702654 0.8438649080006602 1.215455361409298 -0.25322807158667004 1.767828307886064 1.5452225008914566 0.9640821379697475 -0.89955921896105 0.16855857120221546 -0.11179196343213926 1.7768258226886666 0.6091375856549004 0.3296875940223119 0.4289696296095183 -0.35354189546745907 -1.2978251181804386 1.8040837053880203 1.2323445075859556 1.5754607950382475 1.9994653540485106 0.05372287478264509 -0.26019034292641563 0.5805297717671438 0.09354819091041605 0.34734680151270725 1.5679241471643255 2.5952032935035785 0.4240912405283177 0.07499351937403931 -0.3526844921803109; -1.3316068022403778 0.7348447923411096 2.0281840322668008 0.46963974094470673 -0.5894456295697308 -0.8074830694666304 -0.43538636250491314 0.5864719856724729 -1.264219789556764 -0.4089843948437981 -1.2211590927276164 0.584914450851332 -2.019597707596533 -0.2588080420255118 0.6481292657294067 -0.9223223045195281 2.114190304495664 -0.4691803886507937 0.21734544871438127 0.16001063556484818 0.9674412715531175 1.3392792091815862 0.40064445135238114 0.7024604081117121 1.193013060843707 -0.38088255827309236 0.9125531774646144 2.0266836923981155 1.5387983581009612 -0.7617178581115502 -2.4787566499770475 -0.18361113067160595 -0.8409571885418059 1.9888145527118017 1.0213652482545654 1.5450792654692767 1.2628689009809322 0.7821745632074772 -1.4872482609610658 -0.2526826397901304 0.7325602224024308 -0.6535209519137402 -0.22758196780011186 0.5680234225874556 0.7382337812920592 -1.0991057496827192 1.2615821685830304 0.36214302995561143 0.625758013398884 -0.9596386127051562 0.6698307487198341 1.907076843563801 -0.08550836197324185 0.9995264421887304 1.002857092981808 0.7263634723025854 0.12817166400612695 2.201717479222708 -0.6219596207558631 -0.2536007856159862 -0.0788786781576919 1.8135276855776965 3.256447277678563 -0.07778201094990302; -0.9995257026561636 -0.04402291185771443 -0.32364908511604623 -0.8479747451390338 -0.8701691978109436 2.211092695360334 2.5565036132151984 -0.3449732126192042 -0.5437219969366887 1.2948128360693718 -1.2418020931583287 0.0686178984007442 0.19995073105894304 -1.4596464664967364 0.19611224006214525 0.43791217330008414 -0.037336567619114025 0.24544292237661505 0.038248133976405085 -0.24968868928042176 0.9923140672250568 1.4536145034976728 0.62002199105848 -0.26317183983100456 0.3726602733987976 -0.3078091386956763 0.8628980445613728 0.6962200601084414 -0.9023035106776509 1.1592494268246132 0.4387477827807187 -0.7601551349246753 0.46622837314957727 0.48881360329013857 -0.16866186386642734 1.1064274659552977 2.0561098190163745 2.1841270244044453 -0.248772051134859 0.49206099559789157 1.58918862328871 1.585506048425175 0.9345153413746804 0.8333703296668399 0.611714671130617 1.9310527569132165 0.4697669686752971 0.8285271722192662 -0.3952564286329274 -0.4417907250273866 0.5297187848695605 1.3402992547087367 2.6711705135038746 1.4912487767132632 -0.12982813480689548 1.1319016971392433 -0.0010292450001565534 -0.37303353287098673 0.8234684869880021 2.246104330516485 2.0365045962052033 1.4315213194162322 -0.8925566262747899 0.7124750132529943; -0.1815686797204594 0.440003463544067 0.9396610719208142 0.5461243435896996 -0.13056076670401773 -0.3337430289602029 -0.4917588990878369 1.4215123332550392 0.8205960988592139 -0.0295822324763369 0.7841598098691449 1.1001279053351958 -2.1676844349484004 0.3347771559949077 -0.8969628770101483 -0.14512191556220544 1.7703282983883801 0.5769539958247449 1.7069346611283134 -0.15392520623275507 1.8841897087373074 0.11055789489625156 1.5132831506679887 0.6095838214656624 1.1372748307830258 0.37136144235480584 0.021829848313769107 1.199753936251824 1.20098169934991 -0.548241421705866 1.4446565193847065 -0.6156055367007314 0.21098264629193691 -0.4556516930066741 -0.5438222446892218 0.16461408409251455 -0.17046498385732178 1.9123625882877426 0.8162954642527294 0.8471583796168359 2.008434613793577 0.38889476321600985 -0.48328214747646725 2.2372949857473117 0.6542673536785508 2.041706294622361 0.6988223141560984 0.5354432365569084 0.8530844935383741 1.2216311134690847 -0.6420325965527336 -0.43435690315846087 0.18152903449838165 0.08745610883938493 1.5450009390842525 1.0067744326107824 1.0348365124834988 1.054108502564497 -0.9836906829982217 0.5616985567663557 -1.6475445191907836 -0.16826700912446396 -0.5313592408073768 -0.1976731090624158; 0.7478237355068162 -0.003268931149574675 -0.41788901229016884 -0.18070688339327362 -0.49990687686102 0.8152490321939434 0.17682459813724083 -0.02176819575918887 1.784970371183822 1.1040896670082256 2.041991707054695 0.7574428763347472 0.07094496539041048 -0.3728751077852609 0.1078739155356283 -0.8595150102183327 -0.6212036611060607 1.1752585606455255 1.5026157088732484 0.5749657262947384 1.447945472270899 0.6551330954289999 0.9107409836682739 0.14366239152800575 -1.115706697971572 -1.0424498204252886 -0.26135749021686094 0.968345337507126 -0.9376493564208699 -1.0042733333211684 0.00920898983474161 0.6907384593475225 0.012183161790172203 2.089366514558118 0.971694962814009 -0.011616656469220832 2.2283669887674957 1.1258192756058518 0.6921908495826158 0.713866800205346 0.7973177630673893 1.1099984239600984 0.2720324479861232 1.751419033326659 -0.40112573711568134 -2.1688924814445705 -0.7837516971123901 1.1615057614943063 1.3401827724835862 0.9535043421988614 0.39100148186292705 0.6556036629147912 1.1002846684887553 1.1416068429405493 0.023051416215331466 0.6360798474176956 1.4723713663337012 0.8045150384870603 -1.1166333414896885 0.6099730087969919 0.5924656535372438 -0.5459917656702419 -0.48037221737028923 -0.7444801022839436; -0.39851739669914044 -0.3833198616160781 -0.1319552584451799 0.042891010626602874 1.2737567050679266 -0.6116819507922417 -0.4069682723793081 0.5437634831640731 1.070275974142302 -0.6990507664922879 1.317538734614246 0.49298370260387014 -1.4939072614803546 -1.627483155442645 1.9267886970783241 0.25916427269143494 0.6712058405784325 1.102664678578079 0.10265475892783754 -0.8059768715278259 1.8174799297842015 0.6574718994407427 3.421378575941117 -0.8154072642325025 1.7412091990671925 0.9756831781095239 0.4489572512815446 2.1330510182847373 0.5223452927458686 -0.5293919571419579 1.3922865656718075 0.9837238610004582 -1.1657840726492892 0.0937591950454193 1.4267495991312815 -0.15644611749688675 -0.31148094665432624 2.6342300230456246 1.2391837107290975 0.4671071516662042 -0.08949184976322444 0.8738441307662272 1.5135411301025266 0.6366409207008576 0.16474998374525263 1.6013357196022333 0.09948478282385692 0.9938479471814639 1.1339049110112862 0.6575404460281835 0.7558254768123308 0.6857559952093981 1.9707385352304168 1.1924188946798744 0.24107856283675366 1.3148176230093023 1.9838731118000568 1.0782575154759857 0.982543457909324 1.5963573628914698 0.592118226127636 2.033010288951372 -1.512214569566164 0.7642713705271641; -0.6145304689998209 0.8238934672862693 1.2218224428638254 1.4559294146201638 0.4253482802040008 0.40682183973623354 1.1167079128952713 0.5783586393373239 0.08908538356670284 0.4215207456012511 0.16196258669996988 -0.3405126575091598 0.8711327774336779 0.43535365415612925 1.441107801262393 1.1961965645897497 0.384094714795928 1.3469805043327847 0.6150111083255748 3.000761595835892 -0.18791481523973064 0.8244338084372352 2.3376963063209892 -0.5835307017981712 1.1009366608713234 1.801396974389328 0.5667750754501685 2.617312023127699 1.478449086890535 1.891206935802787 -0.42726605508019966 -0.5004105183848699 -0.1953646001241811 0.3397396587955332 0.9481068222760273 1.5767693648039245 0.4736203913429639 0.5593135628945752 1.299502818216233 0.9775476484154033 -0.059550856047987266 3.37522148307585 3.5405341832780652 0.24047820535014514 2.585452570180682 1.4968620471939298 1.4360209052080393 0.048588673282620065 -0.09376795229476864 -0.5211726118496698 1.3050465315740039 2.086816687640794 -0.9962816776214372 0.12382252826433304 2.0498978711150633 0.7194390295316474 -0.2761553100714428 0.661510080163657 0.49348038483316453 0.9017364635215699 -0.7157139450972188 -0.9828728085506064 -1.0728720035046997 -0.6525027427067762; -0.15590647693346799 0.34944631504099616 1.1634782721025527 0.1018205411027963 0.6044062132296809 0.6444990494764129 0.5581890823831025 0.06198766480288878 -1.3423416022911023 0.24569449566409512 2.077139803531739 0.4805281968074765 2.4787657195401502 0.27502023953092236 2.3142373603992024 -0.5783843830369093 -1.576868621028142 2.1179794074698464 -0.24227083125581073 1.577735555730422 0.6537776425917834 0.7855317421124297 -1.5328726628911982 0.203724572612969 1.9625796751244045 0.34863247181997764 1.1440518692279555 0.09069993573021873 -0.49450603686487526 0.7938522549147298 4.20766823327336 1.6351595409393194 0.48115156088265215 -1.1088173325370603 -0.01372426676532068 -1.3341515526249434 -0.15836101277822334 -0.4252143392681642 0.451546847610325 0.17033150526338037 1.082855255284499 0.32138818977947403 -0.27187751341966526 0.7703591665044083 1.0218551151388837 1.7875374255341427 0.6398310088259497 1.7704773642835667 1.1685577967010028 -0.40229526130148985 0.3681764077733234 0.28961075773081457 0.8395518802606539 -0.1860638668651946 1.2686996642230683 0.05377012748629617 0.16197617876550485 1.7320469694143752 0.30682297286661553 0.0876273963727966 0.887915424736988 0.23311876802559525 1.1153999796342617 0.6209849303279463; -1.0880980694188032 0.02597042991683504 -0.5114971518344427 -0.7404059530936807 0.7349070712270654 0.772654451010851 -0.1646698389316693 -2.9289533656923163 1.713219009888829 1.7012244334758684 1.2423142920557675 -0.5604246792961987 1.4414401673957205 0.08937116204445 0.48227149151067605 -0.41499714026785317 -1.2888277504882817 2.254500940495223 0.5168222074477025 1.0261697489715413 -0.7771247029288675 -0.3434046539749539 1.4105470764996246 2.8838825447462106 2.1377022372313963 2.786004878996457 1.9440914112438157 1.5650127065690094 0.5067831893320032 1.331563634278118 0.4081904944461167 1.1642777350557205 1.14258623603222 -1.761750355054359 0.8206306549932185 1.310845292774286 1.30380453715101 0.13238367515441496 0.0713977546886927 -1.8945799841302842 2.4596979239378287 -0.1692169980520586 -0.19128773458812942 0.6715540288788947 -0.05059621212181742 0.47340916157694307 0.05618770548387708 0.8353922046269314 1.4547325930667592 1.122186550384297 -0.30980677588443284 -0.07037452899203789 0.29458346007932706 1.3064717755779212 1.7353275780429462 0.4417042897403823 -0.40317904505477686 0.1179595443564655 1.174814276905415 1.1326711839286348 0.9909009978284318 0.7020144315356522 -0.07651170827181492 0.22934613015890992; -1.5383016221359618 0.9160619913489084 1.8530085160265342 0.06856745246305379 0.15877220538161382 1.6177510957209869 0.29771867903756916 0.027238604601239114 1.108013541721027 0.57096299977272 -1.290588752500902 0.6575472379049596 -1.3877710589646362 -1.5718409379932576 0.39081234039391216 2.0124434144293026 0.03153454727358107 0.7537508287175605 -1.3137385319874222 -0.048795672235813714 0.6037787327058345 -0.2314138743821914 0.6996137324228189 1.1923733372498209 1.6753064869688084 -0.4693075236155304 0.009659401977792803 1.3044504524127172 -0.07488594556230388 0.00942719452273344 2.994346716233716 -0.27793616636374185 1.2366146042756454 0.3485625944744725 0.7311014860354768 0.8777786000481854 0.30112771708672803 -0.20903361416360267 0.2612118885691379 -0.3117300660345711 -1.2996843628019705 0.3232086812749451 -0.004340034672442927 0.5644094983145158 1.0745711558313285 1.2921397876986398 -0.3766038824058039 0.05606651076635821 1.2251093415352647 0.5045744725778644 1.6357957228155877 -0.8643695382151464 2.4447199198539313 -0.043568653470170804 1.6217529817727088 0.1785034882063623 1.3307517668280642 -2.095146797294714 -0.697511124869209 1.2809244190860327 0.7244421219901566 0.19888546801354934 -0.3713213384675197 -0.23352064292479197; 1.5632835325005996 0.7346220426344203 -0.4393351042557263 -0.2204839497891683 -0.011671509592655754 0.6780353391033316 -1.9652933385191873 1.3859348930254378 1.1197102779629051 -1.6679795445327865 0.463650908978614 -1.5181672318832522 0.7052960650449229 0.7878479369653327 -0.5849080808959113 0.833053665713033 0.17129927452948152 -0.2975648138468312 0.9291775365164796 0.7090826300985826 0.10325420158236254 2.5436882185672838 -0.01514087263659536 0.12566086638634444 1.2394097928970345 1.2222777168715588 0.25367545940067304 3.3646014210467317 0.6707073783918199 -0.2557148914164269 0.3368403696310396 2.3506123898974245 -0.23873544217009468 1.6668063714588104 2.4143432345927067 0.3968114491107577 0.1566055119947043 0.043608533438640906 -0.5641996450608251 1.0922760567826904 1.3507367830858632 1.0282632440686756 0.18049814462280928 0.0783208263442009 -1.9485445532895596 0.9396800746607927 -0.33395004401355655 0.17300703679374407 -1.5129761987621233 -0.1255805327590639 0.8589895090523667 0.9425373140060362 1.208055628065532 0.5056071565167519 -1.927934481655675 0.6537364083769708 0.6310308574569788 0.803990273748882 0.33210712118161934 0.9146213293171153 0.027772168389961382 -0.6780699778751837 0.923268823003695 -0.6156046771615976; 0.2570679481021072 -0.8087860262740937 -2.865346314973007 0.6102702696335525 1.1498606424279483 0.46672349795808 1.4683987589951557 0.6169292011846501 -0.2809206137101028 -0.14504902549857634 -0.7515611877271987 -1.1603726606509914 0.4505718887590092 1.6627096837864133 1.7865999896482776 0.3341248131600757 -1.6961662100380415 -1.0222758218553054 1.0344941135478556 1.007268767468838 0.24831362300345214 -0.3059447128277163 1.1486386204586911 0.9338734818677132 1.7014266437443413 1.0830732329261676 1.023865282193476 2.079517804153949 -0.05260527340795307 1.378181678829111 -0.4817957312299961 1.9984077815721852 0.6579354865071266 0.5717505060574464 1.1156157570492597 0.17609176517588482 1.7788952820401274 1.8301733537932925 1.4348492219423281 0.8223598522030594 -0.745541027364365 -0.9027814185359344 0.8345069135847274 -0.4067792646190165 0.47369926318601524 1.9403537188329116 -1.0500037361545784 1.6525789912840303 -0.5513123049695436 0.6418761905379533 -1.6141484418247503 -0.8258018264799618 0.1384371602647343 3.5540506814610553 1.050170795198919 0.8456953259196651 0.41599204060998984 0.0940555502488008 0.7265914356085874 -0.4030742314238738 1.4812732471253793 2.482404578870651 -2.658826216080584 1.3838999580591267; -0.7594713665049784 0.10874372749762148 3.0518899435484195 0.055781536327775605 0.36434779093889835 1.631403013056417 -1.450528960155609 -2.7608302982598003 -1.128006350675775 0.7009801944150091 1.7468093037437153 -0.47261230703031787 0.17499518409716835 -0.15839940001818076 -0.529019207618884 0.5630481032446734 1.7580851957296315 1.1359802012749398 0.7787235174164151 1.7209025887658937 0.11740628184551966 1.275207877032051 0.12891167952908256 0.9449970040521982 -0.42837062798411885 0.8251546595049646 0.4548481720212431 1.2150021470580126 -1.2721507548031525 -0.417664673568809 -0.38491984956117775 0.7605373972716536 -0.609675418338725 1.5127928197074971 0.8816799354083629 0.38294380233556435 -0.1537681290878632 0.9756120403030124 0.23089895192154886 -0.5190810444379821 2.1532082538486157 1.272193878273646 0.6019832966504955 1.6597659893459618 0.749353310989147 1.5909021149528115 0.11333328885823601 -0.21020920512730012 -0.8153288417075089 0.9125321023778914 1.8881556946507136 -0.2252545820098082 1.1537628147331067 -0.9202500282499755 1.6594381394770266 0.8775750628589947 1.8802907220592597 1.4252105908931352 1.499974041776254 1.001507998815656 1.0500227725391649 0.23235510000392143 -1.4654619904326323 0.8387144861060585; 1.2660395711652195 0.5791967404687605 -1.7697263797293112 1.2391617519137699 0.7071862488225739 1.3613668460000383 0.17127088214283176 -0.2903667759611337 -0.4015618386248213 0.7182728637499957 -0.8535730797956129 1.5380580151926575 0.07039376634641972 -1.069311173220982 0.41775467217397655 0.9743168272684858 0.8737071298276039 -0.6935362304253656 -0.9688096809629456 1.6316202160271995 1.4959670834555838 1.1351915534585784 -0.2920549185461315 1.4960726721953617 1.4964572377352061 0.7432345018687219 1.1336699849095446 0.23607039157663823 1.685405806223927 1.2425931428562693 2.066973825507187 1.541197493167568 0.2060294528005539 -0.5723274531413831 1.1685570376038592 0.869697915799573 -0.36112958048159705 1.6060660901518644 -0.8332174475427054 0.11324633280667418 -0.09071928148355257 -0.4212299740139288 1.5951475608590793 0.4589473303871092 1.0323596179232863 -0.5546833928404784 -0.6069684175423753 -0.19610262904701992 -0.6200681189108783 -0.1222977434467396 1.9573837999873966 0.6370453833447173 -1.6021375713610353 0.34339025223808484 2.0925345165329796 0.6922640263289493 0.26956908548821346 1.2760968071419532 0.3858658003340664 1.2617579812911504 -0.5253704859362682 0.41675203389940807 1.1367267072918072 -1.7940660057326807; -0.15174192888466512 0.5529689906761095 0.6879198189254485 -0.9195050286808422 -0.23096367722527916 0.5254038752962054 -1.358292606017653 1.7307387699524728 -0.3982686498043635 -0.44154962479250204 0.456825377529466 -0.6374547452557413 2.2434233196514946 -0.22061924354630552 -0.7437653273794786 -0.6527434361444276 0.8169376234598533 -0.6239925651854363 0.6871431738927213 1.251614109283886 1.041010028683065 0.01790988047556405 -1.5739638429316725 0.9627172783159675 -1.1483452656000714 -1.0737745793838427 0.5555124896690279 0.8395104000456304 -0.07865847083132127 -0.5800312712758982 1.682268553652399 -0.049777883133388656 0.8572395005213436 -0.9063580258156814 1.5611051981691735 0.6900171318252868 0.6147099848852234 -1.4543191312048194 -1.386958333688645 0.9358069073690969 -0.37713658194033206 -1.16825661102494 -0.7004121146658904 0.5515602491648781 1.109834592698447 1.97856797847953 3.2731995538492966 1.9481096871514538 0.9579592447100201 0.5728253907974065 1.3360030529597995 -1.5858889271882672 1.1235771752967536 0.952773904078007 1.865661291197599 -0.08574290323814548 1.598379968100202 1.8033462061808094 -0.3427503096203449 -1.8698570817435822 -0.24523525586374695 -0.16707025029294736 -0.16744440795055093 -2.4990511518260794; 1.6178866296850885 0.27370040758257735 0.9015728330095618 0.23959990033371809 -0.6046119323471103 0.9439910326519865 1.0795830680181973 -0.2930820582467765 0.07871976648152494 -1.24530597289536 -0.10643684103707102 -1.3942347977143181 0.6948501541619737 1.5952554791579052 0.43219003506841436 -1.379149397947871 -0.7874526885010865 2.285757899690241 0.13850890066539892 0.24422302604265606 0.7850235187602613 2.2838900256106918 0.9232859226873632 0.782994077982638 0.9074575091266817 -1.38823873742351 -0.9130139261673562 0.30482671657116533 0.6204839835128491 -0.24406996719582452 -0.000755622389581212 1.0159848499974586 0.37274812961584686 0.3759802456595568 -0.7616042924549724 1.1608426651326726 -2.106741024236242 -0.009714016612776821 -0.1896014083650961 -0.8639801986279785 0.27508348143062467 0.5253043298042022 1.9673382038598388 0.7075846705576948 1.628406769825362 0.9272082387745642 0.4446679316886045 1.417650408714058 1.8522851334060808 0.4111485205912967 0.5504194011972412 0.4373428709469074 1.3273549505945048 0.529713044464768 0.7741950316236217 -0.7476362004026034 0.3392765550003848 0.3647027158011164 1.8691063997383692 -0.20940465720671908 -1.1074632460642662 -0.1198341805720809 -0.5192433112234409 -0.10904647053130018; 0.07574037256776844 0.006209681845726042 0.9290597417098566 0.800379391743494 0.8848101092264815 -1.31761367493345 0.10519234718615303 -0.009801347869134003 1.3139986655629334 -0.7769551183329203 0.028852126083208696 0.8666657384941582 -0.6865575905909955 0.12269698784606593 0.611457647576192 0.5760418409576696 -0.37640924370760087 0.2393768915762337 -0.7085162028991038 -0.644145476882064 0.31504372300243716 0.19739716669424834 0.07114824324705776 0.1905758812489779 1.1656053379105038 1.0555414849070033 1.0635684337561062 -0.0014316579740778212 3.0614431004026943 -1.7474873217830509 -0.29167137482389227 -1.4710474981629034 1.0609267065912504 1.5703890385851984 1.5306524096456757 -0.8392100337126072 -0.596154841820856 1.4017179810643197 1.6245210006288897 -0.33131434678165916 0.9331312503695601 1.0891477763070165 1.213953864487018 0.3482261430518042 1.2729297183836388 1.2226205238300294 -0.6402239286155935 -1.0834147253243336 0.03823390864221632 1.3904651672135062 1.4658862190869173 1.3730111199293216 0.9416754442519422 -1.5729729956704377 -0.46676252665875473 -1.147350386213946 -0.7029659705118503 0.5237761095453461 1.7973664902011275 -0.28007906315025477 -1.0379779096051003 0.29338404630277687 0.29415668174779863 1.9025212864355892; 2.44807209518569 0.3747285325750152 1.571430879086026 0.9722206404910408 0.8721526501803747 -0.9848288898579114 1.2631372273446695 0.6431048929816543 0.497484506680322 1.2859811094101186 1.0270825699365416 0.12097464883401222 -0.8507551494006131 0.569778700821457 1.248609316615972 2.3780573457031897 -0.5669179237362593 -0.21390918401554082 -0.16307852220640923 0.9535741981277583 -1.3110378490164347 0.4677268227558585 -0.2156589229075151 0.8185080477889753 1.160732841575176 0.12136448551551399 1.3963948642039148 -0.16561154008279821 -1.362682892880171 -0.8223764956235353 0.7913411561176655 -0.9416742246814991 0.4182426026449192 1.2043337630717115 -0.1066457486067468 -0.7460715809996867 3.495620601414053 0.7549276007905943 1.6155170556135208 3.3303193420129378 0.6883221233367358 1.269769201021923 -0.37570602650022267 0.15752028050321937 0.7769108358072508 -1.0061789100431404 1.7093389717562812 -0.9097852632987795 -0.8096141926929894 1.8918495351438098 1.042552703712285 0.3920306173036743 0.704108584776201 -0.4518664021443607 -0.9598312761624546 -0.28621761996323714 0.3959014833817071 1.0281593443505463 1.132898103496808 1.1470406235530102 0.9190001193400582 0.12684206825506145 -0.43995417097803546 0.3168421617401143; 0.3990439485406032 -1.0283121032518534 1.4000580701144754 1.3380095705740793 0.5396899532750241 2.2756746706082733 -1.0027187386031464 1.234914466092158 0.6832790456611761 0.4616357985204214 -0.30669292969397677 -0.6570619276393533 0.9939719360077279 -0.5618344182625206 0.2901465265573291 -2.0020264623528914 -1.3888046740873938 -0.2797989697667787 0.9956852308433389 1.1203512925269306 -1.193855286537933 0.12968751928977612 1.7920662809563626 -0.7376996531811238 0.5675219137223049 -0.4944637295765695 0.20836937444786782 -0.4972133033157242 0.28898341904138214 -1.1550333362524086 2.0101584497705227 -1.6920560622790153 0.7296300656817717 -0.11360457681133929 0.4459939625759405 0.8374456179495826 -0.5602595032393536 0.40764623853427945 -0.23900771889645178 -0.35726189635735095 0.9502895397957374 -0.5959211572123655 0.9049819363912619 0.8563291101397876 -0.6075471812466273 1.2958601810878294 0.08309842371671894 0.0687293866475861 1.9584126737645018 0.9125269886240005 1.2349052036046484 1.1879448856385841 -0.625310122910635 0.9687476602895162 -0.7195523751318431 1.8550834784370986 -1.4648464111129067 1.5044533897911343 -0.4730333085460341 0.23127395419206595 -0.007054763328681157 -0.2483677393460234 0.10548353175551582 -0.6925248404115383; -0.8863877785204403 -1.411387310350748 -0.09367716880265381 0.4481795612742612 -0.560135352759306 0.6219821404650004 1.0403930324105275 0.807813297245747 -0.45054556141017876 0.9821457347583309 0.6440118891483749 0.8479425570562562 -1.299854084663041 0.010420137656093217 -1.3779744547583235 -0.39948805181808505 0.013860058598272142 -1.1918380954893226 -1.3037904363031245 1.7970577292871108 -0.46519177866802813 1.4862761455753988 1.6970666270636732 -1.1822077611399606 -0.7219923364478178 -0.11084306330214455 0.3002022040049893 0.15893284185295745 2.229796820254223 1.6250407157763085 -1.5520770222818314 -0.7285103902287653 -0.7810542309702304 -1.0847535043956777 -0.7054778246077098 -0.16684386592491424 2.0469470291364757 1.6720842131200953 0.10649468212892221 -0.4715381428904242 1.4512241082298742 -1.0851319348335604 1.496744431301594 -1.2889972928240911 1.7975982430849267 0.39936646217844074 0.4115213474665923 -0.2640634329877797 -0.2873713340529567 -0.2304996265738033 0.18315941345461728 -0.6566902757808919 0.3517960876463315 0.8768039036467952 0.26906425280793433 0.1281188436103941 0.4317699368006126 1.339664985852694 -0.8371497460741448 0.1427956443920254 -0.48703312915919006 -1.1404402724384326 -1.9060686003586482 -0.6929548337463756; -1.2388723799489523 -0.6757586718955936 -0.028478643280622717 -0.5362894017815908 -0.9783676902964791 -0.3553131680172579 3.461044047710534 -2.1716615104153565 -0.2936231405207456 -0.1507163506137001 0.20489956453329009 0.8357987604717826 -0.25985005389317833 -0.20205050934264196 0.8843452453521282 -0.1292839007660133 -0.9552637395700162 1.5409898819212235 0.2904052179965139 -0.4231005080459018 -0.142715324444369 0.8770720938403146 -0.26534091370183804 -0.4206455986483309 0.32999260245042317 1.2540467799039026 1.1132983915411712 0.3000869089412539 0.082705683003093 1.924826138391273 1.7708565752557703 0.044544984422798445 2.0117765275198147 -0.6434516414082743 1.0409922158867493 -0.012601969632116572 0.843207380895716 -0.19618310416685936 0.0899795817961882 0.8726743491735285 -0.4981392801455594 1.9302019605540777 1.396517988974777 1.84856561630637 1.1035510607072672 2.15045460562642 -0.5715801616433411 1.1265048805766393 -0.4597056902613291 -0.08226136141738127 -0.4002907254171004 -0.8853459397274168 -0.280895977306617 0.42155885676906696 -1.1937087491285465 -1.541490704858124 1.080787607413173 2.010770240351656 -0.1779562950520157 0.3738122788893757 1.7102493797162739 1.400988111695861 0.8056640860516928 0.2413536143039058; 0.9281328356593083 -0.5829376087355762 -0.015963477434884327 0.27268136544676613 -0.6557692535838908 -1.0729174120507305 -1.3707581329798695 1.648546695731703 -1.0635522698523436 0.7616838281200594 1.2588702793849693 -1.989926260808205 -0.6046414875686691 0.6283666915467835 0.3680693046256184 -1.9673250642794784 0.014735597867085466 0.2244265903860438 0.012682814138564308 1.3942286883947457 0.6355949242763375 1.1317898417009056 1.5952392173834784 -0.6366249500053462 0.2258875408591247 0.8516319104778456 -1.1023076124298996 2.2520398502241714 -0.6655256492626295 1.0943451812430611 0.1775890033071742 0.05551652676632832 -0.008243780424281422 0.2596256742699104 1.6165407035501025 0.022498892373701007 -0.8467812025174746 1.0434912739769349 0.8770204394669586 0.2200120044687121 0.7911929733118312 -0.8257701576557794 0.07850891354499445 0.44390860197259124 0.6406753390928568 0.24244031266287536 0.3158998802072909 0.3595989835639043 0.7221981755750464 0.8639994543783636 1.3616950000314896 1.2301599754072954 0.3039811972278845 -0.5290635118135079 0.9811111878587307 -0.36528912736294594 -1.0943910080954167 1.2341091638615025 -0.1448700525561083 -0.9629955597248794 1.1088329536703587 -0.3356377423571756 0.07755695301686871 0.0892808773623876; -0.487577734373854 -2.2637282828185925 1.7575712257968836 0.2997870110770598 0.1892547855244478 1.0981391806884397 -0.8215201721746943 -0.4958404587722324 1.0846124388044094 -1.366148583833376 0.8878467382682174 -1.021595718506147 -0.5579684455338467 -0.45205977273613906 0.24280711663138316 1.9066187722699968 2.235303145889951 0.8287523180233419 -0.11882949747033028 -0.8502976272256676 -0.060209195267567475 -0.5324682506571806 -0.9945095962431155 -0.357773615332431 -1.135409766195777 -1.0473102203726157 0.198528379762941 -0.23187935025855094 -1.4265766991441398 1.8556428447743119 -0.2357506758805048 -0.39382501136461534 -1.3019492096965892 -0.7699045250471923 -0.5535438792034372 0.28463885039791215 1.2406455208356737 0.7123637651564527 -1.1375892235595961 0.6805894853149019 -1.214339498657054 -0.44260101916020755 1.2933293297570336 0.8138407712369999 2.2032485013569145 1.309905007091745 -1.001304389461248 1.288813549142695 -0.826610363699712 1.1955662975923385 0.16695333347396313 -1.6276573368391736 -0.15961756473265842 -0.689592443378789 1.2566437153535586 1.1174849510542908 -0.8151365702861528 1.5126980848482172 1.0441172714547842 -0.008661615060827077 1.4550537195234687 0.962977482769246 -0.7563600630401106 0.3482189733511571; -0.5021830691277923 -1.1595182284445686 -1.2620342382524634 -0.8871284567769631 -1.175210154381723 1.0441885553934438 -0.49850817958733173 1.6577675740938345 0.9220626299018618 -0.9893652015131593 1.019755502870897 0.7874911490277117 0.09518093686424223 -0.7425694136675632 1.6438649886888144 -1.3382822100324132 -0.7995577506457637 -0.32494851229945626 -2.3603580047389445 0.20051982142811234 -1.0163305938618095 -1.9619219216832355 -0.31289761195066534 1.3217445942406052 0.6245606482209315 -0.059335317155701506 -0.017777077925734006 -0.13930113858392693 -0.7142917154293598 -0.8902516016711094 -0.5116843089943248 1.6552412257685112 -0.9847955075187687 0.09687729046481136 -0.469682353753776 0.8557809619662857 -0.5535402966658443 1.0293688615184908 0.3951034074145076 2.014788741094635 1.5218529870396424 0.8283576121248564 0.9625662943116958 0.045876267108222124 0.35168772906533463 -0.47107752089391886 -0.2259560647847474 0.5310242096700999 0.7285501581924516 1.7525331303430218 1.5398101359754754 -1.1750820285076744 -0.1369540386435405 1.2066713126266397 1.156932203359791 0.8382213643887805 -0.08792737656489291 -2.9849061803489696 1.2810110715927996 0.3587155218336161 0.03067063354037891 1.9178661940366692 0.3236481932228311 0.6058717813284027; -0.20006602542217683 1.0413232532092644 0.27880963886602683 -1.0348375046705574 0.5216893018862059 0.8078444483697842 -2.7427965921245074 1.5453157789498204 -0.4144075865009629 -0.005930177372745302 -0.578983222679628 1.0413137402999197 -2.155824209411789 1.210650850704313 2.064463214349709 -0.7787780931438465 -0.35199303829415823 -1.8444786252535539 0.38671716549223917 2.009499563698515 -2.819333772744795 -1.1748676424997564 -0.141599825395122 2.2120581940361372 -0.005378954550459156 -0.590004010617354 0.5480182411920264 -0.11853039478455778 0.9456357339406419 -0.35816972525825297 0.5442223407186012 0.023951433494909337 0.14165812373824738 1.350112554798362 -1.0933961361141253 0.3932097871667801 -0.6118010751655034 -0.5163693246498379 0.360409043080415 -0.12891729180860195 -0.06411052701608172 1.5445765913075566 2.2783033693136026 2.4084592305525883 -0.48971289026811693 1.766883493283431 -0.619525490384369 0.9772444450829685 -1.4721186628178635 1.5622412164454869 0.8479088272175443 0.7426830788738068 1.2904983498049019 0.31491431830300576 0.03087697850604909 -0.48608721158509194 0.6023855203980267 1.0403290616444414 1.5101752769324817 0.7763799140715837 2.342740433369581 0.8544417064686348 -0.346851554428014 1.396855374170468; -0.5263542560540454 -0.8235871224393488 1.7247224263113898 0.3378140243575032 1.1430308532956592 -0.92284748441985 1.3581003579877977 0.8209370283902473 0.3935387902279199 -1.605389921216954 -1.0836533801579369 -0.43501891512937435 -0.3086935072270904 -2.0371996697105863 0.6233974031652338 0.6024623835596464 -0.2903719308065488 -0.1858517389778265 -0.7378732959294397 2.267431168267788 0.6314012242981174 -0.7228569215872278 1.4400823563441973 0.054062651920237244 0.24691404071078463 1.590554708043819 0.5781050362369695 0.30481153646489373 0.4074029331728756 0.08650633659206193 1.0318633830088748 0.7298458597232023 0.8955084641199622 -1.9760115132683946 1.2805414103017767 0.2825797930563274 -0.49665222566858935 0.9193642277745154 -1.6314539427846817 1.0491849773926964 2.6519494716015166 -0.37648607841882564 -2.0652889336091653 1.4746655190493625 1.0253543829008054 -0.40959132063435355 1.3450998783766857 0.7750234220000136 1.4674701390405942 2.7823540770554214 1.2926441181312744 1.102744733021003 0.0386453401332405 -1.4734789868667972 -1.1623571578927674 0.8445832001585489 0.868498489075034 0.1141976720277334 2.004406411130032 -0.47933903670082945 0.6681372026658083 0.9217852172786435 -0.13280222814709672 0.8966715833637022; -0.2267627913247002 -1.0576660318459177 -0.9187209146328843 -0.9162528481852026 0.296189510667813 1.597472432295148 -0.9042750481460936 -0.6320013217365146 -0.5071606602358086 -0.32129253220630205 -2.059689536994542 0.2318500788136329 -0.0156020305597444 -0.42327452158321344 0.13587033996796488 -0.06629778754072929 -0.9564627775729742 0.18747552547485138 0.5632166348401314 0.7640471237590248 0.4659037057970707 -2.0525027020742144 -1.9260826271262341 -0.20003726763292218 -2.044939272736659 0.00023212280116610348 -0.12032784122601517 0.664994543980556 -0.9266389441747366 1.2396756095382664 0.6499104919992299 -0.10162736049151302 0.34273703313883996 -0.07288786519145105 -0.09957281559885542 -0.12748655416928054 -2.204803857584768 2.0677358920028057 2.2655777517202194 -0.5279843679678695 1.3836497659350984 0.46606299633128473 1.8635434551453012 -1.1562490247398978 1.0495512310294557 0.014457504295575851 0.9728568845010805 -1.0887143592037505 -0.921913349209275 0.28460309749307355 0.7749080993381967 0.5825287498089708 1.0883799301508892 -0.3498904798022878 -1.8694540646255686 0.9850599656789704 0.7429762334147116 1.1730758895315703 0.17426523548706846 1.346181596396609 -0.08797442335220462 1.7775548888148582 -0.6607854523186153 1.6896979706063104; -0.011344339432542483 -0.06710813746182963 0.2732680009855783 0.4357259846741047 -0.3033794400466524 -0.7665998514710989 0.486599822984676 -0.49416518079694305 -0.8482880978197159 -0.39144579503843374 0.08353731973474744 0.571257638941419 0.22526874976146843 0.6556134007408941 -0.8442466103158037 -0.3803942358917433 -0.9909961589281143 0.7725987853438806 1.7779222170421782 -0.17724450614937526 0.023465499002899792 0.34088047198482996 -0.21916162650110443 0.8407251536119389 -0.2911978110459904 -0.7370010915068032 -0.26969352005026836 0.4964093440852473 1.03810085978313 1.0301215069658773 -0.6588518373222589 0.041146774469349556 1.0118786226802783 0.6124252722311107 1.3806920680274775 0.12742242381787977 1.344889295305528 -0.6294626733717587 -1.3337081141088214 -1.7630420704594665 0.19765967174078197 0.36042770995397405 0.7572410387170401 -0.6641854185493048 -0.11237623422710807 -0.06610634601110188 0.041643255585806116 0.28159252370263765 1.6338732769631106 -0.7166352500691084 0.8385364762172003 -0.507306900480132 -0.49675042530468017 -1.3383659652121311 0.2912991764097211 0.06288645517356894 0.41871154795643256 0.046028649446521575 1.3783037716082918 0.05699853187713344 0.7393716252110747 1.7512667932496306 -0.04723800184708642 0.368504028478434; 0.7499116804905264 -1.2919151326582847 -0.9151526041547824 -0.6301853444126975 -0.13725136393771598 0.8078435263606693 -0.09050276560800367 -0.29177259581211135 1.0578170234145474 0.21782941097714817 0.531619145379546 -0.4657778179972218 0.8648012303725545 0.0654224274136672 -1.1297828462675457 0.4294618267348602 -0.5468001523725976 -1.5665215900350293 0.6547321089549909 -1.0388675186116423 0.23676008508665802 -1.6501886330867666 0.9544263081293034 -0.048593398980389516 1.2570069921313545 -1.0688611062040037 -0.017090462722289777 0.7928357376033424 -1.3136171975505102 0.7083156530076626 -0.725454792345243 1.6359133337511045 -0.41686077960161777 0.496469697316756 -0.04502289039280863 0.9191902268082273 1.9026124135184888 -0.06524764963634158 -0.8239271635891724 0.44910052661257205 0.9923260972664765 -0.04835904774593691 -0.708886785296963 -1.5469097805592096 0.5336449488526769 1.4073909800547204 -0.321641128797595 1.4217333786563116 2.1207761005383277 0.14081679952865322 2.61749407394563 0.9247146143504906 1.2996759955082797 -0.7226511422843438 1.0723390727682311 -0.821752544122953 0.03972151743540625 1.2492400088645736 1.594185369087428 -0.9061697657225793 -0.09796310494170385 0.772847660151929 0.8840737714641944 0.7399142491213588; -0.5865798045460301 -1.3879194979504776 0.98735056548239 1.7888660167590515 0.8850611351956988 -0.2916277624185271 -1.0924474795481462 -1.0714862339316567 -1.3865614608843835 0.2406916544125154 1.3394145233072225 0.028487305232094882 -1.4190186721794256 -0.09584593357492376 -0.6355234102300461 -2.2870207082243 0.7821124879305853 1.2549256070924422 0.7043674446057353 -0.4501751814330143 -1.3736850695440928 0.06812540302021605 -1.4542504002870744 0.8410382307994676 -0.6336163799177081 -0.11861870953877904 -0.1407395084169795 1.3348755406435617 -0.06526649367253962 0.9470355759335836 -0.5197328203090587 -1.8364861762932745 -0.31633495850182863 -0.7563872157645043 -0.3348124587793287 3.2684497278577123 -0.14771608807082304 -1.6834727623534274 0.5331373988902935 0.4309068634060351 0.06702276887037181 -0.1704841411673243 -1.6715155742445633 2.726843641565611 -1.3684413417594576 -0.5450902730558186 1.4228727804846766 -0.28692144373886463 0.527079571229499 -1.6389919828403987 1.5823037196590233 1.6185611002487388 0.01655907671831386 0.35913732038775964 -0.23290536580098342 1.25292178903057 -0.09267086080411863 1.458025090163856 -1.6754781442356879 1.344564244371556 -0.20626471053788187 1.8085921788612425 -2.0074347574616818 1.413057974817747; -0.6073197430135365 -0.22069887922896056 -0.8668578806009701 -2.899336742280543 -1.5175122750340657 0.3444428130172517 -0.8186667771419674 -0.2361517304700733 0.11714941063959783 -2.4989898740734455 1.2369040787678502 0.2535821926053672 -0.3911647146024602 -1.8068579960889763 -0.2875104144091489 -0.30916869013238096 0.044947213762800954 0.628582355732329 1.7814027764858948 0.4220207574745092 0.45351639269478045 1.1230879034488401 0.44330549527126756 -1.1639803818348067 -0.07076763939817858 -0.3766617529168419 -1.4848125403596943 0.1962644651956367 0.5065550588201769 -0.0594480796546882 1.3516200172512696 -1.669718329545083 1.6896617590086218 1.2912574586609986 0.5079357920407276 0.08185228424238451 -0.8739660162556809 0.37211309497141093 1.6652592813106881 0.6940301950091226 0.4740418393861255 -0.2792098567485378 -1.260819047089005 -0.33322305654654805 -0.670784686942674 0.5158245148913434 1.0756301608985264 1.3360197507509213 1.7851704574707845 -1.6857311968761932 -0.36747251432998207 -1.9107761319039485 0.14638118394815205 -0.3751599309809531 0.40552212492244627 -0.10833801923327341 -0.35374715648222044 -0.17415989895880535 1.0848145692636746 0.4832734584112331 -1.5640885688247628 -0.6736396885941439 -1.8929046435309007 0.8486820739557789; 1.3410299590451225 -0.5254970157888806 2.2275914287823517 -0.012346010108802683 -0.4945872725280702 -0.5244082146967144 -0.11554969607180478 0.1652748810696537 1.3150890188091884 0.38021188983114085 -0.8007645221478811 -0.7303148648460184 -0.5243327289007635 1.1172334053308033 1.7159659439214074 1.2953424650380285 -0.9828941306767691 0.7865266850886893 -1.2290430993113948 0.36130158963743697 0.967254585033605 -0.01526856459559743 0.19586826808965838 -0.2233584516168581 0.11047694295715164 0.5839053316187122 0.8590883251260649 0.11758565586036626 -1.587109616098705 0.2211069763164666 1.3259348811001292 -1.2497085234419836 0.3067346351337782 0.08158378848844056 0.5377030154738816 -0.5033033109472473 -1.7190371527856017 -1.0624963113088859 0.20403066760306485 -1.5018058046464178 0.25974994047321254 -0.5633130768702515 -0.07650153681512095 0.8022384245464352 -0.2908566966628602 0.10777101762462016 0.6867749385432491 1.5202690234229648 -2.078578205095322 0.6784378981911223 -0.058293011066288425 2.4579279467183714 0.03908562922383929 0.07284439935922554 1.6624459138341197 2.268446605808564 -0.5272621500165103 -0.3648261472647273 1.8026144103470958 -0.2867732692388607 0.5853016466273191 -0.11971385158701542 2.05757869041868 -0.2681396368714899; -0.990199534189561 0.24197664695171164 0.42315330606972745 0.8520533794219667 -0.60802713015552 -0.8334447746378636 0.14107177472377658 1.1337974256640133 -0.08455929163119835 0.454835272952187 0.426112195002591 -0.7553986617857403 -0.21402602117499045 -1.414874962554051 0.32484461386850505 0.10376997629112489 -2.2288853192975058 0.5142222864649323 -1.0365201225051026 -0.8046343207410025 -0.24762219588428258 -0.6502093762704048 -0.22567689504973984 0.1289193404639333 0.6151602617874805 -0.06877361203483424 -1.6659589954074319 0.47925501088790357 -0.5045495606356294 1.897401283116553 0.6785501965198554 0.8970423578072353 1.2728506140712053 -0.18821993034840945 0.7070381837605689 -1.1921117778966006 -0.26822078147231476 -1.1819980531500593 0.12033773193488141 0.09043079138220828 -0.01938157914289379 0.9050183255271402 -0.006517113294247701 0.5116774755930154 1.6766687615399716 -0.5230592694720257 -0.7813203954821151 0.9670685809635889 0.14390513454711998 -0.08450922566721342 -1.0197136168181824 -0.43112563577236196 -0.3541043168078203 1.910522643728319 1.719020768467677 0.07968525220089884 -0.2265728369363098 -0.36164052661017365 0.07813913315139043 0.12947610162819267 2.1877973658428083 -0.42195227618993103 1.9432910371027363 0.5505742066447512; -0.04595765133369164 0.9737029078545437 0.9410644799725268 1.676410122411387 -0.0818222963603876 -1.043062060235435 -0.5371603288098851 -1.4632548559703566 -1.7320596042930316 0.23106333071880364 -0.12003025149848837 -0.9658572006672486 -0.8514946818239543 0.7293390137113247 0.34683054374591693 -0.14482388702218688 -0.6169398261692395 -3.0339621570072053 0.8886653026138412 -0.5072027888919852 1.507406627662485 1.4639801087062776 2.6762355793147896 -0.185466258236749 2.362551840346359 0.6353863901987029 -0.7197763263213527 -0.6376960285463249 -0.7769278908761557 -0.9225136161740531 0.49147920242510534 -0.023000232919099237 -0.4257571463270935 -2.097488446743862 0.0819026758802132 0.12136861792165317 1.315784366405477 -0.23727047615529062 -0.08656100470637484 -0.0792059960870995 0.05992295954534935 2.0736882592737236 3.597173705500566 1.7403811694231324 -0.11597821276051606 0.9305097991617789 1.4160949635165567 0.18827469595413618 2.489538353318139 1.9845391157516952 -0.01347283176748132 0.48309777052288116 2.5653153710547274 0.612171832066067 -0.8660589469827928 1.878590953107704 0.8435765764950929 -1.8364549940122097 1.4011997865753412 1.2469190892389834 -1.1041840183678167 0.4714137684343619 0.303889933049023 -0.08954838234615722; 0.06897050638517095 -0.48288172949743696 1.086998879051508 0.367277228860609 0.9813087863313715 -1.0715734670464299 1.8710225845093165 2.0608327383332936 -1.6994329524955774 -1.5147827060387815 -0.21103075047135142 -0.9181993310005978 -1.2278955501516788 -1.0250663902816692 0.6155803226546701 -0.9245184809400825 0.341036625416918 -0.9903550817702136 -0.9548313652830526 -0.3097376981032197 0.805079099656702 -1.082727258219713 -2.113796460164156 0.39548259848272077 0.6158183338095349 0.45232156743150725 -2.0599612733364214 -0.016823183892115637 0.14402697947557985 -1.5435079797162479 -0.19846328268732866 1.8800604892754036 0.2875142744960351 2.3109132212098835 0.08145835348960892 0.23162350644906543 0.9338844137768622 -0.1826589095169165 0.5988689779566456 0.8026816176195652 1.0289494421169358 -1.6188708823577629 -0.5287393327509532 -0.9482340630210075 -2.5426484072770235 0.32333556431050736 0.8647220865770696 0.19424877052576814 -2.317666202969952 1.2881424553331207 0.5298327446922316 -0.21926668221884305 -1.176458047292177 -1.069442572179891 0.002157406767981207 0.15313813623549233 -0.14896091918162613 -0.14315464396549726 0.36471187613259737 -0.9806719775149604 1.0882323758459447 0.6600363957974269 0.5015312127973149 0.611281983592059; 0.850760961166202 0.2272920801954157 1.7428885531524043 -2.0814114397705596 0.8781550021132758 -1.8229055337243034 -1.3522782774197257 -0.6687628555200323 -0.4066884700135211 -0.4117028348613078 2.7074753867571495 -0.19393738705943564 -0.4566138443043791 0.14063305943469923 -0.0677864963357204 -1.1656627444841678 -0.687195878919105 2.5942109072167794 -0.44921013515588354 0.29015171810669427 1.3653038139805416 0.6803689416375507 -0.8649152663184316 1.9140576137282377 -1.4377031649813048 1.4323159646317172 -0.9376004950264877 -0.1493800909206595 0.8182487712199442 0.34239440186834547 1.979192739344408 0.18374977151243777 -1.353573549335633 0.3103674235342543 1.41428451022035 -0.08676645131769559 0.9579593964930381 -0.35648541635626185 -0.8241692125164088 -0.06473722910628377 -0.5297095014121924 -0.03775058969023487 1.4980513550006156 -0.14507530251946005 -0.3651323953709854 -0.5098209649350537 1.5618416374187918 0.3155049112398547 -1.69526296732865 2.3478437780785493 0.9251171930600453 1.813711097603819 0.3235465628627055 -0.5724873218517791 0.21687721199396537 1.978475909423639 0.2639998863957714 0.3196420172350673 1.975232653654062 1.2892970309056069 -0.5947755911194916 -1.6356920877960341 1.7470333936115685 -0.1752850221658978; -1.7470667401592959 -0.7161139462269781 0.9402220897341346 0.9918734729193994 -0.6747720843835647 -1.0742279454134662 -0.021971250108669148 -2.6391104581484677 -0.7645267950615411 1.1867228719500529 -1.5617830691213945 -0.4494154308951271 -0.11528735277063512 -1.0170343228008791 0.8909839534706792 0.7340410965310956 0.08648437813327357 -0.5927793452366874 1.0387595385281425 -0.9217075209304805 -0.49901602849298543 -1.2372431743011587 -0.15345500704591614 0.08596820352647827 0.2518216559220062 0.5179976360694398 -1.847883577366073 0.6928382736685965 0.7194556832412679 -1.9417795450283193 -0.6677175521494946 -0.3774410977237913 1.217083316687559 -0.14175372290627192 0.9411424369354684 1.8054912131206176 -0.8986151895426524 0.6722440248079147 1.1717704043999695 0.4952363217427515 1.632544685256387 1.2778793247140436 -0.38324805836933806 1.0657903289686121 0.5301894560361899 1.3031923355907582 0.43452620063370817 -1.2456450675651394 -1.444314536275916 1.5764997272014496 -0.2529900011354844 0.6876470428834763 1.4569959847226648 0.8201535565248053 -0.12419635211057739 0.7217639745906109 0.5727357137707533 -1.2613473514903284 -0.15471972181682114 -1.332009274322491 0.6682979165268605 -0.7610996559966305 -0.5225615496628176 -2.601363305330609; 0.7386405808523947 0.8809918039416925 1.3028261253129925 -2.614530755314654 -0.5238195916860265 0.9687973171896236 -2.860759302047433 0.029342279200171396 0.24457488414540693 -0.5518341487615895 -1.2370759316646278 0.1691942693160662 -0.5185256279507601 -1.464218332149139 -0.9779053662190068 -0.5571402239034687 -0.2327120426800074 -2.527276231120045 -0.34105790052164076 -1.7306628983717574 0.26511967450629453 -0.3170099261510105 0.5694365804220496 0.9459396333732885 -0.8818892311420506 -0.4408305220642081 -0.4360276291729161 2.1557277518897844 -1.481823413317211 1.0203303625789621 -2.0672114664011487 1.469016687861835 0.16703158272446195 -1.431022190948005 -1.1290639447795932 -1.0515546710114996 -0.9697541138212717 0.12520333929551325 2.50330832928503 0.2873176830920232 -0.6160290308022119 1.3720265381292882 -1.8852854818042868 0.7378356391002354 1.2342086372351913 -0.9678682773003944 -0.20939078823786145 2.6132291522883055 -0.5635074866573095 0.32060271969952914 0.06890258023195756 0.14300265372233345 0.36630498237611897 0.35300578220416123 0.25803846866733393 -0.05170455244193545 -1.655401057940245 0.7618648548090532 -0.8505253894578848 -0.6197684693492043 -0.3290157480981284 0.5364978197292549 -0.8435271724867515 -0.08524251037549835; -0.4966239622726406 1.1948165944667564 -0.07043132211791595 -0.8880162288165991 0.2543389072815689 1.1859505286438539 1.655575915158017 1.4586673656135758 -0.7854978065944858 1.170300274367906 -0.04431127658653719 1.1991982126192924 -0.052446585323708446 1.2537587519294568 -0.624845409026721 -1.838572852549944 -0.04530012436391445 0.2680489201134508 -0.8697330166335201 0.48406538376966773 0.9061300320868481 0.26714656437238954 -0.01789246796906515 0.199505312699836 0.4727510037175743 -1.8692105469809308 -0.09977666649595236 -1.1537717594901666 -0.8794478331932625 -0.6136181345950021 -0.18917901531677211 0.19454281697339862 0.11723117603998782 1.0264830955422577 1.5874347087203666 1.4330300718020508 0.7529988660659507 1.0222460357083651 0.5565680880643578 -0.4930527355861045 1.657667105371121 0.2731476230703935 0.32783212540923723 1.2430622226475216 -0.4440547210559086 -0.8358269655499193 1.0191036964842584 -0.23169731509050828 -0.6902798352166053 -0.1173804805124693 -0.01734833050371576 2.3982105047335587 -1.3183201695458806 1.607242509419917 -0.862771285971258 1.5616821200616473 2.2292770277773517 1.4726288413689248 1.1791347499270453 2.4516737769899706 0.41035672104142046 -0.02703982525546117 0.9992723085775741 1.0876361362310543; -1.012015945765661 -1.9616117746925668 0.8857503009235892 -0.9686665390083845 -0.11346856217761545 -1.2461325834475505 0.7341608653031044 -1.0182963410751011 0.7811084985771352 0.9978636501617223 0.7387717818762729 1.1964367520991848 -0.4685673555447068 0.1092798856524426 1.7875562436116625 -0.21111111577112027 0.41899648647595766 1.1732158932298165 1.322164405446997 1.7978635116642288 0.3274307405704625 -1.1036904865070565 0.9225522162848604 -1.871475697021418 -1.7167229375483035 -0.44951627973093605 0.5349284378114438 0.09950831072299568 -0.9121336293560787 0.20879030494489584 -0.5826923770498271 -0.33067908163004234 -0.12667194984355665 1.877657004156532 -0.8041369261116502 -1.335796558620998 0.6686676592046537 0.30779422998993794 0.8576121125507359 -0.5409985392970627 1.1322163762211725 1.202152084403892 1.0976220123766192 0.5673901200098765 -1.7051893782265657 0.8493390559337743 -0.048037245476948154 -1.2827001891703118 -0.47860295538561093 -0.3524339634953816 0.6938995966855142 0.04152239653046169 -0.12700655923155613 -0.6504831998331162 1.816111140544688 -0.20445663164413375 1.5486762509434557 0.34841888903563334 0.3414977419943703 1.7583126134373952 1.756374820172765 -0.7399084955067099 0.18502958224215707 2.7117995911118147; 0.9158153965388516 -1.0645129755140774 1.1380069368347911 1.2438582079934386 -2.146685475205242 0.31041646766559144 0.16944910783644224 -0.864389136810657 0.12031577150078554 0.4509757898053982 1.645191871925977 2.0487721526300198 -1.1821960347147265 -0.13009123475216458 1.0380689799835574 -0.38500622704221465 -0.701476120426654 -2.0402858378655804 -1.032879638865581 -0.5520218524118422 0.18734686557687458 1.42343207281195 -0.5023977576341196 -0.09011589163508867 0.3462160337442171 0.26779030218184247 0.13095486468336123 1.6979364809106214 -0.2915684954439347 -0.053089270852036644 0.04154637602153165 -1.2363373249784049 0.625675750134448 -0.04847771478126642 -1.1322636057278788 -1.5606572118558344 -0.029053797442994328 0.42661456936974074 0.6082786414519485 -0.8128456631820193 -0.2628053877872008 2.511185385101625 -1.681657499480038 1.1838474053383554 0.6978263478282823 0.3581841216186591 2.836716839885381 0.23532809571972746 0.1742481430602795 2.2405368576635296 1.5248251266640913 -0.19154545487598384 -1.0967667939032748 0.16333722136936124 0.4452411992615454 0.6212933305621321 0.6255976413679982 0.5240569416002139 -1.095713089414607 -1.0075538431746414 1.7656320202703644 0.9710628113793298 1.9442004348149522 0.13273021136977156; -1.6976540764596146 -0.7985186775539249 0.6460087060346685 -0.8582963446869389 -0.8065806859425642 -0.7420399786081162 -1.1939592515659525 -0.46295915430553863 -0.12475550747204589 0.5544110977177155 -0.030749247835619022 -0.4957295767809714 0.5748620623838407 0.3973252036670595 0.09262726559427394 -1.3192932038762073 0.707262311058719 0.12795498481417758 -1.8376232454944474 0.7540284485401866 -0.8902426602269319 0.7056324132918899 -1.1825822820729701 -0.6724579929857705 1.072581727294144 0.6090551168049251 0.5177923418095927 0.2195274321258684 -0.2510441962385369 -1.4156307961731098 -0.5107227059591128 -0.7506050651574183 -0.6063712243350883 0.10044323984704016 0.31278641744966057 -1.543952449446245 0.4659987360180925 0.6656532051149362 0.9903680088469358 -0.4156742253225081 -1.7952645482371272 1.5682910228955513 2.028540065466448 0.17651449282202747 1.564426233975939 0.31034101814158355 -0.30557633772545667 -0.6998464377787066 3.316469213423435 0.3722137351702383 1.7103670779085907 1.0468926789785282 -0.1368258706230493 1.5519106289964175 -1.3345916732185017 -0.5153992777526852 3.913904185092402 0.09185250092581554 1.36076104177138 0.4598749457850913 -1.5216385324078898 1.0418438783848698 -1.0304485547293385 -0.1582670241677435; -0.5114887247150119 -0.23904504727446013 1.0450149016492798 1.1650674843767883 -0.45644964655567816 -0.9074411871710538 0.15046547710377614 0.37947870297638886 -2.2262240827458406 1.3368920030451252 -1.114632070855373 0.1190072910176769 -0.48926739978802947 -0.13857658789168212 0.42649332030705356 0.7789414095362976 -0.567129050154361 -1.1760589112802842 -1.992784666322134 2.1618264426075355 -0.33349883812353726 1.645573119241757 -0.950868439614681 1.4172334121659562 0.2806780975001082 -0.8661532076794862 -0.24651796648605356 0.30849136468395455 -1.7270982700813404 -0.7440779041836223 0.8478898220028378 0.12436429515021252 -0.6227097932150679 0.6769870852731966 -0.05412670451345403 0.8894742881503424 -0.03850938601771692 -1.1634080025964422 -1.314634739797612 0.11165010950075854 -1.0015345132870275 -0.33588761994341354 1.709011957598147 0.3962197690027827 -0.008675054248318215 -0.053105507298417065 -0.14943089925474362 0.3895436340520873 -0.6287236120068755 -0.25319642245056084 -0.569939816333541 0.5232340603971316 1.3921241777824822 -0.7677724819631873 1.5150626094355755 1.0307608052098187 -0.605607828349811 -1.4226331202336406 0.22152852626535618 1.4938263860158596 1.434407445407282 2.5739206392219653 1.1517212002578747 -0.25678107001876177; -0.583769280384818 -0.281244565795636 -0.6684162823755885 -0.39743531973788554 -0.06605880747735267 0.2370042735986786 -0.0007677572702568108 1.0739543641915656 0.9847426153765747 0.5050078327360111 2.1571840837929064 -0.4865343609852809 -0.24700985052587954 -0.6103142789966219 0.09192650256537226 -0.5466996573455983 -0.21197925194865277 1.622308556489648 -1.159706116003441 0.4676893175321155 -1.8470292251280178 -0.3351952661134945 0.6628015528858684 0.4462945207269111 0.06763951218378726 -0.9889201775399846 2.2059707168181046 -2.3519221423976853 0.4565560746131236 0.06595804233757353 -0.13457340876948323 -1.4400507292250961 -0.43898852426135315 -0.65297969785703 1.147137116242971 0.5997511842056197 0.40275044891915934 -0.2810729010236934 1.931118296984722 0.9653497123349329 -1.5144027323551859 1.4543317597387064 0.9276016299868984 -0.23691627211755195 -1.6750361243446286 1.6563589186429006 0.9096646947490032 -0.1608486987577069 0.596121337410991 0.8662757144743835 1.623191357773999 0.7682875967516978 -0.6762550981424846 1.596998643757269 1.16978743700387 -1.3761985554771037 0.8408109975832931 1.4391773765589817 1.4826704733211906 1.30822844618454 1.8222765407806791 1.2150033936337385 1.361411210089796 0.344547331782745; -0.6827221847826618 -0.09644217450589339 -0.7309824300886945 0.11842480358278733 -0.1477221515399484 -1.5662544310229496 0.22317570786839805 1.3360714715472592 0.7687688099444828 1.289444062115004 -1.1375206171063013 -0.10338009081183935 0.5569594881286891 0.31925244159460625 -1.3892680020488033 0.012326556924375426 -0.25736401473984377 -0.3330353357065691 -0.04316486651418404 0.9137123669036599 1.412571341034819 0.7249285029554557 1.3443843232997266 0.7364680999528932 -0.6630237021854883 0.7569116265721314 -0.8316042933662803 0.0570324036525695 -1.0100608930828612 0.8047760610063449 -1.409874768694697 0.757672555649253 0.9204939461046387 -1.4197459418132206 0.0714868977619703 -0.8509215236556132 0.13215441236804498 -1.3152384630962213 0.6938609024402747 -0.3625476169412065 1.4399189781204764 0.7095886322098196 0.8425092106839334 -0.2657997132419003 -0.050381247991707845 -1.5146433854660688 0.7034312236621408 0.4110999875226823 -1.8650088980035338 -0.25159502935922595 -1.1441991018047337 0.23871577771345115 -0.28820221031586757 0.3846713078624317 -0.5265738605820136 0.4329174485539575 0.4098892226724676 0.5754706439268206 0.9521051511995403 1.7697413264626107 1.1839576292511498 1.8473789200961612 -0.10674409714156519 -0.8693224672591547; -0.6436256268832966 1.164152020587446 -0.7547008588543628 -0.00798149055213345 -0.6550487175879041 -0.2776957031494483 -0.55266194051219 1.2501794749532074 -0.9494207463405311 -0.24536811021385027 -0.7554267766289189 0.5423284218626525 2.5731107174060983 -0.5390852647492653 1.780604431946944 -0.8103068056176804 -0.4816539067624095 -0.19394979923631822 -0.5588199461806559 1.4868133372072911 0.5438398676563418 0.10766840135428273 0.020071821749294675 -0.762559538900146 -0.8748608100361454 -0.1752305045896488 -0.8723702359210165 -0.023766368454583797 -0.003746655373236492 -0.0711297585854536 1.6338440748183096 0.6228595311787994 -2.365123737010125 -0.5104056457111464 0.018562073715272628 1.168483928397365 -1.0275690631349637 1.1096699813757 -1.4043078655486487 -0.5224833632490359 -1.1178822940161872 -0.6361358829406408 1.595451352638129 0.6777984644657155 -0.03857811149467498 1.2127588020924975 0.8131205864277978 0.2159674207132274 -0.28232591020544867 1.8907701575599234 -0.43952568343422416 -0.3223930745177041 -1.0244543646390358 0.06659140343664297 -1.1990186837318109 0.7314017559448202 -1.2708929072715796 -0.26020729980632645 0.45967617956376106 -0.6786268968210029 0.4573688552119273 -0.14114482377145113 0.18125523850771483 0.1631096816030518; 0.09783925383361058 -1.3770150109350219 -0.5500727214499397 -0.9064678758994352 -0.4299443974633322 0.9251119885938761 -1.8488006790455591 0.16939636710166917 0.15813281894939998 -0.046396049135981325 2.9547384671962424 -1.094422018218985 0.5432701317534425 -0.10723541488101182 2.092062587867908 -0.10757472521233423 -0.0752694993906678 0.34216249139554383 0.16488230877361965 0.3021037855386512 2.440994662911247 -0.44108890797416356 -0.5892182337428187 -0.11730593695714164 1.4081277457164199 0.986159567932312 1.1012062582222604 -0.03447351168447376 0.49106197046846956 0.48908084910017374 0.7310581439206669 1.3203712192674317 1.2319113577125056 -1.3128262684329306 -0.44558671164762476 -0.4992124290745697 -0.9909672894239245 -0.7535903399049786 2.033602712679785 -1.4807036461530245 -0.526590257296696 0.3159264901853529 -0.5758357441895959 1.1027174574615244 -0.25603227334233275 0.5587338481671076 -0.09716265903623135 1.8952079125702066 -0.7583631842387061 -0.6880213597355269 0.5966598034367847 0.4189655349179772 1.6180089893807197 1.4319068940169106 -0.3047738398212431 -0.9017048707706298 0.11636160266808364 -0.48579410932210965 0.9244293199281102 -0.543644215877635 1.4665851783616448 -0.9686498911689714 0.9899992221069707 -1.3267767787440097]\n",
       "│\n",
       "└── :s_right : 0.35644489468975027\n"
      ]
     },
     "execution_count": 17,
     "metadata": {},
     "output_type": "execute_result"
    }
   ],
   "source": [
    "# draw a random sample from the generative model\n",
    "trace = Gen.simulate(room, ())\n",
    "get_choices(trace)"
   ]
  },
  {
   "cell_type": "code",
   "execution_count": 18,
   "id": "32cc7e2a-4479-4bf3-b0c9-5959c2ec177b",
   "metadata": {
    "scrolled": true
   },
   "outputs": [
    {
     "data": {
      "text/html": [
       "<img src=\"data:image/jpeg;base64, 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\">"
      ],
      "text/plain": [
       "PyObject Bitmap[\n",
       "  pixel_format = rgb,\n",
       "  component_format = float32,\n",
       "  size = [64, 64],\n",
       "  srgb_gamma = 1,\n",
       "  struct = Struct<12>[\n",
       "    float32 R; // @0, gamma, premultiplied alpha\n",
       "    float32 G; // @4, gamma, premultiplied alpha\n",
       "    float32 B; // @8, gamma, premultiplied alpha\n",
       "  ],\n",
       "  data = [ 48 KiB of image data ]\n",
       "]"
      ]
     },
     "execution_count": 18,
     "metadata": {},
     "output_type": "execute_result"
    }
   ],
   "source": [
    "view_image(trace)"
   ]
  },
  {
   "cell_type": "markdown",
   "id": "8adfef7b-2982-4e50-83f4-c681eff4ead3",
   "metadata": {
    "scrolled": true
   },
   "source": [
    "Now let's load a scene from mitsuba3's gallery and render it as our observed image"
   ]
  },
  {
   "cell_type": "code",
   "execution_count": 19,
   "id": "4dd06704-baa0-421b-b2cc-437f7b47c90d",
   "metadata": {
    "scrolled": true
   },
   "outputs": [
    {
     "data": {
      "text/html": [
       "<img src=\"data:image/jpeg;base64, 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\">"
      ],
      "text/plain": [
       "PyObject Bitmap[\n",
       "  pixel_format = rgb,\n",
       "  component_format = float32,\n",
       "  size = [64, 64],\n",
       "  srgb_gamma = 1,\n",
       "  struct = Struct<12>[\n",
       "    float32 R; // @0, gamma, premultiplied alpha\n",
       "    float32 G; // @4, gamma, premultiplied alpha\n",
       "    float32 B; // @8, gamma, premultiplied alpha\n",
       "  ],\n",
       "  data = [ 48 KiB of image data ]\n",
       "]"
      ]
     },
     "execution_count": 19,
     "metadata": {},
     "output_type": "execute_result"
    }
   ],
   "source": [
    "# load the scene from an xml file (instead of a dict)\n",
    "obs_scene_config = mi.load_file(\"./scenes/cbox.xml\")\n",
    "obs_scene = ModelParams(scene_d=PyDict(), scene=obs_scene_config, spp=128)\n",
    "obs_bitmap = render_bitmap(obs_scene)\n",
    "obs_image = Gen.choicemap()\n",
    "p = @pycall np.array(obs_bitmap)::Array{Float64, 3}\n",
    "obs_image[:pred] = p[:, :, 1]\n",
    "# again, hoping to avoid that nasty bug...\n",
    "obs_scene = 1\n",
    "# to view the image on your notebook\n",
    "obs_bitmap"
   ]
  },
  {
   "cell_type": "markdown",
   "id": "d2db4031-faaf-469b-aec1-ddea201c26d6",
   "metadata": {},
   "source": [
    "### Inference: Random walk MH\n",
    "\n",
    "We will implement a simple random walk MH procedure. In particular, we will make (truncated) gaussian proposals over the sizes of each of the two spheres in the scene. Otherwise, this is super off-the-shelf MCMC code in Gen."
   ]
  },
  {
   "cell_type": "code",
   "execution_count": 20,
   "id": "ba42d20e-bf8a-4b64-bc36-83ccab4b2b7f",
   "metadata": {},
   "outputs": [],
   "source": [
    "# include the truncated norm distribution\n",
    "include(\"truncatednorm.jl\")"
   ]
  },
  {
   "cell_type": "markdown",
   "id": "ad1b09bd-cc3a-4dde-b6f3-a837f69052f4",
   "metadata": {},
   "source": [
    "Define proposals for perturbing the two latent variables in the generative model"
   ]
  },
  {
   "cell_type": "code",
   "execution_count": 27,
   "id": "fb2a7b17-021e-474c-945c-aa0fbe5e2260",
   "metadata": {},
   "outputs": [],
   "source": [
    "# proposal distribution for the scale variables\n",
    "@gen function scale_proposal(current_trace)\n",
    "    # trunc_norm(mean, std, lower_bound, upper_bound)\n",
    "    # why do we need a truncated norm, instead of a regular normal distribution?\n",
    "    s_left ~ trunc_norm(current_trace[:s_left], 0.25, 0.01, 1.)\n",
    "    s_right ~ trunc_norm(current_trace[:s_right], 0.25, 0.01, 1.)\n",
    "end\n",
    ";"
   ]
  },
  {
   "cell_type": "markdown",
   "id": "4671dc4e-6e8a-4002-8375-d84b9627bf55",
   "metadata": {},
   "source": [
    "The inference procedure couldn't really get any simpler: Make MH moves on the two latents and that's all."
   ]
  },
  {
   "cell_type": "code",
   "execution_count": 28,
   "id": "34941dfb-6d2d-4cc7-8ddd-e6837267d154",
   "metadata": {},
   "outputs": [],
   "source": [
    "function random_walk_mh(tr)\n",
    "    # make a random-walk update on scale variables\n",
    "    (tr, accepted) = mh(tr, scale_proposal, ())\n",
    "\n",
    "    # return the updated trace\n",
    "    tr\n",
    "end\n",
    ";"
   ]
  },
  {
   "cell_type": "markdown",
   "id": "0fb1d0f1-7010-44e3-ba53-d9cf175d5980",
   "metadata": {},
   "source": [
    "Now call this inference procedure in an iterative loop -- notice that we are going for a rather small number of iterations -- `K=50` -- let's see if this works!"
   ]
  },
  {
   "cell_type": "code",
   "execution_count": 33,
   "id": "b1baabcd-5cf2-49d4-adfa-8f2a3ff757cf",
   "metadata": {
    "scrolled": true
   },
   "outputs": [],
   "source": [
    "function do_inference()\n",
    "    K = 100\n",
    "    t, = generate(room, (), obs_image)\n",
    "    scores = Vector{Float64}(undef, K)\n",
    "    @showprogress for i in 1:K\n",
    "        t = random_walk_mh(t)\n",
    "        scores[i] = get_score(t)\n",
    "    end;\n",
    "    return scores, t\n",
    "end\n",
    ";"
   ]
  },
  {
   "cell_type": "code",
   "execution_count": 34,
   "id": "9bd3b4fd-7cb8-4b93-b51d-5a110c380be1",
   "metadata": {
    "scrolled": true
   },
   "outputs": [
    {
     "name": "stderr",
     "output_type": "stream",
     "text": [
      "\u001b[32mProgress: 100%|█████████████████████████████████████████| Time: 0:00:10\u001b[39m\n"
     ]
    },
    {
     "data": {
      "text/plain": [
       "([-3788.9932345789553, -3788.9932345789553, -3788.9932345789553, -3788.9932345789553, -3788.9932345789553, -3788.9932345789553, -3788.9932345789553, -3788.9932345789553, -3788.9932345789553, -3788.9932345789553  …  -3790.452374430263, -3790.452374430263, -3790.452374430263, -3788.6166161793412, -3788.6166161793412, -3788.6166161793412, -3788.6166161793412, -3788.6166161793412, -3788.6166161793412, -3788.6166161793412], Gen.DynamicDSLTrace{DynamicDSLFunction{Any}}(DynamicDSLFunction{Any}(Dict{Symbol, Any}(), Dict{Symbol, Any}(), Type[], false, Union{Nothing, Some{Any}}[], var\"##room#292\", Bool[], false), Trie{Any, Gen.ChoiceOrCallRecord}(Dict{Any, Gen.ChoiceOrCallRecord}(:s_left => Gen.ChoiceOrCallRecord{Float64}(0.4459073243942072, 0.10536051565782628, NaN, true), :pred => Gen.ChoiceOrCallRecord{Matrix{Float64}}([0.0 0.0 … 0.0 0.0; 0.0 0.0010951956501230597 … 0.005541663616895676 0.0; … ; 0.0 0.006749952677637339 … 0.00588970584794879 0.0; 0.0 0.0 … 0.0 0.0], -3788.827337210657, NaN, true), :s_right => Gen.ChoiceOrCallRecord{Float64}(0.24604308247919343, 0.10536051565782628, NaN, true)), Dict{Any, Trie{Any, Gen.ChoiceOrCallRecord}}()), false, -3788.6166161793412, 0.0, (), [0.0 0.0 … 0.0 0.0; 0.0 0.0010951956501230597 … 0.005541663616895676 0.0; … ; 0.0 0.006749952677637339 … 0.00588970584794879 0.0; 0.0 0.0 … 0.0 0.0]))"
      ]
     },
     "execution_count": 34,
     "metadata": {},
     "output_type": "execute_result"
    }
   ],
   "source": [
    "# call the inference procedure\n",
    "(scores, t) = do_inference()"
   ]
  },
  {
   "cell_type": "markdown",
   "id": "072a472f-94dd-4567-a47f-04d123fe55ad",
   "metadata": {},
   "source": [
    "Now, how do I know if my inference procedure worked? \n",
    "\n",
    "Let's first visualize to see if our log likelihood scores improved over iterations (x-axis: iterations; y-axis: log scores)."
   ]
  },
  {
   "cell_type": "code",
   "execution_count": 31,
   "id": "8b5dd7af-0575-49c9-92a7-d8f28281890f",
   "metadata": {
    "scrolled": true
   },
   "outputs": [
    {
     "data": {
      "image/png": "[encoded data removed]",
      "image/svg+xml": [
       "<?xml version=\"1.0\" encoding=\"utf-8\"?>\n",
       "<svg xmlns=\"http://www.w3.org/2000/svg\" xmlns:xlink=\"http://www.w3.org/1999/xlink\" width=\"1000\" height=\"200\" viewBox=\"0 0 4000 800\">\n",
       "<defs>\n",
       "  <clipPath id=\"clip330\">\n",
       "    <rect x=\"0\" y=\"0\" width=\"4000\" height=\"800\"/>\n",
       "  </clipPath>\n",
       "</defs>\n",
       "<path clip-path=\"url(#clip330)\" d=\"M0 800 L4000 800 L4000 0 L0 0  Z\" fill=\"#ffffff\" fill-rule=\"evenodd\" fill-opacity=\"1\"/>\n",
       "<defs>\n",
       "  <clipPath id=\"clip331\">\n",
       "    <rect x=\"800\" y=\"0\" width=\"2801\" height=\"800\"/>\n",
       "  </clipPath>\n",
       "</defs>\n",
       "<path clip-path=\"url(#clip330)\" d=\"M255.19 718.64 L3952.76 718.64 L3952.76 47.2441 L255.19 47.2441  Z\" fill=\"#ffffff\" fill-rule=\"evenodd\" fill-opacity=\"1\"/>\n",
       "<defs>\n",
       "  <clipPath id=\"clip332\">\n",
       "    <rect x=\"255\" y=\"47\" width=\"3699\" height=\"672\"/>\n",
       "  </clipPath>\n",
       "</defs>\n",
       "<polyline clip-path=\"url(#clip332)\" style=\"stroke:#000000; stroke-linecap:round; stroke-linejoin:round; stroke-width:2; stroke-opacity:0.1; fill:none\" points=\"288.649,718.64 288.649,47.2441 \"/>\n",
       "<polyline clip-path=\"url(#clip332)\" style=\"stroke:#000000; stroke-linecap:round; stroke-linejoin:round; stroke-width:2; stroke-opacity:0.1; fill:none\" points=\"1000.54,718.64 1000.54,47.2441 \"/>\n",
       "<polyline clip-path=\"url(#clip332)\" style=\"stroke:#000000; stroke-linecap:round; stroke-linejoin:round; stroke-width:2; stroke-opacity:0.1; fill:none\" points=\"1712.43,718.64 1712.43,47.2441 \"/>\n",
       "<polyline clip-path=\"url(#clip332)\" style=\"stroke:#000000; stroke-linecap:round; stroke-linejoin:round; stroke-width:2; stroke-opacity:0.1; fill:none\" points=\"2424.32,718.64 2424.32,47.2441 \"/>\n",
       "<polyline clip-path=\"url(#clip332)\" style=\"stroke:#000000; stroke-linecap:round; stroke-linejoin:round; stroke-width:2; stroke-opacity:0.1; fill:none\" points=\"3136.22,718.64 3136.22,47.2441 \"/>\n",
       "<polyline clip-path=\"url(#clip332)\" style=\"stroke:#000000; stroke-linecap:round; stroke-linejoin:round; stroke-width:2; stroke-opacity:0.1; fill:none\" points=\"3848.11,718.64 3848.11,47.2441 \"/>\n",
       "<polyline clip-path=\"url(#clip330)\" style=\"stroke:#000000; stroke-linecap:round; stroke-linejoin:round; stroke-width:4; stroke-opacity:1; fill:none\" points=\"255.19,718.64 3952.76,718.64 \"/>\n",
       "<polyline clip-path=\"url(#clip330)\" style=\"stroke:#000000; stroke-linecap:round; stroke-linejoin:round; stroke-width:4; stroke-opacity:1; fill:none\" points=\"288.649,718.64 288.649,699.742 \"/>\n",
       "<polyline clip-path=\"url(#clip330)\" style=\"stroke:#000000; stroke-linecap:round; stroke-linejoin:round; stroke-width:4; stroke-opacity:1; fill:none\" points=\"1000.54,718.64 1000.54,699.742 \"/>\n",
       "<polyline clip-path=\"url(#clip330)\" style=\"stroke:#000000; stroke-linecap:round; stroke-linejoin:round; stroke-width:4; stroke-opacity:1; fill:none\" points=\"1712.43,718.64 1712.43,699.742 \"/>\n",
       "<polyline clip-path=\"url(#clip330)\" style=\"stroke:#000000; stroke-linecap:round; stroke-linejoin:round; stroke-width:4; stroke-opacity:1; fill:none\" points=\"2424.32,718.64 2424.32,699.742 \"/>\n",
       "<polyline clip-path=\"url(#clip330)\" style=\"stroke:#000000; stroke-linecap:round; stroke-linejoin:round; stroke-width:4; stroke-opacity:1; fill:none\" points=\"3136.22,718.64 3136.22,699.742 \"/>\n",
       "<polyline clip-path=\"url(#clip330)\" style=\"stroke:#000000; stroke-linecap:round; stroke-linejoin:round; stroke-width:4; stroke-opacity:1; fill:none\" points=\"3848.11,718.64 3848.11,699.742 \"/>\n",
       "<path clip-path=\"url(#clip330)\" d=\"M288.649 762.359 Q285.038 762.359 283.21 765.923 Q281.404 769.465 281.404 776.595 Q281.404 783.701 283.21 787.266 Q285.038 790.807 288.649 790.807 Q292.284 790.807 294.089 787.266 Q295.918 783.701 295.918 776.595 Q295.918 769.465 294.089 765.923 Q292.284 762.359 288.649 762.359 M288.649 758.655 Q294.459 758.655 297.515 763.261 Q300.594 767.845 300.594 776.595 Q300.594 785.321 297.515 789.928 Q294.459 794.511 288.649 794.511 Q282.839 794.511 279.76 789.928 Q276.705 785.321 276.705 776.595 Q276.705 767.845 279.76 763.261 Q282.839 758.655 288.649 758.655 Z\" fill=\"#000000\" fill-rule=\"nonzero\" fill-opacity=\"1\" /><path clip-path=\"url(#clip330)\" d=\"M975.229 789.905 L982.867 789.905 L982.867 763.539 L974.557 765.206 L974.557 760.947 L982.821 759.28 L987.497 759.28 L987.497 789.905 L995.136 789.905 L995.136 793.84 L975.229 793.84 L975.229 789.905 Z\" fill=\"#000000\" fill-rule=\"nonzero\" fill-opacity=\"1\" /><path clip-path=\"url(#clip330)\" d=\"M1014.58 762.359 Q1010.97 762.359 1009.14 765.923 Q1007.33 769.465 1007.33 776.595 Q1007.33 783.701 1009.14 787.266 Q1010.97 790.807 1014.58 790.807 Q1018.21 790.807 1020.02 787.266 Q1021.85 783.701 1021.85 776.595 Q1021.85 769.465 1020.02 765.923 Q1018.21 762.359 1014.58 762.359 M1014.58 758.655 Q1020.39 758.655 1023.45 763.261 Q1026.52 767.845 1026.52 776.595 Q1026.52 785.321 1023.45 789.928 Q1020.39 794.511 1014.58 794.511 Q1008.77 794.511 1005.69 789.928 Q1002.64 785.321 1002.64 776.595 Q1002.64 767.845 1005.69 763.261 Q1008.77 758.655 1014.58 758.655 Z\" fill=\"#000000\" fill-rule=\"nonzero\" fill-opacity=\"1\" /><path clip-path=\"url(#clip330)\" d=\"M1691.21 789.905 L1707.53 789.905 L1707.53 793.84 L1685.58 793.84 L1685.58 789.905 Q1688.24 787.15 1692.83 782.52 Q1697.43 777.868 1698.61 776.525 Q1700.86 774.002 1701.74 772.266 Q1702.64 770.507 1702.64 768.817 Q1702.64 766.062 1700.7 764.326 Q1698.78 762.59 1695.67 762.59 Q1693.47 762.59 1691.02 763.354 Q1688.59 764.118 1685.81 765.669 L1685.81 760.947 Q1688.64 759.812 1691.09 759.234 Q1693.54 758.655 1695.58 758.655 Q1700.95 758.655 1704.15 761.34 Q1707.34 764.025 1707.34 768.516 Q1707.34 770.646 1706.53 772.567 Q1705.74 774.465 1703.64 777.058 Q1703.06 777.729 1699.96 780.946 Q1696.85 784.141 1691.21 789.905 Z\" fill=\"#000000\" fill-rule=\"nonzero\" fill-opacity=\"1\" /><path clip-path=\"url(#clip330)\" d=\"M1727.34 762.359 Q1723.73 762.359 1721.9 765.923 Q1720.09 769.465 1720.09 776.595 Q1720.09 783.701 1721.9 787.266 Q1723.73 790.807 1727.34 790.807 Q1730.97 790.807 1732.78 787.266 Q1734.61 783.701 1734.61 776.595 Q1734.61 769.465 1732.78 765.923 Q1730.97 762.359 1727.34 762.359 M1727.34 758.655 Q1733.15 758.655 1736.21 763.261 Q1739.28 767.845 1739.28 776.595 Q1739.28 785.321 1736.21 789.928 Q1733.15 794.511 1727.34 794.511 Q1721.53 794.511 1718.45 789.928 Q1715.4 785.321 1715.4 776.595 Q1715.4 767.845 1718.45 763.261 Q1721.53 758.655 1727.34 758.655 Z\" fill=\"#000000\" fill-rule=\"nonzero\" fill-opacity=\"1\" /><path clip-path=\"url(#clip330)\" d=\"M2413.17 775.206 Q2416.52 775.923 2418.4 778.192 Q2420.3 780.46 2420.3 783.794 Q2420.3 788.909 2416.78 791.71 Q2413.26 794.511 2406.78 794.511 Q2404.6 794.511 2402.29 794.071 Q2400 793.655 2397.54 792.798 L2397.54 788.284 Q2399.49 789.419 2401.8 789.997 Q2404.12 790.576 2406.64 790.576 Q2411.04 790.576 2413.33 788.84 Q2415.64 787.104 2415.64 783.794 Q2415.64 780.738 2413.49 779.025 Q2411.36 777.289 2407.54 777.289 L2403.51 777.289 L2403.51 773.446 L2407.73 773.446 Q2411.18 773.446 2413.01 772.081 Q2414.83 770.692 2414.83 768.099 Q2414.83 765.437 2412.94 764.025 Q2411.06 762.59 2407.54 762.59 Q2405.62 762.59 2403.42 763.007 Q2401.22 763.423 2398.58 764.303 L2398.58 760.136 Q2401.25 759.396 2403.56 759.025 Q2405.9 758.655 2407.96 758.655 Q2413.28 758.655 2416.38 761.085 Q2419.49 763.493 2419.49 767.613 Q2419.49 770.484 2417.84 772.474 Q2416.2 774.442 2413.17 775.206 Z\" fill=\"#000000\" fill-rule=\"nonzero\" fill-opacity=\"1\" /><path clip-path=\"url(#clip330)\" d=\"M2439.16 762.359 Q2435.55 762.359 2433.72 765.923 Q2431.92 769.465 2431.92 776.595 Q2431.92 783.701 2433.72 787.266 Q2435.55 790.807 2439.16 790.807 Q2442.8 790.807 2444.6 787.266 Q2446.43 783.701 2446.43 776.595 Q2446.43 769.465 2444.6 765.923 Q2442.8 762.359 2439.16 762.359 M2439.16 758.655 Q2444.97 758.655 2448.03 763.261 Q2451.11 767.845 2451.11 776.595 Q2451.11 785.321 2448.03 789.928 Q2444.97 794.511 2439.16 794.511 Q2433.35 794.511 2430.27 789.928 Q2427.22 785.321 2427.22 776.595 Q2427.22 767.845 2430.27 763.261 Q2433.35 758.655 2439.16 758.655 Z\" fill=\"#000000\" fill-rule=\"nonzero\" fill-opacity=\"1\" /><path clip-path=\"url(#clip330)\" d=\"M3124.39 763.354 L3112.58 781.803 L3124.39 781.803 L3124.39 763.354 M3123.16 759.28 L3129.04 759.28 L3129.04 781.803 L3133.97 781.803 L3133.97 785.692 L3129.04 785.692 L3129.04 793.84 L3124.39 793.84 L3124.39 785.692 L3108.79 785.692 L3108.79 781.178 L3123.16 759.28 Z\" fill=\"#000000\" fill-rule=\"nonzero\" fill-opacity=\"1\" /><path clip-path=\"url(#clip330)\" d=\"M3151.7 762.359 Q3148.09 762.359 3146.26 765.923 Q3144.46 769.465 3144.46 776.595 Q3144.46 783.701 3146.26 787.266 Q3148.09 790.807 3151.7 790.807 Q3155.34 790.807 3157.14 787.266 Q3158.97 783.701 3158.97 776.595 Q3158.97 769.465 3157.14 765.923 Q3155.34 762.359 3151.7 762.359 M3151.7 758.655 Q3157.51 758.655 3160.57 763.261 Q3163.65 767.845 3163.65 776.595 Q3163.65 785.321 3160.57 789.928 Q3157.51 794.511 3151.7 794.511 Q3145.89 794.511 3142.81 789.928 Q3139.76 785.321 3139.76 776.595 Q3139.76 767.845 3142.81 763.261 Q3145.89 758.655 3151.7 758.655 Z\" fill=\"#000000\" fill-rule=\"nonzero\" fill-opacity=\"1\" /><path clip-path=\"url(#clip330)\" d=\"M3822.81 759.28 L3841.16 759.28 L3841.16 763.215 L3827.09 763.215 L3827.09 771.687 Q3828.11 771.34 3829.13 771.178 Q3830.14 770.993 3831.16 770.993 Q3836.95 770.993 3840.33 774.164 Q3843.71 777.335 3843.71 782.752 Q3843.71 788.331 3840.24 791.432 Q3836.77 794.511 3830.45 794.511 Q3828.27 794.511 3826 794.141 Q3823.76 793.77 3821.35 793.03 L3821.35 788.331 Q3823.43 789.465 3825.65 790.02 Q3827.88 790.576 3830.35 790.576 Q3834.36 790.576 3836.7 788.47 Q3839.03 786.363 3839.03 782.752 Q3839.03 779.141 3836.7 777.034 Q3834.36 774.928 3830.35 774.928 Q3828.48 774.928 3826.6 775.345 Q3824.75 775.761 3822.81 776.641 L3822.81 759.28 Z\" fill=\"#000000\" fill-rule=\"nonzero\" fill-opacity=\"1\" /><path clip-path=\"url(#clip330)\" d=\"M3862.92 762.359 Q3859.31 762.359 3857.48 765.923 Q3855.68 769.465 3855.68 776.595 Q3855.68 783.701 3857.48 787.266 Q3859.31 790.807 3862.92 790.807 Q3866.56 790.807 3868.36 787.266 Q3870.19 783.701 3870.19 776.595 Q3870.19 769.465 3868.36 765.923 Q3866.56 762.359 3862.92 762.359 M3862.92 758.655 Q3868.73 758.655 3871.79 763.261 Q3874.87 767.845 3874.87 776.595 Q3874.87 785.321 3871.79 789.928 Q3868.73 794.511 3862.92 794.511 Q3857.11 794.511 3854.03 789.928 Q3850.98 785.321 3850.98 776.595 Q3850.98 767.845 3854.03 763.261 Q3857.11 758.655 3862.92 758.655 Z\" fill=\"#000000\" fill-rule=\"nonzero\" fill-opacity=\"1\" /><polyline clip-path=\"url(#clip332)\" style=\"stroke:#000000; stroke-linecap:round; stroke-linejoin:round; stroke-width:2; stroke-opacity:0.1; fill:none\" points=\"255.19,635.948 3952.76,635.948 \"/>\n",
       "<polyline clip-path=\"url(#clip332)\" style=\"stroke:#000000; stroke-linecap:round; stroke-linejoin:round; stroke-width:2; stroke-opacity:0.1; fill:none\" points=\"255.19,528.957 3952.76,528.957 \"/>\n",
       "<polyline clip-path=\"url(#clip332)\" style=\"stroke:#000000; stroke-linecap:round; stroke-linejoin:round; stroke-width:2; stroke-opacity:0.1; fill:none\" points=\"255.19,421.966 3952.76,421.966 \"/>\n",
       "<polyline clip-path=\"url(#clip332)\" style=\"stroke:#000000; stroke-linecap:round; stroke-linejoin:round; stroke-width:2; stroke-opacity:0.1; fill:none\" points=\"255.19,314.975 3952.76,314.975 \"/>\n",
       "<polyline clip-path=\"url(#clip332)\" style=\"stroke:#000000; stroke-linecap:round; stroke-linejoin:round; stroke-width:2; stroke-opacity:0.1; fill:none\" points=\"255.19,207.984 3952.76,207.984 \"/>\n",
       "<polyline clip-path=\"url(#clip332)\" style=\"stroke:#000000; stroke-linecap:round; stroke-linejoin:round; stroke-width:2; stroke-opacity:0.1; fill:none\" points=\"255.19,100.993 3952.76,100.993 \"/>\n",
       "<polyline clip-path=\"url(#clip330)\" style=\"stroke:#000000; stroke-linecap:round; stroke-linejoin:round; stroke-width:4; stroke-opacity:1; fill:none\" points=\"255.19,718.64 255.19,47.2441 \"/>\n",
       "<polyline clip-path=\"url(#clip330)\" style=\"stroke:#000000; stroke-linecap:round; stroke-linejoin:round; stroke-width:4; stroke-opacity:1; fill:none\" points=\"255.19,635.948 274.088,635.948 \"/>\n",
       "<polyline clip-path=\"url(#clip330)\" style=\"stroke:#000000; stroke-linecap:round; stroke-linejoin:round; stroke-width:4; stroke-opacity:1; fill:none\" points=\"255.19,528.957 274.088,528.957 \"/>\n",
       "<polyline clip-path=\"url(#clip330)\" style=\"stroke:#000000; stroke-linecap:round; stroke-linejoin:round; stroke-width:4; stroke-opacity:1; fill:none\" points=\"255.19,421.966 274.088,421.966 \"/>\n",
       "<polyline clip-path=\"url(#clip330)\" style=\"stroke:#000000; stroke-linecap:round; stroke-linejoin:round; stroke-width:4; stroke-opacity:1; fill:none\" points=\"255.19,314.975 274.088,314.975 \"/>\n",
       "<polyline clip-path=\"url(#clip330)\" style=\"stroke:#000000; stroke-linecap:round; stroke-linejoin:round; stroke-width:4; stroke-opacity:1; fill:none\" points=\"255.19,207.984 274.088,207.984 \"/>\n",
       "<polyline clip-path=\"url(#clip330)\" style=\"stroke:#000000; stroke-linecap:round; stroke-linejoin:round; stroke-width:4; stroke-opacity:1; fill:none\" points=\"255.19,100.993 274.088,100.993 \"/>\n",
       "<path clip-path=\"url(#clip330)\" d=\"M42.9921 636.4 L72.6679 636.4 L72.6679 640.335 L42.9921 640.335 L42.9921 636.4 Z\" fill=\"#000000\" fill-rule=\"nonzero\" fill-opacity=\"1\" /><path clip-path=\"url(#clip330)\" d=\"M96.927 634.594 Q100.283 635.312 102.158 637.58 Q104.057 639.849 104.057 643.182 Q104.057 648.298 100.538 651.099 Q97.0196 653.9 90.5382 653.9 Q88.3623 653.9 86.0475 653.46 Q83.7558 653.043 81.3021 652.187 L81.3021 647.673 Q83.2465 648.807 85.5613 649.386 Q87.8761 649.965 90.3993 649.965 Q94.7974 649.965 97.0891 648.228 Q99.4039 646.492 99.4039 643.182 Q99.4039 640.127 97.2511 638.414 Q95.1215 636.678 91.3021 636.678 L87.2743 636.678 L87.2743 632.835 L91.4872 632.835 Q94.9363 632.835 96.765 631.469 Q98.5937 630.08 98.5937 627.488 Q98.5937 624.826 96.6955 623.414 Q94.8206 621.979 91.3021 621.979 Q89.3808 621.979 87.1817 622.395 Q84.9826 622.812 82.3438 623.692 L82.3438 619.525 Q85.0058 618.784 87.3206 618.414 Q89.6585 618.043 91.7187 618.043 Q97.0428 618.043 100.145 620.474 Q103.246 622.881 103.246 627.002 Q103.246 629.872 101.603 631.863 Q99.9594 633.83 96.927 634.594 Z\" fill=\"#000000\" fill-rule=\"nonzero\" fill-opacity=\"1\" /><path clip-path=\"url(#clip330)\" d=\"M122.922 636.817 Q119.589 636.817 117.668 638.599 Q115.77 640.381 115.77 643.506 Q115.77 646.631 117.668 648.414 Q119.589 650.196 122.922 650.196 Q126.256 650.196 128.177 648.414 Q130.098 646.608 130.098 643.506 Q130.098 640.381 128.177 638.599 Q126.279 636.817 122.922 636.817 M118.246 634.826 Q115.237 634.085 113.547 632.025 Q111.881 629.965 111.881 627.002 Q111.881 622.858 114.82 620.451 Q117.783 618.043 122.922 618.043 Q128.084 618.043 131.024 620.451 Q133.964 622.858 133.964 627.002 Q133.964 629.965 132.274 632.025 Q130.607 634.085 127.621 634.826 Q131.001 635.613 132.876 637.904 Q134.774 640.196 134.774 643.506 Q134.774 648.529 131.695 651.215 Q128.64 653.9 122.922 653.9 Q117.205 653.9 114.126 651.215 Q111.07 648.529 111.07 643.506 Q111.07 640.196 112.969 637.904 Q114.867 635.613 118.246 634.826 M116.533 627.442 Q116.533 630.127 118.2 631.631 Q119.89 633.136 122.922 633.136 Q125.931 633.136 127.621 631.631 Q129.334 630.127 129.334 627.442 Q129.334 624.756 127.621 623.252 Q125.931 621.747 122.922 621.747 Q119.89 621.747 118.2 623.252 Q116.533 624.756 116.533 627.442 Z\" fill=\"#000000\" fill-rule=\"nonzero\" fill-opacity=\"1\" /><path clip-path=\"url(#clip330)\" d=\"M155.931 622.743 L144.126 641.191 L155.931 641.191 L155.931 622.743 M154.704 618.668 L160.584 618.668 L160.584 641.191 L165.515 641.191 L165.515 645.08 L160.584 645.08 L160.584 653.228 L155.931 653.228 L155.931 645.08 L140.33 645.08 L140.33 640.566 L154.704 618.668 Z\" fill=\"#000000\" fill-rule=\"nonzero\" fill-opacity=\"1\" /><path clip-path=\"url(#clip330)\" d=\"M183.246 621.747 Q179.635 621.747 177.806 625.312 Q176.001 628.854 176.001 635.983 Q176.001 643.09 177.806 646.654 Q179.635 650.196 183.246 650.196 Q186.88 650.196 188.686 646.654 Q190.514 643.09 190.514 635.983 Q190.514 628.854 188.686 625.312 Q186.88 621.747 183.246 621.747 M183.246 618.043 Q189.056 618.043 192.112 622.65 Q195.19 627.233 195.19 635.983 Q195.19 644.71 192.112 649.316 Q189.056 653.9 183.246 653.9 Q177.436 653.9 174.357 649.316 Q171.302 644.71 171.302 635.983 Q171.302 627.233 174.357 622.65 Q177.436 618.043 183.246 618.043 Z\" fill=\"#000000\" fill-rule=\"nonzero\" fill-opacity=\"1\" /><path clip-path=\"url(#clip330)\" d=\"M42.9921 529.409 L72.6679 529.409 L72.6679 533.344 L42.9921 533.344 L42.9921 529.409 Z\" fill=\"#000000\" fill-rule=\"nonzero\" fill-opacity=\"1\" /><path clip-path=\"url(#clip330)\" d=\"M96.927 527.603 Q100.283 528.321 102.158 530.589 Q104.057 532.858 104.057 536.191 Q104.057 541.307 100.538 544.108 Q97.0196 546.909 90.5382 546.909 Q88.3623 546.909 86.0475 546.469 Q83.7558 546.052 81.3021 545.196 L81.3021 540.682 Q83.2465 541.816 85.5613 542.395 Q87.8761 542.973 90.3993 542.973 Q94.7974 542.973 97.0891 541.237 Q99.4039 539.501 99.4039 536.191 Q99.4039 533.136 97.2511 531.423 Q95.1215 529.686 91.3021 529.686 L87.2743 529.686 L87.2743 525.844 L91.4872 525.844 Q94.9363 525.844 96.765 524.478 Q98.5937 523.089 98.5937 520.497 Q98.5937 517.835 96.6955 516.423 Q94.8206 514.987 91.3021 514.987 Q89.3808 514.987 87.1817 515.404 Q84.9826 515.821 82.3438 516.7 L82.3438 512.534 Q85.0058 511.793 87.3206 511.423 Q89.6585 511.052 91.7187 511.052 Q97.0428 511.052 100.145 513.483 Q103.246 515.89 103.246 520.011 Q103.246 522.881 101.603 524.872 Q99.9594 526.839 96.927 527.603 Z\" fill=\"#000000\" fill-rule=\"nonzero\" fill-opacity=\"1\" /><path clip-path=\"url(#clip330)\" d=\"M122.922 529.825 Q119.589 529.825 117.668 531.608 Q115.77 533.39 115.77 536.515 Q115.77 539.64 117.668 541.423 Q119.589 543.205 122.922 543.205 Q126.256 543.205 128.177 541.423 Q130.098 539.617 130.098 536.515 Q130.098 533.39 128.177 531.608 Q126.279 529.825 122.922 529.825 M118.246 527.835 Q115.237 527.094 113.547 525.034 Q111.881 522.974 111.881 520.011 Q111.881 515.867 114.82 513.46 Q117.783 511.052 122.922 511.052 Q128.084 511.052 131.024 513.46 Q133.964 515.867 133.964 520.011 Q133.964 522.974 132.274 525.034 Q130.607 527.094 127.621 527.835 Q131.001 528.622 132.876 530.913 Q134.774 533.205 134.774 536.515 Q134.774 541.538 131.695 544.223 Q128.64 546.909 122.922 546.909 Q117.205 546.909 114.126 544.223 Q111.07 541.538 111.07 536.515 Q111.07 533.205 112.969 530.913 Q114.867 528.622 118.246 527.835 M116.533 520.45 Q116.533 523.136 118.2 524.64 Q119.89 526.145 122.922 526.145 Q125.931 526.145 127.621 524.64 Q129.334 523.136 129.334 520.45 Q129.334 517.765 127.621 516.261 Q125.931 514.756 122.922 514.756 Q119.89 514.756 118.2 516.261 Q116.533 517.765 116.533 520.45 Z\" fill=\"#000000\" fill-rule=\"nonzero\" fill-opacity=\"1\" /><path clip-path=\"url(#clip330)\" d=\"M157.251 527.603 Q160.607 528.321 162.482 530.589 Q164.38 532.858 164.38 536.191 Q164.38 541.307 160.862 544.108 Q157.343 546.909 150.862 546.909 Q148.686 546.909 146.371 546.469 Q144.08 546.052 141.626 545.196 L141.626 540.682 Q143.57 541.816 145.885 542.395 Q148.2 542.973 150.723 542.973 Q155.121 542.973 157.413 541.237 Q159.728 539.501 159.728 536.191 Q159.728 533.136 157.575 531.423 Q155.445 529.686 151.626 529.686 L147.598 529.686 L147.598 525.844 L151.811 525.844 Q155.26 525.844 157.089 524.478 Q158.917 523.089 158.917 520.497 Q158.917 517.835 157.019 516.423 Q155.144 514.987 151.626 514.987 Q149.705 514.987 147.505 515.404 Q145.306 515.821 142.668 516.7 L142.668 512.534 Q145.33 511.793 147.644 511.423 Q149.982 511.052 152.042 511.052 Q157.367 511.052 160.468 513.483 Q163.57 515.89 163.57 520.011 Q163.57 522.881 161.927 524.872 Q160.283 526.839 157.251 527.603 Z\" fill=\"#000000\" fill-rule=\"nonzero\" fill-opacity=\"1\" /><path clip-path=\"url(#clip330)\" d=\"M183.246 514.756 Q179.635 514.756 177.806 518.321 Q176.001 521.862 176.001 528.992 Q176.001 536.098 177.806 539.663 Q179.635 543.205 183.246 543.205 Q186.88 543.205 188.686 539.663 Q190.514 536.098 190.514 528.992 Q190.514 521.862 188.686 518.321 Q186.88 514.756 183.246 514.756 M183.246 511.052 Q189.056 511.052 192.112 515.659 Q195.19 520.242 195.19 528.992 Q195.19 537.719 192.112 542.325 Q189.056 546.909 183.246 546.909 Q177.436 546.909 174.357 542.325 Q171.302 537.719 171.302 528.992 Q171.302 520.242 174.357 515.659 Q177.436 511.052 183.246 511.052 Z\" fill=\"#000000\" fill-rule=\"nonzero\" fill-opacity=\"1\" /><path clip-path=\"url(#clip330)\" d=\"M42.9921 422.418 L72.6679 422.418 L72.6679 426.353 L42.9921 426.353 L42.9921 422.418 Z\" fill=\"#000000\" fill-rule=\"nonzero\" fill-opacity=\"1\" /><path clip-path=\"url(#clip330)\" d=\"M96.927 420.612 Q100.283 421.33 102.158 423.598 Q104.057 425.867 104.057 429.2 Q104.057 434.316 100.538 437.117 Q97.0196 439.918 90.5382 439.918 Q88.3623 439.918 86.0475 439.478 Q83.7558 439.061 81.3021 438.205 L81.3021 433.691 Q83.2465 434.825 85.5613 435.404 Q87.8761 435.982 90.3993 435.982 Q94.7974 435.982 97.0891 434.246 Q99.4039 432.51 99.4039 429.2 Q99.4039 426.144 97.2511 424.431 Q95.1215 422.695 91.3021 422.695 L87.2743 422.695 L87.2743 418.853 L91.4872 418.853 Q94.9363 418.853 96.765 417.487 Q98.5937 416.098 98.5937 413.506 Q98.5937 410.844 96.6955 409.432 Q94.8206 407.996 91.3021 407.996 Q89.3808 407.996 87.1817 408.413 Q84.9826 408.83 82.3438 409.709 L82.3438 405.543 Q85.0058 404.802 87.3206 404.432 Q89.6585 404.061 91.7187 404.061 Q97.0428 404.061 100.145 406.492 Q103.246 408.899 103.246 413.02 Q103.246 415.89 101.603 417.881 Q99.9594 419.848 96.927 420.612 Z\" fill=\"#000000\" fill-rule=\"nonzero\" fill-opacity=\"1\" /><path clip-path=\"url(#clip330)\" d=\"M122.922 422.834 Q119.589 422.834 117.668 424.617 Q115.77 426.399 115.77 429.524 Q115.77 432.649 117.668 434.431 Q119.589 436.214 122.922 436.214 Q126.256 436.214 128.177 434.431 Q130.098 432.626 130.098 429.524 Q130.098 426.399 128.177 424.617 Q126.279 422.834 122.922 422.834 M118.246 420.844 Q115.237 420.103 113.547 418.043 Q111.881 415.982 111.881 413.02 Q111.881 408.876 114.82 406.469 Q117.783 404.061 122.922 404.061 Q128.084 404.061 131.024 406.469 Q133.964 408.876 133.964 413.02 Q133.964 415.982 132.274 418.043 Q130.607 420.103 127.621 420.844 Q131.001 421.631 132.876 423.922 Q134.774 426.214 134.774 429.524 Q134.774 434.547 131.695 437.232 Q128.64 439.918 122.922 439.918 Q117.205 439.918 114.126 437.232 Q111.07 434.547 111.07 429.524 Q111.07 426.214 112.969 423.922 Q114.867 421.631 118.246 420.844 M116.533 413.459 Q116.533 416.144 118.2 417.649 Q119.89 419.154 122.922 419.154 Q125.931 419.154 127.621 417.649 Q129.334 416.144 129.334 413.459 Q129.334 410.774 127.621 409.27 Q125.931 407.765 122.922 407.765 Q119.89 407.765 118.2 409.27 Q116.533 410.774 116.533 413.459 Z\" fill=\"#000000\" fill-rule=\"nonzero\" fill-opacity=\"1\" /><path clip-path=\"url(#clip330)\" d=\"M147.112 435.311 L163.431 435.311 L163.431 439.246 L141.487 439.246 L141.487 435.311 Q144.149 432.556 148.732 427.927 Q153.339 423.274 154.519 421.931 Q156.765 419.408 157.644 417.672 Q158.547 415.913 158.547 414.223 Q158.547 411.469 156.603 409.732 Q154.681 407.996 151.58 407.996 Q149.38 407.996 146.927 408.76 Q144.496 409.524 141.718 411.075 L141.718 406.353 Q144.543 405.219 146.996 404.64 Q149.45 404.061 151.487 404.061 Q156.857 404.061 160.052 406.746 Q163.246 409.432 163.246 413.922 Q163.246 416.052 162.436 417.973 Q161.649 419.871 159.542 422.464 Q158.964 423.135 155.862 426.353 Q152.76 429.547 147.112 435.311 Z\" fill=\"#000000\" fill-rule=\"nonzero\" fill-opacity=\"1\" /><path clip-path=\"url(#clip330)\" d=\"M183.246 407.765 Q179.635 407.765 177.806 411.33 Q176.001 414.871 176.001 422.001 Q176.001 429.107 177.806 432.672 Q179.635 436.214 183.246 436.214 Q186.88 436.214 188.686 432.672 Q190.514 429.107 190.514 422.001 Q190.514 414.871 188.686 411.33 Q186.88 407.765 183.246 407.765 M183.246 404.061 Q189.056 404.061 192.112 408.668 Q195.19 413.251 195.19 422.001 Q195.19 430.728 192.112 435.334 Q189.056 439.918 183.246 439.918 Q177.436 439.918 174.357 435.334 Q171.302 430.728 171.302 422.001 Q171.302 413.251 174.357 408.668 Q177.436 404.061 183.246 404.061 Z\" fill=\"#000000\" fill-rule=\"nonzero\" fill-opacity=\"1\" /><path clip-path=\"url(#clip330)\" d=\"M42.9921 315.426 L72.6679 315.426 L72.6679 319.362 L42.9921 319.362 L42.9921 315.426 Z\" fill=\"#000000\" fill-rule=\"nonzero\" fill-opacity=\"1\" /><path clip-path=\"url(#clip330)\" d=\"M96.927 313.621 Q100.283 314.339 102.158 316.607 Q104.057 318.876 104.057 322.209 Q104.057 327.325 100.538 330.125 Q97.0196 332.926 90.5382 332.926 Q88.3623 332.926 86.0475 332.487 Q83.7558 332.07 81.3021 331.213 L81.3021 326.7 Q83.2465 327.834 85.5613 328.413 Q87.8761 328.991 90.3993 328.991 Q94.7974 328.991 97.0891 327.255 Q99.4039 325.519 99.4039 322.209 Q99.4039 319.153 97.2511 317.44 Q95.1215 315.704 91.3021 315.704 L87.2743 315.704 L87.2743 311.862 L91.4872 311.862 Q94.9363 311.862 96.765 310.496 Q98.5937 309.107 98.5937 306.514 Q98.5937 303.852 96.6955 302.44 Q94.8206 301.005 91.3021 301.005 Q89.3808 301.005 87.1817 301.422 Q84.9826 301.839 82.3438 302.718 L82.3438 298.552 Q85.0058 297.811 87.3206 297.44 Q89.6585 297.07 91.7187 297.07 Q97.0428 297.07 100.145 299.501 Q103.246 301.908 103.246 306.028 Q103.246 308.899 101.603 310.889 Q99.9594 312.857 96.927 313.621 Z\" fill=\"#000000\" fill-rule=\"nonzero\" fill-opacity=\"1\" /><path clip-path=\"url(#clip330)\" d=\"M122.922 315.843 Q119.589 315.843 117.668 317.626 Q115.77 319.408 115.77 322.533 Q115.77 325.658 117.668 327.44 Q119.589 329.223 122.922 329.223 Q126.256 329.223 128.177 327.44 Q130.098 325.635 130.098 322.533 Q130.098 319.408 128.177 317.626 Q126.279 315.843 122.922 315.843 M118.246 313.852 Q115.237 313.112 113.547 311.052 Q111.881 308.991 111.881 306.028 Q111.881 301.885 114.82 299.477 Q117.783 297.07 122.922 297.07 Q128.084 297.07 131.024 299.477 Q133.964 301.885 133.964 306.028 Q133.964 308.991 132.274 311.052 Q130.607 313.112 127.621 313.852 Q131.001 314.639 132.876 316.931 Q134.774 319.223 134.774 322.533 Q134.774 327.556 131.695 330.241 Q128.64 332.926 122.922 332.926 Q117.205 332.926 114.126 330.241 Q111.07 327.556 111.07 322.533 Q111.07 319.223 112.969 316.931 Q114.867 314.639 118.246 313.852 M116.533 306.468 Q116.533 309.153 118.2 310.658 Q119.89 312.163 122.922 312.163 Q125.931 312.163 127.621 310.658 Q129.334 309.153 129.334 306.468 Q129.334 303.783 127.621 302.278 Q125.931 300.774 122.922 300.774 Q119.89 300.774 118.2 302.278 Q116.533 303.783 116.533 306.468 Z\" fill=\"#000000\" fill-rule=\"nonzero\" fill-opacity=\"1\" /><path clip-path=\"url(#clip330)\" d=\"M143.894 328.32 L151.533 328.32 L151.533 301.954 L143.223 303.621 L143.223 299.362 L151.487 297.695 L156.163 297.695 L156.163 328.32 L163.802 328.32 L163.802 332.255 L143.894 332.255 L143.894 328.32 Z\" fill=\"#000000\" fill-rule=\"nonzero\" fill-opacity=\"1\" /><path clip-path=\"url(#clip330)\" d=\"M183.246 300.774 Q179.635 300.774 177.806 304.339 Q176.001 307.88 176.001 315.01 Q176.001 322.116 177.806 325.681 Q179.635 329.223 183.246 329.223 Q186.88 329.223 188.686 325.681 Q190.514 322.116 190.514 315.01 Q190.514 307.88 188.686 304.339 Q186.88 300.774 183.246 300.774 M183.246 297.07 Q189.056 297.07 192.112 301.677 Q195.19 306.26 195.19 315.01 Q195.19 323.737 192.112 328.343 Q189.056 332.926 183.246 332.926 Q177.436 332.926 174.357 328.343 Q171.302 323.737 171.302 315.01 Q171.302 306.26 174.357 301.677 Q177.436 297.07 183.246 297.07 Z\" fill=\"#000000\" fill-rule=\"nonzero\" fill-opacity=\"1\" /><path clip-path=\"url(#clip330)\" d=\"M42.9921 208.435 L72.6679 208.435 L72.6679 212.371 L42.9921 212.371 L42.9921 208.435 Z\" fill=\"#000000\" fill-rule=\"nonzero\" fill-opacity=\"1\" /><path clip-path=\"url(#clip330)\" d=\"M96.927 206.63 Q100.283 207.347 102.158 209.616 Q104.057 211.884 104.057 215.218 Q104.057 220.333 100.538 223.134 Q97.0196 225.935 90.5382 225.935 Q88.3623 225.935 86.0475 225.495 Q83.7558 225.079 81.3021 224.222 L81.3021 219.708 Q83.2465 220.843 85.5613 221.421 Q87.8761 222 90.3993 222 Q94.7974 222 97.0891 220.264 Q99.4039 218.528 99.4039 215.218 Q99.4039 212.162 97.2511 210.449 Q95.1215 208.713 91.3021 208.713 L87.2743 208.713 L87.2743 204.871 L91.4872 204.871 Q94.9363 204.871 96.765 203.505 Q98.5937 202.116 98.5937 199.523 Q98.5937 196.861 96.6955 195.449 Q94.8206 194.014 91.3021 194.014 Q89.3808 194.014 87.1817 194.431 Q84.9826 194.847 82.3438 195.727 L82.3438 191.56 Q85.0058 190.82 87.3206 190.449 Q89.6585 190.079 91.7187 190.079 Q97.0428 190.079 100.145 192.51 Q103.246 194.917 103.246 199.037 Q103.246 201.908 101.603 203.898 Q99.9594 205.866 96.927 206.63 Z\" fill=\"#000000\" fill-rule=\"nonzero\" fill-opacity=\"1\" /><path clip-path=\"url(#clip330)\" d=\"M122.922 208.852 Q119.589 208.852 117.668 210.634 Q115.77 212.417 115.77 215.542 Q115.77 218.667 117.668 220.449 Q119.589 222.232 122.922 222.232 Q126.256 222.232 128.177 220.449 Q130.098 218.644 130.098 215.542 Q130.098 212.417 128.177 210.634 Q126.279 208.852 122.922 208.852 M118.246 206.861 Q115.237 206.121 113.547 204.06 Q111.881 202 111.881 199.037 Q111.881 194.894 114.82 192.486 Q117.783 190.079 122.922 190.079 Q128.084 190.079 131.024 192.486 Q133.964 194.894 133.964 199.037 Q133.964 202 132.274 204.06 Q130.607 206.121 127.621 206.861 Q131.001 207.648 132.876 209.94 Q134.774 212.232 134.774 215.542 Q134.774 220.565 131.695 223.25 Q128.64 225.935 122.922 225.935 Q117.205 225.935 114.126 223.25 Q111.07 220.565 111.07 215.542 Q111.07 212.232 112.969 209.94 Q114.867 207.648 118.246 206.861 M116.533 199.477 Q116.533 202.162 118.2 203.667 Q119.89 205.171 122.922 205.171 Q125.931 205.171 127.621 203.667 Q129.334 202.162 129.334 199.477 Q129.334 196.792 127.621 195.287 Q125.931 193.783 122.922 193.783 Q119.89 193.783 118.2 195.287 Q116.533 196.792 116.533 199.477 Z\" fill=\"#000000\" fill-rule=\"nonzero\" fill-opacity=\"1\" /><path clip-path=\"url(#clip330)\" d=\"M153.084 193.783 Q149.473 193.783 147.644 197.347 Q145.839 200.889 145.839 208.019 Q145.839 215.125 147.644 218.69 Q149.473 222.232 153.084 222.232 Q156.718 222.232 158.524 218.69 Q160.353 215.125 160.353 208.019 Q160.353 200.889 158.524 197.347 Q156.718 193.783 153.084 193.783 M153.084 190.079 Q158.894 190.079 161.95 194.685 Q165.029 199.269 165.029 208.019 Q165.029 216.745 161.95 221.352 Q158.894 225.935 153.084 225.935 Q147.274 225.935 144.195 221.352 Q141.14 216.745 141.14 208.019 Q141.14 199.269 144.195 194.685 Q147.274 190.079 153.084 190.079 Z\" fill=\"#000000\" fill-rule=\"nonzero\" fill-opacity=\"1\" /><path clip-path=\"url(#clip330)\" d=\"M183.246 193.783 Q179.635 193.783 177.806 197.347 Q176.001 200.889 176.001 208.019 Q176.001 215.125 177.806 218.69 Q179.635 222.232 183.246 222.232 Q186.88 222.232 188.686 218.69 Q190.514 215.125 190.514 208.019 Q190.514 200.889 188.686 197.347 Q186.88 193.783 183.246 193.783 M183.246 190.079 Q189.056 190.079 192.112 194.685 Q195.19 199.269 195.19 208.019 Q195.19 216.745 192.112 221.352 Q189.056 225.935 183.246 225.935 Q177.436 225.935 174.357 221.352 Q171.302 216.745 171.302 208.019 Q171.302 199.269 174.357 194.685 Q177.436 190.079 183.246 190.079 Z\" fill=\"#000000\" fill-rule=\"nonzero\" fill-opacity=\"1\" /><path clip-path=\"url(#clip330)\" d=\"M42.9921 101.444 L72.6679 101.444 L72.6679 105.379 L42.9921 105.379 L42.9921 101.444 Z\" fill=\"#000000\" fill-rule=\"nonzero\" fill-opacity=\"1\" /><path clip-path=\"url(#clip330)\" d=\"M96.927 99.6387 Q100.283 100.356 102.158 102.625 Q104.057 104.893 104.057 108.227 Q104.057 113.342 100.538 116.143 Q97.0196 118.944 90.5382 118.944 Q88.3623 118.944 86.0475 118.504 Q83.7558 118.088 81.3021 117.231 L81.3021 112.717 Q83.2465 113.852 85.5613 114.43 Q87.8761 115.009 90.3993 115.009 Q94.7974 115.009 97.0891 113.273 Q99.4039 111.537 99.4039 108.227 Q99.4039 105.171 97.2511 103.458 Q95.1215 101.722 91.3021 101.722 L87.2743 101.722 L87.2743 97.8794 L91.4872 97.8794 Q94.9363 97.8794 96.765 96.5137 Q98.5937 95.1248 98.5937 92.5322 Q98.5937 89.8702 96.6955 88.4582 Q94.8206 87.023 91.3021 87.023 Q89.3808 87.023 87.1817 87.4397 Q84.9826 87.8563 82.3438 88.736 L82.3438 84.5693 Q85.0058 83.8286 87.3206 83.4582 Q89.6585 83.0879 91.7187 83.0879 Q97.0428 83.0879 100.145 85.5184 Q103.246 87.9258 103.246 92.0461 Q103.246 94.9165 101.603 96.9072 Q99.9594 98.8748 96.927 99.6387 Z\" fill=\"#000000\" fill-rule=\"nonzero\" fill-opacity=\"1\" /><path clip-path=\"url(#clip330)\" d=\"M111.742 83.7128 L133.964 83.7128 L133.964 85.7036 L121.418 118.273 L116.533 118.273 L128.339 87.648 L111.742 87.648 L111.742 83.7128 Z\" fill=\"#000000\" fill-rule=\"nonzero\" fill-opacity=\"1\" /><path clip-path=\"url(#clip330)\" d=\"M143.223 117.555 L143.223 113.296 Q144.982 114.129 146.788 114.569 Q148.593 115.009 150.33 115.009 Q154.959 115.009 157.39 111.907 Q159.843 108.782 160.191 102.44 Q158.848 104.43 156.788 105.495 Q154.728 106.56 152.228 106.56 Q147.042 106.56 144.01 103.435 Q141.001 100.287 141.001 94.847 Q141.001 89.523 144.149 86.3054 Q147.297 83.0879 152.529 83.0879 Q158.524 83.0879 161.672 87.6943 Q164.843 92.2776 164.843 101.028 Q164.843 109.199 160.954 114.083 Q157.089 118.944 150.538 118.944 Q148.779 118.944 146.973 118.597 Q145.168 118.25 143.223 117.555 M152.529 102.903 Q155.677 102.903 157.505 100.75 Q159.357 98.597 159.357 94.847 Q159.357 91.1202 157.505 88.9675 Q155.677 86.7915 152.529 86.7915 Q149.38 86.7915 147.529 88.9675 Q145.7 91.1202 145.7 94.847 Q145.7 98.597 147.529 100.75 Q149.38 102.903 152.529 102.903 Z\" fill=\"#000000\" fill-rule=\"nonzero\" fill-opacity=\"1\" /><path clip-path=\"url(#clip330)\" d=\"M183.246 86.7915 Q179.635 86.7915 177.806 90.3563 Q176.001 93.898 176.001 101.028 Q176.001 108.134 177.806 111.699 Q179.635 115.24 183.246 115.24 Q186.88 115.24 188.686 111.699 Q190.514 108.134 190.514 101.028 Q190.514 93.898 188.686 90.3563 Q186.88 86.7915 183.246 86.7915 M183.246 83.0879 Q189.056 83.0879 192.112 87.6943 Q195.19 92.2776 195.19 101.028 Q195.19 109.754 192.112 114.361 Q189.056 118.944 183.246 118.944 Q177.436 118.944 174.357 114.361 Q171.302 109.754 171.302 101.028 Q171.302 92.2776 174.357 87.6943 Q177.436 83.0879 183.246 83.0879 Z\" fill=\"#000000\" fill-rule=\"nonzero\" fill-opacity=\"1\" /><polyline clip-path=\"url(#clip332)\" style=\"stroke:#009af9; stroke-linecap:round; stroke-linejoin:round; stroke-width:4; stroke-opacity:1; fill:none\" points=\"359.838,699.638 431.028,699.638 502.217,699.638 573.406,699.638 644.595,418.177 715.784,176.147 786.973,176.147 858.163,176.147 929.352,176.147 1000.54,176.147 1071.73,139.527 1142.92,139.527 1214.11,139.527 1285.3,139.527 1356.49,139.527 1427.68,139.527 1498.87,139.527 1570.05,139.527 1641.24,139.527 1712.43,87.9382 1783.62,87.9382 1854.81,87.9382 1926,87.9382 1997.19,85.0107 2068.38,85.0107 2139.57,79.9306 2210.76,79.9306 2281.95,79.9306 2353.14,79.9306 2424.32,79.9306 2495.51,79.9306 2566.7,79.9306 2637.89,79.9306 2709.08,79.9306 2780.27,79.9306 2851.46,79.9306 2922.65,70.5862 2993.84,70.5862 3065.03,70.5862 3136.22,70.5862 3207.41,70.5862 3278.59,70.5862 3349.78,70.5862 3420.97,70.5862 3492.16,70.5862 3563.35,70.5862 3634.54,70.5862 3705.73,70.5862 3776.92,66.2459 3848.11,66.2459 \"/>\n",
       "<path clip-path=\"url(#clip330)\" d=\"M3407.32 696.26 L3829.5 696.26 L3829.5 592.58 L3407.32 592.58  Z\" fill=\"#ffffff\" fill-rule=\"evenodd\" fill-opacity=\"1\"/>\n",
       "<polyline clip-path=\"url(#clip330)\" style=\"stroke:#000000; stroke-linecap:round; stroke-linejoin:round; stroke-width:4; stroke-opacity:1; fill:none\" points=\"3407.32,696.26 3829.5,696.26 3829.5,592.58 3407.32,592.58 3407.32,696.26 \"/>\n",
       "<polyline clip-path=\"url(#clip330)\" style=\"stroke:#009af9; stroke-linecap:round; stroke-linejoin:round; stroke-width:4; stroke-opacity:1; fill:none\" points=\"3448.4,644.42 3694.91,644.42 \"/>\n",
       "<path clip-path=\"url(#clip330)\" d=\"M3749.83 664.107 Q3748.03 668.737 3746.31 670.149 Q3744.6 671.561 3741.73 671.561 L3738.33 671.561 L3738.33 667.996 L3740.83 667.996 Q3742.59 667.996 3743.56 667.163 Q3744.53 666.33 3745.71 663.228 L3746.48 661.283 L3735.99 635.774 L3740.5 635.774 L3748.61 656.052 L3756.71 635.774 L3761.22 635.774 L3749.83 664.107 Z\" fill=\"#000000\" fill-rule=\"nonzero\" fill-opacity=\"1\" /><path clip-path=\"url(#clip330)\" d=\"M3768.51 657.765 L3776.15 657.765 L3776.15 631.399 L3767.84 633.066 L3767.84 628.807 L3776.1 627.14 L3780.78 627.14 L3780.78 657.765 L3788.42 657.765 L3788.42 661.7 L3768.51 661.7 L3768.51 657.765 Z\" fill=\"#000000\" fill-rule=\"nonzero\" fill-opacity=\"1\" /></svg>\n"
      ],
      "text/html": [
       "<?xml version=\"1.0\" encoding=\"utf-8\"?>\n",
       "<svg xmlns=\"http://www.w3.org/2000/svg\" xmlns:xlink=\"http://www.w3.org/1999/xlink\" width=\"1000\" height=\"200\" viewBox=\"0 0 4000 800\">\n",
       "<defs>\n",
       "  <clipPath id=\"clip380\">\n",
       "    <rect x=\"0\" y=\"0\" width=\"4000\" height=\"800\"/>\n",
       "  </clipPath>\n",
       "</defs>\n",
       "<path clip-path=\"url(#clip380)\" d=\"M0 800 L4000 800 L4000 0 L0 0  Z\" fill=\"#ffffff\" fill-rule=\"evenodd\" fill-opacity=\"1\"/>\n",
       "<defs>\n",
       "  <clipPath id=\"clip381\">\n",
       "    <rect x=\"800\" y=\"0\" width=\"2801\" height=\"800\"/>\n",
       "  </clipPath>\n",
       "</defs>\n",
       "<path clip-path=\"url(#clip380)\" d=\"M255.19 718.64 L3952.76 718.64 L3952.76 47.2441 L255.19 47.2441  Z\" fill=\"#ffffff\" fill-rule=\"evenodd\" fill-opacity=\"1\"/>\n",
       "<defs>\n",
       "  <clipPath id=\"clip382\">\n",
       "    <rect x=\"255\" y=\"47\" width=\"3699\" height=\"672\"/>\n",
       "  </clipPath>\n",
       "</defs>\n",
       "<polyline clip-path=\"url(#clip382)\" style=\"stroke:#000000; stroke-linecap:round; stroke-linejoin:round; stroke-width:2; stroke-opacity:0.1; fill:none\" points=\"288.649,718.64 288.649,47.2441 \"/>\n",
       "<polyline clip-path=\"url(#clip382)\" style=\"stroke:#000000; stroke-linecap:round; stroke-linejoin:round; stroke-width:2; stroke-opacity:0.1; fill:none\" points=\"1000.54,718.64 1000.54,47.2441 \"/>\n",
       "<polyline clip-path=\"url(#clip382)\" style=\"stroke:#000000; stroke-linecap:round; stroke-linejoin:round; stroke-width:2; stroke-opacity:0.1; fill:none\" points=\"1712.43,718.64 1712.43,47.2441 \"/>\n",
       "<polyline clip-path=\"url(#clip382)\" style=\"stroke:#000000; stroke-linecap:round; stroke-linejoin:round; stroke-width:2; stroke-opacity:0.1; fill:none\" points=\"2424.32,718.64 2424.32,47.2441 \"/>\n",
       "<polyline clip-path=\"url(#clip382)\" style=\"stroke:#000000; stroke-linecap:round; stroke-linejoin:round; stroke-width:2; stroke-opacity:0.1; fill:none\" points=\"3136.22,718.64 3136.22,47.2441 \"/>\n",
       "<polyline clip-path=\"url(#clip382)\" style=\"stroke:#000000; stroke-linecap:round; stroke-linejoin:round; stroke-width:2; stroke-opacity:0.1; fill:none\" points=\"3848.11,718.64 3848.11,47.2441 \"/>\n",
       "<polyline clip-path=\"url(#clip380)\" style=\"stroke:#000000; stroke-linecap:round; stroke-linejoin:round; stroke-width:4; stroke-opacity:1; fill:none\" points=\"255.19,718.64 3952.76,718.64 \"/>\n",
       "<polyline clip-path=\"url(#clip380)\" style=\"stroke:#000000; stroke-linecap:round; stroke-linejoin:round; stroke-width:4; stroke-opacity:1; fill:none\" points=\"288.649,718.64 288.649,699.742 \"/>\n",
       "<polyline clip-path=\"url(#clip380)\" style=\"stroke:#000000; stroke-linecap:round; stroke-linejoin:round; stroke-width:4; stroke-opacity:1; fill:none\" points=\"1000.54,718.64 1000.54,699.742 \"/>\n",
       "<polyline clip-path=\"url(#clip380)\" style=\"stroke:#000000; stroke-linecap:round; stroke-linejoin:round; stroke-width:4; stroke-opacity:1; fill:none\" points=\"1712.43,718.64 1712.43,699.742 \"/>\n",
       "<polyline clip-path=\"url(#clip380)\" style=\"stroke:#000000; stroke-linecap:round; stroke-linejoin:round; stroke-width:4; stroke-opacity:1; fill:none\" points=\"2424.32,718.64 2424.32,699.742 \"/>\n",
       "<polyline clip-path=\"url(#clip380)\" style=\"stroke:#000000; stroke-linecap:round; stroke-linejoin:round; stroke-width:4; stroke-opacity:1; fill:none\" points=\"3136.22,718.64 3136.22,699.742 \"/>\n",
       "<polyline clip-path=\"url(#clip380)\" style=\"stroke:#000000; stroke-linecap:round; stroke-linejoin:round; stroke-width:4; stroke-opacity:1; fill:none\" points=\"3848.11,718.64 3848.11,699.742 \"/>\n",
       "<path clip-path=\"url(#clip380)\" d=\"M288.649 762.359 Q285.038 762.359 283.21 765.923 Q281.404 769.465 281.404 776.595 Q281.404 783.701 283.21 787.266 Q285.038 790.807 288.649 790.807 Q292.284 790.807 294.089 787.266 Q295.918 783.701 295.918 776.595 Q295.918 769.465 294.089 765.923 Q292.284 762.359 288.649 762.359 M288.649 758.655 Q294.459 758.655 297.515 763.261 Q300.594 767.845 300.594 776.595 Q300.594 785.321 297.515 789.928 Q294.459 794.511 288.649 794.511 Q282.839 794.511 279.76 789.928 Q276.705 785.321 276.705 776.595 Q276.705 767.845 279.76 763.261 Q282.839 758.655 288.649 758.655 Z\" fill=\"#000000\" fill-rule=\"nonzero\" fill-opacity=\"1\" /><path clip-path=\"url(#clip380)\" d=\"M975.229 789.905 L982.867 789.905 L982.867 763.539 L974.557 765.206 L974.557 760.947 L982.821 759.28 L987.497 759.28 L987.497 789.905 L995.136 789.905 L995.136 793.84 L975.229 793.84 L975.229 789.905 Z\" fill=\"#000000\" fill-rule=\"nonzero\" fill-opacity=\"1\" /><path clip-path=\"url(#clip380)\" d=\"M1014.58 762.359 Q1010.97 762.359 1009.14 765.923 Q1007.33 769.465 1007.33 776.595 Q1007.33 783.701 1009.14 787.266 Q1010.97 790.807 1014.58 790.807 Q1018.21 790.807 1020.02 787.266 Q1021.85 783.701 1021.85 776.595 Q1021.85 769.465 1020.02 765.923 Q1018.21 762.359 1014.58 762.359 M1014.58 758.655 Q1020.39 758.655 1023.45 763.261 Q1026.52 767.845 1026.52 776.595 Q1026.52 785.321 1023.45 789.928 Q1020.39 794.511 1014.58 794.511 Q1008.77 794.511 1005.69 789.928 Q1002.64 785.321 1002.64 776.595 Q1002.64 767.845 1005.69 763.261 Q1008.77 758.655 1014.58 758.655 Z\" fill=\"#000000\" fill-rule=\"nonzero\" fill-opacity=\"1\" /><path clip-path=\"url(#clip380)\" d=\"M1691.21 789.905 L1707.53 789.905 L1707.53 793.84 L1685.58 793.84 L1685.58 789.905 Q1688.24 787.15 1692.83 782.52 Q1697.43 777.868 1698.61 776.525 Q1700.86 774.002 1701.74 772.266 Q1702.64 770.507 1702.64 768.817 Q1702.64 766.062 1700.7 764.326 Q1698.78 762.59 1695.67 762.59 Q1693.47 762.59 1691.02 763.354 Q1688.59 764.118 1685.81 765.669 L1685.81 760.947 Q1688.64 759.812 1691.09 759.234 Q1693.54 758.655 1695.58 758.655 Q1700.95 758.655 1704.15 761.34 Q1707.34 764.025 1707.34 768.516 Q1707.34 770.646 1706.53 772.567 Q1705.74 774.465 1703.64 777.058 Q1703.06 777.729 1699.96 780.946 Q1696.85 784.141 1691.21 789.905 Z\" fill=\"#000000\" fill-rule=\"nonzero\" fill-opacity=\"1\" /><path clip-path=\"url(#clip380)\" d=\"M1727.34 762.359 Q1723.73 762.359 1721.9 765.923 Q1720.09 769.465 1720.09 776.595 Q1720.09 783.701 1721.9 787.266 Q1723.73 790.807 1727.34 790.807 Q1730.97 790.807 1732.78 787.266 Q1734.61 783.701 1734.61 776.595 Q1734.61 769.465 1732.78 765.923 Q1730.97 762.359 1727.34 762.359 M1727.34 758.655 Q1733.15 758.655 1736.21 763.261 Q1739.28 767.845 1739.28 776.595 Q1739.28 785.321 1736.21 789.928 Q1733.15 794.511 1727.34 794.511 Q1721.53 794.511 1718.45 789.928 Q1715.4 785.321 1715.4 776.595 Q1715.4 767.845 1718.45 763.261 Q1721.53 758.655 1727.34 758.655 Z\" fill=\"#000000\" fill-rule=\"nonzero\" fill-opacity=\"1\" /><path clip-path=\"url(#clip380)\" d=\"M2413.17 775.206 Q2416.52 775.923 2418.4 778.192 Q2420.3 780.46 2420.3 783.794 Q2420.3 788.909 2416.78 791.71 Q2413.26 794.511 2406.78 794.511 Q2404.6 794.511 2402.29 794.071 Q2400 793.655 2397.54 792.798 L2397.54 788.284 Q2399.49 789.419 2401.8 789.997 Q2404.12 790.576 2406.64 790.576 Q2411.04 790.576 2413.33 788.84 Q2415.64 787.104 2415.64 783.794 Q2415.64 780.738 2413.49 779.025 Q2411.36 777.289 2407.54 777.289 L2403.51 777.289 L2403.51 773.446 L2407.73 773.446 Q2411.18 773.446 2413.01 772.081 Q2414.83 770.692 2414.83 768.099 Q2414.83 765.437 2412.94 764.025 Q2411.06 762.59 2407.54 762.59 Q2405.62 762.59 2403.42 763.007 Q2401.22 763.423 2398.58 764.303 L2398.58 760.136 Q2401.25 759.396 2403.56 759.025 Q2405.9 758.655 2407.96 758.655 Q2413.28 758.655 2416.38 761.085 Q2419.49 763.493 2419.49 767.613 Q2419.49 770.484 2417.84 772.474 Q2416.2 774.442 2413.17 775.206 Z\" fill=\"#000000\" fill-rule=\"nonzero\" fill-opacity=\"1\" /><path clip-path=\"url(#clip380)\" d=\"M2439.16 762.359 Q2435.55 762.359 2433.72 765.923 Q2431.92 769.465 2431.92 776.595 Q2431.92 783.701 2433.72 787.266 Q2435.55 790.807 2439.16 790.807 Q2442.8 790.807 2444.6 787.266 Q2446.43 783.701 2446.43 776.595 Q2446.43 769.465 2444.6 765.923 Q2442.8 762.359 2439.16 762.359 M2439.16 758.655 Q2444.97 758.655 2448.03 763.261 Q2451.11 767.845 2451.11 776.595 Q2451.11 785.321 2448.03 789.928 Q2444.97 794.511 2439.16 794.511 Q2433.35 794.511 2430.27 789.928 Q2427.22 785.321 2427.22 776.595 Q2427.22 767.845 2430.27 763.261 Q2433.35 758.655 2439.16 758.655 Z\" fill=\"#000000\" fill-rule=\"nonzero\" fill-opacity=\"1\" /><path clip-path=\"url(#clip380)\" d=\"M3124.39 763.354 L3112.58 781.803 L3124.39 781.803 L3124.39 763.354 M3123.16 759.28 L3129.04 759.28 L3129.04 781.803 L3133.97 781.803 L3133.97 785.692 L3129.04 785.692 L3129.04 793.84 L3124.39 793.84 L3124.39 785.692 L3108.79 785.692 L3108.79 781.178 L3123.16 759.28 Z\" fill=\"#000000\" fill-rule=\"nonzero\" fill-opacity=\"1\" /><path clip-path=\"url(#clip380)\" d=\"M3151.7 762.359 Q3148.09 762.359 3146.26 765.923 Q3144.46 769.465 3144.46 776.595 Q3144.46 783.701 3146.26 787.266 Q3148.09 790.807 3151.7 790.807 Q3155.34 790.807 3157.14 787.266 Q3158.97 783.701 3158.97 776.595 Q3158.97 769.465 3157.14 765.923 Q3155.34 762.359 3151.7 762.359 M3151.7 758.655 Q3157.51 758.655 3160.57 763.261 Q3163.65 767.845 3163.65 776.595 Q3163.65 785.321 3160.57 789.928 Q3157.51 794.511 3151.7 794.511 Q3145.89 794.511 3142.81 789.928 Q3139.76 785.321 3139.76 776.595 Q3139.76 767.845 3142.81 763.261 Q3145.89 758.655 3151.7 758.655 Z\" fill=\"#000000\" fill-rule=\"nonzero\" fill-opacity=\"1\" /><path clip-path=\"url(#clip380)\" d=\"M3822.81 759.28 L3841.16 759.28 L3841.16 763.215 L3827.09 763.215 L3827.09 771.687 Q3828.11 771.34 3829.13 771.178 Q3830.14 770.993 3831.16 770.993 Q3836.95 770.993 3840.33 774.164 Q3843.71 777.335 3843.71 782.752 Q3843.71 788.331 3840.24 791.432 Q3836.77 794.511 3830.45 794.511 Q3828.27 794.511 3826 794.141 Q3823.76 793.77 3821.35 793.03 L3821.35 788.331 Q3823.43 789.465 3825.65 790.02 Q3827.88 790.576 3830.35 790.576 Q3834.36 790.576 3836.7 788.47 Q3839.03 786.363 3839.03 782.752 Q3839.03 779.141 3836.7 777.034 Q3834.36 774.928 3830.35 774.928 Q3828.48 774.928 3826.6 775.345 Q3824.75 775.761 3822.81 776.641 L3822.81 759.28 Z\" fill=\"#000000\" fill-rule=\"nonzero\" fill-opacity=\"1\" /><path clip-path=\"url(#clip380)\" d=\"M3862.92 762.359 Q3859.31 762.359 3857.48 765.923 Q3855.68 769.465 3855.68 776.595 Q3855.68 783.701 3857.48 787.266 Q3859.31 790.807 3862.92 790.807 Q3866.56 790.807 3868.36 787.266 Q3870.19 783.701 3870.19 776.595 Q3870.19 769.465 3868.36 765.923 Q3866.56 762.359 3862.92 762.359 M3862.92 758.655 Q3868.73 758.655 3871.79 763.261 Q3874.87 767.845 3874.87 776.595 Q3874.87 785.321 3871.79 789.928 Q3868.73 794.511 3862.92 794.511 Q3857.11 794.511 3854.03 789.928 Q3850.98 785.321 3850.98 776.595 Q3850.98 767.845 3854.03 763.261 Q3857.11 758.655 3862.92 758.655 Z\" fill=\"#000000\" fill-rule=\"nonzero\" fill-opacity=\"1\" /><polyline clip-path=\"url(#clip382)\" style=\"stroke:#000000; stroke-linecap:round; stroke-linejoin:round; stroke-width:2; stroke-opacity:0.1; fill:none\" points=\"255.19,635.948 3952.76,635.948 \"/>\n",
       "<polyline clip-path=\"url(#clip382)\" style=\"stroke:#000000; stroke-linecap:round; stroke-linejoin:round; stroke-width:2; stroke-opacity:0.1; fill:none\" points=\"255.19,528.957 3952.76,528.957 \"/>\n",
       "<polyline clip-path=\"url(#clip382)\" style=\"stroke:#000000; stroke-linecap:round; stroke-linejoin:round; stroke-width:2; stroke-opacity:0.1; fill:none\" points=\"255.19,421.966 3952.76,421.966 \"/>\n",
       "<polyline clip-path=\"url(#clip382)\" style=\"stroke:#000000; stroke-linecap:round; stroke-linejoin:round; stroke-width:2; stroke-opacity:0.1; fill:none\" points=\"255.19,314.975 3952.76,314.975 \"/>\n",
       "<polyline clip-path=\"url(#clip382)\" style=\"stroke:#000000; stroke-linecap:round; stroke-linejoin:round; stroke-width:2; stroke-opacity:0.1; fill:none\" points=\"255.19,207.984 3952.76,207.984 \"/>\n",
       "<polyline clip-path=\"url(#clip382)\" style=\"stroke:#000000; stroke-linecap:round; stroke-linejoin:round; stroke-width:2; stroke-opacity:0.1; fill:none\" points=\"255.19,100.993 3952.76,100.993 \"/>\n",
       "<polyline clip-path=\"url(#clip380)\" style=\"stroke:#000000; stroke-linecap:round; stroke-linejoin:round; stroke-width:4; stroke-opacity:1; fill:none\" points=\"255.19,718.64 255.19,47.2441 \"/>\n",
       "<polyline clip-path=\"url(#clip380)\" style=\"stroke:#000000; stroke-linecap:round; stroke-linejoin:round; stroke-width:4; stroke-opacity:1; fill:none\" points=\"255.19,635.948 274.088,635.948 \"/>\n",
       "<polyline clip-path=\"url(#clip380)\" style=\"stroke:#000000; stroke-linecap:round; stroke-linejoin:round; stroke-width:4; stroke-opacity:1; fill:none\" points=\"255.19,528.957 274.088,528.957 \"/>\n",
       "<polyline clip-path=\"url(#clip380)\" style=\"stroke:#000000; stroke-linecap:round; stroke-linejoin:round; stroke-width:4; stroke-opacity:1; fill:none\" points=\"255.19,421.966 274.088,421.966 \"/>\n",
       "<polyline clip-path=\"url(#clip380)\" style=\"stroke:#000000; stroke-linecap:round; stroke-linejoin:round; stroke-width:4; stroke-opacity:1; fill:none\" points=\"255.19,314.975 274.088,314.975 \"/>\n",
       "<polyline clip-path=\"url(#clip380)\" style=\"stroke:#000000; stroke-linecap:round; stroke-linejoin:round; stroke-width:4; stroke-opacity:1; fill:none\" points=\"255.19,207.984 274.088,207.984 \"/>\n",
       "<polyline clip-path=\"url(#clip380)\" style=\"stroke:#000000; stroke-linecap:round; stroke-linejoin:round; stroke-width:4; stroke-opacity:1; fill:none\" points=\"255.19,100.993 274.088,100.993 \"/>\n",
       "<path clip-path=\"url(#clip380)\" d=\"M42.9921 636.4 L72.6679 636.4 L72.6679 640.335 L42.9921 640.335 L42.9921 636.4 Z\" fill=\"#000000\" fill-rule=\"nonzero\" fill-opacity=\"1\" /><path clip-path=\"url(#clip380)\" d=\"M96.927 634.594 Q100.283 635.312 102.158 637.58 Q104.057 639.849 104.057 643.182 Q104.057 648.298 100.538 651.099 Q97.0196 653.9 90.5382 653.9 Q88.3623 653.9 86.0475 653.46 Q83.7558 653.043 81.3021 652.187 L81.3021 647.673 Q83.2465 648.807 85.5613 649.386 Q87.8761 649.965 90.3993 649.965 Q94.7974 649.965 97.0891 648.228 Q99.4039 646.492 99.4039 643.182 Q99.4039 640.127 97.2511 638.414 Q95.1215 636.678 91.3021 636.678 L87.2743 636.678 L87.2743 632.835 L91.4872 632.835 Q94.9363 632.835 96.765 631.469 Q98.5937 630.08 98.5937 627.488 Q98.5937 624.826 96.6955 623.414 Q94.8206 621.979 91.3021 621.979 Q89.3808 621.979 87.1817 622.395 Q84.9826 622.812 82.3438 623.692 L82.3438 619.525 Q85.0058 618.784 87.3206 618.414 Q89.6585 618.043 91.7187 618.043 Q97.0428 618.043 100.145 620.474 Q103.246 622.881 103.246 627.002 Q103.246 629.872 101.603 631.863 Q99.9594 633.83 96.927 634.594 Z\" fill=\"#000000\" fill-rule=\"nonzero\" fill-opacity=\"1\" /><path clip-path=\"url(#clip380)\" d=\"M122.922 636.817 Q119.589 636.817 117.668 638.599 Q115.77 640.381 115.77 643.506 Q115.77 646.631 117.668 648.414 Q119.589 650.196 122.922 650.196 Q126.256 650.196 128.177 648.414 Q130.098 646.608 130.098 643.506 Q130.098 640.381 128.177 638.599 Q126.279 636.817 122.922 636.817 M118.246 634.826 Q115.237 634.085 113.547 632.025 Q111.881 629.965 111.881 627.002 Q111.881 622.858 114.82 620.451 Q117.783 618.043 122.922 618.043 Q128.084 618.043 131.024 620.451 Q133.964 622.858 133.964 627.002 Q133.964 629.965 132.274 632.025 Q130.607 634.085 127.621 634.826 Q131.001 635.613 132.876 637.904 Q134.774 640.196 134.774 643.506 Q134.774 648.529 131.695 651.215 Q128.64 653.9 122.922 653.9 Q117.205 653.9 114.126 651.215 Q111.07 648.529 111.07 643.506 Q111.07 640.196 112.969 637.904 Q114.867 635.613 118.246 634.826 M116.533 627.442 Q116.533 630.127 118.2 631.631 Q119.89 633.136 122.922 633.136 Q125.931 633.136 127.621 631.631 Q129.334 630.127 129.334 627.442 Q129.334 624.756 127.621 623.252 Q125.931 621.747 122.922 621.747 Q119.89 621.747 118.2 623.252 Q116.533 624.756 116.533 627.442 Z\" fill=\"#000000\" fill-rule=\"nonzero\" fill-opacity=\"1\" /><path clip-path=\"url(#clip380)\" d=\"M155.931 622.743 L144.126 641.191 L155.931 641.191 L155.931 622.743 M154.704 618.668 L160.584 618.668 L160.584 641.191 L165.515 641.191 L165.515 645.08 L160.584 645.08 L160.584 653.228 L155.931 653.228 L155.931 645.08 L140.33 645.08 L140.33 640.566 L154.704 618.668 Z\" fill=\"#000000\" fill-rule=\"nonzero\" fill-opacity=\"1\" /><path clip-path=\"url(#clip380)\" d=\"M183.246 621.747 Q179.635 621.747 177.806 625.312 Q176.001 628.854 176.001 635.983 Q176.001 643.09 177.806 646.654 Q179.635 650.196 183.246 650.196 Q186.88 650.196 188.686 646.654 Q190.514 643.09 190.514 635.983 Q190.514 628.854 188.686 625.312 Q186.88 621.747 183.246 621.747 M183.246 618.043 Q189.056 618.043 192.112 622.65 Q195.19 627.233 195.19 635.983 Q195.19 644.71 192.112 649.316 Q189.056 653.9 183.246 653.9 Q177.436 653.9 174.357 649.316 Q171.302 644.71 171.302 635.983 Q171.302 627.233 174.357 622.65 Q177.436 618.043 183.246 618.043 Z\" fill=\"#000000\" fill-rule=\"nonzero\" fill-opacity=\"1\" /><path clip-path=\"url(#clip380)\" d=\"M42.9921 529.409 L72.6679 529.409 L72.6679 533.344 L42.9921 533.344 L42.9921 529.409 Z\" fill=\"#000000\" fill-rule=\"nonzero\" fill-opacity=\"1\" /><path clip-path=\"url(#clip380)\" d=\"M96.927 527.603 Q100.283 528.321 102.158 530.589 Q104.057 532.858 104.057 536.191 Q104.057 541.307 100.538 544.108 Q97.0196 546.909 90.5382 546.909 Q88.3623 546.909 86.0475 546.469 Q83.7558 546.052 81.3021 545.196 L81.3021 540.682 Q83.2465 541.816 85.5613 542.395 Q87.8761 542.973 90.3993 542.973 Q94.7974 542.973 97.0891 541.237 Q99.4039 539.501 99.4039 536.191 Q99.4039 533.136 97.2511 531.423 Q95.1215 529.686 91.3021 529.686 L87.2743 529.686 L87.2743 525.844 L91.4872 525.844 Q94.9363 525.844 96.765 524.478 Q98.5937 523.089 98.5937 520.497 Q98.5937 517.835 96.6955 516.423 Q94.8206 514.987 91.3021 514.987 Q89.3808 514.987 87.1817 515.404 Q84.9826 515.821 82.3438 516.7 L82.3438 512.534 Q85.0058 511.793 87.3206 511.423 Q89.6585 511.052 91.7187 511.052 Q97.0428 511.052 100.145 513.483 Q103.246 515.89 103.246 520.011 Q103.246 522.881 101.603 524.872 Q99.9594 526.839 96.927 527.603 Z\" fill=\"#000000\" fill-rule=\"nonzero\" fill-opacity=\"1\" /><path clip-path=\"url(#clip380)\" d=\"M122.922 529.825 Q119.589 529.825 117.668 531.608 Q115.77 533.39 115.77 536.515 Q115.77 539.64 117.668 541.423 Q119.589 543.205 122.922 543.205 Q126.256 543.205 128.177 541.423 Q130.098 539.617 130.098 536.515 Q130.098 533.39 128.177 531.608 Q126.279 529.825 122.922 529.825 M118.246 527.835 Q115.237 527.094 113.547 525.034 Q111.881 522.974 111.881 520.011 Q111.881 515.867 114.82 513.46 Q117.783 511.052 122.922 511.052 Q128.084 511.052 131.024 513.46 Q133.964 515.867 133.964 520.011 Q133.964 522.974 132.274 525.034 Q130.607 527.094 127.621 527.835 Q131.001 528.622 132.876 530.913 Q134.774 533.205 134.774 536.515 Q134.774 541.538 131.695 544.223 Q128.64 546.909 122.922 546.909 Q117.205 546.909 114.126 544.223 Q111.07 541.538 111.07 536.515 Q111.07 533.205 112.969 530.913 Q114.867 528.622 118.246 527.835 M116.533 520.45 Q116.533 523.136 118.2 524.64 Q119.89 526.145 122.922 526.145 Q125.931 526.145 127.621 524.64 Q129.334 523.136 129.334 520.45 Q129.334 517.765 127.621 516.261 Q125.931 514.756 122.922 514.756 Q119.89 514.756 118.2 516.261 Q116.533 517.765 116.533 520.45 Z\" fill=\"#000000\" fill-rule=\"nonzero\" fill-opacity=\"1\" /><path clip-path=\"url(#clip380)\" d=\"M157.251 527.603 Q160.607 528.321 162.482 530.589 Q164.38 532.858 164.38 536.191 Q164.38 541.307 160.862 544.108 Q157.343 546.909 150.862 546.909 Q148.686 546.909 146.371 546.469 Q144.08 546.052 141.626 545.196 L141.626 540.682 Q143.57 541.816 145.885 542.395 Q148.2 542.973 150.723 542.973 Q155.121 542.973 157.413 541.237 Q159.728 539.501 159.728 536.191 Q159.728 533.136 157.575 531.423 Q155.445 529.686 151.626 529.686 L147.598 529.686 L147.598 525.844 L151.811 525.844 Q155.26 525.844 157.089 524.478 Q158.917 523.089 158.917 520.497 Q158.917 517.835 157.019 516.423 Q155.144 514.987 151.626 514.987 Q149.705 514.987 147.505 515.404 Q145.306 515.821 142.668 516.7 L142.668 512.534 Q145.33 511.793 147.644 511.423 Q149.982 511.052 152.042 511.052 Q157.367 511.052 160.468 513.483 Q163.57 515.89 163.57 520.011 Q163.57 522.881 161.927 524.872 Q160.283 526.839 157.251 527.603 Z\" fill=\"#000000\" fill-rule=\"nonzero\" fill-opacity=\"1\" /><path clip-path=\"url(#clip380)\" d=\"M183.246 514.756 Q179.635 514.756 177.806 518.321 Q176.001 521.862 176.001 528.992 Q176.001 536.098 177.806 539.663 Q179.635 543.205 183.246 543.205 Q186.88 543.205 188.686 539.663 Q190.514 536.098 190.514 528.992 Q190.514 521.862 188.686 518.321 Q186.88 514.756 183.246 514.756 M183.246 511.052 Q189.056 511.052 192.112 515.659 Q195.19 520.242 195.19 528.992 Q195.19 537.719 192.112 542.325 Q189.056 546.909 183.246 546.909 Q177.436 546.909 174.357 542.325 Q171.302 537.719 171.302 528.992 Q171.302 520.242 174.357 515.659 Q177.436 511.052 183.246 511.052 Z\" fill=\"#000000\" fill-rule=\"nonzero\" fill-opacity=\"1\" /><path clip-path=\"url(#clip380)\" d=\"M42.9921 422.418 L72.6679 422.418 L72.6679 426.353 L42.9921 426.353 L42.9921 422.418 Z\" fill=\"#000000\" fill-rule=\"nonzero\" fill-opacity=\"1\" /><path clip-path=\"url(#clip380)\" d=\"M96.927 420.612 Q100.283 421.33 102.158 423.598 Q104.057 425.867 104.057 429.2 Q104.057 434.316 100.538 437.117 Q97.0196 439.918 90.5382 439.918 Q88.3623 439.918 86.0475 439.478 Q83.7558 439.061 81.3021 438.205 L81.3021 433.691 Q83.2465 434.825 85.5613 435.404 Q87.8761 435.982 90.3993 435.982 Q94.7974 435.982 97.0891 434.246 Q99.4039 432.51 99.4039 429.2 Q99.4039 426.144 97.2511 424.431 Q95.1215 422.695 91.3021 422.695 L87.2743 422.695 L87.2743 418.853 L91.4872 418.853 Q94.9363 418.853 96.765 417.487 Q98.5937 416.098 98.5937 413.506 Q98.5937 410.844 96.6955 409.432 Q94.8206 407.996 91.3021 407.996 Q89.3808 407.996 87.1817 408.413 Q84.9826 408.83 82.3438 409.709 L82.3438 405.543 Q85.0058 404.802 87.3206 404.432 Q89.6585 404.061 91.7187 404.061 Q97.0428 404.061 100.145 406.492 Q103.246 408.899 103.246 413.02 Q103.246 415.89 101.603 417.881 Q99.9594 419.848 96.927 420.612 Z\" fill=\"#000000\" fill-rule=\"nonzero\" fill-opacity=\"1\" /><path clip-path=\"url(#clip380)\" d=\"M122.922 422.834 Q119.589 422.834 117.668 424.617 Q115.77 426.399 115.77 429.524 Q115.77 432.649 117.668 434.431 Q119.589 436.214 122.922 436.214 Q126.256 436.214 128.177 434.431 Q130.098 432.626 130.098 429.524 Q130.098 426.399 128.177 424.617 Q126.279 422.834 122.922 422.834 M118.246 420.844 Q115.237 420.103 113.547 418.043 Q111.881 415.982 111.881 413.02 Q111.881 408.876 114.82 406.469 Q117.783 404.061 122.922 404.061 Q128.084 404.061 131.024 406.469 Q133.964 408.876 133.964 413.02 Q133.964 415.982 132.274 418.043 Q130.607 420.103 127.621 420.844 Q131.001 421.631 132.876 423.922 Q134.774 426.214 134.774 429.524 Q134.774 434.547 131.695 437.232 Q128.64 439.918 122.922 439.918 Q117.205 439.918 114.126 437.232 Q111.07 434.547 111.07 429.524 Q111.07 426.214 112.969 423.922 Q114.867 421.631 118.246 420.844 M116.533 413.459 Q116.533 416.144 118.2 417.649 Q119.89 419.154 122.922 419.154 Q125.931 419.154 127.621 417.649 Q129.334 416.144 129.334 413.459 Q129.334 410.774 127.621 409.27 Q125.931 407.765 122.922 407.765 Q119.89 407.765 118.2 409.27 Q116.533 410.774 116.533 413.459 Z\" fill=\"#000000\" fill-rule=\"nonzero\" fill-opacity=\"1\" /><path clip-path=\"url(#clip380)\" d=\"M147.112 435.311 L163.431 435.311 L163.431 439.246 L141.487 439.246 L141.487 435.311 Q144.149 432.556 148.732 427.927 Q153.339 423.274 154.519 421.931 Q156.765 419.408 157.644 417.672 Q158.547 415.913 158.547 414.223 Q158.547 411.469 156.603 409.732 Q154.681 407.996 151.58 407.996 Q149.38 407.996 146.927 408.76 Q144.496 409.524 141.718 411.075 L141.718 406.353 Q144.543 405.219 146.996 404.64 Q149.45 404.061 151.487 404.061 Q156.857 404.061 160.052 406.746 Q163.246 409.432 163.246 413.922 Q163.246 416.052 162.436 417.973 Q161.649 419.871 159.542 422.464 Q158.964 423.135 155.862 426.353 Q152.76 429.547 147.112 435.311 Z\" fill=\"#000000\" fill-rule=\"nonzero\" fill-opacity=\"1\" /><path clip-path=\"url(#clip380)\" d=\"M183.246 407.765 Q179.635 407.765 177.806 411.33 Q176.001 414.871 176.001 422.001 Q176.001 429.107 177.806 432.672 Q179.635 436.214 183.246 436.214 Q186.88 436.214 188.686 432.672 Q190.514 429.107 190.514 422.001 Q190.514 414.871 188.686 411.33 Q186.88 407.765 183.246 407.765 M183.246 404.061 Q189.056 404.061 192.112 408.668 Q195.19 413.251 195.19 422.001 Q195.19 430.728 192.112 435.334 Q189.056 439.918 183.246 439.918 Q177.436 439.918 174.357 435.334 Q171.302 430.728 171.302 422.001 Q171.302 413.251 174.357 408.668 Q177.436 404.061 183.246 404.061 Z\" fill=\"#000000\" fill-rule=\"nonzero\" fill-opacity=\"1\" /><path clip-path=\"url(#clip380)\" d=\"M42.9921 315.426 L72.6679 315.426 L72.6679 319.362 L42.9921 319.362 L42.9921 315.426 Z\" fill=\"#000000\" fill-rule=\"nonzero\" fill-opacity=\"1\" /><path clip-path=\"url(#clip380)\" d=\"M96.927 313.621 Q100.283 314.339 102.158 316.607 Q104.057 318.876 104.057 322.209 Q104.057 327.325 100.538 330.125 Q97.0196 332.926 90.5382 332.926 Q88.3623 332.926 86.0475 332.487 Q83.7558 332.07 81.3021 331.213 L81.3021 326.7 Q83.2465 327.834 85.5613 328.413 Q87.8761 328.991 90.3993 328.991 Q94.7974 328.991 97.0891 327.255 Q99.4039 325.519 99.4039 322.209 Q99.4039 319.153 97.2511 317.44 Q95.1215 315.704 91.3021 315.704 L87.2743 315.704 L87.2743 311.862 L91.4872 311.862 Q94.9363 311.862 96.765 310.496 Q98.5937 309.107 98.5937 306.514 Q98.5937 303.852 96.6955 302.44 Q94.8206 301.005 91.3021 301.005 Q89.3808 301.005 87.1817 301.422 Q84.9826 301.839 82.3438 302.718 L82.3438 298.552 Q85.0058 297.811 87.3206 297.44 Q89.6585 297.07 91.7187 297.07 Q97.0428 297.07 100.145 299.501 Q103.246 301.908 103.246 306.028 Q103.246 308.899 101.603 310.889 Q99.9594 312.857 96.927 313.621 Z\" fill=\"#000000\" fill-rule=\"nonzero\" fill-opacity=\"1\" /><path clip-path=\"url(#clip380)\" d=\"M122.922 315.843 Q119.589 315.843 117.668 317.626 Q115.77 319.408 115.77 322.533 Q115.77 325.658 117.668 327.44 Q119.589 329.223 122.922 329.223 Q126.256 329.223 128.177 327.44 Q130.098 325.635 130.098 322.533 Q130.098 319.408 128.177 317.626 Q126.279 315.843 122.922 315.843 M118.246 313.852 Q115.237 313.112 113.547 311.052 Q111.881 308.991 111.881 306.028 Q111.881 301.885 114.82 299.477 Q117.783 297.07 122.922 297.07 Q128.084 297.07 131.024 299.477 Q133.964 301.885 133.964 306.028 Q133.964 308.991 132.274 311.052 Q130.607 313.112 127.621 313.852 Q131.001 314.639 132.876 316.931 Q134.774 319.223 134.774 322.533 Q134.774 327.556 131.695 330.241 Q128.64 332.926 122.922 332.926 Q117.205 332.926 114.126 330.241 Q111.07 327.556 111.07 322.533 Q111.07 319.223 112.969 316.931 Q114.867 314.639 118.246 313.852 M116.533 306.468 Q116.533 309.153 118.2 310.658 Q119.89 312.163 122.922 312.163 Q125.931 312.163 127.621 310.658 Q129.334 309.153 129.334 306.468 Q129.334 303.783 127.621 302.278 Q125.931 300.774 122.922 300.774 Q119.89 300.774 118.2 302.278 Q116.533 303.783 116.533 306.468 Z\" fill=\"#000000\" fill-rule=\"nonzero\" fill-opacity=\"1\" /><path clip-path=\"url(#clip380)\" d=\"M143.894 328.32 L151.533 328.32 L151.533 301.954 L143.223 303.621 L143.223 299.362 L151.487 297.695 L156.163 297.695 L156.163 328.32 L163.802 328.32 L163.802 332.255 L143.894 332.255 L143.894 328.32 Z\" fill=\"#000000\" fill-rule=\"nonzero\" fill-opacity=\"1\" /><path clip-path=\"url(#clip380)\" d=\"M183.246 300.774 Q179.635 300.774 177.806 304.339 Q176.001 307.88 176.001 315.01 Q176.001 322.116 177.806 325.681 Q179.635 329.223 183.246 329.223 Q186.88 329.223 188.686 325.681 Q190.514 322.116 190.514 315.01 Q190.514 307.88 188.686 304.339 Q186.88 300.774 183.246 300.774 M183.246 297.07 Q189.056 297.07 192.112 301.677 Q195.19 306.26 195.19 315.01 Q195.19 323.737 192.112 328.343 Q189.056 332.926 183.246 332.926 Q177.436 332.926 174.357 328.343 Q171.302 323.737 171.302 315.01 Q171.302 306.26 174.357 301.677 Q177.436 297.07 183.246 297.07 Z\" fill=\"#000000\" fill-rule=\"nonzero\" fill-opacity=\"1\" /><path clip-path=\"url(#clip380)\" d=\"M42.9921 208.435 L72.6679 208.435 L72.6679 212.371 L42.9921 212.371 L42.9921 208.435 Z\" fill=\"#000000\" fill-rule=\"nonzero\" fill-opacity=\"1\" /><path clip-path=\"url(#clip380)\" d=\"M96.927 206.63 Q100.283 207.347 102.158 209.616 Q104.057 211.884 104.057 215.218 Q104.057 220.333 100.538 223.134 Q97.0196 225.935 90.5382 225.935 Q88.3623 225.935 86.0475 225.495 Q83.7558 225.079 81.3021 224.222 L81.3021 219.708 Q83.2465 220.843 85.5613 221.421 Q87.8761 222 90.3993 222 Q94.7974 222 97.0891 220.264 Q99.4039 218.528 99.4039 215.218 Q99.4039 212.162 97.2511 210.449 Q95.1215 208.713 91.3021 208.713 L87.2743 208.713 L87.2743 204.871 L91.4872 204.871 Q94.9363 204.871 96.765 203.505 Q98.5937 202.116 98.5937 199.523 Q98.5937 196.861 96.6955 195.449 Q94.8206 194.014 91.3021 194.014 Q89.3808 194.014 87.1817 194.431 Q84.9826 194.847 82.3438 195.727 L82.3438 191.56 Q85.0058 190.82 87.3206 190.449 Q89.6585 190.079 91.7187 190.079 Q97.0428 190.079 100.145 192.51 Q103.246 194.917 103.246 199.037 Q103.246 201.908 101.603 203.898 Q99.9594 205.866 96.927 206.63 Z\" fill=\"#000000\" fill-rule=\"nonzero\" fill-opacity=\"1\" /><path clip-path=\"url(#clip380)\" d=\"M122.922 208.852 Q119.589 208.852 117.668 210.634 Q115.77 212.417 115.77 215.542 Q115.77 218.667 117.668 220.449 Q119.589 222.232 122.922 222.232 Q126.256 222.232 128.177 220.449 Q130.098 218.644 130.098 215.542 Q130.098 212.417 128.177 210.634 Q126.279 208.852 122.922 208.852 M118.246 206.861 Q115.237 206.121 113.547 204.06 Q111.881 202 111.881 199.037 Q111.881 194.894 114.82 192.486 Q117.783 190.079 122.922 190.079 Q128.084 190.079 131.024 192.486 Q133.964 194.894 133.964 199.037 Q133.964 202 132.274 204.06 Q130.607 206.121 127.621 206.861 Q131.001 207.648 132.876 209.94 Q134.774 212.232 134.774 215.542 Q134.774 220.565 131.695 223.25 Q128.64 225.935 122.922 225.935 Q117.205 225.935 114.126 223.25 Q111.07 220.565 111.07 215.542 Q111.07 212.232 112.969 209.94 Q114.867 207.648 118.246 206.861 M116.533 199.477 Q116.533 202.162 118.2 203.667 Q119.89 205.171 122.922 205.171 Q125.931 205.171 127.621 203.667 Q129.334 202.162 129.334 199.477 Q129.334 196.792 127.621 195.287 Q125.931 193.783 122.922 193.783 Q119.89 193.783 118.2 195.287 Q116.533 196.792 116.533 199.477 Z\" fill=\"#000000\" fill-rule=\"nonzero\" fill-opacity=\"1\" /><path clip-path=\"url(#clip380)\" d=\"M153.084 193.783 Q149.473 193.783 147.644 197.347 Q145.839 200.889 145.839 208.019 Q145.839 215.125 147.644 218.69 Q149.473 222.232 153.084 222.232 Q156.718 222.232 158.524 218.69 Q160.353 215.125 160.353 208.019 Q160.353 200.889 158.524 197.347 Q156.718 193.783 153.084 193.783 M153.084 190.079 Q158.894 190.079 161.95 194.685 Q165.029 199.269 165.029 208.019 Q165.029 216.745 161.95 221.352 Q158.894 225.935 153.084 225.935 Q147.274 225.935 144.195 221.352 Q141.14 216.745 141.14 208.019 Q141.14 199.269 144.195 194.685 Q147.274 190.079 153.084 190.079 Z\" fill=\"#000000\" fill-rule=\"nonzero\" fill-opacity=\"1\" /><path clip-path=\"url(#clip380)\" d=\"M183.246 193.783 Q179.635 193.783 177.806 197.347 Q176.001 200.889 176.001 208.019 Q176.001 215.125 177.806 218.69 Q179.635 222.232 183.246 222.232 Q186.88 222.232 188.686 218.69 Q190.514 215.125 190.514 208.019 Q190.514 200.889 188.686 197.347 Q186.88 193.783 183.246 193.783 M183.246 190.079 Q189.056 190.079 192.112 194.685 Q195.19 199.269 195.19 208.019 Q195.19 216.745 192.112 221.352 Q189.056 225.935 183.246 225.935 Q177.436 225.935 174.357 221.352 Q171.302 216.745 171.302 208.019 Q171.302 199.269 174.357 194.685 Q177.436 190.079 183.246 190.079 Z\" fill=\"#000000\" fill-rule=\"nonzero\" fill-opacity=\"1\" /><path clip-path=\"url(#clip380)\" d=\"M42.9921 101.444 L72.6679 101.444 L72.6679 105.379 L42.9921 105.379 L42.9921 101.444 Z\" fill=\"#000000\" fill-rule=\"nonzero\" fill-opacity=\"1\" /><path clip-path=\"url(#clip380)\" d=\"M96.927 99.6387 Q100.283 100.356 102.158 102.625 Q104.057 104.893 104.057 108.227 Q104.057 113.342 100.538 116.143 Q97.0196 118.944 90.5382 118.944 Q88.3623 118.944 86.0475 118.504 Q83.7558 118.088 81.3021 117.231 L81.3021 112.717 Q83.2465 113.852 85.5613 114.43 Q87.8761 115.009 90.3993 115.009 Q94.7974 115.009 97.0891 113.273 Q99.4039 111.537 99.4039 108.227 Q99.4039 105.171 97.2511 103.458 Q95.1215 101.722 91.3021 101.722 L87.2743 101.722 L87.2743 97.8794 L91.4872 97.8794 Q94.9363 97.8794 96.765 96.5137 Q98.5937 95.1248 98.5937 92.5322 Q98.5937 89.8702 96.6955 88.4582 Q94.8206 87.023 91.3021 87.023 Q89.3808 87.023 87.1817 87.4397 Q84.9826 87.8563 82.3438 88.736 L82.3438 84.5693 Q85.0058 83.8286 87.3206 83.4582 Q89.6585 83.0879 91.7187 83.0879 Q97.0428 83.0879 100.145 85.5184 Q103.246 87.9258 103.246 92.0461 Q103.246 94.9165 101.603 96.9072 Q99.9594 98.8748 96.927 99.6387 Z\" fill=\"#000000\" fill-rule=\"nonzero\" fill-opacity=\"1\" /><path clip-path=\"url(#clip380)\" d=\"M111.742 83.7128 L133.964 83.7128 L133.964 85.7036 L121.418 118.273 L116.533 118.273 L128.339 87.648 L111.742 87.648 L111.742 83.7128 Z\" fill=\"#000000\" fill-rule=\"nonzero\" fill-opacity=\"1\" /><path clip-path=\"url(#clip380)\" d=\"M143.223 117.555 L143.223 113.296 Q144.982 114.129 146.788 114.569 Q148.593 115.009 150.33 115.009 Q154.959 115.009 157.39 111.907 Q159.843 108.782 160.191 102.44 Q158.848 104.43 156.788 105.495 Q154.728 106.56 152.228 106.56 Q147.042 106.56 144.01 103.435 Q141.001 100.287 141.001 94.847 Q141.001 89.523 144.149 86.3054 Q147.297 83.0879 152.529 83.0879 Q158.524 83.0879 161.672 87.6943 Q164.843 92.2776 164.843 101.028 Q164.843 109.199 160.954 114.083 Q157.089 118.944 150.538 118.944 Q148.779 118.944 146.973 118.597 Q145.168 118.25 143.223 117.555 M152.529 102.903 Q155.677 102.903 157.505 100.75 Q159.357 98.597 159.357 94.847 Q159.357 91.1202 157.505 88.9675 Q155.677 86.7915 152.529 86.7915 Q149.38 86.7915 147.529 88.9675 Q145.7 91.1202 145.7 94.847 Q145.7 98.597 147.529 100.75 Q149.38 102.903 152.529 102.903 Z\" fill=\"#000000\" fill-rule=\"nonzero\" fill-opacity=\"1\" /><path clip-path=\"url(#clip380)\" d=\"M183.246 86.7915 Q179.635 86.7915 177.806 90.3563 Q176.001 93.898 176.001 101.028 Q176.001 108.134 177.806 111.699 Q179.635 115.24 183.246 115.24 Q186.88 115.24 188.686 111.699 Q190.514 108.134 190.514 101.028 Q190.514 93.898 188.686 90.3563 Q186.88 86.7915 183.246 86.7915 M183.246 83.0879 Q189.056 83.0879 192.112 87.6943 Q195.19 92.2776 195.19 101.028 Q195.19 109.754 192.112 114.361 Q189.056 118.944 183.246 118.944 Q177.436 118.944 174.357 114.361 Q171.302 109.754 171.302 101.028 Q171.302 92.2776 174.357 87.6943 Q177.436 83.0879 183.246 83.0879 Z\" fill=\"#000000\" fill-rule=\"nonzero\" fill-opacity=\"1\" /><polyline clip-path=\"url(#clip382)\" style=\"stroke:#009af9; stroke-linecap:round; stroke-linejoin:round; stroke-width:4; stroke-opacity:1; fill:none\" points=\"359.838,699.638 431.028,699.638 502.217,699.638 573.406,699.638 644.595,418.177 715.784,176.147 786.973,176.147 858.163,176.147 929.352,176.147 1000.54,176.147 1071.73,139.527 1142.92,139.527 1214.11,139.527 1285.3,139.527 1356.49,139.527 1427.68,139.527 1498.87,139.527 1570.05,139.527 1641.24,139.527 1712.43,87.9382 1783.62,87.9382 1854.81,87.9382 1926,87.9382 1997.19,85.0107 2068.38,85.0107 2139.57,79.9306 2210.76,79.9306 2281.95,79.9306 2353.14,79.9306 2424.32,79.9306 2495.51,79.9306 2566.7,79.9306 2637.89,79.9306 2709.08,79.9306 2780.27,79.9306 2851.46,79.9306 2922.65,70.5862 2993.84,70.5862 3065.03,70.5862 3136.22,70.5862 3207.41,70.5862 3278.59,70.5862 3349.78,70.5862 3420.97,70.5862 3492.16,70.5862 3563.35,70.5862 3634.54,70.5862 3705.73,70.5862 3776.92,66.2459 3848.11,66.2459 \"/>\n",
       "<path clip-path=\"url(#clip380)\" d=\"M3407.32 696.26 L3829.5 696.26 L3829.5 592.58 L3407.32 592.58  Z\" fill=\"#ffffff\" fill-rule=\"evenodd\" fill-opacity=\"1\"/>\n",
       "<polyline clip-path=\"url(#clip380)\" style=\"stroke:#000000; stroke-linecap:round; stroke-linejoin:round; stroke-width:4; stroke-opacity:1; fill:none\" points=\"3407.32,696.26 3829.5,696.26 3829.5,592.58 3407.32,592.58 3407.32,696.26 \"/>\n",
       "<polyline clip-path=\"url(#clip380)\" style=\"stroke:#009af9; stroke-linecap:round; stroke-linejoin:round; stroke-width:4; stroke-opacity:1; fill:none\" points=\"3448.4,644.42 3694.91,644.42 \"/>\n",
       "<path clip-path=\"url(#clip380)\" d=\"M3749.83 664.107 Q3748.03 668.737 3746.31 670.149 Q3744.6 671.561 3741.73 671.561 L3738.33 671.561 L3738.33 667.996 L3740.83 667.996 Q3742.59 667.996 3743.56 667.163 Q3744.53 666.33 3745.71 663.228 L3746.48 661.283 L3735.99 635.774 L3740.5 635.774 L3748.61 656.052 L3756.71 635.774 L3761.22 635.774 L3749.83 664.107 Z\" fill=\"#000000\" fill-rule=\"nonzero\" fill-opacity=\"1\" /><path clip-path=\"url(#clip380)\" d=\"M3768.51 657.765 L3776.15 657.765 L3776.15 631.399 L3767.84 633.066 L3767.84 628.807 L3776.1 627.14 L3780.78 627.14 L3780.78 657.765 L3788.42 657.765 L3788.42 661.7 L3768.51 661.7 L3768.51 657.765 Z\" fill=\"#000000\" fill-rule=\"nonzero\" fill-opacity=\"1\" /></svg>\n"
      ]
     },
     "execution_count": 31,
     "metadata": {},
     "output_type": "execute_result"
    }
   ],
   "source": [
    "plot(scores, size = (1000, 200))"
   ]
  },
  {
   "cell_type": "markdown",
   "id": "d3c73f49-4b99-41a3-a1fc-bb1c7a9a704a",
   "metadata": {},
   "source": [
    "Alright this should look good. Try to reason about how often proposals are accepted by the step-wise changes in the loglikelihood scores over iterations.\n",
    "\n",
    "Now let's find out what our inferred scene looks like at the end of the procedure:"
   ]
  },
  {
   "cell_type": "code",
   "execution_count": 32,
   "id": "41f4ebc9-24f1-4377-beac-2e94513833c6",
   "metadata": {},
   "outputs": [
    {
     "data": {
      "text/html": [
       "<img src=\"data:image/jpeg;base64, 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\">"
      ],
      "text/plain": [
       "PyObject Bitmap[\n",
       "  pixel_format = rgb,\n",
       "  component_format = float32,\n",
       "  size = [64, 64],\n",
       "  srgb_gamma = 1,\n",
       "  struct = Struct<12>[\n",
       "    float32 R; // @0, gamma, premultiplied alpha\n",
       "    float32 G; // @4, gamma, premultiplied alpha\n",
       "    float32 B; // @8, gamma, premultiplied alpha\n",
       "  ],\n",
       "  data = [ 48 KiB of image data ]\n",
       "]"
      ]
     },
     "execution_count": 32,
     "metadata": {},
     "output_type": "execute_result"
    }
   ],
   "source": [
    "view_image(t)"
   ]
  },
  {
   "cell_type": "markdown",
   "id": "4bbc95b7-04e8-4faf-b8c7-51083c7b72b9",
   "metadata": {},
   "source": [
    "Compare the image that your model synthesized to what the observation was like from above. Did the inference procedure work reasonably well? Try changing the number of iterations. "
   ]
  },
  {
   "cell_type": "markdown",
   "id": "25975733-b6cd-4f3f-913c-fe59721c4ea6",
   "metadata": {},
   "source": [
    "## Taking stock:\n",
    "\n",
    "Notice what we have accomplished: The result of the inference procedure is not just a reconstructed image -- rather, it is a causal explanation that goes far beyond what was in the image: a 3D scene that we can re-light, re-pose, and manipulate. The result of inference"
   ]
  }
 ],
 "metadata": {
  "kernelspec": {
   "display_name": "Algorithms of the Mind (Julia) 1.9.2",
   "language": "julia",
   "name": "atom-jl-1.9"
  },
  "language_info": {
   "file_extension": ".jl",
   "mimetype": "application/julia",
   "name": "julia",
   "version": "1.9.2"
  },
  "widgets": {
   "application/vnd.jupyter.widget-state+json": {
    "state": {},
    "version_major": 2,
    "version_minor": 0
   }
  }
 },
 "nbformat": 4,
 "nbformat_minor": 5
}
