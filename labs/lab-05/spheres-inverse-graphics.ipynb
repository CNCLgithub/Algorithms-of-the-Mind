{
 "cells": [
  {
   "cell_type": "markdown",
   "id": "617e2da8-0eaa-44a5-abd8-5ea13b0c302b",
   "metadata": {},
   "source": [
    "# Inverse graphics using graphics-based generative models and MCMC\n",
    "\n",
    "We will start with installing the neccesary packages: mitsuba for differentiable rendering and numpy for numerical processing. \n",
    "\n",
    "We will install `mitsuba` and `numpy` using `Conda.jl`. The following snippet will create a local environment that will allow you to install things on the Apptainer container (and on your own computer). "
   ]
  },
  {
   "cell_type": "code",
   "execution_count": 1,
   "id": "96ab6073-9af4-472b-be29-f30bf3434e41",
   "metadata": {},
   "outputs": [
    {
     "name": "stderr",
     "output_type": "stream",
     "text": [
      "\u001b[32m\u001b[1m  Activating\u001b[22m\u001b[39m project at `~/Algorithms-of-the-Mind/labs/lab-05/psyc261`\n",
      "\u001b[32m\u001b[1m   Resolving\u001b[22m\u001b[39m package versions...\n",
      "\u001b[32m\u001b[1m  No Changes\u001b[22m\u001b[39m to `~/Algorithms-of-the-Mind/labs/lab-05/psyc261/Project.toml`\n",
      "\u001b[32m\u001b[1m  No Changes\u001b[22m\u001b[39m to `~/Algorithms-of-the-Mind/labs/lab-05/psyc261/Manifest.toml`\n",
      "\u001b[36m\u001b[1m[ \u001b[22m\u001b[39m\u001b[36m\u001b[1mInfo: \u001b[22m\u001b[39mRunning `conda install -y numpy` in root environment\n"
     ]
    },
    {
     "name": "stdout",
     "output_type": "stream",
     "text": [
      "Channels:\n",
      " - conda-forge\n",
      "Platform: linux-64\n",
      "Collecting package metadata (repodata.json): ...working... done\n",
      "Solving environment: ...working... done\n"
     ]
    },
    {
     "name": "stderr",
     "output_type": "stream",
     "text": [
      "\n",
      "\n",
      "==> WARNING: A newer version of conda exists. <==\n",
      "    current version: 25.7.0\n",
      "    latest version: 25.9.0\n",
      "\n",
      "Please update conda by running\n",
      "\n",
      "    $ conda update -n base -c conda-forge conda\n",
      "\n",
      "\n"
     ]
    },
    {
     "name": "stdout",
     "output_type": "stream",
     "text": [
      "\n",
      "# All requested packages already installed.\n",
      "\n"
     ]
    }
   ],
   "source": [
    "using Pkg\n",
    "Pkg.activate(\"psyc261\")\n",
    "Pkg.add(\"Conda\")\n",
    "using Conda\n",
    "Conda.add(\"numpy\")"
   ]
  },
  {
   "cell_type": "code",
   "execution_count": 2,
   "id": "5c3b25c7-c5c9-43b7-8c52-0651bb963714",
   "metadata": {},
   "outputs": [
    {
     "name": "stdout",
     "output_type": "stream",
     "text": [
      "Defaulting to user installation because normal site-packages is not writeable\n",
      "Requirement already satisfied: mitsuba in /home/psyc2610_iy42/.local/lib/python3.11/site-packages (3.7.1)\n",
      "Requirement already satisfied: drjit==1.2.0 in /home/psyc2610_iy42/.local/lib/python3.11/site-packages (from mitsuba) (1.2.0)\n"
     ]
    },
    {
     "data": {
      "text/plain": [
       "Process(`\u001b[4mpip\u001b[24m \u001b[4minstall\u001b[24m \u001b[4mmitsuba\u001b[24m`, ProcessExited(0))"
      ]
     },
     "execution_count": 2,
     "metadata": {},
     "output_type": "execute_result"
    }
   ],
   "source": [
    "# need this for installing mitsuba...\n",
    "\n",
    "run(`conda config --set pip_interop_enabled true`)\n",
    "run(`pip install mitsuba`)"
   ]
  },
  {
   "cell_type": "code",
   "execution_count": 3,
   "id": "554301fc-9839-450c-8f64-1b9724e65881",
   "metadata": {},
   "outputs": [
    {
     "name": "stderr",
     "output_type": "stream",
     "text": [
      "\u001b[32m\u001b[1m   Resolving\u001b[22m\u001b[39m package versions...\n",
      "\u001b[32m\u001b[1m  No Changes\u001b[22m\u001b[39m to `~/Algorithms-of-the-Mind/labs/lab-05/psyc261/Project.toml`\n",
      "\u001b[32m\u001b[1m  No Changes\u001b[22m\u001b[39m to `~/Algorithms-of-the-Mind/labs/lab-05/psyc261/Manifest.toml`\n"
     ]
    }
   ],
   "source": [
    "Pkg.add([\"Distributions\", \"ProgressMeter\", \"Gen\", \"Plots\", \"Parameters\", \"PyCall\"])"
   ]
  },
  {
   "cell_type": "code",
   "execution_count": 4,
   "id": "60d76e3d-993b-42e8-baa3-2567f78889a2",
   "metadata": {
    "scrolled": true
   },
   "outputs": [],
   "source": [
    "using Pkg\n",
    "using Distributions\n",
    "using ProgressMeter\n",
    "using Gen, Plots\n",
    "using Parameters\n",
    "using PyCall\n",
    "np = pyimport(\"numpy\")\n",
    ";"
   ]
  },
  {
   "cell_type": "markdown",
   "id": "24118f41-6ef3-49f6-9a55-b09f096524e0",
   "metadata": {},
   "source": [
    "# Part 0: The task\n",
    "\n",
    "The task in this lab is to build a probabilistic inverse graphics model: The model will go from a 2D image to a 3D scene inference (aka single-image 3D reconstruction). We will do so by inverting a graphics-based generative model of images.  "
   ]
  },
  {
   "cell_type": "markdown",
   "id": "19ea281e-790c-4204-8386-a4780f76e566",
   "metadata": {},
   "source": [
    "# Part 1: Compute graphics & `mitsuba`\n",
    "## Mini introduction to computer graphics\n",
    "\n",
    "Computer graphics are concerned with algorithmically tractable methods for representing 3D scenes (static or dynamic) and syntesizing realistic (or non-realistic) imagery based off of these scenes. Rendering is the process of synthesizing an image from a 3D (or a 2D) scene via a computer program. We will refer to such computer programs as *rendering engines*.\n",
    "\n",
    "<img src=\"./images/render.png\" alt=\"\" width=\"400\"/>\n",
    "\n",
    "In a rendering engine, a 3D scene is defined by 4 basic ingredients:\n",
    "\n",
    "1. Objects (e.g., 3D shapes and surfaces)\n",
    "2. Optical material properties (how the surface of an object is supposed to reflect light; e.g., glass-like, diffuse, opaque, transparent, shiny, etc.)\n",
    "3. Lights\n",
    "4. Sensors or camera\n",
    "\n",
    "This course is obviously not about developing rendering engines -- [see the relevant courses](https://courses.yale.edu/?keyword=computer%20graphics) offered by the Department of Computer Science and numerous resources online. Instead, we will use existing rendering engines, embedding them within probabilistic models.\n",
    "\n",
    "To create a 3D scene and generate an image, you need to provide the rendering engine (`mitsuba` in our case) with each of the four ingredients described earlier (objects, optical material properties, lights, and sensors/cameras).\n",
    "\n",
    "## Mini introduction to Mitsuba3\n",
    "\n",
    "The field of computer graphics has developed many algorithms for realistic image synthesis. At the highest level, rendering engines can be categorized into:\n",
    "1. real-time renderers (rasterization renderers, etc.), or\n",
    "2. physically-based renderers (ray-traced renderers, etc.).\n",
    "\n",
    "`mitsuba` is a **physically-based renderer**. This means that it sends \"rays\" from the camera out into the scene and tracks where and how they intersect light sources. These rays are then integrated to figure out what color to paint on each pixel in an image. (Here's an informative [tutorial on ray tracing](https://youtu.be/gsZiJeaMO48). _This is not relevant material for PSYC 261._)\n",
    "\n",
    "<img src=\"./images/raytracing.png\" alt=\"\" width=\"400\"/>\n",
    "\n",
    "Like other rendering engines, we need to input a scene to `mitsuba` (lights, optical materials, objects, sensory). This can be done using XML or a Python dictionary. We provide examples of both below. \n",
    "\n",
    "In this course, we chose to work with mitsuba3 because it is open source software, and has some exciting attributes (many of which we will not get into in this lab), notably, differentiable rendering capabilities. Additionally, in ongoing research in Ilker's lab, `mitsuba` has proven to be dependable for its numerical stability and customizability for probabilistic inference. \n",
    "\n",
    "Please see the [tutorials](https://www.youtube.com/watch?v=9Ja9buZx0Cs&list=PLI9y-85z_Po6da-pyTNGTns2n4fhpbLe5) and [documentation](https://mitsuba.readthedocs.io/en/stable/) on Mitsuba3's [official website](https://www.mitsuba-renderer.org/) for more. \n",
    "\n",
    "**Notice that `mitsuba` is a Python package**; to use it we rely on the `PyCall` package of Julia, which provides a native interface to python code. You can familiarize yourself with PyCall [here](https://github.com/JuliaPy/PyCall.jl#usage)."
   ]
  },
  {
   "cell_type": "markdown",
   "id": "3892fca1-5563-488d-a192-a1aae333d59f",
   "metadata": {},
   "source": [
    "# Part 2: Using `mitsuba`\n",
    "\n",
    "## Getting started with `mitsuba`\n",
    "\n",
    "In this tutorial, we will learn about how to load a scene and render it. Mitsuba3 gives a lot of fun flexibility, especially in terms of rendering. \n",
    "\n",
    "Before we start, let's execute our very first command with mitsuba3."
   ]
  },
  {
   "cell_type": "code",
   "execution_count": 5,
   "id": "07d15c1c-f4c3-405f-9d57-e11f8be50056",
   "metadata": {},
   "outputs": [
    {
     "data": {
      "text/plain": [
       "13-element Vector{String}:\n",
       " \"scalar_rgb\"\n",
       " \"scalar_spectral\"\n",
       " \"scalar_spectral_polarized\"\n",
       " \"llvm_ad_rgb\"\n",
       " \"llvm_ad_mono\"\n",
       " \"llvm_ad_mono_polarized\"\n",
       " \"llvm_ad_spectral\"\n",
       " \"llvm_ad_spectral_polarized\"\n",
       " \"cuda_ad_rgb\"\n",
       " \"cuda_ad_mono\"\n",
       " \"cuda_ad_mono_polarized\"\n",
       " \"cuda_ad_spectral\"\n",
       " \"cuda_ad_spectral_polarized\""
      ]
     },
     "execution_count": 5,
     "metadata": {},
     "output_type": "execute_result"
    }
   ],
   "source": [
    "# import mitsuba using pycall\n",
    "mi = pyimport(\"mitsuba\")\n",
    "\n",
    "# different rendering modes of mitsuba \n",
    "# for our purposes, we wish to highlight the differentiable vs. scalar modes\n",
    "mi.variants()"
   ]
  },
  {
   "cell_type": "markdown",
   "id": "00a5ba72-7c31-40b4-92f8-56da50c8f481",
   "metadata": {},
   "source": [
    "Now the output of this function `mi.variants()` tells us that mitsuba3 can render a scene in 4 different modes. We will be using the `scalar_rgb` mode in this lab, which will render a standard RGB image.\n",
    "\n",
    "To use `mitsuba`'s differentiable rendering functionality, we would need to be either `cuda_ad_rgb` or `llbm_ad_rgb` modes. This will not be explored in lab. Check the `mitsuba` documentation and tutorials for this advanced topic."
   ]
  },
  {
   "cell_type": "markdown",
   "id": "b54ade4d-f615-4fd4-9dae-382e80e6d8b9",
   "metadata": {},
   "source": [
    "### Loading and rendering a scene (objects, lights, materials, sensors) in `mitsuba`\n",
    "\n",
    "Here we will first set our mode of rendering to be `scalar_rgb`.\n",
    "\n",
    "Then, we will load a scene with with two cuboids in a room with differently colored walls. We will then render it.\n",
    "\n",
    "The scene description will be loaded from a python dictionary based on an example from the mitsuba3 gallery. Run this code and review its output to appreciate how it defines each of the four kinds of elements we are talking about: shapes, lights, optical materials (jargon name: BSDFs), and sensors.\n",
    "\n",
    "`OBJMesh` are the walls, `Sphere` is a shape; things like `SmoothDiffuse` are optical material properties; `emitter`s are lights; and `PerspectiveCamera` is the sensor. Notice how each entry has certain properties: For example an object needs to define where it is in the world (`to_world`) and its optical material property.\n",
    "\n",
    "You can also review `cbox-generic.xml` under this folder to again appreciate what goes into a scene."
   ]
  },
  {
   "cell_type": "code",
   "execution_count": 6,
   "id": "d4ebac51-6a81-42ad-9e3f-7445a3c07008",
   "metadata": {
    "scrolled": true
   },
   "outputs": [
    {
     "data": {
      "text/plain": [
       "PyObject Scene[\n",
       "  children = [\n",
       "    PathIntegrator[\n",
       "      max_depth = 6,\n",
       "      rr_depth = 5\n",
       "    ],\n",
       "    PerspectiveCamera[\n",
       "      x_fov = 39.3077,\n",
       "      near_clip = 0.001,\n",
       "      far_clip = 100,\n",
       "      film = HDRFilm[\n",
       "        size = [64, 64],\n",
       "        crop_size = [64, 64],\n",
       "        crop_offset = [0, 0],\n",
       "        sample_border = 0,\n",
       "        compensate = 0,\n",
       "        filter = TentFilter[radius=1.000000],\n",
       "        file_format = OpenEXR,\n",
       "        pixel_format = rgb,\n",
       "        component_format = float32,\n",
       "      ],\n",
       "      sampler = IndependentSampler[\n",
       "        base_seed = 0\n",
       "        sample_count = 16\n",
       "        samples_per_wavefront = 1\n",
       "        wavefront_size = 0\n",
       "      ],\n",
       "      resolution = [64, 64],\n",
       "      shutter_open = 0,\n",
       "      shutter_open_time = 0,\n",
       "      to_world = [[-1, 0, 0, 0],\n",
       "                  [0, 1, 0, 0],\n",
       "                  [0, 0, -1, 4],\n",
       "                  [0, 0, 0, 1]]\n",
       "    ],\n",
       "    SmoothDiffuse[\n",
       "      reflectance = SRGBReflectanceSpectrum[\n",
       "        value = [0.85, 0.85, 0.85]\n",
       "      ]\n",
       "    ],\n",
       "    TwoSided[\n",
       "      brdf[0] = SmoothDiffuse[\n",
       "        reflectance = SRGBReflectanceSpectrum[\n",
       "          value = [0.725, 0.71, 0.68]\n",
       "        ]\n",
       "      ],\n",
       "      brdf[1] = SmoothDiffuse[\n",
       "        reflectance = SRGBReflectanceSpectrum[\n",
       "          value = [0.725, 0.71, 0.68]\n",
       "        ]\n",
       "      ]\n",
       "    ],\n",
       "    SmoothDiffuse[\n",
       "      reflectance = SRGBReflectanceSpectrum[\n",
       "        value = [0.885809, 0.698859, 0.666422]\n",
       "      ]\n",
       "    ],\n",
       "    SmoothDiffuse[\n",
       "      reflectance = SRGBReflectanceSpectrum[\n",
       "        value = [0.105421, 0.37798, 0.076425]\n",
       "      ]\n",
       "    ],\n",
       "    SmoothDiffuse[\n",
       "      reflectance = SRGBReflectanceSpectrum[\n",
       "        value = [0.570068, 0.0430135, 0.0443706]\n",
       "      ]\n",
       "    ],\n",
       "    Sphere[\n",
       "      to_world = [[0.5, 0, 0, -0.3],\n",
       "                  [0, 0.5, 0, -0.5],\n",
       "                  [0, 0, 0.5, 0.2],\n",
       "                  [0, 0, 0, 1]],\n",
       "      center = [-0.3, -0.5, 0.2],\n",
       "      radius = 0.5,\n",
       "      surface_area = 3.14159,\n",
       "      bsdf = TwoSided[\n",
       "        brdf[0] = SmoothDiffuse[\n",
       "          reflectance = SRGBReflectanceSpectrum[\n",
       "            value = [0.725, 0.71, 0.68]\n",
       "          ]\n",
       "        ],\n",
       "        brdf[1] = SmoothDiffuse[\n",
       "          reflectance = SRGBReflectanceSpectrum[\n",
       "            value = [0.725, 0.71, 0.68]\n",
       "          ]\n",
       "        ]\n",
       "      ]\n",
       "    ],\n",
       "    Sphere[\n",
       "      to_world = [[0.5, 0, 0, 0.5],\n",
       "                  [0, 0.5, 0, -0.75],\n",
       "                  [0, 0, 0.5, -0.2],\n",
       "                  [0, 0, 0, 1]],\n",
       "      center = [0.5, -0.75, -0.2],\n",
       "      radius = 0.5,\n",
       "      surface_area = 3.14159,\n",
       "      bsdf = TwoSided[\n",
       "        brdf[0] = SmoothDiffuse[\n",
       "          reflectance = SRGBReflectanceSpectrum[\n",
       "            value = [0.725, 0.71, 0.68]\n",
       "          ]\n",
       "        ],\n",
       "        brdf[1] = SmoothDiffuse[\n",
       "          reflectance = SRGBReflectanceSpectrum[\n",
       "            value = [0.725, 0.71, 0.68]\n",
       "          ]\n",
       "        ]\n",
       "      ]\n",
       "    ],\n",
       "    OBJMesh[\n",
       "      name = \"cbox_redwall.obj\",\n",
       "      bbox = BoundingBox3f[\n",
       "        min = [1, -1, -1],\n",
       "        max = [1, 1, 1]\n",
       "      ],\n",
       "      vertex_count = 4,\n",
       "      vertices = [96 B of vertex data],\n",
       "      face_count = 2,\n",
       "      faces = [24 B of face data],\n",
       "      face_normals = 0\n",
       "    ],\n",
       "    OBJMesh[\n",
       "      name = \"cbox_greenwall.obj\",\n",
       "      bbox = BoundingBox3f[\n",
       "        min = [-1, -1, -1],\n",
       "        max = [-1, 1, 1]\n",
       "      ],\n",
       "      vertex_count = 4,\n",
       "      vertices = [96 B of vertex data],\n",
       "      face_count = 2,\n",
       "      faces = [24 B of face data],\n",
       "      face_normals = 0\n",
       "    ],\n",
       "    Mesh[\n",
       "      name = \"cbox_floor.obj + cbox_ceiling.obj + cbox_back.obj\",\n",
       "      bbox = BoundingBox3f[\n",
       "        min = [-1, -1, -1],\n",
       "        max = [1, 1, 1]\n",
       "      ],\n",
       "      vertex_count = 12,\n",
       "      vertices = [288 B of vertex data],\n",
       "      face_count = 6,\n",
       "      faces = [72 B of face data],\n",
       "      face_normals = 0\n",
       "    ],\n",
       "    Rectangle[\n",
       "      to_world = [[0.23, 0, 0, 0],\n",
       "                  [0, -8.30516e-09, -0.19, 0.99],\n",
       "                  [0, 0.19, -8.30516e-09, 0.01],\n",
       "                  [0, 0, 0, 1]],\n",
       "      frame = Frame[\n",
       "        s = [0.46, 0, 0],\n",
       "        t = [0, -1.66103e-08, 0.38],\n",
       "        n = [0, -1, -4.37114e-08]\n",
       "      ],\n",
       "      surface_area = 0.1748,\n",
       "      bsdf = SmoothDiffuse[\n",
       "        reflectance = SRGBReflectanceSpectrum[\n",
       "          value = [0.885809, 0.698859, 0.666422]\n",
       "        ]\n",
       "      ],\n",
       "      emitter = AreaLight[\n",
       "        radiance = SRGBReflectanceSpectrum[\n",
       "          value = [18.387, 13.9873, 6.75357]\n",
       "        ],\n",
       "        surface_area = 0.1748,\n",
       "        <no medium attached!>\n",
       "      ]\n",
       "    ]\n",
       "  ]\n",
       "]"
      ]
     },
     "execution_count": 6,
     "metadata": {},
     "output_type": "execute_result"
    }
   ],
   "source": [
    "mi.set_variant(\"scalar_rgb\")\n",
    "\n",
    "@pyinclude(\"./cbox-generic.py\")\n",
    "\n",
    "scene_d = py\"initialize_scene()\"o::PyObject\n",
    "\n",
    "# load the scene using the load_dict function\n",
    "scene::PyObject = @pycall mi.load_dict(scene_d)::PyObject"
   ]
  },
  {
   "cell_type": "markdown",
   "id": "d04485b4-6d51-4caa-ab3b-98fa84729498",
   "metadata": {},
   "source": [
    "Recall that we mentioned `mitsuba` is a physically-based renderer that estimates the color of each pixel using ray tracing. Ray-tracing is a computationally costly operation and `mitsuba` allows you to make a tradeoff that suits your goals. \n",
    "\n",
    "The parameter `spp`, which stands for samples per pixel and is input to the `mi.render` function below, is essentially the number of rays cast to compute the color per pixel. The choice of spp reflects a tradeoff: The greater the `spp`, the higher the quality and realism of our render is, with the expense of higher computational cost. You can reduce `spp` to obtain lower quality renders, which is often acceptable, especially for characterizing an approximate process of rendering that may be implemented in the mind and brain. (Regardless, this will be handy when we are doing probabilistic inference later on.) "
   ]
  },
  {
   "cell_type": "code",
   "execution_count": 7,
   "id": "48486f93-c71e-49d0-9df5-d17d08d07efd",
   "metadata": {},
   "outputs": [
    {
     "data": {
      "text/html": [
       "<img src=\"data:image/jpeg;base64, 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\">"
      ],
      "text/plain": [
       "PyObject Bitmap[\n",
       "  pixel_format = rgb,\n",
       "  component_format = float32,\n",
       "  size = [64, 64],\n",
       "  srgb_gamma = 1,\n",
       "  struct = Struct<12>[\n",
       "    float32 R; // @0, gamma, premultiplied alpha\n",
       "    float32 G; // @4, gamma, premultiplied alpha\n",
       "    float32 B; // @8, gamma, premultiplied alpha\n",
       "  ],\n",
       "  data = [ 48 KiB of image data ]\n",
       "]"
      ]
     },
     "execution_count": 7,
     "metadata": {},
     "output_type": "execute_result"
    }
   ],
   "source": [
    "# set spp to 12 -- play with different values\n",
    "spp = 128\n",
    "\n",
    "# render the scene\n",
    "image = @pycall mi.render(scene, spp=spp)::PyObject\n",
    "# get the bitmap, which Jupyter notebook displays inline!\n",
    "bitmap = @pycall mi.Bitmap(image).convert(srgb_gamma=true)::PyObject"
   ]
  },
  {
   "cell_type": "markdown",
   "id": "94fc0eb3-d5a6-4acd-b9d0-54e60cc7131f",
   "metadata": {},
   "source": [
    "Wow! How cool is that?! You just rendered a nice scene with umm spheres in it. Yay for you! "
   ]
  },
  {
   "cell_type": "markdown",
   "id": "a7999828-d966-42d9-bc2e-a14099f33cd2",
   "metadata": {},
   "source": [
    "### Transformations of scene elements using `mitsuba`\n",
    "\n",
    "Now a critical component of computer graphics is to manipulate the scene -- including adding, deleting, changing, moving (translating) and scaling the things in a scene. Here we will learn how we can translate and scale one of the cuboids in the scene. \n",
    "\n",
    "There are multiple ways in which one can transform the scene elements. See this mitsuba3 [tutorial](https://mitsuba.readthedocs.io/en/stable/src/rendering/editing_a_scene.html) for an approach we will not use in this lab.\n",
    "\n",
    "The approach we will take is to update the dictionary that contains the scene configuration -- `scene_d` using mitsuba3's [transformation library](https://mitsuba.readthedocs.io/en/stable/src/how_to_guides/transformation_toolbox.html#Transform). \n",
    "\n",
    "We will transform the sphere on the right -- `right-object`. \n",
    "\n",
    "Let's first see the entry for `right-object` in `scene_d` dictionary."
   ]
  },
  {
   "cell_type": "code",
   "execution_count": 8,
   "id": "81563dd2-7ca1-4c6d-bc89-a12a1084e78f",
   "metadata": {},
   "outputs": [
    {
     "name": "stdout",
     "output_type": "stream",
     "text": [
      "Dict{Any, Any}(\"to_world\" => PyObject Transform[\n",
      "  matrix=[[0.5, 0, 0, 0.5],\n",
      "          [0, 0.5, 0, -0.75],\n",
      "          [0, 0, 0.5, -0.2],\n",
      "          [0, 0, 0, 1]],\n",
      "  inverse_transpose=[[2, 0, 0, 0],\n",
      "                     [0, 2, 0, 0],\n",
      "                     [0, 0, 2, 0],\n",
      "                     [-1, 1.5, 0.4, 1]]\n",
      "], \"rightobject-bsdf\" => Dict{Any, Any}(\"id\" => \"color-sphere\", \"type\" => \"ref\"), \"type\" => \"sphere\")\n"
     ]
    }
   ],
   "source": [
    "println(get(scene_d, \"right-object\", true))"
   ]
  },
  {
   "cell_type": "markdown",
   "id": "5428afd4-5eca-45de-a1c4-a8a57a626bdd",
   "metadata": {},
   "source": [
    "The PyObject which is a 4x4 quantity is a combined transformation consisting of the size of the object and where it is. \n",
    "\n",
    "Scale: `[[0.5, 0, 0], [0, 0.5, 0], [0.0, 0, 0.5]]`\n",
    "\n",
    "Translation: `[0.5, -0.75, -0.2]`\n",
    "\n",
    "Let's assign a new size and modify the z-coordinate of its location."
   ]
  },
  {
   "cell_type": "code",
   "execution_count": 9,
   "id": "3c805a57-4dfe-42eb-8563-2d45968c2a2b",
   "metadata": {},
   "outputs": [
    {
     "data": {
      "text/plain": [
       "PyObject {'to_world': Transform[\n",
       "  matrix=[[0.25, 0, 0, 0.5],\n",
       "          [0, 0.25, 0, -0.75],\n",
       "          [0, 0, 0.25, 0.7],\n",
       "          [0, 0, 0, 1]],\n",
       "  inverse_transpose=[[4, 0, 0, 0],\n",
       "                     [0, 4, 0, 0],\n",
       "                     [0, 0, 4, 0],\n",
       "                     [-2, 3, -2.8, 1]]\n",
       "], 'rightobject-bsdf': {'id': 'color-sphere', 'type': 'ref'}, 'type': 'sphere'}"
      ]
     },
     "execution_count": 9,
     "metadata": {},
     "output_type": "execute_result"
    }
   ],
   "source": [
    "object = \"right-object\"\n",
    "# create a new transformation\n",
    "translation = [0.5, -0.75, 0.7]\n",
    "scale = 0.25 # we will make it a cube\n",
    "\n",
    "# now create the transformation using mi's transformation toolbox\n",
    "tranformation = @pycall mi.Transform4f.translate(translation).scale(scale)::PyObject\n",
    "object_dict = PyObject(get(scene_d, object))\n",
    "set!(object_dict, \"to_world\", tranformation)\n",
    "set!(scene_d, object, object_dict)"
   ]
  },
  {
   "cell_type": "markdown",
   "id": "68b3e13a-ec1c-46f8-94ed-98cff80ee0c1",
   "metadata": {},
   "source": [
    "Now let's reload this updated dictionary into our scene and render it."
   ]
  },
  {
   "cell_type": "code",
   "execution_count": 10,
   "id": "810826f7-188e-4dcb-8cbf-2f2f296d2f44",
   "metadata": {},
   "outputs": [
    {
     "data": {
      "text/html": [
       "<img src=\"data:image/jpeg;base64, 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\">"
      ],
      "text/plain": [
       "PyObject Bitmap[\n",
       "  pixel_format = rgb,\n",
       "  component_format = float32,\n",
       "  size = [64, 64],\n",
       "  srgb_gamma = 1,\n",
       "  struct = Struct<12>[\n",
       "    float32 R; // @0, gamma, premultiplied alpha\n",
       "    float32 G; // @4, gamma, premultiplied alpha\n",
       "    float32 B; // @8, gamma, premultiplied alpha\n",
       "  ],\n",
       "  data = [ 48 KiB of image data ]\n",
       "]"
      ]
     },
     "execution_count": 10,
     "metadata": {},
     "output_type": "execute_result"
    }
   ],
   "source": [
    "# load the scene using the load_dict function\n",
    "scene = @pycall mi.load_dict(scene_d)::PyObject\n",
    "image = @pycall mi.render(scene, spp=spp)::PyObject\n",
    "# get the bitmap, which Jupyter notebook displays inline!\n",
    "bitmap = @pycall mi.Bitmap(image).convert(srgb_gamma=true)::PyObject"
   ]
  },
  {
   "cell_type": "markdown",
   "id": "e3854443-b948-4814-96b1-d9b588436052",
   "metadata": {},
   "source": [
    "Notice how the right object became smaller than it was before and came closer to the sensor."
   ]
  },
  {
   "cell_type": "markdown",
   "id": "d6ef6624-39d2-44f5-bf07-bf75ca67643b",
   "metadata": {},
   "source": [
    "Okay now let's do some *inverse* graphics."
   ]
  },
  {
   "cell_type": "markdown",
   "id": "170af268-4b85-4ead-9578-f91355704c2e",
   "metadata": {},
   "source": [
    "# Part 3: Inverse graphics & modeling\n",
    "\n",
    "## Inverse graphics"
   ]
  },
  {
   "cell_type": "markdown",
   "id": "1396d743-b53c-435f-826b-7b7f66fb5222",
   "metadata": {},
   "source": [
    "We start by writing a Julia struct to hold the state of the scene -- including the scene parameters (`scene_d`), the `mitsuba` scene (`scene`), and the `spp`."
   ]
  },
  {
   "cell_type": "code",
   "execution_count": 11,
   "id": "25fb0aa4-2416-4461-8e62-5c3ebe92a3cd",
   "metadata": {},
   "outputs": [],
   "source": [
    "# the with_kw macro comes from the Parameters package \n",
    "# and is a handy macro for having default values to certain entries in a Julia struct.\n",
    "@with_kw struct ModelParams\n",
    "    scene_d::PyDict\n",
    "    scene::PyObject = @pycall mi.load_dict(scene_d)::PyObject\n",
    "    spp::Int32 = 16\n",
    "end;"
   ]
  },
  {
   "cell_type": "markdown",
   "id": "ea24647d-ea7e-421a-8b49-34446c5d923f",
   "metadata": {},
   "source": [
    "As further setup, let's also include the python file (included in this folder) that contains the scene configuration we will work with."
   ]
  },
  {
   "cell_type": "code",
   "execution_count": 12,
   "id": "da03861f-aadb-43f7-bc60-3bee8ef9567b",
   "metadata": {},
   "outputs": [],
   "source": [
    "mi = pyimport(\"mitsuba\")\n",
    "mi.set_variant(\"scalar_rgb\")\n",
    "@pyinclude(\"./cbox-generic.py\")"
   ]
  },
  {
   "cell_type": "markdown",
   "id": "54a549fa-082b-4bf8-ac90-ce7a8a22a385",
   "metadata": {},
   "source": [
    "We will also define helper functions for \n",
    "\n",
    "* transformations (moving and scaling objects)\n",
    "* rendering"
   ]
  },
  {
   "cell_type": "code",
   "execution_count": 13,
   "id": "3e9ecf4e-40b8-4280-a9e0-fc0878aaf3a5",
   "metadata": {},
   "outputs": [],
   "source": [
    "function transform!(scene_d, object, scale, translation)\n",
    "    transformation = @pycall mi.Transform4f.translate(translation).scale(scale)::PyObject\n",
    "    object_dict = PyObject(get(scene_d, object))\n",
    "    set!(object_dict, \"to_world\", transformation)\n",
    "    set!(scene_d, object, object_dict)\n",
    "    return scene_d\n",
    "end\n",
    "\n",
    "function render_bitmap(modelparams)\n",
    "    image = @pycall mi.render(modelparams.scene, spp=modelparams.spp)::PyObject\n",
    "    bitmap = @pycall mi.Bitmap(image).convert(srgb_gamma=true)::PyObject\n",
    "    return bitmap\n",
    "end\n",
    "\n",
    "function render(modelparams)\n",
    "    bitmap = render_bitmap(modelparams)\n",
    "    mu = @pycall np.array(bitmap)::Array{Float32, 3}\n",
    "    return mu[:, :, 1]\n",
    "end\n",
    ";"
   ]
  },
  {
   "cell_type": "markdown",
   "id": "d072ba00-8d7b-43a0-9819-0918855d3fc1",
   "metadata": {},
   "source": [
    "### Generative model\n",
    "\n",
    "Now we will proceed with writing our generative model. \n",
    "\n",
    "The generative model will define a distribution over *images* parametrized by a scene configuration, a renderer, and the size of the objects in it. \n",
    "\n",
    "To keep things pedagogically tractable, the generative model will make a few assumptions. The generative model will assume that there are two objects in the scene -- two spheres (otherwise, the scene configuration will be the same room as above) --, the knowledge of where these spheres are, and the knowledge of the viewpoint (where the sensor is). Notice that you can relax each of these assumptions with appropriate prior distributions! \n",
    "\n",
    "The generative model will define priors over the sizes of the spheres. \n",
    "\n",
    "And the generative model will define a gaussian likelihood function (a la Erdogan & Jacobs, 2017) over images. \n",
    "\n",
    "The generative model will use a much cheaper rendering protocol by setting `spp=16` (instead of 128, which is what we will use to render the observation). This will mimick the default scenario where the internal representation can get by with much coarser processes than reality."
   ]
  },
  {
   "cell_type": "code",
   "execution_count": 14,
   "id": "91dc271c-c7cd-4fbc-b528-52beb4a5f5f8",
   "metadata": {},
   "outputs": [],
   "source": [
    "@gen function room()\n",
    "\n",
    "    # load the scene configuration, including a room with colored walls, two spheres, lights, materials, and a sensor\n",
    "    scene_d = py\"initialize_scene()\"o::PyObject\n",
    "    \n",
    "    # prior over the scale of the left sphere\n",
    "    s_left ~ uniform(0.1, 1.0)\n",
    "    # we assume we know a priori where this sphere will appear in the scene\n",
    "    t_left = [-0.3, -0.5, 0.2]\n",
    "    # transform the object in the scene according to this scale and translation parameters\n",
    "    transform!(scene_d, \"left-object\", s_left, t_left)\n",
    "    \n",
    "    # prior over the scale of the right sphere\n",
    "    s_right ~ uniform(0.1, 1.0)\n",
    "    # we assume we know a priori where this sphere will appear in the scene\n",
    "    t_right = [0.5, -0.75, -0.2] \n",
    "    # transform the object in the scene according to this scale and translation parameters\n",
    "    transform!(scene_d, \"right-object\", s_right, t_right)\n",
    "\n",
    "    # load the resulting scene into our struct\n",
    "    # Notice that we are using a much cheaper spp for inference\n",
    "    modelparams = ModelParams(scene_d=scene_d, spp=16)\n",
    "\n",
    "    # render into an array\n",
    "    mu = render(modelparams)\n",
    "\n",
    "    # define the likelihood as a gaussian with diagonal covariance\n",
    "    pred ~ broadcasted_normal(mu, 1.0)\n",
    "\n",
    "end\n",
    ";"
   ]
  },
  {
   "cell_type": "markdown",
   "id": "baebaec1-8ddf-480f-af95-2d45a1e11362",
   "metadata": {},
   "source": [
    "We define a helper function `view_image` to render and visualize scenes using mitsuba3"
   ]
  },
  {
   "cell_type": "code",
   "execution_count": 15,
   "id": "9a5edcba-2b4d-4955-8332-48dfc1b25c9e",
   "metadata": {},
   "outputs": [],
   "source": [
    "function view_image(t)\n",
    "    scene_d = py\"initialize_scene()\"o::PyObject\n",
    "    t_left = [-0.3, -0.5, 0.2]\n",
    "    transform!(scene_d, \"left-object\", t[:s_left], t_left)\n",
    "    \n",
    "    t_right = [0.5, -0.75, -0.2] \n",
    "    transform!(scene_d, \"right-object\", t[:s_right], t_right)\n",
    "    #scene = mi.load_dict(scene_d)\n",
    "    scene_to_render = ModelParams(scene_d=scene_d)\n",
    "    bitmap = render_bitmap(scene_to_render)\n",
    "end\n",
    ";"
   ]
  },
  {
   "cell_type": "markdown",
   "id": "dbc5cf49-d89c-438d-8695-192cee8195f1",
   "metadata": {},
   "source": [
    "Now we are ready to draw a sample from this generative model and visualize"
   ]
  },
  {
   "cell_type": "code",
   "execution_count": 16,
   "id": "7fe20834-7aee-40a8-bb01-9f03164cce56",
   "metadata": {
    "scrolled": true
   },
   "outputs": [
    {
     "data": {
      "text/plain": [
       "│\n",
       "├── :s_left : 0.989101263930576\n",
       "│\n",
       "├── :pred : [-0.9974813639976495 0.400119193841645 0.676986565564953 2.481351657437276 -1.062562505560783 -1.2376286412438389 0.9784302743882554 -0.8206335602289123 -0.5636848940824994 -1.5969896748257015 -0.9772101208935914 0.3600260458017178 0.3454055174986038 -0.36538418141028123 0.7171393886896582 -1.1924187950231746 3.1157557675540604 1.167881077356976 -0.3727236957484679 0.6971638443305709 1.0831842869182788 -1.677914195911715 1.24692162765237 1.4308592353064418 0.03213165160652762 -2.7153755444636127 0.8810938019971674 -0.12934890875060023 0.335473980978466 1.7998754517272595 0.8356262431110426 1.7711281092718696 0.18363685918111372 -1.8601394660232984 -2.678641403438977 0.9144754187074396 -0.3284855691611524 0.3473579924637422 -1.413804300760768 -1.5027803058433917 -0.8734054010527007 0.6761177774441777 0.7912549155980034 1.7701101464271658 -0.5313571655356537 -0.4746041249610113 -1.1022497170148542 0.6212504214424043 -0.6064888852633219 -0.17569555240441165 -0.1678310669352135 0.1247242817413917 -0.5059473198354961 -0.9714846294908129 0.515538782024272 0.4900921791157494 1.78441740440086 -0.8792466185680333 0.3491591499306697 1.180079906702733 0.3885450742150824 -1.7608774460193175 0.13833041607841245 -1.0765264736129947; -0.937230024761247 0.06573067066816932 1.8535593553389673 1.9091440542924252 0.18164316212641277 -0.8112342655785193 0.4946893127995281 -0.503290232764079 0.6838162106061931 1.021302901325847 -1.517523649316122 -0.5353922693808593 -0.13949430586173583 0.2963091037422906 -0.7005841610668133 2.440176148685361 0.08942705846271264 0.31867693712706285 -0.23746646183675518 1.6667897719128222 -0.10935447849288502 0.5014751487204892 -1.871347386733638 -0.33475400212414297 0.5931907567738778 -0.21190031018778271 0.4290097614042559 -0.29599484635990275 0.3773395493007146 -0.2517375377601214 -0.4260097061498366 0.9608598459752621 -0.9642331820546988 -2.124978978932244 -1.7101927827165 0.7111448940334235 0.11148603992322433 1.5426614518970934 0.3348988402438329 0.27057565394081007 -1.9495111206466245 -0.3735576988493429 -1.3114656991926965 1.6640118946202984 -0.890671511487936 0.9385731335616684 -0.6906645752230948 1.568301391761092 0.8904282391355623 -0.9877531118764487 -0.005177027782653304 1.6297696352070616 -0.10843959964328184 0.6632198661314662 -0.08039238872083079 -0.12124900124481455 -0.15419226365107597 -0.3016592702525957 1.4787427288049577 -0.6101617752918572 -1.2916124796096462 -0.45293525146227576 1.769022105604249 0.8273834582848799; 0.4834907191429493 -1.5677417186713192 -0.9845249488248249 -0.9957274618099556 -0.5683602418112735 0.06898359295024947 -0.3150810714132065 0.3352021402618859 -1.5631737159352654 0.39538859043959607 0.3159775922766579 0.152751534250283 1.60426161591657 -0.26956764462084315 -0.005215840849583764 -0.2768047861967379 1.1825838414855934 0.07666839931147484 1.5173333688461754 0.05569470262088266 -1.5326972007740576 0.8358756902032164 -0.23020319105725817 0.01632943002325854 0.7101274643967241 0.45972229608110327 -0.44030721840080933 0.26590225838658194 -0.30984575402629855 0.06463247866845839 0.5085468517189846 0.8622023581582086 -0.5065331744055459 0.986656789634962 -0.24311266130107945 2.254344490224031 -1.353792834232122 1.4266037597539087 -0.027050006537051308 0.9458860553449644 0.10142953542136046 -0.5648271028964074 1.9048031667514846 0.3326238068193818 -1.1048425473573218 0.6533207157457473 -0.2660203873979574 -2.342558071730223 -2.156981169951651 0.880932592942918 0.1432504818950821 1.15373412642857 -0.5421301726826331 -0.19751366738711817 0.5606981798046843 1.2812373283238279 -0.9950528592638692 1.6008946689864498 1.4745483528090355 0.3968799012425168 -1.6391147569355928 -0.4440282745606977 -0.10419266438284246 1.966740155738661; 0.12894337809609746 -0.5039161100044137 1.476498839696983 -0.2519014583538143 -0.24427832514988979 0.3880325022371521 -0.5199604153449567 0.8402296141054922 0.7602640475701887 0.7858620660803097 0.3924506558526215 0.48832252335186555 1.345145585977085 -1.6820901044690748 0.827429241068658 2.301971185824553 2.2799342209877778 0.5013085300446701 1.432773988007166 0.5401607217577727 0.23054275879882985 -0.017816219325243132 -0.19038218569466503 -0.19070639965011138 -0.0033798228887940707 -0.7764320038987997 -0.5618096994446908 0.04267601167616858 -0.981433473646014 0.3915189353857789 0.34990930630546835 0.14241772408309084 0.7465642796687119 -0.29079566538919066 -0.9166752489787249 1.107205256829082 1.3597818478516976 2.067492186733019 1.0633876350066371 -0.3223151113173809 -0.15958778129409146 1.005273443710953 1.5093794752219591 1.648684052089173 1.0126899713054338 0.39464899910513285 -2.6195110147755885 1.5766856294731937 0.9863192550255249 1.1065735272183717 0.30709852624330103 -0.9291569568203228 -0.14653852885631852 1.8774816247272599 -0.0479013874946691 0.5940458140350326 -1.0908870599415073 1.1616692625505882 1.4341868840448269 0.03266080542364819 0.328269103132554 1.0755362774494128 0.4662785235943261 1.240859637042993; -0.34762833921446223 -1.466460403589032 0.8708593258957269 -1.0598560115229165 0.6355793946388019 1.5162400445877189 -0.2808013313415104 1.7232365028504504 0.6160305316952323 0.8413086956211808 0.844806640547249 0.6577060462330155 0.8965143321168159 -0.8687946807158278 -0.012715098560633908 -0.4789179131034358 -0.7144839532908844 -0.9733624135502361 0.6046647456632094 0.5163472198764156 0.4214291468175073 -0.7414617470973659 -0.22395228486321084 0.7128738384845554 -1.660392180114016 0.2891751198476201 1.2685022872174776 1.5621394306546992 0.8186603128910285 -0.0030361811881203793 -0.9047819878919381 1.373185986909537 1.1718958179461607 0.09052651527989802 0.6903479917588987 -0.0746956593137671 0.9791330633679536 1.4066451601907342 0.8922389456917179 -0.3986321437909923 0.06737791827195849 -0.6531728436106174 0.5701986284301768 -0.7646694974180386 1.6045304507116063 -0.2657654463184671 0.46764625480280786 0.3198660310015577 0.702711698339521 0.2961636737494221 1.949837147467883 0.3046143218543462 0.6919818211498222 -0.7739057745810793 -0.08268924591971283 1.1985658722432397 -0.5867606232449243 1.1766166646111267 2.1821564745117508 0.9562409823160598 1.1838603197644217 1.5731132568268622 -0.7434618651103383 0.38580803872811376; -1.530089461278699 -0.8285116707330212 0.3800598344826642 0.17754625442914673 -0.20058229640442088 0.9987726521579455 -0.4620762637624478 -0.6726672344091025 -1.179874848733639 0.21262601561953112 1.1070709164352257 1.3989153932763974 0.7912885380485307 0.30392415384018917 -0.23972422933514348 0.2876703424644189 -0.6122301233542276 1.7942165749740415 -0.17136512579907492 1.445447525098594 1.0707937136179724 1.2325768538547957 0.6150043715757993 0.17043342330289973 0.45428467325980953 -0.20113499618995467 0.19021810778273307 0.26081958091876967 0.01765267833216666 2.0166366218516316 2.1416910791507204 0.15689336796756354 -0.22820541620190304 0.3564892797719321 0.18240357283938036 1.5901700045417937 2.567933088564267 1.3239392340756673 2.4737446441895616 1.7313152413609654 -1.4865394150362419 -1.053423533212621 2.3248842821776043 0.07059043808436855 0.02738811765984389 -0.6383971532151105 0.7661521559702306 -0.7919342568692822 2.1382160902520364 0.43881472575774605 -0.519531583530749 0.5552485233965357 1.7942500590397241 1.3003763434718287 1.214086807241981 1.0724763258007537 -0.2408069825683805 -1.656649315087427 -0.9046151517786112 -0.026196687557622056 -1.5145605592665912 0.20605041669142665 0.22320584269038912 -0.23200948262354038; -1.2855896658053572 -1.0673254991008683 0.8231970064623617 -0.685041801057486 0.4445455209699817 -0.9184955919876581 1.3791236611134683 1.0824413950181933 1.5463759037404696 0.799900015612675 0.8194568283111361 0.9541039544324382 -0.02665505512782429 1.9633583196525188 0.28461800711351914 -0.6415086353480441 1.3368144580147996 -0.5809467348850512 1.8319188584507622 -0.2057366220947756 2.56421086584274 0.29579116552206036 0.40192890018874416 0.49143127475475124 0.7053719190247996 0.7510463710342563 0.8740320659994782 0.6991691942791831 1.5658050654363478 1.6191098652176432 0.9120600118076723 1.788010655360081 1.0411574319943597 1.328661806102108 0.3970810169989281 -0.14640333337521183 1.530903210247002 1.2663298225992738 2.6033013206389413 -0.05994361052799313 1.77473365071392 0.5691201579523825 -0.22909402677404522 2.993278066392427 0.9188288943933387 0.9768585877516834 2.4376464502212034 0.5831604928907466 -0.33224412611095255 -0.8438536848774683 0.6662459834615067 -2.1764510498649314 -0.874874421109213 1.3738504647550145 1.871943750241899 1.9882862851297387 0.5593581557812949 1.8684723236980958 0.31706521509645474 -0.5349118359802223 -0.33421854544237894 -0.5370014549101018 -1.4511329118975853 -0.769515813095604; -0.9775206372312293 0.30377696468809706 -0.4384649009227616 0.7822360442723767 0.6135712478216313 -0.13859050310304616 -0.4105172015122003 1.2089097122559926 0.29392833240164407 1.0288770424785105 -0.49835554837908724 -0.10945866466656518 0.6054914163557105 0.6830822935082619 0.6600113432325537 -0.018957641035939665 -0.23279029031431497 0.19403952397638935 1.0894477229134598 -0.005144534075112728 1.2957820624767662 0.10160328437513388 -0.10041969996143085 0.9235696220266163 -0.10197157228999998 0.9486508404175127 2.0438098270004885 1.182761380271764 0.6224782292621783 -0.34769960620759977 0.6784643952704092 1.290855242973352 0.725030310759875 0.6975554620282667 1.595164365438444 -1.0777318041419879 0.6020050749537691 0.11757440865496305 0.9159435772119382 0.6586183234504509 0.39252117464458836 0.645197078338567 -0.9117355945093839 1.562572971429292 1.2257519938649515 1.8281940666462535 -2.336079217825743 0.6389460806265891 -1.326995931350927 0.24879195160048523 0.6250019714397747 -0.21796332169226995 0.5511311942447632 -0.2852996464673274 0.6503927601693111 -0.4779868310735367 -0.32598622808358435 0.48753934547996836 2.418318423017032 -0.052245205000869765 -0.9592254053631095 0.92061349414102 -2.048879261072674 0.13628550657849992; 1.5303473149341447 -0.27422813477122493 -0.4961578590950634 0.07016561055720213 0.4981762595830116 1.9679611164564703 0.2726285344723299 1.877748834316851 -0.5588206617864868 -0.04050301631984299 0.8690033100879588 1.1100189045754782 0.7009519775593751 0.13834353160414903 -0.14895836477011448 0.30728789507069687 0.15006710463048856 1.280413265899481 -1.491330782524631 -1.955014502572289 1.3350741330760907 1.030778467772063 1.673608151999269 1.1132899040139417 -0.22078178332686382 1.5958841344522052 2.5916392439635674 2.6884542749678717 2.27703295908427 3.3269503042268367 2.078920729035478 2.3880554155873366 1.2456312287344211 1.6343745062972834 1.6792878282880381 3.087301888337924 3.0592732255314017 3.238572468345999 -0.6756741176892025 1.199468305072748 0.23342169203400642 -0.35540975725378565 -0.18845307668524247 1.4992061003660448 -1.0827093461892459 -0.7745023326594882 0.15546708097865897 0.28493327548259784 -0.19298282898733887 3.5085328590249003 1.2055127673524924 -1.1253718439408809 1.9465402059214048 0.5163857929627169 0.32286352218002456 0.707423454553756 0.1691003841926333 1.2764820062534779 0.9394246526432013 -0.07444764378589286 -0.08393850308465467 0.43395639720392576 -0.48392930370663967 -0.7167736616865975; 0.15745273404110394 -0.6848649039491272 1.358567143616795 -0.9717159968135654 0.6284436787548573 -0.4146049368890865 1.0296827862342464 -0.7892095334453391 -0.6059271750562811 -0.771514506073272 -0.09818712453620115 -0.307108858697999 1.0116262878454567 0.2713591179383056 -0.6297949197673178 0.9254798102264808 1.0697916517212582 1.1919955650000305 1.8046909143228207 1.2985232766687982 1.1071645757476603 0.13457878626258413 -0.0935303472460779 0.5916646968494019 1.1397551460951014 1.58143344560599 2.762635568481675 4.274463131906287 3.742347902878976 2.722041176927058 3.458459384132772 2.7863782697241204 4.124136671229109 3.412033246248524 1.4988311846986797 3.8416171904187104 4.060036900067422 1.6679173006776917 0.3325128359782101 0.6259899767551855 0.19637780392375043 0.28804582021837477 -0.4316896583782619 1.0654101266401679 0.4656337528163639 -0.1620427396828834 0.5727636912739733 1.6618059379948966 1.7658272355855729 0.7012797330811289 -0.5819949424771144 -0.6478729987176568 1.2040645406389785 0.6904699812057764 1.5948337878823626 1.5316980108447498 -0.6785235578970845 -0.6543809565192027 0.4780708634385862 0.1208046857561022 -0.4339088580576238 2.718932732849211 2.192585007361243 1.3802033527678506; 0.11166852856585374 -0.5472278564782735 0.21769812400807348 1.292745476534535 -0.6611937914009968 -0.5280906726855336 -0.23037302821359568 -0.37385992815383096 0.6841492210094412 0.8356770284683962 -0.4596983408700688 0.42207851319152495 1.2093939305580963 -0.31921725419468283 1.0532565115116073 0.9868756829743891 1.631582515155994 0.806642655631397 1.6629063055439124 -0.34062192077983244 -0.47695096810907445 0.31924806333182837 1.6860785397350917 -1.2665521666648993 -1.527023196921196 0.5309124449988006 1.2394827640905879 2.234588825171579 3.0718137170921493 3.5011117505378864 2.9110231948524397 3.765545142395565 1.2099757887315004 2.579007491351306 3.441993391729946 4.310002059360733 5.067090254117515 2.1655981831598843 1.4586165568825005 2.721832740942104 1.2311997278834117 -0.44223001908638104 0.07823842014419236 1.2737761254345967 1.1378667817473773 0.4623499762216479 -0.4355877934355532 0.48093003191908607 1.1887279976738516 0.9225079963736591 1.7249458482324795 0.22771395188510274 -0.3028932792214085 2.0706543898371446 2.1887643757731947 1.12414765368263 0.6772410920890818 0.5239375795950019 0.00019475981753142024 1.4423682920539664 -0.07244440412573039 0.6648506875157908 1.0840198042945008 -0.22389210371781168; 0.38339030826927967 -0.212860835287275 0.7431657638833105 0.8364073505103554 -0.460391965591755 -1.0647592705866908 -0.01366571985012982 1.0348366242311577 0.7439179460006686 -2.124160168761972 -0.2770369425206885 0.7419209385203348 1.3156331632134775 1.6624331448153384 -0.25919614699187843 1.6858651376812823 2.073994315399504 3.324615829426224 -0.8188808984434748 3.1915564134332377 0.32949968461575785 1.0867549492951207 -0.5475217440000868 -1.2635095238952436 -0.6707263171364888 2.2145741338890157 -0.4207965739704469 -0.5755627331076358 1.709356316353738 2.5068156137814643 -0.019214295251103186 0.7251718918866197 2.004052888248414 2.1488436432532523 -0.07620363275836217 0.49794434543090454 1.7628692115735531 1.01146011609729 2.0113438869440934 0.6298957856581053 -1.5881914199898621 0.9202131339545822 2.0412107964811113 0.6359450441180113 0.41268263300380303 1.891173561661682 1.0340391064742094 1.091786338495961 -0.3776253462793877 0.21092176693263515 -0.45724524303072356 -0.4117469263688385 -0.17069828696286804 1.2417734036739496 1.978562728948127 0.47618725048912064 1.3390813855306154 2.49416685064606 -0.936005561294398 1.6886920556723841 0.4593619513933406 -0.8804392773035732 0.07513358265131806 0.6325392676967292; -0.7703369757297793 -0.7661664800085415 0.4062897538881863 0.838947342374914 -0.8002033604536832 1.1187013340263983 1.228035721820397 0.1777442955190739 -0.3696811055545234 -1.2561071156636214 1.960902381785395 -0.8940927932637699 1.1076465444595103 1.3947340380035964 1.7476379258844594 1.3246831285307015 0.4019767616526992 -0.06569623145224301 -0.2529084463653517 0.24992734975099065 0.8436888024029845 1.4991512330401777 1.5254307481006544 0.6671539921795493 1.8280759281298595 -0.3242263797381947 0.6374180564376825 3.0187006498340883 2.2669929651751035 -1.2361665061581553 2.3478662148469214 -1.3753715507438709 0.9216850888684146 0.9027553876846444 -1.672082712699734 0.21361163583164228 0.5050119396096237 1.5062300947793914 -0.6952540670246974 -0.5269425908212311 -0.26472590627740256 -1.178529960738492 -0.18874889397753059 0.3340703132647333 -0.030894512348714875 0.7144699763211294 -0.013100965026985822 1.3857356285708788 -0.3896585677268182 2.3912197901206436 1.0841101591653381 1.0727051136018104 1.7156537553977016 0.8215327202100919 -0.4939374410658741 1.051650781541103 0.49181847986119853 2.280837324939373 0.3782328464156287 0.7821950945027384 1.5139906304645405 1.319338921152105 1.5010280693342608 -0.45376084526914573; -0.5396043339041006 -0.576518062761117 0.7670288304283761 0.27511962471067886 0.59852764437529 -0.3991270342077673 1.6746742355913198 0.2563809530904209 0.2979079535617938 0.8587575954232686 -0.5340525226855437 0.49804294895010254 0.39712056432881254 -0.15128536314915908 -0.43672682727931844 2.663515158244817 1.519234017245936 0.12892532376587207 0.2551640560803571 0.22469794849104838 -0.845757103376771 0.3244437915809698 2.784943333563408 -0.2547723021941345 0.0555957686426129 0.2515296781282249 0.08336382353795302 0.40839696268308 1.8280272330767897 0.8225815164857594 1.941909988151559 -0.30492775503393976 0.12745499872174104 1.304480932826333 0.9725080065568124 1.9341696516178386 1.15329159413027 0.699180970257935 0.27368453025220174 1.5040187238209524 0.6928525815196045 1.6915950818488035 -0.4926364304716092 -0.256301042277444 -1.8806609668368726 0.9402427749877914 2.1773236387533155 1.8461536659708515 0.16244474835404168 -1.5903767749730915 0.8310962665810298 0.6745196156492856 1.075058980860096 0.2557617355974766 0.6609430248850553 0.166703283338052 -0.7700311471697505 1.488279150463927 -0.5362600567567624 -1.5183294029882817 0.6928939551632165 0.5252948074228742 -0.7599165248493243 0.5808729162887977; -1.1638982396523343 0.32643692244717015 -0.8660616608945624 -0.4364588427264037 -0.6495669720194005 0.19434367159093666 0.5580032853174914 -0.2476834825780974 1.1094600097246041 0.9210482254070571 0.06158432559250762 0.37725047910518283 -2.1535205103108077 0.6159387971061383 -0.42930757644314943 1.3319449324854296 1.4596186591283835 0.14348109999017156 0.27489683320657793 0.10775788984967727 1.0826298691535308 2.766444383985712 1.6677286614852977 2.9410080234797933 2.291948762261462 0.852965153289474 1.0167973163466921 -0.29300812409241017 -0.7753241114445237 0.4342336172966853 2.1489003333031533 -0.4153361277676192 0.5032550185576713 -0.1700352652724696 -1.1186800210079286 0.15942997218488092 -1.8193220448597978 -0.7064873885604446 1.4075177382080335 1.234240040606574 -0.023996111251730845 2.3662357665947593 -0.08811478144929485 0.4229159393857216 0.19659603867201586 0.163509779455898 0.5490791036077283 0.26786357831524865 3.052789643619604 0.2405391650603073 -0.5404095288973626 -1.2227431625474832 3.0431953696971465 1.4205665829598786 -0.6986257754058283 0.479521747008238 0.36603654247655587 1.4486098860907315 2.250105086931984 1.3885550017005834 1.5004194033951919 1.4877916653037764 1.9861315060739386 0.4398439914713031; 1.0339096088955535 -0.8958740430216728 1.0620834722255017 -0.3687629087932056 -0.0263261155398489 0.7498617333096358 -0.2739353078005685 -0.03579359903466672 1.07108529710061 -0.9646296762389976 -1.7438792462472448 1.2943487250402632 0.6725505746496688 1.4503289204832956 2.1730194161680223 0.5671663273809426 -0.26667640349083466 -0.2924593711284873 1.564536140596339 0.6350850663949221 -1.1127102907667867 2.611641797445749 1.3385632620953154 -0.14832131076406307 -0.13580943806855283 -0.5024297620832678 1.252920551593586 0.29725988182684215 0.09657442156684437 -0.6850873341815171 -0.059430143854184325 0.09437946227111477 1.8787347208919354 1.4244351543551501 2.666159100253166 -0.8731695441717753 0.3175513413640103 -0.24735643112697558 -0.43104283014197786 0.3169197370963945 0.9106236336769057 0.34399092649804064 0.35910398444707115 1.858984349237985 0.4358078601349042 0.7101982360601693 0.9924724605035449 0.256103275708351 0.2703501751293625 0.7785785562823596 0.19922091193285227 2.3607535703807394 -0.9831479636692482 -0.033134375632069446 -0.8022692868667833 0.8897540240017312 1.131688435970194 0.890256735380704 -0.18997014230765985 0.3844010553405771 0.7468956325674005 -0.7976192463892529 0.28387145114847867 -1.9157007095271175; -0.49920602524644464 0.8504654380157167 0.019237678675822725 0.2996459223929214 2.693966129760524 2.8347431194618906 0.05300685191703566 0.5542742900936304 0.3324801331604574 -0.41587813933912876 1.185715950138889 -0.1768333513244567 0.60854986530674 2.056460841117262 0.11193457078851918 1.333390138231833 0.7556047052552823 -0.3501538148034591 -0.08573634194957713 0.3913745528256603 1.1207949893857627 1.981956134051705 -0.3522545235414716 0.029838961461638946 0.28418912972206617 2.006005545232334 2.271059540331855 0.007719051222707107 1.2923661939031965 -0.1367441550223628 0.08409866296762991 1.0056963731021122 1.0693701426556663 2.8455145782055427 3.2365419603967003 1.1848726286187539 -0.143752521875524 0.17345760512398117 0.10688064668223268 0.4744651500188284 0.7854164433423493 -0.36526414000792073 0.824048208939374 -1.056839481496078 1.908998400509479 0.6232809490939081 0.757239429969634 2.6983401601121435 -0.022201845251989538 1.1478845014212786 0.6195729531076337 0.4929882034540607 0.5997128597732364 1.6769239258679338 1.352632566597122 0.99355103969497 0.7579597233778027 0.004057349634735585 0.9618194252520931 0.5636463715318127 1.8311339833646416 2.15058099485677 0.7641667963713641 0.6759284463297531; 0.05241881752010898 3.374083524452679 -0.8516949723471802 1.1818803431186033 0.541968956758915 0.33762187523931086 1.5294559537884695 0.9946527654090388 -0.594153087583962 0.2943640333849116 -0.835780603795627 0.6786512434839078 -0.5231831379449207 -0.13177364279000736 0.7674953873437023 1.1268777222852084 2.714625531469364 0.26016388200687457 0.3547392605701166 -0.21740874862950355 -0.25841527414781806 -0.5404494093271266 0.32484946899445283 0.4981670804333478 -0.010928652822721596 2.168468328237974 0.7100602203414614 0.19201460072385318 1.104406095468236 -1.1266479808387138 1.6981565854493004 0.413765234608509 -0.7784171577374879 0.7268418996454543 -0.29636707577184174 1.2577323564285565 0.08356142401431688 -0.8869954197416725 0.11433563488803766 1.4912845125401102 0.6803236434973451 2.0092062854389767 0.7571770205307004 0.4366113644691564 1.3272816989882639 2.6644017797388457 1.1158255048767995 1.2062290954056452 1.1293798308794454 0.6829677241894061 -1.8168240342001143 1.8602816163083251 1.2527057156271535 1.1413605946029868 0.5313892527430385 0.6138513079539223 1.4578081257103501 0.7591107211227907 0.5844710208944479 1.0150954753245593 0.9503280302018958 -0.24056823090408175 0.9370735632306489 -2.583812770336009; 1.849903582434609 -0.4528173595693837 1.2554187677714437 0.5070491135445435 -0.31952343188585774 1.0780564706260822 -0.4876209446722555 1.409270907682837 -0.4594953925615929 -1.1814424631028586 -1.2186310315269901 0.39708446363394645 -0.4699342700856882 0.574842048298117 1.405323695156332 0.5934657448409257 -1.040758333145063 1.1977159193132358 0.4796856097632726 1.3867787968140006 -0.5690833573884515 0.6213107649453931 0.2730839237884388 2.3362596586183555 -0.30572776172485927 2.4206346004525527 -0.8128231836521755 -0.23956234443129654 2.8833947715919654 0.19983759164148457 0.720274095416541 0.9966379225673228 0.9432550964397591 0.9010801812410452 0.37555684580741144 -0.6868675278025254 0.7789276751759501 0.41509404759530844 2.1138058768163566 1.4372337181767363 0.6280232836138828 1.6811654900752073 1.3905869530020483 1.6658918263040983 -1.367220050759623 -1.5258288308409744 0.9141538331689105 -0.12185574026976664 2.077449926258417 1.726666802138867 0.231284207057997 1.0787710485619781 0.8509147258756902 0.3198443240709678 -1.7551719922945703 1.7083142350322853 1.475997120030744 0.566368598908309 1.3546688684946901 0.3004738416074637 0.007344819612416675 0.06958837608417195 0.47243231918452816 -1.2861217379563423; -0.39183635440107356 1.18356614082445 1.128850853552521 -0.6999008084561237 0.8174969768975683 -0.42465188731064607 -0.019286770918922558 0.13976789538845813 3.108098126399141 -0.9811611661303714 0.6176824211306514 1.6318477593203242 -0.31101850488827243 -0.16235305027218006 -0.15253442109399407 0.07533232697129122 0.154975125967873 -0.3185745834098439 0.8945541184936854 -0.9312328154300875 0.23198844899025617 1.470382941569914 -1.4697884464024322 0.5843338501212177 0.47435299115194474 0.6632792606780465 2.2989788432793183 2.4232468216404053 2.4424483190896593 2.4866409613685834 0.6396179558655708 1.073138127565798 0.7816543823973717 -0.7955455220991894 -0.8673991656141224 0.10430483215098796 -0.8361191413627134 0.06775582430551719 0.732877266651079 0.6851649943502092 1.1403887797337664 -0.5924323006542569 -0.42833204231950406 -0.009067585908480114 -0.4360470733837598 0.14944150146896434 -0.09620811317805644 2.218933357311148 -0.40225612439470404 0.5796120623718779 -0.3446433441033814 -1.2655873397253898 -0.6680333348026462 -0.7802965095778429 2.365526828407557 0.2783767650715268 0.025311415014544147 0.3647669186477498 -0.46141786368906534 1.7527930721931566 -0.7261475010726666 0.7486100161064531 1.3115413667314422 -0.5928836123114104; 0.69757545242692 -0.44067488030064833 0.37242997247531195 -0.0863479516163769 1.6587732686028913 -1.374888264980913 -0.0984358338160381 0.5586573926443645 -1.9977182798020414 -0.6525813656046451 0.09300882613754405 0.9946368666983609 0.022151653404283794 -0.7553340348556046 0.9770029953065271 1.4397276346112478 -0.8105584201563556 -1.558318468472431 -0.06594188864429817 -1.3383700128667617 0.11993577693470658 1.1667528108189797 0.026641448923739763 -0.47536958616181924 1.3262492958136 1.5081992743973922 1.494946870029617 -0.45773772769322774 1.8285737807553628 1.3800639132167336 0.05291084915137123 1.781687836702234 0.9079401395868938 -0.18861726405757573 2.7002270193389135 0.7934562788337776 1.832327081824906 1.18825491024896 1.0573950621158865 2.2384430907425 0.24175351747279183 -0.6828665484963066 0.9461471463605547 0.27617573589337013 -0.1851504024650088 -0.7838886363591877 1.0679830501270984 -0.20190996854665488 1.8703171140826425 1.6186371368961585 1.2376176419262626 0.1363242641742436 0.8059145729122834 -0.49017115173893644 1.2073294775188748 -0.7575286658415772 2.088185860975295 0.9533145892217914 0.6543770821732507 0.7605790442151531 1.6990472051953547 -1.0679578340873632 -0.2873306828647984 -0.057105976072496525; 0.24433233394978948 -1.1540075613143332 -0.19791343192950073 0.275389725809737 -1.738554283508436 0.7178066449977998 -1.2138886463739302 -0.9304238080410974 0.020934648765864483 0.3288037164447249 0.35422595048941474 0.10499965587663446 -2.5225641447582405 -0.28957375581185063 0.9608364736322228 1.6882470714118323 0.44789345831012206 -0.6412732212828194 1.1766843909139766 -1.1897957152463545 0.6047004402597971 -0.24004617860133004 2.7520605892004917 0.9581687625895987 -0.3280755701442104 -0.8007490318522272 2.2868285203889602 0.3773554014095171 0.7701317245341608 0.2774959470139714 0.9458272106122887 -0.1877805325701909 0.1945004375234365 1.8466890501018118 0.9107358886143678 0.787074392443694 1.0177778836022977 0.8680033332178309 0.718631086764826 1.0518448300177463 2.2748467414805225 0.9840260661022969 -0.3993248466389665 1.7114521912363565 -0.9699966585989754 -0.2260492693708136 0.41350605959148934 0.7885250252185133 1.2573053555223108 1.7207112606884436 0.6244501373324083 -0.34526163457838854 0.04908321234636681 -0.3152323347937005 0.3333677890790938 0.7922657501711603 1.1304181323035176 0.9596790745011157 -0.510968546046713 0.7094287952666487 -1.2448174453548264 -0.7023590315918309 -0.8920078531932395 -0.008113630283848898; 0.5631717010770677 0.017865066073528772 0.4375508036156828 -1.3128550206486485 -0.06142527324041022 -0.7780832875662301 -1.3143452609072757 -0.35648960227106863 0.2510556537810839 0.7557472262312265 0.9624653368331211 -0.5462741650132357 2.164780736345742 0.9423528403695813 0.15733075984868394 -1.283594361758256 0.18692891483529317 -0.39237744953184095 1.697978348130943 0.903214181431494 -0.0581430151122212 -0.5946451575585776 -0.14005093093690457 -0.12722126254067423 -2.4928606698634987 0.3353098715099847 0.17974441532860047 -1.0813186523943064 0.7093228765488194 2.1987910429814344 -0.2716840801835406 0.48651854956336704 1.824442474808152 0.16025427604258835 1.4129044686765768 1.1067818326317866 0.2824296787221403 1.6100051846218932 0.41807742350277255 0.48733943794303086 0.8210217227480558 2.101692103205096 0.5647552016348784 1.6792476174625317 1.9854681695237157 -0.3616089093883714 -0.3598679373372061 -0.1878902422816514 0.8182754000098245 0.45848193531863696 2.764456728128135 -1.3123043662033143 -0.7488081797554289 1.710979742649491 -0.6798494262815749 -0.36142014069434125 1.0617559240549892 2.2100439358728665 -0.9544887473247345 1.884895721776231 -0.1903319081384376 1.4365170526101532 0.8341626660336958 1.571769850435601; 1.2491922657328203 -0.3708330883780039 1.0581415721600016 2.8136096071362506 0.5353507349078571 1.3799895628597472 0.8169427238594413 -0.07242634610769383 1.6221861077880932 1.2240898849785389 1.004223547894551 1.340091609449374 -1.227826226110875 -0.8925204156661506 0.6340372582972256 0.3800119505634431 1.9301789971441041 -0.08148902953454912 1.4571382877280035 1.0300518875304225 1.089382678215949 1.3281224185020066 0.2289318385785583 -0.612429217406272 0.032604515421834734 1.9062836471965436 1.0545328493021482 1.7427495972318163 -0.23968670587992102 0.015574232984751302 0.28138419020123157 0.5352911914598819 0.5443883287154235 0.17604841743447486 1.1165084025852097 1.7018528338387817 -0.15085501371250598 -0.4003628485068076 -1.728484547671279 1.2678374305350457 1.3012068302453939 1.7867736013822795 0.8095713484950834 0.48917202686574196 -0.4839946454917001 2.4085274632352878 0.21864050237189786 -0.37722863022920716 -0.32826585895545835 0.3983479885481532 0.286426991812853 -0.2501782090349851 0.9408055428442104 1.187071186671452 0.982204211507367 0.20578566201017756 0.9090287612432313 0.8317555993186446 0.5953511722977977 0.6368685060566549 0.8992765227780585 0.4067191749575476 -0.7592597083962033 -0.7582305788968423; 0.7047134215052727 -0.36217854625089635 -1.0432244333462475 0.5001973044500977 1.5488047315327185 -0.22480664392813438 -0.6080071042355508 0.7603343110886862 1.885406087907517 1.0076950113072758 0.036156784687567334 -0.48183421414034966 2.1979570562237796 -0.14588894107398415 0.7534516314014073 0.0765726162851085 0.983637938540473 -0.07247508685038184 -0.42601609074069324 -0.4416531203472315 1.4657810122828592 -1.9828729733786714 -1.099537582900593 -1.0688563040896581 -0.025346358803185476 -0.33727393041584397 0.9447272391229213 -0.7847405911279479 -0.10635590324405392 -0.42143319058111195 1.46634014388214 -0.3517837351423766 0.354083837896649 0.1263990180483348 0.5800767235189469 0.48020479436438673 -0.5490696087229565 0.787240192100215 -0.5910075505237247 2.7495364294874762 1.7960221284672053 -0.6283355199688967 -0.2672716035492094 0.9287530372948856 0.9089737484713887 0.31852836594531786 1.7379551988431265 0.06723593312275133 -0.06952396667845706 -1.158423880207103 1.038671903986248 1.1324270174680258 0.022444432460391073 0.04415864054704499 1.9480871477724095 0.6289188362757323 0.533072534592329 3.7673807408604496 -0.4091173517221185 0.6224863729876289 0.9094893964758404 1.0388810020341852 -0.1778602298982916 -1.675901861564021; -1.8929408737521394 -0.1761791106180229 0.8931078222285034 -0.49125357583262885 1.5254182074295908 -0.0947534946240925 -1.6476574428675816 -0.4876140434335904 -0.11833647124775315 0.2704531192015699 -0.2701030753584457 -1.9344434078395922 0.9228263533074422 0.833533289521929 0.618021719437743 -1.5286254614390933 1.2467596242600982 0.5658364672228717 -1.51942084630425 0.0018038351490426846 -0.11508810459768123 -1.067310746615066 0.7653335476610009 1.1103799095660087 -0.28814887885152884 0.14921316050145542 0.45676706554459967 0.1745473097175127 0.5848270542556413 0.8677038789753775 0.48230654159848646 0.5476084040840552 0.1930050690557114 -1.4518131603893163 -1.3893341671455155 -0.48735052151634595 0.9599265757109225 0.6839381554757396 1.6294029812049156 0.6637961223838051 0.34360457516563003 2.7626432977612683 -1.6018336843250216 0.540215971553816 -0.3783656935340466 0.10328982603313513 -0.20431694207612017 -0.043689919246209796 1.23848108950701 0.7843552204513821 2.117644279417785 1.099323328119131 0.5351273081131886 1.2596509388783979 -0.15845046021095965 0.8647992375725955 0.21064898775462243 -0.8928257047516874 0.863893906431282 -1.6439861109741405 0.6809273329035608 -0.07676208730352924 -1.344007695679069 0.669076645967561; 0.21441622501236793 0.6526202277988359 1.2195041380155514 0.8019352325786543 0.8437241566162785 1.4114144171318752 2.716716467890598 0.4379731595223534 1.2830162301103336 -0.36783449803442825 1.5237969349255804 -1.1321474580831563 3.2739867628977652 0.8343525953899295 -1.5414488004833427 0.006592622527838231 0.17595935168930255 -0.17228868929895547 -0.9337362060174079 -0.7599804491398765 -0.3975265409308072 -0.30555416559287324 -1.0463856058216847 -1.321381248645246 0.07641966567824957 -0.34839211152913907 -1.288644124172533 0.23535164264782718 -0.6703922928016298 1.664544438843489 -1.402304586212373 -0.47388643950528453 -0.7021330153397453 1.451899570663776 1.1085801539319629 -0.5104634379639816 0.5714583871940025 2.575491442146627 1.9951287395480584 1.2202299853929093 1.1273001044957902 1.8761390790444399 -1.7503901551920822 1.4607353257127504 1.4047777431784327 1.6176239022455428 -1.4801923027093764 -0.5500502181223814 -0.021462143787694954 1.1905697578273635 0.6617030769965799 -1.055971198372195 1.0942981875593643 0.5728123616629013 1.6485562808319338 -0.9609664974756555 0.25493054843307367 -0.8696998380532237 -2.2889386323705225 -1.3048728437913601 -0.367315280318643 0.5501714551515369 -0.7892365113975731 -0.8785368681783463; -0.4396324849875592 0.012812900585977428 -1.42516271505497 0.005350380951006567 -0.42257291092881055 2.641171409960527 -1.343264844769261 -1.1160210765911072 1.9607391651960695 0.49918098978550324 1.3903751114267178 1.297113291486279 0.6610997467392886 0.3660555768983799 1.191469850749863 -0.24382285017197375 0.46367339053837353 0.12264041678781415 0.8593299317703705 0.09960340215103956 1.2369779116621915 0.1496246277779444 -0.537968545454684 0.6676989875496131 -0.27582331658573145 0.05970158635153305 -1.9676412805905534 -0.737048689656916 1.6066799137320238 -0.44815454322796033 -0.30961117430068263 -0.24468228079117194 -0.08284647735780643 0.9991815460045256 -0.7645307954379919 1.8284675913311592 0.879730281774855 0.4783240713180904 0.09948082325382929 -0.7309734618784611 -0.4065999440771997 0.5602990203960467 -0.5084533231151289 0.4019408394983005 2.145764382430774 0.8514486394815481 2.2665254639223047 2.057157634527729 0.7300209415202223 2.9183784376824478 -0.7798041785552536 1.1841110554736967 0.6926263477360802 1.3757671026016742 0.26407234394951 -0.0009322947576416718 -0.42908315766748983 -0.11648855102626687 -1.1150289752762976 -0.9309706446404147 2.2131270542377135 -1.1955938798685217 2.180205267393887 -0.3239471695760624; -0.32670239234689663 -1.5804818386729225 0.009332416160000662 -1.2762743869694386 -0.45966214401571903 0.15409884802299256 2.3713252174243946 -0.11468699382595812 -1.311918319107329 -2.3762636211655415 -1.5603113897225385 -0.07019592956027662 -0.38897871138179163 0.3971779711655956 -0.8860943050842864 -0.02592666223401542 0.9130080154029934 -0.41085088598862485 -2.5868311095447813 0.5639695930508258 -0.9629657190825872 0.17971302665943562 -0.24515571216533083 -1.188036788561798 0.8038861969213102 -0.8580155814846451 -0.27028010474894076 -0.2643150697303434 -0.9198566329813187 0.10253917432429521 0.7611702762618976 0.9399115710183495 0.8986397461020498 0.4204231405107969 0.028546416663656926 0.600781564988495 1.5274931218577628 0.5245109214406336 -1.8235307265767227 -0.18349934005939206 0.8623618870336981 2.4816195265549843 -1.2114726365296973 0.8402642359610943 0.9263583001347357 0.20495995525983307 2.1957595648882666 1.317134661240166 -0.5431475684128608 -0.6200469303994849 2.316636511777933 2.2993028977271512 0.9803753386103327 0.49176269111669696 -0.05091918326002187 -1.1912989974293786 1.462264696524461 0.471791390525114 0.19357987443400143 -0.08403677916489294 0.476223602175667 -0.022256163562109854 0.8175329628088343 0.48868874929502437; -1.270226177944379 -1.0609390478964964 0.13807990504295511 -1.902557321570642 -1.5834566930836846 0.4826116592146345 1.2192653922685093 0.560886908536816 -0.2774414081055033 0.6057891348808291 0.0005321686012063828 -0.3392461216793472 -1.1568963856128853 0.0866149749915359 1.5243271358148098 -1.1034412410978611 -0.9255984685049028 0.11541929818982045 1.2351228162281804 -0.1418105202403319 -0.029886609122056408 -0.007538572994698144 0.43206244153776163 1.1796210125359088 0.7378012835319492 -0.8143201507275145 -0.5045891975202793 -0.30647811350287757 -1.5340236526039275 0.3506024518536598 -1.4906314422771942 0.3237410473588828 0.44465364888921693 0.8451577736098885 -0.00523272647269106 0.9657555722937357 -0.45025176217080176 0.4840965648748719 0.7862738915670416 0.5963188587952867 -0.07372008501005045 -0.9076800705639658 -1.0558131815619638 1.1815351456647893 0.46994116301588135 0.17271280906343217 0.41402796573649475 2.2644544527470285 -0.0925403393624249 0.24016074786344027 2.3952145256402 2.6769083897892885 -0.4170379326238808 -0.5859279346741815 0.4681408413040829 0.5731961680243975 -0.5102091128894877 -0.6978355255880355 0.8158697412242366 0.2782504992424818 -0.044850644043230525 -1.287306962906303 -0.8439088557937591 -0.5992926344883942; -0.59710913952038 0.8616860162700478 -0.3816424045364393 -0.012616327876634428 -0.8954390889639284 0.30839773632642237 -0.6288066498455717 0.4471694981173334 1.23220988861798 -0.10432921454082253 -0.023328233120773118 -0.03937188629169765 1.1080305901952432 0.5396407398091931 0.5235768402064883 0.24602721557833646 -0.18830860978113007 -0.6208689514734071 2.1015604831462786 -0.19304748518915124 1.2098662705722742 0.23778243424146275 0.9997734384747572 1.2797068436412185 1.0409129196144076 -1.2134541047783702 -0.2403050963403539 -1.4313777606113756 0.8644941908604091 1.2454462949788958 0.9493688631982465 0.07698814568690017 0.3602821159108487 0.9897845971615955 0.8575921394471602 0.6120529722902169 -0.33467910834036807 0.2602936920379187 -0.11061505666383914 -0.5751974010490803 -0.642957239815187 1.4750701749132868 -0.06241026554866186 0.1618114440954797 1.7241402124987875 -0.5168075396943737 0.5540548391585168 -0.256983429545252 0.9796827827931707 1.534431892038377 0.21368743464782786 0.5725190212111224 0.5192594026705064 -1.1086774438701263 0.657061653658384 1.2561809827007675 0.8225251047726317 -0.2671875992848145 1.9526114711258948 0.8508954767773926 -0.35007183057991986 1.1777826463357375 0.49499985484250264 0.5757357534241663; -1.3566984013665357 0.4883377902288044 -0.601845716391756 -1.3483443370532069 -0.32792077701857614 -1.9516278600977173 -1.0267630786319708 -1.294539436221317 -1.483658520599616 0.8898141872756649 0.1754700359730401 -0.6197711124103437 -1.4868959237990524 0.900296991759381 0.3369849691994524 0.6536100623881835 -0.30552692313274143 0.8864899578683918 0.500451892671097 0.4533546474462118 -0.10359103597916049 0.9961250392972381 0.40001330377889577 -0.5794107643106368 0.3794881539363985 0.9184051433461123 0.01227135108851446 0.9124821611819978 -1.3618056519031234 -0.3664451725238154 -0.3648603574317418 1.7893697497005339 0.6949981462753484 -1.5094819230465484 0.09515878411122033 0.8389698890747371 -2.1371662702522376 1.4079970919020022 -0.2841345419397217 -0.2726110140207818 0.43000740268742677 1.0386166465982023 -0.5088052254692533 0.542185952004544 0.3176632940118677 -0.9218156210800057 -1.5239298338892775 0.25817726233811694 2.057099330760527 -0.2516365689800282 -2.8476245146313315 1.8359291836056375 1.886659057001797 -1.2216695427736417 1.490673999087241 0.24906906513023963 1.7254809574317898 -1.713183397470698 2.0203785342600504 1.264310545343962 0.6838054968834739 -0.45378845830041037 0.5974676168987016 -0.4734089754309261; 0.5277455121694562 -0.3374388700218491 -0.12508830705331211 1.69971622743666 -0.20161874820653972 0.3031560497741989 -0.3240351036164749 0.4700722615026951 0.5186748946539393 1.427676753541735 0.6439870498697429 0.523621423833773 0.35253029612171916 0.32953341975367767 0.4692312339087424 0.4511778075806666 -1.1028571731791414 -0.5159909082835925 0.07301661367844821 0.7392054559627362 1.2049338256440947 1.9606421301307435 -0.18892402470829747 -1.1736330473273837 0.12839229403906963 -0.07631375514145404 1.3591766022465157 -0.15847064023948565 0.7856563184347434 -0.5387298835039481 -0.22073896338770416 -0.825807528714776 -1.7647113473430374 -0.4779002824078469 2.8320879180891847 -0.6855530681389458 -0.57219535504057 -2.0412797188596055 1.6334798559871737 -0.6333373073807381 0.07991739319539032 -0.9304444408827879 -0.49052308008463874 -0.1556504340608718 0.8012867837584823 0.6161129329247488 -0.13902516349814575 0.15009517131665512 0.523473511008718 0.616959302087408 0.4368047525406412 0.1794370337513756 0.8320375152545986 1.2047172132106583 0.2608256699225923 1.5779345469720487 -0.5732862169234125 1.3755678460894476 2.8374315258368066 0.9831409773352667 -1.6837944378518466 0.6090853973357832 0.647736486228974 0.023152216731857956; -1.1104229444294527 0.007860782973492977 -1.135869817152018 -0.1844554863110541 0.18476808130120087 1.2797179284384246 0.1941689290737523 1.0482560255855873 -0.3719778302781382 -1.753193779143329 -0.782566758761772 -0.7430653896470719 0.4651277867462668 -0.22448745625463626 0.6019737651181889 -0.2147593276991612 -0.2149754559036054 -0.7452765353402792 1.2445553708003114 -0.08285757434266017 0.7031474303795938 0.509956516860238 -0.4943727830362895 -0.08314323613321042 -0.0002488386541786708 0.024255101074415572 -0.9687724715887064 0.6826550230203702 1.485695108977181 -0.19762326194857954 -0.5841174231635042 -0.042905550460709964 -0.2219417701769345 0.12842634737385406 0.574455755070752 1.1380019869730476 0.8897851185919183 -0.4913838590743407 0.6093275899116845 -2.0003948449845046 -0.896504761794936 2.112630601676951 0.193022998561067 0.29217812491283335 1.1046512824312802 1.0147656579132167 0.6366932006620899 0.5732178430255077 0.6975801253980711 1.7472693203583511 -0.4138347985444565 -0.47428633503801376 0.007814433582190583 1.596561605060344 1.878730153774916 0.9584237015160357 0.4788136898820645 1.7041766425617992 0.2924733891186204 2.447247247770646 -0.5497896076607813 1.272736082505452 -0.3718854710601731 0.7660220055233643; -0.8003241201364938 0.8916718674272752 -0.7368227159433036 2.0372996320417105 -1.8659619261082463 0.9750675850120897 -1.2567237873335235 -0.2879362499444912 0.8265838841894608 0.5202754060975646 -0.6083250059479601 0.6779560484009011 -0.702176421711914 1.589641154285139 -1.109401020319119 -0.3272439530461564 0.5644627369425306 1.0786825940313978 0.7012495560751095 -0.07485084189299868 -0.5107055955879236 -0.5198549857133156 0.812825350315968 0.2336071586942904 0.8889090889811851 1.1705148076253629 0.6565604286901245 1.1106231244692073 -0.3196395125753528 1.318429078132459 0.07355482489566614 0.9616205231998259 -0.006378944177770344 0.17801320972449997 -0.4086544899258792 1.937936195332856 0.44871015408613163 -1.1365806746476306 1.0650538566085617 1.341556330554099 -0.24918274902194837 -0.2059100101332833 -0.13314509484021952 1.1880066673829397 -2.5050214666709887 -0.16352120584366503 1.2491095370225045 0.4687163282438865 0.0339404918885472 0.8043045036276422 -0.5211386135018137 0.5378327211231105 0.4452188433712857 0.6023927044132149 2.0518692911477965 1.0833716573605727 0.9946905654898164 -0.2081432142001165 0.8260004714510552 -1.3121358551261562 1.9843557817143296 0.004129870445973072 -0.5314630016557482 0.003843826387868189; 0.8715577300150102 -0.034816770231814675 -1.220719163089234 0.43138933840258653 -1.0129870253213324 1.7982459273423756 -0.7808443497924271 -1.496851237423027 -0.7240901789659747 -0.20722613297351888 0.340431431492567 -0.043336726677874714 -1.8583463916868963 1.6086045250082823 -0.443710424930239 1.1118210122768821 0.9469919058061561 0.9267095716968723 -0.27233874882038284 0.4193778895895059 0.27675174481149695 -1.1833263445946742 2.376450163112317 -1.0645299879870986 0.25567335167620486 -1.1479996438424325 2.078326505903295 -0.5490912671249601 -0.1417688405289294 -0.07287720684415905 -1.2560470821135983 -1.220478698753235 1.6672480165612007 0.37748582305881295 0.8057241515320188 -0.3362160311369206 -1.185791373723667 -1.454816766918633 0.07763658792965311 0.6590673272846018 -3.1392801391232883 -1.5853247986294834 -0.11391925855082935 -0.25771339631667306 -1.3325950700144318 0.7790358670453408 -0.2038511745476601 2.870389645378006 0.9905059849088456 0.4981269583017262 -0.4825326089700098 0.6402002134142071 0.5882768112352408 0.4443600348015846 1.282075702730536 1.4518035857352918 -1.95680604702099 0.8681544439225969 0.5793632674080632 1.45872274567073 0.49651309361820817 1.6446218863085793 -0.7146667775137537 0.6018283969441037; -0.4535621664336005 -0.38387004186443113 0.21081788511340097 -1.2259223373481714 -1.282974785739355 0.682233068208982 -1.2256950444325914 -1.089076642584151 -1.6411356360360883 1.4306680852348606 -0.3532802792158699 -1.310726766573702 -0.44144786180852247 -1.0739494376365921 0.3808359920424019 1.4268982097575729 0.9918945923911993 -0.4949540593979878 1.1655012991512022 0.39494209581139483 -0.5533436973183177 2.2808844816728873 -1.6181576286198167 -0.6132961470559734 -0.9251862676988937 0.42432521082275537 -0.8019773586975424 -0.747377462881912 1.3196342654138178 0.4406436256815915 0.7457344426296476 0.5294424352666512 0.280416911000299 1.1148192460536122 -2.362109581830076 0.06201171249279845 -0.48787854853259005 -0.5850308200966813 -1.0073582083511023 0.1781172609426272 -0.6322780029928567 -0.02418625320912035 -2.2238411136141507 -0.25358966610052686 1.3172381660007166 0.9362768944894637 -1.1014604148558533 0.3635391995414292 0.8227970216117874 0.16738926098670837 -1.2950742157360067 0.3577430795643349 -0.0910010572657336 0.155335922261293 2.327833315059049 2.5186252473668747 1.8568473862741743 0.6802298577501171 -0.05962524655368284 -0.18733159561570434 0.7776089556260648 1.2093805217937552 0.9990355755671024 0.19822022705677256; -0.24021790335645796 0.25279526062470375 0.6645911844544432 -0.1434356657406211 0.1357432452611176 0.8419911693739025 -1.8800774011187313 -0.8623719724382596 0.05790758009894469 0.6769172470963607 0.9625687759798796 -0.401805309506028 0.777435463112285 -0.85287795952831 -0.100736768052533 -1.1476128868697781 -1.7300041955434253 0.357535394946704 -0.11191010973902688 -0.2977302132029762 1.3647929943026724 -0.8310540288480788 -0.3447186217736441 -0.5081965827495117 -0.6253024641977605 -0.7600298780696538 1.2588605861418796 0.5639298315973702 -0.5146380375736678 -0.5447266057568367 0.18364312538223823 -0.7383899381888667 0.001006485155621805 0.4080418952142211 -1.3490267851167523 0.993116456071753 -0.4646221611775614 0.04171634607209701 2.6066728640494303 -0.5388101350180297 -0.12831443101823486 0.6808003862115547 -1.1496969172430225 -1.322255264644969 -0.06350430639484705 -1.4244377144941989 1.5060563314143502 1.0286711009155987 0.6263046254343132 0.3878694963945539 -0.37949252700534764 0.31720069670182316 0.022463791284882795 -0.39455436722240134 -0.06923174342883764 -0.8218104944297286 -0.4375449275400728 -0.10501257259371233 2.317844534570087 0.0732786112542943 -1.4159928959497856 0.060109507637727766 2.0779433874908717 1.7738126066308324; 0.26157689452069266 -1.0590698623349029 1.5667907983196119 -0.1998108237398736 1.3656338237033179 -0.05180490901600681 1.7344978065183843 1.0112807525448742 -1.0270036380458765 -0.40381787610640274 0.4034730991233466 -0.5644916434483719 0.6451241745906754 -1.5979676002776462 -0.12295110545991707 -0.9638734501696984 -0.03454284909611676 0.4166419732528903 0.7136314391454097 0.5907159254580302 0.09936878789361803 -0.595329365392756 -0.823308977432782 -0.1386185607597883 -1.8054468094403595 -0.4269494942906882 -1.3587997835683843 0.7893643792302556 0.5823297637059137 -2.290319591777327 -1.3663335880726117 -0.26594699083731077 -1.5782862240394353 0.4232015307987396 0.17469531683069134 1.4857339990647787 1.2690608341940042 -1.3429789915216277 0.7781880474082122 0.4830058990735736 1.9605169574885226 1.8944536942940637 -0.6366592636869775 1.8541538977785599 0.2046026464788789 -0.24652656024256353 1.2397975866530497 2.617158077583576 3.000043720930225 1.4615297312069 0.7844091518137533 1.4809796731981466 0.6520710371770729 1.1250125188061872 0.9840643016992303 1.5313063191086558 -0.3294070727111432 2.377214507156266 0.03033805494149333 -0.7066140371907568 -0.08628843168749811 -0.02968185402390655 -1.0140248920519268 0.5278167534584363; 2.1190644331420097 -0.20781564727824675 -0.7834719989582214 -0.5950496769805398 0.62044851332384 -1.8446718872702201 -0.3955036797652919 1.105906411414294 -0.20321761877754022 0.2012534994647781 -0.6357035588852131 0.8929989416961491 0.42018563416746657 -1.1705919459399667 0.9166156357676414 3.5789145066033026 0.608314165765565 0.040024358857986574 0.23731284493325427 0.055646104086083774 0.7878570152933334 2.394563679268337 0.3028297860900546 2.095191858000481 0.7615410448169164 -0.12072436039330214 0.5780154247133553 0.34799866727235335 -0.33823634447990797 1.9436489439534474 -1.0082255733936616 -0.7799034878329253 -1.2045895191871716 2.496146659511311 -1.8000902876592457 -0.6653042444677925 0.5388619969338334 0.5427671804043388 0.8380821952078845 1.6264217361417819 0.4846755544566681 -0.7802763783441532 0.25605448488158866 -1.5089272689661037 -0.939721580915138 0.7374298028625588 -0.9902402867793365 0.6392483339080757 1.5707042415201475 -0.6851044026197595 -0.09297125086677949 1.110196934479867 -0.7443446558655016 -1.4542312292656352 -0.15653586055899738 0.11393153813477536 -0.4776516337184029 1.2674799122408436 -2.3920426562823836 1.9990585198586515 -2.461353281281551 1.747971141067911 0.8236005104287679 -1.3507477010105033; 0.4293458659547196 -1.2294482485024503 -1.011181376212611 -0.23075515247894005 0.12465338421175913 -0.11057988983033092 0.5603514956691492 -1.0116095161309968 0.09802200173995403 0.14914873521713978 0.7102868599089123 -0.7705631392242495 0.6678730291685306 -0.7824817826361877 1.2469773571361014 -0.2899632874102598 -0.5447060016138485 1.6426544751111964 -1.4874862322339686 -0.8157569335487641 0.012874197825319986 -0.687431499591029 1.9730003916767884 -0.6200862314628841 0.6232940930571637 -0.894759729404463 -0.3858729997417988 -0.9325069362811425 -2.217444008628995 -0.3648576704203753 0.6088236345098202 0.9456348343263506 0.2642377891364896 -1.0270189485059245 -0.6055993601343429 -0.2807178485812801 -0.6764557753963303 1.7424467661351883 1.498813413234756 0.40571304589490975 0.7157832170154603 0.22619424517790196 -0.9103487708104672 1.4070413684234013 1.3276252921473675 -0.6858169266707492 -1.2153375347874773 -1.5035849679692608 0.8003824767253926 -0.2968071934907962 -1.376504914048786 -0.014192479220408949 -0.6612680939982774 0.7496065228349746 -0.7671412769902379 -1.0296037249467174 -1.8490282348277254 1.3087039498450748 0.9625392601225197 -0.7942714227016083 -0.6785411769944785 -0.5373168339334862 0.5773165134108811 0.560949663146847; 1.58616942343815 -0.8170233582375531 1.0487880698997238 -0.8842962330151659 -0.001314772793144907 1.6513054069237247 1.93601331986391 -0.015398584220515056 -0.8535236873274235 -0.1100875753848443 -2.4593838528798626 -0.2822011272850222 -0.21024554165765486 0.49851165300046185 0.30817722285246607 1.4872112535989113 0.7022251977310748 1.3501625993181199 0.15709859338957136 -0.5143165344824046 -0.7557715741125368 -0.25749264197594834 -0.28546913791223066 -0.28248100380072866 1.6907265212110785 -0.43380113550888955 -0.11993811712959608 -0.808276190906129 1.9347538260689081 0.8398696159074546 0.7869737195032434 -0.4088207567701911 -0.048598422363288304 -0.30655159141060995 0.8767182315738339 -0.8801880598654613 0.13339695989132475 0.5353494022527742 0.11708410917643823 -0.8167101541904149 -1.9216687888268047 1.5316199022884627 -1.5854592226255055 0.8787024496616278 -0.10681341800382887 -1.1406205481443987 -0.8136813087160764 -0.1111333366217852 0.5727702882883674 -0.6739726546053331 1.0410082668262644 0.6796275088425241 -0.26506696062189383 -1.3069734046999868 -0.12083337407223038 0.10258449221154359 1.0541505646824842 0.8194519902729723 -2.2186702956398787 -1.3684511605598957 0.6200023913988149 1.9571878961596543 -0.38107105327245905 1.2567578007147329; -0.2927547252794896 -1.1205096748652696 -0.538058253992322 1.6904100634287962 -0.7080985608863541 0.7145831234754612 1.6205517810085255 -0.894973199642436 0.8941034419686427 -1.4602013615672451 -1.528618496687649 1.133496377630748 0.16981268115990214 -0.776933094591637 1.066683885529701 1.1661025649406962 0.5492508563317466 -0.5562904210310864 -0.1207512201651982 -1.184598878817318 -1.1825838039215404 0.33303968387136157 0.7728492324037944 -0.8588188849984849 -1.7625082705611352 1.1586241414913583 -0.34892682970076333 0.798178495943849 -0.490648099116289 0.09410019327754299 -0.7560258032762955 0.4859847308126555 0.1003601240539374 0.6955896812190145 0.8284942011367654 0.054568039503150256 -0.6838241917835461 -0.8691178949047507 -0.06570447565010379 -0.4376378774452381 -0.856438289245303 0.4593507924492942 -1.1337299610307854 0.46193578655724893 -0.19844899897595247 -0.6364756350609249 1.3187027901581971 0.007694728134294032 2.255701940598252 -1.358904040575342 -0.34895735319166965 -0.47436891422656247 1.3629098060816887 1.5812502047920691 2.080146103281979 1.1387162306048157 0.5879385146286915 0.6970124012981317 1.242236644100457 0.6546814315511202 2.358038913553226 0.6282272599651901 -0.3000186952836605 0.024022926799429512; -1.0341121823924624 -0.9120706267500853 1.2597421856074105 -0.07266187239949558 1.741421861454024 -0.6771813342053516 -0.6798533615342024 -1.886230372018953 -0.26105811167128384 -2.045182303220107 -2.818778036104547 0.18520521853627953 0.4355420823480836 1.1689733913930702 0.4072982162981307 0.796171402385598 0.6002839485438553 0.7429003838287185 -0.6163302563337213 -0.5658876453997064 0.5468376666586027 -0.28437580287455205 -1.2732169232222987 1.6079261179355138 -0.6585466937930108 0.025989459212281275 0.6100044062934123 2.7676657923733523 -1.5852632556101747 1.176004200348001 1.8220305932671916 1.8425807568915753 -0.09915598815706306 0.0701076293983644 0.9257817219232218 0.9835640368994295 -1.7272051275110725 1.1888597841979298 -1.3121145982898867 -1.9313158563055404 0.3393622182472803 -0.5626759218534642 -1.2129721605732924 -0.7273339262589998 0.6379595078698732 -0.22391076997652432 -0.9292508691542443 -0.9443619282186841 1.6594035603018737 0.8898670268847075 -0.7610667212814126 0.9370948145598235 0.4972042585820059 0.2923568309208896 0.503749157680992 0.20300015190813323 -1.6039234321565528 1.4412754200606845 0.992713462608282 -1.1404293178511282 0.8002644367108072 -1.0039936466231187 0.42238539965369104 0.4825085943651554; -0.24180192889884436 -1.4873280062412642 0.6779820910751052 -0.9432841381756429 0.1631814278876718 0.7581522694045996 0.8469170193902711 -1.5717754652502476 1.1585713954869716 -0.3932771501415492 1.9025778565279436 -0.5291132734024941 0.9325199180421048 1.7934499427054964 -1.3575513428928552 0.8584083354054137 0.46035283736643867 2.036704460290164 0.08392071852602967 0.4443996732363663 0.16018094457882562 -0.09500035093101135 -1.2415119636248275 -0.6051560669275503 1.7488584387887032 1.433359703612702 1.0945802385193697 -0.6813405747211164 -0.6743991344891249 -0.4405861146685466 -0.7918987208123252 -0.754308433847914 2.620889921686325 0.28522290313907167 -0.7818749435053048 -0.408668197158579 -1.240525528643492 -1.8964294014333714 -1.6291244188193932 -0.4752448987978105 0.19160569355351956 0.6886418879338947 0.5414503610415653 0.9189370391641737 2.1311899071821103 0.2083571097873884 0.27387904889659 1.49459573720879 -2.3511254909126875 -1.495297511189672 -1.385436667737394 1.444161639385829 -0.06703924830321673 -0.02161448299040647 -0.5126335736631115 -0.05694894478885054 -1.139767755077379 0.09248464009190382 0.18508963143823115 0.7283860757265089 1.4104701933761903 0.32030279986369 -0.9203887674067537 -0.8141721060375268; -1.1009680986283856 -0.7420702624993233 -0.41732928761283755 1.1806302900001087 0.29219535362267257 0.09011641712372494 0.8542426954201483 0.5506072693418796 0.28822813643045847 0.14030234466155772 -1.8636923645065493 -0.5980646774129683 -1.1073445440305247 -2.534251745554448 -0.3376782862034835 -0.7674222817334423 -0.5386075701456625 -0.2251838786079177 0.7594261378556906 1.4859954027197664 -0.12382739961398319 0.25870222300185813 -0.5055780150268906 -0.8905451725595314 0.12165186223944216 0.8714578164368958 -0.7142870711225281 1.5725450655531439 -0.7831401589921325 0.21788565674083527 -0.9551077210027799 -0.9863936653485108 -0.6574706504115901 -0.1585265174370548 1.0092791622306228 -0.4311453531258288 -0.9192577259124664 0.6383764315236796 1.910830238373444 1.3045570298274782 0.43355581554274625 2.388720031721353 1.4691413937143638 1.4705385808811382 1.1134360209125036 0.27068721710173776 2.812282231143968 0.3391591972099265 0.3700036960634008 1.3245399873369463 1.2179178970171882 -1.1590670000968186 1.4221197819169205 0.1281170696858827 -0.9011437850202397 0.37141801936280017 2.19062073057302 1.3477111002049798 -0.14011485141164987 0.6215072521514604 1.1159025903406856 -0.2743284684386844 -1.000217498185928 -0.0798235291202357; -0.1149174374926806 1.700966060473466 0.8134203945505528 -0.25731762603233016 0.33204346286248326 -0.38021562698674727 0.2060133595138481 -0.31982879022434146 -0.7012107547112431 0.031609503753387336 0.3932019504839501 1.9729049771899583 -0.669000037983858 2.3581880520577303 0.6474546479209231 0.06708095803145958 -1.3597450469020365 0.657811758125695 0.38017804611624956 0.19073442415846442 -0.2349215621049653 0.30110577170008884 -1.423908436406698 -0.13850588099822592 1.4558412607654634 1.7816098663398445 -0.4492053684282368 0.4203029974374887 0.886361194784383 -0.6594552774491343 -0.7552671835003643 -1.0967181797367387 0.7755051978500448 1.412163468687759 -0.9969712348109945 0.2893891226100814 1.1177972543046362 0.8747654660988453 -1.6513776415377335 -0.6985340392001457 0.5351462303184342 0.5393194698507955 0.5835414541329599 -0.47155263845730944 -0.9684305217114231 -0.40021526362808835 1.2745988205515455 0.8968507858248945 0.6185540104999667 2.5566852804344014 -0.6529162331382743 0.41466285876195164 1.3110071222865387 -0.08158686809958843 -1.27803975021167 1.2481778886770933 0.28076809274705555 -0.03281888684202844 1.7135737381466105 1.9432806133399882 0.4937178970534639 1.3656765402267144 -0.4777707495695991 0.6924286227995066; -1.5173680774867104 -0.48344772164260696 0.850573565136512 -0.2637774377062283 -0.3006991767231941 -1.0657956587300177 -0.16312666491719807 0.9158255115797331 -0.3677224593073132 0.07986132335862745 -0.13098827004912406 -0.4550410880350922 0.786664274692809 0.5822028478755157 1.6031467661547671 1.890936379266488 -0.44366239140104524 0.2764673594182565 0.4064463577893507 -0.009878110776128811 0.9485602112440318 0.1885504200748115 -0.5279824182549773 1.5844213413797708 -1.2077777880482181 -0.7305595972163486 0.47949836611543106 -0.31724715973440737 2.0780921967521206 -1.0372235202765885 -0.03558058485042451 0.7897184806201742 -1.2699825345540483 -0.8075561745987598 0.821215106363984 0.35669649074381415 0.46275553782924433 0.4320322600646856 0.042999033386042385 -1.297865934590774 0.08133186315774112 1.850258619181915 0.17235388091221676 0.9144789054438591 0.39463848056425266 0.8735690506109477 -0.08315933948877913 0.9671854035862881 -0.37400624706218843 -0.12834974852735226 0.09875858384404906 -0.05215450123745147 -0.26174495069701 -0.6304593792405088 1.7150299395070887 0.805991917905671 0.8106943330538782 0.16232541855280608 1.9339682124190838 0.6236550875248811 1.0563628987897866 2.5819319448559996 -1.8602270382249912 0.10155619208653341; -0.5354913061923843 1.1269463197668472 0.021053363885407787 0.4498996991572054 1.0036620685235407 -0.02718476255694351 -1.2724599619442056 -0.19246273737997674 -0.9235338072599074 2.168446732056752 0.17021018954305253 0.3360839018539251 1.9411887131076964 -0.9827632510271368 -0.830878597001616 -0.7902973214759457 -0.9319403968154403 0.16612756639597973 -2.5739762751151365 -0.8094360599577819 0.1425187686518299 0.14352050212733847 0.5374072470000133 0.47629859158360377 -0.06548507152292322 -0.3295448535518369 0.3049348324001656 0.9056959952118945 0.03562838108034787 -0.6827989627547264 0.0615625812238784 -0.1149604091224894 0.8805822051349509 -0.21386289208961637 0.3540864987639645 1.907638988553198 0.7305239463145523 -0.37235446780499515 -0.4371760761952853 1.0488669392906405 0.6816918797700509 0.1815798360367196 -0.21789445599263724 -0.8473513873325933 -1.0517112626776168 -0.30426240001573235 2.4415046120916095 -0.3755002261671476 0.45803133466011836 -0.09814208452091844 0.2657874316094096 0.6023726980562187 -0.5326380812282175 -0.9493202414891289 -0.5798312503870738 0.958621330591495 1.198911211599172 2.0299134026055983 -0.4176250312446911 1.878032289088179 0.44127796666953234 -0.4057942115593147 -2.01825977216526 0.17768870526076863; -1.517169655393451 1.1842531917083268 1.4410193351009881 -0.7067226762143183 -1.2945878799577617 1.2899060032438492 -0.40916382693845316 0.5448191476142397 0.5937119884747134 -0.9341258475807602 0.5746209296000363 -1.0605886077170519 0.22048231641027718 0.2699744799818354 0.609735365797714 -1.1373997012355561 0.5121555520069556 -1.46270981194743 2.5452541102703417 0.9264063671781484 -1.0736687943381293 1.465141070312911 1.9686592413597173 0.5878814294191169 -0.6050209712011695 0.6944560087768208 1.020047995889284 0.09466537150686721 1.3277190636994396 0.7972065011866589 1.7614493342465498 -2.303678696217597 1.5133667530588044 -0.8667468443750964 -0.48372227661447814 0.3531685119091576 0.2837833123847747 -0.6657755675293673 0.34290213979823886 0.5532456238029484 -0.62973169573758 -0.4678949813631752 -2.0391211731612953 -0.6297973624930983 -1.1215980445990472 -0.15155677106403348 -0.3215163266898088 0.3549420912759462 1.036259450050515 1.153697441505482 -0.34104551215657775 -0.557182590550717 0.4770563022052552 1.2388631341011624 0.8078423998538777 1.2292672249909848 -0.22308387779630956 0.5931437962171104 0.9069582244737951 0.8211903547524795 -0.24109105300609313 1.4145575876968766 -1.0127013299937617 2.1780966350355064; -0.6139435948195496 2.0235657134177587 -0.48039562825475207 -0.1261502305152332 -1.1658634669775412 0.5416948791814418 -0.08895803393378712 0.5886048734028805 -0.019598487266390633 -0.30489418970341864 -2.5069276053072183 -0.801584047242895 0.29710252492763706 -1.529148505807262 -0.706049884434487 -1.401385206603267 -0.640913711417591 -0.8741772964966456 0.668652420041363 -1.5869289496136287 0.26309336782434867 -1.5034637013111838 0.8231581453768713 1.4270509629733863 -1.6932420158919517 -1.1363917967387274 -2.3046347331959107 -0.6919397940206022 0.056926161485392854 0.6933570643946078 0.2778069045880801 1.1469218690262686 -0.37999085929153076 0.4793947207350646 0.3225788394648939 -1.0981245135498319 -0.38376755333846596 0.7078905365588978 -1.1233384398288069 2.6803738531225156 1.5751672924250428 -0.3750830198882014 -0.2022355037788916 0.6290720094546296 -1.5885408091099915 0.7047133140294543 -0.5590490149182319 -0.182837576151061 0.4049454271845436 -1.8518018226848807 1.2346868646050686 1.0281678577117843 0.05234809606317814 0.935729138712755 0.06888232019798782 3.0898517787188804 0.6294739350494758 0.16360998153114914 0.15306092197039362 0.03703699525454568 0.44928165344942905 0.26589677388769245 1.4117408517905135 -0.19726432943131444; 1.2581222716502873 1.6401281340476541 -0.5438378919963066 1.0688535131083186 0.4575537296270766 0.1589056555589044 -0.5288013315621908 -2.3768456564776295 0.4466470790734847 -0.0963146955098895 0.7663689648765397 -1.3491947523339747 -0.8512404885984262 -0.8247090100744612 0.8146659570986389 -1.6148367881276715 1.37836816604165 0.15904885761173537 -1.0619092455021926 -1.1148655926482471 -0.6022947814974701 -1.0760245894554974 2.749945038760466 -1.473227389455281 0.3444994176199089 0.15083781729293821 -0.7361242836223335 -0.7532745588386414 0.4124039308504838 0.4116822006901878 0.14339926035942563 -0.07532020029302151 -0.7266816453353301 0.5102454213476535 0.8515359822338411 0.2532166566153532 -0.22807633185448262 -1.5625614786896316 -0.41673746286147434 -0.824508522371751 0.09270780911348377 1.528771934303903 -1.0378985425855205 0.45999742178206476 -0.16438308287956666 1.0666021842066509 -0.9739020652728014 1.2732954079369612 -1.3537701967441014 0.9680189218393709 -0.43301783590779563 -0.19576659054016377 0.44824333215820344 1.595933078910688 -0.05796917194358536 -0.728899774691232 1.6400673982031797 -0.6619901138121805 1.0608896806781762 -0.718936108922859 -1.2932351373873798 1.2552762981127574 1.8711168470177248 0.7892058634185638; 0.4404016017316162 0.3812732401707052 0.23878715092246042 1.4996706626986356 1.0237620342364708 1.4354663363235522 -0.08973309084513593 0.6686493683988946 -0.30938572058316727 1.2224493205275468 -0.42605314444554815 -2.1869817103255045 0.4212241654091341 0.9827365613369201 -0.6103729554808034 1.7947463848630054 -0.6655708662869273 0.5099858026628402 -0.09810242118436212 -0.4358572261472992 -1.1092637099451854 0.6734849567751386 -0.3060437491177077 -0.6773521091753346 1.0713709938707514 -0.06790367576795273 2.0734524733097177 0.08163976486190791 0.44725226487651587 0.10643923708864685 -0.8977967170705753 0.4712886294676542 -1.2721883734334043 -0.4316644248759938 0.38165422162517343 -1.934840959436585 -0.3986147651232287 0.31587878233804095 0.23872731981664205 -0.45639179782445305 2.2398424193497717 -0.17577094693228484 -0.2668082367320185 -0.00010939139409119059 2.1215555282525353 0.721361284900078 1.898942932211901 1.2864073774246476 0.006919578509562263 -0.5333301114947253 -0.7508172312833754 0.5410629382912587 1.401928429712751 0.38527402135619043 1.3130034251053393 -1.0042240581091781 2.190147203440099 0.28287659760019584 0.48844347449408265 1.685219914637316 -0.1583074210007725 1.5131179109884598 0.4708011679855076 0.5022791996542155; -0.6071804965118902 -0.7660059218118679 -0.027424316249523413 0.8640841239842724 1.150605618638806 0.29870770091645293 0.3395361498225438 -0.7266200020727432 0.11911586805900917 -0.28290186454216837 -1.3937643381611253 1.8944913022740502 0.07015836750784843 0.6587415539441532 -0.705327699704551 -0.38947216963697384 -0.5971872139871647 0.6485064998162143 0.7611669525557314 -0.3330323626160661 -1.642882558342388 -0.8393648183189268 2.1245137633655724 0.45745069215952666 1.411234190889036 -1.2042271361350638 0.23330092404016756 -2.1020294247705085 -1.550965823017728 0.7375110213246475 -0.4626041185503135 -1.4395980204135839 0.14994345452484603 0.17655970170651808 -0.7156147017429141 -0.8809249834848041 0.15591303643333224 -0.9081328388067988 0.35800106838989104 -0.8634002532450704 1.2731958917002975 0.6642731201795566 -0.7625167185201074 -0.322088556793265 0.3280391253094932 0.21231737392260566 -1.681429019784466 -0.38470163187832895 1.1923871062798073 0.29145555633265846 3.2159773211988774 0.3919799541231157 0.21210099108593833 0.3861701143270941 1.679044922285856 0.811476832208847 0.4901787564734052 -0.6697459230851524 -0.34626357425747856 -0.7176597364126824 0.6047846174660252 1.6278807766077346 -1.6455983410651185 1.32816535975181; 0.3233664797151227 0.30614920072374163 -0.7157405446494984 0.7094322269442596 0.020316401825584897 -0.13667151559540494 2.214353573903753 -0.27290063428082856 -1.8441957195348677 2.355836942542696 -0.16323867017442026 0.3779909466480492 -1.1776423981233148 -0.6556062681241676 0.25697242303295065 1.0985766151377436 -0.5151781004196564 -0.013716981345289711 0.6283774902761464 -0.0812862637931843 -0.39858864850890385 -0.6645853153191126 1.9604353055762873 -0.17991893272166742 -1.2226007445473521 -0.925306212034133 0.54288918107494 -0.16369702767568448 0.2525747651784601 -0.36282034913937555 -0.7623923476798492 0.39074607695733504 -0.7350125710528808 -2.0175774031174427 0.43814781113795315 0.6290888140216578 1.7558047497065874 -1.6726232322625278 0.1300264431491585 0.451212953881199 0.362610216863805 -0.8301282726335573 -0.6521953678662011 0.08105488034619582 1.2963833401800549 1.1219439974621332 -0.339438433214576 0.8959403227278825 -0.5827031859670225 0.23772930967979722 0.6243926438708745 0.8240228613560072 -1.0049171098029035 -0.40985131256879026 0.29587215815612233 -0.9364136441703583 0.15332332006741772 0.4763508754750959 -1.1983570359809252 0.36858445830555897 -0.9921198147924897 1.4427925827839279 0.4934133300565938 -0.5710960445228228; -1.1001732191980387 -0.6587693243988937 -1.2184257996556052 -0.9879874983449298 -0.9669683713235941 -1.0245728224391144 2.9876615708780103 0.34835877979366514 1.3289036434716037 -0.8741185499233468 -0.4139720734856128 0.5783807282901409 -0.08377341870890355 -0.055612508095603815 2.0817082268147273 -0.04241440885892618 -0.3788534387991429 -0.7423959057338781 -0.775126888517562 -1.061776914589883 0.8118899073811314 1.6850751272595825 0.7360982325554094 -1.5483267688529863 0.3233739211587799 1.2733690514476093 -0.5736163458811224 0.08298003022698723 -0.2782995106931746 0.6782090177279 -0.3613124558064659 -1.648848873522193 -0.09163978663129348 -0.09100006577448819 0.16381187421745158 -0.9589469889284316 -0.15298041263416068 0.38287865551891176 -0.017114185573390027 -0.18413276339181825 0.6031204588573997 1.3157984185242872 -0.34835930611344934 0.11128270803209495 -1.0461880391663538 -0.1566002577143446 0.6452826652345931 -0.1684159846606363 2.565462533648969 -0.22126929946421914 1.3606734811858499 0.48984674255858035 -0.2693482007838256 0.46458140255085956 -0.02533491247002123 -2.623245117162243 -0.2276205928653992 0.8147826111214623 -1.4785596349809431 0.3980004842912268 -0.04587221584133411 0.14172462660686708 -0.2316222524651787 0.1609865018624059; 0.10941578681108308 1.124955030722705 -0.458781880691922 1.232428595867997 -0.735296046393539 -0.49067820382964117 -0.44830898146157866 1.2878323983025595 0.0453392909679282 -1.3521823193356108 -1.5729598149399255 0.11873576620422557 0.29889242342713745 -0.19247383784342278 -0.09060499446016247 -1.1757936224292627 0.20847892507420693 1.0412147043932245 2.535049852839849 1.0081817249181548 1.2777672715562427 -1.7248726266409122 0.5825578693935561 1.68583833885132 -2.333944227777092 -0.09664391210469617 -0.2927293136365713 2.050320883040999 0.041110959909624566 -3.1187332545615507 -0.41913883284897674 0.6751321418989557 0.015805110257812935 1.4242862476106912 -0.05862197954773943 1.3023232339397304 -1.072936342388916 -1.0363586666070612 0.21501133756107133 -0.010100535043083864 -0.020135368072436613 1.5734414696940167 -0.8204014833564532 0.9000499433202237 0.035886528397132314 1.2642476066495818 -0.9856200616941391 -1.942861861840644 -1.8712338174049679 0.7807053190359036 0.7625489519814429 1.4248135745247812 0.2774680822745255 1.5415199508117652 0.7401659295256917 2.4552805081555746 0.8893144413846398 -0.3164683837200053 0.2842016764987729 0.3795326800325288 0.01954998556981949 -0.1407558906037369 -1.5165821610410886 0.7207231064728766; 1.0252124329861747 1.1365343385307802 -0.8782290446487248 1.6835100202168012 -1.6961393994538485 -1.2500036477393104 0.18341230580108414 1.5429003214752146 1.2775423100231318 -1.1787505553422608 0.6512815237048151 -0.5928986048590101 0.36076193240802945 -1.0047218218609635 0.14855113114395976 -1.3350423083211655 0.9708577230995211 0.836036535354021 -0.22532579614085121 -0.3679109342102659 -0.8228232587566819 0.9069719389437207 -0.2858018517605834 -1.373686607389665 0.10248298712725061 0.36853085106940114 0.3371963457360165 0.5633380948912933 0.03863453997301744 -2.275664834588891 0.1977093417293828 -0.12649744520555453 0.35374904293743986 1.1926061146595344 1.2254613666600669 1.431118605154378 -0.42212786944556896 -0.17705867217151397 1.6340032029573215 2.141846300958455 1.3066223914567023 1.672849480184086 0.8532355778946655 -0.39584996508433246 1.1691380238862399 0.5190451155401903 -0.3432772697006906 0.7585193166833996 0.24811372286392303 0.5387639344804963 0.02061967022025013 0.8597986717134712 0.304443955514141 0.7850729674608117 0.0005469551140069306 -0.3207510734604274 1.4202115792762924 -0.5281349127172936 0.06930628552889712 0.2906204736744432 0.2287653931044164 -0.5258122237244719 0.16509001758437733 -1.1375440493778919; -0.009099688326282964 0.5947543390438732 0.8005561855352472 1.6558464724385924 0.325819114672666 -2.13260621842476 -1.0931488982464181 0.7444936129872058 -0.7780826584756467 -0.21254785545682225 0.2892635827907957 -0.582929464371037 -0.9613898724739062 -1.454477450685471 1.088166947149232 1.0464320261536137 1.2266005907627955 1.8436750916927374 -1.1794036040423468 1.254994366488641 -0.6681872102619331 0.14724203544010173 -1.0794806268351218 0.23634239701335902 -0.42065483203189863 0.6544604030268324 0.6669807422038502 -0.4867400421294604 -0.19055812935655364 -0.19916162248540634 -1.8543665703937104 0.49902903441732654 -1.4925161462841405 0.908931512017813 -0.23350534332711279 -0.9765004575567439 -1.3132716705635832 -0.12800538498857403 0.1990762411267778 0.8031155046932673 1.3820397829495321 0.56636941270441 -0.4607566919105842 -0.09082275857584385 0.8556266036788759 -0.7593913278477792 -0.2578738893589324 1.3019569215241324 -0.37956286658715266 0.7937741434893271 -0.04548622704758093 0.0020204452453701505 -0.10441355238874889 1.3697882633729084 -0.3961994322489315 -0.5172806259771331 0.7498103572827408 -0.8019902100289369 1.3183454219285227 -0.060030206528686014 -0.09266456601257511 -0.47443051387684654 0.10494390210168494 -1.178823907436621; 0.6329491450853495 0.0479800304038654 -1.615547862765688 0.19813035552438793 0.659899244210804 1.3837644633747015 -0.2576781063214623 1.0084547069215772 0.5300631756508345 0.2868050708715605 -0.4613302312701998 0.25464321611292234 0.23802684814453154 0.5267518310967507 0.6164782117754322 -0.05617509230277147 -0.9462133917273442 0.44976978044009097 0.6948360494103842 0.4688267531573708 -0.43015964725849276 0.88337138064992 0.872607014585881 -0.12445787978235603 1.2773986118709169 -0.34653881169896805 1.7145741674479837 0.28184653576391 0.9453935445575931 -0.08725725707031629 -0.31343164615781166 0.04914230808407592 -0.9660974341646822 -2.3145564835729195 1.8779269509434797 -1.496444064680591 0.15268255820080573 1.267678990810595 0.4079287983392141 -0.8871954924104962 0.5476378153181393 -0.8455998797999155 0.6564686170465165 -0.3961305916906672 0.5738447764761734 0.6012788222082077 0.5861555581587523 1.4615467142177885 0.31880155839085633 0.1324467863645445 1.2251084533917698 0.30477228807135665 0.8551976102056804 1.0234375908475861 -0.009943715833536648 -0.2977309015628161 0.8129552321959161 1.0281170020446422 1.4899939108684073 -0.5317441445864465 0.8292865909019762 -0.14246990519978203 -0.6358459616137564 0.05325862177786122; 0.8095450203263037 -1.3998417354526633 -1.7803751230855747 -0.14486473643923517 0.9054085058819813 -0.30617274746189543 -0.3132171703525356 0.18082207602889008 -0.26994624440589515 -0.4160117554868237 -1.1067346622966805 -0.4188370245442999 0.1611760747744714 -0.042064447204050275 -1.4373901048142876 1.3297054255452707 0.4939217213667447 0.10137985843755275 -0.33409029261017004 -0.5232157775079697 0.10593254479029778 -0.9062729738484672 0.6757861263919237 -1.653852353230962 -0.9697655743804426 -0.726103740244699 0.5251353357684905 -0.7118976499253795 0.24443237826493708 -0.5915843146760502 -1.4695190545826708 1.3490166695581072 0.7405497227858258 0.32813365278789924 -0.09622768514840534 0.2425230360258562 1.0829581741637058 -0.4186336820784414 0.16419645458537224 0.6180034616195949 0.5055318807387231 0.8513921210273472 2.0344779675986118 -0.2164154975958223 -0.08019808444595983 -1.106448539835119 1.7437619157656814 0.1827568676710491 -0.007319651445554937 1.3015719811334412 -0.10321235878247731 0.6960395952407312 1.0182464738351733 -0.4781151167669725 1.096020964911026 -1.528099223461473 0.8871988888029005 0.3062325508873537 -2.02478339827095 0.46133782436201254 1.8750853485593568 0.7044818013672722 1.7242020132887534 -0.10844041077589275; 0.18649526602425837 -2.1616174511164927 0.9199264475353843 -0.5374267686809783 -0.2806705642533469 -0.5201448765929291 -0.5991541894740103 1.0741216425491638 0.9717325226361772 -1.4282256228220975 1.1157655766039312 -0.76438586090678 1.0388444685749976 -0.45104902703681926 1.0814523021368785 -0.7492437219007745 -0.20171227977875272 -0.24213172818330272 -0.9028142176266122 -0.3908937244729126 2.0327407339607446 -0.6922704144730226 0.022403251415744684 0.20076454512289257 -2.10837125153021 1.228916925079844 -0.8923192342435473 0.3789966166043577 0.7092663501274921 0.17057208759868744 -2.9627213409016044 1.0065017059274757 0.9688062441832757 1.6628602250565296 2.222182830832863 -1.2528611545101387 -0.4816525607743386 1.5204763338058132 -0.0551989111995147 -1.0405310839885644 2.570925297855254 0.8193812370838509 -0.04006702842618318 0.6754191917985158 0.3719660997621092 0.549989556382327 0.26232925930377426 -0.20579449485068363 0.974357827762725 -0.09791971476330741 0.24050570787916786 0.6635594000676452 -0.9526863911949841 0.11944426051875934 1.1301786922886836 0.16249519825659983 0.1498219661911861 -0.6042922751923382 1.562494080255093 -0.8175969829874286 0.11163197913123876 -1.1858419668065068 -0.7682662625020776 -0.2708854354339707; 1.2612763814889334 0.7503608905547746 1.0133837685896971 0.3303958398075211 0.9170369150628451 0.44354012052199915 -0.22615490493366128 -0.7086998015533558 0.20943543096057013 -0.41876781440739735 0.5322814235476071 -1.0412275818395358 -0.20669916529839213 -0.6073055167118576 1.1406470943242815 0.31156401550919693 -1.0640615905225197 2.131381479623885 -0.1132599617380234 -1.9431746986874192 -0.2634936736677856 -0.5853949840044695 -0.037780713383993005 0.8312327586140836 1.098314906041236 -0.4246748716175331 -2.232185037231852 -0.718179662772988 0.109972144804357 -1.5472294657260606 0.04310600484827225 0.3185434285674525 1.3591722650589009 2.186712156080075 -0.017708123555468264 -0.17480600445378167 0.9697683977824026 0.4946982866765445 -0.8198395804065132 0.3176120212790256 0.09753313790514258 0.3618652508080419 0.33486912971846783 0.9746554466643943 0.490233539449729 -1.0891040415568423 -0.06868879098473095 -1.7005733702628363 0.1119606807612434 0.6099720524643546 2.1173464573336807 -0.9197182866358794 0.1740693122024232 0.5533276758363409 -0.19596228503692814 0.9131393663278079 0.09852674818498962 -0.7297761286626302 -0.38000105549719615 -0.798350184456898 2.1782430589904576 0.839923631688655 0.8773809380068727 -0.9874871771300214; 0.37571955669784435 -0.26754314183437966 0.8239758832831544 -1.1101612730621402 -0.22439859061181047 1.2976379437252512 -0.48257678115756 -1.3693227513692965 -1.933454715120876 0.3580111467250308 0.8096330304958185 -0.2922936358377628 -0.7550363301714204 -0.37119217294764195 0.7266511143050889 1.2939269855338855 0.6466946731911627 -0.33669907016469186 0.6931950321991641 -1.1533032742694536 -0.7707868600968151 -1.6826992169621298 -0.8699644551846805 -1.6354475861577507 -1.4903105441141535 1.411369375628817 -0.18042843154004917 -0.25373493650406803 1.5449987956844191 -0.9926586406747456 -1.0432959416842886 -0.19669353414547727 -1.3092679086144023 -0.7992972096658532 -0.4270902189884243 1.222610292227493 1.1222271274962468 2.7606852493408365 -1.5453586621563618 0.42203303409229803 0.7803313882930225 -0.8671333630469856 0.6893636809872051 0.03775661229150008 0.9817898556294787 0.707525238423665 -0.2749517392584188 -0.4668007016683997 -0.2786900580064644 -0.017976671375997826 -0.7756935187143498 -0.501222879083485 -1.098555577209325 -0.4528561482854666 0.2921919274747036 -0.6831304929715186 1.1438441702825415 1.7116929603836908 1.4731906951762204 -0.5595527638930505 -0.024751709534013656 -0.40001063595674174 -0.4418131669270249 0.017738107897292067]\n",
       "│\n",
       "└── :s_right : 0.23254491150153958\n"
      ]
     },
     "execution_count": 16,
     "metadata": {},
     "output_type": "execute_result"
    }
   ],
   "source": [
    "# draw a random sample from the generative model\n",
    "trace = Gen.simulate(room, ())\n",
    "get_choices(trace)"
   ]
  },
  {
   "cell_type": "code",
   "execution_count": 17,
   "id": "32cc7e2a-4479-4bf3-b0c9-5959c2ec177b",
   "metadata": {
    "scrolled": true
   },
   "outputs": [
    {
     "data": {
      "text/html": [
       "<img src=\"data:image/jpeg;base64, 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\">"
      ],
      "text/plain": [
       "PyObject Bitmap[\n",
       "  pixel_format = rgb,\n",
       "  component_format = float32,\n",
       "  size = [64, 64],\n",
       "  srgb_gamma = 1,\n",
       "  struct = Struct<12>[\n",
       "    float32 R; // @0, gamma, premultiplied alpha\n",
       "    float32 G; // @4, gamma, premultiplied alpha\n",
       "    float32 B; // @8, gamma, premultiplied alpha\n",
       "  ],\n",
       "  data = [ 48 KiB of image data ]\n",
       "]"
      ]
     },
     "execution_count": 17,
     "metadata": {},
     "output_type": "execute_result"
    }
   ],
   "source": [
    "view_image(trace)"
   ]
  },
  {
   "cell_type": "markdown",
   "id": "8adfef7b-2982-4e50-83f4-c681eff4ead3",
   "metadata": {
    "scrolled": true
   },
   "source": [
    "Now let's load a scene from mitsuba3's gallery and render it as our observed image"
   ]
  },
  {
   "cell_type": "code",
   "execution_count": 18,
   "id": "4dd06704-baa0-421b-b2cc-437f7b47c90d",
   "metadata": {
    "scrolled": true
   },
   "outputs": [
    {
     "data": {
      "text/html": [
       "<img src=\"data:image/jpeg;base64, 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\">"
      ],
      "text/plain": [
       "PyObject Bitmap[\n",
       "  pixel_format = rgb,\n",
       "  component_format = float32,\n",
       "  size = [64, 64],\n",
       "  srgb_gamma = 1,\n",
       "  struct = Struct<12>[\n",
       "    float32 R; // @0, gamma, premultiplied alpha\n",
       "    float32 G; // @4, gamma, premultiplied alpha\n",
       "    float32 B; // @8, gamma, premultiplied alpha\n",
       "  ],\n",
       "  data = [ 48 KiB of image data ]\n",
       "]"
      ]
     },
     "execution_count": 18,
     "metadata": {},
     "output_type": "execute_result"
    }
   ],
   "source": [
    "# load the scene from an xml file (instead of a dict)\n",
    "obs_scene_config = mi.load_file(\"./scenes/cbox.xml\")\n",
    "obs_scene = ModelParams(scene_d=PyDict(), scene=obs_scene_config, spp=128)\n",
    "obs_bitmap = render_bitmap(obs_scene)\n",
    "obs_image = Gen.choicemap()\n",
    "p = @pycall np.array(obs_bitmap)::Array{Float64, 3}\n",
    "obs_image[:pred] = p[:, :, 1]\n",
    "# again, hoping to avoid that nasty bug...\n",
    "obs_scene = 1\n",
    "# to view the image on your notebook\n",
    "obs_bitmap"
   ]
  },
  {
   "cell_type": "markdown",
   "id": "d2db4031-faaf-469b-aec1-ddea201c26d6",
   "metadata": {},
   "source": [
    "### Inference: Random walk MH\n",
    "\n",
    "We will implement a simple random walk MH procedure. In particular, we will make (truncated) gaussian proposals over the sizes of each of the two spheres in the scene. Otherwise, this is super off-the-shelf MCMC code in Gen."
   ]
  },
  {
   "cell_type": "code",
   "execution_count": 19,
   "id": "ba42d20e-bf8a-4b64-bc36-83ccab4b2b7f",
   "metadata": {},
   "outputs": [],
   "source": [
    "# include the truncated norm distribution\n",
    "include(\"truncatednorm.jl\")"
   ]
  },
  {
   "cell_type": "markdown",
   "id": "ad1b09bd-cc3a-4dde-b6f3-a837f69052f4",
   "metadata": {},
   "source": [
    "Define proposals for perturbing the two latent variables in the generative model"
   ]
  },
  {
   "cell_type": "code",
   "execution_count": 20,
   "id": "fb2a7b17-021e-474c-945c-aa0fbe5e2260",
   "metadata": {},
   "outputs": [],
   "source": [
    "# proposal distribution for the scale variables\n",
    "@gen function scale_proposal(current_trace)\n",
    "    # trunc_norm(mean, std, lower_bound, upper_bound)\n",
    "    # why do we need a truncated norm, instead of a regular normal distribution?\n",
    "    s_left ~ trunc_norm(current_trace[:s_left], 0.25, 0.01, 1.)\n",
    "    s_right ~ trunc_norm(current_trace[:s_right], 0.25, 0.01, 1.)\n",
    "end\n",
    ";"
   ]
  },
  {
   "cell_type": "markdown",
   "id": "4671dc4e-6e8a-4002-8375-d84b9627bf55",
   "metadata": {},
   "source": [
    "The inference procedure couldn't really get any simpler: Make MH moves on the two latents and that's all."
   ]
  },
  {
   "cell_type": "code",
   "execution_count": 21,
   "id": "34941dfb-6d2d-4cc7-8ddd-e6837267d154",
   "metadata": {},
   "outputs": [],
   "source": [
    "function random_walk_mh(tr)\n",
    "    # make a random-walk update on scale variables\n",
    "    (tr, accepted) = mh(tr, scale_proposal, ())\n",
    "\n",
    "    # return the updated trace\n",
    "    tr\n",
    "end\n",
    ";"
   ]
  },
  {
   "cell_type": "markdown",
   "id": "0fb1d0f1-7010-44e3-ba53-d9cf175d5980",
   "metadata": {},
   "source": [
    "Now call this inference procedure in an iterative loop -- notice that we are going for a rather small number of iterations -- `K=50` -- let's see if this works!"
   ]
  },
  {
   "cell_type": "code",
   "execution_count": 22,
   "id": "b1baabcd-5cf2-49d4-adfa-8f2a3ff757cf",
   "metadata": {
    "scrolled": true
   },
   "outputs": [],
   "source": [
    "function do_inference()\n",
    "    K = 100\n",
    "    t, = generate(room, (), obs_image)\n",
    "    scores = Vector{Float64}(undef, K)\n",
    "    @showprogress for i in 1:K\n",
    "        t = random_walk_mh(t)\n",
    "        scores[i] = get_score(t)\n",
    "    end;\n",
    "    return scores, t\n",
    "end\n",
    ";"
   ]
  },
  {
   "cell_type": "code",
   "execution_count": 23,
   "id": "9bd3b4fd-7cb8-4b93-b51d-5a110c380be1",
   "metadata": {
    "scrolled": true
   },
   "outputs": [
    {
     "name": "stderr",
     "output_type": "stream",
     "text": [
      "\u001b[32mProgress: 100%|█████████████████████████████████████████| Time: 0:00:18\u001b[39m\n"
     ]
    },
    {
     "data": {
      "text/plain": [
       "([-3801.753595763265, -3801.753595763265, -3800.3713876029274, -3800.3713876029274, -3800.3713876029274, -3800.3713876029274, -3800.3713876029274, -3800.3713876029274, -3789.2293536746442, -3789.2293536746442  …  -3788.4714282125583, -3788.4714282125583, -3788.4714282125583, -3788.4714282125583, -3788.4714282125583, -3788.4714282125583, -3788.4714282125583, -3788.4714282125583, -3788.4714282125583, -3788.4714282125583], Gen.DynamicDSLTrace{DynamicDSLFunction{Any}}(DynamicDSLFunction{Any}(Dict{Symbol, Any}(), Dict{Symbol, Any}(), Type[], false, Union{Nothing, Some{Any}}[], var\"##room#292\", Bool[], false), Trie{Any, Gen.ChoiceOrCallRecord}(Dict{Any, Gen.ChoiceOrCallRecord}(:s_left => Gen.ChoiceOrCallRecord{Float64}(0.4416255286816788, 0.10536051565782628, NaN, true), :pred => Gen.ChoiceOrCallRecord{Matrix{Float64}}([0.0 0.0 … 0.0 0.0; 0.0 0.0010951956501230597 … 0.005541663616895676 0.0; … ; 0.0 0.006749952677637339 … 0.00588970584794879 0.0; 0.0 0.0 … 0.0 0.0], -3788.682149243874, NaN, true), :s_right => Gen.ChoiceOrCallRecord{Float64}(0.1787585655553053, 0.10536051565782628, NaN, true)), Dict{Any, Trie{Any, Gen.ChoiceOrCallRecord}}()), false, -3788.4714282125583, 0.0, (), [0.0 0.0 … 0.0 0.0; 0.0 0.0010951956501230597 … 0.005541663616895676 0.0; … ; 0.0 0.006749952677637339 … 0.00588970584794879 0.0; 0.0 0.0 … 0.0 0.0]))"
      ]
     },
     "execution_count": 23,
     "metadata": {},
     "output_type": "execute_result"
    }
   ],
   "source": [
    "# call the inference procedure\n",
    "(scores, t) = do_inference()"
   ]
  },
  {
   "cell_type": "markdown",
   "id": "072a472f-94dd-4567-a47f-04d123fe55ad",
   "metadata": {},
   "source": [
    "Now, how do I know if my inference procedure worked? \n",
    "\n",
    "Let's first visualize to see if our log likelihood scores improved over iterations (x-axis: iterations; y-axis: log scores)."
   ]
  },
  {
   "cell_type": "code",
   "execution_count": 24,
   "id": "8b5dd7af-0575-49c9-92a7-d8f28281890f",
   "metadata": {
    "scrolled": true
   },
   "outputs": [
    {
     "data": {
      "image/png": "[encoded data removed]",
      "image/svg+xml": [
       "<?xml version=\"1.0\" encoding=\"utf-8\"?>\n",
       "<svg xmlns=\"http://www.w3.org/2000/svg\" xmlns:xlink=\"http://www.w3.org/1999/xlink\" width=\"1000\" height=\"200\" viewBox=\"0 0 4000 800\">\n",
       "<defs>\n",
       "  <clipPath id=\"clip520\">\n",
       "    <rect x=\"0\" y=\"0\" width=\"4000\" height=\"800\"/>\n",
       "  </clipPath>\n",
       "</defs>\n",
       "<path clip-path=\"url(#clip520)\" d=\"M0 800 L4000 800 L4000 0 L0 0  Z\" fill=\"#ffffff\" fill-rule=\"evenodd\" fill-opacity=\"1\"/>\n",
       "<defs>\n",
       "  <clipPath id=\"clip521\">\n",
       "    <rect x=\"800\" y=\"0\" width=\"2801\" height=\"800\"/>\n",
       "  </clipPath>\n",
       "</defs>\n",
       "<path clip-path=\"url(#clip520)\" d=\"M255.098 718.64 L3952.76 718.64 L3952.76 47.2441 L255.098 47.2441  Z\" fill=\"#ffffff\" fill-rule=\"evenodd\" fill-opacity=\"1\"/>\n",
       "<defs>\n",
       "  <clipPath id=\"clip522\">\n",
       "    <rect x=\"255\" y=\"47\" width=\"3699\" height=\"672\"/>\n",
       "  </clipPath>\n",
       "</defs>\n",
       "<polyline clip-path=\"url(#clip522)\" style=\"stroke:#000000; stroke-linecap:round; stroke-linejoin:round; stroke-width:2; stroke-opacity:0.1; fill:none\" points=\"324.513,718.64 324.513,47.2441 \"/>\n",
       "<polyline clip-path=\"url(#clip522)\" style=\"stroke:#000000; stroke-linecap:round; stroke-linejoin:round; stroke-width:2; stroke-opacity:0.1; fill:none\" points=\"1205.41,718.64 1205.41,47.2441 \"/>\n",
       "<polyline clip-path=\"url(#clip522)\" style=\"stroke:#000000; stroke-linecap:round; stroke-linejoin:round; stroke-width:2; stroke-opacity:0.1; fill:none\" points=\"2086.31,718.64 2086.31,47.2441 \"/>\n",
       "<polyline clip-path=\"url(#clip522)\" style=\"stroke:#000000; stroke-linecap:round; stroke-linejoin:round; stroke-width:2; stroke-opacity:0.1; fill:none\" points=\"2967.21,718.64 2967.21,47.2441 \"/>\n",
       "<polyline clip-path=\"url(#clip522)\" style=\"stroke:#000000; stroke-linecap:round; stroke-linejoin:round; stroke-width:2; stroke-opacity:0.1; fill:none\" points=\"3848.11,718.64 3848.11,47.2441 \"/>\n",
       "<polyline clip-path=\"url(#clip520)\" style=\"stroke:#000000; stroke-linecap:round; stroke-linejoin:round; stroke-width:4; stroke-opacity:1; fill:none\" points=\"255.098,718.64 3952.76,718.64 \"/>\n",
       "<polyline clip-path=\"url(#clip520)\" style=\"stroke:#000000; stroke-linecap:round; stroke-linejoin:round; stroke-width:4; stroke-opacity:1; fill:none\" points=\"324.513,718.64 324.513,699.742 \"/>\n",
       "<polyline clip-path=\"url(#clip520)\" style=\"stroke:#000000; stroke-linecap:round; stroke-linejoin:round; stroke-width:4; stroke-opacity:1; fill:none\" points=\"1205.41,718.64 1205.41,699.742 \"/>\n",
       "<polyline clip-path=\"url(#clip520)\" style=\"stroke:#000000; stroke-linecap:round; stroke-linejoin:round; stroke-width:4; stroke-opacity:1; fill:none\" points=\"2086.31,718.64 2086.31,699.742 \"/>\n",
       "<polyline clip-path=\"url(#clip520)\" style=\"stroke:#000000; stroke-linecap:round; stroke-linejoin:round; stroke-width:4; stroke-opacity:1; fill:none\" points=\"2967.21,718.64 2967.21,699.742 \"/>\n",
       "<polyline clip-path=\"url(#clip520)\" style=\"stroke:#000000; stroke-linecap:round; stroke-linejoin:round; stroke-width:4; stroke-opacity:1; fill:none\" points=\"3848.11,718.64 3848.11,699.742 \"/>\n",
       "<path clip-path=\"url(#clip520)\" d=\"M324.513 762.359 Q320.901 762.359 319.073 765.923 Q317.267 769.465 317.267 776.595 Q317.267 783.701 319.073 787.266 Q320.901 790.807 324.513 790.807 Q328.147 790.807 329.952 787.266 Q331.781 783.701 331.781 776.595 Q331.781 769.465 329.952 765.923 Q328.147 762.359 324.513 762.359 M324.513 758.655 Q330.323 758.655 333.378 763.261 Q336.457 767.845 336.457 776.595 Q336.457 785.321 333.378 789.928 Q330.323 794.511 324.513 794.511 Q318.702 794.511 315.624 789.928 Q312.568 785.321 312.568 776.595 Q312.568 767.845 315.624 763.261 Q318.702 758.655 324.513 758.655 Z\" fill=\"#000000\" fill-rule=\"nonzero\" fill-opacity=\"1\" /><path clip-path=\"url(#clip520)\" d=\"M1184.68 789.905 L1201 789.905 L1201 793.84 L1179.06 793.84 L1179.06 789.905 Q1181.72 787.15 1186.3 782.52 Q1190.91 777.868 1192.09 776.525 Q1194.33 774.002 1195.21 772.266 Q1196.12 770.507 1196.12 768.817 Q1196.12 766.062 1194.17 764.326 Q1192.25 762.59 1189.15 762.59 Q1186.95 762.59 1184.5 763.354 Q1182.07 764.118 1179.29 765.669 L1179.29 760.947 Q1182.11 759.812 1184.57 759.234 Q1187.02 758.655 1189.06 758.655 Q1194.43 758.655 1197.62 761.34 Q1200.82 764.025 1200.82 768.516 Q1200.82 770.646 1200.01 772.567 Q1199.22 774.465 1197.11 777.058 Q1196.53 777.729 1193.43 780.946 Q1190.33 784.141 1184.68 789.905 Z\" fill=\"#000000\" fill-rule=\"nonzero\" fill-opacity=\"1\" /><path clip-path=\"url(#clip520)\" d=\"M1210.86 759.28 L1229.22 759.28 L1229.22 763.215 L1215.14 763.215 L1215.14 771.687 Q1216.16 771.34 1217.18 771.178 Q1218.2 770.993 1219.22 770.993 Q1225.01 770.993 1228.39 774.164 Q1231.76 777.335 1231.76 782.752 Q1231.76 788.331 1228.29 791.432 Q1224.82 794.511 1218.5 794.511 Q1216.33 794.511 1214.06 794.141 Q1211.81 793.77 1209.4 793.03 L1209.4 788.331 Q1211.49 789.465 1213.71 790.02 Q1215.93 790.576 1218.41 790.576 Q1222.41 790.576 1224.75 788.47 Q1227.09 786.363 1227.09 782.752 Q1227.09 779.141 1224.75 777.034 Q1222.41 774.928 1218.41 774.928 Q1216.53 774.928 1214.66 775.345 Q1212.81 775.761 1210.86 776.641 L1210.86 759.28 Z\" fill=\"#000000\" fill-rule=\"nonzero\" fill-opacity=\"1\" /><path clip-path=\"url(#clip520)\" d=\"M2061.01 759.28 L2079.36 759.28 L2079.36 763.215 L2065.29 763.215 L2065.29 771.687 Q2066.31 771.34 2067.33 771.178 Q2068.35 770.993 2069.36 770.993 Q2075.15 770.993 2078.53 774.164 Q2081.91 777.335 2081.91 782.752 Q2081.91 788.331 2078.44 791.432 Q2074.97 794.511 2068.65 794.511 Q2066.47 794.511 2064.2 794.141 Q2061.96 793.77 2059.55 793.03 L2059.55 788.331 Q2061.63 789.465 2063.86 790.02 Q2066.08 790.576 2068.55 790.576 Q2072.56 790.576 2074.9 788.47 Q2077.23 786.363 2077.23 782.752 Q2077.23 779.141 2074.9 777.034 Q2072.56 774.928 2068.55 774.928 Q2066.68 774.928 2064.8 775.345 Q2062.95 775.761 2061.01 776.641 L2061.01 759.28 Z\" fill=\"#000000\" fill-rule=\"nonzero\" fill-opacity=\"1\" /><path clip-path=\"url(#clip520)\" d=\"M2101.12 762.359 Q2097.51 762.359 2095.68 765.923 Q2093.88 769.465 2093.88 776.595 Q2093.88 783.701 2095.68 787.266 Q2097.51 790.807 2101.12 790.807 Q2104.76 790.807 2106.56 787.266 Q2108.39 783.701 2108.39 776.595 Q2108.39 769.465 2106.56 765.923 Q2104.76 762.359 2101.12 762.359 M2101.12 758.655 Q2106.93 758.655 2109.99 763.261 Q2113.07 767.845 2113.07 776.595 Q2113.07 785.321 2109.99 789.928 Q2106.93 794.511 2101.12 794.511 Q2095.31 794.511 2092.23 789.928 Q2089.18 785.321 2089.18 776.595 Q2089.18 767.845 2092.23 763.261 Q2095.31 758.655 2101.12 758.655 Z\" fill=\"#000000\" fill-rule=\"nonzero\" fill-opacity=\"1\" /><path clip-path=\"url(#clip520)\" d=\"M2941.06 759.28 L2963.28 759.28 L2963.28 761.271 L2950.74 793.84 L2945.85 793.84 L2957.66 763.215 L2941.06 763.215 L2941.06 759.28 Z\" fill=\"#000000\" fill-rule=\"nonzero\" fill-opacity=\"1\" /><path clip-path=\"url(#clip520)\" d=\"M2972.45 759.28 L2990.81 759.28 L2990.81 763.215 L2976.73 763.215 L2976.73 771.687 Q2977.75 771.34 2978.77 771.178 Q2979.79 770.993 2980.81 770.993 Q2986.59 770.993 2989.97 774.164 Q2993.35 777.335 2993.35 782.752 Q2993.35 788.331 2989.88 791.432 Q2986.41 794.511 2980.09 794.511 Q2977.91 794.511 2975.64 794.141 Q2973.4 793.77 2970.99 793.03 L2970.99 788.331 Q2973.08 789.465 2975.3 790.02 Q2977.52 790.576 2980 790.576 Q2984 790.576 2986.34 788.47 Q2988.68 786.363 2988.68 782.752 Q2988.68 779.141 2986.34 777.034 Q2984 774.928 2980 774.928 Q2978.12 774.928 2976.25 775.345 Q2974.39 775.761 2972.45 776.641 L2972.45 759.28 Z\" fill=\"#000000\" fill-rule=\"nonzero\" fill-opacity=\"1\" /><path clip-path=\"url(#clip520)\" d=\"M3807.71 789.905 L3815.35 789.905 L3815.35 763.539 L3807.04 765.206 L3807.04 760.947 L3815.3 759.28 L3819.98 759.28 L3819.98 789.905 L3827.62 789.905 L3827.62 793.84 L3807.71 793.84 L3807.71 789.905 Z\" fill=\"#000000\" fill-rule=\"nonzero\" fill-opacity=\"1\" /><path clip-path=\"url(#clip520)\" d=\"M3847.06 762.359 Q3843.45 762.359 3841.62 765.923 Q3839.82 769.465 3839.82 776.595 Q3839.82 783.701 3841.62 787.266 Q3843.45 790.807 3847.06 790.807 Q3850.7 790.807 3852.5 787.266 Q3854.33 783.701 3854.33 776.595 Q3854.33 769.465 3852.5 765.923 Q3850.7 762.359 3847.06 762.359 M3847.06 758.655 Q3852.87 758.655 3855.93 763.261 Q3859.01 767.845 3859.01 776.595 Q3859.01 785.321 3855.93 789.928 Q3852.87 794.511 3847.06 794.511 Q3841.25 794.511 3838.17 789.928 Q3835.12 785.321 3835.12 776.595 Q3835.12 767.845 3838.17 763.261 Q3841.25 758.655 3847.06 758.655 Z\" fill=\"#000000\" fill-rule=\"nonzero\" fill-opacity=\"1\" /><path clip-path=\"url(#clip520)\" d=\"M3877.23 762.359 Q3873.61 762.359 3871.79 765.923 Q3869.98 769.465 3869.98 776.595 Q3869.98 783.701 3871.79 787.266 Q3873.61 790.807 3877.23 790.807 Q3880.86 790.807 3882.67 787.266 Q3884.49 783.701 3884.49 776.595 Q3884.49 769.465 3882.67 765.923 Q3880.86 762.359 3877.23 762.359 M3877.23 758.655 Q3883.04 758.655 3886.09 763.261 Q3889.17 767.845 3889.17 776.595 Q3889.17 785.321 3886.09 789.928 Q3883.04 794.511 3877.23 794.511 Q3871.42 794.511 3868.34 789.928 Q3865.28 785.321 3865.28 776.595 Q3865.28 767.845 3868.34 763.261 Q3871.42 758.655 3877.23 758.655 Z\" fill=\"#000000\" fill-rule=\"nonzero\" fill-opacity=\"1\" /><polyline clip-path=\"url(#clip522)\" style=\"stroke:#000000; stroke-linecap:round; stroke-linejoin:round; stroke-width:2; stroke-opacity:0.1; fill:none\" points=\"255.098,666.738 3952.76,666.738 \"/>\n",
       "<polyline clip-path=\"url(#clip522)\" style=\"stroke:#000000; stroke-linecap:round; stroke-linejoin:round; stroke-width:2; stroke-opacity:0.1; fill:none\" points=\"255.098,535.767 3952.76,535.767 \"/>\n",
       "<polyline clip-path=\"url(#clip522)\" style=\"stroke:#000000; stroke-linecap:round; stroke-linejoin:round; stroke-width:2; stroke-opacity:0.1; fill:none\" points=\"255.098,404.796 3952.76,404.796 \"/>\n",
       "<polyline clip-path=\"url(#clip522)\" style=\"stroke:#000000; stroke-linecap:round; stroke-linejoin:round; stroke-width:2; stroke-opacity:0.1; fill:none\" points=\"255.098,273.824 3952.76,273.824 \"/>\n",
       "<polyline clip-path=\"url(#clip522)\" style=\"stroke:#000000; stroke-linecap:round; stroke-linejoin:round; stroke-width:2; stroke-opacity:0.1; fill:none\" points=\"255.098,142.853 3952.76,142.853 \"/>\n",
       "<polyline clip-path=\"url(#clip520)\" style=\"stroke:#000000; stroke-linecap:round; stroke-linejoin:round; stroke-width:4; stroke-opacity:1; fill:none\" points=\"255.098,718.64 255.098,47.2441 \"/>\n",
       "<polyline clip-path=\"url(#clip520)\" style=\"stroke:#000000; stroke-linecap:round; stroke-linejoin:round; stroke-width:4; stroke-opacity:1; fill:none\" points=\"255.098,666.738 273.995,666.738 \"/>\n",
       "<polyline clip-path=\"url(#clip520)\" style=\"stroke:#000000; stroke-linecap:round; stroke-linejoin:round; stroke-width:4; stroke-opacity:1; fill:none\" points=\"255.098,535.767 273.995,535.767 \"/>\n",
       "<polyline clip-path=\"url(#clip520)\" style=\"stroke:#000000; stroke-linecap:round; stroke-linejoin:round; stroke-width:4; stroke-opacity:1; fill:none\" points=\"255.098,404.796 273.995,404.796 \"/>\n",
       "<polyline clip-path=\"url(#clip520)\" style=\"stroke:#000000; stroke-linecap:round; stroke-linejoin:round; stroke-width:4; stroke-opacity:1; fill:none\" points=\"255.098,273.824 273.995,273.824 \"/>\n",
       "<polyline clip-path=\"url(#clip520)\" style=\"stroke:#000000; stroke-linecap:round; stroke-linejoin:round; stroke-width:4; stroke-opacity:1; fill:none\" points=\"255.098,142.853 273.995,142.853 \"/>\n",
       "<path clip-path=\"url(#clip520)\" d=\"M44.1264 667.19 L73.8021 667.19 L73.8021 671.125 L44.1264 671.125 L44.1264 667.19 Z\" fill=\"#000000\" fill-rule=\"nonzero\" fill-opacity=\"1\" /><path clip-path=\"url(#clip520)\" d=\"M98.0613 665.384 Q101.418 666.102 103.293 668.37 Q105.191 670.639 105.191 673.972 Q105.191 679.088 101.672 681.889 Q98.1539 684.69 91.6724 684.69 Q89.4965 684.69 87.1817 684.25 Q84.89 683.833 82.4364 682.977 L82.4364 678.463 Q84.3808 679.597 86.6956 680.176 Q89.0104 680.754 91.5335 680.754 Q95.9317 680.754 98.2233 679.018 Q100.538 677.282 100.538 673.972 Q100.538 670.917 98.3853 669.204 Q96.2557 667.467 92.4363 667.467 L88.4085 667.467 L88.4085 663.625 L92.6215 663.625 Q96.0705 663.625 97.8992 662.259 Q99.7279 660.87 99.7279 658.278 Q99.7279 655.616 97.8298 654.204 Q95.9548 652.768 92.4363 652.768 Q90.515 652.768 88.316 653.185 Q86.1169 653.602 83.478 654.481 L83.478 650.315 Q86.14 649.574 88.4548 649.204 Q90.7928 648.833 92.853 648.833 Q98.177 648.833 101.279 651.264 Q104.381 653.671 104.381 657.792 Q104.381 660.662 102.737 662.653 Q101.094 664.62 98.0613 665.384 Z\" fill=\"#000000\" fill-rule=\"nonzero\" fill-opacity=\"1\" /><path clip-path=\"url(#clip520)\" d=\"M124.057 667.606 Q120.723 667.606 118.802 669.389 Q116.904 671.171 116.904 674.296 Q116.904 677.421 118.802 679.204 Q120.723 680.986 124.057 680.986 Q127.39 680.986 129.311 679.204 Q131.232 677.398 131.232 674.296 Q131.232 671.171 129.311 669.389 Q127.413 667.606 124.057 667.606 M119.381 665.616 Q116.371 664.875 114.682 662.815 Q113.015 660.755 113.015 657.792 Q113.015 653.648 115.955 651.241 Q118.918 648.833 124.057 648.833 Q129.219 648.833 132.158 651.241 Q135.098 653.648 135.098 657.792 Q135.098 660.755 133.408 662.815 Q131.742 664.875 128.756 665.616 Q132.135 666.403 134.01 668.694 Q135.908 670.986 135.908 674.296 Q135.908 679.319 132.83 682.004 Q129.774 684.69 124.057 684.69 Q118.339 684.69 115.26 682.004 Q112.205 679.319 112.205 674.296 Q112.205 670.986 114.103 668.694 Q116.001 666.403 119.381 665.616 M117.668 658.231 Q117.668 660.917 119.334 662.421 Q121.024 663.926 124.057 663.926 Q127.066 663.926 128.756 662.421 Q130.469 660.917 130.469 658.231 Q130.469 655.546 128.756 654.042 Q127.066 652.537 124.057 652.537 Q121.024 652.537 119.334 654.042 Q117.668 655.546 117.668 658.231 Z\" fill=\"#000000\" fill-rule=\"nonzero\" fill-opacity=\"1\" /><path clip-path=\"url(#clip520)\" d=\"M154.218 652.537 Q150.607 652.537 148.779 656.102 Q146.973 659.643 146.973 666.773 Q146.973 673.879 148.779 677.444 Q150.607 680.986 154.218 680.986 Q157.853 680.986 159.658 677.444 Q161.487 673.879 161.487 666.773 Q161.487 659.643 159.658 656.102 Q157.853 652.537 154.218 652.537 M154.218 648.833 Q160.029 648.833 163.084 653.44 Q166.163 658.023 166.163 666.773 Q166.163 675.5 163.084 680.106 Q160.029 684.69 154.218 684.69 Q148.408 684.69 145.33 680.106 Q142.274 675.5 142.274 666.773 Q142.274 658.023 145.33 653.44 Q148.408 648.833 154.218 648.833 Z\" fill=\"#000000\" fill-rule=\"nonzero\" fill-opacity=\"1\" /><path clip-path=\"url(#clip520)\" d=\"M175.19 680.083 L182.829 680.083 L182.829 653.718 L174.519 655.384 L174.519 651.125 L182.783 649.458 L187.459 649.458 L187.459 680.083 L195.098 680.083 L195.098 684.018 L175.19 684.018 L175.19 680.083 Z\" fill=\"#000000\" fill-rule=\"nonzero\" fill-opacity=\"1\" /><path clip-path=\"url(#clip520)\" d=\"M42.9921 536.218 L72.6679 536.218 L72.6679 540.154 L42.9921 540.154 L42.9921 536.218 Z\" fill=\"#000000\" fill-rule=\"nonzero\" fill-opacity=\"1\" /><path clip-path=\"url(#clip520)\" d=\"M96.927 534.413 Q100.283 535.13 102.158 537.399 Q104.057 539.667 104.057 543.001 Q104.057 548.116 100.538 550.917 Q97.0196 553.718 90.5382 553.718 Q88.3623 553.718 86.0475 553.279 Q83.7558 552.862 81.3021 552.005 L81.3021 547.492 Q83.2465 548.626 85.5613 549.204 Q87.8761 549.783 90.3993 549.783 Q94.7974 549.783 97.0891 548.047 Q99.4039 546.311 99.4039 543.001 Q99.4039 539.945 97.2511 538.232 Q95.1215 536.496 91.3021 536.496 L87.2743 536.496 L87.2743 532.654 L91.4872 532.654 Q94.9363 532.654 96.765 531.288 Q98.5937 529.899 98.5937 527.306 Q98.5937 524.644 96.6955 523.232 Q94.8206 521.797 91.3021 521.797 Q89.3808 521.797 87.1817 522.214 Q84.9826 522.631 82.3438 523.51 L82.3438 519.344 Q85.0058 518.603 87.3206 518.232 Q89.6585 517.862 91.7187 517.862 Q97.0428 517.862 100.145 520.293 Q103.246 522.7 103.246 526.82 Q103.246 529.691 101.603 531.681 Q99.9594 533.649 96.927 534.413 Z\" fill=\"#000000\" fill-rule=\"nonzero\" fill-opacity=\"1\" /><path clip-path=\"url(#clip520)\" d=\"M111.742 518.487 L133.964 518.487 L133.964 520.478 L121.418 553.047 L116.533 553.047 L128.339 522.422 L111.742 522.422 L111.742 518.487 Z\" fill=\"#000000\" fill-rule=\"nonzero\" fill-opacity=\"1\" /><path clip-path=\"url(#clip520)\" d=\"M143.223 552.329 L143.223 548.07 Q144.982 548.904 146.788 549.343 Q148.593 549.783 150.33 549.783 Q154.959 549.783 157.39 546.681 Q159.843 543.556 160.191 537.214 Q158.848 539.205 156.788 540.269 Q154.728 541.334 152.228 541.334 Q147.042 541.334 144.01 538.209 Q141.001 535.061 141.001 529.621 Q141.001 524.297 144.149 521.08 Q147.297 517.862 152.529 517.862 Q158.524 517.862 161.672 522.468 Q164.843 527.052 164.843 535.802 Q164.843 543.973 160.954 548.857 Q157.089 553.718 150.538 553.718 Q148.779 553.718 146.973 553.371 Q145.168 553.024 143.223 552.329 M152.529 537.677 Q155.677 537.677 157.505 535.524 Q159.357 533.371 159.357 529.621 Q159.357 525.894 157.505 523.742 Q155.677 521.566 152.529 521.566 Q149.38 521.566 147.529 523.742 Q145.7 525.894 145.7 529.621 Q145.7 533.371 147.529 535.524 Q149.38 537.677 152.529 537.677 Z\" fill=\"#000000\" fill-rule=\"nonzero\" fill-opacity=\"1\" /><path clip-path=\"url(#clip520)\" d=\"M183.246 536.635 Q179.913 536.635 177.991 538.417 Q176.093 540.2 176.093 543.325 Q176.093 546.45 177.991 548.232 Q179.913 550.015 183.246 550.015 Q186.579 550.015 188.501 548.232 Q190.422 546.427 190.422 543.325 Q190.422 540.2 188.501 538.417 Q186.602 536.635 183.246 536.635 M178.57 534.644 Q175.561 533.904 173.871 531.843 Q172.204 529.783 172.204 526.82 Q172.204 522.677 175.144 520.269 Q178.107 517.862 183.246 517.862 Q188.408 517.862 191.348 520.269 Q194.288 522.677 194.288 526.82 Q194.288 529.783 192.598 531.843 Q190.931 533.904 187.945 534.644 Q191.325 535.431 193.2 537.723 Q195.098 540.015 195.098 543.325 Q195.098 548.348 192.019 551.033 Q188.964 553.718 183.246 553.718 Q177.528 553.718 174.45 551.033 Q171.394 548.348 171.394 543.325 Q171.394 540.015 173.292 537.723 Q175.19 535.431 178.57 534.644 M176.857 527.26 Q176.857 529.945 178.524 531.45 Q180.214 532.955 183.246 532.955 Q186.255 532.955 187.945 531.45 Q189.658 529.945 189.658 527.26 Q189.658 524.575 187.945 523.07 Q186.255 521.566 183.246 521.566 Q180.214 521.566 178.524 523.07 Q176.857 524.575 176.857 527.26 Z\" fill=\"#000000\" fill-rule=\"nonzero\" fill-opacity=\"1\" /><path clip-path=\"url(#clip520)\" d=\"M43.8949 405.247 L73.5707 405.247 L73.5707 409.182 L43.8949 409.182 L43.8949 405.247 Z\" fill=\"#000000\" fill-rule=\"nonzero\" fill-opacity=\"1\" /><path clip-path=\"url(#clip520)\" d=\"M97.8298 403.442 Q101.186 404.159 103.061 406.428 Q104.959 408.696 104.959 412.03 Q104.959 417.145 101.441 419.946 Q97.9224 422.747 91.4409 422.747 Q89.265 422.747 86.9502 422.307 Q84.6586 421.891 82.2049 421.034 L82.2049 416.52 Q84.1493 417.654 86.4641 418.233 Q88.7789 418.812 91.3021 418.812 Q95.7002 418.812 97.9918 417.076 Q100.307 415.34 100.307 412.03 Q100.307 408.974 98.1539 407.261 Q96.0242 405.525 92.2048 405.525 L88.1771 405.525 L88.1771 401.682 L92.39 401.682 Q95.8391 401.682 97.6678 400.317 Q99.4965 398.928 99.4965 396.335 Q99.4965 393.673 97.5983 392.261 Q95.7233 390.826 92.2048 390.826 Q90.2835 390.826 88.0845 391.243 Q85.8854 391.659 83.2465 392.539 L83.2465 388.372 Q85.9086 387.631 88.2234 387.261 Q90.5613 386.891 92.6215 386.891 Q97.9455 386.891 101.047 389.321 Q104.149 391.729 104.149 395.849 Q104.149 398.719 102.506 400.71 Q100.862 402.678 97.8298 403.442 Z\" fill=\"#000000\" fill-rule=\"nonzero\" fill-opacity=\"1\" /><path clip-path=\"url(#clip520)\" d=\"M112.645 387.516 L134.867 387.516 L134.867 389.506 L122.32 422.076 L117.436 422.076 L129.242 391.451 L112.645 391.451 L112.645 387.516 Z\" fill=\"#000000\" fill-rule=\"nonzero\" fill-opacity=\"1\" /><path clip-path=\"url(#clip520)\" d=\"M144.126 421.358 L144.126 417.099 Q145.885 417.932 147.691 418.372 Q149.496 418.812 151.232 418.812 Q155.862 418.812 158.292 415.71 Q160.746 412.585 161.093 406.243 Q159.751 408.233 157.691 409.298 Q155.63 410.363 153.13 410.363 Q147.945 410.363 144.913 407.238 Q141.904 404.09 141.904 398.65 Q141.904 393.326 145.052 390.108 Q148.2 386.891 153.431 386.891 Q159.427 386.891 162.575 391.497 Q165.746 396.081 165.746 404.83 Q165.746 413.002 161.857 417.886 Q157.992 422.747 151.441 422.747 Q149.681 422.747 147.876 422.4 Q146.07 422.053 144.126 421.358 M153.431 406.705 Q156.579 406.705 158.408 404.553 Q160.26 402.4 160.26 398.65 Q160.26 394.923 158.408 392.77 Q156.579 390.594 153.431 390.594 Q150.283 390.594 148.431 392.77 Q146.603 394.923 146.603 398.65 Q146.603 402.4 148.431 404.553 Q150.283 406.705 153.431 406.705 Z\" fill=\"#000000\" fill-rule=\"nonzero\" fill-opacity=\"1\" /><path clip-path=\"url(#clip520)\" d=\"M174.195 387.516 L192.552 387.516 L192.552 391.451 L178.478 391.451 L178.478 399.923 Q179.496 399.576 180.515 399.414 Q181.533 399.229 182.552 399.229 Q188.339 399.229 191.718 402.4 Q195.098 405.571 195.098 410.988 Q195.098 416.567 191.626 419.668 Q188.153 422.747 181.834 422.747 Q179.658 422.747 177.39 422.377 Q175.144 422.006 172.737 421.266 L172.737 416.567 Q174.82 417.701 177.042 418.256 Q179.265 418.812 181.741 418.812 Q185.746 418.812 188.084 416.705 Q190.422 414.599 190.422 410.988 Q190.422 407.377 188.084 405.27 Q185.746 403.164 181.741 403.164 Q179.866 403.164 177.991 403.58 Q176.14 403.997 174.195 404.877 L174.195 387.516 Z\" fill=\"#000000\" fill-rule=\"nonzero\" fill-opacity=\"1\" /><path clip-path=\"url(#clip520)\" d=\"M44.4967 274.276 L74.1725 274.276 L74.1725 278.211 L44.4967 278.211 L44.4967 274.276 Z\" fill=\"#000000\" fill-rule=\"nonzero\" fill-opacity=\"1\" /><path clip-path=\"url(#clip520)\" d=\"M98.4316 272.47 Q101.788 273.188 103.663 275.456 Q105.561 277.725 105.561 281.058 Q105.561 286.174 102.043 288.975 Q98.5242 291.776 92.0428 291.776 Q89.8669 291.776 87.5521 291.336 Q85.2604 290.919 82.8067 290.063 L82.8067 285.549 Q84.7512 286.683 87.066 287.262 Q89.3808 287.841 91.9039 287.841 Q96.302 287.841 98.5937 286.104 Q100.908 284.368 100.908 281.058 Q100.908 278.003 98.7557 276.29 Q96.6261 274.554 92.8067 274.554 L88.7789 274.554 L88.7789 270.711 L92.9919 270.711 Q96.4409 270.711 98.2696 269.345 Q100.098 267.956 100.098 265.364 Q100.098 262.702 98.2002 261.29 Q96.3252 259.855 92.8067 259.855 Q90.8854 259.855 88.6863 260.271 Q86.4873 260.688 83.8484 261.568 L83.8484 257.401 Q86.5104 256.66 88.8252 256.29 Q91.1632 255.919 93.2233 255.919 Q98.5474 255.919 101.649 258.35 Q104.751 260.757 104.751 264.878 Q104.751 267.748 103.108 269.739 Q101.464 271.706 98.4316 272.47 Z\" fill=\"#000000\" fill-rule=\"nonzero\" fill-opacity=\"1\" /><path clip-path=\"url(#clip520)\" d=\"M113.246 256.544 L135.468 256.544 L135.468 258.535 L122.922 291.104 L118.038 291.104 L129.844 260.48 L113.246 260.48 L113.246 256.544 Z\" fill=\"#000000\" fill-rule=\"nonzero\" fill-opacity=\"1\" /><path clip-path=\"url(#clip520)\" d=\"M144.728 290.387 L144.728 286.128 Q146.487 286.961 148.292 287.401 Q150.098 287.841 151.834 287.841 Q156.464 287.841 158.894 284.739 Q161.348 281.614 161.695 275.271 Q160.353 277.262 158.292 278.327 Q156.232 279.392 153.732 279.392 Q148.547 279.392 145.515 276.267 Q142.505 273.118 142.505 267.679 Q142.505 262.355 145.654 259.137 Q148.802 255.919 154.033 255.919 Q160.029 255.919 163.177 260.526 Q166.348 265.109 166.348 273.859 Q166.348 282.03 162.459 286.915 Q158.593 291.776 152.042 291.776 Q150.283 291.776 148.478 291.429 Q146.672 291.081 144.728 290.387 M154.033 275.734 Q157.181 275.734 159.01 273.581 Q160.862 271.429 160.862 267.679 Q160.862 263.952 159.01 261.799 Q157.181 259.623 154.033 259.623 Q150.885 259.623 149.033 261.799 Q147.205 263.952 147.205 267.679 Q147.205 271.429 149.033 273.581 Q150.885 275.734 154.033 275.734 Z\" fill=\"#000000\" fill-rule=\"nonzero\" fill-opacity=\"1\" /><path clip-path=\"url(#clip520)\" d=\"M178.778 287.169 L195.098 287.169 L195.098 291.104 L173.153 291.104 L173.153 287.169 Q175.815 284.415 180.399 279.785 Q185.005 275.132 186.186 273.79 Q188.431 271.267 189.311 269.531 Q190.214 267.771 190.214 266.081 Q190.214 263.327 188.269 261.591 Q186.348 259.855 183.246 259.855 Q181.047 259.855 178.593 260.619 Q176.163 261.382 173.385 262.933 L173.385 258.211 Q176.209 257.077 178.663 256.498 Q181.116 255.919 183.153 255.919 Q188.524 255.919 191.718 258.605 Q194.913 261.29 194.913 265.781 Q194.913 267.91 194.102 269.831 Q193.315 271.73 191.209 274.322 Q190.63 274.993 187.528 278.211 Q184.427 281.405 178.778 287.169 Z\" fill=\"#000000\" fill-rule=\"nonzero\" fill-opacity=\"1\" /><path clip-path=\"url(#clip520)\" d=\"M43.0847 143.305 L72.7605 143.305 L72.7605 147.24 L43.0847 147.24 L43.0847 143.305 Z\" fill=\"#000000\" fill-rule=\"nonzero\" fill-opacity=\"1\" /><path clip-path=\"url(#clip520)\" d=\"M97.0196 141.499 Q100.376 142.217 102.251 144.485 Q104.149 146.754 104.149 150.087 Q104.149 155.203 100.631 158.004 Q97.1122 160.804 90.6308 160.804 Q88.4548 160.804 86.14 160.365 Q83.8484 159.948 81.3947 159.092 L81.3947 154.578 Q83.3391 155.712 85.6539 156.291 Q87.9687 156.869 90.4919 156.869 Q94.89 156.869 97.1817 155.133 Q99.4965 153.397 99.4965 150.087 Q99.4965 147.031 97.3437 145.318 Q95.2141 143.582 91.3946 143.582 L87.3669 143.582 L87.3669 139.74 L91.5798 139.74 Q95.0289 139.74 96.8576 138.374 Q98.6863 136.985 98.6863 134.393 Q98.6863 131.731 96.7881 130.319 Q94.9131 128.883 91.3946 128.883 Q89.4734 128.883 87.2743 129.3 Q85.0752 129.717 82.4364 130.596 L82.4364 126.43 Q85.0984 125.689 87.4132 125.319 Q89.7511 124.948 91.8113 124.948 Q97.1354 124.948 100.237 127.379 Q103.339 129.786 103.339 133.906 Q103.339 136.777 101.696 138.768 Q100.052 140.735 97.0196 141.499 Z\" fill=\"#000000\" fill-rule=\"nonzero\" fill-opacity=\"1\" /><path clip-path=\"url(#clip520)\" d=\"M111.834 125.573 L134.056 125.573 L134.056 127.564 L121.51 160.133 L116.626 160.133 L128.431 129.508 L111.834 129.508 L111.834 125.573 Z\" fill=\"#000000\" fill-rule=\"nonzero\" fill-opacity=\"1\" /><path clip-path=\"url(#clip520)\" d=\"M153.177 143.721 Q149.843 143.721 147.922 145.504 Q146.024 147.286 146.024 150.411 Q146.024 153.536 147.922 155.318 Q149.843 157.101 153.177 157.101 Q156.51 157.101 158.431 155.318 Q160.353 153.513 160.353 150.411 Q160.353 147.286 158.431 145.504 Q156.533 143.721 153.177 143.721 M148.501 141.731 Q145.492 140.99 143.802 138.93 Q142.135 136.869 142.135 133.906 Q142.135 129.763 145.075 127.356 Q148.038 124.948 153.177 124.948 Q158.339 124.948 161.279 127.356 Q164.218 129.763 164.218 133.906 Q164.218 136.869 162.529 138.93 Q160.862 140.99 157.876 141.731 Q161.255 142.518 163.13 144.809 Q165.029 147.101 165.029 150.411 Q165.029 155.434 161.95 158.119 Q158.894 160.804 153.177 160.804 Q147.459 160.804 144.38 158.119 Q141.325 155.434 141.325 150.411 Q141.325 147.101 143.223 144.809 Q145.121 142.518 148.501 141.731 M146.788 134.346 Q146.788 137.031 148.455 138.536 Q150.144 140.041 153.177 140.041 Q156.186 140.041 157.876 138.536 Q159.589 137.031 159.589 134.346 Q159.589 131.661 157.876 130.157 Q156.186 128.652 153.177 128.652 Q150.144 128.652 148.455 130.157 Q146.788 131.661 146.788 134.346 Z\" fill=\"#000000\" fill-rule=\"nonzero\" fill-opacity=\"1\" /><path clip-path=\"url(#clip520)\" d=\"M173.478 159.416 L173.478 155.156 Q175.237 155.99 177.042 156.43 Q178.848 156.869 180.584 156.869 Q185.214 156.869 187.644 153.767 Q190.098 150.643 190.445 144.3 Q189.102 146.291 187.042 147.355 Q184.982 148.42 182.482 148.42 Q177.297 148.42 174.265 145.295 Q171.255 142.147 171.255 136.707 Q171.255 131.383 174.403 128.166 Q177.552 124.948 182.783 124.948 Q188.778 124.948 191.927 129.555 Q195.098 134.138 195.098 142.888 Q195.098 151.059 191.209 155.943 Q187.343 160.804 180.792 160.804 Q179.033 160.804 177.228 160.457 Q175.422 160.11 173.478 159.416 M182.783 144.763 Q185.931 144.763 187.76 142.61 Q189.612 140.457 189.612 136.707 Q189.612 132.981 187.76 130.828 Q185.931 128.652 182.783 128.652 Q179.635 128.652 177.783 130.828 Q175.954 132.981 175.954 136.707 Q175.954 140.457 177.783 142.61 Q179.635 144.763 182.783 144.763 Z\" fill=\"#000000\" fill-rule=\"nonzero\" fill-opacity=\"1\" /><polyline clip-path=\"url(#clip522)\" style=\"stroke:#009af9; stroke-linecap:round; stroke-linejoin:round; stroke-width:4; stroke-opacity:1; fill:none\" points=\"359.748,699.638 394.984,699.638 430.22,639.295 465.456,639.295 500.692,639.295 535.928,639.295 571.164,639.295 606.4,639.295 641.636,152.866 676.872,152.866 712.108,152.866 747.344,152.866 782.58,152.866 817.816,152.866 853.051,152.866 888.287,152.866 923.523,152.866 958.759,152.866 993.995,152.866 1029.23,152.866 1064.47,152.866 1099.7,152.866 1134.94,152.866 1170.17,152.866 1205.41,152.866 1240.65,152.866 1275.88,152.866 1311.12,152.866 1346.35,152.866 1381.59,152.866 1416.83,152.866 1452.06,152.866 1487.3,152.866 1522.53,152.866 1557.77,152.866 1593.01,152.866 1628.24,152.866 1663.48,152.866 1698.71,152.866 1733.95,152.866 1769.19,152.866 1804.42,152.866 1839.66,152.866 1874.89,152.866 1910.13,152.866 1945.37,66.2459 1980.6,66.2459 2015.84,66.2459 2051.07,66.2459 2086.31,66.2459 2121.54,66.2459 2156.78,66.2459 2192.02,66.2459 2227.25,66.2459 2262.49,66.2459 2297.72,66.2459 2332.96,66.2459 2368.2,66.2459 2403.43,66.2459 2438.67,66.2459 2473.9,66.2459 2509.14,66.2459 2544.38,66.2459 2579.61,66.2459 2614.85,66.2459 2650.08,66.2459 2685.32,66.2459 2720.56,66.2459 2755.79,66.2459 2791.03,66.2459 2826.26,66.2459 2861.5,66.2459 2896.74,66.2459 2931.97,66.2459 2967.21,66.2459 3002.44,66.2459 3037.68,66.2459 3072.91,66.2459 3108.15,66.2459 3143.39,66.2459 3178.62,66.2459 3213.86,119.777 3249.09,119.777 3284.33,119.777 3319.57,119.777 3354.8,119.777 3390.04,119.777 3425.27,119.777 3460.51,119.777 3495.75,119.777 3530.98,119.777 3566.22,119.777 3601.45,119.777 3636.69,119.777 3671.93,119.777 3707.16,119.777 3742.4,119.777 3777.63,119.777 3812.87,119.777 3848.11,119.777 \"/>\n",
       "<path clip-path=\"url(#clip520)\" d=\"M3407.3 696.26 L3829.5 696.26 L3829.5 592.58 L3407.3 592.58  Z\" fill=\"#ffffff\" fill-rule=\"evenodd\" fill-opacity=\"1\"/>\n",
       "<polyline clip-path=\"url(#clip520)\" style=\"stroke:#000000; stroke-linecap:round; stroke-linejoin:round; stroke-width:4; stroke-opacity:1; fill:none\" points=\"3407.3,696.26 3829.5,696.26 3829.5,592.58 3407.3,592.58 3407.3,696.26 \"/>\n",
       "<polyline clip-path=\"url(#clip520)\" style=\"stroke:#009af9; stroke-linecap:round; stroke-linejoin:round; stroke-width:4; stroke-opacity:1; fill:none\" points=\"3448.39,644.42 3694.9,644.42 \"/>\n",
       "<path clip-path=\"url(#clip520)\" d=\"M3749.83 664.107 Q3748.02 668.737 3746.31 670.149 Q3744.6 671.561 3741.73 671.561 L3738.32 671.561 L3738.32 667.996 L3740.82 667.996 Q3742.58 667.996 3743.55 667.163 Q3744.53 666.33 3745.71 663.228 L3746.47 661.283 L3735.99 635.774 L3740.5 635.774 L3748.6 656.052 L3756.7 635.774 L3761.22 635.774 L3749.83 664.107 Z\" fill=\"#000000\" fill-rule=\"nonzero\" fill-opacity=\"1\" /><path clip-path=\"url(#clip520)\" d=\"M3768.51 657.765 L3776.15 657.765 L3776.15 631.399 L3767.84 633.066 L3767.84 628.807 L3776.1 627.14 L3780.78 627.14 L3780.78 657.765 L3788.42 657.765 L3788.42 661.7 L3768.51 661.7 L3768.51 657.765 Z\" fill=\"#000000\" fill-rule=\"nonzero\" fill-opacity=\"1\" /></svg>\n"
      ],
      "text/html": [
       "<?xml version=\"1.0\" encoding=\"utf-8\"?>\n",
       "<svg xmlns=\"http://www.w3.org/2000/svg\" xmlns:xlink=\"http://www.w3.org/1999/xlink\" width=\"1000\" height=\"200\" viewBox=\"0 0 4000 800\">\n",
       "<defs>\n",
       "  <clipPath id=\"clip570\">\n",
       "    <rect x=\"0\" y=\"0\" width=\"4000\" height=\"800\"/>\n",
       "  </clipPath>\n",
       "</defs>\n",
       "<path clip-path=\"url(#clip570)\" d=\"M0 800 L4000 800 L4000 0 L0 0  Z\" fill=\"#ffffff\" fill-rule=\"evenodd\" fill-opacity=\"1\"/>\n",
       "<defs>\n",
       "  <clipPath id=\"clip571\">\n",
       "    <rect x=\"800\" y=\"0\" width=\"2801\" height=\"800\"/>\n",
       "  </clipPath>\n",
       "</defs>\n",
       "<path clip-path=\"url(#clip570)\" d=\"M255.098 718.64 L3952.76 718.64 L3952.76 47.2441 L255.098 47.2441  Z\" fill=\"#ffffff\" fill-rule=\"evenodd\" fill-opacity=\"1\"/>\n",
       "<defs>\n",
       "  <clipPath id=\"clip572\">\n",
       "    <rect x=\"255\" y=\"47\" width=\"3699\" height=\"672\"/>\n",
       "  </clipPath>\n",
       "</defs>\n",
       "<polyline clip-path=\"url(#clip572)\" style=\"stroke:#000000; stroke-linecap:round; stroke-linejoin:round; stroke-width:2; stroke-opacity:0.1; fill:none\" points=\"324.513,718.64 324.513,47.2441 \"/>\n",
       "<polyline clip-path=\"url(#clip572)\" style=\"stroke:#000000; stroke-linecap:round; stroke-linejoin:round; stroke-width:2; stroke-opacity:0.1; fill:none\" points=\"1205.41,718.64 1205.41,47.2441 \"/>\n",
       "<polyline clip-path=\"url(#clip572)\" style=\"stroke:#000000; stroke-linecap:round; stroke-linejoin:round; stroke-width:2; stroke-opacity:0.1; fill:none\" points=\"2086.31,718.64 2086.31,47.2441 \"/>\n",
       "<polyline clip-path=\"url(#clip572)\" style=\"stroke:#000000; stroke-linecap:round; stroke-linejoin:round; stroke-width:2; stroke-opacity:0.1; fill:none\" points=\"2967.21,718.64 2967.21,47.2441 \"/>\n",
       "<polyline clip-path=\"url(#clip572)\" style=\"stroke:#000000; stroke-linecap:round; stroke-linejoin:round; stroke-width:2; stroke-opacity:0.1; fill:none\" points=\"3848.11,718.64 3848.11,47.2441 \"/>\n",
       "<polyline clip-path=\"url(#clip570)\" style=\"stroke:#000000; stroke-linecap:round; stroke-linejoin:round; stroke-width:4; stroke-opacity:1; fill:none\" points=\"255.098,718.64 3952.76,718.64 \"/>\n",
       "<polyline clip-path=\"url(#clip570)\" style=\"stroke:#000000; stroke-linecap:round; stroke-linejoin:round; stroke-width:4; stroke-opacity:1; fill:none\" points=\"324.513,718.64 324.513,699.742 \"/>\n",
       "<polyline clip-path=\"url(#clip570)\" style=\"stroke:#000000; stroke-linecap:round; stroke-linejoin:round; stroke-width:4; stroke-opacity:1; fill:none\" points=\"1205.41,718.64 1205.41,699.742 \"/>\n",
       "<polyline clip-path=\"url(#clip570)\" style=\"stroke:#000000; stroke-linecap:round; stroke-linejoin:round; stroke-width:4; stroke-opacity:1; fill:none\" points=\"2086.31,718.64 2086.31,699.742 \"/>\n",
       "<polyline clip-path=\"url(#clip570)\" style=\"stroke:#000000; stroke-linecap:round; stroke-linejoin:round; stroke-width:4; stroke-opacity:1; fill:none\" points=\"2967.21,718.64 2967.21,699.742 \"/>\n",
       "<polyline clip-path=\"url(#clip570)\" style=\"stroke:#000000; stroke-linecap:round; stroke-linejoin:round; stroke-width:4; stroke-opacity:1; fill:none\" points=\"3848.11,718.64 3848.11,699.742 \"/>\n",
       "<path clip-path=\"url(#clip570)\" d=\"M324.513 762.359 Q320.901 762.359 319.073 765.923 Q317.267 769.465 317.267 776.595 Q317.267 783.701 319.073 787.266 Q320.901 790.807 324.513 790.807 Q328.147 790.807 329.952 787.266 Q331.781 783.701 331.781 776.595 Q331.781 769.465 329.952 765.923 Q328.147 762.359 324.513 762.359 M324.513 758.655 Q330.323 758.655 333.378 763.261 Q336.457 767.845 336.457 776.595 Q336.457 785.321 333.378 789.928 Q330.323 794.511 324.513 794.511 Q318.702 794.511 315.624 789.928 Q312.568 785.321 312.568 776.595 Q312.568 767.845 315.624 763.261 Q318.702 758.655 324.513 758.655 Z\" fill=\"#000000\" fill-rule=\"nonzero\" fill-opacity=\"1\" /><path clip-path=\"url(#clip570)\" d=\"M1184.68 789.905 L1201 789.905 L1201 793.84 L1179.06 793.84 L1179.06 789.905 Q1181.72 787.15 1186.3 782.52 Q1190.91 777.868 1192.09 776.525 Q1194.33 774.002 1195.21 772.266 Q1196.12 770.507 1196.12 768.817 Q1196.12 766.062 1194.17 764.326 Q1192.25 762.59 1189.15 762.59 Q1186.95 762.59 1184.5 763.354 Q1182.07 764.118 1179.29 765.669 L1179.29 760.947 Q1182.11 759.812 1184.57 759.234 Q1187.02 758.655 1189.06 758.655 Q1194.43 758.655 1197.62 761.34 Q1200.82 764.025 1200.82 768.516 Q1200.82 770.646 1200.01 772.567 Q1199.22 774.465 1197.11 777.058 Q1196.53 777.729 1193.43 780.946 Q1190.33 784.141 1184.68 789.905 Z\" fill=\"#000000\" fill-rule=\"nonzero\" fill-opacity=\"1\" /><path clip-path=\"url(#clip570)\" d=\"M1210.86 759.28 L1229.22 759.28 L1229.22 763.215 L1215.14 763.215 L1215.14 771.687 Q1216.16 771.34 1217.18 771.178 Q1218.2 770.993 1219.22 770.993 Q1225.01 770.993 1228.39 774.164 Q1231.76 777.335 1231.76 782.752 Q1231.76 788.331 1228.29 791.432 Q1224.82 794.511 1218.5 794.511 Q1216.33 794.511 1214.06 794.141 Q1211.81 793.77 1209.4 793.03 L1209.4 788.331 Q1211.49 789.465 1213.71 790.02 Q1215.93 790.576 1218.41 790.576 Q1222.41 790.576 1224.75 788.47 Q1227.09 786.363 1227.09 782.752 Q1227.09 779.141 1224.75 777.034 Q1222.41 774.928 1218.41 774.928 Q1216.53 774.928 1214.66 775.345 Q1212.81 775.761 1210.86 776.641 L1210.86 759.28 Z\" fill=\"#000000\" fill-rule=\"nonzero\" fill-opacity=\"1\" /><path clip-path=\"url(#clip570)\" d=\"M2061.01 759.28 L2079.36 759.28 L2079.36 763.215 L2065.29 763.215 L2065.29 771.687 Q2066.31 771.34 2067.33 771.178 Q2068.35 770.993 2069.36 770.993 Q2075.15 770.993 2078.53 774.164 Q2081.91 777.335 2081.91 782.752 Q2081.91 788.331 2078.44 791.432 Q2074.97 794.511 2068.65 794.511 Q2066.47 794.511 2064.2 794.141 Q2061.96 793.77 2059.55 793.03 L2059.55 788.331 Q2061.63 789.465 2063.86 790.02 Q2066.08 790.576 2068.55 790.576 Q2072.56 790.576 2074.9 788.47 Q2077.23 786.363 2077.23 782.752 Q2077.23 779.141 2074.9 777.034 Q2072.56 774.928 2068.55 774.928 Q2066.68 774.928 2064.8 775.345 Q2062.95 775.761 2061.01 776.641 L2061.01 759.28 Z\" fill=\"#000000\" fill-rule=\"nonzero\" fill-opacity=\"1\" /><path clip-path=\"url(#clip570)\" d=\"M2101.12 762.359 Q2097.51 762.359 2095.68 765.923 Q2093.88 769.465 2093.88 776.595 Q2093.88 783.701 2095.68 787.266 Q2097.51 790.807 2101.12 790.807 Q2104.76 790.807 2106.56 787.266 Q2108.39 783.701 2108.39 776.595 Q2108.39 769.465 2106.56 765.923 Q2104.76 762.359 2101.12 762.359 M2101.12 758.655 Q2106.93 758.655 2109.99 763.261 Q2113.07 767.845 2113.07 776.595 Q2113.07 785.321 2109.99 789.928 Q2106.93 794.511 2101.12 794.511 Q2095.31 794.511 2092.23 789.928 Q2089.18 785.321 2089.18 776.595 Q2089.18 767.845 2092.23 763.261 Q2095.31 758.655 2101.12 758.655 Z\" fill=\"#000000\" fill-rule=\"nonzero\" fill-opacity=\"1\" /><path clip-path=\"url(#clip570)\" d=\"M2941.06 759.28 L2963.28 759.28 L2963.28 761.271 L2950.74 793.84 L2945.85 793.84 L2957.66 763.215 L2941.06 763.215 L2941.06 759.28 Z\" fill=\"#000000\" fill-rule=\"nonzero\" fill-opacity=\"1\" /><path clip-path=\"url(#clip570)\" d=\"M2972.45 759.28 L2990.81 759.28 L2990.81 763.215 L2976.73 763.215 L2976.73 771.687 Q2977.75 771.34 2978.77 771.178 Q2979.79 770.993 2980.81 770.993 Q2986.59 770.993 2989.97 774.164 Q2993.35 777.335 2993.35 782.752 Q2993.35 788.331 2989.88 791.432 Q2986.41 794.511 2980.09 794.511 Q2977.91 794.511 2975.64 794.141 Q2973.4 793.77 2970.99 793.03 L2970.99 788.331 Q2973.08 789.465 2975.3 790.02 Q2977.52 790.576 2980 790.576 Q2984 790.576 2986.34 788.47 Q2988.68 786.363 2988.68 782.752 Q2988.68 779.141 2986.34 777.034 Q2984 774.928 2980 774.928 Q2978.12 774.928 2976.25 775.345 Q2974.39 775.761 2972.45 776.641 L2972.45 759.28 Z\" fill=\"#000000\" fill-rule=\"nonzero\" fill-opacity=\"1\" /><path clip-path=\"url(#clip570)\" d=\"M3807.71 789.905 L3815.35 789.905 L3815.35 763.539 L3807.04 765.206 L3807.04 760.947 L3815.3 759.28 L3819.98 759.28 L3819.98 789.905 L3827.62 789.905 L3827.62 793.84 L3807.71 793.84 L3807.71 789.905 Z\" fill=\"#000000\" fill-rule=\"nonzero\" fill-opacity=\"1\" /><path clip-path=\"url(#clip570)\" d=\"M3847.06 762.359 Q3843.45 762.359 3841.62 765.923 Q3839.82 769.465 3839.82 776.595 Q3839.82 783.701 3841.62 787.266 Q3843.45 790.807 3847.06 790.807 Q3850.7 790.807 3852.5 787.266 Q3854.33 783.701 3854.33 776.595 Q3854.33 769.465 3852.5 765.923 Q3850.7 762.359 3847.06 762.359 M3847.06 758.655 Q3852.87 758.655 3855.93 763.261 Q3859.01 767.845 3859.01 776.595 Q3859.01 785.321 3855.93 789.928 Q3852.87 794.511 3847.06 794.511 Q3841.25 794.511 3838.17 789.928 Q3835.12 785.321 3835.12 776.595 Q3835.12 767.845 3838.17 763.261 Q3841.25 758.655 3847.06 758.655 Z\" fill=\"#000000\" fill-rule=\"nonzero\" fill-opacity=\"1\" /><path clip-path=\"url(#clip570)\" d=\"M3877.23 762.359 Q3873.61 762.359 3871.79 765.923 Q3869.98 769.465 3869.98 776.595 Q3869.98 783.701 3871.79 787.266 Q3873.61 790.807 3877.23 790.807 Q3880.86 790.807 3882.67 787.266 Q3884.49 783.701 3884.49 776.595 Q3884.49 769.465 3882.67 765.923 Q3880.86 762.359 3877.23 762.359 M3877.23 758.655 Q3883.04 758.655 3886.09 763.261 Q3889.17 767.845 3889.17 776.595 Q3889.17 785.321 3886.09 789.928 Q3883.04 794.511 3877.23 794.511 Q3871.42 794.511 3868.34 789.928 Q3865.28 785.321 3865.28 776.595 Q3865.28 767.845 3868.34 763.261 Q3871.42 758.655 3877.23 758.655 Z\" fill=\"#000000\" fill-rule=\"nonzero\" fill-opacity=\"1\" /><polyline clip-path=\"url(#clip572)\" style=\"stroke:#000000; stroke-linecap:round; stroke-linejoin:round; stroke-width:2; stroke-opacity:0.1; fill:none\" points=\"255.098,666.738 3952.76,666.738 \"/>\n",
       "<polyline clip-path=\"url(#clip572)\" style=\"stroke:#000000; stroke-linecap:round; stroke-linejoin:round; stroke-width:2; stroke-opacity:0.1; fill:none\" points=\"255.098,535.767 3952.76,535.767 \"/>\n",
       "<polyline clip-path=\"url(#clip572)\" style=\"stroke:#000000; stroke-linecap:round; stroke-linejoin:round; stroke-width:2; stroke-opacity:0.1; fill:none\" points=\"255.098,404.796 3952.76,404.796 \"/>\n",
       "<polyline clip-path=\"url(#clip572)\" style=\"stroke:#000000; stroke-linecap:round; stroke-linejoin:round; stroke-width:2; stroke-opacity:0.1; fill:none\" points=\"255.098,273.824 3952.76,273.824 \"/>\n",
       "<polyline clip-path=\"url(#clip572)\" style=\"stroke:#000000; stroke-linecap:round; stroke-linejoin:round; stroke-width:2; stroke-opacity:0.1; fill:none\" points=\"255.098,142.853 3952.76,142.853 \"/>\n",
       "<polyline clip-path=\"url(#clip570)\" style=\"stroke:#000000; stroke-linecap:round; stroke-linejoin:round; stroke-width:4; stroke-opacity:1; fill:none\" points=\"255.098,718.64 255.098,47.2441 \"/>\n",
       "<polyline clip-path=\"url(#clip570)\" style=\"stroke:#000000; stroke-linecap:round; stroke-linejoin:round; stroke-width:4; stroke-opacity:1; fill:none\" points=\"255.098,666.738 273.995,666.738 \"/>\n",
       "<polyline clip-path=\"url(#clip570)\" style=\"stroke:#000000; stroke-linecap:round; stroke-linejoin:round; stroke-width:4; stroke-opacity:1; fill:none\" points=\"255.098,535.767 273.995,535.767 \"/>\n",
       "<polyline clip-path=\"url(#clip570)\" style=\"stroke:#000000; stroke-linecap:round; stroke-linejoin:round; stroke-width:4; stroke-opacity:1; fill:none\" points=\"255.098,404.796 273.995,404.796 \"/>\n",
       "<polyline clip-path=\"url(#clip570)\" style=\"stroke:#000000; stroke-linecap:round; stroke-linejoin:round; stroke-width:4; stroke-opacity:1; fill:none\" points=\"255.098,273.824 273.995,273.824 \"/>\n",
       "<polyline clip-path=\"url(#clip570)\" style=\"stroke:#000000; stroke-linecap:round; stroke-linejoin:round; stroke-width:4; stroke-opacity:1; fill:none\" points=\"255.098,142.853 273.995,142.853 \"/>\n",
       "<path clip-path=\"url(#clip570)\" d=\"M44.1264 667.19 L73.8021 667.19 L73.8021 671.125 L44.1264 671.125 L44.1264 667.19 Z\" fill=\"#000000\" fill-rule=\"nonzero\" fill-opacity=\"1\" /><path clip-path=\"url(#clip570)\" d=\"M98.0613 665.384 Q101.418 666.102 103.293 668.37 Q105.191 670.639 105.191 673.972 Q105.191 679.088 101.672 681.889 Q98.1539 684.69 91.6724 684.69 Q89.4965 684.69 87.1817 684.25 Q84.89 683.833 82.4364 682.977 L82.4364 678.463 Q84.3808 679.597 86.6956 680.176 Q89.0104 680.754 91.5335 680.754 Q95.9317 680.754 98.2233 679.018 Q100.538 677.282 100.538 673.972 Q100.538 670.917 98.3853 669.204 Q96.2557 667.467 92.4363 667.467 L88.4085 667.467 L88.4085 663.625 L92.6215 663.625 Q96.0705 663.625 97.8992 662.259 Q99.7279 660.87 99.7279 658.278 Q99.7279 655.616 97.8298 654.204 Q95.9548 652.768 92.4363 652.768 Q90.515 652.768 88.316 653.185 Q86.1169 653.602 83.478 654.481 L83.478 650.315 Q86.14 649.574 88.4548 649.204 Q90.7928 648.833 92.853 648.833 Q98.177 648.833 101.279 651.264 Q104.381 653.671 104.381 657.792 Q104.381 660.662 102.737 662.653 Q101.094 664.62 98.0613 665.384 Z\" fill=\"#000000\" fill-rule=\"nonzero\" fill-opacity=\"1\" /><path clip-path=\"url(#clip570)\" d=\"M124.057 667.606 Q120.723 667.606 118.802 669.389 Q116.904 671.171 116.904 674.296 Q116.904 677.421 118.802 679.204 Q120.723 680.986 124.057 680.986 Q127.39 680.986 129.311 679.204 Q131.232 677.398 131.232 674.296 Q131.232 671.171 129.311 669.389 Q127.413 667.606 124.057 667.606 M119.381 665.616 Q116.371 664.875 114.682 662.815 Q113.015 660.755 113.015 657.792 Q113.015 653.648 115.955 651.241 Q118.918 648.833 124.057 648.833 Q129.219 648.833 132.158 651.241 Q135.098 653.648 135.098 657.792 Q135.098 660.755 133.408 662.815 Q131.742 664.875 128.756 665.616 Q132.135 666.403 134.01 668.694 Q135.908 670.986 135.908 674.296 Q135.908 679.319 132.83 682.004 Q129.774 684.69 124.057 684.69 Q118.339 684.69 115.26 682.004 Q112.205 679.319 112.205 674.296 Q112.205 670.986 114.103 668.694 Q116.001 666.403 119.381 665.616 M117.668 658.231 Q117.668 660.917 119.334 662.421 Q121.024 663.926 124.057 663.926 Q127.066 663.926 128.756 662.421 Q130.469 660.917 130.469 658.231 Q130.469 655.546 128.756 654.042 Q127.066 652.537 124.057 652.537 Q121.024 652.537 119.334 654.042 Q117.668 655.546 117.668 658.231 Z\" fill=\"#000000\" fill-rule=\"nonzero\" fill-opacity=\"1\" /><path clip-path=\"url(#clip570)\" d=\"M154.218 652.537 Q150.607 652.537 148.779 656.102 Q146.973 659.643 146.973 666.773 Q146.973 673.879 148.779 677.444 Q150.607 680.986 154.218 680.986 Q157.853 680.986 159.658 677.444 Q161.487 673.879 161.487 666.773 Q161.487 659.643 159.658 656.102 Q157.853 652.537 154.218 652.537 M154.218 648.833 Q160.029 648.833 163.084 653.44 Q166.163 658.023 166.163 666.773 Q166.163 675.5 163.084 680.106 Q160.029 684.69 154.218 684.69 Q148.408 684.69 145.33 680.106 Q142.274 675.5 142.274 666.773 Q142.274 658.023 145.33 653.44 Q148.408 648.833 154.218 648.833 Z\" fill=\"#000000\" fill-rule=\"nonzero\" fill-opacity=\"1\" /><path clip-path=\"url(#clip570)\" d=\"M175.19 680.083 L182.829 680.083 L182.829 653.718 L174.519 655.384 L174.519 651.125 L182.783 649.458 L187.459 649.458 L187.459 680.083 L195.098 680.083 L195.098 684.018 L175.19 684.018 L175.19 680.083 Z\" fill=\"#000000\" fill-rule=\"nonzero\" fill-opacity=\"1\" /><path clip-path=\"url(#clip570)\" d=\"M42.9921 536.218 L72.6679 536.218 L72.6679 540.154 L42.9921 540.154 L42.9921 536.218 Z\" fill=\"#000000\" fill-rule=\"nonzero\" fill-opacity=\"1\" /><path clip-path=\"url(#clip570)\" d=\"M96.927 534.413 Q100.283 535.13 102.158 537.399 Q104.057 539.667 104.057 543.001 Q104.057 548.116 100.538 550.917 Q97.0196 553.718 90.5382 553.718 Q88.3623 553.718 86.0475 553.279 Q83.7558 552.862 81.3021 552.005 L81.3021 547.492 Q83.2465 548.626 85.5613 549.204 Q87.8761 549.783 90.3993 549.783 Q94.7974 549.783 97.0891 548.047 Q99.4039 546.311 99.4039 543.001 Q99.4039 539.945 97.2511 538.232 Q95.1215 536.496 91.3021 536.496 L87.2743 536.496 L87.2743 532.654 L91.4872 532.654 Q94.9363 532.654 96.765 531.288 Q98.5937 529.899 98.5937 527.306 Q98.5937 524.644 96.6955 523.232 Q94.8206 521.797 91.3021 521.797 Q89.3808 521.797 87.1817 522.214 Q84.9826 522.631 82.3438 523.51 L82.3438 519.344 Q85.0058 518.603 87.3206 518.232 Q89.6585 517.862 91.7187 517.862 Q97.0428 517.862 100.145 520.293 Q103.246 522.7 103.246 526.82 Q103.246 529.691 101.603 531.681 Q99.9594 533.649 96.927 534.413 Z\" fill=\"#000000\" fill-rule=\"nonzero\" fill-opacity=\"1\" /><path clip-path=\"url(#clip570)\" d=\"M111.742 518.487 L133.964 518.487 L133.964 520.478 L121.418 553.047 L116.533 553.047 L128.339 522.422 L111.742 522.422 L111.742 518.487 Z\" fill=\"#000000\" fill-rule=\"nonzero\" fill-opacity=\"1\" /><path clip-path=\"url(#clip570)\" d=\"M143.223 552.329 L143.223 548.07 Q144.982 548.904 146.788 549.343 Q148.593 549.783 150.33 549.783 Q154.959 549.783 157.39 546.681 Q159.843 543.556 160.191 537.214 Q158.848 539.205 156.788 540.269 Q154.728 541.334 152.228 541.334 Q147.042 541.334 144.01 538.209 Q141.001 535.061 141.001 529.621 Q141.001 524.297 144.149 521.08 Q147.297 517.862 152.529 517.862 Q158.524 517.862 161.672 522.468 Q164.843 527.052 164.843 535.802 Q164.843 543.973 160.954 548.857 Q157.089 553.718 150.538 553.718 Q148.779 553.718 146.973 553.371 Q145.168 553.024 143.223 552.329 M152.529 537.677 Q155.677 537.677 157.505 535.524 Q159.357 533.371 159.357 529.621 Q159.357 525.894 157.505 523.742 Q155.677 521.566 152.529 521.566 Q149.38 521.566 147.529 523.742 Q145.7 525.894 145.7 529.621 Q145.7 533.371 147.529 535.524 Q149.38 537.677 152.529 537.677 Z\" fill=\"#000000\" fill-rule=\"nonzero\" fill-opacity=\"1\" /><path clip-path=\"url(#clip570)\" d=\"M183.246 536.635 Q179.913 536.635 177.991 538.417 Q176.093 540.2 176.093 543.325 Q176.093 546.45 177.991 548.232 Q179.913 550.015 183.246 550.015 Q186.579 550.015 188.501 548.232 Q190.422 546.427 190.422 543.325 Q190.422 540.2 188.501 538.417 Q186.602 536.635 183.246 536.635 M178.57 534.644 Q175.561 533.904 173.871 531.843 Q172.204 529.783 172.204 526.82 Q172.204 522.677 175.144 520.269 Q178.107 517.862 183.246 517.862 Q188.408 517.862 191.348 520.269 Q194.288 522.677 194.288 526.82 Q194.288 529.783 192.598 531.843 Q190.931 533.904 187.945 534.644 Q191.325 535.431 193.2 537.723 Q195.098 540.015 195.098 543.325 Q195.098 548.348 192.019 551.033 Q188.964 553.718 183.246 553.718 Q177.528 553.718 174.45 551.033 Q171.394 548.348 171.394 543.325 Q171.394 540.015 173.292 537.723 Q175.19 535.431 178.57 534.644 M176.857 527.26 Q176.857 529.945 178.524 531.45 Q180.214 532.955 183.246 532.955 Q186.255 532.955 187.945 531.45 Q189.658 529.945 189.658 527.26 Q189.658 524.575 187.945 523.07 Q186.255 521.566 183.246 521.566 Q180.214 521.566 178.524 523.07 Q176.857 524.575 176.857 527.26 Z\" fill=\"#000000\" fill-rule=\"nonzero\" fill-opacity=\"1\" /><path clip-path=\"url(#clip570)\" d=\"M43.8949 405.247 L73.5707 405.247 L73.5707 409.182 L43.8949 409.182 L43.8949 405.247 Z\" fill=\"#000000\" fill-rule=\"nonzero\" fill-opacity=\"1\" /><path clip-path=\"url(#clip570)\" d=\"M97.8298 403.442 Q101.186 404.159 103.061 406.428 Q104.959 408.696 104.959 412.03 Q104.959 417.145 101.441 419.946 Q97.9224 422.747 91.4409 422.747 Q89.265 422.747 86.9502 422.307 Q84.6586 421.891 82.2049 421.034 L82.2049 416.52 Q84.1493 417.654 86.4641 418.233 Q88.7789 418.812 91.3021 418.812 Q95.7002 418.812 97.9918 417.076 Q100.307 415.34 100.307 412.03 Q100.307 408.974 98.1539 407.261 Q96.0242 405.525 92.2048 405.525 L88.1771 405.525 L88.1771 401.682 L92.39 401.682 Q95.8391 401.682 97.6678 400.317 Q99.4965 398.928 99.4965 396.335 Q99.4965 393.673 97.5983 392.261 Q95.7233 390.826 92.2048 390.826 Q90.2835 390.826 88.0845 391.243 Q85.8854 391.659 83.2465 392.539 L83.2465 388.372 Q85.9086 387.631 88.2234 387.261 Q90.5613 386.891 92.6215 386.891 Q97.9455 386.891 101.047 389.321 Q104.149 391.729 104.149 395.849 Q104.149 398.719 102.506 400.71 Q100.862 402.678 97.8298 403.442 Z\" fill=\"#000000\" fill-rule=\"nonzero\" fill-opacity=\"1\" /><path clip-path=\"url(#clip570)\" d=\"M112.645 387.516 L134.867 387.516 L134.867 389.506 L122.32 422.076 L117.436 422.076 L129.242 391.451 L112.645 391.451 L112.645 387.516 Z\" fill=\"#000000\" fill-rule=\"nonzero\" fill-opacity=\"1\" /><path clip-path=\"url(#clip570)\" d=\"M144.126 421.358 L144.126 417.099 Q145.885 417.932 147.691 418.372 Q149.496 418.812 151.232 418.812 Q155.862 418.812 158.292 415.71 Q160.746 412.585 161.093 406.243 Q159.751 408.233 157.691 409.298 Q155.63 410.363 153.13 410.363 Q147.945 410.363 144.913 407.238 Q141.904 404.09 141.904 398.65 Q141.904 393.326 145.052 390.108 Q148.2 386.891 153.431 386.891 Q159.427 386.891 162.575 391.497 Q165.746 396.081 165.746 404.83 Q165.746 413.002 161.857 417.886 Q157.992 422.747 151.441 422.747 Q149.681 422.747 147.876 422.4 Q146.07 422.053 144.126 421.358 M153.431 406.705 Q156.579 406.705 158.408 404.553 Q160.26 402.4 160.26 398.65 Q160.26 394.923 158.408 392.77 Q156.579 390.594 153.431 390.594 Q150.283 390.594 148.431 392.77 Q146.603 394.923 146.603 398.65 Q146.603 402.4 148.431 404.553 Q150.283 406.705 153.431 406.705 Z\" fill=\"#000000\" fill-rule=\"nonzero\" fill-opacity=\"1\" /><path clip-path=\"url(#clip570)\" d=\"M174.195 387.516 L192.552 387.516 L192.552 391.451 L178.478 391.451 L178.478 399.923 Q179.496 399.576 180.515 399.414 Q181.533 399.229 182.552 399.229 Q188.339 399.229 191.718 402.4 Q195.098 405.571 195.098 410.988 Q195.098 416.567 191.626 419.668 Q188.153 422.747 181.834 422.747 Q179.658 422.747 177.39 422.377 Q175.144 422.006 172.737 421.266 L172.737 416.567 Q174.82 417.701 177.042 418.256 Q179.265 418.812 181.741 418.812 Q185.746 418.812 188.084 416.705 Q190.422 414.599 190.422 410.988 Q190.422 407.377 188.084 405.27 Q185.746 403.164 181.741 403.164 Q179.866 403.164 177.991 403.58 Q176.14 403.997 174.195 404.877 L174.195 387.516 Z\" fill=\"#000000\" fill-rule=\"nonzero\" fill-opacity=\"1\" /><path clip-path=\"url(#clip570)\" d=\"M44.4967 274.276 L74.1725 274.276 L74.1725 278.211 L44.4967 278.211 L44.4967 274.276 Z\" fill=\"#000000\" fill-rule=\"nonzero\" fill-opacity=\"1\" /><path clip-path=\"url(#clip570)\" d=\"M98.4316 272.47 Q101.788 273.188 103.663 275.456 Q105.561 277.725 105.561 281.058 Q105.561 286.174 102.043 288.975 Q98.5242 291.776 92.0428 291.776 Q89.8669 291.776 87.5521 291.336 Q85.2604 290.919 82.8067 290.063 L82.8067 285.549 Q84.7512 286.683 87.066 287.262 Q89.3808 287.841 91.9039 287.841 Q96.302 287.841 98.5937 286.104 Q100.908 284.368 100.908 281.058 Q100.908 278.003 98.7557 276.29 Q96.6261 274.554 92.8067 274.554 L88.7789 274.554 L88.7789 270.711 L92.9919 270.711 Q96.4409 270.711 98.2696 269.345 Q100.098 267.956 100.098 265.364 Q100.098 262.702 98.2002 261.29 Q96.3252 259.855 92.8067 259.855 Q90.8854 259.855 88.6863 260.271 Q86.4873 260.688 83.8484 261.568 L83.8484 257.401 Q86.5104 256.66 88.8252 256.29 Q91.1632 255.919 93.2233 255.919 Q98.5474 255.919 101.649 258.35 Q104.751 260.757 104.751 264.878 Q104.751 267.748 103.108 269.739 Q101.464 271.706 98.4316 272.47 Z\" fill=\"#000000\" fill-rule=\"nonzero\" fill-opacity=\"1\" /><path clip-path=\"url(#clip570)\" d=\"M113.246 256.544 L135.468 256.544 L135.468 258.535 L122.922 291.104 L118.038 291.104 L129.844 260.48 L113.246 260.48 L113.246 256.544 Z\" fill=\"#000000\" fill-rule=\"nonzero\" fill-opacity=\"1\" /><path clip-path=\"url(#clip570)\" d=\"M144.728 290.387 L144.728 286.128 Q146.487 286.961 148.292 287.401 Q150.098 287.841 151.834 287.841 Q156.464 287.841 158.894 284.739 Q161.348 281.614 161.695 275.271 Q160.353 277.262 158.292 278.327 Q156.232 279.392 153.732 279.392 Q148.547 279.392 145.515 276.267 Q142.505 273.118 142.505 267.679 Q142.505 262.355 145.654 259.137 Q148.802 255.919 154.033 255.919 Q160.029 255.919 163.177 260.526 Q166.348 265.109 166.348 273.859 Q166.348 282.03 162.459 286.915 Q158.593 291.776 152.042 291.776 Q150.283 291.776 148.478 291.429 Q146.672 291.081 144.728 290.387 M154.033 275.734 Q157.181 275.734 159.01 273.581 Q160.862 271.429 160.862 267.679 Q160.862 263.952 159.01 261.799 Q157.181 259.623 154.033 259.623 Q150.885 259.623 149.033 261.799 Q147.205 263.952 147.205 267.679 Q147.205 271.429 149.033 273.581 Q150.885 275.734 154.033 275.734 Z\" fill=\"#000000\" fill-rule=\"nonzero\" fill-opacity=\"1\" /><path clip-path=\"url(#clip570)\" d=\"M178.778 287.169 L195.098 287.169 L195.098 291.104 L173.153 291.104 L173.153 287.169 Q175.815 284.415 180.399 279.785 Q185.005 275.132 186.186 273.79 Q188.431 271.267 189.311 269.531 Q190.214 267.771 190.214 266.081 Q190.214 263.327 188.269 261.591 Q186.348 259.855 183.246 259.855 Q181.047 259.855 178.593 260.619 Q176.163 261.382 173.385 262.933 L173.385 258.211 Q176.209 257.077 178.663 256.498 Q181.116 255.919 183.153 255.919 Q188.524 255.919 191.718 258.605 Q194.913 261.29 194.913 265.781 Q194.913 267.91 194.102 269.831 Q193.315 271.73 191.209 274.322 Q190.63 274.993 187.528 278.211 Q184.427 281.405 178.778 287.169 Z\" fill=\"#000000\" fill-rule=\"nonzero\" fill-opacity=\"1\" /><path clip-path=\"url(#clip570)\" d=\"M43.0847 143.305 L72.7605 143.305 L72.7605 147.24 L43.0847 147.24 L43.0847 143.305 Z\" fill=\"#000000\" fill-rule=\"nonzero\" fill-opacity=\"1\" /><path clip-path=\"url(#clip570)\" d=\"M97.0196 141.499 Q100.376 142.217 102.251 144.485 Q104.149 146.754 104.149 150.087 Q104.149 155.203 100.631 158.004 Q97.1122 160.804 90.6308 160.804 Q88.4548 160.804 86.14 160.365 Q83.8484 159.948 81.3947 159.092 L81.3947 154.578 Q83.3391 155.712 85.6539 156.291 Q87.9687 156.869 90.4919 156.869 Q94.89 156.869 97.1817 155.133 Q99.4965 153.397 99.4965 150.087 Q99.4965 147.031 97.3437 145.318 Q95.2141 143.582 91.3946 143.582 L87.3669 143.582 L87.3669 139.74 L91.5798 139.74 Q95.0289 139.74 96.8576 138.374 Q98.6863 136.985 98.6863 134.393 Q98.6863 131.731 96.7881 130.319 Q94.9131 128.883 91.3946 128.883 Q89.4734 128.883 87.2743 129.3 Q85.0752 129.717 82.4364 130.596 L82.4364 126.43 Q85.0984 125.689 87.4132 125.319 Q89.7511 124.948 91.8113 124.948 Q97.1354 124.948 100.237 127.379 Q103.339 129.786 103.339 133.906 Q103.339 136.777 101.696 138.768 Q100.052 140.735 97.0196 141.499 Z\" fill=\"#000000\" fill-rule=\"nonzero\" fill-opacity=\"1\" /><path clip-path=\"url(#clip570)\" d=\"M111.834 125.573 L134.056 125.573 L134.056 127.564 L121.51 160.133 L116.626 160.133 L128.431 129.508 L111.834 129.508 L111.834 125.573 Z\" fill=\"#000000\" fill-rule=\"nonzero\" fill-opacity=\"1\" /><path clip-path=\"url(#clip570)\" d=\"M153.177 143.721 Q149.843 143.721 147.922 145.504 Q146.024 147.286 146.024 150.411 Q146.024 153.536 147.922 155.318 Q149.843 157.101 153.177 157.101 Q156.51 157.101 158.431 155.318 Q160.353 153.513 160.353 150.411 Q160.353 147.286 158.431 145.504 Q156.533 143.721 153.177 143.721 M148.501 141.731 Q145.492 140.99 143.802 138.93 Q142.135 136.869 142.135 133.906 Q142.135 129.763 145.075 127.356 Q148.038 124.948 153.177 124.948 Q158.339 124.948 161.279 127.356 Q164.218 129.763 164.218 133.906 Q164.218 136.869 162.529 138.93 Q160.862 140.99 157.876 141.731 Q161.255 142.518 163.13 144.809 Q165.029 147.101 165.029 150.411 Q165.029 155.434 161.95 158.119 Q158.894 160.804 153.177 160.804 Q147.459 160.804 144.38 158.119 Q141.325 155.434 141.325 150.411 Q141.325 147.101 143.223 144.809 Q145.121 142.518 148.501 141.731 M146.788 134.346 Q146.788 137.031 148.455 138.536 Q150.144 140.041 153.177 140.041 Q156.186 140.041 157.876 138.536 Q159.589 137.031 159.589 134.346 Q159.589 131.661 157.876 130.157 Q156.186 128.652 153.177 128.652 Q150.144 128.652 148.455 130.157 Q146.788 131.661 146.788 134.346 Z\" fill=\"#000000\" fill-rule=\"nonzero\" fill-opacity=\"1\" /><path clip-path=\"url(#clip570)\" d=\"M173.478 159.416 L173.478 155.156 Q175.237 155.99 177.042 156.43 Q178.848 156.869 180.584 156.869 Q185.214 156.869 187.644 153.767 Q190.098 150.643 190.445 144.3 Q189.102 146.291 187.042 147.355 Q184.982 148.42 182.482 148.42 Q177.297 148.42 174.265 145.295 Q171.255 142.147 171.255 136.707 Q171.255 131.383 174.403 128.166 Q177.552 124.948 182.783 124.948 Q188.778 124.948 191.927 129.555 Q195.098 134.138 195.098 142.888 Q195.098 151.059 191.209 155.943 Q187.343 160.804 180.792 160.804 Q179.033 160.804 177.228 160.457 Q175.422 160.11 173.478 159.416 M182.783 144.763 Q185.931 144.763 187.76 142.61 Q189.612 140.457 189.612 136.707 Q189.612 132.981 187.76 130.828 Q185.931 128.652 182.783 128.652 Q179.635 128.652 177.783 130.828 Q175.954 132.981 175.954 136.707 Q175.954 140.457 177.783 142.61 Q179.635 144.763 182.783 144.763 Z\" fill=\"#000000\" fill-rule=\"nonzero\" fill-opacity=\"1\" /><polyline clip-path=\"url(#clip572)\" style=\"stroke:#009af9; stroke-linecap:round; stroke-linejoin:round; stroke-width:4; stroke-opacity:1; fill:none\" points=\"359.748,699.638 394.984,699.638 430.22,639.295 465.456,639.295 500.692,639.295 535.928,639.295 571.164,639.295 606.4,639.295 641.636,152.866 676.872,152.866 712.108,152.866 747.344,152.866 782.58,152.866 817.816,152.866 853.051,152.866 888.287,152.866 923.523,152.866 958.759,152.866 993.995,152.866 1029.23,152.866 1064.47,152.866 1099.7,152.866 1134.94,152.866 1170.17,152.866 1205.41,152.866 1240.65,152.866 1275.88,152.866 1311.12,152.866 1346.35,152.866 1381.59,152.866 1416.83,152.866 1452.06,152.866 1487.3,152.866 1522.53,152.866 1557.77,152.866 1593.01,152.866 1628.24,152.866 1663.48,152.866 1698.71,152.866 1733.95,152.866 1769.19,152.866 1804.42,152.866 1839.66,152.866 1874.89,152.866 1910.13,152.866 1945.37,66.2459 1980.6,66.2459 2015.84,66.2459 2051.07,66.2459 2086.31,66.2459 2121.54,66.2459 2156.78,66.2459 2192.02,66.2459 2227.25,66.2459 2262.49,66.2459 2297.72,66.2459 2332.96,66.2459 2368.2,66.2459 2403.43,66.2459 2438.67,66.2459 2473.9,66.2459 2509.14,66.2459 2544.38,66.2459 2579.61,66.2459 2614.85,66.2459 2650.08,66.2459 2685.32,66.2459 2720.56,66.2459 2755.79,66.2459 2791.03,66.2459 2826.26,66.2459 2861.5,66.2459 2896.74,66.2459 2931.97,66.2459 2967.21,66.2459 3002.44,66.2459 3037.68,66.2459 3072.91,66.2459 3108.15,66.2459 3143.39,66.2459 3178.62,66.2459 3213.86,119.777 3249.09,119.777 3284.33,119.777 3319.57,119.777 3354.8,119.777 3390.04,119.777 3425.27,119.777 3460.51,119.777 3495.75,119.777 3530.98,119.777 3566.22,119.777 3601.45,119.777 3636.69,119.777 3671.93,119.777 3707.16,119.777 3742.4,119.777 3777.63,119.777 3812.87,119.777 3848.11,119.777 \"/>\n",
       "<path clip-path=\"url(#clip570)\" d=\"M3407.3 696.26 L3829.5 696.26 L3829.5 592.58 L3407.3 592.58  Z\" fill=\"#ffffff\" fill-rule=\"evenodd\" fill-opacity=\"1\"/>\n",
       "<polyline clip-path=\"url(#clip570)\" style=\"stroke:#000000; stroke-linecap:round; stroke-linejoin:round; stroke-width:4; stroke-opacity:1; fill:none\" points=\"3407.3,696.26 3829.5,696.26 3829.5,592.58 3407.3,592.58 3407.3,696.26 \"/>\n",
       "<polyline clip-path=\"url(#clip570)\" style=\"stroke:#009af9; stroke-linecap:round; stroke-linejoin:round; stroke-width:4; stroke-opacity:1; fill:none\" points=\"3448.39,644.42 3694.9,644.42 \"/>\n",
       "<path clip-path=\"url(#clip570)\" d=\"M3749.83 664.107 Q3748.02 668.737 3746.31 670.149 Q3744.6 671.561 3741.73 671.561 L3738.32 671.561 L3738.32 667.996 L3740.82 667.996 Q3742.58 667.996 3743.55 667.163 Q3744.53 666.33 3745.71 663.228 L3746.47 661.283 L3735.99 635.774 L3740.5 635.774 L3748.6 656.052 L3756.7 635.774 L3761.22 635.774 L3749.83 664.107 Z\" fill=\"#000000\" fill-rule=\"nonzero\" fill-opacity=\"1\" /><path clip-path=\"url(#clip570)\" d=\"M3768.51 657.765 L3776.15 657.765 L3776.15 631.399 L3767.84 633.066 L3767.84 628.807 L3776.1 627.14 L3780.78 627.14 L3780.78 657.765 L3788.42 657.765 L3788.42 661.7 L3768.51 661.7 L3768.51 657.765 Z\" fill=\"#000000\" fill-rule=\"nonzero\" fill-opacity=\"1\" /></svg>\n"
      ]
     },
     "execution_count": 24,
     "metadata": {},
     "output_type": "execute_result"
    }
   ],
   "source": [
    "plot(scores, size = (1000, 200))"
   ]
  },
  {
   "cell_type": "markdown",
   "id": "d3c73f49-4b99-41a3-a1fc-bb1c7a9a704a",
   "metadata": {},
   "source": [
    "Alright this should look good. Try to reason about how often proposals are accepted by the step-wise changes in the loglikelihood scores over iterations.\n",
    "\n",
    "Now let's find out what our inferred scene looks like at the end of the procedure:"
   ]
  },
  {
   "cell_type": "code",
   "execution_count": 25,
   "id": "41f4ebc9-24f1-4377-beac-2e94513833c6",
   "metadata": {},
   "outputs": [
    {
     "data": {
      "text/html": [
       "<img src=\"data:image/jpeg;base64, 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\">"
      ],
      "text/plain": [
       "PyObject Bitmap[\n",
       "  pixel_format = rgb,\n",
       "  component_format = float32,\n",
       "  size = [64, 64],\n",
       "  srgb_gamma = 1,\n",
       "  struct = Struct<12>[\n",
       "    float32 R; // @0, gamma, premultiplied alpha\n",
       "    float32 G; // @4, gamma, premultiplied alpha\n",
       "    float32 B; // @8, gamma, premultiplied alpha\n",
       "  ],\n",
       "  data = [ 48 KiB of image data ]\n",
       "]"
      ]
     },
     "execution_count": 25,
     "metadata": {},
     "output_type": "execute_result"
    }
   ],
   "source": [
    "view_image(t)"
   ]
  },
  {
   "cell_type": "markdown",
   "id": "4bbc95b7-04e8-4faf-b8c7-51083c7b72b9",
   "metadata": {},
   "source": [
    "Compare the image that your model synthesized to what the observation was like from above. Did the inference procedure work reasonably well? Try changing the number of iterations. "
   ]
  },
  {
   "cell_type": "markdown",
   "id": "25975733-b6cd-4f3f-913c-fe59721c4ea6",
   "metadata": {},
   "source": [
    "## Taking stock:\n",
    "\n",
    "Notice what we have accomplished: The result of the inference procedure is not just a reconstructed image -- rather, it is a causal explanation that goes far beyond what was in the image: a 3D scene that we can re-light, re-pose, and manipulate. The result of inference"
   ]
  }
 ],
 "metadata": {
  "kernelspec": {
   "display_name": "Algorithms of the Mind (Julia) 1.9.2",
   "language": "julia",
   "name": "atom-jl-1.9"
  },
  "language_info": {
   "file_extension": ".jl",
   "mimetype": "application/julia",
   "name": "julia",
   "version": "1.9.2"
  },
  "widgets": {
   "application/vnd.jupyter.widget-state+json": {
    "state": {},
    "version_major": 2,
    "version_minor": 0
   }
  }
 },
 "nbformat": 4,
 "nbformat_minor": 5
}
