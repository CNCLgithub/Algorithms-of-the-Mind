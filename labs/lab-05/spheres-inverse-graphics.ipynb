{
 "cells": [
  {
   "cell_type": "markdown",
   "id": "617e2da8-0eaa-44a5-abd8-5ea13b0c302b",
   "metadata": {},
   "source": [
    "# Inverse graphics using graphics-based generative models and MCMC\n",
    "\n",
    "<div class=\"alert alert-info\" markdown=\"1\">\n",
    "    <strong> Note on installing necessary packages </strong>\n",
    "\n",
    "We installed `mitsuba` and `numpy` using `Conda.jl`. The following snippent should allow you to install both on your local environment **and** on the class' Apptainer container.\n",
    "    \n",
    "```julia\n",
    "using Pkg\n",
    "Pkg.activate(\"psyc261\")\n",
    "Pkg.add(\"Conda\")\n",
    "using Conda\n",
    "Conda.pip_interop(true)  # This allows Conda to use `pip`\n",
    "Conda.pip(\"install\", \"mitsuba\")\n",
    "Conda.add(\"numpy\")\n",
    "```\n",
    "    \n",
    "</div>"
   ]
  },
  {
   "cell_type": "code",
   "execution_count": 1,
   "id": "60d76e3d-993b-42e8-baa3-2567f78889a2",
   "metadata": {
    "scrolled": true
   },
   "outputs": [
    {
     "name": "stderr",
     "output_type": "stream",
     "text": [
      "\u001b[32m\u001b[1m  Activating\u001b[22m\u001b[39m new project at `~/10-projects/10.02-algorithms-of-the-mind/labs/lab-05/psyc261`\n"
     ]
    }
   ],
   "source": [
    "using Pkg\n",
    "Pkg.activate(\"psyc261\")\n",
    "using Distributions\n",
    "using ProgressMeter\n",
    "using Gen, Plots\n",
    "using Parameters\n",
    "using PyCall\n",
    "np = pyimport(\"numpy\")\n",
    ";"
   ]
  },
  {
   "cell_type": "markdown",
   "id": "24118f41-6ef3-49f6-9a55-b09f096524e0",
   "metadata": {},
   "source": [
    "# Part 0: The task\n",
    "\n",
    "The task in this lab is to build a probabilistic inverse graphics model: The model will go from a 2D image to a 3D scene inference (aka single-image 3D reconstruction). We will do so by inverting a graphics-based generative model of images.  "
   ]
  },
  {
   "cell_type": "markdown",
   "id": "19ea281e-790c-4204-8386-a4780f76e566",
   "metadata": {},
   "source": [
    "# Part 1: Compute graphics & `mitsuba`\n",
    "## Mini introduction to computer graphics\n",
    "\n",
    "Computer graphics are concerned with algorithmically tractable methods for representing 3D scenes (static or dynamic) and syntesizing realistic (or non-realistic) imagery based off of these scenes. Rendering is the process of synthesizing an image from a 3D (or a 2D) scene via a computer program. We will refer to such computer programs as *rendering engines*.\n",
    "\n",
    "<img src=\"./images/render.png\" alt=\"\" width=\"400\"/>\n",
    "\n",
    "In a rendering engine, a 3D scene is defined by 4 basic ingredients:\n",
    "\n",
    "1. Objects (e.g., 3D shapes and surfaces)\n",
    "2. Optical material properties (how the surface of an object is supposed to reflect light; e.g., glass-like, diffuse, opaque, transparent, shiny, etc.)\n",
    "3. Lights\n",
    "4. Sensors or camera\n",
    "\n",
    "This course is obviously not about developing rendering engines -- [see the relevant courses](https://courses.yale.edu/?keyword=computer%20graphics) offered by the Department of Computer Science and numerous resources online. Instead, we will use existing rendering engines, embedding them within probabilistic models.\n",
    "\n",
    "To create a 3D scene and generate an image, you need to provide the rendering engine (`mitsuba` in our case) with each of the four ingredients described earlier (objects, optical material properties, lights, and sensors/cameras).\n",
    "\n",
    "## Mini introduction to Mitsuba3\n",
    "\n",
    "The field of computer graphics has developed many algorithms for realistic image synthesis. At the highest level, rendering engines can be categorized into:\n",
    "1. real-time renderers (rasterization renderers, etc.), or\n",
    "2. physically-based renderers (ray-traced renderers, etc.).\n",
    "\n",
    "`mitsuba` is a **physically-based renderer**. This means that it sends \"rays\" from the camera out into the scene and tracks where and how they intersect light sources. These rays are then integrated to figure out what color to paint on each pixel in an image. (Here's an informative [tutorial on ray tracing](https://youtu.be/gsZiJeaMO48). _This is not relevant material for PSYC 261._)\n",
    "\n",
    "<img src=\"./images/raytracing.png\" alt=\"\" width=\"400\"/>\n",
    "\n",
    "Like other rendering engines, we need to input a scene to `mitsuba` (lights, optical materials, objects, sensory). This can be done using XML or a Python dictionary. We provide examples of both below. \n",
    "\n",
    "In this course, we chose to work with mitsuba3 because it is open source software, and has some exciting attributes (many of which we will not get into in this lab), notably, differentiable rendering capabilities. Additionally, in ongoing research in Ilker's lab, `mitsuba` has proven to be dependable for its numerical stability and customizability for probabilistic inference. \n",
    "\n",
    "Please see the [tutorials](https://www.youtube.com/watch?v=9Ja9buZx0Cs&list=PLI9y-85z_Po6da-pyTNGTns2n4fhpbLe5) and [documentation](https://mitsuba.readthedocs.io/en/stable/) on Mitsuba3's [official website](https://www.mitsuba-renderer.org/) for more. \n",
    "\n",
    "**Notice that `mitsuba` is a Python package**; to use it we rely on the `PyCall` package of Julia, which provides a native interface to python code. You can familiarize yourself with PyCall [here](https://github.com/JuliaPy/PyCall.jl#usage)."
   ]
  },
  {
   "cell_type": "markdown",
   "id": "3892fca1-5563-488d-a192-a1aae333d59f",
   "metadata": {},
   "source": [
    "# Part 2: Using `mitsuba`\n",
    "\n",
    "## Getting started with `mitsuba`\n",
    "\n",
    "In this tutorial, we will learn about how to load a scene and render it. Mitsuba3 gives a lot of fun flexibility, especially in terms of rendering. \n",
    "\n",
    "Before we start, let's execute our very first command with mitsuba3."
   ]
  },
  {
   "cell_type": "code",
   "execution_count": 2,
   "id": "07d15c1c-f4c3-405f-9d57-e11f8be50056",
   "metadata": {},
   "outputs": [
    {
     "data": {
      "text/plain": [
       "3-element Vector{String}:\n",
       " \"scalar_rgb\"\n",
       " \"scalar_spectral\"\n",
       " \"llvm_ad_rgb\""
      ]
     },
     "execution_count": 2,
     "metadata": {},
     "output_type": "execute_result"
    }
   ],
   "source": [
    "# import mitsuba using pycall\n",
    "mi = pyimport(\"mitsuba\")\n",
    "\n",
    "# different rendering modes of mitsuba \n",
    "# for our purposes, we wish to highlight the differentiable vs. scalar modes\n",
    "mi.variants()"
   ]
  },
  {
   "cell_type": "markdown",
   "id": "00a5ba72-7c31-40b4-92f8-56da50c8f481",
   "metadata": {},
   "source": [
    "Now the output of this function `mi.variants()` tells us that mitsuba3 can render a scene in 4 different modes. We will be using the `scalar_rgb` mode in this lab, which will render a standard RGB image.\n",
    "\n",
    "To use `mitsuba`'s differentiable rendering functionality, we would need to be either `cuda_ad_rgb` or `llbm_ad_rgb` modes. This will not be explored in lab. Check the `mitsuba` documentation and tutorials for this advanced topic."
   ]
  },
  {
   "cell_type": "markdown",
   "id": "b54ade4d-f615-4fd4-9dae-382e80e6d8b9",
   "metadata": {},
   "source": [
    "### Loading and rendering a scene (objects, lights, materials, sensors) in `mitsuba`\n",
    "\n",
    "Here we will first set our mode of rendering to be `scalar_rgb`.\n",
    "\n",
    "Then, we will load a scene with with two cuboids in a room with differently colored walls. We will then render it.\n",
    "\n",
    "The scene description will be loaded from a python dictionary based on an example from the mitsuba3 gallery. Run this code and review its output to appreciate how it defines each of the four kinds of elements we are talking about: shapes, lights, optical materials (jargon name: BSDFs), and sensors.\n",
    "\n",
    "`OBJMesh` are the walls, `Sphere` is a shape; things like `SmoothDiffuse` are optical material properties; `emitter`s are lights; and `PerspectiveCamera` is the sensor. Notice how each entry has certain properties: For example an object needs to define where it is in the world (`to_world`) and its optical material property.\n",
    "\n",
    "You can also review `cbox-generic.xml` under this folder to again appreciate what goes into a scene."
   ]
  },
  {
   "cell_type": "code",
   "execution_count": 3,
   "id": "d4ebac51-6a81-42ad-9e3f-7445a3c07008",
   "metadata": {
    "scrolled": true
   },
   "outputs": [
    {
     "data": {
      "text/plain": [
       "PyObject Scene[\n",
       "  children = [\n",
       "    OBJMesh[\n",
       "      name = \"cbox_back.obj\",\n",
       "      bbox = BoundingBox3f[\n",
       "        min = [-1, -1, -1],\n",
       "        max = [1, 1, -1]\n",
       "      ],\n",
       "      vertex_count = 4,\n",
       "      vertices = [96 B of vertex data],\n",
       "      face_count = 2,\n",
       "      faces = [24 B of face data],\n",
       "      face_normals = 0\n",
       "    ],\n",
       "    OBJMesh[\n",
       "      name = \"cbox_ceiling.obj\",\n",
       "      bbox = BoundingBox3f[\n",
       "        min = [-1, 1, -1],\n",
       "        max = [1, 1, 1]\n",
       "      ],\n",
       "      vertex_count = 4,\n",
       "      vertices = [96 B of vertex data],\n",
       "      face_count = 2,\n",
       "      faces = [24 B of face data],\n",
       "      face_normals = 0\n",
       "    ],\n",
       "    TwoSided[\n",
       "      brdf[0] = SmoothDiffuse[\n",
       "        reflectance = SRGBReflectanceSpectrum[\n",
       "          value = [0.725, 0.71, 0.68]\n",
       "        ]\n",
       "      ],\n",
       "      brdf[1] = SmoothDiffuse[\n",
       "        reflectance = SRGBReflectanceSpectrum[\n",
       "          value = [0.725, 0.71, 0.68]\n",
       "        ]\n",
       "      ]\n",
       "    ],\n",
       "    OBJMesh[\n",
       "      name = \"cbox_floor.obj\",\n",
       "      bbox = BoundingBox3f[\n",
       "        min = [-1, -1, -1],\n",
       "        max = [1, -1, 1]\n",
       "      ],\n",
       "      vertex_count = 4,\n",
       "      vertices = [96 B of vertex data],\n",
       "      face_count = 2,\n",
       "      faces = [24 B of face data],\n",
       "      face_normals = 0\n",
       "    ],\n",
       "    SmoothDiffuse[\n",
       "      reflectance = SRGBReflectanceSpectrum[\n",
       "        value = [0.85, 0.85, 0.85]\n",
       "      ]\n",
       "    ],\n",
       "    SmoothDiffuse[\n",
       "      reflectance = SRGBReflectanceSpectrum[\n",
       "        value = [0.105421, 0.37798, 0.076425]\n",
       "      ]\n",
       "    ],\n",
       "    OBJMesh[\n",
       "      name = \"cbox_greenwall.obj\",\n",
       "      bbox = BoundingBox3f[\n",
       "        min = [-1, -1, -1],\n",
       "        max = [-1, 1, 1]\n",
       "      ],\n",
       "      vertex_count = 4,\n",
       "      vertices = [96 B of vertex data],\n",
       "      face_count = 2,\n",
       "      faces = [24 B of face data],\n",
       "      face_normals = 0\n",
       "    ],\n",
       "    PathIntegrator[\n",
       "      max_depth = 6,\n",
       "      rr_depth = 5\n",
       "    ],\n",
       "    Sphere[\n",
       "      to_world = [[0.5, 0, 0, -0.3],\n",
       "                  [0, 0.5, 0, -0.5],\n",
       "                  [0, 0, 0.5, 0.2],\n",
       "                  [0, 0, 0, 1]],\n",
       "      center = [-0.3, -0.5, 0.2],\n",
       "      radius = 0.5,\n",
       "      surface_area = 3.14159,\n",
       "      bsdf = TwoSided[\n",
       "        brdf[0] = SmoothDiffuse[\n",
       "          reflectance = SRGBReflectanceSpectrum[\n",
       "            value = [0.725, 0.71, 0.68]\n",
       "          ]\n",
       "        ],\n",
       "        brdf[1] = SmoothDiffuse[\n",
       "          reflectance = SRGBReflectanceSpectrum[\n",
       "            value = [0.725, 0.71, 0.68]\n",
       "          ]\n",
       "        ]\n",
       "      ]\n",
       "    ],\n",
       "    Rectangle[\n",
       "      to_world = [[0.23, 0, 0, 0],\n",
       "                  [0, -8.30516e-09, -0.19, 0.99],\n",
       "                  [0, 0.19, -8.30516e-09, 0.01],\n",
       "                  [0, 0, 0, 1]],\n",
       "      frame = Frame[\n",
       "        s = [0.46, 0, 0],\n",
       "        t = [0, -1.66103e-08, 0.38],\n",
       "        n = [0, -1, -4.37114e-08]\n",
       "      ],\n",
       "      surface_area = 0.1748,\n",
       "      bsdf = SmoothDiffuse[\n",
       "        reflectance = SRGBReflectanceSpectrum[\n",
       "          value = [0.885809, 0.698859, 0.666422]\n",
       "        ]\n",
       "      ],\n",
       "      emitter = AreaLight[\n",
       "        radiance = SRGBReflectanceSpectrum[\n",
       "          value = [18.387, 13.9873, 6.75357]\n",
       "        ],\n",
       "        surface_area = 0.1748,\n",
       "        <no medium attached!>\n",
       "      ]\n",
       "    ],\n",
       "    SmoothDiffuse[\n",
       "      reflectance = SRGBReflectanceSpectrum[\n",
       "        value = [0.570068, 0.0430135, 0.0443706]\n",
       "      ]\n",
       "    ],\n",
       "    OBJMesh[\n",
       "      name = \"cbox_redwall.obj\",\n",
       "      bbox = BoundingBox3f[\n",
       "        min = [1, -1, -1],\n",
       "        max = [1, 1, 1]\n",
       "      ],\n",
       "      vertex_count = 4,\n",
       "      vertices = [96 B of vertex data],\n",
       "      face_count = 2,\n",
       "      faces = [24 B of face data],\n",
       "      face_normals = 0\n",
       "    ],\n",
       "    Sphere[\n",
       "      to_world = [[0.5, 0, 0, 0.5],\n",
       "                  [0, 0.5, 0, -0.75],\n",
       "                  [0, 0, 0.5, -0.2],\n",
       "                  [0, 0, 0, 1]],\n",
       "      center = [0.5, -0.75, -0.2],\n",
       "      radius = 0.5,\n",
       "      surface_area = 3.14159,\n",
       "      bsdf = TwoSided[\n",
       "        brdf[0] = SmoothDiffuse[\n",
       "          reflectance = SRGBReflectanceSpectrum[\n",
       "            value = [0.725, 0.71, 0.68]\n",
       "          ]\n",
       "        ],\n",
       "        brdf[1] = SmoothDiffuse[\n",
       "          reflectance = SRGBReflectanceSpectrum[\n",
       "            value = [0.725, 0.71, 0.68]\n",
       "          ]\n",
       "        ]\n",
       "      ]\n",
       "    ],\n",
       "    PerspectiveCamera[\n",
       "      x_fov = 39.3077,\n",
       "      near_clip = 0.001,\n",
       "      far_clip = 100,\n",
       "      film = HDRFilm[\n",
       "        size = [64, 64],\n",
       "        crop_size = [64, 64],\n",
       "        crop_offset = [0, 0],\n",
       "        sample_border = 0,\n",
       "        compensate = 0,\n",
       "        filter = TentFilter[radius=1.000000],\n",
       "        file_format = OpenEXR,\n",
       "        pixel_format = rgb,\n",
       "        component_format = float32,\n",
       "      ],\n",
       "      sampler = IndependentSampler[\n",
       "        base_seed = 0\n",
       "        sample_count = 16\n",
       "        samples_per_wavefront = 1\n",
       "        wavefront_size = 0\n",
       "      ],\n",
       "      resolution = [64, 64],\n",
       "      shutter_open = 0,\n",
       "      shutter_open_time = 0,\n",
       "      to_world = [[-1, 0, 0, 0],\n",
       "                  [0, 1, 0, 0],\n",
       "                  [0, 0, -1, 4],\n",
       "                  [0, 0, 0, 1]]\n",
       "    ],\n",
       "    SmoothDiffuse[\n",
       "      reflectance = SRGBReflectanceSpectrum[\n",
       "        value = [0.885809, 0.698859, 0.666422]\n",
       "      ]\n",
       "    ]\n",
       "  ]\n",
       "]"
      ]
     },
     "execution_count": 3,
     "metadata": {},
     "output_type": "execute_result"
    }
   ],
   "source": [
    "mi.set_variant(\"scalar_rgb\")\n",
    "\n",
    "@pyinclude(\"./cbox-generic.py\")\n",
    "\n",
    "scene_d = py\"initialize_scene()\"o::PyObject\n",
    "\n",
    "# load the scene using the load_dict function\n",
    "scene::PyObject = @pycall mi.load_dict(scene_d)::PyObject"
   ]
  },
  {
   "cell_type": "markdown",
   "id": "d04485b4-6d51-4caa-ab3b-98fa84729498",
   "metadata": {},
   "source": [
    "Recall that we mentioned `mitsuba` is a physically-based renderer that estimates the color of each pixel using ray tracing. Ray-tracing is a computationally costly operation and `mitsuba` allows you to make a tradeoff that suits your goals. \n",
    "\n",
    "The parameter `spp`, which stands for samples per pixel and is input to the `mi.render` function below, is essentially the number of rays cast to compute the color per pixel. The choice of spp reflects a tradeoff: The greater the `spp`, the higher the quality and realism of our render is, with the expense of higher computational cost. You can reduce `spp` to obtain lower quality renders, which is often acceptable, especially for characterizing an approximate process of rendering that may be implemented in the mind and brain. (Regardless, this will be handy when we are doing probabilistic inference later on.) "
   ]
  },
  {
   "cell_type": "code",
   "execution_count": 4,
   "id": "48486f93-c71e-49d0-9df5-d17d08d07efd",
   "metadata": {},
   "outputs": [
    {
     "data": {
      "text/html": [
       "<img src=\"data:image/png;base64, iVBORw0KGgoAAAANSUhEUgAAAEAAAABAEAIAAAB1mzrKAAAABGdBTUEAALGPC/xhBQAAAAFzUkdCAzfHTVMAAAAgY0hSTQAAeiYAAICEAAD6AAAAgOgAAHUwAADqYAAAOpgAABdwnLpRPAAAACR0RVh0Z2VuZXJhdGVkX2J5ACJNaXRzdWJhIHZlcnNpb24gMy40LjAi+xe2MAAAIABJREFUeF7suVW4VUfT/Tuquudaa2/2xt1dAgR3De7BQ3B3J1iQoAkEdw0Q3N3d3UMI7u6wda05u+t/keT73vfiPM95zrk4N6du5m0/v9GjRtcs4P+v/0+L/vkkxzVU8h11ZlNr2SZjsUafoRTYZC/bseLxUZ5Eu22YrMVuRGA/ImUl8uML96OPKER78RxO4Lwew0+8xpJLGiNW2uGCFy5/SCVZbidjNYXzCgxj0GY4NE9q4BNOUkGqQX+gOPrY/tZIA1VTtaaYkPF2yEZVmW6hCG/jQ7RFddbfUSZz3HSWVuaqFYnXjWU6kiI3PlMCbw6tl2u+E6oVz9TzOCNFym2ajDzmsjfOlg+9NfllBV2V9jhuf8NoFHEK8yB6q1bQApSxx1ECV/greoIhmGT/gmtXU0Ws53tSEA9NQjtJutB8yoGgek8j6YWMo2zUJ5jedLPf83gaTKd9Z/g81nuV7BJJp3agPeUIPbQXJVwW43dU4oo8j05RV2yU095J2wI5TXaJlePBPHY5MuEs4mH13wLwOrUSP2Y4l3K5PyrwtVPVgRqD4ZgXvjws3JfSXJLC0sv3I79RpUwJ097eMMbmtuHc2amhDumpnJE2OnNRi7arcjrEQ2w6RCMq1Nst621Rg6i9em4DaCFN3FbmgbEqNV+m0+T3JkhF55lvuNPH/OI1NgsihgV+9n0MlTW7bXo3m8y0UbqKrKD5+o6zin/18plVUiWYzf3JTRu+TdXkzlxCGlOtINBO8tIruLQ74usEjcO+kw92nJ0YNzT+p+AcWSh98BZHbMBOEhdHaaF+RAP5IvvUR9Rwk3pRNrvaKIlRnk7q5aqD7erV8BrSL/gRGXGTMtBaW0rC5Z3qgxyUVA7QXCrhJjdRZq9ORke4iRpCQyhH6KSb0ussnZFOzoQahmabanSX09MWtYEncnG7kR7gsPnRW2bevm786VHsrQezvpx2wyQcNxCj/nHCeazCWaoTls3WS/ohwQD/iEQzwzhsof+nQHInipeiJ371ldMleV5YpsBbpzyHqd30RWd2jKoc+UP4zMAk20KymE2qLgc5LKyOf4X/mLQxJey9wO7ASGdJgvpOJd3An9+ZoFIEtO97Tf75TnGdNWyir5BerW/5BqmigYBTQ6/37daeuhmYFPbF98jJQbXxVDVW7amH9JackjpBJX8ZnwnfGn7G/0p1oCHUICzMuaKyJ9jue+Mk9c1Tw3iWuiA5wb5SvmhV1ndG7eM9CTb6I31vw3/0HdenA+UCEU7ysA9OG53Fv1Al46QRjcPX+yPUK7qCUs4jVKaQ74iTURdzZuqkqn94f91Ab41Y6m+luwWuORl1P5/i1+Tz11Rj+amK18eU8vf2P9WnE9UNi/evQpzUkCphq8Oe+Vb5R6ooHqie6t4qs90aXyRkvFafEsbn+RBnj+OQXY6HiOG/+csZbIXFTG6Iom+v2wlx8z6cDDUL3uKl3JMPRtQNb+ZLiR99DbmTfu1z1ZwEPcMbhoWH9Q8r4AyN2+5ODv5lD8ky6W/WUi80t2flg5zVj3wbuQbuo4Kdbus5kXRACjrtMNRXxrdG1w7PFfjsWx52PeD3kbMCE2haXCqvsztP8uCRdPZvoW5UMcF3YfDPDLsY6O6/HTjo76GT+Mv4ftBn6RZmIchjeRgtV0lVhKoNnz7CB912Zo/J64TpIjw0kNMpps/5UvhKOfFyX27Z8XoJemCh87N6y4dVEp5LDfVWvVlNxBB7zDYIXOQLbJwd6jjvtwPsD3ZeWDX9ReXx93eWq57aR7+Tdp6jGAo7Q1EMa/QNDtBzKizatnF+4Aq0gb6iD5Q4YrEvmerub8Z+7mb32UYyODbJ5/OxC033T7/HfVFXcRbhKhJ5kexv8v84gK+pXKiYoFbiyVyUX6ib9K17WuZ6LVHA/CrpAwn5W9VcitI6WYM4a7GI2yviPYG0/tbOWP5BKmKrf6LWqhA+6EaUznnnpFZt/Np3Xsc5ObgDL/BV9NVyivjCdBqV1edwcz6sduraXMfmk2ES6axyRqpSvi5qqG7DN/VAqoNy8KG2bWDL2LLqoprAZwJJnKm6NF2Uz5KKKshExDrTnFh9hUvQDHrKxVQ+dcG5rh1eTY/4Mm3T4eqTuk0dUB9fqdW8hlv7G+mlKsgBzkspdS7ZI2e8m3aXBAJ7/cmcK/oR5eF2ErS3bCHfMqel3qHXUAdaYq7ZX+w1+lrFql8wgTwM1nd5Od0OnHBCaj3NsJlkOxbaYtJNpqMh3unE6ns1S+KpCg2JKvglX2w3WfA+SYyrcssuvKV3+A4VPpQ3eeVVaAFW4c4/AtBU1QJVImclWaCK6pu+2WxpsJqHS7FzTFN3na4gpA5FPgms8NcJqx02xL/FyyQZzXi1g/LT73Sei8NPrG7yn04DfV0N19PVZ7VU79SZuQsID/DAFKDD9hv/WTVXNaJfuCs1QgbaQt/ydU6AgvIzHecs/nI6VqVTnR2t9tNatZTnBLY6V3Udbs0hSqLL8wH+K+y38E+Bi7LO/mzH2462neTVR1Q1vqV20x4c8A9xejhNOQeVoJT4hjIgpZORvtA+3zNOTovUMJrOC81Rr4apaI/jHY4F7un7qrizHfWRjkbQazpLGdCMFjquU1e18eXgCvyQnvMlKq8m29dyjrZgEppxE/kLp7gQDUBOqYg8lJG30VQ6bQ7ZLjaVRMl0nIw/HVUrzhdc9TZN1MywbLSUVqjsFE8J3cISwJYX48xn8XvPcBwv/glh9MFUvMcFjqT2YugVZqmmHEnNqLZPOOO7yq4vthOdCA7nbMm+56V0wpfBv1nX8F7Zx6aRLsr1aDvvUeG0WnfknzmdXswtlQkO9cp4zQPTA82dD95Mb70RfOYJdJaLoyhehsLdS14Kn+fs18ZXgSbzOsTLLExUY6gJleI11JpWcUW6hZJeuVABM9Z7b97a6vo9zUQdSxSPb3XrsBLOpLBavEdfwhaT1M6hGZyZHqg4KqG+9YzXyWz1inknTLQK0lpaQYf0GZ7KX9m+lF3vVfnUVv9cvUqFuV6wlruUnkh56eCMVsU5kjTm0AB0VRPojT8aPSgc82mplJRjNrNN5/7ppjRHEJQkCPO11ePVS6+v96eN5mmci1JGH/18MHa5LfhufPS2QFYspqoogPIoiHVQSKQfkkZ29RklceGfq/9PC0qt66F9qj1ZOzs9fXf8hTmlmuPk5l5UmN9RBB7JPMkli91CkjDVUf0iQbO0HxKfSHQG4TgtIaQybBcGDvufOKVMXukhO7mtrqR83jfx90Kz1O/6pF7N06kbZdBz9Ur+zkyUo1hNJSSHfFTf4zQl9ZXFCTWIAvQSTdwYk9cMppKYhtyLu+0bfWUxAIT1wv/jeryt5+rKf9TYaZPQOLxxC7kvvdcOoxKOmQyyXM7qkspyDuXYLZTJdLJZ7WRZJNNkvWlh79t9gcG6v+7Pv2EVMrtZ0A4RqpSUk+hge2+q6eEFQyVMgdADeSj2y5wv92O1oTc3v9T058TvAAw2YZz9BB9cr7YcwriYH7wuttPFPPEvzJgvX6E0Nv4TwtRStUQ97q9XcBleqF5xLr6sClINLqg+Uz6aoB/wQprl70YNPozj5vHfv1nzuf6XE8FgcKebjLuiqvxo8+EqTshr2oER5mtrTA+qozy640+k66k11EA1oKGYbhrJLh+jP//oJFENVSFdiP7gR2qiPkJ/IilrinN2KlJRdAuLMBn4f4f+78r0LW/ks5TQKa6b8lZ/aae0aqEn8RxuH1jmuPqNb4m+rT05hEyyj284fdQl//c6ThULi3WGOaNoCL+gEtRRGb4uY1zPey/v7WpJaFnSIZ333n3hJY+L+TQnehF2vGn8ZWdkY2pPVfwTeCYvDjTntFxNTaex1BDtaCHK2eJUG9nwGckQ/vfp/hEAOzEYUfiVDJpSXb2ASnO0bs+DqC7voXXOfed7ru07GOikf6G1gS604N0XNTH++JfEXrdQUW+oLKFFPBGzsDpwhDpyEgn3jlrrtFUlVG33i3jmUNgBvVPnUG85ghPpd5SYVvNFewzDaJOUk2u8lz7QaP2Cy2CCWqTieEygs6+sLgkA7zr+X3D9v12PZ/k+OV24uX+qLq4H+0N6ip7rn6Nrqm7qAEbTBZ2TGvDXgV2+VzqjCuft1BhRNJ/+0OlUOG/nprSf9rhdQjPcKnLUpLW3vCtySZbzcfSWnaED8S9C3XjN+9kxsxOvU3P5lP8nVYnn6Na8j+rZPkiPivw7dmGN7wBNo3e+e/yM7qvDVBIp/z7dPxkgWc1B/IGZaIgwrs29ydI1jiJXpVVPyeWKKhMBa3gE2mKm1MEyN5cETY7XuePvRa9BTm+TLA/ro/9KVNQ9xE8kI4bQPExDc+pOq3UnWk/bvCUywL6k0twTWewts9KMRjFMp6f8Ub2kFt4Em8KO0Yl5IG9RDj2ioN2Hz3g6pUnPr1ugbf/WG2tmSdYx2emERT5t/bwqeoBqRZp01POYwfF7/U+d/LpYeKbwuf78H3Z/3BUV7aVxfzW3Ew6NPBk+fcWvK0/s28x90BgxtqBNZEvhszTFYg90A0/5hOrEs7EEkAbcRf3Ku9UOb529ap/aMFtUdjqraZxEesnlrTQlJqHLqiY/N/dtNbn/afr7KlHJVca3NaMKRiZXOXgyv6IbNJtbUVLsNdvEYiKt4p+QwgTleyoXIjkmotJRFkqPB3iOkv8lAI1VEaip7uhlVJCyqcbUnZZwUWymDzqchH36KvfkuqoUPUCIhuI9zVAtqaBpwjXMqjczYtyYJP5yMSf1zYj3TryTi6wiWuvPjgEyjVgPo73qrZ2JnjQNtfhHvUGVxXJ7Q3pKOn2R2rGD37AcO3HcZLa39B39WZ/jpTSdOzwe9zjziw8/rx3/w9KpuhT147vSX+KlHFei/NTOLEcLKaiqoCgloncyANu9dHLEnkJhGyv5nY26nyYvYI+ZMNrEv7Lrb4+eNJA9vZ2OeY28tXZF6IS70ZsZMna9ZPRnx0HVj7OpdbTRO20+YDcKuwXMVq+Nl8Ump31UmuaGoqWRjIif9fl57Ctq/6FkzIZAJvJR78AyFc4dndJcgNpLXURSutBjO8KeQSE5h3ipZlNKfdUQ1+F48faEuMYnr/EzgOz/Mweo1M5gDI1skzyDk8vX2R+lEnBW1ZOKc2Vdij8y9EGOUTX0JxrP1/kbqqzu603sUj8qjaGynUIY/GFK7E+x9TjWm8bXEqRiT9+0g+1zWyN0yDywhziNJMZ3tom9bh8F73jJTSB+mjvPS0EknbBbWkkOePawm8ScctfZrGaiSWKP2BV8FNsoIwqagfLS5Lc37VTZjQ/I664xYsNNtJlvv9h29i+5rUurAfzAHRTc5z2wj22kLJcpdogNmCPySda7y4Mt3a7mtNfW5jSZvEOy3HsYSupV9xbIEpmLsmaJGRz8JviDdzJY0+tmmnozvXZWxSWPz+A+DeW2z2RQbG7XMYuj93/qEJPaS//qzafhEWOQhJ4n2K5jVCiwSwW4kr7LIT5G6VGd/rQj0QqtbDocxjXTBEkxwc4XJd1DC20cmr/Z4E23VWM9/IVd/z5DW1A2aO7KNzEDk3kMsqhqqhmV53SqAU3gJ8pHPrVUneCWnF3lo/t2qp0kNfXX1A8tpbsUh9+s8tLZyNc3o5/E3PFHySxteI+ctqt9q3RzNclbrtp5T21N7oBVJoOxtojvG36jXLvGeW0f0n16S/HS1fxgO1JvakkLKSc/oJQBq7PoWuoq72Gf9dwz5pmKVcm5B05SfaqFHKSxRLfVZ3Tx4F+xh+J/5cRSA7WDEaaDqScp7CppSJNtjCyjYjSQCnkdbQnJz52lKqKkp/fKzvE2y2ObwpsYau2O0IvVS33aK2vbmWR4jPnQXi1bVCqYa2ap9PHqSnt7kq9+KBJdLfI45aGqYcd1EzUrbK26yEecn7kBn7FfISM+SFd8ln36COehd9LZLkHAW0f9pIepRkyDOA350MZE4hz+wtL/aEGYhIWIQEvaTf1oDn6n5KjMM6gZJVLPyeVyOhONokU8DTH0iGdQcdVD5SLiaAZC8tHslvreS396dVGuutXNQz6A25gffsVJ6w/To3QLlYvj1K+cXT3Cd6iDZPgWJX0RgZCegnXme6Qng5QU4RTWR/kNz6UWlEedoU683hemUnNNSYFI6qIGcEIaw0s5HTsmv0yyq7mzFMGfmCofEEmnUQ9r1Sx+z58iyNaXte4zb4k3HJXtU2TiGLqKpKGdpr2Z4W2yKSWHLeYFzE5nnUSLh0L+VL5GNq9ZbAv6SynX52KzvSflgmlC7LUwCex5KeKNix/nHlKDpDEKqso8gL/RTakKDfVnVl34IxehT5TNLpQf8RJtqBDlkZG2ut3k7aCBaOvspXiaZcIpFoulHz5huPkNrxD93wJskkl4QH2oAjohDEPxBn6ZiB0UhovYQ13RkbJTe1WOk1A29YUK8TcqJT2X/BSLn20fPV/CdD7nIO+X4v4E6OqkQl9nhO+SM9+J0VvUXbWAp+trnJF2oCgm+BPoQ+px2NPAM+eefeRmsC/5LH/kLU4NZ66qieLoQb/qm9yKX/vL6Uq6Kr/hHVQAb2UYuqkp3A1inslHRNicpqWdoSPVa77Gy2kFLUU+exDdpYf8bHfhB9mJV8Y1V+x2Owg9sCHwi/nBlvBcd45xvYs2vdlCmyQVHNMhlM2bZJbbr2W0mUZ70dsONp69iC24QyWDP5mV9muajnI0gcqoRjwhkExW4X4gpJZyASc11eZ6KhXlpy92N02UY7JRYmVLqByi8ZEdFEZh97rkxxAxSI4c/nt8kMI5Ney/5P8VYCLVQ0YO4/S0hybyeZzCTBqCK8hGZSgfbeDv8Ijyq/ZIrlLpKXSQ6qjadNUctGspivuq15SOlvEbiqIFuihXU4+pnNqnJ+ufVO5AuD+D7z1X5sr0lt9zM26XoKavvRPENJxGOZU+vBMNdSpxA3WFp9BBHsTjVS7Kxz0pN7XRy/U9dciXl//gGSiBMdjsWPVUjfEq2dESwhRckozUTb5gCndS2fkUetsj0sHcMMPsEspPl+ggjhuxEuppCtsIcqy2zVDZ2WnrusXFk8pmnxdlkrqr1GTeaiO8Z+ZPt7QpIInsRZ7KGTTRTrrl7PCKm5zmEZWmyV6cSsin/dFmjhR39lA7ys/HSShGZeDmlB3XpQIe0QGZhAGqKl2kZqEeqC+l9FTaghX2qWTGHOXHBBrr96EMliGIHzD1331ABu1QNzrDt7GHFtHX1Ju3qPnUlY5SPsxEXapK/WkpvabMdEuNptzMfJAyoIF+RnVtTbcgjdVbnJqcHRe8d/LayUtJVU8d7xup7/n7+nbrOmqiGsdJVE5eTW2dX/SvykF/LKPBitUZyuETlUOfVBNUMu6v5mEV2lJj1ZIv+cepTqqbf7qzVI+T11QGrZ3UPJATebe9nrYdzaa8dJ03E6Ev4vEDnfSq2be2t6yz26S9GW/H2Syqv7NaTXEym+v2sHnqlbTX1HzOTjEx3YO53a9VKuVxSbJ8mTZ5VmVUvSVlaJO7Tr7Yc5JK6nFbno6EtBAZZKBXww7XB/k3Tu7kkAX2ezWTO9Me+kRtUEknpSu0EAlRBmWdseThqluKDtF7dYie4xpVwkpqgpLYKdW8PJJY+nnpsRm3sAD4n1cQzdMt6H7CTilinD1a+3/hqvyI91JIr3VcfsSXdEvqp97r3NyFd/N7CqPmaiTVQyFUgYe5GIGx8lDOyVkq5E5BWPI6zsaIUwl6+xf7T/MfnJLJmaLaqRhnl56lvkcuDKBHTnF9XhULvPSdce760vky6D5OJuWo5qqPzq5WhoX7E/lec0jf4+/0Kt1BLQqccl7pKDrETVUDfVxFcjXfSp1DHfYldiroEaoZV+Q2+hE3YMJaLkp1fBf0XpXaOcOJ2EczeTevRCv5Ge1kMgagFXVHAIU4AU5SHRVJqXi0vs87abiqrzqpJ3wIhVGKMqEyyvEVSsbFpKr0kEI0//OKmAyBa3aoJNBFOIq+cn6gtVRdtaQ3dNosxgjcM0pCctSulfaIMRWwG49td6khw73WklncYHt5LTkeHQvtNbfjbuEZjvzbgsbIbLmLlTiHFiiIGkhGEfyA9sgcKY+PWIu3aE6RbHGUtlBRaNyQTnjM8zg7fbJdVRLKgNaUhybyMzqNPGFVnez6HjXll9RMjdXreXegju9PnY+K8Hj6oJ5TEl4TuOj8rh+hIu2kqXxGJeM0vouqq7rDq2g3fQykdpLqn6Q6NaNwZ4ry6Au9o2kUr15TBh5Lm6gn3sgeWQ6gCtojqT7LfdGTLHahNIdMUZuLUpm9dpJ3FXmlkqNoELXAVsqHNBhtM9i3vtF6g+rhfe129XaE4t2j3iHvi0wQP7+wAZmo8jhd1VV7Tn5Cb5UDCfALZ6ZrlJe70l6ephLRMnvB+Ytq0wjVk4T+QkU0RixfpcXYjZtojlT0AF8jH/2IFigttzAbm2gqfUWL1B76nVJTfiRFDWz5zwzIRx0oOw5TIfRkcJCWIRLl8Z72cmNshaEySCL1kQIrMR/VUJm/51q0QcJQAysxTAYiN/elZLQEGfgGJVA19DQ10p/L/5uz179ZZVZv+Q8Vy/DfctLrPfwK4ZSDIrk4J9FL1AG2vtwkapYT1NP0WTpKqbFCIig1hqg5+lu+wx+4MLdXV+gkX8Ie5JH0NJyu0DomakgXdTruSWlQBetQRhKLxi3ViGqbvaYJ3aKbss/dYL5GPopAZ1PNNqaZMhyzeIC6ptZjiX1qM3Eammdq8DvOxgelDj3n1pLSyULJUJ8WOLXxm7fe24h0vp76uhocWsJl6RPNw2oMQHmkpdKciBZRJlxCC+Q1Q+1jNKJbuE0gpsqyChsxAWmsD1twBpdRBCL35RIe8yN0RmIAx/93IfPWyYK4xGdTi7+V09j3jCPVEecmLeVlaizlV73UBQqqeP2Id3EifkPJWfF5OkpBzEIlOWFCUs+eM63khmpjW9DYVHmdepHr/GFOVZ3Ld1Qd4vT6sVqj3nE/7kNZfGV1Sf1Z39D9VSPuxnX5na6q96u7VJfSYzyuUxLO6nvnVNUv1UB2aLheQcf5azpAb+kAdaYCVMw5r9Jzdz5LpWk6evE4SisVMJe2ST9JguqyH0upna2BoZKGMvJF2mAay3uJV9d5Ox2WspJX8tuZEoZ1huxHmW1beAntNQ6pOZxMRXF9GoXG9oUMp89UFonsLPTAO5vBVLWnbLO3P35e5Y+166SaLyN/R9ucmnyEqlB6mod8XJUy03NzDaOlmlfXXpGMZq48Q25sxU0kNYmwXyqHstl7kv7hgeA9Exkbg0fY/e9KcrMUxxtZi93yQMKklJyxKc0rlME0nMUzqkPtaSzNQSJklR9QDynsahmIg7ar7SaRMh0/4Q8qSdMwhyepMQRnn9rHm3ypdDGV2T5AV1wBw4O1WWQPfpe5OIbVmEKpkdUZqgerlnyVPtIusdQCh/RIfs0h9MV+dFPjOJxHqrK6NAd0f72Dx/oKOx3UZy6nzvAeSsnz6YDKSfu5p1OfhpDPV5Uf0iB9jXtSdS5D2+gVMXUjRx9U97knH+S6nF9BteP1nJ7DqJ7TST/n4b45vjid36mow5TWs1QWVVFv5DVcmVZQJqqoWhPTe1+sGqSg49RP/Jw3oRc6qOM0mDpJHhmCJZIKp3DBVkYPmS39ZQvOyCm8xF3cRy5E2BrSW/airmzFa3NSMshA1RTfINM/V/+fFuRJAURzQ+Skr2xpG4Wasl/2yyzkkBTYIQXRB6elMPz4iKXSD6dxGwPkOCIQh2hVR6eiHrSd59N4ZMIRJLG9aT/9ZHqIX4KUlnPybvb0z1zC99GJVmWwnEKYKxtlMpWVMraM5KAv/DWN4id0lx+x1veZ6Trno3ikQyPkNe1tCvHbTfKVpKK61IPSSl9JhUU0AfHIg9HiyQTUoSQU42Uzw6S0JMICHHIcFc9NnFh1l9Nqpc7wTpqNvEhOZymcssufUgrLOQWn4tF2GhZguukpyaSO9JDssl5Ks5+y020pjaWUHg3wPR7YB3auHi1fYYeqQE9oi60j38pUykQ+pKQOEGSQJvIjjlNbKo0kdAoOouwcNJD1+AVJ8BmJkAGZ5An+xAcvA7bh4d/g//0ZVw7RsMiMmkhNP1McKlMLHku9xOIOvrGrzFapKnvkC54hNTVDGf6d+lE/9OORyGeWeySQa3IQ4LJckNfyAe5L2WS1zYwW/IuaQgMlD15iK//IWYkwh3JTXk5ET9AaL2kDFK+gJRTPeZl5qh6iEtJpKkQ1KJEdhG+wUX0GYTHX5NZ8AiNlDRKTwWt5a8/TeUrg7JTjuGSa2APy2N7CPlnFebCTptMUdKAyeE+r5B5WSGFxMBDN8EI+oj4q+es4rThrfJn4pe5GXVKt5pmhV+aaDdIaTkPtOZZm4Rwn1oO5g15LiTAUKVQTPmKeYxPW22m4J5ulHh2mMPurjJJZ8h1qUAWbGrOQwc6SYdhubmMKXtsJsg4lRLAWPjMenaW2FJJdOGAWShI8ApD0fxxAnhpHZegK0iAFveFFNE062gkyW/ba57KWJmImLkh580Au299svBQ1rcwgu9G+NI/lPu7bLhhGiXka+thVUlIqORfVMHXW/0EHVC5TA4tkD31DfYlMJ9PZFlR7qQGd53qcmJLjAE7RLi/CvrFnKRqV5bpNaufLPalj14gnu20ZO5YPUnWM8jKZfbayt0kG2xUmtbSTQ1LYPLSXvNp2jo2SRNLILpSXqIdfaa2MkGX2rWSVkiafWJQyky3kPiXj3rSJv3BDquGVlVcSKf1oIV2k6TIXQEm0kYy4LpmlvVpCH7kej8MHpBJXCsoCpKPW1NEm4g/UFBOQGympKxQ0miMBZbBtJIv0QmEYhKMEYuHiL4QjDfehGqgsdXAdl1QSnKYZ+In6IhWOUAqE/VeR96gcAAAgAElEQVQLkq7SXj6ZLTaVFEdQXLCkkEP4QbrJInSUFeiGZGaAHSXxdAxVkQ1dUYuyIa+8RYzslBPSDIekH45zLl5L82zItrW/yBBOi9TObLpJI3k5wjAG16UPMtu20kEiqQK9pk6Ugi7KEl6tUvF6uUC3EPTmmeO2mF1qHfmFTqM45TZ/2p/lID+GoBBtl7EYxc8pD22iopiDw7aK/UGOeR1NE9uCzkkMEpoC9px09/KY52aqLDRLbFMsk8qoawvb1baV/drktqnwyH6NSFKojsTSV+5Kaj2GDUfiFi4jt12OroikRpSYNjqLVA02/IhGUDaVRa7hGrVABiSVcvILTiAew2UtDuAD4mW5dJfJ5qZUlv5ojdk4aHvKMAyhGZiNNlSfmqG3s5Be0QL2IQ0S/HcG1EctSoB6khTnkB9D5CyP4oNYjmv0IwrjiMTJ7zwV99EMG7Ef+3GYjiK1jbMbJLXcsHeksf1e0ksn+9QckYJueZPeZtSxOEcr+TrPotuSUqrJSbsbOdHSa25W2k22usli89nxkgfrvZ3edLPUfe6dspZG0jgqZ+5ig5THYsTIfiklBSWp6WOz2lZmk8yWVbgtK/BE9gpLUelDpWiJTMFF/GHnSaScstslXhwcxASclCQyRV6ZdDaf7c5d6CkX4HE0ir7YErgnN2g00uKILSjJJJsUxRB8tFdwGCnxGgvlDLWhrFRUNptvZI2t5RU3Z2mgPWi74gQe443tjz+xiadiLnWk9rgJY2thDubIacqNN3JAzskBpMY13OWBOIp4AKdx3bSVw3goQ6Egf4P/dw7IQ7OREBrVkdmOtM0xjlmSIkyMPMEF+8JG4jBnxGdksXMkApuptckvSaWiZJCxsh2n8SctpaLUA2UoLXaq8yqSh5i69p345JQNSVIVrauy41dcHAvoR0pBK6gH3ccMfC/foAIPVZ1pPo/FG9y2mc0kW1I5yuU7+GTvSnJspr3U1LtKY6QmPcARc9Xml8I2L7HdjT62DVVFWx1GBSihXJLecseksG/tJglDepRAW+kjHWWNfEFR9zuvtnfDfjCXpCGdsOvkJTZQMfzE56k5TTdD5FfZi94yBuA0NJ3aeS3ksf1e8qEtTtvysgiJrIuJeOQdl/Jog61yRZp6RyW5XLePsAYzbWd5imzSTdrjmmicRxPVFhPROthABF1C9WwDaWWvY77soqdQ2PzfDvhKWB4hN9VANC3BNQTljgmThBgtIZmOa3QUru1qz0kGW9SwvLQ5TW8JyXX7BeWQz57HGAnZaKkr6aWPkMpKByiVHEKUDEIs9UEXqo58KGDPSJzc4pKUjQ55d+142ej2Nb1NdbPZq2q3m4USJdfdV7aIWYKbEon5Mgd7MEvaCYujK+AOGmKXTYZiksqslLneejvFfkdnZA3Kmh9sDjkkZW0juSFVZb9kY8ZDZKPHOI3F6roexfHSAL8inR0jfeWtd8W2l9peVnNAltlqtpocM0Xsa1ufXXSSmbgqC+CaH8H4IxQhqaW5tFTTqDw+qHvqN86AfqjCc1AE39gn0k1+tlekq4yWkSgj7ZEYZ+UUHcVm3LJPUQZLbQEEcA1D8QlvbSuphV0qB4ojy9/g/x3ENviO0cxEj1NUcD6qmr7SHCu9KIa2cj0VoIScUSWnkZQVnVCMevEB8tNd2oJK7NJl/C6zbT5pYFeZhJJJvbIhXpJir5M+UrgzyvMJpKMyNFt34jiuTs3Ioz95AlWlIBv6gxLr99yBc2rW71V5fUafV018K32LfVOdHM40VZqeUzW+Z1y5ZCfYCdYvC7yaNp1twJ/QgWLpINbiut0jG2xjSSujkcrukO8kC920G1DMkhyQfF49S7LKBu0Mu56eYQl88JvRtgeWYDOtsGmkhD1IU6klLZfdppLNYb81baSWrSKeFIa1MXYCFtrx8hh1vWqmiAm8Cfs8QPfzMppuqE2taZ8sQBsaiRPIj1PeKUmAk26U7MYys1tOIxQ6Lh+ko3ElDIe83+S5FAvNkHFS5tGh0J/mj7jX+IDD/y7l55nkskOOISUq2D6iZIXKRNE0E3PlTxktye1+pMFS6ouhNovR8ieP4UV03O7DPvwhWWxa7JSW9h0c9JOcckGi5YGESyHZLsvooOzFcvuzaEnNa2w2OWQP8n3p42vrr+dMTPAl8kWCypHfRtwJb+/fH8jrG+Ef7yTQeX3iGH2Q46gKBrl7goe9RsFScUmC26I/fwnExLoz4usGY+SG3SJlsVZSYDhtREF5xNPpKZ0yb2SXXYTfpQJGyHq5J4mQQ7LJCreh8dvFtA1zZYIdZxy7wd3mxZkwnoQJuIhP8kwemttmlzkjSdEK6zDBm2S32c72iHxETzpKa203eo80ZhwuShXuJb2pnZ2Nv6Qwx9I2DJXvcFm+kbuyWaLdXtJKqpvqOI4TZpSUlVb8NZIjAmMRjY+8E/mQGhlx939b0ERMQUIUkwxyEo1kHIbJA5kqPfAS1Si93LHZpIadJwWlBBZKlPxoz9q5Emez2yTyjcTYFVIa1+WBLJMn2Eg9bEkJIlx+5EnUjTT/gvt2kC0nKzHUyanq8fGIGmFJVYEEJ8L6eEO4Ol/7eDF2VrDquy+fJabW21qfBsX0epPw47yoMR+KfRkcdyxIpont7a8VcT18buoz6bOmtCmKpRmVood/Xdh5/zP0lKOS1WQyne0tL603xqxy25ur1pWf5LKMt7vMAJtNttvOcl7e21R2FX6XVFJJfsMD+MUnl5HcnDe1pFnoR5PQfjHbZTa6460clIbmDC8kIw/oI5q6LWy4bWN2yVMpa1NIHQy3O7FJdtFLpEUCmS0TsEFGy36coPw4gWi1CAvQkVbjJd4igpqiOGKRAbm4GbqistzHB3z5G/y/IbwZixAnz+QEhiMAjWg5IjnxqxlhrWTDI7sFPTgD0tFKCSAL8uOWtJYDklFuQGOlJJFSkgYLcdn+aG/KASlp04ux1+x5e9hbLBEgfHAK60f2CEpR/9jImKfBHVHR8V28ffgor1BYncQrPuMb4ORRXXzpnDBdWDWlYXTGqalHqvqB/s7P2vVl0hVUd5/2FdKXwjL5PCdnxMPEjxPOtS/tYJkf2htzKa4RHcNAGkTzKRKTkBsO+shF+SCzzUez3M6xKVECoyS/bQIyyUycnUhDaT/GmxRSW67QaWRGhJrApXEMt21BvLbX7C1b2itjh0pb6YUdmAIjz6Uq50FDvKBWMgMHJCHVkHm2kCzEGS+J1JbqdrX0QRcswzMkwjLZKK9xRKpjJf1F31F7eobmlJD2gDDwvwTgqao9fYt7WIgOUtI+kHw8RVWjdbgt6WQqnZMHNEl6SBEcsStNOylK2egp5aXvsRov5Ge7BFnkkpTGQ2SXFPKUc9NIWNva1JFqXypLyHsd3O7O8tbI8ZgLwQ2OX2VUfu3QM06OSsiKtroUv1UFnUqqOD91+up76lv9QI1W53VZms4D1Qs9hHv4supCKtafQu/Vvf3K+Uo/8U/wD9I9A538s/zTOKt3wh50h8V/G79JlUJXWm1G2rT2nV1qVtkZ5qTkkhKogZ40TXrY3+0HU9G2tRewBUmREQ0pH6bajZJSKkgKOYG13mVz3raXwjiG0lycumOK/Gw3STbsl5I4YN7LdvkWB/AXtqvfsZkOWz/a4XcaBEFOMwsT5XvviSySaEmJJ/gL+agGlLvN7JMIt4RsksYmDe7h9d/k/w3h1Ho8HkS0SR7rNNX7nD+4D05QBHJSU95NI+kTF8YAmUxdaA2toKVYi9fIiurUH62RnLfxQnwrs+xW7NF9zAqKTANfpoRzokt4j92JH/4M3o+vEXM6tlhoRVzR+Fg3Z6hhfIQ3POgPJnAbBZ3gD97C+Pj4MFcHvwkecCOCpUOXvK9C04Kx3r6YCrFrg6WDF4OV3CzBB6HLXu340/EVQmNDOYJNQrPjf4nLEyoQHOSuMUdtfjpKF9DKtLd+94JX1stsf5L9ksFbbdaZLPaM5MNAtDQxtpq8wCV5YKtIK8ko9W0jee89MFnsa+VDUppsd3lVTUuUQRiMueilsPvlKt5J91CPoPb+DGZ93/dLGlXTE3uEh9MdukNJkRf9eS6dp4NmF37DI6+GdMI++xFvkdM8xgRcc+fb61LT3Yy0Yt1qtqx8fFwldNQkif8F0Tj6bwjXsUdxXV7ZG/Kt5LQ/ow31VD3R1N6ww2Q815a/aBW2yn5pa2/bOlSWMqA+XkoGTiEz7VWbCEcok7yTm/ItcuPcl2mhocH6zyZ8rh09Lfg6VNS4kt7Ey3CIxPNUJx/lUZHyUBLCVRdoD3/Lr+kJZQks9TVxkjmT1AlepUtxF5WdLM2j4monC68Pe+1s1ZNVPtWZd/nHOvv1ef/3zgRVJbywP42TztdUz1eHE1Typ9K3nFs2r31h/JJQHmEvauG0L7fTRE3zDw8/EXgWEZXwz/CjPIR/4XU2j00pKYPBuG+C+2yPUFXvXXTHL3Nii8X1+lI2NnNwVWizV0bu2mmSze6VzXIFkZIVxcxdW1gqqqf8FW2zpZEVn9EXn6WGrJCFmC3bpTFum6DMlVleT4mSMBpGmZGLrdRGWac4vUVJXoQUWArg1f86oIOego4RY5J90el0eecJV6ds3IxWID1dpjX4jE5IQVD7sRAO7UAcHaet+EKX8BX6Sj+piWR2g6kuae0p00eOR+WMGRe69Zajq0eXip0YNzlYIm5L/J6QF0obyuWNinkYNzWo4t/Ev3IPu+W8Kd7J4MX4oBsfUyKmc/CDN8INmtPBpsEC3u/BG8EDbjFT2Q0z7YITg2dCXby/Qqc9FYoLXXSThP4IbfIGeLOD9dwN3nwTskftNve6CUOMTJd8eoTvnMqbwpfmRvJjqb5J3zlFwcSpk+dP1MpfIixXYBqV1Y9UGwynnFSCIniUquv85AzWRrX2HdJVeL4zTD81n6xPnODD4KDQFG9y8KFbzx31XqIy4KD71KSTNMiDBliCN4gz6yUpHni5sQ0P7PeoIFttJMbgvfdUTuKC3SGxuG/b4AX8wf3yRl4+qBjcbq7EhzAB5/4N4QfYiThqSrWoAwpgOwbJZ3koW7DUlsdi3OR0GIQr1lJ3DMEtvEJGToa3dqiUxghslTXYjcI4iYHuTvPODP+4IrpY3AO7PlQB39kBwQlyHDftLCR1x3m94k+b+aHV6MItDbBWfpSzSBYQBX2BD2O6GhlfzXdP39JNuRL9hpmSiWYE2NfFSe+voObwBF9qNZPHOdN81fVq30t9U6cKtvV90h0CyZ268YXibvnu6zLJhyWbl7B01oK5emTgiC6JBidIJKPkolQMpg1t8yYF/wwFva+8WHe5mWeXmPLmd3PRdc2c0OLgGjeZN8mt6n3yTkkZIadj4LT/ZDjMVJvCNIvf6x6hRUiEdrYQBJvdvnaRfCU+XobycgpRSGh3QSO1MRKJ+l4+SYyP6IdDGGruS0eMtnvkGbKbWXIQQdmBBCiOqv8RwriGBlBSB7PlnryXIuiBynIdi2gETuCJuWYzIiWm2DrSQzXkgqgm9W1eWPqOfqNNiJTjckaKSX20dDuGdpkXbsCtZz9TTnuDSmANduF4KHfQ9aZ4jg1KIjUJT6mnqYgxErT9g79Juc8nMM6M4pQmEzbHfJGmdED94owmFRiu36oZsVX4slro+GgI33XqOo91w/AE/qq6e0Q7dVuVDD53eqm0vk2qshrv3+0rr9O4bby/zJosr3McTZtKDwrs85GX12h7OXTczW1+Cr4NrXWXmOXeKLPc3ep+a1rbhaa9XeEh9M7z2YtuF29HMHeoqXcc07z03mFvnB0qO9Vl/1++ZzwrWdqEESb1s3fvsvJx5JUZpqf4cV72ohVy2Vt4jPyohWnohrVySJ5ajZRSCv0oDltwW8bgPb3BByTSMygX0gDyHwIMpZoIxze2KmpJaekkHbDWFkEqu55vogE1sCXxTC5aQSFbxQqy0T7cx1P6mTojmjqgKTbLZ/NOXDd5KLO9bX8yWWWfGefOtdmkqTsMabAW4zBO1tiWcILp3G9sQbPAyyt7uIIhtHc3esslgapHZfE59oY7Au0jomUqvbaxod22FL+0ud3Gkad94WoMb3czee+iq8Ulo76hdqoOjUqQIKyy/30oPxx6hRX+HfrCxzTxfUJN361/70YRX3BG6NHeBu+zKR2/IBTyfpMC3njbwWvnZTLXg8ndLV5Fk9jra+rIIu+Nbe52d8n7w0x0d3lLvBZutHfIHA+2847KQXe5111qJEgaeInnCdYHGtqBUUPihtrEUkxK0yPaQz3taUxAI7MT93CH+xNjgSopfaiRqS1l5Y09hZH4ZP+QG/DBQ2F8i53/4QDJZ9/jql1ru8hk9JIWOCmOlMVK6iUtUEFyoY6slGv2HhWSPWYdQua6bJdfaCqvQDpejCZoInOkkoSZzW5uGYJ8dhJ9FpjqdrW7N3RFPttKmC5rURrJkcWclQUo7r01UYjiqyYVtJeCZiC7LJatqMKd1QfcwBE7D6C2vJ3iQz/ZBjZl/DLclWpKIV7u2v2mlES5XbxzYvVHVYsT4rItjDxxxyS5TeIvFarrnXoz73XURxvRKOH78D2hmm4r71XwphtjdruDXevdM8u8/naGyeF9MdfdCe49ryPVNz/Y79zt7jJzz8R6g71mXpXgR28TrfRGmVDoXHBB6D198OqY722vwGnfKtU2ambccNok5eQRp0QbdLWfkBHVTRFMxzwZhUro4nriSn1xsU7mqG/QFG1FsFbmyRrEY9vf5P91wAXMQwJeq2bQZUkujF+ouiyEkYU2vSxDKe5DfWw765fSkhy/yRr1G3pTvDxHalS0a+Gj1tJYruKcUV4VO9p08aLsV2giuakd/YVM8oqu20wIem+8ksiMedJeWurGyIZMOKF6obSvoT1HW9RrGQXxgraLnA2O4TR4hOqojQfqIpKhI6ahIrUIrjRtpCWWIDnyhE/m7+i5zRHc45WQIb7Suqgdax/IZptCFtjnX+58qhkT9fHZp9iYP8xGM9YmCNbyepvLtoGJsMW9q6ahOSXFTHp7w7xxm5j83i13lPc8dN5NYn5FX6+sqcTF3fHepGCuUCnvkOkVrOvWl2Hxr0Nd8KeZbLKr5riM2YGHdpQ0lQL8C4rhKe2n5TQC6ZEI02UHjtNvaITHprOMxVzvhkyUuuaONMF0icUnpPkb/L8bsYZUBCnsDvteKshL6SWnZKP4ZZIUlDmYJGNtN+lv29u8Uop+wlw8pCdUg8rAjypIgJeUXHbIdHtWhktjuQa/TWFaSHVqKR8wjsN4NfWSP2wBzMJIWSvXcJxq4Xvfr/oIJ/WVVacoi1fb+11i3KzmB/mLm3IMveOJyIcilAejUMLxVH3ujtr2A7I7T3RXFRF+zN9EN+b96i8+6j3XA1V3qqmyckP7DKnxqz1NLm34nCuqZ2z1T6U/65iWUVdj+sYfis4Z82t889gtcSeDZeI/x6YPXozeGzUhrmRM39hOwYrRs2JfBM+Fesc/Dn0VTB83IRSKaRZ/OrQz7nUsB+e5UXEFg2vdWrH3g1Pi3VgVfBA/3yS3R+JO2yHSwTtgl0sy74PclXw2sbSU/qGbckQYRaU3Fkt2VMDvshzXcYWGIxsyUWvYfy7+/zjgMByEYYV8xiWZKy+xDK/QBpYi5RpIKmMjxmOjrJMFdpz1IwWVNP+nne9+r6psul5z33vvc056SAiQgPQmxUivUgSkI/AQCD0EBCKCSpEiPCAgRbqACNKjSAcFJHSIFFEEpIOh9xgg/Zy9933P98N7cb3P8/0D3y/f+hNmXbPWzFwzE8eFwpStaChiUYAW1IPqoh0nqj4cw6H8GFP1XK7CiTQLMbDlj2A6x0v1MqylGKqMj/g6bOxw27t+pIiycgMNtKYKhzpazVCRTDVaDUVPkcNRfFqUM6UcpZ/qGryV03GGK+EgWlGAxol69J54LCuI1RwlPhZPREORQgNxRWrRyQ+7lTvu5dGccfmp8gORKd9SFXQdfZC7qOr6kdvTzVFP9FrdWwc5cPapnvqa20aV47n6LX1LJdj13LZirnNCZaohdh2ntc73d7bfkhWcKe5JtHYMt709hh0Oy+3ojFUjouebjjwi+mEBvLSbHKrFXZHGN51VHI8xFMOv+HsMRyjay49oKaboLXwfy1EJ3v/1AJcTcQs3sRUl0BfZkFjDo0FcmkfwQiymUjSa96lGiFWf8n5uIwcID8/n2cyoKZqiLk3Tg/Vm7KBgMRn7RW2y6aX7jT1Qp2MwRmAUm6IKthqnxGLq4vzmtuTF9iSnqo6U3XkUrlmTZRzBDCItptkVnUf6bHBTb7QRpMuoSfowetExbDPHiiTRGOv5IJZSRc7AYxSndDpqRJgjZW8qNAYZ7dEdjfiOJuzC1YLvCz2BwD9u1pDc6b5pvh0eG6W5P8e6Z9zxaoEO6ChdUUvVTh9Vx9wneiTuOeXcZeqC21z9qovZZd10DOJojlCf5af4e3kXiwY0VT1SG3kNKrm1dC11QltcNSdDD+frIa31Yd7t3U1N8QCHEIJMiqd85MqLNAfd3OXcDI9Rgh/A697jkehMEyD/pwj932loHhqC+DiPxCTO4xK8m2/zCf5Gr9axaKLf06lcTU1xS+klaq/zQtfQPvc7Xsn1dXskqs/VQQ6meVQMnbzbgs4Y3/FJJHFfJHNffC2qYyX9jjD9B/boZujFreRUWoLPfD9ZE8VMkSvv0hbvXVFbDPCaRh3xb0+2UV3k8XkG1/PGemxzvzfJyjUjrX3mM7HYCjWXyBi5xBpoHPPc8WSaIZSM0TSUfuWZHOW97rttRZgfektZ2/2dnBnuntz+efsKcwqW50UX1i1oUnDRPyt/QUF7f8XcC3mN/J3zcnNXF8Ip6S9tmwVlA6Xt1gEquONf4FwOjHHqOmmB204yXRdMw52BeigfdbK5Oyeox7Ip7aKvjZeif+EdxOBF3i+qmV6kU5GOs2IUOqMy3UYoCtGU9+CyroHvcISn4wQucRLO4pU+ggy8+m8J2o4zsLmv7snzeDYfwxxoLsRD6owlfILbq3U4oqT7sQ7DOl6MNTKGCihGlBI1yRFb6CXGoJuIoT1mrPmncMwPhCHmULhcwiE4qX/HJRlDNbFJVaeuWEyPaAq+VNU5Hpd4LRqjoGClStUlzX66I1/1TJI+cYiq0yL6CVN5BsfrZUw81KxgvjQmoQgS6A63QXeyuK+oRm2s2cYtucsTJ/LFFOORuCY2BOBcVt8WLvAvc/ajK9UWt/JzWXCeO9qtqQI4gP70Pg7xcq7Bc3W27sbNKIl60zZKpRR3P7ZjBt+kf8ExF1IqNdA1IUUno6r5SBTijl3ZScAWsZOyMEZc1MtVgv+EszIvXhXn8uFhXBolqAiK4AEdRV0k88f4CrcwDgDjE/iRyb/zChTSGUQiDJX/IwPoZyqF4vSUzqM2krgUDqA/78RRzkE//KbKOB21rdLsOG3oSm4fnaZv6aZ8jeN1dW5Oh2ghVcZ7VBqW722zl0nFE0NmhMTDQF0QVaEhyFJFuDyP5jU8ABf0cjpICWqzzuQSIoiawucpa/QXV01DXhRjvLXN3cZgb3PjvvxDzhFnxVbPUE8DM6Cb8Bp+W6YYf4tNRmXjhdBmjLnK+J4JcTjgzGXBbxcqe6I7/qVV8JV/ttqqP+Ms56B9w4ku/LNgWqBsYbXAKOdvf5b9mRPqjHL2ugExD59jndqt3tO1lKsmqSGUS4WUYGwRr6iB3C+7i+NWE/O+HGT0l66IpQwRJcbRANlCrLWncDZ/7WbqqRhfkKwbcCm3Ce/iLhyG5XxSaa7Oc+kAsnBfT+cFuCLGIwZFMQuX+I4+iwfI/S8J4mA1E3/oSizwC0fiY77EFTGYj3OIPsCGDlWV+bETHZig7zp37U06V31ur1KH2OYuXIW7cDzP834jYJ6rnh3ZOnbJWytL/RB3L6Smec1Md6uoxfp9vZajcFUURSzVkHE0BD18gz07jE6+UuYfMs1TXASogaiMmbyPF6hyaps8IGy6LEYik4ubNcUSepsiRTZNxUtuiWHe88ZRWQ8pepbuSut0cV3F9MgD4phbUw/Rv+S1DsQ7wbqMLqI34hfy41dMwCq08pwzesqpwUme1mZlsYg60inKF1XFRNFU7hBeWV7mCw6e45tv3RJFjVx5kRoaMfIaRZJFV9GF3qVK+E56RWM3nX3c2x/mlFBT/O9wH2xxKvNu7qVGc3Weqr08Ept0V8zFVv2Yu/Ai3MYZ3FdF0ZV3kkQLxFAkisP6n8i/vg94TxagbXBekYsyS4TK53SX0ngU9eSzaINzbpj9pvaoNCdN9xLJIo22yPJiLMG0PV+K5OBEc75n61vHiyTFhZX6NuxyRETExuDFPjdkqbXak5n524sHuXUKONDBfV9OwSekxVa6iL70UG/iUjiCzbTI6iz2iJtGhqgsfuG69Iqqqoq8DK+oKh/FE4zGeVymFCFESc9046x4V1ait2iV3qEjdB1RDruI8UruofEvDub/6K/rPOVr/JeRYNYyXtJKcYBivd9ae40ks4UYT4PkM4qmp3Kj0Va+kHdEBsUZw2RvmSXrkIf2iqlUl34wr8qLYqtZQ/4tguUdepcSnAX6nO7GC/kcPtAxnID7ebZ92z39ZHVhb+eMZxmfRtXIfUa+LGdlizZU1lhB8eigZ2Mmrqi6iMBm3Y4XooK9nR9wycdwKugL/nOYhdOvPWAWdUAcZqMbCiFwGBH6Otfk1TxcLWWh26gdPNJJtZ/yT+pddwyXNGoZ++iycYkvy4HV6kUMLvE8tlTIybAW6jiHcBZ31604Nio/fF5wyhtrit6NKCyobpfJXGh2wC1xDKBW+NnfOzBY3dWn3FG6tREti/F2T7S5zNjq1HeXqiZWknSNo9jLp/mp+EMeFCs9N41fZAeaqA/ruvDJxWKvGU3LaS69b+wRP2UnBu4FKuZO9/h+WhcAAA0tSURBVI+yw8nGCEz1fGrslVecxfY7bkU91Kxq+FW2GERhtIrqUhTKoRhflyvkGVnR09xMM5q6bdw6KkxtV2lqsLyHIniBbVwaE7kWT0AVsZK/gU8JLOP77iqVqe7mBtvdVbwqxluxJFAeiYhRfh7O67gtpuErtYan43tspFyUlVmohWqcQLVRg1ejPbJdEy4eYuV/ekBvSoRJcTiEp3QWp/EbinM+tqo7boB3uyUDGXosRWA4bH3AncwTza5YKJ7H7pbjwlrjZ39zvn27weOf/ll3a9mDEk/zL5e+c/5h0P3Kzy49P+S1vZOpX6lx0R+HeO3y2Kez7HW2V9Wmu/gXlpiLjDLiz8AEu7lK8Rv+K84jozsdIO1+oBYoaaeq3fqkM9au4fRzPgk8dE6qePVSz3IeOQ/dMnqnkUqt6S9rKm3RH1JrjOUMdOTrzlR3pf64YK9tOQ1FOeOo/Nk95fbQKbwJjfCGaRmLZIwsjfrUSWyic9QOn1MrRFmTrfnGU3OPUU7WoEuimdhAzak93VUbKQuzdbKqpVHoyz8QWFJoFZyyW/qvu2/qHsYUcYsOcSRKwusu4G3cGTn4Fbewk6ohSu/jD7GOh+E6HnEC/4Brug4vRBqlIuJ15F/3AWN5AfJpAHXDKNzFNWxBSYzBUs3qBjd2lzuKc2C543mo1czMFp1i/pJHfTP1GwWj3eP3zMLGmYn8Ke/leF2ai2rBIRRAZfOCGCo3uw/VUB3hC/HMNR8WeRAW6xmXXTRnsj3Yfu600zF2rrtZF5ETjEtURJ+kBES5X+hzfJZyYNAJUYsX8kw0UGG6UG3R97mTPG/WMnY6EUjTsfA6v7vt9C69XQTzC3WYszXpJ5zIf/Mxfla4tHCSM4GTuSFKykhfpKc0W+IInac6gcdOJTFGzKZod5n9l9PRCXE7q+l6tGqgQ7lAk97EJ9QrTbQCX6CmVnYNd4X7sKB1oJKzwR7kXijsEJirSnpWIJEXWs1kMs3HLbqCMGcwf4S13I1r80nxEyJpIX+HwfwL2qESiqIidqGZWYx2YpN8hnp4hPX/QQBm8WE8UVOUD9XEdr6AMB7K+3iPauTe4K1qhlOC65gz6AdaU3StVdEzhxbpbGqbd89/K9CRr4kOOG0NkafERBShDJwtrOmscl9kpzhL7aumSUIk+j9zpriH3aNqqA7DehrG+3UtdOCtdqF6rDd4/fwlPXUC6M+GvV03135vC+OA6E4/qlJY6b/pDtXdfBXMK7KW/W/3tE7AELqHpd4a/gliOWXIr8m02W2rKXSQaCbOoDuO8iD6SrSgI8FNg4O8IVgulokf3Z32Ffeb/LvOGbe7TBbPRBzFcnWuyv/otfyXW9+u4rzUARzCUq/BxXBG9dDl9CfiodtNtZbL9A+oErLGSpVnQxd5U8w7RjvrV7O/vO+rauX5GgXP8/qCuqAs7afzT958YbrJhevse+JPNKXqbhYn8HfwwYNynIZByKA3ceH/Xk0MxkiYlCW6ogNlYQjuq6tOBG9R7HzGpwnqC1QMTTd7yKtyJu0VYwNJznSV749SbZyR1FBuoHijicimp2wjEqf9saqv2qemcXf2yEReS2y3tHvpHfYtt7Zq7ZZ3YrloYIWbxNXEJPTAkkCC+z3/GAjX7/EW8Z3qAn92S/967Q3uRj2oWNB8ORefqhT7kfqTd4gYums+ky5dNsYZZ1HfM0tsMjqZG8W7lGnOkZ3FYlpmNKIfPSW8SdbOmFbF3MgVkfER7UOGe72eRuYMI8RYI1dxPp/mbxGCZfheb9NSP1cH7P6quHuCd+s9MhUHUEWX0sP4ptxAT2i86qW6qAwjSfQVG+RwuVq8kLnGVdlajpKrRA/ZQw4VV400RGJw3sOI8OAR/4y8PuHh7yqmoFkgnn5DCQRhGk4jByPxBIXuSlzFc3T7TwLuoAtyqTGWoTjqUjQqYxF1xU3RWO/A8KJLfd9aR4w4GkFN3co8ULWyjzmPVDHcJAlXfaSmqTrucz0CIa5Qe7i7M1ZF61LueR6GFUYZ6kE38QkWoYWK4juYIMKoBoYZteQVfIK9WIJ/xEhjAI5bz8DiU1FOLeW53jWygThhTtaLkEbFxHMaQjfgQay8hjAkhgTRbYr05BhajlPXKZ7PW6dEjtgt4owkWWDskjdE+/CM8LYh74b86D1njQn7OsjjGRBU3GdbXbxHvQ+tUPG+2Cd662jdjK/qstyetXgHO9AYDdnD62k4crGZo7iAU3USezmJt+hv+StehFnYh4W8m49roUpxJd6BFVwb4zkDK/AFMzcKbRn9LGw2Pqy8Ju6drEPX5cNF6oOCcQEPJ/MmXOQyeB9PxAYUfb0d/boMfUfeQoegi0VmydOin3gfM+hfajGFR5eVT4ImhlazTlkxgc08wV1lB7HJQ/Qm3Vr3ka9IUUvZRi4Uf7jBKkZvcfrqQzwAdfggmnr6cUU6K/K4J3+m8ziPW3gvcxgam235K5pu/iG30U5PPKrTMV95OUJc97W0XtDIoIHGVjk3KN5oIfryv3Gd3zZPGFPFzqBl3hxjMypyH6wxe5pnRDfXol9wgW/KeuJG0PDQXb7c0PthRYO/jW4WlRsWiLwV8Xbw1PBOERnBmUH5QemeBmZ5Y6SMRjJ9TUo35Qo8ChF8n4/wBga30hO5GnfSETiAn1QZ/RWX0UJncSl+i7OwU9XXdXknJ/I53suX+B2sRAOU4C+4JHu5tvurnsnfIx3N0Bhf4iIcY6ivj2ePbu55anxrf5LTqKA3V3CfqGaBgzqVIx48d6/rm4E8/IBrr1+WjbbKYnH0wzJdzC5BCR42n5YI9awLH+Hpzv1lS7uM3dw5qYarg27PnHr2ONsJFDqnnPlUld9FHjaIF/yHuYHPYqVzHCsQgpr6HI+wD3EI1xa/6jjuII/BJD835cFIE8n0jG/a+WoeqiHEqcftg1tSExpLPeWf9Mwtwwn4yTtWpNJQmkflqZ1ZTqyidAzgo+IJj8UEmh+8wNfVk+cJ8463ivpuW6fMwcENQzb7zvu2e7tYfcK+DCnru+g9YpUxbhuL5DP5tyxpeOVFOZ0u0DYqh4YI1wf4BIfwdI7mLVxAE5EjW8EL1x2vn/Cfuj8fwX7S5MXfsjiS4dUxLLkj19EjuA7/pSP5sUrl/fwrdmIX78Vc7orxqIA4NJSjuC4W8GNM5Cmqvf6S1+eMfDrx5fWX6Rn3nzzKj8q/EfCkn8jf67z3qh7exKrXEvSApyE7+KT11EqtnFKkbsxH4W94jvtack/+nac5M5zWakah1//QzgzyO6Xd++6vKkodCeS6l90r6qJbRK+x89X3znRZUtXg2k4sD3PHebeKIZxK39AQ5BrbsJo8ojqVoxR+y22qI723RLAu5Fq+HmKy6cF1MZBeiVCREXRW2rKeVV8MFKU9ud5Us6EFqiAmyc5GjvFvc4s5wMgP7hG01zM8qI+3gfXK84HV1hxtTjezDLL+NhNkY/FcpItkwxKzaBmdI02hmIo1nOgKla4rqg74DjnE3I/n4Sim4iDH4jSOcDCOoo+eqbM5QsdhNsrRTjzDcE7BcP6XLq6HMhCMOFgIwggK4oeoAocn8SsM42u8n9vRNoRjj26uvVxMj0NPbKdjOM8rgpYVOxiuKUT2p9C8sTcOP4qil/mhzn//iuA5Oh+ZxaZZOqx8sCsneIvoKHcjgoxH8hvhZSUP4wPf79Zay7DmGlvNbnqQ3q/7qTY6VLfWL3U2v3CjVX+13x2sP2e/uutMUbdVeZ2rq1EyJSBDCTdRXzUHGV1kghiMDJykSDlDtJD/8Acw5ELRjwbJOebPxj9yofxRVFLK+UeVNwPmVnOtVce4KZ96Pd4uxkwjSzwWw2QZ8UB2oD+NLWKySqckOuoWd1PUG25fvsA1xF9Yj/Wogf0YzNUwHkWoKqVhA9XlONxWb/FA/lr0wh0KF8H0HEl6MqchXU/hj3iPaIgQvslL9HpUZz8e4iT6Yw03UOF6N6/XQq/XY8W7YoxYTR9iMAa5u3U/3qNj+DK/FM2RjDDVUPfTLcQS+pieYAiOoSNmUj06jc3eA9YSo3/xa5Efup6sJvlTAQ1885qADmoh1tx4+2bxzL/u3DYyX+xWe5TF52WGKI56KlV/zB7qSc2pM+JRDJqv85e8kn6nW/Qjv8OCR+nvlc0T+Qatx3z+SPu5GJ0hi1phFH/L6XomduI3sZSuUFdzobwiGsMQfXERH3ErLrSbODFaynEyS6QY/cUimuTmqvP8tagvelCEmEGLcEaGyO/ER3gAjSpyLxVSd/WYXQ43D5iZ0tar9VNeYi6V60RN/pTrY5EurSP0bN1eN+B8FFAuJYpUMZJ87gK3sjosI8UN4ciN8jkNclLUp7qu+aboLK5SH6xCvHNSxap08SmtpVA6LPaLFvqm6qFbcjhf40PmA2Ok3OKPtx03ns9gNDKQRi0xwcoxQqRHXVa99Fnuj79RgiagOj7X67gCOuEbPsQbeZ6+z+F5GToRTQDMxv/H/2v8H6rSJSRM4tCWAAAAAElFTkSuQmCC\"width=\"250vm\" />"
      ],
      "text/plain": [
       "PyObject Bitmap[\n",
       "  pixel_format = rgb,\n",
       "  component_format = float32,\n",
       "  size = [64, 64],\n",
       "  srgb_gamma = 1,\n",
       "  struct = Struct<12>[\n",
       "    float32 R; // @0, gamma, premultiplied alpha\n",
       "    float32 G; // @4, gamma, premultiplied alpha\n",
       "    float32 B; // @8, gamma, premultiplied alpha\n",
       "  ],\n",
       "  data = [ 48 KiB of image data ]\n",
       "]"
      ]
     },
     "execution_count": 4,
     "metadata": {},
     "output_type": "execute_result"
    }
   ],
   "source": [
    "# set spp to 12 -- play with different values\n",
    "spp = 128\n",
    "\n",
    "# render the scene\n",
    "image = @pycall mi.render(scene, spp=spp)::PyObject\n",
    "# get the bitmap, which Jupyter notebook displays inline!\n",
    "bitmap = @pycall mi.Bitmap(image).convert(srgb_gamma=true)::PyObject"
   ]
  },
  {
   "cell_type": "markdown",
   "id": "94fc0eb3-d5a6-4acd-b9d0-54e60cc7131f",
   "metadata": {},
   "source": [
    "Wow! How cool is that?! You just rendered a nice scene with umm spheres in it. Yay for you! "
   ]
  },
  {
   "cell_type": "markdown",
   "id": "a7999828-d966-42d9-bc2e-a14099f33cd2",
   "metadata": {},
   "source": [
    "### Transformations of scene elements using `mitsuba`\n",
    "\n",
    "Now a critical component of computer graphics is to manipulate the scene -- including adding, deleting, changing, moving (translating) and scaling the things in a scene. Here we will learn how we can translate and scale one of the cuboids in the scene. \n",
    "\n",
    "There are multiple ways in which one can transform the scene elements. See this mitsuba3 [tutorial](https://mitsuba.readthedocs.io/en/stable/src/rendering/editing_a_scene.html) for an approach we will not use in this lab.\n",
    "\n",
    "The approach we will take is to update the dictionary that contains the scene configuration -- `scene_d` using mitsuba3's [transformation library](https://mitsuba.readthedocs.io/en/stable/src/how_to_guides/transformation_toolbox.html#Transform). \n",
    "\n",
    "We will transform the sphere on the right -- `right-object`. \n",
    "\n",
    "Let's first see the entry for `right-object` in `scene_d` dictionary."
   ]
  },
  {
   "cell_type": "code",
   "execution_count": 5,
   "id": "81563dd2-7ca1-4c6d-bc89-a12a1084e78f",
   "metadata": {},
   "outputs": [
    {
     "name": "stdout",
     "output_type": "stream",
     "text": [
      "Dict{Any, Any}(\"to_world\" => PyObject [[0.5, 0, 0, 0.5],\n",
      " [0, 0.5, 0, -0.75],\n",
      " [0, 0, 0.5, -0.2],\n",
      " [0, 0, 0, 1]], \"rightobject-bsdf\" => Dict{Any, Any}(\"id\" => \"color-sphere\", \"type\" => \"ref\"), \"type\" => \"sphere\")\n"
     ]
    }
   ],
   "source": [
    "println(get(scene_d, \"right-object\", true))"
   ]
  },
  {
   "cell_type": "markdown",
   "id": "5428afd4-5eca-45de-a1c4-a8a57a626bdd",
   "metadata": {},
   "source": [
    "The PyObject which is a 4x4 quantity is a combined transformation consisting of the size of the object and where it is. \n",
    "\n",
    "Scale: `[[0.5, 0, 0], [0, 0.5, 0], [0.0, 0, 0.5]]`\n",
    "\n",
    "Translation: `[0.5, -0.75, -0.2]`\n",
    "\n",
    "Let's assign a new size and modify the z-coordinate of its location."
   ]
  },
  {
   "cell_type": "code",
   "execution_count": 6,
   "id": "3c805a57-4dfe-42eb-8563-2d45968c2a2b",
   "metadata": {},
   "outputs": [
    {
     "data": {
      "text/plain": [
       "PyObject {'to_world': [[0.25, 0, 0, 0.5],\n",
       " [0, 0.25, 0, -0.75],\n",
       " [0, 0, 0.25, 0.7],\n",
       " [0, 0, 0, 1]], 'rightobject-bsdf': {'id': 'color-sphere', 'type': 'ref'}, 'type': 'sphere'}"
      ]
     },
     "execution_count": 6,
     "metadata": {},
     "output_type": "execute_result"
    }
   ],
   "source": [
    "object = \"right-object\"\n",
    "# create a new transformation\n",
    "translation = [0.5, -0.75, 0.7]\n",
    "scale = 0.25 # we will make it a cube\n",
    "\n",
    "# now create the transformation using mi's transformation toolbox\n",
    "tranformation = @pycall mi.Transform4f.translate(translation).scale(scale)::PyObject\n",
    "object_dict = PyObject(get(scene_d, object))\n",
    "set!(object_dict, \"to_world\", tranformation)\n",
    "set!(scene_d, object, object_dict)"
   ]
  },
  {
   "cell_type": "markdown",
   "id": "68b3e13a-ec1c-46f8-94ed-98cff80ee0c1",
   "metadata": {},
   "source": [
    "Now let's reload this updated dictionary into our scene and render it."
   ]
  },
  {
   "cell_type": "code",
   "execution_count": 7,
   "id": "810826f7-188e-4dcb-8cbf-2f2f296d2f44",
   "metadata": {},
   "outputs": [
    {
     "data": {
      "text/html": [
       "<img src=\"data:image/png;base64, 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\"width=\"250vm\" />"
      ],
      "text/plain": [
       "PyObject Bitmap[\n",
       "  pixel_format = rgb,\n",
       "  component_format = float32,\n",
       "  size = [64, 64],\n",
       "  srgb_gamma = 1,\n",
       "  struct = Struct<12>[\n",
       "    float32 R; // @0, gamma, premultiplied alpha\n",
       "    float32 G; // @4, gamma, premultiplied alpha\n",
       "    float32 B; // @8, gamma, premultiplied alpha\n",
       "  ],\n",
       "  data = [ 48 KiB of image data ]\n",
       "]"
      ]
     },
     "execution_count": 7,
     "metadata": {},
     "output_type": "execute_result"
    }
   ],
   "source": [
    "# load the scene using the load_dict function\n",
    "scene = @pycall mi.load_dict(scene_d)::PyObject\n",
    "image = @pycall mi.render(scene, spp=spp)::PyObject\n",
    "# get the bitmap, which Jupyter notebook displays inline!\n",
    "bitmap = @pycall mi.Bitmap(image).convert(srgb_gamma=true)::PyObject"
   ]
  },
  {
   "cell_type": "markdown",
   "id": "e3854443-b948-4814-96b1-d9b588436052",
   "metadata": {},
   "source": [
    "Notice how the right object became smaller than it was before and came closer to the sensor."
   ]
  },
  {
   "cell_type": "code",
   "execution_count": 8,
   "id": "e5a694cf-ad55-4ffe-9597-a6ef89675700",
   "metadata": {},
   "outputs": [],
   "source": [
    "# to avoid a bug...\n",
    "scene = 1;"
   ]
  },
  {
   "cell_type": "markdown",
   "id": "d6ef6624-39d2-44f5-bf07-bf75ca67643b",
   "metadata": {},
   "source": [
    "Okay now let's do some *inverse* graphics."
   ]
  },
  {
   "cell_type": "markdown",
   "id": "170af268-4b85-4ead-9578-f91355704c2e",
   "metadata": {},
   "source": [
    "# Part 3: Inverse graphics & modeling\n",
    "\n",
    "## Inverse graphics"
   ]
  },
  {
   "cell_type": "markdown",
   "id": "1396d743-b53c-435f-826b-7b7f66fb5222",
   "metadata": {},
   "source": [
    "We start by writing a Julia struct to hold the state of the scene -- including the scene parameters (`scene_d`), the `mitsuba` scene (`scene`), and the `spp`."
   ]
  },
  {
   "cell_type": "code",
   "execution_count": 9,
   "id": "25fb0aa4-2416-4461-8e62-5c3ebe92a3cd",
   "metadata": {},
   "outputs": [],
   "source": [
    "# the with_kw macro comes from the Parameters package \n",
    "# and is a handy macro for having default values to certain entries in a Julia struct.\n",
    "@with_kw struct ModelParams\n",
    "    scene_d::PyDict\n",
    "    scene::PyObject = @pycall mi.load_dict(scene_d)::PyObject\n",
    "    spp::Int32 = 16\n",
    "end;"
   ]
  },
  {
   "cell_type": "markdown",
   "id": "ea24647d-ea7e-421a-8b49-34446c5d923f",
   "metadata": {},
   "source": [
    "As further setup, let's also include the python file (included in this folder) that contains the scene configuration we will work with."
   ]
  },
  {
   "cell_type": "code",
   "execution_count": 10,
   "id": "da03861f-aadb-43f7-bc60-3bee8ef9567b",
   "metadata": {},
   "outputs": [],
   "source": [
    "mi = pyimport(\"mitsuba\")\n",
    "mi.set_variant(\"scalar_rgb\")\n",
    "@pyinclude(\"./cbox-generic.py\")"
   ]
  },
  {
   "cell_type": "markdown",
   "id": "54a549fa-082b-4bf8-ac90-ce7a8a22a385",
   "metadata": {},
   "source": [
    "We will also define helper functions for \n",
    "\n",
    "* transformations (moving and scaling objects)\n",
    "* rendering"
   ]
  },
  {
   "cell_type": "code",
   "execution_count": 11,
   "id": "3e9ecf4e-40b8-4280-a9e0-fc0878aaf3a5",
   "metadata": {},
   "outputs": [],
   "source": [
    "function transform!(scene_d, object, scale, translation)\n",
    "    transformation = @pycall mi.Transform4f.translate(translation).scale(scale)::PyObject\n",
    "    object_dict = PyObject(get(scene_d, object))\n",
    "    set!(object_dict, \"to_world\", transformation)\n",
    "    set!(scene_d, object, object_dict)\n",
    "    return scene_d\n",
    "end\n",
    "\n",
    "function render_bitmap(modelparams)\n",
    "    image = @pycall mi.render(modelparams.scene, spp=modelparams.spp)::PyObject\n",
    "    bitmap = @pycall mi.Bitmap(image).convert(srgb_gamma=true)::PyObject\n",
    "    return bitmap\n",
    "end\n",
    "\n",
    "function render(modelparams)\n",
    "    bitmap = render_bitmap(modelparams)\n",
    "    mu = @pycall np.array(bitmap)::Array{Float32, 3}\n",
    "    return mu[:, :, 1]\n",
    "end\n",
    ";"
   ]
  },
  {
   "cell_type": "markdown",
   "id": "d072ba00-8d7b-43a0-9819-0918855d3fc1",
   "metadata": {},
   "source": [
    "### Generative model\n",
    "\n",
    "Now we will proceed with writing our generative model. \n",
    "\n",
    "The generative model will define a distribution over *images* parametrized by a scene configuration, a renderer, and the size of the objects in it. \n",
    "\n",
    "To keep things pedagogically tractable, the generative model will make a few assumptions. The generative model will assume that there are two objects in the scene -- two spheres (otherwise, the scene configuration will be the same room as above) --, the knowledge of where these spheres are, and the knowledge of the viewpoint (where the sensor is). Notice that you can relax each of these assumptions with appropriate prior distributions! \n",
    "\n",
    "The generative model will define priors over the sizes of the spheres. \n",
    "\n",
    "And the generative model will define a gaussian likelihood function (a la Erdogan & Jacobs, 2017) over images. \n",
    "\n",
    "The generative model will use a much cheaper rendering protocol by setting `spp=16` (instead of 128, which is what we will use to render the observation). This will mimick the default scenario where the internal representation can get by with much coarser processes than reality."
   ]
  },
  {
   "cell_type": "code",
   "execution_count": 12,
   "id": "91dc271c-c7cd-4fbc-b528-52beb4a5f5f8",
   "metadata": {},
   "outputs": [],
   "source": [
    "@gen function room()\n",
    "\n",
    "    # load the scene configuration, including a room with colored walls, two spheres, lights, materials, and a sensor\n",
    "    scene_d = py\"initialize_scene()\"o::PyObject\n",
    "    \n",
    "    # prior over the scale of the left sphere\n",
    "    s_left ~ uniform(0.1, 1.0)\n",
    "    # we assume we know a priori where this sphere will appear in the scene\n",
    "    t_left = [-0.3, -0.5, 0.2]\n",
    "    # transform the object in the scene according to this scale and translation parameters\n",
    "    transform!(scene_d, \"left-object\", s_left, t_left)\n",
    "    \n",
    "    # prior over the scale of the right sphere\n",
    "    s_right ~ uniform(0.1, 1.0)\n",
    "    # we assume we know a priori where this sphere will appear in the scene\n",
    "    t_right = [0.5, -0.75, -0.2] \n",
    "    # transform the object in the scene according to this scale and translation parameters\n",
    "    transform!(scene_d, \"right-object\", s_right, t_right)\n",
    "\n",
    "    # load the resulting scene into our struct\n",
    "    # Notice that we are using a much cheaper spp for inference\n",
    "    modelparams = ModelParams(scene_d=scene_d, spp=16)\n",
    "\n",
    "    # render into an array\n",
    "    mu = render(modelparams)\n",
    "\n",
    "    # define the likelihood as a gaussian with diagonal covariance\n",
    "    pred ~ broadcasted_normal(mu, 1.0)\n",
    "\n",
    "end\n",
    ";"
   ]
  },
  {
   "cell_type": "markdown",
   "id": "baebaec1-8ddf-480f-af95-2d45a1e11362",
   "metadata": {},
   "source": [
    "We define a helper function `view_image` to render and visualize scenes using mitsuba3"
   ]
  },
  {
   "cell_type": "code",
   "execution_count": 16,
   "id": "9a5edcba-2b4d-4955-8332-48dfc1b25c9e",
   "metadata": {},
   "outputs": [],
   "source": [
    "function view_image(t)\n",
    "    scene_d = py\"initialize_scene()\"o::PyObject\n",
    "    t_left = [-0.3, -0.5, 0.2]\n",
    "    transform!(scene_d, \"left-object\", t[:s_left], t_left)\n",
    "    \n",
    "    t_right = [0.5, -0.75, -0.2] \n",
    "    transform!(scene_d, \"right-object\", t[:s_right], t_right)\n",
    "    #scene = mi.load_dict(scene_d)\n",
    "    scene_to_render = ModelParams(scene_d=scene_d)\n",
    "    bitmap = render_bitmap(scene_to_render)\n",
    "end\n",
    ";"
   ]
  },
  {
   "cell_type": "markdown",
   "id": "dbc5cf49-d89c-438d-8695-192cee8195f1",
   "metadata": {},
   "source": [
    "Now we are ready to draw a sample from this generative model and visualize"
   ]
  },
  {
   "cell_type": "code",
   "execution_count": 17,
   "id": "7fe20834-7aee-40a8-bb01-9f03164cce56",
   "metadata": {
    "scrolled": true
   },
   "outputs": [
    {
     "data": {
      "text/plain": [
       "│\n",
       "├── :s_left : 0.2239003819967158\n",
       "│\n",
       "├── :pred : [-0.0012243585705073495 0.0617215235064343 0.6337135563185182 0.7782856818848642 -0.1860787971448729 0.9093601591814113 0.22695353728625675 -1.1492023446963915 0.5140981276659822 0.4373479765541989 2.249518447260207 -0.872774272865206 1.1430176598497201 0.4751602897721483 1.1533975209811216 1.1572841226074466 0.09195964827753585 -0.3165989168436988 -2.212971614567023 1.5022085493517705 0.19642076706445713 0.5811440729900099 -1.0084576439471804 0.4983099279868927 0.043835795128992376 0.5252148496975027 0.2788522236441468 0.33486132855939776 0.284008771524523 -2.3596762687377995 0.2537355794871457 -0.49763499492461544 -0.002174858788177132 -0.0811571740556157 -1.0499534204240213 0.3362295495338174 0.42191991242887544 0.644952172779824 0.2669268109970642 -1.1856023217191773 1.3934085339111875 0.6987459958480151 1.7444328756902807 0.697634339922617 0.8481336634899145 -0.18358128027556467 -0.172920311000652 0.04649218904112804 1.244683956930291 0.6046265702195539 0.9017595186143681 -0.10874115773326466 0.3378714878457027 0.29065185852045194 -0.005357396622902984 -1.8137018815978416 -1.4020503107946611 -0.9655911540228914 0.8214133519003148 0.60581246242062 -0.4144925716077444 0.4738600292141709 0.10649884914263595 -0.2725469684419059; 1.4116573183436414 0.027045468951562252 1.9205879812930506 -0.4680990450435184 2.470841046247558 -0.3825492665573764 0.03198549029812764 -0.8775185047496842 -1.3736101669250813 0.4641726574106554 0.6101659546333651 0.8587542415997744 2.3128119431869587 1.0226162098815679 0.6934702055872909 -0.8650717176467186 -0.30726014887088315 -0.5643935983264399 -0.6450835610861521 1.7102011597425404 -0.6879207472733927 -2.3697596035851483 -0.41479677744756055 0.17539922325057047 0.017547936613570056 -1.0649254201578229 -0.04338429780647089 -1.387829133208307 -0.22451744570143486 -0.52223883266941 -0.7923584831594863 0.7935674131809834 2.3042674160847043 -0.24229306200271827 0.23985573203844682 -1.440242027042955 0.5151243098609979 0.9210034269119376 -1.3540955991740486 -0.46987111683340466 1.3501616702477128 -0.5302108092263474 -0.18961902519841642 2.269065243529342 1.0446382652097514 0.008242126139887406 0.8340683175817116 -0.4248471313814025 0.28387008499180294 1.4207355179228718 0.8390941310076 0.010531844290373307 -0.6211339412004606 1.3340033225020242 2.304117269411098 -0.5766372509318516 1.988748764047237 0.8598982150226275 -0.6386724322585723 -0.23196428988043266 -2.012763952502809 0.34345159030087463 0.9081004094859981 1.2720150460561688; 0.04407952522023726 -2.0708075777749997 -0.7470220971523969 0.9809948880598387 -0.0004800335641873543 0.4339645503778579 -0.6244076146230667 2.2923472803705502 1.9052462478153025 1.3626291183668549 -0.7273704652442111 0.004213734645636458 0.3541005310184493 -0.9578978712875401 0.7236029208861494 -0.5973479796079718 0.6498298613708664 0.2558031114833004 -0.9530298373578396 -2.033068919944915 1.4962388564870737 1.4751728222811402 1.299218702056607 -0.3947849960832147 -1.162947024514109 0.5400779555133728 -0.24702125114947038 1.1739854752959336 0.5508406737747644 1.6208478424301562 0.4210285863417862 0.4598346320980713 -0.3749277082255119 2.324893567877092 -0.9626539028384513 0.6107390711243559 0.8152943890999929 1.4628728912926148 0.5854326154318257 -0.01707031240073742 0.20484674173558656 -0.42991378984492834 -1.1395615859059196 0.879138590600159 -0.9104183091747 0.9616517632283679 -0.3772739657850426 0.31403453778120877 0.631799510052972 0.6698714206375826 -0.1375932844457834 0.16161451281641157 -2.082644956467199 0.367620169929029 1.1685833832435166 1.54887746933298 0.946196963268082 0.6737476387683339 0.6645370704943274 -1.0979283533316992 -0.8179423764250116 0.12139818480374341 1.2508051613477722 2.7770233995757225; -0.10030884841297226 0.7635130851856178 -0.28356069205174106 -0.43217071338789315 1.1068906641255751 -0.7735971371252819 0.8234868635013073 0.5002297769733379 0.8298817762005806 -0.45399626749092425 -0.5032879756043317 -0.4740098380340999 -0.9146912392143902 0.05644228270662899 -1.229737855451226 1.6779041245462627 0.7915968881078487 0.2564433787699303 1.288889770549799 0.5967504710340774 -1.6898409354261539 -0.6409690833761397 1.1939200389290294 -0.7052101748639679 -0.5320117023914221 1.1824220875572524 -0.9744589179271455 1.2240272878171194 0.7372923965401439 -0.011284664418276968 1.3657664703426644 0.24501189201197326 0.023205866439134415 -0.2945194618270024 0.9770815353006534 0.5121492921718183 -1.1186412462595285 -0.771393108303505 0.9636951206473329 0.0757145432097594 -0.7196744704586637 0.41734113096676695 1.5936078810981045 1.2226555927100025 -0.28707635442535073 1.385288136340172 1.789794049395535 0.3373991694805097 0.1218168372999546 -0.03885606125437718 -1.818641617660763 -0.3036345794561407 -0.49079641757032255 0.4608526714166062 0.23866480423840686 1.8482438605182094 0.08977019668912661 0.2127921556134343 1.1074712992801987 -1.0526385568879237 1.1305225875432319 0.5279217864677468 1.127269465656543 -0.10401291934783297; 1.0747358527972142 -1.0434179259455216 -0.3946689439205539 -1.578035958820743 -1.0824688217996294 0.7469481491379525 -0.41604379056044516 1.1511878869320133 -1.0298179425735237 -0.6263292147172008 0.3470063100964209 0.15334432675947196 -0.627994215784275 1.0968299498993987 -0.1963785826046447 1.619343666502366 0.7529517643316872 -0.18775485917112056 1.6609055492278746 1.4319674376276657 1.621736070386194 1.2112692430053553 0.4919800261039491 0.9358531658762472 -0.5351182439357887 0.9617276611810066 0.8370544601593979 -0.14404003595448134 0.7478376083409168 0.008426653118979721 -0.24047389942571928 0.24998275828480146 0.33523442255088337 -1.8288140169158895 -1.0109039328529899 0.950746150510711 -0.5293474429775151 0.5745167497867976 1.6311359749702512 1.262943031502424 0.027075795506169398 1.4240315485984936 0.48860114761472817 -0.200361420723715 -0.7339711343512483 -1.516106485160291 2.4660798731076383 0.7506007156396338 1.24078849487079 0.5860212157821656 0.0764960010059165 1.1824920101446708 -0.7983710669091568 0.9660470912543051 0.02151825927010531 -0.06946468163555602 1.2529191426786956 0.06159781368176284 1.5027703187085666 0.037063619489916544 0.4957975761872115 0.2580911142963547 -0.7537873810369827 -0.22330268394374037; -0.2712567510241066 -0.3354952287495168 -0.14904603446523607 -0.5844302889910425 0.31384100140051296 1.3610234986451017 -0.17956908631418333 -0.7668778016447262 0.4301134131269507 -1.3800475355828894 0.6909361679260633 0.401518779317553 0.22772070832639696 -0.49937681113085264 -0.8286575948699897 -0.25488281679239577 1.3264732344179064 -1.4906314142663946 2.9249747992155535 -1.18734908094424 -0.022838639047673748 -0.5059308660411872 0.17055164460070854 0.3804721549588821 -0.7966693004277778 1.256436626715955 -1.162466295847547 -0.25329849530743453 0.36305283128140725 0.9387068089527507 1.061427309419685 -0.2999487094469976 0.6818629376773668 1.3236594613702888 1.903311594314581 1.5166106494720084 0.9184606124528144 0.496639329082601 0.3634907834861809 -0.1656288140220149 1.2554229123858025 0.1798984857873024 -0.7280716824200104 0.5341157466172558 -0.32003808443186776 0.9891968681721587 -0.32678429409783083 -0.27207280246192245 0.6020683450027872 -0.6676558804979136 1.0505890460235725 -1.6281295480261555 1.0667056408048468 0.9272210634643854 -0.5512480284357263 0.28987644530620826 0.26810300988131264 -1.3030042597232816 1.5144535931906689 -2.208435039059501 0.5808162311466121 0.9264360625010061 0.36929185585132784 1.0615764343610061; 0.48724478597325227 0.9139499063734469 0.7381663879341687 0.9322693045631054 -0.41549554802550004 0.500059343455016 2.5017315812738072 1.5923409462239448 1.3143177388071245 2.1852825796826028 0.8373039732915015 0.43514006479676526 0.19474518953778253 1.0157723760570692 1.1207829056033984 0.11405457294712726 -0.9189075274428031 1.7010894885383099 0.7780594081718233 2.2083276576671516 0.5138381859265149 0.5023200557284018 0.9039987201585227 2.2207441781900146 1.3145303870589666 -0.8629144865484102 -0.5582294311510703 -1.7325753577568932 -0.17765561728704138 -0.7111960183550903 -0.12054089089123998 0.4150650778649849 -1.136312485585907 -0.7606342332834262 0.3454959547674298 0.882739739651509 -0.7260513653104175 2.0068219204255873 0.5285946953272334 -0.44701463933325747 -1.5909964924636948 0.3053970844837523 -0.357069511435938 -0.26307563418878654 -0.7556711079409661 1.4008392824551592 1.0728834458511194 -1.0250521537909225 1.3712692658584953 1.3908677320333251 -0.6409687351188993 -0.7418922009453952 1.517011468640931 -0.5802171809450158 -1.7197694134996402 1.023099400074591 -0.7024839250272401 1.6859558042316578 -1.5122705597535846 0.2086491316307762 0.2632310400415667 2.2473385798336705 0.06802551229223162 0.2449610994326958; 0.44042689265613716 0.42828383847229573 -1.2175337225664886 0.5542698170327546 1.0207250202994995 0.5865193658982505 1.3003590613484826 2.6597973139660316 -0.041155414133954404 -0.5277053719247095 -1.0930752719342163 1.4532565977583862 0.021566829277407995 -0.4017614851172011 1.6889772937037084 -0.5992747018907014 0.3175772277844826 -0.5580981842711668 -0.3680521770610684 -0.8414421838561079 1.1438044966031784 -0.4622487937241958 -0.5352862307284311 0.8625937416361863 2.1191650139485354 0.8920234269322874 1.8077105205280481 -0.10630743641811397 1.6743917459804838 0.7273172191613047 0.40124331237771826 0.5657394501026471 0.2472575594832379 -1.6052565394937366 1.1700256104816407 0.9197062277189463 0.3719152982000333 -0.3991333819084576 -1.0190356755240086 0.5255670917418622 0.7426398536868366 0.4475395033837324 0.3370135912432317 1.4600476321437803 -0.19411671607634662 -0.7796364784412428 -0.6468971223494249 1.4276545904417384 0.5504208408772986 0.3170739163486448 1.393953098973908 1.2871160769659764 1.3728323474699302 0.05589300005641418 0.12663009259872682 0.5527116407061651 0.2223225517400069 0.07424111389649263 0.10939153611384625 0.1306011933641532 -1.1661873507319565 1.156605646976438 1.684898820075724 0.3378106714093258; -0.10198365837985604 0.27293100932744635 -0.03244148029733396 0.5602941133810676 -0.8191640331260899 0.9756709148492879 0.13580324019550297 0.13407883768061077 1.2487338219252133 -1.7201164691899398 0.5376006024856781 1.106527541161282 0.17007712417890777 0.4327617320199943 1.958236904910844 -0.7271733167445149 1.083166182052787 -0.3902017873840855 1.5089069759244347 0.2952452809870791 1.8424850685483924 0.4347073452944269 -1.1208687924874685 0.158483101540277 1.3170990850583921 0.2389668472519337 2.2380390205537695 4.419921025469062 2.8480426667177396 2.939701476759784 2.823545493592877 1.9620950356604177 3.1886866320377596 3.8723673317664318 1.3339109038446952 2.8578834344472828 2.928919434543918 2.3981188315635267 -0.24212903008880826 0.5373451053425535 -0.5205307586830771 0.0905638487816886 1.5575818961556547 0.7466737028860226 1.2634035605345177 -0.13289183729662668 -1.1816100955874096 0.028267482210273254 1.1120484695463246 0.2032938213583989 0.6147670194336605 -0.8263202606765823 -0.9628641892230219 0.6515214168510792 -1.0804088104091714 -0.4300367716414629 -1.367653465582055 1.394572611861866 1.4671644760705034 -0.6162068360166204 0.20917106343350753 0.45529623725831936 0.1227975418307791 0.98018686933557; -1.4853314830307747 0.9986391624778466 -1.5634933197520964 1.31009467664893 0.8527606014273716 0.6729100194785783 1.1155501294939385 0.09762629977145076 0.3919396775867938 1.0088493159733514 -0.6994047754605258 1.146016184511574 0.23109694060518482 -1.2860145095655235 -0.5600524664323068 -0.9808964642675306 0.8508228196709149 1.4996576174390297 0.46851209885854295 2.12079465806448 0.7242759056723406 -1.793568262602633 0.3147907513464913 1.5888806541227043 -0.06940005395277893 0.4301891805900243 2.6925724793318677 4.007610200183952 2.633829062005714 4.3670723182560085 2.867562419083605 3.842379071780181 3.2692259176605125 3.1234159811003894 1.8589200170559108 1.9591292390046133 3.072710522782625 2.9755175102765357 -1.0762220771622755 0.43229164876529236 -0.8496335226455469 0.13526853702380381 0.33071485332864964 1.4835071000796918 0.19996956604123572 -1.0195306538699775 1.6812597096810658 0.15573644764390482 2.2480120529094965 -0.8802603617738414 2.5588136306068074 1.797203041413696 1.6871307917902134 0.3677917341063612 0.7744743578779851 -0.15641820376128024 -0.45861541342898227 1.2784600872243475 0.6272277250038896 1.008469694224273 1.1285550375660098 -0.17931760072917513 -0.25783782240079567 2.425575590861285; 0.20158596902269643 0.2628903140558479 0.3638803164619715 0.6285733007662501 -0.19821182165310458 0.9867449554441691 0.6108807931702822 -0.21582944079111727 -1.0813636824755666 1.9331220339678337 -0.021588904059628156 -0.41893985384501853 0.7520500484953743 0.759758282496037 0.3834517465841164 1.6041461466623428 -0.9316062260585014 0.15463639141547247 0.852453116159765 1.0777756351516334 -0.4787132433732595 0.8918912342920376 -0.48687085223951354 0.7264443899008663 0.23327026885081442 1.6907587111043327 -0.3990960849845686 1.539933645848237 2.310769041621686 4.36930894212125 3.5674633661413866 5.1288260049278644 3.434062364658702 2.47657031214046 3.326901938984184 4.559167969819809 4.4223120284234145 1.4394866187188626 1.912350189645692 -1.2107328177549643 -0.8281124421486894 1.2557472058347372 1.9706595135081693 -0.014784372649962962 0.8798298698159539 1.1372326322166728 0.9982238011021687 0.41560868458471056 0.8678088759515716 0.2985750428755772 2.298397228204877 0.03629962043779522 -0.6558044289106881 0.26460908758104285 1.3447351961426433 1.6395771758531419 1.1928926389935475 -0.295448325093708 1.5555391882435117 -0.7454631746252045 -0.24846182833810182 -0.7047322785135322 -0.04440159668036925 0.27569684326605937; 0.760424098850686 -0.5816532105514574 -0.9123288879324114 0.7294102725648131 -0.2900579200913218 0.9861338544569381 0.5859367045690462 0.2566376135331956 0.6921192301422284 1.5564538179902685 1.818236442848686 -0.6608883948468425 0.6171916659197302 1.2446573249060533 0.29226412557273196 1.2069126822567338 -2.7243164134830864 0.46988542436437764 -0.5050022691668271 1.1056246954792792 1.9371878038742938 -0.8904664069194714 0.17402193157795398 -0.12010468588272549 -0.31591510110635856 0.8030523386423711 -0.971847268677476 1.1106089702396793 0.738930043852521 1.371857531775885 0.17300418416943508 -0.2661933052357348 0.8846810535973417 0.9046960587185797 1.733593529195612 -0.9742750045481319 1.5943871216825538 -1.235168694042655 -1.4482160501568675 1.0683560958935097 0.5825073570940712 -0.3248990922446332 1.7208262227994076 0.7107455471921971 1.5639747684652905 -0.552344911110152 1.7736112494524636 -0.46313432476830485 -1.3924245061884213 0.7919387713051463 -1.1552744222120552 0.7608773547753658 0.2194577250492189 0.9131475426464282 -0.5417421063782364 2.1808142563639588 0.996415608294386 -0.5090289951367155 0.5427094422941614 0.9199628187954667 -0.004700378912466108 0.30889495594002003 -0.24257226106370444 -0.34595068570233706; -0.34937974824832596 -0.28445784042011807 1.0901013959576897 -1.4107803325409864 -0.34928928045731467 -0.13144731871984006 -0.5631330981580471 -2.1374886339671515 0.807878516849862 -0.8918347463536482 -0.08259280613641584 2.0157676759360985 0.8493885962930248 -0.07354364027363991 -1.2004772854570602 0.19199889742584642 -0.5422720937589479 0.3379243589623479 2.5714298345761337 2.425303077243527 -0.3014788676523297 -0.9567171214609795 0.2833460662139512 -0.20563525574445107 1.4923533044572561 -0.6803262847253637 -0.19219449665827626 1.8830627481486237 0.7217635917090619 1.751723284213089 -0.8764713922991463 -1.8054959944020585 0.8394975081392988 -1.2206468921898526 1.0736521889044432 0.3603915847590183 1.0442242940107924 -0.9856306729899178 -1.4851729418355863 -0.5241429195914901 0.126058168662106 -0.14753737288388147 0.17327113907900438 0.5159952030559524 1.6460101958858169 -0.46579701229470494 1.0962787844493578 0.698091220781322 1.1635551014702188 2.001398753370488 0.23853569545859712 1.3339909776448737 -0.9783356789053932 2.572548807938623 -0.3752099946958781 -0.4183214481798907 -0.13101829749536653 0.5366898746585363 0.17047495311294986 0.6116035877085105 -0.43376558452540215 1.515437392136911 1.433912319649868 -0.45026731507214146; -1.0738280004680902 -0.5931107471650011 1.2980653853486759 -0.2840962329175037 1.862243565218624 -0.3002793488237816 -1.0604970029680452 0.5100020794782548 1.8708369960864655 1.3699987014662265 -0.021665900509003827 -0.012450707042707593 -0.4503760320910608 -0.9486555138819746 1.136929718529799 0.005050949852103304 0.8215972876659305 1.0266036476629952 0.3754434044959768 0.6985917036201665 2.433067662441913 0.9571590747228981 1.8931430547867758 -1.019770032174411 2.2650722463017896 2.9564538990817137 -0.45237176694733605 2.206379566714068 0.8924752603219666 -0.20319218144158135 0.13749860670537 -0.6314514373714148 1.4321097570702108 1.7034822313599431 0.7756594812765358 0.4959651845573666 0.8047551700856641 -0.09533193839801235 1.1191272348982322 0.4491350288977952 0.20419425375649436 -0.8638968151469515 1.3426124542472553 1.783143453636439 -0.8101574838513712 1.077188778826673 0.4148916901029766 2.6919841319028373 -0.5337087948276492 0.4523839452161309 1.5919462545254663 -0.8803689978693723 -0.3608733952552615 0.1259590383280093 -0.04957358951711255 0.21503756462430637 0.34982806694370316 1.0302082107551045 0.1820382172570335 -0.5965812846275592 -0.08806329034284516 -1.0887065677791354 1.223643389167925 2.320534198537814; -0.5385868756290257 1.0647600588635358 0.1372633103312981 0.30200733980531064 0.2552935341642093 1.008520384270133 0.7333249352680365 -1.3726973378709608 -0.12498152982577959 0.6496187578644286 0.6268789243473918 -0.3420336687374155 0.8146475413620676 1.0694841678918325 1.1585745400548664 0.13878393131499162 -1.0701286878271672 -0.7488739178858512 1.361764952266733 -0.7841481052572961 0.7072115517985789 -0.4572144451940734 0.31518704064655806 0.8346981061368381 0.13276080705749593 0.19331823147822552 -0.07427994933855236 1.4921613868793 -0.6500261233310637 0.7992675004527725 0.6832055911916888 0.9116557509496652 -1.00401674170994 -0.1218497456372013 -0.8806314408042473 -0.7538555666606106 -0.09097061099694626 1.3296087560085472 0.49584207863336976 0.6429138596658001 2.603808227960022 0.06633346152778347 -0.32230682567121693 -0.3701984868438003 1.0429145293790496 -1.0633971711527836 1.4500278158372453 -1.530808457245732 1.4092437092956627 0.6475800182044713 0.04179442482401971 1.0657598488263869 -0.40631524879697767 -1.8135002910226503 0.3630072896608443 0.9484091921691706 -0.27333876067524643 1.0114553696255095 0.034641403589246444 -0.8235582508635402 0.22396896715695075 1.0201765491998314 0.8538348625421073 -0.6031337164220247; 1.590899207767523 0.48064230402380326 0.26015333418734354 -0.45558367453574644 -0.847199376737267 -0.9337694940207337 0.02781619897433829 0.7111917859381799 1.694728748288805 1.688857169265847 1.0263220400265824 -0.20815128587788334 0.7077857735084101 0.289914939604508 0.35418410527667854 0.8645023481463738 0.46106768826550976 1.0028645565013496 0.9819837933169826 -0.2028793359084442 -0.4323424748560577 -0.43353659940410605 1.9925593204200505 -0.8463861456702972 1.8847207777264137 2.0091243489069397 3.429418275340029 0.2801950233374808 1.3603993826122536 -1.2319924321062232 1.750570676597643 -0.32403034283439547 -0.9636596519822813 -0.42773307391619975 2.126422097847958 0.9441975693250484 0.31121814634044653 0.6162162620259679 -0.03161292871519478 -0.14194892184747443 0.37662148524615807 -0.10110625973653242 2.408355418233303 0.46299470428786604 1.4331226889495008 2.514599066721819 1.0541697076191188 2.1213393742629525 0.22061938793605584 0.6987939159095602 -0.20158319453801732 -0.8673865085971313 -0.6040815290202244 1.9540714649756024 0.7928778238324967 0.39964513402731683 0.4012288585812161 0.921505391930727 1.7884219810641597 0.0801647156416847 1.1148743352505948 -0.8770163005071421 -0.3789239679797858 -1.12779306835476; -0.20202832292573933 -0.8504864266546489 0.2420484078186778 0.7413066070293822 1.1493618096540672 -0.906710358986897 0.11180270795837424 -0.08692621834654646 1.3659222028910312 1.1149497260820493 1.6379686679821759 -1.4115941639373986 -0.05055096852360927 1.791197282232486 0.6524919597829075 -0.6108333502270561 -0.5555827341157548 -0.05100973081767318 1.206650549811958 2.28958395034974 1.0976558056002652 -0.2687588447836341 1.2501913306457806 0.42792357196392755 0.5851565383230712 2.3173915559488996 -1.3112541664253565 1.1722530290265847 0.17967455510745534 -0.7817291425674378 1.4444512531328209 1.1557981018168777 2.3855161286046966 0.8441502308648172 -0.05467067922880142 0.16546776573988864 1.180976544463261 -1.867519637230576 0.3526657303600379 0.3014216453773611 0.7682024594888532 0.08749540136412404 0.362505523469726 -1.3038782585922477 0.8650369060689579 -0.6359932904625238 0.9336630745953255 1.5297018531498188 -0.7181836329109932 -0.4414438022629765 0.33225544223287856 -0.34158030150811836 -0.16808339290344587 0.223137920213213 -1.0825005510885295 0.9158520620421378 0.5481844072191164 0.03027279882650291 -0.11899711977380456 -1.5754204757425536 0.2726770360150505 0.4110930610634752 -1.8785826753947945 -0.0007882668480173714; 1.345844046339684 -0.6709031308925754 -0.020859029890312186 2.2774546831746396 0.25469106183366746 0.10625111400971388 0.20181305736330415 -0.7433770479711581 0.9243863184551825 -0.05417679493222649 1.034140744071576 0.4858573777328064 -1.1858741108803919 1.0340788874948665 0.7484459373245402 -0.41713082811418734 -0.34027984564509217 0.9579298715695923 -0.2269900276926542 0.8182217685216588 2.066966113430149 0.2177883503343167 0.7261611377818104 0.7343935657304835 0.40017856158751847 -0.429163672575958 1.1324233214793813 0.09043066437356334 0.661016661648682 -0.37856532565600454 -0.1988771579632289 1.0798588321126958 -0.10062295726863246 0.6872335986704727 -0.09659533192987557 -0.33873516616754573 -1.3433354246774534 -0.26634617450375164 -0.7261507721910074 0.5000025087012531 0.37452990552262455 0.5591120106655991 -0.03997627746960064 1.045538281602502 1.667728784643489 0.6039687712902377 -0.12712390990631361 -0.1768975690260156 -0.8712768533867186 -1.4077285415518195 0.1595104224815316 -0.4543163295423588 0.491373506184086 0.9193735163328121 -0.23639391489366246 -0.03181747142653668 1.0553235808854207 2.2770738707560243 1.9841788712840347 -1.5696039440976939 0.5892188187487788 0.6068274299447117 -0.7012773706445123 -0.5897035515601946; -0.5721514791634551 0.6789276441319192 -0.7847670636021356 1.1564420965958424 0.219619931239582 -0.5024684999550327 1.9307932474885274 0.7374257923445076 -0.7395337675677736 0.21042618468880925 1.0899525792238856 -0.4940072464382691 1.1656881604498133 -0.5875805726430193 1.1253190046077701 1.1301030896274948 1.4712884765736047 1.5836442434609728 0.7305086250134437 -0.23078798235223774 0.442119738298804 0.19707338090797186 -0.7681659448984497 1.0925977274131928 1.5916353403452987 -1.508605218399405 0.05452904043035833 -0.8267458541467807 1.8414309325878977 -0.4426387431480361 -0.8971182139814755 -1.0625372918264355 0.4025174647730659 0.9926019548776377 -0.10447978514741463 -0.36453530988535876 -0.3274303688578424 1.1889756734277466 1.5091388942191992 -1.4192639573185828 -1.2358883453621219 0.1526609882434219 1.5311639971934363 1.8871505799927346 1.0466389032476504 0.8629396300935002 -0.21869395441799122 0.4502196111520945 0.5152809693318812 -1.1962533016782826 0.17621088947647157 0.986020417857621 0.8320870408331571 -1.1405525465825483 -0.4540810027875454 1.5210710774388354 0.06387468861815637 0.06302680676708439 0.2823399580216083 0.23666254555197727 0.9748264731245203 -0.12673959824060832 2.1027489313510097 0.3713970151523684; 1.1975396607892117 1.2488711803584942 -0.06637470979139543 1.2371021899319974 1.8226297705756758 -2.3511502656684877 -0.759428222532891 -0.17363778921505096 0.7568630745041371 0.011652387867699454 -0.33041658931375506 0.8288582749393232 0.4377605804546278 1.8097376266287695 1.142493983676545 0.7953916104917965 0.42017331822209525 -0.1995234271005969 0.7041636435932475 -0.3450833540513819 0.28887857408858464 -1.2936128163019547 1.078482702651821 0.8245800542312236 2.46702433155541 -0.24463784660304622 0.05418142590027708 0.015794543091649293 0.08184265527308887 1.5121087391848247 0.02571511967455109 1.2884978308468218 1.371176958459705 0.890344410335035 1.195459077697778 0.7664698435857332 0.6886828332423284 -0.32148120891630083 -0.06786551398590535 1.700754225549134 2.553889162268525 0.5969140867697096 0.4060356098649065 1.2085407885418271 0.1139187117150679 -0.05849711270320135 1.5111300889487589 1.1915490301629474 0.5533285872986229 0.9015417535078819 0.4152509877044946 -0.39932339715672627 0.882847217808417 1.2600057313324546 0.2613960000277103 1.7546279055474578 -1.569666459051247 0.4056114153103561 -0.5080372817617773 1.9212847918998819 -0.1871510093381602 -0.10406159914079338 0.035472185850005486 -0.4466238222540987; 1.9994584006540572 -0.582532955382862 0.7310760899792106 1.6830413398570028 1.1220375813146033 -0.34600469308780946 0.9617261611601443 1.8684184416031095 0.7803419478268351 -0.9412139546660045 0.6183438994947097 1.183639138527926 0.15415361394726967 1.1543831146511119 2.661614595518025 -0.11852717374935007 -0.9751704593888197 0.13542722141080527 1.2298480066883086 0.42342086817265945 0.7865533033670029 0.11890847132733634 -1.7942063671883126 0.8996276459642716 -1.1972648854246497 1.4770620073689218 -0.4689588564817373 2.1551365258899646 0.1619976078223903 0.3117169026768594 -0.041648919926366545 -0.3730786446862522 -0.1090527909228246 -1.1830489124203543 -0.02343700605233978 -0.5288395848143377 0.6378890742311111 1.0404696805687892 0.3311650717273572 0.3019614433597866 0.44987755378470284 1.763248389163062 -0.39727310941556626 1.5360021372729196 0.5165365292499676 0.16309046808729055 -0.4115985106978365 0.06627605154421873 0.7197873550114418 0.9283803426140108 0.31157935465026115 0.7378077633655253 0.650601782382301 2.359683007316662 -1.6016634140590114 0.8991346235709444 -0.038546400542587844 1.8158384061786423 0.7853146392633557 -0.03879342358815108 0.1692003285856208 -0.4656242406353509 0.6331254705600656 -0.3580860443331815; -0.414932580770623 -0.0680119508997762 0.43172521098861816 -0.32111758267934265 -0.7383957022167017 1.1793932377639098 0.14991546929621222 0.10640645190474403 2.5562909433292136 -0.21223980809594017 0.5292950203006372 0.3144364772263355 0.8061011495129291 0.5016143056619938 0.5493493335372702 -0.48029068327144964 0.7744455441056752 1.2761037402611901 1.4558032249859327 -1.1632206313252436 0.9786242925255182 -0.32646208812745214 0.5496512070629074 1.8748090751827842 -1.3318073585577659 1.724267843648083 0.03779945336187418 -0.32651455901117044 -0.43416153642942534 -1.4513000663797775 -0.2250376971463809 1.2678333587675406 -0.5950982516940959 -1.909754897040901 0.10103846237362746 0.9853718401002056 0.9303668018842985 0.3352007987721517 -0.8679517549418574 0.3475992521418085 0.6770138278204667 0.4670831174880157 -0.028929746601152218 0.2719735470836264 0.8330840249188747 0.9896117944973473 0.818789081057326 0.7337432743588421 0.8135869657845138 0.6985168765044036 0.18987904385112328 -2.0463652841247395 0.8542256772612342 1.6273977261057804 1.050712415990029 -1.0435885716769329 0.6894156825139954 -0.19835591907348815 0.6925821471699192 1.3910949377932713 1.2020963579918815 1.9081911650830463 0.6453033817611711 0.6828337175756849; -2.092866603690567 -0.401291543703969 0.35668646234773194 -1.5124389229521145 -0.619468716105481 1.3051311128355363 1.3009639644495374 -0.9801320468987955 0.016321585411582212 -0.9701111680800305 -0.6584380678527662 2.6847548479444123 0.5801865418372056 0.7905378459518145 0.9984413819598452 -0.8934865703029382 0.4003502965720985 -0.006099675597482146 1.5312266858033987 -1.0203311415274898 0.6501561428310363 1.6235489730954815 0.6560198076905759 1.611326738962208 -0.059759445645600984 -0.6172077785828216 0.9244457785908468 -1.373753247558983 0.09009733511583107 -0.5402662632916326 -0.31888188811900864 -0.7631393392943353 1.2965953834117223 0.6284013200031463 1.8893115596776913 0.5314473148134682 0.5795533275651696 1.1077208815606658 2.211427676766891 0.052325804506085594 0.519695213588709 -0.40107091343191026 -1.6881791701912627 0.1223742537611282 0.27286608497163334 1.6736536417955914 -0.9207993602808964 -0.46035654980262264 1.7696373887353232 0.6028005356774907 0.6502114179306383 -0.03461309846382987 0.650757937257413 -1.472725256912974 2.6430581784982254 -0.33617021095664057 -0.6207808871741871 0.6682156455840063 0.8465902998248467 1.7070333447653445 1.0414172399999555 0.33306512804876237 1.3537479248515667 0.8460091197307; -0.793261837331488 -0.17405724151282387 1.4949231897191901 0.2391233716432486 0.9481468952047357 -1.1657866669976147 0.18873236630170723 0.9814332166501826 -0.3412066674102926 -0.6773233497905956 0.41685103313846467 -0.6957245047653985 0.3340456921028964 -0.12512583355686324 -0.581568359854908 1.1922009873024915 -0.7509977239214383 -0.5250637144525809 0.3598457561934363 2.1006717399578267 -0.7412431154814632 1.2959331367986562 1.5278475774329934 1.103541677679833 -0.3515465282406184 0.19252475757007503 0.6229735118009382 2.0516337170308407 0.12509388860907333 0.004537146953593307 -1.262892786874322 1.4044967802372526 1.8865081535404933 1.124067328312885 1.8411299393454326 1.493350949087199 1.8179167339068554 0.05375305897553506 0.10010172603838396 0.9426999088194526 -0.7470669004379187 1.2515345696089861 -0.8933267670577196 0.11811362503333239 -0.4343137711014894 1.604041452595672 1.0290013856131353 1.0652409575788835 0.08034281620347966 2.7149001170988845 2.979134923262704 0.8011389721703086 0.3159950924807592 3.0277318622051617 2.4587371047215982 0.6441369802810979 1.2785822160426816 -0.4588077769796024 -0.5252301271738085 0.12667732097825973 -1.2111957794160655 1.2640778172579141 -0.06209653943997551 0.7281206989635579; 0.7061413939931553 1.1259742165262352 0.020023073256101198 0.3081363183749519 0.4697722790944062 -0.2418997800627018 -2.0539247010217245 0.5140479000613791 -0.8279425956634754 -0.009316016530570237 1.0318331863314014 -3.0068522502208226 -0.5810904546525828 1.242801962026407 0.3627736213729925 0.6685196756954623 1.2429515929572164 -1.5156536463504346 0.8770794495406464 1.335824321507828 0.102684404152593 0.6302743077965719 1.1937195689915074 0.6299469449053304 1.1241432502247024 0.6142021115987014 -1.0830730323854219 1.0947632041345634 -0.4082759048109861 -0.2609436335120222 1.8552866347544827 0.0011984051885468583 1.5679132605462927 0.9758592178551739 -0.2926663372107208 0.22195021865935927 -0.5416427294702133 -0.04842480667330484 0.6762877242480627 -0.07636025391821721 -0.5685356503238868 0.6556432994471981 1.1497925748917108 0.5432489309208102 -0.0465365713260133 -0.22499648842174125 -0.28466667874368135 0.2843672968922002 -1.7159090239204229 0.6425396803252122 0.7474503536181775 1.4955657949829764 0.9884087139380997 -0.14457215071995366 1.5779430329321382 0.23393390091895777 2.140060352866628 1.7178400967208824 2.2967582262172996 -0.08246534154721041 1.835070435890164 -0.8375777020017743 -0.45028145492419447 -0.611765334153327; -0.45459082789181826 1.673119135446488 -0.7628036782253846 0.04487791191138757 -1.5771872185215492 -1.4699682839262718 -1.05377537153683 -0.14197065250020108 -0.3450431091705981 0.4151229084485797 0.2789980461530277 0.7938545335103363 0.021993990573977024 0.2513401044990829 -0.2742661211787103 0.2831331098693965 0.1799600856605414 1.7232233580165779 0.5348169178784828 -0.03876648365994695 1.0640486125997581 0.9641768810408125 0.7052426524418012 0.8963993268459105 2.3328030721153636 0.06715991980022928 -0.051759103030414866 0.25371375402316626 -0.25082326986479 1.317917260518053 -0.27824336050294984 0.48042304442777806 0.24491616170816666 0.17613724515568996 1.9507548671879569 2.593710046447886 0.06521927395854465 1.8699258322563825 0.5872201121294024 1.4176648514215962 -0.5891220185871608 2.234668339413877 0.9982935416995595 1.3832847589016826 1.6388628834187422 -0.31321011887674344 -0.5543112106653756 1.603062425140058 1.3720349580329674 1.3649019545954255 0.05474272174780814 -0.14491944561823344 -0.992208594216524 -0.5700145655265378 -0.7717202025052288 0.6245170289873757 0.04865566694873713 1.04925169582657 -0.6855157950729771 1.1822480916766047 -0.9998854909030375 -0.8324449206469997 -0.5297743793428925 1.1702930475382467; 0.7089060717162186 -0.7904884516222124 0.9443817614236163 -0.9438567707274812 2.5418493686893306 -0.34544410387045676 -0.176271788006424 0.6837314059537665 0.6689835564680215 -0.593617681544289 0.41350745196277516 2.4857901001723817 0.26659268510526285 -0.004086586605681897 0.26670120476653425 2.2470837989943373 -0.7668620479168651 0.5907657840908515 -0.040289150349127056 0.3364599957046759 0.1383159112907465 -0.48177516971892964 1.3062449202083655 1.9013175009608247 0.5647942351328369 2.000237937962396 -0.8002533697627487 2.0002030905969814 1.1980476143987626 0.14899000297944803 2.0157565563903077 -1.4135744426751424 -0.18322432918429798 0.2457460072896246 0.9019352887116948 0.31722056434216045 0.8068178436092068 0.9938193132836758 0.4197095612160011 0.9560224434601613 -0.8970068194847944 -0.04840484547356472 2.430435135997848 0.20557667545819452 0.5044061497960519 0.9531368259201112 1.6542324050060757 -1.1723155206201354 -2.4954588166384135 -1.273680720806424 0.8994855578123309 1.4881467930083012 0.7790758072341212 -0.12084854946422974 2.4393011423271656 1.7246869445607744 -1.275646906149136 1.733061929368471 -0.2589493424359254 0.5259437716111698 -0.14929127651562435 2.2257628072728224 0.18104589839839125 -4.244960698878759; -0.554715730200973 -1.0537082560174242 0.13598074421072914 -0.41367469318975414 -1.4584140879227 -0.5444233846737013 -1.000509827206012 0.8419983773514378 2.3705474778762263 -0.7962631132622675 0.06975243209479537 -0.7953362732741769 1.165081474078809 1.1243562022224154 -0.790375965708429 -1.1052618975933577 2.4606389691406645 0.46096237917195354 0.32650476875223844 -0.8784151370965101 0.7289584291315797 0.6972514873854607 2.3436186509763184 0.7778412454100645 1.828578031245434 0.23720671494222878 -0.09383690812189505 -0.6732552478398839 -0.1766171589668074 0.41036861063959673 0.5803748649638666 1.3946686224971037 0.7611221696389974 1.7490483460422006 1.118728019310176 1.813816019707254 1.2710182481083672 0.3399008440087505 0.3639291795224182 0.5915603799836314 0.36798065012458514 1.4366486460330068 -0.5695772648332393 0.650024525206006 -0.1788710714273688 0.5987172028362845 0.4582042733334287 0.7198541238735003 -0.6215771558413918 0.3718935931863012 -0.05669283218590304 0.8642420219147533 0.4531290060730256 0.3811975251207851 2.390948508400927 1.0291713978380237 -0.21103829168199406 0.01639143833671297 1.1057135096090014 1.292073755783186 1.5197296928667368 1.2803473707124273 0.24794680772159636 -0.782643063435773; -2.0533364539082464 -1.4254699102916573 0.5097935144217358 2.1015212441901876 0.3171530527280081 0.3032643477235492 1.6724340134755435 0.1567325666029665 -0.3660201256271174 -0.30988341215622617 -0.17725273074841807 0.2641334167677556 1.1701878538904729 0.841659258991042 1.495750749855166 2.179762243517818 1.128003276446544 0.37432720034881817 -1.0449651876999744 0.20615765548803006 0.630552558556959 0.6129352612766624 -0.4080958072491473 -2.0729258348143804 1.7218988875090975 1.3649957491958076 1.4036794719531311 0.9435517522146482 0.13950816601872745 -1.235284644557938 2.023519581666614 -0.40419440819205077 0.7534994987160144 1.1122614365625578 2.0239799796505538 -1.598451050008118 0.739361357459835 1.7164527399805758 1.2272708452210561 0.49859640256279975 -0.9941096817551078 0.8408605933436457 1.597877723978836 -0.07026851105683996 -1.2591828519315045 0.5979026379148057 2.1973492650672446 -0.6074041201406952 1.6941576936122564 0.36771011734700154 0.9695222770515872 -0.9463779196647366 0.4621204054645023 0.6730485290773335 -0.12621964192314872 0.3359877314758514 0.860636281060452 0.20055308153348744 0.25624556926006864 1.15497944022459 0.8137045053904367 1.1562599043864046 0.20757395541295717 0.28189462676521865; -0.1329910074468748 -0.15635184476698427 1.1378402574620916 -0.6561656124367059 1.3547799942340313 -0.18805844500684188 0.07406838340653568 0.1717391338860014 -0.5393891518480177 0.610797886232813 0.4355992774535373 0.26738142747780796 0.35290998227445386 -0.4665822610487892 1.0886245162013655 0.4506205246426216 0.9383295249629304 2.061732435305241 -1.3488412474508589 0.20108826783357686 1.8707801683633107 -1.4146191200212754 -0.11482898487198989 1.1342479095063878 -0.8235831082588687 1.7778701634996061 0.9404686707137602 -0.025058984781014537 1.4249626407419238 0.010556338726231518 2.853372860673374 0.8572866987835492 0.943796706418643 2.678988802830349 -0.6917372640353494 0.05405550669963577 1.1003327739565267 -0.574163050062455 1.4848719343780026 -0.826652149150376 -0.2384538731630329 0.4446684978019467 0.5440738605402015 0.42568656052653053 -0.2135210532191627 -0.5809229639658982 0.6174099945420305 0.1378412567541778 0.3483939530708853 0.010396559341804168 0.8408084607230237 0.4147417774167862 -2.2363387385500886 -0.47709794847199316 1.6459162650916708 0.7646629582614566 0.6567375171241724 0.028464843142409102 0.6383054073593819 0.5360225160750716 1.7452190237593848 2.267928335867934 -1.452232859809219 0.4004442888892482; -0.4435756763422698 0.24723888147921483 -0.7289250553610332 2.8321638486515717 0.08736117075073283 0.21825718878504174 0.8044803756806551 -0.47581635248043486 -0.26017827298127233 1.1488138376905506 0.7729459949201416 1.0612526372015165 0.4321605081703964 -0.3545150000986452 -0.36637778521459363 0.5271813759919373 0.5295629767112243 0.43935288961578806 0.05176801462754138 1.5945411004595502 1.6400261808566536 -0.3609356659749071 -0.7928991656507063 -0.33867905102844875 1.5525833616946187 0.44272008328635093 0.5951578466324424 0.6573184388766015 -0.09305012190495165 1.001433053162839 1.1501149419922725 0.19572398649617284 1.2194772842497479 0.34727907678838016 -0.7327230065986434 1.0981184612313628 -0.3794210096158127 2.533958271947788 -0.26315174493806803 0.321574122833605 0.7086323306022047 -1.46432881871042 0.160295063558822 1.0321733805139353 1.728337758434589 -0.7035479222850467 1.4815660879396089 0.22803163330613108 0.6732021317895759 1.6790156409281733 1.5236933522903415 1.7201081318728106 -1.2540301331306438 0.2819042154331255 1.2963186217722744 -1.1970313826092813 -0.34611306502873573 0.3658352670868701 0.6387566360653023 -1.3705084822384628 0.375598450321338 -1.5441505672523756 1.25448458596851 -0.13691238054835972; 0.9175309691319136 -0.9681029323849816 1.3501799568318213 -1.4191414908921243 0.16012014916907336 0.3092203221447365 0.3069469005381411 -0.5903960160950393 -0.08236754363675619 -0.667363768784446 -1.0208684199122309 -0.3562199390286208 1.2613411416427567 -0.5613481044307299 -0.3135163899688068 -1.4625034031073403 -0.14417660513920327 0.17437607804550248 1.2911140031999269 -0.17767314532188916 0.9866188252412291 1.1680537524071748 -0.4195812358202514 -0.7290153239563235 0.7472692629611095 1.0328429514184179 0.8252406287661049 0.04667485506895852 0.19379339521946026 0.8095074113778258 -1.623821640049226 1.309709392152725 0.7308306090804426 0.3411471783342093 0.09982977978486951 0.9960298752045049 0.9216841304158521 1.4592382757906397 0.8230009368092209 -1.348475613643478 1.831939869275539 -0.8044907169342075 1.111917100255317 -0.7517323490614913 -0.7334596731863106 0.07536044222464938 0.41164917743555623 0.6352392063933923 2.966987274519436 1.2541432906176326 2.5031882443978426 0.2654382107642066 -0.3190680219253449 1.4085504901416406 -1.6122928336122548 1.568013701166727 0.49398912550051244 1.1550520999485767 0.4433026590720581 0.8051865420313941 1.5862098203557 0.3075593999234526 -0.27101819612409594 -0.7157912543173143; 0.3480463261938523 -2.095789045815501 -1.1024506050525003 -0.713911472428512 1.6287263897664688 -0.3927516727858672 -1.0712226474080964 -0.05083863474751399 -0.20839695720887103 -0.7274840540910087 1.3354151400615157 -0.08717179962132027 0.7137042312610827 0.6403841898030052 0.8024245787512556 1.2210381718110033 1.780870576323594 2.118586966981987 -0.881333346933936 1.613805519455817 0.8818965926361109 0.15767817941465223 0.6994966613698184 -0.6570752050745481 1.1203674910587185 -0.6314369218357889 1.4978422872430026 0.017739290552517883 0.4377810180747661 0.8639899666300561 -0.5482900280968581 0.49462890995912717 0.10759568446877776 0.004409819088640354 0.09371221432051885 1.3731820469135811 0.845160035207974 1.1817429362953407 1.1145789947510107 1.6295948702590841 -1.88037560631938 1.5236390770456758 0.015399642416243475 1.91337324340859 0.12107931165261654 2.129188121118476 1.3378471066004454 0.6454709690851101 0.7467300594664497 -0.48675961786717115 -0.5868315292079771 0.9495924279842429 2.7254537566680908 -0.5527818316138291 1.2287752056281045 1.4320516786014998 0.34350245124433154 -1.0582357039730428 2.121906090256255 0.3180874423605621 2.0212323840237434 -1.2374322974053926 -1.6699830392263648 1.047326894951537; 0.5408246991268458 -0.6231187698124809 -0.8842676018193694 -1.9968986073135113 0.13564049293734823 -1.8161075661423989 0.347540124846299 0.6346221897831057 -1.7111397898561131 2.566628399553573 1.3684487514753074 -0.9384251380717346 -0.22416431111956947 1.1421180210175605 -0.7978492091968685 1.2813132420343876 1.8776941805386413 1.62827304051372 0.562199833176222 -0.04435871180935724 0.6940703398849579 -2.232976016275115 1.1317413623969634 0.5318591051849028 1.081021147165844 -0.8133614400049096 1.7251302967027653 -0.6611998383537414 -0.9727406845808926 -0.4652090414183314 0.7731747579502016 2.466981364159982 0.2887614609986096 1.5646190153790305 0.4978855663462169 1.0909688132364777 1.9190636722137926 -0.7588109717258467 1.1088856861699747 -0.957819300000101 -0.18406336275888513 1.702111269183417 -1.0285384965834645 -0.6591709309835949 1.3774707003458877 0.7016076442441532 2.6703820197849537 0.5384903258898307 0.8290801575542031 -1.7851005778410105 2.0113412675950104 0.0372814420301546 0.12612821003292363 0.03428778160812962 1.7573409858410622 0.20165157618758534 -0.7550309232172665 0.08380279384001665 -0.3557651925699924 -1.1723002629877555 0.3390566880945695 0.11318918636793684 0.17711923232845278 0.9817542882745595; 0.32831391743233024 -1.1795727998773122 -0.21686965368854455 -0.28566247108856135 -0.8983257662173973 0.3512599736088384 0.25326873765750213 -0.556463518412764 0.3360284030726076 0.6778431270322013 -0.6225418373291921 0.32733678467491867 -0.01772603925879812 1.1044473397412427 -0.7975536207752658 -1.3202649524341268 1.288483676535463 0.7035763876290602 0.12968871030568685 0.24678883099933924 1.1706900169233245 0.10853917810896535 -0.20883224453208105 1.531617291147246 1.192867496700968 0.9224142959156971 0.9680062562074345 0.03057915527965649 -0.4536287308398552 -0.6058883063075056 2.0861712990526184 1.4752921369040957 -0.14756873488557765 1.0283167746299424 0.2529414452870623 0.9954861964293508 2.3627518007111927 0.3961870792962177 1.5560693848458258 0.740505758800629 -0.19651523581867458 -0.22191094797745714 0.17041446699143936 0.6268911257124985 1.3515706255909834 2.706269284492953 1.9295680055876965 0.4563720785414879 0.2131752360470956 0.8249445635535435 0.7228440976797624 0.6377304973908714 0.9955831039455575 -1.5099277536507545 1.6880323775101402 0.48449205699897674 -0.08071762521241155 -2.334419853153452 1.240580095597511 2.4973466040571126 -0.6297075352277206 0.04454601491550719 1.1787755296773896 -0.7230305013667864; -0.4493263031502449 0.09558008731954587 -0.5498146813915115 -1.2986169062585342 0.20931496333815103 -0.5128746268918346 -0.6823501098856258 1.6112794967710564 -0.4058614547126791 -1.2684564571444563 0.47434259018220065 0.9138452671576418 0.5757056095107429 0.8269855368148575 1.238703403285355 -0.07894308396981686 1.0948311877191255 0.41711881128273487 0.1514120120474831 1.463955489721345 0.29732014543111857 -1.2924676979108964 -1.5009989673231434 0.689240777294583 0.8245389077928026 -0.9383375293945551 1.5033606591292283 3.4599577993816473 -2.323817556352958 1.2802194330697483 0.5724027951840501 1.4153932673294456 -1.7358735659488764 0.5630375564311885 -0.4699296504538657 0.2764339115387445 0.24383469718424317 0.2607315544669402 1.033374349982071 2.4960536129889688 0.811479015155547 1.061933564875638 -0.31689693440300615 -1.2533547039349697 1.7852006460391705 -0.36213479805892945 2.05495789202613 -0.22412580745733812 0.45829105278168947 1.174875484880824 1.0604786761756975 1.0721348018503694 1.3834947649590332 -0.3924167531121415 0.9857402242312805 0.15527661449295788 -1.242811103715676 -1.0743368181427497 -1.4141991281153434 -0.8252755962373242 0.8686295814137799 1.6150915150338168 0.6747854928257393 1.0891671097406868; 1.3030338080693458 0.1660998748537562 -0.2887041759368773 0.7642616489094868 0.20356242411498934 -0.535037756190913 -0.2151446477123301 1.9461483275098743 1.5702866135134326 1.8426341016277115 -0.3203489257834028 -0.2875073692571114 0.2688061511981867 -0.2938715923731 2.449799934082037 -0.1725745118250256 0.31491123136705457 0.09048764275474541 1.4635744053195414 0.48419192160922775 1.8072135677005308 2.475003455232774 -0.7366791087278348 -0.070766383664013 -0.683955869556357 1.4408883851824428 1.123287381576115 1.6502346462226936 2.01305707004563 0.31942594471656716 0.8715761678234966 -1.185456541253574 0.40362152875549684 -0.3881649304004733 1.307518981415352 0.1464992469253485 1.4947466837157606 0.49225924273234956 0.8656780336843165 1.6729983408158582 0.24843531622591997 -0.078784194749837 0.2652988267100556 1.8614722498278131 1.1611132538286504 1.8192648513308667 0.7980292647501479 0.4443335833976515 -0.8200658354757326 0.14067530223598668 -0.5583915004569241 0.4132555852352269 0.8552364833542203 0.9158153656322481 0.6224374158680421 0.2664898813372506 -0.834480163701754 -1.3412199401723635 -1.4341455603759623 1.2228862570448398 1.3507410568021498 1.8070037418739147 -1.4033156406997165 0.6677486409224853; 0.24314004236344608 -0.05883876033726164 -1.084939805012366 -1.1875368838580007 0.9570353703104649 0.9501270782353928 0.8643831196296968 -1.9694951668770089 0.48423303507510074 0.5805538714366497 -0.2177988962692275 0.020013139735426344 -0.40802387074868907 -0.31556745211571147 1.1887066021942276 0.2097715668441042 0.3198487355735401 -0.29253398084073745 -0.4093920386783355 -0.1497940670062342 0.32306780708088223 -1.2394861111873876 1.130676264170003 0.054784720376404805 0.8468274303280421 0.7955891118857351 0.940618684733485 2.2927801441945492 -1.5012542994044118 1.4748775542965202 0.5129349739167894 -0.42013111258665004 -1.261736903601871 -0.07950778765574462 -0.22727300093242742 0.4714721732671847 1.4265797765012782 1.482203216517993 0.509276729716024 2.480379136413849 1.550647806909411 0.7509033777895349 1.2295078901716363 0.20630771939085035 0.44316918635627245 0.4689057303743184 -0.09763394686968552 -0.17166761631483696 2.059258519601375 1.6266683968467497 0.8352867580661096 -0.3107919957594504 0.908353324377705 1.1191744005215605 0.634421277928718 2.2617639352397894 -0.42089898527079905 -0.819597112642158 1.0514898745185857 1.2518341509355415 0.09932844262042007 0.32474386821315565 0.2338277127886603 0.08604100381438247; -1.0570671845569382 -0.14683345833437245 0.6234996783061798 -0.48646180593728605 1.977820473218618 -1.2215986179943186 1.638186611227555 -0.28927880804561984 -1.162365402637418 -0.003527925311349489 0.32277334282369763 1.3713952693434088 -0.32546950237385497 1.0819842353314584 -1.1678248891410523 1.0187822097181969 1.2233397031195463 0.5002672523335676 -0.3471717976007529 0.9389585868952564 -0.1348805283815302 0.04690361100898166 0.18106489522267982 1.4509537295526669 -0.7151006771082207 -0.35424523878670666 -0.5718876923889025 -0.3679038963523721 0.6217602447114551 0.5887785432013309 0.018928336471827123 -1.2873417933109745 1.687866379288248 1.6284358389494382 0.40417909533888685 1.6762626304387758 1.0975674292980833 1.3857867563538262 1.3859612805609642 0.0950242568452373 -0.029547107178241272 -0.6724031904861985 0.453264937614664 0.17389954167048327 1.5283413482125257 -0.4308717547101004 -0.050877804688503 0.7804388471232846 2.1542704072040495 0.07655830965886529 -0.16604611717241713 0.7503342626936957 -1.3858340280288144 1.7348844273646606 0.47019399916556953 1.5019766119741318 0.19931843757056952 0.5509274412930999 0.2833219522766578 0.17084135928203203 -0.15002501897388232 0.5764999430998767 0.306845549829327 0.38453167130999005; -0.6303009367038322 -0.3573727863683347 0.49669204215561036 0.34284528274969805 0.8902532146978931 0.351555202126394 0.5604072730054728 2.806678435450966 -0.6899393877233313 0.6123489883026509 0.3537351751791271 0.21121896597297635 0.3776553804441972 1.6050146661936682 1.4520591560384455 1.4007607190331475 -0.06551642954139836 0.40721649244369573 0.30721428312271076 -1.2968627692979657 0.6321884333457373 3.0454171067059725 0.35140623085301875 1.1500814986784649 -0.026460577619345726 1.783615582550699 -0.5593466864622783 -0.9739750166828545 1.2907974710520125 0.2614183868029261 1.3221172356776103 -1.068921933478443 -0.2957008085510616 0.32571525090453646 0.14914543043950984 -1.2274038415240756 2.0126416014211683 0.9264636850897658 -0.5031015941750394 -0.35287195728803433 -0.8692576338366966 0.028097072648755494 0.6161724195364227 0.9964207422140721 1.1258063998554948 1.0452867305275608 0.7467575467822447 0.44008764658973015 1.4953598252490288 0.7751330255654961 0.4081390443031814 -0.8550692915480751 1.2080113430828003 -0.6937759832003774 1.770148407458838 0.8626106995604135 1.354487361314479 0.8751214481748593 0.9624042083702887 1.892988925561698 -1.3476634400007184 0.4317441241108134 0.477798961254823 -1.0236883198540578; 0.5794433750421687 -0.5028625384673034 -0.749826541579708 0.7415063754610804 -0.5464309162971737 -0.011801055193840754 1.1651987369199484 0.24862262579924876 0.23811915154675686 -1.8304454380562718 -0.8267335799649247 0.722961357647018 -0.9643328636611597 1.5007178205190874 -0.2817770238579761 0.7243405042990051 1.6921292360496143 -1.1696172502103497 -0.9872973528975837 0.11614858815789508 2.5127552400130697 0.8095435813449567 0.309100218075865 1.8760937178364072 -0.09031389095759501 1.1808269462745309 2.504259087888427 0.5870139661464723 0.16429162601547903 0.12225914043663122 1.1164495661866478 -0.7272686204857137 0.7677544737249817 1.2318843072814847 -0.3971523245460308 -1.259443725649793 0.5130879564094614 0.23647505742694336 0.9393987687643477 0.6778718210029799 0.7796241682316503 0.09679578376352832 -0.2613236239902208 2.1009913883492466 0.8686257503343249 0.7216361785923142 0.2096647159340918 0.5180804262438138 1.9309031950691902 1.1513640300258468 1.0279001901286473 1.293487977335498 -0.9070507680707098 0.032120828370046706 -0.3876407387578775 0.5510897002932653 1.7992259558190085 1.7092416413713096 2.1705253991277704 -0.8996348073001286 1.1876130141482735 0.8744465944026358 0.25373197251553525 -0.6898920202572161; -2.165559601518029 -0.959412838245214 -1.4251331895347157 0.48512743904010586 -1.251609588945183 1.0428362111362341 0.5099230850150904 -0.9967083302808346 0.12188174130749062 1.1092438368388995 2.975571518425441 -0.9419703528239933 -0.3410770190630179 0.7915023917962801 2.83521914556284 0.6929874457084207 -0.07185028251191194 1.0532125391318878 0.7869096703366983 2.5110721522905743 2.0445836951444223 0.7822896275646958 1.6209696025774953 1.0849274481371571 -1.1693868215621543 -0.7239405782885202 0.2879709818643251 -0.16481002176706527 0.8145969405393845 0.820599317862949 1.1017448435485773 0.08943734233632056 0.41415943529755334 1.1738080562560294 0.9487188535036257 0.5323724702828412 -0.5285228087819409 1.070064269615453 -1.5147956248467263 2.255447249034694 -1.060526583995247 2.8184618198891003 0.769458680081071 -0.02233673069112707 0.8717757020006018 0.6780656950766644 -0.5419345738520134 1.5882737704533847 0.9524797135547938 1.7469307447154256 0.4328193265968345 -1.9345812945543224 1.2136144509335023 -0.6698599831396912 -1.2363356752404364 0.3349427478060608 0.37716117854502806 0.9678811930236823 -0.7239920483053981 2.326155883133599 0.829718695508507 -0.23245679178857748 -1.1644311552321773 -0.232799322642315; 0.23252633504423592 0.0215689488585211 0.02082827373184673 2.054118140251192 2.01226007325256 0.33758019766390124 1.1546191090756421 0.8663326415147352 0.7236749078963683 2.178267167069528 0.5802538791824408 -0.7230158162289836 2.1078982510856794 0.7004946654090343 -0.8938544715294401 0.5600065715380824 1.0311024636936672 0.017247810055515567 -0.38312826864596095 0.3071717218923898 0.3129964126141277 -1.89322835499781 -1.058897204432769 -1.0033061484582129 -0.2916600083752302 -1.6187086348798652 2.392884316759604 0.42794461630247316 -0.5631182510085041 1.0635272806454021 0.7222436452023938 1.3712796421658073 1.4183656624995709 -0.42814717439602945 -1.3884628656092886 2.15684996856366 0.17397048120035413 1.4059864850728856 0.6299068440821086 0.19139559394975258 1.4254072595598868 0.30122047210803277 -0.40381413541978306 1.214331413579977 0.9811177942652944 0.8741333241276166 0.695054684902017 0.8306613420944888 1.4048487198027289 0.5282385768366612 0.8764633881219461 -0.17542363800661487 0.9431650132454314 -0.308344873026573 -0.680030109489496 0.04067769674306548 -0.4639925899441085 1.1673354459414185 1.0483539638385155 -2.165049964159969 0.4937984957707134 -0.6373545931455529 1.48343266171827 -0.06108722106920513; 2.0804788391297593 -0.951304342009129 0.9888335951479271 -0.028366661501649987 0.8545131132032057 0.007122446385950526 0.287326934148444 1.169975367136424 0.22963691637436348 -0.8660266138225359 0.16662136681588535 0.08526371821865075 3.052403069561997 0.7194998587247059 0.012901661799475883 -2.6554170210079575 1.9120764663557752 -0.7882295046910197 1.3756802548159022 0.7107435616498499 -0.28694493736219945 1.0609830176864543 1.372416575994851 1.20241204392859 0.5837002574964512 0.7086376423783627 1.1577885944812936 0.4471782313126125 -1.0051431837476914 1.1050823563974055 0.06852112058870091 2.0501611740564556 1.8168441841029999 0.7399418933848775 1.559039321096158 0.762350861390166 -0.12220426878226864 -0.011554797662836735 -0.9606422959118079 0.17889846310397567 0.27424936526222654 1.9470236254002447 0.6132811441777064 -0.34156988633891905 0.3048959166204319 0.261153237206112 1.1257123845715085 0.8147358524490789 -0.42329590326450584 0.7017698272310224 -1.0343489838462951 0.5389092890252054 0.01631179555643819 -0.3881696807264773 -0.229971181529534 -0.2060935278633812 1.7597012536084193 2.6003042415056505 -0.4923471540942702 -0.6682204054203142 0.48139394642558525 -0.44363659750934903 0.32888338503011444 -0.8786048225585011; 0.28528979135737614 1.3255103558411847 -0.5027765069061665 1.0562138208263965 0.21337878146662848 0.8998193236492659 -0.03794165971780569 0.22238551147853075 -0.7942533497558689 0.40942008625395443 0.2864362057121661 0.9637174270389148 2.401738753614617 -0.9538986241635596 0.7711070454321483 0.7586436242638724 1.3425116934823285 0.215233066279757 0.3884991587989692 0.8554209398146659 1.732957311890966 -2.0263213696332705 -0.18261786073226915 -1.365303077176709 -0.7023270460508854 1.6252890229484953 0.5170682757579875 0.20345708387480604 -0.48332290885682605 -0.5484336962777433 0.7887291159798437 0.5300366181116974 0.513845500071725 -0.15814192690199558 0.6026857532607608 0.8084016003121662 -0.48907352233876067 0.612668212451803 1.4192211778773371 0.48416880504287063 -2.097415137747468 -2.4925355239597202 1.1070111145599868 2.247703049456671 1.2208055332408472 -0.1927235966045857 -0.47709952108558895 -1.7168122239551153 -0.47701060378198323 1.2076009100086145 -0.7919898429185646 0.44762760979476984 1.2474387885994536 0.34873051614715583 -0.23267243399405935 -0.695954451648457 2.067745709274487 0.982451948100852 0.6560006627536923 0.30531111588334064 -0.7352005936711254 -0.10777436775459337 -0.45058610054732456 -0.5680723044913024; -0.5124551134167435 -0.6476647938050105 0.9351222683027762 0.3755102372205088 1.0978985302899864 -0.09469933745174003 0.037078641096600085 0.14396455965617627 1.8009935784128568 0.7967968877541305 1.2560593854292812 0.0075471577637794 1.2408783783267372 -0.9066191975697473 2.2132339379041976 1.2481139365936347 0.5704850165035313 1.6040609713658696 -0.6895515541177937 -1.5305125587905601 0.4403139865558579 0.2047504803785374 -0.6402375261237844 0.7344602741297458 0.6521096145545389 -0.9557477666594993 -0.6067331918503374 0.05394510668799335 -0.19530218022921464 0.1717488586761943 0.8685958060391532 -1.4434669151284703 1.1777540595563272 -0.16174678960271804 1.3956344882664706 1.3473131894133452 0.32211636130046806 1.409884651845572 0.399359593404152 0.8972287708888487 0.9736454206648084 1.6342288998990109 0.446186982884639 -1.0566909883560622 0.4331764579533236 -0.910752508267229 1.769732271555578 0.17457502674562608 0.7515432766526176 1.1750787284038466 0.701032710643892 0.5588388039342531 1.0214282635952867 0.05693201985433824 -0.03505580771722816 -1.0042038571742637 1.7912890704701359 0.34430743141176406 0.08446091917546983 0.18732666256415645 0.6555237669836816 -3.890372235348738 0.6416124953746365 -0.5392404022115052; 0.8545598676055022 1.0828163134893711 -0.527808720242755 2.1498131965885845 -0.3497018645135561 0.8131790494862827 1.3623225856381573 1.0356891933288388 -0.590772225768859 -0.8103242182315822 -0.31624191590070094 0.6155724523624855 0.4269379299770625 0.4765659751989315 -0.840166673614603 -0.08985724901415959 1.3080514048594671 0.12431132253797539 1.0158525287771991 1.0888698580268186 -0.3680736983658668 0.7791778417133394 -0.8736457748964253 0.2420952819271458 -0.46624639283246583 -0.3981360212491649 -0.5153116378344209 0.028010194686849982 -0.6858779100618324 1.6657272989684853 0.19837215808902003 0.4414034344725092 0.5165835587622416 1.1211006040497986 0.25061002752210065 1.00842442894949 -0.3733176472681804 0.4779035286013612 0.13834970054278228 1.9362814387855003 -1.4194328667309144 -0.08666193840990472 0.45370332101963995 -0.5731792176822362 -1.1653988442440948 1.2804430862216112 1.8096661258823248 1.3519972284637989 -1.1893360585041268 0.011142144537127363 0.47626327795185064 1.5421519986940875 0.6162074171204796 -1.259959300066592 -0.41109196633947576 1.4735659237948113 0.5881358281032918 -0.6051637119171535 -0.5120973830369709 1.7608215493567068 1.114808070701809 -0.9644983398330342 -0.13929590692392205 1.6151049569208789; 0.965716330896661 1.744794079446907 -0.45827508013039286 0.5410896206003232 -0.18632751802209319 -0.371094889730622 2.183249674695893 0.9802796385760983 -1.5165286147287125 0.006289781830753072 2.4029312837121877 0.7097393881363 -2.016912523670769 -0.14170556795063943 1.922599311384745 1.626032331362627 -0.7230623447308469 -0.6451826232982605 1.981866849166411 1.603379312953206 0.8482998388053944 0.5313569156015451 0.00486883312828007 -1.0162083408159608 -0.21814666820929451 -0.2436042022847814 1.9986452743185976 -0.7097978099139012 -0.38915944982278394 0.686470083692176 0.40257368046849457 1.1932933195205686 0.603578235837133 -0.5489552233837763 0.03312217568969211 1.5182137891052292 -0.42553966764592976 1.2778758805155503 0.9948973981471879 2.111699492168599 -1.0748852332259478 0.024956723890299126 -0.3131431217421021 0.6326996799300291 1.8191216384157938 0.5613079520687456 1.9098530717755886 -2.18707602023136 0.9124776775133517 -0.02283345850768448 0.24893237673616597 0.45143102704813154 -0.26268402003974434 0.7799117894081378 1.4163900672973555 1.6480138746491477 -0.40888640332992954 0.2232289856086106 1.5155352795529455 -0.4025951317612535 0.29901195860156177 -0.6627770149303484 -1.4031478711574437 -1.263372537051684; -0.6224541022911008 0.4564091931537524 -0.5107383382677841 -1.241945935270409 1.207252364990076 2.342922796388758 -2.2916770276242513 -0.906186093760323 -0.09727545863195086 0.7869562613658757 -0.3709433179289443 -0.4734120531616266 0.4432344039518018 2.094278192823539 -0.7597093762163147 -2.0828482818761502 -0.151511459577634 -0.04579848602743619 -0.18625177740904986 -0.9893607363964627 1.0383708421651865 0.9255541078195995 1.2113069056259902 0.16676672440476153 -1.3443670926990996 1.5692200966256802 0.8505354863331687 0.7249609006057469 1.191045270769444 -0.8247531586044825 0.37094276084882827 0.0006872187212216274 1.627362069889492 2.5998050493703118 0.9217225935891791 0.2643714955738195 0.38774156228001366 -1.2351253757386342 0.4772021554384738 0.9527749410202905 0.9058568961841523 0.9568500128654915 1.8852223465748723 0.047873314792876015 -1.8138459765028307 -1.4512000013029764 0.8152587530478584 -1.3236365241201833 0.729205198267285 1.0680959735171385 1.469169804132872 0.5383082431927808 1.6676951006152034 -1.9331851379528473 1.9944526583682645 2.014649221387012 0.3753566876382924 1.1498777961042228 -1.26630563889141 0.3833391851105257 1.6579804395311581 0.3861340553737464 -1.356522379047398 1.3365823933646492; -0.1920942836046641 1.502875485221366 -0.33526110448810487 -2.1686516572902574 0.41773034426215233 -0.9769395149724436 -2.120587378044867 0.010474301041080686 -0.633806953711728 -0.742677019633796 0.14629627359393427 -0.4700237140477529 -0.17572669256421514 -0.20666710298500723 0.9951492442411446 -0.3460404977982491 -0.07921745706938477 -1.4223913115146003 0.05913218378007101 -1.436833322995722 0.6395042119217066 0.2987289616543821 2.1126126478064426 0.6423317598522423 -1.0379246737844865 0.5112900214558732 -1.269878034696825 -0.6419097857351259 0.2776118528204668 1.230397536391715 -0.8012446193615466 -0.5478170606019177 -1.6518296107888233 -0.2607021826915741 1.0946598281901285 -0.4545642045677708 0.7045783552827527 0.7228563725400341 1.3127679015895626 1.0886386429331532 -1.0973874851516954 -0.46277703414419824 0.12242792487854416 1.2215904686986598 -1.9394948779323165 0.23514557842601808 -0.9208288652258871 0.11541639417992895 -0.6292357335660244 0.23101671175635907 -0.11358555245749619 0.6763695717234193 0.3575202138381451 -0.17671405492567444 -0.2193230682735891 -0.4218009732062572 -0.48937677098697485 -1.0736161455319473 0.44717768540233627 -0.39547575942274416 -0.7092732792230649 1.309480164414501 -0.4560120690600179 0.1437904517685561; 0.09651558759803243 -1.129739328223653 -0.7457206854281399 -0.06557835757537339 2.3371361210411883 0.7932189028140464 0.26285560139179853 0.6873080346867587 1.7609091069319558 -0.4695841875663662 -0.3211417733281088 0.5941430536026989 0.38910351151058004 0.32883224621430235 -0.784295999218853 1.4838241121571571 -0.8630990306599007 -0.4445006658717904 0.25054480036846 0.8773575553972004 -0.8898471281581202 1.159409706985409 0.6821032446883029 -0.6142331007762885 2.1887748334436643 1.2035245687146723 0.6196885675299743 1.2318458361473674 2.320910963317314 -1.380312032022874 -0.4353689120330646 0.8242938391533927 1.010579944844975 0.49253633776265515 -0.5141180268978842 -1.2256114850234672 -1.186649211651869 2.1058274348538966 0.8152386468868928 -0.9830603140329996 0.4164182680560441 0.501865318948227 -1.3746415814211523 1.129382787291541 -0.00018022391407557237 0.6527614856496993 -1.0994369079751516 0.9999409509276571 -0.47095749947776455 0.4235511745848367 -1.0974642360164115 2.0607470323054757 2.019737363264717 0.2336467161452721 0.6067669868128103 1.6850990216770518 0.6299945657652449 1.5111085445586931 1.4526346672014778 1.5742209768378155 1.5632633013160542 0.4800841745702275 0.7548245656859274 1.6321538122094676; -1.8596498625553246 -1.507301069873426 0.47706338550733773 1.2957300166201964 1.065263325217121 -0.9839091713016399 2.5413813671841754 -1.943674859360276 -0.030162501513443518 -0.054230482229146726 -0.8610054082322307 -1.3792079995457316 -0.28119271068636775 0.9836470940511846 -1.1231822841049843 -0.6098674063340137 -0.9144957770724675 2.1859131744488822 0.6059376968392205 0.31634256767578905 1.112263024117163 0.7103490069149618 1.3989783839398136 1.9994462101645 0.33521157121738004 0.6666213289752853 2.4578949619952244 -0.8132005739676416 2.256280325969958 1.8883659124046126 1.3676896091754105 2.51888045065448 0.9598804450306554 1.3470667896766628 -0.4403581936978779 1.4279610520725265 0.3094342720490098 -0.1254575848816495 1.0741385676450341 -0.5197771467389962 1.9681075391236114 -1.703712525447278 0.42871769557745804 0.09074434099951117 -0.3553726465871281 1.1019314166931662 0.25198521713131355 -0.44818041607430703 0.7557359411024509 0.2793413947698236 -0.6892851304337251 0.07710078125658434 1.167665599705805 -0.751601390144926 0.49823112198102276 0.6978695127452574 0.4046946104514034 0.4979556542498211 -0.8160851971470413 1.292548613578843 2.7319533387005435 -0.6822079923379477 0.22474900177095244 -1.2012120509147262; -1.3963362230752565 -0.5270994438301352 1.0876074557143611 0.16746331052516805 0.3090566601874442 -0.46000638267254357 1.1577146508008593 -0.7629610238199577 0.9149621946742601 0.07537000046976512 0.7062845771885476 0.7101795216045508 -0.23755444526171254 0.620007188026218 -0.8712716267539613 1.0857321048713597 -0.6853914157666825 -0.9437340520449848 2.173062421230256 0.12974382355276293 -0.3021921473508108 1.2368583843610925 -0.07898674249756721 -0.4882116003430601 1.6328227980524244 -0.8429655529370033 -0.3555676846344109 0.26643424902671153 2.329767547579666 0.1970337118009387 0.8008337886301964 1.3983994025318058 1.3859814545772293 0.5835308616023632 0.34619919126750914 -0.4374202837935932 0.8822290534202506 1.7711849164042135 -0.10660103880089333 0.16526903657506417 1.2881048389858918 -0.7189654332597823 0.2421631397848976 1.9560834615904996 -0.4278578115504913 -0.20544137515034144 -0.6031757530446973 0.6604585925328756 -0.7791918490561098 1.7935383297106144 0.9363961635603997 -0.12174355356526645 -1.6848770409603282 0.8082714139693113 1.0811766127185078 0.18706274526011824 0.8490837596398473 1.6943637020553024 -0.9169763266565352 -1.4531201835704863 -0.06315767407216533 -0.2551232691865222 -0.014314322773024232 -0.15435178645145764; 1.2670303160123215 -0.032384564301909266 -1.6546712681148172 -0.3784743826966769 -0.44881521820863735 -0.17189793007151877 0.605896210139127 0.423171568450484 0.7721215520478487 -1.072142813562336 0.6121568156666588 1.4381142410080643 -0.1773038242397389 0.8272883377662023 1.9245535807351557 0.482870721326591 -1.4897040122246121 1.6031811432405172 1.542527165567095 -0.8877960346250928 1.655138765020716 -1.9556196317537666 0.7231132183239916 0.6559507921434038 -0.2195353607316891 0.09957581006332766 3.642748549397135 0.9512937547700986 0.385553005062982 0.3086263383802855 0.34453432831358444 0.7376436321446602 -2.1974847965959947 0.11086333738897514 -0.04157341826554267 0.8001748649935689 -0.8959239800613799 1.4219968576353688 0.5409181288871112 -1.6432138846188686 0.6333389400037028 -0.24130252399997865 -0.09505644526944951 2.266842165729466 0.6019965145378978 -1.2172351373983827 -0.8208031623031558 -0.7755988676210699 -0.41568699732852765 1.0167838942394818 -0.2773832650509209 -0.01670057578157541 1.1153368974306688 0.09766609050033645 -1.4526393683115606 0.9501161176002002 -1.2469404058721953 0.5855122007622505 3.0247115803109317 0.5041339317671186 1.752322772666083 0.9165973183529855 0.9322100648197 1.0165432169437347; -0.7437180297175845 1.6759764760145819 1.2728841703114584 -0.23027706664611464 0.3745003235047242 0.3269038879053221 0.4967578780708677 -0.9220068502631111 0.16264718544398846 -0.46147067547869847 2.438109512586389 0.13564981237745327 2.25212840066615 -1.2824456207704231 0.8207484361319167 0.0031800346295041138 -1.08003642489526 -0.5959779263250147 2.3316793426194944 0.3659302313222752 1.405202824042071 1.5988475762916414 0.7946548364715069 -0.8274695608637175 0.35994988060114674 0.8709497194845633 -0.5985993176532531 0.7178371054130647 0.21084191403484498 -0.45338516562003917 -1.0426855227869032 0.9664896772027782 1.2374200711870373 -1.1776206631572002 0.8148262607468909 1.9921582487872536 0.908150577281216 0.7222899474586086 1.9487129831438397 -0.9190706652422738 0.0735199531958074 -1.6989570564591363 0.5619371175971883 0.11301366167372809 0.932399866037508 0.15628025693871503 0.46957901114970413 -1.1973227014843573 1.6014629884338605 0.6760778145826988 0.17146280811831904 1.8270768338781183 0.6269818616040455 0.45202053981059936 0.7114235093001033 -0.35539101397361894 0.3615377544124505 0.10109347205535871 0.564936805764306 0.8249735973195766 1.4437027475956021 0.6475525138959377 -0.4689940274719619 -1.4803330099448513; 0.2292589906618229 -0.8918585242726229 1.4503126901265708 -0.04167107939440831 -0.008262652262507802 -0.1272948565663774 -0.6157231656254171 -0.2663405755309846 1.6543143023734561 1.505681429759401 1.280023252504912 -0.05650573873410336 -0.21379152471849694 1.7189824397662572 1.0153719566647987 1.1712962545797492 0.4496523184738409 0.5064818267617102 0.7112557333145079 0.39883645482089564 0.7762162980901168 0.8093994754534084 0.7784912419804482 0.34032328501630305 -1.2428993361798086 0.4545119141079139 0.6524537720883505 -0.4782931526531681 -0.07987321501900724 -0.32868452882363697 0.46098225278134064 -0.04414962072281425 -0.18999952275909104 0.8900052749676617 0.4362010287440049 1.3667989796538933 1.5549865167365162 0.12299634400840789 1.239976983078598 -1.418073402521557 -0.043444094311074155 -0.5182501032676349 1.3145587118850586 0.9215311210585809 0.6532476701425435 0.8824825651334374 1.1648136364723154 0.4440789345741898 0.13419327080881593 1.1977147431479507 2.041670732659232 0.09752944210709813 -0.07566910058292131 -0.9306941639171382 -0.18980138690508275 -1.754272453432339 2.634042986250092 0.35221577137506477 -0.44039332040876433 1.1119589670302243 -1.045368888208716 0.7017092619186881 0.3178470719173403 0.4428317199226601; -1.0252708280427 1.5284707780926998 1.449143598670592 -0.6575203897429913 0.553936020957171 0.8737028223991324 -1.3160701700665844 -0.9905243585456021 1.0366820856146006 -1.906891392229939 -0.03563792960921641 2.3460879453002788 2.8131759529897042 0.37018978979138956 -0.6474708027441873 0.7414942751255567 0.08963011626998801 -0.06999142802548763 0.9747334474188353 -0.6960804254007668 -0.12759382143717568 1.293105514139345 -0.14850442060198676 -0.6334649644881715 0.4388956562848314 1.7020790981913556 1.2182489029388286 -1.1556969053262478 0.3510156265178652 -0.8987488124373875 1.0796057513593387 2.1006527329261298 0.1425920868688494 0.7171277274349748 1.5356905367792966 1.3030214478896014 -1.4255931836326443 0.7869282290514448 0.7442542264974769 -0.14464470398492424 0.6349364796426094 -0.6837964267584067 -0.10784553918772022 0.7028974923448916 0.9325092817916169 -0.8336443925978425 0.4717332456638963 1.1465566575771746 1.9844906767420516 0.36720410139266435 0.3096546834762709 2.118643585400601 0.4338335039663689 0.2144652769703847 0.031031896500543943 -0.6168524012694829 0.2200478164121078 1.9061589641991825 0.7997259531811179 0.2297558684779297 0.3030779910274009 1.3207529472869908 0.10627638234166506 -0.905963343444665; 0.43639636141413896 -1.8871865509336163 -0.16892993125580574 0.47814904890557025 -0.9969585763045832 -1.8045670476215676 1.2594346905453246 0.5281754826472589 1.2156379020612427 0.6804260595863189 0.39866988940676995 -0.0298298366895674 0.1064296505886147 -1.1915675939785995 -0.8754153440773607 1.720237941525369 -0.43119153781456143 -0.5002651462776502 0.537519642703225 -2.5756601418584655 -0.19919817250035787 -1.46836307010326 1.0105239927112644 0.2543677650420515 0.0436604226466655 0.1526403398986816 0.3027031489807772 1.766699073741744 0.6412358463426766 -0.27898606932640946 1.9083878279992479 0.6141632246501051 1.257741770449419 1.4442996586705894 0.3463349503317511 0.7978879656660488 -0.4843744211825882 0.4493865490206387 -0.4351667274109464 1.0845118267438503 0.05757135894307702 0.6560541327229898 2.664626955007828 1.287766993929244 1.5983212118776988 2.3751151823457617 0.13003698948733156 -0.13043528807289395 1.8105434714012831 0.6121914291868383 -1.2265314879849423 2.359579036154168 0.21461431448602158 -0.15762656353479976 0.946896087901882 0.41675602699168407 -0.08147720744371878 1.7482133665588542 0.05526082081113326 0.466264014172485 0.8478586506085297 -0.8192379796432283 0.3913172823074483 -0.5448971854404188; 0.9538746465025284 -0.15121473125778043 1.675034684912995 -0.16325238615104615 0.5497134299283766 -0.779187132953133 1.1198888403473846 0.3512323595534049 -1.0348054167430838 1.171982893774341 -0.45056014826416746 0.8469734651809073 1.467990734088045 2.0347023358090914 -0.323538717498437 1.050864065312614 -0.2375485182320054 0.17839555405538415 -1.0701113252680312 2.2421867930188593 0.761508084324138 0.8238097724202015 -1.1693084626704506 1.781752305861858 -0.22025781247566845 -0.034155485393416396 1.649368098218355 -0.8759320822035457 2.318109868953841 2.155693050430754 0.9717572742117888 2.418886309091482 1.0319784689710763 -1.6366283813629914 0.2523492366160497 -0.05451854256276012 1.3484001684249225 0.046158884900757646 -1.9499453533208109 0.5127722068186271 -1.0923547106359572 -1.3412057683466723 -0.8322792976249294 0.7665694820555586 1.1151399825161652 0.2567260186338281 1.1539298303400194 0.043853698197752033 2.5602665546760264 0.5205260184375738 0.36194090636285325 0.2052450775323027 1.221146650979413 0.7521440819582955 0.4641289074152405 1.0602812518144744 0.4601259867518099 1.2854910611954973 -1.4094190833297426 0.39161458196575655 0.5258861307603439 1.0479255085036683 1.052179215695571 2.4205984906944393; 1.0455588195652783 0.3135192965437133 0.4735157152940498 -0.46381409605492896 0.05021071401864624 1.3921994159048339 -0.7010331017752851 0.7871200215700783 2.0534989899295075 1.446049935801733 0.7336337830024147 1.3874339181485333 0.23512978114794741 0.9036444833414661 0.14694500486176165 -1.0089584383880346 1.3416245210529096 0.9318080761819068 -0.8134529963625703 0.2834400873287209 0.18031998475430916 1.1247647417862572 -0.3080240356117311 0.7538995303448074 2.320618831761683 2.107683984352721 -0.6359151795614959 2.1372943721563677 -2.309613074939317 0.8086329159818421 -0.23510957726094306 -0.45278571619982444 0.5571784239731298 0.8454571519663957 -1.1936327798389479 0.4690419509646679 0.007225097984250417 1.9956444155304867 1.0469161498639659 -0.42037037957247947 0.11959394230193221 -1.607015041971112 1.15242630605423 0.9434659047546208 0.03224695092109375 0.35795139356549843 -0.8941623814605677 -0.22602976927566054 1.0103016983117956 0.24844822867091837 1.4474235117960546 0.9915948520928598 0.35163789192267025 0.059242379436520054 -0.2575008385649119 0.5445948345013978 1.7017443299634927 0.7981492036618937 0.7193675878438918 -0.5252156922302439 0.05021999301934771 -0.1959318229220175 -0.0336726754355874 0.5513178354031038; -1.0349829776009263 0.10675298959648127 2.8276876355593163 1.7688614695990996 0.5713883555383018 0.9167784798159947 0.9736191664607268 -0.241706046897597 -0.6054483933893264 2.9078451311098132 0.29734301170715594 2.0733874249482707 -0.31865477436655354 0.035702027879585596 0.244777473949801 -1.1468291953361955 1.9425784757009246 0.5079452992633994 0.7164307695743144 2.2485104221238683 0.896946915977819 0.19566695415803964 0.356222637325739 0.05969784291760061 0.8113832780357195 -0.47597100321854724 0.09305187422547162 2.21656395256547 1.4008915330711278 0.03329110977095495 0.0026885612991352503 -0.5553920531318108 0.842442479478953 -0.9240132438761395 0.23460073403005466 -0.2901358890841561 1.5162100401859944 0.48137027547658556 1.1464754741878695 -0.42989464965046364 -0.6431480475962847 -0.2858028491605259 2.049491579245781 1.519700366491551 0.8806651606932545 1.7125474886167278 2.027044318872343 0.7145362494224761 1.2176734101665316 0.7538904301157991 -0.9950033115500074 -0.0965180833301541 0.3535045105784871 0.2041969281504618 0.6602544557330019 -0.22495103365856828 2.769814454654266 0.024487422070259224 0.4463631850901958 0.6452823960143845 -1.7341271689126945 -0.3357989105049559 1.4335110384887046 0.7089726765821951; -0.9062938102492825 -0.2039320888954823 0.12411165637220413 0.27490314972237073 -0.34620305107935967 -0.03175087146981859 1.8408538803266465 1.7001643080077997 -0.4173133955376618 -0.2950835804810672 -0.27446664170579216 0.5077698672912316 -0.4758074114384685 0.6171627073937043 -0.5466065714278838 1.0950722259980061 -0.08352049002031009 0.7624736157466085 0.9373750727169992 1.4062526939224136 1.1327434832874959 1.8089838024842362 -0.9850894020345351 -1.27668512957674 0.4390927470428531 -0.07906676044896699 1.8269729561759642 1.0297839634427732 0.8103789810707693 -0.5489951524027586 0.8241428331503791 -0.08846591305354012 -0.5149245567627027 -0.4553886415666101 1.592901302594033 -0.5668743497672577 0.20563728646560733 -0.15678574261424694 0.48942697227703963 -0.028498721897746937 -1.75247065519962 -0.003850305500717577 -1.3597723128278982 2.42453703202537 1.7929509405309387 -0.25435863245361745 0.36088599230667506 0.07348201571919072 1.4691099908739753 0.479954713117862 1.3708385189583812 -1.176219793996608 -0.22320061757947318 0.1578149778265997 1.4958671724219255 1.2913860205742604 0.11918601349535068 -0.18339078948876286 -0.049829819218043914 2.4185959333581093 -0.2442552263004567 -0.43903625934290913 -0.8521364534705511 -1.3088888388532913; 2.0822173401030093 0.18727843659147977 -0.827038768840944 0.4515096209798703 -0.1456022103691882 2.2296949167624236 -0.7858306712201987 0.5276995120802523 -0.47229083305659647 0.7503144181780168 -0.7743647697815174 -2.210953023453425 0.445469407837034 0.4356043834007398 0.19438142140487366 0.39031395396195695 -0.9078148696014657 1.453738527299149 0.5373888920499137 -3.1312055357921365 -1.279760484674226 -0.4659269735806747 1.0778138732892837 2.3151287085899104 -0.7967199747681742 0.10934838221954615 -1.1422416432661116 0.627441366263507 1.6691460024173133 -1.2203455875157836 2.3472617861560385 1.046445782362163 0.5133107207142359 -0.6745596896790567 0.2979036933581461 -0.792280539185588 0.8601415519681955 0.4063476151353879 0.30627806507471533 -1.6302828940531326 -1.213713535581065 0.8519886000991124 0.6487399486313099 1.330512537064469 -1.2913927997742711 -1.3820348054946339 0.19251749934347584 -0.7175503124704474 1.0724253370700714 -0.43224824370956727 1.8741236248859245 -0.11919599009513723 -1.127809877787231 -0.6532345465244123 -1.2416181739677592 1.2026246388462303 0.18672561961969228 0.9254181691845291 -1.7111721400677846 0.5932917040398112 1.6940174464366056 -0.44579583636653386 -1.3810174732958718 1.3760286348340829; -1.300133601636798 -0.5581268238996862 -2.031966122405629 1.4361186912254384 0.2233652951928647 -0.6824964513774294 1.3864833478079859 0.24994782016071557 2.6833756969407347 -0.7739123968985088 -1.3350555215111886 0.7735959513949755 0.17503574038163114 0.8842489047067762 -0.8800054457404684 1.2295383509268207 0.2009476911643623 -0.7206346814255687 1.1905800951647625 -0.18057115849635802 2.216506470530258 0.7165721050943638 0.3897991369426595 1.6423412053237532 -0.5793895395717088 -1.5941824969788931 -2.7591324489865947 0.4764856909537776 0.5925582882159334 2.2136354238769322 0.35157898949261807 0.8104615323835167 -0.03287222644060277 -0.5639031105381587 -1.3377000657338172 0.9507327288310383 0.6561057014129649 -0.3839874450341715 1.8981861176234673 0.17051222026543034 0.2745108366295923 -0.08919216789495477 -0.3741263051345265 -1.0959291068916912 0.1923270229029779 -0.41806448530008633 -0.19739219716958836 -1.4102056578546114 -1.1015073870829755 -0.8617894187093109 -0.7762986429231994 -0.13555538190740463 -0.8423309475067206 -0.28472786850516296 -0.3607325896354503 0.8805648391554867 0.7061606243784648 0.25847355518426585 2.5269647567988054 -0.9882571550366944 -0.36426406071930095 0.543882558104737 -0.23902248763196082 -0.30212546867663836]\n",
       "│\n",
       "└── :s_right : 0.5118559663485941\n"
      ]
     },
     "execution_count": 17,
     "metadata": {},
     "output_type": "execute_result"
    }
   ],
   "source": [
    "# draw a random sample from the generative model\n",
    "trace = Gen.simulate(room, ())\n",
    "get_choices(trace)"
   ]
  },
  {
   "cell_type": "code",
   "execution_count": 18,
   "id": "32cc7e2a-4479-4bf3-b0c9-5959c2ec177b",
   "metadata": {
    "scrolled": true
   },
   "outputs": [
    {
     "data": {
      "text/html": [
       "<img src=\"data:image/png;base64, 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\"width=\"250vm\" />"
      ],
      "text/plain": [
       "PyObject Bitmap[\n",
       "  pixel_format = rgb,\n",
       "  component_format = float32,\n",
       "  size = [64, 64],\n",
       "  srgb_gamma = 1,\n",
       "  struct = Struct<12>[\n",
       "    float32 R; // @0, gamma, premultiplied alpha\n",
       "    float32 G; // @4, gamma, premultiplied alpha\n",
       "    float32 B; // @8, gamma, premultiplied alpha\n",
       "  ],\n",
       "  data = [ 48 KiB of image data ]\n",
       "]"
      ]
     },
     "execution_count": 18,
     "metadata": {},
     "output_type": "execute_result"
    }
   ],
   "source": [
    "view_image(trace)"
   ]
  },
  {
   "cell_type": "markdown",
   "id": "8adfef7b-2982-4e50-83f4-c681eff4ead3",
   "metadata": {
    "scrolled": true
   },
   "source": [
    "Now let's load a scene from mitsuba3's gallery and render it as our observed image"
   ]
  },
  {
   "cell_type": "code",
   "execution_count": 21,
   "id": "4dd06704-baa0-421b-b2cc-437f7b47c90d",
   "metadata": {
    "scrolled": true
   },
   "outputs": [
    {
     "data": {
      "text/html": [
       "<img src=\"data:image/png;base64, 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\"width=\"250vm\" />"
      ],
      "text/plain": [
       "PyObject Bitmap[\n",
       "  pixel_format = rgb,\n",
       "  component_format = float32,\n",
       "  size = [64, 64],\n",
       "  srgb_gamma = 1,\n",
       "  struct = Struct<12>[\n",
       "    float32 R; // @0, gamma, premultiplied alpha\n",
       "    float32 G; // @4, gamma, premultiplied alpha\n",
       "    float32 B; // @8, gamma, premultiplied alpha\n",
       "  ],\n",
       "  data = [ 48 KiB of image data ]\n",
       "]"
      ]
     },
     "execution_count": 21,
     "metadata": {},
     "output_type": "execute_result"
    }
   ],
   "source": [
    "# load the scene from an xml file (instead of a dict)\n",
    "obs_scene_config = mi.load_file(\"./scenes/cbox.xml\")\n",
    "obs_scene = ModelParams(scene_d=PyDict(), scene=obs_scene_config, spp=128)\n",
    "obs_bitmap = render_bitmap(obs_scene)\n",
    "obs_image = Gen.choicemap()\n",
    "p = @pycall np.array(obs_bitmap)::Array{Float64, 3}\n",
    "obs_image[:pred] = p[:, :, 1]\n",
    "# again, hoping to avoid that nasty bug...\n",
    "obs_scene = 1\n",
    "# to view the image on your notebook\n",
    "obs_bitmap"
   ]
  },
  {
   "cell_type": "markdown",
   "id": "d2db4031-faaf-469b-aec1-ddea201c26d6",
   "metadata": {},
   "source": [
    "### Inference: Random walk MH\n",
    "\n",
    "We will implement a simple random walk MH procedure. In particular, we will make (truncated) gaussian proposals over the sizes of each of the two spheres in the scene. Otherwise, this is super off-the-shelf MCMC code in Gen."
   ]
  },
  {
   "cell_type": "code",
   "execution_count": 22,
   "id": "ba42d20e-bf8a-4b64-bc36-83ccab4b2b7f",
   "metadata": {},
   "outputs": [],
   "source": [
    "# include the truncated norm distribution\n",
    "include(\"truncatednorm.jl\")"
   ]
  },
  {
   "cell_type": "markdown",
   "id": "ad1b09bd-cc3a-4dde-b6f3-a837f69052f4",
   "metadata": {},
   "source": [
    "Define proposals for perturbing the two latent variables in the generative model"
   ]
  },
  {
   "cell_type": "code",
   "execution_count": 24,
   "id": "fb2a7b17-021e-474c-945c-aa0fbe5e2260",
   "metadata": {},
   "outputs": [],
   "source": [
    "# proposal distribution for the scale variables\n",
    "@gen function scale_proposal(current_trace)\n",
    "    # trunc_norm(mean, std, lower_bound, upper_bound)\n",
    "    # why do we need a truncated norm, instead of a regular normal distribution?\n",
    "    s_left ~ trunc_norm(current_trace[:s_left], 0.15, 0.1, 1.)\n",
    "    s_right ~ trunc_norm(current_trace[:s_right], 0.15, 0.1, 1.)\n",
    "end\n",
    ";"
   ]
  },
  {
   "cell_type": "markdown",
   "id": "4671dc4e-6e8a-4002-8375-d84b9627bf55",
   "metadata": {},
   "source": [
    "The inference procedure couldn't really get any simpler: Make MH moves on the two latents and that's all."
   ]
  },
  {
   "cell_type": "code",
   "execution_count": 26,
   "id": "34941dfb-6d2d-4cc7-8ddd-e6837267d154",
   "metadata": {},
   "outputs": [],
   "source": [
    "function random_walk_mh(tr)\n",
    "    # make a random-walk update on scale variables\n",
    "    (tr, accepted) = mh(tr, scale_proposal, ())\n",
    "\n",
    "    # return the updated trace\n",
    "    tr\n",
    "end\n",
    ";"
   ]
  },
  {
   "cell_type": "markdown",
   "id": "0fb1d0f1-7010-44e3-ba53-d9cf175d5980",
   "metadata": {},
   "source": [
    "Now call this inference procedure in an iterative loop -- notice that we are going for a rather small number of iterations -- `K=50` -- let's see if this works!"
   ]
  },
  {
   "cell_type": "code",
   "execution_count": 27,
   "id": "b1baabcd-5cf2-49d4-adfa-8f2a3ff757cf",
   "metadata": {
    "scrolled": true
   },
   "outputs": [],
   "source": [
    "function do_inference()\n",
    "    K = 50\n",
    "    t, = generate(room, (), obs_image)\n",
    "    scores = Vector{Float64}(undef, K)\n",
    "    @showprogress for i in 1:K\n",
    "        t = random_walk_mh(t)\n",
    "        scores[i] = get_score(t)\n",
    "    end;\n",
    "    return scores, t\n",
    "end\n",
    ";"
   ]
  },
  {
   "cell_type": "code",
   "execution_count": 28,
   "id": "9bd3b4fd-7cb8-4b93-b51d-5a110c380be1",
   "metadata": {
    "scrolled": true
   },
   "outputs": [
    {
     "name": "stderr",
     "output_type": "stream",
     "text": [
      "\u001b[32mProgress: 100%|█████████████████████████████████████████| Time: 0:00:01\u001b[39m\n"
     ]
    },
    {
     "data": {
      "text/plain": [
       "([-3834.4987113290676, -3816.8034905446866, -3814.461474221023, -3814.461474221023, -3814.461474221023, -3814.0324295832966, -3814.0324295832966, -3814.0324295832966, -3814.0324295832966, -3801.650476228109  …  -3786.4975943022223, -3786.4975943022223, -3786.4975943022223, -3786.4975943022223, -3786.4975943022223, -3786.4975943022223, -3786.4975943022223, -3786.4975943022223, -3786.4975943022223, -3786.4975943022223], Gen.DynamicDSLTrace{DynamicDSLFunction{Any}}(DynamicDSLFunction{Any}(Dict{Symbol, Any}(), Dict{Symbol, Any}(), Type[], false, Union{Nothing, Some{Any}}[], var\"##room#292\", Bool[], false), Trie{Any, Gen.ChoiceOrCallRecord}(Dict{Any, Gen.ChoiceOrCallRecord}(:s_left => Gen.ChoiceOrCallRecord{Float64}(0.5040150761373534, 0.10536051565782628, NaN, true), :pred => Gen.ChoiceOrCallRecord{Matrix{Float64}}([0.0 0.0 … 0.0 0.0; 0.0 0.005835341289639473 … 0.0012543500633910298 0.0; … ; 0.0 0.001325089018791914 … 0.008137053810060024 0.0; 0.0 0.0 … 0.0 0.0], -3786.708315333538, NaN, true), :s_right => Gen.ChoiceOrCallRecord{Float64}(0.18419436361887837, 0.10536051565782628, NaN, true)), Dict{Any, Trie{Any, Gen.ChoiceOrCallRecord}}()), false, -3786.4975943022223, 0.0, (), [0.0 0.0 … 0.0 0.0; 0.0 0.005835341289639473 … 0.0012543500633910298 0.0; … ; 0.0 0.001325089018791914 … 0.008137053810060024 0.0; 0.0 0.0 … 0.0 0.0]))"
      ]
     },
     "execution_count": 28,
     "metadata": {},
     "output_type": "execute_result"
    }
   ],
   "source": [
    "# call the inference procedure\n",
    "(scores, t) = do_inference()"
   ]
  },
  {
   "cell_type": "markdown",
   "id": "072a472f-94dd-4567-a47f-04d123fe55ad",
   "metadata": {},
   "source": [
    "Now, how do I know if my inference procedure worked? \n",
    "\n",
    "Let's first visualize to see if our log likelihood scores improved over iterations (x-axis: iterations; y-axis: log scores)."
   ]
  },
  {
   "cell_type": "code",
   "execution_count": null,
   "id": "8b5dd7af-0575-49c9-92a7-d8f28281890f",
   "metadata": {
    "scrolled": true
   },
   "outputs": [],
   "source": [
    "plot(scores, size = (1000, 1000))"
   ]
  },
  {
   "cell_type": "markdown",
   "id": "d3c73f49-4b99-41a3-a1fc-bb1c7a9a704a",
   "metadata": {},
   "source": [
    "Alright this should look good. Try to reason about how often proposals are accepted by the step-wise changes in the loglikelihood scores over iterations.\n",
    "\n",
    "Now let's find out what our inferred scene looks like at the end of the procedure:"
   ]
  },
  {
   "cell_type": "code",
   "execution_count": null,
   "id": "41f4ebc9-24f1-4377-beac-2e94513833c6",
   "metadata": {},
   "outputs": [],
   "source": [
    "view_image(t)"
   ]
  },
  {
   "cell_type": "markdown",
   "id": "4bbc95b7-04e8-4faf-b8c7-51083c7b72b9",
   "metadata": {},
   "source": [
    "Compare the image that your model synthesized to what the observation was like from above. Did the inference procedure work reasonably well? Try changing the number of iterations. "
   ]
  },
  {
   "cell_type": "markdown",
   "id": "25975733-b6cd-4f3f-913c-fe59721c4ea6",
   "metadata": {},
   "source": [
    "## Taking stock:\n",
    "\n",
    "Notice what we have accomplished: The result of the inference procedure is not just a reconstructed image -- rather, it is a causal explanation that goes far beyond what was in the image: a 3D scene that we can re-light, re-pose, and manipulate. The result of inference"
   ]
  }
 ],
 "metadata": {
  "kernelspec": {
   "display_name": "Julia 1.9.2",
   "language": "julia",
   "name": "julia-1.9"
  },
  "language_info": {
   "file_extension": ".jl",
   "mimetype": "application/julia",
   "name": "julia",
   "version": "1.9.2"
  },
  "widgets": {
   "application/vnd.jupyter.widget-state+json": {
    "state": {},
    "version_major": 2,
    "version_minor": 0
   }
  }
 },
 "nbformat": 4,
 "nbformat_minor": 5
}
