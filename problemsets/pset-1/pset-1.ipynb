{
 "cells": [
  {
   "cell_type": "markdown",
   "id": "de451e1d-23f4-48fe-aa97-a907d00064a5",
   "metadata": {},
   "source": [
    "# Algorithms of the Mind: Problem Set 1\n",
    "\n",
    "**Instructions:** Answer all questions below. Be sure to show all intermediate steps and equations that you used to arrive at each answer. Please type your answers (including your equations). For coding questions, your code and its execution will do.\n",
    "\n",
    "**How to submit?:** Execute all blocks of your Jupyter notebook, save it, and submit your assignment using Canvas.\n",
    "\n",
    "<div class=\"alert alert-info\">\n",
    "    <strong>Note</strong>\n",
    "\n",
    "Your answers in each question can be a combination of markdown and Julia code.\n",
    "</div>\n",
    "\n",
    "<div class=\"alert alert-info\" markdown=\"1\">\n",
    "    <strong>Note</strong>\n",
    "\n",
    "Round your results to 3 significant digits.\n",
    "</div>"
   ]
  },
  {
   "cell_type": "markdown",
   "id": "018573ca-51ab-48db-acf4-b1bba2e78663",
   "metadata": {},
   "source": [
    "## Question 0\n",
    "\n",
    "**Your name:**"
   ]
  },
  {
   "cell_type": "markdown",
   "id": "2c0ca7da-35ae-45c4-9d71-0bb94a14d5a5",
   "metadata": {},
   "source": [
    "Next, please take the honor pledge by reordering the following phrases so that it makes sense to you, and then typing the resulting full sentence.\n",
    "\n",
    "- and that this work is my own.\n",
    "- or received\n",
    "- I have not given\n",
    "- I affirm that\n",
    "- on this assignment,\n",
    "- any unauthorized help "
   ]
  },
  {
   "cell_type": "markdown",
   "id": "023c4c86-505a-456f-bb3c-17caccf499dd",
   "metadata": {},
   "source": [
    "**Enter your honor pledge:** "
   ]
  },
  {
   "cell_type": "markdown",
   "id": "df65f90b-14c7-4375-94d0-6c9f9f469361",
   "metadata": {},
   "source": [
    "## Question 1"
   ]
  },
  {
   "cell_type": "markdown",
   "id": "001eb775-e92b-4ee9-b7e1-50a8b47fceea",
   "metadata": {},
   "source": [
    "### Q 1A [4 pts]\n",
    "\n",
    "The iron core of our planet conducts electricity, which creates a magnetic field around Earth. This magnetic field not only provides a protective shield against sun’s unwanted rays, but also creates a kind of a map that remains relatively constant across time. Many animal species are thought to rely on this magnetic field for wayfinding, from migratory birds across the open skies to fish, reptiles and crustaceans in the deep ocean. For example, sea turtles can use the magnetic field to make plans between points A and B on the globe, and to orient themselves, i.e., to know where they are on the Earth. \n",
    "\n",
    "Imagine that the planet's magnetic field can be described using a grid. Each cell in this grid consists of the *intensity* and *direction* of the magnetic field at that cell. As one moves one step to the east, the intensity of the magnetic field increases by 0.05 (arbitrary units) and rotates \"counterclockwise\" (i.e., decreases without modulo operation) by 0.05 (arbitrary units). The reverse of this happens when one moves one step to the west. And as one moves one step to north, the intensity of the magnetic field decreases by 0.05 and rotates \"clockwise\" (i.e., increases without modulo) by 0.05. The reverse of this happens when one moves one step to the south.\n",
    "\n",
    "Your task is to write Julia functions, called `magnetic_field_kernel`, that when it is called within another function called `magnetic_field` with the magnetic field information of an initial coordinate (including the intensity and direction at this coordinate) and a sequence of moves (i.e., a sequence of \"north\"s, \"south\"s, \"east\"s and \"west\"s), generates a trajectory of intensities and directions. (You will also write a function to visualize these trajectories; see below.) Implement a Julia `struct` to represent and modify the magnetic field information at a cell; the struct should include the following four entities.\n",
    "\n",
    "- `x`: current coordinate in the east-west axis\n",
    "- `y`: current coordinate in the north-south axis\n",
    "- `intensity`: The intensity of the magnetic field at a coordinate\n",
    "- `direction`: The direction of the magnetic field at a coordinate\n",
    "\n",
    "(For each variable, you must indicate its type.)\n",
    "\n",
    "And implement the following transitions in your `magnetic_field_kernel` function as to how they modify the state:\n",
    "\n",
    "- north (`n`): move one coordinate north\\\n",
    "- south (`s`): move one coordinate south\\\n",
    "- east (`e`): move one coordinate east\\\n",
    "- west (`w`): move one coordinate west"
   ]
  },
  {
   "cell_type": "code",
   "execution_count": null,
   "id": "3da2b906-6cca-4095-82d3-ad1885e51594",
   "metadata": {},
   "outputs": [],
   "source": [
    "# Note that running this for the first time might take a good 15 mins -- plan ahead\n",
    "using Gen\n",
    "using Plots\n",
    "\n",
    "include(\"utils/draw.jl\")\n",
    ";"
   ]
  },
  {
   "cell_type": "code",
   "execution_count": null,
   "id": "3f943d1e-6064-4799-8d0c-9bad246ae4cf",
   "metadata": {},
   "outputs": [],
   "source": [
    "struct Field\n",
    "    # Fill in \n",
    "end"
   ]
  },
  {
   "cell_type": "code",
   "execution_count": null,
   "id": "efe16255-6859-4a54-90a0-8e35f9c75eba",
   "metadata": {},
   "outputs": [],
   "source": [
    "function magnetic_field(init_field::Field, moves)\n",
    "    field_trajectory = Vector{____}(undef, size(moves)[1] + 1)\n",
    "    # initialize the trajectory:\n",
    "    field_trajectory[1] = _____    \n",
    "    # call the magnetic_field_kernel function in a loop to fill up the field_trajectory\n",
    "    for (___, ___) in enumerate(moves)\n",
    "        field_trajectory[___] = magnetic_field_kernel(field_trajectory[___], ____)   \n",
    "    end\n",
    "    # return field trajectory\n",
    "    field_trajectory\n",
    "end"
   ]
  },
  {
   "cell_type": "code",
   "execution_count": null,
   "id": "824b8f9a-52da-44a3-8e5b-281a89d24bc3",
   "metadata": {},
   "outputs": [],
   "source": [
    "function magnetic_field_kernel(curr_field::Field, move)\n",
    "    # fill in with your code; assume that the move is one of the following chars `n`, `s`, `e` or `w`\n",
    "    \n",
    "    # return the newly created field, e.g. as the following (assuming the variable name new_field\n",
    "    new_field\n",
    "end"
   ]
  },
  {
   "cell_type": "markdown",
   "id": "e0aa554b-454c-46a5-9d0a-65ec273a713f",
   "metadata": {},
   "source": [
    "Now complete the following script to start at the indicated initial field and move from there for 100 random steps. "
   ]
  },
  {
   "cell_type": "code",
   "execution_count": null,
   "id": "7e0939b0-2401-4b77-be53-649ee40102a4",
   "metadata": {},
   "outputs": [],
   "source": [
    "directions = ['n', 's', 'e', 'w']\n",
    "# randomly draw a sequence of 100 moves (we do so using list comprehension here)\n",
    "moves = [draw(directions) for _ in 1:100]\n",
    "\n",
    "# initial field: set x and y coordinates to 3; set intensity to 0.1 and direction to 0.\n",
    "initial_field = Field(_______)\n",
    "my_trajectory = magnetic_field(___________)"
   ]
  },
  {
   "cell_type": "markdown",
   "id": "2210c58a-7065-45c6-a91b-72139d5836c5",
   "metadata": {},
   "source": [
    "### Q 1B [1 pt]\n",
    "\n",
    "Next, fill in the visualization function below. This function takes as input a trajectory (a vector of `Field`s, like the one you generated above) and makes an animation of the visited locations, showing one cell at a time. An example visualization (`images/ps1-fields-viz.gif`) is included in the repo to show how things should look like in the end. In particular, at each step, the function plots a heatmap of the intensity of the currently visited coordinate (so the color represents the intensity of the `Field`) and an overlaid scatter plot to show the direction  of the current coordinate using the size of the point. (Once again, notice that each frame of the visualization shows just the currently visited `Field`.)\n",
    "\n",
    "(Notice that this visualization can be improved in a number of ways, and you are welcome to it, but not required.)"
   ]
  },
  {
   "cell_type": "code",
   "execution_count": null,
   "id": "5a19a625-c6d8-4bc1-825a-34c5004bec29",
   "metadata": {},
   "outputs": [],
   "source": [
    "# a function to visualize an input trajectory (a vector of Fields)\n",
    "# you can do this entirely differently, in your own way, or just try to fill in things\n",
    "# an example visualization is included to show what things look like if this works\n",
    "function visualize(trajectory)\n",
    "    # we assume that `trajectory` is a Vector of the struct Field\n",
    "    t_length = size(trajectory)[1]\n",
    "    # extract the x coordinates from trajectory via list comprehension \n",
    "    xs = [_____________]\n",
    "    # extract the y coordinates from trajectory via list comprehension \n",
    "    ys = [_____________]\n",
    "    # get your boundaries using the xs and ys\n",
    "    minx = minimum(xs)\n",
    "    maxx = maximum(xs)\n",
    "    miny = minimum(ys)\n",
    "    maxy = maximum(ys)\n",
    "    \n",
    "    viz = Plots.@animate for i in 1:t_length\n",
    "        # for each step, initialize intensities to be all 0s\n",
    "        intensities = zeros(maxx-minx+1, maxy-miny+1)\n",
    "\n",
    "        # get the current coordinates\n",
    "        curr_x = ___\n",
    "        curr_y = ___ \n",
    "\n",
    "        # translate them with respect to the indices we will visualize\n",
    "        curr_x = curr_x - minx + 1\n",
    "        curr_y = curr_y - miny + 1\n",
    "        \n",
    "        # fill in the intensity entry just for the current Field\n",
    "        intensities[curr_x, curr_y] = trajectory[i].intensity\n",
    "        # get the current direction\n",
    "        curr_dir = trajectory[i].direction\n",
    "\n",
    "        # make a heatmap of the intensity\n",
    "        heatmap(intensities, c = :grays, clim = (-1,1), legend = :none)\n",
    "        # on top of that, draw the direction as the markersize of a point on the current coordinate\n",
    "        scatter!([curr_y], [curr_x], ms=30*curr_dir, mc=:blue, legend = :none)\n",
    "    end;\n",
    "    gif(viz)\n",
    "end"
   ]
  },
  {
   "cell_type": "code",
   "execution_count": null,
   "id": "4005b4a0-fdd4-4884-b569-4da9d10f58b5",
   "metadata": {},
   "outputs": [],
   "source": [
    "visualize(my_trajectory)"
   ]
  },
  {
   "cell_type": "markdown",
   "id": "e31da555-207b-4d3a-8aee-84de20c3163a",
   "metadata": {},
   "source": [
    "### Q 1C [2 pts]\n",
    "\n",
    "For a representation of the planet’s magnetic field to be behaviorally efficacious for our sea turtle friend, it would need to support path planning (say from where it is now to its natal shores, the shores where they hatched).\n",
    "\n",
    "Describe how your function `magnetic_kernel` can support planning a path between the Field `init_field` and the Field `final_field`. Assume that for the `init_field`, you know its `x` and `y` coordinates as well as its `intensity` and `direction`. Assume that for the `final_field`, its `x` and `y` coordinates are *unknown*, but you know its `intensity` and `direction`. Your answer can be either in plain English (in 1 sentence), pseudocode, or a combination. "
   ]
  },
  {
   "cell_type": "markdown",
   "id": "afbb4dec-85a0-464e-9584-098b74fe658b",
   "metadata": {},
   "source": [
    "**Answer:** "
   ]
  },
  {
   "cell_type": "markdown",
   "id": "8c364f59-db1e-4e71-ac86-9a155e738630",
   "metadata": {},
   "source": [
    "### Q 1D [2 pts]\n",
    "\n",
    "Another behavior this representation should support is orienting oneself -- that is, if we pick up the sea turtle, fly it to another spot on the ocean, and release, the sea turtle should be able to use this representation and the mangetism it measures to *infer* where it is. \n",
    "\n",
    "There are two additional pieces of information the sea turtle needs to make such inferences. What are they?\n",
    "\n",
    "<details>\n",
    "    <summary>Hint 1</summary>\n",
    "\n",
    "When it is released, a priori, the sea turtle should have a probabilistic belief as to where it might be.\n",
    "</details>\n",
    "\n",
    "<details>\n",
    "    <summary>Hint 2</summary>\n",
    "\n",
    "Magnetic sensors on a biological [or artificial] system will make only noisy measurements of the underlying magnetic field, so we need to think about the likelihood of a location given such noisy measurements.\n",
    "</details>"
   ]
  },
  {
   "cell_type": "markdown",
   "id": "ae5a0a0c-3e58-4b0e-8706-5d9f4fb1eac3",
   "metadata": {},
   "source": [
    "**Answer:** "
   ]
  },
  {
   "attachments": {},
   "cell_type": "markdown",
   "id": "8c66225a-9746-483f-a4fd-feef96ee68d9",
   "metadata": {},
   "source": [
    "## Question 2"
   ]
  },
  {
   "cell_type": "markdown",
   "id": "9ddf8144-50f6-4f03-b441-bb3ac4d2dc56",
   "metadata": {},
   "source": [
    "<div class=\"alert alert-warning\" markdown=\"1\">\n",
    "    <strong>Note:</strong>\n",
    "\n",
    "In the following questions, you can use Julia as a hand-calculator. That is, you can define variables assigned with certain values from the given question and use Julia as a hand-calculator, including summation, multiplication, subtraction, division, and powers. However, you cannot use any other specialized Julia functions. (When in doubt, feel free to ask; you can use the `exp` function.)\n",
    "\n",
    "</div>\n",
    "\n",
    "Prof. Barnacles has been teaching 3 courses this semester: \"introduction to sea biology\", \"introduction to neurobiology\", and \"introduction to astrobiology\".\n",
    "\n",
    "The number of questions students ask in a class can be described using the following Poisson distributions.\n",
    "\n",
    "| Class                 | Distributions                                             |\n",
    "|:---------------------:|-----------------------------------------------------------|\n",
    "| Intro to sea biology  | $x \\sim \\text{Poisson}(\\lambda_A)$ where $\\lambda_A = 3$  |\n",
    "| Intro to neurobiology | $x \\sim \\text{Poisson}(\\lambda_B)$ where $\\lambda_B = 7$  |\n",
    "| Intro to astrobiology | $x \\sim \\text{Poisson}(\\lambda_C)$ where $\\lambda_B = 11$ |\n",
    "\n",
    "**Reminder:** The `pmf` of the Poisson distribution is $p(x|\\lambda) = \\frac{\\lambda^k \\exp(-\\lambda)}{k!}$."
   ]
  },
  {
   "cell_type": "markdown",
   "id": "155a34ba-cee6-4adf-91ce-8d1eac9d21c3",
   "metadata": {},
   "source": [
    "### Q 2A [3 pts]\n",
    "\n",
    "Prof. Barnacles teaches these classes equally often. After a class, Prof. Barnacles tells a colleague that she got 5 questions in the lecture. What is the probability she taught the sea biology class in that class?"
   ]
  },
  {
   "cell_type": "markdown",
   "id": "b738386d-f515-48ea-85f0-894a52861625",
   "metadata": {},
   "source": [
    "**Answer:** "
   ]
  },
  {
   "cell_type": "markdown",
   "id": "f5a8aa34-1f09-4a22-b9ca-f70fb2a65f4b",
   "metadata": {},
   "source": [
    "### Q 2B [2 pts]\n",
    "\n",
    "Now assume that Prof. Barnacles teaches the astrobiology class 3 times more often than the other two classes (which she teaches equally often). Thus,\n",
    "\n",
    "\\begin{align}\n",
    "p(\\text{Intro to sea biology}) &= \\frac{1}{5} \\\\\n",
    "p(\\text{Intro to neurobiology}) &= \\frac{1}{5} \\\\\n",
    "p(\\text{Intro to astrobiology}) &= \\frac{3}{5}\n",
    "\\end{align}\n",
    "\n",
    "After a class, Prof. Barnacles tells a colleague that she got 5 questions in the lecture. What is the probability she taught Intro to astrobiology on that day?"
   ]
  },
  {
   "cell_type": "markdown",
   "id": "041600ae-0773-47ea-8d40-7b6f657b5ef1",
   "metadata": {},
   "source": [
    "**Answer:** "
   ]
  },
  {
   "attachments": {},
   "cell_type": "markdown",
   "id": "30d94c7a-43df-48b3-9aea-0bebc97e4b40",
   "metadata": {},
   "source": [
    "## Question 3"
   ]
  },
  {
   "cell_type": "markdown",
   "id": "05b184b3-5eb4-4770-980b-4ea96e401a65",
   "metadata": {},
   "source": [
    "![Agent Track](images/ps1-agent-track.png)\n",
    "\n",
    "An agent lives on a 1-dimensional track as shown above. It starts at 0 (marked x), and moves 1 tile to the left or right at each timestep with equal probability."
   ]
  },
  {
   "cell_type": "markdown",
   "id": "f8f622bd-4117-41c9-971d-13b45f52a2f7",
   "metadata": {},
   "source": [
    "### Q 3A [3 pts]\n",
    "\n",
    "What is the expected position of the agent after 4 such randomly taken steps?  (Show all your work including intermediate steps.)\n",
    "\n",
    "<details>\n",
    "    <summary>Hint</summary>\n",
    "\n",
    "Enumerate all outcomes. Expected value is the sum of the probability of each outcome multiplied by the outcome itself.\n",
    "</details>"
   ]
  },
  {
   "cell_type": "markdown",
   "id": "d695227c-4cc6-4980-a251-4a414ea83d46",
   "metadata": {},
   "source": [
    "**Answer:** "
   ]
  },
  {
   "cell_type": "markdown",
   "id": "cf1a6349-39d4-41e5-b5af-620e1df448fb",
   "metadata": {},
   "source": [
    "### Q 3B [2 pts]\n",
    "\n",
    "Now assume that the agent's shelter is to right of this track. Accordingly, the agent is three times more likely to take a step to the right ($0.75$) than to the left ($1 - 0.75 = 0.25$). \n",
    "\n",
    "What is the expected position of the agent after 4 steps?  (The hint in 3A continues to be applicable.)\n"
   ]
  },
  {
   "cell_type": "markdown",
   "id": "c9b99979-23dc-43b1-a4bd-a633d8fb10a2",
   "metadata": {},
   "source": [
    "**Answer:** "
   ]
  },
  {
   "cell_type": "markdown",
   "id": "b5bd30af-61ee-49f6-9758-d5e290be9471",
   "metadata": {},
   "source": [
    "## Question 4"
   ]
  },
  {
   "cell_type": "markdown",
   "id": "a9eb9a64-edc8-4613-a2b4-95db36469713",
   "metadata": {},
   "source": [
    "Consider the following four random variables\n",
    "\n",
    "- Count: # of questions that come up in a lecture\n",
    "- Duration: lecture duration\n",
    "- Size: size of the classroom\n",
    "- Building: whether the classroom is in 100 College st. or the SSS Hall"
   ]
  },
  {
   "cell_type": "markdown",
   "id": "b1b78fe3-dfd6-43d9-bb13-dcdddef0e480",
   "metadata": {},
   "source": [
    "### Q 4A [2 pts]\n",
    "\n",
    "Write independence and conditional independence assumptions we can make, as well as the dependencies between the random variables. \n",
    "\n",
    "For example:\n",
    "```md\n",
    "- Independence: Variable X is independent of Variable Y\n",
    "- Conditional independence: Variable X is independent of Variable Y given Variable Z\n",
    "- Dependence: Variable X depends on Variables Y...\n",
    "```\n",
    "\n",
    "Considering these assumptions and the dependencies between these random variables, write a factorization of the joint distribution \n",
    "\n",
    "$P(\\textrm{Count, Duration, Size, Buildiging})$."
   ]
  },
  {
   "cell_type": "markdown",
   "id": "afed82d7-ee34-4e3d-82f9-f1cb39371eae",
   "metadata": {},
   "source": [
    "**Answer:** "
   ]
  },
  {
   "cell_type": "markdown",
   "id": "c7a76003-6f7a-4d91-9c8b-4ccb9ae9e3c6",
   "metadata": {},
   "source": [
    "### Q 4B [1 pt]\n",
    "\n",
    "For each component of your factorization (prior[s] and conditional[s]), suggest appropriate parametric probability functions to model each factor and a brief reason for your choice."
   ]
  },
  {
   "cell_type": "markdown",
   "id": "76aacc00-38a2-45e6-9805-2c6095fad30a",
   "metadata": {},
   "source": [
    "**Answer:** "
   ]
  },
  {
   "attachments": {},
   "cell_type": "markdown",
   "id": "fb699da3-5fea-49ec-b448-ed250e3623bf",
   "metadata": {},
   "source": [
    "## Question 5"
   ]
  },
  {
   "cell_type": "markdown",
   "id": "6ca89839-90f7-4950-b1eb-9848e7f52dfb",
   "metadata": {},
   "source": [
    "Consider the following two priors with normal distribution, referred to as the \"orange prior\" and the \"blue prior\", and the likelihood function (the green curve). \n",
    "\n",
    "![Priors \\& Likelihood Functions](images/ps1-priors-likelihood-fns.png)"
   ]
  },
  {
   "cell_type": "markdown",
   "id": "cfea2f8a-0b63-46b8-b96b-062762e7c4c5",
   "metadata": {},
   "source": [
    "### Q5A [2 pts]\n",
    "\n",
    "Given the identical likelihood function (the green curve), which of these two priors will impact the posterior more? Why? \n",
    "\n",
    "<details>\n",
    "    <summary>Hint</summary>\n",
    "\n",
    "Remember that the posterior is proportional to the product of the prior and the likelihood.\n",
    "</details>"
   ]
  },
  {
   "cell_type": "markdown",
   "id": "afd81e88-9dd0-41df-a140-78058ba0894f",
   "metadata": {},
   "source": [
    "**Answer:** "
   ]
  },
  {
   "cell_type": "markdown",
   "id": "a8b6746d-d771-43f4-84dd-3363dc209665",
   "metadata": {},
   "source": [
    "### Q 5B [1 pt]\n",
    "\n",
    "You have little data and it turns out your posterior is very similar to your prior. Which prior was likely in use? Why?"
   ]
  },
  {
   "cell_type": "markdown",
   "id": "b1c2dea5-c053-4eb5-93da-e084a32cacb7",
   "metadata": {},
   "source": [
    "**Answer:** "
   ]
  }
 ],
 "metadata": {
  "kernelspec": {
   "display_name": "Julia 1.9.3",
   "language": "julia",
   "name": "julia-1.9"
  },
  "language_info": {
   "file_extension": ".jl",
   "mimetype": "application/julia",
   "name": "julia",
   "version": "1.9.3"
  },
  "widgets": {
   "application/vnd.jupyter.widget-state+json": {
    "state": {},
    "version_major": 2,
    "version_minor": 0
   }
  }
 },
 "nbformat": 4,
 "nbformat_minor": 5
}
