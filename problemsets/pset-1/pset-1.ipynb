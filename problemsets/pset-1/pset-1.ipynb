{
 "cells": [
  {
   "cell_type": "markdown",
   "id": "8238e513",
   "metadata": {
    "deletable": false,
    "editable": false,
    "nbgrader": {
     "cell_type": "markdown",
     "checksum": "ec6ad1a3b11de3d9eab49b5f5eaacbac",
     "grade": false,
     "grade_id": "cell-8a8cd8b757aa43d0",
     "locked": true,
     "schema_version": 3,
     "solution": false,
     "task": false
    },
    "tags": []
   },
   "source": [
    "# Algorithms of the Mind\n",
    "\n",
    "**Instructions:** Answer all questions below. Be sure to show all intermediate steps and equations that you used to arrive at each answer. Please type your answers (including your equations). For coding questions, your code and its execution will do.\n",
    "\n",
    "**How to submit?:** Execute all blocks of your Jupyter notebook, save it, and submit your assignment using Canvas.\n",
    "\n",
    "<div class=\"alert alert-info\">\n",
    "    <strong>Note</strong>\n",
    "\n",
    "Your answers in each question can be a combination of markdown and Julia code.\n",
    "</div>"
   ]
  },
  {
   "cell_type": "markdown",
   "id": "e2aae422",
   "metadata": {
    "deletable": false,
    "editable": false,
    "nbgrader": {
     "cell_type": "markdown",
     "checksum": "b32401381437e041d3866a9c8f7517bb",
     "grade": false,
     "grade_id": "cell-0cdff38fa9dd89b8",
     "locked": true,
     "schema_version": 3,
     "solution": false,
     "task": false
    },
    "tags": []
   },
   "source": [
    "## Preliminaries"
   ]
  },
  {
   "cell_type": "code",
   "execution_count": null,
   "id": "aac854c0",
   "metadata": {
    "tags": []
   },
   "outputs": [],
   "source": [
    "NAME = \"\"\n",
    "NETID = \"\""
   ]
  },
  {
   "cell_type": "markdown",
   "id": "9582fff7",
   "metadata": {
    "deletable": false,
    "editable": false,
    "nbgrader": {
     "cell_type": "markdown",
     "checksum": "862c67f6e7489bc2c56f69c85f568715",
     "grade": false,
     "grade_id": "cell-24c93db6109b5e4e",
     "locked": true,
     "schema_version": 3,
     "solution": false,
     "task": false
    },
    "tags": []
   },
   "source": [
    "Next, please take the honor pledge by reordering the following phrases so that it makes sense to you, and then typing the resulting full sentence.\n",
    "\n",
    "- and that this work is my own.\n",
    "- or received\n",
    "- I have not given\n",
    "- I affirm that\n",
    "- on this assignment,\n",
    "- any unauthorized help "
   ]
  },
  {
   "cell_type": "code",
   "execution_count": null,
   "id": "f741d590",
   "metadata": {
    "tags": []
   },
   "outputs": [],
   "source": [
    "HONOR_PLEDGE = \"\""
   ]
  },
  {
   "cell_type": "code",
   "execution_count": null,
   "id": "67dfb4bd",
   "metadata": {
    "deletable": false,
    "editable": false,
    "nbgrader": {
     "cell_type": "code",
     "checksum": "f8112be3d89ed34ec1d73eed2ccd2001",
     "grade": true,
     "grade_id": "cell-f58af99f51780260",
     "locked": true,
     "points": 0,
     "schema_version": 3,
     "solution": false,
     "task": false
    },
    "tags": []
   },
   "outputs": [],
   "source": []
  },
  {
   "cell_type": "markdown",
   "id": "4756242c",
   "metadata": {},
   "source": [
    "---"
   ]
  },
  {
   "cell_type": "markdown",
   "id": "e2326676-32c8-4992-bb3b-c1437bb005d8",
   "metadata": {
    "deletable": false,
    "editable": false,
    "nbgrader": {
     "cell_type": "markdown",
     "checksum": "6d927d55824a4b93a939f69eb68f1fdb",
     "grade": false,
     "grade_id": "cell-8b5e2d7ba2609579",
     "locked": true,
     "schema_version": 3,
     "solution": false,
     "task": false
    },
    "tags": []
   },
   "source": [
    "# Problem Set 1"
   ]
  },
  {
   "cell_type": "markdown",
   "id": "331b893c-f8e3-4d16-9f56-73a0973ff312",
   "metadata": {},
   "source": [
    "<div class=\"alert alert-info\" markdown=\"1\">\n",
    "    <strong>Note</strong>\n",
    "\n",
    "Round your results to 3 significant digits.\n",
    "</div>"
   ]
  },
  {
   "cell_type": "markdown",
   "id": "dc9849b0-682c-4dd1-a12f-0e710404b993",
   "metadata": {
    "deletable": false,
    "editable": false,
    "nbgrader": {
     "cell_type": "markdown",
     "checksum": "0a0cb0f24aa12239ad4b9f158ac7820a",
     "grade": false,
     "grade_id": "cell-3519aa9a58d38cc3",
     "locked": true,
     "schema_version": 3,
     "solution": false,
     "task": false
    },
    "tags": []
   },
   "source": [
    "## Question 1"
   ]
  },
  {
   "cell_type": "markdown",
   "id": "e87dc919-d14c-4db8-be9e-02d9bcd62363",
   "metadata": {},
   "source": [
    "### Q 1A [3 pts]\n",
    "\n",
    "The iron core of our planet conducts electricity, which creates a magnetic field around Earth. This magnetic field not only provides a protective shield against the sun’s unwanted rays but also creates a kind of map that remains relatively constant across time. Many animal species are thought to rely on this magnetic field for wayfinding, from migratory birds across the open skies to fish, reptiles, and crustaceans in the deep ocean. For example, sea turtles can use the magnetic field to make plans between points A and B on the globe, and to orient themselves, i.e., to know where they are on the Earth. \n",
    "\n",
    "Imagine that the planet's magnetic field can be described as a grid of the *intensity* and *direction* values of the magnetic field at each cell. As one moves one step to the east, the intensity of the magnetic field increases by 0.05 and its direction rotates \"counterclockwise\" by 0.05 (i.e., regular decrement, without modular arithmetic). The reverse of this happens when one moves one step to the west. And as one moves one step north, the intensity of the magnetic field decreases by 0.05 and rotates \"clockwise\" by 0.05 (i.e., regular increment, without modular arithmetic). The reverse of this happens when one moves one step to the south. (All units are arbitrary.)\n",
    "\n",
    "Your task is to write Julia functions, called `magnetic_field_kernel`, that when it is called within another function called `magnetic_field` with the magnetic field information of an initial coordinate (including the intensity and direction at this coordinate) and a sequence of moves (i.e., a sequence of \"north\"s, \"south\"s, \"east\"s and \"west\"s), generates a trajectory of intensities and directions. (Below, you will also write a function to visualize these trajectories.) Implement a Julia `struct` to represent and modify the magnetic field information at a cell; the struct should include the following four entities.\n",
    "\n",
    "- `x`: current coordinate in the east-west axis\n",
    "- `y`: current coordinate in the north-south axis\n",
    "- `intensity`: The intensity of the magnetic field at a coordinate\n",
    "- `direction`: The direction of the magnetic field at a coordinate\n",
    "\n",
    "(For each variable, you must indicate its type.)\n",
    "\n",
    "And implement the following transitions in your `magnetic_field_kernel` function as to how they modify the state:\n",
    "\n",
    "- north (`n`): move one coordinate north\n",
    "- south (`s`): move one coordinate south\n",
    "- east (`e`): move one coordinate east\n",
    "- west (`w`): move one coordinate west"
   ]
  },
  {
   "cell_type": "code",
   "execution_count": null,
   "id": "d23cb369-42bc-49f1-b680-876a3a18daf6",
   "metadata": {
    "deletable": false,
    "editable": false,
    "nbgrader": {
     "cell_type": "code",
     "checksum": "91b2f60264e68427b3dc21da7007c87e",
     "grade": false,
     "grade_id": "cell-1ac045053a6ea391",
     "locked": true,
     "schema_version": 3,
     "solution": false,
     "task": false
    },
    "tags": []
   },
   "outputs": [],
   "source": [
    "# Note that running this for the first time might take a good 15 mins -- plan ahead\n",
    "using Gen\n",
    "using Plots\n",
    "using Random\n",
    "using CSV\n",
    "using DataFrames\n",
    "\n",
    "include(\"utils/draw.jl\");"
   ]
  },
  {
   "cell_type": "code",
   "execution_count": null,
   "id": "16740b5e-d5b0-49c4-8663-c6ed0d268ee5",
   "metadata": {
    "deletable": false,
    "nbgrader": {
     "cell_type": "code",
     "checksum": "02b294df5a21adcbdb8dfd672469007f",
     "grade": false,
     "grade_id": "cell-7b15334480541167",
     "locked": false,
     "schema_version": 3,
     "solution": true,
     "task": false
    },
    "slideshow": {
     "slide_type": ""
    },
    "tags": []
   },
   "outputs": [],
   "source": [
    "# Fill in \n",
    "struct Field\n",
    "    # your code here\n",
    "    error(\"Not Implemented.\")\n",
    "end"
   ]
  },
  {
   "cell_type": "code",
   "execution_count": null,
   "id": "9668a905-1421-4496-bcd7-e7ec97386348",
   "metadata": {
    "deletable": false,
    "editable": false,
    "nbgrader": {
     "cell_type": "code",
     "checksum": "6b492f80dbef98f29608ba7ee0e381fb",
     "grade": true,
     "grade_id": "cell-1aa20e4fdc973b39",
     "locked": true,
     "points": 1,
     "schema_version": 3,
     "solution": false,
     "task": false
    },
    "slideshow": {
     "slide_type": ""
    },
    "tags": []
   },
   "outputs": [],
   "source": [
    "# for autograding - please do not touch\n"
   ]
  },
  {
   "cell_type": "code",
   "execution_count": null,
   "id": "d2616a69-1ebc-47bc-944b-873435e539c1",
   "metadata": {
    "deletable": false,
    "editable": true,
    "nbgrader": {
     "cell_type": "code",
     "checksum": "3e016693f791c1e0fb2a207e3e1298ae",
     "grade": false,
     "grade_id": "cell-bd84a5a22a4f7650",
     "locked": false,
     "schema_version": 3,
     "solution": true,
     "task": false
    },
    "slideshow": {
     "slide_type": ""
    },
    "tags": []
   },
   "outputs": [],
   "source": [
    "function magnetic_field(init_field::Field, moves)\n",
    "    # Define a variable `field_trajectory` as a Vect\n",
    "    # your code here\n",
    "    error(\"Not Implemented.\")\n",
    "    # initialize the trajectory:\n",
    "    field_trajectory[1] = init_field    \n",
    "    # call the magnetic_field_kernel function in a loop to fill up the field_trajectory\n",
    "    for (index, move) in enumerate(moves)\n",
    "        field_trajectory[index + 1] = magnetic_field_kernel(field_trajectory[index], move)   \n",
    "    end\n",
    "    # return field trajectory\n",
    "    field_trajectory\n",
    "end"
   ]
  },
  {
   "cell_type": "code",
   "execution_count": null,
   "id": "b1433571-74c9-426c-aca6-7fc6a8945e72",
   "metadata": {
    "deletable": false,
    "editable": true,
    "nbgrader": {
     "cell_type": "code",
     "checksum": "73c683ffcc04d467c575e5179cea2997",
     "grade": false,
     "grade_id": "cell-9af18a88bba8b99b",
     "locked": false,
     "schema_version": 3,
     "solution": true,
     "task": false
    },
    "slideshow": {
     "slide_type": ""
    },
    "tags": []
   },
   "outputs": [],
   "source": [
    "function magnetic_field_kernel(curr_field::Field, move)\n",
    "    # fill in; assume that the move is one of the following chars `n`, `s`, `e` or `w`\n",
    "    # your code here\n",
    "    error(\"Not Implemented.\")\n",
    "    \n",
    "    # return the newly created field, e.g. as the following\n",
    "    return new_field\n",
    "end"
   ]
  },
  {
   "cell_type": "code",
   "execution_count": null,
   "id": "fc3039c4-5526-4a57-a8a5-05cde16233f7",
   "metadata": {
    "deletable": false,
    "editable": false,
    "nbgrader": {
     "cell_type": "code",
     "checksum": "0d268a414cdc5f7e1b575b3173ad60e8",
     "grade": true,
     "grade_id": "cell-166b3ef9a3292ecf",
     "locked": true,
     "points": 4,
     "schema_version": 3,
     "solution": false,
     "task": false
    },
    "tags": []
   },
   "outputs": [],
   "source": [
    "# for autograding - please do not touch\n"
   ]
  },
  {
   "cell_type": "markdown",
   "id": "143dfed9-eea7-401c-975f-ea4eab423585",
   "metadata": {
    "deletable": false,
    "editable": false,
    "nbgrader": {
     "cell_type": "markdown",
     "checksum": "c1c6c1ad9452ed8b9e37b27fc6080090",
     "grade": false,
     "grade_id": "cell-9a7d901efda0b562",
     "locked": true,
     "schema_version": 3,
     "solution": false,
     "task": false
    },
    "tags": []
   },
   "source": [
    "Now complete the following script to start at the indicated initial field and move from there for 100 random steps. "
   ]
  },
  {
   "cell_type": "code",
   "execution_count": null,
   "id": "6c9146da-8dfa-4e1f-8e3b-396d27bb66ca",
   "metadata": {
    "deletable": false,
    "editable": true,
    "nbgrader": {
     "cell_type": "code",
     "checksum": "c851ce9f8353c608d8991b3fbe3a817b",
     "grade": false,
     "grade_id": "cell-9293cf6d43ad35a0",
     "locked": false,
     "schema_version": 3,
     "solution": true,
     "task": false
    },
    "slideshow": {
     "slide_type": ""
    },
    "tags": []
   },
   "outputs": [],
   "source": [
    "Random.seed!(42)\n",
    "\n",
    "directions = ['n', 's', 'e', 'w']\n",
    "# randomly draw a sequence of 100 moves (we do so using list comprehension here)\n",
    "moves = [draw(directions) for _ in 1:100]\n",
    "\n",
    "# initial field: set x and y coordinates to 3; set intensity to 0.1 and direction to 0.\n",
    "# your code here\n",
    "error(\"Not Implemented.\")\n",
    "# my_trajectory: compute a trajectory\n",
    "# your code here\n",
    "error(\"Not Implemented.\")"
   ]
  },
  {
   "cell_type": "code",
   "execution_count": null,
   "id": "52c35209-eb00-42e5-8fe2-14c5208316c0",
   "metadata": {
    "deletable": false,
    "editable": false,
    "nbgrader": {
     "cell_type": "code",
     "checksum": "83385a522ea5b81f7acf071d66eee946",
     "grade": true,
     "grade_id": "cell-2cbefb49c9de579e",
     "locked": true,
     "points": 2,
     "schema_version": 3,
     "solution": false,
     "task": false
    },
    "slideshow": {
     "slide_type": ""
    },
    "tags": []
   },
   "outputs": [],
   "source": [
    "# for autograding - please do not touch\n"
   ]
  },
  {
   "cell_type": "markdown",
   "id": "185ccef7-b46f-418e-9b79-f9ded97a8bd5",
   "metadata": {
    "deletable": false,
    "editable": false,
    "nbgrader": {
     "cell_type": "markdown",
     "checksum": "939a0817647124ce989d41ec7cc42ea5",
     "grade": false,
     "grade_id": "cell-e475ec1f9a16ec95",
     "locked": true,
     "schema_version": 3,
     "solution": false,
     "task": false
    },
    "tags": []
   },
   "source": [
    "### Q 1B [1 pt]\n",
    "\n",
    "Next, fill in the visualization function below. This function takes as input a trajectory (a vector of `Field`s, like the one you generated above) and makes an animation of the visited locations, showing one cell at a time. An example visualization (`images/fields-viz.gif`) is included in the repo to show how things should look in the end. In particular, at each step, the function plots a heatmap of the intensity of the currently visited coordinate (so the color represents the intensity of the `Field`) and an overlaid scatter plot to show the direction  of the current coordinate using the size of the point. (Once again, notice that each frame of the visualization shows just the currently visited `Field`.)\n",
    "\n",
    "(Notice that this visualization can be improved in a number of ways, and you are welcome to it, but it is not required.)"
   ]
  },
  {
   "cell_type": "code",
   "execution_count": null,
   "id": "2dc58895-bfc0-40c9-8ee9-309bfb1ecd88",
   "metadata": {
    "deletable": false,
    "editable": true,
    "nbgrader": {
     "cell_type": "code",
     "checksum": "f959b5d76373ea259dc8b888dcdda3ea",
     "grade": true,
     "grade_id": "cell-ac7bc8ac14d5367f",
     "locked": false,
     "points": 2,
     "schema_version": 3,
     "solution": true,
     "task": false
    },
    "slideshow": {
     "slide_type": ""
    },
    "tags": []
   },
   "outputs": [],
   "source": [
    "# a helper function to visualize things\n",
    "# you can do this entirely differently, in your own way, or just try to fill out things\n",
    "# an example visualization is included to show what things look like if this works\n",
    "# The position of the plotted value indicates coordinates; its color intensity and size of the dot direction\n",
    "function visualize(trajectory)\n",
    "    # we assume that `trajectory` is a Vector of the struct Field\n",
    "    t_length = size(trajectory)[1]\n",
    "    # get your x coordinates\n",
    "    # your code here\n",
    "    error(\"Not Implemented.\")\n",
    "    # get your y coordinates\n",
    "    # your code here\n",
    "    error(\"Not Implemented.\")\n",
    "    # get your boundaries\n",
    "    minx = minimum(xs)\n",
    "    maxx = maximum(xs)\n",
    "    miny = minimum(ys)\n",
    "    maxy = maximum(ys)\n",
    "    \n",
    "    viz = Plots.@animate for i in 1:t_length\n",
    "        # for each step, initialize intensities to be all 0s\n",
    "        intensities = zeros(maxx-minx+1, maxy-miny+1)\n",
    "\n",
    "        # get the current coordinates\n",
    "        # your code here\n",
    "        error(\"Not Implemented.\")\n",
    "        # your code here\n",
    "        error(\"Not Implemented.\")\n",
    "        \n",
    "        # translate them with respect to the indices we will visualize\n",
    "        curr_x = curr_x - minx + 1\n",
    "        curr_y = curr_y - miny + 1\n",
    "        \n",
    "        # fill out just the intensity entry for the current coordinate\n",
    "        intensities[curr_x, curr_y] = trajectory[i].intensity\n",
    "        # get the current direction\n",
    "        curr_dir = trajectory[i].direction\n",
    "\n",
    "        # make a heatmap of the intensity\n",
    "        heatmap(intensities, c = :grays, clim = (-1,1), legend = :none)\n",
    "        # on top of that, draw the direction as the markersize of a point on the current coordinate\n",
    "        scatter!([curr_y], [curr_x], ms=30*curr_dir, mc=:blue, legend = :none)\n",
    "    end;\n",
    "    gif(viz)\n",
    "end"
   ]
  },
  {
   "cell_type": "code",
   "execution_count": null,
   "id": "421e16cf-278c-4f36-a915-1873e4d4ae1d",
   "metadata": {
    "deletable": false,
    "editable": false,
    "nbgrader": {
     "cell_type": "code",
     "checksum": "4f166b35289c6dceaa06e1c5443a9b5a",
     "grade": false,
     "grade_id": "cell-ac2426c5980513b0",
     "locked": true,
     "schema_version": 3,
     "solution": false,
     "task": false
    },
    "tags": []
   },
   "outputs": [],
   "source": [
    "visualize(my_trajectory)"
   ]
  },
  {
   "cell_type": "markdown",
   "id": "1e6022b9-944d-4c6e-914f-5807e1e13bb9",
   "metadata": {
    "deletable": false,
    "editable": false,
    "nbgrader": {
     "cell_type": "markdown",
     "checksum": "d4ed53c1e2365233db9c83f60bbc63b8",
     "grade": false,
     "grade_id": "cell-d4366608e66efd68",
     "locked": true,
     "schema_version": 3,
     "solution": false,
     "task": false
    },
    "tags": []
   },
   "source": [
    "### Q 1C [1 pt]\n",
    "\n",
    "For a representation of the planet’s magnetic field to be behaviorally efficacious for our sea turtle friend, it would need to support path planning (say, from where it is now to its natal shores, the shores where they hatched). \n",
    "\n",
    "We wish to use the function `magnetic_kernel` to support planning a path between the Field `init_field` and the Field `final_field`. Assume that for the `init_field`, you know its `x` and `y` coordinates as well as its `intensity` and `direction`. Assume that for the `final_field`, its `x` and `y` coordinates are *unknown*, but you know its `intensity` and `direction`. \n",
    "\n",
    "Unfortunately, there is something odd about our sea turtle friend's magnetic field representation that precludes it from definitively knowing whether it arrived at the desired `final_field` coordinates. What is it? (1-3 sentences.)\n",
    "\n",
    "\n",
    "<details>\n",
    "    <summary>Hint 1</summary>\n",
    "\n",
    "Think about the magnetic field. Are there multiple cells (i.e., entries with different `x` and `y` coordinates) that share identical `intensity` and `direction` values?\n",
    "</details>\n"
   ]
  },
  {
   "cell_type": "markdown",
   "id": "345af461-559d-4757-ac6a-4077e2df09d4",
   "metadata": {
    "deletable": false,
    "editable": true,
    "nbgrader": {
     "cell_type": "markdown",
     "checksum": "606f2b85a68cfa851ba19b0a6228e9c3",
     "grade": true,
     "grade_id": "cell-d2a51c92f91eca18",
     "locked": false,
     "points": 0,
     "schema_version": 3,
     "solution": true,
     "task": false
    },
    "slideshow": {
     "slide_type": ""
    },
    "tags": []
   },
   "source": [
    "YOUR ANSWER HERE"
   ]
  },
  {
   "cell_type": "markdown",
   "id": "015bc12e-e75c-4d0c-8845-c69b7f475ac2",
   "metadata": {
    "deletable": false,
    "editable": false,
    "nbgrader": {
     "cell_type": "markdown",
     "checksum": "5a451ccb86ef3b5004ffc26cef7716e9",
     "grade": false,
     "grade_id": "cell-1bcdf07029322227",
     "locked": true,
     "schema_version": 3,
     "solution": false,
     "task": false
    },
    "tags": []
   },
   "source": [
    "### Q 1D [1 pt]\n",
    "\n",
    "Another behavior this representation should support is orienting oneself -- that is, if we pick up the sea turtle, fly it to another spot on the ocean, and release, the sea turtle should be able to use this representation and the mangetism it measures to *infer* where it is. \n",
    "\n",
    "There are two additional pieces of information the sea turtle needs to make such inferences. What are they?\n",
    "\n",
    "<details>\n",
    "    <summary>Hint 1</summary>\n",
    "\n",
    "When it is released, a priori, the sea turtle should have a probabilistic belief as to where it might be.\n",
    "</details>\n",
    "\n",
    "<details>\n",
    "    <summary>Hint 2</summary>\n",
    "\n",
    "Magnetic sensors on a biological [or artificial] system will make only noisy measurements of the underlying magnetic field, so we need to think about the likelihood of a location given such noisy measurements.\n",
    "</details>"
   ]
  },
  {
   "cell_type": "markdown",
   "id": "6598fad6-238c-49ba-a4b3-95347dd0ad90",
   "metadata": {
    "deletable": false,
    "editable": true,
    "nbgrader": {
     "cell_type": "markdown",
     "checksum": "b7ca87fbcca6cff065c2c18283cabdce",
     "grade": true,
     "grade_id": "cell-582ab6506be08c1e",
     "locked": false,
     "points": 1,
     "schema_version": 3,
     "solution": true,
     "task": false
    },
    "slideshow": {
     "slide_type": ""
    },
    "tags": []
   },
   "source": [
    "YOUR ANSWER HERE"
   ]
  },
  {
   "cell_type": "markdown",
   "id": "7ef31f12-3b1a-480d-b6b5-8dba22fb1e50",
   "metadata": {},
   "source": [
    "(We'll meet our sea turtle friend again in Problem Set 2 for actual probabilistic modeling and computation.)"
   ]
  },
  {
   "cell_type": "markdown",
   "id": "731b3d92-6cff-403e-9031-6b1f34f88d26",
   "metadata": {},
   "source": [
    "## Question 2"
   ]
  },
  {
   "cell_type": "markdown",
   "id": "28a9865d-83e1-423a-a611-d4010c4a0245",
   "metadata": {},
   "source": [
    "Nimet has been inspecting three colonies of different insect species in her backyard; the average size of each colony is different and denoted by $\\theta_1, \\theta_2, \\theta_3$. \n",
    "\n",
    "Nimet believes that these 3 colonies are related: That is, she believes the average size of the bugs in each colony should come from a shared underlying distribution. \n",
    "\n",
    "She measures the size of the 40 members of each colony, denoted $\\vec{x}_1, \\vec{x}_2, \\vec{x}_3$. \n",
    "\n",
    "Nimet, as a 6-year-old first grader, intuitively arrives at an inference about the average size of each colony, as well as a prediction as to what range the average size of a nearby, related fourth insect colony may lie, which she hasn't explored at all. \n",
    "\n",
    "Your task is to formalize Nimet's inference process. You can assume that the average size of the insects in a colony (i.e., $\\theta$s) can be modeled as coming from a Gamma distribution, $Gamma(\\alpha, scale=2)$, shared across the three colonies. Furthermore, you can assume a prior over the `shape` parameter of the Gamma distribution, denoted $\\alpha$, to be a uniform over the range of 1.0 to 15.0. (We assume that we know the scale parameter of the Gamma distribution `scale=2`).\n",
    "\n",
    "Finally assume that the size measurements are noisy, coming from a normal distribution with known standard deviation $\\vec{x}_{i,k} \\sim Normal(\\theta_i, \\sigma=0.1)$, where $i \\in [1, 3]$ indexes the colony and $k \\in [1, 40]$ indexes members in that colony.\n",
    "\n",
    "The following shows a graphical model of the generative model you can use to formalize Nimet's thought process. \n",
    "\n",
    "<img src=\"./images/leafbug-gm.png\" alt=\"\" width=\"400\"/>"
   ]
  },
  {
   "cell_type": "markdown",
   "id": "5666c1f7-bebb-4809-b93d-fef75b801d24",
   "metadata": {},
   "source": [
    "### Q 2A [1 pt]\n",
    "\n",
    "Write the joint distribution of all variables in this generative model based on how they are factorized in the graphical model. Answer by typing your equation.  \n",
    "\n",
    "[It's okay to type `theta1`, `alpha`, `x1` (without an arrow on top) etc. instead of the greek letters &ndash; and no worries about typing in the markdown math environment. Although it's easy to do these things if you want to try.]"
   ]
  },
  {
   "cell_type": "markdown",
   "id": "8db6ffec-36fc-4c0f-b018-3e65a7205f8a",
   "metadata": {
    "deletable": false,
    "editable": true,
    "nbgrader": {
     "cell_type": "markdown",
     "checksum": "1b00621a50536904d5573c943de0e585",
     "grade": true,
     "grade_id": "cell-9d04fe1e5a6372f1",
     "locked": false,
     "points": 1,
     "schema_version": 3,
     "solution": true,
     "task": false
    },
    "slideshow": {
     "slide_type": ""
    },
    "tags": []
   },
   "source": [
    "YOUR ANSWER HERE"
   ]
  },
  {
   "cell_type": "markdown",
   "id": "964b0133-1ae0-41bb-8295-3a8e97b6339f",
   "metadata": {},
   "source": [
    "### Q 2B [1 pt]\n",
    "\n",
    "Write the parameteric probability distribution you would use to model each prior and conditional distribution in your joint."
   ]
  },
  {
   "cell_type": "markdown",
   "id": "47c11388-323c-43f9-a8e8-16f5bf4df672",
   "metadata": {
    "deletable": false,
    "editable": true,
    "nbgrader": {
     "cell_type": "markdown",
     "checksum": "89e89d4c642fa4aa8897862a9670d68c",
     "grade": true,
     "grade_id": "cell-c439bf5a708bbf43",
     "locked": false,
     "points": 1,
     "schema_version": 3,
     "solution": true,
     "task": false
    },
    "slideshow": {
     "slide_type": ""
    },
    "tags": []
   },
   "source": [
    "YOUR ANSWER HERE"
   ]
  },
  {
   "cell_type": "markdown",
   "id": "67ff6003-f926-4e69-8e61-1938bcb8ed72",
   "metadata": {
    "editable": true,
    "slideshow": {
     "slide_type": ""
    },
    "tags": []
   },
   "source": [
    "### Q 2C [1 pt]\n",
    "\n",
    "Which is the posterior the question is asking you to compute?\n",
    "\n",
    "(a) $p(\\alpha, \\sigma | \\theta_1, \\theta_2, \\theta_3, \\vec{x}_1, \\vec{x}_2, \\vec{x}_3)$\n",
    "\n",
    "(b) $p(\\alpha, \\theta_1, \\theta_2, \\theta_3 | \\vec{x}_1, \\vec{x}_2, \\vec{x}_3)$"
   ]
  },
  {
   "cell_type": "markdown",
   "id": "2f3c8e8a-8602-455a-bfc5-467cbb332cab",
   "metadata": {
    "deletable": false,
    "editable": true,
    "nbgrader": {
     "cell_type": "markdown",
     "checksum": "eab18429f614cb936972338d806cbc78",
     "grade": true,
     "grade_id": "cell-7b49242912d38dce",
     "locked": false,
     "points": 1,
     "schema_version": 3,
     "solution": true,
     "task": false
    },
    "slideshow": {
     "slide_type": ""
    },
    "tags": []
   },
   "source": [
    "YOUR ANSWER HERE"
   ]
  },
  {
   "cell_type": "markdown",
   "id": "a44a7f93-585d-4ba4-af7d-77c6a59b2d42",
   "metadata": {},
   "source": [
    "### Q 2D [4 pts]\n",
    "\n",
    "Fill in the following to write a Gen generative function of the prior illustrated in the graphical model based on the parametric distributions you decided appropriate. "
   ]
  },
  {
   "cell_type": "code",
   "execution_count": null,
   "id": "8660c2a8-6f28-4f6e-acaf-30be34800caf",
   "metadata": {
    "deletable": false,
    "editable": true,
    "nbgrader": {
     "cell_type": "code",
     "checksum": "d91b51f9cf3f780ec8b6b1921e9097fb",
     "grade": true,
     "grade_id": "cell-c01fdaf19b2e3a35",
     "locked": false,
     "points": 2,
     "schema_version": 3,
     "solution": true,
     "task": false
    },
    "slideshow": {
     "slide_type": ""
    },
    "tags": []
   },
   "outputs": [],
   "source": [
    "@gen function insect_colonies()\n",
    "    scale = 2\n",
    "    σ = 0.1\n",
    "\n",
    "    # What's the prior of α?\n",
    "    # your code here\n",
    "    error(\"Not Implemented.\")\n",
    "\n",
    "    # average size of insects in each colony\n",
    "    # What's distribution for each of θ1, θ2, θ3?\n",
    "    # your code here\n",
    "    error(\"Not Implemented.\")\n",
    "    \n",
    "    # make observation for each colony's insects\n",
    "    # the address structure in trace should be \n",
    "    # {:data => colony => insect => :y} ~ ...\n",
    "    # NOTE: You can perform this in a single loop. It's not required, but definitely a worthwhile challenge!\n",
    "    # your code here\n",
    "    error(\"Not Implemented.\")\n",
    "end\n",
    ";"
   ]
  },
  {
   "cell_type": "markdown",
   "id": "51dc8c62-8af5-46af-b34c-5458df6b4406",
   "metadata": {},
   "source": [
    "Now simulate your generative function to ensure that its outputs make sense"
   ]
  },
  {
   "cell_type": "code",
   "execution_count": null,
   "id": "473a99a5-6066-4621-82b9-b5160d0b11c3",
   "metadata": {
    "deletable": false,
    "editable": true,
    "nbgrader": {
     "cell_type": "code",
     "checksum": "971b596128e8b48ae7de457afc9c5205",
     "grade": true,
     "grade_id": "cell-af1743d6b6ec6c28",
     "locked": false,
     "points": 1,
     "schema_version": 3,
     "solution": true,
     "task": false
    },
    "slideshow": {
     "slide_type": ""
    },
    "tags": []
   },
   "outputs": [],
   "source": [
    "# Run your model `insect_colonies` forward\n",
    "# your code here\n",
    "error(\"Not Implemented.\")\n",
    "get_choices(trace)"
   ]
  },
  {
   "cell_type": "markdown",
   "id": "1ed02ef3-9fe2-432d-9859-fb9c8bbd068a",
   "metadata": {},
   "source": [
    "Fill in the following code to load your data from `./data/insect_sizes.csv`. Each column is measurements in a colony."
   ]
  },
  {
   "cell_type": "code",
   "execution_count": null,
   "id": "eb1e99a9-9e74-4052-a568-3ce98570882c",
   "metadata": {
    "deletable": false,
    "editable": true,
    "nbgrader": {
     "cell_type": "code",
     "checksum": "1cc3f7082e2e079f3ca15e76783fcec7",
     "grade": true,
     "grade_id": "cell-e144150a4777d4ea",
     "locked": false,
     "points": 2,
     "schema_version": 3,
     "solution": true,
     "task": false
    },
    "slideshow": {
     "slide_type": ""
    },
    "tags": []
   },
   "outputs": [],
   "source": [
    "function make_observations(df::DataFrame)\n",
    "    # Setup your observation constraints\n",
    "    # your code here\n",
    "    error(\"Not Implemented.\")\n",
    "\n",
    "    # Apply your constraints\n",
    "    # To index DataFrames, you need to use the column name as a symbol.\n",
    "    #   This means you'll need to use `Symbol(\"colony<N>\")` to get the\n",
    "    #   correct column name to index the DataFrame.\n",
    "    # your code here\n",
    "    error(\"Not Implemented.\")\n",
    "    \n",
    "    constraints\n",
    "end \n",
    "# call the funciton to get the observations\n",
    "df = DataFrame(CSV.File(\"./data/insect_sizes.csv\"))\n",
    "observations = make_observations(df)"
   ]
  },
  {
   "cell_type": "markdown",
   "id": "4852f649-adff-4ed0-983a-6f412151ab7f",
   "metadata": {},
   "source": [
    "### Q 2E [1 pt]\n",
    "\n",
    "Given your generative model and observations, we will perform importance resampling for posterior inference. Fill in the code to obtain 100 posterior samples each using 1000 resampling steps."
   ]
  },
  {
   "cell_type": "code",
   "execution_count": null,
   "id": "850838d3-a1e4-4840-a90a-4d2da218e158",
   "metadata": {
    "deletable": false,
    "editable": true,
    "nbgrader": {
     "cell_type": "code",
     "checksum": "8873e516e5491db268756171b9583662",
     "grade": true,
     "grade_id": "cell-090a8ec9be60c749",
     "locked": false,
     "points": 1,
     "schema_version": 3,
     "solution": true,
     "task": false
    },
    "slideshow": {
     "slide_type": ""
    },
    "tags": []
   },
   "outputs": [],
   "source": [
    "# Note: this codeblock might take a minute to run\n",
    "\n",
    "# Using 1000 samples in `importance_resampling`, do posterior inference.\n",
    "# Ensure that you keep trace of all traces (that is, you should have a Vector of 100 traces from your runs of `importance_resampling`)\n",
    "# your code here\n",
    "error(\"Not Implemented.\")"
   ]
  },
  {
   "cell_type": "markdown",
   "id": "97420794-b44a-44d9-be13-003983896b8b",
   "metadata": {},
   "source": [
    "### Q 2F [2 pts]\n",
    "\n",
    "Fill in the following codeblock to visualize your posterior samples. Make a plot with 2 subplots\n",
    "\n",
    "* Subplot 1: Make a histogram plot showing $\\alpha$.\n",
    "* Subplot 2: Make another histogram plot showing the three $\\theta$s on the same plot.\n",
    "\n",
    "Describe your posterior in English: The average value for each variable and a description of the shape of each posterior (in 1-2 sentences)."
   ]
  },
  {
   "cell_type": "code",
   "execution_count": null,
   "id": "5037f5d4-ff87-410d-a0ee-f211cd134760",
   "metadata": {
    "deletable": false,
    "editable": true,
    "nbgrader": {
     "cell_type": "code",
     "checksum": "42502727e2af7376318cac08c5c517e2",
     "grade": true,
     "grade_id": "cell-b566dce6e23e8df5",
     "locked": false,
     "points": 1,
     "schema_version": 3,
     "solution": true,
     "task": false
    },
    "slideshow": {
     "slide_type": ""
    },
    "tags": []
   },
   "outputs": [],
   "source": [
    "# collect the inferred αs and θs across the chains and plot them.\n",
    "αs = [t[:α] for t in traces]\n",
    "# your code here\n",
    "error(\"Not Implemented.\")\n",
    "\n",
    "# plot the movements\n",
    "α_plot = histogram(αs, thickness_scaling=3.5, size=(1000, 800), label=\"α\")\n",
    "\n",
    "# Plot the θs on the same plot, use the same `thickness_scaling` and `size` as in α_plot. Ensure your plots are labeled correctly.\n",
    "# your code here\n",
    "error(\"Not Implemented.\")\n",
    "\n",
    "plot(α_plot, θ_plot, layout=(2, 1), size=(1600, 1200))"
   ]
  },
  {
   "cell_type": "markdown",
   "id": "1ffd0674-3276-4c16-bba4-2bbf60c381c2",
   "metadata": {
    "deletable": false,
    "editable": true,
    "nbgrader": {
     "cell_type": "markdown",
     "checksum": "fb89a4006450b1e36b70af8c6b2064e8",
     "grade": true,
     "grade_id": "cell-e4c8afe3821bc286",
     "locked": false,
     "points": 1,
     "schema_version": 3,
     "solution": true,
     "task": false
    },
    "slideshow": {
     "slide_type": ""
    },
    "tags": []
   },
   "source": [
    "YOUR ANSWER HERE"
   ]
  },
  {
   "cell_type": "markdown",
   "id": "ac0a28fb-134b-4462-9db8-654e5c614be8",
   "metadata": {},
   "source": [
    "### Q 2G [3 pts] (Challenge question -- but not-optional)\n",
    "\n",
    "Drive the marginal distribution for predicting the average size of the fourth nearby colony, denoted $\\theta_*$, without having observed the size of any of its members. \n",
    "\n",
    "The pattern of your equation should look like the following. \n",
    "\n",
    "$p(\\theta_* | \\vec{x}_1, \\vec{x}_2, \\vec{x}_3) = \\sum_{...} p(\\theta_* | ...) p(... | \\vec{x}_1, \\vec{x}_2, \\vec{x}_3)$\n",
    "\n",
    "\n",
    "Describe, in English (no code or math needed), how you can compute this equation given the model specification in 2B and the posterior samples in 2F. Your description should be sufficient for me to see how for an example value of $\\theta_*$, say $\\theta_*=5$, I can calculate its marginal probability $p(\\theta_*=5 | \\vec{x}_1, \\vec{x}_2, \\vec{x}_3)$."
   ]
  },
  {
   "cell_type": "markdown",
   "id": "6bd28d8d-419e-48fc-8950-b0122af080fd",
   "metadata": {
    "deletable": false,
    "editable": true,
    "nbgrader": {
     "cell_type": "markdown",
     "checksum": "669a50759821c85195fed6467a2fc138",
     "grade": true,
     "grade_id": "cell-5ae8a4a248920c5b",
     "locked": false,
     "points": 3,
     "schema_version": 3,
     "solution": true,
     "task": false
    },
    "slideshow": {
     "slide_type": ""
    },
    "tags": []
   },
   "source": [
    "YOUR ANSWER HERE\n",
    "\n",
    "\n"
   ]
  },
  {
   "cell_type": "markdown",
   "id": "a9cec864-7ddc-4295-959e-065e2d18686b",
   "metadata": {
    "deletable": false,
    "editable": false,
    "nbgrader": {
     "cell_type": "markdown",
     "checksum": "79b156932449c708b61c12e83ff8b0c6",
     "grade": false,
     "grade_id": "cell-183a9da998f3e873",
     "locked": true,
     "schema_version": 3,
     "solution": false,
     "task": false
    },
    "tags": []
   },
   "source": [
    "## Question 3"
   ]
  },
  {
   "cell_type": "markdown",
   "id": "e013e407-0076-452a-8f81-2aaf4e74d2f7",
   "metadata": {
    "deletable": false,
    "editable": false,
    "nbgrader": {
     "cell_type": "markdown",
     "checksum": "81c275fe9ed554ae1d591ba551fb6b45",
     "grade": false,
     "grade_id": "cell-af5f6479aae5cd06",
     "locked": true,
     "schema_version": 3,
     "solution": false,
     "task": false
    },
    "tags": []
   },
   "source": [
    "<div class=\"alert alert-warning\" markdown=\"1\">\n",
    "    <strong>Note</strong>\n",
    "\n",
    "In the following questions, you can use Julia as a hand-calculator. That is, you can define variables assigned with certain values from the given question and use Julia as a hand-calculator, including summation, multiplication, subtraction, division, and powers. However, you cannot use any other specialized Julia functions. (When in doubt, feel free to ask; you can use the `exp` and `factorial` functions.)\n",
    "\n",
    "</div>\n",
    "\n",
    "Prof. Barnacles has been teaching 3 courses this semester: \"introduction to sea biology\", \"introduction to neurobiology\", and \"introduction to astrobiology\".\n",
    "\n",
    "The number of questions students ask in a class can be described using the following Poisson distributions.\n",
    "\n",
    "| Class                 | Distributions                                             |\n",
    "|:---------------------:|-----------------------------------------------------------|\n",
    "| Intro to sea biology  | $x \\sim \\text{Poisson}(\\lambda_A)$ where $\\lambda_A = 3$  |\n",
    "| Intro to neurobiology | $x \\sim \\text{Poisson}(\\lambda_B)$ where $\\lambda_B = 7$  |\n",
    "| Intro to astrobiology | $x \\sim \\text{Poisson}(\\lambda_C)$ where $\\lambda_B = 11$ |\n",
    "\n",
    "**Reminder:** The `pmf` of the Poisson distribution is $p(x|\\lambda) = \\frac{\\lambda^k \\exp(-\\lambda)}{k!}$."
   ]
  },
  {
   "cell_type": "markdown",
   "id": "08f359b8-0cdc-473e-9518-e9c05316a458",
   "metadata": {
    "deletable": false,
    "editable": false,
    "nbgrader": {
     "cell_type": "markdown",
     "checksum": "8162da3a0553efa9d91f5957c12741df",
     "grade": false,
     "grade_id": "cell-db119f483d5c256e",
     "locked": true,
     "schema_version": 3,
     "solution": false,
     "task": false
    },
    "slideshow": {
     "slide_type": ""
    },
    "tags": []
   },
   "source": [
    "### Q 3A [1 pt]\n",
    "\n",
    "Prof. Barnacles teaches these classes equally often. After a class, Prof. Barnacles tells a colleague that she got 5 questions in the lecture. What is the probability she taught the sea biology class in that class?"
   ]
  },
  {
   "cell_type": "markdown",
   "id": "7b49cf59-e1a7-4125-86d0-8ac634e07d59",
   "metadata": {
    "deletable": false,
    "editable": true,
    "nbgrader": {
     "cell_type": "markdown",
     "checksum": "666a3f75b78f2293c0900af87837193b",
     "grade": true,
     "grade_id": "cell-a9585a91ba34df50",
     "locked": false,
     "points": 1,
     "schema_version": 3,
     "solution": true,
     "task": false
    },
    "slideshow": {
     "slide_type": ""
    },
    "tags": []
   },
   "source": [
    "YOUR ANSWER HERE"
   ]
  },
  {
   "cell_type": "markdown",
   "id": "87c2b016-63c9-4e07-b251-1efd1bddc6e5",
   "metadata": {
    "deletable": false,
    "editable": false,
    "nbgrader": {
     "cell_type": "markdown",
     "checksum": "9f356ebe32408c08aada715019037034",
     "grade": false,
     "grade_id": "cell-f5207bc8329005dd",
     "locked": true,
     "schema_version": 3,
     "solution": false,
     "task": false
    },
    "tags": []
   },
   "source": [
    "### Q 3B [0.5 pt]\n",
    "\n",
    "Now assume that Prof. Barnacles teaches the astrobiology class 3 times more often than the other two classes (which she teaches equally often). Thus,\n",
    "\n",
    "\\begin{align}\n",
    "p(\\text{Intro to sea biology}) &= \\frac{1}{5} \\\\\n",
    "p(\\text{Intro to neurobiology}) &= \\frac{1}{5} \\\\\n",
    "p(\\text{Intro to astrobiology}) &= \\frac{3}{5}\n",
    "\\end{align}\n",
    "\n",
    "After a class, Prof. Barnacles tells a colleague that she got 5 questions in the lecture. What is the probability she taught Intro to astrobiology on that day?"
   ]
  },
  {
   "cell_type": "markdown",
   "id": "e7244a5f-b0b5-41b2-a71e-ae66e2cbad8a",
   "metadata": {
    "deletable": false,
    "editable": true,
    "nbgrader": {
     "cell_type": "markdown",
     "checksum": "47d8d63eccce51b3e35f0f95b0562f58",
     "grade": true,
     "grade_id": "cell-5760af03c3c47364",
     "locked": false,
     "points": 0.5,
     "schema_version": 3,
     "solution": true,
     "task": false
    },
    "slideshow": {
     "slide_type": ""
    },
    "tags": []
   },
   "source": [
    "YOUR ANSWER HERE"
   ]
  },
  {
   "cell_type": "markdown",
   "id": "704219df-4585-452d-9550-d51dc0931df1",
   "metadata": {
    "deletable": false,
    "editable": false,
    "nbgrader": {
     "cell_type": "markdown",
     "checksum": "b985886f0a1548553daead75f234912f",
     "grade": false,
     "grade_id": "cell-60967504925228db",
     "locked": true,
     "schema_version": 3,
     "solution": false,
     "task": false
    },
    "tags": []
   },
   "source": [
    "## Question 4"
   ]
  },
  {
   "cell_type": "markdown",
   "id": "451eb6ed-2b2a-45cc-9f53-c6dd9abb57eb",
   "metadata": {
    "deletable": false,
    "editable": false,
    "nbgrader": {
     "cell_type": "markdown",
     "checksum": "50d350569e5211e4bd8d5a843ea3940a",
     "grade": false,
     "grade_id": "cell-3d2ea58a6fce9558",
     "locked": true,
     "schema_version": 3,
     "solution": false,
     "task": false
    },
    "tags": []
   },
   "source": [
    "![Agent Track](images/agent-track.png)\n",
    "\n",
    "An agent lives on a 1-dimensional track as shown above. It starts at 0 (marked x), and moves 1 tile to the left or right at each timestep with equal probability."
   ]
  },
  {
   "cell_type": "markdown",
   "id": "a8d61154-1784-460f-87ba-03643bd8043f",
   "metadata": {
    "deletable": false,
    "editable": false,
    "nbgrader": {
     "cell_type": "markdown",
     "checksum": "80f1465b05a9822fb2e94607d7d1a3ae",
     "grade": false,
     "grade_id": "cell-41b6ed17fe6a6fcf",
     "locked": true,
     "schema_version": 3,
     "solution": false,
     "task": false
    },
    "slideshow": {
     "slide_type": ""
    },
    "tags": []
   },
   "source": [
    "### Q 4A [1 pt]\n",
    "\n",
    "What is the expected position of the agent after 4 such randomly taken steps?  (Show all your work including intermediate steps.)\n",
    "\n",
    "<details>\n",
    "    <summary>Hint</summary>\n",
    "\n",
    "Enumerate all outcomes. Expected value is the sum of the probability of each outcome multiplied by the outcome itself.\n",
    "</details>"
   ]
  },
  {
   "cell_type": "markdown",
   "id": "dc663055-7bba-448e-a2ff-a862c5f97a8a",
   "metadata": {
    "deletable": false,
    "editable": true,
    "nbgrader": {
     "cell_type": "markdown",
     "checksum": "4073e36cb38068966494b0dc5df25ed3",
     "grade": true,
     "grade_id": "cell-fa967c3abf56b553",
     "locked": false,
     "points": 1,
     "schema_version": 3,
     "solution": true,
     "task": false
    },
    "slideshow": {
     "slide_type": ""
    },
    "tags": []
   },
   "source": [
    "YOUR ANSWER HERE"
   ]
  },
  {
   "cell_type": "markdown",
   "id": "d8684b3e-827c-47fa-92c2-0022fd38e2c0",
   "metadata": {
    "deletable": false,
    "editable": false,
    "nbgrader": {
     "cell_type": "markdown",
     "checksum": "98467e43e3a6da387c441545284e4a23",
     "grade": false,
     "grade_id": "cell-956a7d85b38c1336",
     "locked": true,
     "schema_version": 3,
     "solution": false,
     "task": false
    },
    "tags": []
   },
   "source": [
    "### Q 4B [0.5 pt]\n",
    "\n",
    "Now assume that the agent's shelter is to right of this track. Accordingly, the agent is three times more likely to take a step to the right ($0.75$) than to the left ($1 - 0.75 = 0.25$). \n",
    "\n",
    "What is the expected position of the agent after 4 steps?  (The hint in 4A continues to be applicable.)\n"
   ]
  },
  {
   "cell_type": "markdown",
   "id": "ca6995fb-1556-4c35-b307-9a484c39a9b3",
   "metadata": {
    "deletable": false,
    "editable": true,
    "nbgrader": {
     "cell_type": "markdown",
     "checksum": "f1dcd84265a0f0dbab81ca6790c81b91",
     "grade": true,
     "grade_id": "cell-6b9bd09fce2be8cd",
     "locked": false,
     "points": 0.5,
     "schema_version": 3,
     "solution": true,
     "task": false
    },
    "slideshow": {
     "slide_type": ""
    },
    "tags": []
   },
   "source": [
    "YOUR ANSWER HERE"
   ]
  },
  {
   "cell_type": "markdown",
   "id": "de3f4d67-2cac-4764-942d-236b081eb929",
   "metadata": {
    "deletable": false,
    "editable": false,
    "nbgrader": {
     "cell_type": "markdown",
     "checksum": "31d891bbd5b5cf255bf322edbf563bac",
     "grade": false,
     "grade_id": "cell-00432646db99d955",
     "locked": true,
     "schema_version": 3,
     "solution": false,
     "task": false
    },
    "tags": []
   },
   "source": [
    "## Question 5"
   ]
  },
  {
   "cell_type": "markdown",
   "id": "1bfbb996-269d-4704-809b-53ed37403978",
   "metadata": {
    "deletable": false,
    "editable": false,
    "nbgrader": {
     "cell_type": "markdown",
     "checksum": "3568aaf59e462e418e7bb0613ebeb222",
     "grade": false,
     "grade_id": "cell-43a4713d5ea5053e",
     "locked": true,
     "schema_version": 3,
     "solution": false,
     "task": false
    }
   },
   "source": [
    "Consider the following four random variables\n",
    "\n",
    "- Count: # of questions that come up in a lecture\n",
    "- Duration: lecture duration\n",
    "- Size: size of the classroom\n",
    "- Building: whether the classroom is in 100 College st. or the SSS Hall"
   ]
  },
  {
   "cell_type": "markdown",
   "id": "59c9d2ef-59db-4c0e-938a-91f2f2377ddf",
   "metadata": {},
   "source": [
    "### Q 5A [1 pt]\n",
    "\n",
    "Write independence, conditional independence, and dependence assumptions we can plausibly make between these four random variables. List a total of 4 assumptions.  \n",
    "\n",
    "```md\n",
    "- Independence: Variable X is independent of Variable Y\n",
    "- Conditional independence: Variable X is independent of Variable Y given Variable Z\n",
    "- Dependence: Variable X depends on Variables Y\n",
    "```"
   ]
  },
  {
   "cell_type": "markdown",
   "id": "1bf1d448-937b-4b38-8fcd-40bbb936f4f7",
   "metadata": {
    "deletable": false,
    "editable": true,
    "nbgrader": {
     "cell_type": "markdown",
     "checksum": "d31171e011276c5778940486d7350502",
     "grade": true,
     "grade_id": "cell-a24f4e52ba514806",
     "locked": false,
     "points": 1,
     "schema_version": 3,
     "solution": true,
     "task": false
    },
    "slideshow": {
     "slide_type": ""
    },
    "tags": []
   },
   "source": [
    "YOUR ANSWER HERE"
   ]
  },
  {
   "cell_type": "markdown",
   "id": "6a0998af-2930-4ede-98f0-c5747f87afa1",
   "metadata": {
    "deletable": false,
    "editable": false,
    "nbgrader": {
     "cell_type": "markdown",
     "checksum": "0d27122f04ce754539060e68753b266b",
     "grade": false,
     "grade_id": "cell-5af8bc8702aeba81",
     "locked": true,
     "schema_version": 3,
     "solution": false,
     "task": false
    },
    "tags": []
   },
   "source": [
    "### Q 5B [1 pt]\n",
    "\n",
    "Considering these assumptions between these random variables, write a factorization of the following joint probability distribution \n",
    "\n",
    "$P(\\textrm{Count, Duration, Size, Building})$."
   ]
  },
  {
   "cell_type": "markdown",
   "id": "3a0b8b75-2bd6-46fe-8adf-b985c103bdfd",
   "metadata": {
    "deletable": false,
    "editable": true,
    "nbgrader": {
     "cell_type": "markdown",
     "checksum": "58b37ca493cd1c0997f8e0ba99990edf",
     "grade": true,
     "grade_id": "cell-0b131894dfb72261",
     "locked": false,
     "points": 1,
     "schema_version": 3,
     "solution": true,
     "task": false
    },
    "slideshow": {
     "slide_type": ""
    },
    "tags": []
   },
   "source": [
    "YOUR ANSWER HERE"
   ]
  },
  {
   "cell_type": "markdown",
   "id": "7ef1eeda-7911-408d-911e-8ccb4aa70598",
   "metadata": {
    "deletable": false,
    "editable": false,
    "nbgrader": {
     "cell_type": "markdown",
     "checksum": "b3b7fb171e2f29c577762c43991bf49f",
     "grade": false,
     "grade_id": "cell-d6331cf689eb29ea",
     "locked": true,
     "schema_version": 3,
     "solution": false,
     "task": false
    },
    "tags": []
   },
   "source": [
    "### Q 5C [1 pt]\n",
    "\n",
    "For each component of your factorization [prior(s) and conditional(s)], suggest appropriate parametric probability distributions to model each factor and a brief reason for your choice."
   ]
  },
  {
   "cell_type": "markdown",
   "id": "bd5fcd8c-0ad2-4115-836a-bf02e19beb1d",
   "metadata": {
    "deletable": false,
    "editable": true,
    "nbgrader": {
     "cell_type": "markdown",
     "checksum": "4c3d5810211b9e65b966744ae19b4315",
     "grade": true,
     "grade_id": "cell-078d6eba87d40b6f",
     "locked": false,
     "points": 1,
     "schema_version": 3,
     "solution": true,
     "task": false
    },
    "slideshow": {
     "slide_type": ""
    },
    "tags": []
   },
   "source": [
    "YOUR ANSWER HERE"
   ]
  }
 ],
 "metadata": {
  "kernelspec": {
   "display_name": "Algorithms of the Mind (Julia) 1.9.2",
   "language": "julia",
   "name": "atom-jl-1.9"
  },
  "language_info": {
   "file_extension": ".jl",
   "mimetype": "application/julia",
   "name": "julia",
   "version": "1.9.2"
  },
  "widgets": {
   "application/vnd.jupyter.widget-state+json": {
    "state": {},
    "version_major": 2,
    "version_minor": 0
   }
  }
 },
 "nbformat": 4,
 "nbformat_minor": 5
}
