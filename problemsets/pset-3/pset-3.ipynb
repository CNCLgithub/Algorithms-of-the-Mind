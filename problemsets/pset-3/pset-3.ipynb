{
 "cells": [
  {
   "cell_type": "markdown",
   "id": "67d0d1f2",
   "metadata": {
    "deletable": false,
    "editable": false,
    "nbgrader": {
     "cell_type": "markdown",
     "checksum": "ec6ad1a3b11de3d9eab49b5f5eaacbac",
     "grade": false,
     "grade_id": "cell-8a8cd8b757aa43d0",
     "locked": true,
     "schema_version": 3,
     "solution": false,
     "task": false
    },
    "tags": []
   },
   "source": [
    "# Algorithms of the Mind\n",
    "\n",
    "**Instructions:** Answer all questions below. Be sure to show all intermediate steps and equations that you used to arrive at each answer. Please type your answers (including your equations). For coding questions, your code and its execution will do.\n",
    "\n",
    "**How to submit?:** Execute all blocks of your Jupyter notebook, save it, and submit your assignment using Canvas.\n",
    "\n",
    "<div class=\"alert alert-info\">\n",
    "    <strong>Note</strong>\n",
    "\n",
    "Your answers in each question can be a combination of markdown and Julia code.\n",
    "</div>"
   ]
  },
  {
   "cell_type": "markdown",
   "id": "d80cd45e",
   "metadata": {
    "deletable": false,
    "editable": false,
    "nbgrader": {
     "cell_type": "markdown",
     "checksum": "b32401381437e041d3866a9c8f7517bb",
     "grade": false,
     "grade_id": "cell-0cdff38fa9dd89b8",
     "locked": true,
     "schema_version": 3,
     "solution": false,
     "task": false
    },
    "tags": []
   },
   "source": [
    "## Preliminaries"
   ]
  },
  {
   "cell_type": "code",
   "execution_count": null,
   "id": "642fd081",
   "metadata": {
    "tags": []
   },
   "outputs": [],
   "source": [
    "NAME = \"\"\n",
    "NETID = \"\""
   ]
  },
  {
   "cell_type": "markdown",
   "id": "20d35c40",
   "metadata": {
    "deletable": false,
    "editable": false,
    "nbgrader": {
     "cell_type": "markdown",
     "checksum": "862c67f6e7489bc2c56f69c85f568715",
     "grade": false,
     "grade_id": "cell-24c93db6109b5e4e",
     "locked": true,
     "schema_version": 3,
     "solution": false,
     "task": false
    },
    "tags": []
   },
   "source": [
    "Next, please take the honor pledge by reordering the following phrases so that it makes sense to you, and then typing the resulting full sentence.\n",
    "\n",
    "- and that this work is my own.\n",
    "- or received\n",
    "- I have not given\n",
    "- I affirm that\n",
    "- on this assignment,\n",
    "- any unauthorized help "
   ]
  },
  {
   "cell_type": "code",
   "execution_count": null,
   "id": "2697f514",
   "metadata": {
    "tags": []
   },
   "outputs": [],
   "source": [
    "HONOR_PLEDGE = \"\""
   ]
  },
  {
   "cell_type": "code",
   "execution_count": null,
   "id": "f12279ec",
   "metadata": {
    "deletable": false,
    "editable": false,
    "nbgrader": {
     "cell_type": "code",
     "checksum": "f8112be3d89ed34ec1d73eed2ccd2001",
     "grade": true,
     "grade_id": "cell-f58af99f51780260",
     "locked": true,
     "points": 0,
     "schema_version": 3,
     "solution": false,
     "task": false
    },
    "tags": []
   },
   "outputs": [],
   "source": []
  },
  {
   "cell_type": "markdown",
   "id": "71e14193",
   "metadata": {},
   "source": [
    "---"
   ]
  },
  {
   "cell_type": "markdown",
   "id": "ef23394e-ce23-4394-bcdc-aa4f78e0f75b",
   "metadata": {
    "deletable": false,
    "editable": false,
    "nbgrader": {
     "cell_type": "markdown",
     "checksum": "c101650c0ab7fa1bff922f9d4f7d3805",
     "grade": false,
     "grade_id": "cell-7a9a04f39bdf58b5",
     "locked": true,
     "schema_version": 3,
     "solution": false,
     "task": false
    }
   },
   "source": [
    "# Problem Set 3\n",
    "\n",
    "<div class=\"alert alert-info\" markdown=\"1\">\n",
    "    <strong>A note on resources:</strong>\n",
    "\n",
    "For this problem set, on Grace, request a job with 2 or 4 cores (instead of 1), as it has certain computationally-heavy portions. \n",
    "</div>"
   ]
  },
  {
   "cell_type": "code",
   "execution_count": null,
   "id": "09820c12-4b03-496f-99a5-3c2c0c3e59ae",
   "metadata": {
    "deletable": false,
    "editable": false,
    "nbgrader": {
     "cell_type": "code",
     "checksum": "2194c02eef89ecf7d2325319b71c0302",
     "grade": false,
     "grade_id": "cell-d8a1fef227066144",
     "locked": true,
     "schema_version": 3,
     "solution": false,
     "task": false
    }
   },
   "outputs": [],
   "source": [
    "import Pkg\n",
    "# Pkg.activate(\"psyc261\")\n",
    "Pkg.add([\"Distributions\"])\n",
    "# load necessary packages for this problem set\n",
    "# Note that running this for the first time might take a good 15 mins &ndash; plan ahead\n",
    "using Random\n",
    "using Gen\n",
    "using Plots\n",
    "using DelimitedFiles"
   ]
  },
  {
   "cell_type": "markdown",
   "id": "324182bd-ea96-473f-b831-8f22f73d7ff0",
   "metadata": {
    "deletable": false,
    "editable": false,
    "nbgrader": {
     "cell_type": "markdown",
     "checksum": "c1231ea4d448ee3721a006eba24a3280",
     "grade": false,
     "grade_id": "cell-baf73958cdae5a05",
     "locked": true,
     "schema_version": 3,
     "solution": false,
     "task": false
    }
   },
   "source": [
    "## Question 1: Perception in a rectangle world"
   ]
  },
  {
   "attachments": {},
   "cell_type": "markdown",
   "id": "136a6873-03b5-4ebd-9513-410a44dc0e52",
   "metadata": {
    "deletable": false,
    "editable": false,
    "nbgrader": {
     "cell_type": "markdown",
     "checksum": "c973192e34507b9d1f6f0a2142e5c658",
     "grade": false,
     "grade_id": "cell-a57d7430905e7fbc",
     "locked": true,
     "schema_version": 3,
     "solution": false,
     "task": false
    }
   },
   "source": [
    "In this question, you will develop a perception system that operates in a two-dimensional grayscale world where all objects are axis-aligned rectangular frames (i.e., unfilled rectangles) and there is just one such object in a given scene. An example scene in this world is illustrated below. Given such an input, the perception system should provide a posterior over where the object is, its constrast and size.\n",
    "\n",
    "<img src=\"./images/examples.png\"  width=\"500\"/>"
   ]
  },
  {
   "cell_type": "markdown",
   "id": "7d94c46e-49ea-4998-a03b-def668b0c460",
   "metadata": {
    "deletable": false,
    "editable": false,
    "nbgrader": {
     "cell_type": "markdown",
     "checksum": "bc563476ee612df26c4f7f2d456e0ab3",
     "grade": false,
     "grade_id": "cell-17e3cfdde94d444b",
     "locked": true,
     "schema_version": 3,
     "solution": false,
     "task": false
    }
   },
   "source": [
    "### Q 1A [4 pts]"
   ]
  },
  {
   "cell_type": "markdown",
   "id": "eec3c64d-6bef-44b7-9371-22002ac6b070",
   "metadata": {
    "deletable": false,
    "editable": false,
    "nbgrader": {
     "cell_type": "markdown",
     "checksum": "6dd239abe7211d4802e317f59428a5fb",
     "grade": false,
     "grade_id": "cell-2539817b5b13a367",
     "locked": true,
     "schema_version": 3,
     "solution": false,
     "task": false
    }
   },
   "source": [
    "Your first task is to write a generative model of this process. You will do this in the generative function `two_d_world`, below.\n",
    "\n",
    "Here are the basic assumptions your generative model should reflect.\n",
    "\n",
    "* Assume that the world size is 10x10 pixels.\n",
    "* Assume that there is one object in each scene in this world. \n",
    "* An object's position, in particular its bottom-left corner, can be anywhere in the world. So in a lot of the scenes, the object will only be partially visible. \n",
    "* Each dimension of the objects in this world follow a uniform distribution between 3 to 7 pixels. Notice that a rectangle cannot have a negative dimension.\n",
    "* An object's brightness can vary between 0.1 and 1 with a uniform distribution, where the background brigthness is set to 0. \n",
    "* Finally, assume that the observations are corrupted by some small gaussian noise (std = 0.05)\n",
    "\n",
    "<details class=\"alert alert-info\" markdown=\"1\">\n",
    "    <summary><strong>Hint</strong></summary>\n",
    "\n",
    "To make our variational approximation less of a pain, we recommend setting up each of your priors to be uniform distributions `[0, 1]`, then scaling them before \"rendering\" your object.\n",
    "</details>\n",
    "\n",
    "We provide examples for two of the relevant random variables &ndash; the y-coordinate of the south-west (bottom-left) of the object and the height of the object.\n",
    "\n",
    "```julia\n",
    "# draw where the object's y coordinate will be\n",
    "SW_row ~ uniform(0, 1)\n",
    "# draw the height of the object\n",
    "h ~ uniform(0, 1)\n",
    "\n",
    "# scale the y-coordinate so that it is an integer (we will use this to index into a Matrix of 10x10, and lies between 1 and 10).\n",
    "scaled_SW_row = ceil(Int, SW_row * 10)\n",
    "# scale the height so that it lies between 3 and 7 and is an integer\n",
    "scaled_h = round(Int, height * 4 + 3)\n",
    "\n",
    "```"
   ]
  },
  {
   "cell_type": "code",
   "execution_count": null,
   "id": "a81abaa8-da82-4e87-beeb-3908fa8a1116",
   "metadata": {
    "deletable": false,
    "nbgrader": {
     "cell_type": "code",
     "checksum": "00e26668060583cc62ca9c04374f6c97",
     "grade": true,
     "grade_id": "cell-c9cbcfdbd61c74ae",
     "locked": false,
     "points": 3.5,
     "schema_version": 3,
     "solution": true,
     "task": false
    }
   },
   "outputs": [],
   "source": [
    "N_COLS = 10\n",
    "N_ROWS = 10\n",
    "\n",
    "@gen function two_d_world()\n",
    "    # your code here\n",
    "    throw(Exception(\"Not Implemented.\"))\n",
    "end\n",
    ";"
   ]
  },
  {
   "cell_type": "markdown",
   "id": "77aeaf44-342b-479b-84fc-fad05036f8aa",
   "metadata": {
    "deletable": false,
    "editable": false,
    "nbgrader": {
     "cell_type": "markdown",
     "checksum": "56afba4ce6a606e53ad309e945e13238",
     "grade": false,
     "grade_id": "cell-0d57cb4181f6a45f",
     "locked": true,
     "schema_version": 3,
     "solution": false,
     "task": false
    }
   },
   "source": [
    "Below is a function to visualize a given draw from your generative model."
   ]
  },
  {
   "cell_type": "code",
   "execution_count": null,
   "id": "b13597ce-81ae-46eb-b345-6ecfafb1f1f5",
   "metadata": {
    "deletable": false,
    "editable": false,
    "nbgrader": {
     "cell_type": "code",
     "checksum": "f6e4b57f6e69d4bfccdda8db240c8dd8",
     "grade": false,
     "grade_id": "cell-6e23e7a569de5fd5",
     "locked": true,
     "schema_version": 3,
     "solution": false,
     "task": false
    }
   },
   "outputs": [],
   "source": [
    "function visualize(input::Matrix{<:Real})\n",
    "    heatmap(input, clim=(0,1), thickness_scaling=3.5, size=(1600, 1300), aspect=:equal)\n",
    "end\n",
    ";"
   ]
  },
  {
   "cell_type": "markdown",
   "id": "b42ffcf7-e23f-4829-a322-135058032ef9",
   "metadata": {
    "deletable": false,
    "editable": false,
    "nbgrader": {
     "cell_type": "markdown",
     "checksum": "6974ab297dc73bc6572c0501e2f0fc5c",
     "grade": false,
     "grade_id": "cell-8f33abeccc81a4d3",
     "locked": true,
     "schema_version": 3,
     "solution": false,
     "task": false
    }
   },
   "source": [
    "Draw samples from your generative model and visualize them (using the `visualize` function above)."
   ]
  },
  {
   "cell_type": "code",
   "execution_count": null,
   "id": "5131c9a3-2392-4862-a8c5-560dd973220d",
   "metadata": {
    "deletable": false,
    "nbgrader": {
     "cell_type": "code",
     "checksum": "577ea5079cc687c0f00d21d429bed14e",
     "grade": true,
     "grade_id": "cell-496e88c42fe0d5c0",
     "locked": false,
     "points": 0.5,
     "schema_version": 3,
     "solution": true,
     "task": false
    }
   },
   "outputs": [],
   "source": [
    "Random.seed!(42)\n",
    "# your code here\n",
    "throw(Exception(\"Not Implemented.\"))"
   ]
  },
  {
   "cell_type": "markdown",
   "id": "74021d94-42e4-4a09-b18c-2056b33d702c",
   "metadata": {
    "deletable": false,
    "editable": false,
    "nbgrader": {
     "cell_type": "markdown",
     "checksum": "adb2706b16e1a93a60712f998e8b3cd3",
     "grade": false,
     "grade_id": "cell-0295b74e8092c541",
     "locked": true,
     "schema_version": 3,
     "solution": false,
     "task": false
    }
   },
   "source": [
    "### Q 1B [6 pts]"
   ]
  },
  {
   "cell_type": "markdown",
   "id": "3c4ac5f1-234f-4f43-b888-373751d3df1b",
   "metadata": {
    "deletable": false,
    "editable": false,
    "nbgrader": {
     "cell_type": "markdown",
     "checksum": "11b8e0328051d071cc28d825cea623cf",
     "grade": false,
     "grade_id": "cell-23b1d2a354b7889b",
     "locked": true,
     "schema_version": 3,
     "solution": false,
     "task": false
    }
   },
   "source": [
    "Now implement an amortized variational approximation of this generative model, parametrized with a deep neural network conditioning this approximation to input observations. You will do this in the generative function `neural_amortized_inference`, below.\n",
    "\n",
    "Assume that the neural network takes as input a vector &ndash; so, the observations should be flattened to vectors (from 2D matrices). Your network architecture should be rather simple: one hidden layer and one output layer. The hidden layer should be activated with a `tanh` non-linearity (provided in the code block below).\n",
    "\n",
    "The output layer should consist of all of the variational family parameters. \n",
    "\n",
    "<details class=\"alert alert-info\" markdown=\"1\">\n",
    "    <summary>Hint</summary>\n",
    "\n",
    "As for your variational approximation, for a random variable `x ~ uniform(0,1)` in your generative model (`two_d_world`), a reasonable choice would be `x ~ beta(shape, scale)`. Your neural network would be outputting the parameters of the beta, but you'd need to be careful to ensure that these parameters are non-negative. \n",
    "</details>"
   ]
  },
  {
   "cell_type": "code",
   "execution_count": null,
   "id": "77e8477f-bf43-4658-b625-66df330ea98c",
   "metadata": {
    "deletable": false,
    "nbgrader": {
     "cell_type": "code",
     "checksum": "30ddcf694484300a897c90d79fa4b1da",
     "grade": true,
     "grade_id": "cell-0494777d8abaef58",
     "locked": false,
     "points": 6,
     "schema_version": 3,
     "solution": true,
     "task": false
    }
   },
   "outputs": [],
   "source": [
    "σ(x) = tanh.(x)\n",
    "\n",
    "@gen function neural_amortized_inference(input::Vector{Float64})\n",
    "    # write out the architecture of your model using `@params` to define weights and biases\n",
    "    # and then the forward pass (the matrix multiplications, non-linearity etc.)\n",
    "    # your code here\n",
    "    throw(Exception(\"Not Implemented.\"))\n",
    "\n",
    "    # non-linear hidden layer\n",
    "    # your code here\n",
    "    throw(Exception(\"Not Implemented.\"))\n",
    "    # output layer\n",
    "    # your code here\n",
    "    throw(Exception(\"Not Implemented.\"))\n",
    "\n",
    "    # collect the variational approximation parameters from the output layer\n",
    "    # your code here\n",
    "    throw(Exception(\"Not Implemented.\"))\n",
    "\n",
    "    # make the relevant random choices with these parameters\n",
    "    # your code here\n",
    "    throw(Exception(\"Not Implemented.\"))\n",
    "\n",
    "    # your code here\n",
    "    throw(Exception(\"Not Implemented.\"))\n",
    "    return\n",
    "end\n",
    ";"
   ]
  },
  {
   "cell_type": "markdown",
   "id": "9d84fbea-984f-4a22-a5fa-d8ee58eed262",
   "metadata": {
    "deletable": false,
    "editable": false,
    "nbgrader": {
     "cell_type": "markdown",
     "checksum": "399a6e152656fc3640ba83c19edbbcca",
     "grade": false,
     "grade_id": "cell-fb7f76abb73fd2a2",
     "locked": true,
     "schema_version": 3,
     "solution": false,
     "task": false
    }
   },
   "source": [
    "### Q 1C [1.5 pts]\n",
    "\n",
    "Next create a data generator function, called `data_generator`. Notice that this function takes no arguments. In each call, it will simulate the generative model of our world once. This will yield a pair of input and output for training the neural network based estimator `neural_amortized_inference`."
   ]
  },
  {
   "cell_type": "code",
   "execution_count": null,
   "id": "f4e83623-5c41-4dd5-b25d-404317ee8895",
   "metadata": {
    "deletable": false,
    "nbgrader": {
     "cell_type": "code",
     "checksum": "8d5a32cc1269f973a58f2b66ab868985",
     "grade": true,
     "grade_id": "cell-aae51ff9f01be369",
     "locked": false,
     "points": 1.5,
     "schema_version": 3,
     "solution": true,
     "task": false
    }
   },
   "outputs": [],
   "source": [
    "function data_generator()\n",
    "    tr = Gen.simulate(two_d_world, ())\n",
    "\n",
    "    # record the \"observations\" (inputs to the NN model)\n",
    "    # your code here\n",
    "    throw(Exception(\"Not Implemented.\"))\n",
    "    \n",
    "    # record the random choices (outputs of the NN model)\n",
    "    # your code here\n",
    "    throw(Exception(\"Not Implemented.\"))\n",
    "    \n",
    "    return ((obs,), choices)\n",
    "end\n",
    ";"
   ]
  },
  {
   "cell_type": "markdown",
   "id": "9ff387fc-6e7d-4a2c-9eb8-af00b639999a",
   "metadata": {
    "deletable": false,
    "editable": false,
    "nbgrader": {
     "cell_type": "markdown",
     "checksum": "a3565f3bb07d8b7b68ccc9cff7d5db34",
     "grade": false,
     "grade_id": "cell-8cdc1dc932205f0b",
     "locked": true,
     "schema_version": 3,
     "solution": false,
     "task": false
    }
   },
   "source": [
    "### Q 1D [3 pts]\n",
    "\n",
    "Initialize the `params` in the `neural_amortized_inference`. You will have to pay attention to your dimensions.\n",
    "\n",
    "Choose the dimensionality of the hidden layer to be 200. Use the `init_weight` function (provided in the code block below) to initialize your weight matrices. "
   ]
  },
  {
   "cell_type": "code",
   "execution_count": null,
   "id": "9bfa0c40-292c-41f1-95cc-87a567c1cd48",
   "metadata": {
    "deletable": false,
    "nbgrader": {
     "cell_type": "code",
     "checksum": "522453e884f303a2c9336fcdc14b3e67",
     "grade": true,
     "grade_id": "cell-a952a8d72ecd8908",
     "locked": false,
     "points": 3,
     "schema_version": 3,
     "solution": true,
     "task": false
    }
   },
   "outputs": [],
   "source": [
    "Random.seed!(42)\n",
    "# a function for randomly initializing the weight matrices\n",
    "init_weight(shape...) = (1. / sqrt(shape[2])) * randn(shape...)\n",
    "\n",
    "# choose the number of units each layer of the network\n",
    "# your code here\n",
    "throw(Exception(\"Not Implemented.\"))\n",
    "\n",
    "# create and initialize W1 and W2\n",
    "# your code here\n",
    "throw(Exception(\"Not Implemented.\"))\n",
    "\n",
    "# now initialize the params of the data-driven proposal function\n",
    "init_param!(neural_amortized_inference, :W1, init_W1)\n",
    "init_param!(neural_amortized_inference, :b1, zeros(num_units_hidden_layer))\n",
    "init_param!(neural_amortized_inference, :W2, init_W2)\n",
    "init_param!(neural_amortized_inference, :b2, zeros(10))\n",
    ";"
   ]
  },
  {
   "cell_type": "code",
   "execution_count": null,
   "id": "f91547d5-6f2c-4955-aea9-3633ccd2d6d4",
   "metadata": {
    "deletable": false,
    "editable": false,
    "nbgrader": {
     "cell_type": "code",
     "checksum": "e6b2a01f44fa94dc4a93a86f35b1e5cb",
     "grade": true,
     "grade_id": "cell-c6ba401fc1d87f0b",
     "locked": true,
     "points": 0,
     "schema_version": 3,
     "solution": false,
     "task": false
    }
   },
   "outputs": [],
   "source": []
  },
  {
   "cell_type": "markdown",
   "id": "a6a17f0d-73da-4dab-934d-fd3b2ed66d74",
   "metadata": {
    "deletable": false,
    "editable": false,
    "nbgrader": {
     "cell_type": "markdown",
     "checksum": "ce907db96ee4284e5ce9283c3871f8b9",
     "grade": false,
     "grade_id": "cell-9c6734a1dc64898f",
     "locked": true,
     "schema_version": 3,
     "solution": false,
     "task": false
    }
   },
   "source": [
    "### Q 1E [1 pt]\n",
    "\n",
    "Create an optimizer for updating the weights using `Gen.FixedStepGradientDescent` with a learning rate of `1e-5`. \n",
    "\n",
    "Train your amortized estimator using this optimizer using `Gen.train!`. \n",
    "\n",
    "Use the following arguments for the `train!` function:\n",
    "```\n",
    "num_epoch=200\n",
    "epoch_size=1000\n",
    "num_minibatch=100\n",
    "minibatch_size=10\n",
    "evaluation_size=100\n",
    "verbose=true\n",
    "```\n",
    "\n"
   ]
  },
  {
   "cell_type": "code",
   "execution_count": null,
   "id": "b5390db6-968f-4f94-8034-858cc8f07157",
   "metadata": {
    "deletable": false,
    "nbgrader": {
     "cell_type": "code",
     "checksum": "79e8061d84eafd7298c75a430ab84e04",
     "grade": true,
     "grade_id": "cell-5ac90910c00dfe75",
     "locked": false,
     "points": 1,
     "schema_version": 3,
     "solution": true,
     "task": false
    }
   },
   "outputs": [],
   "source": [
    "# get a gradient-based optimizer and train!\n",
    "# your code here\n",
    "throw(Exception(\"Not Implemented.\"))"
   ]
  },
  {
   "cell_type": "markdown",
   "id": "ee15a965-3275-492b-b4c2-8b3d376e41ef",
   "metadata": {
    "deletable": false,
    "editable": false,
    "nbgrader": {
     "cell_type": "markdown",
     "checksum": "06bd45f7e7b83098d16d71fa3b6a6eb7",
     "grade": false,
     "grade_id": "cell-66aede58b2e8b7f7",
     "locked": true,
     "schema_version": 3,
     "solution": false,
     "task": false
    }
   },
   "source": [
    "Plot the loss, i.e., the return value of the `train!` function."
   ]
  },
  {
   "cell_type": "code",
   "execution_count": null,
   "id": "760c6927-dfbd-4d79-80b9-701840fe2992",
   "metadata": {
    "deletable": false,
    "nbgrader": {
     "cell_type": "code",
     "checksum": "b1ca134696e9c232ed79ec3719c00259",
     "grade": true,
     "grade_id": "cell-5a6fd6bee1ae8dca",
     "locked": false,
     "points": 0,
     "schema_version": 3,
     "solution": true,
     "task": false
    }
   },
   "outputs": [],
   "source": [
    "# your code here\n",
    "throw(Exception(\"Not Implemented.\"))"
   ]
  },
  {
   "cell_type": "markdown",
   "id": "80982b6f-515d-4cb5-9a56-960f3312677f",
   "metadata": {
    "deletable": false,
    "editable": false,
    "nbgrader": {
     "cell_type": "markdown",
     "checksum": "f08d55df30fcf5f1e836fada33263c41",
     "grade": false,
     "grade_id": "cell-869addb46eafef30",
     "locked": true,
     "schema_version": 3,
     "solution": false,
     "task": false
    }
   },
   "source": [
    "The following code loads a test observation and visualizes it. "
   ]
  },
  {
   "cell_type": "code",
   "execution_count": null,
   "id": "5e044fc2-e5af-41c5-a9da-69866c2f3b89",
   "metadata": {
    "deletable": false,
    "editable": false,
    "nbgrader": {
     "cell_type": "code",
     "checksum": "8ee83c841320a5d2c8013ee9f1ad0a0a",
     "grade": false,
     "grade_id": "cell-b7e2559ea2606d3f",
     "locked": true,
     "schema_version": 3,
     "solution": false,
     "task": false
    }
   },
   "outputs": [],
   "source": [
    "obs_matrix = readdlm(\"test-scene.txt\")\n",
    "obs = vec(obs_matrix)\n",
    "obs = convert(Vector{Float64}, obs)\n",
    "p1 = visualize(obs_matrix)"
   ]
  },
  {
   "cell_type": "markdown",
   "id": "b58833f1-1195-4d35-8af1-38f1e35714fb",
   "metadata": {
    "deletable": false,
    "editable": false,
    "nbgrader": {
     "cell_type": "markdown",
     "checksum": "308595451d6502fca199bc8dd62f07dd",
     "grade": false,
     "grade_id": "cell-8ba952647734d848",
     "locked": true,
     "schema_version": 3,
     "solution": false,
     "task": false
    }
   },
   "source": [
    "### Q 1F [2.5 pts] <a id=\"q-1f\"></a>\n",
    "\n",
    "Input this observation to your amortized inference module, `neural_amortized_inference`. Store the trace (call this inference trace).\n",
    "\n",
    "Generate a new trace with your generative model `two_d_world` constrained by the choices in your inference trace.\n",
    "\n",
    "Visualize the `:pred` in that new trace (`new_tr`), which is the visualization of a sample from your amortized posterior. "
   ]
  },
  {
   "cell_type": "code",
   "execution_count": null,
   "id": "2e75f930-02a4-4787-b033-173525bf2051",
   "metadata": {
    "deletable": false,
    "nbgrader": {
     "cell_type": "code",
     "checksum": "17ddaec1b5cc634cf0926cced05f7a19",
     "grade": true,
     "grade_id": "cell-0c4911ec82e2aa2a",
     "locked": false,
     "points": 2.5,
     "schema_version": 3,
     "solution": true,
     "task": false
    }
   },
   "outputs": [],
   "source": [
    "# your code here\n",
    "throw(Exception(\"Not Implemented.\"))\n",
    "\n",
    "p2 = visualize(new_tr[:pred])\n",
    "plot(p1, p2, size=(3000, 1200))"
   ]
  },
  {
   "cell_type": "markdown",
   "id": "22d548c8-5f80-4055-b1b4-b62254a6a693",
   "metadata": {
    "deletable": false,
    "editable": false,
    "nbgrader": {
     "cell_type": "markdown",
     "checksum": "32bef96bf3ad8a9976271bfa6dfe636b",
     "grade": false,
     "grade_id": "cell-9508b9e9ed4e509d",
     "locked": true,
     "schema_version": 3,
     "solution": false,
     "task": false
    }
   },
   "source": [
    "### Q 1G [1 pts]\n",
    "\n",
    "Run your code from your answer above ([Q 1F](#q-1f)) to visualize multiple samples from your posterior. In English, describe what your approximate posterior gets and what it doesn't get: Is it generally at the right ballpark? In what ways its estimates vary from sample to sample? (1-2 sentences)"
   ]
  },
  {
   "cell_type": "markdown",
   "id": "2574e59c-dd2f-4d80-8301-ff2c5bcf42cb",
   "metadata": {
    "deletable": false,
    "nbgrader": {
     "cell_type": "markdown",
     "checksum": "debfc81d2bb3c02ae111e71b90d675aa",
     "grade": true,
     "grade_id": "cell-77e3c44d0d04b241",
     "locked": false,
     "points": 1,
     "schema_version": 3,
     "solution": true,
     "task": false
    }
   },
   "source": [
    "YOUR ANSWER HERE"
   ]
  },
  {
   "cell_type": "markdown",
   "id": "41cb89fe-dd91-458b-a114-771fbafaf3a7",
   "metadata": {
    "deletable": false,
    "editable": false,
    "nbgrader": {
     "cell_type": "markdown",
     "checksum": "e5985f116532864df7891960fb84fb2a",
     "grade": false,
     "grade_id": "cell-68ca7b46519d2f9c",
     "locked": true,
     "schema_version": 3,
     "solution": false,
     "task": false
    }
   },
   "source": [
    "### Q 1H [1 pts]\n",
    "\n",
    "Suggest two ways in which you could improve the estimated posterior. 1 sentence per suggestion."
   ]
  },
  {
   "cell_type": "markdown",
   "id": "df9920a3-060b-4b32-832c-1790b3a62e65",
   "metadata": {
    "deletable": false,
    "nbgrader": {
     "cell_type": "markdown",
     "checksum": "74187679325329e1746a65bca789c3e3",
     "grade": true,
     "grade_id": "cell-da37ddae760959bf",
     "locked": false,
     "points": 1,
     "schema_version": 3,
     "solution": true,
     "task": false
    }
   },
   "source": [
    "YOUR ANSWER HERE"
   ]
  },
  {
   "cell_type": "markdown",
   "id": "ec3001e5-d02e-4838-bf5a-b0286bf00144",
   "metadata": {
    "deletable": false,
    "editable": false,
    "nbgrader": {
     "cell_type": "markdown",
     "checksum": "0f881b2a315849b2ef167206a0eaa858",
     "grade": false,
     "grade_id": "cell-e785e3bbc1d46bc8",
     "locked": true,
     "schema_version": 3,
     "solution": false,
     "task": false
    }
   },
   "source": [
    "## Question 2\n",
    "\n",
    "One of the readings we went over in class was the following. \n",
    "\n",
    "Dasgupta, I., Schulz, E., Tenenbaum, J. B., & Gershman, S. J. (2020). A theory of learning to infer. *Psychological review, 127(3),* 412. [\\[link\\]](https://paperpile.com/app/p/45edc04e-8c3e-0fc4-9c19-4e772cc8c079)"
   ]
  },
  {
   "cell_type": "markdown",
   "id": "9f0535dc-d7aa-4a59-952a-beb21dbb73f8",
   "metadata": {
    "deletable": false,
    "editable": false,
    "nbgrader": {
     "cell_type": "markdown",
     "checksum": "d9bf5ffbc2f0a8438e3a08b72a9891de",
     "grade": false,
     "grade_id": "cell-252ebc124d4981df",
     "locked": true,
     "schema_version": 3,
     "solution": false,
     "task": false
    }
   },
   "source": [
    "### Q 2A [2 pts]\n",
    "What does \"underreaction to prior\" mean in the context of probabilistic reasoning? (1 sentence)"
   ]
  },
  {
   "cell_type": "markdown",
   "id": "ce8046a2-e593-4b3e-b004-49ba847903e0",
   "metadata": {
    "deletable": false,
    "nbgrader": {
     "cell_type": "markdown",
     "checksum": "f22b0c9f6b18f38fec6fc7afdd600997",
     "grade": true,
     "grade_id": "cell-ae8264005926f6ef",
     "locked": false,
     "points": 2,
     "schema_version": 3,
     "solution": true,
     "task": false
    }
   },
   "source": [
    "YOUR ANSWER HERE"
   ]
  },
  {
   "cell_type": "markdown",
   "id": "df3bb635-385d-4f33-8d2f-23034544c890",
   "metadata": {
    "deletable": false,
    "editable": false,
    "nbgrader": {
     "cell_type": "markdown",
     "checksum": "9e6d49a144d5c48b045f8f51088325f0",
     "grade": false,
     "grade_id": "cell-9c3bdfa703e5ca9c",
     "locked": true,
     "schema_version": 3,
     "solution": false,
     "task": false
    }
   },
   "source": [
    "### Q 2B [3 pts]\n",
    "\n",
    "Why is it the case that the Learned Inference Model (LIM) is more accurate near the query distribution it is trained on? (1-2 sentences)"
   ]
  },
  {
   "cell_type": "markdown",
   "id": "743ba5ce-2cff-4c08-b186-0d2ae24f9cc9",
   "metadata": {
    "deletable": false,
    "nbgrader": {
     "cell_type": "markdown",
     "checksum": "390bbc1d5bc0cd35e2b51029ba28f861",
     "grade": true,
     "grade_id": "cell-acf3f02e95a1ff36",
     "locked": false,
     "points": 3,
     "schema_version": 3,
     "solution": true,
     "task": false
    }
   },
   "source": [
    "YOUR ANSWER HERE"
   ]
  }
 ],
 "metadata": {
  "kernelspec": {
   "display_name": "Julia (AotM) 1.9.2",
   "language": "julia",
   "name": "julia-_aotm_-1.9"
  },
  "language_info": {
   "file_extension": ".jl",
   "mimetype": "application/julia",
   "name": "julia",
   "version": "1.9.2"
  },
  "widgets": {
   "application/vnd.jupyter.widget-state+json": {
    "state": {},
    "version_major": 2,
    "version_minor": 0
   }
  }
 },
 "nbformat": 4,
 "nbformat_minor": 5
}
