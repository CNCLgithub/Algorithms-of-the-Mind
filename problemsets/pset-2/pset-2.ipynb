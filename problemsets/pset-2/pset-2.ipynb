{
 "cells": [
  {
   "cell_type": "markdown",
   "id": "f0b68107",
   "metadata": {
    "deletable": false,
    "editable": false,
    "nbgrader": {
     "cell_type": "markdown",
     "checksum": "1fc20d357142dfcd2340e05cfe9f763a",
     "grade": false,
     "grade_id": "cell-8a8cd8b757aa43d0",
     "locked": true,
     "schema_version": 3,
     "solution": false,
     "task": false
    },
    "tags": []
   },
   "source": [
    "# Algorithms of the Mind\n",
    "\n",
    "**Instructions:** Answer all questions below. Be sure to show all intermediate steps and equations that you used to arrive at each answer. Please type your answers (including your equations). For coding questions, your code and its execution will do.\n",
    "\n",
    "**How to submit?:** Execute all blocks of your Jupyter notebook, save it, and submit your assignment using Canvas.\n",
    "\n",
    "<div class=\"alert alert-info\">\n",
    "    <strong>Note</strong>\n",
    "\n",
    "Your answers in each question can be a combination of markdown and Julia code.\n",
    "</div>\n"
   ]
  },
  {
   "cell_type": "markdown",
   "id": "fc521564",
   "metadata": {
    "deletable": false,
    "editable": false,
    "nbgrader": {
     "cell_type": "markdown",
     "checksum": "b32401381437e041d3866a9c8f7517bb",
     "grade": false,
     "grade_id": "cell-0cdff38fa9dd89b8",
     "locked": true,
     "schema_version": 3,
     "solution": false,
     "task": false
    },
    "tags": []
   },
   "source": [
    "## Preliminaries"
   ]
  },
  {
   "cell_type": "code",
   "execution_count": null,
   "id": "39f377ed",
   "metadata": {
    "tags": []
   },
   "outputs": [],
   "source": [
    "NAME = \"\"\n",
    "NETID = \"\""
   ]
  },
  {
   "cell_type": "markdown",
   "id": "d4a01dc5",
   "metadata": {
    "deletable": false,
    "editable": false,
    "nbgrader": {
     "cell_type": "markdown",
     "checksum": "862c67f6e7489bc2c56f69c85f568715",
     "grade": false,
     "grade_id": "cell-24c93db6109b5e4e",
     "locked": true,
     "schema_version": 3,
     "solution": false,
     "task": false
    },
    "tags": []
   },
   "source": [
    "Next, please take the honor pledge by reordering the following phrases so that it makes sense to you, and then typing the resulting full sentence.\n",
    "\n",
    "- and that this work is my own.\n",
    "- or received\n",
    "- I have not given\n",
    "- I affirm that\n",
    "- on this assignment,\n",
    "- any unauthorized help "
   ]
  },
  {
   "cell_type": "code",
   "execution_count": null,
   "id": "4a91b1e0",
   "metadata": {
    "tags": []
   },
   "outputs": [],
   "source": [
    "HONOR_PLEDGE = \"\""
   ]
  },
  {
   "cell_type": "code",
   "execution_count": null,
   "id": "b14ef580",
   "metadata": {
    "deletable": false,
    "editable": false,
    "nbgrader": {
     "cell_type": "code",
     "checksum": "f8112be3d89ed34ec1d73eed2ccd2001",
     "grade": true,
     "grade_id": "cell-f58af99f51780260",
     "locked": true,
     "points": 0,
     "schema_version": 3,
     "solution": false,
     "task": false
    },
    "tags": []
   },
   "outputs": [],
   "source": []
  },
  {
   "cell_type": "markdown",
   "id": "ac3ad715",
   "metadata": {},
   "source": [
    "---"
   ]
  },
  {
   "cell_type": "markdown",
   "id": "dbeb8638-1f55-4ce0-81f7-223a1e023f06",
   "metadata": {
    "deletable": false,
    "editable": false,
    "nbgrader": {
     "cell_type": "markdown",
     "checksum": "405c8710f3828251816395b515978086",
     "grade": false,
     "grade_id": "cell-46a7428d88a84726",
     "locked": true,
     "schema_version": 3,
     "solution": false,
     "task": false
    }
   },
   "source": [
    "# Problems Set 2"
   ]
  },
  {
   "cell_type": "code",
   "execution_count": null,
   "id": "3da2b906-6cca-4095-82d3-ad1885e51594",
   "metadata": {
    "deletable": false,
    "editable": false,
    "nbgrader": {
     "cell_type": "code",
     "checksum": "864e12c0ab77c95baebd1a29adf4d53b",
     "grade": false,
     "grade_id": "cell-98336f908fe4b246",
     "locked": true,
     "schema_version": 3,
     "solution": false,
     "task": false
    }
   },
   "outputs": [],
   "source": [
    "import Pkg\n",
    "Pkg.activate(\"psyc261\")\n",
    "Pkg.add([\"CSV\", \"DataFrames\"])\n",
    "# load necessary packages for this problem set\n",
    "# Note that running this for the first time might take a good 15 mins &ndash; plan ahead\n",
    "using Gen\n",
    "using Plots\n",
    "using CSV\n",
    "using DataFrames\n",
    "\n",
    "include(\"utils/draw.jl\")\n",
    ";"
   ]
  },
  {
   "cell_type": "markdown",
   "id": "df65f90b-14c7-4375-94d0-6c9f9f469361",
   "metadata": {
    "deletable": false,
    "editable": false,
    "nbgrader": {
     "cell_type": "markdown",
     "checksum": "7bb5db5759d5ae25ce45226fb29fa195",
     "grade": false,
     "grade_id": "cell-fa348f82d26b58ba",
     "locked": true,
     "schema_version": 3,
     "solution": false,
     "task": false
    }
   },
   "source": [
    "## Question 1"
   ]
  },
  {
   "cell_type": "markdown",
   "id": "28b59a08-9ecc-4452-a0cc-c43da2d50c46",
   "metadata": {},
   "source": [
    "Remember our sea turtle friend from the previous problem set? It turns out it has stamina for one more question.\n",
    "\n",
    "As in Problem Set 1, let's assume that the planet's magnetic field can be described using a two-dimensional grid. The sea turtle moves in this gridworld one step at a time, in one of the four cardinal direction: north (n), south (s), east (e), and west (w). The following struct encodes these mechanics of grid movements and it will come handy as we go along."
   ]
  },
  {
   "cell_type": "code",
   "execution_count": null,
   "id": "0e868dcd-4636-4cbf-94d3-ffb17da85106",
   "metadata": {
    "deletable": false,
    "editable": false,
    "nbgrader": {
     "cell_type": "code",
     "checksum": "fbc3ea1e9510cf441b54c69e24da7c79",
     "grade": false,
     "grade_id": "cell-6f94f7492d970586",
     "locked": true,
     "schema_version": 3,
     "solution": false,
     "task": false
    }
   },
   "outputs": [],
   "source": [
    "struct Movement\n",
    "    dx::Real\n",
    "    dy::Real\n",
    "end\n",
    "\n",
    "const N = Movement( 0,  1)\n",
    "const E = Movement( 1,  0)\n",
    "const S = Movement( 0, -1)\n",
    "const W = Movement(-1,  0)\n",
    "const DIRECTIONS = [N, S, E, W]"
   ]
  },
  {
   "cell_type": "markdown",
   "id": "3c962c9d-a6c6-4efa-b3cd-47f13695150b",
   "metadata": {},
   "source": [
    "Each cell in this grid emits the *intensity* and *direction* of the magnetic field at that cell. The `intensity` and `direction` of a coordinate at `x` and `y` are defined as:\n",
    "\n",
    "<img src=\"./images/magnetic-field.png\" alt=\"\" width=\"400\"/>\n",
    "\n",
    "Your overall goal in this question will be to infer a posterior over the sequence of movements of the sea turtle from a sequence of intensity and direction observations. We will build up to that."
   ]
  },
  {
   "cell_type": "markdown",
   "id": "001eb775-e92b-4ee9-b7e1-50a8b47fceea",
   "metadata": {
    "deletable": false,
    "editable": false,
    "nbgrader": {
     "cell_type": "markdown",
     "checksum": "04c137d141e1c8169c5150668dc14f0d",
     "grade": false,
     "grade_id": "cell-08bce2355e3a5ac9",
     "locked": true,
     "schema_version": 3,
     "solution": false,
     "task": false
    }
   },
   "source": [
    "### Q 1A [6 pts]\n",
    "\n",
    "Imagine that suddently, this sea turtle finds itself in the middle of an oceanic storm. The storm is such that:\n",
    "\n",
    "* The sea turtle knows where it is at the beginning of the storm (time step `k=0`), including its `x` and `y` \n",
    "* At each time step, its movement &ndash; a single step in a cardinal direction: north `n`, south `s`, east `e` or west `w` &ndash; are dictated by the waves and turbulence of the ocean (not controlled by the sea turtle). Assume that these dynamics are random &ndash; a multinomial distribution with equal weight on each direction:\n",
    "\n",
    "$$p(m_{t} | m_{t-1}) = p(m_{t}) = Multinomial([n, s, e, w])$$\n",
    "\n",
    "* At each time step, the sea turtle observes noisy magnetic field measurements (because of the storm, it cannot additinally rely on vision or smell) \n",
    "$$p(intensity_{t}) \\sim Normal(x + y, \\sigma)$$\n",
    "$$p(direction_{t}) \\sim Normal(|x-y|, \\sigma)$$\n",
    "where $\\sigma=0.1$\n",
    "\n",
    "(You might be able to relate to the experience of our sea turtle friend if you can remember the last time you were on a Ferris Wheel with your eyes closed. In such a scenario, when you rely just on your vestibular system to tell your pose in space, you are likely to experience all sorts of hallucinated backward flips.)\n",
    "\n",
    "Your task is write a generative model of this process using Gen's generative functions and the generative function combinator `Unfold`. You will write a generative function (a temporal kernel) called `ferriswheel_kernel`, and input it to the `Unfold` combinator to create a temporal generative model called `ferriswheel`. \n",
    "\n",
    "Assume that the initial state of the sea turtle is provided to `ferriswheel` as a global variable (not modeled as a random variable). "
   ]
  },
  {
   "cell_type": "markdown",
   "id": "67c34a6e-eac8-42ac-8825-d0edc5f7b9b4",
   "metadata": {},
   "source": [
    "Start with implementing a Julia `struct` to represent and modify the state information at each time step; the struct should include the following three entities. (For each variable, you must indicate its type.)\n",
    "\n",
    "- `movement`: current movement\n",
    "- `x`: current coordinate in the east-west axis\n",
    "- `y`: current coordinate in the north-south axis"
   ]
  },
  {
   "cell_type": "code",
   "execution_count": null,
   "id": "3f943d1e-6064-4799-8d0c-9bad246ae4cf",
   "metadata": {
    "deletable": false,
    "nbgrader": {
     "cell_type": "code",
     "checksum": "15c85358815c43bd9e5641098b7a2d59",
     "grade": true,
     "grade_id": "cell-2b100d3b7833cd5f",
     "locked": false,
     "points": 1,
     "schema_version": 3,
     "solution": true,
     "task": false
    }
   },
   "outputs": [],
   "source": [
    "struct Field\n",
    "    # your code here\n",
    "    throw(Exception(\"Not Implemented.\"))\n",
    "end"
   ]
  },
  {
   "cell_type": "markdown",
   "id": "12c231f8-f29b-4d33-a098-65f612176007",
   "metadata": {
    "deletable": false,
    "editable": false,
    "nbgrader": {
     "cell_type": "markdown",
     "checksum": "8446e9b08662aef9154259eca3d306e3",
     "grade": false,
     "grade_id": "cell-efdf448e6750fe5b",
     "locked": true,
     "schema_version": 3,
     "solution": false,
     "task": false
    }
   },
   "source": [
    "Using the definitions above, fill in the following `intensity` function to compute the intensity of a `Field`."
   ]
  },
  {
   "cell_type": "code",
   "execution_count": null,
   "id": "4b4c15ee-2c76-4781-a639-59323988369c",
   "metadata": {
    "deletable": false,
    "nbgrader": {
     "cell_type": "code",
     "checksum": "25a46a788d76c533502c44c9eeb43a60",
     "grade": true,
     "grade_id": "cell-d10a3f1c0766c3fc",
     "locked": false,
     "points": 1,
     "schema_version": 3,
     "solution": true,
     "task": false
    }
   },
   "outputs": [],
   "source": [
    "function intensity(field::Field)\n",
    "    # your code here\n",
    "    throw(Exception(\"Not Implemented.\"))\n",
    "end\n",
    ";"
   ]
  },
  {
   "cell_type": "markdown",
   "id": "87208be4-3962-4729-a902-c9d9d2061ce1",
   "metadata": {
    "deletable": false,
    "editable": false,
    "nbgrader": {
     "cell_type": "markdown",
     "checksum": "ca32eebb9a6be0b74b1978436fb60aa9",
     "grade": false,
     "grade_id": "cell-8dfef1080fbc5006",
     "locked": true,
     "schema_version": 3,
     "solution": false,
     "task": false
    }
   },
   "source": [
    "Using the definitions above, fill in the following `direction` function to compute the direction of a `Field`."
   ]
  },
  {
   "cell_type": "code",
   "execution_count": null,
   "id": "290e63fa-aa12-4f38-afee-b5a07636bf6b",
   "metadata": {
    "deletable": false,
    "nbgrader": {
     "cell_type": "code",
     "checksum": "1d7c272c804352c885e71d6062758ac3",
     "grade": true,
     "grade_id": "cell-eef8898c807c11d7",
     "locked": false,
     "points": 1,
     "schema_version": 3,
     "solution": true,
     "task": false
    }
   },
   "outputs": [],
   "source": [
    "function direction(field::Field)\n",
    "    # your code here\n",
    "    throw(Exception(\"Not Implemented.\"))\n",
    "end\n",
    ";"
   ]
  },
  {
   "cell_type": "markdown",
   "id": "75c7af85-6104-4d50-beee-cf47f217e005",
   "metadata": {
    "deletable": false,
    "editable": false,
    "nbgrader": {
     "cell_type": "markdown",
     "checksum": "88deeb298b64d8710658596775b5d11d",
     "grade": false,
     "grade_id": "cell-293e1630ca309850",
     "locked": true,
     "schema_version": 3,
     "solution": false,
     "task": false
    }
   },
   "source": [
    "We need a way to update the `x` and `y` entries of a `Field` based on a `Movement`. Using Julia's support for multiple dispatch and overriding functions and primitives, we provide a redefined addition, `Base.:+`, which applies a `Movement` to the `x` and `y` entries of a Field, returning a new `Field` with the addition as well as the input `Movement`. This will come in handy as we go along."
   ]
  },
  {
   "cell_type": "code",
   "execution_count": null,
   "id": "11dafe9f-4aff-47cf-b8ea-256f7d5fd66e",
   "metadata": {
    "deletable": false,
    "editable": false,
    "nbgrader": {
     "cell_type": "code",
     "checksum": "5fa0478ac54a6cd0553f064791b6ff0f",
     "grade": false,
     "grade_id": "cell-21788c85aa2855e3",
     "locked": true,
     "schema_version": 3,
     "solution": false,
     "task": false
    }
   },
   "outputs": [],
   "source": [
    "function Base.:+(field::Field, movement::Movement)\n",
    "    return Field(\n",
    "        movement,\n",
    "        field.x + movement.dx,\n",
    "        field.y + movement.dy,\n",
    "    )\n",
    "end"
   ]
  },
  {
   "cell_type": "markdown",
   "id": "0cadcfea-fb09-48f1-9fa4-dd2e58d41f7d",
   "metadata": {
    "deletable": false,
    "editable": false,
    "nbgrader": {
     "cell_type": "markdown",
     "checksum": "13ed64ff4aa8c6873d12e34c13e941a1",
     "grade": false,
     "grade_id": "cell-380a9b5a8c080373",
     "locked": true,
     "schema_version": 3,
     "solution": false,
     "task": false
    }
   },
   "source": [
    "Fill in the following code block to complete the definition of `ferrishweel_kernel` and create a function called `chain` using Gen's `Unfold` combinator and this kernel."
   ]
  },
  {
   "cell_type": "code",
   "execution_count": null,
   "id": "824b8f9a-52da-44a3-8e5b-281a89d24bc3",
   "metadata": {
    "deletable": false,
    "nbgrader": {
     "cell_type": "code",
     "checksum": "8e7168d8b9cfd66ede3dfdfe7f3806ce",
     "grade": true,
     "grade_id": "cell-3dfcf228acd8a402",
     "locked": false,
     "points": 2,
     "schema_version": 3,
     "solution": true,
     "task": false
    }
   },
   "outputs": [],
   "source": [
    "@gen function ferriswheel_kernel(k::Int, curr_field::Field)\n",
    "    # observation noise of the mangetic field (intensity and direction)\n",
    "    σ = 0.5\n",
    "    \n",
    "    # Draw a movement (according to the probabilistic specification above)\n",
    "    # your code here\n",
    "    throw(Exception(\"Not Implemented.\"))\n",
    "\n",
    "    # As implemented below, the following code will break.\n",
    "    # Use Julia's \"multiple dispatch\" to ensure that you can add\n",
    "    #   a `Field` to a `Movement`\n",
    "    next_field = curr_field + movement\n",
    "\n",
    "    # observe noisy intensity/direction measurements\n",
    "    # The following variable should be named `obs_intensity`\n",
    "    # your code here\n",
    "    throw(Exception(\"Not Implemented.\"))\n",
    "    # The following variable should be named `obs_direction`\n",
    "    # your code here\n",
    "    throw(Exception(\"Not Implemented.\"))\n",
    "    \n",
    "    # Return the updated field\n",
    "    # your code here\n",
    "    throw(Exception(\"Not Implemented.\"))\n",
    "end\n",
    "\n",
    "# Create a function `chain` using Gen's `Unfold` combinator for use in Particle Filtering\n",
    "# your code here\n",
    "throw(Exception(\"Not Implemented.\"))\n",
    ";"
   ]
  },
  {
   "cell_type": "markdown",
   "id": "b1164e75-4aeb-4156-972f-4b53f5a35654",
   "metadata": {
    "deletable": false,
    "editable": false,
    "nbgrader": {
     "cell_type": "markdown",
     "checksum": "8550228ec4003cdf6bb1224c2973556e",
     "grade": false,
     "grade_id": "cell-f4f192a23a97174d",
     "locked": true,
     "schema_version": 3,
     "solution": false,
     "task": false
    }
   },
   "source": [
    "Fill in the following codeblock to create the temporal generative model `ferrishweel`"
   ]
  },
  {
   "cell_type": "code",
   "execution_count": null,
   "id": "efe16255-6859-4a54-90a0-8e35f9c75eba",
   "metadata": {
    "deletable": false,
    "nbgrader": {
     "cell_type": "code",
     "checksum": "80cd9712a442af55f6f337bc078ff3cc",
     "grade": true,
     "grade_id": "cell-3a3e8fd9866a8386",
     "locked": false,
     "points": 1,
     "schema_version": 3,
     "solution": true,
     "task": false
    }
   },
   "outputs": [],
   "source": [
    "@gen function ferriswheel(K::Int)\n",
    "    # this line allows us to use the init_field definition from the main scope – keep it there!\n",
    "    global init_field\n",
    "    # Sample from the `ferriswheel_kernel` K times, store it at the address `trajectory`\n",
    "    # your code here\n",
    "    throw(Exception(\"Not Implemented.\"))\n",
    "end\n",
    ";"
   ]
  },
  {
   "cell_type": "markdown",
   "id": "e0aa554b-454c-46a5-9d0a-65ec273a713f",
   "metadata": {
    "deletable": false,
    "editable": false,
    "nbgrader": {
     "cell_type": "markdown",
     "checksum": "690520af80bc24b93c6237fd7297c7a0",
     "grade": false,
     "grade_id": "cell-e82d69a08ffc3f1f",
     "locked": true,
     "schema_version": 3,
     "solution": false,
     "task": false
    }
   },
   "source": [
    "### Q 1B [1 pt]\n",
    "\n",
    "Draw a sequence of 10 movements from your generative model. The initial state is provided (`init_field`). \n",
    "\n",
    "Use the `get_choices` and `get_retval` functions to display the random choices and return values associated with the trace you simulated of the generative function. "
   ]
  },
  {
   "cell_type": "code",
   "execution_count": null,
   "id": "7e0939b0-2401-4b77-be53-649ee40102a4",
   "metadata": {
    "deletable": false,
    "nbgrader": {
     "cell_type": "code",
     "checksum": "d74f31c0d7d3b1431c351631717711d2",
     "grade": true,
     "grade_id": "cell-fb5c6b3010025d7b",
     "locked": false,
     "points": 0.67,
     "schema_version": 3,
     "solution": true,
     "task": false
    }
   },
   "outputs": [],
   "source": [
    "# Start at coordinates (N, 3, 3)\n",
    "init_field = Field(N, 3, 3)\n",
    "\n",
    "# Run your model forward with 10 movements, name your variable `trace`\n",
    "# your code here\n",
    "throw(Exception(\"Not Implemented.\"))\n",
    "\n",
    "# Display the choices from `trace`\n",
    "# your code here\n",
    "throw(Exception(\"Not Implemented.\"))"
   ]
  },
  {
   "cell_type": "code",
   "execution_count": null,
   "id": "c522ebf9-ceb6-4258-b6fa-9239b85f55c2",
   "metadata": {
    "deletable": false,
    "nbgrader": {
     "cell_type": "code",
     "checksum": "0eabafa2aec15b193086cced4f47ee31",
     "grade": true,
     "grade_id": "cell-ee0703c34329eb92",
     "locked": false,
     "points": 0.33,
     "schema_version": 3,
     "solution": true,
     "task": false
    }
   },
   "outputs": [],
   "source": [
    "# Get the return values for your `trace\n",
    "# your code here\n",
    "throw(Exception(\"Not Implemented.\"))"
   ]
  },
  {
   "cell_type": "markdown",
   "id": "2210c58a-7065-45c6-a91b-72139d5836c5",
   "metadata": {
    "deletable": false,
    "editable": false,
    "nbgrader": {
     "cell_type": "markdown",
     "checksum": "4661b91931a434237d0efe43610e6db5",
     "grade": false,
     "grade_id": "cell-97e307071e88cc94",
     "locked": true,
     "schema_version": 3,
     "solution": false,
     "task": false
    }
   },
   "source": [
    "Execute the next code block to visualize your sample. (Review this visualization code, but nothing to fill in.) You will see that it plots a binary heatmap of which movements occured (n, s, e, w), and a line plot of how intensities and directions changed throughout the sequence. "
   ]
  },
  {
   "cell_type": "code",
   "execution_count": null,
   "id": "5a19a625-c6d8-4bc1-825a-34c5004bec29",
   "metadata": {
    "deletable": false,
    "editable": false,
    "nbgrader": {
     "cell_type": "code",
     "checksum": "d0515074c937d0ebc0099b80c9cf635f",
     "grade": false,
     "grade_id": "cell-b90d8b4faa7820cb",
     "locked": true,
     "schema_version": 3,
     "solution": false,
     "task": false
    }
   },
   "outputs": [],
   "source": [
    "# a helper function to visualize things\n",
    "# we visualize the movements and \n",
    "#   the predicted intensity and direction\n",
    "#   values according to the coordinates of \n",
    "#   visited cells\n",
    "function visualize(trace)\n",
    "    choices = get_choices(trace)\n",
    "    fields  = get_retval(trace)\n",
    "\n",
    "    # get the movements and coordinates\n",
    "    ms = [field.movement for field in fields]\n",
    "    xs = [field.x for field in fields]\n",
    "    ys = [field.y for field in fields]\n",
    "    \n",
    "    # predicted intensities\n",
    "    intensities = intensity.(fields)\n",
    "    \n",
    "    # predicted directions\n",
    "    directions = direction.(fields)\n",
    "\n",
    "    # create a binary matrix of movements (4 x length(ms))\n",
    "    binary_movements = falses(4, length(ms))\n",
    "    for (index, movement) in enumerate(ms)\n",
    "        movement_order = findfirst(isequal(movement), DIRECTIONS)\n",
    "        binary_movements[movement_order, index] = true\n",
    "    end\n",
    "\n",
    "    # plot the movements\n",
    "    p1 = plot(\n",
    "        binary_movements,\n",
    "        seriestype=:heatmap,\n",
    "        legend=false, \n",
    "        thickness_scaling=3.5\n",
    "    )\n",
    "    # plot intensities and directions\n",
    "    p2 = plot(\n",
    "        collect(1:length(ms)),\n",
    "        [intensities, directions], \n",
    "        thickness_scaling=3.5,\n",
    "        labels=[\"intensity\" \"direction\"]\n",
    "    )\n",
    "    plot(p1, p2, layout=(2,1), legend=:inside, size=(1600, 1200))\n",
    "end\n",
    "\n",
    "visualize(trace)"
   ]
  },
  {
   "cell_type": "markdown",
   "id": "839d4a87-7aa8-4de5-9561-dac6bb336356",
   "metadata": {
    "deletable": false,
    "editable": false,
    "nbgrader": {
     "cell_type": "markdown",
     "checksum": "1bca8d284040513db8ff4e5edaad443b",
     "grade": false,
     "grade_id": "cell-bb09c14d12ce8e93",
     "locked": true,
     "schema_version": 3,
     "solution": false,
     "task": false
    }
   },
   "source": [
    "Execute the following codeblock to load and visualize the observed intensity and directions"
   ]
  },
  {
   "cell_type": "code",
   "execution_count": null,
   "id": "c16329d1-cb31-48c5-9deb-517d7476da1e",
   "metadata": {
    "deletable": false,
    "editable": false,
    "nbgrader": {
     "cell_type": "code",
     "checksum": "b27608812ce0d445104de634ec2d315a",
     "grade": false,
     "grade_id": "cell-a301e28a41bf4f73",
     "locked": true,
     "schema_version": 3,
     "solution": false,
     "task": false
    }
   },
   "outputs": [],
   "source": [
    "# load observations (sensory features)\n",
    "obs_fields = DataFrame(CSV.File(\"./data/observed_fields.csv\"))\n",
    "\n",
    "# visualize (just run the following code)\n",
    "plot(\n",
    "    collect(1:size(obs_fields, 1)),\n",
    "    [obs_fields[!, :intensity], obs_fields[!, :direction]],\n",
    "    labels=[\"intensity\" \"direction\"]\n",
    ")"
   ]
  },
  {
   "cell_type": "markdown",
   "id": "8c364f59-db1e-4e71-ac86-9a155e738630",
   "metadata": {
    "deletable": false,
    "editable": false,
    "nbgrader": {
     "cell_type": "markdown",
     "checksum": "c491327b409da48124fdf5e9b2993045",
     "grade": false,
     "grade_id": "cell-598fcabf1fdae621",
     "locked": true,
     "schema_version": 3,
     "solution": false,
     "task": false
    }
   },
   "source": [
    "### Q 1C [4 pts]\n",
    "\n",
    "In Gen, write a particle filtering algorithm to infer a posterior distribution over movements given the intensity and direction measurements in `observations`."
   ]
  },
  {
   "cell_type": "code",
   "execution_count": null,
   "id": "ba27d890-bd8d-4ab0-bef3-0647c1d9410e",
   "metadata": {
    "deletable": false,
    "nbgrader": {
     "cell_type": "code",
     "checksum": "5a0d6400707222c196c23829a1d56ceb",
     "grade": true,
     "grade_id": "cell-0e47657acbc4d163",
     "locked": false,
     "points": 2,
     "schema_version": 3,
     "solution": true,
     "task": false
    }
   },
   "outputs": [],
   "source": [
    "function particle_filter(num_particles::Int, obs_fields, num_samples::Int)\n",
    "    #initital observation\n",
    "    init_obs = Gen.choicemap(\n",
    "        (:trajectory => 0 => :obs_intensity, obs_fields[1, :intensity]),\n",
    "        (:trajectory => 0 => :obs_direction, obs_fields[1, :direction]),\n",
    "    )\n",
    "    \n",
    "    # initialize the particle filter  \n",
    "    # your code here\n",
    "    throw(Exception(\"Not Implemented.\"))\n",
    "\n",
    "    for (idx, obs_field) in enumerate(eachrow(obs_fields))\n",
    "        # Evolve and resample (Step 1a, 1b)\n",
    "        # your code here\n",
    "        throw(Exception(\"Not Implemented.\"))\n",
    "\n",
    "        # load observations of this time step\n",
    "        # your code here\n",
    "        throw(Exception(\"Not Implemented.\"))\n",
    "\n",
    "        # Re-weight by the likelihood (Step 2)\n",
    "        # your code here\n",
    "        throw(Exception(\"Not Implemented.\"))\n",
    "    end\n",
    "    \n",
    "    # return a sample of unweighted traces from the weighted collection\n",
    "    # your code here\n",
    "    throw(Exception(\"Not Implemented.\"))\n",
    "end\n",
    ";"
   ]
  },
  {
   "cell_type": "markdown",
   "id": "31b0e943-9c23-4b29-bf34-bf57abebce0d",
   "metadata": {
    "deletable": false,
    "editable": false,
    "nbgrader": {
     "cell_type": "markdown",
     "checksum": "665054da974def6b396dadb081e85214",
     "grade": false,
     "grade_id": "cell-f9d37abf8311608e",
     "locked": true,
     "schema_version": 3,
     "solution": false,
     "task": false
    }
   },
   "source": [
    "Now call this particle filter inference procedure with 1000 particles and return 100 samples"
   ]
  },
  {
   "cell_type": "code",
   "execution_count": null,
   "id": "dd648940-3f80-4870-a42c-269c76d58c67",
   "metadata": {
    "deletable": false,
    "nbgrader": {
     "cell_type": "code",
     "checksum": "6db9387d098e4fee8689657d68db7ac7",
     "grade": true,
     "grade_id": "cell-73a0805a6e4216c4",
     "locked": false,
     "points": 1,
     "schema_version": 3,
     "solution": true,
     "task": false
    }
   },
   "outputs": [],
   "source": [
    "# your code here\n",
    "throw(Exception(\"Not Implemented.\"))"
   ]
  },
  {
   "cell_type": "markdown",
   "id": "cbe913b6-875f-4b7a-9a5e-859edb9ef32f",
   "metadata": {
    "deletable": false,
    "editable": false,
    "nbgrader": {
     "cell_type": "markdown",
     "checksum": "619f518cf4d4afe57852034a7ff9d2f8",
     "grade": false,
     "grade_id": "cell-7130e3217cb7a73f",
     "locked": true,
     "schema_version": 3,
     "solution": false,
     "task": false
    }
   },
   "source": [
    "The following codeblock visualizes these 100 posterior samples you just computer, one after the other; each frame shows the inferred sequence of movements according to that posterior sample (top) and the predicted intensities and directions. View this animation and explain what it reveals about the posterior distribution. 1-2 sentences."
   ]
  },
  {
   "cell_type": "code",
   "execution_count": null,
   "id": "22aaf8fd-e102-4712-805a-5ae7e362ce48",
   "metadata": {
    "deletable": false,
    "editable": false,
    "nbgrader": {
     "cell_type": "code",
     "checksum": "86ec410363055b1b6cf9879937ddd695",
     "grade": false,
     "grade_id": "cell-b67f5f86df3d4c18",
     "locked": true,
     "schema_version": 3,
     "solution": false,
     "task": false
    }
   },
   "outputs": [],
   "source": [
    "viz = Plots.@animate for trace in pf_traces\n",
    "    visualize(trace)\n",
    "end\n",
    "gif(viz, fps=1)"
   ]
  },
  {
   "cell_type": "markdown",
   "id": "85f1f4f2-ed9d-41a6-9727-15e995f161d9",
   "metadata": {
    "deletable": false,
    "nbgrader": {
     "cell_type": "markdown",
     "checksum": "94e8b27a62098c9e9d3442c794ac02a4",
     "grade": true,
     "grade_id": "cell-3ab354431eae1480",
     "locked": false,
     "points": 1,
     "schema_version": 3,
     "solution": true,
     "task": false
    }
   },
   "source": [
    "YOUR ANSWER HERE"
   ]
  },
  {
   "cell_type": "markdown",
   "id": "8c66225a-9746-483f-a4fd-feef96ee68d9",
   "metadata": {
    "deletable": false,
    "editable": false,
    "nbgrader": {
     "cell_type": "markdown",
     "checksum": "4d6aad04d6b7c4f835779ecee80df15a",
     "grade": false,
     "grade_id": "cell-8d67bd5156cdab16",
     "locked": true,
     "schema_version": 3,
     "solution": false,
     "task": false
    }
   },
   "source": [
    "## Question 2"
   ]
  },
  {
   "cell_type": "markdown",
   "id": "9ddf8144-50f6-4f03-b441-bb3ac4d2dc56",
   "metadata": {
    "deletable": false,
    "editable": false,
    "nbgrader": {
     "cell_type": "markdown",
     "checksum": "bc13f1d8cae9b22e5ce9ecaad467ac73",
     "grade": false,
     "grade_id": "cell-d7c72c2c0cc2ce34",
     "locked": true,
     "schema_version": 3,
     "solution": false,
     "task": false
    }
   },
   "source": [
    "Nimet has been inspecting 3 colonies of leaf bugs; the average size of the members of each colony is different and denoted as $\\theta_1, \\theta_2, \\theta_3$. \n",
    "\n",
    "Nimet knows that these 3 colonies are related, sprung off from a common colony last year: That is, she believes the average size of leafbugs in each colony should come from a shared underlying distribution. \n",
    "\n",
    "She measures the size of the 40 members of each colony, denoted $\\vec{x}_1, \\vec{x}_2, \\vec{x}_3$. \n",
    "\n",
    "Nimet intuitively arrives at an inference about the average size of the members of each colony, as well as the shared parameter determining the average size of  leafbugs in each colony, based on these observations from each colony.\n",
    "\n",
    "Your task is to formalize Nimet's inference process. You can assume that the average size of leafbugs in a colony (i.e., $\\theta$s) can be modeled as coming from a Gamma distribution, $Gamma(\\alpha, scale=2)$, shared across the three colonies. Furthermore, you can assume a prior over the `shape` parameter of the Gamma distribution, denoted $\\alpha$, to be a uniform over the range of 1.0 to 15.0. (We assume that we know the scale parameter of the Gamma distribution `scale=2`).\n",
    "\n",
    "Finally assume that the size measurements come from a normal distribution with known standard deviation $\\vec{x}_{i,k} \\sim Normal(\\theta_i, \\sigma=0.1)$, where $i \\in [1, 3]$ indexes the colony and $k \\in [1, 40]$ indexes members in that colony.\n",
    "\n",
    "The following shows a graphical model of the generative model you can use to formalize Nimet's thought process. \n",
    "\n",
    "<img src=\"./images/leafbug-gm.png\" alt=\"\" width=\"400\"/>"
   ]
  },
  {
   "cell_type": "markdown",
   "id": "1eb70aaa-8904-4a95-8b5e-7580d092c888",
   "metadata": {
    "deletable": false,
    "editable": false,
    "nbgrader": {
     "cell_type": "markdown",
     "checksum": "41069393bf6cd097a12dc6c68d2a5a87",
     "grade": false,
     "grade_id": "cell-f5c4aa587ed1e356",
     "locked": true,
     "schema_version": 3,
     "solution": false,
     "task": false
    }
   },
   "source": [
    "### Q 2A [1 pt]\n",
    "\n",
    "Write the joint distribution of all variables in this generative model based on how they are factorized in the graphical model. Answer by typing your equation.  \n",
    "\n",
    "[It's okay to type `theta1`, `alpha`, `x1` (without an arrow on top) etc. instead of the greek letters &ndash; and no worries about typing in the markdown math environment. Although it's easy to do these things if you want to try.]"
   ]
  },
  {
   "cell_type": "markdown",
   "id": "d6b1a1ab-0af4-474e-b047-0f90ad70af53",
   "metadata": {
    "deletable": false,
    "nbgrader": {
     "cell_type": "markdown",
     "checksum": "2badcca4b83676323d5d356f5f0bed45",
     "grade": true,
     "grade_id": "cell-e0e92394151cfd14",
     "locked": false,
     "points": 1,
     "schema_version": 3,
     "solution": true,
     "task": false
    }
   },
   "source": [
    "YOUR ANSWER HERE"
   ]
  },
  {
   "cell_type": "markdown",
   "id": "44456daa-f309-4a88-9275-e8d5dec19f2d",
   "metadata": {
    "deletable": false,
    "editable": false,
    "nbgrader": {
     "cell_type": "markdown",
     "checksum": "44ad9c4705886777f1efa4aec4d0f5fa",
     "grade": false,
     "grade_id": "cell-12caf0e99add83a8",
     "locked": true,
     "schema_version": 3,
     "solution": false,
     "task": false
    }
   },
   "source": [
    "### Q 2B [1 pt]\n",
    "\n",
    "Write the parameteric probability distribution you would use to model each prior and conditional distribution in your joint."
   ]
  },
  {
   "cell_type": "markdown",
   "id": "b915f244-e36d-4287-b9e3-78d7f2d3f340",
   "metadata": {
    "deletable": false,
    "nbgrader": {
     "cell_type": "markdown",
     "checksum": "79893c557cde57edd9f4b59ca9b8f013",
     "grade": true,
     "grade_id": "cell-bc56a23094691e12",
     "locked": false,
     "points": 1,
     "schema_version": 3,
     "solution": true,
     "task": false
    }
   },
   "source": [
    "YOUR ANSWER HERE"
   ]
  },
  {
   "cell_type": "markdown",
   "id": "4b60e152-5e78-4713-8370-26f17de3848f",
   "metadata": {
    "deletable": false,
    "editable": false,
    "nbgrader": {
     "cell_type": "markdown",
     "checksum": "129bc8eb160145d5ab145f9bf285d090",
     "grade": false,
     "grade_id": "cell-384ec5f569990acf",
     "locked": true,
     "schema_version": 3,
     "solution": false,
     "task": false
    }
   },
   "source": [
    "### Q 2C [1 pt]\n",
    "\n",
    "Which is the posterior the question is asking you to compute?\n",
    "\n",
    "(a) $p(\\alpha, \\sigma | \\theta_1, \\theta_2, \\theta_3, \\vec{x}_1, \\vec{x}_2, \\vec{x}_3)$\n",
    "\n",
    "(b) $p(\\alpha, \\theta_1, \\theta_2, \\theta_3 | \\vec{x}_1, \\vec{x}_2, \\vec{x}_3)$"
   ]
  },
  {
   "cell_type": "markdown",
   "id": "7f5dba61-c67e-4813-8e11-5cb9e623c4c7",
   "metadata": {
    "deletable": false,
    "nbgrader": {
     "cell_type": "markdown",
     "checksum": "318c234491173bb8c41ac18f71f742a8",
     "grade": true,
     "grade_id": "cell-2075d51932e252b6",
     "locked": false,
     "points": 1,
     "schema_version": 3,
     "solution": true,
     "task": false
    }
   },
   "source": [
    "YOUR ANSWER HERE"
   ]
  },
  {
   "cell_type": "markdown",
   "id": "d3e5566d-ffb6-4512-9e97-8e3957f917c2",
   "metadata": {
    "deletable": false,
    "editable": false,
    "nbgrader": {
     "cell_type": "markdown",
     "checksum": "820581475ba3ed3afa5c1c31f4825ac0",
     "grade": false,
     "grade_id": "cell-c258541617fcdd7a",
     "locked": true,
     "schema_version": 3,
     "solution": false,
     "task": false
    }
   },
   "source": [
    "### Q 2D [3 pts]\n",
    "\n",
    "Fill in the following to write a Gen generative function of the prior illustrated in the graphical model based on the parametric distributions you decided appropriate. "
   ]
  },
  {
   "cell_type": "code",
   "execution_count": null,
   "id": "bf096501-54c4-4add-b752-5340a1936b3b",
   "metadata": {
    "deletable": false,
    "nbgrader": {
     "cell_type": "code",
     "checksum": "4122f9b31d155b15c5734bf2441d136b",
     "grade": true,
     "grade_id": "cell-7f1bb948da6d6c24",
     "locked": false,
     "points": 1,
     "schema_version": 3,
     "solution": true,
     "task": false
    }
   },
   "outputs": [],
   "source": [
    "@gen function leafbug_colonies()\n",
    "    scale = 2\n",
    "    σ = 0.1\n",
    "\n",
    "    # What's the prior of α?\n",
    "    # your code here\n",
    "    throw(Exception(\"Not Implemented.\"))\n",
    "\n",
    "    # average size of leafbugs in each colony\n",
    "    # What's distribution for each of θ1, θ2, θ3?\n",
    "    # your code here\n",
    "    throw(Exception(\"Not Implemented.\"))\n",
    "    \n",
    "    # make observation for each colony's leafbugs\n",
    "    # the address structure in trace should be \n",
    "    # {:data => colony => leafbug => :y} ~ ...\n",
    "    # NOTE: You can perform this in a single loop. It's not required, but definitely a worthwhile challenge!\n",
    "    # your code here\n",
    "    throw(Exception(\"Not Implemented.\"))\n",
    "end\n",
    ";"
   ]
  },
  {
   "cell_type": "markdown",
   "id": "1a637ece-3bb2-4847-b03f-0b91afe9d745",
   "metadata": {
    "deletable": false,
    "editable": false,
    "nbgrader": {
     "cell_type": "markdown",
     "checksum": "5dda8fc633320e43e4a8d7dec759a32a",
     "grade": false,
     "grade_id": "cell-27f51da6ca7e4cfd",
     "locked": true,
     "schema_version": 3,
     "solution": false,
     "task": false
    }
   },
   "source": [
    "Now simulate your generative function to ensure that its outputs make sense"
   ]
  },
  {
   "cell_type": "code",
   "execution_count": null,
   "id": "623a7634-8cd6-4bc7-b804-8f5b3d9fb034",
   "metadata": {
    "deletable": false,
    "nbgrader": {
     "cell_type": "code",
     "checksum": "c05d61f45b8e4cb5f295e3494f355a8d",
     "grade": true,
     "grade_id": "cell-38cf762bd4436f97",
     "locked": false,
     "points": 1,
     "schema_version": 3,
     "solution": true,
     "task": false
    }
   },
   "outputs": [],
   "source": [
    "# Run your model `leafbug_colonies` forward\n",
    "# your code here\n",
    "throw(Exception(\"Not Implemented.\"))\n",
    "get_choices(trace)"
   ]
  },
  {
   "cell_type": "markdown",
   "id": "5e037cff-d831-4600-ab47-cdc0b73c59ff",
   "metadata": {
    "deletable": false,
    "editable": false,
    "nbgrader": {
     "cell_type": "markdown",
     "checksum": "7ade49b4010a7aa12ac00125907fd532",
     "grade": false,
     "grade_id": "cell-39293c96e66af97b",
     "locked": true,
     "schema_version": 3,
     "solution": false,
     "task": false
    }
   },
   "source": [
    "Fill in the following code to load your data from `./data/leafbug_sizes.csv`. Each column is measurements in a colony."
   ]
  },
  {
   "cell_type": "code",
   "execution_count": null,
   "id": "4fd97939-470a-4f0e-899e-739ca9a1c0ed",
   "metadata": {
    "deletable": false,
    "nbgrader": {
     "cell_type": "code",
     "checksum": "4bdd0302ac958c29c76dd62cbbf7e22a",
     "grade": true,
     "grade_id": "cell-f0df4c41adf45e48",
     "locked": false,
     "points": 1,
     "schema_version": 3,
     "solution": true,
     "task": false
    }
   },
   "outputs": [],
   "source": [
    "function make_observations(df::DataFrame)\n",
    "    # Setup your observation constraints\n",
    "    # your code here\n",
    "    throw(Exception(\"Not Implemented.\"))\n",
    "\n",
    "    # Apply your constraints\n",
    "    # To index DataFrames, you need to use the column name as a symbol.\n",
    "    #   This means you'll need to use `Symbol(\"colony<N>\")` to get the\n",
    "    #   correct column name to index the DataFrame.\n",
    "    # your code here\n",
    "    throw(Exception(\"Not Implemented.\"))\n",
    "    \n",
    "    constraints\n",
    "end \n",
    "# call the funciton to get the observations\n",
    "df = DataFrame(CSV.File(\"./data/leafbug_sizes.csv\"))\n",
    "observations = make_observations(df)"
   ]
  },
  {
   "cell_type": "markdown",
   "id": "4ea80be9-3c3e-4dd9-a3c9-b56af987b904",
   "metadata": {
    "deletable": false,
    "editable": false,
    "nbgrader": {
     "cell_type": "markdown",
     "checksum": "0bed9388eaf7981e3f5568acdd5f31b5",
     "grade": false,
     "grade_id": "cell-957fc8d62d733c56",
     "locked": true,
     "schema_version": 3,
     "solution": false,
     "task": false
    }
   },
   "source": [
    "### Q 2E [1 pt]\n",
    "\n",
    "Given your generative model and observations, we will perform importance resampling for posterior inference. Fill in the code to obtain 100 posterior samples each using 1000 resampling steps."
   ]
  },
  {
   "cell_type": "code",
   "execution_count": null,
   "id": "49b3384d-4dcf-4893-b026-36ea52fd0ef5",
   "metadata": {
    "deletable": false,
    "nbgrader": {
     "cell_type": "code",
     "checksum": "a92e4d138d3be205449c9d0f8c0c3ce9",
     "grade": true,
     "grade_id": "cell-19d917624df1bc77",
     "locked": false,
     "points": 1,
     "schema_version": 3,
     "solution": true,
     "task": false
    }
   },
   "outputs": [],
   "source": [
    "# Note: this codeblock might take a minute to run\n",
    "\n",
    "# Using 1000 samples in `importance_resampling`, do posterior inference.\n",
    "# Ensure that you keep trace of all traces (that is, you should have a Vector of 100 traces from your runs of `importance_resampling`)\n",
    "# your code here\n",
    "throw(Exception(\"Not Implemented.\"))"
   ]
  },
  {
   "cell_type": "markdown",
   "id": "18548239-b872-4e9f-9225-669c8183d826",
   "metadata": {
    "deletable": false,
    "editable": false,
    "nbgrader": {
     "cell_type": "markdown",
     "checksum": "5b6a189e353e420d906ece9256f56496",
     "grade": false,
     "grade_id": "cell-33c91804401cbb41",
     "locked": true,
     "schema_version": 3,
     "solution": false,
     "task": false
    }
   },
   "source": [
    "### Q 2F [2 pts]\n",
    "\n",
    "Fill in the following codeblock to visualize your posterior samples. Make a plot with 2 subplots\n",
    "\n",
    "* Subplot 1: Make a histogram plot showing $\\alpha$.\n",
    "* Subplot 2: Make another histogram plot showing the three $\\theta$s on the same plot.\n",
    "\n",
    "Describe your posterior in English: The average value for each variable and a description of the shape of each posterior (in 1-2 sentences)."
   ]
  },
  {
   "cell_type": "code",
   "execution_count": null,
   "id": "83a65f04-9233-4716-97e2-efb9952da4a5",
   "metadata": {
    "deletable": false,
    "nbgrader": {
     "cell_type": "code",
     "checksum": "e35f6afc4e1df95d935fae835adabeed",
     "grade": true,
     "grade_id": "cell-e5685f4a24e69e25",
     "locked": false,
     "points": 2,
     "schema_version": 3,
     "solution": true,
     "task": false
    }
   },
   "outputs": [],
   "source": [
    "# collect the inferred αs and θs across the chains and plot them.\n",
    "αs = [t[:α] for t in traces]\n",
    "# your code here\n",
    "throw(Exception(\"Not Implemented.\"))\n",
    "\n",
    "# plot the movements\n",
    "α_plot = histogram(αs, thickness_scaling=3.5, size=(1000, 800), label=\"α\")\n",
    "\n",
    "# Plot the θs on the same plot, use the same `thickness_scaling` and `size` as in α_plot. Ensure your plots are labeled correctly.\n",
    "# your code here\n",
    "throw(Exception(\"Not Implemented.\"))\n",
    "\n",
    "plot(α_plot, θ_plot, layout=(2, 1), size=(1600, 1200))"
   ]
  },
  {
   "cell_type": "markdown",
   "id": "4f6d670f-1b4a-4bd4-85ff-7e761b291386",
   "metadata": {
    "deletable": false,
    "nbgrader": {
     "cell_type": "markdown",
     "checksum": "9dec99b9e9f578ac2b4656c58c6752f0",
     "grade": true,
     "grade_id": "cell-d7e81b2abb4c96be",
     "locked": false,
     "points": 1,
     "schema_version": 3,
     "solution": true,
     "task": false
    }
   },
   "source": [
    "YOUR ANSWER HERE"
   ]
  },
  {
   "cell_type": "markdown",
   "id": "155a34ba-cee6-4adf-91ce-8d1eac9d21c3",
   "metadata": {
    "deletable": false,
    "editable": false,
    "nbgrader": {
     "cell_type": "markdown",
     "checksum": "b23e35447e037b9d4b901bf56800d757",
     "grade": false,
     "grade_id": "cell-cb40acfc6ece09dd",
     "locked": true,
     "schema_version": 3,
     "solution": false,
     "task": false
    }
   },
   "source": [
    "## Q 3 [1 pt]\n",
    "\n",
    "Prof. Quassy and Prof. Shellington  hypothesized two different computational-level theories to explain the aspect of human reasoning. To do so, they each designed a posterior distribution and implemented an inference procedure to approximate it, using an MCMC algorithm. \n",
    "\n",
    "Prof. Quassy found that the predictions of her model matches that of humans (e.g., the model and humans make similar reasoning errors), but only when the MCMC algorithm is allowed to run for a very small number of iterations. That is, when the MCMC algorithm is run until convergence with a longer chain, her model stops making similar errors as those of humans.\n",
    "\n",
    "Prof. Shellington found that her model fits behavior equally well regardless of the details of the inference procedure she tried.\n",
    "\n",
    "Whose computational-level theory is more credible? Explain your reasoning in 1-2 sentences."
   ]
  },
  {
   "cell_type": "markdown",
   "id": "b738386d-f515-48ea-85f0-894a52861625",
   "metadata": {
    "deletable": false,
    "nbgrader": {
     "cell_type": "markdown",
     "checksum": "8c5a68e6311a40fc2b342d59e8311074",
     "grade": true,
     "grade_id": "cell-e53f80e42a138bd5",
     "locked": false,
     "points": 1,
     "schema_version": 3,
     "solution": true,
     "task": false
    }
   },
   "source": [
    "YOUR ANSWER HERE"
   ]
  },
  {
   "cell_type": "markdown",
   "id": "f5a8aa34-1f09-4a22-b9ca-f70fb2a65f4b",
   "metadata": {
    "deletable": false,
    "editable": false,
    "nbgrader": {
     "cell_type": "markdown",
     "checksum": "5e9c9ed6ebdc8b04038746f19b3fb3be",
     "grade": false,
     "grade_id": "cell-130f306e45b52e76",
     "locked": true,
     "schema_version": 3,
     "solution": false,
     "task": false
    }
   },
   "source": [
    "## Q 4\n",
    "\n",
    "In one of our readings, Battaglia et al. (2013) proposed the \"intuitive physics engine\", which states that runnable mental models, akin to probabilistic versions of simulations in video game engines, underlie our everyday intuitive physical judgments. They provide empirical evidence (based on behavioral studies) in favor of their theory, which is a structure preserving, behaviorally efficacious representation of the world of physical objects."
   ]
  },
  {
   "cell_type": "markdown",
   "id": "670022f5-0443-4015-8b19-a3bdd252c8cf",
   "metadata": {
    "deletable": false,
    "editable": false,
    "nbgrader": {
     "cell_type": "markdown",
     "checksum": "df9cd6800f2686b1703018a529ba016e",
     "grade": false,
     "grade_id": "cell-60f0342c267fad7b",
     "locked": true,
     "schema_version": 3,
     "solution": false,
     "task": false
    }
   },
   "source": [
    "### Q 4A [1 pt]\n",
    "Write a plausible alternative account of intuitive physics that does not involve a structure-preserving representation. Your account must refer to sensory experiences (i.e., training data) and a learning objective. 1-2 sentence.\n",
    "\n",
    "<details>\n",
    "    <summary> Hint </summary>\n",
    "\n",
    "Assume that the brain is a powerful machine designed for soaking up complex statistical regularities in its inputs, without regards to what structure might underlie these inputs.\n",
    "</details>"
   ]
  },
  {
   "cell_type": "markdown",
   "id": "041600ae-0773-47ea-8d40-7b6f657b5ef1",
   "metadata": {
    "deletable": false,
    "nbgrader": {
     "cell_type": "markdown",
     "checksum": "035c76407830b6382773baff046ebe58",
     "grade": true,
     "grade_id": "cell-007973f0d98fb4b0",
     "locked": false,
     "points": 1,
     "schema_version": 3,
     "solution": true,
     "task": false
    }
   },
   "source": [
    "YOUR ANSWER HERE"
   ]
  },
  {
   "cell_type": "markdown",
   "id": "30d94c7a-43df-48b3-9aea-0bebc97e4b40",
   "metadata": {
    "deletable": false,
    "editable": false,
    "nbgrader": {
     "cell_type": "markdown",
     "checksum": "50bef8bda14aa31acd79f6eb1140c913",
     "grade": false,
     "grade_id": "cell-e5cf56fb5d78d207",
     "locked": true,
     "schema_version": 3,
     "solution": false,
     "task": false
    }
   },
   "source": [
    "### Q 4B [1 pt]\n",
    "\n",
    "As a test of generalization, you realize your alternative account from 4A in a model, and test it on the object-under-cloth task of Yildirim et al. (2023; another one of our readings). You find that out of the box, your model performs at chance, unlike humans (even under the briefest presentation time condition tested by Yildirim et al.). You try the following two modifications to your model.\n",
    "\n",
    "(a) You further train your model on objects draped under cloth, or videos of objects getting draped under cloth. You do that on a small training dataset of 1000 such examples.\n",
    "\n",
    "(b) You further train your model on objects draped under cloth, or videos of objects getting draped under cloth. But you do that on a large training dataset of about 1 million such examples.\n",
    "\n",
    "Write two plausible outcomes of testing these two modifications of your model on the object-under-cloth task. What can you conclude about your theory for each of these plausible outcomes. \n",
    "\n",
    "<details>\n",
    "    <summary> Hint </summary>\n",
    "\n",
    "Think about the average accuracy of your models in relation to the amount of training data they receive and the human-level performance under the briefest (1 sec) presentation time condition in Yildirim et al. \n",
    "</details>"
   ]
  },
  {
   "cell_type": "markdown",
   "id": "71d855d9-7329-461b-aab5-017eef44b21a",
   "metadata": {
    "deletable": false,
    "nbgrader": {
     "cell_type": "markdown",
     "checksum": "5920ebf3ee2a572525314bec16440a4e",
     "grade": true,
     "grade_id": "cell-a852facf05b39d98",
     "locked": false,
     "points": 1,
     "schema_version": 3,
     "solution": true,
     "task": false
    }
   },
   "source": [
    "YOUR ANSWER HERE"
   ]
  },
  {
   "cell_type": "markdown",
   "id": "05b184b3-5eb4-4770-980b-4ea96e401a65",
   "metadata": {
    "deletable": false,
    "editable": false,
    "nbgrader": {
     "cell_type": "markdown",
     "checksum": "07964711c12cdda6e749c2f687702ba3",
     "grade": false,
     "grade_id": "cell-8dbfea8216a0a517",
     "locked": true,
     "schema_version": 3,
     "solution": false,
     "task": false
    }
   },
   "source": [
    "## Q5 [1 pt]\n",
    "\n",
    "A fruitfly, when following an appealing odor (e.g., indicating a potential source of food), can flexibly tell apart the strength and direction of the wind to accurately localize the source of the odor.\n",
    "\n",
    "A frog sticks out its tongue for predation whenever a pattern of a small moving patch falls on its retina, regardless of how dissimilar the patch is from the common bug it preys on.\n",
    "\n",
    "One of these behaviors can be more plausiblly characterized as reflecting causal knowledge; the other behavior can be more plausibly characterized as reflecting diagnostic knowledge. State which is which and a brief sentence for each behavior explaining your answer."
   ]
  },
  {
   "cell_type": "markdown",
   "id": "afd81e88-9dd0-41df-a140-78058ba0894f",
   "metadata": {
    "deletable": false,
    "nbgrader": {
     "cell_type": "markdown",
     "checksum": "397f4acfd593dcc2ac2881cf370898c7",
     "grade": true,
     "grade_id": "cell-aa74e6f6ebfb0c4d",
     "locked": false,
     "points": 1,
     "schema_version": 3,
     "solution": true,
     "task": false
    }
   },
   "source": [
    "YOUR ANSWER HERE"
   ]
  }
 ],
 "metadata": {
  "kernelspec": {
   "display_name": "Julia 1.9.2",
   "language": "julia",
   "name": "julia-1.9"
  },
  "language_info": {
   "file_extension": ".jl",
   "mimetype": "application/julia",
   "name": "julia",
   "version": "1.9.2"
  },
  "widgets": {
   "application/vnd.jupyter.widget-state+json": {
    "state": {},
    "version_major": 2,
    "version_minor": 0
   }
  }
 },
 "nbformat": 4,
 "nbformat_minor": 5
}
