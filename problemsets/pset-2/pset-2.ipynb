{
 "cells": [
  {
   "cell_type": "markdown",
   "id": "cc94add7",
   "metadata": {
    "deletable": false,
    "editable": false,
    "nbgrader": {
     "cell_type": "markdown",
     "checksum": "ec6ad1a3b11de3d9eab49b5f5eaacbac",
     "grade": false,
     "grade_id": "cell-8a8cd8b757aa43d0",
     "locked": true,
     "schema_version": 3,
     "solution": false,
     "task": false
    },
    "tags": []
   },
   "source": [
    "# Algorithms of the Mind\n",
    "\n",
    "**Instructions:** Answer all questions below. Be sure to show all intermediate steps and equations that you used to arrive at each answer. Please type your answers (including your equations). For coding questions, your code and its execution will do.\n",
    "\n",
    "**How to submit?:** Execute all blocks of your Jupyter notebook, save it, and submit your assignment using Canvas.\n",
    "\n",
    "<div class=\"alert alert-info\">\n",
    "    <strong>Note</strong>\n",
    "\n",
    "Your answers in each question can be a combination of markdown and Julia code.\n",
    "</div>"
   ]
  },
  {
   "cell_type": "markdown",
   "id": "1b81a0b4",
   "metadata": {
    "deletable": false,
    "editable": false,
    "nbgrader": {
     "cell_type": "markdown",
     "checksum": "b32401381437e041d3866a9c8f7517bb",
     "grade": false,
     "grade_id": "cell-0cdff38fa9dd89b8",
     "locked": true,
     "schema_version": 3,
     "solution": false,
     "task": false
    },
    "tags": []
   },
   "source": [
    "## Preliminaries"
   ]
  },
  {
   "cell_type": "code",
   "execution_count": null,
   "id": "a0ba8b5f",
   "metadata": {
    "tags": []
   },
   "outputs": [],
   "source": [
    "NAME = \"\"\n",
    "NETID = \"\""
   ]
  },
  {
   "cell_type": "markdown",
   "id": "81465fed",
   "metadata": {
    "deletable": false,
    "editable": false,
    "nbgrader": {
     "cell_type": "markdown",
     "checksum": "862c67f6e7489bc2c56f69c85f568715",
     "grade": false,
     "grade_id": "cell-24c93db6109b5e4e",
     "locked": true,
     "schema_version": 3,
     "solution": false,
     "task": false
    },
    "tags": []
   },
   "source": [
    "Next, please take the honor pledge by reordering the following phrases so that it makes sense to you, and then typing the resulting full sentence.\n",
    "\n",
    "- and that this work is my own.\n",
    "- or received\n",
    "- I have not given\n",
    "- I affirm that\n",
    "- on this assignment,\n",
    "- any unauthorized help "
   ]
  },
  {
   "cell_type": "code",
   "execution_count": null,
   "id": "fbec9b15",
   "metadata": {
    "tags": []
   },
   "outputs": [],
   "source": [
    "HONOR_PLEDGE = \"\""
   ]
  },
  {
   "cell_type": "code",
   "execution_count": null,
   "id": "e5d27942",
   "metadata": {
    "deletable": false,
    "editable": false,
    "nbgrader": {
     "cell_type": "code",
     "checksum": "f8112be3d89ed34ec1d73eed2ccd2001",
     "grade": true,
     "grade_id": "cell-f58af99f51780260",
     "locked": true,
     "points": 0,
     "schema_version": 3,
     "solution": false,
     "task": false
    },
    "tags": []
   },
   "outputs": [],
   "source": []
  },
  {
   "cell_type": "markdown",
   "id": "a4ffb662",
   "metadata": {},
   "source": [
    "---"
   ]
  },
  {
   "cell_type": "markdown",
   "id": "dbeb8638-1f55-4ce0-81f7-223a1e023f06",
   "metadata": {
    "deletable": false,
    "editable": false,
    "nbgrader": {
     "cell_type": "markdown",
     "checksum": "9a559cf3afa697f876c35db23340a6b6",
     "grade": false,
     "grade_id": "cell-46a7428d88a84726",
     "locked": true,
     "schema_version": 3,
     "solution": false,
     "task": false
    }
   },
   "source": [
    "# Problem Set 2"
   ]
  },
  {
   "cell_type": "code",
   "execution_count": null,
   "id": "3da2b906-6cca-4095-82d3-ad1885e51594",
   "metadata": {
    "deletable": false,
    "editable": false,
    "nbgrader": {
     "cell_type": "code",
     "checksum": "af355bf2748fb7f74e26f6a18fbc37ee",
     "grade": false,
     "grade_id": "cell-98336f908fe4b246",
     "locked": true,
     "schema_version": 3,
     "solution": false,
     "task": false
    }
   },
   "outputs": [],
   "source": [
    "# Note that running this for the first time might take a good 15 mins -- plan ahead\n",
    "using Gen\n",
    "using Plots\n",
    "using Random\n",
    "using CSV\n",
    "using DataFrames\n",
    "\n",
    "include(\"utils/draw.jl\");"
   ]
  },
  {
   "cell_type": "markdown",
   "id": "df65f90b-14c7-4375-94d0-6c9f9f469361",
   "metadata": {
    "deletable": false,
    "editable": false,
    "nbgrader": {
     "cell_type": "markdown",
     "checksum": "7bb5db5759d5ae25ce45226fb29fa195",
     "grade": false,
     "grade_id": "cell-fa348f82d26b58ba",
     "locked": true,
     "schema_version": 3,
     "solution": false,
     "task": false
    }
   },
   "source": [
    "## Question 1"
   ]
  },
  {
   "cell_type": "markdown",
   "id": "28b59a08-9ecc-4452-a0cc-c43da2d50c46",
   "metadata": {},
   "source": [
    "Remember our sea turtle friend from the previous problem set? It turns out it has stamina for one more question.\n",
    "\n",
    "As in Problem Set 1, let's assume that the planet's magnetic field can be described using a two-dimensional grid. The sea turtle moves in this gridworld one step at a time, in one of the four cardinal directions: north (n), south (s), east (e), and west (w). The following struct encodes these mechanics of grid movements, which will come handy as we go along."
   ]
  },
  {
   "cell_type": "code",
   "execution_count": null,
   "id": "0e868dcd-4636-4cbf-94d3-ffb17da85106",
   "metadata": {
    "deletable": false,
    "editable": false,
    "nbgrader": {
     "cell_type": "code",
     "checksum": "57511b0e3c063dfbe73708b5d342b428",
     "grade": false,
     "grade_id": "cell-6f94f7492d970586",
     "locked": true,
     "schema_version": 3,
     "solution": false,
     "task": false
    }
   },
   "outputs": [],
   "source": [
    "struct Movement\n",
    "    dx::Real\n",
    "    dy::Real\n",
    "end\n",
    "\n",
    "const N = Movement( 0,  1)\n",
    "const E = Movement( 1,  0)\n",
    "const S = Movement( 0, -1)\n",
    "const W = Movement(-1,  0)\n",
    "const DIRECTIONS = [N, S, E, W];"
   ]
  },
  {
   "cell_type": "markdown",
   "id": "3c962c9d-a6c6-4efa-b3cd-47f13695150b",
   "metadata": {},
   "source": [
    "Each cell in this grid emits the *intensity* and *direction* of the magnetic field at that cell. The `intensity` and `direction` of a coordinate at `x` and `y` are defined as:\n",
    "\n",
    "<img src=\"./images/magnetic-field.png\" alt=\"\" width=\"400\"/>\n",
    "\n",
    "Your overall goal in this question will be to infer a posterior over the sequence of movements of the sea turtle from a sequence of intensity and direction observations. We will build up to that."
   ]
  },
  {
   "cell_type": "markdown",
   "id": "001eb775-e92b-4ee9-b7e1-50a8b47fceea",
   "metadata": {
    "deletable": false,
    "editable": false,
    "nbgrader": {
     "cell_type": "markdown",
     "checksum": "1d694a653c0a9082fc3aeb64438802ea",
     "grade": false,
     "grade_id": "cell-08bce2355e3a5ac9",
     "locked": true,
     "schema_version": 3,
     "solution": false,
     "task": false
    }
   },
   "source": [
    "### Q 1A [8 pts]\n",
    "\n",
    "Imagine that suddently, this sea turtle finds itself in the middle of an oceanic storm. The storm is such that:\n",
    "\n",
    "* The sea turtle knows where it is at the beginning of the storm (time step `k=0`), including its `x` and `y` \n",
    "* At each time step, its movement &ndash; a single step in a cardinal direction: north `n`, south `s`, east `e` or west `w` &ndash; are dictated by the waves and turbulence of the ocean (not controlled by the sea turtle). Assume that these dynamics are random &ndash; a multinomial distribution with equal weight on each direction:\n",
    "\n",
    "$$p(m_{t} | m_{t-1}) = p(m_{t}) = Multinomial([n, s, e, w])$$\n",
    "\n",
    "* At each time step, the sea turtle observes noisy magnetic field measurements (because of the storm, it cannot additinally rely on vision or smell) \n",
    "$$p(intensity_{t}) \\sim Normal(x + y, \\sigma)$$\n",
    "$$p(direction_{t}) \\sim Normal(|x-y|, \\sigma)$$\n",
    "where $\\sigma=0.5$\n",
    "\n",
    "(You might be able to relate to the experience of our sea turtle friend if you can remember the last time you were on a Ferris Wheel with your eyes closed. In such a scenario, when you rely just on your vestibular system to tell your pose in space, you are likely to experience all sorts of hallucinated backward flips.)\n",
    "\n",
    "Your task is to write a generative model of this process using Gen's generative functions and the generative function combinator `Unfold`. You will write a generative function (a temporal kernel) called `ferriswheel_kernel`, and input it to the `Unfold` combinator to create a temporal generative model called `ferriswheel`. \n",
    "\n",
    "Assume that the initial state of the sea turtle is provided to `ferriswheel` as a global variable (not modeled as a random variable). "
   ]
  },
  {
   "cell_type": "markdown",
   "id": "67c34a6e-eac8-42ac-8825-d0edc5f7b9b4",
   "metadata": {},
   "source": [
    "Start with implementing a Julia `struct` to represent and modify the state information at each time step; the struct should include the following three entities. (For each variable, you must indicate its type.)\n",
    "\n",
    "- `movement`: current movement\n",
    "- `x`: current coordinate in the east-west axis\n",
    "- `y`: current coordinate in the north-south axis"
   ]
  },
  {
   "cell_type": "code",
   "execution_count": null,
   "id": "3f943d1e-6064-4799-8d0c-9bad246ae4cf",
   "metadata": {
    "deletable": false,
    "nbgrader": {
     "cell_type": "code",
     "checksum": "2df1eceb2d7a845e3e3a2aef5bd924fc",
     "grade": false,
     "grade_id": "cell-2b100d3b7833cd5f",
     "locked": false,
     "schema_version": 3,
     "solution": true,
     "task": false
    }
   },
   "outputs": [],
   "source": [
    "struct Field\n",
    "    # your code here\n",
    "    error(\"Not Implemented.\")\n",
    "end;"
   ]
  },
  {
   "cell_type": "code",
   "execution_count": null,
   "id": "fc5b2a58-9c70-4aeb-8216-81667cd4a16f",
   "metadata": {
    "deletable": false,
    "editable": false,
    "nbgrader": {
     "cell_type": "code",
     "checksum": "1d1596a8f36e1a840a8837a64adce181",
     "grade": true,
     "grade_id": "cell-878f8418f2ad4489",
     "locked": true,
     "points": 0,
     "schema_version": 3,
     "solution": false,
     "task": false
    }
   },
   "outputs": [],
   "source": [
    "# for autograding - please do not touch\n"
   ]
  },
  {
   "cell_type": "markdown",
   "id": "12c231f8-f29b-4d33-a098-65f612176007",
   "metadata": {
    "deletable": false,
    "editable": false,
    "nbgrader": {
     "cell_type": "markdown",
     "checksum": "8446e9b08662aef9154259eca3d306e3",
     "grade": false,
     "grade_id": "cell-efdf448e6750fe5b",
     "locked": true,
     "schema_version": 3,
     "solution": false,
     "task": false
    }
   },
   "source": [
    "Using the definitions above, fill in the following `intensity` function to compute the intensity of a `Field`."
   ]
  },
  {
   "cell_type": "code",
   "execution_count": null,
   "id": "4b4c15ee-2c76-4781-a639-59323988369c",
   "metadata": {
    "deletable": false,
    "nbgrader": {
     "cell_type": "code",
     "checksum": "3c11884e77685f89f6b3b3b84606bb37",
     "grade": false,
     "grade_id": "cell-d10a3f1c0766c3fc",
     "locked": false,
     "schema_version": 3,
     "solution": true,
     "task": false
    }
   },
   "outputs": [],
   "source": [
    "function intensity(field::Field)\n",
    "    # your code here\n",
    "    error(\"Not Implemented.\")\n",
    "end;"
   ]
  },
  {
   "cell_type": "code",
   "execution_count": null,
   "id": "c4c394cc-c209-4fac-9069-e9aec102a187",
   "metadata": {
    "deletable": false,
    "editable": false,
    "nbgrader": {
     "cell_type": "code",
     "checksum": "ab21467f4741fe7a9910a23ac6e288f0",
     "grade": true,
     "grade_id": "cell-87a264599f6422bd",
     "locked": true,
     "points": 1,
     "schema_version": 3,
     "solution": false,
     "task": false
    }
   },
   "outputs": [],
   "source": [
    "# for autograding - please do not touch\n"
   ]
  },
  {
   "cell_type": "markdown",
   "id": "87208be4-3962-4729-a902-c9d9d2061ce1",
   "metadata": {
    "deletable": false,
    "editable": false,
    "nbgrader": {
     "cell_type": "markdown",
     "checksum": "ca32eebb9a6be0b74b1978436fb60aa9",
     "grade": false,
     "grade_id": "cell-8dfef1080fbc5006",
     "locked": true,
     "schema_version": 3,
     "solution": false,
     "task": false
    }
   },
   "source": [
    "Using the definitions above, fill in the following `direction` function to compute the direction of a `Field`."
   ]
  },
  {
   "cell_type": "code",
   "execution_count": null,
   "id": "290e63fa-aa12-4f38-afee-b5a07636bf6b",
   "metadata": {
    "deletable": false,
    "nbgrader": {
     "cell_type": "code",
     "checksum": "a1d469a77c83b3dd42f88bf08cb1b366",
     "grade": false,
     "grade_id": "cell-eef8898c807c11d7",
     "locked": false,
     "schema_version": 3,
     "solution": true,
     "task": false
    }
   },
   "outputs": [],
   "source": [
    "function direction(field::Field)\n",
    "    # your code here\n",
    "    error(\"Not Implemented.\")\n",
    "end;"
   ]
  },
  {
   "cell_type": "code",
   "execution_count": null,
   "id": "9ab7dcf2-1793-4e43-82bb-46aa9a0d1e75",
   "metadata": {
    "deletable": false,
    "editable": false,
    "nbgrader": {
     "cell_type": "code",
     "checksum": "0a31757d1b278a90bf0cd684a98b292e",
     "grade": true,
     "grade_id": "cell-588836502891c4fe",
     "locked": true,
     "points": 1,
     "schema_version": 3,
     "solution": false,
     "task": false
    }
   },
   "outputs": [],
   "source": [
    "# for autograding - please do not touch\n"
   ]
  },
  {
   "cell_type": "markdown",
   "id": "75c7af85-6104-4d50-beee-cf47f217e005",
   "metadata": {
    "deletable": false,
    "editable": false,
    "nbgrader": {
     "cell_type": "markdown",
     "checksum": "ad6167ad215bf409e9c5bbb4ce17d757",
     "grade": false,
     "grade_id": "cell-293e1630ca309850",
     "locked": true,
     "schema_version": 3,
     "solution": false,
     "task": false
    }
   },
   "source": [
    "We need a way to update the `x` and `y` entries of a `Field` based on a `Movement`. Using Julia's support for multiple dispatch and overriding functions and primitives, we provide a redefined addition, `+`, which applies a `Movement` to the `x` and `y` entries of a Field, and returns an updated `Field`."
   ]
  },
  {
   "cell_type": "code",
   "execution_count": null,
   "id": "11dafe9f-4aff-47cf-b8ea-256f7d5fd66e",
   "metadata": {
    "deletable": false,
    "editable": false,
    "nbgrader": {
     "cell_type": "code",
     "checksum": "ad6e2184e58249106b0676dee4f109c4",
     "grade": false,
     "grade_id": "cell-21788c85aa2855e3",
     "locked": true,
     "schema_version": 3,
     "solution": false,
     "task": false
    }
   },
   "outputs": [],
   "source": [
    "function Base.:+(field::Field, movement::Movement)\n",
    "    return Field(\n",
    "        movement,\n",
    "        field.x + movement.dx,\n",
    "        field.y + movement.dy,\n",
    "    )\n",
    "end;"
   ]
  },
  {
   "cell_type": "markdown",
   "id": "0cadcfea-fb09-48f1-9fa4-dd2e58d41f7d",
   "metadata": {
    "deletable": false,
    "editable": false,
    "nbgrader": {
     "cell_type": "markdown",
     "checksum": "879ea9af14476d166e1791f7cc67a41b",
     "grade": false,
     "grade_id": "cell-380a9b5a8c080373",
     "locked": true,
     "schema_version": 3,
     "solution": false,
     "task": false
    }
   },
   "source": [
    "Fill in the following code block to complete the definition of `ferrishweel_kernel` and create a function called `chain` using Gen's `Unfold` combinator and this kernel."
   ]
  },
  {
   "cell_type": "code",
   "execution_count": null,
   "id": "824b8f9a-52da-44a3-8e5b-281a89d24bc3",
   "metadata": {
    "deletable": false,
    "nbgrader": {
     "cell_type": "code",
     "checksum": "135bac57b246760f21d9326d0c7cc013",
     "grade": true,
     "grade_id": "cell-3dfcf228acd8a402",
     "locked": false,
     "points": 4,
     "schema_version": 3,
     "solution": true,
     "task": false
    }
   },
   "outputs": [],
   "source": [
    "@gen function ferriswheel_kernel(k::Int, curr_field::Field)\n",
    "    # observation noise of the mangetic field (intensity and direction)\n",
    "    σ = 0.5\n",
    "    \n",
    "    # Draw a movement (according to the probabilistic specification above)\n",
    "    # your code here\n",
    "    error(\"Not Implemented.\")\n",
    "\n",
    "    # Add a `Field` to a `Movement` to move the seaturtle.\n",
    "    # The following variable should be named `next_field`\n",
    "    # your code here\n",
    "    error(\"Not Implemented.\")\n",
    "\n",
    "    # observe noisy intensity/direction measurements\n",
    "    # The following variable should be named `obs_intensity`\n",
    "    # your code here\n",
    "    error(\"Not Implemented.\")\n",
    "    # The following variable should be named `obs_direction`\n",
    "    # your code here\n",
    "    error(\"Not Implemented.\")\n",
    "    \n",
    "    # Return the updated field\n",
    "    # your code here\n",
    "    error(\"Not Implemented.\")\n",
    "end\n",
    "\n",
    "# Create a function `chain` using Gen's `Unfold` combinator for use in Particle Filtering\n",
    "# your code here\n",
    "error(\"Not Implemented.\")\n",
    ";"
   ]
  },
  {
   "cell_type": "markdown",
   "id": "b1164e75-4aeb-4156-972f-4b53f5a35654",
   "metadata": {
    "deletable": false,
    "editable": false,
    "nbgrader": {
     "cell_type": "markdown",
     "checksum": "8550228ec4003cdf6bb1224c2973556e",
     "grade": false,
     "grade_id": "cell-f4f192a23a97174d",
     "locked": true,
     "schema_version": 3,
     "solution": false,
     "task": false
    }
   },
   "source": [
    "Fill in the following codeblock to create the temporal generative model `ferrishweel`"
   ]
  },
  {
   "cell_type": "code",
   "execution_count": null,
   "id": "efe16255-6859-4a54-90a0-8e35f9c75eba",
   "metadata": {
    "deletable": false,
    "nbgrader": {
     "cell_type": "code",
     "checksum": "caca657aacab8b61d6c8bb83d4b28954",
     "grade": true,
     "grade_id": "cell-3a3e8fd9866a8386",
     "locked": false,
     "points": 1,
     "schema_version": 3,
     "solution": true,
     "task": false
    }
   },
   "outputs": [],
   "source": [
    "@gen function ferriswheel(K::Int)\n",
    "    # this line allows us to use the init_field definition from the main scope – keep it there!\n",
    "    global init_field\n",
    "    # Sample from the `ferriswheel_kernel` K times, store it at the address `trajectory`\n",
    "    # your code here\n",
    "    error(\"Not Implemented.\")\n",
    "end\n",
    ";"
   ]
  },
  {
   "cell_type": "markdown",
   "id": "e0aa554b-454c-46a5-9d0a-65ec273a713f",
   "metadata": {
    "deletable": false,
    "editable": false,
    "nbgrader": {
     "cell_type": "markdown",
     "checksum": "690520af80bc24b93c6237fd7297c7a0",
     "grade": false,
     "grade_id": "cell-e82d69a08ffc3f1f",
     "locked": true,
     "schema_version": 3,
     "solution": false,
     "task": false
    }
   },
   "source": [
    "### Q 1B [1 pt]\n",
    "\n",
    "Draw a sequence of 10 movements from your generative model. The initial state is provided (`init_field`). \n",
    "\n",
    "Use the `get_choices` and `get_retval` functions to display the random choices and return values associated with the trace you simulated of the generative function. "
   ]
  },
  {
   "cell_type": "code",
   "execution_count": null,
   "id": "7e0939b0-2401-4b77-be53-649ee40102a4",
   "metadata": {
    "deletable": false,
    "nbgrader": {
     "cell_type": "code",
     "checksum": "ec098378026e370b8051efc6b1125b61",
     "grade": true,
     "grade_id": "cell-fb5c6b3010025d7b",
     "locked": false,
     "points": 0.67,
     "schema_version": 3,
     "solution": true,
     "task": false
    }
   },
   "outputs": [],
   "source": [
    "# Start at coordinates (N, 3, 3)\n",
    "init_field = Field(N, 3, 3)\n",
    "\n",
    "# Run your model forward with 10 movements, name your variable `trace`\n",
    "# your code here\n",
    "error(\"Not Implemented.\")\n",
    "\n",
    "# Display the choices from `trace`\n",
    "# your code here\n",
    "error(\"Not Implemented.\")"
   ]
  },
  {
   "cell_type": "code",
   "execution_count": null,
   "id": "c522ebf9-ceb6-4258-b6fa-9239b85f55c2",
   "metadata": {
    "deletable": false,
    "nbgrader": {
     "cell_type": "code",
     "checksum": "130b1e864f14cc726a50dcddfb383117",
     "grade": true,
     "grade_id": "cell-ee0703c34329eb92",
     "locked": false,
     "points": 0.33,
     "schema_version": 3,
     "solution": true,
     "task": false
    }
   },
   "outputs": [],
   "source": [
    "# Get the return values for your `trace\n",
    "# your code here\n",
    "error(\"Not Implemented.\")"
   ]
  },
  {
   "cell_type": "markdown",
   "id": "2210c58a-7065-45c6-a91b-72139d5836c5",
   "metadata": {
    "deletable": false,
    "editable": false,
    "nbgrader": {
     "cell_type": "markdown",
     "checksum": "4661b91931a434237d0efe43610e6db5",
     "grade": false,
     "grade_id": "cell-97e307071e88cc94",
     "locked": true,
     "schema_version": 3,
     "solution": false,
     "task": false
    }
   },
   "source": [
    "Execute the next code block to visualize your sample. (Review this visualization code, but nothing to fill in.) You will see that it plots a binary heatmap of which movements occured (n, s, e, w), and a line plot of how intensities and directions changed throughout the sequence. "
   ]
  },
  {
   "cell_type": "code",
   "execution_count": null,
   "id": "5a19a625-c6d8-4bc1-825a-34c5004bec29",
   "metadata": {
    "deletable": false,
    "editable": false,
    "nbgrader": {
     "cell_type": "code",
     "checksum": "d0515074c937d0ebc0099b80c9cf635f",
     "grade": false,
     "grade_id": "cell-b90d8b4faa7820cb",
     "locked": true,
     "schema_version": 3,
     "solution": false,
     "task": false
    }
   },
   "outputs": [],
   "source": [
    "# a helper function to visualize things\n",
    "# we visualize the movements and \n",
    "#   the predicted intensity and direction\n",
    "#   values according to the coordinates of \n",
    "#   visited cells\n",
    "function visualize(trace)\n",
    "    choices = get_choices(trace)\n",
    "    fields  = get_retval(trace)\n",
    "\n",
    "    # get the movements and coordinates\n",
    "    ms = [field.movement for field in fields]\n",
    "    xs = [field.x for field in fields]\n",
    "    ys = [field.y for field in fields]\n",
    "    \n",
    "    # predicted intensities\n",
    "    intensities = intensity.(fields)\n",
    "    \n",
    "    # predicted directions\n",
    "    directions = direction.(fields)\n",
    "\n",
    "    # create a binary matrix of movements (4 x length(ms))\n",
    "    binary_movements = falses(4, length(ms))\n",
    "    for (index, movement) in enumerate(ms)\n",
    "        movement_order = findfirst(isequal(movement), DIRECTIONS)\n",
    "        binary_movements[movement_order, index] = true\n",
    "    end\n",
    "\n",
    "    # plot the movements\n",
    "    p1 = plot(\n",
    "        binary_movements,\n",
    "        seriestype=:heatmap,\n",
    "        legend=false, \n",
    "        thickness_scaling=3.5\n",
    "    )\n",
    "    # plot intensities and directions\n",
    "    p2 = plot(\n",
    "        collect(1:length(ms)),\n",
    "        [intensities, directions], \n",
    "        thickness_scaling=3.5,\n",
    "        labels=[\"intensity\" \"direction\"]\n",
    "    )\n",
    "    plot(p1, p2, layout=(2,1), legend=:inside, size=(1600, 1200))\n",
    "end\n",
    "\n",
    "visualize(trace)"
   ]
  },
  {
   "cell_type": "markdown",
   "id": "839d4a87-7aa8-4de5-9561-dac6bb336356",
   "metadata": {
    "deletable": false,
    "editable": false,
    "nbgrader": {
     "cell_type": "markdown",
     "checksum": "d449156ccdad013e86a7a1c07e4cfbf0",
     "grade": false,
     "grade_id": "cell-bb09c14d12ce8e93",
     "locked": true,
     "schema_version": 3,
     "solution": false,
     "task": false
    }
   },
   "source": [
    "Execute the following code to load and visualize the **observed** intensity and directions"
   ]
  },
  {
   "cell_type": "code",
   "execution_count": null,
   "id": "c16329d1-cb31-48c5-9deb-517d7476da1e",
   "metadata": {
    "deletable": false,
    "editable": false,
    "nbgrader": {
     "cell_type": "code",
     "checksum": "b27608812ce0d445104de634ec2d315a",
     "grade": false,
     "grade_id": "cell-a301e28a41bf4f73",
     "locked": true,
     "schema_version": 3,
     "solution": false,
     "task": false
    }
   },
   "outputs": [],
   "source": [
    "# load observations (sensory features)\n",
    "obs_fields = DataFrame(CSV.File(\"./data/observed_fields.csv\"))\n",
    "\n",
    "# visualize (just run the following code)\n",
    "plot(\n",
    "    collect(1:size(obs_fields, 1)),\n",
    "    [obs_fields[!, :intensity], obs_fields[!, :direction]],\n",
    "    labels=[\"intensity\" \"direction\"]\n",
    ")"
   ]
  },
  {
   "cell_type": "markdown",
   "id": "8c364f59-db1e-4e71-ac86-9a155e738630",
   "metadata": {
    "deletable": false,
    "editable": false,
    "nbgrader": {
     "cell_type": "markdown",
     "checksum": "09a8fbecdb4dde4931bdafb1e822e691",
     "grade": false,
     "grade_id": "cell-598fcabf1fdae621",
     "locked": true,
     "schema_version": 3,
     "solution": false,
     "task": false
    }
   },
   "source": [
    "### Q 1C [5 pts]\n",
    "\n",
    "In Gen, write a particle filtering algorithm to infer a posterior distribution over movements given the intensity and direction measurements in `observations`."
   ]
  },
  {
   "cell_type": "code",
   "execution_count": null,
   "id": "ba27d890-bd8d-4ab0-bef3-0647c1d9410e",
   "metadata": {
    "deletable": false,
    "nbgrader": {
     "cell_type": "code",
     "checksum": "d674a6ee3a45fe75b7b437e4ef1e7dd8",
     "grade": true,
     "grade_id": "cell-0e47657acbc4d163",
     "locked": false,
     "points": 3,
     "schema_version": 3,
     "solution": true,
     "task": false
    }
   },
   "outputs": [],
   "source": [
    "function particle_filter(num_particles::Int, obs_fields, num_samples::Int)\n",
    "    #initital observation\n",
    "    init_obs = Gen.choicemap(\n",
    "        (:trajectory => 0 => :obs_intensity, obs_fields[1, :intensity]),\n",
    "        (:trajectory => 0 => :obs_direction, obs_fields[1, :direction]),\n",
    "    )\n",
    "    \n",
    "    # initialize the particle filter  \n",
    "    # your code here\n",
    "    error(\"Not Implemented.\")\n",
    "\n",
    "    for (idx, obs_field) in enumerate(eachrow(obs_fields))\n",
    "        # Evolve and resample (Step 1a, 1b)\n",
    "        # your code here\n",
    "        error(\"Not Implemented.\")\n",
    "\n",
    "        # load observations of this time step\n",
    "        # your code here\n",
    "        error(\"Not Implemented.\")\n",
    "\n",
    "        # Re-weight by the likelihood (Step 2)\n",
    "        # your code here\n",
    "        error(\"Not Implemented.\")\n",
    "    end\n",
    "    \n",
    "    # return a sample of unweighted traces from the weighted collection\n",
    "    # your code here\n",
    "    error(\"Not Implemented.\")\n",
    "end\n",
    ";"
   ]
  },
  {
   "cell_type": "markdown",
   "id": "31b0e943-9c23-4b29-bf34-bf57abebce0d",
   "metadata": {
    "deletable": false,
    "editable": false,
    "nbgrader": {
     "cell_type": "markdown",
     "checksum": "665054da974def6b396dadb081e85214",
     "grade": false,
     "grade_id": "cell-f9d37abf8311608e",
     "locked": true,
     "schema_version": 3,
     "solution": false,
     "task": false
    }
   },
   "source": [
    "Now call this particle filter inference procedure with 1000 particles and return 100 samples"
   ]
  },
  {
   "cell_type": "code",
   "execution_count": null,
   "id": "dd648940-3f80-4870-a42c-269c76d58c67",
   "metadata": {
    "deletable": false,
    "nbgrader": {
     "cell_type": "code",
     "checksum": "db9c05e3e0f63aa5fe1fbb3b9e9a31b6",
     "grade": true,
     "grade_id": "cell-73a0805a6e4216c4",
     "locked": false,
     "points": 1,
     "schema_version": 3,
     "solution": true,
     "task": false
    }
   },
   "outputs": [],
   "source": [
    "# your code here\n",
    "error(\"Not Implemented.\")"
   ]
  },
  {
   "cell_type": "markdown",
   "id": "cbe913b6-875f-4b7a-9a5e-859edb9ef32f",
   "metadata": {
    "deletable": false,
    "editable": false,
    "nbgrader": {
     "cell_type": "markdown",
     "checksum": "56752ecfbe3f4279b6e0c71f2adcb949",
     "grade": false,
     "grade_id": "cell-7130e3217cb7a73f",
     "locked": true,
     "schema_version": 3,
     "solution": false,
     "task": false
    }
   },
   "source": [
    "The following code block visualizes these 100 posterior samples you just computed in a sequence; each frame shows the inferred sequence of movements according to that posterior sample (top) and the predicted intensities and directions (bottom). View this animation and explain what it reveals about the posterior distribution. 1-2 sentences."
   ]
  },
  {
   "cell_type": "code",
   "execution_count": null,
   "id": "22aaf8fd-e102-4712-805a-5ae7e362ce48",
   "metadata": {
    "deletable": false,
    "editable": false,
    "nbgrader": {
     "cell_type": "code",
     "checksum": "86ec410363055b1b6cf9879937ddd695",
     "grade": false,
     "grade_id": "cell-b67f5f86df3d4c18",
     "locked": true,
     "schema_version": 3,
     "solution": false,
     "task": false
    }
   },
   "outputs": [],
   "source": [
    "viz = Plots.@animate for trace in pf_traces\n",
    "    visualize(trace)\n",
    "end\n",
    "gif(viz, fps=1)"
   ]
  },
  {
   "cell_type": "markdown",
   "id": "85f1f4f2-ed9d-41a6-9727-15e995f161d9",
   "metadata": {
    "deletable": false,
    "nbgrader": {
     "cell_type": "markdown",
     "checksum": "94e8b27a62098c9e9d3442c794ac02a4",
     "grade": true,
     "grade_id": "cell-3ab354431eae1480",
     "locked": false,
     "points": 1,
     "schema_version": 3,
     "solution": true,
     "task": false
    }
   },
   "source": [
    "YOUR ANSWER HERE"
   ]
  },
  {
   "cell_type": "markdown",
   "id": "155a34ba-cee6-4adf-91ce-8d1eac9d21c3",
   "metadata": {
    "deletable": false,
    "editable": false,
    "nbgrader": {
     "cell_type": "markdown",
     "checksum": "c74ec5afaa9244f5a2e55933ea41e900",
     "grade": false,
     "grade_id": "cell-cb40acfc6ece09dd",
     "locked": true,
     "schema_version": 3,
     "solution": false,
     "task": false
    }
   },
   "source": [
    "## Q 2 [4 pt]\n",
    "\n",
    "Prof. Shellington  hypothesized two different computational-level theories to explain some aspect of human reasoning. Which strategy is appropriate for Prof. Shellington to successfully test her hypotheses? Give a one-two sentence explanation. \n",
    "\n",
    "(i) Prof. Shellington should design two posterior distributions and implement an otherwise comparable inference procedure to approximate them, using an MCMC algorithm. She should then make appropriate comparisons between the performance of these model variants and human performance. \n",
    "\n",
    "(ii) Prof. Shellington should design a single posterior distribution and implement two different inference procedures, one using MCMC and the other Variational Inference, each approximating that posterior. She should then make appropriate comparisons between the performance of these model variants and human performance. \n"
   ]
  },
  {
   "cell_type": "markdown",
   "id": "b738386d-f515-48ea-85f0-894a52861625",
   "metadata": {
    "deletable": false,
    "nbgrader": {
     "cell_type": "markdown",
     "checksum": "1791084b13a8837d21bc8aa4d9cb2dc1",
     "grade": true,
     "grade_id": "cell-e53f80e42a138bd5",
     "locked": false,
     "points": 4,
     "schema_version": 3,
     "solution": true,
     "task": false
    }
   },
   "source": [
    "YOUR ANSWER HERE"
   ]
  },
  {
   "cell_type": "markdown",
   "id": "05b184b3-5eb4-4770-980b-4ea96e401a65",
   "metadata": {
    "deletable": false,
    "editable": false,
    "nbgrader": {
     "cell_type": "markdown",
     "checksum": "be68fb9dff570370588a28ce8704e53f",
     "grade": false,
     "grade_id": "cell-8dbfea8216a0a517",
     "locked": true,
     "schema_version": 3,
     "solution": false,
     "task": false
    }
   },
   "source": [
    "## Q 3\n",
    "\n",
    "The Woven model discussed in the class involves a specific algorithm for inferring physical properties from video input (stiffness and mass of a cloth, external forces in the scene like wind strength), which is an SMC algorithm that updates the posterior dynamically with every arriving sensory observation. However, as a pragmatic choice, neither of the two papers we read directly evaluated these inference dynamics in human performance (or fMRI activity). "
   ]
  },
  {
   "cell_type": "markdown",
   "id": "481555d5-4e00-4c46-8c50-51e75e8c5891",
   "metadata": {
    "editable": true,
    "slideshow": {
     "slide_type": ""
    },
    "tags": []
   },
   "source": [
    "## Q 3a [2 pt]\n",
    "\n",
    "Write, in one sentence, why this is the case for the Bi et al. 2025, Nature Communications paper.\n",
    "\n",
    "Hint: Think about how the model is evaluated. Are the intermediate stage (time-step-wise) inferences used to model human performance?"
   ]
  },
  {
   "cell_type": "markdown",
   "id": "e247b484-3bbc-40ef-b039-d2dff3c1c427",
   "metadata": {
    "deletable": false,
    "nbgrader": {
     "cell_type": "markdown",
     "checksum": "ca3d50ba90656f779748dccd52e96acd",
     "grade": true,
     "grade_id": "cell-0a508c056e6064a7",
     "locked": false,
     "points": 2,
     "schema_version": 3,
     "solution": true,
     "task": false
    }
   },
   "source": [
    "YOUR ANSWER HERE"
   ]
  },
  {
   "cell_type": "markdown",
   "id": "bd3fcaa4-c55c-4a0e-a742-5711c12c34af",
   "metadata": {},
   "source": [
    "## Q 3b [5 pt]\n",
    "\n",
    "Describe a new behavioral experiment that would test Woven's inference dynamics in human performance. Up to three sentences. (What the study would be like and how you would relate it to Woven.)"
   ]
  },
  {
   "cell_type": "markdown",
   "id": "afd81e88-9dd0-41df-a140-78058ba0894f",
   "metadata": {
    "deletable": false,
    "nbgrader": {
     "cell_type": "markdown",
     "checksum": "4610b38c467f78b176e378e92ec4f68b",
     "grade": true,
     "grade_id": "cell-aa74e6f6ebfb0c4d",
     "locked": false,
     "points": 5,
     "schema_version": 3,
     "solution": true,
     "task": false
    }
   },
   "source": [
    "YOUR ANSWER HERE"
   ]
  }
 ],
 "metadata": {
  "kernelspec": {
   "display_name": "Algorithms of the Mind (Julia) 1.9.2",
   "language": "julia",
   "name": "atom-jl-1.9"
  },
  "language_info": {
   "file_extension": ".jl",
   "mimetype": "application/julia",
   "name": "julia",
   "version": "1.9.2"
  },
  "widgets": {
   "application/vnd.jupyter.widget-state+json": {
    "state": {},
    "version_major": 2,
    "version_minor": 0
   }
  }
 },
 "nbformat": 4,
 "nbformat_minor": 5
}
